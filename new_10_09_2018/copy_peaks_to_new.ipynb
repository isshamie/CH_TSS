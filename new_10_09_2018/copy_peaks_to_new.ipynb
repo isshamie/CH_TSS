{
 "cells": [
  {
   "cell_type": "markdown",
   "metadata": {},
   "source": [
    "# Copy all original peak files here and change names to shorthand names\n",
    "(Short-hand fix. Should really just re-run at a point)"
   ]
  },
  {
   "cell_type": "markdown",
   "metadata": {},
   "source": [
    "## Import packages"
   ]
  },
  {
   "cell_type": "code",
   "execution_count": 1,
   "metadata": {
    "ExecuteTime": {
     "end_time": "2018-10-10T06:29:55.489716Z",
     "start_time": "2018-10-10T06:29:55.486370Z"
    },
    "collapsed": true
   },
   "outputs": [],
   "source": [
    "## Parameters specific to where your folders are and your data\n",
    "parameter_file = 'params/params.yaml'"
   ]
  },
  {
   "cell_type": "code",
   "execution_count": 2,
   "metadata": {
    "ExecuteTime": {
     "end_time": "2018-10-10T06:29:55.853110Z",
     "start_time": "2018-10-10T06:29:55.506281Z"
    },
    "collapsed": true
   },
   "outputs": [],
   "source": [
    "import os\n",
    "import pandas as pd\n",
    "import yaml\n",
    "import sys\n",
    "import glob"
   ]
  },
  {
   "cell_type": "code",
   "execution_count": 3,
   "metadata": {
    "ExecuteTime": {
     "end_time": "2018-10-10T06:29:55.864756Z",
     "start_time": "2018-10-10T06:29:55.855435Z"
    },
    "collapsed": true
   },
   "outputs": [],
   "source": [
    "with open(parameter_file,'r') as f:\n",
    "    doc = yaml.load(f)\n",
    "\n",
    "data_folder = doc['data_folder']\n",
    "tissues = doc['tissues'].split(',')\n",
    "sys.path.append(doc['pipeline_path'])\n",
    "ref_fa = doc['ref_fa']\n",
    "annotation=doc['annotation']"
   ]
  },
  {
   "cell_type": "markdown",
   "metadata": {},
   "source": [
    "## Copy all peak (not merged) files into one folder"
   ]
  },
  {
   "cell_type": "code",
   "execution_count": 4,
   "metadata": {
    "ExecuteTime": {
     "end_time": "2018-10-10T06:29:56.243958Z",
     "start_time": "2018-10-10T06:29:55.867240Z"
    },
    "scrolled": true
   },
   "outputs": [],
   "source": [
    "cmd = 'cp '\n",
    "for t in tissues:\n",
    "    for s in ['GRO','mSTART']:\n",
    "        curr = glob.glob(os.path.join(data_folder,t,s,'f04_peaks/trim*'))\n",
    "        for c in curr:\n",
    "            cmd = cmd + c + ' '\n",
    "            \n",
    "cmd = cmd + './f04_peaks/'\n",
    "\n",
    "!{cmd}"
   ]
  },
  {
   "cell_type": "markdown",
   "metadata": {},
   "source": [
    "## Change names"
   ]
  },
  {
   "cell_type": "code",
   "execution_count": 11,
   "metadata": {
    "ExecuteTime": {
     "end_time": "2018-10-10T06:33:20.316531Z",
     "start_time": "2018-10-10T06:33:20.306319Z"
    }
   },
   "outputs": [],
   "source": [
    "meta_samples = pd.read_csv('raw_metaSamples.tsv',index_col=0,sep='\\t')"
   ]
  },
  {
   "cell_type": "code",
   "execution_count": 12,
   "metadata": {
    "ExecuteTime": {
     "end_time": "2018-10-10T06:33:20.357263Z",
     "start_time": "2018-10-10T06:33:20.325538Z"
    },
    "scrolled": true
   },
   "outputs": [],
   "source": [
    "## Remove .gz\n",
    "meta_samples['Full'] = meta_samples['Full'].apply(lambda x: x.strip('.gz'))\n",
    "\n",
    "## Add 5GRO \n",
    "for ind,val in meta_samples.iterrows():\n",
    "    if val['Experiment'] == 'GROCap' and '5GRO' not in ind:\n",
    "        curr = val['Full'].replace('_GRO','_5GRO')\n",
    "        meta_samples.loc[ind,'Full'] = curr"
   ]
  },
  {
   "cell_type": "code",
   "execution_count": 13,
   "metadata": {
    "ExecuteTime": {
     "end_time": "2018-10-10T06:33:20.399434Z",
     "start_time": "2018-10-10T06:33:20.360850Z"
    }
   },
   "outputs": [
    {
     "data": {
      "text/html": [
       "<div>\n",
       "<style scoped>\n",
       "    .dataframe tbody tr th:only-of-type {\n",
       "        vertical-align: middle;\n",
       "    }\n",
       "\n",
       "    .dataframe tbody tr th {\n",
       "        vertical-align: top;\n",
       "    }\n",
       "\n",
       "    .dataframe thead th {\n",
       "        text-align: right;\n",
       "    }\n",
       "</style>\n",
       "<table border=\"1\" class=\"dataframe\">\n",
       "  <thead>\n",
       "    <tr style=\"text-align: right;\">\n",
       "      <th></th>\n",
       "      <th>Tissue</th>\n",
       "      <th>Experiment</th>\n",
       "      <th>Name</th>\n",
       "      <th>Full</th>\n",
       "    </tr>\n",
       "  </thead>\n",
       "  <tbody>\n",
       "    <tr>\n",
       "      <th>CHBMDM1hKLA2_ATAC_JHS1000_SD_AGGTTGGG_S11_L001_R1_001.fastq.gz</th>\n",
       "      <td>BMDM1hKLA</td>\n",
       "      <td>ATAC</td>\n",
       "      <td>BMDM1hKLA_ATAC1</td>\n",
       "      <td>CHBMDM1hKLA2_ATAC_JHS1000_SD_AGGTTGGG_S11_L001...</td>\n",
       "    </tr>\n",
       "    <tr>\n",
       "      <th>CHBMDM1hKLA1_ATAC_JHS998_SD_TGGGTTTC_S9_L001_R1_001.fastq.gz</th>\n",
       "      <td>BMDM1hKLA</td>\n",
       "      <td>ATAC</td>\n",
       "      <td>BMDM1hKLA_ATAC2</td>\n",
       "      <td>CHBMDM1hKLA1_ATAC_JHS998_SD_TGGGTTTC_S9_L001_R...</td>\n",
       "    </tr>\n",
       "    <tr>\n",
       "      <th>CHBMDM1hKLA_GRO_JHS1027_SD_CAAAAG_S42_L003_R1_001.fastq.gz</th>\n",
       "      <td>BMDM1hKLA</td>\n",
       "      <td>GRO</td>\n",
       "      <td>BMDM1hKLA_GRO1</td>\n",
       "      <td>CHBMDM1hKLA_GRO_JHS1027_SD_CAAAAG_S42_L003_R1_...</td>\n",
       "    </tr>\n",
       "    <tr>\n",
       "      <th>CHBMDM1hKLA_GRO_JHS1034_SD_AGTCAA_S49_L003_R1_001.fastq.gz</th>\n",
       "      <td>BMDM1hKLA</td>\n",
       "      <td>GRO</td>\n",
       "      <td>BMDM1hKLA_GRO2</td>\n",
       "      <td>CHBMDM1hKLA_5GRO_JHS1034_SD_AGTCAA_S49_L003_R1...</td>\n",
       "    </tr>\n",
       "    <tr>\n",
       "      <th>CHBMDM1hKLA_GRO_JHS1034_SD_AGTCAA_S49_L003_R1_001.fastq.gz</th>\n",
       "      <td>BMDM1hKLA</td>\n",
       "      <td>GROCap</td>\n",
       "      <td>BMDM1hKLA_GROCap1</td>\n",
       "      <td>CHBMDM1hKLA_5GRO_JHS1034_SD_AGTCAA_S49_L003_R1...</td>\n",
       "    </tr>\n",
       "  </tbody>\n",
       "</table>\n",
       "</div>"
      ],
      "text/plain": [
       "                                                       Tissue Experiment  \\\n",
       "CHBMDM1hKLA2_ATAC_JHS1000_SD_AGGTTGGG_S11_L001_...  BMDM1hKLA       ATAC   \n",
       "CHBMDM1hKLA1_ATAC_JHS998_SD_TGGGTTTC_S9_L001_R1...  BMDM1hKLA       ATAC   \n",
       "CHBMDM1hKLA_GRO_JHS1027_SD_CAAAAG_S42_L003_R1_0...  BMDM1hKLA        GRO   \n",
       "CHBMDM1hKLA_GRO_JHS1034_SD_AGTCAA_S49_L003_R1_0...  BMDM1hKLA        GRO   \n",
       "CHBMDM1hKLA_GRO_JHS1034_SD_AGTCAA_S49_L003_R1_0...  BMDM1hKLA     GROCap   \n",
       "\n",
       "                                                                 Name  \\\n",
       "CHBMDM1hKLA2_ATAC_JHS1000_SD_AGGTTGGG_S11_L001_...    BMDM1hKLA_ATAC1   \n",
       "CHBMDM1hKLA1_ATAC_JHS998_SD_TGGGTTTC_S9_L001_R1...    BMDM1hKLA_ATAC2   \n",
       "CHBMDM1hKLA_GRO_JHS1027_SD_CAAAAG_S42_L003_R1_0...     BMDM1hKLA_GRO1   \n",
       "CHBMDM1hKLA_GRO_JHS1034_SD_AGTCAA_S49_L003_R1_0...     BMDM1hKLA_GRO2   \n",
       "CHBMDM1hKLA_GRO_JHS1034_SD_AGTCAA_S49_L003_R1_0...  BMDM1hKLA_GROCap1   \n",
       "\n",
       "                                                                                                 Full  \n",
       "CHBMDM1hKLA2_ATAC_JHS1000_SD_AGGTTGGG_S11_L001_...  CHBMDM1hKLA2_ATAC_JHS1000_SD_AGGTTGGG_S11_L001...  \n",
       "CHBMDM1hKLA1_ATAC_JHS998_SD_TGGGTTTC_S9_L001_R1...  CHBMDM1hKLA1_ATAC_JHS998_SD_TGGGTTTC_S9_L001_R...  \n",
       "CHBMDM1hKLA_GRO_JHS1027_SD_CAAAAG_S42_L003_R1_0...  CHBMDM1hKLA_GRO_JHS1027_SD_CAAAAG_S42_L003_R1_...  \n",
       "CHBMDM1hKLA_GRO_JHS1034_SD_AGTCAA_S49_L003_R1_0...  CHBMDM1hKLA_5GRO_JHS1034_SD_AGTCAA_S49_L003_R1...  \n",
       "CHBMDM1hKLA_GRO_JHS1034_SD_AGTCAA_S49_L003_R1_0...  CHBMDM1hKLA_5GRO_JHS1034_SD_AGTCAA_S49_L003_R1...  "
      ]
     },
     "execution_count": 13,
     "metadata": {},
     "output_type": "execute_result"
    }
   ],
   "source": [
    "meta_samples.head()"
   ]
  },
  {
   "cell_type": "code",
   "execution_count": 14,
   "metadata": {
    "ExecuteTime": {
     "end_time": "2018-10-10T06:34:48.295518Z",
     "start_time": "2018-10-10T06:34:48.265529Z"
    },
    "scrolled": true
   },
   "outputs": [
    {
     "data": {
      "text/plain": [
       "CHBMDM1hKLA2_ATAC_JHS1000_SD_AGGTTGGG_S11_L001_R1_001.fastq.gz                        ATAC\n",
       "CHBMDM1hKLA1_ATAC_JHS998_SD_TGGGTTTC_S9_L001_R1_001.fastq.gz                          ATAC\n",
       "CHBMDM1hKLA_GRO_JHS1027_SD_CAAAAG_S42_L003_R1_001.fastq.gz                             GRO\n",
       "CHBMDM1hKLA_GRO_JHS1034_SD_AGTCAA_S49_L003_R1_001.fastq.gz                             GRO\n",
       "CHBMDM1hKLA_GRO_JHS1034_SD_AGTCAA_S49_L003_R1_001.fastq.gz                          GROCap\n",
       "CHBMDMwt_GRO_JHS1033_SD_TAGCTT_S48_L003_R1_001.fastq.gz                                GRO\n",
       "CHBMDMwt_GRO_JHS1026_SD_ATTCCT_S41_L003_R1_001.fastq.gz                                GRO\n",
       "CHBMDMwt_GRO_JHS1033_SD_TAGCTT_S48_L003_R1_001.fastq.gz                             GROCap\n",
       "CHBrain_ATAC_JHS992_SD_ACCACTGT_S4_L001_R1_001.fastq.gz                               ATAC\n",
       "CHBrain_GRO_JHS1029_SD_CACCGG_S44_L003_R1_001.fastq.gz                                 GRO\n",
       "CHBrain_GRO_JHS1036_SD_ATGTCA_S51_L003_R1_001.fastq.gz                                 GRO\n",
       "CHBrain_GRO_JHS1036_SD_ATGTCA_S51_L003_R1_001.fastq.gz                              GROCap\n",
       "CHBrain_mSTART_JHS1057_SD_ATTCCT_S79_L004_R1_001.fastq.gz                            START\n",
       "CHBrain7neg1_mSTART_JHS1061_SD_CACGAT_S83_L004_R1_001.fastq.gz                       START\n",
       "CHBrain_mSTART_JHS1016_SD_GTAGAG_S28_L002_R1_001.fastq.gz                            START\n",
       "CHBrainnegmaybe7neg1_mSTARTinput_JHS1082_SD_CACGAT_S104_L005_R1_001.fastq.gz    STARTinput\n",
       "CHBrain_mSTARTinput_JHS1078_SD_ATTCCT_S100_L005_R1_001.fastq.gz                 STARTinput\n",
       "CHO-ATAC-SD378_S17_R1_001.fastq.gz                                                    ATAC\n",
       "Hamster-CHO-ATAC-SD332_S22_R1_001.fastq.gz                                            ATAC\n",
       "CHO-ATAC-SD380_S18_R1_001.fastq.gz                                                    ATAC\n",
       "Hamster-CHO-ATAC-SD335_S23_R1_001.fastq.gz                                            ATAC\n",
       "CHO-GRO-SD370_S9_R1_001.fastq.gz                                                       GRO\n",
       "CHO-GRO-SD369_S8_R1_001.fastq.gz                                                       GRO\n",
       "CHO-5GRO-SD367_S6_R1_001.fastq.gz                                                   GROCap\n",
       "CHO-5GRO-SD371_S10_R1_001.fastq.gz                                                  GROCap\n",
       "CHO--mSTART_input-JHS802_S11_R1_001.fastq.gz                                    STARTinput\n",
       "CHFemaleReproductive_mSTART_JHS1011_SD_TAGCTT_S23_L002_R1_001.fastq.gz               START\n",
       "CHFemaleReproductive_mSTART_JHS1052_SD_CGTACG_S74_L004_R1_001.fastq.gz               START\n",
       "CHFemaleReproductive_mSTARTinput_JHS1073_SD_CGTACG_S95_L005_R1_001.fastq.gz     STARTinput\n",
       "CHHeart_mSTART_JHS1056_SD_ATGAGC_S78_L004_R1_001.fastq.gz                            START\n",
       "                                                                                   ...    \n",
       "CHLiver_ATAC_JHS994_SD_CCGTTTGT_S6_L001_R1_001.fastq.gz                               ATAC\n",
       "CHLiver_GRO_JHS1038_SD_GTAGAG_S53_L003_R1_001.fastq.gz                                 GRO\n",
       "CHLiver_GRO_JHS1031_SD_TAATCG_S46_L003_R1_001.fastq.gz                                 GRO\n",
       "CHLiver_GRO_JHS1038_SD_GTAGAG_S53_L003_R1_001.fastq.gz                              GROCap\n",
       "CHLiver_mSTART_JHS1055_SD_ACTGAT_S77_L004_R1_001.fastq.gz                            START\n",
       "CHLiver_mSTART_JHS1015_SD_CCGTCC_S27_L002_R1_001.fastq.gz                            START\n",
       "CHLiver_mSTARTinput_JHS1076_SD_ACTGAT_S98_L005_R1_001.fastq.gz                  STARTinput\n",
       "CHLung_ATAC_JHS993_SD_TGGATCTG_S5_L001_R1_001.fastq.gz                                ATAC\n",
       "CHLung_GRO_JHS1030_SD_CACGAT_S45_L003_R1_001.fastq.gz                                  GRO\n",
       "CHLung_GRO_JHS1037_SD_CCGTCC_S52_L003_R1_001.fastq.gz                                  GRO\n",
       "CHLung_GRO_JHS1037_SD_CCGTCC_S52_L003_R1_001.fastq.gz                               GROCap\n",
       "CHLung_mSTART_JHS1054_SD_GGTAGC_S76_L004_R1_001.fastq.gz                             START\n",
       "CHLung_mSTART_JHS1020_SD_GTTTCG_S32_L002_R1_001.fastq.gz                             START\n",
       "CHLung_mSTARTinput_JHS1075_SD_GGTAGC_S97_L005_R1_001.fastq.gz                   STARTinput\n",
       "CHMiscOrgans_mSTART_JHS1060_SD_CACCGG_S82_L004_R1_001.fastq.gz                       START\n",
       "CHMiscOrgans_mSTART_JHS1018_SD_GTGAAA_S30_L002_R1_001.fastq.gz                       START\n",
       "CHMiscOrgans_mSTARTinput_JHS1081_SD_CACCGG_S103_L005_R1_001.fastq.gz            STARTinput\n",
       "CHMuscle_mSTART_JHS1019_SD_GTGGCC_S31_L002_R1_001.fastq.gz                           START\n",
       "CHMuscle_mSTART_JHS1058_SD_CAAAAG_S80_L004_R1_001.fastq.gz                           START\n",
       "CHMuscle_mSTARTinput_JHS1079_SD_CAAAAG_S101_L005_R1_001.fastq.gz                STARTinput\n",
       "CHPancreas_mSTART_JHS1014_SD_ATGTCA_S26_L002_R1_001.fastq.gz                         START\n",
       "CHPancreas_mSTART_JHS1051_SD_GTTTCG_S73_L004_R1_001.fastq.gz                         START\n",
       "CHPancreas_mSTARTinput_JHS1072_SD_GTTTCG_S94_L005_R1_001.fastq.gz               STARTinput\n",
       "CHSkin_mSTART_JHS1021_SD_CGTACG_S33_L002_R1_001.fastq.gz                             START\n",
       "CHSpleenBlood_ATAC_JHS995_SD_TGCTGGGT_S7_L001_R1_001.fastq.gz                         ATAC\n",
       "CHBloondnegSpleen_GRO_JHS1032_SD_TCCCGA_S47_L003_R1_001.fastq (3).gz                   GRO\n",
       "CHSpleednegBlood_mSTART_JHS1017_SD_GTCCGC_S29_L002_R1_001.fastq.gz                   START\n",
       "CHSpleen_mSTART_JHS1053_SD_GAGTGG_S75_L004_R1_001.fastq.gz                           START\n",
       "CHSpleen_mSTARTinput_JHS1074_SD_GAGTGG_S96_L005_R1_001.fastq.gz                 STARTinput\n",
       "CHTotal_mSTART_JHS1023_SD_GGTAGC_S35_L002_R1_001.fastq.gz                            START\n",
       "Name: Experiment, Length: 70, dtype: object"
      ]
     },
     "execution_count": 14,
     "metadata": {},
     "output_type": "execute_result"
    }
   ],
   "source": [
    "meta_samples['Experiment']"
   ]
  },
  {
   "cell_type": "code",
   "execution_count": 34,
   "metadata": {
    "ExecuteTime": {
     "end_time": "2018-10-10T06:46:27.464338Z",
     "start_time": "2018-10-10T06:46:27.117372Z"
    },
    "scrolled": true
   },
   "outputs": [],
   "source": [
    "peak_names_d = dict()\n",
    "manual = []\n",
    "for f in glob.glob(\"f04_peaks/*\"):\n",
    "    curr = \"\"\n",
    "    bg = None\n",
    "    tss = None\n",
    "    for ind,val in meta_samples.iterrows():\n",
    "        if val['Full'] in f and (val['Experiment'] == 'GROCap' or val['Experiment'] == 'START'):\n",
    "            tss = val[\"Name\"]\n",
    "        elif val['Full'] in f and (val['Experiment'] == 'GRO' or val['Experiment'] == 'STARTinput'):\n",
    "            bg = val[\"Name\"]\n",
    "    if bg == None or tss == None:\n",
    "        manual.append(os.path.basename(f))\n",
    "    else:\n",
    "        peak_names_d[os.path.basename(f)] = tss + '_' + bg.split('_')[1]"
   ]
  },
  {
   "cell_type": "code",
   "execution_count": 35,
   "metadata": {
    "ExecuteTime": {
     "end_time": "2018-10-10T06:46:27.470783Z",
     "start_time": "2018-10-10T06:46:27.466486Z"
    },
    "scrolled": true
   },
   "outputs": [
    {
     "data": {
      "text/plain": [
       "['trim_CHO--mSTART-JHS823_S21_R1_001.fastq_and_trim_CHO--mSTART_input-JHS802_S11_R1_001.fastq_bg_2.peak',\n",
       " 'trim_CHBloondnegSpleen_5GRO_JHS1039_SD_GTCCGC_S54_L003_R1_001.fastq_and_trim_CHBloondnegSpleen_GRO_JHS1032_SD_TCCCGA_S47_L003_R1_001.fastq_bg_2.peak']"
      ]
     },
     "execution_count": 35,
     "metadata": {},
     "output_type": "execute_result"
    }
   ],
   "source": [
    "manual"
   ]
  },
  {
   "cell_type": "code",
   "execution_count": 36,
   "metadata": {
    "ExecuteTime": {
     "end_time": "2018-10-10T06:46:27.476285Z",
     "start_time": "2018-10-10T06:46:27.472729Z"
    },
    "collapsed": true
   },
   "outputs": [],
   "source": [
    "peak_names_d['trim_CHO--mSTART-JHS823_S21_R1_001.fastq_and_trim_CHO--mSTART_input-JHS802_S11_R1_001.fastq_bg_2.peak'] = 'CHO_START1_CHO_START2'\n",
    "peak_names_d['trim_CHBloondnegSpleen_5GRO_JHS1039_SD_GTCCGC_S54_L003_R1_001.fastq_and_trim_CHBloondnegSpleen_GRO_JHS1032_SD_TCCCGA_S47_L003_R1_001.fastq_bg_2.peak'] = 'Spleen_GROCap1_Spleen_GRO1'"
   ]
  },
  {
   "cell_type": "code",
   "execution_count": 37,
   "metadata": {
    "ExecuteTime": {
     "end_time": "2018-10-10T06:46:27.484348Z",
     "start_time": "2018-10-10T06:46:27.478274Z"
    },
    "scrolled": true
   },
   "outputs": [
    {
     "data": {
      "text/plain": [
       "{'trim_CHBMDM1hKLA_5GRO_JHS1034_SD_AGTCAA_S49_L003_R1_001.fastq_and_trim_CHBMDM1hKLA_GRO_JHS1027_SD_CAAAAG_S42_L003_R1_001.fastq_bg_2.peak': 'BMDM1hKLA_GROCap1_GRO2',\n",
       " 'trim_CHBMDMwt_5GRO_JHS1033_SD_TAGCTT_S48_L003_R1_001.fastq_and_trim_CHBMDMwt_GRO_JHS1026_SD_ATTCCT_S41_L003_R1_001.fastq_bg_2.peak': 'BMDMwt_GROCap1_GRO2',\n",
       " 'trim_CHBloondnegSpleen_5GRO_JHS1039_SD_GTCCGC_S54_L003_R1_001.fastq_and_trim_CHBloondnegSpleen_GRO_JHS1032_SD_TCCCGA_S47_L003_R1_001.fastq_bg_2.peak': 'Spleen_GROCap1_Spleen_GRO1',\n",
       " 'trim_CHBrain_5GRO_JHS1036_SD_ATGTCA_S51_L003_R1_001.fastq_and_trim_CHBrain_GRO_JHS1029_SD_CACCGG_S44_L003_R1_001.fastq_bg_2.peak': 'Brain_GROCap1_GRO2',\n",
       " 'trim_CHBrain_mSTART_JHS1016_SD_GTAGAG_S28_L002_R1_001.fastq_and_trim_CHBrain_mSTARTinput_JHS1078_SD_ATTCCT_S100_L005_R1_001.fastq_bg_2.peak': 'Brain_START3_STARTinput2',\n",
       " 'trim_CHBrain_mSTART_JHS1057_SD_ATTCCT_S79_L004_R1_001.fastq_and_trim_CHBrain_mSTARTinput_JHS1078_SD_ATTCCT_S100_L005_R1_001.fastq_bg_2.peak': 'Brain_START1_STARTinput2',\n",
       " 'trim_CHHeart_mSTART_JHS1013_SD_AGTTCC_S25_L002_R1_001.fastq_and_trim_CHHeart_mSTARTinput_JHS1077_SD_ATGAGC_S99_L005_R1_001.fastq_bg_2.peak': 'Heart_START2_STARTinput1',\n",
       " 'trim_CHHeart_mSTART_JHS1056_SD_ATGAGC_S78_L004_R1_001.fastq_and_trim_CHHeart_mSTARTinput_JHS1077_SD_ATGAGC_S99_L005_R1_001.fastq_bg_2.peak': 'Heart_START1_STARTinput1',\n",
       " 'trim_CHKidney_5GRO_JHS1035_SD_AGTTCC_S50_L003_R1_001.fastq_and_trim_CHKidney_GRO_JHS1028_SD_CAACTA_S43_L003_R1_001.fastq_bg_2.peak': 'Kidney_GROCap1_GRO2',\n",
       " 'trim_CHKidney_mSTART_JHS1022_SD_GAGTGG_S34_L002_R1_001.fastq_and_trim_CHKidney_mSTARTinput_JHS1080_SD_CAACTA_S102_L005_R1_001.fastq_bg_2.peak': 'Kidney_START2_STARTinput1',\n",
       " 'trim_CHKidney_mSTART_JHS1059_SD_CAACTA_S81_L004_R1_001.fastq_and_trim_CHKidney_mSTARTinput_JHS1080_SD_CAACTA_S102_L005_R1_001.fastq_bg_2.peak': 'Kidney_START1_STARTinput1',\n",
       " 'trim_CHLiver_5GRO_JHS1038_SD_GTAGAG_S53_L003_R1_001.fastq_and_trim_CHLiver_GRO_JHS1031_SD_TAATCG_S46_L003_R1_001.fastq_bg_2.peak': 'Liver_GROCap1_GRO2',\n",
       " 'trim_CHLiver_mSTART_JHS1015_SD_CCGTCC_S27_L002_R1_001.fastq_and_trim_CHLiver_mSTARTinput_JHS1076_SD_ACTGAT_S98_L005_R1_001.fastq_bg_2.peak': 'Liver_START2_STARTinput1',\n",
       " 'trim_CHLiver_mSTART_JHS1055_SD_ACTGAT_S77_L004_R1_001.fastq_and_trim_CHLiver_mSTARTinput_JHS1076_SD_ACTGAT_S98_L005_R1_001.fastq_bg_2.peak': 'Liver_START1_STARTinput1',\n",
       " 'trim_CHLung_5GRO_JHS1037_SD_CCGTCC_S52_L003_R1_001.fastq_and_trim_CHLung_GRO_JHS1030_SD_CACGAT_S45_L003_R1_001.fastq_bg_2.peak': 'Lung_GROCap1_GRO2',\n",
       " 'trim_CHLung_mSTART_JHS1020_SD_GTTTCG_S32_L002_R1_001.fastq_and_trim_CHLung_mSTARTinput_JHS1075_SD_GGTAGC_S97_L005_R1_001.fastq_bg_2.peak': 'Lung_START2_STARTinput1',\n",
       " 'trim_CHLung_mSTART_JHS1054_SD_GGTAGC_S76_L004_R1_001.fastq_and_trim_CHLung_mSTARTinput_JHS1075_SD_GGTAGC_S97_L005_R1_001.fastq_bg_2.peak': 'Lung_START1_STARTinput1',\n",
       " 'trim_CHMuscle_mSTART_JHS1019_SD_GTGGCC_S31_L002_R1_001.fastq_and_trim_CHMuscle_mSTARTinput_JHS1079_SD_CAAAAG_S101_L005_R1_001.fastq_bg_2.peak': 'Muscle_START1_STARTinput1',\n",
       " 'trim_CHMuscle_mSTART_JHS1058_SD_CAAAAG_S80_L004_R1_001.fastq_and_trim_CHMuscle_mSTARTinput_JHS1079_SD_CAAAAG_S101_L005_R1_001.fastq_bg_2.peak': 'Muscle_START2_STARTinput1',\n",
       " 'trim_CHO--mSTART-JHS823_S21_R1_001.fastq_and_trim_CHO--mSTART_input-JHS802_S11_R1_001.fastq_bg_2.peak': 'CHO_START1_CHO_START2',\n",
       " 'trim_CHO-5GRO-SD367_S6_R1_001.fastq_and_trim_CHO-GRO-SD369_S8_R1_001.fastq_bg_2.peak': 'CHO_GROCap1_GRO2',\n",
       " 'trim_CHO-5GRO-SD367_S6_R1_001.fastq_and_trim_CHO-GRO-SD370_S9_R1_001.fastq_bg_2.peak': 'CHO_GROCap1_GRO1',\n",
       " 'trim_CHO-5GRO-SD371_S10_R1_001.fastq_and_trim_CHO-GRO-SD369_S8_R1_001.fastq_bg_2.peak': 'CHO_GROCap2_GRO2',\n",
       " 'trim_CHO-5GRO-SD371_S10_R1_001.fastq_and_trim_CHO-GRO-SD370_S9_R1_001.fastq_bg_2.peak': 'CHO_GROCap2_GRO1',\n",
       " 'trim_CHPancreas_mSTART_JHS1014_SD_ATGTCA_S26_L002_R1_001.fastq_and_trim_CHPancreas_mSTARTinput_JHS1072_SD_GTTTCG_S94_L005_R1_001.fastq_bg_2.peak': 'Pancreas_START1_STARTinput1',\n",
       " 'trim_CHPancreas_mSTART_JHS1051_SD_GTTTCG_S73_L004_R1_001.fastq_and_trim_CHPancreas_mSTARTinput_JHS1072_SD_GTTTCG_S94_L005_R1_001.fastq_bg_2.peak': 'Pancreas_START2_STARTinput1',\n",
       " 'trim_CHSpleednegBlood_mSTART_JHS1017_SD_GTCCGC_S29_L002_R1_001.fastq_and_trim_CHSpleen_mSTARTinput_JHS1074_SD_GAGTGG_S96_L005_R1_001.fastq_bg_2.peak': 'Spleen_START1_STARTinput1',\n",
       " 'trim_CHSpleen_mSTART_JHS1053_SD_GAGTGG_S75_L004_R1_001.fastq_and_trim_CHSpleen_mSTARTinput_JHS1074_SD_GAGTGG_S96_L005_R1_001.fastq_bg_2.peak': 'Spleen_START2_STARTinput1'}"
      ]
     },
     "execution_count": 37,
     "metadata": {},
     "output_type": "execute_result"
    }
   ],
   "source": [
    "peak_names_d"
   ]
  },
  {
   "cell_type": "code",
   "execution_count": 42,
   "metadata": {
    "ExecuteTime": {
     "end_time": "2018-10-10T06:50:44.553646Z",
     "start_time": "2018-10-10T06:50:41.323178Z"
    },
    "scrolled": true
   },
   "outputs": [
    {
     "name": "stdout",
     "output_type": "stream",
     "text": [
      "mv f04_peaks/trim_CHHeart_mSTART_JHS1013_SD_AGTTCC_S25_L002_R1_001.fastq_and_trim_CHHeart_mSTARTinput_JHS1077_SD_ATGAGC_S99_L005_R1_001.fastq_bg_2.peak f04_peaks/Heart_START2_STARTinput1\n",
      "mv f04_peaks/trim_CHKidney_5GRO_JHS1035_SD_AGTTCC_S50_L003_R1_001.fastq_and_trim_CHKidney_GRO_JHS1028_SD_CAACTA_S43_L003_R1_001.fastq_bg_2.peak f04_peaks/Kidney_GROCap1_GRO2\n",
      "mv f04_peaks/trim_CHLung_mSTART_JHS1020_SD_GTTTCG_S32_L002_R1_001.fastq_and_trim_CHLung_mSTARTinput_JHS1075_SD_GGTAGC_S97_L005_R1_001.fastq_bg_2.peak f04_peaks/Lung_START2_STARTinput1\n",
      "mv f04_peaks/trim_CHMuscle_mSTART_JHS1058_SD_CAAAAG_S80_L004_R1_001.fastq_and_trim_CHMuscle_mSTARTinput_JHS1079_SD_CAAAAG_S101_L005_R1_001.fastq_bg_2.peak f04_peaks/Muscle_START2_STARTinput1\n",
      "mv f04_peaks/trim_CHKidney_mSTART_JHS1022_SD_GAGTGG_S34_L002_R1_001.fastq_and_trim_CHKidney_mSTARTinput_JHS1080_SD_CAACTA_S102_L005_R1_001.fastq_bg_2.peak f04_peaks/Kidney_START2_STARTinput1\n",
      "mv f04_peaks/trim_CHLiver_mSTART_JHS1055_SD_ACTGAT_S77_L004_R1_001.fastq_and_trim_CHLiver_mSTARTinput_JHS1076_SD_ACTGAT_S98_L005_R1_001.fastq_bg_2.peak f04_peaks/Liver_START1_STARTinput1\n",
      "mv f04_peaks/trim_CHO-5GRO-SD371_S10_R1_001.fastq_and_trim_CHO-GRO-SD369_S8_R1_001.fastq_bg_2.peak f04_peaks/CHO_GROCap2_GRO2\n",
      "mv f04_peaks/trim_CHHeart_mSTART_JHS1056_SD_ATGAGC_S78_L004_R1_001.fastq_and_trim_CHHeart_mSTARTinput_JHS1077_SD_ATGAGC_S99_L005_R1_001.fastq_bg_2.peak f04_peaks/Heart_START1_STARTinput1\n",
      "mv f04_peaks/trim_CHBloondnegSpleen_5GRO_JHS1039_SD_GTCCGC_S54_L003_R1_001.fastq_and_trim_CHBloondnegSpleen_GRO_JHS1032_SD_TCCCGA_S47_L003_R1_001.fastq_bg_2.peak f04_peaks/Spleen_GROCap1_Spleen_GRO1\n",
      "mv f04_peaks/trim_CHO-5GRO-SD367_S6_R1_001.fastq_and_trim_CHO-GRO-SD370_S9_R1_001.fastq_bg_2.peak f04_peaks/CHO_GROCap1_GRO1\n",
      "mv f04_peaks/trim_CHSpleednegBlood_mSTART_JHS1017_SD_GTCCGC_S29_L002_R1_001.fastq_and_trim_CHSpleen_mSTARTinput_JHS1074_SD_GAGTGG_S96_L005_R1_001.fastq_bg_2.peak f04_peaks/Spleen_START1_STARTinput1\n",
      "mv f04_peaks/trim_CHBMDM1hKLA_5GRO_JHS1034_SD_AGTCAA_S49_L003_R1_001.fastq_and_trim_CHBMDM1hKLA_GRO_JHS1027_SD_CAAAAG_S42_L003_R1_001.fastq_bg_2.peak f04_peaks/BMDM1hKLA_GROCap1_GRO2\n",
      "mv f04_peaks/trim_CHBMDMwt_5GRO_JHS1033_SD_TAGCTT_S48_L003_R1_001.fastq_and_trim_CHBMDMwt_GRO_JHS1026_SD_ATTCCT_S41_L003_R1_001.fastq_bg_2.peak f04_peaks/BMDMwt_GROCap1_GRO2\n",
      "mv f04_peaks/trim_CHPancreas_mSTART_JHS1014_SD_ATGTCA_S26_L002_R1_001.fastq_and_trim_CHPancreas_mSTARTinput_JHS1072_SD_GTTTCG_S94_L005_R1_001.fastq_bg_2.peak f04_peaks/Pancreas_START1_STARTinput1\n",
      "mv f04_peaks/trim_CHLung_mSTART_JHS1054_SD_GGTAGC_S76_L004_R1_001.fastq_and_trim_CHLung_mSTARTinput_JHS1075_SD_GGTAGC_S97_L005_R1_001.fastq_bg_2.peak f04_peaks/Lung_START1_STARTinput1\n",
      "mv f04_peaks/trim_CHLung_5GRO_JHS1037_SD_CCGTCC_S52_L003_R1_001.fastq_and_trim_CHLung_GRO_JHS1030_SD_CACGAT_S45_L003_R1_001.fastq_bg_2.peak f04_peaks/Lung_GROCap1_GRO2\n",
      "mv f04_peaks/trim_CHLiver_mSTART_JHS1015_SD_CCGTCC_S27_L002_R1_001.fastq_and_trim_CHLiver_mSTARTinput_JHS1076_SD_ACTGAT_S98_L005_R1_001.fastq_bg_2.peak f04_peaks/Liver_START2_STARTinput1\n",
      "mv f04_peaks/trim_CHSpleen_mSTART_JHS1053_SD_GAGTGG_S75_L004_R1_001.fastq_and_trim_CHSpleen_mSTARTinput_JHS1074_SD_GAGTGG_S96_L005_R1_001.fastq_bg_2.peak f04_peaks/Spleen_START2_STARTinput1\n",
      "mv f04_peaks/trim_CHO-5GRO-SD371_S10_R1_001.fastq_and_trim_CHO-GRO-SD370_S9_R1_001.fastq_bg_2.peak f04_peaks/CHO_GROCap2_GRO1\n",
      "mv f04_peaks/trim_CHBrain_mSTART_JHS1016_SD_GTAGAG_S28_L002_R1_001.fastq_and_trim_CHBrain_mSTARTinput_JHS1078_SD_ATTCCT_S100_L005_R1_001.fastq_bg_2.peak f04_peaks/Brain_START3_STARTinput2\n",
      "mv f04_peaks/trim_CHO-5GRO-SD367_S6_R1_001.fastq_and_trim_CHO-GRO-SD369_S8_R1_001.fastq_bg_2.peak f04_peaks/CHO_GROCap1_GRO2\n",
      "mv f04_peaks/trim_CHLiver_5GRO_JHS1038_SD_GTAGAG_S53_L003_R1_001.fastq_and_trim_CHLiver_GRO_JHS1031_SD_TAATCG_S46_L003_R1_001.fastq_bg_2.peak f04_peaks/Liver_GROCap1_GRO2\n",
      "mv f04_peaks/trim_CHPancreas_mSTART_JHS1051_SD_GTTTCG_S73_L004_R1_001.fastq_and_trim_CHPancreas_mSTARTinput_JHS1072_SD_GTTTCG_S94_L005_R1_001.fastq_bg_2.peak f04_peaks/Pancreas_START2_STARTinput1\n",
      "mv f04_peaks/trim_CHBrain_mSTART_JHS1057_SD_ATTCCT_S79_L004_R1_001.fastq_and_trim_CHBrain_mSTARTinput_JHS1078_SD_ATTCCT_S100_L005_R1_001.fastq_bg_2.peak f04_peaks/Brain_START1_STARTinput2\n",
      "mv f04_peaks/trim_CHBrain_5GRO_JHS1036_SD_ATGTCA_S51_L003_R1_001.fastq_and_trim_CHBrain_GRO_JHS1029_SD_CACCGG_S44_L003_R1_001.fastq_bg_2.peak f04_peaks/Brain_GROCap1_GRO2\n",
      "mv f04_peaks/trim_CHO--mSTART-JHS823_S21_R1_001.fastq_and_trim_CHO--mSTART_input-JHS802_S11_R1_001.fastq_bg_2.peak f04_peaks/CHO_START1_CHO_START2\n",
      "mv f04_peaks/trim_CHKidney_mSTART_JHS1059_SD_CAACTA_S81_L004_R1_001.fastq_and_trim_CHKidney_mSTARTinput_JHS1080_SD_CAACTA_S102_L005_R1_001.fastq_bg_2.peak f04_peaks/Kidney_START1_STARTinput1\n",
      "mv f04_peaks/trim_CHMuscle_mSTART_JHS1019_SD_GTGGCC_S31_L002_R1_001.fastq_and_trim_CHMuscle_mSTARTinput_JHS1079_SD_CAAAAG_S101_L005_R1_001.fastq_bg_2.peak f04_peaks/Muscle_START1_STARTinput1\n"
     ]
    }
   ],
   "source": [
    "for key in peak_names_d:\n",
    "    cmd = \"mv f04_peaks/{old} f04_peaks/{new}\".format(old = key,new=peak_names_d[key])\n",
    "    print(cmd)\n",
    "    !{cmd}"
   ]
  }
 ],
 "metadata": {
  "kernelspec": {
   "display_name": "Python 2",
   "language": "python",
   "name": "python2"
  },
  "language_info": {
   "codemirror_mode": {
    "name": "ipython",
    "version": 2
   },
   "file_extension": ".py",
   "mimetype": "text/x-python",
   "name": "python",
   "nbconvert_exporter": "python",
   "pygments_lexer": "ipython2",
   "version": "2.7.13"
  }
 },
 "nbformat": 4,
 "nbformat_minor": 2
}
