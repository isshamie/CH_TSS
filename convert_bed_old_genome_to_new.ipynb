{
 "cells": [
  {
   "cell_type": "markdown",
   "metadata": {},
   "source": [
    "### Moving from /data/genome/hamster/ to /data/genome/hamster/picr_final"
   ]
  },
  {
   "cell_type": "code",
   "execution_count": 1,
   "metadata": {},
   "outputs": [],
   "source": [
    "import os\n",
    "import sys\n",
    "import pandas as pd\n",
    "import matplotlib\n",
    "import seaborn as sns\n",
    "import pickle\n",
    "import numpy as np\n",
    "import matplotlib as mpl\n",
    "mpl.style.use('fivethirtyeight')\n"
   ]
  },
  {
   "cell_type": "code",
   "execution_count": 2,
   "metadata": {
    "scrolled": true
   },
   "outputs": [
    {
     "name": "stdout",
     "output_type": "stream",
     "text": [
      "('Number of differences:', 72)\n"
     ]
    }
   ],
   "source": [
    "diffs_df = pd.read_csv('/data/genome/hamster/picr_final/PICR_diffs_corrected/picr_diffs_corrected.bed',\n",
    "                       header=None,sep='\\t')\n",
    "\n",
    "cols = ['Chr','Start','End','Diff']\n",
    "diffs_df.columns = cols\n",
    "\n",
    "diffs_df.head()\n",
    "print('Number of differences:', len(diffs_df))"
   ]
  },
  {
   "cell_type": "code",
   "execution_count": 3,
   "metadata": {},
   "outputs": [
    {
     "data": {
      "text/html": [
       "<div>\n",
       "<style>\n",
       "    .dataframe thead tr:only-child th {\n",
       "        text-align: right;\n",
       "    }\n",
       "\n",
       "    .dataframe thead th {\n",
       "        text-align: left;\n",
       "    }\n",
       "\n",
       "    .dataframe tbody tr th {\n",
       "        vertical-align: top;\n",
       "    }\n",
       "</style>\n",
       "<table border=\"1\" class=\"dataframe\">\n",
       "  <thead>\n",
       "    <tr style=\"text-align: right;\">\n",
       "      <th></th>\n",
       "      <th>0</th>\n",
       "      <th>1</th>\n",
       "      <th>2</th>\n",
       "      <th>3</th>\n",
       "      <th>4</th>\n",
       "      <th>5</th>\n",
       "    </tr>\n",
       "  </thead>\n",
       "  <tbody>\n",
       "    <tr>\n",
       "      <th>0</th>\n",
       "      <td>picr_0</td>\n",
       "      <td>44414</td>\n",
       "      <td>44574</td>\n",
       "      <td>RRP7A;gene_2;asmbl_10;Brain_GRO,Brain_mSTART,M...</td>\n",
       "      <td>91.099998</td>\n",
       "      <td>-</td>\n",
       "    </tr>\n",
       "    <tr>\n",
       "      <th>1</th>\n",
       "      <td>picr_0</td>\n",
       "      <td>20879</td>\n",
       "      <td>21067</td>\n",
       "      <td>SERHL;gene_1_4;asmbl_14;BloondnegSpleen_GRO,BM...</td>\n",
       "      <td>1089.349976</td>\n",
       "      <td>+</td>\n",
       "    </tr>\n",
       "    <tr>\n",
       "      <th>2</th>\n",
       "      <td>picr_0</td>\n",
       "      <td>66072</td>\n",
       "      <td>66222</td>\n",
       "      <td>POLDIP3;gene_3_1;asmbl_18;BMDM1hKLA1_GRO;cs=1</td>\n",
       "      <td>31.799999</td>\n",
       "      <td>-</td>\n",
       "    </tr>\n",
       "    <tr>\n",
       "      <th>3</th>\n",
       "      <td>picr_0</td>\n",
       "      <td>78182</td>\n",
       "      <td>78421</td>\n",
       "      <td>POLDIP3;gene_3_1;asmbl_19;BloondnegSpleen_GRO,...</td>\n",
       "      <td>367.649994</td>\n",
       "      <td>-</td>\n",
       "    </tr>\n",
       "    <tr>\n",
       "      <th>4</th>\n",
       "      <td>picr_0</td>\n",
       "      <td>92486</td>\n",
       "      <td>92760</td>\n",
       "      <td>CYB5R3;gene_3_2;asmbl_20;BMDM1hKLA1_GRO,BMDMwt...</td>\n",
       "      <td>91.400002</td>\n",
       "      <td>-</td>\n",
       "    </tr>\n",
       "  </tbody>\n",
       "</table>\n",
       "</div>"
      ],
      "text/plain": [
       "        0      1      2                                                  3  \\\n",
       "0  picr_0  44414  44574  RRP7A;gene_2;asmbl_10;Brain_GRO,Brain_mSTART,M...   \n",
       "1  picr_0  20879  21067  SERHL;gene_1_4;asmbl_14;BloondnegSpleen_GRO,BM...   \n",
       "2  picr_0  66072  66222      POLDIP3;gene_3_1;asmbl_18;BMDM1hKLA1_GRO;cs=1   \n",
       "3  picr_0  78182  78421  POLDIP3;gene_3_1;asmbl_19;BloondnegSpleen_GRO,...   \n",
       "4  picr_0  92486  92760  CYB5R3;gene_3_2;asmbl_20;BMDM1hKLA1_GRO,BMDMwt...   \n",
       "\n",
       "             4  5  \n",
       "0    91.099998  -  \n",
       "1  1089.349976  +  \n",
       "2    31.799999  -  \n",
       "3   367.649994  -  \n",
       "4    91.400002  -  "
      ]
     },
     "execution_count": 3,
     "metadata": {},
     "output_type": "execute_result"
    }
   ],
   "source": [
    "bed_file = '/data/isshamie/CH_tissue_TSS/Analysis/Results/tss_final/tss_peakCenter.bed'\n",
    "bed_df = pd.read_csv(bed_file,sep='\\t',header=None)\n",
    "cols = ['Chr','Start','End','Name','Score','Strand']\n",
    "bed_df.head()"
   ]
  },
  {
   "cell_type": "code",
   "execution_count": 4,
   "metadata": {},
   "outputs": [],
   "source": [
    "for ind,val in diffs_df.iterrows():\n",
    "    ## Chromosome filter\n",
    "    curr = diffs_df[diffs_df['Chr'] == val['Chr']]\n",
    "    ## Start or end is in between regions\n",
    "    a = curr[(curr['Start']<val['Start']) & (curr['End'] > val['Start']) & (curr['End'] < val['End'])]\n",
    "    b = curr[(curr['Start']<val['Start']) & (curr['End']> val['End'])]\n",
    "    \n",
    "    c = curr[(curr['Start']>val['Start']) &( curr['Start']<val['End']) & (curr['End']>val['End'])]\n",
    "    d = curr[(curr['Start'] > val['Start']) & (curr['Start']<val['End']) & \n",
    "             (curr['End'] > val['Start']) & (curr['End']<val['End'])] \n",
    "    \n",
    "    \n",
    "    if len(a) > 0:\n",
    "        print(a)        \n",
    "    if len(b) > 0:\n",
    "        print(b)\n",
    "    if len(c) > 0:\n",
    "        print(c)\n",
    "    if len(d) > 0:\n",
    "        print(d)"
   ]
  },
  {
   "cell_type": "markdown",
   "metadata": {},
   "source": [
    "### None of them span the region!"
   ]
  }
 ],
 "metadata": {
  "kernelspec": {
   "display_name": "Python 2",
   "language": "python",
   "name": "python2"
  },
  "language_info": {
   "codemirror_mode": {
    "name": "ipython",
    "version": 2
   },
   "file_extension": ".py",
   "mimetype": "text/x-python",
   "name": "python",
   "nbconvert_exporter": "python",
   "pygments_lexer": "ipython2",
   "version": "2.7.13"
  }
 },
 "nbformat": 4,
 "nbformat_minor": 2
}
