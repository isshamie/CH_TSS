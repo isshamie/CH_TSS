{
 "cells": [
  {
   "cell_type": "markdown",
   "metadata": {},
   "source": [
    "## Params and loading packages"
   ]
  },
  {
   "cell_type": "code",
   "execution_count": 1,
   "metadata": {
    "ExecuteTime": {
     "end_time": "2018-09-18T00:10:51.380582Z",
     "start_time": "2018-09-18T00:10:51.372934Z"
    },
    "collapsed": true
   },
   "outputs": [],
   "source": [
    "## First go back up a folder \n",
    "import os\n",
    "os.chdir('..')"
   ]
  },
  {
   "cell_type": "code",
   "execution_count": 2,
   "metadata": {
    "ExecuteTime": {
     "end_time": "2018-09-18T00:10:51.486278Z",
     "start_time": "2018-09-18T00:10:51.395377Z"
    },
    "collapsed": true
   },
   "outputs": [],
   "source": [
    "## Parameters specific to where your folders are and your data\n",
    "parameter_file = 'params/params.yaml'\n",
    "import yaml\n",
    "import sys\n",
    "\n",
    "with open(parameter_file,'r') as f:\n",
    "    doc = yaml.load(f)\n",
    "\n",
    "#p = dic2obj(**doc)\n",
    "\n",
    "data_folder = doc['data_folder']\n",
    "tissues = doc['tissues'].split(',')\n",
    "sys.path.append(doc['pipeline_path'])\n",
    "ref_fa = doc['ref_fa']\n",
    "annotation=doc['annotation']\n",
    "\n"
   ]
  },
  {
   "cell_type": "code",
   "execution_count": 3,
   "metadata": {
    "ExecuteTime": {
     "end_time": "2018-09-18T00:10:52.440942Z",
     "start_time": "2018-09-18T00:10:51.489442Z"
    }
   },
   "outputs": [
    {
     "name": "stdout",
     "output_type": "stream",
     "text": [
      "('Number of tissues: ', 16)\n"
     ]
    }
   ],
   "source": [
    "\n",
    "import os\n",
    "import sys\n",
    "import pandas as pd\n",
    "import matplotlib\n",
    "import seaborn as sns\n",
    "import pickle\n",
    "import numpy as np\n",
    "import matplotlib as mpl\n",
    "from matplotlib import pyplot as plt\n",
    "from itertools import product\n",
    "import glob\n",
    "import re\n",
    "from matplotlib_venn import venn2\n",
    "from matplotlib import rcParams\n",
    "import inspect\n",
    "%matplotlib inline\n",
    "%config InlineBackend.figure_format = 'retina'\n",
    "sys.setrecursionlimit(3000)\n",
    "%load_ext autoreload\n",
    "%autoreload 2\n",
    "rcParams['figure.figsize'] = 8, 6\n",
    "import tqdm\n",
    "### notebook specific configuration ###\n",
    "from os.path import basename\n",
    "#mpl.style.use('ggplot')\n",
    "mpl.style.use('fivethirtyeight')\n",
    "from cycler import cycler\n",
    "mpl.rcParams['axes.prop_cycle'] = cycler(color='bgrcmyk')\n",
    "\n",
    "from Modules.Homer import *\n",
    "\n",
    "print('Number of tissues: ',len(tissues))"
   ]
  },
  {
   "cell_type": "markdown",
   "metadata": {},
   "source": [
    "## Compare with the merged peaks (duplicatesSeparate and overlap)"
   ]
  },
  {
   "cell_type": "code",
   "execution_count": null,
   "metadata": {
    "ExecuteTime": {
     "start_time": "2018-09-18T00:12:21.372Z"
    }
   },
   "outputs": [
    {
     "name": "stdout",
     "output_type": "stream",
     "text": [
      "mergePeaks -d given -venn Results/merged/peaksMerged_tagsMerged.tsv_venn.tsv -matrix Results/merged/peaksMerged_tagsMerged.tsv -strand Results/merged/tags_merged.peak Results/merged/all_peaks_merged.tsv Results/merged/duplicatesSeparate_peaks_merged.tsv.peak > Results/merged/peaksMerged_tagsMerged\n",
      "\tMax distance to merge: direct overlap required (-d given)\n",
      "\tMerging peaks... \n",
      "\tDuplicate peak name (Merged-picr_44-14150391-1) - this could potentially cause problems\n",
      "\t\tSometimes unavoidable for BED/2DBED formats\n",
      "\t\tNew name for this peak is Merged-picr_44-14150391-1--2\n",
      "!!! Could not open peak file: Results/merged/duplicatesSeparate_peaks_merged.tsv.peak !!!\n",
      "\tComparing Results/merged/tags_merged.peak (205822 total) and Results/merged/tags_merged.peak (205822 total)\n",
      "\tComparing Results/merged/tags_merged.peak (205822 total) and Results/merged/all_peaks_merged.tsv (340547 total)\n",
      "\tComparing Results/merged/tags_merged.peak (205822 total) and Results/merged/duplicatesSeparate_peaks_merged.tsv.peak (0 total)\n",
      "\tComparing Results/merged/all_peaks_merged.tsv (340547 total) and Results/merged/tags_merged.peak (205822 total)\n",
      "\tComparing Results/merged/all_peaks_merged.tsv (340547 total) and Results/merged/all_peaks_merged.tsv (340547 total)\n"
     ]
    }
   ],
   "source": [
    "cmd = 'mergePeaks -d given -venn \\\n",
    "Results/merged/peaksMerged_tagsMerged.tsv_venn.tsv \\\n",
    "-matrix Results/merged/peaksMerged_tagsMerged.tsv \\\n",
    "-strand \\\n",
    "Results/merged/tags_merged.peak \\\n",
    "Results/merged/all_peaks_merged.tsv \\\n",
    "Results/merged/duplicatesSeparate_peaks_merged.tsv.peak > \\\n",
    "Results/merged/peaksMerged_tagsMerged'\n",
    "print(cmd)\n",
    "!{cmd}"
   ]
  },
  {
   "cell_type": "code",
   "execution_count": 95,
   "metadata": {
    "scrolled": true
   },
   "outputs": [
    {
     "data": {
      "text/html": [
       "<div>\n",
       "<style scoped>\n",
       "    .dataframe tbody tr th:only-of-type {\n",
       "        vertical-align: middle;\n",
       "    }\n",
       "\n",
       "    .dataframe tbody tr th {\n",
       "        vertical-align: top;\n",
       "    }\n",
       "\n",
       "    .dataframe thead th {\n",
       "        text-align: right;\n",
       "    }\n",
       "</style>\n",
       "<table border=\"1\" class=\"dataframe\">\n",
       "  <thead>\n",
       "    <tr style=\"text-align: right;\">\n",
       "      <th></th>\n",
       "      <th>Results/merged/tags_merged.peak</th>\n",
       "      <th>Results/merged/all_peaks_merged.tsv</th>\n",
       "      <th>Total</th>\n",
       "      <th>Name</th>\n",
       "    </tr>\n",
       "  </thead>\n",
       "  <tbody>\n",
       "    <tr>\n",
       "      <th>0</th>\n",
       "      <td>NaN</td>\n",
       "      <td>X</td>\n",
       "      <td>174440</td>\n",
       "      <td>Results/merged/all_peaks_merged.tsv</td>\n",
       "    </tr>\n",
       "    <tr>\n",
       "      <th>1</th>\n",
       "      <td>X</td>\n",
       "      <td>NaN</td>\n",
       "      <td>39870</td>\n",
       "      <td>Results/merged/tags_merged.peak</td>\n",
       "    </tr>\n",
       "    <tr>\n",
       "      <th>2</th>\n",
       "      <td>X</td>\n",
       "      <td>X</td>\n",
       "      <td>165925</td>\n",
       "      <td>Results/merged/tags_merged.peak|Results/merged...</td>\n",
       "    </tr>\n",
       "  </tbody>\n",
       "</table>\n",
       "</div>"
      ],
      "text/plain": [
       "  Results/merged/tags_merged.peak Results/merged/all_peaks_merged.tsv   Total  \\\n",
       "0                             NaN                                   X  174440   \n",
       "1                               X                                 NaN   39870   \n",
       "2                               X                                   X  165925   \n",
       "\n",
       "                                                Name  \n",
       "0                Results/merged/all_peaks_merged.tsv  \n",
       "1                    Results/merged/tags_merged.peak  \n",
       "2  Results/merged/tags_merged.peak|Results/merged...  "
      ]
     },
     "execution_count": 95,
     "metadata": {},
     "output_type": "execute_result"
    }
   ],
   "source": [
    "compare_merge = pd.read_csv('Results/merged/peaksMerged_tagsMerged.tsv_venn.tsv',sep='\\t')\n",
    "compare_merge"
   ]
  },
  {
   "cell_type": "code",
   "execution_count": null,
   "metadata": {
    "collapsed": true
   },
   "outputs": [],
   "source": []
  }
 ],
 "metadata": {
  "kernelspec": {
   "display_name": "Python 2",
   "language": "python",
   "name": "python2"
  },
  "language_info": {
   "codemirror_mode": {
    "name": "ipython",
    "version": 2
   },
   "file_extension": ".py",
   "mimetype": "text/x-python",
   "name": "python",
   "nbconvert_exporter": "python",
   "pygments_lexer": "ipython2",
   "version": "2.7.13"
  }
 },
 "nbformat": 4,
 "nbformat_minor": 2
}
