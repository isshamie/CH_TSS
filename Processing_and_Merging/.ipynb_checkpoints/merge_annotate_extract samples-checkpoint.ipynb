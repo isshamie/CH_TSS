{
 "cells": [
  {
   "cell_type": "markdown",
   "metadata": {},
   "source": [
    "# 0. \n",
    "Input:  \n",
    "Peak files outputted from running NGS-pipeline, with each one being unique tissue and 5'-seq type. Any replicates have been merged by taking the intersection  \n",
    "Creates:  \n",
    "Peak file ('Results/merged/all_peaks_merged.tsv') .   \n",
    "Peak file with annotation ('Results/merged/all_peaks_merged_anno.tsv')    \n",
    "Sequence file of each peak ('Results/merged/all_peaks_merged_anno.fa')  "
   ]
  },
  {
   "cell_type": "markdown",
   "metadata": {},
   "source": [
    "# 1. Params and loading packages"
   ]
  },
  {
   "cell_type": "code",
   "execution_count": 1,
   "metadata": {
    "collapsed": true
   },
   "outputs": [],
   "source": [
    "## First go back up a folder \n",
    "import os\n",
    "os.chdir('..')"
   ]
  },
  {
   "cell_type": "code",
   "execution_count": 2,
   "metadata": {},
   "outputs": [],
   "source": [
    "## Parameters specific to where your folders are and your data\n",
    "parameter_file = 'params/params.yaml'\n",
    "import yaml\n",
    "import sys\n",
    "\n",
    "with open(parameter_file,'r') as f:\n",
    "    doc = yaml.load(f)\n",
    "\n",
    "#p = dic2obj(**doc)\n",
    "\n",
    "data_folder = doc['data_folder']\n",
    "tissues = doc['tissues'].split(',')\n",
    "sys.path.append(doc['pipeline_path'])\n",
    "ref_fa = doc['ref_fa']\n",
    "annotation=doc['annotation']\n",
    "\n"
   ]
  },
  {
   "cell_type": "code",
   "execution_count": 3,
   "metadata": {},
   "outputs": [
    {
     "name": "stdout",
     "output_type": "stream",
     "text": [
      "('Number of tissues: ', 16)\n"
     ]
    }
   ],
   "source": [
    "\n",
    "import os\n",
    "import sys\n",
    "import pandas as pd\n",
    "import matplotlib\n",
    "import seaborn as sns\n",
    "import pickle\n",
    "import numpy as np\n",
    "import matplotlib as mpl\n",
    "from matplotlib import pyplot as plt\n",
    "from itertools import product\n",
    "import glob\n",
    "import re\n",
    "from matplotlib_venn import venn2\n",
    "from matplotlib import rcParams\n",
    "import inspect\n",
    "%matplotlib inline\n",
    "%config InlineBackend.figure_format = 'retina'\n",
    "sys.setrecursionlimit(3000)\n",
    "%load_ext autoreload\n",
    "%autoreload 2\n",
    "rcParams['figure.figsize'] = 8, 6\n",
    "import tqdm\n",
    "### notebook specific configuration ###\n",
    "from os.path import basename\n",
    "#mpl.style.use('ggplot')\n",
    "mpl.style.use('fivethirtyeight')\n",
    "from cycler import cycler\n",
    "mpl.rcParams['axes.prop_cycle'] = cycler(color='bgrcmyk')\n",
    "\n",
    "from Modules.Homer import *\n",
    "\n",
    "print('Number of tissues: ',len(tissues))"
   ]
  },
  {
   "cell_type": "markdown",
   "metadata": {
    "deletable": false,
    "editable": false,
    "run_control": {
     "frozen": true
    }
   },
   "source": [
    "### Merge based on any sample file (so replicates are treated separately)\n",
    "#### And annotate"
   ]
  },
  {
   "cell_type": "code",
   "execution_count": null,
   "metadata": {
    "scrolled": true
   },
   "outputs": [
    {
     "name": "stdout",
     "output_type": "stream",
     "text": [
      "mergePeaks -d given -venn Results/merged/duplicatesSeparate_peaks_merged.tsv_venn.tsv -matrix Results/merged/duplicatesSeparate_peaks_merged.tsv -strand /data/isshamie/TSS/Processed/BMDM1hKLA/GRO/f04_peaks/trim_CHBMDM1hKLA_5GRO_JHS1034_SD_AGTCAA_S49_L003_R1_001.fastq_and_trim_CHBMDM1hKLA_GRO_JHS1027_SD_CAAAAG_S42_L003_R1_001.fastq_bg_2.peak /data/isshamie/TSS/Processed/BMDMwt/GRO/f04_peaks/trim_CHBMDMwt_5GRO_JHS1033_SD_TAGCTT_S48_L003_R1_001.fastq_and_trim_CHBMDMwt_GRO_JHS1026_SD_ATTCCT_S41_L003_R1_001.fastq_bg_2.peak /data/isshamie/TSS/Processed/Brain/GRO/f04_peaks/trim_CHBrain_5GRO_JHS1036_SD_ATGTCA_S51_L003_R1_001.fastq_and_trim_CHBrain_GRO_JHS1029_SD_CACCGG_S44_L003_R1_001.fastq_bg_2.peak /data/isshamie/TSS/Processed/Brain/mSTART/f04_peaks/trim_CHBrain_mSTART_JHS1057_SD_ATTCCT_S79_L004_R1_001.fastq_and_trim_CHBrain_mSTARTinput_JHS1078_SD_ATTCCT_S100_L005_R1_001.fastq_bg_2.peak /data/isshamie/TSS/Processed/Brain/mSTART/f04_peaks/trim_CHBrain_mSTART_JHS1016_SD_GTAGAG_S28_L002_R1_001.fastq_and_trim_CHBrain_mSTARTinput_JHS1078_SD_ATTCCT_S100_L005_R1_001.fastq_bg_2.peak /data/isshamie/TSS/Processed/Heart/mSTART/f04_peaks/trim_CHHeart_mSTART_JHS1056_SD_ATGAGC_S78_L004_R1_001.fastq_and_trim_CHHeart_mSTARTinput_JHS1077_SD_ATGAGC_S99_L005_R1_001.fastq_bg_2.peak /data/isshamie/TSS/Processed/Heart/mSTART/f04_peaks/trim_CHHeart_mSTART_JHS1013_SD_AGTTCC_S25_L002_R1_001.fastq_and_trim_CHHeart_mSTARTinput_JHS1077_SD_ATGAGC_S99_L005_R1_001.fastq_bg_2.peak /data/isshamie/TSS/Processed/Kidney/GRO/f04_peaks/trim_CHKidney_5GRO_JHS1035_SD_AGTTCC_S50_L003_R1_001.fastq_and_trim_CHKidney_GRO_JHS1028_SD_CAACTA_S43_L003_R1_001.fastq_bg_2.peak /data/isshamie/TSS/Processed/Kidney/mSTART/f04_peaks/trim_CHKidney_mSTART_JHS1022_SD_GAGTGG_S34_L002_R1_001.fastq_and_trim_CHKidney_mSTARTinput_JHS1080_SD_CAACTA_S102_L005_R1_001.fastq_bg_2.peak /data/isshamie/TSS/Processed/Kidney/mSTART/f04_peaks/trim_CHKidney_mSTART_JHS1059_SD_CAACTA_S81_L004_R1_001.fastq_and_trim_CHKidney_mSTARTinput_JHS1080_SD_CAACTA_S102_L005_R1_001.fastq_bg_2.peak /data/isshamie/TSS/Processed/Liver/GRO/f04_peaks/trim_CHLiver_5GRO_JHS1038_SD_GTAGAG_S53_L003_R1_001.fastq_and_trim_CHLiver_GRO_JHS1031_SD_TAATCG_S46_L003_R1_001.fastq_bg_2.peak /data/isshamie/TSS/Processed/Liver/mSTART/f04_peaks/trim_CHLiver_mSTART_JHS1055_SD_ACTGAT_S77_L004_R1_001.fastq_and_trim_CHLiver_mSTARTinput_JHS1076_SD_ACTGAT_S98_L005_R1_001.fastq_bg_2.peak /data/isshamie/TSS/Processed/Liver/mSTART/f04_peaks/trim_CHLiver_mSTART_JHS1015_SD_CCGTCC_S27_L002_R1_001.fastq_and_trim_CHLiver_mSTARTinput_JHS1076_SD_ACTGAT_S98_L005_R1_001.fastq_bg_2.peak /data/isshamie/TSS/Processed/Lung/GRO/f04_peaks/trim_CHLung_5GRO_JHS1037_SD_CCGTCC_S52_L003_R1_001.fastq_and_trim_CHLung_GRO_JHS1030_SD_CACGAT_S45_L003_R1_001.fastq_bg_2.peak /data/isshamie/TSS/Processed/Lung/mSTART/f04_peaks/trim_CHLung_mSTART_JHS1054_SD_GGTAGC_S76_L004_R1_001.fastq_and_trim_CHLung_mSTARTinput_JHS1075_SD_GGTAGC_S97_L005_R1_001.fastq_bg_2.peak /data/isshamie/TSS/Processed/Lung/mSTART/f04_peaks/trim_CHLung_mSTART_JHS1020_SD_GTTTCG_S32_L002_R1_001.fastq_and_trim_CHLung_mSTARTinput_JHS1075_SD_GGTAGC_S97_L005_R1_001.fastq_bg_2.peak /data/isshamie/TSS/Processed/Muscle/mSTART/f04_peaks/trim_CHMuscle_mSTART_JHS1058_SD_CAAAAG_S80_L004_R1_001.fastq_and_trim_CHMuscle_mSTARTinput_JHS1079_SD_CAAAAG_S101_L005_R1_001.fastq_bg_2.peak /data/isshamie/TSS/Processed/Muscle/mSTART/f04_peaks/trim_CHMuscle_mSTART_JHS1019_SD_GTGGCC_S31_L002_R1_001.fastq_and_trim_CHMuscle_mSTARTinput_JHS1079_SD_CAAAAG_S101_L005_R1_001.fastq_bg_2.peak /data/isshamie/TSS/Processed/Pancreas/mSTART/f04_peaks/trim_CHPancreas_mSTART_JHS1051_SD_GTTTCG_S73_L004_R1_001.fastq_and_trim_CHPancreas_mSTARTinput_JHS1072_SD_GTTTCG_S94_L005_R1_001.fastq_bg_2.peak /data/isshamie/TSS/Processed/Pancreas/mSTART/f04_peaks/trim_CHPancreas_mSTART_JHS1014_SD_ATGTCA_S26_L002_R1_001.fastq_and_trim_CHPancreas_mSTARTinput_JHS1072_SD_GTTTCG_S94_L005_R1_001.fastq_bg_2.peak /data/isshamie/TSS/Processed/Spleen/GRO/f04_peaks/trim_CHBloondnegSpleen_5GRO_JHS1039_SD_GTCCGC_S54_L003_R1_001.fastq_and_trim_CHBloondnegSpleen_GRO_JHS1032_SD_TCCCGA_S47_L003_R1_001.fastq_bg_2.peak /data/isshamie/TSS/Processed/Spleen/mSTART/f04_peaks/trim_CHSpleednegBlood_mSTART_JHS1017_SD_GTCCGC_S29_L002_R1_001.fastq_and_trim_CHSpleen_mSTARTinput_JHS1074_SD_GAGTGG_S96_L005_R1_001.fastq_bg_2.peak /data/isshamie/TSS/Processed/Spleen/mSTART/f04_peaks/trim_CHSpleen_mSTART_JHS1053_SD_GAGTGG_S75_L004_R1_001.fastq_and_trim_CHSpleen_mSTARTinput_JHS1074_SD_GAGTGG_S96_L005_R1_001.fastq_bg_2.peak /data/isshamie/TSS/Processed/CHO/GRO/f04_peaks/trim_CHO-5GRO-SD367_S6_R1_001.fastq_and_trim_CHO-GRO-SD369_S8_R1_001.fastq_bg_2.peak /data/isshamie/TSS/Processed/CHO/GRO/f04_peaks/trim_CHO-5GRO-SD367_S6_R1_001.fastq_and_trim_CHO-GRO-SD370_S9_R1_001.fastq_bg_2.peak /data/isshamie/TSS/Processed/CHO/GRO/f04_peaks/trim_CHO-5GRO-SD371_S10_R1_001.fastq_and_trim_CHO-GRO-SD369_S8_R1_001.fastq_bg_2.peak /data/isshamie/TSS/Processed/CHO/GRO/f04_peaks/trim_CHO-5GRO-SD371_S10_R1_001.fastq_and_trim_CHO-GRO-SD370_S9_R1_001.fastq_bg_2.peak /data/isshamie/TSS/Processed/CHO/mSTART/f04_peaks/trim_CHO--mSTART-JHS823_S21_R1_001.fastq_and_trim_CHO--mSTART_input-JHS802_S11_R1_001.fastq_bg_2.peak > Results/merged/duplicatesSeparate_peaks_merged.tsv\n"
     ]
    }
   ],
   "source": [
    "all_peak_merge_files = []\n",
    "\n",
    "for curr_tissue in tissues:\n",
    "    curr_raw = glob.glob(data_folder + curr_tissue + '/*/')\n",
    "    for j in curr_raw:\n",
    "        curr_type = j.split('/')[-2]  \n",
    "        if not curr_type == 'ATAC':\n",
    "            count = 1\n",
    "            for f in  glob.glob(j + '*f04_peaks/trim*.peak'):\n",
    "                all_peak_merge_files.append(f)\n",
    "\n",
    "output_file = 'Results/merged/duplicatesSeparate_peaks_merged.tsv'                \n",
    "merge_peaks(all_peak_merge_files,output_file,dist='given')\n",
    "output_anno_file = 'Results/merged/duplicateSeparate_peaks_merged_anno.tsv' \n",
    "annotate_peaks(peak_file=output_file,output_file=output_anno_file ,ref_fa=ref_fa,annotation=annotation)"
   ]
  }
 ],
 "metadata": {
  "kernelspec": {
   "display_name": "Python 2",
   "language": "python",
   "name": "python2"
  },
  "language_info": {
   "codemirror_mode": {
    "name": "ipython",
    "version": 2
   },
   "file_extension": ".py",
   "mimetype": "text/x-python",
   "name": "python",
   "nbconvert_exporter": "python",
   "pygments_lexer": "ipython2",
   "version": "2.7.13"
  }
 },
 "nbformat": 4,
 "nbformat_minor": 2
}
