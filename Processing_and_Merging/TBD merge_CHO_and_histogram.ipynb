{
 "cells": [
  {
   "cell_type": "markdown",
   "metadata": {},
   "source": [
    "# 1. Params and loading packages"
   ]
  },
  {
   "cell_type": "code",
   "execution_count": 1,
   "metadata": {
    "ExecuteTime": {
     "end_time": "2018-09-17T23:59:00.819625Z",
     "start_time": "2018-09-17T23:59:00.812777Z"
    },
    "collapsed": true
   },
   "outputs": [],
   "source": [
    "## First go back up a folder \n",
    "import os\n",
    "os.chdir('..')"
   ]
  },
  {
   "cell_type": "code",
   "execution_count": 2,
   "metadata": {
    "ExecuteTime": {
     "end_time": "2018-09-17T23:59:02.659380Z",
     "start_time": "2018-09-17T23:59:02.555021Z"
    },
    "collapsed": true
   },
   "outputs": [],
   "source": [
    "## Parameters specific to where your folders are and your data\n",
    "parameter_file = 'params/params.yaml'\n",
    "import yaml\n",
    "import sys\n",
    "\n",
    "with open(parameter_file,'r') as f:\n",
    "    doc = yaml.load(f)\n",
    "\n",
    "#p = dic2obj(**doc)\n",
    "\n",
    "data_folder = doc['data_folder']\n",
    "tissues = doc['tissues'].split(',')\n",
    "sys.path.append(doc['pipeline_path'])\n",
    "ref_fa = doc['ref_fa']\n",
    "annotation=doc['annotation']\n",
    "\n"
   ]
  },
  {
   "cell_type": "code",
   "execution_count": 3,
   "metadata": {
    "ExecuteTime": {
     "end_time": "2018-09-17T23:59:05.056957Z",
     "start_time": "2018-09-17T23:59:03.648891Z"
    }
   },
   "outputs": [
    {
     "name": "stdout",
     "output_type": "stream",
     "text": [
      "('Number of tissues: ', 16)\n"
     ]
    }
   ],
   "source": [
    "\n",
    "import sys\n",
    "import pandas as pd\n",
    "import matplotlib\n",
    "import seaborn as sns\n",
    "import pickle\n",
    "import numpy as np\n",
    "import matplotlib as mpl\n",
    "from matplotlib import pyplot as plt\n",
    "from itertools import product\n",
    "import glob\n",
    "import re\n",
    "from matplotlib_venn import venn2\n",
    "from matplotlib import rcParams\n",
    "import inspect\n",
    "%matplotlib inline\n",
    "%config InlineBackend.figure_format = 'retina'\n",
    "sys.setrecursionlimit(3000)\n",
    "%load_ext autoreload\n",
    "%autoreload 2\n",
    "rcParams['figure.figsize'] = 8, 6\n",
    "import tqdm\n",
    "### notebook specific configuration ###\n",
    "from os.path import basename\n",
    "#mpl.style.use('ggplot')\n",
    "mpl.style.use('fivethirtyeight')\n",
    "from cycler import cycler\n",
    "mpl.rcParams['axes.prop_cycle'] = cycler(color='bgrcmyk')\n",
    "\n",
    "from Modules.Homer import *\n",
    "\n",
    "print('Number of tissues: ',len(tissues))"
   ]
  },
  {
   "cell_type": "markdown",
   "metadata": {
    "deletable": false,
    "editable": false,
    "run_control": {
     "frozen": true
    }
   },
   "source": [
    "## Merge CHO all GRO and mSTART"
   ]
  },
  {
   "cell_type": "code",
   "execution_count": 4,
   "metadata": {
    "ExecuteTime": {
     "end_time": "2018-09-18T00:01:34.616649Z",
     "start_time": "2018-09-17T23:59:11.915358Z"
    }
   },
   "outputs": [
    {
     "name": "stdout",
     "output_type": "stream",
     "text": [
      "mergePeaks -d given -venn Results/merged/CHO_samples_peaks_merged.tsv_venn.tsv -matrix Results/merged/CHO_samples_peaks_merged.tsv -strand /data/isshamie/TSS/Processed/CHO/GRO/f04_peaks/trim_CHO-5GRO-SD367_S6_R1_001.fastq_and_trim_CHO-GRO-SD369_S8_R1_001.fastq_bg_2.peak /data/isshamie/TSS/Processed/CHO/GRO/f04_peaks/trim_CHO-5GRO-SD367_S6_R1_001.fastq_and_trim_CHO-GRO-SD370_S9_R1_001.fastq_bg_2.peak /data/isshamie/TSS/Processed/CHO/GRO/f04_peaks/trim_CHO-5GRO-SD371_S10_R1_001.fastq_and_trim_CHO-GRO-SD369_S8_R1_001.fastq_bg_2.peak /data/isshamie/TSS/Processed/CHO/GRO/f04_peaks/trim_CHO-5GRO-SD371_S10_R1_001.fastq_and_trim_CHO-GRO-SD370_S9_R1_001.fastq_bg_2.peak /data/isshamie/TSS/Processed/CHO/mSTART/f04_peaks/trim_CHO--mSTART-JHS823_S21_R1_001.fastq_and_trim_CHO--mSTART_input-JHS802_S11_R1_001.fastq_bg_2.peak > Results/merged/CHO_samples_peaks_merged.tsv\n",
      "annotatePeaks.pl Results/merged/CHO_samples_peaks_merged.tsv /data/isshamie/genome/picr.fa -gff /data/isshamie/genome/updated_final_sort.gff3 > Results/merged/CHO_samples_peaks_merged_anno.tsv\n"
     ]
    }
   ],
   "source": [
    "all_peak_merge_files = []\n",
    "curr_tissue ='CHO'\n",
    "curr_raw = glob.glob(data_folder + curr_tissue + '/*/')\n",
    "for j in curr_raw:\n",
    "    curr_type = j.split('/')[-2]  \n",
    "    if not curr_type == 'ATAC':\n",
    "        count = 1\n",
    "        for f in  glob.glob(j + '*f04_peaks/trim*.peak'):\n",
    "            all_peak_merge_files.append(f)\n",
    "\n",
    "output_file = 'Results/merged/CHO_samples_peaks_merged.tsv'                \n",
    "merge_peaks(all_peak_merge_files,output_file,dist='given')\n",
    "output_anno_file = 'Results/merged/CHO_samples_peaks_merged_anno.tsv' \n",
    "annotate_peaks(peak_file=output_file,output_file=output_anno_file ,ref_fa=ref_fa,annotation=annotation)"
   ]
  },
  {
   "cell_type": "markdown",
   "metadata": {
    "deletable": false,
    "editable": false,
    "run_control": {
     "frozen": true
    }
   },
   "source": [
    "## Use merged peaks to make histograms"
   ]
  },
  {
   "cell_type": "code",
   "execution_count": 5,
   "metadata": {
    "ExecuteTime": {
     "end_time": "2018-09-18T00:01:34.669936Z",
     "start_time": "2018-09-18T00:01:34.621425Z"
    },
    "collapsed": true
   },
   "outputs": [],
   "source": [
    "anno_file = 'Results/merged/CHO_samples_peaks_merged_anno.tsv'\n",
    "mRNA_peak_file= doc[\"mRNA_peak_file\"] #\"/data/isshamie/CH_tissue_TSS/mRNA.peak\"\n",
    "distance_from_promoter = 1000\n",
    "\n",
    "out_folder = 'Results/merged'"
   ]
  },
  {
   "cell_type": "code",
   "execution_count": null,
   "metadata": {
    "collapsed": true
   },
   "outputs": [],
   "source": []
  },
  {
   "cell_type": "code",
   "execution_count": 6,
   "metadata": {
    "ExecuteTime": {
     "end_time": "2018-09-18T00:01:34.831638Z",
     "start_time": "2018-09-18T00:01:34.672919Z"
    }
   },
   "outputs": [
    {
     "ename": "NameError",
     "evalue": "name 'anno_peak' is not defined",
     "output_type": "error",
     "traceback": [
      "\u001b[0;31m---------------------------------------------------------------------------\u001b[0m",
      "\u001b[0;31mNameError\u001b[0m                                 Traceback (most recent call last)",
      "\u001b[0;32m<ipython-input-6-cddc39b841d3>\u001b[0m in \u001b[0;36m<module>\u001b[0;34m()\u001b[0m\n\u001b[0;32m----> 1\u001b[0;31m \u001b[0manno_peak\u001b[0m\u001b[0;34m(\u001b[0m\u001b[0minput_file\u001b[0m\u001b[0;34m,\u001b[0m\u001b[0moutput_file\u001b[0m\u001b[0;34m)\u001b[0m\u001b[0;34m\u001b[0m\u001b[0m\n\u001b[0m\u001b[1;32m      2\u001b[0m \u001b[0mpeak_cov_hist\u001b[0m\u001b[0;34m(\u001b[0m\u001b[0minput_file\u001b[0m\u001b[0;34m,\u001b[0m\u001b[0moutput_file\u001b[0m\u001b[0;34m,\u001b[0m\u001b[0mpc\u001b[0m\u001b[0;34m=\u001b[0m\u001b[0;36m0\u001b[0m\u001b[0;34m)\u001b[0m\u001b[0;34m\u001b[0m\u001b[0m\n\u001b[1;32m      3\u001b[0m \u001b[0mpeak_cov_hist_mrna\u001b[0m\u001b[0;34m(\u001b[0m\u001b[0minput_file\u001b[0m\u001b[0;34m,\u001b[0m\u001b[0moutput_file\u001b[0m\u001b[0;34m,\u001b[0m\u001b[0mpc\u001b[0m\u001b[0;34m=\u001b[0m\u001b[0;36m0\u001b[0m\u001b[0;34m)\u001b[0m\u001b[0;34m\u001b[0m\u001b[0m\n\u001b[1;32m      4\u001b[0m \u001b[0mpeak_cov_hist_anno\u001b[0m\u001b[0;34m(\u001b[0m\u001b[0minput_file\u001b[0m\u001b[0;34m,\u001b[0m\u001b[0moutput_file\u001b[0m\u001b[0;34m,\u001b[0m\u001b[0mpc\u001b[0m\u001b[0;34m=\u001b[0m\u001b[0;36m0\u001b[0m\u001b[0;34m)\u001b[0m\u001b[0;34m\u001b[0m\u001b[0m\n",
      "\u001b[0;31mNameError\u001b[0m: name 'anno_peak' is not defined"
     ]
    }
   ],
   "source": [
    "anno_peak(input_file,output_file)\n",
    "peak_cov_hist(input_file,output_file,pc=0)\n",
    "peak_cov_hist_mrna(input_file,output_file,pc=0)\n",
    "peak_cov_hist_anno(input_file,output_file,pc=0)"
   ]
  }
 ],
 "metadata": {
  "kernelspec": {
   "display_name": "Python 2",
   "language": "python",
   "name": "python2"
  },
  "language_info": {
   "codemirror_mode": {
    "name": "ipython",
    "version": 2
   },
   "file_extension": ".py",
   "mimetype": "text/x-python",
   "name": "python",
   "nbconvert_exporter": "python",
   "pygments_lexer": "ipython2",
   "version": "2.7.13"
  }
 },
 "nbformat": 4,
 "nbformat_minor": 2
}
