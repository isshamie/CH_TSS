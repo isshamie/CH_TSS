{
 "cells": [
  {
   "cell_type": "code",
   "execution_count": 1,
   "metadata": {
    "collapsed": true
   },
   "outputs": [],
   "source": [
    "import pandas as pd"
   ]
  },
  {
   "cell_type": "code",
   "execution_count": 2,
   "metadata": {
    "collapsed": true
   },
   "outputs": [],
   "source": [
    "peaks = pd.read_csv('Results/merged/duplicateSeparate_peaks_merged_anno.tsv',sep='\\t')"
   ]
  },
  {
   "cell_type": "code",
   "execution_count": 3,
   "metadata": {},
   "outputs": [
    {
     "data": {
      "text/html": [
       "<div>\n",
       "<style scoped>\n",
       "    .dataframe tbody tr th:only-of-type {\n",
       "        vertical-align: middle;\n",
       "    }\n",
       "\n",
       "    .dataframe tbody tr th {\n",
       "        vertical-align: top;\n",
       "    }\n",
       "\n",
       "    .dataframe thead th {\n",
       "        text-align: right;\n",
       "    }\n",
       "</style>\n",
       "<table border=\"1\" class=\"dataframe\">\n",
       "  <thead>\n",
       "    <tr style=\"text-align: right;\">\n",
       "      <th></th>\n",
       "      <th>PeakID (cmd=annotatePeaks.pl Results/merged/duplicatesSeparate_peaks_merged.tsv /data/isshamie/genome/picr.fa -gff /data/isshamie/genome/updated_final_sort.gff3)</th>\n",
       "      <th>Chr</th>\n",
       "      <th>Start</th>\n",
       "      <th>End</th>\n",
       "      <th>Strand</th>\n",
       "      <th>Peak Score</th>\n",
       "      <th>Focus Ratio/Region Size</th>\n",
       "      <th>Annotation</th>\n",
       "      <th>Detailed Annotation</th>\n",
       "      <th>Distance to TSS</th>\n",
       "      <th>Nearest PromoterID</th>\n",
       "      <th>Entrez ID</th>\n",
       "      <th>Nearest Unigene</th>\n",
       "      <th>Nearest Refseq</th>\n",
       "      <th>Nearest Ensembl</th>\n",
       "      <th>Gene Name</th>\n",
       "      <th>Gene Alias</th>\n",
       "      <th>Gene Description</th>\n",
       "      <th>Gene Type</th>\n",
       "    </tr>\n",
       "  </thead>\n",
       "  <tbody>\n",
       "    <tr>\n",
       "      <th>0</th>\n",
       "      <td>Merged-picr_48-1084706-22</td>\n",
       "      <td>picr_48</td>\n",
       "      <td>1084630</td>\n",
       "      <td>1084782</td>\n",
       "      <td>+</td>\n",
       "      <td>67521.914062</td>\n",
       "      <td>/data/isshamie/TSS/Processed/BMDMwt/GRO/f04_pe...</td>\n",
       "      <td>TTS (ID=asmbl_56918.exon2;Parent=asmbl_56918;g...</td>\n",
       "      <td>NaN</td>\n",
       "      <td>162.0</td>\n",
       "      <td>ID=asmbl_56918.exon2;Parent=asmbl_56918;gene_i...</td>\n",
       "      <td>NaN</td>\n",
       "      <td>NaN</td>\n",
       "      <td>NaN</td>\n",
       "      <td>NaN</td>\n",
       "      <td>NaN</td>\n",
       "      <td>NaN</td>\n",
       "      <td>NaN</td>\n",
       "      <td>NaN</td>\n",
       "    </tr>\n",
       "    <tr>\n",
       "      <th>1</th>\n",
       "      <td>Merged-picr_33-4827738-19</td>\n",
       "      <td>picr_33</td>\n",
       "      <td>4827637</td>\n",
       "      <td>4827815</td>\n",
       "      <td>+</td>\n",
       "      <td>19773.365234</td>\n",
       "      <td>/data/isshamie/TSS/Processed/Brain/mSTART/f04_...</td>\n",
       "      <td>promoter-TSS (ID=asmbl_45526.exon1;Parent=asmb...</td>\n",
       "      <td>NaN</td>\n",
       "      <td>4.0</td>\n",
       "      <td>ID=asmbl_45526.exon1;Parent=asmbl_45526;gene_i...</td>\n",
       "      <td>NaN</td>\n",
       "      <td>NaN</td>\n",
       "      <td>NaN</td>\n",
       "      <td>NaN</td>\n",
       "      <td>NaN</td>\n",
       "      <td>NaN</td>\n",
       "      <td>NaN</td>\n",
       "      <td>NaN</td>\n",
       "    </tr>\n",
       "    <tr>\n",
       "      <th>2</th>\n",
       "      <td>Merged-picr_117-401923-20</td>\n",
       "      <td>picr_117</td>\n",
       "      <td>401845</td>\n",
       "      <td>402000</td>\n",
       "      <td>-</td>\n",
       "      <td>18618.664062</td>\n",
       "      <td>/data/isshamie/TSS/Processed/BMDMwt/GRO/f04_pe...</td>\n",
       "      <td>promoter-TSS (ID=asmbl_11712.exon13;Parent=asm...</td>\n",
       "      <td>NaN</td>\n",
       "      <td>-549.0</td>\n",
       "      <td>ID=asmbl_11713.exon23;Parent=asmbl_11713;gene_...</td>\n",
       "      <td>NaN</td>\n",
       "      <td>NaN</td>\n",
       "      <td>NaN</td>\n",
       "      <td>NaN</td>\n",
       "      <td>NaN</td>\n",
       "      <td>NaN</td>\n",
       "      <td>NaN</td>\n",
       "      <td>NaN</td>\n",
       "    </tr>\n",
       "    <tr>\n",
       "      <th>3</th>\n",
       "      <td>Merged-picr_35-689697-9</td>\n",
       "      <td>picr_35</td>\n",
       "      <td>689618</td>\n",
       "      <td>689773</td>\n",
       "      <td>-</td>\n",
       "      <td>17276.855469</td>\n",
       "      <td>/data/isshamie/TSS/Processed/BMDMwt/GRO/f04_pe...</td>\n",
       "      <td>promoter-TSS (ID=asmbl_46772.exon9;Parent=asmb...</td>\n",
       "      <td>NaN</td>\n",
       "      <td>91.0</td>\n",
       "      <td>ID=asmbl_46772.exon8;Parent=asmbl_46772;gene_i...</td>\n",
       "      <td>NaN</td>\n",
       "      <td>NaN</td>\n",
       "      <td>NaN</td>\n",
       "      <td>NaN</td>\n",
       "      <td>NaN</td>\n",
       "      <td>NaN</td>\n",
       "      <td>NaN</td>\n",
       "      <td>NaN</td>\n",
       "    </tr>\n",
       "    <tr>\n",
       "      <th>4</th>\n",
       "      <td>Merged-picr_146-1769374-8</td>\n",
       "      <td>picr_146</td>\n",
       "      <td>1769295</td>\n",
       "      <td>1769459</td>\n",
       "      <td>+</td>\n",
       "      <td>11249.129883</td>\n",
       "      <td>/data/isshamie/TSS/Processed/Kidney/mSTART/f04...</td>\n",
       "      <td>exon (ID=asmbl_21333.exon1;Parent=asmbl_21333;...</td>\n",
       "      <td>NaN</td>\n",
       "      <td>933.0</td>\n",
       "      <td>ID=asmbl_21333.exon1;Parent=asmbl_21333;gene_i...</td>\n",
       "      <td>NaN</td>\n",
       "      <td>NaN</td>\n",
       "      <td>NaN</td>\n",
       "      <td>NaN</td>\n",
       "      <td>NaN</td>\n",
       "      <td>NaN</td>\n",
       "      <td>NaN</td>\n",
       "      <td>NaN</td>\n",
       "    </tr>\n",
       "  </tbody>\n",
       "</table>\n",
       "</div>"
      ],
      "text/plain": [
       "  PeakID (cmd=annotatePeaks.pl Results/merged/duplicatesSeparate_peaks_merged.tsv /data/isshamie/genome/picr.fa -gff /data/isshamie/genome/updated_final_sort.gff3)  \\\n",
       "0                          Merged-picr_48-1084706-22                                                                                                                  \n",
       "1                          Merged-picr_33-4827738-19                                                                                                                  \n",
       "2                          Merged-picr_117-401923-20                                                                                                                  \n",
       "3                            Merged-picr_35-689697-9                                                                                                                  \n",
       "4                          Merged-picr_146-1769374-8                                                                                                                  \n",
       "\n",
       "        Chr    Start      End Strand    Peak Score  \\\n",
       "0   picr_48  1084630  1084782      +  67521.914062   \n",
       "1   picr_33  4827637  4827815      +  19773.365234   \n",
       "2  picr_117   401845   402000      -  18618.664062   \n",
       "3   picr_35   689618   689773      -  17276.855469   \n",
       "4  picr_146  1769295  1769459      +  11249.129883   \n",
       "\n",
       "                             Focus Ratio/Region Size  \\\n",
       "0  /data/isshamie/TSS/Processed/BMDMwt/GRO/f04_pe...   \n",
       "1  /data/isshamie/TSS/Processed/Brain/mSTART/f04_...   \n",
       "2  /data/isshamie/TSS/Processed/BMDMwt/GRO/f04_pe...   \n",
       "3  /data/isshamie/TSS/Processed/BMDMwt/GRO/f04_pe...   \n",
       "4  /data/isshamie/TSS/Processed/Kidney/mSTART/f04...   \n",
       "\n",
       "                                          Annotation  Detailed Annotation  \\\n",
       "0  TTS (ID=asmbl_56918.exon2;Parent=asmbl_56918;g...                  NaN   \n",
       "1  promoter-TSS (ID=asmbl_45526.exon1;Parent=asmb...                  NaN   \n",
       "2  promoter-TSS (ID=asmbl_11712.exon13;Parent=asm...                  NaN   \n",
       "3  promoter-TSS (ID=asmbl_46772.exon9;Parent=asmb...                  NaN   \n",
       "4  exon (ID=asmbl_21333.exon1;Parent=asmbl_21333;...                  NaN   \n",
       "\n",
       "   Distance to TSS                                 Nearest PromoterID  \\\n",
       "0            162.0  ID=asmbl_56918.exon2;Parent=asmbl_56918;gene_i...   \n",
       "1              4.0  ID=asmbl_45526.exon1;Parent=asmbl_45526;gene_i...   \n",
       "2           -549.0  ID=asmbl_11713.exon23;Parent=asmbl_11713;gene_...   \n",
       "3             91.0  ID=asmbl_46772.exon8;Parent=asmbl_46772;gene_i...   \n",
       "4            933.0  ID=asmbl_21333.exon1;Parent=asmbl_21333;gene_i...   \n",
       "\n",
       "   Entrez ID  Nearest Unigene  Nearest Refseq  Nearest Ensembl  Gene Name  \\\n",
       "0        NaN              NaN             NaN              NaN        NaN   \n",
       "1        NaN              NaN             NaN              NaN        NaN   \n",
       "2        NaN              NaN             NaN              NaN        NaN   \n",
       "3        NaN              NaN             NaN              NaN        NaN   \n",
       "4        NaN              NaN             NaN              NaN        NaN   \n",
       "\n",
       "   Gene Alias  Gene Description  Gene Type  \n",
       "0         NaN               NaN        NaN  \n",
       "1         NaN               NaN        NaN  \n",
       "2         NaN               NaN        NaN  \n",
       "3         NaN               NaN        NaN  \n",
       "4         NaN               NaN        NaN  "
      ]
     },
     "execution_count": 3,
     "metadata": {},
     "output_type": "execute_result"
    }
   ],
   "source": [
    "peaks.head()"
   ]
  },
  {
   "cell_type": "code",
   "execution_count": 4,
   "metadata": {
    "collapsed": true
   },
   "outputs": [],
   "source": [
    "peaks['Length'] = peaks['End'] - peaks['Start']"
   ]
  },
  {
   "cell_type": "code",
   "execution_count": 6,
   "metadata": {
    "collapsed": true
   },
   "outputs": [],
   "source": [
    "import seaborn as sns"
   ]
  },
  {
   "cell_type": "code",
   "execution_count": 9,
   "metadata": {},
   "outputs": [],
   "source": [
    "%matplotlib inline"
   ]
  },
  {
   "cell_type": "code",
   "execution_count": 10,
   "metadata": {},
   "outputs": [
    {
     "data": {
      "text/plain": [
       "<matplotlib.axes._subplots.AxesSubplot at 0x7ff2fe8771d0>"
      ]
     },
     "execution_count": 10,
     "metadata": {},
     "output_type": "execute_result"
    },
    {
     "data": {
      "image/png": "[encoded data removed]",
      "text/plain": [
       "<matplotlib.figure.Figure at 0x7ff2fe86da10>"
      ]
     },
     "metadata": {},
     "output_type": "display_data"
    }
   ],
   "source": [
    "sns.distplot(peaks['Length'])"
   ]
  },
  {
   "cell_type": "code",
   "execution_count": 11,
   "metadata": {
    "scrolled": true
   },
   "outputs": [
    {
     "data": {
      "text/plain": [
       "(470183, 20)"
      ]
     },
     "execution_count": 11,
     "metadata": {},
     "output_type": "execute_result"
    }
   ],
   "source": [
    "peaks.shape"
   ]
  },
  {
   "cell_type": "code",
   "execution_count": 17,
   "metadata": {},
   "outputs": [],
   "source": [
    "import numpy as np"
   ]
  },
  {
   "cell_type": "code",
   "execution_count": 19,
   "metadata": {},
   "outputs": [
    {
     "name": "stdout",
     "output_type": "stream",
     "text": [
      "('Number less than 150 bp', 650)\n",
      "('Number less than 50 bp', 546)\n",
      "('Average length: ', 167.88663562910611)\n"
     ]
    }
   ],
   "source": [
    "print('Number less than 150 bp',np.sum(peaks['Length']<150))\n",
    "print('Number less than 50 bp',np.sum(peaks['Length']<50))\n",
    "print('Average length: ',np.mean(peaks['Length']))\n",
    "      \n"
   ]
  },
  {
   "cell_type": "code",
   "execution_count": null,
   "metadata": {
    "collapsed": true
   },
   "outputs": [],
   "source": []
  }
 ],
 "metadata": {
  "kernelspec": {
   "display_name": "Python 2",
   "language": "python",
   "name": "python2"
  },
  "language_info": {
   "codemirror_mode": {
    "name": "ipython",
    "version": 2
   },
   "file_extension": ".py",
   "mimetype": "text/x-python",
   "name": "python",
   "nbconvert_exporter": "python",
   "pygments_lexer": "ipython2",
   "version": "2.7.13"
  }
 },
 "nbformat": 4,
 "nbformat_minor": 2
}
