{
 "cells": [
  {
   "cell_type": "markdown",
   "metadata": {},
   "source": [
    "## Distance to Annotation"
   ]
  },
  {
   "cell_type": "code",
   "execution_count": 1,
   "metadata": {
    "ExecuteTime": {
     "end_time": "2020-05-18T18:52:18.133599Z",
     "start_time": "2020-05-18T18:52:17.128943Z"
    }
   },
   "outputs": [
    {
     "name": "stderr",
     "output_type": "stream",
     "text": [
      "/home/isshamie/software/anaconda2/envs/TSS/lib/python3.7/site-packages/ipykernel_launcher.py:7: YAMLLoadWarning: calling yaml.load() without Loader=... is deprecated, as the default Loader is unsafe. Please read https://msg.pyyaml.org/load for full details.\n",
      "  import sys\n"
     ]
    },
    {
     "name": "stdout",
     "output_type": "stream",
     "text": [
      "params {'PREFIX': 'ncbi_pice_103', 'ROOT_DIR': '/data/isshamie/TSS/', 'DATA_DIR': '/data/isshamie/TSS/NCBI_PICR_103_Processed/', 'DATA_PROCESSED_DIR': '/data/isshamie/TSS/TSS/data/processed/', 'SUPPLEMENTAL_DIR': '/data/isshamie/TSS/Analysis/supplemental/', 'PIPELINE': '/data/isshamie/TSS/tss', 'GENOME_DIR': '/data/isshamie/genome', 'GENOME_FA': '/data/isshamie/genome/picr.fa', 'GENOME_GFF3': '/data/isshamie/genome/updated_final_sort.gff3', 'GENOME_GTF': '/data/isshamie/genome/updated_final_sort.gtf', 'TISSUES': 'BMDM1hKLA,BMDMwt,Brain,FemaleReproductive,Heart,Intestine,', 'META_FILE': '/data/isshamie/TSS/TSS/parameters/raw_metaSamples.tsv'}\n",
      "fig_utils from mplh\n",
      "/data2/resources/software/homer/v4.11_10242019/bin//\n"
     ]
    }
   ],
   "source": [
    "## Parameters specific to where your folders are and your data\n",
    "parameter_file = '../../parameters/params.yaml'\n",
    "import yaml\n",
    "import sys\n",
    "import scipy.stats as stats\n",
    "with open(parameter_file,'r') as f:\n",
    "    doc = yaml.load(f)\n",
    "\n",
    "#p = dic2obj(**doc)\n",
    "\n",
    "#data_folder = doc['data_folder']\n",
    "#tissues = doc['tissues'].split(',')\n",
    "#sys.path.append(doc['pipeline_path'])\n",
    "ref_fa = doc['GENOME_FA']\n",
    "#anno_gff=doc['annotation']\n",
    "\n",
    "\n",
    "import os\n",
    "from os.path import join\n",
    "import sys\n",
    "import pandas as pd\n",
    "import matplotlib\n",
    "import seaborn as sns\n",
    "import pickle\n",
    "import numpy as np\n",
    "import matplotlib as mpl\n",
    "from matplotlib import pyplot as plt\n",
    "from itertools import product\n",
    "import glob\n",
    "import re\n",
    "from matplotlib_venn import venn2\n",
    "from matplotlib import rcParams\n",
    "import inspect\n",
    "%matplotlib inline\n",
    "%config InlineBackend.figure_format = 'retina'\n",
    "sys.setrecursionlimit(3000)\n",
    "%load_ext autoreload\n",
    "%autoreload 2\n",
    "rcParams['figure.figsize'] = 8, 6\n",
    "import tqdm\n",
    "\n",
    "from os.path import basename\n",
    "##mpl.use('Agg')\n",
    "#mpl.style.use('ggplot')\n",
    "#mpl.style.use('fivethirtyeight')\n",
    "from tss.visualize import plot_tss_results \n",
    "from tss.visualize.fig_utils import helper_save\n",
    "## Plotting attributes\n",
    "sns.set_style(\"whitegrid\", {'axes.grid' : False})\n",
    "\n",
    "from tss.data import annotation\n",
    "from tss.visualize.fig_utils import helper_save"
   ]
  },
  {
   "cell_type": "markdown",
   "metadata": {},
   "source": [
    "## Input"
   ]
  },
  {
   "cell_type": "code",
   "execution_count": 2,
   "metadata": {
    "ExecuteTime": {
     "end_time": "2020-05-18T18:52:18.151113Z",
     "start_time": "2020-05-18T18:52:18.135560Z"
    }
   },
   "outputs": [],
   "source": [
    "genome = \"alt\"\n",
    "tss_start = join(genome,'genome','start_site_mRNA.tsv')"
   ]
  },
  {
   "cell_type": "markdown",
   "metadata": {},
   "source": [
    "## Output"
   ]
  },
  {
   "cell_type": "code",
   "execution_count": 3,
   "metadata": {
    "ExecuteTime": {
     "end_time": "2020-05-18T18:52:18.171321Z",
     "start_time": "2020-05-18T18:52:18.153278Z"
    }
   },
   "outputs": [],
   "source": [
    "os.chdir(doc[\"results\"])\n",
    "\n",
    "if not os.path.exists(\"distance_to_anno\"):\n",
    "    os.mkdir(\"distance_to_anno\")\n",
    "dist_to_anno_dir = join(\"distance_to_anno\", genome)\n",
    "if not os.path.exists(dist_to_anno_dir):\n",
    "    os.mkdir(dist_to_anno_dir)\n",
    "\n",
    "#dist_to_anno_dir = join(dist_to_anno_dir, \"distance\")"
   ]
  },
  {
   "cell_type": "code",
   "execution_count": 4,
   "metadata": {
    "ExecuteTime": {
     "end_time": "2020-05-18T18:52:18.471433Z",
     "start_time": "2020-05-18T18:52:18.173222Z"
    },
    "scrolled": true
   },
   "outputs": [
    {
     "data": {
      "text/html": [
       "<div>\n",
       "<style scoped>\n",
       "    .dataframe tbody tr th:only-of-type {\n",
       "        vertical-align: middle;\n",
       "    }\n",
       "\n",
       "    .dataframe tbody tr th {\n",
       "        vertical-align: top;\n",
       "    }\n",
       "\n",
       "    .dataframe thead th {\n",
       "        text-align: right;\n",
       "    }\n",
       "</style>\n",
       "<table border=\"1\" class=\"dataframe\">\n",
       "  <thead>\n",
       "    <tr style=\"text-align: right;\">\n",
       "      <th></th>\n",
       "      <th>Chr</th>\n",
       "      <th>Start</th>\n",
       "      <th>End</th>\n",
       "      <th>Strand</th>\n",
       "      <th>actual_start</th>\n",
       "      <th>ID</th>\n",
       "      <th>Parent</th>\n",
       "      <th>Dbxref</th>\n",
       "      <th>Name</th>\n",
       "      <th>gbkey</th>\n",
       "      <th>...</th>\n",
       "      <th>model_evidence</th>\n",
       "      <th>product</th>\n",
       "      <th>Note</th>\n",
       "      <th>exception</th>\n",
       "      <th>end_range</th>\n",
       "      <th>partial</th>\n",
       "      <th>start_range</th>\n",
       "      <th>inference</th>\n",
       "      <th>Length</th>\n",
       "      <th>transcript_id</th>\n",
       "    </tr>\n",
       "  </thead>\n",
       "  <tbody>\n",
       "    <tr>\n",
       "      <td>XM_027386529.1</td>\n",
       "      <td>NW_020822366.1</td>\n",
       "      <td>722307</td>\n",
       "      <td>722309</td>\n",
       "      <td>-</td>\n",
       "      <td>722308</td>\n",
       "      <td>rna7</td>\n",
       "      <td>gene4</td>\n",
       "      <td>GeneID:100754303,Genbank:XM_027386529.1</td>\n",
       "      <td>XM_027386529.1</td>\n",
       "      <td>mRNA</td>\n",
       "      <td>...</td>\n",
       "      <td>Supporting evidence includes similarity to: 29...</td>\n",
       "      <td>bone morphogenetic protein 4%2C transcript var...</td>\n",
       "      <td>NaN</td>\n",
       "      <td>NaN</td>\n",
       "      <td>NaN</td>\n",
       "      <td>NaN</td>\n",
       "      <td>NaN</td>\n",
       "      <td>NaN</td>\n",
       "      <td>3</td>\n",
       "      <td>XM_027386529.1</td>\n",
       "    </tr>\n",
       "    <tr>\n",
       "      <td>XM_027386528.1</td>\n",
       "      <td>NW_020822366.1</td>\n",
       "      <td>724609</td>\n",
       "      <td>724611</td>\n",
       "      <td>-</td>\n",
       "      <td>724610</td>\n",
       "      <td>rna6</td>\n",
       "      <td>gene4</td>\n",
       "      <td>GeneID:100754303,Genbank:XM_027386528.1</td>\n",
       "      <td>XM_027386528.1</td>\n",
       "      <td>mRNA</td>\n",
       "      <td>...</td>\n",
       "      <td>Supporting evidence includes similarity to: 29...</td>\n",
       "      <td>bone morphogenetic protein 4%2C transcript var...</td>\n",
       "      <td>NaN</td>\n",
       "      <td>NaN</td>\n",
       "      <td>NaN</td>\n",
       "      <td>NaN</td>\n",
       "      <td>NaN</td>\n",
       "      <td>NaN</td>\n",
       "      <td>3</td>\n",
       "      <td>XM_027386528.1</td>\n",
       "    </tr>\n",
       "    <tr>\n",
       "      <td>XM_027386531.1</td>\n",
       "      <td>NW_020822366.1</td>\n",
       "      <td>1085434</td>\n",
       "      <td>1085436</td>\n",
       "      <td>+</td>\n",
       "      <td>1085435</td>\n",
       "      <td>rna10</td>\n",
       "      <td>gene6</td>\n",
       "      <td>GeneID:100752216,Genbank:XM_027386531.1</td>\n",
       "      <td>XM_027386531.1</td>\n",
       "      <td>mRNA</td>\n",
       "      <td>...</td>\n",
       "      <td>Supporting evidence includes similarity to: 5 ...</td>\n",
       "      <td>cyclin dependent kinase inhibitor 3%2C transcr...</td>\n",
       "      <td>NaN</td>\n",
       "      <td>NaN</td>\n",
       "      <td>NaN</td>\n",
       "      <td>NaN</td>\n",
       "      <td>NaN</td>\n",
       "      <td>NaN</td>\n",
       "      <td>3</td>\n",
       "      <td>XM_027386531.1</td>\n",
       "    </tr>\n",
       "    <tr>\n",
       "      <td>XM_027386533.1</td>\n",
       "      <td>NW_020822366.1</td>\n",
       "      <td>1085743</td>\n",
       "      <td>1085745</td>\n",
       "      <td>+</td>\n",
       "      <td>1085744</td>\n",
       "      <td>rna12</td>\n",
       "      <td>gene6</td>\n",
       "      <td>GeneID:100752216,Genbank:XM_027386533.1</td>\n",
       "      <td>XM_027386533.1</td>\n",
       "      <td>mRNA</td>\n",
       "      <td>...</td>\n",
       "      <td>Supporting evidence includes similarity to: 1 ...</td>\n",
       "      <td>cyclin dependent kinase inhibitor 3%2C transcr...</td>\n",
       "      <td>NaN</td>\n",
       "      <td>NaN</td>\n",
       "      <td>NaN</td>\n",
       "      <td>NaN</td>\n",
       "      <td>NaN</td>\n",
       "      <td>NaN</td>\n",
       "      <td>3</td>\n",
       "      <td>XM_027386533.1</td>\n",
       "    </tr>\n",
       "    <tr>\n",
       "      <td>XM_027386534.1</td>\n",
       "      <td>NW_020822366.1</td>\n",
       "      <td>1114412</td>\n",
       "      <td>1114414</td>\n",
       "      <td>-</td>\n",
       "      <td>1114413</td>\n",
       "      <td>rna13</td>\n",
       "      <td>gene7</td>\n",
       "      <td>GeneID:103160710,Genbank:XM_027386534.1</td>\n",
       "      <td>XM_027386534.1</td>\n",
       "      <td>mRNA</td>\n",
       "      <td>...</td>\n",
       "      <td>Supporting evidence includes similarity to: 10...</td>\n",
       "      <td>cornichon family AMPA receptor auxiliary prote...</td>\n",
       "      <td>NaN</td>\n",
       "      <td>NaN</td>\n",
       "      <td>NaN</td>\n",
       "      <td>NaN</td>\n",
       "      <td>NaN</td>\n",
       "      <td>NaN</td>\n",
       "      <td>3</td>\n",
       "      <td>XM_027386534.1</td>\n",
       "    </tr>\n",
       "    <tr>\n",
       "      <td>...</td>\n",
       "      <td>...</td>\n",
       "      <td>...</td>\n",
       "      <td>...</td>\n",
       "      <td>...</td>\n",
       "      <td>...</td>\n",
       "      <td>...</td>\n",
       "      <td>...</td>\n",
       "      <td>...</td>\n",
       "      <td>...</td>\n",
       "      <td>...</td>\n",
       "      <td>...</td>\n",
       "      <td>...</td>\n",
       "      <td>...</td>\n",
       "      <td>...</td>\n",
       "      <td>...</td>\n",
       "      <td>...</td>\n",
       "      <td>...</td>\n",
       "      <td>...</td>\n",
       "      <td>...</td>\n",
       "      <td>...</td>\n",
       "      <td>...</td>\n",
       "    </tr>\n",
       "    <tr>\n",
       "      <td>XM_027434589.1</td>\n",
       "      <td>NW_020824185.1</td>\n",
       "      <td>3892</td>\n",
       "      <td>3894</td>\n",
       "      <td>+</td>\n",
       "      <td>3893</td>\n",
       "      <td>rna56297</td>\n",
       "      <td>gene33008</td>\n",
       "      <td>GeneID:113839146,Genbank:XM_027434589.1</td>\n",
       "      <td>XM_027434589.1</td>\n",
       "      <td>mRNA</td>\n",
       "      <td>...</td>\n",
       "      <td>Supporting evidence includes similarity to: 3 ...</td>\n",
       "      <td>mothers against decapentaplegic homolog 1-like</td>\n",
       "      <td>NaN</td>\n",
       "      <td>NaN</td>\n",
       "      <td>NaN</td>\n",
       "      <td>True</td>\n",
       "      <td>.,3893</td>\n",
       "      <td>NaN</td>\n",
       "      <td>3</td>\n",
       "      <td>XM_027434589.1</td>\n",
       "    </tr>\n",
       "    <tr>\n",
       "      <td>XM_027434591.1</td>\n",
       "      <td>NW_020824186.1</td>\n",
       "      <td>17913</td>\n",
       "      <td>17915</td>\n",
       "      <td>+</td>\n",
       "      <td>17914</td>\n",
       "      <td>rna56298</td>\n",
       "      <td>gene33009</td>\n",
       "      <td>GeneID:113839147,Genbank:XM_027434591.1</td>\n",
       "      <td>XM_027434591.1</td>\n",
       "      <td>mRNA</td>\n",
       "      <td>...</td>\n",
       "      <td>Supporting evidence includes similarity to: 6 ...</td>\n",
       "      <td>PRAME family member 12-like%2C transcript vari...</td>\n",
       "      <td>NaN</td>\n",
       "      <td>NaN</td>\n",
       "      <td>NaN</td>\n",
       "      <td>NaN</td>\n",
       "      <td>NaN</td>\n",
       "      <td>NaN</td>\n",
       "      <td>3</td>\n",
       "      <td>XM_027434591.1</td>\n",
       "    </tr>\n",
       "    <tr>\n",
       "      <td>XM_027434593.1</td>\n",
       "      <td>NW_020824186.1</td>\n",
       "      <td>29431</td>\n",
       "      <td>29433</td>\n",
       "      <td>+</td>\n",
       "      <td>29432</td>\n",
       "      <td>rna56300</td>\n",
       "      <td>gene33010</td>\n",
       "      <td>GeneID:103158952,Genbank:XM_027434593.1</td>\n",
       "      <td>XM_027434593.1</td>\n",
       "      <td>mRNA</td>\n",
       "      <td>...</td>\n",
       "      <td>Supporting evidence includes similarity to: 2 ...</td>\n",
       "      <td>PRAME family member 12-like%2C transcript vari...</td>\n",
       "      <td>NaN</td>\n",
       "      <td>NaN</td>\n",
       "      <td>NaN</td>\n",
       "      <td>NaN</td>\n",
       "      <td>NaN</td>\n",
       "      <td>NaN</td>\n",
       "      <td>3</td>\n",
       "      <td>XM_027434593.1</td>\n",
       "    </tr>\n",
       "    <tr>\n",
       "      <td>XM_027434595.1</td>\n",
       "      <td>NW_020824188.1</td>\n",
       "      <td>2146</td>\n",
       "      <td>2148</td>\n",
       "      <td>+</td>\n",
       "      <td>2147</td>\n",
       "      <td>rna56301</td>\n",
       "      <td>gene33012</td>\n",
       "      <td>GeneID:113839149,Genbank:XM_027434595.1</td>\n",
       "      <td>XM_027434595.1</td>\n",
       "      <td>mRNA</td>\n",
       "      <td>...</td>\n",
       "      <td>Supporting evidence includes similarity to: 25...</td>\n",
       "      <td>zinc finger protein 431-like%2C transcript var...</td>\n",
       "      <td>NaN</td>\n",
       "      <td>NaN</td>\n",
       "      <td>NaN</td>\n",
       "      <td>NaN</td>\n",
       "      <td>NaN</td>\n",
       "      <td>NaN</td>\n",
       "      <td>3</td>\n",
       "      <td>XM_027434595.1</td>\n",
       "    </tr>\n",
       "    <tr>\n",
       "      <td>XM_027434597.1</td>\n",
       "      <td>NW_020824192.1</td>\n",
       "      <td>6649</td>\n",
       "      <td>6651</td>\n",
       "      <td>-</td>\n",
       "      <td>6650</td>\n",
       "      <td>rna56304</td>\n",
       "      <td>gene33013</td>\n",
       "      <td>GeneID:113839150,Genbank:XM_027434597.1</td>\n",
       "      <td>XM_027434597.1</td>\n",
       "      <td>mRNA</td>\n",
       "      <td>...</td>\n",
       "      <td>Supporting evidence includes similarity to: 8 ...</td>\n",
       "      <td>mothers against decapentaplegic homolog 1-like</td>\n",
       "      <td>The sequence of the model RefSeq transcript wa...</td>\n",
       "      <td>unclassified transcription discrepancy</td>\n",
       "      <td>NaN</td>\n",
       "      <td>NaN</td>\n",
       "      <td>NaN</td>\n",
       "      <td>NaN</td>\n",
       "      <td>3</td>\n",
       "      <td>XM_027434597.1</td>\n",
       "    </tr>\n",
       "  </tbody>\n",
       "</table>\n",
       "<p>35679 rows × 21 columns</p>\n",
       "</div>"
      ],
      "text/plain": [
       "                           Chr    Start      End Strand  actual_start  \\\n",
       "XM_027386529.1  NW_020822366.1   722307   722309      -        722308   \n",
       "XM_027386528.1  NW_020822366.1   724609   724611      -        724610   \n",
       "XM_027386531.1  NW_020822366.1  1085434  1085436      +       1085435   \n",
       "XM_027386533.1  NW_020822366.1  1085743  1085745      +       1085744   \n",
       "XM_027386534.1  NW_020822366.1  1114412  1114414      -       1114413   \n",
       "...                        ...      ...      ...    ...           ...   \n",
       "XM_027434589.1  NW_020824185.1     3892     3894      +          3893   \n",
       "XM_027434591.1  NW_020824186.1    17913    17915      +         17914   \n",
       "XM_027434593.1  NW_020824186.1    29431    29433      +         29432   \n",
       "XM_027434595.1  NW_020824188.1     2146     2148      +          2147   \n",
       "XM_027434597.1  NW_020824192.1     6649     6651      -          6650   \n",
       "\n",
       "                      ID     Parent                                   Dbxref  \\\n",
       "XM_027386529.1      rna7      gene4  GeneID:100754303,Genbank:XM_027386529.1   \n",
       "XM_027386528.1      rna6      gene4  GeneID:100754303,Genbank:XM_027386528.1   \n",
       "XM_027386531.1     rna10      gene6  GeneID:100752216,Genbank:XM_027386531.1   \n",
       "XM_027386533.1     rna12      gene6  GeneID:100752216,Genbank:XM_027386533.1   \n",
       "XM_027386534.1     rna13      gene7  GeneID:103160710,Genbank:XM_027386534.1   \n",
       "...                  ...        ...                                      ...   \n",
       "XM_027434589.1  rna56297  gene33008  GeneID:113839146,Genbank:XM_027434589.1   \n",
       "XM_027434591.1  rna56298  gene33009  GeneID:113839147,Genbank:XM_027434591.1   \n",
       "XM_027434593.1  rna56300  gene33010  GeneID:103158952,Genbank:XM_027434593.1   \n",
       "XM_027434595.1  rna56301  gene33012  GeneID:113839149,Genbank:XM_027434595.1   \n",
       "XM_027434597.1  rna56304  gene33013  GeneID:113839150,Genbank:XM_027434597.1   \n",
       "\n",
       "                          Name gbkey  ...  \\\n",
       "XM_027386529.1  XM_027386529.1  mRNA  ...   \n",
       "XM_027386528.1  XM_027386528.1  mRNA  ...   \n",
       "XM_027386531.1  XM_027386531.1  mRNA  ...   \n",
       "XM_027386533.1  XM_027386533.1  mRNA  ...   \n",
       "XM_027386534.1  XM_027386534.1  mRNA  ...   \n",
       "...                        ...   ...  ...   \n",
       "XM_027434589.1  XM_027434589.1  mRNA  ...   \n",
       "XM_027434591.1  XM_027434591.1  mRNA  ...   \n",
       "XM_027434593.1  XM_027434593.1  mRNA  ...   \n",
       "XM_027434595.1  XM_027434595.1  mRNA  ...   \n",
       "XM_027434597.1  XM_027434597.1  mRNA  ...   \n",
       "\n",
       "                                                   model_evidence  \\\n",
       "XM_027386529.1  Supporting evidence includes similarity to: 29...   \n",
       "XM_027386528.1  Supporting evidence includes similarity to: 29...   \n",
       "XM_027386531.1  Supporting evidence includes similarity to: 5 ...   \n",
       "XM_027386533.1  Supporting evidence includes similarity to: 1 ...   \n",
       "XM_027386534.1  Supporting evidence includes similarity to: 10...   \n",
       "...                                                           ...   \n",
       "XM_027434589.1  Supporting evidence includes similarity to: 3 ...   \n",
       "XM_027434591.1  Supporting evidence includes similarity to: 6 ...   \n",
       "XM_027434593.1  Supporting evidence includes similarity to: 2 ...   \n",
       "XM_027434595.1  Supporting evidence includes similarity to: 25...   \n",
       "XM_027434597.1  Supporting evidence includes similarity to: 8 ...   \n",
       "\n",
       "                                                          product  \\\n",
       "XM_027386529.1  bone morphogenetic protein 4%2C transcript var...   \n",
       "XM_027386528.1  bone morphogenetic protein 4%2C transcript var...   \n",
       "XM_027386531.1  cyclin dependent kinase inhibitor 3%2C transcr...   \n",
       "XM_027386533.1  cyclin dependent kinase inhibitor 3%2C transcr...   \n",
       "XM_027386534.1  cornichon family AMPA receptor auxiliary prote...   \n",
       "...                                                           ...   \n",
       "XM_027434589.1     mothers against decapentaplegic homolog 1-like   \n",
       "XM_027434591.1  PRAME family member 12-like%2C transcript vari...   \n",
       "XM_027434593.1  PRAME family member 12-like%2C transcript vari...   \n",
       "XM_027434595.1  zinc finger protein 431-like%2C transcript var...   \n",
       "XM_027434597.1     mothers against decapentaplegic homolog 1-like   \n",
       "\n",
       "                                                             Note  \\\n",
       "XM_027386529.1                                                NaN   \n",
       "XM_027386528.1                                                NaN   \n",
       "XM_027386531.1                                                NaN   \n",
       "XM_027386533.1                                                NaN   \n",
       "XM_027386534.1                                                NaN   \n",
       "...                                                           ...   \n",
       "XM_027434589.1                                                NaN   \n",
       "XM_027434591.1                                                NaN   \n",
       "XM_027434593.1                                                NaN   \n",
       "XM_027434595.1                                                NaN   \n",
       "XM_027434597.1  The sequence of the model RefSeq transcript wa...   \n",
       "\n",
       "                                             exception end_range partial  \\\n",
       "XM_027386529.1                                     NaN       NaN     NaN   \n",
       "XM_027386528.1                                     NaN       NaN     NaN   \n",
       "XM_027386531.1                                     NaN       NaN     NaN   \n",
       "XM_027386533.1                                     NaN       NaN     NaN   \n",
       "XM_027386534.1                                     NaN       NaN     NaN   \n",
       "...                                                ...       ...     ...   \n",
       "XM_027434589.1                                     NaN       NaN    True   \n",
       "XM_027434591.1                                     NaN       NaN     NaN   \n",
       "XM_027434593.1                                     NaN       NaN     NaN   \n",
       "XM_027434595.1                                     NaN       NaN     NaN   \n",
       "XM_027434597.1  unclassified transcription discrepancy       NaN     NaN   \n",
       "\n",
       "               start_range inference Length   transcript_id  \n",
       "XM_027386529.1         NaN       NaN      3  XM_027386529.1  \n",
       "XM_027386528.1         NaN       NaN      3  XM_027386528.1  \n",
       "XM_027386531.1         NaN       NaN      3  XM_027386531.1  \n",
       "XM_027386533.1         NaN       NaN      3  XM_027386533.1  \n",
       "XM_027386534.1         NaN       NaN      3  XM_027386534.1  \n",
       "...                    ...       ...    ...             ...  \n",
       "XM_027434589.1      .,3893       NaN      3  XM_027434589.1  \n",
       "XM_027434591.1         NaN       NaN      3  XM_027434591.1  \n",
       "XM_027434593.1         NaN       NaN      3  XM_027434593.1  \n",
       "XM_027434595.1         NaN       NaN      3  XM_027434595.1  \n",
       "XM_027434597.1         NaN       NaN      3  XM_027434597.1  \n",
       "\n",
       "[35679 rows x 21 columns]"
      ]
     },
     "execution_count": 4,
     "metadata": {},
     "output_type": "execute_result"
    }
   ],
   "source": [
    "tss_annotation = pd.read_csv(tss_start,sep='\\t',index_col=0)\n",
    "tss_annotation"
   ]
  },
  {
   "cell_type": "code",
   "execution_count": 5,
   "metadata": {
    "ExecuteTime": {
     "end_time": "2020-05-18T18:52:18.494075Z",
     "start_time": "2020-05-18T18:52:18.473354Z"
    }
   },
   "outputs": [
    {
     "data": {
      "text/plain": [
       "21387"
      ]
     },
     "execution_count": 5,
     "metadata": {},
     "output_type": "execute_result"
    }
   ],
   "source": [
    "len(tss_annotation[\"gene\"].unique())"
   ]
  },
  {
   "cell_type": "markdown",
   "metadata": {},
   "source": [
    "# Using Output TSS1.exp.bed"
   ]
  },
  {
   "cell_type": "code",
   "execution_count": null,
   "metadata": {
    "ExecuteTime": {
     "start_time": "2020-05-18T18:52:17.138Z"
    },
    "scrolled": true
   },
   "outputs": [
    {
     "name": "stdout",
     "output_type": "stream",
     "text": [
      "Mergeing meta\n",
      "                                    Chr    Start      End      Stat Strand\n",
      "ID                                                                        \n",
      "p1@Bmp4_XM_027386529.1   NW_020822366.1   722208   722359  1.779596      -\n",
      "p2@Bmp4_XM_027386529.1   NW_020822366.1   721599   721750  0.506505      -\n",
      "p3@Bmp4_XM_027386529.1   NW_020822366.1   721832   721983  0.580925      -\n",
      "p1@Bmp4_XM_027386528.1   NW_020822366.1   724533   724684  4.074290      -\n",
      "p1@Cdkn3_XM_027386531.1  NW_020822366.1  1085431  1085582  1.212188      +\n",
      "                                    Chr    Start      End      Stat Strand  \\\n",
      "p1@Bmp4_XM_027386529.1   NW_020822366.1   722208   722359  1.779596      -   \n",
      "p2@Bmp4_XM_027386529.1   NW_020822366.1   721599   721750  0.506505      -   \n",
      "p3@Bmp4_XM_027386529.1   NW_020822366.1   721832   721983  0.580925      -   \n",
      "p1@Bmp4_XM_027386528.1   NW_020822366.1   724533   724684  4.074290      -   \n",
      "p1@Cdkn3_XM_027386531.1  NW_020822366.1  1085431  1085582  1.212188      +   \n",
      "\n",
      "                          Gene      Transcript  \n",
      "p1@Bmp4_XM_027386529.1    Bmp4  XM_027386529.1  \n",
      "p2@Bmp4_XM_027386529.1    Bmp4  XM_027386529.1  \n",
      "p3@Bmp4_XM_027386529.1    Bmp4  XM_027386529.1  \n",
      "p1@Bmp4_XM_027386528.1    Bmp4  XM_027386528.1  \n",
      "p1@Cdkn3_XM_027386531.1  Cdkn3  XM_027386531.1  \n"
     ]
    },
    {
     "data": {
      "text/html": [
       "<div>\n",
       "<style scoped>\n",
       "    .dataframe tbody tr th:only-of-type {\n",
       "        vertical-align: middle;\n",
       "    }\n",
       "\n",
       "    .dataframe tbody tr th {\n",
       "        vertical-align: top;\n",
       "    }\n",
       "\n",
       "    .dataframe thead th {\n",
       "        text-align: right;\n",
       "    }\n",
       "</style>\n",
       "<table border=\"1\" class=\"dataframe\">\n",
       "  <thead>\n",
       "    <tr style=\"text-align: right;\">\n",
       "      <th></th>\n",
       "      <th>Chr</th>\n",
       "      <th>Start</th>\n",
       "      <th>End</th>\n",
       "      <th>Strand</th>\n",
       "      <th>Stat</th>\n",
       "      <th>Transcript</th>\n",
       "      <th>Gene</th>\n",
       "      <th>Nearest TSS</th>\n",
       "      <th>Distance to TSS</th>\n",
       "      <th>isSameStrand</th>\n",
       "    </tr>\n",
       "  </thead>\n",
       "  <tbody>\n",
       "    <tr>\n",
       "      <td>p1@Bmp4_XM_027386529.1</td>\n",
       "      <td>NW_020822366.1</td>\n",
       "      <td>722208</td>\n",
       "      <td>722359</td>\n",
       "      <td>-</td>\n",
       "      <td>1.779596</td>\n",
       "      <td>XM_027386529.1</td>\n",
       "      <td>Bmp4</td>\n",
       "      <td>XM_027386529.1</td>\n",
       "      <td>25.0</td>\n",
       "      <td>True</td>\n",
       "    </tr>\n",
       "    <tr>\n",
       "      <td>p2@Bmp4_XM_027386529.1</td>\n",
       "      <td>NW_020822366.1</td>\n",
       "      <td>721599</td>\n",
       "      <td>721750</td>\n",
       "      <td>-</td>\n",
       "      <td>0.506505</td>\n",
       "      <td>XM_027386529.1</td>\n",
       "      <td>Bmp4</td>\n",
       "      <td>XM_027386529.1</td>\n",
       "      <td>634.0</td>\n",
       "      <td>True</td>\n",
       "    </tr>\n",
       "    <tr>\n",
       "      <td>p3@Bmp4_XM_027386529.1</td>\n",
       "      <td>NW_020822366.1</td>\n",
       "      <td>721832</td>\n",
       "      <td>721983</td>\n",
       "      <td>-</td>\n",
       "      <td>0.580925</td>\n",
       "      <td>XM_027386529.1</td>\n",
       "      <td>Bmp4</td>\n",
       "      <td>XM_027386529.1</td>\n",
       "      <td>401.0</td>\n",
       "      <td>True</td>\n",
       "    </tr>\n",
       "    <tr>\n",
       "      <td>p1@Bmp4_XM_027386528.1</td>\n",
       "      <td>NW_020822366.1</td>\n",
       "      <td>724533</td>\n",
       "      <td>724684</td>\n",
       "      <td>-</td>\n",
       "      <td>4.074290</td>\n",
       "      <td>XM_027386528.1</td>\n",
       "      <td>Bmp4</td>\n",
       "      <td>XM_027386528.1</td>\n",
       "      <td>2.0</td>\n",
       "      <td>True</td>\n",
       "    </tr>\n",
       "    <tr>\n",
       "      <td>p1@Cdkn3_XM_027386531.1</td>\n",
       "      <td>NW_020822366.1</td>\n",
       "      <td>1085431</td>\n",
       "      <td>1085582</td>\n",
       "      <td>+</td>\n",
       "      <td>1.212188</td>\n",
       "      <td>XM_027386531.1</td>\n",
       "      <td>Cdkn3</td>\n",
       "      <td>XM_027386531.1</td>\n",
       "      <td>71.0</td>\n",
       "      <td>True</td>\n",
       "    </tr>\n",
       "    <tr>\n",
       "      <td>...</td>\n",
       "      <td>...</td>\n",
       "      <td>...</td>\n",
       "      <td>...</td>\n",
       "      <td>...</td>\n",
       "      <td>...</td>\n",
       "      <td>...</td>\n",
       "      <td>...</td>\n",
       "      <td>...</td>\n",
       "      <td>...</td>\n",
       "      <td>...</td>\n",
       "    </tr>\n",
       "    <tr>\n",
       "      <td>p1@LOC113839076_XM_027434536.1</td>\n",
       "      <td>NW_020824066.1</td>\n",
       "      <td>29450</td>\n",
       "      <td>29601</td>\n",
       "      <td>+</td>\n",
       "      <td>0.667453</td>\n",
       "      <td>XM_027434536.1</td>\n",
       "      <td>LOC113839076</td>\n",
       "      <td>XM_027434536.1</td>\n",
       "      <td>-120.0</td>\n",
       "      <td>True</td>\n",
       "    </tr>\n",
       "    <tr>\n",
       "      <td>p1@LOC113839076_XM_027434535.1</td>\n",
       "      <td>NW_020824066.1</td>\n",
       "      <td>29879</td>\n",
       "      <td>30030</td>\n",
       "      <td>+</td>\n",
       "      <td>0.229426</td>\n",
       "      <td>XM_027434535.1</td>\n",
       "      <td>LOC113839076</td>\n",
       "      <td>XM_027434535.1</td>\n",
       "      <td>308.0</td>\n",
       "      <td>True</td>\n",
       "    </tr>\n",
       "    <tr>\n",
       "      <td>p1@LOC113839111_XM_027434561.1</td>\n",
       "      <td>NW_020824120.1</td>\n",
       "      <td>10402</td>\n",
       "      <td>10553</td>\n",
       "      <td>+</td>\n",
       "      <td>1.600973</td>\n",
       "      <td>XM_027434561.1</td>\n",
       "      <td>LOC113839111</td>\n",
       "      <td>XM_027434561.1</td>\n",
       "      <td>16.0</td>\n",
       "      <td>True</td>\n",
       "    </tr>\n",
       "    <tr>\n",
       "      <td>p2@LOC113839111_XM_027434561.1</td>\n",
       "      <td>NW_020824120.1</td>\n",
       "      <td>9878</td>\n",
       "      <td>10029</td>\n",
       "      <td>+</td>\n",
       "      <td>0.574031</td>\n",
       "      <td>XM_027434561.1</td>\n",
       "      <td>LOC113839111</td>\n",
       "      <td>XM_027434561.1</td>\n",
       "      <td>-508.0</td>\n",
       "      <td>True</td>\n",
       "    </tr>\n",
       "    <tr>\n",
       "      <td>p1@LOC113839113_XM_027434564.1</td>\n",
       "      <td>NW_020824123.1</td>\n",
       "      <td>675</td>\n",
       "      <td>713</td>\n",
       "      <td>+</td>\n",
       "      <td>0.604226</td>\n",
       "      <td>XM_027434564.1</td>\n",
       "      <td>LOC113839113</td>\n",
       "      <td>XM_027434564.1</td>\n",
       "      <td>-859.0</td>\n",
       "      <td>True</td>\n",
       "    </tr>\n",
       "  </tbody>\n",
       "</table>\n",
       "<p>30755 rows × 10 columns</p>\n",
       "</div>"
      ],
      "text/plain": [
       "                                           Chr    Start      End Strand  \\\n",
       "p1@Bmp4_XM_027386529.1          NW_020822366.1   722208   722359      -   \n",
       "p2@Bmp4_XM_027386529.1          NW_020822366.1   721599   721750      -   \n",
       "p3@Bmp4_XM_027386529.1          NW_020822366.1   721832   721983      -   \n",
       "p1@Bmp4_XM_027386528.1          NW_020822366.1   724533   724684      -   \n",
       "p1@Cdkn3_XM_027386531.1         NW_020822366.1  1085431  1085582      +   \n",
       "...                                        ...      ...      ...    ...   \n",
       "p1@LOC113839076_XM_027434536.1  NW_020824066.1    29450    29601      +   \n",
       "p1@LOC113839076_XM_027434535.1  NW_020824066.1    29879    30030      +   \n",
       "p1@LOC113839111_XM_027434561.1  NW_020824120.1    10402    10553      +   \n",
       "p2@LOC113839111_XM_027434561.1  NW_020824120.1     9878    10029      +   \n",
       "p1@LOC113839113_XM_027434564.1  NW_020824123.1      675      713      +   \n",
       "\n",
       "                                    Stat      Transcript          Gene  \\\n",
       "p1@Bmp4_XM_027386529.1          1.779596  XM_027386529.1          Bmp4   \n",
       "p2@Bmp4_XM_027386529.1          0.506505  XM_027386529.1          Bmp4   \n",
       "p3@Bmp4_XM_027386529.1          0.580925  XM_027386529.1          Bmp4   \n",
       "p1@Bmp4_XM_027386528.1          4.074290  XM_027386528.1          Bmp4   \n",
       "p1@Cdkn3_XM_027386531.1         1.212188  XM_027386531.1         Cdkn3   \n",
       "...                                  ...             ...           ...   \n",
       "p1@LOC113839076_XM_027434536.1  0.667453  XM_027434536.1  LOC113839076   \n",
       "p1@LOC113839076_XM_027434535.1  0.229426  XM_027434535.1  LOC113839076   \n",
       "p1@LOC113839111_XM_027434561.1  1.600973  XM_027434561.1  LOC113839111   \n",
       "p2@LOC113839111_XM_027434561.1  0.574031  XM_027434561.1  LOC113839111   \n",
       "p1@LOC113839113_XM_027434564.1  0.604226  XM_027434564.1  LOC113839113   \n",
       "\n",
       "                                   Nearest TSS  Distance to TSS  isSameStrand  \n",
       "p1@Bmp4_XM_027386529.1          XM_027386529.1             25.0          True  \n",
       "p2@Bmp4_XM_027386529.1          XM_027386529.1            634.0          True  \n",
       "p3@Bmp4_XM_027386529.1          XM_027386529.1            401.0          True  \n",
       "p1@Bmp4_XM_027386528.1          XM_027386528.1              2.0          True  \n",
       "p1@Cdkn3_XM_027386531.1         XM_027386531.1             71.0          True  \n",
       "...                                        ...              ...           ...  \n",
       "p1@LOC113839076_XM_027434536.1  XM_027434536.1           -120.0          True  \n",
       "p1@LOC113839076_XM_027434535.1  XM_027434535.1            308.0          True  \n",
       "p1@LOC113839111_XM_027434561.1  XM_027434561.1             16.0          True  \n",
       "p2@LOC113839111_XM_027434561.1  XM_027434561.1           -508.0          True  \n",
       "p1@LOC113839113_XM_027434564.1  XM_027434564.1           -859.0          True  \n",
       "\n",
       "[30755 rows x 10 columns]"
      ]
     },
     "execution_count": 6,
     "metadata": {},
     "output_type": "execute_result"
    }
   ],
   "source": [
    "peaks_file = join(genome, \"eTSS/TSS.exp.bed\")\n",
    "meta_file = join(genome, \"eTSS/TSS.exp.meta.tsv\")\n",
    "meta_df = pd.read_csv(meta_file,index_col=0,sep='\\t')\n",
    "\n",
    "peaks_with_dist = annotation.wrap_distance_to_landmarks(peaks_file, landmark_file=tss_start,\n",
    "                          main_landmark = 'transcript_id',landmark_cols=[],is_bed=True,\n",
    "                          output_f=None,is_parallel=True,num_par=12, use_prior=True, meta_f=meta_file)\n",
    "peaks_with_dist"
   ]
  },
  {
   "cell_type": "code",
   "execution_count": null,
   "metadata": {
    "ExecuteTime": {
     "start_time": "2020-05-18T18:52:17.140Z"
    },
    "scrolled": false
   },
   "outputs": [],
   "source": [
    "# peaks_file = join(genome, \"eTSS/TSS.exp.bed\")\n",
    "# meta_file = join(genome, \"eTSS/TSS.exp.meta.tsv\")\n",
    "# meta_df = pd.read_csv(meta_file,index_col=0,sep='\\t')\n",
    "\n",
    "# peaks_with_dist = annotation.wrap_distance_to_landmarks(peaks_file, landmark_file=tss_start,\n",
    "#                           main_landmark = 'transcript_id',landmark_cols=[],is_bed=True,\n",
    "#                           output_f=None,is_parallel=True,num_par=12)"
   ]
  },
  {
   "cell_type": "code",
   "execution_count": null,
   "metadata": {
    "ExecuteTime": {
     "start_time": "2020-05-18T18:52:17.142Z"
    }
   },
   "outputs": [],
   "source": [
    "peaks_with_dist"
   ]
  },
  {
   "cell_type": "code",
   "execution_count": null,
   "metadata": {
    "ExecuteTime": {
     "start_time": "2020-05-18T18:52:17.145Z"
    },
    "scrolled": true
   },
   "outputs": [],
   "source": [
    "#peaks_with_dist = peaks_with_dist.merge(meta_df[[\"Gene\",\"Transcript\"]],left_index=True,right_index=True)\n",
    "peaks_with_dist[\"Absolute\"] = np.abs(peaks_with_dist[\"Distance to TSS\"])\n",
    "peaks_with_dist"
   ]
  },
  {
   "cell_type": "code",
   "execution_count": null,
   "metadata": {
    "ExecuteTime": {
     "start_time": "2020-05-18T18:52:17.147Z"
    },
    "scrolled": true
   },
   "outputs": [],
   "source": [
    "peaks_with_dist[~(peaks_with_dist[\"Nearest TSS\"].isin(meta_df[\"Transcript\"]))]"
   ]
  },
  {
   "cell_type": "markdown",
   "metadata": {},
   "source": [
    "## Txn"
   ]
  },
  {
   "cell_type": "code",
   "execution_count": null,
   "metadata": {
    "ExecuteTime": {
     "start_time": "2020-05-18T18:52:17.151Z"
    },
    "scrolled": true
   },
   "outputs": [],
   "source": [
    "dist_to_txn = peaks_with_dist[peaks_with_dist['Absolute'] == peaks_with_dist.groupby('Nearest TSS')['Absolute'].transform('min')]\n",
    "print(dist_to_txn.shape)\n",
    "dist_to_txn = dist_to_txn[~(dist_to_txn.duplicated(subset=\"Nearest TSS\",keep='first'))]\n",
    "print(dist_to_txn.shape)\n",
    "sns.distplot(dist_to_txn['Distance to TSS'])\n",
    "\n",
    "\n",
    "\n",
    "plt.ylabel('Frequency')\n",
    "plt.xlabel('TSS Position relative to previous annotation')\n",
    "\n",
    "helper_save(join(dist_to_anno_dir, \"minimum_for_each_ncbi_transcript\"))\n",
    "\n",
    "\n",
    "# print(\"Mean: %s\" % (np.mean(dist_to_txn[\"Distance to TSS\"])))\n",
    "# print(\"Std: %s\" % (np.std(dist_to_txn[\"Distance to TSS\"])))\n",
    "# print(\"Mode: %s\" % (stats.mode(dist_to_txn[\"Distance to TSS\"])[0][0]))\n",
    "# print(\"Median: %s\" % (np.median(dist_to_txn[\"Distance to TSS\"])))\n",
    "\n",
    "# print(\"Number of TSSs in concordance with Reference\", (dist_to_txn[\"Distance to TSS\"]==0).sum())\n",
    "# print(\"Number of TSSs less than 10nts from Reference\", np.abs((dist_to_txn[\"Distance to TSS\"])<10).sum())\n",
    "# print(\"Number of TSSs less than 150nts from Reference\", np.abs((dist_to_txn[\"Distance to TSS\"])<150).sum())\n",
    "\n",
    "# print(\"Total number of TSSs\", len(dist_to_txn))\n",
    "# print(\"Absolute Mean: %s\" % (np.mean(np.abs(dist_to_txn[\"Distance to TSS\"]))))\n",
    "# print(\"Absolute Std: %s\" % (np.std(np.abs(dist_to_txn[\"Distance to TSS\"]))))\n",
    "\n"
   ]
  },
  {
   "cell_type": "code",
   "execution_count": null,
   "metadata": {
    "ExecuteTime": {
     "start_time": "2020-05-18T18:52:17.153Z"
    },
    "scrolled": true
   },
   "outputs": [],
   "source": [
    "sns.distplot(np.abs(dist_to_txn['Distance to TSS']),bins=np.arange(0,1200,25))\n",
    "plt.ylabel('Frequency')\n",
    "plt.xlabel('TSS Position relative to previous annotation')\n",
    "helper_save(join(dist_to_anno_dir, \"absolute_minimum_for_each_ncbi_transcript\"))\n"
   ]
  },
  {
   "cell_type": "markdown",
   "metadata": {},
   "source": [
    "## Gene"
   ]
  },
  {
   "cell_type": "code",
   "execution_count": null,
   "metadata": {
    "ExecuteTime": {
     "start_time": "2020-05-18T18:52:17.159Z"
    }
   },
   "outputs": [],
   "source": [
    "peaks_with_dist"
   ]
  },
  {
   "cell_type": "code",
   "execution_count": null,
   "metadata": {
    "ExecuteTime": {
     "start_time": "2020-05-18T18:52:17.160Z"
    },
    "scrolled": true
   },
   "outputs": [],
   "source": [
    "dist_to_gene = peaks_with_dist[peaks_with_dist['Absolute'] == peaks_with_dist.groupby('Gene')['Absolute'].transform('min')]\n",
    "dist_to_gene = dist_to_gene[~(dist_to_gene.duplicated(subset=\"Gene\",keep='first'))]\n",
    "print(dist_to_gene.shape)\n",
    "\n",
    "sns.distplot(dist_to_gene['Distance to TSS'])\n",
    "\n",
    "plt.ylabel('Frequency')\n",
    "plt.xlabel('TSS Position relative to previous annotation')\n",
    "\n",
    "helper_save(join(dist_to_anno_dir, \"minimum_for_each_ncbi_gene\"))\n",
    "\n",
    "# print(\"Mean: %s\" % (np.mean(dist_to_gene[\"Distance to TSS\"])))\n",
    "# print(\"Std: %s\" % (np.std(dist_to_gene[\"Distance to TSS\"])))\n",
    "# print(\"Mode: %s\" % (stats.mode(dist_to_gene[\"Distance to TSS\"])[0][0]))\n",
    "# print(\"Median: %s\" % (np.median(dist_to_gene[\"Distance to TSS\"])))\n",
    "\n",
    "# print(\"Number of TSSs in concordance with Reference\", (dist_to_gene[\"Distance to TSS\"]==0).sum())\n",
    "# print(\"Number of TSSs less than 10nts from Reference\", np.abs((dist_to_gene[\"Distance to TSS\"])<10).sum())\n",
    "# print(\"Number of TSSs less than 150nts from Reference\", np.abs((dist_to_gene[\"Distance to TSS\"])<150).sum())\n",
    "\n",
    "# print(\"Total number of Genes\", len(dist_to_gene))\n",
    "# print(\"Absolute Mean: %s\" % (np.mean(np.abs(dist_to_gene[\"Distance to TSS\"]))))\n",
    "# print(\"Absolute Std: %s\" % (np.std(np.abs(dist_to_gene[\"Distance to TSS\"]))))\n",
    "\n"
   ]
  },
  {
   "cell_type": "code",
   "execution_count": null,
   "metadata": {
    "ExecuteTime": {
     "start_time": "2020-05-18T18:52:17.162Z"
    },
    "scrolled": true
   },
   "outputs": [],
   "source": [
    "sns.distplot(np.abs(dist_to_gene['Distance to TSS']),bins=np.arange(0,1200,25))\n",
    "plt.ylabel('Frequency')\n",
    "plt.xlabel('TSS Position relative to previous annotation')\n",
    "helper_save(join(dist_to_anno_dir, \"absolute_minimum_for_each_ncbi_gene\"))\n"
   ]
  },
  {
   "cell_type": "markdown",
   "metadata": {},
   "source": [
    "## mRNA TSS"
   ]
  },
  {
   "cell_type": "code",
   "execution_count": null,
   "metadata": {
    "ExecuteTime": {
     "start_time": "2020-05-18T18:52:17.167Z"
    },
    "scrolled": true
   },
   "outputs": [],
   "source": [
    "sns.distplot(peaks_with_dist['Distance to TSS'])\n",
    "\n",
    "concordant = peaks_with_dist[peaks_with_dist['Distance to TSS']==0]\n",
    "plt.ylabel('Frequency')\n",
    "plt.xlabel('TSS Position relative to previous annotation')\n",
    "\n",
    "helper_save(join(dist_to_anno_dir, \"all_promoter_peaks\"))\n",
    "\n",
    "# print(\"Mean: %s\" % (np.mean(peaks_with_dist[\"Distance to TSS\"])))\n",
    "# print(\"Std: %s\" % (np.std(peaks_with_dist[\"Distance to TSS\"])))\n",
    "# print(\"Mode: %s\" % (stats.mode(peaks_with_dist[\"Distance to TSS\"])[0][0]))\n",
    "# print(\"Median: %s\" % (np.median(peaks_with_dist[\"Distance to TSS\"])))\n",
    "\n",
    "# print(\"Number of TSSs in concordance with Reference\", (peaks_with_dist[\"Distance to TSS\"]==0).sum())\n",
    "# print(\"Number of TSSs in concordance with Reference (off by 1)\", (peaks_with_dist[\"Distance to TSS\"]==1).sum())\n",
    "# print(\"Number of TSSs in concordance with Reference (off by 2)\", (peaks_with_dist[\"Distance to TSS\"]==2).sum())\n",
    "# print(\"Number of TSSs in concordance with Reference (off by 1 abs)\", (np.abs(peaks_with_dist[\"Distance to TSS\"])==1).sum())\n",
    "# print(\"Number of TSSs in concordance with Reference (off by 2 abs)\", (np.abs(peaks_with_dist[\"Distance to TSS\"])==1).sum())\n",
    "\n",
    "\n",
    "# print(\"Number of TSSs less than 10nts from Reference\", np.abs((peaks_with_dist[\"Distance to TSS\"])<10).sum())\n",
    "# print(\"Total number of TSSs\", len(peaks_with_dist))\n",
    "# print(\"Absolute Mean: %s\" % (np.mean(np.abs(peaks_with_dist[\"Distance to TSS\"]))))\n",
    "# print(\"Absolute Std: %s\" % (np.std(np.abs(peaks_with_dist[\"Distance to TSS\"]))))\n",
    "\n"
   ]
  },
  {
   "cell_type": "code",
   "execution_count": null,
   "metadata": {
    "ExecuteTime": {
     "start_time": "2020-05-18T18:52:17.169Z"
    },
    "scrolled": true
   },
   "outputs": [],
   "source": [
    "sns.distplot(np.abs(peaks_with_dist['Distance to TSS']),bins=np.arange(0,1200,25))\n",
    "plt.ylabel('Frequency')\n",
    "plt.xlabel('TSS Position relative to previous annotation')\n",
    "helper_save(join(dist_to_anno_dir, \"absolute_all_promoter_peaks\"))\n"
   ]
  },
  {
   "cell_type": "markdown",
   "metadata": {},
   "source": [
    "## Make stats page"
   ]
  },
  {
   "cell_type": "code",
   "execution_count": null,
   "metadata": {
    "ExecuteTime": {
     "start_time": "2020-05-18T18:52:17.175Z"
    },
    "scrolled": true
   },
   "outputs": [],
   "source": [
    "stats = pd.DataFrame(index=[\"Total observed mRNA TSS\", \"Protein coding TSS\", \"Gene\"], \n",
    "             columns=[\"NCBI annotation\", \"Total\", \"Mean Distance\",\"Median Distance\", \"Mode Distance\", \"Standard Deviation Distance\",\n",
    "                      \"Mean absolute Distance\",\"Median absolute Distance\", \"Mode absolute Distance\",\"Standard Deviation absolute Distance\",\n",
    "                      \"Number of TSS in concordance\", \"Number of TSS <= 10nt\", \"Number of TSS <= 150nt\", \"Number of TSS > 150nt\"])\n",
    "stats"
   ]
  },
  {
   "cell_type": "code",
   "execution_count": null,
   "metadata": {
    "ExecuteTime": {
     "start_time": "2020-05-18T18:52:17.177Z"
    }
   },
   "outputs": [],
   "source": [
    "stats.loc[\"Gene\"] = [np.nan,len(dist_to_gene), \n",
    "                     np.mean(dist_to_gene[\"Distance to TSS\"]),\n",
    "                     np.median(dist_to_gene[\"Distance to TSS\"]),\n",
    "                     dist_to_gene[\"Distance to TSS\"].mode().values[0],\n",
    "                     np.std(dist_to_gene[\"Distance to TSS\"]),\n",
    "                     \n",
    "                     np.mean(dist_to_gene[\"Absolute\"]),\n",
    "                     np.median(dist_to_gene[\"Absolute\"]),\n",
    "                     dist_to_gene[\"Absolute\"].mode().values[0],\n",
    "                     np.std(dist_to_gene[\"Absolute\"]),\n",
    "                     \n",
    "                    len(concordant.groupby(\"Gene\")),\n",
    "                    np.abs((dist_to_gene[\"Distance to TSS\"])<=10).sum(),\n",
    "                    np.abs((dist_to_gene[\"Distance to TSS\"])<=150).sum(),\n",
    "                    np.abs((dist_to_gene[\"Distance to TSS\"])>150).sum()\n",
    "                    ]\n",
    "\n",
    "\n",
    "stats.loc[\"Protein coding TSS\"] = [np.nan,len(dist_to_txn), \n",
    "                     np.mean(dist_to_txn[\"Distance to TSS\"]),\n",
    "                     np.median(dist_to_txn[\"Distance to TSS\"]),\n",
    "                     dist_to_txn[\"Distance to TSS\"].mode().values[0],\n",
    "                     np.std(dist_to_txn[\"Distance to TSS\"]),\n",
    "                     \n",
    "                     np.mean(dist_to_txn[\"Absolute\"]),\n",
    "                     np.median(dist_to_txn[\"Absolute\"]),\n",
    "                     dist_to_txn[\"Absolute\"].mode().values[0],\n",
    "                     np.std(dist_to_txn[\"Absolute\"]),\n",
    "                     \n",
    "                    len(concordant.groupby(\"Nearest TSS\")),\n",
    "                    np.abs((dist_to_txn[\"Distance to TSS\"])<=10).sum(),\n",
    "                    np.abs((dist_to_txn[\"Distance to TSS\"])<=150).sum(),\n",
    "                    np.abs((dist_to_txn[\"Distance to TSS\"])>150).sum()\n",
    "                    ]\n",
    "\n",
    "\n",
    "stats.loc[\"Total observed mRNA TSS\"] = [np.nan,len(peaks_with_dist), \n",
    "                     np.mean(peaks_with_dist[\"Distance to TSS\"]),\n",
    "                     np.median(peaks_with_dist[\"Distance to TSS\"]),\n",
    "                     peaks_with_dist[\"Distance to TSS\"].mode().values[0],\n",
    "                     np.std(peaks_with_dist[\"Distance to TSS\"]),\n",
    "                     \n",
    "                     np.mean(peaks_with_dist[\"Absolute\"]),\n",
    "                     np.median(peaks_with_dist[\"Absolute\"]),\n",
    "                     peaks_with_dist[\"Absolute\"].mode().values[0],\n",
    "                     np.std(peaks_with_dist[\"Absolute\"]),\n",
    "                     \n",
    "                    (peaks_with_dist[\"Distance to TSS\"]==0).sum(),\n",
    "                    np.abs((peaks_with_dist[\"Distance to TSS\"])<=10).sum(),\n",
    "                    np.abs((peaks_with_dist[\"Distance to TSS\"])<=150).sum(),\n",
    "                    np.abs((peaks_with_dist[\"Distance to TSS\"])>150).sum()\n",
    "                    ]\n",
    "stats"
   ]
  },
  {
   "cell_type": "markdown",
   "metadata": {},
   "source": [
    "## Add old annotation"
   ]
  },
  {
   "cell_type": "code",
   "execution_count": null,
   "metadata": {
    "ExecuteTime": {
     "start_time": "2020-05-18T18:52:17.181Z"
    },
    "scrolled": true
   },
   "outputs": [],
   "source": [
    "tss_df = pd.read_csv(tss_start,sep='\\t', index_col=0)\n",
    "tss_df.shape"
   ]
  },
  {
   "cell_type": "code",
   "execution_count": null,
   "metadata": {
    "ExecuteTime": {
     "start_time": "2020-05-18T18:52:17.183Z"
    },
    "scrolled": true
   },
   "outputs": [],
   "source": [
    "stats.at[\"Gene\", \"NCBI annotation\"] = len(tss_df.groupby(\"Parent\"))\n",
    "stats.at[\"Protein coding TSS\",\"NCBI annotation\"] = tss_df.shape[0]\n",
    "stats.at[\"mRNA\",\"NCBI annotation\"] = 46750\n",
    "\n",
    "stats"
   ]
  },
  {
   "cell_type": "code",
   "execution_count": null,
   "metadata": {
    "ExecuteTime": {
     "start_time": "2020-05-18T18:52:17.185Z"
    }
   },
   "outputs": [],
   "source": [
    "stats.to_csv(join(dist_to_anno_dir, \"TSS_distance_stats.csv\"))"
   ]
  },
  {
   "cell_type": "code",
   "execution_count": null,
   "metadata": {},
   "outputs": [],
   "source": []
  },
  {
   "cell_type": "markdown",
   "metadata": {},
   "source": [
    "## Add in ncRNAs"
   ]
  },
  {
   "cell_type": "code",
   "execution_count": null,
   "metadata": {},
   "outputs": [],
   "source": []
  }
 ],
 "metadata": {
  "kernelspec": {
   "display_name": "Python 2",
   "language": "python",
   "name": "python2"
  },
  "language_info": {
   "codemirror_mode": {
    "name": "ipython",
    "version": 3
   },
   "file_extension": ".py",
   "mimetype": "text/x-python",
   "name": "python",
   "nbconvert_exporter": "python",
   "pygments_lexer": "ipython3",
   "version": "3.7.3"
  }
 },
 "nbformat": 4,
 "nbformat_minor": 2
}
