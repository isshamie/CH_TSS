{
 "cells": [
  {
   "cell_type": "markdown",
   "metadata": {},
   "source": [
    "## Run de novo motif analysis on different subsets of TSS.\n",
    "1. Load the peak expression file, and the annotation file. \n",
    "2. Average the BMDM response.\n",
    "3. Filter for greater than 1CPM and >2kb Distance to Nearest transcript\n",
    "4. For each tissue  \n",
    "    a. Create 'Tissue Enriched' peaks by getting a z-score > 2 (log2 CPM)   \n",
    "    b. Save the anno_peaks filtered on these peaks  \n",
    "    c. Retrieve the sample peaks of this respective tissue (retrieve_tss)  \n",
    "    d. Merge thes sample peak files from those tissues.  \n",
    "    c. Use this merged file for Homer motif finding with GC normalization\n"
   ]
  },
  {
   "cell_type": "code",
   "execution_count": 1,
   "metadata": {
    "ExecuteTime": {
     "end_time": "2020-07-21T00:40:41.319262Z",
     "start_time": "2020-07-21T00:40:40.276213Z"
    },
    "scrolled": true
   },
   "outputs": [
    {
     "name": "stderr",
     "output_type": "stream",
     "text": [
      "/home/isshamie/software/anaconda2/envs/TSS/lib/python3.7/site-packages/ipykernel_launcher.py:7: YAMLLoadWarning: calling yaml.load() without Loader=... is deprecated, as the default Loader is unsafe. Please read https://msg.pyyaml.org/load for full details.\n",
      "  import sys\n"
     ]
    },
    {
     "name": "stdout",
     "output_type": "stream",
     "text": [
      "/data2/resources/software/homer/v4.11_10242019/bin//homer\r\n"
     ]
    }
   ],
   "source": [
    "## Parameters specific to where your folders are and your data\n",
    "parameter_file = '../../parameters/params.yaml'\n",
    "import yaml\n",
    "import sys\n",
    "import os\n",
    "with open(parameter_file,'r') as f:\n",
    "    doc = yaml.load(f)\n",
    "\n",
    "#p = dic2obj(**doc)\n",
    "\n",
    "#data_folder = doc['data_folder']\n",
    "#tissues = doc['tissues'].split(',')\n",
    "#sys.path.append(doc['pipeline_path'])\n",
    "ref_fa = doc['GENOME_FA']\n",
    "#anno_gff=doc['annotation']\n",
    "#mRNA_peak_file = doc[\"mRNA_peak_file\"]\n",
    "#tss_annotation = doc['tss_annotation']\n",
    "\n",
    "\n",
    "import sys\n",
    "import pandas as pd\n",
    "import matplotlib\n",
    "import seaborn as sns\n",
    "import pickle\n",
    "import numpy as np\n",
    "import matplotlib as mpl\n",
    "from matplotlib import pyplot as plt\n",
    "from itertools import product\n",
    "import glob\n",
    "import re\n",
    "from os.path import join\n",
    "from matplotlib_venn import venn2\n",
    "from matplotlib import rcParams\n",
    "import inspect\n",
    "%matplotlib inline\n",
    "%config InlineBackend.figure_format = 'retina'\n",
    "sys.setrecursionlimit(3000)\n",
    "%load_ext autoreload\n",
    "%autoreload 2\n",
    "rcParams['figure.figsize'] = 8, 6\n",
    "import tqdm\n",
    "\n",
    "from os.path import basename\n",
    "##mpl.use('Agg')\n",
    "#mpl.style.use('ggplot')\n",
    "#mpl.style.use('fivethirtyeight')\n",
    "#from Homer import *\n",
    "\n",
    "homer_path =  \"/data2/resources/software/homer/v4.11_10242019/bin/\"\n",
    "os.environ['PATH'] = f\"{homer_path}:{os.environ['PATH']}\"\n",
    "!which homer"
   ]
  },
  {
   "cell_type": "code",
   "execution_count": 2,
   "metadata": {
    "ExecuteTime": {
     "end_time": "2020-07-21T00:40:41.340369Z",
     "start_time": "2020-07-21T00:40:41.321997Z"
    }
   },
   "outputs": [],
   "source": [
    "from scipy.stats import zscore"
   ]
  },
  {
   "cell_type": "code",
   "execution_count": 3,
   "metadata": {
    "ExecuteTime": {
     "end_time": "2020-07-21T00:40:41.365022Z",
     "start_time": "2020-07-21T00:40:41.342517Z"
    }
   },
   "outputs": [],
   "source": [
    "import click\n",
    "from collections import defaultdict"
   ]
  },
  {
   "cell_type": "code",
   "execution_count": 4,
   "metadata": {
    "ExecuteTime": {
     "end_time": "2020-07-21T00:40:41.600866Z",
     "start_time": "2020-07-21T00:40:41.366872Z"
    },
    "scrolled": true
   },
   "outputs": [
    {
     "name": "stdout",
     "output_type": "stream",
     "text": [
      "params {'PREFIX': 'ncbi_pice_103', 'ROOT_DIR': '/data/isshamie/TSS/', 'DATA_DIR': '/data/isshamie/TSS/NCBI_PICR_103_Processed/', 'DATA_PROCESSED_DIR': '/data/isshamie/TSS/TSS/data/processed/', 'SUPPLEMENTAL_DIR': '/data/isshamie/TSS/Analysis/supplemental/', 'PIPELINE': '/data/isshamie/TSS/tss', 'GENOME_DIR': '/data/isshamie/genome', 'GENOME_FA': '/data/isshamie/genome/picr.fa', 'GENOME_GFF3': '/data/isshamie/genome/updated_final_sort.gff3', 'GENOME_GTF': '/data/isshamie/genome/updated_final_sort.gtf', 'TISSUES': 'BMDM1hKLA,BMDMwt,Brain,FemaleReproductive,Heart,Intestine,', 'META_FILE': '/data/isshamie/TSS/TSS/parameters/raw_metaSamples.tsv'}\n",
      "fig_utils from mplh\n",
      "/data2/resources/software/homer/v4.11_10242019/bin//\n"
     ]
    }
   ],
   "source": [
    "from tss.utils import wrap_findMotifs\n",
    "from tss.data.data_io import read_bed_file, write_bed_file, read_peak_file\n",
    "from tss.utils import wrap_findMotifs\n",
    "from tss.data import data_io\n",
    "from tss.data.tissues_collapse import merge_columns\n",
    "from tss.utils import Homer\n",
    "from tss.visualize.fig_utils import helper_save"
   ]
  },
  {
   "cell_type": "code",
   "execution_count": 5,
   "metadata": {
    "ExecuteTime": {
     "end_time": "2020-07-21T00:40:41.627705Z",
     "start_time": "2020-07-21T00:40:41.603160Z"
    }
   },
   "outputs": [],
   "source": [
    "os.chdir(doc[\"results\"])\n",
    "genome=\"alt\"\n",
    "outdir= join(\"v02_de_novo_motifs\",genome)\n",
    "data_dir = join(doc[\"results\"], genome)\n",
    "if not os.path.exists(outdir):\n",
    "    os.makedirs(outdir)\n",
    "    \n",
    "prom_enr_dir = join(outdir,'promoter_enriched')\n",
    "if not os.path.exists(prom_enr_dir):\n",
    "    os.mkdir(prom_enr_dir)"
   ]
  },
  {
   "cell_type": "markdown",
   "metadata": {},
   "source": [
    "## Load peak eTSS and expression"
   ]
  },
  {
   "cell_type": "code",
   "execution_count": 6,
   "metadata": {
    "ExecuteTime": {
     "end_time": "2020-07-21T00:40:41.663500Z",
     "start_time": "2020-07-21T00:40:41.629593Z"
    }
   },
   "outputs": [],
   "source": [
    "tissue_expr_f = join(data_dir,\"tissues_collapse/tissues.merge.peaksexpression\")\n",
    "peak_anno_f = join(data_dir, \"merged\",\"peaks_with_tss_distances_size1.peak\")\n",
    "merged_f = join(data_dir, \"merged\",\"samples.merge\")\n",
    "eTSS_f = join(data_dir, \"eTSS\",\"TSS.exp.bed\")\n",
    "eTSS_meta_f = join(data_dir, \"eTSS\",\"TSS.meta.tsv\")"
   ]
  },
  {
   "cell_type": "code",
   "execution_count": 7,
   "metadata": {
    "ExecuteTime": {
     "end_time": "2020-07-21T00:40:41.826077Z",
     "start_time": "2020-07-21T00:40:41.669310Z"
    }
   },
   "outputs": [
    {
     "data": {
      "text/html": [
       "<div>\n",
       "<style scoped>\n",
       "    .dataframe tbody tr th:only-of-type {\n",
       "        vertical-align: middle;\n",
       "    }\n",
       "\n",
       "    .dataframe tbody tr th {\n",
       "        vertical-align: top;\n",
       "    }\n",
       "\n",
       "    .dataframe thead th {\n",
       "        text-align: right;\n",
       "    }\n",
       "</style>\n",
       "<table border=\"1\" class=\"dataframe\">\n",
       "  <thead>\n",
       "    <tr style=\"text-align: right;\">\n",
       "      <th></th>\n",
       "      <th>Tissues</th>\n",
       "      <th>cs</th>\n",
       "      <th>CHO ATAC Region</th>\n",
       "      <th>ID</th>\n",
       "      <th>Gene</th>\n",
       "      <th>Gene ID</th>\n",
       "      <th>Transcript</th>\n",
       "      <th>Is Experimental</th>\n",
       "      <th>has ATAC</th>\n",
       "    </tr>\n",
       "  </thead>\n",
       "  <tbody>\n",
       "    <tr>\n",
       "      <td>p2@Bmp4_XM_027386529.1</td>\n",
       "      <td>Kidney,Lung,Brain,FemaleReproductive,Muscle,Mi...</td>\n",
       "      <td>0b00</td>\n",
       "      <td>NaN</td>\n",
       "      <td>90264.0</td>\n",
       "      <td>Bmp4</td>\n",
       "      <td>NaN</td>\n",
       "      <td>XM_027386529.1</td>\n",
       "      <td>1</td>\n",
       "      <td>0</td>\n",
       "    </tr>\n",
       "    <tr>\n",
       "      <td>p3@Bmp4_XM_027386529.1</td>\n",
       "      <td>Kidney,Lung,Brain,FemaleReproductive,Muscle,Mi...</td>\n",
       "      <td>0b00</td>\n",
       "      <td>NaN</td>\n",
       "      <td>181215.0</td>\n",
       "      <td>Bmp4</td>\n",
       "      <td>NaN</td>\n",
       "      <td>XM_027386529.1</td>\n",
       "      <td>1</td>\n",
       "      <td>1</td>\n",
       "    </tr>\n",
       "    <tr>\n",
       "      <td>p1@Bmp4_XM_027386529.1</td>\n",
       "      <td>Kidney,Lung,Brain,FemaleReproductive,Muscle,Mi...</td>\n",
       "      <td>0b11</td>\n",
       "      <td>NaN</td>\n",
       "      <td>348823.0</td>\n",
       "      <td>Bmp4</td>\n",
       "      <td>NaN</td>\n",
       "      <td>XM_027386529.1</td>\n",
       "      <td>1</td>\n",
       "      <td>1</td>\n",
       "    </tr>\n",
       "    <tr>\n",
       "      <td>p1@Bmp4_XM_027386528.1</td>\n",
       "      <td>Kidney,Lung,Pancreas,Brain,FemaleReproductive,...</td>\n",
       "      <td>0b11</td>\n",
       "      <td>NaN</td>\n",
       "      <td>308710.0</td>\n",
       "      <td>Bmp4</td>\n",
       "      <td>NaN</td>\n",
       "      <td>XM_027386528.1</td>\n",
       "      <td>1</td>\n",
       "      <td>1</td>\n",
       "    </tr>\n",
       "    <tr>\n",
       "      <td>p1@Cdkn3_XM_027386531.1</td>\n",
       "      <td>CHO,Lung,Brain,FemaleReproductive,Muscle,MiscO...</td>\n",
       "      <td>0b11</td>\n",
       "      <td>NaN</td>\n",
       "      <td>237253.0</td>\n",
       "      <td>Cdkn3</td>\n",
       "      <td>NaN</td>\n",
       "      <td>XM_027386531.1</td>\n",
       "      <td>1</td>\n",
       "      <td>0</td>\n",
       "    </tr>\n",
       "  </tbody>\n",
       "</table>\n",
       "</div>"
      ],
      "text/plain": [
       "                                                                   Tissues  \\\n",
       "p2@Bmp4_XM_027386529.1   Kidney,Lung,Brain,FemaleReproductive,Muscle,Mi...   \n",
       "p3@Bmp4_XM_027386529.1   Kidney,Lung,Brain,FemaleReproductive,Muscle,Mi...   \n",
       "p1@Bmp4_XM_027386529.1   Kidney,Lung,Brain,FemaleReproductive,Muscle,Mi...   \n",
       "p1@Bmp4_XM_027386528.1   Kidney,Lung,Pancreas,Brain,FemaleReproductive,...   \n",
       "p1@Cdkn3_XM_027386531.1  CHO,Lung,Brain,FemaleReproductive,Muscle,MiscO...   \n",
       "\n",
       "                           cs CHO ATAC Region        ID   Gene  Gene ID  \\\n",
       "p2@Bmp4_XM_027386529.1   0b00             NaN   90264.0   Bmp4      NaN   \n",
       "p3@Bmp4_XM_027386529.1   0b00             NaN  181215.0   Bmp4      NaN   \n",
       "p1@Bmp4_XM_027386529.1   0b11             NaN  348823.0   Bmp4      NaN   \n",
       "p1@Bmp4_XM_027386528.1   0b11             NaN  308710.0   Bmp4      NaN   \n",
       "p1@Cdkn3_XM_027386531.1  0b11             NaN  237253.0  Cdkn3      NaN   \n",
       "\n",
       "                             Transcript  Is Experimental  has ATAC  \n",
       "p2@Bmp4_XM_027386529.1   XM_027386529.1                1         0  \n",
       "p3@Bmp4_XM_027386529.1   XM_027386529.1                1         1  \n",
       "p1@Bmp4_XM_027386529.1   XM_027386529.1                1         1  \n",
       "p1@Bmp4_XM_027386528.1   XM_027386528.1                1         1  \n",
       "p1@Cdkn3_XM_027386531.1  XM_027386531.1                1         0  "
      ]
     },
     "execution_count": 7,
     "metadata": {},
     "output_type": "execute_result"
    }
   ],
   "source": [
    "meta_df = pd.read_csv(eTSS_meta_f,sep='\\t', index_col=0)\n",
    "meta_df.head()"
   ]
  },
  {
   "cell_type": "code",
   "execution_count": 8,
   "metadata": {
    "ExecuteTime": {
     "end_time": "2020-07-21T00:40:41.905572Z",
     "start_time": "2020-07-21T00:40:41.828472Z"
    },
    "scrolled": true
   },
   "outputs": [
    {
     "data": {
      "text/html": [
       "<div>\n",
       "<style scoped>\n",
       "    .dataframe tbody tr th:only-of-type {\n",
       "        vertical-align: middle;\n",
       "    }\n",
       "\n",
       "    .dataframe tbody tr th {\n",
       "        vertical-align: top;\n",
       "    }\n",
       "\n",
       "    .dataframe thead th {\n",
       "        text-align: right;\n",
       "    }\n",
       "</style>\n",
       "<table border=\"1\" class=\"dataframe\">\n",
       "  <thead>\n",
       "    <tr style=\"text-align: right;\">\n",
       "      <th></th>\n",
       "      <th>Chr</th>\n",
       "      <th>Start</th>\n",
       "      <th>End</th>\n",
       "      <th>Stat</th>\n",
       "      <th>Strand</th>\n",
       "    </tr>\n",
       "    <tr>\n",
       "      <th>ID</th>\n",
       "      <th></th>\n",
       "      <th></th>\n",
       "      <th></th>\n",
       "      <th></th>\n",
       "      <th></th>\n",
       "    </tr>\n",
       "  </thead>\n",
       "  <tbody>\n",
       "    <tr>\n",
       "      <td>p1@Bmp4_XM_027386529.1</td>\n",
       "      <td>NW_020822366.1</td>\n",
       "      <td>722207</td>\n",
       "      <td>722359</td>\n",
       "      <td>1.779596</td>\n",
       "      <td>-</td>\n",
       "    </tr>\n",
       "    <tr>\n",
       "      <td>p2@Bmp4_XM_027386529.1</td>\n",
       "      <td>NW_020822366.1</td>\n",
       "      <td>721598</td>\n",
       "      <td>721750</td>\n",
       "      <td>0.506505</td>\n",
       "      <td>-</td>\n",
       "    </tr>\n",
       "    <tr>\n",
       "      <td>p3@Bmp4_XM_027386529.1</td>\n",
       "      <td>NW_020822366.1</td>\n",
       "      <td>721831</td>\n",
       "      <td>721983</td>\n",
       "      <td>0.580925</td>\n",
       "      <td>-</td>\n",
       "    </tr>\n",
       "    <tr>\n",
       "      <td>p1@Bmp4_XM_027386528.1</td>\n",
       "      <td>NW_020822366.1</td>\n",
       "      <td>724532</td>\n",
       "      <td>724684</td>\n",
       "      <td>4.074290</td>\n",
       "      <td>-</td>\n",
       "    </tr>\n",
       "    <tr>\n",
       "      <td>p1@Cdkn3_XM_027386531.1</td>\n",
       "      <td>NW_020822366.1</td>\n",
       "      <td>1085430</td>\n",
       "      <td>1085582</td>\n",
       "      <td>1.212188</td>\n",
       "      <td>+</td>\n",
       "    </tr>\n",
       "  </tbody>\n",
       "</table>\n",
       "</div>"
      ],
      "text/plain": [
       "                                    Chr    Start      End      Stat Strand\n",
       "ID                                                                        \n",
       "p1@Bmp4_XM_027386529.1   NW_020822366.1   722207   722359  1.779596      -\n",
       "p2@Bmp4_XM_027386529.1   NW_020822366.1   721598   721750  0.506505      -\n",
       "p3@Bmp4_XM_027386529.1   NW_020822366.1   721831   721983  0.580925      -\n",
       "p1@Bmp4_XM_027386528.1   NW_020822366.1   724532   724684  4.074290      -\n",
       "p1@Cdkn3_XM_027386531.1  NW_020822366.1  1085430  1085582  1.212188      +"
      ]
     },
     "execution_count": 8,
     "metadata": {},
     "output_type": "execute_result"
    }
   ],
   "source": [
    "eTSS_df = read_bed_file(eTSS_f)\n",
    "eTSS_df.head()"
   ]
  },
  {
   "cell_type": "code",
   "execution_count": 9,
   "metadata": {
    "ExecuteTime": {
     "end_time": "2020-07-21T00:40:42.663611Z",
     "start_time": "2020-07-21T00:40:41.909359Z"
    }
   },
   "outputs": [
    {
     "data": {
      "text/html": [
       "<div>\n",
       "<style scoped>\n",
       "    .dataframe tbody tr th:only-of-type {\n",
       "        vertical-align: middle;\n",
       "    }\n",
       "\n",
       "    .dataframe tbody tr th {\n",
       "        vertical-align: top;\n",
       "    }\n",
       "\n",
       "    .dataframe thead th {\n",
       "        text-align: right;\n",
       "    }\n",
       "</style>\n",
       "<table border=\"1\" class=\"dataframe\">\n",
       "  <thead>\n",
       "    <tr style=\"text-align: right;\">\n",
       "      <th></th>\n",
       "      <th>MiscOrgans</th>\n",
       "      <th>Liver</th>\n",
       "      <th>Brain</th>\n",
       "      <th>Lung</th>\n",
       "      <th>Heart</th>\n",
       "      <th>CHO</th>\n",
       "      <th>Pancreas</th>\n",
       "      <th>BMDM1hKLA</th>\n",
       "      <th>FemaleReproductive</th>\n",
       "      <th>Muscle</th>\n",
       "      <th>Kidney</th>\n",
       "      <th>Spleen</th>\n",
       "      <th>BMDMwt</th>\n",
       "    </tr>\n",
       "  </thead>\n",
       "  <tbody>\n",
       "    <tr>\n",
       "      <td>0</td>\n",
       "      <td>0.769772</td>\n",
       "      <td>0.000000</td>\n",
       "      <td>0.839960</td>\n",
       "      <td>1.669027</td>\n",
       "      <td>0.875780</td>\n",
       "      <td>4.807149</td>\n",
       "      <td>0.000000</td>\n",
       "      <td>6.412782</td>\n",
       "      <td>0.704872</td>\n",
       "      <td>0.778209</td>\n",
       "      <td>1.646163</td>\n",
       "      <td>0.000000</td>\n",
       "      <td>0.000000</td>\n",
       "    </tr>\n",
       "    <tr>\n",
       "      <td>1</td>\n",
       "      <td>2.314697</td>\n",
       "      <td>1.070389</td>\n",
       "      <td>1.383260</td>\n",
       "      <td>4.137230</td>\n",
       "      <td>0.000000</td>\n",
       "      <td>0.000000</td>\n",
       "      <td>0.000000</td>\n",
       "      <td>0.000000</td>\n",
       "      <td>2.396434</td>\n",
       "      <td>0.627607</td>\n",
       "      <td>1.035624</td>\n",
       "      <td>2.132577</td>\n",
       "      <td>0.000000</td>\n",
       "    </tr>\n",
       "    <tr>\n",
       "      <td>2</td>\n",
       "      <td>0.769772</td>\n",
       "      <td>0.000000</td>\n",
       "      <td>1.529785</td>\n",
       "      <td>1.759866</td>\n",
       "      <td>0.000000</td>\n",
       "      <td>4.325099</td>\n",
       "      <td>1.316146</td>\n",
       "      <td>0.000000</td>\n",
       "      <td>2.329124</td>\n",
       "      <td>1.070389</td>\n",
       "      <td>1.521051</td>\n",
       "      <td>1.173127</td>\n",
       "      <td>2.735522</td>\n",
       "    </tr>\n",
       "    <tr>\n",
       "      <td>3</td>\n",
       "      <td>2.008989</td>\n",
       "      <td>0.000000</td>\n",
       "      <td>2.296982</td>\n",
       "      <td>1.396890</td>\n",
       "      <td>0.875780</td>\n",
       "      <td>1.422233</td>\n",
       "      <td>1.759156</td>\n",
       "      <td>0.000000</td>\n",
       "      <td>2.807355</td>\n",
       "      <td>1.319040</td>\n",
       "      <td>1.106572</td>\n",
       "      <td>1.954196</td>\n",
       "      <td>1.786596</td>\n",
       "    </tr>\n",
       "    <tr>\n",
       "      <td>4</td>\n",
       "      <td>6.820817</td>\n",
       "      <td>4.940167</td>\n",
       "      <td>7.572197</td>\n",
       "      <td>5.699515</td>\n",
       "      <td>4.733354</td>\n",
       "      <td>4.412240</td>\n",
       "      <td>6.592457</td>\n",
       "      <td>0.000000</td>\n",
       "      <td>7.103812</td>\n",
       "      <td>6.967514</td>\n",
       "      <td>5.480265</td>\n",
       "      <td>6.484622</td>\n",
       "      <td>2.134221</td>\n",
       "    </tr>\n",
       "  </tbody>\n",
       "</table>\n",
       "</div>"
      ],
      "text/plain": [
       "   MiscOrgans     Liver     Brain      Lung     Heart       CHO  Pancreas  \\\n",
       "0    0.769772  0.000000  0.839960  1.669027  0.875780  4.807149  0.000000   \n",
       "1    2.314697  1.070389  1.383260  4.137230  0.000000  0.000000  0.000000   \n",
       "2    0.769772  0.000000  1.529785  1.759866  0.000000  4.325099  1.316146   \n",
       "3    2.008989  0.000000  2.296982  1.396890  0.875780  1.422233  1.759156   \n",
       "4    6.820817  4.940167  7.572197  5.699515  4.733354  4.412240  6.592457   \n",
       "\n",
       "   BMDM1hKLA  FemaleReproductive    Muscle    Kidney    Spleen    BMDMwt  \n",
       "0   6.412782            0.704872  0.778209  1.646163  0.000000  0.000000  \n",
       "1   0.000000            2.396434  0.627607  1.035624  2.132577  0.000000  \n",
       "2   0.000000            2.329124  1.070389  1.521051  1.173127  2.735522  \n",
       "3   0.000000            2.807355  1.319040  1.106572  1.954196  1.786596  \n",
       "4   0.000000            7.103812  6.967514  5.480265  6.484622  2.134221  "
      ]
     },
     "execution_count": 9,
     "metadata": {},
     "output_type": "execute_result"
    }
   ],
   "source": [
    "tissue_expr = pd.read_csv(tissue_expr_f,sep='\\t', index_col=0)\n",
    "tissue_expr = np.log2(tissue_expr+1)\n",
    "tissue_expr.head()"
   ]
  },
  {
   "cell_type": "code",
   "execution_count": 10,
   "metadata": {
    "ExecuteTime": {
     "end_time": "2020-07-21T00:40:44.128064Z",
     "start_time": "2020-07-21T00:40:42.665851Z"
    },
    "scrolled": true
   },
   "outputs": [
    {
     "data": {
      "text/html": [
       "<div>\n",
       "<style scoped>\n",
       "    .dataframe tbody tr th:only-of-type {\n",
       "        vertical-align: middle;\n",
       "    }\n",
       "\n",
       "    .dataframe tbody tr th {\n",
       "        vertical-align: top;\n",
       "    }\n",
       "\n",
       "    .dataframe thead th {\n",
       "        text-align: right;\n",
       "    }\n",
       "</style>\n",
       "<table border=\"1\" class=\"dataframe\">\n",
       "  <thead>\n",
       "    <tr style=\"text-align: right;\">\n",
       "      <th></th>\n",
       "      <th>Chr</th>\n",
       "      <th>Start</th>\n",
       "      <th>End</th>\n",
       "      <th>Strand</th>\n",
       "      <th>Stat</th>\n",
       "      <th>Annotation</th>\n",
       "      <th>Nearest TSS</th>\n",
       "      <th>Distance to TSS</th>\n",
       "      <th>isSameStrand</th>\n",
       "      <th>Nearest gene</th>\n",
       "    </tr>\n",
       "    <tr>\n",
       "      <th>ID</th>\n",
       "      <th></th>\n",
       "      <th></th>\n",
       "      <th></th>\n",
       "      <th></th>\n",
       "      <th></th>\n",
       "      <th></th>\n",
       "      <th></th>\n",
       "      <th></th>\n",
       "      <th></th>\n",
       "      <th></th>\n",
       "    </tr>\n",
       "  </thead>\n",
       "  <tbody>\n",
       "    <tr>\n",
       "      <td>0</td>\n",
       "      <td>NW_020822452.1</td>\n",
       "      <td>16590385</td>\n",
       "      <td>16590385</td>\n",
       "      <td>+</td>\n",
       "      <td>16.227333</td>\n",
       "      <td>promoter-TSS (ID=id181373;Parent=rna15526;Dbxr...</td>\n",
       "      <td>XM_027399668.1</td>\n",
       "      <td>-462.0</td>\n",
       "      <td>False</td>\n",
       "      <td>Clic4</td>\n",
       "    </tr>\n",
       "    <tr>\n",
       "      <td>1</td>\n",
       "      <td>NW_020822597.1</td>\n",
       "      <td>23595396</td>\n",
       "      <td>23595396</td>\n",
       "      <td>+</td>\n",
       "      <td>5.740000</td>\n",
       "      <td>Intergenic</td>\n",
       "      <td>XM_027420351.1</td>\n",
       "      <td>-23850.0</td>\n",
       "      <td>True</td>\n",
       "      <td>Baz2b</td>\n",
       "    </tr>\n",
       "    <tr>\n",
       "      <td>2</td>\n",
       "      <td>NW_020822680.1</td>\n",
       "      <td>728718</td>\n",
       "      <td>728718</td>\n",
       "      <td>+</td>\n",
       "      <td>7.579579</td>\n",
       "      <td>promoter-TSS (ID=id609942;Parent=rna53731;Dbxr...</td>\n",
       "      <td>XM_027432478.1</td>\n",
       "      <td>746.0</td>\n",
       "      <td>False</td>\n",
       "      <td>Irak1</td>\n",
       "    </tr>\n",
       "    <tr>\n",
       "      <td>3</td>\n",
       "      <td>NW_020822602.1</td>\n",
       "      <td>10883205</td>\n",
       "      <td>10883205</td>\n",
       "      <td>+</td>\n",
       "      <td>3.992000</td>\n",
       "      <td>Intergenic</td>\n",
       "      <td>XM_027423054.1</td>\n",
       "      <td>9079.0</td>\n",
       "      <td>True</td>\n",
       "      <td>Gbgt1</td>\n",
       "    </tr>\n",
       "    <tr>\n",
       "      <td>4</td>\n",
       "      <td>NW_020822601.1</td>\n",
       "      <td>37427907</td>\n",
       "      <td>37427907</td>\n",
       "      <td>+</td>\n",
       "      <td>129.031738</td>\n",
       "      <td>promoter-TSS (ID=id474636;Parent=rna41512;Dbxr...</td>\n",
       "      <td>XM_027421990.1</td>\n",
       "      <td>-11.0</td>\n",
       "      <td>True</td>\n",
       "      <td>Shf</td>\n",
       "    </tr>\n",
       "    <tr>\n",
       "      <td>...</td>\n",
       "      <td>...</td>\n",
       "      <td>...</td>\n",
       "      <td>...</td>\n",
       "      <td>...</td>\n",
       "      <td>...</td>\n",
       "      <td>...</td>\n",
       "      <td>...</td>\n",
       "      <td>...</td>\n",
       "      <td>...</td>\n",
       "      <td>...</td>\n",
       "    </tr>\n",
       "    <tr>\n",
       "      <td>540122</td>\n",
       "      <td>NW_020822538.1</td>\n",
       "      <td>6114468</td>\n",
       "      <td>6114468</td>\n",
       "      <td>+</td>\n",
       "      <td>7.122000</td>\n",
       "      <td>promoter-TSS (ID=id398770;Parent=rna34727;Dbxr...</td>\n",
       "      <td>XM_027415967.1</td>\n",
       "      <td>-58.0</td>\n",
       "      <td>False</td>\n",
       "      <td>Selplg</td>\n",
       "    </tr>\n",
       "    <tr>\n",
       "      <td>540123</td>\n",
       "      <td>NW_020822487.1</td>\n",
       "      <td>8747242</td>\n",
       "      <td>8747242</td>\n",
       "      <td>+</td>\n",
       "      <td>7.508000</td>\n",
       "      <td>Intergenic</td>\n",
       "      <td>XM_027405626.1</td>\n",
       "      <td>-7856.0</td>\n",
       "      <td>True</td>\n",
       "      <td>Herpud1</td>\n",
       "    </tr>\n",
       "    <tr>\n",
       "      <td>540124</td>\n",
       "      <td>NW_020822407.1</td>\n",
       "      <td>2824603</td>\n",
       "      <td>2824603</td>\n",
       "      <td>+</td>\n",
       "      <td>3.612167</td>\n",
       "      <td>Intergenic</td>\n",
       "      <td>XM_027390727.1</td>\n",
       "      <td>-132495.0</td>\n",
       "      <td>True</td>\n",
       "      <td>Klf3</td>\n",
       "    </tr>\n",
       "    <tr>\n",
       "      <td>540125</td>\n",
       "      <td>NW_020822545.1</td>\n",
       "      <td>3178880</td>\n",
       "      <td>3178880</td>\n",
       "      <td>-</td>\n",
       "      <td>2.400286</td>\n",
       "      <td>TTS (ID=id403905;Parent=rna35141;Dbxref=GeneID...</td>\n",
       "      <td>XM_027416357.1</td>\n",
       "      <td>1383.0</td>\n",
       "      <td>True</td>\n",
       "      <td>Ccdc85c</td>\n",
       "    </tr>\n",
       "    <tr>\n",
       "      <td>540126</td>\n",
       "      <td>NW_020822601.1</td>\n",
       "      <td>8668670</td>\n",
       "      <td>8668670</td>\n",
       "      <td>+</td>\n",
       "      <td>3.498750</td>\n",
       "      <td>Intergenic</td>\n",
       "      <td>XM_027421498.1</td>\n",
       "      <td>21927.0</td>\n",
       "      <td>False</td>\n",
       "      <td>LOC100757597</td>\n",
       "    </tr>\n",
       "  </tbody>\n",
       "</table>\n",
       "<p>540127 rows × 10 columns</p>\n",
       "</div>"
      ],
      "text/plain": [
       "                   Chr     Start       End Strand        Stat  \\\n",
       "ID                                                              \n",
       "0       NW_020822452.1  16590385  16590385      +   16.227333   \n",
       "1       NW_020822597.1  23595396  23595396      +    5.740000   \n",
       "2       NW_020822680.1    728718    728718      +    7.579579   \n",
       "3       NW_020822602.1  10883205  10883205      +    3.992000   \n",
       "4       NW_020822601.1  37427907  37427907      +  129.031738   \n",
       "...                ...       ...       ...    ...         ...   \n",
       "540122  NW_020822538.1   6114468   6114468      +    7.122000   \n",
       "540123  NW_020822487.1   8747242   8747242      +    7.508000   \n",
       "540124  NW_020822407.1   2824603   2824603      +    3.612167   \n",
       "540125  NW_020822545.1   3178880   3178880      -    2.400286   \n",
       "540126  NW_020822601.1   8668670   8668670      +    3.498750   \n",
       "\n",
       "                                               Annotation     Nearest TSS  \\\n",
       "ID                                                                          \n",
       "0       promoter-TSS (ID=id181373;Parent=rna15526;Dbxr...  XM_027399668.1   \n",
       "1                                              Intergenic  XM_027420351.1   \n",
       "2       promoter-TSS (ID=id609942;Parent=rna53731;Dbxr...  XM_027432478.1   \n",
       "3                                              Intergenic  XM_027423054.1   \n",
       "4       promoter-TSS (ID=id474636;Parent=rna41512;Dbxr...  XM_027421990.1   \n",
       "...                                                   ...             ...   \n",
       "540122  promoter-TSS (ID=id398770;Parent=rna34727;Dbxr...  XM_027415967.1   \n",
       "540123                                         Intergenic  XM_027405626.1   \n",
       "540124                                         Intergenic  XM_027390727.1   \n",
       "540125  TTS (ID=id403905;Parent=rna35141;Dbxref=GeneID...  XM_027416357.1   \n",
       "540126                                         Intergenic  XM_027421498.1   \n",
       "\n",
       "        Distance to TSS  isSameStrand  Nearest gene  \n",
       "ID                                                   \n",
       "0                -462.0         False         Clic4  \n",
       "1              -23850.0          True         Baz2b  \n",
       "2                 746.0         False         Irak1  \n",
       "3                9079.0          True         Gbgt1  \n",
       "4                 -11.0          True           Shf  \n",
       "...                 ...           ...           ...  \n",
       "540122            -58.0         False        Selplg  \n",
       "540123          -7856.0          True       Herpud1  \n",
       "540124        -132495.0          True          Klf3  \n",
       "540125           1383.0          True       Ccdc85c  \n",
       "540126          21927.0         False  LOC100757597  \n",
       "\n",
       "[540127 rows x 10 columns]"
      ]
     },
     "execution_count": 10,
     "metadata": {},
     "output_type": "execute_result"
    }
   ],
   "source": [
    "peak_anno = pd.read_csv(peak_anno_f,sep='\\t', index_col=0)\n",
    "peak_anno"
   ]
  },
  {
   "cell_type": "code",
   "execution_count": 11,
   "metadata": {
    "ExecuteTime": {
     "end_time": "2020-07-21T00:40:47.802556Z",
     "start_time": "2020-07-21T00:40:44.130823Z"
    }
   },
   "outputs": [
    {
     "name": "stderr",
     "output_type": "stream",
     "text": [
      "/home/isshamie/software/anaconda2/envs/TSS/lib/python3.7/site-packages/IPython/core/interactiveshell.py:3051: DtypeWarning: Columns (8,9,10,11,12,13,14,15,16,17,18,19,20,21,22,23,24,25,26,27,28,29,30,31,32,33,34,35,36,37,38,39,40,41,42) have mixed types. Specify dtype option on import or set low_memory=False.\n",
      "  interactivity=interactivity, compiler=compiler, result=result)\n"
     ]
    },
    {
     "data": {
      "text/html": [
       "<div>\n",
       "<style scoped>\n",
       "    .dataframe tbody tr th:only-of-type {\n",
       "        vertical-align: middle;\n",
       "    }\n",
       "\n",
       "    .dataframe tbody tr th {\n",
       "        vertical-align: top;\n",
       "    }\n",
       "\n",
       "    .dataframe thead th {\n",
       "        text-align: right;\n",
       "    }\n",
       "</style>\n",
       "<table border=\"1\" class=\"dataframe\">\n",
       "  <thead>\n",
       "    <tr style=\"text-align: right;\">\n",
       "      <th></th>\n",
       "      <th>Chr</th>\n",
       "      <th>Start</th>\n",
       "      <th>End</th>\n",
       "      <th>Strand</th>\n",
       "      <th>Stat</th>\n",
       "      <th>Parent files</th>\n",
       "      <th>Total subpeaks</th>\n",
       "      <th>MiscOrgans_START1_and_MiscOrgans_startinput1</th>\n",
       "      <th>Liver_START2_and_Liver_startinput1</th>\n",
       "      <th>Brain_GROCap1_and_Brain_GRO1</th>\n",
       "      <th>...</th>\n",
       "      <th>MiscOrgans_START2_and_MiscOrgans_startinput1</th>\n",
       "      <th>Spleen_START1_and_Spleen_startinput1</th>\n",
       "      <th>Lung_START2_and_Lung_startinput1</th>\n",
       "      <th>CHO_START1_and_CHO_startinput1</th>\n",
       "      <th>FemaleReproductive_START1_and_FemaleReproductive_startinput1</th>\n",
       "      <th>Kidney_START2_and_Kidney_startinput1</th>\n",
       "      <th>Kidney_GROCap1_and_Kidney_GRO1</th>\n",
       "      <th>CHO_GROCap1_and_CHO_GRO1</th>\n",
       "      <th>BMDMwt_GROCap1_and_BMDMwt_GRO1</th>\n",
       "      <th>Spleen_START2_and_Spleen_startinput1</th>\n",
       "    </tr>\n",
       "    <tr>\n",
       "      <th>ID</th>\n",
       "      <th></th>\n",
       "      <th></th>\n",
       "      <th></th>\n",
       "      <th></th>\n",
       "      <th></th>\n",
       "      <th></th>\n",
       "      <th></th>\n",
       "      <th></th>\n",
       "      <th></th>\n",
       "      <th></th>\n",
       "      <th></th>\n",
       "      <th></th>\n",
       "      <th></th>\n",
       "      <th></th>\n",
       "      <th></th>\n",
       "      <th></th>\n",
       "      <th></th>\n",
       "      <th></th>\n",
       "      <th></th>\n",
       "      <th></th>\n",
       "      <th></th>\n",
       "    </tr>\n",
       "  </thead>\n",
       "  <tbody>\n",
       "    <tr>\n",
       "      <td>0</td>\n",
       "      <td>NW_020822452.1</td>\n",
       "      <td>16590187</td>\n",
       "      <td>16590584</td>\n",
       "      <td>+</td>\n",
       "      <td>16.227333</td>\n",
       "      <td>MiscOrgans_START1_and_MiscOrgans_startinput1|B...</td>\n",
       "      <td>15</td>\n",
       "      <td>NW_020822452.1-1136</td>\n",
       "      <td>NaN</td>\n",
       "      <td>NW_020822452.1-1139</td>\n",
       "      <td>...</td>\n",
       "      <td>NaN</td>\n",
       "      <td>NaN</td>\n",
       "      <td>NaN</td>\n",
       "      <td>NW_020822452.1-450</td>\n",
       "      <td>NaN</td>\n",
       "      <td>NaN</td>\n",
       "      <td>NW_020822452.1-419</td>\n",
       "      <td>NW_020822452.1-145</td>\n",
       "      <td>NaN</td>\n",
       "      <td>NaN</td>\n",
       "    </tr>\n",
       "    <tr>\n",
       "      <td>1</td>\n",
       "      <td>NW_020822597.1</td>\n",
       "      <td>23595304</td>\n",
       "      <td>23595489</td>\n",
       "      <td>+</td>\n",
       "      <td>5.740000</td>\n",
       "      <td>MiscOrgans_START1_and_MiscOrgans_startinput1|B...</td>\n",
       "      <td>16</td>\n",
       "      <td>NW_020822597.1-387</td>\n",
       "      <td>NaN</td>\n",
       "      <td>NW_020822597.1-324</td>\n",
       "      <td>...</td>\n",
       "      <td>NW_020822597.1-103</td>\n",
       "      <td>NW_020822597.1-248</td>\n",
       "      <td>NW_020822597.1-10</td>\n",
       "      <td>NaN</td>\n",
       "      <td>NW_020822597.1-101</td>\n",
       "      <td>NaN</td>\n",
       "      <td>NaN</td>\n",
       "      <td>NaN</td>\n",
       "      <td>NaN</td>\n",
       "      <td>NW_020822597.1-126</td>\n",
       "    </tr>\n",
       "    <tr>\n",
       "      <td>2</td>\n",
       "      <td>NW_020822680.1</td>\n",
       "      <td>728607</td>\n",
       "      <td>728829</td>\n",
       "      <td>+</td>\n",
       "      <td>7.579579</td>\n",
       "      <td>MiscOrgans_START1_and_MiscOrgans_startinput1|B...</td>\n",
       "      <td>19</td>\n",
       "      <td>NW_020822680.1-92</td>\n",
       "      <td>NaN</td>\n",
       "      <td>NW_020822680.1-114</td>\n",
       "      <td>...</td>\n",
       "      <td>NaN</td>\n",
       "      <td>NaN</td>\n",
       "      <td>NaN</td>\n",
       "      <td>NW_020822680.1-37</td>\n",
       "      <td>NW_020822680.1-56</td>\n",
       "      <td>NaN</td>\n",
       "      <td>NW_020822680.1-67</td>\n",
       "      <td>NW_020822680.1-19</td>\n",
       "      <td>NW_020822680.1-44</td>\n",
       "      <td>NW_020822680.1-72</td>\n",
       "    </tr>\n",
       "    <tr>\n",
       "      <td>3</td>\n",
       "      <td>NW_020822602.1</td>\n",
       "      <td>10883074</td>\n",
       "      <td>10883337</td>\n",
       "      <td>+</td>\n",
       "      <td>3.992000</td>\n",
       "      <td>MiscOrgans_START1_and_MiscOrgans_startinput1|B...</td>\n",
       "      <td>20</td>\n",
       "      <td>NW_020822602.1-204</td>\n",
       "      <td>NaN</td>\n",
       "      <td>NaN</td>\n",
       "      <td>...</td>\n",
       "      <td>NW_020822602.1-254</td>\n",
       "      <td>NW_020822602.1-122</td>\n",
       "      <td>NaN</td>\n",
       "      <td>NW_020822602.1-226</td>\n",
       "      <td>NaN</td>\n",
       "      <td>NaN</td>\n",
       "      <td>NaN</td>\n",
       "      <td>NW_020822602.1-303</td>\n",
       "      <td>NW_020822602.1-594</td>\n",
       "      <td>NW_020822602.1-266</td>\n",
       "    </tr>\n",
       "    <tr>\n",
       "      <td>4</td>\n",
       "      <td>NW_020822601.1</td>\n",
       "      <td>37427816</td>\n",
       "      <td>37427999</td>\n",
       "      <td>+</td>\n",
       "      <td>129.031738</td>\n",
       "      <td>MiscOrgans_START1_and_MiscOrgans_startinput1|B...</td>\n",
       "      <td>23</td>\n",
       "      <td>NW_020822601.1-18</td>\n",
       "      <td>NaN</td>\n",
       "      <td>NW_020822601.1-1445</td>\n",
       "      <td>...</td>\n",
       "      <td>NW_020822601.1-52</td>\n",
       "      <td>NW_020822601.1-123</td>\n",
       "      <td>NaN</td>\n",
       "      <td>NW_020822601.1-41</td>\n",
       "      <td>NaN</td>\n",
       "      <td>NaN</td>\n",
       "      <td>NW_020822601.1-1949</td>\n",
       "      <td>NW_020822601.1-992</td>\n",
       "      <td>NW_020822601.1-2287</td>\n",
       "      <td>NW_020822601.1-12</td>\n",
       "    </tr>\n",
       "  </tbody>\n",
       "</table>\n",
       "<p>5 rows × 42 columns</p>\n",
       "</div>"
      ],
      "text/plain": [
       "               Chr     Start       End Strand        Stat  \\\n",
       "ID                                                          \n",
       "0   NW_020822452.1  16590187  16590584      +   16.227333   \n",
       "1   NW_020822597.1  23595304  23595489      +    5.740000   \n",
       "2   NW_020822680.1    728607    728829      +    7.579579   \n",
       "3   NW_020822602.1  10883074  10883337      +    3.992000   \n",
       "4   NW_020822601.1  37427816  37427999      +  129.031738   \n",
       "\n",
       "                                         Parent files  Total subpeaks  \\\n",
       "ID                                                                      \n",
       "0   MiscOrgans_START1_and_MiscOrgans_startinput1|B...              15   \n",
       "1   MiscOrgans_START1_and_MiscOrgans_startinput1|B...              16   \n",
       "2   MiscOrgans_START1_and_MiscOrgans_startinput1|B...              19   \n",
       "3   MiscOrgans_START1_and_MiscOrgans_startinput1|B...              20   \n",
       "4   MiscOrgans_START1_and_MiscOrgans_startinput1|B...              23   \n",
       "\n",
       "   MiscOrgans_START1_and_MiscOrgans_startinput1  \\\n",
       "ID                                                \n",
       "0                           NW_020822452.1-1136   \n",
       "1                            NW_020822597.1-387   \n",
       "2                             NW_020822680.1-92   \n",
       "3                            NW_020822602.1-204   \n",
       "4                             NW_020822601.1-18   \n",
       "\n",
       "   Liver_START2_and_Liver_startinput1 Brain_GROCap1_and_Brain_GRO1  ...  \\\n",
       "ID                                                                  ...   \n",
       "0                                 NaN          NW_020822452.1-1139  ...   \n",
       "1                                 NaN           NW_020822597.1-324  ...   \n",
       "2                                 NaN           NW_020822680.1-114  ...   \n",
       "3                                 NaN                          NaN  ...   \n",
       "4                                 NaN          NW_020822601.1-1445  ...   \n",
       "\n",
       "   MiscOrgans_START2_and_MiscOrgans_startinput1  \\\n",
       "ID                                                \n",
       "0                                           NaN   \n",
       "1                            NW_020822597.1-103   \n",
       "2                                           NaN   \n",
       "3                            NW_020822602.1-254   \n",
       "4                             NW_020822601.1-52   \n",
       "\n",
       "   Spleen_START1_and_Spleen_startinput1 Lung_START2_and_Lung_startinput1  \\\n",
       "ID                                                                         \n",
       "0                                   NaN                              NaN   \n",
       "1                    NW_020822597.1-248                NW_020822597.1-10   \n",
       "2                                   NaN                              NaN   \n",
       "3                    NW_020822602.1-122                              NaN   \n",
       "4                    NW_020822601.1-123                              NaN   \n",
       "\n",
       "   CHO_START1_and_CHO_startinput1  \\\n",
       "ID                                  \n",
       "0              NW_020822452.1-450   \n",
       "1                             NaN   \n",
       "2               NW_020822680.1-37   \n",
       "3              NW_020822602.1-226   \n",
       "4               NW_020822601.1-41   \n",
       "\n",
       "   FemaleReproductive_START1_and_FemaleReproductive_startinput1  \\\n",
       "ID                                                                \n",
       "0                                                 NaN             \n",
       "1                                  NW_020822597.1-101             \n",
       "2                                   NW_020822680.1-56             \n",
       "3                                                 NaN             \n",
       "4                                                 NaN             \n",
       "\n",
       "   Kidney_START2_and_Kidney_startinput1 Kidney_GROCap1_and_Kidney_GRO1  \\\n",
       "ID                                                                       \n",
       "0                                   NaN             NW_020822452.1-419   \n",
       "1                                   NaN                            NaN   \n",
       "2                                   NaN              NW_020822680.1-67   \n",
       "3                                   NaN                            NaN   \n",
       "4                                   NaN            NW_020822601.1-1949   \n",
       "\n",
       "   CHO_GROCap1_and_CHO_GRO1 BMDMwt_GROCap1_and_BMDMwt_GRO1  \\\n",
       "ID                                                           \n",
       "0        NW_020822452.1-145                            NaN   \n",
       "1                       NaN                            NaN   \n",
       "2         NW_020822680.1-19              NW_020822680.1-44   \n",
       "3        NW_020822602.1-303             NW_020822602.1-594   \n",
       "4        NW_020822601.1-992            NW_020822601.1-2287   \n",
       "\n",
       "   Spleen_START2_and_Spleen_startinput1  \n",
       "ID                                       \n",
       "0                                   NaN  \n",
       "1                    NW_020822597.1-126  \n",
       "2                     NW_020822680.1-72  \n",
       "3                    NW_020822602.1-266  \n",
       "4                     NW_020822601.1-12  \n",
       "\n",
       "[5 rows x 42 columns]"
      ]
     },
     "execution_count": 11,
     "metadata": {},
     "output_type": "execute_result"
    }
   ],
   "source": [
    "merged_df = pd.read_csv(merged_f,sep='\\t', index_col=0)\n",
    "merged_df.head()"
   ]
  },
  {
   "cell_type": "markdown",
   "metadata": {},
   "source": [
    "## Average the BMDM samples"
   ]
  },
  {
   "cell_type": "code",
   "execution_count": 12,
   "metadata": {
    "ExecuteTime": {
     "end_time": "2020-07-21T00:40:47.827762Z",
     "start_time": "2020-07-21T00:40:47.805020Z"
    }
   },
   "outputs": [],
   "source": [
    "BMDM = tissue_expr.columns.str.contains(\"BMDM\")"
   ]
  },
  {
   "cell_type": "code",
   "execution_count": 13,
   "metadata": {
    "ExecuteTime": {
     "end_time": "2020-07-21T00:40:49.487859Z",
     "start_time": "2020-07-21T00:40:47.829518Z"
    },
    "scrolled": true
   },
   "outputs": [
    {
     "data": {
      "text/html": [
       "<div>\n",
       "<style scoped>\n",
       "    .dataframe tbody tr th:only-of-type {\n",
       "        vertical-align: middle;\n",
       "    }\n",
       "\n",
       "    .dataframe tbody tr th {\n",
       "        vertical-align: top;\n",
       "    }\n",
       "\n",
       "    .dataframe thead th {\n",
       "        text-align: right;\n",
       "    }\n",
       "</style>\n",
       "<table border=\"1\" class=\"dataframe\">\n",
       "  <thead>\n",
       "    <tr style=\"text-align: right;\">\n",
       "      <th></th>\n",
       "      <th>BMDM</th>\n",
       "      <th>MiscOrgans</th>\n",
       "      <th>Liver</th>\n",
       "      <th>Brain</th>\n",
       "      <th>Lung</th>\n",
       "      <th>Heart</th>\n",
       "      <th>CHO</th>\n",
       "      <th>Pancreas</th>\n",
       "      <th>FemaleReproductive</th>\n",
       "      <th>Muscle</th>\n",
       "      <th>Kidney</th>\n",
       "      <th>Spleen</th>\n",
       "    </tr>\n",
       "  </thead>\n",
       "  <tbody>\n",
       "    <tr>\n",
       "      <td>0</td>\n",
       "      <td>3.206391</td>\n",
       "      <td>0.769772</td>\n",
       "      <td>0.000000</td>\n",
       "      <td>0.839960</td>\n",
       "      <td>1.669027</td>\n",
       "      <td>0.875780</td>\n",
       "      <td>4.807149</td>\n",
       "      <td>0.000000</td>\n",
       "      <td>0.704872</td>\n",
       "      <td>0.778209</td>\n",
       "      <td>1.646163</td>\n",
       "      <td>0.000000</td>\n",
       "    </tr>\n",
       "    <tr>\n",
       "      <td>1</td>\n",
       "      <td>0.000000</td>\n",
       "      <td>2.314697</td>\n",
       "      <td>1.070389</td>\n",
       "      <td>1.383260</td>\n",
       "      <td>4.137230</td>\n",
       "      <td>0.000000</td>\n",
       "      <td>0.000000</td>\n",
       "      <td>0.000000</td>\n",
       "      <td>2.396434</td>\n",
       "      <td>0.627607</td>\n",
       "      <td>1.035624</td>\n",
       "      <td>2.132577</td>\n",
       "    </tr>\n",
       "    <tr>\n",
       "      <td>2</td>\n",
       "      <td>1.367761</td>\n",
       "      <td>0.769772</td>\n",
       "      <td>0.000000</td>\n",
       "      <td>1.529785</td>\n",
       "      <td>1.759866</td>\n",
       "      <td>0.000000</td>\n",
       "      <td>4.325099</td>\n",
       "      <td>1.316146</td>\n",
       "      <td>2.329124</td>\n",
       "      <td>1.070389</td>\n",
       "      <td>1.521051</td>\n",
       "      <td>1.173127</td>\n",
       "    </tr>\n",
       "    <tr>\n",
       "      <td>3</td>\n",
       "      <td>0.893298</td>\n",
       "      <td>2.008989</td>\n",
       "      <td>0.000000</td>\n",
       "      <td>2.296982</td>\n",
       "      <td>1.396890</td>\n",
       "      <td>0.875780</td>\n",
       "      <td>1.422233</td>\n",
       "      <td>1.759156</td>\n",
       "      <td>2.807355</td>\n",
       "      <td>1.319040</td>\n",
       "      <td>1.106572</td>\n",
       "      <td>1.954196</td>\n",
       "    </tr>\n",
       "    <tr>\n",
       "      <td>4</td>\n",
       "      <td>1.067110</td>\n",
       "      <td>6.820817</td>\n",
       "      <td>4.940167</td>\n",
       "      <td>7.572197</td>\n",
       "      <td>5.699515</td>\n",
       "      <td>4.733354</td>\n",
       "      <td>4.412240</td>\n",
       "      <td>6.592457</td>\n",
       "      <td>7.103812</td>\n",
       "      <td>6.967514</td>\n",
       "      <td>5.480265</td>\n",
       "      <td>6.484622</td>\n",
       "    </tr>\n",
       "    <tr>\n",
       "      <td>...</td>\n",
       "      <td>...</td>\n",
       "      <td>...</td>\n",
       "      <td>...</td>\n",
       "      <td>...</td>\n",
       "      <td>...</td>\n",
       "      <td>...</td>\n",
       "      <td>...</td>\n",
       "      <td>...</td>\n",
       "      <td>...</td>\n",
       "      <td>...</td>\n",
       "      <td>...</td>\n",
       "      <td>...</td>\n",
       "    </tr>\n",
       "    <tr>\n",
       "      <td>540122</td>\n",
       "      <td>1.007178</td>\n",
       "      <td>0.918386</td>\n",
       "      <td>0.000000</td>\n",
       "      <td>0.000000</td>\n",
       "      <td>0.941106</td>\n",
       "      <td>0.000000</td>\n",
       "      <td>0.000000</td>\n",
       "      <td>1.358959</td>\n",
       "      <td>0.000000</td>\n",
       "      <td>0.000000</td>\n",
       "      <td>0.000000</td>\n",
       "      <td>3.749534</td>\n",
       "    </tr>\n",
       "    <tr>\n",
       "      <td>540123</td>\n",
       "      <td>2.292481</td>\n",
       "      <td>0.718088</td>\n",
       "      <td>0.000000</td>\n",
       "      <td>0.000000</td>\n",
       "      <td>1.086331</td>\n",
       "      <td>0.000000</td>\n",
       "      <td>0.000000</td>\n",
       "      <td>0.956057</td>\n",
       "      <td>0.000000</td>\n",
       "      <td>0.000000</td>\n",
       "      <td>0.000000</td>\n",
       "      <td>2.321928</td>\n",
       "    </tr>\n",
       "    <tr>\n",
       "      <td>540124</td>\n",
       "      <td>1.277908</td>\n",
       "      <td>0.000000</td>\n",
       "      <td>0.000000</td>\n",
       "      <td>0.000000</td>\n",
       "      <td>1.629162</td>\n",
       "      <td>0.000000</td>\n",
       "      <td>0.000000</td>\n",
       "      <td>0.000000</td>\n",
       "      <td>0.000000</td>\n",
       "      <td>0.000000</td>\n",
       "      <td>0.394331</td>\n",
       "      <td>2.532317</td>\n",
       "    </tr>\n",
       "    <tr>\n",
       "      <td>540125</td>\n",
       "      <td>0.931969</td>\n",
       "      <td>2.161888</td>\n",
       "      <td>0.000000</td>\n",
       "      <td>0.547661</td>\n",
       "      <td>0.920928</td>\n",
       "      <td>0.000000</td>\n",
       "      <td>0.333424</td>\n",
       "      <td>0.000000</td>\n",
       "      <td>0.000000</td>\n",
       "      <td>0.000000</td>\n",
       "      <td>0.000000</td>\n",
       "      <td>0.000000</td>\n",
       "    </tr>\n",
       "    <tr>\n",
       "      <td>540126</td>\n",
       "      <td>0.000000</td>\n",
       "      <td>1.839960</td>\n",
       "      <td>0.000000</td>\n",
       "      <td>0.288569</td>\n",
       "      <td>1.605652</td>\n",
       "      <td>0.000000</td>\n",
       "      <td>0.000000</td>\n",
       "      <td>0.000000</td>\n",
       "      <td>1.411426</td>\n",
       "      <td>1.482848</td>\n",
       "      <td>1.905608</td>\n",
       "      <td>0.000000</td>\n",
       "    </tr>\n",
       "  </tbody>\n",
       "</table>\n",
       "<p>540127 rows × 12 columns</p>\n",
       "</div>"
      ],
      "text/plain": [
       "            BMDM  MiscOrgans     Liver     Brain      Lung     Heart  \\\n",
       "0       3.206391    0.769772  0.000000  0.839960  1.669027  0.875780   \n",
       "1       0.000000    2.314697  1.070389  1.383260  4.137230  0.000000   \n",
       "2       1.367761    0.769772  0.000000  1.529785  1.759866  0.000000   \n",
       "3       0.893298    2.008989  0.000000  2.296982  1.396890  0.875780   \n",
       "4       1.067110    6.820817  4.940167  7.572197  5.699515  4.733354   \n",
       "...          ...         ...       ...       ...       ...       ...   \n",
       "540122  1.007178    0.918386  0.000000  0.000000  0.941106  0.000000   \n",
       "540123  2.292481    0.718088  0.000000  0.000000  1.086331  0.000000   \n",
       "540124  1.277908    0.000000  0.000000  0.000000  1.629162  0.000000   \n",
       "540125  0.931969    2.161888  0.000000  0.547661  0.920928  0.000000   \n",
       "540126  0.000000    1.839960  0.000000  0.288569  1.605652  0.000000   \n",
       "\n",
       "             CHO  Pancreas  FemaleReproductive    Muscle    Kidney    Spleen  \n",
       "0       4.807149  0.000000            0.704872  0.778209  1.646163  0.000000  \n",
       "1       0.000000  0.000000            2.396434  0.627607  1.035624  2.132577  \n",
       "2       4.325099  1.316146            2.329124  1.070389  1.521051  1.173127  \n",
       "3       1.422233  1.759156            2.807355  1.319040  1.106572  1.954196  \n",
       "4       4.412240  6.592457            7.103812  6.967514  5.480265  6.484622  \n",
       "...          ...       ...                 ...       ...       ...       ...  \n",
       "540122  0.000000  1.358959            0.000000  0.000000  0.000000  3.749534  \n",
       "540123  0.000000  0.956057            0.000000  0.000000  0.000000  2.321928  \n",
       "540124  0.000000  0.000000            0.000000  0.000000  0.394331  2.532317  \n",
       "540125  0.333424  0.000000            0.000000  0.000000  0.000000  0.000000  \n",
       "540126  0.000000  0.000000            1.411426  1.482848  1.905608  0.000000  \n",
       "\n",
       "[540127 rows x 12 columns]"
      ]
     },
     "execution_count": 13,
     "metadata": {},
     "output_type": "execute_result"
    }
   ],
   "source": [
    "bmdm_map = defaultdict(list)\n",
    "bmdm_map['BMDM'] = ['BMDMwt','BMDM1hKLA']\n",
    "for i in tissue_expr.columns:\n",
    "    if i not in bmdm_map['BMDM']:\n",
    "        bmdm_map[i] = [i]\n",
    "tissue_expr = merge_columns(tissue_expr,bmdm_map)\n",
    "tissue_expr"
   ]
  },
  {
   "cell_type": "markdown",
   "metadata": {},
   "source": [
    "## Create prom peaks and get zscore\n",
    "Do this by taking the new annotation indices, and doing additional filter for the max value over 1, which loses ~6000 peaks"
   ]
  },
  {
   "cell_type": "code",
   "execution_count": 14,
   "metadata": {
    "ExecuteTime": {
     "end_time": "2020-07-21T00:40:49.514662Z",
     "start_time": "2020-07-21T00:40:49.490413Z"
    },
    "scrolled": true
   },
   "outputs": [
    {
     "name": "stdout",
     "output_type": "stream",
     "text": [
      "(540127, 10)\n",
      "(540127, 12)\n"
     ]
    }
   ],
   "source": [
    "print(peak_anno.shape)\n",
    "print(tissue_expr.shape)"
   ]
  },
  {
   "cell_type": "code",
   "execution_count": 15,
   "metadata": {
    "ExecuteTime": {
     "end_time": "2020-07-21T00:40:49.551287Z",
     "start_time": "2020-07-21T00:40:49.516656Z"
    },
    "scrolled": true
   },
   "outputs": [
    {
     "name": "stdout",
     "output_type": "stream",
     "text": [
      "Number of isoforms covered: (30755,)\n"
     ]
    }
   ],
   "source": [
    "prom_index = meta_df.dropna(subset=[\"ID\"])[\"ID\"].astype(int).values\n",
    "print(f\"Number of isoforms covered: {prom_index.shape}\")"
   ]
  },
  {
   "cell_type": "code",
   "execution_count": 16,
   "metadata": {
    "ExecuteTime": {
     "end_time": "2020-07-21T00:40:49.901449Z",
     "start_time": "2020-07-21T00:40:49.553347Z"
    },
    "scrolled": true
   },
   "outputs": [
    {
     "name": "stdout",
     "output_type": "stream",
     "text": [
      "Number of isoforms covered after filtering values where max CPM < 1: (24662,)\n"
     ]
    },
    {
     "data": {
      "text/html": [
       "<div>\n",
       "<style scoped>\n",
       "    .dataframe tbody tr th:only-of-type {\n",
       "        vertical-align: middle;\n",
       "    }\n",
       "\n",
       "    .dataframe tbody tr th {\n",
       "        vertical-align: top;\n",
       "    }\n",
       "\n",
       "    .dataframe thead th {\n",
       "        text-align: right;\n",
       "    }\n",
       "</style>\n",
       "<table border=\"1\" class=\"dataframe\">\n",
       "  <thead>\n",
       "    <tr style=\"text-align: right;\">\n",
       "      <th></th>\n",
       "      <th>Chr</th>\n",
       "      <th>Start</th>\n",
       "      <th>End</th>\n",
       "      <th>Strand</th>\n",
       "      <th>Stat</th>\n",
       "      <th>Annotation</th>\n",
       "      <th>Nearest TSS</th>\n",
       "      <th>Distance to TSS</th>\n",
       "      <th>isSameStrand</th>\n",
       "      <th>Nearest gene</th>\n",
       "    </tr>\n",
       "  </thead>\n",
       "  <tbody>\n",
       "    <tr>\n",
       "      <td>90264</td>\n",
       "      <td>NW_020822366.1</td>\n",
       "      <td>721693</td>\n",
       "      <td>721693</td>\n",
       "      <td>-</td>\n",
       "      <td>1.925000</td>\n",
       "      <td>promoter-TSS (ID=id20;Parent=rna6;Dbxref=GeneI...</td>\n",
       "      <td>XM_027386529.1</td>\n",
       "      <td>615.0</td>\n",
       "      <td>True</td>\n",
       "      <td>Bmp4</td>\n",
       "    </tr>\n",
       "    <tr>\n",
       "      <td>348823</td>\n",
       "      <td>NW_020822366.1</td>\n",
       "      <td>722245</td>\n",
       "      <td>722245</td>\n",
       "      <td>-</td>\n",
       "      <td>11.365000</td>\n",
       "      <td>promoter-TSS (ID=id20;Parent=rna6;Dbxref=GeneI...</td>\n",
       "      <td>XM_027386529.1</td>\n",
       "      <td>63.0</td>\n",
       "      <td>True</td>\n",
       "      <td>Bmp4</td>\n",
       "    </tr>\n",
       "    <tr>\n",
       "      <td>308710</td>\n",
       "      <td>NW_020822366.1</td>\n",
       "      <td>724583</td>\n",
       "      <td>724583</td>\n",
       "      <td>-</td>\n",
       "      <td>508.846375</td>\n",
       "      <td>promoter-TSS (ID=id19;Parent=rna6;Dbxref=GeneI...</td>\n",
       "      <td>XM_027386528.1</td>\n",
       "      <td>27.0</td>\n",
       "      <td>True</td>\n",
       "      <td>Bmp4</td>\n",
       "    </tr>\n",
       "    <tr>\n",
       "      <td>237253</td>\n",
       "      <td>NW_020822366.1</td>\n",
       "      <td>1085509</td>\n",
       "      <td>1085509</td>\n",
       "      <td>+</td>\n",
       "      <td>4.021250</td>\n",
       "      <td>promoter-TSS (ID=id35;Parent=rna10;Dbxref=Gene...</td>\n",
       "      <td>XM_027386531.1</td>\n",
       "      <td>74.0</td>\n",
       "      <td>True</td>\n",
       "      <td>Cdkn3</td>\n",
       "    </tr>\n",
       "    <tr>\n",
       "      <td>298307</td>\n",
       "      <td>NW_020822366.1</td>\n",
       "      <td>1114325</td>\n",
       "      <td>1114325</td>\n",
       "      <td>-</td>\n",
       "      <td>12.648621</td>\n",
       "      <td>promoter-TSS (ID=id59;Parent=rna13;Dbxref=Gene...</td>\n",
       "      <td>XM_027386534.1</td>\n",
       "      <td>88.0</td>\n",
       "      <td>True</td>\n",
       "      <td>Cnih1</td>\n",
       "    </tr>\n",
       "    <tr>\n",
       "      <td>...</td>\n",
       "      <td>...</td>\n",
       "      <td>...</td>\n",
       "      <td>...</td>\n",
       "      <td>...</td>\n",
       "      <td>...</td>\n",
       "      <td>...</td>\n",
       "      <td>...</td>\n",
       "      <td>...</td>\n",
       "      <td>...</td>\n",
       "      <td>...</td>\n",
       "    </tr>\n",
       "    <tr>\n",
       "      <td>23577</td>\n",
       "      <td>NW_020824066.1</td>\n",
       "      <td>29475</td>\n",
       "      <td>29475</td>\n",
       "      <td>+</td>\n",
       "      <td>9.722308</td>\n",
       "      <td>promoter-TSS (ID=id632329;Parent=rna56231;Dbxr...</td>\n",
       "      <td>XM_027434536.1</td>\n",
       "      <td>-170.0</td>\n",
       "      <td>True</td>\n",
       "      <td>LOC113839076</td>\n",
       "    </tr>\n",
       "    <tr>\n",
       "      <td>137781</td>\n",
       "      <td>NW_020824066.1</td>\n",
       "      <td>29902</td>\n",
       "      <td>29902</td>\n",
       "      <td>+</td>\n",
       "      <td>1.627143</td>\n",
       "      <td>exon (ID=id632329;Parent=rna56231;Dbxref=GeneI...</td>\n",
       "      <td>XM_027434535.1</td>\n",
       "      <td>256.0</td>\n",
       "      <td>True</td>\n",
       "      <td>LOC113839076</td>\n",
       "    </tr>\n",
       "    <tr>\n",
       "      <td>239374</td>\n",
       "      <td>NW_020824120.1</td>\n",
       "      <td>10039</td>\n",
       "      <td>10039</td>\n",
       "      <td>+</td>\n",
       "      <td>2.245000</td>\n",
       "      <td>promoter-TSS (ID=id632565;Parent=rna56267;Dbxr...</td>\n",
       "      <td>XM_027434561.1</td>\n",
       "      <td>-422.0</td>\n",
       "      <td>True</td>\n",
       "      <td>LOC113839111</td>\n",
       "    </tr>\n",
       "    <tr>\n",
       "      <td>127972</td>\n",
       "      <td>NW_020824120.1</td>\n",
       "      <td>10492</td>\n",
       "      <td>10492</td>\n",
       "      <td>+</td>\n",
       "      <td>11.197500</td>\n",
       "      <td>promoter-TSS (ID=id632565;Parent=rna56267;Dbxr...</td>\n",
       "      <td>XM_027434561.1</td>\n",
       "      <td>31.0</td>\n",
       "      <td>True</td>\n",
       "      <td>LOC113839111</td>\n",
       "    </tr>\n",
       "    <tr>\n",
       "      <td>395599</td>\n",
       "      <td>NW_020824123.1</td>\n",
       "      <td>694</td>\n",
       "      <td>694</td>\n",
       "      <td>+</td>\n",
       "      <td>3.020000</td>\n",
       "      <td>promoter-TSS (ID=id632588;Parent=rna56270;Dbxr...</td>\n",
       "      <td>XM_027434564.1</td>\n",
       "      <td>-859.0</td>\n",
       "      <td>True</td>\n",
       "      <td>LOC113839113</td>\n",
       "    </tr>\n",
       "  </tbody>\n",
       "</table>\n",
       "<p>24662 rows × 10 columns</p>\n",
       "</div>"
      ],
      "text/plain": [
       "                   Chr    Start      End Strand        Stat  \\\n",
       "90264   NW_020822366.1   721693   721693      -    1.925000   \n",
       "348823  NW_020822366.1   722245   722245      -   11.365000   \n",
       "308710  NW_020822366.1   724583   724583      -  508.846375   \n",
       "237253  NW_020822366.1  1085509  1085509      +    4.021250   \n",
       "298307  NW_020822366.1  1114325  1114325      -   12.648621   \n",
       "...                ...      ...      ...    ...         ...   \n",
       "23577   NW_020824066.1    29475    29475      +    9.722308   \n",
       "137781  NW_020824066.1    29902    29902      +    1.627143   \n",
       "239374  NW_020824120.1    10039    10039      +    2.245000   \n",
       "127972  NW_020824120.1    10492    10492      +   11.197500   \n",
       "395599  NW_020824123.1      694      694      +    3.020000   \n",
       "\n",
       "                                               Annotation     Nearest TSS  \\\n",
       "90264   promoter-TSS (ID=id20;Parent=rna6;Dbxref=GeneI...  XM_027386529.1   \n",
       "348823  promoter-TSS (ID=id20;Parent=rna6;Dbxref=GeneI...  XM_027386529.1   \n",
       "308710  promoter-TSS (ID=id19;Parent=rna6;Dbxref=GeneI...  XM_027386528.1   \n",
       "237253  promoter-TSS (ID=id35;Parent=rna10;Dbxref=Gene...  XM_027386531.1   \n",
       "298307  promoter-TSS (ID=id59;Parent=rna13;Dbxref=Gene...  XM_027386534.1   \n",
       "...                                                   ...             ...   \n",
       "23577   promoter-TSS (ID=id632329;Parent=rna56231;Dbxr...  XM_027434536.1   \n",
       "137781  exon (ID=id632329;Parent=rna56231;Dbxref=GeneI...  XM_027434535.1   \n",
       "239374  promoter-TSS (ID=id632565;Parent=rna56267;Dbxr...  XM_027434561.1   \n",
       "127972  promoter-TSS (ID=id632565;Parent=rna56267;Dbxr...  XM_027434561.1   \n",
       "395599  promoter-TSS (ID=id632588;Parent=rna56270;Dbxr...  XM_027434564.1   \n",
       "\n",
       "        Distance to TSS  isSameStrand  Nearest gene  \n",
       "90264             615.0          True          Bmp4  \n",
       "348823             63.0          True          Bmp4  \n",
       "308710             27.0          True          Bmp4  \n",
       "237253             74.0          True         Cdkn3  \n",
       "298307             88.0          True         Cnih1  \n",
       "...                 ...           ...           ...  \n",
       "23577            -170.0          True  LOC113839076  \n",
       "137781            256.0          True  LOC113839076  \n",
       "239374           -422.0          True  LOC113839111  \n",
       "127972             31.0          True  LOC113839111  \n",
       "395599           -859.0          True  LOC113839113  \n",
       "\n",
       "[24662 rows x 10 columns]"
      ]
     },
     "execution_count": 16,
     "metadata": {},
     "output_type": "execute_result"
    }
   ],
   "source": [
    "prom_expr = tissue_expr.loc[prom_index]\n",
    "prom_expr = prom_expr[(prom_expr.max(axis=1) >= 1)]\n",
    "prom_index=prom_expr.index\n",
    "print(f\"Number of isoforms covered after filtering values where max CPM < 1: {prom_index.shape}\")\n",
    "prom_anno = peak_anno.loc[prom_index]\n",
    "prom_merged = merged_df.loc[prom_index]\n",
    "prom_anno"
   ]
  },
  {
   "cell_type": "code",
   "execution_count": 17,
   "metadata": {
    "ExecuteTime": {
     "end_time": "2020-07-21T00:40:55.589565Z",
     "start_time": "2020-07-21T00:40:49.903574Z"
    },
    "scrolled": true
   },
   "outputs": [
    {
     "data": {
      "text/plain": [
       "90264    -1.110223e-16\n",
       "348823    9.992007e-16\n",
       "308710   -1.935951e-15\n",
       "237253   -1.332268e-15\n",
       "298307    2.442491e-15\n",
       "              ...     \n",
       "23577    -3.552714e-15\n",
       "137781    0.000000e+00\n",
       "239374   -6.661338e-16\n",
       "127972    1.221245e-15\n",
       "395599    0.000000e+00\n",
       "Length: 24662, dtype: float64"
      ]
     },
     "execution_count": 17,
     "metadata": {},
     "output_type": "execute_result"
    }
   ],
   "source": [
    "prom_expr_z = prom_expr.transpose().apply(zscore).transpose()\n",
    "prom_expr_z.sum(axis=1)"
   ]
  },
  {
   "cell_type": "markdown",
   "metadata": {},
   "source": [
    "### For each tissue, calculate how many have z-score above 2\n",
    "Also see how many have the same peak like that"
   ]
  },
  {
   "cell_type": "code",
   "execution_count": 18,
   "metadata": {
    "ExecuteTime": {
     "end_time": "2020-07-21T00:40:56.454398Z",
     "start_time": "2020-07-21T00:40:55.591548Z"
    },
    "scrolled": true
   },
   "outputs": [
    {
     "data": {
      "image/png": "[encoded data removed]",
      "text/plain": [
       "<Figure size 576x432 with 1 Axes>"
      ]
     },
     "metadata": {
      "image/png": {
       "height": 464,
       "width": 506
      }
     },
     "output_type": "display_data"
    }
   ],
   "source": [
    "sns.barplot(x='index',y=0, data=(prom_expr_z>2).sum().reset_index())\n",
    "plt.xticks(rotation=90)\n",
    "plt.ylabel(\"Number of enriched promoter peaks\")\n",
    "helper_save(join(prom_enr_dir, \"number_of_enriched_peaks_per_tissue\"))"
   ]
  },
  {
   "cell_type": "code",
   "execution_count": 19,
   "metadata": {
    "ExecuteTime": {
     "end_time": "2020-07-21T00:40:56.728244Z",
     "start_time": "2020-07-21T00:40:56.456891Z"
    },
    "scrolled": true
   },
   "outputs": [
    {
     "data": {
      "text/plain": [
       "<matplotlib.axes._subplots.AxesSubplot at 0x7f2bf6dcdd30>"
      ]
     },
     "execution_count": 19,
     "metadata": {},
     "output_type": "execute_result"
    },
    {
     "data": {
      "image/png": "[encoded data removed]",
      "text/plain": [
       "<Figure size 576x432 with 1 Axes>"
      ]
     },
     "metadata": {
      "image/png": {
       "height": 357,
       "width": 513
      },
      "needs_background": "light"
     },
     "output_type": "display_data"
    }
   ],
   "source": [
    "sns.countplot((prom_expr_z>2).sum(axis=1))"
   ]
  },
  {
   "cell_type": "code",
   "execution_count": 20,
   "metadata": {
    "ExecuteTime": {
     "end_time": "2020-07-21T00:40:57.133930Z",
     "start_time": "2020-07-21T00:40:56.730824Z"
    },
    "scrolled": true
   },
   "outputs": [
    {
     "data": {
      "text/plain": [
       "(array([ 0,  1,  2,  3,  4,  5,  6,  7,  8,  9, 10, 11]),\n",
       " <a list of 12 Text xticklabel objects>)"
      ]
     },
     "execution_count": 20,
     "metadata": {},
     "output_type": "execute_result"
    },
    {
     "data": {
      "image/png": "[encoded data removed]",
      "text/plain": [
       "<Figure size 576x432 with 1 Axes>"
      ]
     },
     "metadata": {
      "image/png": {
       "height": 465,
       "width": 506
      },
      "needs_background": "light"
     },
     "output_type": "display_data"
    }
   ],
   "source": [
    "sns.barplot(x='index',y=0, data=(prom_expr_z>3).sum().reset_index())\n",
    "plt.xticks(rotation=90)"
   ]
  },
  {
   "cell_type": "code",
   "execution_count": 21,
   "metadata": {
    "ExecuteTime": {
     "end_time": "2020-07-21T00:40:57.391748Z",
     "start_time": "2020-07-21T00:40:57.136304Z"
    },
    "scrolled": false
   },
   "outputs": [
    {
     "data": {
      "text/plain": [
       "<matplotlib.axes._subplots.AxesSubplot at 0x7f2bf6c40dd8>"
      ]
     },
     "execution_count": 21,
     "metadata": {},
     "output_type": "execute_result"
    },
    {
     "data": {
      "image/png": "[encoded data removed]",
      "text/plain": [
       "<Figure size 576x432 with 1 Axes>"
      ]
     },
     "metadata": {
      "image/png": {
       "height": 357,
       "width": 513
      },
      "needs_background": "light"
     },
     "output_type": "display_data"
    }
   ],
   "source": [
    "sns.countplot((prom_expr_z>3).sum(axis=1))"
   ]
  },
  {
   "cell_type": "code",
   "execution_count": 22,
   "metadata": {
    "ExecuteTime": {
     "end_time": "2020-07-21T00:40:57.763175Z",
     "start_time": "2020-07-21T00:40:57.396905Z"
    },
    "scrolled": true
   },
   "outputs": [
    {
     "data": {
      "text/plain": [
       "<matplotlib.axes._subplots.AxesSubplot at 0x7f2bf6c40fd0>"
      ]
     },
     "execution_count": 22,
     "metadata": {},
     "output_type": "execute_result"
    },
    {
     "data": {
      "image/png": "[encoded data removed]",
      "text/plain": [
       "<Figure size 576x432 with 1 Axes>"
      ]
     },
     "metadata": {
      "image/png": {
       "height": 357,
       "width": 483
      },
      "needs_background": "light"
     },
     "output_type": "display_data"
    }
   ],
   "source": [
    "sns.distplot(prom_expr_z.max(axis=1))"
   ]
  },
  {
   "cell_type": "markdown",
   "metadata": {},
   "source": [
    "Mean-variance plot"
   ]
  },
  {
   "cell_type": "code",
   "execution_count": 23,
   "metadata": {
    "ExecuteTime": {
     "end_time": "2020-07-21T00:40:59.401523Z",
     "start_time": "2020-07-21T00:40:57.765716Z"
    },
    "scrolled": false
   },
   "outputs": [
    {
     "data": {
      "text/plain": [
       "<matplotlib.axes._subplots.AxesSubplot at 0x7f2bf6b4b048>"
      ]
     },
     "execution_count": 23,
     "metadata": {},
     "output_type": "execute_result"
    },
    {
     "data": {
      "image/png": "[encoded data removed]",
      "text/plain": [
       "<Figure size 576x432 with 1 Axes>"
      ]
     },
     "metadata": {
      "image/png": {
       "height": 370,
       "width": 494
      },
      "needs_background": "light"
     },
     "output_type": "display_data"
    }
   ],
   "source": [
    "mean_var_df = pd.DataFrame([prom_expr.transpose().mean(), prom_expr.transpose().std(), prom_expr.transpose().var()], index=['Mean', 'Std. dev', 'Variance'])\n",
    "mean_var_df.transpose().plot.scatter(x='Mean', y='Variance',)"
   ]
  },
  {
   "cell_type": "code",
   "execution_count": 24,
   "metadata": {
    "ExecuteTime": {
     "end_time": "2020-07-21T00:41:00.117333Z",
     "start_time": "2020-07-21T00:40:59.403886Z"
    }
   },
   "outputs": [
    {
     "data": {
      "text/plain": [
       "<matplotlib.axes._subplots.AxesSubplot at 0x7f2bf6dfdc50>"
      ]
     },
     "execution_count": 24,
     "metadata": {},
     "output_type": "execute_result"
    },
    {
     "data": {
      "image/png": "[encoded data removed]",
      "text/plain": [
       "<Figure size 576x432 with 1 Axes>"
      ]
     },
     "metadata": {
      "image/png": {
       "height": 358,
       "width": 483
      },
      "needs_background": "light"
     },
     "output_type": "display_data"
    }
   ],
   "source": [
    "sns.distplot(tissue_expr.max(axis=1))"
   ]
  },
  {
   "cell_type": "code",
   "execution_count": 25,
   "metadata": {
    "ExecuteTime": {
     "end_time": "2020-07-21T00:41:00.536447Z",
     "start_time": "2020-07-21T00:41:00.119761Z"
    },
    "scrolled": true
   },
   "outputs": [
    {
     "data": {
      "text/plain": [
       "<matplotlib.axes._subplots.AxesSubplot at 0x7f2bf6b08a20>"
      ]
     },
     "execution_count": 25,
     "metadata": {},
     "output_type": "execute_result"
    },
    {
     "data": {
      "image/png": "[encoded data removed]",
      "text/plain": [
       "<Figure size 576x432 with 1 Axes>"
      ]
     },
     "metadata": {
      "image/png": {
       "height": 357,
       "width": 490
      },
      "needs_background": "light"
     },
     "output_type": "display_data"
    }
   ],
   "source": [
    "sns.distplot(prom_expr.max(axis=1))"
   ]
  },
  {
   "cell_type": "markdown",
   "metadata": {},
   "source": [
    "# Loop over tissues"
   ]
  },
  {
   "cell_type": "markdown",
   "metadata": {},
   "source": [
    "a. Create 'Tissue Enriched' peaks by getting a z-score > 2 (log2 CPM)   \n",
    "b. Save the anno_peaks filtered on these peaks  \n",
    "c. Retrieve the sample peaks of this respective tissue (retrieve_tss)  \n",
    "d. Merge thes sample peak files from those tissues.  \n",
    "c. Use this merged file for Homer motif finding with GC normalization\n"
   ]
  },
  {
   "cell_type": "code",
   "execution_count": 26,
   "metadata": {
    "ExecuteTime": {
     "end_time": "2020-07-21T00:41:00.564691Z",
     "start_time": "2020-07-21T00:41:00.538821Z"
    }
   },
   "outputs": [],
   "source": [
    "def get_sample_peaks(merged_df, sample_df, sample_name, output_f=None, merged_col=\"Parent files\"):\n",
    "    peaks_to_keep = []\n",
    "    for ind, val in merged_df.iterrows():\n",
    "        if sample_name in val[merged_col].split(\"|\"):\n",
    "            #if use_sample_peaks:\n",
    "            peaks_to_keep.append(merged_df.loc[ind, sample_name])\n",
    "\n",
    "#     # original peak file\n",
    "#     if peaks_dir is not None:\n",
    "#         sample_df = Homer.read_peak_file(join(peaks_dir,sample_f))\n",
    "#     else:\n",
    "#         sample_df = Homer.read_peak_file(sample_f)\n",
    "    assert(sample_df.shape[0] != 0)\n",
    "    # Filter to indices to keep\n",
    "    sample_df_filt = sample_df[sample_df.index.isin(peaks_to_keep)]\n",
    "    if output_f is not None:\n",
    "        sample_df_filt.to_csv(output_f, sep='\\t')\n",
    "    return sample_df_filt"
   ]
  },
  {
   "cell_type": "code",
   "execution_count": 27,
   "metadata": {
    "ExecuteTime": {
     "end_time": "2020-07-21T05:34:46.316279Z",
     "start_time": "2020-07-21T00:41:00.566676Z"
    },
    "code_folding": [],
    "scrolled": true
   },
   "outputs": [
    {
     "name": "stdout",
     "output_type": "stream",
     "text": [
      "BMDM\n",
      "v02_de_novo_motifs/alt/promoter_enriched/BMDM/BMDM1hKLA_GROCap1_and_BMDM1hKLA_GRO1\n",
      "v02_de_novo_motifs/alt/promoter_enriched/BMDM/BMDMwt_GROCap1_and_BMDMwt_GRO1\n",
      "mergePeaks -d given -venn v02_de_novo_motifs/alt/promoter_enriched/BMDM/BMDM.merge_venn -matrix v02_de_novo_motifs/alt/promoter_enriched/BMDM/BMDM.merge_mat -strand v02_de_novo_motifs/alt/promoter_enriched/BMDM/BMDM1hKLA_GROCap1_and_BMDM1hKLA_GRO1 v02_de_novo_motifs/alt/promoter_enriched/BMDM/BMDMwt_GROCap1_and_BMDMwt_GRO1 > v02_de_novo_motifs/alt/promoter_enriched/BMDM/BMDM.merge\n",
      "nohup findMotifsGenome.pl v02_de_novo_motifs/alt/promoter_enriched/BMDM/BMDM.merge /data/isshamie/genome/ncbi_anno_103/GCF_003668045.1_CriGri-PICR_genomic.fna v02_de_novo_motifs/alt/promoter_enriched/BMDM/homer_out -size -300,100 -len 6,8,10 -p 12  -mset vertebrate > v02_de_novo_motifs/alt/promoter_enriched/BMDM/homer_out.log\n",
      "MiscOrgans\n",
      "v02_de_novo_motifs/alt/promoter_enriched/MiscOrgans/MiscOrgans_START1_and_MiscOrgans_startinput1\n",
      "v02_de_novo_motifs/alt/promoter_enriched/MiscOrgans/MiscOrgans_START2_and_MiscOrgans_startinput1\n",
      "mergePeaks -d given -venn v02_de_novo_motifs/alt/promoter_enriched/MiscOrgans/MiscOrgans.merge_venn -matrix v02_de_novo_motifs/alt/promoter_enriched/MiscOrgans/MiscOrgans.merge_mat -strand v02_de_novo_motifs/alt/promoter_enriched/MiscOrgans/MiscOrgans_START1_and_MiscOrgans_startinput1 v02_de_novo_motifs/alt/promoter_enriched/MiscOrgans/MiscOrgans_START2_and_MiscOrgans_startinput1 > v02_de_novo_motifs/alt/promoter_enriched/MiscOrgans/MiscOrgans.merge\n",
      "nohup findMotifsGenome.pl v02_de_novo_motifs/alt/promoter_enriched/MiscOrgans/MiscOrgans.merge /data/isshamie/genome/ncbi_anno_103/GCF_003668045.1_CriGri-PICR_genomic.fna v02_de_novo_motifs/alt/promoter_enriched/MiscOrgans/homer_out -size -300,100 -len 6,8,10 -p 12  -mset vertebrate > v02_de_novo_motifs/alt/promoter_enriched/MiscOrgans/homer_out.log\n",
      "Liver\n",
      "v02_de_novo_motifs/alt/promoter_enriched/Liver/Liver_START2_and_Liver_startinput1\n",
      "v02_de_novo_motifs/alt/promoter_enriched/Liver/Liver_START1_and_Liver_startinput1\n",
      "v02_de_novo_motifs/alt/promoter_enriched/Liver/Liver_GROCap1_and_Liver_GRO1\n",
      "mergePeaks -d given -venn v02_de_novo_motifs/alt/promoter_enriched/Liver/Liver.merge_venn -matrix v02_de_novo_motifs/alt/promoter_enriched/Liver/Liver.merge_mat -strand v02_de_novo_motifs/alt/promoter_enriched/Liver/Liver_START2_and_Liver_startinput1 v02_de_novo_motifs/alt/promoter_enriched/Liver/Liver_START1_and_Liver_startinput1 v02_de_novo_motifs/alt/promoter_enriched/Liver/Liver_GROCap1_and_Liver_GRO1 > v02_de_novo_motifs/alt/promoter_enriched/Liver/Liver.merge\n",
      "nohup findMotifsGenome.pl v02_de_novo_motifs/alt/promoter_enriched/Liver/Liver.merge /data/isshamie/genome/ncbi_anno_103/GCF_003668045.1_CriGri-PICR_genomic.fna v02_de_novo_motifs/alt/promoter_enriched/Liver/homer_out -size -300,100 -len 6,8,10 -p 12  -mset vertebrate > v02_de_novo_motifs/alt/promoter_enriched/Liver/homer_out.log\n",
      "Brain\n",
      "v02_de_novo_motifs/alt/promoter_enriched/Brain/Brain_GROCap1_and_Brain_GRO1\n",
      "v02_de_novo_motifs/alt/promoter_enriched/Brain/Brain_START3_and_Brain_startinput1\n",
      "v02_de_novo_motifs/alt/promoter_enriched/Brain/Brain_START1_and_Brain_startinput1\n",
      "v02_de_novo_motifs/alt/promoter_enriched/Brain/Brain_START2_and_Brain_startinput2\n",
      "v02_de_novo_motifs/alt/promoter_enriched/Brain/Brain_START1_and_Brain_startinput2\n",
      "v02_de_novo_motifs/alt/promoter_enriched/Brain/Brain_START2_and_Brain_startinput1\n",
      "v02_de_novo_motifs/alt/promoter_enriched/Brain/Brain_START3_and_Brain_startinput2\n",
      "mergePeaks -d given -venn v02_de_novo_motifs/alt/promoter_enriched/Brain/Brain.merge_venn -matrix v02_de_novo_motifs/alt/promoter_enriched/Brain/Brain.merge_mat -strand v02_de_novo_motifs/alt/promoter_enriched/Brain/Brain_GROCap1_and_Brain_GRO1 v02_de_novo_motifs/alt/promoter_enriched/Brain/Brain_START3_and_Brain_startinput1 v02_de_novo_motifs/alt/promoter_enriched/Brain/Brain_START1_and_Brain_startinput1 v02_de_novo_motifs/alt/promoter_enriched/Brain/Brain_START2_and_Brain_startinput2 v02_de_novo_motifs/alt/promoter_enriched/Brain/Brain_START1_and_Brain_startinput2 v02_de_novo_motifs/alt/promoter_enriched/Brain/Brain_START2_and_Brain_startinput1 v02_de_novo_motifs/alt/promoter_enriched/Brain/Brain_START3_and_Brain_startinput2 > v02_de_novo_motifs/alt/promoter_enriched/Brain/Brain.merge\n",
      "nohup findMotifsGenome.pl v02_de_novo_motifs/alt/promoter_enriched/Brain/Brain.merge /data/isshamie/genome/ncbi_anno_103/GCF_003668045.1_CriGri-PICR_genomic.fna v02_de_novo_motifs/alt/promoter_enriched/Brain/homer_out -size -300,100 -len 6,8,10 -p 12  -mset vertebrate > v02_de_novo_motifs/alt/promoter_enriched/Brain/homer_out.log\n",
      "Lung\n",
      "v02_de_novo_motifs/alt/promoter_enriched/Lung/Lung_GROCap1_and_Lung_GRO1\n",
      "v02_de_novo_motifs/alt/promoter_enriched/Lung/Lung_START1_and_Lung_startinput1\n",
      "v02_de_novo_motifs/alt/promoter_enriched/Lung/Lung_START2_and_Lung_startinput1\n",
      "mergePeaks -d given -venn v02_de_novo_motifs/alt/promoter_enriched/Lung/Lung.merge_venn -matrix v02_de_novo_motifs/alt/promoter_enriched/Lung/Lung.merge_mat -strand v02_de_novo_motifs/alt/promoter_enriched/Lung/Lung_GROCap1_and_Lung_GRO1 v02_de_novo_motifs/alt/promoter_enriched/Lung/Lung_START1_and_Lung_startinput1 v02_de_novo_motifs/alt/promoter_enriched/Lung/Lung_START2_and_Lung_startinput1 > v02_de_novo_motifs/alt/promoter_enriched/Lung/Lung.merge\n",
      "nohup findMotifsGenome.pl v02_de_novo_motifs/alt/promoter_enriched/Lung/Lung.merge /data/isshamie/genome/ncbi_anno_103/GCF_003668045.1_CriGri-PICR_genomic.fna v02_de_novo_motifs/alt/promoter_enriched/Lung/homer_out -size -300,100 -len 6,8,10 -p 12  -mset vertebrate > v02_de_novo_motifs/alt/promoter_enriched/Lung/homer_out.log\n",
      "Heart\n",
      "v02_de_novo_motifs/alt/promoter_enriched/Heart/Heart_START1_and_Heart_startinput1\n",
      "v02_de_novo_motifs/alt/promoter_enriched/Heart/Heart_START2_and_Heart_startinput1\n",
      "mergePeaks -d given -venn v02_de_novo_motifs/alt/promoter_enriched/Heart/Heart.merge_venn -matrix v02_de_novo_motifs/alt/promoter_enriched/Heart/Heart.merge_mat -strand v02_de_novo_motifs/alt/promoter_enriched/Heart/Heart_START1_and_Heart_startinput1 v02_de_novo_motifs/alt/promoter_enriched/Heart/Heart_START2_and_Heart_startinput1 > v02_de_novo_motifs/alt/promoter_enriched/Heart/Heart.merge\n",
      "nohup findMotifsGenome.pl v02_de_novo_motifs/alt/promoter_enriched/Heart/Heart.merge /data/isshamie/genome/ncbi_anno_103/GCF_003668045.1_CriGri-PICR_genomic.fna v02_de_novo_motifs/alt/promoter_enriched/Heart/homer_out -size -300,100 -len 6,8,10 -p 12  -mset vertebrate > v02_de_novo_motifs/alt/promoter_enriched/Heart/homer_out.log\n",
      "CHO\n",
      "v02_de_novo_motifs/alt/promoter_enriched/CHO/CHO_GROCap2_and_CHO_GRO1\n",
      "v02_de_novo_motifs/alt/promoter_enriched/CHO/CHO_GROCap1_and_CHO_GRO2\n",
      "v02_de_novo_motifs/alt/promoter_enriched/CHO/CHO_GROCap2_and_CHO_GRO2\n",
      "v02_de_novo_motifs/alt/promoter_enriched/CHO/CHO_START1_and_CHO_startinput1\n",
      "v02_de_novo_motifs/alt/promoter_enriched/CHO/CHO_GROCap1_and_CHO_GRO1\n",
      "mergePeaks -d given -venn v02_de_novo_motifs/alt/promoter_enriched/CHO/CHO.merge_venn -matrix v02_de_novo_motifs/alt/promoter_enriched/CHO/CHO.merge_mat -strand v02_de_novo_motifs/alt/promoter_enriched/CHO/CHO_GROCap2_and_CHO_GRO1 v02_de_novo_motifs/alt/promoter_enriched/CHO/CHO_GROCap1_and_CHO_GRO2 v02_de_novo_motifs/alt/promoter_enriched/CHO/CHO_GROCap2_and_CHO_GRO2 v02_de_novo_motifs/alt/promoter_enriched/CHO/CHO_START1_and_CHO_startinput1 v02_de_novo_motifs/alt/promoter_enriched/CHO/CHO_GROCap1_and_CHO_GRO1 > v02_de_novo_motifs/alt/promoter_enriched/CHO/CHO.merge\n",
      "nohup findMotifsGenome.pl v02_de_novo_motifs/alt/promoter_enriched/CHO/CHO.merge /data/isshamie/genome/ncbi_anno_103/GCF_003668045.1_CriGri-PICR_genomic.fna v02_de_novo_motifs/alt/promoter_enriched/CHO/homer_out -size -300,100 -len 6,8,10 -p 12  -mset vertebrate > v02_de_novo_motifs/alt/promoter_enriched/CHO/homer_out.log\n",
      "Pancreas\n",
      "v02_de_novo_motifs/alt/promoter_enriched/Pancreas/Pancreas_START2_and_Pancreas_startinput1\n",
      "v02_de_novo_motifs/alt/promoter_enriched/Pancreas/Pancreas_START1_and_Pancreas_startinput1\n",
      "mergePeaks -d given -venn v02_de_novo_motifs/alt/promoter_enriched/Pancreas/Pancreas.merge_venn -matrix v02_de_novo_motifs/alt/promoter_enriched/Pancreas/Pancreas.merge_mat -strand v02_de_novo_motifs/alt/promoter_enriched/Pancreas/Pancreas_START2_and_Pancreas_startinput1 v02_de_novo_motifs/alt/promoter_enriched/Pancreas/Pancreas_START1_and_Pancreas_startinput1 > v02_de_novo_motifs/alt/promoter_enriched/Pancreas/Pancreas.merge\n"
     ]
    },
    {
     "name": "stdout",
     "output_type": "stream",
     "text": [
      "nohup findMotifsGenome.pl v02_de_novo_motifs/alt/promoter_enriched/Pancreas/Pancreas.merge /data/isshamie/genome/ncbi_anno_103/GCF_003668045.1_CriGri-PICR_genomic.fna v02_de_novo_motifs/alt/promoter_enriched/Pancreas/homer_out -size -300,100 -len 6,8,10 -p 12  -mset vertebrate > v02_de_novo_motifs/alt/promoter_enriched/Pancreas/homer_out.log\n",
      "FemaleReproductive\n",
      "v02_de_novo_motifs/alt/promoter_enriched/FemaleReproductive/FemaleReproductive_START2_and_FemaleReproductive_startinput1\n",
      "v02_de_novo_motifs/alt/promoter_enriched/FemaleReproductive/FemaleReproductive_START1_and_FemaleReproductive_startinput1\n",
      "mergePeaks -d given -venn v02_de_novo_motifs/alt/promoter_enriched/FemaleReproductive/FemaleReproductive.merge_venn -matrix v02_de_novo_motifs/alt/promoter_enriched/FemaleReproductive/FemaleReproductive.merge_mat -strand v02_de_novo_motifs/alt/promoter_enriched/FemaleReproductive/FemaleReproductive_START2_and_FemaleReproductive_startinput1 v02_de_novo_motifs/alt/promoter_enriched/FemaleReproductive/FemaleReproductive_START1_and_FemaleReproductive_startinput1 > v02_de_novo_motifs/alt/promoter_enriched/FemaleReproductive/FemaleReproductive.merge\n",
      "nohup findMotifsGenome.pl v02_de_novo_motifs/alt/promoter_enriched/FemaleReproductive/FemaleReproductive.merge /data/isshamie/genome/ncbi_anno_103/GCF_003668045.1_CriGri-PICR_genomic.fna v02_de_novo_motifs/alt/promoter_enriched/FemaleReproductive/homer_out -size -300,100 -len 6,8,10 -p 12  -mset vertebrate > v02_de_novo_motifs/alt/promoter_enriched/FemaleReproductive/homer_out.log\n",
      "Muscle\n",
      "v02_de_novo_motifs/alt/promoter_enriched/Muscle/Muscle_START1_and_Muscle_startinput1\n",
      "v02_de_novo_motifs/alt/promoter_enriched/Muscle/Muscle_START2_and_Muscle_startinput1\n",
      "mergePeaks -d given -venn v02_de_novo_motifs/alt/promoter_enriched/Muscle/Muscle.merge_venn -matrix v02_de_novo_motifs/alt/promoter_enriched/Muscle/Muscle.merge_mat -strand v02_de_novo_motifs/alt/promoter_enriched/Muscle/Muscle_START1_and_Muscle_startinput1 v02_de_novo_motifs/alt/promoter_enriched/Muscle/Muscle_START2_and_Muscle_startinput1 > v02_de_novo_motifs/alt/promoter_enriched/Muscle/Muscle.merge\n",
      "nohup findMotifsGenome.pl v02_de_novo_motifs/alt/promoter_enriched/Muscle/Muscle.merge /data/isshamie/genome/ncbi_anno_103/GCF_003668045.1_CriGri-PICR_genomic.fna v02_de_novo_motifs/alt/promoter_enriched/Muscle/homer_out -size -300,100 -len 6,8,10 -p 12  -mset vertebrate > v02_de_novo_motifs/alt/promoter_enriched/Muscle/homer_out.log\n",
      "Kidney\n",
      "v02_de_novo_motifs/alt/promoter_enriched/Kidney/Kidney_START1_and_Kidney_startinput1\n",
      "v02_de_novo_motifs/alt/promoter_enriched/Kidney/Kidney_START2_and_Kidney_startinput1\n",
      "v02_de_novo_motifs/alt/promoter_enriched/Kidney/Kidney_GROCap1_and_Kidney_GRO1\n",
      "mergePeaks -d given -venn v02_de_novo_motifs/alt/promoter_enriched/Kidney/Kidney.merge_venn -matrix v02_de_novo_motifs/alt/promoter_enriched/Kidney/Kidney.merge_mat -strand v02_de_novo_motifs/alt/promoter_enriched/Kidney/Kidney_START1_and_Kidney_startinput1 v02_de_novo_motifs/alt/promoter_enriched/Kidney/Kidney_START2_and_Kidney_startinput1 v02_de_novo_motifs/alt/promoter_enriched/Kidney/Kidney_GROCap1_and_Kidney_GRO1 > v02_de_novo_motifs/alt/promoter_enriched/Kidney/Kidney.merge\n",
      "nohup findMotifsGenome.pl v02_de_novo_motifs/alt/promoter_enriched/Kidney/Kidney.merge /data/isshamie/genome/ncbi_anno_103/GCF_003668045.1_CriGri-PICR_genomic.fna v02_de_novo_motifs/alt/promoter_enriched/Kidney/homer_out -size -300,100 -len 6,8,10 -p 12  -mset vertebrate > v02_de_novo_motifs/alt/promoter_enriched/Kidney/homer_out.log\n",
      "Spleen\n",
      "v02_de_novo_motifs/alt/promoter_enriched/Spleen/Spleen_START1_and_Spleen_startinput1\n",
      "v02_de_novo_motifs/alt/promoter_enriched/Spleen/Spleen_START2_and_Spleen_startinput1\n",
      "mergePeaks -d given -venn v02_de_novo_motifs/alt/promoter_enriched/Spleen/Spleen.merge_venn -matrix v02_de_novo_motifs/alt/promoter_enriched/Spleen/Spleen.merge_mat -strand v02_de_novo_motifs/alt/promoter_enriched/Spleen/Spleen_START1_and_Spleen_startinput1 v02_de_novo_motifs/alt/promoter_enriched/Spleen/Spleen_START2_and_Spleen_startinput1 > v02_de_novo_motifs/alt/promoter_enriched/Spleen/Spleen.merge\n",
      "nohup findMotifsGenome.pl v02_de_novo_motifs/alt/promoter_enriched/Spleen/Spleen.merge /data/isshamie/genome/ncbi_anno_103/GCF_003668045.1_CriGri-PICR_genomic.fna v02_de_novo_motifs/alt/promoter_enriched/Spleen/homer_out -size -300,100 -len 6,8,10 -p 12  -mset vertebrate > v02_de_novo_motifs/alt/promoter_enriched/Spleen/homer_out.log\n"
     ]
    }
   ],
   "source": [
    "for t in prom_expr_z.columns:\n",
    "    print(t)\n",
    "    curr_peaks =  prom_expr_z.loc[prom_expr_z[t] > 2].index\n",
    "    curr_anno = prom_anno.loc[curr_peaks]\n",
    "    curr_merge = prom_merged.loc[curr_peaks]\n",
    "    curr_anno.to_csv(join(prom_enr_dir, t + '.prom.enriched_zscore.tsv'))\n",
    "    sample_peak_files = glob.glob(join(doc['peaks_dir'], t+'*'))\n",
    "    curr_out = join(prom_enr_dir, t)\n",
    "    if not os.path.exists(curr_out):\n",
    "        os.mkdir(curr_out)\n",
    "    s_p_out = []\n",
    "    for s_p in sample_peak_files:\n",
    "        sample_df = read_peak_file(s_p)\n",
    "        output_f = join(curr_out, basename(s_p))\n",
    "        print(output_f)\n",
    "        get_sample_peaks(curr_merge, sample_df, sample_name=basename(s_p), output_f=output_f)\n",
    "        s_p_out.append(output_f)\n",
    "    #merge peaks\n",
    "    out_merge = join(prom_enr_dir, t,t)\n",
    "    Homer.merge_peaks(s_p_out, output_file=out_merge, dist='given')\n",
    "    wrap_findMotifs.run_findMotifs(out_merge+'.merge', join(prom_enr_dir,t, 'homer_out'), ref_fa, args=None,  bg=None, \n",
    "                                   size=(-300,100), mset=True, num_cores=12, len_mo='large')"
   ]
  },
  {
   "cell_type": "code",
   "execution_count": null,
   "metadata": {},
   "outputs": [],
   "source": []
  }
 ],
 "metadata": {
  "kernelspec": {
   "display_name": "Python 3",
   "language": "python",
   "name": "python3"
  },
  "language_info": {
   "codemirror_mode": {
    "name": "ipython",
    "version": 3
   },
   "file_extension": ".py",
   "mimetype": "text/x-python",
   "name": "python",
   "nbconvert_exporter": "python",
   "pygments_lexer": "ipython3",
   "version": "3.7.3"
  }
 },
 "nbformat": 4,
 "nbformat_minor": 2
}
