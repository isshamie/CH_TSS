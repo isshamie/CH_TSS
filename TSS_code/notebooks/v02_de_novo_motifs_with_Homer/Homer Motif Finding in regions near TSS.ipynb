{
 "cells": [
  {
   "cell_type": "markdown",
   "metadata": {},
   "source": [
    "## Extract region of -2:+3 for experimental and reference\n",
    "\n",
    "BBCA+1BW (where B is C/G/T, and W is A/T)  \n",
    "http://genesdev.cshlp.org/content/31/13/1289.full"
   ]
  },
  {
   "cell_type": "code",
   "execution_count": 7,
   "metadata": {
    "ExecuteTime": {
     "end_time": "2020-07-28T20:35:22.948555Z",
     "start_time": "2020-07-28T20:35:17.999413Z"
    }
   },
   "outputs": [
    {
     "name": "stderr",
     "output_type": "stream",
     "text": [
      "/home/isshamie/software/anaconda2/envs/TSS/lib/python3.7/site-packages/ipykernel_launcher.py:7: YAMLLoadWarning: calling yaml.load() without Loader=... is deprecated, as the default Loader is unsafe. Please read https://msg.pyyaml.org/load for full details.\n",
      "  import sys\n"
     ]
    },
    {
     "name": "stdout",
     "output_type": "stream",
     "text": [
      "The autoreload extension is already loaded. To reload it, use:\n",
      "  %reload_ext autoreload\n",
      "/data2/resources/software/homer/v4.11_10242019/bin//homer\n"
     ]
    }
   ],
   "source": [
    "## Parameters specific to where your folders are and your data\n",
    "parameter_file = '../../parameters/params.yaml'\n",
    "import yaml\n",
    "import sys\n",
    "import os\n",
    "with open(parameter_file,'r') as f:\n",
    "    doc = yaml.load(f)\n",
    "\n",
    "#p = dic2obj(**doc)\n",
    "\n",
    "#data_folder = doc['data_folder']\n",
    "#tissues = doc['tissues'].split(',')\n",
    "#sys.path.append(doc['pipeline_path'])\n",
    "ref_fa = doc['GENOME_FA']\n",
    "#anno_gff=doc['annotation']\n",
    "#mRNA_peak_file = doc[\"mRNA_peak_file\"]\n",
    "#tss_annotation = doc['tss_annotation']\n",
    "\n",
    "\n",
    "import sys\n",
    "import pandas as pd\n",
    "import matplotlib\n",
    "import seaborn as sns\n",
    "import pickle\n",
    "import numpy as np\n",
    "import matplotlib as mpl\n",
    "from matplotlib import pyplot as plt\n",
    "from itertools import product\n",
    "import glob\n",
    "import re\n",
    "from os.path import join\n",
    "from matplotlib_venn import venn2\n",
    "from matplotlib import rcParams\n",
    "import inspect\n",
    "%matplotlib inline\n",
    "%config InlineBackend.figure_format = 'retina'\n",
    "sys.setrecursionlimit(3000)\n",
    "%load_ext autoreload\n",
    "%autoreload 2\n",
    "rcParams['figure.figsize'] = 8, 6\n",
    "import tqdm\n",
    "\n",
    "from os.path import basename\n",
    "##mpl.use('Agg')\n",
    "#mpl.style.use('ggplot')\n",
    "#mpl.style.use('fivethirtyeight')\n",
    "#from Homer import *\n",
    "\n",
    "homer_path =  \"/data2/resources/software/homer/v4.11_10242019/bin/\"\n",
    "os.environ['PATH'] = f\"{homer_path}:{os.environ['PATH']}\"\n",
    "!which homer\n",
    "\n",
    "from tss.utils.wrap_findMotifs import run_findMotifs"
   ]
  },
  {
   "cell_type": "code",
   "execution_count": 8,
   "metadata": {
    "ExecuteTime": {
     "end_time": "2020-07-28T20:35:23.034784Z",
     "start_time": "2020-07-28T20:35:22.963472Z"
    }
   },
   "outputs": [],
   "source": [
    "os.chdir(doc[\"results\"])\n",
    "save_dir = \"v02_de_novo_motifs/alt/eTSS_all/\"\n",
    "\n",
    "#save_dir = \"Results/homer_motifs/\"\n",
    "if not os.path.exists(save_dir):\n",
    "    os.mkdir(save_dir)"
   ]
  },
  {
   "cell_type": "markdown",
   "metadata": {},
   "source": [
    "## Read experimental bed file and create its companion refseq region"
   ]
  },
  {
   "cell_type": "code",
   "execution_count": 9,
   "metadata": {
    "ExecuteTime": {
     "end_time": "2020-07-28T20:35:23.178284Z",
     "start_time": "2020-07-28T20:35:23.113329Z"
    },
    "scrolled": true
   },
   "outputs": [],
   "source": [
    "#mrna_bed_f = \"../Results/Figures/Figure3/A.TSS1_mrna\"\n",
    "exp_bed_f = \"alt/eTSS/TSS.exp.bed\"\n",
    "\n",
    "## Create RefSeq peak file for this\n",
    "meta_f = \"alt/eTSS/TSS.meta.tsv\"\n",
    "\n",
    "mrna_bed_f = \"alt/eTSS/refseq_centered.TSS.bed\"\n",
    "\n",
    "#mrna_filt = \"Results/Figures/Figure3/A.mrna\"\n",
    "#create_output.exp_bed_to_refseq(exp_bed_f,meta_f,refseq_f=mRNA_peak_file,save_f=mrna_bed_f,is_unique=True)"
   ]
  },
  {
   "cell_type": "markdown",
   "metadata": {},
   "source": [
    "### Create narrow bed file for hg38"
   ]
  },
  {
   "cell_type": "code",
   "execution_count": 10,
   "metadata": {
    "ExecuteTime": {
     "end_time": "2020-07-28T20:35:39.533654Z",
     "start_time": "2020-07-28T20:35:23.208953Z"
    },
    "scrolled": true
   },
   "outputs": [],
   "source": [
    "hg38_f = \"/data/isshamie/genome/hg38/mRNA_final.peak\"\n",
    "hg38 = pd.read_csv(\"/data/isshamie/genome/hg38/mRNA_final.peak\", sep=\"\\t\")\n",
    "hg38[\"Stat\"] = 0\n",
    "hg38 = hg38[[\"Chr\", \"Start\", \"End\",\"Name\", \"Stat\", \"Strand\"]]\n",
    "hg38 = hg38.drop_duplicates(subset=(\"Chr\",\"Start\", \"End\", \"Strand\"))\n",
    "hg38 = hg38.rename({\"Name\":\"ID\"}, axis=1)\n",
    "\n",
    "#hg38_bed_f = os.path.join(save_dir, \"hg38.bed\")\n",
    "#write_bed_file(hg38, hg38_bed_f, use_index=False)\n"
   ]
  },
  {
   "cell_type": "markdown",
   "metadata": {},
   "source": [
    "## Run findMotifs in Homer"
   ]
  },
  {
   "cell_type": "code",
   "execution_count": 5,
   "metadata": {
    "ExecuteTime": {
     "end_time": "2020-07-23T08:24:54.243309Z",
     "start_time": "2020-07-23T06:03:47.165636Z"
    },
    "scrolled": false
   },
   "outputs": [
    {
     "name": "stdout",
     "output_type": "stream",
     "text": [
      "nohup findMotifsGenome.pl alt/eTSS/TSS.exp.bed /data/isshamie/genome/ncbi_anno_103/GCF_003668045.1_CriGri-PICR_genomic.fna v02_de_novo_motifs/alt/eTSS_all/eTSS_motifs_nocpg -size -300,100 -len 6,8,10 -p 12  -mset vertebrate > v02_de_novo_motifs/alt/eTSS_all/eTSS_motifs_nocpg.log\n",
      "nohup findMotifsGenome.pl alt/eTSS/refseq_centered.TSS.bed /data/isshamie/genome/ncbi_anno_103/GCF_003668045.1_CriGri-PICR_genomic.fna v02_de_novo_motifs/alt/eTSS_all/rTSS_motifs_nocpg -size -300,100 -len 6,8,10 -p 12  -mset vertebrate > v02_de_novo_motifs/alt/eTSS_all/rTSS_motifs_nocpg.log\n",
      "nohup findMotifsGenome.pl /data/isshamie/genome/hg38/mRNA_final.peak /data/isshamie/genome/hg38/GCF_000001405.38_GRCh38.p12_genomic.fna v02_de_novo_motifs/alt/eTSS_all/hg38_nocpg -size -300,100 -len 6,8,10 -p 12  -mset vertebrate > v02_de_novo_motifs/alt/eTSS_all/hg38_nocpg.log\n"
     ]
    }
   ],
   "source": [
    "# curr_dir = os.path.join(save_dir, \"eTSS_bg_rTSS_nocpg\")\n",
    "# run_findMotifs(exp_bed_f, out_dir=curr_dir,ref_fa=ref_fa, bg=mrna_bed_f, size=200,num_cores=12)\n",
    "\n",
    "\n",
    "exp_dir = os.path.join(save_dir, \"eTSS_motifs_nocpg\")\n",
    "run_findMotifs(exp_bed_f, out_dir=exp_dir, mset=True, size=(-300,100), ref_fa=ref_fa,num_cores=12)\n",
    "\n",
    "ref_dir = os.path.join(save_dir, \"rTSS_motifs_nocpg\")\n",
    "run_findMotifs(mrna_bed_f, out_dir=ref_dir, mset=True, size=(-300,100), ref_fa=ref_fa,num_cores=12)\n",
    "\n",
    "hg38_out = os.path.join(save_dir, \"hg38_nocpg\")\n",
    "hg38_genome = \"/data/isshamie/genome/hg38/GCF_000001405.38_GRCh38.p12_genomic.fna\"\n",
    "run_findMotifs(hg38_f, out_dir=hg38_out, mset=True, size=(-300,100), ref_fa=hg38_genome,num_cores=12, \n",
    "              mset=True, len_mo='large')\n",
    "\n",
    "#wrap_findMotifs.run_findMotifs(tis_bed, tis_out, ref_fa, args=None,  bg=out_bed, mset=True, size=(-300,100), num_cores=16)\n",
    "# wrap_findMotifs.run_findMotifs(out_merge+'.merge', join(prom_enr_dir,t, 'homer_out'), ref_fa, args=None,  bg=None, \n",
    "#                                size=(-300,100), mset=True, len_mo='large', num_cores=12)"
   ]
  },
  {
   "cell_type": "code",
   "execution_count": 6,
   "metadata": {
    "ExecuteTime": {
     "end_time": "2020-07-23T09:36:19.807687Z",
     "start_time": "2020-07-23T08:24:54.245796Z"
    },
    "scrolled": false
   },
   "outputs": [
    {
     "name": "stdout",
     "output_type": "stream",
     "text": [
      "nohup findMotifsGenome.pl alt/eTSS/TSS.exp.bed /data/isshamie/genome/ncbi_anno_103/GCF_003668045.1_CriGri-PICR_genomic.fna v02_de_novo_motifs/alt/eTSS_all/eTSS_motifs -size -300,100 -len 6,8,10 -p 12  -mset vertebrate-cpg  > v02_de_novo_motifs/alt/eTSS_all/eTSS_motifs.log\n",
      "nohup findMotifsGenome.pl alt/eTSS/refseq_centered.TSS.bed /data/isshamie/genome/ncbi_anno_103/GCF_003668045.1_CriGri-PICR_genomic.fna v02_de_novo_motifs/alt/eTSS_all/rTSS_motifs -size -300,100 -len 6,8,10 -p 12  -mset vertebrate-cpg  > v02_de_novo_motifs/alt/eTSS_all/rTSS_motifs.log\n",
      "nohup findMotifsGenome.pl alt/eTSS/TSS.exp.bed /data/isshamie/genome/ncbi_anno_103/GCF_003668045.1_CriGri-PICR_genomic.fna v02_de_novo_motifs/alt/eTSS_all/eTSS_bg_rTSS -size -300,100 -len 6,8,10 -p 12  -mset vertebrate -bg alt/eTSS/refseq_centered.TSS.bed -cpg  > v02_de_novo_motifs/alt/eTSS_all/eTSS_bg_rTSS.log\n"
     ]
    }
   ],
   "source": [
    "exp_dir = os.path.join(save_dir, \"eTSS_motifs\")\n",
    "run_findMotifs(exp_bed_f, out_dir=exp_dir,mset=True, size=(-300,100),ref_fa=ref_fa,num_cores=12, args=[\"-cpg\"])\n",
    "\n",
    "ref_dir = os.path.join(save_dir, \"rTSS_motifs\")\n",
    "run_findMotifs(mrna_bed_f, out_dir=ref_dir,mset=True, size=(-300,100),ref_fa=ref_fa,num_cores=12, args=[\"-cpg\"])\n",
    "\n",
    "curr_dir = os.path.join(save_dir, \"eTSS_bg_rTSS\")\n",
    "run_findMotifs(exp_bed_f, out_dir=curr_dir,mset=True, size=(-300,100),ref_fa=ref_fa, bg=mrna_bed_f,num_cores=12, args=[\"-cpg\"])\n",
    "\n"
   ]
  },
  {
   "cell_type": "markdown",
   "metadata": {},
   "source": [
    "## Get the specific matches of the top motifs\n",
    "Done using: `annotatePeaks.pl ERalpha.peaks hg18 -m motif1.motif > outputfile.txt`\n"
   ]
  },
  {
   "cell_type": "code",
   "execution_count": 7,
   "metadata": {
    "ExecuteTime": {
     "end_time": "2020-05-13T07:06:19.628715Z",
     "start_time": "2020-05-13T07:06:19.608257Z"
    }
   },
   "outputs": [],
   "source": [
    "# curr_motif = \"\"\n",
    "# output_f = join(save_dir, \"eTSS_motifs_nocpg\", curr_motif+'.txt')\n",
    "# cmd = f\"annotatePeaks.pl {exp_bed_f} {ref_fa} -m {curr_motif} > {output_f}\""
   ]
  },
  {
   "cell_type": "code",
   "execution_count": null,
   "metadata": {},
   "outputs": [],
   "source": []
  }
 ],
 "metadata": {
  "kernelspec": {
   "display_name": "Python 3",
   "language": "python",
   "name": "python3"
  },
  "language_info": {
   "codemirror_mode": {
    "name": "ipython",
    "version": 3
   },
   "file_extension": ".py",
   "mimetype": "text/x-python",
   "name": "python",
   "nbconvert_exporter": "python",
   "pygments_lexer": "ipython3",
   "version": "3.7.3"
  }
 },
 "nbformat": 4,
 "nbformat_minor": 2
}
