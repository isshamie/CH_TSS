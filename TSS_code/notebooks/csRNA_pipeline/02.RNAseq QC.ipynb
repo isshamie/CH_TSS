{
 "cells": [
  {
   "cell_type": "code",
   "execution_count": 4,
   "metadata": {
    "ExecuteTime": {
     "end_time": "2020-04-14T07:01:32.026440Z",
     "start_time": "2020-04-14T07:01:31.868463Z"
    },
    "scrolled": true
   },
   "outputs": [
    {
     "name": "stdout",
     "output_type": "stream",
     "text": [
      "{'data_folder': '/data/isshamie/TSS/NCBI_PICR_103_Processed/', 'results': '/data/isshamie/TSS/Analysis/Analysis_03302020/Results/', 'figures': '/data/isshamie/TSS/Analysis/Analysis_03302020/Results/', 'RNAseq_QC': '/data/isshamie/TSS/NCBI_PICR_103_Processed/RNAseq/2017_12_15_hamster_Seq/fastqc/', 'RNAseq_folder': '/data/isshamie/TSS/NCBI_PICR_103_Processed/RNAseq/2017_12_15_hamster_Seq/', 'pipeline_path': '/data/isshamie/TSS/Analysis/src/', 'tissues': 'BMDM1hKLA,BMDMwt,Brain,FemaleReproductive,Heart,Kidney,Liver,Lung,MiscOrgans,Muscle,Pancreas,Spleen,CHO', 'ref_fa': '/data/isshamie/genome/hamster/ncbi_anno_103/GCF_003668045.1_CriGri-PICR/GCF_003668045.1_CriGri-PICR_genomic.fna', 'annotation': '/data/isshamie/genome/hamster/ncbi_anno_103/GCF_003668045.1_CriGri-PICR/GCF_003668045.1_CriGri-PICR_genomic.gff', 'annotation_gtf': '/data/isshamie/genome/hamster/ncbi_anno_103/GCF_003668045.1_CriGri-PICR/GCF_003668045.1_CriGri-PICR_genomic.gtf', 'alt_annotation': '/data/isshamie/genome/hamster/ncbi_anno_103/hamster/alt_CriGri-PICR_top_level.gff3', 'alt_annotation_gtf': '/data/isshamie/genome/ncbi_anno_103/alt_CriGri-PICR_top_level.gtf', 'motif_folder': '/data/isshamie/TSS/Analysis/supplemental/homer_motifs/', 'supplemental': '/data/isshamie/TSS/Analysis/supplemental', 'cho_rna_file': '/data/shangzhong/DE/tpm_using_picr.txt', 'htseq_anno_source': 'ncbi', 'strand_specific': 'yes', 'id_name': 'id'}\n",
      "/data2/resources/software/homer/v4.11_10242019/bin//homer\r\n"
     ]
    },
    {
     "name": "stderr",
     "output_type": "stream",
     "text": [
      "/home/isshamie/software/anaconda2/envs/TSS/lib/python3.7/site-packages/ipykernel_launcher.py:12: YAMLLoadWarning: calling yaml.load() without Loader=... is deprecated, as the default Loader is unsafe. Please read https://msg.pyyaml.org/load for full details.\n",
      "  if sys.path[0] == '':\n"
     ]
    }
   ],
   "source": [
    "parameter_file = '../parameters/params.yaml'\n",
    "\n",
    "import yaml\n",
    "import sys\n",
    "import glob\n",
    "import os\n",
    "import seaborn as sns\n",
    "from os.path import join, basename\n",
    "import pandas as pd\n",
    "import matplotlib.pyplot as plt\n",
    "with open(parameter_file,'r') as f:\n",
    "    doc = yaml.load(f)\n",
    "import numpy as np\n",
    "print(doc)\n",
    "\n",
    "\n",
    "# all parameter\n",
    "ref_fa = doc[\"ref_fa\"]\n",
    "annotation = doc[\"annotation\"]\n",
    "gtf_anno = doc[\"annotation_gtf\"]\n",
    "bed_anno = gtf_anno.replace(\"gtf\",\"bed\")\n",
    "file_path = join(doc[\"data_folder\"],\"RNAseq\")\n",
    "import os\n",
    "import glob\n",
    "homer_path =  \"/data2/resources/software/homer/v4.11_10242019/bin/\"\n",
    "os.environ['PATH'] = f\"{homer_path}:{os.environ['PATH']}\"\n",
    "!which homer"
   ]
  },
  {
   "cell_type": "code",
   "execution_count": 2,
   "metadata": {
    "ExecuteTime": {
     "end_time": "2020-04-14T06:58:47.238076Z",
     "start_time": "2020-04-14T06:58:47.232291Z"
    }
   },
   "outputs": [],
   "source": [
    "qc_dir = join(file_path,\"QC\")\n",
    "multiqc_dir = join(file_path,\"multiqc\")\n",
    "\n",
    "trim_qc_dir = join(file_path,\"trim_QC\")\n",
    "trim_multiqc_dir = join(file_path,\"trim_multiqc\")\n",
    "\n",
    "bam_dir = join(file_path, \"sortBam\")\n",
    "ht_dir = join(file_path, 'htseq')\n",
    "ht_reverse_dir = join(file_path, 'htseq_rev')\n",
    "RNA_SeQC = join(file_path,'RNA_SeQC')"
   ]
  },
  {
   "cell_type": "markdown",
   "metadata": {},
   "source": [
    "## First need to index the files"
   ]
  },
  {
   "cell_type": "code",
   "execution_count": 10,
   "metadata": {
    "ExecuteTime": {
     "end_time": "2020-04-14T22:38:56.523065Z",
     "start_time": "2020-04-14T22:38:56.509116Z"
    }
   },
   "outputs": [
    {
     "name": "stdout",
     "output_type": "stream",
     "text": [
      "/data/isshamie/TSS/NCBI_PICR_103_Processed/RNAseq/sortBam/NL4_Lung_S4_L006_R1_001.fastq.sort.bam\n",
      "samtools sort /data/isshamie/TSS/NCBI_PICR_103_Processed/RNAseq/sortBam/NL4_Lung_S4_L006_R1_001.fastq.sort.bam > /data/isshamie/TSS/NCBI_PICR_103_Processed/RNAseq/sortBam/NL4_Lung_S4_L006_R1_001.fastq.sort.coord.bam\n",
      "/data/isshamie/TSS/NCBI_PICR_103_Processed/RNAseq/sortBam/NL7_Brain2_S7_L006_R1_001.fastq.sort.bam\n",
      "samtools sort /data/isshamie/TSS/NCBI_PICR_103_Processed/RNAseq/sortBam/NL7_Brain2_S7_L006_R1_001.fastq.sort.bam > /data/isshamie/TSS/NCBI_PICR_103_Processed/RNAseq/sortBam/NL7_Brain2_S7_L006_R1_001.fastq.sort.coord.bam\n",
      "/data/isshamie/TSS/NCBI_PICR_103_Processed/RNAseq/sortBam/NL6_Heart_S6_L006_R1_001.fastq.sort.bam\n",
      "samtools sort /data/isshamie/TSS/NCBI_PICR_103_Processed/RNAseq/sortBam/NL6_Heart_S6_L006_R1_001.fastq.sort.bam > /data/isshamie/TSS/NCBI_PICR_103_Processed/RNAseq/sortBam/NL6_Heart_S6_L006_R1_001.fastq.sort.coord.bam\n",
      "/data/isshamie/TSS/NCBI_PICR_103_Processed/RNAseq/sortBam/NL10_Misc_S10_L006_R1_001.fastq.sort.bam\n",
      "samtools sort /data/isshamie/TSS/NCBI_PICR_103_Processed/RNAseq/sortBam/NL10_Misc_S10_L006_R1_001.fastq.sort.bam > /data/isshamie/TSS/NCBI_PICR_103_Processed/RNAseq/sortBam/NL10_Misc_S10_L006_R1_001.fastq.sort.coord.bam\n",
      "/data/isshamie/TSS/NCBI_PICR_103_Processed/RNAseq/sortBam/NL3_Spleen_S3_L006_R1_001.fastq.sort.bam\n",
      "samtools sort /data/isshamie/TSS/NCBI_PICR_103_Processed/RNAseq/sortBam/NL3_Spleen_S3_L006_R1_001.fastq.sort.bam > /data/isshamie/TSS/NCBI_PICR_103_Processed/RNAseq/sortBam/NL3_Spleen_S3_L006_R1_001.fastq.sort.coord.bam\n",
      "/data/isshamie/TSS/NCBI_PICR_103_Processed/RNAseq/sortBam/NL8_Muscle_S8_L006_R1_001.fastq.sort.bam\n",
      "samtools sort /data/isshamie/TSS/NCBI_PICR_103_Processed/RNAseq/sortBam/NL8_Muscle_S8_L006_R1_001.fastq.sort.bam > /data/isshamie/TSS/NCBI_PICR_103_Processed/RNAseq/sortBam/NL8_Muscle_S8_L006_R1_001.fastq.sort.coord.bam\n",
      "/data/isshamie/TSS/NCBI_PICR_103_Processed/RNAseq/sortBam/NL11_Brain7-1_S11_L006_R1_001.fastq.sort.bam\n",
      "samtools sort /data/isshamie/TSS/NCBI_PICR_103_Processed/RNAseq/sortBam/NL11_Brain7-1_S11_L006_R1_001.fastq.sort.bam > /data/isshamie/TSS/NCBI_PICR_103_Processed/RNAseq/sortBam/NL11_Brain7-1_S11_L006_R1_001.fastq.sort.coord.bam\n",
      "/data/isshamie/TSS/NCBI_PICR_103_Processed/RNAseq/sortBam/NL1_Pancreas_S1_L006_R1_001.fastq.sort.bam\n",
      "samtools sort /data/isshamie/TSS/NCBI_PICR_103_Processed/RNAseq/sortBam/NL1_Pancreas_S1_L006_R1_001.fastq.sort.bam > /data/isshamie/TSS/NCBI_PICR_103_Processed/RNAseq/sortBam/NL1_Pancreas_S1_L006_R1_001.fastq.sort.coord.bam\n",
      "/data/isshamie/TSS/NCBI_PICR_103_Processed/RNAseq/sortBam/NL2_ReproductiveTract_S2_L006_R1_001.fastq.sort.bam\n",
      "samtools sort /data/isshamie/TSS/NCBI_PICR_103_Processed/RNAseq/sortBam/NL2_ReproductiveTract_S2_L006_R1_001.fastq.sort.bam > /data/isshamie/TSS/NCBI_PICR_103_Processed/RNAseq/sortBam/NL2_ReproductiveTract_S2_L006_R1_001.fastq.sort.coord.bam\n",
      "/data/isshamie/TSS/NCBI_PICR_103_Processed/RNAseq/sortBam/NL9_Kidney_S9_L006_R1_001.fastq.sort.bam\n",
      "samtools sort /data/isshamie/TSS/NCBI_PICR_103_Processed/RNAseq/sortBam/NL9_Kidney_S9_L006_R1_001.fastq.sort.bam > /data/isshamie/TSS/NCBI_PICR_103_Processed/RNAseq/sortBam/NL9_Kidney_S9_L006_R1_001.fastq.sort.coord.bam\n",
      "/data/isshamie/TSS/NCBI_PICR_103_Processed/RNAseq/sortBam/NL5_Liver_S5_L006_R1_001.fastq.sort.bam\n",
      "samtools sort /data/isshamie/TSS/NCBI_PICR_103_Processed/RNAseq/sortBam/NL5_Liver_S5_L006_R1_001.fastq.sort.bam > /data/isshamie/TSS/NCBI_PICR_103_Processed/RNAseq/sortBam/NL5_Liver_S5_L006_R1_001.fastq.sort.coord.bam\n",
      "samtools index /data/isshamie/TSS/NCBI_PICR_103_Processed/RNAseq/sortBam/*.coord.bam\n"
     ]
    }
   ],
   "source": [
    "for i in glob.glob(join(bam_dir,\"*.sort.bam\")):\n",
    "    print(i)\n",
    "    cmd = f\"samtools sort {i} > {i.replace('.bam','.coord.bam')}\"\n",
    "    print(cmd)\n",
    "    \n",
    "cmd = f\"samtools index {join(bam_dir, '*.coord.bam')}\"\n",
    "print(cmd)\n",
    "\n"
   ]
  },
  {
   "cell_type": "code",
   "execution_count": 6,
   "metadata": {
    "ExecuteTime": {
     "end_time": "2020-04-14T07:04:02.461533Z",
     "start_time": "2020-04-14T07:04:00.570336Z"
    },
    "scrolled": true
   },
   "outputs": [
    {
     "name": "stdout",
     "output_type": "stream",
     "text": [
      "geneBody_coverage.py -r /data/isshamie/TSS/Analysis/Analysis_03302020/Results/genome/picr/gcf/mRNA.bed -i /data/isshamie/TSS/NCBI_PICR_103_Processed/RNAseq/sortBam  -o /data/isshamie/TSS/NCBI_PICR_103_Processed/RNAseq/RNA_SeQC\n"
     ]
    },
    {
     "data": {
      "text/plain": [
       "0"
      ]
     },
     "execution_count": 6,
     "metadata": {},
     "output_type": "execute_result"
    }
   ],
   "source": [
    "cmd = f\"geneBody_coverage.py -r /data/isshamie/TSS/Analysis/Analysis_03302020/Results/genome/picr/gcf/mRNA.bed -i {bam_dir}  -o {RNA_SeQC}\"\n",
    "print(cmd)\n",
    "os.system(cmd)"
   ]
  },
  {
   "cell_type": "code",
   "execution_count": null,
   "metadata": {},
   "outputs": [],
   "source": []
  },
  {
   "cell_type": "code",
   "execution_count": null,
   "metadata": {},
   "outputs": [],
   "source": []
  },
  {
   "cell_type": "code",
   "execution_count": null,
   "metadata": {},
   "outputs": [],
   "source": []
  },
  {
   "cell_type": "code",
   "execution_count": null,
   "metadata": {},
   "outputs": [],
   "source": []
  },
  {
   "cell_type": "code",
   "execution_count": null,
   "metadata": {},
   "outputs": [],
   "source": []
  },
  {
   "cell_type": "code",
   "execution_count": 3,
   "metadata": {
    "ExecuteTime": {
     "end_time": "2020-04-06T23:33:42.993684Z",
     "start_time": "2020-04-06T23:33:42.828913Z"
    },
    "scrolled": true
   },
   "outputs": [
    {
     "name": "stdout",
     "output_type": "stream",
     "text": [
      "/data/isshamie/TSS/NCBI_PICR_103_Processed/RNAseq/sortBam/NL4_Lung_S4_L006_R1_001.fastq.sort.bam\n",
      "Lung_S4\n"
     ]
    },
    {
     "ename": "NameError",
     "evalue": "name 'input_f' is not defined",
     "output_type": "error",
     "traceback": [
      "\u001b[0;31m---------------------------------------------------------------------------\u001b[0m",
      "\u001b[0;31mNameError\u001b[0m                                 Traceback (most recent call last)",
      "\u001b[0;32m<ipython-input-3-57f51c6a9ca4>\u001b[0m in \u001b[0;36m<module>\u001b[0;34m\u001b[0m\n\u001b[1;32m      4\u001b[0m     \u001b[0mprint\u001b[0m\u001b[0;34m(\u001b[0m\u001b[0msid\u001b[0m\u001b[0;34m)\u001b[0m\u001b[0;34m\u001b[0m\u001b[0;34m\u001b[0m\u001b[0m\n\u001b[1;32m      5\u001b[0m     \u001b[0moutput_f\u001b[0m \u001b[0;34m=\u001b[0m \u001b[0mjoin\u001b[0m\u001b[0;34m(\u001b[0m\u001b[0mRNA_SeQC\u001b[0m\u001b[0;34m,\u001b[0m\u001b[0msid\u001b[0m\u001b[0;34m)\u001b[0m\u001b[0;34m\u001b[0m\u001b[0;34m\u001b[0m\u001b[0m\n\u001b[0;32m----> 6\u001b[0;31m     \u001b[0mcmd\u001b[0m \u001b[0;34m=\u001b[0m \u001b[0;34mf\"geneBody_coverage.py {input_f} {output_f}\"\u001b[0m\u001b[0;34m\u001b[0m\u001b[0;34m\u001b[0m\u001b[0m\n\u001b[0m\u001b[1;32m      7\u001b[0m     \u001b[0mprint\u001b[0m\u001b[0;34m(\u001b[0m\u001b[0mcmd\u001b[0m\u001b[0;34m)\u001b[0m\u001b[0;34m\u001b[0m\u001b[0;34m\u001b[0m\u001b[0m\n\u001b[1;32m      8\u001b[0m     \u001b[0;31m#os.system(cmd)\u001b[0m\u001b[0;34m\u001b[0m\u001b[0;34m\u001b[0m\u001b[0;34m\u001b[0m\u001b[0m\n",
      "\u001b[0;31mNameError\u001b[0m: name 'input_f' is not defined"
     ]
    }
   ],
   "source": [
    "for bam_f in glob.glob(bam_dir+\"/*bam\"):\n",
    "    print(bam_f)\n",
    "    sid = \"_\".join(basename(bam_f).split(\"_\")[1:3])\n",
    "    print(sid)\n",
    "    output_f = join(RNA_SeQC,sid)\n",
    "    \n",
    "    cmd = f\"geneBody_coverage.py {input_f} {output_f}\"\n",
    "    print(cmd)\n",
    "    #os.system(cmd)"
   ]
  },
  {
   "cell_type": "code",
   "execution_count": null,
   "metadata": {},
   "outputs": [],
   "source": []
  }
 ],
 "metadata": {
  "kernelspec": {
   "display_name": "Python 3",
   "language": "python",
   "name": "python3"
  },
  "language_info": {
   "codemirror_mode": {
    "name": "ipython",
    "version": 3
   },
   "file_extension": ".py",
   "mimetype": "text/x-python",
   "name": "python",
   "nbconvert_exporter": "python",
   "pygments_lexer": "ipython3",
   "version": "3.7.3"
  }
 },
 "nbformat": 4,
 "nbformat_minor": 2
}
