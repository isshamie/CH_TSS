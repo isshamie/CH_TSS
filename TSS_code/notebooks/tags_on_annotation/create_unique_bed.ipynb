{
 "cells": [
  {
   "cell_type": "markdown",
   "metadata": {},
   "source": [
    "## Unique genes"
   ]
  },
  {
   "cell_type": "code",
   "execution_count": 1,
   "metadata": {
    "ExecuteTime": {
     "end_time": "2020-05-11T05:41:12.203724Z",
     "start_time": "2020-05-11T05:41:12.199268Z"
    }
   },
   "outputs": [],
   "source": [
    "import os\n",
    "os.chdir(\"/data/isshamie/TSS/Analysis/TSS_code/\")\n"
   ]
  },
  {
   "cell_type": "code",
   "execution_count": 2,
   "metadata": {
    "ExecuteTime": {
     "end_time": "2020-05-11T05:41:13.407654Z",
     "start_time": "2020-05-11T05:41:12.207033Z"
    },
    "scrolled": true
   },
   "outputs": [
    {
     "name": "stderr",
     "output_type": "stream",
     "text": [
      "/home/isshamie/software/anaconda2/envs/TSS/lib/python3.7/site-packages/ipykernel_launcher.py:7: YAMLLoadWarning: calling yaml.load() without Loader=... is deprecated, as the default Loader is unsafe. Please read https://msg.pyyaml.org/load for full details.\n",
      "  import sys\n"
     ]
    },
    {
     "name": "stdout",
     "output_type": "stream",
     "text": [
      "/data2/resources/software/homer/v4.11_10242019/bin//homer\r\n"
     ]
    }
   ],
   "source": [
    "## Parameters specific to where your folders are and your data\n",
    "parameter_file = 'parameters/params.yaml'\n",
    "import yaml\n",
    "import sys\n",
    "import os\n",
    "with open(parameter_file,'r') as f:\n",
    "    doc = yaml.load(f)\n",
    "\n",
    "#p = dic2obj(**doc)\n",
    "\n",
    "#data_folder = doc['data_folder']\n",
    "#tissues = doc['tissues'].split(',')\n",
    "#sys.path.append(doc['pipeline_path'])\n",
    "ref_fa = doc['GENOME_FA']\n",
    "#anno_gff=doc['annotation']\n",
    "#mRNA_peak_file = doc[\"mRNA_peak_file\"]\n",
    "#tss_annotation = doc['tss_annotation']\n",
    "\n",
    "\n",
    "import sys\n",
    "import pandas as pd\n",
    "import matplotlib\n",
    "import seaborn as sns\n",
    "import pickle\n",
    "import numpy as np\n",
    "import matplotlib as mpl\n",
    "from matplotlib import pyplot as plt\n",
    "from itertools import product\n",
    "import glob\n",
    "import re\n",
    "from os.path import join\n",
    "from matplotlib_venn import venn2\n",
    "from matplotlib import rcParams\n",
    "import inspect\n",
    "%matplotlib inline\n",
    "%config InlineBackend.figure_format = 'retina'\n",
    "sys.setrecursionlimit(3000)\n",
    "%load_ext autoreload\n",
    "%autoreload 2\n",
    "rcParams['figure.figsize'] = 8, 6\n",
    "import tqdm\n",
    "\n",
    "from os.path import basename\n",
    "##mpl.use('Agg')\n",
    "#mpl.style.use('ggplot')\n",
    "#mpl.style.use('fivethirtyeight')\n",
    "#from Homer import *\n",
    "\n",
    "homer_path =  \"/data2/resources/software/homer/v4.11_10242019/bin/\"\n",
    "os.environ['PATH'] = f\"{homer_path}:{os.environ['PATH']}\"\n",
    "!which homer"
   ]
  },
  {
   "cell_type": "code",
   "execution_count": 3,
   "metadata": {
    "ExecuteTime": {
     "end_time": "2020-05-11T05:41:13.467398Z",
     "start_time": "2020-05-11T05:41:13.411170Z"
    }
   },
   "outputs": [
    {
     "name": "stdout",
     "output_type": "stream",
     "text": [
      "params {'PREFIX': 'ncbi_pice_103', 'ROOT_DIR': '/data/isshamie/TSS/', 'DATA_DIR': '/data/isshamie/TSS/NCBI_PICR_103_Processed/', 'DATA_PROCESSED_DIR': '/data/isshamie/TSS/TSS/data/processed/', 'SUPPLEMENTAL_DIR': '/data/isshamie/TSS/Analysis/supplemental/', 'PIPELINE': '/data/isshamie/TSS/tss', 'GENOME_DIR': '/data/isshamie/genome', 'GENOME_FA': '/data/isshamie/genome/picr.fa', 'GENOME_GFF3': '/data/isshamie/genome/updated_final_sort.gff3', 'GENOME_GTF': '/data/isshamie/genome/updated_final_sort.gtf', 'TISSUES': 'BMDM1hKLA,BMDMwt,Brain,FemaleReproductive,Heart,Intestine,', 'META_FILE': '/data/isshamie/TSS/TSS/parameters/raw_metaSamples.tsv'}\n"
     ]
    }
   ],
   "source": [
    "from numpanpar import parallel_ar as parar\n",
    "from tss.data.data_io import *"
   ]
  },
  {
   "cell_type": "markdown",
   "metadata": {},
   "source": [
    "## Indir\n",
    "1) unique_genes_dir\n",
    "2) TSS updated annotation dir"
   ]
  },
  {
   "cell_type": "code",
   "execution_count": 4,
   "metadata": {
    "ExecuteTime": {
     "end_time": "2020-05-11T05:41:13.648151Z",
     "start_time": "2020-05-11T05:41:13.469757Z"
    }
   },
   "outputs": [],
   "source": [
    "tss_bed = read_bed_file('data/processed/alt/eTSS/TSS.exp.bed')\n",
    "tss_meta = pd.read_csv('data/processed/alt/eTSS/TSS.meta.tsv',sep=\"\\t\",index_col=0)\n",
    "unique_genes_dir = \"unique_genes\"\n",
    "\n"
   ]
  },
  {
   "cell_type": "markdown",
   "metadata": {},
   "source": [
    "## outdir\n"
   ]
  },
  {
   "cell_type": "code",
   "execution_count": 5,
   "metadata": {
    "ExecuteTime": {
     "end_time": "2020-05-11T05:41:13.670756Z",
     "start_time": "2020-05-11T05:41:13.650342Z"
    },
    "scrolled": true
   },
   "outputs": [],
   "source": [
    "unique_dir = \"/data/isshamie/TSS/Analysis/TSS_code/figures/alt/barplots_eTSS/bmdm/\" #gene_tissues_expressedLiver.uniqueGenes.txt\"\")\n",
    "\n",
    "os.chdir(doc['results'])\n",
    "outdir = (unique_genes_dir)\n",
    "if not os.path.exists(outdir):\n",
    "    os.mkdir(outdir)"
   ]
  },
  {
   "cell_type": "markdown",
   "metadata": {},
   "source": [
    "## Extract the fasta sequences"
   ]
  },
  {
   "cell_type": "code",
   "execution_count": 6,
   "metadata": {
    "ExecuteTime": {
     "end_time": "2020-05-11T05:41:13.689572Z",
     "start_time": "2020-05-11T05:41:13.672905Z"
    }
   },
   "outputs": [],
   "source": [
    "merge_dict = {\"BMDM\":[\"BMDMwt\", \"BMDM1hKLA\"]}\n"
   ]
  },
  {
   "cell_type": "code",
   "execution_count": 11,
   "metadata": {
    "ExecuteTime": {
     "end_time": "2020-05-11T05:50:37.058361Z",
     "start_time": "2020-05-11T05:50:36.946981Z"
    },
    "scrolled": true
   },
   "outputs": [
    {
     "name": "stdout",
     "output_type": "stream",
     "text": [
      "/data/isshamie/TSS/Analysis/TSS_code/figures/alt/barplots_eTSS/bmdm/gene_tissues_expressedLiver.uniqueGenes.txt\n",
      "Liver\n",
      "/data/isshamie/TSS/Analysis/TSS_code/figures/alt/barplots_eTSS/bmdm/gene_tissues_expressedPancreas.uniqueGenes.txt\n",
      "Pancreas\n",
      "/data/isshamie/TSS/Analysis/TSS_code/figures/alt/barplots_eTSS/bmdm/gene_tissues_expressedCHO.uniqueGenes.txt\n",
      "CHO\n",
      "/data/isshamie/TSS/Analysis/TSS_code/figures/alt/barplots_eTSS/bmdm/gene_tissues_expressedHeart.uniqueGenes.txt\n",
      "Heart\n",
      "/data/isshamie/TSS/Analysis/TSS_code/figures/alt/barplots_eTSS/bmdm/gene_tissues_expressedLung.uniqueGenes.txt\n",
      "Lung\n",
      "/data/isshamie/TSS/Analysis/TSS_code/figures/alt/barplots_eTSS/bmdm/gene_tissues_expressedBrain.uniqueGenes.txt\n",
      "Brain\n",
      "/data/isshamie/TSS/Analysis/TSS_code/figures/alt/barplots_eTSS/bmdm/gene_tissues_expressedBMDM.uniqueGenes.txt\n",
      "BMDM\n"
     ]
    },
    {
     "data": {
      "text/html": [
       "<div>\n",
       "<style scoped>\n",
       "    .dataframe tbody tr th:only-of-type {\n",
       "        vertical-align: middle;\n",
       "    }\n",
       "\n",
       "    .dataframe tbody tr th {\n",
       "        vertical-align: top;\n",
       "    }\n",
       "\n",
       "    .dataframe thead th {\n",
       "        text-align: right;\n",
       "    }\n",
       "</style>\n",
       "<table border=\"1\" class=\"dataframe\">\n",
       "  <thead>\n",
       "    <tr style=\"text-align: right;\">\n",
       "      <th></th>\n",
       "      <th>Chr</th>\n",
       "      <th>Start</th>\n",
       "      <th>End</th>\n",
       "      <th>Stat</th>\n",
       "      <th>Strand</th>\n",
       "      <th>ID</th>\n",
       "    </tr>\n",
       "  </thead>\n",
       "  <tbody>\n",
       "    <tr>\n",
       "      <td>p1@C1H2orf49_XM_027386740.1</td>\n",
       "      <td>NW_020822370.1</td>\n",
       "      <td>2127113</td>\n",
       "      <td>2127265</td>\n",
       "      <td>0.857332</td>\n",
       "      <td>-</td>\n",
       "      <td>p1@C1H2orf49_XM_027386740.1</td>\n",
       "    </tr>\n",
       "    <tr>\n",
       "      <td>p1@Hus1_XM_027388130.1</td>\n",
       "      <td>NW_020822375.1</td>\n",
       "      <td>33343879</td>\n",
       "      <td>33344031</td>\n",
       "      <td>0.633468</td>\n",
       "      <td>+</td>\n",
       "      <td>p1@Hus1_XM_027388130.1</td>\n",
       "    </tr>\n",
       "    <tr>\n",
       "      <td>p1@Alb_XM_027388369.1</td>\n",
       "      <td>NW_020822377.1</td>\n",
       "      <td>1453988</td>\n",
       "      <td>1454140</td>\n",
       "      <td>0.545307</td>\n",
       "      <td>+</td>\n",
       "      <td>p1@Alb_XM_027388369.1</td>\n",
       "    </tr>\n",
       "    <tr>\n",
       "      <td>p1@Psors1c2_XM_027388652.1</td>\n",
       "      <td>NW_020822381.1</td>\n",
       "      <td>1135070</td>\n",
       "      <td>1135222</td>\n",
       "      <td>0.683947</td>\n",
       "      <td>+</td>\n",
       "      <td>p1@Psors1c2_XM_027388652.1</td>\n",
       "    </tr>\n",
       "    <tr>\n",
       "      <td>p1@Mdc1_XM_027388550.1</td>\n",
       "      <td>NW_020822381.1</td>\n",
       "      <td>1407160</td>\n",
       "      <td>1407312</td>\n",
       "      <td>0.389166</td>\n",
       "      <td>+</td>\n",
       "      <td>p1@Mdc1_XM_027388550.1</td>\n",
       "    </tr>\n",
       "    <tr>\n",
       "      <td>...</td>\n",
       "      <td>...</td>\n",
       "      <td>...</td>\n",
       "      <td>...</td>\n",
       "      <td>...</td>\n",
       "      <td>...</td>\n",
       "      <td>...</td>\n",
       "    </tr>\n",
       "    <tr>\n",
       "      <td>p1@LOC100760730_XM_027433919.1</td>\n",
       "      <td>NW_020823422.1</td>\n",
       "      <td>674383</td>\n",
       "      <td>674535</td>\n",
       "      <td>0.695482</td>\n",
       "      <td>+</td>\n",
       "      <td>p1@LOC100760730_XM_027433919.1</td>\n",
       "    </tr>\n",
       "    <tr>\n",
       "      <td>p1@LOC113838150_XM_027433939.1</td>\n",
       "      <td>NW_020823442.1</td>\n",
       "      <td>6176</td>\n",
       "      <td>6215</td>\n",
       "      <td>0.695482</td>\n",
       "      <td>+</td>\n",
       "      <td>p1@LOC113838150_XM_027433939.1</td>\n",
       "    </tr>\n",
       "    <tr>\n",
       "      <td>p1@LOC100753890_XM_027434150.1</td>\n",
       "      <td>NW_020823602.1</td>\n",
       "      <td>24247</td>\n",
       "      <td>24399</td>\n",
       "      <td>0.513218</td>\n",
       "      <td>-</td>\n",
       "      <td>p1@LOC100753890_XM_027434150.1</td>\n",
       "    </tr>\n",
       "    <tr>\n",
       "      <td>p1@LOC113838952_XM_027434451.1</td>\n",
       "      <td>NW_020823908.1</td>\n",
       "      <td>4161</td>\n",
       "      <td>4313</td>\n",
       "      <td>0.528917</td>\n",
       "      <td>+</td>\n",
       "      <td>p1@LOC113838952_XM_027434451.1</td>\n",
       "    </tr>\n",
       "    <tr>\n",
       "      <td>p1@LOC113839113_XM_027434564.1</td>\n",
       "      <td>NW_020824123.1</td>\n",
       "      <td>674</td>\n",
       "      <td>713</td>\n",
       "      <td>0.604226</td>\n",
       "      <td>+</td>\n",
       "      <td>p1@LOC113839113_XM_027434564.1</td>\n",
       "    </tr>\n",
       "  </tbody>\n",
       "</table>\n",
       "<p>159 rows × 6 columns</p>\n",
       "</div>"
      ],
      "text/plain": [
       "                                           Chr     Start       End      Stat  \\\n",
       "p1@C1H2orf49_XM_027386740.1     NW_020822370.1   2127113   2127265  0.857332   \n",
       "p1@Hus1_XM_027388130.1          NW_020822375.1  33343879  33344031  0.633468   \n",
       "p1@Alb_XM_027388369.1           NW_020822377.1   1453988   1454140  0.545307   \n",
       "p1@Psors1c2_XM_027388652.1      NW_020822381.1   1135070   1135222  0.683947   \n",
       "p1@Mdc1_XM_027388550.1          NW_020822381.1   1407160   1407312  0.389166   \n",
       "...                                        ...       ...       ...       ...   \n",
       "p1@LOC100760730_XM_027433919.1  NW_020823422.1    674383    674535  0.695482   \n",
       "p1@LOC113838150_XM_027433939.1  NW_020823442.1      6176      6215  0.695482   \n",
       "p1@LOC100753890_XM_027434150.1  NW_020823602.1     24247     24399  0.513218   \n",
       "p1@LOC113838952_XM_027434451.1  NW_020823908.1      4161      4313  0.528917   \n",
       "p1@LOC113839113_XM_027434564.1  NW_020824123.1       674       713  0.604226   \n",
       "\n",
       "                               Strand                              ID  \n",
       "p1@C1H2orf49_XM_027386740.1         -     p1@C1H2orf49_XM_027386740.1  \n",
       "p1@Hus1_XM_027388130.1              +          p1@Hus1_XM_027388130.1  \n",
       "p1@Alb_XM_027388369.1               +           p1@Alb_XM_027388369.1  \n",
       "p1@Psors1c2_XM_027388652.1          +      p1@Psors1c2_XM_027388652.1  \n",
       "p1@Mdc1_XM_027388550.1              +          p1@Mdc1_XM_027388550.1  \n",
       "...                               ...                             ...  \n",
       "p1@LOC100760730_XM_027433919.1      +  p1@LOC100760730_XM_027433919.1  \n",
       "p1@LOC113838150_XM_027433939.1      +  p1@LOC113838150_XM_027433939.1  \n",
       "p1@LOC100753890_XM_027434150.1      -  p1@LOC100753890_XM_027434150.1  \n",
       "p1@LOC113838952_XM_027434451.1      +  p1@LOC113838952_XM_027434451.1  \n",
       "p1@LOC113839113_XM_027434564.1      +  p1@LOC113839113_XM_027434564.1  \n",
       "\n",
       "[159 rows x 6 columns]"
      ]
     },
     "execution_count": 11,
     "metadata": {},
     "output_type": "execute_result"
    }
   ],
   "source": [
    "for unique_t in glob.glob(unique_dir+\"/gene*.uniqueGenes.txt\"):\n",
    "    print(unique_t)\n",
    "    t = basename(unique_t).split('.uniqueGenes.txt')[0].replace('gene_tissues_expressed','')\n",
    "    print(t)\n",
    "    \n",
    "    if t in merge_dict:\n",
    "        group =  merge_dict[t]\n",
    "    else:\n",
    "        group = [t]\n",
    "    curr_genes = pd.read_csv(unique_t, header=None)\n",
    "    curr_tss_meta = tss_meta[tss_meta[\"Gene\"].isin(curr_genes[0].values)]\n",
    "    curr_tss_meta = curr_tss_meta[(curr_tss_meta[\"Tissues\"].isin(group))]\n",
    "    curr_tss_bed = tss_bed.loc[curr_tss_meta.index]\n",
    "    curr_out_bed = join(outdir, t+'.uniqueGenes.bed')\n",
    "    write_bed_file(curr_tss_bed,curr_out_bed)\n",
    "\n",
    "curr_tss_meta\n",
    "curr_tss_bed\n"
   ]
  },
  {
   "cell_type": "code",
   "execution_count": 18,
   "metadata": {
    "ExecuteTime": {
     "end_time": "2020-05-11T05:52:03.592115Z",
     "start_time": "2020-05-11T05:52:03.568114Z"
    }
   },
   "outputs": [
    {
     "data": {
      "text/plain": [
       "False"
      ]
     },
     "execution_count": 18,
     "metadata": {},
     "output_type": "execute_result"
    }
   ],
   "source": [
    "curr_tss_meta[(curr_tss_meta[\"Tissues\"].isin(group))][\"Tissues\"].str.contains(\",\").any()"
   ]
  },
  {
   "cell_type": "code",
   "execution_count": 19,
   "metadata": {
    "ExecuteTime": {
     "end_time": "2020-05-11T05:52:22.801493Z",
     "start_time": "2020-05-11T05:52:22.758380Z"
    }
   },
   "outputs": [
    {
     "data": {
      "text/html": [
       "<div>\n",
       "<style scoped>\n",
       "    .dataframe tbody tr th:only-of-type {\n",
       "        vertical-align: middle;\n",
       "    }\n",
       "\n",
       "    .dataframe tbody tr th {\n",
       "        vertical-align: top;\n",
       "    }\n",
       "\n",
       "    .dataframe thead th {\n",
       "        text-align: right;\n",
       "    }\n",
       "</style>\n",
       "<table border=\"1\" class=\"dataframe\">\n",
       "  <thead>\n",
       "    <tr style=\"text-align: right;\">\n",
       "      <th></th>\n",
       "      <th>Tissues</th>\n",
       "      <th>cs</th>\n",
       "      <th>CHO ATAC Region</th>\n",
       "      <th>ID</th>\n",
       "      <th>Gene</th>\n",
       "      <th>Gene ID</th>\n",
       "      <th>Transcript</th>\n",
       "      <th>Is Experimental</th>\n",
       "      <th>has ATAC</th>\n",
       "    </tr>\n",
       "  </thead>\n",
       "  <tbody>\n",
       "    <tr>\n",
       "      <td>p1@C1H2orf49_XM_027386740.1</td>\n",
       "      <td>BMDM1hKLA</td>\n",
       "      <td>0b10</td>\n",
       "      <td>2127189:2127966</td>\n",
       "      <td>28047.0</td>\n",
       "      <td>C1H2orf49</td>\n",
       "      <td>NaN</td>\n",
       "      <td>XM_027386740.1</td>\n",
       "      <td>1</td>\n",
       "      <td>1</td>\n",
       "    </tr>\n",
       "    <tr>\n",
       "      <td>p0@Hus1_XM_027388128.1</td>\n",
       "      <td>NaN</td>\n",
       "      <td>NaN</td>\n",
       "      <td>33343396:33344298</td>\n",
       "      <td>NaN</td>\n",
       "      <td>Hus1</td>\n",
       "      <td>NaN</td>\n",
       "      <td>XM_027388128.1</td>\n",
       "      <td>0</td>\n",
       "      <td>1</td>\n",
       "    </tr>\n",
       "    <tr>\n",
       "      <td>p1@Hus1_XM_027388130.1</td>\n",
       "      <td>BMDM1hKLA</td>\n",
       "      <td>0b10</td>\n",
       "      <td>NaN</td>\n",
       "      <td>46631.0</td>\n",
       "      <td>Hus1</td>\n",
       "      <td>NaN</td>\n",
       "      <td>XM_027388130.1</td>\n",
       "      <td>1</td>\n",
       "      <td>0</td>\n",
       "    </tr>\n",
       "    <tr>\n",
       "      <td>p1@Alb_XM_027388369.1</td>\n",
       "      <td>BMDM1hKLA</td>\n",
       "      <td>0b10</td>\n",
       "      <td>NaN</td>\n",
       "      <td>63130.0</td>\n",
       "      <td>Alb</td>\n",
       "      <td>NaN</td>\n",
       "      <td>XM_027388369.1</td>\n",
       "      <td>1</td>\n",
       "      <td>0</td>\n",
       "    </tr>\n",
       "    <tr>\n",
       "      <td>p1@Psors1c2_XM_027388652.1</td>\n",
       "      <td>BMDM1hKLA</td>\n",
       "      <td>0b10</td>\n",
       "      <td>NaN</td>\n",
       "      <td>79168.0</td>\n",
       "      <td>Psors1c2</td>\n",
       "      <td>NaN</td>\n",
       "      <td>XM_027388652.1</td>\n",
       "      <td>1</td>\n",
       "      <td>0</td>\n",
       "    </tr>\n",
       "    <tr>\n",
       "      <td>...</td>\n",
       "      <td>...</td>\n",
       "      <td>...</td>\n",
       "      <td>...</td>\n",
       "      <td>...</td>\n",
       "      <td>...</td>\n",
       "      <td>...</td>\n",
       "      <td>...</td>\n",
       "      <td>...</td>\n",
       "      <td>...</td>\n",
       "    </tr>\n",
       "    <tr>\n",
       "      <td>p0@LOC100760730_XM_027433924.1</td>\n",
       "      <td>NaN</td>\n",
       "      <td>NaN</td>\n",
       "      <td>NaN</td>\n",
       "      <td>NaN</td>\n",
       "      <td>LOC100760730</td>\n",
       "      <td>NaN</td>\n",
       "      <td>XM_027433924.1</td>\n",
       "      <td>0</td>\n",
       "      <td>0</td>\n",
       "    </tr>\n",
       "    <tr>\n",
       "      <td>p1@LOC113838150_XM_027433939.1</td>\n",
       "      <td>BMDMwt</td>\n",
       "      <td>0b10</td>\n",
       "      <td>NaN</td>\n",
       "      <td>364202.0</td>\n",
       "      <td>LOC113838150</td>\n",
       "      <td>NaN</td>\n",
       "      <td>XM_027433939.1</td>\n",
       "      <td>1</td>\n",
       "      <td>0</td>\n",
       "    </tr>\n",
       "    <tr>\n",
       "      <td>p1@LOC100753890_XM_027434150.1</td>\n",
       "      <td>BMDMwt</td>\n",
       "      <td>0b10</td>\n",
       "      <td>NaN</td>\n",
       "      <td>379048.0</td>\n",
       "      <td>LOC100753890</td>\n",
       "      <td>NaN</td>\n",
       "      <td>XM_027434150.1</td>\n",
       "      <td>1</td>\n",
       "      <td>0</td>\n",
       "    </tr>\n",
       "    <tr>\n",
       "      <td>p1@LOC113838952_XM_027434451.1</td>\n",
       "      <td>BMDM1hKLA</td>\n",
       "      <td>0b10</td>\n",
       "      <td>NaN</td>\n",
       "      <td>48008.0</td>\n",
       "      <td>LOC113838952</td>\n",
       "      <td>NaN</td>\n",
       "      <td>XM_027434451.1</td>\n",
       "      <td>1</td>\n",
       "      <td>0</td>\n",
       "    </tr>\n",
       "    <tr>\n",
       "      <td>p1@LOC113839113_XM_027434564.1</td>\n",
       "      <td>BMDMwt</td>\n",
       "      <td>0b10</td>\n",
       "      <td>NaN</td>\n",
       "      <td>395599.0</td>\n",
       "      <td>LOC113839113</td>\n",
       "      <td>NaN</td>\n",
       "      <td>XM_027434564.1</td>\n",
       "      <td>1</td>\n",
       "      <td>0</td>\n",
       "    </tr>\n",
       "  </tbody>\n",
       "</table>\n",
       "<p>233 rows × 9 columns</p>\n",
       "</div>"
      ],
      "text/plain": [
       "                                  Tissues    cs    CHO ATAC Region        ID  \\\n",
       "p1@C1H2orf49_XM_027386740.1     BMDM1hKLA  0b10    2127189:2127966   28047.0   \n",
       "p0@Hus1_XM_027388128.1                NaN   NaN  33343396:33344298       NaN   \n",
       "p1@Hus1_XM_027388130.1          BMDM1hKLA  0b10                NaN   46631.0   \n",
       "p1@Alb_XM_027388369.1           BMDM1hKLA  0b10                NaN   63130.0   \n",
       "p1@Psors1c2_XM_027388652.1      BMDM1hKLA  0b10                NaN   79168.0   \n",
       "...                                   ...   ...                ...       ...   \n",
       "p0@LOC100760730_XM_027433924.1        NaN   NaN                NaN       NaN   \n",
       "p1@LOC113838150_XM_027433939.1     BMDMwt  0b10                NaN  364202.0   \n",
       "p1@LOC100753890_XM_027434150.1     BMDMwt  0b10                NaN  379048.0   \n",
       "p1@LOC113838952_XM_027434451.1  BMDM1hKLA  0b10                NaN   48008.0   \n",
       "p1@LOC113839113_XM_027434564.1     BMDMwt  0b10                NaN  395599.0   \n",
       "\n",
       "                                        Gene  Gene ID      Transcript  \\\n",
       "p1@C1H2orf49_XM_027386740.1        C1H2orf49      NaN  XM_027386740.1   \n",
       "p0@Hus1_XM_027388128.1                  Hus1      NaN  XM_027388128.1   \n",
       "p1@Hus1_XM_027388130.1                  Hus1      NaN  XM_027388130.1   \n",
       "p1@Alb_XM_027388369.1                    Alb      NaN  XM_027388369.1   \n",
       "p1@Psors1c2_XM_027388652.1          Psors1c2      NaN  XM_027388652.1   \n",
       "...                                      ...      ...             ...   \n",
       "p0@LOC100760730_XM_027433924.1  LOC100760730      NaN  XM_027433924.1   \n",
       "p1@LOC113838150_XM_027433939.1  LOC113838150      NaN  XM_027433939.1   \n",
       "p1@LOC100753890_XM_027434150.1  LOC100753890      NaN  XM_027434150.1   \n",
       "p1@LOC113838952_XM_027434451.1  LOC113838952      NaN  XM_027434451.1   \n",
       "p1@LOC113839113_XM_027434564.1  LOC113839113      NaN  XM_027434564.1   \n",
       "\n",
       "                                Is Experimental  has ATAC  \n",
       "p1@C1H2orf49_XM_027386740.1                   1         1  \n",
       "p0@Hus1_XM_027388128.1                        0         1  \n",
       "p1@Hus1_XM_027388130.1                        1         0  \n",
       "p1@Alb_XM_027388369.1                         1         0  \n",
       "p1@Psors1c2_XM_027388652.1                    1         0  \n",
       "...                                         ...       ...  \n",
       "p0@LOC100760730_XM_027433924.1                0         0  \n",
       "p1@LOC113838150_XM_027433939.1                1         0  \n",
       "p1@LOC100753890_XM_027434150.1                1         0  \n",
       "p1@LOC113838952_XM_027434451.1                1         0  \n",
       "p1@LOC113839113_XM_027434564.1                1         0  \n",
       "\n",
       "[233 rows x 9 columns]"
      ]
     },
     "execution_count": 19,
     "metadata": {},
     "output_type": "execute_result"
    }
   ],
   "source": [
    "tss_meta[tss_meta[\"Gene\"].isin(curr_genes[0].values)]"
   ]
  }
 ],
 "metadata": {
  "kernelspec": {
   "display_name": "Python 2",
   "language": "python",
   "name": "python2"
  },
  "language_info": {
   "codemirror_mode": {
    "name": "ipython",
    "version": 3
   },
   "file_extension": ".py",
   "mimetype": "text/x-python",
   "name": "python",
   "nbconvert_exporter": "python",
   "pygments_lexer": "ipython3",
   "version": "3.7.3"
  }
 },
 "nbformat": 4,
 "nbformat_minor": 2
}
