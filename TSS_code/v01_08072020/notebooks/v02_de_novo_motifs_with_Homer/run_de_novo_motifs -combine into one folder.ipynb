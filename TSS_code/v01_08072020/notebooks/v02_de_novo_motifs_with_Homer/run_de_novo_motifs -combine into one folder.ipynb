{
 "cells": [
  {
   "cell_type": "markdown",
   "metadata": {},
   "source": [
    "## Copy all the homer_out folders to a main directory of just homer results"
   ]
  },
  {
   "cell_type": "code",
   "execution_count": 1,
   "metadata": {
    "ExecuteTime": {
     "end_time": "2020-07-23T00:27:45.576622Z",
     "start_time": "2020-07-23T00:27:44.332899Z"
    },
    "scrolled": false
   },
   "outputs": [
    {
     "name": "stderr",
     "output_type": "stream",
     "text": [
      "/home/isshamie/software/anaconda2/envs/TSS/lib/python3.7/site-packages/ipykernel_launcher.py:7: YAMLLoadWarning: calling yaml.load() without Loader=... is deprecated, as the default Loader is unsafe. Please read https://msg.pyyaml.org/load for full details.\n",
      "  import sys\n"
     ]
    },
    {
     "name": "stdout",
     "output_type": "stream",
     "text": [
      "/data2/resources/software/homer/v4.11_10242019/bin//homer\r\n"
     ]
    }
   ],
   "source": [
    "## Parameters specific to where your folders are and your data\n",
    "parameter_file = '../../parameters/params.yaml'\n",
    "import yaml\n",
    "import sys\n",
    "import os\n",
    "with open(parameter_file,'r') as f:\n",
    "    doc = yaml.load(f)\n",
    "\n",
    "#p = dic2obj(**doc)\n",
    "\n",
    "#data_folder = doc['data_folder']\n",
    "#tissues = doc['tissues'].split(',')\n",
    "#sys.path.append(doc['pipeline_path'])\n",
    "ref_fa = doc['GENOME_FA']\n",
    "#anno_gff=doc['annotation']\n",
    "#mRNA_peak_file = doc[\"mRNA_peak_file\"]\n",
    "#tss_annotation = doc['tss_annotation']\n",
    "\n",
    "from scipy.stats import zscore\n",
    "\n",
    "import sys\n",
    "import pandas as pd\n",
    "import matplotlib\n",
    "import seaborn as sns\n",
    "import pickle\n",
    "import numpy as np\n",
    "import matplotlib as mpl\n",
    "from matplotlib import pyplot as plt\n",
    "from itertools import product\n",
    "import glob\n",
    "import re\n",
    "from os.path import join\n",
    "from matplotlib_venn import venn2\n",
    "from matplotlib import rcParams\n",
    "import inspect\n",
    "%matplotlib inline\n",
    "%config InlineBackend.figure_format = 'retina'\n",
    "sys.setrecursionlimit(3000)\n",
    "%load_ext autoreload\n",
    "%autoreload 2\n",
    "rcParams['figure.figsize'] = 8, 6\n",
    "import tqdm\n",
    "from collections import defaultdict\n",
    "from os.path import basename\n",
    "##mpl.use('Agg')\n",
    "#mpl.style.use('ggplot')\n",
    "#mpl.style.use('fivethirtyeight')\n",
    "#from Homer import *\n",
    "\n",
    "homer_path =  \"/data2/resources/software/homer/v4.11_10242019/bin/\"\n",
    "os.environ['PATH'] = f\"{homer_path}:{os.environ['PATH']}\"\n",
    "!which homer\n",
    "\n",
    "import click"
   ]
  },
  {
   "cell_type": "code",
   "execution_count": 2,
   "metadata": {
    "ExecuteTime": {
     "end_time": "2020-07-23T00:27:47.574763Z",
     "start_time": "2020-07-23T00:27:47.523036Z"
    }
   },
   "outputs": [
    {
     "name": "stdout",
     "output_type": "stream",
     "text": [
      "params {'PREFIX': 'ncbi_pice_103', 'ROOT_DIR': '/data/isshamie/TSS/', 'DATA_DIR': '/data/isshamie/TSS/NCBI_PICR_103_Processed/', 'DATA_PROCESSED_DIR': '/data/isshamie/TSS/TSS/data/processed/', 'SUPPLEMENTAL_DIR': '/data/isshamie/TSS/Analysis/supplemental/', 'PIPELINE': '/data/isshamie/TSS/tss', 'GENOME_DIR': '/data/isshamie/genome', 'GENOME_FA': '/data/isshamie/genome/picr.fa', 'GENOME_GFF3': '/data/isshamie/genome/updated_final_sort.gff3', 'GENOME_GTF': '/data/isshamie/genome/updated_final_sort.gtf', 'TISSUES': 'BMDM1hKLA,BMDMwt,Brain,FemaleReproductive,Heart,Intestine,', 'META_FILE': '/data/isshamie/TSS/TSS/parameters/raw_metaSamples.tsv'}\n"
     ]
    }
   ],
   "source": [
    "from tss.utils import wrap_findMotifs\n",
    "from tss.data.data_io import read_bed_file\n",
    "from tss.data.data_io import write_bed_file\n",
    "from tss.utils import wrap_findMotifs\n",
    "from tss.data import data_io\n",
    "from tss.visualize.fig_utils import helper_save\n",
    "from tss.data.tissues_collapse import merge_columns\n"
   ]
  },
  {
   "cell_type": "markdown",
   "metadata": {},
   "source": [
    "## Outdir:"
   ]
  },
  {
   "cell_type": "code",
   "execution_count": 3,
   "metadata": {
    "ExecuteTime": {
     "end_time": "2020-07-23T00:27:56.818752Z",
     "start_time": "2020-07-23T00:27:56.796401Z"
    }
   },
   "outputs": [],
   "source": [
    "os.chdir(doc[\"results\"])\n",
    "genome=\"alt\"\n",
    "outdir= join(\"v02_de_novo_motifs\",genome)"
   ]
  },
  {
   "cell_type": "code",
   "execution_count": 10,
   "metadata": {
    "ExecuteTime": {
     "end_time": "2020-07-23T00:29:11.376994Z",
     "start_time": "2020-07-23T00:29:08.672059Z"
    },
    "scrolled": true
   },
   "outputs": [
    {
     "name": "stdout",
     "output_type": "stream",
     "text": [
      "homer_out v02_de_novo_motifs/alt/HomerResults\n",
      "new_dir v02_de_novo_motifs/alt/HomerResults/promoter_enriched\n",
      "j v02_de_novo_motifs/alt/promoter_enriched/Brain/homer_out\n",
      "cp -r v02_de_novo_motifs/alt/promoter_enriched/Brain/homer_out v02_de_novo_motifs/alt/HomerResults/promoter_enriched/Brain\n",
      "j v02_de_novo_motifs/alt/promoter_enriched/CHO/homer_out\n",
      "cp -r v02_de_novo_motifs/alt/promoter_enriched/CHO/homer_out v02_de_novo_motifs/alt/HomerResults/promoter_enriched/CHO\n",
      "j v02_de_novo_motifs/alt/promoter_enriched/Heart/homer_out\n",
      "cp -r v02_de_novo_motifs/alt/promoter_enriched/Heart/homer_out v02_de_novo_motifs/alt/HomerResults/promoter_enriched/Heart\n",
      "j v02_de_novo_motifs/alt/promoter_enriched/Kidney/homer_out\n",
      "cp -r v02_de_novo_motifs/alt/promoter_enriched/Kidney/homer_out v02_de_novo_motifs/alt/HomerResults/promoter_enriched/Kidney\n",
      "j v02_de_novo_motifs/alt/promoter_enriched/Muscle/homer_out\n",
      "cp -r v02_de_novo_motifs/alt/promoter_enriched/Muscle/homer_out v02_de_novo_motifs/alt/HomerResults/promoter_enriched/Muscle\n",
      "j v02_de_novo_motifs/alt/promoter_enriched/Lung/homer_out\n",
      "cp -r v02_de_novo_motifs/alt/promoter_enriched/Lung/homer_out v02_de_novo_motifs/alt/HomerResults/promoter_enriched/Lung\n",
      "j v02_de_novo_motifs/alt/promoter_enriched/BMDM/homer_out\n",
      "cp -r v02_de_novo_motifs/alt/promoter_enriched/BMDM/homer_out v02_de_novo_motifs/alt/HomerResults/promoter_enriched/BMDM\n",
      "j v02_de_novo_motifs/alt/promoter_enriched/Liver/homer_out\n",
      "cp -r v02_de_novo_motifs/alt/promoter_enriched/Liver/homer_out v02_de_novo_motifs/alt/HomerResults/promoter_enriched/Liver\n",
      "j v02_de_novo_motifs/alt/promoter_enriched/FemaleReproductive/homer_out\n",
      "cp -r v02_de_novo_motifs/alt/promoter_enriched/FemaleReproductive/homer_out v02_de_novo_motifs/alt/HomerResults/promoter_enriched/FemaleReproductive\n",
      "j v02_de_novo_motifs/alt/promoter_enriched/Pancreas/homer_out\n",
      "cp -r v02_de_novo_motifs/alt/promoter_enriched/Pancreas/homer_out v02_de_novo_motifs/alt/HomerResults/promoter_enriched/Pancreas\n",
      "j v02_de_novo_motifs/alt/promoter_enriched/Spleen/homer_out\n",
      "cp -r v02_de_novo_motifs/alt/promoter_enriched/Spleen/homer_out v02_de_novo_motifs/alt/HomerResults/promoter_enriched/Spleen\n",
      "j v02_de_novo_motifs/alt/promoter_enriched/MiscOrgans/homer_out\n",
      "cp -r v02_de_novo_motifs/alt/promoter_enriched/MiscOrgans/homer_out v02_de_novo_motifs/alt/HomerResults/promoter_enriched/MiscOrgans\n",
      "new_dir v02_de_novo_motifs/alt/HomerResults/enhancers_unique\n",
      "j v02_de_novo_motifs/alt/enhancers_unique/FemaleReproductive.uniqueGenes/knownResults\n",
      "cp -r v02_de_novo_motifs/alt/enhancers_unique/FemaleReproductive.uniqueGenes/knownResults v02_de_novo_motifs/alt/HomerResults/enhancers_unique/FemaleReproductive.uniqueGenes\n",
      "j v02_de_novo_motifs/alt/enhancers_unique/FemaleReproductive.uniqueGenes/homerResults\n",
      "cp -r v02_de_novo_motifs/alt/enhancers_unique/FemaleReproductive.uniqueGenes/homerResults v02_de_novo_motifs/alt/HomerResults/enhancers_unique/FemaleReproductive.uniqueGenes\n",
      "j v02_de_novo_motifs/alt/enhancers_unique/Lung.uniqueGenes/knownResults\n",
      "cp -r v02_de_novo_motifs/alt/enhancers_unique/Lung.uniqueGenes/knownResults v02_de_novo_motifs/alt/HomerResults/enhancers_unique/Lung.uniqueGenes\n",
      "j v02_de_novo_motifs/alt/enhancers_unique/Lung.uniqueGenes/homerResults\n",
      "cp -r v02_de_novo_motifs/alt/enhancers_unique/Lung.uniqueGenes/homerResults v02_de_novo_motifs/alt/HomerResults/enhancers_unique/Lung.uniqueGenes\n",
      "j v02_de_novo_motifs/alt/enhancers_unique/Liver.uniqueGenes/knownResults\n",
      "cp -r v02_de_novo_motifs/alt/enhancers_unique/Liver.uniqueGenes/knownResults v02_de_novo_motifs/alt/HomerResults/enhancers_unique/Liver.uniqueGenes\n",
      "j v02_de_novo_motifs/alt/enhancers_unique/Liver.uniqueGenes/homerResults\n",
      "cp -r v02_de_novo_motifs/alt/enhancers_unique/Liver.uniqueGenes/homerResults v02_de_novo_motifs/alt/HomerResults/enhancers_unique/Liver.uniqueGenes\n",
      "j v02_de_novo_motifs/alt/enhancers_unique/Brain.uniqueGenes/knownResults\n",
      "cp -r v02_de_novo_motifs/alt/enhancers_unique/Brain.uniqueGenes/knownResults v02_de_novo_motifs/alt/HomerResults/enhancers_unique/Brain.uniqueGenes\n",
      "j v02_de_novo_motifs/alt/enhancers_unique/Brain.uniqueGenes/homerResults\n",
      "cp -r v02_de_novo_motifs/alt/enhancers_unique/Brain.uniqueGenes/homerResults v02_de_novo_motifs/alt/HomerResults/enhancers_unique/Brain.uniqueGenes\n",
      "j v02_de_novo_motifs/alt/enhancers_unique/Muscle.uniqueGenes/knownResults\n",
      "cp -r v02_de_novo_motifs/alt/enhancers_unique/Muscle.uniqueGenes/knownResults v02_de_novo_motifs/alt/HomerResults/enhancers_unique/Muscle.uniqueGenes\n",
      "j v02_de_novo_motifs/alt/enhancers_unique/Muscle.uniqueGenes/homerResults\n",
      "cp -r v02_de_novo_motifs/alt/enhancers_unique/Muscle.uniqueGenes/homerResults v02_de_novo_motifs/alt/HomerResults/enhancers_unique/Muscle.uniqueGenes\n",
      "j v02_de_novo_motifs/alt/enhancers_unique/BMDM.uniqueGenes/knownResults\n",
      "cp -r v02_de_novo_motifs/alt/enhancers_unique/BMDM.uniqueGenes/knownResults v02_de_novo_motifs/alt/HomerResults/enhancers_unique/BMDM.uniqueGenes\n",
      "j v02_de_novo_motifs/alt/enhancers_unique/BMDM.uniqueGenes/homerResults\n",
      "cp -r v02_de_novo_motifs/alt/enhancers_unique/BMDM.uniqueGenes/homerResults v02_de_novo_motifs/alt/HomerResults/enhancers_unique/BMDM.uniqueGenes\n",
      "j v02_de_novo_motifs/alt/enhancers_unique/CHO.uniqueGenes/knownResults\n",
      "cp -r v02_de_novo_motifs/alt/enhancers_unique/CHO.uniqueGenes/knownResults v02_de_novo_motifs/alt/HomerResults/enhancers_unique/CHO.uniqueGenes\n",
      "j v02_de_novo_motifs/alt/enhancers_unique/CHO.uniqueGenes/homerResults\n",
      "cp -r v02_de_novo_motifs/alt/enhancers_unique/CHO.uniqueGenes/homerResults v02_de_novo_motifs/alt/HomerResults/enhancers_unique/CHO.uniqueGenes\n",
      "j v02_de_novo_motifs/alt/enhancers_unique/MiscOrgans.uniqueGenes/knownResults\n",
      "cp -r v02_de_novo_motifs/alt/enhancers_unique/MiscOrgans.uniqueGenes/knownResults v02_de_novo_motifs/alt/HomerResults/enhancers_unique/MiscOrgans.uniqueGenes\n",
      "j v02_de_novo_motifs/alt/enhancers_unique/MiscOrgans.uniqueGenes/homerResults\n",
      "cp -r v02_de_novo_motifs/alt/enhancers_unique/MiscOrgans.uniqueGenes/homerResults v02_de_novo_motifs/alt/HomerResults/enhancers_unique/MiscOrgans.uniqueGenes\n",
      "j v02_de_novo_motifs/alt/enhancers_unique/Pancreas.uniqueGenes/knownResults\n",
      "cp -r v02_de_novo_motifs/alt/enhancers_unique/Pancreas.uniqueGenes/knownResults v02_de_novo_motifs/alt/HomerResults/enhancers_unique/Pancreas.uniqueGenes\n",
      "j v02_de_novo_motifs/alt/enhancers_unique/Pancreas.uniqueGenes/homerResults\n",
      "cp -r v02_de_novo_motifs/alt/enhancers_unique/Pancreas.uniqueGenes/homerResults v02_de_novo_motifs/alt/HomerResults/enhancers_unique/Pancreas.uniqueGenes\n",
      "j v02_de_novo_motifs/alt/enhancers_unique/Spleen.uniqueGenes/knownResults\n",
      "cp -r v02_de_novo_motifs/alt/enhancers_unique/Spleen.uniqueGenes/knownResults v02_de_novo_motifs/alt/HomerResults/enhancers_unique/Spleen.uniqueGenes\n",
      "j v02_de_novo_motifs/alt/enhancers_unique/Spleen.uniqueGenes/homerResults\n",
      "cp -r v02_de_novo_motifs/alt/enhancers_unique/Spleen.uniqueGenes/homerResults v02_de_novo_motifs/alt/HomerResults/enhancers_unique/Spleen.uniqueGenes\n",
      "j v02_de_novo_motifs/alt/enhancers_unique/Heart.uniqueGenes/knownResults\n",
      "cp -r v02_de_novo_motifs/alt/enhancers_unique/Heart.uniqueGenes/knownResults v02_de_novo_motifs/alt/HomerResults/enhancers_unique/Heart.uniqueGenes\n",
      "j v02_de_novo_motifs/alt/enhancers_unique/Heart.uniqueGenes/homerResults\n",
      "cp -r v02_de_novo_motifs/alt/enhancers_unique/Heart.uniqueGenes/homerResults v02_de_novo_motifs/alt/HomerResults/enhancers_unique/Heart.uniqueGenes\n",
      "j v02_de_novo_motifs/alt/enhancers_unique/Kidney.uniqueGenes/knownResults\n",
      "cp -r v02_de_novo_motifs/alt/enhancers_unique/Kidney.uniqueGenes/knownResults v02_de_novo_motifs/alt/HomerResults/enhancers_unique/Kidney.uniqueGenes\n",
      "j v02_de_novo_motifs/alt/enhancers_unique/Kidney.uniqueGenes/homerResults\n",
      "cp -r v02_de_novo_motifs/alt/enhancers_unique/Kidney.uniqueGenes/homerResults v02_de_novo_motifs/alt/HomerResults/enhancers_unique/Kidney.uniqueGenes\n",
      "new_dir v02_de_novo_motifs/alt/HomerResults/distal_peaks\n",
      "j v02_de_novo_motifs/alt/distal_peaks/Brain/homer_out\n",
      "cp -r v02_de_novo_motifs/alt/distal_peaks/Brain/homer_out v02_de_novo_motifs/alt/HomerResults/distal_peaks/Brain\n",
      "j v02_de_novo_motifs/alt/distal_peaks/CHO/homer_out\n",
      "cp -r v02_de_novo_motifs/alt/distal_peaks/CHO/homer_out v02_de_novo_motifs/alt/HomerResults/distal_peaks/CHO\n",
      "j v02_de_novo_motifs/alt/distal_peaks/Heart/homer_out\n",
      "cp -r v02_de_novo_motifs/alt/distal_peaks/Heart/homer_out v02_de_novo_motifs/alt/HomerResults/distal_peaks/Heart\n",
      "j v02_de_novo_motifs/alt/distal_peaks/Kidney/homer_out\n",
      "cp -r v02_de_novo_motifs/alt/distal_peaks/Kidney/homer_out v02_de_novo_motifs/alt/HomerResults/distal_peaks/Kidney\n"
     ]
    },
    {
     "name": "stdout",
     "output_type": "stream",
     "text": [
      "j v02_de_novo_motifs/alt/distal_peaks/Muscle/homer_out\n",
      "cp -r v02_de_novo_motifs/alt/distal_peaks/Muscle/homer_out v02_de_novo_motifs/alt/HomerResults/distal_peaks/Muscle\n",
      "j v02_de_novo_motifs/alt/distal_peaks/Lung/homer_out\n",
      "cp -r v02_de_novo_motifs/alt/distal_peaks/Lung/homer_out v02_de_novo_motifs/alt/HomerResults/distal_peaks/Lung\n",
      "j v02_de_novo_motifs/alt/distal_peaks/BMDM/homer_out\n",
      "cp -r v02_de_novo_motifs/alt/distal_peaks/BMDM/homer_out v02_de_novo_motifs/alt/HomerResults/distal_peaks/BMDM\n",
      "j v02_de_novo_motifs/alt/distal_peaks/Liver/homer_out\n",
      "cp -r v02_de_novo_motifs/alt/distal_peaks/Liver/homer_out v02_de_novo_motifs/alt/HomerResults/distal_peaks/Liver\n",
      "j v02_de_novo_motifs/alt/distal_peaks/FemaleReproductive/homer_out\n",
      "cp -r v02_de_novo_motifs/alt/distal_peaks/FemaleReproductive/homer_out v02_de_novo_motifs/alt/HomerResults/distal_peaks/FemaleReproductive\n",
      "j v02_de_novo_motifs/alt/distal_peaks/Pancreas/homer_out\n",
      "cp -r v02_de_novo_motifs/alt/distal_peaks/Pancreas/homer_out v02_de_novo_motifs/alt/HomerResults/distal_peaks/Pancreas\n",
      "j v02_de_novo_motifs/alt/distal_peaks/Spleen/homer_out\n",
      "cp -r v02_de_novo_motifs/alt/distal_peaks/Spleen/homer_out v02_de_novo_motifs/alt/HomerResults/distal_peaks/Spleen\n",
      "j v02_de_novo_motifs/alt/distal_peaks/MiscOrgans/homer_out\n",
      "cp -r v02_de_novo_motifs/alt/distal_peaks/MiscOrgans/homer_out v02_de_novo_motifs/alt/HomerResults/distal_peaks/MiscOrgans\n",
      "new_dir v02_de_novo_motifs/alt/HomerResults/promoters\n",
      "j v02_de_novo_motifs/alt/promoters/Pancreas.uniqueGenes.noBg/knownResults\n",
      "cp -r v02_de_novo_motifs/alt/promoters/Pancreas.uniqueGenes.noBg/knownResults v02_de_novo_motifs/alt/HomerResults/promoters/Pancreas.uniqueGenes.noBg\n",
      "j v02_de_novo_motifs/alt/promoters/Pancreas.uniqueGenes.noBg/homerResults\n",
      "cp -r v02_de_novo_motifs/alt/promoters/Pancreas.uniqueGenes.noBg/homerResults v02_de_novo_motifs/alt/HomerResults/promoters/Pancreas.uniqueGenes.noBg\n",
      "j v02_de_novo_motifs/alt/promoters/Muscle.uniqueGenes.noBg/knownResults\n",
      "cp -r v02_de_novo_motifs/alt/promoters/Muscle.uniqueGenes.noBg/knownResults v02_de_novo_motifs/alt/HomerResults/promoters/Muscle.uniqueGenes.noBg\n",
      "j v02_de_novo_motifs/alt/promoters/Muscle.uniqueGenes.noBg/homerResults\n",
      "cp -r v02_de_novo_motifs/alt/promoters/Muscle.uniqueGenes.noBg/homerResults v02_de_novo_motifs/alt/HomerResults/promoters/Muscle.uniqueGenes.noBg\n",
      "j v02_de_novo_motifs/alt/promoters/FemaleReproductive.uniqueGenes/knownResults\n",
      "cp -r v02_de_novo_motifs/alt/promoters/FemaleReproductive.uniqueGenes/knownResults v02_de_novo_motifs/alt/HomerResults/promoters/FemaleReproductive.uniqueGenes\n",
      "j v02_de_novo_motifs/alt/promoters/FemaleReproductive.uniqueGenes/homerResults\n",
      "cp -r v02_de_novo_motifs/alt/promoters/FemaleReproductive.uniqueGenes/homerResults v02_de_novo_motifs/alt/HomerResults/promoters/FemaleReproductive.uniqueGenes\n",
      "j v02_de_novo_motifs/alt/promoters/Lung.uniqueGenes/knownResults\n",
      "cp -r v02_de_novo_motifs/alt/promoters/Lung.uniqueGenes/knownResults v02_de_novo_motifs/alt/HomerResults/promoters/Lung.uniqueGenes\n",
      "j v02_de_novo_motifs/alt/promoters/Lung.uniqueGenes/homerResults\n",
      "cp -r v02_de_novo_motifs/alt/promoters/Lung.uniqueGenes/homerResults v02_de_novo_motifs/alt/HomerResults/promoters/Lung.uniqueGenes\n",
      "j v02_de_novo_motifs/alt/promoters/Liver.uniqueGenes/knownResults\n",
      "cp -r v02_de_novo_motifs/alt/promoters/Liver.uniqueGenes/knownResults v02_de_novo_motifs/alt/HomerResults/promoters/Liver.uniqueGenes\n",
      "j v02_de_novo_motifs/alt/promoters/Liver.uniqueGenes/homerResults\n",
      "cp -r v02_de_novo_motifs/alt/promoters/Liver.uniqueGenes/homerResults v02_de_novo_motifs/alt/HomerResults/promoters/Liver.uniqueGenes\n",
      "j v02_de_novo_motifs/alt/promoters/BMDM.uniqueGenes.noBg/knownResults\n",
      "cp -r v02_de_novo_motifs/alt/promoters/BMDM.uniqueGenes.noBg/knownResults v02_de_novo_motifs/alt/HomerResults/promoters/BMDM.uniqueGenes.noBg\n",
      "j v02_de_novo_motifs/alt/promoters/BMDM.uniqueGenes.noBg/homerResults\n",
      "cp -r v02_de_novo_motifs/alt/promoters/BMDM.uniqueGenes.noBg/homerResults v02_de_novo_motifs/alt/HomerResults/promoters/BMDM.uniqueGenes.noBg\n",
      "j v02_de_novo_motifs/alt/promoters/CHO.uniqueGenes.noBg/knownResults\n",
      "cp -r v02_de_novo_motifs/alt/promoters/CHO.uniqueGenes.noBg/knownResults v02_de_novo_motifs/alt/HomerResults/promoters/CHO.uniqueGenes.noBg\n",
      "j v02_de_novo_motifs/alt/promoters/CHO.uniqueGenes.noBg/homerResults\n",
      "cp -r v02_de_novo_motifs/alt/promoters/CHO.uniqueGenes.noBg/homerResults v02_de_novo_motifs/alt/HomerResults/promoters/CHO.uniqueGenes.noBg\n",
      "j v02_de_novo_motifs/alt/promoters/Brain.uniqueGenes/knownResults\n",
      "cp -r v02_de_novo_motifs/alt/promoters/Brain.uniqueGenes/knownResults v02_de_novo_motifs/alt/HomerResults/promoters/Brain.uniqueGenes\n",
      "j v02_de_novo_motifs/alt/promoters/Brain.uniqueGenes/homerResults\n",
      "cp -r v02_de_novo_motifs/alt/promoters/Brain.uniqueGenes/homerResults v02_de_novo_motifs/alt/HomerResults/promoters/Brain.uniqueGenes\n",
      "j v02_de_novo_motifs/alt/promoters/Spleen.uniqueGenes.noBg/knownResults\n",
      "cp -r v02_de_novo_motifs/alt/promoters/Spleen.uniqueGenes.noBg/knownResults v02_de_novo_motifs/alt/HomerResults/promoters/Spleen.uniqueGenes.noBg\n",
      "j v02_de_novo_motifs/alt/promoters/Spleen.uniqueGenes.noBg/homerResults\n",
      "cp -r v02_de_novo_motifs/alt/promoters/Spleen.uniqueGenes.noBg/homerResults v02_de_novo_motifs/alt/HomerResults/promoters/Spleen.uniqueGenes.noBg\n",
      "j v02_de_novo_motifs/alt/promoters/Brain.uniqueGenes.noBg/knownResults\n",
      "cp -r v02_de_novo_motifs/alt/promoters/Brain.uniqueGenes.noBg/knownResults v02_de_novo_motifs/alt/HomerResults/promoters/Brain.uniqueGenes.noBg\n",
      "j v02_de_novo_motifs/alt/promoters/Brain.uniqueGenes.noBg/homerResults\n",
      "cp -r v02_de_novo_motifs/alt/promoters/Brain.uniqueGenes.noBg/homerResults v02_de_novo_motifs/alt/HomerResults/promoters/Brain.uniqueGenes.noBg\n",
      "j v02_de_novo_motifs/alt/promoters/MiscOrgans.uniqueGenes.noBg/knownResults\n",
      "cp -r v02_de_novo_motifs/alt/promoters/MiscOrgans.uniqueGenes.noBg/knownResults v02_de_novo_motifs/alt/HomerResults/promoters/MiscOrgans.uniqueGenes.noBg\n",
      "j v02_de_novo_motifs/alt/promoters/MiscOrgans.uniqueGenes.noBg/homerResults\n",
      "cp -r v02_de_novo_motifs/alt/promoters/MiscOrgans.uniqueGenes.noBg/homerResults v02_de_novo_motifs/alt/HomerResults/promoters/MiscOrgans.uniqueGenes.noBg\n",
      "j v02_de_novo_motifs/alt/promoters/Muscle.uniqueGenes/knownResults\n",
      "cp -r v02_de_novo_motifs/alt/promoters/Muscle.uniqueGenes/knownResults v02_de_novo_motifs/alt/HomerResults/promoters/Muscle.uniqueGenes\n",
      "j v02_de_novo_motifs/alt/promoters/Muscle.uniqueGenes/homerResults\n",
      "cp -r v02_de_novo_motifs/alt/promoters/Muscle.uniqueGenes/homerResults v02_de_novo_motifs/alt/HomerResults/promoters/Muscle.uniqueGenes\n",
      "j v02_de_novo_motifs/alt/promoters/CHO.uniqueGenes/knownResults\n",
      "cp -r v02_de_novo_motifs/alt/promoters/CHO.uniqueGenes/knownResults v02_de_novo_motifs/alt/HomerResults/promoters/CHO.uniqueGenes\n",
      "j v02_de_novo_motifs/alt/promoters/CHO.uniqueGenes/homerResults\n",
      "cp -r v02_de_novo_motifs/alt/promoters/CHO.uniqueGenes/homerResults v02_de_novo_motifs/alt/HomerResults/promoters/CHO.uniqueGenes\n",
      "j v02_de_novo_motifs/alt/promoters/Kidney.uniqueGenes.noBg/knownResults\n",
      "cp -r v02_de_novo_motifs/alt/promoters/Kidney.uniqueGenes.noBg/knownResults v02_de_novo_motifs/alt/HomerResults/promoters/Kidney.uniqueGenes.noBg\n",
      "j v02_de_novo_motifs/alt/promoters/Kidney.uniqueGenes.noBg/homerResults\n",
      "cp -r v02_de_novo_motifs/alt/promoters/Kidney.uniqueGenes.noBg/homerResults v02_de_novo_motifs/alt/HomerResults/promoters/Kidney.uniqueGenes.noBg\n",
      "j v02_de_novo_motifs/alt/promoters/MiscOrgans.uniqueGenes/knownResults\n",
      "cp -r v02_de_novo_motifs/alt/promoters/MiscOrgans.uniqueGenes/knownResults v02_de_novo_motifs/alt/HomerResults/promoters/MiscOrgans.uniqueGenes\n",
      "j v02_de_novo_motifs/alt/promoters/MiscOrgans.uniqueGenes/homerResults\n",
      "cp -r v02_de_novo_motifs/alt/promoters/MiscOrgans.uniqueGenes/homerResults v02_de_novo_motifs/alt/HomerResults/promoters/MiscOrgans.uniqueGenes\n",
      "j v02_de_novo_motifs/alt/promoters/Pancreas.uniqueGenes/knownResults\n",
      "cp -r v02_de_novo_motifs/alt/promoters/Pancreas.uniqueGenes/knownResults v02_de_novo_motifs/alt/HomerResults/promoters/Pancreas.uniqueGenes\n",
      "j v02_de_novo_motifs/alt/promoters/Pancreas.uniqueGenes/homerResults\n",
      "cp -r v02_de_novo_motifs/alt/promoters/Pancreas.uniqueGenes/homerResults v02_de_novo_motifs/alt/HomerResults/promoters/Pancreas.uniqueGenes\n",
      "j v02_de_novo_motifs/alt/promoters/Spleen.uniqueGenes/knownResults\n",
      "cp -r v02_de_novo_motifs/alt/promoters/Spleen.uniqueGenes/knownResults v02_de_novo_motifs/alt/HomerResults/promoters/Spleen.uniqueGenes\n",
      "j v02_de_novo_motifs/alt/promoters/Spleen.uniqueGenes/homerResults\n",
      "cp -r v02_de_novo_motifs/alt/promoters/Spleen.uniqueGenes/homerResults v02_de_novo_motifs/alt/HomerResults/promoters/Spleen.uniqueGenes\n",
      "j v02_de_novo_motifs/alt/promoters/Heart.uniqueGenes/knownResults\n",
      "cp -r v02_de_novo_motifs/alt/promoters/Heart.uniqueGenes/knownResults v02_de_novo_motifs/alt/HomerResults/promoters/Heart.uniqueGenes\n"
     ]
    },
    {
     "name": "stdout",
     "output_type": "stream",
     "text": [
      "j v02_de_novo_motifs/alt/promoters/Heart.uniqueGenes/homerResults\n",
      "cp -r v02_de_novo_motifs/alt/promoters/Heart.uniqueGenes/homerResults v02_de_novo_motifs/alt/HomerResults/promoters/Heart.uniqueGenes\n",
      "j v02_de_novo_motifs/alt/promoters/Liver.uniqueGenes.noBg/knownResults\n",
      "cp -r v02_de_novo_motifs/alt/promoters/Liver.uniqueGenes.noBg/knownResults v02_de_novo_motifs/alt/HomerResults/promoters/Liver.uniqueGenes.noBg\n",
      "j v02_de_novo_motifs/alt/promoters/Liver.uniqueGenes.noBg/homerResults\n",
      "cp -r v02_de_novo_motifs/alt/promoters/Liver.uniqueGenes.noBg/homerResults v02_de_novo_motifs/alt/HomerResults/promoters/Liver.uniqueGenes.noBg\n",
      "j v02_de_novo_motifs/alt/promoters/Heart.uniqueGenes.noBg/knownResults\n",
      "cp -r v02_de_novo_motifs/alt/promoters/Heart.uniqueGenes.noBg/knownResults v02_de_novo_motifs/alt/HomerResults/promoters/Heart.uniqueGenes.noBg\n",
      "j v02_de_novo_motifs/alt/promoters/Heart.uniqueGenes.noBg/homerResults\n",
      "cp -r v02_de_novo_motifs/alt/promoters/Heart.uniqueGenes.noBg/homerResults v02_de_novo_motifs/alt/HomerResults/promoters/Heart.uniqueGenes.noBg\n",
      "j v02_de_novo_motifs/alt/promoters/Lung.uniqueGenes.noBg/knownResults\n",
      "cp -r v02_de_novo_motifs/alt/promoters/Lung.uniqueGenes.noBg/knownResults v02_de_novo_motifs/alt/HomerResults/promoters/Lung.uniqueGenes.noBg\n",
      "j v02_de_novo_motifs/alt/promoters/Lung.uniqueGenes.noBg/homerResults\n",
      "cp -r v02_de_novo_motifs/alt/promoters/Lung.uniqueGenes.noBg/homerResults v02_de_novo_motifs/alt/HomerResults/promoters/Lung.uniqueGenes.noBg\n",
      "j v02_de_novo_motifs/alt/promoters/Kidney.uniqueGenes/knownResults\n",
      "cp -r v02_de_novo_motifs/alt/promoters/Kidney.uniqueGenes/knownResults v02_de_novo_motifs/alt/HomerResults/promoters/Kidney.uniqueGenes\n",
      "j v02_de_novo_motifs/alt/promoters/Kidney.uniqueGenes/homerResults\n",
      "cp -r v02_de_novo_motifs/alt/promoters/Kidney.uniqueGenes/homerResults v02_de_novo_motifs/alt/HomerResults/promoters/Kidney.uniqueGenes\n",
      "j v02_de_novo_motifs/alt/promoters/FemaleReproductive.uniqueGenes.noBg/knownResults\n",
      "cp -r v02_de_novo_motifs/alt/promoters/FemaleReproductive.uniqueGenes.noBg/knownResults v02_de_novo_motifs/alt/HomerResults/promoters/FemaleReproductive.uniqueGenes.noBg\n",
      "j v02_de_novo_motifs/alt/promoters/FemaleReproductive.uniqueGenes.noBg/homerResults\n",
      "cp -r v02_de_novo_motifs/alt/promoters/FemaleReproductive.uniqueGenes.noBg/homerResults v02_de_novo_motifs/alt/HomerResults/promoters/FemaleReproductive.uniqueGenes.noBg\n"
     ]
    }
   ],
   "source": [
    "homer_out = join(outdir, \"HomerResults\")\n",
    "print('homer_out',homer_out)\n",
    "if not os.path.exists(homer_out):\n",
    "    print(homer_out)\n",
    "    os.mkdir(homer_out)\n",
    "for indir in glob.glob(outdir+\"/*\"):\n",
    "    if basename(indir) == \"HomerResults\":\n",
    "        continue\n",
    "    else:\n",
    "        new_dir = join(homer_out, basename(indir))\n",
    "        print('new_dir',new_dir)\n",
    "        if not os.path.exists(new_dir):\n",
    "            print(new_dir)\n",
    "            os.mkdir(new_dir)\n",
    "        for i in glob.glob(indir+\"/*\"):\n",
    "            if os.path.isdir(i) and i != \"HomerResults\":\n",
    "                for j in glob.glob(i+\"/*\"):\n",
    "                    if os.path.isdir(j):\n",
    "                        print('j',j)\n",
    "                        cmd = f\"cp -r {j} {new_dir}/{basename(i)}\"\n",
    "                        print(cmd)\n",
    "                        os.system(cmd)\n",
    "                        #print(glob.glob(j + \"/*\"))\n",
    "\n",
    "\n",
    "                    "
   ]
  },
  {
   "cell_type": "code",
   "execution_count": null,
   "metadata": {},
   "outputs": [],
   "source": [
    "cp -r v02_de_novo_motifs/alt/promoter_enriched/CHO/homer_out v02_de_novo_motifs/alt/promoter_enriched/HomerResults/CHO"
   ]
  },
  {
   "cell_type": "code",
   "execution_count": null,
   "metadata": {},
   "outputs": [],
   "source": []
  },
  {
   "cell_type": "code",
   "execution_count": null,
   "metadata": {},
   "outputs": [],
   "source": []
  },
  {
   "cell_type": "code",
   "execution_count": null,
   "metadata": {},
   "outputs": [],
   "source": []
  },
  {
   "cell_type": "code",
   "execution_count": null,
   "metadata": {},
   "outputs": [],
   "source": []
  },
  {
   "cell_type": "markdown",
   "metadata": {},
   "source": [
    "## Define unique tissues"
   ]
  },
  {
   "cell_type": "code",
   "execution_count": 4,
   "metadata": {
    "ExecuteTime": {
     "end_time": "2020-07-21T00:24:37.460378Z",
     "start_time": "2020-07-21T00:24:37.443620Z"
    }
   },
   "outputs": [],
   "source": [
    "os.chdir(doc[\"results\"])\n",
    "genome=\"alt\"\n",
    "outdir= join(\"v02_de_novo_motifs\",genome)\n",
    "data_dir = join(doc[\"results\"], genome)\n",
    "if not os.path.exists(outdir):\n",
    "    os.makedirs(outdir)\n",
    "    \n",
    "enh_dir = join(outdir,'enhancers_unique')\n",
    "if not os.path.exists(enh_dir):\n",
    "    os.mkdir(enh_dir)"
   ]
  },
  {
   "cell_type": "code",
   "execution_count": 5,
   "metadata": {
    "ExecuteTime": {
     "end_time": "2020-07-21T00:24:37.575914Z",
     "start_time": "2020-07-21T00:24:37.462286Z"
    }
   },
   "outputs": [],
   "source": [
    "os.chdir(doc[\"results\"])\n",
    "TSS1_bed = read_bed_file('alt/eTSS/TSS.exp.bed')\n",
    "TSS1_meta = pd.read_csv('alt/eTSS/TSS.exp.meta.tsv',sep=\"\\t\",index_col=0)\n",
    "unique_genes_dir = \"enhancer_unique_genes\"\n",
    "silent_bed_f = 'alt/eTSS/TSS1.ref.bed'\n"
   ]
  }
 ],
 "metadata": {
  "kernelspec": {
   "display_name": "Python 3",
   "language": "python",
   "name": "python3"
  },
  "language_info": {
   "codemirror_mode": {
    "name": "ipython",
    "version": 3
   },
   "file_extension": ".py",
   "mimetype": "text/x-python",
   "name": "python",
   "nbconvert_exporter": "python",
   "pygments_lexer": "ipython3",
   "version": "3.7.3"
  }
 },
 "nbformat": 4,
 "nbformat_minor": 2
}
