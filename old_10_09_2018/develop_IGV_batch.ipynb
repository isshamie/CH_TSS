{
 "cells": [
  {
   "cell_type": "code",
   "execution_count": 1,
   "metadata": {
    "collapsed": true
   },
   "outputs": [],
   "source": [
    "## Parameters specific to where your folders are and your data\n",
    "parameter_file = 'params/params.yaml'\n",
    "import yaml\n",
    "import sys\n",
    "\n",
    "with open(parameter_file,'r') as f:\n",
    "    doc = yaml.load(f)\n",
    "\n",
    "#p = dic2obj(**doc)\n",
    "\n",
    "data_folder = doc['data_folder']\n",
    "tissues = doc['tissues'].split(',')\n",
    "sys.path.append(doc['pipeline_path'])\n",
    "ref_fa = doc['ref_fa']\n",
    "annotation=doc['annotation']\n"
   ]
  },
  {
   "cell_type": "code",
   "execution_count": 2,
   "metadata": {
    "collapsed": true
   },
   "outputs": [],
   "source": [
    "tss_annotation = doc['tss_annotation']"
   ]
  },
  {
   "cell_type": "code",
   "execution_count": 3,
   "metadata": {
    "scrolled": false
   },
   "outputs": [
    {
     "name": "stdout",
     "output_type": "stream",
     "text": [
      "('Number of tissues: ', 16)\n"
     ]
    }
   ],
   "source": [
    "\n",
    "import os\n",
    "import sys\n",
    "import pandas as pd\n",
    "import matplotlib\n",
    "import seaborn as sns\n",
    "import pickle\n",
    "import numpy as np\n",
    "import matplotlib as mpl\n",
    "from matplotlib import pyplot as plt\n",
    "from itertools import product\n",
    "import glob\n",
    "import re\n",
    "from matplotlib_venn import venn2\n",
    "from matplotlib import rcParams\n",
    "import inspect\n",
    "%matplotlib inline\n",
    "%config InlineBackend.figure_format = 'retina'\n",
    "sys.setrecursionlimit(3000)\n",
    "%load_ext autoreload\n",
    "%autoreload 2\n",
    "rcParams['figure.figsize'] = 8, 6\n",
    "import tqdm\n",
    "### notebook specific configuration ###\n",
    "from os.path import basename\n",
    "#mpl.style.use('ggplot')\n",
    "mpl.style.use('fivethirtyeight')\n",
    "from cycler import cycler\n",
    "mpl.rcParams['axes.prop_cycle'] = cycler(color='bgrcmyk')\n",
    "\n",
    "from Modules.Homer import *\n",
    "\n",
    "print('Number of tissues: ',len(tissues))"
   ]
  },
  {
   "cell_type": "code",
   "execution_count": 4,
   "metadata": {
    "collapsed": true
   },
   "outputs": [],
   "source": [
    "genes_to_look = ['MGAT3','ID1']"
   ]
  },
  {
   "cell_type": "code",
   "execution_count": 5,
   "metadata": {
    "collapsed": true
   },
   "outputs": [],
   "source": [
    "bed_files = []\n",
    "signal_files = []"
   ]
  },
  {
   "cell_type": "code",
   "execution_count": 6,
   "metadata": {
    "collapsed": true
   },
   "outputs": [],
   "source": [
    "serv = '/mnt/jabba'"
   ]
  },
  {
   "cell_type": "code",
   "execution_count": 7,
   "metadata": {
    "collapsed": true
   },
   "outputs": [],
   "source": [
    "\n",
    "igv_script = \"\"\"new\n",
    "genome {serv}/data/isshamie/genome/picr.fa\n",
    "load {serv}/data/isshamie/genome/updated_final_sort.gff3\n",
    "\n",
    "load {serv}/data/isshamie/TSS/Analysis/Results/tss_final/tss_peakCenter.bed\n",
    "load {serv}/data/isshamie/TSS/Analysis/Results/tss_final/tss_peakCenter_1kb_1kb.bed\n",
    "\n",
    "snapshotDirectory {serv}/data/isshamie/TSS/Analysis/Results/igv_snapshots\n",
    "\n",
    "# CHO\n",
    "load {serv}/data/isshamie/TSS/Processed/CHO/ATAC/out/signal/macs2/pooled_rep/CHO-ATAC-SD378_S17_R1_001.trim.nodup.tn5_pooled.pf.pval.signal.bigwig \n",
    "load {serv}/data/isshamie/TSS/Processed/CHO/GRO/bedgraph_files/trim_CHO-5GRO-SD371_S10_R1_001.bedgraph.gz \n",
    "load {serv}/data/isshamie/TSS/Processed/CHO/GRO/bedgraph_files/trim_CHO-GRO-SD369_S8_R1_001.bedgraph.gz \n",
    "\n",
    "# Kidney\n",
    "load {serv}/data/isshamie/TSS/Processed/Kidney/GRO/bedgraph_files/trim_CHKidney_5GRO_JHS1035_SD_AGTTCC_S50_L003_R1_001.bedgraph.gz\n",
    "load {serv}/data/isshamie/TSS/Processed/Kidney/GRO/bedgraph_files/trim_CHKidney_GRO_JHS1028_SD_CAACTA_S43_L003_R1_001.bedgraph.gz\n",
    "\n",
    "# Brain\n",
    "load {serv}/data/isshamie/TSS/Processed/Brain/ATAC/out/signal/macs2/rep1/CHBrain_ATAC_JHS992_SD_ACCACTGT_S4_L001_R1_001.trim.nodup.tn5.pf.pval.signal.bigwig\n",
    "load {serv}/data/isshamie/TSS/Processed/Brain/GRO/bedgraph_files/trim_CHBrain_5GRO_JHS1036_SD_ATGTCA_S51_L003_R1_001.bedgraph.gz\n",
    "load {serv}/data/isshamie/TSS/Processed/Brain/GRO/bedgraph_files/trim_CHBrain_GRO_JHS1029_SD_CACCGG_S44_L003_R1_001.bedgraph.gz\n",
    "\n",
    "#Liver \n",
    "load {serv}/data/isshamie/TSS/Processed/Liver/GRO/bedgraph_files/trim_CHLiver_GRO_JHS1038_SD_GTAGAG_S53_L003_R1_001.bedgraph.gz\n",
    "load {serv}/data/isshamie/TSS/Processed/Liver/ATAC/out/signal/macs2/rep1/CHLiver_ATAC_JHS994_SD_CCGTTTGT_S6_L001_R1_001.trim.nodup.tn5.pf.pval.signal.bigwig\n",
    "\\n\n",
    "\"\"\".format(serv=serv)"
   ]
  },
  {
   "cell_type": "code",
   "execution_count": 8,
   "metadata": {},
   "outputs": [
    {
     "data": {
      "text/plain": [
       "'new\\ngenome /mnt/jabba/data/isshamie/genome/picr.fa\\nload /mnt/jabba/data/isshamie/genome/updated_final_sort.gff3\\n\\nload /mnt/jabba/data/isshamie/TSS/Analysis/Results/tss_final/tss_peakCenter.bed\\nload /mnt/jabba/data/isshamie/TSS/Analysis/Results/tss_final/tss_peakCenter_1kb_1kb.bed\\n\\nsnapshotDirectory /mnt/jabba/data/isshamie/TSS/Analysis/Results/igv_snapshots\\n\\n# CHO\\nload /mnt/jabba/data/isshamie/TSS/Processed/CHO/ATAC/out/signal/macs2/pooled_rep/CHO-ATAC-SD378_S17_R1_001.trim.nodup.tn5_pooled.pf.pval.signal.bigwig \\nload /mnt/jabba/data/isshamie/TSS/Processed/CHO/GRO/bedgraph_files/trim_CHO-5GRO-SD371_S10_R1_001.bedgraph.gz \\nload /mnt/jabba/data/isshamie/TSS/Processed/CHO/GRO/bedgraph_files/trim_CHO-GRO-SD369_S8_R1_001.bedgraph.gz \\n\\n# Kidney\\nload /mnt/jabba/data/isshamie/TSS/Processed/Kidney/GRO/bedgraph_files/trim_CHKidney_5GRO_JHS1035_SD_AGTTCC_S50_L003_R1_001.bedgraph.gz\\nload /mnt/jabba/data/isshamie/TSS/Processed/Kidney/GRO/bedgraph_files/trim_CHKidney_GRO_JHS1028_SD_CAACTA_S43_L003_R1_001.bedgraph.gz\\n\\n# Brain\\nload /mnt/jabba/data/isshamie/TSS/Processed/Brain/ATAC/out/signal/macs2/rep1/CHBrain_ATAC_JHS992_SD_ACCACTGT_S4_L001_R1_001.trim.nodup.tn5.pf.pval.signal.bigwig\\nload /mnt/jabba/data/isshamie/TSS/Processed/Brain/GRO/bedgraph_files/trim_CHBrain_5GRO_JHS1036_SD_ATGTCA_S51_L003_R1_001.bedgraph.gz\\nload /mnt/jabba/data/isshamie/TSS/Processed/Brain/GRO/bedgraph_files/trim_CHBrain_GRO_JHS1029_SD_CACCGG_S44_L003_R1_001.bedgraph.gz\\n\\n#Liver \\nload /mnt/jabba/data/isshamie/TSS/Processed/Liver/GRO/bedgraph_files/trim_CHLiver_GRO_JHS1038_SD_GTAGAG_S53_L003_R1_001.bedgraph.gz\\nload /mnt/jabba/data/isshamie/TSS/Processed/Liver/ATAC/out/signal/macs2/rep1/CHLiver_ATAC_JHS994_SD_CCGTTTGT_S6_L001_R1_001.trim.nodup.tn5.pf.pval.signal.bigwig\\n\\n\\n'"
      ]
     },
     "execution_count": 8,
     "metadata": {},
     "output_type": "execute_result"
    }
   ],
   "source": [
    "igv_script"
   ]
  },
  {
   "cell_type": "code",
   "execution_count": 9,
   "metadata": {
    "collapsed": true
   },
   "outputs": [],
   "source": [
    "vary_width = [0,100,1000,10000]"
   ]
  },
  {
   "cell_type": "code",
   "execution_count": 10,
   "metadata": {
    "collapsed": true
   },
   "outputs": [],
   "source": [
    "regions = [\n",
    "['picr_2',8638555,8639172,'ID1'],\n",
    "['picr_74',7465451,7465601,'MGAT3_Brain'] ,\n",
    "['picr_74',7466352,7466502,'MGAT3_Kidney_1'],\n",
    "['picr_74',7475954,7476104,'MGAT3_Kidney_2_Highest'],\n",
    "['picr_0',5852406,5866560,'PANX2_no_CHO'],\n",
    "['picr_0',5881056,5892250,'SELENOO_no_CHO'],\n",
    "['picr_0',5892070,5910618,'TUBGCP6 no_CHO'],\n",
    "['picr_0',6216619,6227286,'MAPK8IP2_no_CHO'],\n",
    "    \n",
    "['picr_0',79309482,79309669,'Merged-picr_0-79309582-3_Liver'],\n",
    "['picr_0',79557138,79557303,'Merged-picr_0-79557222-7_Liver'],\n",
    "['picr_0',79729634,79729788,'Merged-picr_0-79729712-2_Liver'],\n",
    "['picr_1',1030823,1031038,'Merged-picr_1-1030923-11_Liver'],\n",
    "['picr_1',2503367,2503587,'Merged-picr_1-2503484-11_Liver'],\n",
    "['picr_1',4682533,4682713,'Merged-picr_1-4682618-11_Liver']\n",
    "]"
   ]
  },
  {
   "cell_type": "code",
   "execution_count": 11,
   "metadata": {},
   "outputs": [],
   "source": [
    "snaps = ''\n",
    "for curr in regions:\n",
    "    for w in vary_width :\n",
    "        snaps = snaps + 'goto {chrom}:{start}-{end}\\nsort\\ncollapse\\nsnapshot {name}_{w}\\n'.format(\n",
    "        chrom=curr[0],start=curr[1]-w,end=curr[2]+w,name=curr[3],w=w)"
   ]
  },
  {
   "cell_type": "code",
   "execution_count": 12,
   "metadata": {
    "scrolled": true
   },
   "outputs": [
    {
     "data": {
      "text/plain": [
       "'goto picr_2:8638555-8639172\\nsort\\ncollapse\\nsnapshot ID1_0\\ngoto picr_2:8638455-8639272\\nsort\\ncollapse\\nsnapshot ID1_100\\ngoto picr_2:8637555-8640172\\nsort\\ncollapse\\nsnapshot ID1_1000\\ngoto picr_2:8628555-8649172\\nsort\\ncollapse\\nsnapshot ID1_10000\\ngoto picr_74:7465451-7465601\\nsort\\ncollapse\\nsnapshot MGAT3_Brain_0\\ngoto picr_74:7465351-7465701\\nsort\\ncollapse\\nsnapshot MGAT3_Brain_100\\ngoto picr_74:7464451-7466601\\nsort\\ncollapse\\nsnapshot MGAT3_Brain_1000\\ngoto picr_74:7455451-7475601\\nsort\\ncollapse\\nsnapshot MGAT3_Brain_10000\\ngoto picr_74:7466352-7466502\\nsort\\ncollapse\\nsnapshot MGAT3_Kidney_1_0\\ngoto picr_74:7466252-7466602\\nsort\\ncollapse\\nsnapshot MGAT3_Kidney_1_100\\ngoto picr_74:7465352-7467502\\nsort\\ncollapse\\nsnapshot MGAT3_Kidney_1_1000\\ngoto picr_74:7456352-7476502\\nsort\\ncollapse\\nsnapshot MGAT3_Kidney_1_10000\\ngoto picr_74:7475954-7476104\\nsort\\ncollapse\\nsnapshot MGAT3_Kidney_2_Highest_0\\ngoto picr_74:7475854-7476204\\nsort\\ncollapse\\nsnapshot MGAT3_Kidney_2_Highest_100\\ngoto picr_74:7474954-7477104\\nsort\\ncollapse\\nsnapshot MGAT3_Kidney_2_Highest_1000\\ngoto picr_74:7465954-7486104\\nsort\\ncollapse\\nsnapshot MGAT3_Kidney_2_Highest_10000\\ngoto picr_0:5852406-5866560\\nsort\\ncollapse\\nsnapshot PANX2_no_CHO_0\\ngoto picr_0:5852306-5866660\\nsort\\ncollapse\\nsnapshot PANX2_no_CHO_100\\ngoto picr_0:5851406-5867560\\nsort\\ncollapse\\nsnapshot PANX2_no_CHO_1000\\ngoto picr_0:5842406-5876560\\nsort\\ncollapse\\nsnapshot PANX2_no_CHO_10000\\ngoto picr_0:5881056-5892250\\nsort\\ncollapse\\nsnapshot SELENOO_no_CHO_0\\ngoto picr_0:5880956-5892350\\nsort\\ncollapse\\nsnapshot SELENOO_no_CHO_100\\ngoto picr_0:5880056-5893250\\nsort\\ncollapse\\nsnapshot SELENOO_no_CHO_1000\\ngoto picr_0:5871056-5902250\\nsort\\ncollapse\\nsnapshot SELENOO_no_CHO_10000\\ngoto picr_0:5892070-5910618\\nsort\\ncollapse\\nsnapshot TUBGCP6 no_CHO_0\\ngoto picr_0:5891970-5910718\\nsort\\ncollapse\\nsnapshot TUBGCP6 no_CHO_100\\ngoto picr_0:5891070-5911618\\nsort\\ncollapse\\nsnapshot TUBGCP6 no_CHO_1000\\ngoto picr_0:5882070-5920618\\nsort\\ncollapse\\nsnapshot TUBGCP6 no_CHO_10000\\ngoto picr_0:6216619-6227286\\nsort\\ncollapse\\nsnapshot MAPK8IP2_no_CHO_0\\ngoto picr_0:6216519-6227386\\nsort\\ncollapse\\nsnapshot MAPK8IP2_no_CHO_100\\ngoto picr_0:6215619-6228286\\nsort\\ncollapse\\nsnapshot MAPK8IP2_no_CHO_1000\\ngoto picr_0:6206619-6237286\\nsort\\ncollapse\\nsnapshot MAPK8IP2_no_CHO_10000\\ngoto picr_0:79309482-79309669\\nsort\\ncollapse\\nsnapshot Merged-picr_0-79309582-3_Liver_0\\ngoto picr_0:79309382-79309769\\nsort\\ncollapse\\nsnapshot Merged-picr_0-79309582-3_Liver_100\\ngoto picr_0:79308482-79310669\\nsort\\ncollapse\\nsnapshot Merged-picr_0-79309582-3_Liver_1000\\ngoto picr_0:79299482-79319669\\nsort\\ncollapse\\nsnapshot Merged-picr_0-79309582-3_Liver_10000\\ngoto picr_0:79557138-79557303\\nsort\\ncollapse\\nsnapshot Merged-picr_0-79557222-7_Liver_0\\ngoto picr_0:79557038-79557403\\nsort\\ncollapse\\nsnapshot Merged-picr_0-79557222-7_Liver_100\\ngoto picr_0:79556138-79558303\\nsort\\ncollapse\\nsnapshot Merged-picr_0-79557222-7_Liver_1000\\ngoto picr_0:79547138-79567303\\nsort\\ncollapse\\nsnapshot Merged-picr_0-79557222-7_Liver_10000\\ngoto picr_0:79729634-79729788\\nsort\\ncollapse\\nsnapshot Merged-picr_0-79729712-2_Liver_0\\ngoto picr_0:79729534-79729888\\nsort\\ncollapse\\nsnapshot Merged-picr_0-79729712-2_Liver_100\\ngoto picr_0:79728634-79730788\\nsort\\ncollapse\\nsnapshot Merged-picr_0-79729712-2_Liver_1000\\ngoto picr_0:79719634-79739788\\nsort\\ncollapse\\nsnapshot Merged-picr_0-79729712-2_Liver_10000\\ngoto picr_1:1030823-1031038\\nsort\\ncollapse\\nsnapshot Merged-picr_1-1030923-11_Liver_0\\ngoto picr_1:1030723-1031138\\nsort\\ncollapse\\nsnapshot Merged-picr_1-1030923-11_Liver_100\\ngoto picr_1:1029823-1032038\\nsort\\ncollapse\\nsnapshot Merged-picr_1-1030923-11_Liver_1000\\ngoto picr_1:1020823-1041038\\nsort\\ncollapse\\nsnapshot Merged-picr_1-1030923-11_Liver_10000\\ngoto picr_1:2503367-2503587\\nsort\\ncollapse\\nsnapshot Merged-picr_1-2503484-11_Liver_0\\ngoto picr_1:2503267-2503687\\nsort\\ncollapse\\nsnapshot Merged-picr_1-2503484-11_Liver_100\\ngoto picr_1:2502367-2504587\\nsort\\ncollapse\\nsnapshot Merged-picr_1-2503484-11_Liver_1000\\ngoto picr_1:2493367-2513587\\nsort\\ncollapse\\nsnapshot Merged-picr_1-2503484-11_Liver_10000\\ngoto picr_1:4682533-4682713\\nsort\\ncollapse\\nsnapshot Merged-picr_1-4682618-11_Liver_0\\ngoto picr_1:4682433-4682813\\nsort\\ncollapse\\nsnapshot Merged-picr_1-4682618-11_Liver_100\\ngoto picr_1:4681533-4683713\\nsort\\ncollapse\\nsnapshot Merged-picr_1-4682618-11_Liver_1000\\ngoto picr_1:4672533-4692713\\nsort\\ncollapse\\nsnapshot Merged-picr_1-4682618-11_Liver_10000\\n'"
      ]
     },
     "execution_count": 12,
     "metadata": {},
     "output_type": "execute_result"
    }
   ],
   "source": [
    "snaps"
   ]
  },
  {
   "cell_type": "code",
   "execution_count": 13,
   "metadata": {},
   "outputs": [],
   "source": [
    "batch = igv_script+snaps\n",
    "with open('Results/igv_snapshots/igv_batch.bat','w') as f:\n",
    "    f.write(batch)"
   ]
  },
  {
   "cell_type": "markdown",
   "metadata": {},
   "source": [
    "----------"
   ]
  },
  {
   "cell_type": "markdown",
   "metadata": {},
   "source": [
    "----------"
   ]
  },
  {
   "cell_type": "code",
   "execution_count": null,
   "metadata": {
    "collapsed": true
   },
   "outputs": [],
   "source": [
    "bed_regions_of_interest = ['MGAT3']"
   ]
  },
  {
   "cell_type": "code",
   "execution_count": 20,
   "metadata": {
    "scrolled": true
   },
   "outputs": [
    {
     "data": {
      "text/plain": [
       "'goto picr_2:8638555-8639172\\nsort\\ncollapse\\nsnapshot ID1'"
      ]
     },
     "execution_count": 20,
     "metadata": {},
     "output_type": "execute_result"
    }
   ],
   "source": [
    "'goto {chrom}:{start}-{end}\\nsort\\ncollapse\\nsnapshot {name}'.format(\n",
    "    chrom=curr[0],start=curr[1],end=curr[2],name=curr[3])"
   ]
  }
 ],
 "metadata": {
  "kernelspec": {
   "display_name": "Python 2",
   "language": "python",
   "name": "python2"
  },
  "language_info": {
   "codemirror_mode": {
    "name": "ipython",
    "version": 2
   },
   "file_extension": ".py",
   "mimetype": "text/x-python",
   "name": "python",
   "nbconvert_exporter": "python",
   "pygments_lexer": "ipython2",
   "version": "2.7.13"
  }
 },
 "nbformat": 4,
 "nbformat_minor": 2
}
