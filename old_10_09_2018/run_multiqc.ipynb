{
 "cells": [
  {
   "cell_type": "code",
   "execution_count": 1,
   "metadata": {
    "collapsed": true
   },
   "outputs": [],
   "source": [
    "import glob\n",
    "import re\n",
    "import sarge"
   ]
  },
  {
   "cell_type": "code",
   "execution_count": 2,
   "metadata": {},
   "outputs": [
    {
     "name": "stdout",
     "output_type": "stream",
     "text": [
      "['/data/isshamie/TSS/Processed/Brain/mSTART/f02_bam/trim_CHBrain_mSTART_JHS1016_SD_GTAGAG_S28_L002_R1_001.fastq.bamLog.final.out', '/data/isshamie/TSS/Processed/Brain/mSTART/f02_bam/trim_CHBrain_mSTART_JHS1057_SD_ATTCCT_S79_L004_R1_001.fastq.bamLog.final.out', '/data/isshamie/TSS/Processed/Brain/mSTART/f01_fastqc/trim_CHBrain_mSTART_JHS1057_SD_ATTCCT_S79_L004_R1_001_fastqc.html', '/data/isshamie/TSS/Processed/Brain/mSTART/f01_fastqc/trim_CHBrain_mSTART_JHS1016_SD_GTAGAG_S28_L002_R1_001_fastqc.zip', '/data/isshamie/TSS/Processed/Brain/mSTART/f01_fastqc/trim_CHBrain_mSTART_JHS1057_SD_ATTCCT_S79_L004_R1_001_fastqc.zip', '/data/isshamie/TSS/Processed/Brain/mSTART/f01_fastqc/trim_CHBrain_mSTART_JHS1016_SD_GTAGAG_S28_L002_R1_001_fastqc.html', '/data/isshamie/TSS/Processed/Heart/mSTART/f02_bam/trim_CHHeart_mSTART_JHS1013_SD_AGTTCC_S25_L002_R1_001.fastq.bamLog.final.out', '/data/isshamie/TSS/Processed/Heart/mSTART/f02_bam/trim_CHHeart_mSTART_JHS1056_SD_ATGAGC_S78_L004_R1_001.fastq.bamLog.final.out', '/data/isshamie/TSS/Processed/Heart/mSTART/f01_fastqc/trim_CHHeart_mSTART_JHS1056_SD_ATGAGC_S78_L004_R1_001_fastqc.html', '/data/isshamie/TSS/Processed/Heart/mSTART/f01_fastqc/trim_CHHeart_mSTART_JHS1056_SD_ATGAGC_S78_L004_R1_001_fastqc.zip', '/data/isshamie/TSS/Processed/Heart/mSTART/f01_fastqc/trim_CHHeart_mSTART_JHS1013_SD_AGTTCC_S25_L002_R1_001_fastqc.zip', '/data/isshamie/TSS/Processed/Heart/mSTART/f01_fastqc/trim_CHHeart_mSTART_JHS1013_SD_AGTTCC_S25_L002_R1_001_fastqc.html', '/data/isshamie/TSS/Processed/Kidney/mSTART/f02_bam/trim_CHKidney_mSTART_JHS1022_SD_GAGTGG_S34_L002_R1_001.fastq.bamLog.final.out', '/data/isshamie/TSS/Processed/Kidney/mSTART/f02_bam/trim_CHKidney_mSTART_JHS1059_SD_CAACTA_S81_L004_R1_001.fastq.bamLog.final.out', '/data/isshamie/TSS/Processed/Kidney/mSTART/f01_fastqc/trim_CHKidney_mSTART_JHS1022_SD_GAGTGG_S34_L002_R1_001_fastqc.html', '/data/isshamie/TSS/Processed/Kidney/mSTART/f01_fastqc/trim_CHKidney_mSTART_JHS1022_SD_GAGTGG_S34_L002_R1_001_fastqc.zip', '/data/isshamie/TSS/Processed/Kidney/mSTART/f01_fastqc/trim_CHKidney_mSTART_JHS1059_SD_CAACTA_S81_L004_R1_001_fastqc.zip', '/data/isshamie/TSS/Processed/Kidney/mSTART/f01_fastqc/trim_CHKidney_mSTART_JHS1059_SD_CAACTA_S81_L004_R1_001_fastqc.html', '/data/isshamie/TSS/Processed/Muscle/mSTART/f02_bam/trim_CHMuscle_mSTART_JHS1019_SD_GTGGCC_S31_L002_R1_001.fastq.bamLog.final.out', '/data/isshamie/TSS/Processed/Muscle/mSTART/f02_bam/trim_CHMuscle_mSTART_JHS1058_SD_CAAAAG_S80_L004_R1_001.fastq.bamLog.final.out', '/data/isshamie/TSS/Processed/Muscle/mSTART/f01_fastqc/trim_CHMuscle_mSTART_JHS1058_SD_CAAAAG_S80_L004_R1_001_fastqc.zip', '/data/isshamie/TSS/Processed/Muscle/mSTART/f01_fastqc/trim_CHMuscle_mSTART_JHS1058_SD_CAAAAG_S80_L004_R1_001_fastqc.html', '/data/isshamie/TSS/Processed/Muscle/mSTART/f01_fastqc/trim_CHMuscle_mSTART_JHS1019_SD_GTGGCC_S31_L002_R1_001_fastqc.html', '/data/isshamie/TSS/Processed/Muscle/mSTART/f01_fastqc/trim_CHMuscle_mSTART_JHS1019_SD_GTGGCC_S31_L002_R1_001_fastqc.zip', '/data/isshamie/TSS/Processed/Lung/mSTART/f02_bam/trim_CHLung_mSTART_JHS1020_SD_GTTTCG_S32_L002_R1_001.fastq.bamLog.final.out', '/data/isshamie/TSS/Processed/Lung/mSTART/f02_bam/trim_CHLung_mSTART_JHS1054_SD_GGTAGC_S76_L004_R1_001.fastq.bamLog.final.out', '/data/isshamie/TSS/Processed/Lung/mSTART/f01_fastqc/trim_CHLung_mSTART_JHS1054_SD_GGTAGC_S76_L004_R1_001_fastqc.zip', '/data/isshamie/TSS/Processed/Lung/mSTART/f01_fastqc/trim_CHLung_mSTART_JHS1020_SD_GTTTCG_S32_L002_R1_001_fastqc.zip', '/data/isshamie/TSS/Processed/Lung/mSTART/f01_fastqc/trim_CHLung_mSTART_JHS1054_SD_GGTAGC_S76_L004_R1_001_fastqc.html', '/data/isshamie/TSS/Processed/Lung/mSTART/f01_fastqc/trim_CHLung_mSTART_JHS1020_SD_GTTTCG_S32_L002_R1_001_fastqc.html', '/data/isshamie/TSS/Processed/Liver/mSTART/f02_bam/trim_CHLiver_mSTART_JHS1015_SD_CCGTCC_S27_L002_R1_001.fastq.bamLog.final.out', '/data/isshamie/TSS/Processed/Liver/mSTART/f02_bam/trim_CHLiver_mSTART_JHS1055_SD_ACTGAT_S77_L004_R1_001.fastq.bamLog.final.out', '/data/isshamie/TSS/Processed/Liver/mSTART/f01_fastqc/trim_CHLiver_mSTART_JHS1015_SD_CCGTCC_S27_L002_R1_001_fastqc.html', '/data/isshamie/TSS/Processed/Liver/mSTART/f01_fastqc/trim_CHLiver_mSTART_JHS1055_SD_ACTGAT_S77_L004_R1_001_fastqc.html', '/data/isshamie/TSS/Processed/Liver/mSTART/f01_fastqc/trim_CHLiver_mSTART_JHS1055_SD_ACTGAT_S77_L004_R1_001_fastqc.zip', '/data/isshamie/TSS/Processed/Liver/mSTART/f01_fastqc/trim_CHLiver_mSTART_JHS1015_SD_CCGTCC_S27_L002_R1_001_fastqc.zip', '/data/isshamie/TSS/Processed/Pancreas/mSTART/f02_bam/trim_CHPancreas_mSTART_JHS1014_SD_ATGTCA_S26_L002_R1_001.fastq.bamLog.final.out', '/data/isshamie/TSS/Processed/Pancreas/mSTART/f02_bam/trim_CHPancreas_mSTART_JHS1051_SD_GTTTCG_S73_L004_R1_001.fastq.bamLog.final.out', '/data/isshamie/TSS/Processed/Pancreas/mSTART/f01_fastqc/trim_CHPancreas_mSTART_JHS1051_SD_GTTTCG_S73_L004_R1_001_fastqc.zip', '/data/isshamie/TSS/Processed/Pancreas/mSTART/f01_fastqc/trim_CHPancreas_mSTART_JHS1014_SD_ATGTCA_S26_L002_R1_001_fastqc.zip', '/data/isshamie/TSS/Processed/Pancreas/mSTART/f01_fastqc/trim_CHPancreas_mSTART_JHS1014_SD_ATGTCA_S26_L002_R1_001_fastqc.html', '/data/isshamie/TSS/Processed/Pancreas/mSTART/f01_fastqc/trim_CHPancreas_mSTART_JHS1051_SD_GTTTCG_S73_L004_R1_001_fastqc.html', '/data/isshamie/TSS/Processed/Spleen/mSTART/f02_bam/trim_CHSpleen_mSTART_JHS1053_SD_GAGTGG_S75_L004_R1_001.fastq.bamLog.final.out', '/data/isshamie/TSS/Processed/Spleen/mSTART/f02_bam/trim_CHSpleednegBlood_mSTART_JHS1017_SD_GTCCGC_S29_L002_R1_001.fastq.bamLog.final.out', '/data/isshamie/TSS/Processed/Spleen/mSTART/f01_fastqc/trim_CHSpleednegBlood_mSTART_JHS1017_SD_GTCCGC_S29_L002_R1_001_fastqc.html', '/data/isshamie/TSS/Processed/Spleen/mSTART/f01_fastqc/trim_CHSpleen_mSTART_JHS1053_SD_GAGTGG_S75_L004_R1_001_fastqc.zip', '/data/isshamie/TSS/Processed/Spleen/mSTART/f01_fastqc/trim_CHSpleen_mSTART_JHS1053_SD_GAGTGG_S75_L004_R1_001_fastqc.html', '/data/isshamie/TSS/Processed/Spleen/mSTART/f01_fastqc/trim_CHSpleednegBlood_mSTART_JHS1017_SD_GTCCGC_S29_L002_R1_001_fastqc.zip']\n"
     ]
    }
   ],
   "source": [
    "## Finish up the GRO\n",
    "types = ['5GRO','GRO','mSTART']\n",
    "\n",
    "gro = []\n",
    "gro5 = []\n",
    "mstart = []\n",
    "mstart_input = []\n",
    "\n",
    "\n",
    "for i in glob.glob(\"/data/isshamie/TSS/Processed/*/\"):\n",
    "    curr_tissue =  i.split('/')[-2]\n",
    "    curr_raw = glob.glob(i + '*/')\n",
    "    for j in curr_raw:\n",
    "        curr_type = j.split('/')[-2]\n",
    "        #if curr_type == 'GRO':\n",
    "        for f in glob.glob(j + 'f02_bam/*bamLog.final.out'):\n",
    "                if '5GRO' in f:\n",
    "                    gro5.append(f)\n",
    "                elif 'GRO' in f:\n",
    "                    gro.append(f)\n",
    "                elif 'input' in f:\n",
    "                    mstart_input.append(f)\n",
    "                elif 'mSTART' in f:\n",
    "                    mstart.append(f)\n",
    "        for f in glob.glob(j + 'f01_fastqc/*'):\n",
    "                if '5GRO' in f:\n",
    "                    gro5.append(f)\n",
    "                elif 'GRO' in f:\n",
    "                    gro.append(f)\n",
    "                elif 'input' in f:\n",
    "                    mstart_input.append(f)\n",
    "                elif 'mSTART' in f:\n",
    "                    mstart.append(f)\n",
    "        \n",
    "print mstart"
   ]
  },
  {
   "cell_type": "code",
   "execution_count": 3,
   "metadata": {},
   "outputs": [
    {
     "name": "stdout",
     "output_type": "stream",
     "text": [
      "multiqc /data/isshamie/TSS/Processed/Brain/GRO/f02_bam/trim_CHBrain_GRO_JHS1029_SD_CACCGG_S44_L003_R1_001.fastq.bamLog.final.out /data/isshamie/TSS/Processed/Brain/GRO/f01_fastqc/trim_CHBrain_GRO_JHS1029_SD_CACCGG_S44_L003_R1_001_fastqc.zip /data/isshamie/TSS/Processed/Brain/GRO/f01_fastqc/trim_CHBrain_GRO_JHS1029_SD_CACCGG_S44_L003_R1_001_fastqc.html /data/isshamie/TSS/Processed/CHO/GRO/f02_bam/trim_CHO-GRO-SD370_S9_R1_001.fastq.bamLog.final.out /data/isshamie/TSS/Processed/CHO/GRO/f02_bam/trim_CHO-GRO-SD369_S8_R1_001.fastq.bamLog.final.out /data/isshamie/TSS/Processed/CHO/GRO/f01_fastqc/trim_CHO-GRO-SD370_S9_R1_001_fastqc.html /data/isshamie/TSS/Processed/CHO/GRO/f01_fastqc/trim_CHO-GRO-SD370_S9_R1_001_fastqc.zip /data/isshamie/TSS/Processed/CHO/GRO/f01_fastqc/trim_CHO-GRO-SD369_S8_R1_001_fastqc.zip /data/isshamie/TSS/Processed/CHO/GRO/f01_fastqc/trim_trim_CHO-GRO-SD369_S8_R1_001_fastqc.zip /data/isshamie/TSS/Processed/CHO/GRO/f01_fastqc/trim_trim_CHO-GRO-SD370_S9_R1_001_fastqc.zip /data/isshamie/TSS/Processed/CHO/GRO/f01_fastqc/trim_CHO-GRO-SD369_S8_R1_001_fastqc.html /data/isshamie/TSS/Processed/Kidney/GRO/f02_bam/trim_CHKidney_GRO_JHS1028_SD_CAACTA_S43_L003_R1_001.fastq.bamLog.final.out /data/isshamie/TSS/Processed/Kidney/GRO/f01_fastqc/trim_CHKidney_GRO_JHS1028_SD_CAACTA_S43_L003_R1_001_fastqc.zip /data/isshamie/TSS/Processed/Kidney/GRO/f01_fastqc/trim_CHKidney_GRO_JHS1028_SD_CAACTA_S43_L003_R1_001_fastqc.html /data/isshamie/TSS/Processed/Lung/GRO/f02_bam/trim_CHLung_GRO_JHS1030_SD_CACGAT_S45_L003_R1_001.fastq.bamLog.final.out /data/isshamie/TSS/Processed/Lung/GRO/f01_fastqc/trim_CHLung_GRO_JHS1030_SD_CACGAT_S45_L003_R1_001_fastqc.html /data/isshamie/TSS/Processed/Lung/GRO/f01_fastqc/trim_CHLung_GRO_JHS1030_SD_CACGAT_S45_L003_R1_001_fastqc.zip /data/isshamie/TSS/Processed/Liver/GRO/f02_bam/trim_CHLiver_GRO_JHS1038_SD_GTAGAG_S53_L003_R1_001.fastq.bamLog.final.out /data/isshamie/TSS/Processed/Liver/GRO/f02_bam/trim_CHLiver_GRO_JHS1031_SD_TAATCG_S46_L003_R1_001.fastq.bamLog.final.out /data/isshamie/TSS/Processed/Liver/GRO/f01_fastqc/trim_CHLiver_GRO_JHS1031_SD_TAATCG_S46_L003_R1_001_fastqc.zip /data/isshamie/TSS/Processed/Liver/GRO/f01_fastqc/trim_CHLiver_GRO_JHS1031_SD_TAATCG_S46_L003_R1_001_fastqc.html /data/isshamie/TSS/Processed/Liver/GRO/f01_fastqc/trim_CHLiver_GRO_JHS1038_SD_GTAGAG_S53_L003_R1_001_fastqc.html /data/isshamie/TSS/Processed/Liver/GRO/f01_fastqc/trim_CHLiver_GRO_JHS1038_SD_GTAGAG_S53_L003_R1_001_fastqc.zip /data/isshamie/TSS/Processed/BMDMwt/GRO/f02_bam/trim_CHBMDMwt_GRO_JHS1026_SD_ATTCCT_S41_L003_R1_001.fastq.bamLog.final.out /data/isshamie/TSS/Processed/BMDMwt/GRO/f01_fastqc/trim_CHBMDMwt_GRO_JHS1026_SD_ATTCCT_S41_L003_R1_001_fastqc.zip /data/isshamie/TSS/Processed/BMDMwt/GRO/f01_fastqc/trim_CHBMDMwt_GRO_JHS1026_SD_ATTCCT_S41_L003_R1_001_fastqc.html /data/isshamie/TSS/Processed/Spleen/GRO/f02_bam/trim_CHBloondnegSpleen_GRO_JHS1032_SD_TCCCGA_S47_L003_R1_001.fastq.bamLog.final.out /data/isshamie/TSS/Processed/Spleen/GRO/f01_fastqc/trim_CHBloondnegSpleen_GRO_JHS1032_SD_TCCCGA_S47_L003_R1_001_fastqc.html /data/isshamie/TSS/Processed/Spleen/GRO/f01_fastqc/trim_CHBloondnegSpleen_GRO_JHS1032_SD_TCCCGA_S47_L003_R1_001_fastqc.zip /data/isshamie/TSS/Processed/BMDM1hKLA/GRO/f02_bam/trim_CHBMDM1hKLA_GRO_JHS1027_SD_CAAAAG_S42_L003_R1_001.fastq.bamLog.final.out /data/isshamie/TSS/Processed/BMDM1hKLA/GRO/f01_fastqc/trim_CHBMDM1hKLA_GRO_JHS1027_SD_CAAAAG_S42_L003_R1_001_fastqc.html /data/isshamie/TSS/Processed/BMDM1hKLA/GRO/f01_fastqc/trim_CHBMDM1hKLA_GRO_JHS1027_SD_CAAAAG_S42_L003_R1_001_fastqc.zip -o /data/isshamie/TSS/Processed/separate_multiqc/gro\n"
     ]
    },
    {
     "data": {
      "text/plain": [
       "<sarge.Pipeline at 0x7fe0a42682d0>"
      ]
     },
     "execution_count": 3,
     "metadata": {},
     "output_type": "execute_result"
    }
   ],
   "source": [
    "cmd = 'multiqc %s -o /data/isshamie/TSS/Processed/separate_multiqc/gro' % ' '.join(gro)\n",
    "print cmd\n",
    "sarge.run(cmd)"
   ]
  },
  {
   "cell_type": "code",
   "execution_count": 4,
   "metadata": {
    "scrolled": true
   },
   "outputs": [
    {
     "name": "stdout",
     "output_type": "stream",
     "text": [
      "multiqc /data/isshamie/TSS/Processed/Brain/GRO/f02_bam/trim_CHBrain_5GRO_JHS1036_SD_ATGTCA_S51_L003_R1_001.fastq.bamLog.final.out /data/isshamie/TSS/Processed/Brain/GRO/f01_fastqc/trim_CHBrain_5GRO_JHS1036_SD_ATGTCA_S51_L003_R1_001_fastqc.zip /data/isshamie/TSS/Processed/Brain/GRO/f01_fastqc/trim_CHBrain_5GRO_JHS1036_SD_ATGTCA_S51_L003_R1_001_fastqc.html /data/isshamie/TSS/Processed/CHO/GRO/f02_bam/trim_CHO-5GRO-SD371_S10_R1_001.fastq.bamLog.final.out /data/isshamie/TSS/Processed/CHO/GRO/f02_bam/trim_CHO-5GRO-SD367_S6_R1_001.fastq.bamLog.final.out /data/isshamie/TSS/Processed/CHO/GRO/f01_fastqc/trim_CHO-5GRO-SD371_S10_R1_001_fastqc.zip /data/isshamie/TSS/Processed/CHO/GRO/f01_fastqc/trim_CHO-5GRO-SD367_S6_R1_001_fastqc.html /data/isshamie/TSS/Processed/CHO/GRO/f01_fastqc/trim_CHO-5GRO-SD367_S6_R1_001_fastqc.zip /data/isshamie/TSS/Processed/CHO/GRO/f01_fastqc/trim_CHO-5GRO-SD371_S10_R1_001_fastqc.html /data/isshamie/TSS/Processed/CHO/GRO/f01_fastqc/trim_trim_CHO-5GRO-SD371_S10_R1_001_fastqc.zip /data/isshamie/TSS/Processed/CHO/GRO/f01_fastqc/trim_trim_CHO-5GRO-SD367_S6_R1_001_fastqc.zip /data/isshamie/TSS/Processed/Kidney/GRO/f02_bam/trim_CHKidney_5GRO_JHS1035_SD_AGTTCC_S50_L003_R1_001.fastq.bamLog.final.out /data/isshamie/TSS/Processed/Kidney/GRO/f01_fastqc/trim_CHKidney_5GRO_JHS1035_SD_AGTTCC_S50_L003_R1_001_fastqc.html /data/isshamie/TSS/Processed/Kidney/GRO/f01_fastqc/trim_CHKidney_5GRO_JHS1035_SD_AGTTCC_S50_L003_R1_001_fastqc.zip /data/isshamie/TSS/Processed/Lung/GRO/f02_bam/trim_CHLung_5GRO_JHS1037_SD_CCGTCC_S52_L003_R1_001.fastq.bamLog.final.out /data/isshamie/TSS/Processed/Lung/GRO/f01_fastqc/trim_CHLung_5GRO_JHS1037_SD_CCGTCC_S52_L003_R1_001_fastqc.html /data/isshamie/TSS/Processed/Lung/GRO/f01_fastqc/trim_CHLung_5GRO_JHS1037_SD_CCGTCC_S52_L003_R1_001_fastqc.zip /data/isshamie/TSS/Processed/BMDMwt/GRO/f02_bam/trim_CHBMDMwt_5GRO_JHS1033_SD_TAGCTT_S48_L003_R1_001.fastq.bamLog.final.out /data/isshamie/TSS/Processed/BMDMwt/GRO/f01_fastqc/trim_CHBMDMwt_5GRO_JHS1033_SD_TAGCTT_S48_L003_R1_001_fastqc.html /data/isshamie/TSS/Processed/BMDMwt/GRO/f01_fastqc/trim_CHBMDMwt_5GRO_JHS1033_SD_TAGCTT_S48_L003_R1_001_fastqc.zip /data/isshamie/TSS/Processed/Spleen/GRO/f02_bam/trim_CHBloondnegSpleen_5GRO_JHS1039_SD_GTCCGC_S54_L003_R1_001.fastq.bamLog.final.out /data/isshamie/TSS/Processed/Spleen/GRO/f01_fastqc/trim_CHBloondnegSpleen_5GRO_JHS1039_SD_GTCCGC_S54_L003_R1_001_fastqc.html /data/isshamie/TSS/Processed/Spleen/GRO/f01_fastqc/trim_CHBloondnegSpleen_5GRO_JHS1039_SD_GTCCGC_S54_L003_R1_001_fastqc.zip /data/isshamie/TSS/Processed/BMDM1hKLA/GRO/f02_bam/trim_CHBMDM1hKLA_5GRO_JHS1034_SD_AGTCAA_S49_L003_R1_001.fastq.bamLog.final.out /data/isshamie/TSS/Processed/BMDM1hKLA/GRO/f01_fastqc/trim_CHBMDM1hKLA_5GRO_JHS1034_SD_AGTCAA_S49_L003_R1_001_fastqc.html /data/isshamie/TSS/Processed/BMDM1hKLA/GRO/f01_fastqc/trim_CHBMDM1hKLA_5GRO_JHS1034_SD_AGTCAA_S49_L003_R1_001_fastqc.zip -o /data/isshamie/TSS/Processed/separate_multiqc/gro5\n"
     ]
    },
    {
     "data": {
      "text/plain": [
       "<sarge.Pipeline at 0x7fe0a4313c10>"
      ]
     },
     "execution_count": 4,
     "metadata": {},
     "output_type": "execute_result"
    }
   ],
   "source": [
    "cmd = 'multiqc %s -o /data/isshamie/TSS/Processed/separate_multiqc/gro5' % ' '.join(gro5)\n",
    "print cmd\n",
    "sarge.run(cmd)"
   ]
  },
  {
   "cell_type": "code",
   "execution_count": 5,
   "metadata": {},
   "outputs": [
    {
     "name": "stdout",
     "output_type": "stream",
     "text": [
      "multiqc /data/isshamie/TSS/Processed/Brain/mSTART/f02_bam/trim_CHBrain_mSTART_JHS1016_SD_GTAGAG_S28_L002_R1_001.fastq.bamLog.final.out /data/isshamie/TSS/Processed/Brain/mSTART/f02_bam/trim_CHBrain_mSTART_JHS1057_SD_ATTCCT_S79_L004_R1_001.fastq.bamLog.final.out /data/isshamie/TSS/Processed/Brain/mSTART/f01_fastqc/trim_CHBrain_mSTART_JHS1057_SD_ATTCCT_S79_L004_R1_001_fastqc.html /data/isshamie/TSS/Processed/Brain/mSTART/f01_fastqc/trim_CHBrain_mSTART_JHS1016_SD_GTAGAG_S28_L002_R1_001_fastqc.zip /data/isshamie/TSS/Processed/Brain/mSTART/f01_fastqc/trim_CHBrain_mSTART_JHS1057_SD_ATTCCT_S79_L004_R1_001_fastqc.zip /data/isshamie/TSS/Processed/Brain/mSTART/f01_fastqc/trim_CHBrain_mSTART_JHS1016_SD_GTAGAG_S28_L002_R1_001_fastqc.html /data/isshamie/TSS/Processed/Heart/mSTART/f02_bam/trim_CHHeart_mSTART_JHS1013_SD_AGTTCC_S25_L002_R1_001.fastq.bamLog.final.out /data/isshamie/TSS/Processed/Heart/mSTART/f02_bam/trim_CHHeart_mSTART_JHS1056_SD_ATGAGC_S78_L004_R1_001.fastq.bamLog.final.out /data/isshamie/TSS/Processed/Heart/mSTART/f01_fastqc/trim_CHHeart_mSTART_JHS1056_SD_ATGAGC_S78_L004_R1_001_fastqc.html /data/isshamie/TSS/Processed/Heart/mSTART/f01_fastqc/trim_CHHeart_mSTART_JHS1056_SD_ATGAGC_S78_L004_R1_001_fastqc.zip /data/isshamie/TSS/Processed/Heart/mSTART/f01_fastqc/trim_CHHeart_mSTART_JHS1013_SD_AGTTCC_S25_L002_R1_001_fastqc.zip /data/isshamie/TSS/Processed/Heart/mSTART/f01_fastqc/trim_CHHeart_mSTART_JHS1013_SD_AGTTCC_S25_L002_R1_001_fastqc.html /data/isshamie/TSS/Processed/Kidney/mSTART/f02_bam/trim_CHKidney_mSTART_JHS1022_SD_GAGTGG_S34_L002_R1_001.fastq.bamLog.final.out /data/isshamie/TSS/Processed/Kidney/mSTART/f02_bam/trim_CHKidney_mSTART_JHS1059_SD_CAACTA_S81_L004_R1_001.fastq.bamLog.final.out /data/isshamie/TSS/Processed/Kidney/mSTART/f01_fastqc/trim_CHKidney_mSTART_JHS1022_SD_GAGTGG_S34_L002_R1_001_fastqc.html /data/isshamie/TSS/Processed/Kidney/mSTART/f01_fastqc/trim_CHKidney_mSTART_JHS1022_SD_GAGTGG_S34_L002_R1_001_fastqc.zip /data/isshamie/TSS/Processed/Kidney/mSTART/f01_fastqc/trim_CHKidney_mSTART_JHS1059_SD_CAACTA_S81_L004_R1_001_fastqc.zip /data/isshamie/TSS/Processed/Kidney/mSTART/f01_fastqc/trim_CHKidney_mSTART_JHS1059_SD_CAACTA_S81_L004_R1_001_fastqc.html /data/isshamie/TSS/Processed/Muscle/mSTART/f02_bam/trim_CHMuscle_mSTART_JHS1019_SD_GTGGCC_S31_L002_R1_001.fastq.bamLog.final.out /data/isshamie/TSS/Processed/Muscle/mSTART/f02_bam/trim_CHMuscle_mSTART_JHS1058_SD_CAAAAG_S80_L004_R1_001.fastq.bamLog.final.out /data/isshamie/TSS/Processed/Muscle/mSTART/f01_fastqc/trim_CHMuscle_mSTART_JHS1058_SD_CAAAAG_S80_L004_R1_001_fastqc.zip /data/isshamie/TSS/Processed/Muscle/mSTART/f01_fastqc/trim_CHMuscle_mSTART_JHS1058_SD_CAAAAG_S80_L004_R1_001_fastqc.html /data/isshamie/TSS/Processed/Muscle/mSTART/f01_fastqc/trim_CHMuscle_mSTART_JHS1019_SD_GTGGCC_S31_L002_R1_001_fastqc.html /data/isshamie/TSS/Processed/Muscle/mSTART/f01_fastqc/trim_CHMuscle_mSTART_JHS1019_SD_GTGGCC_S31_L002_R1_001_fastqc.zip /data/isshamie/TSS/Processed/Lung/mSTART/f02_bam/trim_CHLung_mSTART_JHS1020_SD_GTTTCG_S32_L002_R1_001.fastq.bamLog.final.out /data/isshamie/TSS/Processed/Lung/mSTART/f02_bam/trim_CHLung_mSTART_JHS1054_SD_GGTAGC_S76_L004_R1_001.fastq.bamLog.final.out /data/isshamie/TSS/Processed/Lung/mSTART/f01_fastqc/trim_CHLung_mSTART_JHS1054_SD_GGTAGC_S76_L004_R1_001_fastqc.zip /data/isshamie/TSS/Processed/Lung/mSTART/f01_fastqc/trim_CHLung_mSTART_JHS1020_SD_GTTTCG_S32_L002_R1_001_fastqc.zip /data/isshamie/TSS/Processed/Lung/mSTART/f01_fastqc/trim_CHLung_mSTART_JHS1054_SD_GGTAGC_S76_L004_R1_001_fastqc.html /data/isshamie/TSS/Processed/Lung/mSTART/f01_fastqc/trim_CHLung_mSTART_JHS1020_SD_GTTTCG_S32_L002_R1_001_fastqc.html /data/isshamie/TSS/Processed/Liver/mSTART/f02_bam/trim_CHLiver_mSTART_JHS1015_SD_CCGTCC_S27_L002_R1_001.fastq.bamLog.final.out /data/isshamie/TSS/Processed/Liver/mSTART/f02_bam/trim_CHLiver_mSTART_JHS1055_SD_ACTGAT_S77_L004_R1_001.fastq.bamLog.final.out /data/isshamie/TSS/Processed/Liver/mSTART/f01_fastqc/trim_CHLiver_mSTART_JHS1015_SD_CCGTCC_S27_L002_R1_001_fastqc.html /data/isshamie/TSS/Processed/Liver/mSTART/f01_fastqc/trim_CHLiver_mSTART_JHS1055_SD_ACTGAT_S77_L004_R1_001_fastqc.html /data/isshamie/TSS/Processed/Liver/mSTART/f01_fastqc/trim_CHLiver_mSTART_JHS1055_SD_ACTGAT_S77_L004_R1_001_fastqc.zip /data/isshamie/TSS/Processed/Liver/mSTART/f01_fastqc/trim_CHLiver_mSTART_JHS1015_SD_CCGTCC_S27_L002_R1_001_fastqc.zip /data/isshamie/TSS/Processed/Pancreas/mSTART/f02_bam/trim_CHPancreas_mSTART_JHS1014_SD_ATGTCA_S26_L002_R1_001.fastq.bamLog.final.out /data/isshamie/TSS/Processed/Pancreas/mSTART/f02_bam/trim_CHPancreas_mSTART_JHS1051_SD_GTTTCG_S73_L004_R1_001.fastq.bamLog.final.out /data/isshamie/TSS/Processed/Pancreas/mSTART/f01_fastqc/trim_CHPancreas_mSTART_JHS1051_SD_GTTTCG_S73_L004_R1_001_fastqc.zip /data/isshamie/TSS/Processed/Pancreas/mSTART/f01_fastqc/trim_CHPancreas_mSTART_JHS1014_SD_ATGTCA_S26_L002_R1_001_fastqc.zip /data/isshamie/TSS/Processed/Pancreas/mSTART/f01_fastqc/trim_CHPancreas_mSTART_JHS1014_SD_ATGTCA_S26_L002_R1_001_fastqc.html /data/isshamie/TSS/Processed/Pancreas/mSTART/f01_fastqc/trim_CHPancreas_mSTART_JHS1051_SD_GTTTCG_S73_L004_R1_001_fastqc.html /data/isshamie/TSS/Processed/Spleen/mSTART/f02_bam/trim_CHSpleen_mSTART_JHS1053_SD_GAGTGG_S75_L004_R1_001.fastq.bamLog.final.out /data/isshamie/TSS/Processed/Spleen/mSTART/f02_bam/trim_CHSpleednegBlood_mSTART_JHS1017_SD_GTCCGC_S29_L002_R1_001.fastq.bamLog.final.out /data/isshamie/TSS/Processed/Spleen/mSTART/f01_fastqc/trim_CHSpleednegBlood_mSTART_JHS1017_SD_GTCCGC_S29_L002_R1_001_fastqc.html /data/isshamie/TSS/Processed/Spleen/mSTART/f01_fastqc/trim_CHSpleen_mSTART_JHS1053_SD_GAGTGG_S75_L004_R1_001_fastqc.zip /data/isshamie/TSS/Processed/Spleen/mSTART/f01_fastqc/trim_CHSpleen_mSTART_JHS1053_SD_GAGTGG_S75_L004_R1_001_fastqc.html /data/isshamie/TSS/Processed/Spleen/mSTART/f01_fastqc/trim_CHSpleednegBlood_mSTART_JHS1017_SD_GTCCGC_S29_L002_R1_001_fastqc.zip -o /data/isshamie/TSS/Processed/separate_multiqc/mstart\n"
     ]
    },
    {
     "data": {
      "text/plain": [
       "<sarge.Pipeline at 0x7fe0a4268f90>"
      ]
     },
     "execution_count": 5,
     "metadata": {},
     "output_type": "execute_result"
    }
   ],
   "source": [
    "cmd = 'multiqc %s -o /data/isshamie/TSS/Processed/separate_multiqc/mstart' % ' '.join(mstart)\n",
    "print cmd\n",
    "sarge.run(cmd)"
   ]
  },
  {
   "cell_type": "code",
   "execution_count": 6,
   "metadata": {
    "scrolled": true
   },
   "outputs": [
    {
     "name": "stdout",
     "output_type": "stream",
     "text": [
      "multiqc /data/isshamie/TSS/Processed/Brain/mSTART/f02_bam/trim_CHBrain_mSTARTinput_JHS1078_SD_ATTCCT_S100_L005_R1_001.fastq.bamLog.final.out /data/isshamie/TSS/Processed/Brain/mSTART/f01_fastqc/trim_CHBrain_mSTARTinput_JHS1078_SD_ATTCCT_S100_L005_R1_001_fastqc.html /data/isshamie/TSS/Processed/Brain/mSTART/f01_fastqc/trim_CHBrain_mSTARTinput_JHS1078_SD_ATTCCT_S100_L005_R1_001_fastqc.zip /data/isshamie/TSS/Processed/Heart/mSTART/f02_bam/trim_CHHeart_mSTARTinput_JHS1077_SD_ATGAGC_S99_L005_R1_001.fastq.bamLog.final.out /data/isshamie/TSS/Processed/Heart/mSTART/f01_fastqc/trim_CHHeart_mSTARTinput_JHS1077_SD_ATGAGC_S99_L005_R1_001_fastqc.zip /data/isshamie/TSS/Processed/Heart/mSTART/f01_fastqc/trim_CHHeart_mSTARTinput_JHS1077_SD_ATGAGC_S99_L005_R1_001_fastqc.html /data/isshamie/TSS/Processed/Kidney/mSTART/f02_bam/trim_CHKidney_mSTARTinput_JHS1080_SD_CAACTA_S102_L005_R1_001.fastq.bamLog.final.out /data/isshamie/TSS/Processed/Kidney/mSTART/f01_fastqc/trim_CHKidney_mSTARTinput_JHS1080_SD_CAACTA_S102_L005_R1_001_fastqc.html /data/isshamie/TSS/Processed/Kidney/mSTART/f01_fastqc/trim_CHKidney_mSTARTinput_JHS1080_SD_CAACTA_S102_L005_R1_001_fastqc.zip /data/isshamie/TSS/Processed/Muscle/mSTART/f02_bam/trim_CHMuscle_mSTARTinput_JHS1079_SD_CAAAAG_S101_L005_R1_001.fastq.bamLog.final.out /data/isshamie/TSS/Processed/Muscle/mSTART/f01_fastqc/trim_CHMuscle_mSTARTinput_JHS1079_SD_CAAAAG_S101_L005_R1_001_fastqc.html /data/isshamie/TSS/Processed/Muscle/mSTART/f01_fastqc/trim_CHMuscle_mSTARTinput_JHS1079_SD_CAAAAG_S101_L005_R1_001_fastqc.zip /data/isshamie/TSS/Processed/Lung/mSTART/f02_bam/trim_CHLung_mSTARTinput_JHS1075_SD_GGTAGC_S97_L005_R1_001.fastq.bamLog.final.out /data/isshamie/TSS/Processed/Lung/mSTART/f01_fastqc/trim_CHLung_mSTARTinput_JHS1075_SD_GGTAGC_S97_L005_R1_001_fastqc.zip /data/isshamie/TSS/Processed/Lung/mSTART/f01_fastqc/trim_CHLung_mSTARTinput_JHS1075_SD_GGTAGC_S97_L005_R1_001_fastqc.html /data/isshamie/TSS/Processed/Liver/mSTART/f02_bam/trim_CHLiver_mSTARTinput_JHS1076_SD_ACTGAT_S98_L005_R1_001.fastq.bamLog.final.out /data/isshamie/TSS/Processed/Liver/mSTART/f01_fastqc/trim_CHLiver_mSTARTinput_JHS1076_SD_ACTGAT_S98_L005_R1_001_fastqc.zip /data/isshamie/TSS/Processed/Liver/mSTART/f01_fastqc/trim_CHLiver_mSTARTinput_JHS1076_SD_ACTGAT_S98_L005_R1_001_fastqc.html /data/isshamie/TSS/Processed/Pancreas/mSTART/f02_bam/trim_CHPancreas_mSTARTinput_JHS1072_SD_GTTTCG_S94_L005_R1_001.fastq.bamLog.final.out /data/isshamie/TSS/Processed/Pancreas/mSTART/f01_fastqc/trim_CHPancreas_mSTARTinput_JHS1072_SD_GTTTCG_S94_L005_R1_001_fastqc.html /data/isshamie/TSS/Processed/Pancreas/mSTART/f01_fastqc/trim_CHPancreas_mSTARTinput_JHS1072_SD_GTTTCG_S94_L005_R1_001_fastqc.zip /data/isshamie/TSS/Processed/Spleen/mSTART/f02_bam/trim_CHSpleen_mSTARTinput_JHS1074_SD_GAGTGG_S96_L005_R1_001.fastq.bamLog.final.out /data/isshamie/TSS/Processed/Spleen/mSTART/f01_fastqc/trim_CHSpleen_mSTARTinput_JHS1074_SD_GAGTGG_S96_L005_R1_001_fastqc.zip /data/isshamie/TSS/Processed/Spleen/mSTART/f01_fastqc/trim_CHSpleen_mSTARTinput_JHS1074_SD_GAGTGG_S96_L005_R1_001_fastqc.html -o /data/isshamie/TSS/Processed/separate_multiqc/mstart_input\n"
     ]
    },
    {
     "data": {
      "text/plain": [
       "<sarge.Pipeline at 0x7fe0a427c050>"
      ]
     },
     "execution_count": 6,
     "metadata": {},
     "output_type": "execute_result"
    }
   ],
   "source": [
    "cmd = 'multiqc %s -o /data/isshamie/TSS/Processed/separate_multiqc/mstart_input' % ' '.join(mstart_input)\n",
    "print cmd\n",
    "sarge.run(cmd)"
   ]
  }
 ],
 "metadata": {
  "kernelspec": {
   "display_name": "Python 2",
   "language": "python",
   "name": "python2"
  },
  "language_info": {
   "codemirror_mode": {
    "name": "ipython",
    "version": 2
   },
   "file_extension": ".py",
   "mimetype": "text/x-python",
   "name": "python",
   "nbconvert_exporter": "python",
   "pygments_lexer": "ipython2",
   "version": "2.7.13"
  }
 },
 "nbformat": 4,
 "nbformat_minor": 2
}
