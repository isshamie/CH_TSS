{
 "cells": [
  {
   "cell_type": "code",
   "execution_count": 1,
   "metadata": {
    "ExecuteTime": {
     "end_time": "2019-02-05T23:44:27.611939Z",
     "start_time": "2019-02-05T23:44:27.557717Z"
    },
    "collapsed": true
   },
   "outputs": [],
   "source": [
    "parameter_file = 'params/params.yaml'\n",
    "import os\n",
    "import yaml\n",
    "import sys\n",
    "import glob\n",
    "with open(parameter_file,'r') as f:\n",
    "    doc = yaml.load(f)\n",
    "\n",
    "#p = dic2obj(**doc)\n",
    "\n",
    "data_folder = doc['data_folder']\n",
    "tissues = doc['tissues'].split(',')\n",
    "sys.path.append(doc['pipeline_path'])\n",
    "ref_fa = doc['ref_fa']\n",
    "annotation=doc['annotation']\n",
    "tss_file = doc['tss_annotation']"
   ]
  },
  {
   "cell_type": "code",
   "execution_count": 3,
   "metadata": {
    "ExecuteTime": {
     "end_time": "2019-02-05T23:44:22.168056Z",
     "start_time": "2019-02-05T23:44:22.156556Z"
    }
   },
   "outputs": [
    {
     "data": {
      "text/plain": [
       "'/data/isshamie/genome/ncbi_anno_103/start_site_mRNA_final.tsv'"
      ]
     },
     "execution_count": 3,
     "metadata": {},
     "output_type": "execute_result"
    }
   ],
   "source": [
    "tss_file"
   ]
  },
  {
   "cell_type": "code",
   "execution_count": 2,
   "metadata": {
    "ExecuteTime": {
     "end_time": "2019-01-21T23:47:40.935925Z",
     "start_time": "2019-01-21T23:47:40.915520Z"
    },
    "collapsed": true
   },
   "outputs": [],
   "source": [
    "%load_ext autoreload\n",
    "%autoreload 2\n"
   ]
  },
  {
   "cell_type": "code",
   "execution_count": 3,
   "metadata": {
    "ExecuteTime": {
     "end_time": "2019-01-21T23:47:41.342500Z",
     "start_time": "2019-01-21T23:47:40.938105Z"
    },
    "collapsed": true
   },
   "outputs": [],
   "source": [
    "import pandas as pd"
   ]
  },
  {
   "cell_type": "code",
   "execution_count": 4,
   "metadata": {
    "ExecuteTime": {
     "end_time": "2019-01-21T23:47:42.020700Z",
     "start_time": "2019-01-21T23:47:41.344851Z"
    }
   },
   "outputs": [
    {
     "name": "stdout",
     "output_type": "stream",
     "text": [
      "('Number of tissues: ', 13)\n"
     ]
    }
   ],
   "source": [
    "import annotation\n",
    "#from Homer import *\n",
    "print('Number of tissues: ',len(tissues))"
   ]
  },
  {
   "cell_type": "code",
   "execution_count": 5,
   "metadata": {
    "ExecuteTime": {
     "end_time": "2019-01-21T23:47:42.048254Z",
     "start_time": "2019-01-21T23:47:42.022930Z"
    },
    "collapsed": true
   },
   "outputs": [],
   "source": [
    "import numpy as np"
   ]
  },
  {
   "cell_type": "markdown",
   "metadata": {},
   "source": [
    "### Create annotation"
   ]
  },
  {
   "cell_type": "markdown",
   "metadata": {},
   "source": [
    "#### Annotation file:  updated_final_sort.gff3\n",
    "#### Genome: picr.gff3"
   ]
  },
  {
   "cell_type": "code",
   "execution_count": 6,
   "metadata": {
    "ExecuteTime": {
     "end_time": "2019-01-21T23:47:42.074794Z",
     "start_time": "2019-01-21T23:47:42.051018Z"
    },
    "collapsed": true
   },
   "outputs": [],
   "source": [
    "if not os.path.exists(\"Results/tss_annotation/\"):\n",
    "    os.mkdir(\"Results/tss_annotation/\")"
   ]
  },
  {
   "cell_type": "markdown",
   "metadata": {},
   "source": [
    "## Gene"
   ]
  },
  {
   "cell_type": "markdown",
   "metadata": {},
   "source": [
    "### a.\n",
    "i. introns excluded  \n",
    "ii. peak_bins [-1000,+100]"
   ]
  },
  {
   "cell_type": "code",
   "execution_count": 8,
   "metadata": {
    "ExecuteTime": {
     "end_time": "2019-01-21T23:51:28.296653Z",
     "start_time": "2019-01-21T23:51:28.270708Z"
    }
   },
   "outputs": [
    {
     "data": {
      "text/plain": [
       "'/data/isshamie/genome/ncbi_anno_103/start_site_mRNA_final.tsv'"
      ]
     },
     "execution_count": 8,
     "metadata": {},
     "output_type": "execute_result"
    }
   ],
   "source": [
    "tss_file"
   ]
  },
  {
   "cell_type": "code",
   "execution_count": 9,
   "metadata": {
    "ExecuteTime": {
     "end_time": "2019-01-22T00:11:13.671532Z",
     "start_time": "2019-01-22T00:07:21.139481Z"
    },
    "scrolled": true
   },
   "outputs": [
    {
     "name": "stderr",
     "output_type": "stream",
     "text": [
      "Widget Javascript not detected.  It may not be installed or enabled properly.\n"
     ]
    },
    {
     "data": {
      "application/vnd.jupyter.widget-view+json": {
       "model_id": "5a6a530843b842d9965550cbbbe1f2a5"
      }
     },
     "metadata": {},
     "output_type": "display_data"
    },
    {
     "name": "stdout",
     "output_type": "stream",
     "text": [
      "\n",
      "('Total Number: ', 21386)\n",
      "('Total Number with start sites: ', 14426)\n",
      "('Fraction with start sites: ', 0.6745534461797438)\n",
      "CPU times: user 3min 59s, sys: 4.67 s, total: 4min 3s\n",
      "Wall time: 3min 52s\n"
     ]
    }
   ],
   "source": [
    "%%time\n",
    "peaks_file = 'Results/merged/peaks_with_tss_distances.tsv'\n",
    "peaks_expression_file = 'Results/merged/samples.merge.peaksexpression'\n",
    "\n",
    "\n",
    "df = annotation.wrap_create_anno_centric(peaks_file, peaks_expression_file, tss_file,\n",
    "                             peak_bin=(-1000, 100), anno_col='Nearest gene',\n",
    "                             tss_df_col='gene',\n",
    "                             f_save='Results/tss_annotation/gene_df_01', allow_intron=False)\n",
    "\n"
   ]
  },
  {
   "cell_type": "markdown",
   "metadata": {
    "deletable": false,
    "editable": false,
    "run_control": {
     "frozen": true
    }
   },
   "source": [
    "### b.\n",
    "i. introns excluded  \n",
    "ii. peak_bins [-1000,+1000]"
   ]
  },
  {
   "cell_type": "code",
   "execution_count": 10,
   "metadata": {
    "ExecuteTime": {
     "end_time": "2019-01-22T00:29:13.156210Z",
     "start_time": "2019-01-22T00:24:58.568235Z"
    }
   },
   "outputs": [
    {
     "name": "stderr",
     "output_type": "stream",
     "text": [
      "Widget Javascript not detected.  It may not be installed or enabled properly.\n"
     ]
    },
    {
     "data": {
      "application/vnd.jupyter.widget-view+json": {
       "model_id": "3e3933f5be9b44a9887529bd63356c57"
      }
     },
     "metadata": {},
     "output_type": "display_data"
    },
    {
     "name": "stdout",
     "output_type": "stream",
     "text": [
      "\n",
      "('Total Number: ', 21386)\n",
      "('Total Number with start sites: ', 16050)\n",
      "('Fraction with start sites: ', 0.7504909754044702)\n",
      "CPU times: user 4min 20s, sys: 5.19 s, total: 4min 25s\n",
      "Wall time: 4min 14s\n"
     ]
    }
   ],
   "source": [
    "%%time\n",
    "peaks_file = 'Results/merged/peaks_with_tss_distances.tsv'\n",
    "peaks_expression_file = 'Results/merged/samples.merge.peaksexpression'\n",
    "\n",
    "\n",
    "df = annotation.wrap_create_anno_centric(peaks_file, peaks_expression_file, tss_file,\n",
    "                             peak_bin=(-1000, 1000), anno_col='Nearest gene',\n",
    "                             tss_df_col='gene',\n",
    "                             f_save='Results/tss_annotation/gene_df_02', allow_intron=False)\n",
    "\n"
   ]
  },
  {
   "cell_type": "markdown",
   "metadata": {},
   "source": [
    "## Txn"
   ]
  },
  {
   "cell_type": "markdown",
   "metadata": {},
   "source": [
    "### a.\n",
    "i. introns excluded  \n",
    "ii. peak_bins [-1000,+100]"
   ]
  },
  {
   "cell_type": "code",
   "execution_count": 11,
   "metadata": {
    "ExecuteTime": {
     "end_time": "2019-01-22T00:34:04.178939Z",
     "start_time": "2019-01-22T00:29:13.158366Z"
    },
    "scrolled": true
   },
   "outputs": [
    {
     "name": "stderr",
     "output_type": "stream",
     "text": [
      "Widget Javascript not detected.  It may not be installed or enabled properly.\n"
     ]
    },
    {
     "data": {
      "application/vnd.jupyter.widget-view+json": {
       "model_id": "557789c830554122a44716f28ae4afb1"
      }
     },
     "metadata": {},
     "output_type": "display_data"
    },
    {
     "name": "stdout",
     "output_type": "stream",
     "text": [
      "\n",
      "('Total Number: ', 30584)\n",
      "('Total Number with start sites: ', 17053)\n",
      "('Fraction with start sites: ', 0.5575791263405703)\n",
      "CPU times: user 5min, sys: 4.08 s, total: 5min 4s\n",
      "Wall time: 4min 50s\n"
     ]
    }
   ],
   "source": [
    "%%time\n",
    "peaks_file = 'Results/merged/peaks_with_tss_distances.tsv'\n",
    "peaks_expression_file = 'Results/merged/samples.merge.peaksexpression'\n",
    "\n",
    "\n",
    "df = annotation.wrap_create_anno_centric(peaks_file, peaks_expression_file, tss_file,\n",
    "                             peak_bin=(-1000, 100), anno_col='Nearest TSS',\n",
    "                             tss_df_col='transcript_id',\n",
    "                             f_save='Results/tss_annotation/txn_df_01', allow_intron=False)\n",
    "\n"
   ]
  },
  {
   "cell_type": "markdown",
   "metadata": {},
   "source": [
    "### b.\n",
    "i. introns excluded  \n",
    "ii. peak_bins [-1000,+1000]"
   ]
  },
  {
   "cell_type": "code",
   "execution_count": 12,
   "metadata": {
    "ExecuteTime": {
     "end_time": "2019-01-22T00:39:21.848951Z",
     "start_time": "2019-01-22T00:34:04.181139Z"
    }
   },
   "outputs": [
    {
     "name": "stderr",
     "output_type": "stream",
     "text": [
      "Widget Javascript not detected.  It may not be installed or enabled properly.\n"
     ]
    },
    {
     "data": {
      "application/vnd.jupyter.widget-view+json": {
       "model_id": "d52e766ec46943fcb4ccfcb3615b10c9"
      }
     },
     "metadata": {},
     "output_type": "display_data"
    },
    {
     "name": "stdout",
     "output_type": "stream",
     "text": [
      "\n",
      "('Total Number: ', 30584)\n",
      "('Total Number with start sites: ', 19947)\n",
      "('Fraction with start sites: ', 0.6522037666753858)\n",
      "CPU times: user 5min 23s, sys: 4.91 s, total: 5min 28s\n",
      "Wall time: 5min 17s\n"
     ]
    }
   ],
   "source": [
    "%%time\n",
    "peaks_file = 'Results/merged/peaks_with_tss_distances.tsv'\n",
    "peaks_expression_file = 'Results/merged/samples.merge.peaksexpression'\n",
    "\n",
    "\n",
    "df = annotation.wrap_create_anno_centric(peaks_file, peaks_expression_file, tss_file,\n",
    "                             peak_bin=(-1000, 1000), anno_col='Nearest TSS',\n",
    "                             tss_df_col='transcript_id',\n",
    "                             f_save='Results/tss_annotation/txn_df_02', allow_intron=False)\n",
    "\n"
   ]
  },
  {
   "cell_type": "code",
   "execution_count": 13,
   "metadata": {
    "ExecuteTime": {
     "end_time": "2019-01-22T00:41:17.049372Z",
     "start_time": "2019-01-22T00:39:21.851197Z"
    },
    "scrolled": true
   },
   "outputs": [
    {
     "name": "stderr",
     "output_type": "stream",
     "text": [
      "Widget Javascript not detected.  It may not be installed or enabled properly.\n"
     ]
    },
    {
     "data": {
      "application/vnd.jupyter.widget-view+json": {
       "model_id": "daf0c82fc701431e93a90e1efcb4f026"
      }
     },
     "metadata": {},
     "output_type": "display_data"
    },
    {
     "name": "stdout",
     "output_type": "stream",
     "text": [
      "\n"
     ]
    },
    {
     "data": {
      "text/html": [
       "<div>\n",
       "<style scoped>\n",
       "    .dataframe tbody tr th:only-of-type {\n",
       "        vertical-align: middle;\n",
       "    }\n",
       "\n",
       "    .dataframe tbody tr th {\n",
       "        vertical-align: top;\n",
       "    }\n",
       "\n",
       "    .dataframe thead th {\n",
       "        text-align: right;\n",
       "    }\n",
       "</style>\n",
       "<table border=\"1\" class=\"dataframe\">\n",
       "  <thead>\n",
       "    <tr style=\"text-align: right;\">\n",
       "      <th></th>\n",
       "      <th>f04_peaks/MiscOrgans_START1_and_MiscOrgans_startinput1</th>\n",
       "      <th>f04_peaks/Liver_START2_and_Liver_startinput1</th>\n",
       "      <th>f04_peaks/Brain_GROCap1_and_Brain_GRO1</th>\n",
       "      <th>f04_peaks/Liver_START1_and_Liver_startinput1</th>\n",
       "      <th>f04_peaks/Lung_GROCap1_and_Lung_GRO1</th>\n",
       "      <th>f04_peaks/Brain_START3_and_Brain_startinput1</th>\n",
       "      <th>f04_peaks/Heart_START1_and_Heart_startinput1</th>\n",
       "      <th>f04_peaks/CHO_GROCap2_and_CHO_GRO1</th>\n",
       "      <th>f04_peaks/Heart_START2_and_Heart_startinput1</th>\n",
       "      <th>f04_peaks/Liver_GROCap1_and_Liver_GRO1</th>\n",
       "      <th>...</th>\n",
       "      <th>f04_peaks/MiscOrgans_START2_and_MiscOrgans_startinput1</th>\n",
       "      <th>f04_peaks/Spleen_START1_and_Spleen_startinput1</th>\n",
       "      <th>f04_peaks/Lung_START2_and_Lung_startinput1</th>\n",
       "      <th>f04_peaks/CHO_START1_and_CHO_startinput1</th>\n",
       "      <th>f04_peaks/FemaleReproductive_START1_and_FemaleReproductive_startinput1</th>\n",
       "      <th>f04_peaks/Kidney_START2_and_Kidney_startinput1</th>\n",
       "      <th>f04_peaks/Kidney_GROCap1_and_Kidney_GRO1</th>\n",
       "      <th>f04_peaks/CHO_GROCap1_and_CHO_GRO1</th>\n",
       "      <th>f04_peaks/BMDMwt_GROCap1_and_BMDMwt_GRO1</th>\n",
       "      <th>f04_peaks/Spleen_START2_and_Spleen_startinput1</th>\n",
       "    </tr>\n",
       "  </thead>\n",
       "  <tbody>\n",
       "    <tr>\n",
       "      <th>XM_027386528.1</th>\n",
       "      <td>4.230000</td>\n",
       "      <td>248.50</td>\n",
       "      <td>3.010</td>\n",
       "      <td>0.000000</td>\n",
       "      <td>37.099998</td>\n",
       "      <td>4.390000</td>\n",
       "      <td>22.1</td>\n",
       "      <td>0.00</td>\n",
       "      <td>130.899994</td>\n",
       "      <td>4.49</td>\n",
       "      <td>...</td>\n",
       "      <td>5.17</td>\n",
       "      <td>32.400002</td>\n",
       "      <td>11864.599609</td>\n",
       "      <td>0.000000</td>\n",
       "      <td>37.799999</td>\n",
       "      <td>116.599998</td>\n",
       "      <td>35.099998</td>\n",
       "      <td>0.000</td>\n",
       "      <td>1.320000</td>\n",
       "      <td>7.320000</td>\n",
       "    </tr>\n",
       "    <tr>\n",
       "      <th>XM_027386531.1</th>\n",
       "      <td>3.380000</td>\n",
       "      <td>0.00</td>\n",
       "      <td>1.430</td>\n",
       "      <td>0.000000</td>\n",
       "      <td>0.000000</td>\n",
       "      <td>2.100000</td>\n",
       "      <td>0.0</td>\n",
       "      <td>0.00</td>\n",
       "      <td>0.000000</td>\n",
       "      <td>0.00</td>\n",
       "      <td>...</td>\n",
       "      <td>0.97</td>\n",
       "      <td>6.270000</td>\n",
       "      <td>0.000000</td>\n",
       "      <td>15.300000</td>\n",
       "      <td>1.730000</td>\n",
       "      <td>0.000000</td>\n",
       "      <td>0.000000</td>\n",
       "      <td>9.970</td>\n",
       "      <td>2.830000</td>\n",
       "      <td>0.000000</td>\n",
       "    </tr>\n",
       "    <tr>\n",
       "      <th>XM_027386533.1</th>\n",
       "      <td>0.000000</td>\n",
       "      <td>0.00</td>\n",
       "      <td>0.000</td>\n",
       "      <td>0.000000</td>\n",
       "      <td>0.000000</td>\n",
       "      <td>0.000000</td>\n",
       "      <td>0.0</td>\n",
       "      <td>0.00</td>\n",
       "      <td>0.000000</td>\n",
       "      <td>0.00</td>\n",
       "      <td>...</td>\n",
       "      <td>0.00</td>\n",
       "      <td>0.000000</td>\n",
       "      <td>0.000000</td>\n",
       "      <td>0.000000</td>\n",
       "      <td>0.000000</td>\n",
       "      <td>0.000000</td>\n",
       "      <td>0.000000</td>\n",
       "      <td>0.000</td>\n",
       "      <td>0.000000</td>\n",
       "      <td>0.000000</td>\n",
       "    </tr>\n",
       "    <tr>\n",
       "      <th>XM_027386534.1</th>\n",
       "      <td>5.920000</td>\n",
       "      <td>12.50</td>\n",
       "      <td>12.900</td>\n",
       "      <td>0.000000</td>\n",
       "      <td>8.690000</td>\n",
       "      <td>21.400000</td>\n",
       "      <td>7.7</td>\n",
       "      <td>9.80</td>\n",
       "      <td>12.000000</td>\n",
       "      <td>6.18</td>\n",
       "      <td>...</td>\n",
       "      <td>2.42</td>\n",
       "      <td>20.000000</td>\n",
       "      <td>57.200001</td>\n",
       "      <td>32.700001</td>\n",
       "      <td>22.000000</td>\n",
       "      <td>16.200001</td>\n",
       "      <td>3.670000</td>\n",
       "      <td>10.200</td>\n",
       "      <td>19.400000</td>\n",
       "      <td>5.940000</td>\n",
       "    </tr>\n",
       "    <tr>\n",
       "      <th>XM_027386535.1</th>\n",
       "      <td>44.599998</td>\n",
       "      <td>7.08</td>\n",
       "      <td>7.795</td>\n",
       "      <td>34.299999</td>\n",
       "      <td>8.380000</td>\n",
       "      <td>50.400002</td>\n",
       "      <td>31.1</td>\n",
       "      <td>20.42</td>\n",
       "      <td>11.200000</td>\n",
       "      <td>6.74</td>\n",
       "      <td>...</td>\n",
       "      <td>22.00</td>\n",
       "      <td>40.599998</td>\n",
       "      <td>146.800003</td>\n",
       "      <td>47.799999</td>\n",
       "      <td>19.799999</td>\n",
       "      <td>16.200001</td>\n",
       "      <td>8.540000</td>\n",
       "      <td>17.295</td>\n",
       "      <td>62.599998</td>\n",
       "      <td>87.300003</td>\n",
       "    </tr>\n",
       "  </tbody>\n",
       "</table>\n",
       "<p>5 rows × 35 columns</p>\n",
       "</div>"
      ],
      "text/plain": [
       "                f04_peaks/MiscOrgans_START1_and_MiscOrgans_startinput1  \\\n",
       "XM_027386528.1                                           4.230000        \n",
       "XM_027386531.1                                           3.380000        \n",
       "XM_027386533.1                                           0.000000        \n",
       "XM_027386534.1                                           5.920000        \n",
       "XM_027386535.1                                          44.599998        \n",
       "\n",
       "                f04_peaks/Liver_START2_and_Liver_startinput1  \\\n",
       "XM_027386528.1                                        248.50   \n",
       "XM_027386531.1                                          0.00   \n",
       "XM_027386533.1                                          0.00   \n",
       "XM_027386534.1                                         12.50   \n",
       "XM_027386535.1                                          7.08   \n",
       "\n",
       "                f04_peaks/Brain_GROCap1_and_Brain_GRO1  \\\n",
       "XM_027386528.1                                   3.010   \n",
       "XM_027386531.1                                   1.430   \n",
       "XM_027386533.1                                   0.000   \n",
       "XM_027386534.1                                  12.900   \n",
       "XM_027386535.1                                   7.795   \n",
       "\n",
       "                f04_peaks/Liver_START1_and_Liver_startinput1  \\\n",
       "XM_027386528.1                                      0.000000   \n",
       "XM_027386531.1                                      0.000000   \n",
       "XM_027386533.1                                      0.000000   \n",
       "XM_027386534.1                                      0.000000   \n",
       "XM_027386535.1                                     34.299999   \n",
       "\n",
       "                f04_peaks/Lung_GROCap1_and_Lung_GRO1  \\\n",
       "XM_027386528.1                             37.099998   \n",
       "XM_027386531.1                              0.000000   \n",
       "XM_027386533.1                              0.000000   \n",
       "XM_027386534.1                              8.690000   \n",
       "XM_027386535.1                              8.380000   \n",
       "\n",
       "                f04_peaks/Brain_START3_and_Brain_startinput1  \\\n",
       "XM_027386528.1                                      4.390000   \n",
       "XM_027386531.1                                      2.100000   \n",
       "XM_027386533.1                                      0.000000   \n",
       "XM_027386534.1                                     21.400000   \n",
       "XM_027386535.1                                     50.400002   \n",
       "\n",
       "                f04_peaks/Heart_START1_and_Heart_startinput1  \\\n",
       "XM_027386528.1                                          22.1   \n",
       "XM_027386531.1                                           0.0   \n",
       "XM_027386533.1                                           0.0   \n",
       "XM_027386534.1                                           7.7   \n",
       "XM_027386535.1                                          31.1   \n",
       "\n",
       "                f04_peaks/CHO_GROCap2_and_CHO_GRO1  \\\n",
       "XM_027386528.1                                0.00   \n",
       "XM_027386531.1                                0.00   \n",
       "XM_027386533.1                                0.00   \n",
       "XM_027386534.1                                9.80   \n",
       "XM_027386535.1                               20.42   \n",
       "\n",
       "                f04_peaks/Heart_START2_and_Heart_startinput1  \\\n",
       "XM_027386528.1                                    130.899994   \n",
       "XM_027386531.1                                      0.000000   \n",
       "XM_027386533.1                                      0.000000   \n",
       "XM_027386534.1                                     12.000000   \n",
       "XM_027386535.1                                     11.200000   \n",
       "\n",
       "                f04_peaks/Liver_GROCap1_and_Liver_GRO1  \\\n",
       "XM_027386528.1                                    4.49   \n",
       "XM_027386531.1                                    0.00   \n",
       "XM_027386533.1                                    0.00   \n",
       "XM_027386534.1                                    6.18   \n",
       "XM_027386535.1                                    6.74   \n",
       "\n",
       "                                     ...                        \\\n",
       "XM_027386528.1                       ...                         \n",
       "XM_027386531.1                       ...                         \n",
       "XM_027386533.1                       ...                         \n",
       "XM_027386534.1                       ...                         \n",
       "XM_027386535.1                       ...                         \n",
       "\n",
       "                f04_peaks/MiscOrgans_START2_and_MiscOrgans_startinput1  \\\n",
       "XM_027386528.1                                               5.17        \n",
       "XM_027386531.1                                               0.97        \n",
       "XM_027386533.1                                               0.00        \n",
       "XM_027386534.1                                               2.42        \n",
       "XM_027386535.1                                              22.00        \n",
       "\n",
       "                f04_peaks/Spleen_START1_and_Spleen_startinput1  \\\n",
       "XM_027386528.1                                       32.400002   \n",
       "XM_027386531.1                                        6.270000   \n",
       "XM_027386533.1                                        0.000000   \n",
       "XM_027386534.1                                       20.000000   \n",
       "XM_027386535.1                                       40.599998   \n",
       "\n",
       "                f04_peaks/Lung_START2_and_Lung_startinput1  \\\n",
       "XM_027386528.1                                11864.599609   \n",
       "XM_027386531.1                                    0.000000   \n",
       "XM_027386533.1                                    0.000000   \n",
       "XM_027386534.1                                   57.200001   \n",
       "XM_027386535.1                                  146.800003   \n",
       "\n",
       "                f04_peaks/CHO_START1_and_CHO_startinput1  \\\n",
       "XM_027386528.1                                  0.000000   \n",
       "XM_027386531.1                                 15.300000   \n",
       "XM_027386533.1                                  0.000000   \n",
       "XM_027386534.1                                 32.700001   \n",
       "XM_027386535.1                                 47.799999   \n",
       "\n",
       "                f04_peaks/FemaleReproductive_START1_and_FemaleReproductive_startinput1  \\\n",
       "XM_027386528.1                                          37.799999                        \n",
       "XM_027386531.1                                           1.730000                        \n",
       "XM_027386533.1                                           0.000000                        \n",
       "XM_027386534.1                                          22.000000                        \n",
       "XM_027386535.1                                          19.799999                        \n",
       "\n",
       "                f04_peaks/Kidney_START2_and_Kidney_startinput1  \\\n",
       "XM_027386528.1                                      116.599998   \n",
       "XM_027386531.1                                        0.000000   \n",
       "XM_027386533.1                                        0.000000   \n",
       "XM_027386534.1                                       16.200001   \n",
       "XM_027386535.1                                       16.200001   \n",
       "\n",
       "                f04_peaks/Kidney_GROCap1_and_Kidney_GRO1  \\\n",
       "XM_027386528.1                                 35.099998   \n",
       "XM_027386531.1                                  0.000000   \n",
       "XM_027386533.1                                  0.000000   \n",
       "XM_027386534.1                                  3.670000   \n",
       "XM_027386535.1                                  8.540000   \n",
       "\n",
       "                f04_peaks/CHO_GROCap1_and_CHO_GRO1  \\\n",
       "XM_027386528.1                               0.000   \n",
       "XM_027386531.1                               9.970   \n",
       "XM_027386533.1                               0.000   \n",
       "XM_027386534.1                              10.200   \n",
       "XM_027386535.1                              17.295   \n",
       "\n",
       "                f04_peaks/BMDMwt_GROCap1_and_BMDMwt_GRO1  \\\n",
       "XM_027386528.1                                  1.320000   \n",
       "XM_027386531.1                                  2.830000   \n",
       "XM_027386533.1                                  0.000000   \n",
       "XM_027386534.1                                 19.400000   \n",
       "XM_027386535.1                                 62.599998   \n",
       "\n",
       "                f04_peaks/Spleen_START2_and_Spleen_startinput1  \n",
       "XM_027386528.1                                        7.320000  \n",
       "XM_027386531.1                                        0.000000  \n",
       "XM_027386533.1                                        0.000000  \n",
       "XM_027386534.1                                        5.940000  \n",
       "XM_027386535.1                                       87.300003  \n",
       "\n",
       "[5 rows x 35 columns]"
      ]
     },
     "execution_count": 13,
     "metadata": {},
     "output_type": "execute_result"
    }
   ],
   "source": [
    "f_in = \"Results/tss_annotation/txn_df_02.p\"\n",
    "f_mat_in = 'Results/merged/samples.merge.peaksexpression'\n",
    "f_out = 'Results/tss_annotation/txn_df_02_matrix'\n",
    "txn_df_02_matrix = annotation.df_to_TSS_expression(f_in, f_mat_in, f_out=f_out)\n",
    "txn_df_02_matrix.head()"
   ]
  }
 ],
 "metadata": {
  "kernelspec": {
   "display_name": "Python 2",
   "language": "python",
   "name": "python2"
  },
  "language_info": {
   "codemirror_mode": {
    "name": "ipython",
    "version": 2
   },
   "file_extension": ".py",
   "mimetype": "text/x-python",
   "name": "python",
   "nbconvert_exporter": "python",
   "pygments_lexer": "ipython2",
   "version": "2.7.13"
  }
 },
 "nbformat": 4,
 "nbformat_minor": 2
}
