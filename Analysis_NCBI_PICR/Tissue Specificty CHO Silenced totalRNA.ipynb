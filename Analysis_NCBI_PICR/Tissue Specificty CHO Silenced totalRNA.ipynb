{
 "cells": [
  {
   "cell_type": "markdown",
   "metadata": {},
   "source": [
    "# 1. Library "
   ]
  },
  {
   "cell_type": "code",
   "execution_count": 1,
   "metadata": {
    "ExecuteTime": {
     "end_time": "2019-10-07T23:58:19.391096Z",
     "start_time": "2019-10-07T23:58:18.700418Z"
    }
   },
   "outputs": [
    {
     "name": "stdout",
     "output_type": "stream",
     "text": [
      "('Number of tissues: ', 13)\n"
     ]
    }
   ],
   "source": [
    "## Parameters specific to where your folders are and your data\n",
    "parameter_file = 'params/params.yaml'\n",
    "import yaml\n",
    "import sys\n",
    "\n",
    "with open(parameter_file,'r') as f:\n",
    "    doc = yaml.load(f)\n",
    "\n",
    "#p = dic2obj(**doc)\n",
    "\n",
    "data_folder = doc['data_folder']\n",
    "tissues = doc['tissues'].split(',')\n",
    "sys.path.append(doc['pipeline_path'])\n",
    "ref_fa = doc['ref_fa']\n",
    "anno_gff=doc['annotation']\n",
    "mRNA_peak_file = doc[\"mRNA_peak_file\"]\n",
    "\n",
    "tss_annotation = doc['tss_annotation']\n",
    "\n",
    "\n",
    "import os\n",
    "import sys\n",
    "import pandas as pd\n",
    "import matplotlib\n",
    "import seaborn as sns\n",
    "import pickle\n",
    "import numpy as np\n",
    "import matplotlib as mpl\n",
    "from matplotlib import pyplot as plt\n",
    "from itertools import product\n",
    "import glob\n",
    "import re\n",
    "from matplotlib_venn import venn2\n",
    "from matplotlib import rcParams\n",
    "import inspect\n",
    "%matplotlib inline\n",
    "%config InlineBackend.figure_format = 'retina'\n",
    "sys.setrecursionlimit(3000)\n",
    "%load_ext autoreload\n",
    "%autoreload 2\n",
    "rcParams['figure.figsize'] = 8, 6\n",
    "import tqdm\n",
    "\n",
    "from os.path import basename\n",
    "##mpl.use('Agg')\n",
    "#mpl.style.use('ggplot')\n",
    "#mpl.style.use('fivethirtyeight')\n",
    "from Homer import *\n",
    "import plot_tss_results\n",
    "print('Number of tissues: ',len(tissues))\n",
    "\n",
    "from scipy.stats import zscore\n",
    "from scipy.stats import iqr"
   ]
  },
  {
   "cell_type": "code",
   "execution_count": null,
   "metadata": {
    "ExecuteTime": {
     "start_time": "2019-10-07T23:58:18.692Z"
    },
    "collapsed": true
   },
   "outputs": [],
   "source": [
    "save_dir = \"Results/Figures/Silenced_CHO\"\n",
    "if not os.path.exists(save_dir):\n",
    "    os.mkdir(save_dir)"
   ]
  },
  {
   "cell_type": "markdown",
   "metadata": {},
   "source": [
    "# 2. Load and Preprocessing"
   ]
  },
  {
   "cell_type": "markdown",
   "metadata": {},
   "source": [
    "## Read in expression matrix"
   ]
  },
  {
   "cell_type": "code",
   "execution_count": null,
   "metadata": {
    "ExecuteTime": {
     "start_time": "2019-10-07T23:58:18.720Z"
    },
    "scrolled": true
   },
   "outputs": [],
   "source": [
    "cho_rna_file = doc[\"cho_rna_file\"]\n",
    "cho_rna = pd.read_csv(cho_rna_file,sep=\"\\t\",index_col=0)\n",
    "cho_rna = cho_rna.iloc[:,1:]\n",
    "cho_rna = np.log10(cho_rna+1)\n",
    "cho_rna"
   ]
  },
  {
   "cell_type": "code",
   "execution_count": null,
   "metadata": {
    "ExecuteTime": {
     "start_time": "2019-10-07T23:58:18.733Z"
    },
    "scrolled": true
   },
   "outputs": [],
   "source": [
    "old_mrna = pd.read_csv(\"/data/isshamie/genome/picr_final/mRNA_final.peak\",sep=\"\\t\")\n",
    "old_mrna"
   ]
  },
  {
   "cell_type": "code",
   "execution_count": null,
   "metadata": {
    "ExecuteTime": {
     "start_time": "2019-10-07T23:58:18.734Z"
    },
    "collapsed": true
   },
   "outputs": [],
   "source": [
    "cho_rna_gnames = cho_rna.groupby(old_mrna.set_index([\"gene_id\"],)[\"gene\"].to_dict()).max()"
   ]
  },
  {
   "cell_type": "code",
   "execution_count": null,
   "metadata": {
    "ExecuteTime": {
     "start_time": "2019-10-07T23:58:18.750Z"
    },
    "scrolled": true
   },
   "outputs": [],
   "source": [
    "cho_rna_gnames"
   ]
  },
  {
   "cell_type": "code",
   "execution_count": 3,
   "metadata": {
    "ExecuteTime": {
     "end_time": "2019-10-07T20:05:35.660565Z",
     "start_time": "2019-10-07T20:05:34.699388Z"
    },
    "deletable": false,
    "editable": false,
    "run_control": {
     "frozen": true
    },
    "scrolled": true
   },
   "outputs": [
    {
     "data": {
      "text/html": [
       "<div>\n",
       "<style scoped>\n",
       "    .dataframe tbody tr th:only-of-type {\n",
       "        vertical-align: middle;\n",
       "    }\n",
       "\n",
       "    .dataframe tbody tr th {\n",
       "        vertical-align: top;\n",
       "    }\n",
       "\n",
       "    .dataframe thead th {\n",
       "        text-align: right;\n",
       "    }\n",
       "</style>\n",
       "<table border=\"1\" class=\"dataframe\">\n",
       "  <thead>\n",
       "    <tr style=\"text-align: right;\">\n",
       "      <th></th>\n",
       "      <th>Heart</th>\n",
       "      <th>Spleen</th>\n",
       "      <th>MiscOrgans</th>\n",
       "      <th>FemaleReproductive</th>\n",
       "      <th>CHO</th>\n",
       "      <th>BMDM1hKLA</th>\n",
       "      <th>Brain</th>\n",
       "      <th>Lung</th>\n",
       "      <th>Liver</th>\n",
       "      <th>BMDMwt</th>\n",
       "      <th>Muscle</th>\n",
       "      <th>Kidney</th>\n",
       "      <th>Pancreas</th>\n",
       "    </tr>\n",
       "  </thead>\n",
       "  <tbody>\n",
       "    <tr>\n",
       "      <th>0</th>\n",
       "      <td>0.213256</td>\n",
       "      <td>0.000000</td>\n",
       "      <td>0.191009</td>\n",
       "      <td>0.177054</td>\n",
       "      <td>1.379905</td>\n",
       "      <td>1.93044</td>\n",
       "      <td>0.192445</td>\n",
       "      <td>0.292457</td>\n",
       "      <td>0.000000</td>\n",
       "      <td>0.000000</td>\n",
       "      <td>0.192803</td>\n",
       "      <td>0.289548</td>\n",
       "      <td>0.000000</td>\n",
       "    </tr>\n",
       "    <tr>\n",
       "      <th>1</th>\n",
       "      <td>0.000000</td>\n",
       "      <td>0.569562</td>\n",
       "      <td>0.658306</td>\n",
       "      <td>0.704879</td>\n",
       "      <td>0.000000</td>\n",
       "      <td>0.00000</td>\n",
       "      <td>0.365353</td>\n",
       "      <td>0.875756</td>\n",
       "      <td>0.211156</td>\n",
       "      <td>0.000000</td>\n",
       "      <td>0.160073</td>\n",
       "      <td>0.206016</td>\n",
       "      <td>0.000000</td>\n",
       "    </tr>\n",
       "    <tr>\n",
       "      <th>2</th>\n",
       "      <td>0.000000</td>\n",
       "      <td>0.272654</td>\n",
       "      <td>0.191009</td>\n",
       "      <td>0.650337</td>\n",
       "      <td>1.269450</td>\n",
       "      <td>0.00000</td>\n",
       "      <td>0.285237</td>\n",
       "      <td>0.440272</td>\n",
       "      <td>0.000000</td>\n",
       "      <td>0.823474</td>\n",
       "      <td>0.252575</td>\n",
       "      <td>0.377071</td>\n",
       "      <td>0.299942</td>\n",
       "    </tr>\n",
       "    <tr>\n",
       "      <th>3</th>\n",
       "      <td>0.213256</td>\n",
       "      <td>0.583265</td>\n",
       "      <td>0.592983</td>\n",
       "      <td>0.556972</td>\n",
       "      <td>0.347363</td>\n",
       "      <td>0.00000</td>\n",
       "      <td>0.633209</td>\n",
       "      <td>0.256951</td>\n",
       "      <td>0.000000</td>\n",
       "      <td>0.537819</td>\n",
       "      <td>0.300486</td>\n",
       "      <td>0.216445</td>\n",
       "      <td>0.380588</td>\n",
       "    </tr>\n",
       "    <tr>\n",
       "      <th>4</th>\n",
       "      <td>0.858835</td>\n",
       "      <td>1.743575</td>\n",
       "      <td>1.998797</td>\n",
       "      <td>1.218955</td>\n",
       "      <td>0.698374</td>\n",
       "      <td>0.00000</td>\n",
       "      <td>1.707621</td>\n",
       "      <td>0.729080</td>\n",
       "      <td>0.945703</td>\n",
       "      <td>0.642465</td>\n",
       "      <td>1.198361</td>\n",
       "      <td>0.838893</td>\n",
       "      <td>1.141651</td>\n",
       "    </tr>\n",
       "  </tbody>\n",
       "</table>\n",
       "</div>"
      ],
      "text/plain": [
       "      Heart    Spleen  MiscOrgans  FemaleReproductive       CHO  BMDM1hKLA  \\\n",
       "0  0.213256  0.000000    0.191009            0.177054  1.379905    1.93044   \n",
       "1  0.000000  0.569562    0.658306            0.704879  0.000000    0.00000   \n",
       "2  0.000000  0.272654    0.191009            0.650337  1.269450    0.00000   \n",
       "3  0.213256  0.583265    0.592983            0.556972  0.347363    0.00000   \n",
       "4  0.858835  1.743575    1.998797            1.218955  0.698374    0.00000   \n",
       "\n",
       "      Brain      Lung     Liver    BMDMwt    Muscle    Kidney  Pancreas  \n",
       "0  0.192445  0.292457  0.000000  0.000000  0.192803  0.289548  0.000000  \n",
       "1  0.365353  0.875756  0.211156  0.000000  0.160073  0.206016  0.000000  \n",
       "2  0.285237  0.440272  0.000000  0.823474  0.252575  0.377071  0.299942  \n",
       "3  0.633209  0.256951  0.000000  0.537819  0.300486  0.216445  0.380588  \n",
       "4  1.707621  0.729080  0.945703  0.642465  1.198361  0.838893  1.141651  "
      ]
     },
     "execution_count": 3,
     "metadata": {},
     "output_type": "execute_result"
    }
   ],
   "source": [
    "tissues_expr = pd.read_csv(\"Results/merged/tissues.merge.peaksexpression.log10\",sep=\"\\t\",index_col=0)\n",
    "tissues_expr.head()"
   ]
  },
  {
   "cell_type": "code",
   "execution_count": null,
   "metadata": {
    "ExecuteTime": {
     "start_time": "2019-10-07T23:58:18.762Z"
    },
    "scrolled": true
   },
   "outputs": [],
   "source": [
    "gene_tissue = pd.DataFrame(index=tss_meta[\"Gene\"].unique(), columns=prom_tissue.columns, dtype=float)\n",
    "for ind, val in tqdm.tqdm_notebook(tss_meta.groupby(\"Gene\")):\n",
    "    gene_tissue.loc[ind] = prom_tissue.loc[prom_tissue.loc[val.index].sum(axis=1).idxmax()]\n",
    "    \n",
    "    \n",
    "gene_tissue"
   ]
  },
  {
   "cell_type": "markdown",
   "metadata": {},
   "source": [
    "# 3. Filter to genes of interest: DNA repair genes"
   ]
  },
  {
   "cell_type": "code",
   "execution_count": null,
   "metadata": {
    "ExecuteTime": {
     "start_time": "2019-10-07T23:58:18.766Z"
    }
   },
   "outputs": [],
   "source": [
    "with open(\"../supplemental/dna_repair_genes/03_DNA_repair_genes.hamster.final.txt\",\"r\") as f:\n",
    "    repair_genes = [line.rstrip() for line in f]\n",
    "    \n",
    "#repair_genes = list(map(lambda x: x.upper(),repair_genes))\n",
    "repair_genes"
   ]
  },
  {
   "cell_type": "code",
   "execution_count": null,
   "metadata": {
    "ExecuteTime": {
     "start_time": "2019-10-07T23:58:18.767Z"
    },
    "scrolled": true
   },
   "outputs": [],
   "source": [
    "tss_meta_dna_repair = tss_meta[tss_meta[\"Gene\"].isin(repair_genes)][\"Gene\"].unique()\n",
    "\n",
    "print(\"Number of repair genes in annotation\", len(tss_meta[tss_meta[\"Gene\"].isin(repair_genes)][\"Gene\"].unique()))\n",
    "print(\"Number of overall repair genes\", len(np.unique(np.array(repair_genes))))\n",
    "\n",
    "not_found_in_anno = []\n",
    "for i in repair_genes:\n",
    "    if i not in tss_meta[\"Gene\"].values:\n",
    "        not_found_in_anno.append(i)\n",
    "\n",
    "print(\"Number of repair genes not found in annotation\", len(not_found_in_anno))\n"
   ]
  },
  {
   "cell_type": "code",
   "execution_count": null,
   "metadata": {
    "ExecuteTime": {
     "start_time": "2019-10-07T23:58:18.768Z"
    },
    "collapsed": true
   },
   "outputs": [],
   "source": [
    "gene_tissue = gene_tissue[gene_tissue.index.isin(repair_genes)]"
   ]
  },
  {
   "cell_type": "markdown",
   "metadata": {},
   "source": [
    "# 4. Extract silenced Genes"
   ]
  },
  {
   "cell_type": "markdown",
   "metadata": {},
   "source": [
    "## Calculate Z-score over tissues"
   ]
  },
  {
   "cell_type": "code",
   "execution_count": null,
   "metadata": {
    "ExecuteTime": {
     "start_time": "2019-10-07T23:58:18.772Z"
    },
    "scrolled": true
   },
   "outputs": [],
   "source": [
    "gene_tissue_z = gene_tissue.apply(zscore,axis=1,result_type='broadcast') #gene_tissue.apply(lambda x) zscore(gene_tissue, axis=1)\n",
    "gene_tissue_z.sum(axis=1)"
   ]
  },
  {
   "cell_type": "markdown",
   "metadata": {},
   "source": [
    "## A. See CHO Genes 2SD below mean "
   ]
  },
  {
   "cell_type": "code",
   "execution_count": null,
   "metadata": {
    "ExecuteTime": {
     "start_time": "2019-10-07T23:58:18.778Z"
    },
    "scrolled": true
   },
   "outputs": [],
   "source": [
    "silenced_cho_2sd = gene_tissue_z[gene_tissue_z[\"CHO\"] < -2]\n",
    "silenced_cho_2sd"
   ]
  },
  {
   "cell_type": "markdown",
   "metadata": {},
   "source": [
    "## Get CHO less than 1 TPM"
   ]
  },
  {
   "cell_type": "code",
   "execution_count": null,
   "metadata": {
    "ExecuteTime": {
     "start_time": "2019-10-07T23:58:18.781Z"
    }
   },
   "outputs": [],
   "source": [
    "pseudocount = 1 # This is b/c 1 was added to TPM in log when taking the average\n",
    "silenced_cho_1tpm = gene_tissue.loc[gene_tissue[\"CHO\"] < np.log10(1+pseudocount)].index\n",
    "print(\"Number of CHO genes less than 1TPM:\", len(silenced_cho_1tpm))\n",
    "silenced_cho_1tpm"
   ]
  },
  {
   "cell_type": "markdown",
   "metadata": {},
   "source": [
    "## B and C. More than 75% /100% of the other tissues are on"
   ]
  },
  {
   "cell_type": "code",
   "execution_count": null,
   "metadata": {
    "ExecuteTime": {
     "start_time": "2019-10-07T23:58:18.783Z"
    }
   },
   "outputs": [],
   "source": [
    "n_samples = len(gene_tissue.columns)-1 # Remove CHO\n",
    "cutoffs = dict()\n",
    "gene_tissue_silenced = gene_tissue.drop([\"CHO\"],axis=1) < np.log10(1+pseudocount)\n",
    "\n",
    "num_tissues_silenced = gene_tissue_silenced.sum(axis=1)\n",
    "cutoffs[75] = num_tissues_silenced[num_tissues_silenced < (1-0.75)*n_samples].index\n",
    "cutoffs[90] = num_tissues_silenced[num_tissues_silenced < (1-0.9)*n_samples].index\n",
    "\n",
    "cutoffs[100] = num_tissues_silenced[num_tissues_silenced ==0].index\n",
    "\n",
    "\n",
    "\n",
    "\n",
    "cho_75 = set(silenced_cho_1tpm).intersection(cutoffs[75])\n",
    "cho_90 = set(silenced_cho_1tpm).intersection(cutoffs[90])\n",
    "cho_100 = set(silenced_cho_1tpm).intersection(cutoffs[100])\n",
    "\n",
    "print(\"75th percentile number of silenced genes:\", len(cho_75))\n",
    "print(\"90th percentile number of silenced genes:\", len(cho_90))\n",
    "print(\"100th percentile number of silenced genes:\", len(cho_100))"
   ]
  },
  {
   "cell_type": "markdown",
   "metadata": {},
   "source": [
    "## D. CHO IQR outlier "
   ]
  },
  {
   "cell_type": "code",
   "execution_count": null,
   "metadata": {
    "ExecuteTime": {
     "start_time": "2019-10-07T23:58:18.786Z"
    }
   },
   "outputs": [],
   "source": [
    "gene_iqr = iqr(gene_tissue,axis=1)\n",
    "lower_quart = np.percentile(gene_tissue,25,axis=1)\n",
    "iqr_outlier_thresh = lower_quart - gene_iqr*1.5\n",
    "\n",
    "silenced_cho_1tpm_iqr_outlier = gene_tissue[gene_tissue[\"CHO\"] < iqr_outlier_thresh].index\n",
    "print(\"Number of genes: \", len(silenced_cho_1tpm_iqr_outlier))\n",
    "silenced_cho_1tpm_iqr_outlier"
   ]
  },
  {
   "cell_type": "code",
   "execution_count": null,
   "metadata": {
    "ExecuteTime": {
     "start_time": "2019-10-07T23:58:18.788Z"
    }
   },
   "outputs": [],
   "source": [
    "outlier_methods_df = pd.DataFrame(\n",
    "    index=[\"Genes\", \"Number of Genes\"],\n",
    "    columns=[\n",
    "        \"IQR\", \"1TPM\", \"1TPM and 75 percent tissues on\",\n",
    "        \"1TPM and 90 percent tissues on\", \"1TPM and 100 percent tissues on\",\n",
    "        \"Zscore -2\"\n",
    "    ])\n",
    "\n",
    "outlier_methods_df.loc[\"Number of Genes\"] = [\n",
    "    len(silenced_cho_1tpm_iqr_outlier),\n",
    "    len(silenced_cho_1tpm),\n",
    "    len(cho_75),\n",
    "    len(cho_90),\n",
    "    len(cho_100), \n",
    "    len(silenced_cho_2sd)\n",
    "]\n",
    "outlier_methods_df.loc[\"Genes\"] = [\n",
    "    set(silenced_cho_1tpm_iqr_outlier),\n",
    "    set(silenced_cho_1tpm), cho_75, cho_90, cho_100, set(silenced_cho_2sd.index.values)\n",
    "]\n",
    "outlier_methods_df"
   ]
  },
  {
   "cell_type": "markdown",
   "metadata": {},
   "source": [
    "# 5. Plot silenced genes values"
   ]
  },
  {
   "cell_type": "code",
   "execution_count": null,
   "metadata": {
    "ExecuteTime": {
     "start_time": "2019-10-07T23:58:18.793Z"
    },
    "scrolled": true
   },
   "outputs": [],
   "source": [
    "for col in outlier_methods_df.columns.values:\n",
    "    curr_order = gene_tissue.loc[outlier_methods_df.loc[\"Genes\",col]].apply(lambda x: x.sum(), axis=1).sort_values().index\n",
    "    curr_genes = gene_tissue.loc[curr_order]\n",
    "    zip(range(len(curr_genes)), curr_genes.index)\n",
    "\n",
    "    # Construct scatter values\n",
    "    cho_scatter_x = []\n",
    "    cho_scatter_y = []\n",
    "    tissue_scatter_x = []\n",
    "    tissue_scatter_y = []\n",
    "    n_tissues = curr_genes.shape[1] - 1\n",
    "    for i in zip(range(len(curr_genes)), curr_genes.index):\n",
    "        cho_scatter_y.append(i[0])\n",
    "        cho_scatter_x.append(gene_tissue.loc[i[1],\"CHO\"])\n",
    "        tissue_scatter_y += [i[0]] * n_tissues\n",
    "        tissue_scatter_x += list(gene_tissue.drop(\"CHO\",axis=1).loc[i[1]].values)\n",
    "\n",
    "\n",
    "    f, ax = plt.subplots()\n",
    "    ax.scatter(cho_scatter_x,cho_scatter_y,color=\"g\")\n",
    "    ax.scatter(tissue_scatter_x,tissue_scatter_y)\n",
    "\n",
    "    plt.ylabel(\"Gene\")\n",
    "    plt.xlabel(\"Log10(TPM+1)\")\n",
    "    ax.set_yticks(range(len(cho_scatter_y)))\n",
    "    ax.set_yticklabels(curr_genes.index.values);\n",
    "    plt.title(col);\n",
    "    plt.legend([\"CHO\",\"Other\"])\n",
    "    name =os.path.join(save_dir,\"repair_genes_method_\" + col.replace(\" \",\"\"))\n",
    "    plt.savefig(name+\".png\")\n",
    "    #gene_tissue.loc[]\n",
    "    curr_genes.to_csv(name + \".txt\")\n",
    "#     with open(name+\".txt\",\"w\") as f:\n",
    "        \n",
    "#         f.write(\"\\n\".join(list(curr_genes.index.values)))"
   ]
  },
  {
   "cell_type": "markdown",
   "metadata": {},
   "source": [
    "# 6. Overlap of genes across the different thresholding methods"
   ]
  },
  {
   "cell_type": "markdown",
   "metadata": {},
   "source": [
    "## Plot the two"
   ]
  },
  {
   "cell_type": "raw",
   "metadata": {},
   "source": [
    "### Without removing 0s"
   ]
  }
 ],
 "metadata": {
  "kernelspec": {
   "display_name": "Python 2",
   "language": "python",
   "name": "python2"
  },
  "language_info": {
   "codemirror_mode": {
    "name": "ipython",
    "version": 2
   },
   "file_extension": ".py",
   "mimetype": "text/x-python",
   "name": "python",
   "nbconvert_exporter": "python",
   "pygments_lexer": "ipython2",
   "version": "2.7.15"
  }
 },
 "nbformat": 4,
 "nbformat_minor": 2
}
