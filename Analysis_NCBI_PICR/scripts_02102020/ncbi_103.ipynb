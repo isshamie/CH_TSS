{
 "cells": [
  {
   "cell_type": "code",
   "execution_count": 1,
   "metadata": {
    "ExecuteTime": {
     "end_time": "2020-02-27T05:56:47.070069Z",
     "start_time": "2020-02-27T05:56:45.708221Z"
    }
   },
   "outputs": [
    {
     "name": "stderr",
     "output_type": "stream",
     "text": [
      "/home/isshamie/software/anaconda2/envs/TSS/lib/python3.7/site-packages/ipykernel_launcher.py:7: YAMLLoadWarning: calling yaml.load() without Loader=... is deprecated, as the default Loader is unsafe. Please read https://msg.pyyaml.org/load for full details.\n",
      "  import sys\n"
     ]
    },
    {
     "name": "stdout",
     "output_type": "stream",
     "text": [
      "Number of tissues:  13\n"
     ]
    }
   ],
   "source": [
    "## Parameters specific to where your folders are and your data\n",
    "parameter_file = '../params/params.yaml'\n",
    "import yaml\n",
    "import sys\n",
    "\n",
    "with open(parameter_file,'r') as f:\n",
    "    doc = yaml.load(f)\n",
    "\n",
    "#p = dic2obj(**doc)\n",
    "\n",
    "data_folder = doc['data_folder']\n",
    "tissues = doc['tissues'].split(',')\n",
    "sys.path.append(doc['pipeline_path'])\n",
    "ref_fa = doc['ref_fa']\n",
    "anno_gff=doc['annotation']\n",
    "mRNA_peak_file = doc[\"mRNA_peak_file\"]\n",
    "\n",
    "tss_annotation = doc['tss_annotation']\n",
    "\n",
    "import tqdm\n",
    "import os\n",
    "from os.path import join\n",
    "import sys\n",
    "import pandas as pd\n",
    "import matplotlib\n",
    "import seaborn as sns\n",
    "import pickle\n",
    "import numpy as np\n",
    "import matplotlib as mpl\n",
    "from matplotlib import pyplot as plt\n",
    "from itertools import product\n",
    "import glob\n",
    "import re\n",
    "from matplotlib_venn import venn2\n",
    "from matplotlib import rcParams\n",
    "import inspect\n",
    "%matplotlib inline\n",
    "%config InlineBackend.figure_format = 'retina'\n",
    "sys.setrecursionlimit(3000)\n",
    "%load_ext autoreload\n",
    "%autoreload 2\n",
    "rcParams['figure.figsize'] = 8, 6\n",
    "from tqdm import *\n",
    "from os.path import basename\n",
    "##mpl.use('Agg')\n",
    "#mpl.style.use('ggplot')\n",
    "#mpl.style.use('fivethirtyeight')\n",
    "from Homer import *\n",
    "import helper\n",
    "import create_output\n",
    "print('Number of tissues: ',len(tissues))\n",
    "\n",
    "from collections import Counter\n"
   ]
  },
  {
   "cell_type": "code",
   "execution_count": 2,
   "metadata": {
    "ExecuteTime": {
     "end_time": "2020-02-27T05:56:47.143371Z",
     "start_time": "2020-02-27T05:56:47.074007Z"
    },
    "scrolled": true
   },
   "outputs": [],
   "source": [
    "# import os\n",
    "# import sys\n",
    "# import pandas as pd\n",
    "# import matplotlib\n",
    "# import seaborn as sns\n",
    "# import pickle\n",
    "# import numpy as np\n",
    "# import matplotlib as mpl\n",
    "# from matplotlib import pyplot as plt\n",
    "# from itertools import product\n",
    "# import glob\n",
    "# import re\n",
    "# from matplotlib_venn import venn2\n",
    "# from matplotlib import rcParams\n",
    "# %matplotlib inline\n",
    "# %config InlineBackend.figure_format = 'retina'\n",
    "# sys.setrecursionlimit(3000)\n",
    "# sns.set_context('notebook')\n",
    "# %load_ext autoreload\n",
    "# %autoreload 2\n",
    "# rcParams['figure.figsize'] = 8, 6\n",
    "# rcParams['font.family'] = 'sans-serif'\n",
    "# rcParams['font.sans-serif'] = ['Tahoma']\n",
    "# import tqdm\n",
    "# ### notebook specific configuration ###\n",
    "# from os.path import basename\n",
    "# mpl.style.use('fivethirtyeight')"
   ]
  },
  {
   "cell_type": "code",
   "execution_count": 3,
   "metadata": {
    "ExecuteTime": {
     "end_time": "2020-02-27T05:56:47.178828Z",
     "start_time": "2020-02-27T05:56:47.146915Z"
    }
   },
   "outputs": [],
   "source": [
    "from os.path import join"
   ]
  },
  {
   "cell_type": "code",
   "execution_count": 4,
   "metadata": {
    "ExecuteTime": {
     "end_time": "2020-02-27T05:56:47.208158Z",
     "start_time": "2020-02-27T05:56:47.181891Z"
    }
   },
   "outputs": [],
   "source": [
    "from Homer import *"
   ]
  },
  {
   "cell_type": "markdown",
   "metadata": {},
   "source": [
    "## Input Files"
   ]
  },
  {
   "cell_type": "code",
   "execution_count": 5,
   "metadata": {
    "ExecuteTime": {
     "end_time": "2020-02-27T05:56:47.231803Z",
     "start_time": "2020-02-27T05:56:47.210143Z"
    }
   },
   "outputs": [],
   "source": [
    "genome_raw_dir = os.path.join(doc[\"supplemental\"], \"genome\", \"ncbi_anno_103\")\n",
    "ref_fa = os.path.join(genome_raw_dir,'GCF_003668045.1_CriGri-PICR_genomic.fna')\n",
    "annotation = os.path.join(genome_raw_dir,'alt_CriGri-PICR_top_level.gff3')\n",
    "                      "
   ]
  },
  {
   "cell_type": "markdown",
   "metadata": {},
   "source": [
    "## Output files"
   ]
  },
  {
   "cell_type": "code",
   "execution_count": 6,
   "metadata": {
    "ExecuteTime": {
     "end_time": "2020-02-27T05:56:47.255849Z",
     "start_time": "2020-02-27T05:56:47.234111Z"
    }
   },
   "outputs": [],
   "source": [
    "genome_dir = \"Results/genome/\"\n",
    "if not os.path.exists(genome_dir):\n",
    "    os.mkdir(genome_dir)"
   ]
  },
  {
   "cell_type": "code",
   "execution_count": 7,
   "metadata": {
    "ExecuteTime": {
     "end_time": "2020-02-27T05:56:47.300222Z",
     "start_time": "2020-02-27T05:56:47.259174Z"
    }
   },
   "outputs": [],
   "source": [
    "ref_start_f = join(genome_dir,'start_site_mRNA.tsv')\n",
    "mrna_peak = join(genome_dir,'mRNA.peak')\n",
    "exon_peak = join(genome_dir,'exon.peak')\n",
    "cds_peak = join(genome_dir,'CDS.peak')\n",
    "\n",
    "cds_bed = join(genome_dir, 'CDS.bed')\n",
    "mrna_bed = join(genome_dir,'mRNA.bed')\n",
    "cds_gff = join(genome_dir, 'CDS.gff')\n",
    "mrna_gff = join(genome_dir, 'mRNA.gff')\n",
    "\n",
    "all_genes_f = join(genome_dir,\"all_genes.tsv\")\n",
    "ref_start_homer_f= join(genome_dir,'start_site_mRNA_homer.tsv')"
   ]
  },
  {
   "cell_type": "markdown",
   "metadata": {},
   "source": [
    "### Create a mock peak file of the RefSeq mRNA and exons to be used later"
   ]
  },
  {
   "cell_type": "code",
   "execution_count": 8,
   "metadata": {
    "ExecuteTime": {
     "end_time": "2020-02-27T05:59:57.756294Z",
     "start_time": "2020-02-27T05:56:47.304706Z"
    },
    "scrolled": true
   },
   "outputs": [],
   "source": [
    "createPeakFileFromGFF(\n",
    "    annotation,\n",
    "    output_file=mrna_peak,\n",
    "    anno_of_interest='mRNA',\n",
    "    is_start=True)\n",
    "\n",
    "createPeakFileFromGFF(\n",
    "    annotation,\n",
    "    output_file=exon_peak,\n",
    "    anno_of_interest='exon',\n",
    "    is_start=True)\n",
    "\n",
    "createPeakFileFromGFF(\n",
    "    annotation,\n",
    "    output_file=cds_peak,\n",
    "    anno_of_interest='CDS',\n",
    "    is_start=True)"
   ]
  },
  {
   "cell_type": "markdown",
   "metadata": {},
   "source": [
    "### Read in mrna_peak and separate the gene information"
   ]
  },
  {
   "cell_type": "code",
   "execution_count": 9,
   "metadata": {
    "ExecuteTime": {
     "end_time": "2020-02-27T06:00:04.316658Z",
     "start_time": "2020-02-27T05:59:57.758998Z"
    },
    "code_folding": [],
    "scrolled": true
   },
   "outputs": [
    {
     "name": "stderr",
     "output_type": "stream",
     "text": [
      "/home/isshamie/software/anaconda2/envs/TSS/lib/python3.7/site-packages/ipykernel_launcher.py:7: FutureWarning: set_value is deprecated and will be removed in a future release. Please use .at[] or .iat[] accessors instead\n",
      "  import sys\n"
     ]
    },
    {
     "data": {
      "text/html": [
       "<div>\n",
       "<style scoped>\n",
       "    .dataframe tbody tr th:only-of-type {\n",
       "        vertical-align: middle;\n",
       "    }\n",
       "\n",
       "    .dataframe tbody tr th {\n",
       "        vertical-align: top;\n",
       "    }\n",
       "\n",
       "    .dataframe thead th {\n",
       "        text-align: right;\n",
       "    }\n",
       "</style>\n",
       "<table border=\"1\" class=\"dataframe\">\n",
       "  <thead>\n",
       "    <tr style=\"text-align: right;\">\n",
       "      <th></th>\n",
       "      <th>Chr</th>\n",
       "      <th>Start</th>\n",
       "      <th>End</th>\n",
       "      <th>Strand</th>\n",
       "      <th>actual_start</th>\n",
       "      <th>ID</th>\n",
       "      <th>Parent</th>\n",
       "      <th>Dbxref</th>\n",
       "      <th>Name</th>\n",
       "      <th>gbkey</th>\n",
       "      <th>gene</th>\n",
       "      <th>model_evidence</th>\n",
       "      <th>product</th>\n",
       "      <th>Note</th>\n",
       "      <th>exception</th>\n",
       "      <th>end_range</th>\n",
       "      <th>partial</th>\n",
       "      <th>start_range</th>\n",
       "      <th>inference</th>\n",
       "    </tr>\n",
       "    <tr>\n",
       "      <th>transcript_id</th>\n",
       "      <th></th>\n",
       "      <th></th>\n",
       "      <th></th>\n",
       "      <th></th>\n",
       "      <th></th>\n",
       "      <th></th>\n",
       "      <th></th>\n",
       "      <th></th>\n",
       "      <th></th>\n",
       "      <th></th>\n",
       "      <th></th>\n",
       "      <th></th>\n",
       "      <th></th>\n",
       "      <th></th>\n",
       "      <th></th>\n",
       "      <th></th>\n",
       "      <th></th>\n",
       "      <th></th>\n",
       "      <th></th>\n",
       "    </tr>\n",
       "  </thead>\n",
       "  <tbody>\n",
       "    <tr>\n",
       "      <td>XM_027386529.1</td>\n",
       "      <td>NW_020822366.1</td>\n",
       "      <td>722307</td>\n",
       "      <td>722309</td>\n",
       "      <td>-</td>\n",
       "      <td>722309</td>\n",
       "      <td>rna7</td>\n",
       "      <td>gene4</td>\n",
       "      <td>GeneID:100754303,Genbank:XM_027386529.1</td>\n",
       "      <td>XM_027386529.1</td>\n",
       "      <td>mRNA</td>\n",
       "      <td>Bmp4</td>\n",
       "      <td>Supporting evidence includes similarity to: 29...</td>\n",
       "      <td>bone morphogenetic protein 4%2C transcript var...</td>\n",
       "      <td>NaN</td>\n",
       "      <td>NaN</td>\n",
       "      <td>NaN</td>\n",
       "      <td>NaN</td>\n",
       "      <td>NaN</td>\n",
       "      <td>NaN</td>\n",
       "    </tr>\n",
       "    <tr>\n",
       "      <td>XM_027386530.1</td>\n",
       "      <td>NW_020822366.1</td>\n",
       "      <td>722307</td>\n",
       "      <td>722309</td>\n",
       "      <td>-</td>\n",
       "      <td>722309</td>\n",
       "      <td>rna8</td>\n",
       "      <td>gene4</td>\n",
       "      <td>GeneID:100754303,Genbank:XM_027386530.1</td>\n",
       "      <td>XM_027386530.1</td>\n",
       "      <td>mRNA</td>\n",
       "      <td>Bmp4</td>\n",
       "      <td>Supporting evidence includes similarity to: 29...</td>\n",
       "      <td>bone morphogenetic protein 4%2C transcript var...</td>\n",
       "      <td>NaN</td>\n",
       "      <td>NaN</td>\n",
       "      <td>NaN</td>\n",
       "      <td>NaN</td>\n",
       "      <td>NaN</td>\n",
       "      <td>NaN</td>\n",
       "    </tr>\n",
       "    <tr>\n",
       "      <td>XM_027386528.1</td>\n",
       "      <td>NW_020822366.1</td>\n",
       "      <td>724609</td>\n",
       "      <td>724611</td>\n",
       "      <td>-</td>\n",
       "      <td>724611</td>\n",
       "      <td>rna6</td>\n",
       "      <td>gene4</td>\n",
       "      <td>GeneID:100754303,Genbank:XM_027386528.1</td>\n",
       "      <td>XM_027386528.1</td>\n",
       "      <td>mRNA</td>\n",
       "      <td>Bmp4</td>\n",
       "      <td>Supporting evidence includes similarity to: 29...</td>\n",
       "      <td>bone morphogenetic protein 4%2C transcript var...</td>\n",
       "      <td>NaN</td>\n",
       "      <td>NaN</td>\n",
       "      <td>NaN</td>\n",
       "      <td>NaN</td>\n",
       "      <td>NaN</td>\n",
       "      <td>NaN</td>\n",
       "    </tr>\n",
       "    <tr>\n",
       "      <td>XM_027386531.1</td>\n",
       "      <td>NW_020822366.1</td>\n",
       "      <td>1085434</td>\n",
       "      <td>1085436</td>\n",
       "      <td>+</td>\n",
       "      <td>1085434</td>\n",
       "      <td>rna10</td>\n",
       "      <td>gene6</td>\n",
       "      <td>GeneID:100752216,Genbank:XM_027386531.1</td>\n",
       "      <td>XM_027386531.1</td>\n",
       "      <td>mRNA</td>\n",
       "      <td>Cdkn3</td>\n",
       "      <td>Supporting evidence includes similarity to: 5 ...</td>\n",
       "      <td>cyclin dependent kinase inhibitor 3%2C transcr...</td>\n",
       "      <td>NaN</td>\n",
       "      <td>NaN</td>\n",
       "      <td>NaN</td>\n",
       "      <td>NaN</td>\n",
       "      <td>NaN</td>\n",
       "      <td>NaN</td>\n",
       "    </tr>\n",
       "    <tr>\n",
       "      <td>XM_027386532.1</td>\n",
       "      <td>NW_020822366.1</td>\n",
       "      <td>1085434</td>\n",
       "      <td>1085436</td>\n",
       "      <td>+</td>\n",
       "      <td>1085434</td>\n",
       "      <td>rna11</td>\n",
       "      <td>gene6</td>\n",
       "      <td>GeneID:100752216,Genbank:XM_027386532.1</td>\n",
       "      <td>XM_027386532.1</td>\n",
       "      <td>mRNA</td>\n",
       "      <td>Cdkn3</td>\n",
       "      <td>Supporting evidence includes similarity to: 2 ...</td>\n",
       "      <td>cyclin dependent kinase inhibitor 3%2C transcr...</td>\n",
       "      <td>NaN</td>\n",
       "      <td>NaN</td>\n",
       "      <td>NaN</td>\n",
       "      <td>NaN</td>\n",
       "      <td>NaN</td>\n",
       "      <td>NaN</td>\n",
       "    </tr>\n",
       "  </tbody>\n",
       "</table>\n",
       "</div>"
      ],
      "text/plain": [
       "                           Chr    Start      End Strand  actual_start     ID  \\\n",
       "transcript_id                                                                  \n",
       "XM_027386529.1  NW_020822366.1   722307   722309      -        722309   rna7   \n",
       "XM_027386530.1  NW_020822366.1   722307   722309      -        722309   rna8   \n",
       "XM_027386528.1  NW_020822366.1   724609   724611      -        724611   rna6   \n",
       "XM_027386531.1  NW_020822366.1  1085434  1085436      +       1085434  rna10   \n",
       "XM_027386532.1  NW_020822366.1  1085434  1085436      +       1085434  rna11   \n",
       "\n",
       "               Parent                                   Dbxref  \\\n",
       "transcript_id                                                    \n",
       "XM_027386529.1  gene4  GeneID:100754303,Genbank:XM_027386529.1   \n",
       "XM_027386530.1  gene4  GeneID:100754303,Genbank:XM_027386530.1   \n",
       "XM_027386528.1  gene4  GeneID:100754303,Genbank:XM_027386528.1   \n",
       "XM_027386531.1  gene6  GeneID:100752216,Genbank:XM_027386531.1   \n",
       "XM_027386532.1  gene6  GeneID:100752216,Genbank:XM_027386532.1   \n",
       "\n",
       "                          Name gbkey   gene  \\\n",
       "transcript_id                                 \n",
       "XM_027386529.1  XM_027386529.1  mRNA   Bmp4   \n",
       "XM_027386530.1  XM_027386530.1  mRNA   Bmp4   \n",
       "XM_027386528.1  XM_027386528.1  mRNA   Bmp4   \n",
       "XM_027386531.1  XM_027386531.1  mRNA  Cdkn3   \n",
       "XM_027386532.1  XM_027386532.1  mRNA  Cdkn3   \n",
       "\n",
       "                                                   model_evidence  \\\n",
       "transcript_id                                                       \n",
       "XM_027386529.1  Supporting evidence includes similarity to: 29...   \n",
       "XM_027386530.1  Supporting evidence includes similarity to: 29...   \n",
       "XM_027386528.1  Supporting evidence includes similarity to: 29...   \n",
       "XM_027386531.1  Supporting evidence includes similarity to: 5 ...   \n",
       "XM_027386532.1  Supporting evidence includes similarity to: 2 ...   \n",
       "\n",
       "                                                          product Note  \\\n",
       "transcript_id                                                            \n",
       "XM_027386529.1  bone morphogenetic protein 4%2C transcript var...  NaN   \n",
       "XM_027386530.1  bone morphogenetic protein 4%2C transcript var...  NaN   \n",
       "XM_027386528.1  bone morphogenetic protein 4%2C transcript var...  NaN   \n",
       "XM_027386531.1  cyclin dependent kinase inhibitor 3%2C transcr...  NaN   \n",
       "XM_027386532.1  cyclin dependent kinase inhibitor 3%2C transcr...  NaN   \n",
       "\n",
       "               exception end_range partial start_range inference  \n",
       "transcript_id                                                     \n",
       "XM_027386529.1       NaN       NaN     NaN         NaN       NaN  \n",
       "XM_027386530.1       NaN       NaN     NaN         NaN       NaN  \n",
       "XM_027386528.1       NaN       NaN     NaN         NaN       NaN  \n",
       "XM_027386531.1       NaN       NaN     NaN         NaN       NaN  \n",
       "XM_027386532.1       NaN       NaN     NaN         NaN       NaN  "
      ]
     },
     "execution_count": 9,
     "metadata": {},
     "output_type": "execute_result"
    }
   ],
   "source": [
    "mrna_peak_df = pd.read_csv(mrna_peak,sep=\"\\t\",index_col=0)\n",
    "\n",
    "for ind in mrna_peak_df.index.values:\n",
    "    curr = ind.split(';')\n",
    "    for i in curr:\n",
    "        curr_split = i.split('=')\n",
    "        mrna_peak_df.set_value(ind,curr_split[0],curr_split[1])\n",
    "\n",
    "mrna_peak_df.set_index(\"transcript_id\",inplace=True)\n",
    "mrna_peak_df.index.drop_duplicates() #There is one duplicate transcript\n",
    "mrna_peak_df.to_csv(mrna_peak,sep=\"\\t\",index=\"transcript_id\")\n",
    "\n",
    "mrna_peak_df.head()"
   ]
  },
  {
   "cell_type": "code",
   "execution_count": 10,
   "metadata": {
    "ExecuteTime": {
     "end_time": "2020-02-27T06:00:16.500618Z",
     "start_time": "2020-02-27T06:00:04.318529Z"
    },
    "scrolled": true
   },
   "outputs": [],
   "source": [
    "mrna_peak_150 = './mRNA_150.peak'\n",
    "createPeakFileFromGFF(\n",
    "    annotation,\n",
    "    output_file=mrna_peak_150,\n",
    "    anno_of_interest='mRNA',\n",
    "    is_start=True,\n",
    "    shift=75)\n"
   ]
  },
  {
   "cell_type": "code",
   "execution_count": 11,
   "metadata": {
    "ExecuteTime": {
     "end_time": "2020-02-27T06:00:23.418922Z",
     "start_time": "2020-02-27T06:00:16.502481Z"
    },
    "scrolled": true
   },
   "outputs": [
    {
     "name": "stderr",
     "output_type": "stream",
     "text": [
      "/home/isshamie/software/anaconda2/envs/TSS/lib/python3.7/site-packages/ipykernel_launcher.py:7: FutureWarning: set_value is deprecated and will be removed in a future release. Please use .at[] or .iat[] accessors instead\n",
      "  import sys\n"
     ]
    },
    {
     "data": {
      "text/html": [
       "<div>\n",
       "<style scoped>\n",
       "    .dataframe tbody tr th:only-of-type {\n",
       "        vertical-align: middle;\n",
       "    }\n",
       "\n",
       "    .dataframe tbody tr th {\n",
       "        vertical-align: top;\n",
       "    }\n",
       "\n",
       "    .dataframe thead th {\n",
       "        text-align: right;\n",
       "    }\n",
       "</style>\n",
       "<table border=\"1\" class=\"dataframe\">\n",
       "  <thead>\n",
       "    <tr style=\"text-align: right;\">\n",
       "      <th></th>\n",
       "      <th>Chr</th>\n",
       "      <th>Start</th>\n",
       "      <th>End</th>\n",
       "      <th>Strand</th>\n",
       "      <th>actual_start</th>\n",
       "      <th>ID</th>\n",
       "      <th>Parent</th>\n",
       "      <th>Dbxref</th>\n",
       "      <th>Name</th>\n",
       "      <th>gbkey</th>\n",
       "      <th>gene</th>\n",
       "      <th>model_evidence</th>\n",
       "      <th>product</th>\n",
       "      <th>Note</th>\n",
       "      <th>exception</th>\n",
       "      <th>end_range</th>\n",
       "      <th>partial</th>\n",
       "      <th>start_range</th>\n",
       "      <th>inference</th>\n",
       "    </tr>\n",
       "    <tr>\n",
       "      <th>transcript_id</th>\n",
       "      <th></th>\n",
       "      <th></th>\n",
       "      <th></th>\n",
       "      <th></th>\n",
       "      <th></th>\n",
       "      <th></th>\n",
       "      <th></th>\n",
       "      <th></th>\n",
       "      <th></th>\n",
       "      <th></th>\n",
       "      <th></th>\n",
       "      <th></th>\n",
       "      <th></th>\n",
       "      <th></th>\n",
       "      <th></th>\n",
       "      <th></th>\n",
       "      <th></th>\n",
       "      <th></th>\n",
       "      <th></th>\n",
       "    </tr>\n",
       "  </thead>\n",
       "  <tbody>\n",
       "    <tr>\n",
       "      <td>XM_027386529.1</td>\n",
       "      <td>NW_020822366.1</td>\n",
       "      <td>722233</td>\n",
       "      <td>722383</td>\n",
       "      <td>-</td>\n",
       "      <td>722383</td>\n",
       "      <td>rna7</td>\n",
       "      <td>gene4</td>\n",
       "      <td>GeneID:100754303,Genbank:XM_027386529.1</td>\n",
       "      <td>XM_027386529.1</td>\n",
       "      <td>mRNA</td>\n",
       "      <td>Bmp4</td>\n",
       "      <td>Supporting evidence includes similarity to: 29...</td>\n",
       "      <td>bone morphogenetic protein 4%2C transcript var...</td>\n",
       "      <td>NaN</td>\n",
       "      <td>NaN</td>\n",
       "      <td>NaN</td>\n",
       "      <td>NaN</td>\n",
       "      <td>NaN</td>\n",
       "      <td>NaN</td>\n",
       "    </tr>\n",
       "    <tr>\n",
       "      <td>XM_027386530.1</td>\n",
       "      <td>NW_020822366.1</td>\n",
       "      <td>722233</td>\n",
       "      <td>722383</td>\n",
       "      <td>-</td>\n",
       "      <td>722383</td>\n",
       "      <td>rna8</td>\n",
       "      <td>gene4</td>\n",
       "      <td>GeneID:100754303,Genbank:XM_027386530.1</td>\n",
       "      <td>XM_027386530.1</td>\n",
       "      <td>mRNA</td>\n",
       "      <td>Bmp4</td>\n",
       "      <td>Supporting evidence includes similarity to: 29...</td>\n",
       "      <td>bone morphogenetic protein 4%2C transcript var...</td>\n",
       "      <td>NaN</td>\n",
       "      <td>NaN</td>\n",
       "      <td>NaN</td>\n",
       "      <td>NaN</td>\n",
       "      <td>NaN</td>\n",
       "      <td>NaN</td>\n",
       "    </tr>\n",
       "    <tr>\n",
       "      <td>XM_027386528.1</td>\n",
       "      <td>NW_020822366.1</td>\n",
       "      <td>724535</td>\n",
       "      <td>724685</td>\n",
       "      <td>-</td>\n",
       "      <td>724685</td>\n",
       "      <td>rna6</td>\n",
       "      <td>gene4</td>\n",
       "      <td>GeneID:100754303,Genbank:XM_027386528.1</td>\n",
       "      <td>XM_027386528.1</td>\n",
       "      <td>mRNA</td>\n",
       "      <td>Bmp4</td>\n",
       "      <td>Supporting evidence includes similarity to: 29...</td>\n",
       "      <td>bone morphogenetic protein 4%2C transcript var...</td>\n",
       "      <td>NaN</td>\n",
       "      <td>NaN</td>\n",
       "      <td>NaN</td>\n",
       "      <td>NaN</td>\n",
       "      <td>NaN</td>\n",
       "      <td>NaN</td>\n",
       "    </tr>\n",
       "    <tr>\n",
       "      <td>XM_027386531.1</td>\n",
       "      <td>NW_020822366.1</td>\n",
       "      <td>1085360</td>\n",
       "      <td>1085510</td>\n",
       "      <td>+</td>\n",
       "      <td>1085360</td>\n",
       "      <td>rna10</td>\n",
       "      <td>gene6</td>\n",
       "      <td>GeneID:100752216,Genbank:XM_027386531.1</td>\n",
       "      <td>XM_027386531.1</td>\n",
       "      <td>mRNA</td>\n",
       "      <td>Cdkn3</td>\n",
       "      <td>Supporting evidence includes similarity to: 5 ...</td>\n",
       "      <td>cyclin dependent kinase inhibitor 3%2C transcr...</td>\n",
       "      <td>NaN</td>\n",
       "      <td>NaN</td>\n",
       "      <td>NaN</td>\n",
       "      <td>NaN</td>\n",
       "      <td>NaN</td>\n",
       "      <td>NaN</td>\n",
       "    </tr>\n",
       "    <tr>\n",
       "      <td>XM_027386532.1</td>\n",
       "      <td>NW_020822366.1</td>\n",
       "      <td>1085360</td>\n",
       "      <td>1085510</td>\n",
       "      <td>+</td>\n",
       "      <td>1085360</td>\n",
       "      <td>rna11</td>\n",
       "      <td>gene6</td>\n",
       "      <td>GeneID:100752216,Genbank:XM_027386532.1</td>\n",
       "      <td>XM_027386532.1</td>\n",
       "      <td>mRNA</td>\n",
       "      <td>Cdkn3</td>\n",
       "      <td>Supporting evidence includes similarity to: 2 ...</td>\n",
       "      <td>cyclin dependent kinase inhibitor 3%2C transcr...</td>\n",
       "      <td>NaN</td>\n",
       "      <td>NaN</td>\n",
       "      <td>NaN</td>\n",
       "      <td>NaN</td>\n",
       "      <td>NaN</td>\n",
       "      <td>NaN</td>\n",
       "    </tr>\n",
       "  </tbody>\n",
       "</table>\n",
       "</div>"
      ],
      "text/plain": [
       "                           Chr    Start      End Strand  actual_start     ID  \\\n",
       "transcript_id                                                                  \n",
       "XM_027386529.1  NW_020822366.1   722233   722383      -        722383   rna7   \n",
       "XM_027386530.1  NW_020822366.1   722233   722383      -        722383   rna8   \n",
       "XM_027386528.1  NW_020822366.1   724535   724685      -        724685   rna6   \n",
       "XM_027386531.1  NW_020822366.1  1085360  1085510      +       1085360  rna10   \n",
       "XM_027386532.1  NW_020822366.1  1085360  1085510      +       1085360  rna11   \n",
       "\n",
       "               Parent                                   Dbxref  \\\n",
       "transcript_id                                                    \n",
       "XM_027386529.1  gene4  GeneID:100754303,Genbank:XM_027386529.1   \n",
       "XM_027386530.1  gene4  GeneID:100754303,Genbank:XM_027386530.1   \n",
       "XM_027386528.1  gene4  GeneID:100754303,Genbank:XM_027386528.1   \n",
       "XM_027386531.1  gene6  GeneID:100752216,Genbank:XM_027386531.1   \n",
       "XM_027386532.1  gene6  GeneID:100752216,Genbank:XM_027386532.1   \n",
       "\n",
       "                          Name gbkey   gene  \\\n",
       "transcript_id                                 \n",
       "XM_027386529.1  XM_027386529.1  mRNA   Bmp4   \n",
       "XM_027386530.1  XM_027386530.1  mRNA   Bmp4   \n",
       "XM_027386528.1  XM_027386528.1  mRNA   Bmp4   \n",
       "XM_027386531.1  XM_027386531.1  mRNA  Cdkn3   \n",
       "XM_027386532.1  XM_027386532.1  mRNA  Cdkn3   \n",
       "\n",
       "                                                   model_evidence  \\\n",
       "transcript_id                                                       \n",
       "XM_027386529.1  Supporting evidence includes similarity to: 29...   \n",
       "XM_027386530.1  Supporting evidence includes similarity to: 29...   \n",
       "XM_027386528.1  Supporting evidence includes similarity to: 29...   \n",
       "XM_027386531.1  Supporting evidence includes similarity to: 5 ...   \n",
       "XM_027386532.1  Supporting evidence includes similarity to: 2 ...   \n",
       "\n",
       "                                                          product Note  \\\n",
       "transcript_id                                                            \n",
       "XM_027386529.1  bone morphogenetic protein 4%2C transcript var...  NaN   \n",
       "XM_027386530.1  bone morphogenetic protein 4%2C transcript var...  NaN   \n",
       "XM_027386528.1  bone morphogenetic protein 4%2C transcript var...  NaN   \n",
       "XM_027386531.1  cyclin dependent kinase inhibitor 3%2C transcr...  NaN   \n",
       "XM_027386532.1  cyclin dependent kinase inhibitor 3%2C transcr...  NaN   \n",
       "\n",
       "               exception end_range partial start_range inference  \n",
       "transcript_id                                                     \n",
       "XM_027386529.1       NaN       NaN     NaN         NaN       NaN  \n",
       "XM_027386530.1       NaN       NaN     NaN         NaN       NaN  \n",
       "XM_027386528.1       NaN       NaN     NaN         NaN       NaN  \n",
       "XM_027386531.1       NaN       NaN     NaN         NaN       NaN  \n",
       "XM_027386532.1       NaN       NaN     NaN         NaN       NaN  "
      ]
     },
     "execution_count": 11,
     "metadata": {},
     "output_type": "execute_result"
    }
   ],
   "source": [
    "mrna_peak_150_df = pd.read_csv(mrna_peak_150,sep=\"\\t\",index_col=0)\n",
    "\n",
    "for ind in mrna_peak_150_df.index.values:\n",
    "    curr = ind.split(';')\n",
    "    for i in curr:\n",
    "        curr_split = i.split('=')\n",
    "        mrna_peak_150_df.set_value(ind,curr_split[0],curr_split[1])\n",
    "mrna_peak_150_df.set_index(\"transcript_id\",inplace=True)\n",
    "mrna_peak_150_df.to_csv(mrna_peak_150,sep=\"\\t\",index=\"transcript_id\")\n",
    "\n",
    "mrna_peak_150_df.head()"
   ]
  },
  {
   "cell_type": "markdown",
   "metadata": {},
   "source": [
    "### First take the mRNA and CDS separately. "
   ]
  },
  {
   "cell_type": "markdown",
   "metadata": {},
   "source": [
    "### Create CDS and mRNA gff and bed file"
   ]
  },
  {
   "cell_type": "code",
   "execution_count": 12,
   "metadata": {
    "ExecuteTime": {
     "end_time": "2020-02-27T06:00:24.551426Z",
     "start_time": "2020-02-27T06:00:23.421905Z"
    }
   },
   "outputs": [
    {
     "name": "stdout",
     "output_type": "stream",
     "text": [
      "awk '{ if ($3==\"mRNA\") {print}  }' /data/isshamie/TSS/Analysis/supplemental/genome/ncbi_anno_103/alt_CriGri-PICR_top_level.gff3 > Results/genome/mRNA.gff\n"
     ]
    }
   ],
   "source": [
    "cmd = \"awk '{ if ($3==\\\"mRNA\\\") {print}  }' %s > %s\" % (annotation,mrna_gff)\n",
    "print(cmd)\n",
    "!{cmd}"
   ]
  },
  {
   "cell_type": "code",
   "execution_count": 13,
   "metadata": {
    "ExecuteTime": {
     "end_time": "2020-02-27T06:00:26.188821Z",
     "start_time": "2020-02-27T06:00:24.554445Z"
    }
   },
   "outputs": [
    {
     "name": "stdout",
     "output_type": "stream",
     "text": [
      "awk '{ if ($3==\"CDS\") {print}  }' /data/isshamie/TSS/Analysis/supplemental/genome/ncbi_anno_103/alt_CriGri-PICR_top_level.gff3 > Results/genome/CDS.gff\n"
     ]
    }
   ],
   "source": [
    "cmd = \"awk '{ if ($3==\\\"CDS\\\") {print}  }' %s > %s\" % (annotation,cds_gff)\n",
    "print(cmd)\n",
    "!{cmd}"
   ]
  },
  {
   "cell_type": "code",
   "execution_count": 14,
   "metadata": {
    "ExecuteTime": {
     "end_time": "2020-02-27T06:00:29.234764Z",
     "start_time": "2020-02-27T06:00:26.191755Z"
    }
   },
   "outputs": [
    {
     "name": "stdout",
     "output_type": "stream",
     "text": [
      "gff2bed < Results/genome/CDS.gff > Results/genome/CDS.bed\n"
     ]
    },
    {
     "data": {
      "text/plain": [
       "0"
      ]
     },
     "execution_count": 14,
     "metadata": {},
     "output_type": "execute_result"
    }
   ],
   "source": [
    "cmd = \"gff2bed < {cds_gff} > {cds_bed}\".format(cds_gff= cds_gff, cds_bed=cds_bed)\n",
    "print(cmd)\n",
    "os.system(cmd)"
   ]
  },
  {
   "cell_type": "code",
   "execution_count": 15,
   "metadata": {
    "ExecuteTime": {
     "end_time": "2020-02-27T06:00:29.626688Z",
     "start_time": "2020-02-27T06:00:29.236742Z"
    }
   },
   "outputs": [
    {
     "name": "stdout",
     "output_type": "stream",
     "text": [
      "gff2bed < Results/genome/mRNA.gff > Results/genome/mRNA.bed\n"
     ]
    },
    {
     "data": {
      "text/plain": [
       "0"
      ]
     },
     "execution_count": 15,
     "metadata": {},
     "output_type": "execute_result"
    }
   ],
   "source": [
    "cmd = \"gff2bed < {mrna_gff} > {mrna_bed}\".format(mrna_gff= mrna_gff, mrna_bed=mrna_bed)\n",
    "print(cmd)\n",
    "os.system(cmd)"
   ]
  },
  {
   "cell_type": "markdown",
   "metadata": {},
   "source": [
    "--------------------"
   ]
  },
  {
   "cell_type": "markdown",
   "metadata": {},
   "source": [
    "# Construct start site specific file\n",
    "'ID','Chr','Start','End','Strand','CS','gene_id','gene','transcript_id' \n",
    "If two transcripts have the same start site, pick the one with lower cs (more confident), if the same cs, pick the longer TS"
   ]
  },
  {
   "cell_type": "markdown",
   "metadata": {},
   "source": [
    "### Read in annotation"
   ]
  },
  {
   "cell_type": "code",
   "execution_count": 16,
   "metadata": {
    "ExecuteTime": {
     "end_time": "2020-02-27T06:00:29.942419Z",
     "start_time": "2020-02-27T06:00:29.628626Z"
    }
   },
   "outputs": [
    {
     "data": {
      "text/html": [
       "<div>\n",
       "<style scoped>\n",
       "    .dataframe tbody tr th:only-of-type {\n",
       "        vertical-align: middle;\n",
       "    }\n",
       "\n",
       "    .dataframe tbody tr th {\n",
       "        vertical-align: top;\n",
       "    }\n",
       "\n",
       "    .dataframe thead th {\n",
       "        text-align: right;\n",
       "    }\n",
       "</style>\n",
       "<table border=\"1\" class=\"dataframe\">\n",
       "  <thead>\n",
       "    <tr style=\"text-align: right;\">\n",
       "      <th></th>\n",
       "      <th>Chr</th>\n",
       "      <th>Start</th>\n",
       "      <th>End</th>\n",
       "      <th>Strand</th>\n",
       "    </tr>\n",
       "    <tr>\n",
       "      <th>8</th>\n",
       "      <th></th>\n",
       "      <th></th>\n",
       "      <th></th>\n",
       "      <th></th>\n",
       "    </tr>\n",
       "  </thead>\n",
       "  <tbody>\n",
       "    <tr>\n",
       "      <td>ID=rna6;Parent=gene4;Dbxref=GeneID:100754303,Genbank:XM_027386528.1;Name=XM_027386528.1;gbkey=mRNA;gene=Bmp4;model_evidence=Supporting evidence includes similarity to: 29 Proteins%2C and 100%25 coverage of the annotated genomic feature by RNAseq alignments%2C including 18 samples with support for all annotated introns;product=bone morphogenetic protein 4%2C transcript variant X2;transcript_id=XM_027386528.1</td>\n",
       "      <td>NW_020822366.1</td>\n",
       "      <td>717871</td>\n",
       "      <td>724610</td>\n",
       "      <td>-</td>\n",
       "    </tr>\n",
       "    <tr>\n",
       "      <td>ID=rna7;Parent=gene4;Dbxref=GeneID:100754303,Genbank:XM_027386529.1;Name=XM_027386529.1;gbkey=mRNA;gene=Bmp4;model_evidence=Supporting evidence includes similarity to: 29 Proteins%2C and 100%25 coverage of the annotated genomic feature by RNAseq alignments%2C including 15 samples with support for all annotated introns;product=bone morphogenetic protein 4%2C transcript variant X3;transcript_id=XM_027386529.1</td>\n",
       "      <td>NW_020822366.1</td>\n",
       "      <td>717871</td>\n",
       "      <td>722308</td>\n",
       "      <td>-</td>\n",
       "    </tr>\n",
       "    <tr>\n",
       "      <td>ID=rna8;Parent=gene4;Dbxref=GeneID:100754303,Genbank:XM_027386530.1;Name=XM_027386530.1;gbkey=mRNA;gene=Bmp4;model_evidence=Supporting evidence includes similarity to: 29 Proteins%2C and 100%25 coverage of the annotated genomic feature by RNAseq alignments%2C including 11 samples with support for all annotated introns;product=bone morphogenetic protein 4%2C transcript variant X4;transcript_id=XM_027386530.1</td>\n",
       "      <td>NW_020822366.1</td>\n",
       "      <td>717871</td>\n",
       "      <td>722308</td>\n",
       "      <td>-</td>\n",
       "    </tr>\n",
       "    <tr>\n",
       "      <td>ID=rna10;Parent=gene6;Dbxref=GeneID:100752216,Genbank:XM_027386531.1;Name=XM_027386531.1;gbkey=mRNA;gene=Cdkn3;model_evidence=Supporting evidence includes similarity to: 5 Proteins%2C and 100%25 coverage of the annotated genomic feature by RNAseq alignments%2C including 98 samples with support for all annotated introns;product=cyclin dependent kinase inhibitor 3%2C transcript variant X1;transcript_id=XM_027386531.1</td>\n",
       "      <td>NW_020822366.1</td>\n",
       "      <td>1085435</td>\n",
       "      <td>1097417</td>\n",
       "      <td>+</td>\n",
       "    </tr>\n",
       "    <tr>\n",
       "      <td>ID=rna11;Parent=gene6;Dbxref=GeneID:100752216,Genbank:XM_027386532.1;Name=XM_027386532.1;gbkey=mRNA;gene=Cdkn3;model_evidence=Supporting evidence includes similarity to: 2 Proteins%2C and 100%25 coverage of the annotated genomic feature by RNAseq alignments%2C including 98 samples with support for all annotated introns;product=cyclin dependent kinase inhibitor 3%2C transcript variant X2;transcript_id=XM_027386532.1</td>\n",
       "      <td>NW_020822366.1</td>\n",
       "      <td>1085435</td>\n",
       "      <td>1097417</td>\n",
       "      <td>+</td>\n",
       "    </tr>\n",
       "  </tbody>\n",
       "</table>\n",
       "</div>"
      ],
      "text/plain": [
       "                                                               Chr    Start  \\\n",
       "8                                                                             \n",
       "ID=rna6;Parent=gene4;Dbxref=GeneID:100754303,Ge...  NW_020822366.1   717871   \n",
       "ID=rna7;Parent=gene4;Dbxref=GeneID:100754303,Ge...  NW_020822366.1   717871   \n",
       "ID=rna8;Parent=gene4;Dbxref=GeneID:100754303,Ge...  NW_020822366.1   717871   \n",
       "ID=rna10;Parent=gene6;Dbxref=GeneID:100752216,G...  NW_020822366.1  1085435   \n",
       "ID=rna11;Parent=gene6;Dbxref=GeneID:100752216,G...  NW_020822366.1  1085435   \n",
       "\n",
       "                                                        End Strand  \n",
       "8                                                                   \n",
       "ID=rna6;Parent=gene4;Dbxref=GeneID:100754303,Ge...   724610      -  \n",
       "ID=rna7;Parent=gene4;Dbxref=GeneID:100754303,Ge...   722308      -  \n",
       "ID=rna8;Parent=gene4;Dbxref=GeneID:100754303,Ge...   722308      -  \n",
       "ID=rna10;Parent=gene6;Dbxref=GeneID:100752216,G...  1097417      +  \n",
       "ID=rna11;Parent=gene6;Dbxref=GeneID:100752216,G...  1097417      +  "
      ]
     },
     "execution_count": 16,
     "metadata": {},
     "output_type": "execute_result"
    }
   ],
   "source": [
    "mRNA_anno = pd.read_csv(mrna_gff,sep='\\t',header=None,index_col=8)\n",
    "#Munge data for downstream processing\n",
    "cols = mRNA_anno.columns.values\n",
    "cols = ['Chr','Merge','Type','Start','End','.','Strand','..']\n",
    "mRNA_anno.columns= cols\n",
    "#Drop the unncesseary columns\n",
    "mRNA_anno.drop(['Merge','.','..','Type'],axis=1,inplace=True)\n",
    "mRNA_anno.head()"
   ]
  },
  {
   "cell_type": "markdown",
   "metadata": {},
   "source": [
    "### Break the annotation id into its separate components and calculate distances"
   ]
  },
  {
   "cell_type": "code",
   "execution_count": 17,
   "metadata": {
    "ExecuteTime": {
     "end_time": "2020-02-27T06:00:36.136607Z",
     "start_time": "2020-02-27T06:00:29.944047Z"
    },
    "scrolled": true
   },
   "outputs": [
    {
     "name": "stderr",
     "output_type": "stream",
     "text": [
      "/home/isshamie/software/anaconda2/envs/TSS/lib/python3.7/site-packages/ipykernel_launcher.py:5: FutureWarning: set_value is deprecated and will be removed in a future release. Please use .at[] or .iat[] accessors instead\n",
      "  \"\"\"\n"
     ]
    },
    {
     "data": {
      "text/html": [
       "<div>\n",
       "<style scoped>\n",
       "    .dataframe tbody tr th:only-of-type {\n",
       "        vertical-align: middle;\n",
       "    }\n",
       "\n",
       "    .dataframe tbody tr th {\n",
       "        vertical-align: top;\n",
       "    }\n",
       "\n",
       "    .dataframe thead th {\n",
       "        text-align: right;\n",
       "    }\n",
       "</style>\n",
       "<table border=\"1\" class=\"dataframe\">\n",
       "  <thead>\n",
       "    <tr style=\"text-align: right;\">\n",
       "      <th></th>\n",
       "      <th>Chr</th>\n",
       "      <th>Start</th>\n",
       "      <th>End</th>\n",
       "      <th>Strand</th>\n",
       "      <th>ID</th>\n",
       "      <th>Parent</th>\n",
       "      <th>Dbxref</th>\n",
       "      <th>Name</th>\n",
       "      <th>gbkey</th>\n",
       "      <th>gene</th>\n",
       "      <th>...</th>\n",
       "      <th>product</th>\n",
       "      <th>transcript_id</th>\n",
       "      <th>Note</th>\n",
       "      <th>exception</th>\n",
       "      <th>end_range</th>\n",
       "      <th>partial</th>\n",
       "      <th>start_range</th>\n",
       "      <th>inference</th>\n",
       "      <th>Length</th>\n",
       "      <th>actual_start</th>\n",
       "    </tr>\n",
       "    <tr>\n",
       "      <th>8</th>\n",
       "      <th></th>\n",
       "      <th></th>\n",
       "      <th></th>\n",
       "      <th></th>\n",
       "      <th></th>\n",
       "      <th></th>\n",
       "      <th></th>\n",
       "      <th></th>\n",
       "      <th></th>\n",
       "      <th></th>\n",
       "      <th></th>\n",
       "      <th></th>\n",
       "      <th></th>\n",
       "      <th></th>\n",
       "      <th></th>\n",
       "      <th></th>\n",
       "      <th></th>\n",
       "      <th></th>\n",
       "      <th></th>\n",
       "      <th></th>\n",
       "      <th></th>\n",
       "    </tr>\n",
       "  </thead>\n",
       "  <tbody>\n",
       "    <tr>\n",
       "      <td>ID=rna6;Parent=gene4;Dbxref=GeneID:100754303,Genbank:XM_027386528.1;Name=XM_027386528.1;gbkey=mRNA;gene=Bmp4;model_evidence=Supporting evidence includes similarity to: 29 Proteins%2C and 100%25 coverage of the annotated genomic feature by RNAseq alignments%2C including 18 samples with support for all annotated introns;product=bone morphogenetic protein 4%2C transcript variant X2;transcript_id=XM_027386528.1</td>\n",
       "      <td>NW_020822366.1</td>\n",
       "      <td>717871</td>\n",
       "      <td>724610</td>\n",
       "      <td>-</td>\n",
       "      <td>rna6</td>\n",
       "      <td>gene4</td>\n",
       "      <td>GeneID:100754303,Genbank:XM_027386528.1</td>\n",
       "      <td>XM_027386528.1</td>\n",
       "      <td>mRNA</td>\n",
       "      <td>Bmp4</td>\n",
       "      <td>...</td>\n",
       "      <td>bone morphogenetic protein 4%2C transcript var...</td>\n",
       "      <td>XM_027386528.1</td>\n",
       "      <td>NaN</td>\n",
       "      <td>NaN</td>\n",
       "      <td>NaN</td>\n",
       "      <td>NaN</td>\n",
       "      <td>NaN</td>\n",
       "      <td>NaN</td>\n",
       "      <td>6739</td>\n",
       "      <td>724610</td>\n",
       "    </tr>\n",
       "    <tr>\n",
       "      <td>ID=rna7;Parent=gene4;Dbxref=GeneID:100754303,Genbank:XM_027386529.1;Name=XM_027386529.1;gbkey=mRNA;gene=Bmp4;model_evidence=Supporting evidence includes similarity to: 29 Proteins%2C and 100%25 coverage of the annotated genomic feature by RNAseq alignments%2C including 15 samples with support for all annotated introns;product=bone morphogenetic protein 4%2C transcript variant X3;transcript_id=XM_027386529.1</td>\n",
       "      <td>NW_020822366.1</td>\n",
       "      <td>717871</td>\n",
       "      <td>722308</td>\n",
       "      <td>-</td>\n",
       "      <td>rna7</td>\n",
       "      <td>gene4</td>\n",
       "      <td>GeneID:100754303,Genbank:XM_027386529.1</td>\n",
       "      <td>XM_027386529.1</td>\n",
       "      <td>mRNA</td>\n",
       "      <td>Bmp4</td>\n",
       "      <td>...</td>\n",
       "      <td>bone morphogenetic protein 4%2C transcript var...</td>\n",
       "      <td>XM_027386529.1</td>\n",
       "      <td>NaN</td>\n",
       "      <td>NaN</td>\n",
       "      <td>NaN</td>\n",
       "      <td>NaN</td>\n",
       "      <td>NaN</td>\n",
       "      <td>NaN</td>\n",
       "      <td>4437</td>\n",
       "      <td>722308</td>\n",
       "    </tr>\n",
       "    <tr>\n",
       "      <td>ID=rna8;Parent=gene4;Dbxref=GeneID:100754303,Genbank:XM_027386530.1;Name=XM_027386530.1;gbkey=mRNA;gene=Bmp4;model_evidence=Supporting evidence includes similarity to: 29 Proteins%2C and 100%25 coverage of the annotated genomic feature by RNAseq alignments%2C including 11 samples with support for all annotated introns;product=bone morphogenetic protein 4%2C transcript variant X4;transcript_id=XM_027386530.1</td>\n",
       "      <td>NW_020822366.1</td>\n",
       "      <td>717871</td>\n",
       "      <td>722308</td>\n",
       "      <td>-</td>\n",
       "      <td>rna8</td>\n",
       "      <td>gene4</td>\n",
       "      <td>GeneID:100754303,Genbank:XM_027386530.1</td>\n",
       "      <td>XM_027386530.1</td>\n",
       "      <td>mRNA</td>\n",
       "      <td>Bmp4</td>\n",
       "      <td>...</td>\n",
       "      <td>bone morphogenetic protein 4%2C transcript var...</td>\n",
       "      <td>XM_027386530.1</td>\n",
       "      <td>NaN</td>\n",
       "      <td>NaN</td>\n",
       "      <td>NaN</td>\n",
       "      <td>NaN</td>\n",
       "      <td>NaN</td>\n",
       "      <td>NaN</td>\n",
       "      <td>4437</td>\n",
       "      <td>722308</td>\n",
       "    </tr>\n",
       "    <tr>\n",
       "      <td>ID=rna10;Parent=gene6;Dbxref=GeneID:100752216,Genbank:XM_027386531.1;Name=XM_027386531.1;gbkey=mRNA;gene=Cdkn3;model_evidence=Supporting evidence includes similarity to: 5 Proteins%2C and 100%25 coverage of the annotated genomic feature by RNAseq alignments%2C including 98 samples with support for all annotated introns;product=cyclin dependent kinase inhibitor 3%2C transcript variant X1;transcript_id=XM_027386531.1</td>\n",
       "      <td>NW_020822366.1</td>\n",
       "      <td>1085435</td>\n",
       "      <td>1097417</td>\n",
       "      <td>+</td>\n",
       "      <td>rna10</td>\n",
       "      <td>gene6</td>\n",
       "      <td>GeneID:100752216,Genbank:XM_027386531.1</td>\n",
       "      <td>XM_027386531.1</td>\n",
       "      <td>mRNA</td>\n",
       "      <td>Cdkn3</td>\n",
       "      <td>...</td>\n",
       "      <td>cyclin dependent kinase inhibitor 3%2C transcr...</td>\n",
       "      <td>XM_027386531.1</td>\n",
       "      <td>NaN</td>\n",
       "      <td>NaN</td>\n",
       "      <td>NaN</td>\n",
       "      <td>NaN</td>\n",
       "      <td>NaN</td>\n",
       "      <td>NaN</td>\n",
       "      <td>11982</td>\n",
       "      <td>1085435</td>\n",
       "    </tr>\n",
       "    <tr>\n",
       "      <td>ID=rna11;Parent=gene6;Dbxref=GeneID:100752216,Genbank:XM_027386532.1;Name=XM_027386532.1;gbkey=mRNA;gene=Cdkn3;model_evidence=Supporting evidence includes similarity to: 2 Proteins%2C and 100%25 coverage of the annotated genomic feature by RNAseq alignments%2C including 98 samples with support for all annotated introns;product=cyclin dependent kinase inhibitor 3%2C transcript variant X2;transcript_id=XM_027386532.1</td>\n",
       "      <td>NW_020822366.1</td>\n",
       "      <td>1085435</td>\n",
       "      <td>1097417</td>\n",
       "      <td>+</td>\n",
       "      <td>rna11</td>\n",
       "      <td>gene6</td>\n",
       "      <td>GeneID:100752216,Genbank:XM_027386532.1</td>\n",
       "      <td>XM_027386532.1</td>\n",
       "      <td>mRNA</td>\n",
       "      <td>Cdkn3</td>\n",
       "      <td>...</td>\n",
       "      <td>cyclin dependent kinase inhibitor 3%2C transcr...</td>\n",
       "      <td>XM_027386532.1</td>\n",
       "      <td>NaN</td>\n",
       "      <td>NaN</td>\n",
       "      <td>NaN</td>\n",
       "      <td>NaN</td>\n",
       "      <td>NaN</td>\n",
       "      <td>NaN</td>\n",
       "      <td>11982</td>\n",
       "      <td>1085435</td>\n",
       "    </tr>\n",
       "  </tbody>\n",
       "</table>\n",
       "<p>5 rows × 21 columns</p>\n",
       "</div>"
      ],
      "text/plain": [
       "                                                               Chr    Start  \\\n",
       "8                                                                             \n",
       "ID=rna6;Parent=gene4;Dbxref=GeneID:100754303,Ge...  NW_020822366.1   717871   \n",
       "ID=rna7;Parent=gene4;Dbxref=GeneID:100754303,Ge...  NW_020822366.1   717871   \n",
       "ID=rna8;Parent=gene4;Dbxref=GeneID:100754303,Ge...  NW_020822366.1   717871   \n",
       "ID=rna10;Parent=gene6;Dbxref=GeneID:100752216,G...  NW_020822366.1  1085435   \n",
       "ID=rna11;Parent=gene6;Dbxref=GeneID:100752216,G...  NW_020822366.1  1085435   \n",
       "\n",
       "                                                        End Strand     ID  \\\n",
       "8                                                                           \n",
       "ID=rna6;Parent=gene4;Dbxref=GeneID:100754303,Ge...   724610      -   rna6   \n",
       "ID=rna7;Parent=gene4;Dbxref=GeneID:100754303,Ge...   722308      -   rna7   \n",
       "ID=rna8;Parent=gene4;Dbxref=GeneID:100754303,Ge...   722308      -   rna8   \n",
       "ID=rna10;Parent=gene6;Dbxref=GeneID:100752216,G...  1097417      +  rna10   \n",
       "ID=rna11;Parent=gene6;Dbxref=GeneID:100752216,G...  1097417      +  rna11   \n",
       "\n",
       "                                                   Parent  \\\n",
       "8                                                           \n",
       "ID=rna6;Parent=gene4;Dbxref=GeneID:100754303,Ge...  gene4   \n",
       "ID=rna7;Parent=gene4;Dbxref=GeneID:100754303,Ge...  gene4   \n",
       "ID=rna8;Parent=gene4;Dbxref=GeneID:100754303,Ge...  gene4   \n",
       "ID=rna10;Parent=gene6;Dbxref=GeneID:100752216,G...  gene6   \n",
       "ID=rna11;Parent=gene6;Dbxref=GeneID:100752216,G...  gene6   \n",
       "\n",
       "                                                                                     Dbxref  \\\n",
       "8                                                                                             \n",
       "ID=rna6;Parent=gene4;Dbxref=GeneID:100754303,Ge...  GeneID:100754303,Genbank:XM_027386528.1   \n",
       "ID=rna7;Parent=gene4;Dbxref=GeneID:100754303,Ge...  GeneID:100754303,Genbank:XM_027386529.1   \n",
       "ID=rna8;Parent=gene4;Dbxref=GeneID:100754303,Ge...  GeneID:100754303,Genbank:XM_027386530.1   \n",
       "ID=rna10;Parent=gene6;Dbxref=GeneID:100752216,G...  GeneID:100752216,Genbank:XM_027386531.1   \n",
       "ID=rna11;Parent=gene6;Dbxref=GeneID:100752216,G...  GeneID:100752216,Genbank:XM_027386532.1   \n",
       "\n",
       "                                                              Name gbkey  \\\n",
       "8                                                                          \n",
       "ID=rna6;Parent=gene4;Dbxref=GeneID:100754303,Ge...  XM_027386528.1  mRNA   \n",
       "ID=rna7;Parent=gene4;Dbxref=GeneID:100754303,Ge...  XM_027386529.1  mRNA   \n",
       "ID=rna8;Parent=gene4;Dbxref=GeneID:100754303,Ge...  XM_027386530.1  mRNA   \n",
       "ID=rna10;Parent=gene6;Dbxref=GeneID:100752216,G...  XM_027386531.1  mRNA   \n",
       "ID=rna11;Parent=gene6;Dbxref=GeneID:100752216,G...  XM_027386532.1  mRNA   \n",
       "\n",
       "                                                     gene  ...  \\\n",
       "8                                                          ...   \n",
       "ID=rna6;Parent=gene4;Dbxref=GeneID:100754303,Ge...   Bmp4  ...   \n",
       "ID=rna7;Parent=gene4;Dbxref=GeneID:100754303,Ge...   Bmp4  ...   \n",
       "ID=rna8;Parent=gene4;Dbxref=GeneID:100754303,Ge...   Bmp4  ...   \n",
       "ID=rna10;Parent=gene6;Dbxref=GeneID:100752216,G...  Cdkn3  ...   \n",
       "ID=rna11;Parent=gene6;Dbxref=GeneID:100752216,G...  Cdkn3  ...   \n",
       "\n",
       "                                                                                              product  \\\n",
       "8                                                                                                       \n",
       "ID=rna6;Parent=gene4;Dbxref=GeneID:100754303,Ge...  bone morphogenetic protein 4%2C transcript var...   \n",
       "ID=rna7;Parent=gene4;Dbxref=GeneID:100754303,Ge...  bone morphogenetic protein 4%2C transcript var...   \n",
       "ID=rna8;Parent=gene4;Dbxref=GeneID:100754303,Ge...  bone morphogenetic protein 4%2C transcript var...   \n",
       "ID=rna10;Parent=gene6;Dbxref=GeneID:100752216,G...  cyclin dependent kinase inhibitor 3%2C transcr...   \n",
       "ID=rna11;Parent=gene6;Dbxref=GeneID:100752216,G...  cyclin dependent kinase inhibitor 3%2C transcr...   \n",
       "\n",
       "                                                     transcript_id Note  \\\n",
       "8                                                                         \n",
       "ID=rna6;Parent=gene4;Dbxref=GeneID:100754303,Ge...  XM_027386528.1  NaN   \n",
       "ID=rna7;Parent=gene4;Dbxref=GeneID:100754303,Ge...  XM_027386529.1  NaN   \n",
       "ID=rna8;Parent=gene4;Dbxref=GeneID:100754303,Ge...  XM_027386530.1  NaN   \n",
       "ID=rna10;Parent=gene6;Dbxref=GeneID:100752216,G...  XM_027386531.1  NaN   \n",
       "ID=rna11;Parent=gene6;Dbxref=GeneID:100752216,G...  XM_027386532.1  NaN   \n",
       "\n",
       "                                                   exception end_range  \\\n",
       "8                                                                        \n",
       "ID=rna6;Parent=gene4;Dbxref=GeneID:100754303,Ge...       NaN       NaN   \n",
       "ID=rna7;Parent=gene4;Dbxref=GeneID:100754303,Ge...       NaN       NaN   \n",
       "ID=rna8;Parent=gene4;Dbxref=GeneID:100754303,Ge...       NaN       NaN   \n",
       "ID=rna10;Parent=gene6;Dbxref=GeneID:100752216,G...       NaN       NaN   \n",
       "ID=rna11;Parent=gene6;Dbxref=GeneID:100752216,G...       NaN       NaN   \n",
       "\n",
       "                                                   partial start_range  \\\n",
       "8                                                                        \n",
       "ID=rna6;Parent=gene4;Dbxref=GeneID:100754303,Ge...     NaN         NaN   \n",
       "ID=rna7;Parent=gene4;Dbxref=GeneID:100754303,Ge...     NaN         NaN   \n",
       "ID=rna8;Parent=gene4;Dbxref=GeneID:100754303,Ge...     NaN         NaN   \n",
       "ID=rna10;Parent=gene6;Dbxref=GeneID:100752216,G...     NaN         NaN   \n",
       "ID=rna11;Parent=gene6;Dbxref=GeneID:100752216,G...     NaN         NaN   \n",
       "\n",
       "                                                   inference Length  \\\n",
       "8                                                                     \n",
       "ID=rna6;Parent=gene4;Dbxref=GeneID:100754303,Ge...       NaN   6739   \n",
       "ID=rna7;Parent=gene4;Dbxref=GeneID:100754303,Ge...       NaN   4437   \n",
       "ID=rna8;Parent=gene4;Dbxref=GeneID:100754303,Ge...       NaN   4437   \n",
       "ID=rna10;Parent=gene6;Dbxref=GeneID:100752216,G...       NaN  11982   \n",
       "ID=rna11;Parent=gene6;Dbxref=GeneID:100752216,G...       NaN  11982   \n",
       "\n",
       "                                                    actual_start  \n",
       "8                                                                 \n",
       "ID=rna6;Parent=gene4;Dbxref=GeneID:100754303,Ge...        724610  \n",
       "ID=rna7;Parent=gene4;Dbxref=GeneID:100754303,Ge...        722308  \n",
       "ID=rna8;Parent=gene4;Dbxref=GeneID:100754303,Ge...        722308  \n",
       "ID=rna10;Parent=gene6;Dbxref=GeneID:100752216,G...       1085435  \n",
       "ID=rna11;Parent=gene6;Dbxref=GeneID:100752216,G...       1085435  \n",
       "\n",
       "[5 rows x 21 columns]"
      ]
     },
     "execution_count": 17,
     "metadata": {},
     "output_type": "execute_result"
    }
   ],
   "source": [
    "for ind in mRNA_anno.index.values:\n",
    "    curr = ind.split(';')\n",
    "    for i in curr:\n",
    "        curr_split = i.split('=')\n",
    "        mRNA_anno.set_value(ind,curr_split[0],curr_split[1])\n",
    "\n",
    "mRNA_anno['Length'] = mRNA_anno['End'] - mRNA_anno['Start']\n",
    "\n",
    "### Need to create an extra column for tss called 'actual_start'. \n",
    "### This is to take care of issue of a gene starting at the End when it's on the minus strand\n",
    "mRNA_anno['actual_start'] = mRNA_anno.apply( lambda x: x['Start'] if x['Strand'] == '+' else x['End'],axis=1)\n",
    "\n",
    "mRNA_anno.head()"
   ]
  },
  {
   "cell_type": "markdown",
   "metadata": {},
   "source": [
    "### For each gene, collapse onto the unique start site so there is no double counting of isoforms that share a start site"
   ]
  },
  {
   "cell_type": "code",
   "execution_count": 24,
   "metadata": {
    "ExecuteTime": {
     "end_time": "2020-02-27T06:16:24.199907Z",
     "start_time": "2020-02-27T06:03:18.207131Z"
    },
    "scrolled": true
   },
   "outputs": [
    {
     "name": "stderr",
     "output_type": "stream",
     "text": [
      "100%|██████████| 35680/35680 [13:05<00:00, 45.44it/s] \n"
     ]
    },
    {
     "name": "stdout",
     "output_type": "stream",
     "text": [
      "CPU times: user 13min 7s, sys: 2.5 s, total: 13min 9s\n",
      "Wall time: 13min 5s\n"
     ]
    }
   ],
   "source": [
    "%%time\n",
    "annotation_start_site = pd.DataFrame(columns=mRNA_anno.columns.values)\n",
    "for group,start_site in tqdm(mRNA_anno.groupby(['actual_start','Chr','gene'])):\n",
    "    if len(start_site) == 1:\n",
    "        annotation_start_site = annotation_start_site.append(start_site)\n",
    "    else:\n",
    "        #Pick the most confident txn and the longest transcript\n",
    "        annotation_start_site = annotation_start_site.append(start_site.sort_values(['Length'],ascending=[False]).iloc[0])\n",
    "annotation_start_site.sort_values(['Chr','Start'],inplace=True)\n",
    "\n",
    "annotation_start_site['Start'] = annotation_start_site['Start'].astype(int)\n",
    "annotation_start_site['End'] = annotation_start_site['End'].astype(int)"
   ]
  },
  {
   "cell_type": "markdown",
   "metadata": {},
   "source": [
    "### Save the start site data"
   ]
  },
  {
   "cell_type": "code",
   "execution_count": 25,
   "metadata": {
    "ExecuteTime": {
     "end_time": "2020-02-27T06:16:24.874005Z",
     "start_time": "2020-02-27T06:16:24.201862Z"
    }
   },
   "outputs": [],
   "source": [
    "annotation_start_site.to_csv(ref_start_f,sep='\\t')"
   ]
  },
  {
   "cell_type": "code",
   "execution_count": null,
   "metadata": {
    "ExecuteTime": {
     "start_time": "2019-01-24T04:10:54.870Z"
    },
    "collapsed": true,
    "deletable": false,
    "editable": false,
    "run_control": {
     "frozen": true
    }
   },
   "outputs": [],
   "source": [
    "### Need to create an extra column for tss called 'actual_start'. \n",
    "### This is to take care of issue of a gene starting at the End when it's on the minus strand\n",
    "annotation_start_site['actual_start'] = annotation_start_site.apply( lambda x: x['Start'] if x['Strand'] == '+' else x['End'],axis=1)"
   ]
  },
  {
   "cell_type": "markdown",
   "metadata": {
    "collapsed": true
   },
   "source": [
    "## Create chrom.sizes , a tab delimited file with the first column being the chromosome name and the second the size"
   ]
  },
  {
   "cell_type": "code",
   "execution_count": 26,
   "metadata": {
    "ExecuteTime": {
     "end_time": "2020-02-27T06:16:32.152235Z",
     "start_time": "2020-02-27T06:16:24.876318Z"
    }
   },
   "outputs": [
    {
     "name": "stdout",
     "output_type": "stream",
     "text": [
      "samtools faidx /data/isshamie/TSS/Analysis/supplemental/genome/ncbi_anno_103/GCF_003668045.1_CriGri-PICR_genomic.fna\n",
      "cut -f1,2 /data/isshamie/TSS/Analysis/supplemental/genome/ncbi_anno_103/GCF_003668045.1_CriGri-PICR_genomic.fna.fai > Results/genome/chrom.sizes\n"
     ]
    },
    {
     "data": {
      "text/plain": [
       "0"
      ]
     },
     "execution_count": 26,
     "metadata": {},
     "output_type": "execute_result"
    }
   ],
   "source": [
    "cmd = \"samtools faidx {ref_fa}\".format(ref_fa=ref_fa)\n",
    "os.system(cmd)\n",
    "print(cmd)\n",
    "cmd = \"cut -f1,2 {ref_fa_ind} > {chrom}\".format(ref_fa_ind=ref_fa + \".fai\" , chrom=join(genome_dir,\"chrom.sizes\"))\n",
    "print(cmd)\n",
    "os.system(cmd)"
   ]
  },
  {
   "cell_type": "markdown",
   "metadata": {},
   "source": [
    "## Save all_genes.tsv , which is just a text file with each row being the gene name"
   ]
  },
  {
   "cell_type": "code",
   "execution_count": 27,
   "metadata": {
    "ExecuteTime": {
     "end_time": "2020-02-27T06:16:33.445451Z",
     "start_time": "2020-02-27T06:16:32.156234Z"
    }
   },
   "outputs": [],
   "source": [
    "with open(all_genes_f,'w') as f:\n",
    "    genes = list(pd.read_csv(mrna_peak,sep=\"\\t\").groupby(\"gene\").groups.keys())\n",
    "    genes.sort()\n",
    "    f.write(\"\\n\".join(genes))\n",
    "    "
   ]
  },
  {
   "cell_type": "markdown",
   "metadata": {},
   "source": [
    "## Save in form of Homer peak file"
   ]
  },
  {
   "cell_type": "code",
   "execution_count": 28,
   "metadata": {
    "ExecuteTime": {
     "end_time": "2020-02-27T06:16:34.336659Z",
     "start_time": "2020-02-27T06:16:33.447109Z"
    }
   },
   "outputs": [],
   "source": [
    "annotation_start_site_homer = pd.read_csv(ref_start_f,sep='\\t',index_col=0)\n",
    "\n",
    "annotation_start_site_homer = annotation_start_site_homer[['Chr','Start','End','Strand','model_evidence']]\n",
    "cols = ['chr','start','end','strand','Normalized Tag Count']\n",
    "annotation_start_site_homer.columns = cols\n",
    "\n",
    "annotation_start_site_homer.head()\n",
    "annotation_start_site_homer.to_csv(ref_start_homer_f,sep='\\t')"
   ]
  },
  {
   "cell_type": "code",
   "execution_count": 29,
   "metadata": {
    "ExecuteTime": {
     "end_time": "2020-02-27T06:16:34.354614Z",
     "start_time": "2020-02-27T06:16:34.338450Z"
    },
    "scrolled": true
   },
   "outputs": [
    {
     "name": "stdout",
     "output_type": "stream",
     "text": [
      "(35680, 21)\n",
      "(46751, 21)\n"
     ]
    }
   ],
   "source": [
    "print(annotation_start_site.shape)\n",
    "print(mRNA_anno.shape)"
   ]
  },
  {
   "cell_type": "markdown",
   "metadata": {},
   "source": [
    "# Descriptives"
   ]
  },
  {
   "cell_type": "code",
   "execution_count": 30,
   "metadata": {
    "ExecuteTime": {
     "end_time": "2020-02-27T06:16:43.209556Z",
     "start_time": "2020-02-27T06:16:34.356031Z"
    },
    "scrolled": true
   },
   "outputs": [
    {
     "name": "stdout",
     "output_type": "stream",
     "text": [
      "Number of unique genes:  21387\n",
      "Number of unique start sites for mrna 35679\n",
      "Number of transcripts 46751\n",
      "Number of exons 630390\n"
     ]
    }
   ],
   "source": [
    "genome_ann_mrna = pd.read_csv(mrna_peak,sep='\\t',index_col=0)\n",
    "\n",
    "genome_ann_exon = pd.read_csv(exon_peak,sep='\\t',index_col=0)\n",
    "\n",
    "#### Number of unique gene_names\n",
    "print('Number of unique genes: ',len(set(genome_ann_mrna[\"gene\"])))\n",
    "#### Number of unique start sites for mrna\n",
    "ss = set()\n",
    "for ind, val in genome_ann_mrna.iterrows():\n",
    "    ss.add(str(val['Start']) + '_' + val['Strand']+ '_' + val['Chr'])\n",
    "print('Number of unique start sites for mrna', len(ss))\n",
    "\n",
    "#print('Number of transcripts per gene: ',1.0*len(genome_ann_mrna)/len(unique_genes))\n",
    "\n",
    "print('Number of transcripts',len(genome_ann_mrna))\n",
    "print ('Number of exons',len(genome_ann_exon))\n",
    "\n"
   ]
  },
  {
   "cell_type": "code",
   "execution_count": 31,
   "metadata": {
    "ExecuteTime": {
     "end_time": "2020-02-27T06:16:43.640255Z",
     "start_time": "2020-02-27T06:16:43.211806Z"
    },
    "scrolled": true
   },
   "outputs": [
    {
     "data": {
      "text/plain": [
       "<matplotlib.axes._subplots.AxesSubplot at 0x7f00c682c390>"
      ]
     },
     "execution_count": 31,
     "metadata": {},
     "output_type": "execute_result"
    },
    {
     "data": {
      "image/png": "[encoded data removed]",
      "text/plain": [
       "<Figure size 576x432 with 1 Axes>"
      ]
     },
     "metadata": {
      "image/png": {
       "height": 402,
       "width": 586
      }
     },
     "output_type": "display_data"
    }
   ],
   "source": [
    "sns.distplot(mRNA_anno['Length'])"
   ]
  },
  {
   "cell_type": "markdown",
   "metadata": {},
   "source": [
    "## Calculate distances between genes"
   ]
  },
  {
   "cell_type": "code",
   "execution_count": 32,
   "metadata": {
    "ExecuteTime": {
     "end_time": "2020-02-27T06:16:57.504965Z",
     "start_time": "2020-02-27T06:16:43.641984Z"
    }
   },
   "outputs": [],
   "source": [
    "distances = []\n",
    "for gr,curr in annotation_start_site.groupby(['Chr','Strand']):\n",
    "    if len(curr) > 1:\n",
    "        for i in range(1,curr.shape[0]):\n",
    "            distances.append(curr.iloc[i]['Start']-curr.iloc[i-1]['Start'])\n",
    "distances = np.array(distances)"
   ]
  },
  {
   "cell_type": "code",
   "execution_count": 35,
   "metadata": {
    "ExecuteTime": {
     "end_time": "2020-02-27T06:38:22.002598Z",
     "start_time": "2020-02-27T06:38:21.608930Z"
    }
   },
   "outputs": [
    {
     "data": {
      "text/plain": [
       "Text(0.5, 0, 'Log distance between genes')"
      ]
     },
     "execution_count": 35,
     "metadata": {},
     "output_type": "execute_result"
    },
    {
     "data": {
      "image/png": "[encoded data removed]",
      "text/plain": [
       "<Figure size 576x432 with 1 Axes>"
      ]
     },
     "metadata": {
      "image/png": {
       "height": 402,
       "width": 541
      }
     },
     "output_type": "display_data"
    }
   ],
   "source": [
    "sns.distplot((np.log10(distances+1)))\n",
    "plt.xlabel('Log distance between genes')"
   ]
  },
  {
   "cell_type": "code",
   "execution_count": 37,
   "metadata": {
    "ExecuteTime": {
     "end_time": "2020-02-27T06:38:51.030803Z",
     "start_time": "2020-02-27T06:38:51.004872Z"
    },
    "scrolled": true
   },
   "outputs": [
    {
     "name": "stdout",
     "output_type": "stream",
     "text": [
      "Number of start sites:  34744\n",
      "Start sites on same bp:  5918\n",
      "Start sites less than 10 bp:  8577\n",
      "Start sites less than 100 bp:  9590\n",
      "Start sites less than 500 bp:  10881\n",
      "Start sites less than 500 bp:  11468\n"
     ]
    }
   ],
   "source": [
    "print('Number of start sites: ', len(distances))\n",
    "print('Start sites on same bp: ' , np.sum(distances == 0))\n",
    "print('Start sites less than 10 bp: ' , np.sum(distances < 10))\n",
    "print('Start sites less than 100 bp: ' , np.sum(distances < 100))\n",
    "print('Start sites less than 500 bp: ' , np.sum(distances < 500))\n",
    "print('Start sites less than 500 bp: ' , np.sum(distances < 1000))"
   ]
  },
  {
   "cell_type": "code",
   "execution_count": 38,
   "metadata": {
    "ExecuteTime": {
     "end_time": "2020-02-27T06:38:59.672006Z",
     "start_time": "2020-02-27T06:38:59.289979Z"
    },
    "scrolled": true
   },
   "outputs": [
    {
     "data": {
      "text/plain": [
       "<matplotlib.axes._subplots.AxesSubplot at 0x7f00960b6358>"
      ]
     },
     "execution_count": 38,
     "metadata": {},
     "output_type": "execute_result"
    },
    {
     "data": {
      "image/png": "[encoded data removed]",
      "text/plain": [
       "<Figure size 576x432 with 1 Axes>"
      ]
     },
     "metadata": {
      "image/png": {
       "height": 383,
       "width": 568
      }
     },
     "output_type": "display_data"
    }
   ],
   "source": [
    "sns.distplot(distances[distances<2000],norm_hist=False)"
   ]
  },
  {
   "cell_type": "code",
   "execution_count": null,
   "metadata": {},
   "outputs": [],
   "source": []
  }
 ],
 "metadata": {
  "kernelspec": {
   "display_name": "Python 2",
   "language": "python",
   "name": "python2"
  },
  "language_info": {
   "codemirror_mode": {
    "name": "ipython",
    "version": 3
   },
   "file_extension": ".py",
   "mimetype": "text/x-python",
   "name": "python",
   "nbconvert_exporter": "python",
   "pygments_lexer": "ipython3",
   "version": "3.7.3"
  }
 },
 "nbformat": 4,
 "nbformat_minor": 2
}
