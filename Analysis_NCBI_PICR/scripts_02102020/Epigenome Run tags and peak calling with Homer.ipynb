{
 "cells": [
  {
   "cell_type": "code",
   "execution_count": 1,
   "metadata": {
    "ExecuteTime": {
     "end_time": "2020-02-26T18:49:38.875839Z",
     "start_time": "2020-02-26T18:49:37.776908Z"
    }
   },
   "outputs": [
    {
     "name": "stdout",
     "output_type": "stream",
     "text": [
      "('Number of tissues: ', 13)\n"
     ]
    }
   ],
   "source": [
    "## Parameters specific to where your folders are and your data\n",
    "parameter_file = '../params/params.yaml'\n",
    "import yaml\n",
    "import sys\n",
    "\n",
    "with open(parameter_file,'r') as f:\n",
    "    doc = yaml.load(f)\n",
    "\n",
    "#p = dic2obj(**doc)\n",
    "\n",
    "data_folder = doc['data_folder']\n",
    "tissues = doc['tissues'].split(',')\n",
    "sys.path.append(doc['pipeline_path'])\n",
    "ref_fa = doc['ref_fa']\n",
    "anno_gff=doc['annotation']\n",
    "mRNA_peak_file = doc[\"mRNA_peak_file\"]\n",
    "\n",
    "tss_annotation = doc['tss_annotation']\n",
    "\n",
    "\n",
    "import os\n",
    "from os.path import join\n",
    "import sys\n",
    "import pandas as pd\n",
    "import matplotlib\n",
    "import seaborn as sns\n",
    "import pickle\n",
    "import numpy as np\n",
    "import matplotlib as mpl\n",
    "from matplotlib import pyplot as plt\n",
    "from itertools import product\n",
    "import glob\n",
    "import re\n",
    "from matplotlib_venn import venn2\n",
    "from matplotlib import rcParams\n",
    "import inspect\n",
    "%matplotlib inline\n",
    "%config InlineBackend.figure_format = 'retina'\n",
    "sys.setrecursionlimit(3000)\n",
    "%load_ext autoreload\n",
    "%autoreload 2\n",
    "rcParams['figure.figsize'] = 8, 6\n",
    "from tqdm import *\n",
    "from os.path import basename\n",
    "##mpl.use('Agg')\n",
    "#mpl.style.use('ggplot')\n",
    "#mpl.style.use('fivethirtyeight')\n",
    "from Homer import *\n",
    "import helper\n",
    "import create_output\n",
    "print('Number of tissues: ',len(tissues))\n",
    "\n",
    "from collections import Counter\n"
   ]
  },
  {
   "cell_type": "markdown",
   "metadata": {},
   "source": [
    "## File and folder names. \n",
    "(input is bam files, and design csv file)"
   ]
  },
  {
   "cell_type": "code",
   "execution_count": null,
   "metadata": {
    "collapsed": true
   },
   "outputs": [],
   "source": []
  },
  {
   "cell_type": "code",
   "execution_count": 6,
   "metadata": {
    "ExecuteTime": {
     "end_time": "2020-02-26T21:42:01.910304Z",
     "start_time": "2020-02-26T21:42:01.854093Z"
    },
    "collapsed": true
   },
   "outputs": [],
   "source": [
    "chip_dir = os.path.join(data_folder,\"external\", \"Sequencing\", \"PRJEB9291\",\"processed\")\n",
    "design = pd.read_csv(os.path.join(chip_dir, \"design.csv\"))\n",
    "bam_dir = os.path.join(chip_dir,\"sortBam\")\n",
    "tag_dir = os.path.join(chip_dir, \"tagDir\")\n",
    "peak_dir = os.path.join(chip_dir, \"peaksDir\")\n",
    "bedgraph_dir = os.path.join(chip_dir, \"bedgraphs\")\n",
    "if not os.path.exists(tag_dir):\n",
    "    os.mkdir(tag_dir)\n",
    "if not os.path.exists(peak_dir):\n",
    "    os.mkdir(peak_dir)\n",
    "if not os.path.exists(bedgraph_dir):\n",
    "    os.mkdir(bedgraph_dir)\n",
    "bam_files = glob.glob(bam_dir + \"/*bam\")"
   ]
  },
  {
   "cell_type": "code",
   "execution_count": 4,
   "metadata": {
    "ExecuteTime": {
     "end_time": "2020-02-26T20:13:57.693122Z",
     "start_time": "2020-02-26T19:05:24.449145Z"
    },
    "scrolled": true
   },
   "outputs": [
    {
     "name": "stdout",
     "output_type": "stream",
     "text": [
      "makeTagDirectory /data/isshamie/TSS/NCBI_PICR_103_Processed/external/Sequencing/PRJEB9291/processed/tagDir/ERS2502088_1 -genome /data/isshamie/genome/ncbi_anno_103/GCF_003668045.1_CriGri-PICR_genomic.fna -checkGC             -single /data/isshamie/TSS/NCBI_PICR_103_Processed/external/Sequencing/PRJEB9291/processed/sortBam/trim_ERS2502088_1.bam\n",
      "makeTagDirectory /data/isshamie/TSS/NCBI_PICR_103_Processed/external/Sequencing/PRJEB9291/processed/tagDir/ERS715572_1 -genome /data/isshamie/genome/ncbi_anno_103/GCF_003668045.1_CriGri-PICR_genomic.fna -checkGC             -single /data/isshamie/TSS/NCBI_PICR_103_Processed/external/Sequencing/PRJEB9291/processed/sortBam/trim_ERS715572_1.bam\n",
      "makeTagDirectory /data/isshamie/TSS/NCBI_PICR_103_Processed/external/Sequencing/PRJEB9291/processed/tagDir/ERS2502102_1 -genome /data/isshamie/genome/ncbi_anno_103/GCF_003668045.1_CriGri-PICR_genomic.fna -checkGC             -single /data/isshamie/TSS/NCBI_PICR_103_Processed/external/Sequencing/PRJEB9291/processed/sortBam/trim_ERS2502102_1.bam\n",
      "makeTagDirectory /data/isshamie/TSS/NCBI_PICR_103_Processed/external/Sequencing/PRJEB9291/processed/tagDir/ERS2502075_1 -genome /data/isshamie/genome/ncbi_anno_103/GCF_003668045.1_CriGri-PICR_genomic.fna -checkGC             -single /data/isshamie/TSS/NCBI_PICR_103_Processed/external/Sequencing/PRJEB9291/processed/sortBam/trim_ERS2502075_1.bam\n",
      "makeTagDirectory /data/isshamie/TSS/NCBI_PICR_103_Processed/external/Sequencing/PRJEB9291/processed/tagDir/ERS2502103_1 -genome /data/isshamie/genome/ncbi_anno_103/GCF_003668045.1_CriGri-PICR_genomic.fna -checkGC             -single /data/isshamie/TSS/NCBI_PICR_103_Processed/external/Sequencing/PRJEB9291/processed/sortBam/trim_ERS2502103_1.bam\n",
      "makeTagDirectory /data/isshamie/TSS/NCBI_PICR_103_Processed/external/Sequencing/PRJEB9291/processed/tagDir/ERS715556_1 -genome /data/isshamie/genome/ncbi_anno_103/GCF_003668045.1_CriGri-PICR_genomic.fna -checkGC             -single /data/isshamie/TSS/NCBI_PICR_103_Processed/external/Sequencing/PRJEB9291/processed/sortBam/trim_ERS715556_1.bam\n",
      "makeTagDirectory /data/isshamie/TSS/NCBI_PICR_103_Processed/external/Sequencing/PRJEB9291/processed/tagDir/ERS2502089_1 -genome /data/isshamie/genome/ncbi_anno_103/GCF_003668045.1_CriGri-PICR_genomic.fna -checkGC             -single /data/isshamie/TSS/NCBI_PICR_103_Processed/external/Sequencing/PRJEB9291/processed/sortBam/trim_ERS2502089_1.bam\n",
      "makeTagDirectory /data/isshamie/TSS/NCBI_PICR_103_Processed/external/Sequencing/PRJEB9291/processed/tagDir/ERS2502074_1 -genome /data/isshamie/genome/ncbi_anno_103/GCF_003668045.1_CriGri-PICR_genomic.fna -checkGC             -single /data/isshamie/TSS/NCBI_PICR_103_Processed/external/Sequencing/PRJEB9291/processed/sortBam/trim_ERS2502074_1.bam\n"
     ]
    }
   ],
   "source": [
    "for bam_in in bam_files: \n",
    "    tag_name = bam_in.split(\"trim_\")[1].split(\".bam\")[0]\n",
    "    full_dir = os.path.join(chip_dir, tag_dir, tag_name)\n",
    "    make_tag_directory(bam_in, full_dir, ref_fa)\n",
    "    #cmd = \"makeTagDirectory {full_dir} {bam_in}\".format(full_dir=full_dir, bam_in=bam_in)\n",
    "    #os.system(cmd)"
   ]
  },
  {
   "cell_type": "markdown",
   "metadata": {},
   "source": [
    "## Make bedgraph files"
   ]
  },
  {
   "cell_type": "code",
   "execution_count": 8,
   "metadata": {
    "ExecuteTime": {
     "end_time": "2020-02-26T21:58:51.446834Z",
     "start_time": "2020-02-26T21:44:07.966438Z"
    },
    "scrolled": true
   },
   "outputs": [
    {
     "name": "stdout",
     "output_type": "stream",
     "text": [
      "makeUCSCfile /data/isshamie/TSS/NCBI_PICR_103_Processed/external/Sequencing/PRJEB9291/processed/tagDir/ERS2502089_1 -o /data/isshamie/TSS/NCBI_PICR_103_Processed/external/Sequencing/PRJEB9291/processed/bedgraphs/ERS2502089_1\n",
      "makeUCSCfile /data/isshamie/TSS/NCBI_PICR_103_Processed/external/Sequencing/PRJEB9291/processed/tagDir/ERS2502088_1 -o /data/isshamie/TSS/NCBI_PICR_103_Processed/external/Sequencing/PRJEB9291/processed/bedgraphs/ERS2502088_1\n",
      "makeUCSCfile /data/isshamie/TSS/NCBI_PICR_103_Processed/external/Sequencing/PRJEB9291/processed/tagDir/ERS2502103_1 -o /data/isshamie/TSS/NCBI_PICR_103_Processed/external/Sequencing/PRJEB9291/processed/bedgraphs/ERS2502103_1\n",
      "makeUCSCfile /data/isshamie/TSS/NCBI_PICR_103_Processed/external/Sequencing/PRJEB9291/processed/tagDir/ERS2502075_1 -o /data/isshamie/TSS/NCBI_PICR_103_Processed/external/Sequencing/PRJEB9291/processed/bedgraphs/ERS2502075_1\n",
      "makeUCSCfile /data/isshamie/TSS/NCBI_PICR_103_Processed/external/Sequencing/PRJEB9291/processed/tagDir/ERS2502074_1 -o /data/isshamie/TSS/NCBI_PICR_103_Processed/external/Sequencing/PRJEB9291/processed/bedgraphs/ERS2502074_1\n",
      "makeUCSCfile /data/isshamie/TSS/NCBI_PICR_103_Processed/external/Sequencing/PRJEB9291/processed/tagDir/ERS715572_1 -o /data/isshamie/TSS/NCBI_PICR_103_Processed/external/Sequencing/PRJEB9291/processed/bedgraphs/ERS715572_1\n",
      "makeUCSCfile /data/isshamie/TSS/NCBI_PICR_103_Processed/external/Sequencing/PRJEB9291/processed/tagDir/ERS715556_1 -o /data/isshamie/TSS/NCBI_PICR_103_Processed/external/Sequencing/PRJEB9291/processed/bedgraphs/ERS715556_1\n",
      "makeUCSCfile /data/isshamie/TSS/NCBI_PICR_103_Processed/external/Sequencing/PRJEB9291/processed/tagDir/ERS2502102_1 -o /data/isshamie/TSS/NCBI_PICR_103_Processed/external/Sequencing/PRJEB9291/processed/bedgraphs/ERS2502102_1\n"
     ]
    }
   ],
   "source": [
    "for curr_tag in glob.glob(tag_dir + \"/*\"): \n",
    "    curr_name = os.path.join(bedgraph_dir, os.path.basename(curr_tag))\n",
    "    cmd = \"makeUCSCfile {curr_tag} -o {curr_name}\".format(curr_tag=curr_tag, curr_name=curr_name)\n",
    "    print(cmd)\n",
    "    os.system(cmd)"
   ]
  },
  {
   "cell_type": "markdown",
   "metadata": {},
   "source": [
    "## findPeaks"
   ]
  },
  {
   "cell_type": "code",
   "execution_count": 5,
   "metadata": {
    "ExecuteTime": {
     "end_time": "2020-02-26T20:13:57.832497Z",
     "start_time": "2020-02-26T20:13:57.695581Z"
    }
   },
   "outputs": [
    {
     "name": "stdout",
     "output_type": "stream",
     "text": [
      "    group  replicate             fastq_1 fastq_2  antibody control\n",
      "9  #Input          3  ERS715567.fastq.gz     NaN       NaN     NaN\n",
      "getDifferentialPeaksReplicates.pl -t /data/isshamie/TSS/NCBI_PICR_103_Processed/external/Sequencing/PRJEB9291/processed/tagDir/ERS715567  -i ERS715556 ERS715572 ERR868163 > /data/isshamie/TSS/NCBI_PICR_103_Processed/external/Sequencing/PRJEB9291/processed/peaksDir/#Input\n",
      "     group  replicate              fastq_1 fastq_2  antibody control\n",
      "0  H3K27Ac          1  ERS2502089.fastq.gz      Ac     Input     NaN\n",
      "1  H3K27Ac          2  ERS2502088.fastq.gz      Ac    Input      NaN\n",
      "getDifferentialPeaksReplicates.pl -t /data/isshamie/TSS/NCBI_PICR_103_Processed/external/Sequencing/PRJEB9291/processed/tagDir/ERS2502089 /data/isshamie/TSS/NCBI_PICR_103_Processed/external/Sequencing/PRJEB9291/processed/tagDir/ERS2502088  -i ERS715556 ERS715572 ERR868163 > /data/isshamie/TSS/NCBI_PICR_103_Processed/external/Sequencing/PRJEB9291/processed/peaksDir/H3K27Ac\n",
      "     group  replicate              fastq_1 fastq_2  antibody control\n",
      "4  H3K4me3          1  ERS2502074.fastq.gz     NaN   H3K4me3   Input\n",
      "5  H3K4me3          2  ERS2502075.fastq.gz     NaN   H3K4me3   Input\n",
      "getDifferentialPeaksReplicates.pl -t /data/isshamie/TSS/NCBI_PICR_103_Processed/external/Sequencing/PRJEB9291/processed/tagDir/ERS2502074 /data/isshamie/TSS/NCBI_PICR_103_Processed/external/Sequencing/PRJEB9291/processed/tagDir/ERS2502075  -i ERS715556 ERS715572 ERR868163 > /data/isshamie/TSS/NCBI_PICR_103_Processed/external/Sequencing/PRJEB9291/processed/peaksDir/H3K4me3\n",
      "     group  replicate              fastq_1 fastq_2  antibody control\n",
      "2  H3K9me3          1  ERS2502102.fastq.gz     NaN   H3K9me3   Input\n",
      "3  H3K9me3          2  ERS2502103.fastq.gz     NaN  H3K9me3    Input\n",
      "getDifferentialPeaksReplicates.pl -t /data/isshamie/TSS/NCBI_PICR_103_Processed/external/Sequencing/PRJEB9291/processed/tagDir/ERS2502102 /data/isshamie/TSS/NCBI_PICR_103_Processed/external/Sequencing/PRJEB9291/processed/tagDir/ERS2502103  -i ERS715556 ERS715572 ERR868163 > /data/isshamie/TSS/NCBI_PICR_103_Processed/external/Sequencing/PRJEB9291/processed/peaksDir/H3K9me3\n"
     ]
    }
   ],
   "source": [
    "inputs = \" \".join(design[design[\"group\"] == \"Input\"][\"fastq_1\"].apply(lambda x: x.split(\".fastq.gz\")[0]))\n",
    "\n",
    "for ind, val in design[design[\"group\"] != \"Input\"].groupby(\"group\"):\n",
    "    print(val)\n",
    "    tags = \" \".join(val[\"fastq_1\"].apply(lambda x: os.path.join(tag_dir, x.split(\".fastq.gz\")[0])))\n",
    "    \n",
    "    curr_out = os.path.join(peak_dir, ind)\n",
    "    cmd = \"getDifferentialPeaksReplicates.pl -t {tags}  -i {inputs} > {curr_out}\".format(tags=tags, inputs=inputs,\n",
    "                                                                                        curr_out=curr_out)\n",
    "    print(cmd)\n",
    "    os.system(cmd)\n",
    "    #cmd = \"findPeaks <tag directory> -style histone -o auto -i <input tag directory>\""
   ]
  },
  {
   "cell_type": "code",
   "execution_count": null,
   "metadata": {
    "ExecuteTime": {
     "end_time": "2020-02-25T21:35:25.312262Z",
     "start_time": "2020-02-25T21:35:25.210490Z"
    },
    "collapsed": true,
    "deletable": false,
    "editable": false,
    "run_control": {
     "frozen": true
    }
   },
   "outputs": [],
   "source": [
    "inputs = \" \".join(design[design[\"group\"] == \"Input\"][\"fastq_1\"].apply(lambda x: x.split(\".fastq.gz\")[0]))\n",
    "\n",
    "for ind, val in design[design[\"group\"] != \"Input\"].groupby(\"group\"):\n",
    "    print(val)\n",
    "    tags = \" \".join(val[\"fastq_1\"].apply(lambda x: os.path.join(tag_dir, x.split(\".fastq.gz\")[0])))\n",
    "    \n",
    "    curr_out = os.path.join(peak_dir, ind)\n",
    "    cmd = \"findPeaks.pl -t {tags}  -i {inputs} > {curr_out}\".format(tags=tags, inputs=inputs,\n",
    "                                                                                        curr_out=curr_out)\n",
    "    print(cmd)\n",
    "    #cmd = \"findPeaks <tag directory> -style histone -o auto -i <input tag directory>\""
   ]
  }
 ],
 "metadata": {
  "kernelspec": {
   "display_name": "Python 3",
   "language": "python",
   "name": "python3"
  },
  "language_info": {
   "codemirror_mode": {
    "name": "ipython",
    "version": 2
   },
   "file_extension": ".py",
   "mimetype": "text/x-python",
   "name": "python",
   "nbconvert_exporter": "python",
   "pygments_lexer": "ipython2",
   "version": "2.7.15"
  }
 },
 "nbformat": 4,
 "nbformat_minor": 2
}
