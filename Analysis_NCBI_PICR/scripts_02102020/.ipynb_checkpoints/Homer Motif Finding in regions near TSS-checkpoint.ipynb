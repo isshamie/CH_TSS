{
 "cells": [
  {
   "cell_type": "markdown",
   "metadata": {},
   "source": [
    "## Extract region of -2:+3 for experimental and reference\n",
    "\n",
    "BBCA+1BW (where B is C/G/T, and W is A/T)  \n",
    "http://genesdev.cshlp.org/content/31/13/1289.full"
   ]
  },
  {
   "cell_type": "code",
   "execution_count": 1,
   "metadata": {
    "ExecuteTime": {
     "end_time": "2020-02-27T19:28:14.207734Z",
     "start_time": "2020-02-27T19:28:13.221427Z"
    }
   },
   "outputs": [
    {
     "name": "stderr",
     "output_type": "stream",
     "text": [
      "/home/isshamie/software/anaconda2/envs/TSS/lib/python3.7/site-packages/ipykernel_launcher.py:7: YAMLLoadWarning: calling yaml.load() without Loader=... is deprecated, as the default Loader is unsafe. Please read https://msg.pyyaml.org/load for full details.\n",
      "  import sys\n"
     ]
    },
    {
     "name": "stdout",
     "output_type": "stream",
     "text": [
      "Number of tissues:  13\n"
     ]
    }
   ],
   "source": [
    "## Parameters specific to where your folders are and your data\n",
    "parameter_file = '../params/params.yaml'\n",
    "import yaml\n",
    "import sys\n",
    "\n",
    "with open(parameter_file,'r') as f:\n",
    "    doc = yaml.load(f)\n",
    "\n",
    "#p = dic2obj(**doc)\n",
    "\n",
    "data_folder = doc['data_folder']\n",
    "tissues = doc['tissues'].split(',')\n",
    "sys.path.append(doc['pipeline_path'])\n",
    "ref_fa = doc['ref_fa']\n",
    "anno_gff=doc['annotation']\n",
    "mRNA_peak_file = doc[\"mRNA_peak_file\"]\n",
    "\n",
    "tss_annotation = doc['tss_annotation']\n",
    "\n",
    "\n",
    "import os\n",
    "\n",
    "import subprocess\n",
    "import sys\n",
    "import pandas as pd\n",
    "import matplotlib\n",
    "import seaborn as sns\n",
    "import pickle\n",
    "import numpy as np\n",
    "import matplotlib as mpl\n",
    "from matplotlib import pyplot as plt\n",
    "from itertools import product\n",
    "import glob\n",
    "import re\n",
    "from matplotlib_venn import venn2\n",
    "from matplotlib import rcParams\n",
    "import inspect\n",
    "%matplotlib inline\n",
    "%config InlineBackend.figure_format = 'retina'\n",
    "sys.setrecursionlimit(3000)\n",
    "%load_ext autoreload\n",
    "%autoreload 2\n",
    "rcParams['figure.figsize'] = 8, 6\n",
    "import tqdm\n",
    "\n",
    "from os.path import basename\n",
    "##mpl.use('Agg')\n",
    "#mpl.style.use('ggplot')\n",
    "#mpl.style.use('fivethirtyeight')\n",
    "from Homer import *\n",
    "import helper\n",
    "import create_output\n",
    "print('Number of tissues: ',len(tissues))"
   ]
  },
  {
   "cell_type": "code",
   "execution_count": 2,
   "metadata": {
    "ExecuteTime": {
     "end_time": "2020-02-27T19:28:14.230385Z",
     "start_time": "2020-02-27T19:28:14.209940Z"
    }
   },
   "outputs": [],
   "source": [
    "save_dir = \"Results/homer_motifs/\"\n",
    "if not os.path.exists(save_dir):\n",
    "    os.mkdir(save_dir)"
   ]
  },
  {
   "cell_type": "markdown",
   "metadata": {},
   "source": [
    "## Read experimental bed file and create its companion refseq region"
   ]
  },
  {
   "cell_type": "code",
   "execution_count": null,
   "metadata": {
    "ExecuteTime": {
     "start_time": "2020-02-27T19:28:12.322Z"
    },
    "scrolled": true
   },
   "outputs": [],
   "source": [
    "exp_bed_f = \"../Results/output/TSS1.exp.bed\"\n",
    "#mrna_bed_f = \"../Results/Figures/Figure3/A.TSS1_mrna\"\n",
    "\n",
    "\n",
    "## Create RefSeq peak file for this\n",
    "meta_f = \"../Results/output/TSS1.exp.meta\"\n",
    "mrna_bed_f = os.path.join(save_dir, \"TSS1.exp_refseq_centered.bed\")\n",
    "\n",
    "#mrna_filt = \"Results/Figures/Figure3/A.mrna\"\n",
    "create_output.exp_bed_to_refseq(exp_bed_f,meta_f,refseq_f=mRNA_peak_file,save_f=mrna_bed_f,is_unique=True)"
   ]
  },
  {
   "cell_type": "markdown",
   "metadata": {},
   "source": [
    "### Create narrow bed file for hg38"
   ]
  },
  {
   "cell_type": "code",
   "execution_count": null,
   "metadata": {
    "ExecuteTime": {
     "start_time": "2020-02-27T19:28:12.330Z"
    },
    "scrolled": true
   },
   "outputs": [],
   "source": [
    "hg38 = pd.read_csv(\"/data/isshamie/genome/hg38/mRNA_final.peak\", sep=\"\\t\")\n",
    "hg38[\"Stat\"] = 0\n",
    "hg38 = hg38[[\"Chr\", \"Start\", \"End\",\"Name\", \"Stat\", \"Strand\"]]\n",
    "hg38 = hg38.drop_duplicates(subset=(\"Chr\",\"Start\", \"End\", \"Strand\"))\n",
    "hg38 = hg38.rename({\"Name\":\"ID\"}, axis=1)\n",
    "\n",
    "hg38_bed_f = os.path.join(save_dir, \"hg38.bed\")\n",
    "write_bed_file(hg38, hg38_bed_f, use_index=False)\n"
   ]
  },
  {
   "cell_type": "markdown",
   "metadata": {},
   "source": [
    "## For both bed files, only take -2:+3"
   ]
  },
  {
   "cell_type": "code",
   "execution_count": null,
   "metadata": {
    "ExecuteTime": {
     "start_time": "2020-02-27T19:28:12.335Z"
    }
   },
   "outputs": [],
   "source": [
    "def bed_subset_region(bed_f, f_save=None, region=(-2,+3)):\n",
    "    bed = read_bed_file(bed_f)\n",
    "    center = np.ceil((bed[\"Start\"] + bed[\"End\"])/2)\n",
    "    bed[\"Start\"] = (center+region[0]).astype(int)\n",
    "    bed[\"End\"] = (center+region[1]).astype(int)\n",
    "    print(bed.columns)\n",
    "    print(bed.index.name)\n",
    "    if f_save is not None:\n",
    "        write_bed_file(bed,f_save)\n",
    "        \n",
    "    return bed"
   ]
  },
  {
   "cell_type": "code",
   "execution_count": null,
   "metadata": {
    "ExecuteTime": {
     "start_time": "2020-02-27T19:28:12.337Z"
    },
    "scrolled": true
   },
   "outputs": [],
   "source": [
    "exp_f_save = os.path.join(save_dir, \"TSS1.exp.narrow.bed\")\n",
    "bed_subset_region(bed_f = exp_bed_f, f_save=exp_f_save, region=(-2,+3))"
   ]
  },
  {
   "cell_type": "code",
   "execution_count": null,
   "metadata": {
    "ExecuteTime": {
     "start_time": "2020-02-27T19:28:12.340Z"
    },
    "scrolled": true
   },
   "outputs": [],
   "source": [
    "mrna_f_save = os.path.join(save_dir, \"TSS1.exp_refseq_centered.narrow.bed\")\n",
    "bed_subset_region(bed_f = mrna_bed_f, f_save=mrna_f_save, region=(-2,+3))"
   ]
  },
  {
   "cell_type": "code",
   "execution_count": null,
   "metadata": {
    "ExecuteTime": {
     "start_time": "2020-02-27T19:28:12.343Z"
    },
    "scrolled": true
   },
   "outputs": [],
   "source": [
    "hg38_f_save = os.path.join(save_dir, \"hg38.narrow.bed\")\n",
    "bed_subset_region(bed_f = hg38_bed_f, f_save=hg38_f_save, region=(-2,+3))"
   ]
  },
  {
   "cell_type": "markdown",
   "metadata": {},
   "source": [
    "## Run findMotifs in Homer"
   ]
  },
  {
   "cell_type": "code",
   "execution_count": 9,
   "metadata": {
    "ExecuteTime": {
     "end_time": "2020-02-26T22:55:28.420630Z",
     "start_time": "2020-02-26T22:55:28.400405Z"
    }
   },
   "outputs": [],
   "source": [
    "def run_findMotifs(bed_f, out_dir, ref_fa, args=None,  bg=None):\n",
    "    if not os.path.exists(curr_dir):\n",
    "        os.mkdir(curr_dir)\n",
    "    cmd = f\"nohup findMotifsGenome.pl {bed_f} {ref_fa} {out_dir} -size given -len 3,4,5 \"\n",
    "    if bg is not None:\n",
    "        cmd = f\"{cmd} -bg {bg} \" \n",
    "    if args is not None:\n",
    "        cmd = cmd + \" \".join(args) + \" \"\n",
    "    cmd = f\"{cmd} > {out_dir}.log\"\n",
    "    print(cmd)\n",
    "    os.system(cmd)    \n",
    "    return"
   ]
  },
  {
   "cell_type": "code",
   "execution_count": 10,
   "metadata": {
    "ExecuteTime": {
     "end_time": "2020-02-26T23:04:36.638837Z",
     "start_time": "2020-02-26T22:55:28.422536Z"
    }
   },
   "outputs": [
    {
     "name": "stdout",
     "output_type": "stream",
     "text": [
      "nohup findMotifsGenome.pl Results/homer_motifs/TSS1.exp.narrow.bed /data/isshamie/genome/ncbi_anno_103/GCF_003668045.1_CriGri-PICR_genomic.fna Results/homer_motifs/eTSS_bg_rTSS_nocpg -size given -len 3,4,5  -bg Results/homer_motifs/TSS1.exp_refseq_centered.narrow.bed  > Results/homer_motifs/eTSS_bg_rTSS_nocpg.log\n",
      "nohup findMotifsGenome.pl Results/homer_motifs/TSS1.exp.narrow.bed /data/isshamie/genome/ncbi_anno_103/GCF_003668045.1_CriGri-PICR_genomic.fna Results/homer_motifs/eTSS_motifs_nocpg -size given -len 3,4,5  > Results/homer_motifs/eTSS_motifs_nocpg.log\n",
      "nohup findMotifsGenome.pl Results/homer_motifs/TSS1.exp_refseq_centered.narrow.bed /data/isshamie/genome/ncbi_anno_103/GCF_003668045.1_CriGri-PICR_genomic.fna Results/homer_motifs/rTSS_motifs_nocpg -size given -len 3,4,5  > Results/homer_motifs/rTSS_motifs_nocpg.log\n",
      "nohup findMotifsGenome.pl Results/homer_motifs/hg38.narrow.bed /data/isshamie/genome/hg38/GCF_000001405.38_GRCh38.p12_genomic.fna Results/homer_motifs/hg38_nocpg -size given -len 3,4,5  > Results/homer_motifs/hg38_nocpg.log\n"
     ]
    }
   ],
   "source": [
    "curr_dir = os.path.join(save_dir, \"eTSS_bg_rTSS_nocpg\")\n",
    "run_findMotifs(exp_f_save, out_dir=curr_dir,ref_fa=ref_fa, bg=mrna_f_save)\n",
    "\n",
    "\n",
    "exp_dir = os.path.join(save_dir, \"eTSS_motifs_nocpg\")\n",
    "run_findMotifs(exp_f_save, out_dir=exp_dir,ref_fa=ref_fa)\n",
    "\n",
    "ref_dir = os.path.join(save_dir, \"rTSS_motifs_nocpg\")\n",
    "run_findMotifs(mrna_f_save, out_dir=ref_dir,ref_fa=ref_fa)\n",
    "\n",
    "hg38_out = os.path.join(save_dir, \"hg38_nocpg\")\n",
    "hg38_genome = \"/data/isshamie/genome/hg38/GCF_000001405.38_GRCh38.p12_genomic.fna\"\n",
    "run_findMotifs(hg38_f_save, out_dir=hg38_out,ref_fa=hg38_genome)\n",
    "\n"
   ]
  },
  {
   "cell_type": "code",
   "execution_count": 11,
   "metadata": {
    "ExecuteTime": {
     "end_time": "2020-02-26T23:13:15.049983Z",
     "start_time": "2020-02-26T23:04:36.641020Z"
    },
    "scrolled": false
   },
   "outputs": [
    {
     "name": "stdout",
     "output_type": "stream",
     "text": [
      "nohup findMotifsGenome.pl Results/homer_motifs/TSS1.exp.narrow.bed /data/isshamie/genome/ncbi_anno_103/GCF_003668045.1_CriGri-PICR_genomic.fna Results/homer_motifs/eTSS_bg_rTSS -size given -len 3,4,5  -bg Results/homer_motifs/TSS1.exp_refseq_centered.narrow.bed -cpg  > Results/homer_motifs/eTSS_bg_rTSS.log\n",
      "nohup findMotifsGenome.pl Results/homer_motifs/TSS1.exp.narrow.bed /data/isshamie/genome/ncbi_anno_103/GCF_003668045.1_CriGri-PICR_genomic.fna Results/homer_motifs/eTSS_motifs -size given -len 3,4,5 -cpg  > Results/homer_motifs/eTSS_motifs.log\n",
      "nohup findMotifsGenome.pl Results/homer_motifs/TSS1.exp_refseq_centered.narrow.bed /data/isshamie/genome/ncbi_anno_103/GCF_003668045.1_CriGri-PICR_genomic.fna Results/homer_motifs/rTSS_motifs -size given -len 3,4,5 -cpg  > Results/homer_motifs/rTSS_motifs.log\n",
      "nohup findMotifsGenome.pl Results/homer_motifs/hg38.narrow.bed /data/isshamie/genome/hg38/GCF_000001405.38_GRCh38.p12_genomic.fna Results/homer_motifs/hg38 -size given -len 3,4,5 -cpg  > Results/homer_motifs/hg38.log\n"
     ]
    }
   ],
   "source": [
    "curr_dir = os.path.join(save_dir, \"eTSS_bg_rTSS\")\n",
    "run_findMotifs(exp_f_save, out_dir=curr_dir,ref_fa=ref_fa, bg=mrna_f_save, args=[\"-cpg\"])\n",
    "\n",
    "exp_dir = os.path.join(save_dir, \"eTSS_motifs\")\n",
    "run_findMotifs(exp_f_save, out_dir=exp_dir,ref_fa=ref_fa, args=[\"-cpg\"])\n",
    "\n",
    "ref_dir = os.path.join(save_dir, \"rTSS_motifs\")\n",
    "run_findMotifs(mrna_f_save, out_dir=ref_dir,ref_fa=ref_fa, args=[\"-cpg\"])\n",
    "\n",
    "hg38_out = os.path.join(save_dir, \"hg38\")\n",
    "hg38_genome = \"/data/isshamie/genome/hg38/GCF_000001405.38_GRCh38.p12_genomic.fna\"\n",
    "run_findMotifs(hg38_f_save, out_dir=hg38_out,ref_fa=hg38_genome, args=[\"-cpg\"])\n"
   ]
  },
  {
   "cell_type": "code",
   "execution_count": 13,
   "metadata": {
    "ExecuteTime": {
     "end_time": "2020-02-26T21:34:09.212982Z",
     "start_time": "2020-02-26T21:32:41.146033Z"
    },
    "deletable": false,
    "editable": false,
    "run_control": {
     "frozen": true
    },
    "scrolled": true
   },
   "outputs": [
    {
     "name": "stdout",
     "output_type": "stream",
     "text": [
      "nohup findMotifsGenome.pl Results/homer_motifs/TSS1.exp.narrow.bed /data/isshamie/genome/ncbi_anno_103/GCF_003668045.1_CriGri-PICR_genomic.fna Results/homer_motifs/eTSS_bg_rTSS_nocpg -size given -bg Results/homer_motifs/TSS1.exp_refseq_centered.narrow.bed -len 3,4,5 > Results/homer_motifs/eTSS_bg_rTSS_nocpg.log\n"
     ]
    },
    {
     "data": {
      "text/plain": [
       "0"
      ]
     },
     "execution_count": 13,
     "metadata": {},
     "output_type": "execute_result"
    }
   ],
   "source": [
    "curr_dir = os.path.join(save_dir, \"eTSS_bg_rTSS_nocpg\")\n",
    "if not os.path.exists(curr_dir):\n",
    "    os.mkdir(curr_dir)\n",
    "\n",
    "run_findMotifs(exp_f_save, out_dir=curr_dir,ref_fa=ref_fa, bg=mrna_f_save)\n",
    "\n",
    "cmd = f\"nohup findMotifsGenome.pl {exp_f_save} {ref_fa} {curr_dir} -size given -bg {mrna_f_save} -len 3,4,5 > {curr_dir}.log\"\n",
    "print(cmd)\n",
    "os.system(cmd)"
   ]
  },
  {
   "cell_type": "code",
   "execution_count": 10,
   "metadata": {
    "ExecuteTime": {
     "end_time": "2020-02-26T19:46:50.495084Z",
     "start_time": "2020-02-26T19:40:43.431727Z"
    },
    "deletable": false,
    "editable": false,
    "run_control": {
     "frozen": true
    },
    "scrolled": true
   },
   "outputs": [
    {
     "name": "stdout",
     "output_type": "stream",
     "text": [
      "findMotifsGenome.pl Results/homer_motifs/TSS1.exp.narrow.bed /data/isshamie/genome/ncbi_anno_103/GCF_003668045.1_CriGri-PICR_genomic.fna Results/homer_motifs/eTSS_motifs_nocpg -size given -len 3,4,5 \n"
     ]
    },
    {
     "data": {
      "text/plain": [
       "0"
      ]
     },
     "execution_count": 10,
     "metadata": {},
     "output_type": "execute_result"
    }
   ],
   "source": [
    "exp_dir = os.path.join(save_dir, \"eTSS_motifs_nocpg\")\n",
    "if not os.path.exists(exp_dir):\n",
    "    os.mkdir(exp_dir)\n",
    "cmd = f\"nohup findMotifsGenome.pl {exp_f_save} {ref_fa} {exp_dir} -size given -len 3,4,5 > {exp_dir}.log\"\n",
    "print(cmd)\n",
    "os.system(cmd)"
   ]
  },
  {
   "cell_type": "code",
   "execution_count": 11,
   "metadata": {
    "ExecuteTime": {
     "end_time": "2020-02-26T19:49:33.057353Z",
     "start_time": "2020-02-26T19:46:50.498521Z"
    },
    "deletable": false,
    "editable": false,
    "run_control": {
     "frozen": true
    }
   },
   "outputs": [
    {
     "name": "stdout",
     "output_type": "stream",
     "text": [
      "findMotifsGenome.pl Results/homer_motifs/TSS1.exp.narrow.bed /data/isshamie/genome/ncbi_anno_103/GCF_003668045.1_CriGri-PICR_genomic.fna Results/homer_motifs/rTSS_motifs_nocpg -size given -len 3,4,5 \n"
     ]
    },
    {
     "data": {
      "text/plain": [
       "0"
      ]
     },
     "execution_count": 11,
     "metadata": {},
     "output_type": "execute_result"
    }
   ],
   "source": [
    "ref_dir = os.path.join(save_dir, \"rTSS_motifs_nocpg\")\n",
    "if not os.path.exists(ref_dir):\n",
    "    os.mkdir(ref_dir)\n",
    "cmd = f\"nohup findMotifsGenome.pl {exp_f_save} {ref_fa} {ref_dir} -size given -len 3,4,5 > {ref_dir}.log \"\n",
    "print(cmd)\n",
    "os.system(cmd)"
   ]
  },
  {
   "cell_type": "code",
   "execution_count": 25,
   "metadata": {
    "ExecuteTime": {
     "end_time": "2020-02-26T20:42:45.003114Z",
     "start_time": "2020-02-26T20:42:42.054586Z"
    },
    "deletable": false,
    "editable": false,
    "run_control": {
     "frozen": true
    },
    "scrolled": true
   },
   "outputs": [
    {
     "name": "stdout",
     "output_type": "stream",
     "text": [
      "findMotifsGenome.pl Results/homer_motifs/hg38.narrow.bed /data/isshamie/genome/hg38/GCF_000001405.38_GRCh38.p12_genomic.fna Results/homer_motifs/hg38 -size given -len 3,4,5,6 \n"
     ]
    },
    {
     "data": {
      "text/plain": [
       "2"
      ]
     },
     "execution_count": 25,
     "metadata": {},
     "output_type": "execute_result"
    }
   ],
   "source": [
    "hg38_out = os.path.join(save_dir, \"hg38_nocpg\")\n",
    "if not os.path.exists(hg38_out):\n",
    "    os.mkdir(hg38_out)\n",
    "\n",
    "hg38_genome = \"/data/isshamie/genome/hg38/GCF_000001405.38_GRCh38.p12_genomic.fna\"\n",
    "cmd = f\"nohup findMotifsGenome.pl {hg38_f_save} {hg38_genome} {hg38_out} -size given -len 3,4,5 {hg38}.log\"\n",
    "print(cmd)\n",
    "os.system(cmd)"
   ]
  },
  {
   "cell_type": "code",
   "execution_count": 13,
   "metadata": {
    "ExecuteTime": {
     "end_time": "2020-02-26T19:54:07.562120Z",
     "start_time": "2020-02-26T19:51:20.059671Z"
    },
    "deletable": false,
    "editable": false,
    "run_control": {
     "frozen": true
    },
    "scrolled": false
   },
   "outputs": [
    {
     "name": "stdout",
     "output_type": "stream",
     "text": [
      "findMotifsGenome.pl Results/homer_motifs/TSS1.exp.narrow.bed /data/isshamie/genome/ncbi_anno_103/GCF_003668045.1_CriGri-PICR_genomic.fna Results/homer_motifs/rTSS_motifs -size given -len 3,4,5  -cpg\n"
     ]
    },
    {
     "data": {
      "text/plain": [
       "0"
      ]
     },
     "execution_count": 13,
     "metadata": {},
     "output_type": "execute_result"
    }
   ],
   "source": [
    "ref_dir = os.path.join(save_dir, \"rTSS_motifs\")\n",
    "if not os.path.exists(ref_dir):\n",
    "    os.mkdir(ref_dir)\n",
    "cmd = f\"findMotifsGenome.pl {exp_f_save} {ref_fa} {ref_dir} -size given -len 3,4,5 -cpg\"\n",
    "print(cmd)\n",
    "os.system(cmd)"
   ]
  },
  {
   "cell_type": "code",
   "execution_count": 16,
   "metadata": {
    "ExecuteTime": {
     "end_time": "2020-02-26T20:16:06.772391Z",
     "start_time": "2020-02-26T20:14:53.814470Z"
    },
    "deletable": false,
    "editable": false,
    "run_control": {
     "frozen": true
    },
    "scrolled": true
   },
   "outputs": [
    {
     "name": "stdout",
     "output_type": "stream",
     "text": [
      "findMotifsGenome.pl Results/homer_motifs/TSS1.exp.narrow.bed /data/isshamie/genome/ncbi_anno_103/GCF_003668045.1_CriGri-PICR_genomic.fna Results/homer_motifs/exp_bg_ref_dir_motifs -size given -bg Results/homer_motifs/TSS1.exp_refseq_centered.narrow.bed -len 3,4,5  -cpg\n"
     ]
    },
    {
     "data": {
      "text/plain": [
       "0"
      ]
     },
     "execution_count": 16,
     "metadata": {},
     "output_type": "execute_result"
    }
   ],
   "source": [
    "exp_bg_ref_dir = os.path.join(save_dir, \"exp_bg_ref_dir_motifs\")\n",
    "if not os.path.exists(exp_bg_ref_dir):\n",
    "    os.mkdir(exp_bg_ref_dir)\n",
    "cmd = f\"findMotifsGenome.pl {exp_f_save} {ref_fa} {exp_bg_ref_dir} -size given -bg {mrna_f_save} -len 3,4,5  -cpg\"\n",
    "print(cmd)\n",
    "os.system(cmd)"
   ]
  },
  {
   "cell_type": "code",
   "execution_count": 15,
   "metadata": {
    "ExecuteTime": {
     "end_time": "2020-02-26T19:58:31.198020Z",
     "start_time": "2020-02-26T19:55:22.224476Z"
    },
    "deletable": false,
    "editable": false,
    "run_control": {
     "frozen": true
    },
    "scrolled": true
   },
   "outputs": [
    {
     "name": "stdout",
     "output_type": "stream",
     "text": [
      "findMotifsGenome.pl Results/homer_motifs/TSS1.exp.narrow.bed /data/isshamie/genome/ncbi_anno_103/GCF_003668045.1_CriGri-PICR_genomic.fna Results/homer_motifs/eTSS_motifs -size given -len 3,4,5  -cpg\n"
     ]
    },
    {
     "data": {
      "text/plain": [
       "0"
      ]
     },
     "execution_count": 15,
     "metadata": {},
     "output_type": "execute_result"
    }
   ],
   "source": [
    "exp_dir = os.path.join(save_dir, \"eTSS_motifs\")\n",
    "if not os.path.exists(exp_dir):\n",
    "    os.mkdir(exp_dir)\n",
    "cmd = f\"findMotifsGenome.pl {exp_f_save} {ref_fa} {exp_dir} -size given -len 3,4,5  -cpg\"\n",
    "print(cmd)\n",
    "os.system(cmd)"
   ]
  },
  {
   "cell_type": "markdown",
   "metadata": {},
   "source": [
    "## Plot PWM and Results"
   ]
  }
 ],
 "metadata": {
  "kernelspec": {
   "display_name": "Python 3",
   "language": "python",
   "name": "python3"
  },
  "language_info": {
   "codemirror_mode": {
    "name": "ipython",
    "version": 3
   },
   "file_extension": ".py",
   "mimetype": "text/x-python",
   "name": "python",
   "nbconvert_exporter": "python",
   "pygments_lexer": "ipython3",
   "version": "3.7.3"
  }
 },
 "nbformat": 4,
 "nbformat_minor": 2
}
