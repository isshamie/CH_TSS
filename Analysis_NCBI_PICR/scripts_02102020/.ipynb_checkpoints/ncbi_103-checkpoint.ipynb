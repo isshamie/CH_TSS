{
 "cells": [
  {
   "cell_type": "code",
   "execution_count": 1,
   "metadata": {
    "ExecuteTime": {
     "end_time": "2020-02-27T05:56:47.070069Z",
     "start_time": "2020-02-27T05:56:45.708221Z"
    }
   },
   "outputs": [
    {
     "name": "stderr",
     "output_type": "stream",
     "text": [
      "/home/isshamie/software/anaconda2/envs/TSS/lib/python3.7/site-packages/ipykernel_launcher.py:7: YAMLLoadWarning: calling yaml.load() without Loader=... is deprecated, as the default Loader is unsafe. Please read https://msg.pyyaml.org/load for full details.\n",
      "  import sys\n"
     ]
    },
    {
     "name": "stdout",
     "output_type": "stream",
     "text": [
      "Number of tissues:  13\n"
     ]
    }
   ],
   "source": [
    "## Parameters specific to where your folders are and your data\n",
    "parameter_file = '../params/params.yaml'\n",
    "import yaml\n",
    "import sys\n",
    "\n",
    "with open(parameter_file,'r') as f:\n",
    "    doc = yaml.load(f)\n",
    "\n",
    "#p = dic2obj(**doc)\n",
    "\n",
    "data_folder = doc['data_folder']\n",
    "tissues = doc['tissues'].split(',')\n",
    "sys.path.append(doc['pipeline_path'])\n",
    "ref_fa = doc['ref_fa']\n",
    "anno_gff=doc['annotation']\n",
    "mRNA_peak_file = doc[\"mRNA_peak_file\"]\n",
    "\n",
    "tss_annotation = doc['tss_annotation']\n",
    "\n",
    "import tqdm\n",
    "import os\n",
    "from os.path import join\n",
    "import sys\n",
    "import pandas as pd\n",
    "import matplotlib\n",
    "import seaborn as sns\n",
    "import pickle\n",
    "import numpy as np\n",
    "import matplotlib as mpl\n",
    "from matplotlib import pyplot as plt\n",
    "from itertools import product\n",
    "import glob\n",
    "import re\n",
    "from matplotlib_venn import venn2\n",
    "from matplotlib import rcParams\n",
    "import inspect\n",
    "%matplotlib inline\n",
    "%config InlineBackend.figure_format = 'retina'\n",
    "sys.setrecursionlimit(3000)\n",
    "%load_ext autoreload\n",
    "%autoreload 2\n",
    "rcParams['figure.figsize'] = 8, 6\n",
    "from tqdm import *\n",
    "from os.path import basename\n",
    "##mpl.use('Agg')\n",
    "#mpl.style.use('ggplot')\n",
    "#mpl.style.use('fivethirtyeight')\n",
    "from Homer import *\n",
    "import helper\n",
    "import create_output\n",
    "print('Number of tissues: ',len(tissues))\n",
    "\n",
    "from collections import Counter\n"
   ]
  },
  {
   "cell_type": "code",
   "execution_count": 2,
   "metadata": {
    "ExecuteTime": {
     "end_time": "2020-02-27T05:56:47.143371Z",
     "start_time": "2020-02-27T05:56:47.074007Z"
    },
    "scrolled": true
   },
   "outputs": [],
   "source": [
    "# import os\n",
    "# import sys\n",
    "# import pandas as pd\n",
    "# import matplotlib\n",
    "# import seaborn as sns\n",
    "# import pickle\n",
    "# import numpy as np\n",
    "# import matplotlib as mpl\n",
    "# from matplotlib import pyplot as plt\n",
    "# from itertools import product\n",
    "# import glob\n",
    "# import re\n",
    "# from matplotlib_venn import venn2\n",
    "# from matplotlib import rcParams\n",
    "# %matplotlib inline\n",
    "# %config InlineBackend.figure_format = 'retina'\n",
    "# sys.setrecursionlimit(3000)\n",
    "# sns.set_context('notebook')\n",
    "# %load_ext autoreload\n",
    "# %autoreload 2\n",
    "# rcParams['figure.figsize'] = 8, 6\n",
    "# rcParams['font.family'] = 'sans-serif'\n",
    "# rcParams['font.sans-serif'] = ['Tahoma']\n",
    "# import tqdm\n",
    "# ### notebook specific configuration ###\n",
    "# from os.path import basename\n",
    "# mpl.style.use('fivethirtyeight')"
   ]
  },
  {
   "cell_type": "code",
   "execution_count": 3,
   "metadata": {
    "ExecuteTime": {
     "end_time": "2020-02-27T05:56:47.178828Z",
     "start_time": "2020-02-27T05:56:47.146915Z"
    }
   },
   "outputs": [],
   "source": [
    "from os.path import join"
   ]
  },
  {
   "cell_type": "code",
   "execution_count": 4,
   "metadata": {
    "ExecuteTime": {
     "end_time": "2020-02-27T05:56:47.208158Z",
     "start_time": "2020-02-27T05:56:47.181891Z"
    }
   },
   "outputs": [],
   "source": [
    "from Homer import *"
   ]
  },
  {
   "cell_type": "markdown",
   "metadata": {},
   "source": [
    "## Input Files"
   ]
  },
  {
   "cell_type": "code",
   "execution_count": 5,
   "metadata": {
    "ExecuteTime": {
     "end_time": "2020-02-27T05:56:47.231803Z",
     "start_time": "2020-02-27T05:56:47.210143Z"
    }
   },
   "outputs": [],
   "source": [
    "genome_raw_dir = os.path.join(doc[\"supplemental\"], \"genome\", \"ncbi_anno_103\")\n",
    "ref_fa = os.path.join(genome_raw_dir,'GCF_003668045.1_CriGri-PICR_genomic.fna')\n",
    "annotation = os.path.join(genome_raw_dir,'alt_CriGri-PICR_top_level.gff3')\n",
    "                      "
   ]
  },
  {
   "cell_type": "markdown",
   "metadata": {},
   "source": [
    "## Output files"
   ]
  },
  {
   "cell_type": "code",
   "execution_count": 6,
   "metadata": {
    "ExecuteTime": {
     "end_time": "2020-02-27T05:56:47.255849Z",
     "start_time": "2020-02-27T05:56:47.234111Z"
    }
   },
   "outputs": [],
   "source": [
    "genome_dir = \"Results/genome/\"\n",
    "if not os.path.exists(genome_dir):\n",
    "    os.mkdir(genome_dir)"
   ]
  },
  {
   "cell_type": "code",
   "execution_count": 7,
   "metadata": {
    "ExecuteTime": {
     "end_time": "2020-02-27T05:56:47.300222Z",
     "start_time": "2020-02-27T05:56:47.259174Z"
    }
   },
   "outputs": [],
   "source": [
    "ref_start_f = join(genome_dir,'start_site_mRNA.tsv')\n",
    "mrna_peak = join(genome_dir,'mRNA.peak')\n",
    "exon_peak = join(genome_dir,'exon.peak')\n",
    "cds_peak = join(genome_dir,'CDS.peak')\n",
    "\n",
    "cds_bed = join(genome_dir, 'CDS.bed')\n",
    "mrna_bed = join(genome_dir,'mRNA.bed')\n",
    "cds_gff = join(genome_dir, 'CDS.gff')\n",
    "mrna_gff = join(genome_dir, 'mRNA.gff')\n",
    "\n",
    "all_genes_f = join(genome_dir,\"all_genes.tsv\")\n",
    "ref_start_homer_f= join(genome_dir,'start_site_mRNA_homer.tsv')"
   ]
  },
  {
   "cell_type": "markdown",
   "metadata": {},
   "source": [
    "### Create a mock peak file of the RefSeq mRNA and exons to be used later"
   ]
  },
  {
   "cell_type": "code",
   "execution_count": null,
   "metadata": {
    "ExecuteTime": {
     "start_time": "2020-02-27T05:56:45.724Z"
    },
    "scrolled": true
   },
   "outputs": [],
   "source": [
    "createPeakFileFromGFF(\n",
    "    annotation,\n",
    "    output_file=mrna_peak,\n",
    "    anno_of_interest='mRNA',\n",
    "    is_start=True)\n",
    "\n",
    "createPeakFileFromGFF(\n",
    "    annotation,\n",
    "    output_file=exon_peak,\n",
    "    anno_of_interest='exon',\n",
    "    is_start=True)\n",
    "\n",
    "createPeakFileFromGFF(\n",
    "    annotation,\n",
    "    output_file=cds_peak,\n",
    "    anno_of_interest='CDS',\n",
    "    is_start=True)"
   ]
  },
  {
   "cell_type": "markdown",
   "metadata": {},
   "source": [
    "### Read in mrna_peak and separate the gene information"
   ]
  },
  {
   "cell_type": "code",
   "execution_count": null,
   "metadata": {
    "ExecuteTime": {
     "start_time": "2020-02-27T05:56:45.730Z"
    },
    "code_folding": [],
    "scrolled": true
   },
   "outputs": [],
   "source": [
    "mrna_peak_df = pd.read_csv(mrna_peak,sep=\"\\t\",index_col=0)\n",
    "\n",
    "for ind in mrna_peak_df.index.values:\n",
    "    curr = ind.split(';')\n",
    "    for i in curr:\n",
    "        curr_split = i.split('=')\n",
    "        mrna_peak_df.set_value(ind,curr_split[0],curr_split[1])\n",
    "\n",
    "mrna_peak_df.set_index(\"transcript_id\",inplace=True)\n",
    "mrna_peak_df.index.drop_duplicates() #There is one duplicate transcript\n",
    "mrna_peak_df.to_csv(mrna_peak,sep=\"\\t\",index=\"transcript_id\")\n",
    "\n",
    "mrna_peak_df.head()"
   ]
  },
  {
   "cell_type": "code",
   "execution_count": null,
   "metadata": {
    "ExecuteTime": {
     "start_time": "2020-02-27T05:56:45.733Z"
    },
    "scrolled": true
   },
   "outputs": [],
   "source": [
    "mrna_peak_150 = './mRNA_150.peak'\n",
    "createPeakFileFromGFF(\n",
    "    annotation,\n",
    "    output_file=mrna_peak_150,\n",
    "    anno_of_interest='mRNA',\n",
    "    is_start=True,\n",
    "    shift=75)\n"
   ]
  },
  {
   "cell_type": "code",
   "execution_count": null,
   "metadata": {
    "ExecuteTime": {
     "start_time": "2020-02-27T05:56:45.735Z"
    },
    "scrolled": true
   },
   "outputs": [],
   "source": [
    "mrna_peak_150_df = pd.read_csv(mrna_peak_150,sep=\"\\t\",index_col=0)\n",
    "\n",
    "for ind in mrna_peak_150_df.index.values:\n",
    "    curr = ind.split(';')\n",
    "    for i in curr:\n",
    "        curr_split = i.split('=')\n",
    "        mrna_peak_150_df.set_value(ind,curr_split[0],curr_split[1])\n",
    "mrna_peak_150_df.set_index(\"transcript_id\",inplace=True)\n",
    "mrna_peak_150_df.to_csv(mrna_peak_150,sep=\"\\t\",index=\"transcript_id\")\n",
    "\n",
    "mrna_peak_150_df.head()"
   ]
  },
  {
   "cell_type": "markdown",
   "metadata": {},
   "source": [
    "### First take the mRNA and CDS separately. "
   ]
  },
  {
   "cell_type": "markdown",
   "metadata": {},
   "source": [
    "### Create CDS and mRNA gff and bed file"
   ]
  },
  {
   "cell_type": "code",
   "execution_count": null,
   "metadata": {
    "ExecuteTime": {
     "start_time": "2020-02-27T05:56:45.743Z"
    }
   },
   "outputs": [],
   "source": [
    "cmd = \"awk '{ if ($3==\\\"mRNA\\\") {print}  }' %s > %s\" % (annotation,mrna_gff)\n",
    "print(cmd)\n",
    "!{cmd}"
   ]
  },
  {
   "cell_type": "code",
   "execution_count": null,
   "metadata": {
    "ExecuteTime": {
     "start_time": "2020-02-27T05:56:45.745Z"
    }
   },
   "outputs": [],
   "source": [
    "cmd = \"awk '{ if ($3==\\\"CDS\\\") {print}  }' %s > %s\" % (annotation,cds_gff)\n",
    "print(cmd)\n",
    "!{cmd}"
   ]
  },
  {
   "cell_type": "code",
   "execution_count": null,
   "metadata": {
    "ExecuteTime": {
     "start_time": "2020-02-27T05:56:45.747Z"
    }
   },
   "outputs": [],
   "source": [
    "cmd = \"gff2bed < {cds_gff} > {cds_bed}\".format(cds_gff= cds_gff, cds_bed=cds_bed)\n",
    "print(cmd)\n",
    "os.system(cmd)"
   ]
  },
  {
   "cell_type": "code",
   "execution_count": null,
   "metadata": {
    "ExecuteTime": {
     "start_time": "2020-02-27T05:56:45.748Z"
    }
   },
   "outputs": [],
   "source": [
    "cmd = \"gff2bed < {mrna_gff} > {mrna_bed}\".format(mrna_gff= mrna_gff, mrna_bed=mrna_bed)\n",
    "print(cmd)\n",
    "os.system(cmd)"
   ]
  },
  {
   "cell_type": "markdown",
   "metadata": {},
   "source": [
    "--------------------"
   ]
  },
  {
   "cell_type": "markdown",
   "metadata": {},
   "source": [
    "# Construct start site specific file\n",
    "'ID','Chr','Start','End','Strand','CS','gene_id','gene','transcript_id' \n",
    "If two transcripts have the same start site, pick the one with lower cs (more confident), if the same cs, pick the longer TS"
   ]
  },
  {
   "cell_type": "markdown",
   "metadata": {},
   "source": [
    "### Read in annotation"
   ]
  },
  {
   "cell_type": "code",
   "execution_count": null,
   "metadata": {
    "ExecuteTime": {
     "start_time": "2020-02-27T05:56:45.764Z"
    }
   },
   "outputs": [],
   "source": [
    "mRNA_anno = pd.read_csv(mrna_gff,sep='\\t',header=None,index_col=8)\n",
    "#Munge data for downstream processing\n",
    "cols = mRNA_anno.columns.values\n",
    "cols = ['Chr','Merge','Type','Start','End','.','Strand','..']\n",
    "mRNA_anno.columns= cols\n",
    "#Drop the unncesseary columns\n",
    "mRNA_anno.drop(['Merge','.','..','Type'],axis=1,inplace=True)\n",
    "mRNA_anno.head()"
   ]
  },
  {
   "cell_type": "markdown",
   "metadata": {},
   "source": [
    "### Break the annotation id into its separate components and calculate distances"
   ]
  },
  {
   "cell_type": "code",
   "execution_count": null,
   "metadata": {
    "ExecuteTime": {
     "start_time": "2020-02-27T05:56:45.774Z"
    },
    "scrolled": true
   },
   "outputs": [],
   "source": [
    "for ind in mRNA_anno.index.values:\n",
    "    curr = ind.split(';')\n",
    "    for i in curr:\n",
    "        curr_split = i.split('=')\n",
    "        mRNA_anno.set_value(ind,curr_split[0],curr_split[1])\n",
    "\n",
    "mRNA_anno['Length'] = mRNA_anno['End'] - mRNA_anno['Start']\n",
    "\n",
    "### Need to create an extra column for tss called 'actual_start'. \n",
    "### This is to take care of issue of a gene starting at the End when it's on the minus strand\n",
    "mRNA_anno['actual_start'] = mRNA_anno.apply( lambda x: x['Start'] if x['Strand'] == '+' else x['End'],axis=1)\n",
    "\n",
    "mRNA_anno.head()"
   ]
  },
  {
   "cell_type": "markdown",
   "metadata": {},
   "source": [
    "### For each gene, collapse onto the unique start site so there is no double counting of isoforms that share a start site"
   ]
  },
  {
   "cell_type": "code",
   "execution_count": null,
   "metadata": {
    "ExecuteTime": {
     "start_time": "2020-02-27T05:56:45.780Z"
    },
    "scrolled": true
   },
   "outputs": [],
   "source": [
    "%%time\n",
    "annotation_start_site = pd.DataFrame(columns=mRNA_anno.columns.values)\n",
    "for group,start_site in tqdm.tqdm(mRNA_anno.groupby(['actual_start','Chr','gene'])):\n",
    "    if len(start_site) == 1:\n",
    "        annotation_start_site = annotation_start_site.append(start_site)\n",
    "    else:\n",
    "        #Pick the most confident txn and the longest transcript\n",
    "        annotation_start_site = annotation_start_site.append(start_site.sort_values(['Length'],ascending=[False]).iloc[0])\n",
    "annotation_start_site.sort_values(['Chr','Start'],inplace=True)\n",
    "\n",
    "annotation_start_site['Start'] = annotation_start_site['Start'].astype(int)\n",
    "annotation_start_site['End'] = annotation_start_site['End'].astype(int)"
   ]
  },
  {
   "cell_type": "markdown",
   "metadata": {},
   "source": [
    "### Save the start site data"
   ]
  },
  {
   "cell_type": "code",
   "execution_count": null,
   "metadata": {
    "ExecuteTime": {
     "start_time": "2020-02-27T05:56:45.786Z"
    }
   },
   "outputs": [],
   "source": [
    "annotation_start_site.to_csv(ref_start_f,sep='\\t')"
   ]
  },
  {
   "cell_type": "code",
   "execution_count": null,
   "metadata": {
    "ExecuteTime": {
     "start_time": "2019-01-24T04:10:54.870Z"
    },
    "collapsed": true,
    "deletable": false,
    "editable": false,
    "run_control": {
     "frozen": true
    }
   },
   "outputs": [],
   "source": [
    "### Need to create an extra column for tss called 'actual_start'. \n",
    "### This is to take care of issue of a gene starting at the End when it's on the minus strand\n",
    "annotation_start_site['actual_start'] = annotation_start_site.apply( lambda x: x['Start'] if x['Strand'] == '+' else x['End'],axis=1)"
   ]
  },
  {
   "cell_type": "markdown",
   "metadata": {
    "collapsed": true
   },
   "source": [
    "## Create chrom.sizes , a tab delimited file with the first column being the chromosome name and the second the size"
   ]
  },
  {
   "cell_type": "code",
   "execution_count": null,
   "metadata": {
    "ExecuteTime": {
     "start_time": "2020-02-27T05:56:45.791Z"
    }
   },
   "outputs": [],
   "source": [
    "cmd = \"samtools faidx {ref_fa}\".format(ref_fa=ref_fa)\n",
    "os.system(cmd)\n",
    "print(cmd)\n",
    "cmd = \"cut -f1,2 {ref_fa_ind} > {chrom}\".format(ref_fa_ind=ref_fa + \".fai\" , chrom=join(genome_dir,\"chrom.sizes\"))\n",
    "print(cmd)\n",
    "os.system(cmd)"
   ]
  },
  {
   "cell_type": "markdown",
   "metadata": {},
   "source": [
    "## Save all_genes.tsv , which is just a text file with each row being the gene name"
   ]
  },
  {
   "cell_type": "code",
   "execution_count": null,
   "metadata": {
    "ExecuteTime": {
     "start_time": "2020-02-27T05:56:45.797Z"
    }
   },
   "outputs": [],
   "source": [
    "list(genes).sort"
   ]
  },
  {
   "cell_type": "code",
   "execution_count": null,
   "metadata": {
    "ExecuteTime": {
     "start_time": "2020-02-27T05:56:45.799Z"
    }
   },
   "outputs": [],
   "source": [
    "with open(all_genes_f,'w') as f:\n",
    "    genes = list(pd.read_csv(mrna_peak,sep=\"\\t\").groupby(\"gene\").groups.keys())\n",
    "    genes.sort()\n",
    "    f.write(\"\\n\".join(genes))\n",
    "    "
   ]
  },
  {
   "cell_type": "markdown",
   "metadata": {},
   "source": [
    "## Save in form of Homer peak file"
   ]
  },
  {
   "cell_type": "code",
   "execution_count": null,
   "metadata": {
    "ExecuteTime": {
     "start_time": "2020-02-27T05:56:45.803Z"
    }
   },
   "outputs": [],
   "source": [
    "annotation_start_site_homer = pd.read_csv(ref_start_f,sep='\\t',index_col=0)\n",
    "\n",
    "annotation_start_site_homer = annotation_start_site_homer[['Chr','Start','End','Strand','model_evidence']]\n",
    "cols = ['chr','start','end','strand','Normalized Tag Count']\n",
    "annotation_start_site_homer.columns = cols\n",
    "\n",
    "annotation_start_site_homer.head()\n",
    "annotation_start_site_homer.to_csv(ref_start_homer_f,sep='\\t')"
   ]
  },
  {
   "cell_type": "code",
   "execution_count": null,
   "metadata": {
    "ExecuteTime": {
     "start_time": "2020-02-27T05:56:45.805Z"
    },
    "scrolled": true
   },
   "outputs": [],
   "source": [
    "print(annotation_start_site.shape)\n",
    "print(mRNA_anno.shape)"
   ]
  },
  {
   "cell_type": "markdown",
   "metadata": {},
   "source": [
    "# Descriptives"
   ]
  },
  {
   "cell_type": "code",
   "execution_count": null,
   "metadata": {
    "ExecuteTime": {
     "start_time": "2020-02-27T05:56:45.809Z"
    },
    "scrolled": true
   },
   "outputs": [],
   "source": [
    "genome_ann_mrna = pd.read_csv(mrna_peak,sep='\\t',index_col=0)\n",
    "\n",
    "genome_ann_exon = pd.read_csv(exon_peak,sep='\\t',index_col=0)\n",
    "\n",
    "#### Number of unique gene_names\n",
    "print('Number of unique genes: ',len(set(genome_ann_mrna[\"gene\"])))\n",
    "#### Number of unique start sites for mrna\n",
    "ss = set()\n",
    "for ind, val in genome_ann_mrna.iterrows():\n",
    "    ss.add(str(val['Start']) + '_' + val['Strand']+ '_' + val['Chr'])\n",
    "print('Number of unique start sites for mrna', len(ss))\n",
    "\n",
    "#print('Number of transcripts per gene: ',1.0*len(genome_ann_mrna)/len(unique_genes))\n",
    "\n",
    "print('Number of transcripts',len(genome_ann_mrna))\n",
    "print ('Number of exons',len(genome_ann_exon))\n",
    "\n"
   ]
  },
  {
   "cell_type": "code",
   "execution_count": null,
   "metadata": {
    "ExecuteTime": {
     "start_time": "2020-02-27T05:56:45.811Z"
    },
    "scrolled": true
   },
   "outputs": [],
   "source": [
    "sns.distplot(mRNA_anno['Length'])"
   ]
  },
  {
   "cell_type": "markdown",
   "metadata": {},
   "source": [
    "## Calculate distances between genes"
   ]
  },
  {
   "cell_type": "code",
   "execution_count": null,
   "metadata": {
    "ExecuteTime": {
     "start_time": "2020-02-27T05:56:45.815Z"
    }
   },
   "outputs": [],
   "source": [
    "distances = []\n",
    "for gr,curr in annotation_start_site.groupby(['Chr','Strand']):\n",
    "    if len(curr) > 1:\n",
    "        for i in range(1,curr.shape[0]):\n",
    "            distances.append(curr.iloc[i]['Start']-curr.iloc[i-1]['Start'])\n",
    "distances = np.array(distances)"
   ]
  },
  {
   "cell_type": "code",
   "execution_count": null,
   "metadata": {
    "ExecuteTime": {
     "start_time": "2020-02-27T05:56:45.817Z"
    }
   },
   "outputs": [],
   "source": [
    "sns.distplot((np.log10(distances)))\n",
    "plt.xlabel('Log distance between genes')"
   ]
  },
  {
   "cell_type": "code",
   "execution_count": null,
   "metadata": {
    "ExecuteTime": {
     "start_time": "2020-02-27T05:56:45.818Z"
    },
    "scrolled": true
   },
   "outputs": [],
   "source": [
    "print 'Number of start sites: ', len(distances)\n",
    "print 'Start sites on same bp: ' , np.sum(distances == 0)\n",
    "print 'Start sites less than 10 bp: ' , np.sum(distances < 10)\n",
    "print 'Start sites less than 100 bp: ' , np.sum(distances < 100)\n",
    "print 'Start sites less than 500 bp: ' , np.sum(distances < 500)\n",
    "print 'Start sites less than 500 bp: ' , np.sum(distances < 1000)"
   ]
  },
  {
   "cell_type": "code",
   "execution_count": null,
   "metadata": {
    "ExecuteTime": {
     "start_time": "2020-02-27T05:56:45.820Z"
    },
    "scrolled": true
   },
   "outputs": [],
   "source": [
    "sns.distplot(distances[distances<2000],norm_hist=False)"
   ]
  },
  {
   "cell_type": "code",
   "execution_count": null,
   "metadata": {},
   "outputs": [],
   "source": []
  }
 ],
 "metadata": {
  "kernelspec": {
   "display_name": "Python 2",
   "language": "python",
   "name": "python2"
  },
  "language_info": {
   "codemirror_mode": {
    "name": "ipython",
    "version": 3
   },
   "file_extension": ".py",
   "mimetype": "text/x-python",
   "name": "python",
   "nbconvert_exporter": "python",
   "pygments_lexer": "ipython3",
   "version": "3.7.3"
  }
 },
 "nbformat": 4,
 "nbformat_minor": 2
}
