{
 "cells": [
  {
   "cell_type": "markdown",
   "metadata": {},
   "source": [
    "## Compare epigenetic marks with current TSS (and putative peaks)\n",
    "marks taken from http://cho-epigenome.boku.ac.at/"
   ]
  },
  {
   "cell_type": "code",
   "execution_count": 1,
   "metadata": {
    "ExecuteTime": {
     "end_time": "2020-02-27T23:25:14.746487Z",
     "start_time": "2020-02-27T23:25:13.939593Z"
    },
    "scrolled": true
   },
   "outputs": [
    {
     "name": "stderr",
     "output_type": "stream",
     "text": [
      "/home/isshamie/software/anaconda2/envs/TSS/lib/python3.7/site-packages/ipykernel_launcher.py:7: YAMLLoadWarning: calling yaml.load() without Loader=... is deprecated, as the default Loader is unsafe. Please read https://msg.pyyaml.org/load for full details.\n",
      "  import sys\n"
     ]
    },
    {
     "name": "stdout",
     "output_type": "stream",
     "text": [
      "Number of tissues:  13\n"
     ]
    }
   ],
   "source": [
    "## Parameters specific to where your folders are and your data\n",
    "parameter_file = '../params/params.yaml'\n",
    "import yaml\n",
    "import sys\n",
    "\n",
    "with open(parameter_file,'r') as f:\n",
    "    doc = yaml.load(f)\n",
    "\n",
    "#p = dic2obj(**doc)\n",
    "\n",
    "data_folder = doc['data_folder']\n",
    "tissues = doc['tissues'].split(',')\n",
    "sys.path.append(doc['pipeline_path'])\n",
    "ref_fa = doc['ref_fa']\n",
    "anno_gff=doc['annotation']\n",
    "mRNA_peak_file = doc[\"mRNA_peak_file\"]\n",
    "tss_annotation = doc['tss_annotation']\n",
    "supplemental = doc[\"supplemental\"]\n",
    "\n",
    "import os\n",
    "\n",
    "import subprocess\n",
    "import sys\n",
    "import pandas as pd\n",
    "import matplotlib\n",
    "import seaborn as sns\n",
    "import pickle\n",
    "import numpy as np\n",
    "import matplotlib as mpl\n",
    "from matplotlib import pyplot as plt\n",
    "from itertools import product\n",
    "import glob\n",
    "import re\n",
    "from matplotlib_venn import venn2\n",
    "from matplotlib import rcParams\n",
    "import inspect\n",
    "%matplotlib inline\n",
    "%config InlineBackend.figure_format = 'retina'\n",
    "sys.setrecursionlimit(3000)\n",
    "%load_ext autoreload\n",
    "%autoreload 2\n",
    "rcParams['figure.figsize'] = 8, 6\n",
    "import tqdm\n",
    "\n",
    "from os.path import basename\n",
    "from os.path import join\n",
    "##mpl.use('Agg')\n",
    "#mpl.style.use('ggplot')\n",
    "#mpl.style.use('fivethirtyeight')\n",
    "from Homer import *\n",
    "import helper\n",
    "import create_output\n",
    "print('Number of tissues: ',len(tissues))\n",
    "\n",
    "import re"
   ]
  },
  {
   "cell_type": "markdown",
   "metadata": {},
   "source": [
    "### Output "
   ]
  },
  {
   "cell_type": "code",
   "execution_count": 2,
   "metadata": {
    "ExecuteTime": {
     "end_time": "2020-02-27T23:25:14.763144Z",
     "start_time": "2020-02-27T23:25:14.748041Z"
    }
   },
   "outputs": [],
   "source": [
    "chrom_dir = \"Results/chromHMM_overlap\"\n",
    "if not os.path.exists(chrom_dir):\n",
    "    os.mkdir(chrom_dir)\n",
    "    \n",
    "tss_1bp_bed_f = join(chrom_dir, \"TSS_1bp_exp.bed\")\n",
    "\n",
    "overlap_dir = join(chrom_dir, \"overlap_dir\")\n",
    "if not os.path.exists(overlap_dir):\n",
    "    os.mkdir(overlap_dir)\n",
    "\n",
    "states_dir = join(chrom_dir, \"states_dir\")\n",
    "if not os.path.exists(states_dir):\n",
    "    os.mkdir(states_dir)\n"
   ]
  },
  {
   "cell_type": "markdown",
   "metadata": {},
   "source": [
    "### Read in files and directories"
   ]
  },
  {
   "cell_type": "markdown",
   "metadata": {},
   "source": [
    "#### HMM results"
   ]
  },
  {
   "cell_type": "code",
   "execution_count": 3,
   "metadata": {
    "ExecuteTime": {
     "end_time": "2020-02-27T23:25:14.785399Z",
     "start_time": "2020-02-27T23:25:14.764899Z"
    }
   },
   "outputs": [],
   "source": [
    "chromHMM_dir = join(supplemental, \"epigenome\", \"PRJEB9291\",\"chromHMM_results\")\n",
    "hmm_files = glob.glob(chromHMM_dir+\"/*.bed\")\n",
    "states_map = pd.read_csv(join(chromHMM_dir, \"marks.csv\"),header=None)\n",
    "\n",
    "states_map_dict = {val[0]:re.sub(\"\\)\",\"\",re.sub(\" \\(*\",\"_\",val[1])) for _,val in states_map.iterrows()}\n"
   ]
  },
  {
   "cell_type": "code",
   "execution_count": 4,
   "metadata": {
    "ExecuteTime": {
     "end_time": "2020-02-27T23:25:14.801929Z",
     "start_time": "2020-02-27T23:25:14.786954Z"
    },
    "scrolled": false
   },
   "outputs": [
    {
     "data": {
      "text/plain": [
       "{1: 'Repressed_heterochromatin_H3K9me3',\n",
       " 2: 'Quiescent',\n",
       " 3: 'Polycomb_repressed_regions_H3K27me3',\n",
       " 4: 'Strong_transcription_H3K36me3',\n",
       " 5: 'Genic_enhancer',\n",
       " 6: 'Enhancer_H3K27ac_low',\n",
       " 7: 'Enhancer_H3K27ac_high',\n",
       " 8: 'Regulatory_element',\n",
       " 9: 'Active_promoter_H3K27ac_high',\n",
       " 10: 'Active_promoter_H3K27ac_low',\n",
       " 11: 'Flanking_TSS'}"
      ]
     },
     "execution_count": 4,
     "metadata": {},
     "output_type": "execute_result"
    }
   ],
   "source": [
    "states_map_dict"
   ]
  },
  {
   "cell_type": "markdown",
   "metadata": {},
   "source": [
    "#### Only using Tp0 "
   ]
  },
  {
   "cell_type": "code",
   "execution_count": 5,
   "metadata": {
    "ExecuteTime": {
     "end_time": "2020-02-27T23:25:14.816217Z",
     "start_time": "2020-02-27T23:25:14.803263Z"
    }
   },
   "outputs": [],
   "source": [
    "curr_hmm_f = join(chromHMM_dir, 'Tp0_11_all_dense.bed')"
   ]
  },
  {
   "cell_type": "markdown",
   "metadata": {},
   "source": [
    "#### TSS results"
   ]
  },
  {
   "cell_type": "code",
   "execution_count": 6,
   "metadata": {
    "ExecuteTime": {
     "end_time": "2020-02-27T23:25:14.830484Z",
     "start_time": "2020-02-27T23:25:14.817524Z"
    }
   },
   "outputs": [],
   "source": [
    "TSS_exp_bed_f = \"../Results/output/TSS1.exp.bed\"\n",
    "CHO_exp_bed_f = \"../Results/tss_annotation_peaks/sample_CHO_GROCap1_and_CHO_GRO1.tsv\""
   ]
  },
  {
   "cell_type": "code",
   "execution_count": 7,
   "metadata": {
    "ExecuteTime": {
     "end_time": "2020-02-27T23:25:14.846336Z",
     "start_time": "2020-02-27T23:25:14.831801Z"
    }
   },
   "outputs": [],
   "source": [
    "def read_chromHMM_bed(f):\n",
    "    df = pd.read_csv(f, sep=\"\\t\", header=None, skiprows=1)\n",
    "    columns = df.columns.values.astype(str)\n",
    "    columns[:6] = [\"Chr\", \"Start\",\"End\",\"State\",\"Stat\",\"Strand\"]\n",
    "    df.columns = columns\n",
    "    return df"
   ]
  },
  {
   "cell_type": "code",
   "execution_count": 8,
   "metadata": {
    "ExecuteTime": {
     "end_time": "2020-02-27T23:25:15.137001Z",
     "start_time": "2020-02-27T23:25:14.848376Z"
    }
   },
   "outputs": [],
   "source": [
    "curr_hmm = read_chromHMM_bed(curr_hmm_f)"
   ]
  },
  {
   "cell_type": "markdown",
   "metadata": {},
   "source": [
    "#### Check if chromosomes are covered in genome"
   ]
  },
  {
   "cell_type": "code",
   "execution_count": 9,
   "metadata": {
    "ExecuteTime": {
     "end_time": "2020-02-27T23:25:15.277194Z",
     "start_time": "2020-02-27T23:25:15.139808Z"
    },
    "scrolled": true
   },
   "outputs": [
    {
     "name": "stdout",
     "output_type": "stream",
     "text": [
      "Number of missing chromosomes: 0\n"
     ]
    }
   ],
   "source": [
    "chromosomes = curr_hmm[\"Chr\"].unique()\n",
    "chromosomes_ref = pd.read_csv('Results/genome/chrom.sizes',sep=\"\\t\", header=None)[0].unique()\n",
    "chrom_not_in_mrna = set()\n",
    "for chrom in chromosomes:\n",
    "    if chrom not in chromosomes_ref:\n",
    "        chrom_not_in_mrna.add(chrom)\n",
    "        print(chrom)\n",
    "print(f\"Number of missing chromosomes: {len(chrom_not_in_mrna)}\")"
   ]
  },
  {
   "cell_type": "markdown",
   "metadata": {},
   "source": [
    "## Look at overlap bed "
   ]
  },
  {
   "cell_type": "markdown",
   "metadata": {},
   "source": [
    "### Steps:\n",
    "- A. For TSS.bed, make sure only one basepair.\n",
    "- B. Split up chromHMM into separate bed files for each state\n",
    "- C. Bedtools intersect for each of them\n",
    "- D. Read number of lines for each and construct vector of nStates where each value is TSS %, which is just number of lines in the intersection file\n"
   ]
  },
  {
   "cell_type": "code",
   "execution_count": 10,
   "metadata": {
    "ExecuteTime": {
     "end_time": "2020-02-27T23:25:15.342737Z",
     "start_time": "2020-02-27T23:25:15.278677Z"
    }
   },
   "outputs": [
    {
     "data": {
      "text/html": [
       "<div>\n",
       "<style scoped>\n",
       "    .dataframe tbody tr th:only-of-type {\n",
       "        vertical-align: middle;\n",
       "    }\n",
       "\n",
       "    .dataframe tbody tr th {\n",
       "        vertical-align: top;\n",
       "    }\n",
       "\n",
       "    .dataframe thead th {\n",
       "        text-align: right;\n",
       "    }\n",
       "</style>\n",
       "<table border=\"1\" class=\"dataframe\">\n",
       "  <thead>\n",
       "    <tr style=\"text-align: right;\">\n",
       "      <th></th>\n",
       "      <th>Chr</th>\n",
       "      <th>Start</th>\n",
       "      <th>End</th>\n",
       "      <th>Stat</th>\n",
       "      <th>Strand</th>\n",
       "    </tr>\n",
       "    <tr>\n",
       "      <th>ID</th>\n",
       "      <th></th>\n",
       "      <th></th>\n",
       "      <th></th>\n",
       "      <th></th>\n",
       "      <th></th>\n",
       "    </tr>\n",
       "  </thead>\n",
       "  <tbody>\n",
       "    <tr>\n",
       "      <td>p1@Bmp4_XM_027386529.1</td>\n",
       "      <td>NW_020822366.1</td>\n",
       "      <td>722208</td>\n",
       "      <td>722359</td>\n",
       "      <td>1.779596</td>\n",
       "      <td>-</td>\n",
       "    </tr>\n",
       "    <tr>\n",
       "      <td>p2@Bmp4_XM_027386529.1</td>\n",
       "      <td>NW_020822366.1</td>\n",
       "      <td>721599</td>\n",
       "      <td>721750</td>\n",
       "      <td>0.506505</td>\n",
       "      <td>-</td>\n",
       "    </tr>\n",
       "    <tr>\n",
       "      <td>p3@Bmp4_XM_027386529.1</td>\n",
       "      <td>NW_020822366.1</td>\n",
       "      <td>721832</td>\n",
       "      <td>721983</td>\n",
       "      <td>0.580925</td>\n",
       "      <td>-</td>\n",
       "    </tr>\n",
       "    <tr>\n",
       "      <td>p1@Bmp4_XM_027386528.1</td>\n",
       "      <td>NW_020822366.1</td>\n",
       "      <td>724533</td>\n",
       "      <td>724684</td>\n",
       "      <td>4.074290</td>\n",
       "      <td>-</td>\n",
       "    </tr>\n",
       "    <tr>\n",
       "      <td>p1@Cdkn3_XM_027386531.1</td>\n",
       "      <td>NW_020822366.1</td>\n",
       "      <td>1085431</td>\n",
       "      <td>1085582</td>\n",
       "      <td>1.212188</td>\n",
       "      <td>+</td>\n",
       "    </tr>\n",
       "    <tr>\n",
       "      <td>...</td>\n",
       "      <td>...</td>\n",
       "      <td>...</td>\n",
       "      <td>...</td>\n",
       "      <td>...</td>\n",
       "      <td>...</td>\n",
       "    </tr>\n",
       "    <tr>\n",
       "      <td>p1@LOC113839076_XM_027434536.1</td>\n",
       "      <td>NW_020824066.1</td>\n",
       "      <td>29450</td>\n",
       "      <td>29601</td>\n",
       "      <td>0.667453</td>\n",
       "      <td>+</td>\n",
       "    </tr>\n",
       "    <tr>\n",
       "      <td>p1@LOC113839076_XM_027434535.1</td>\n",
       "      <td>NW_020824066.1</td>\n",
       "      <td>29879</td>\n",
       "      <td>30030</td>\n",
       "      <td>0.229426</td>\n",
       "      <td>+</td>\n",
       "    </tr>\n",
       "    <tr>\n",
       "      <td>p1@LOC113839111_XM_027434561.1</td>\n",
       "      <td>NW_020824120.1</td>\n",
       "      <td>10402</td>\n",
       "      <td>10553</td>\n",
       "      <td>1.600973</td>\n",
       "      <td>+</td>\n",
       "    </tr>\n",
       "    <tr>\n",
       "      <td>p2@LOC113839111_XM_027434561.1</td>\n",
       "      <td>NW_020824120.1</td>\n",
       "      <td>9878</td>\n",
       "      <td>10029</td>\n",
       "      <td>0.574031</td>\n",
       "      <td>+</td>\n",
       "    </tr>\n",
       "    <tr>\n",
       "      <td>p1@LOC113839113_XM_027434564.1</td>\n",
       "      <td>NW_020824123.1</td>\n",
       "      <td>675</td>\n",
       "      <td>713</td>\n",
       "      <td>0.604226</td>\n",
       "      <td>+</td>\n",
       "    </tr>\n",
       "  </tbody>\n",
       "</table>\n",
       "<p>30775 rows × 5 columns</p>\n",
       "</div>"
      ],
      "text/plain": [
       "                                           Chr    Start      End      Stat  \\\n",
       "ID                                                                           \n",
       "p1@Bmp4_XM_027386529.1          NW_020822366.1   722208   722359  1.779596   \n",
       "p2@Bmp4_XM_027386529.1          NW_020822366.1   721599   721750  0.506505   \n",
       "p3@Bmp4_XM_027386529.1          NW_020822366.1   721832   721983  0.580925   \n",
       "p1@Bmp4_XM_027386528.1          NW_020822366.1   724533   724684  4.074290   \n",
       "p1@Cdkn3_XM_027386531.1         NW_020822366.1  1085431  1085582  1.212188   \n",
       "...                                        ...      ...      ...       ...   \n",
       "p1@LOC113839076_XM_027434536.1  NW_020824066.1    29450    29601  0.667453   \n",
       "p1@LOC113839076_XM_027434535.1  NW_020824066.1    29879    30030  0.229426   \n",
       "p1@LOC113839111_XM_027434561.1  NW_020824120.1    10402    10553  1.600973   \n",
       "p2@LOC113839111_XM_027434561.1  NW_020824120.1     9878    10029  0.574031   \n",
       "p1@LOC113839113_XM_027434564.1  NW_020824123.1      675      713  0.604226   \n",
       "\n",
       "                               Strand  \n",
       "ID                                     \n",
       "p1@Bmp4_XM_027386529.1              -  \n",
       "p2@Bmp4_XM_027386529.1              -  \n",
       "p3@Bmp4_XM_027386529.1              -  \n",
       "p1@Bmp4_XM_027386528.1              -  \n",
       "p1@Cdkn3_XM_027386531.1             +  \n",
       "...                               ...  \n",
       "p1@LOC113839076_XM_027434536.1      +  \n",
       "p1@LOC113839076_XM_027434535.1      +  \n",
       "p1@LOC113839111_XM_027434561.1      +  \n",
       "p2@LOC113839111_XM_027434561.1      +  \n",
       "p1@LOC113839113_XM_027434564.1      +  \n",
       "\n",
       "[30775 rows x 5 columns]"
      ]
     },
     "execution_count": 10,
     "metadata": {},
     "output_type": "execute_result"
    }
   ],
   "source": [
    "TSS_exp_bed = read_bed_file(TSS_exp_bed_f)\n",
    "TSS_exp_bed"
   ]
  },
  {
   "cell_type": "markdown",
   "metadata": {},
   "source": [
    "###  Make TSS a Single basepair "
   ]
  },
  {
   "cell_type": "code",
   "execution_count": 11,
   "metadata": {
    "ExecuteTime": {
     "end_time": "2020-02-27T23:25:15.358015Z",
     "start_time": "2020-02-27T23:25:15.344089Z"
    }
   },
   "outputs": [],
   "source": [
    "def create_single_bp():\n",
    "    #Note, only works with odd length distances. Even will not have center\n",
    "    return"
   ]
  },
  {
   "cell_type": "code",
   "execution_count": 12,
   "metadata": {
    "ExecuteTime": {
     "end_time": "2020-02-27T23:25:15.554506Z",
     "start_time": "2020-02-27T23:25:15.359293Z"
    }
   },
   "outputs": [
    {
     "data": {
      "text/html": [
       "<div>\n",
       "<style scoped>\n",
       "    .dataframe tbody tr th:only-of-type {\n",
       "        vertical-align: middle;\n",
       "    }\n",
       "\n",
       "    .dataframe tbody tr th {\n",
       "        vertical-align: top;\n",
       "    }\n",
       "\n",
       "    .dataframe thead th {\n",
       "        text-align: right;\n",
       "    }\n",
       "</style>\n",
       "<table border=\"1\" class=\"dataframe\">\n",
       "  <thead>\n",
       "    <tr style=\"text-align: right;\">\n",
       "      <th></th>\n",
       "      <th>Chr</th>\n",
       "      <th>Start</th>\n",
       "      <th>End</th>\n",
       "      <th>Stat</th>\n",
       "      <th>Strand</th>\n",
       "      <th>ID</th>\n",
       "    </tr>\n",
       "    <tr>\n",
       "      <th>ID</th>\n",
       "      <th></th>\n",
       "      <th></th>\n",
       "      <th></th>\n",
       "      <th></th>\n",
       "      <th></th>\n",
       "      <th></th>\n",
       "    </tr>\n",
       "  </thead>\n",
       "  <tbody>\n",
       "    <tr>\n",
       "      <td>p1@Bmp4_XM_027386529.1</td>\n",
       "      <td>NW_020822366.1</td>\n",
       "      <td>722283</td>\n",
       "      <td>722284</td>\n",
       "      <td>1.779596</td>\n",
       "      <td>-</td>\n",
       "      <td>p1@Bmp4_XM_027386529.1</td>\n",
       "    </tr>\n",
       "    <tr>\n",
       "      <td>p2@Bmp4_XM_027386529.1</td>\n",
       "      <td>NW_020822366.1</td>\n",
       "      <td>721674</td>\n",
       "      <td>721675</td>\n",
       "      <td>0.506505</td>\n",
       "      <td>-</td>\n",
       "      <td>p2@Bmp4_XM_027386529.1</td>\n",
       "    </tr>\n",
       "    <tr>\n",
       "      <td>p3@Bmp4_XM_027386529.1</td>\n",
       "      <td>NW_020822366.1</td>\n",
       "      <td>721907</td>\n",
       "      <td>721908</td>\n",
       "      <td>0.580925</td>\n",
       "      <td>-</td>\n",
       "      <td>p3@Bmp4_XM_027386529.1</td>\n",
       "    </tr>\n",
       "    <tr>\n",
       "      <td>p1@Bmp4_XM_027386528.1</td>\n",
       "      <td>NW_020822366.1</td>\n",
       "      <td>724608</td>\n",
       "      <td>724609</td>\n",
       "      <td>4.074290</td>\n",
       "      <td>-</td>\n",
       "      <td>p1@Bmp4_XM_027386528.1</td>\n",
       "    </tr>\n",
       "    <tr>\n",
       "      <td>p1@Cdkn3_XM_027386531.1</td>\n",
       "      <td>NW_020822366.1</td>\n",
       "      <td>1085506</td>\n",
       "      <td>1085507</td>\n",
       "      <td>1.212188</td>\n",
       "      <td>+</td>\n",
       "      <td>p1@Cdkn3_XM_027386531.1</td>\n",
       "    </tr>\n",
       "    <tr>\n",
       "      <td>...</td>\n",
       "      <td>...</td>\n",
       "      <td>...</td>\n",
       "      <td>...</td>\n",
       "      <td>...</td>\n",
       "      <td>...</td>\n",
       "      <td>...</td>\n",
       "    </tr>\n",
       "    <tr>\n",
       "      <td>p1@LOC113839076_XM_027434536.1</td>\n",
       "      <td>NW_020824066.1</td>\n",
       "      <td>29525</td>\n",
       "      <td>29526</td>\n",
       "      <td>0.667453</td>\n",
       "      <td>+</td>\n",
       "      <td>p1@LOC113839076_XM_027434536.1</td>\n",
       "    </tr>\n",
       "    <tr>\n",
       "      <td>p1@LOC113839076_XM_027434535.1</td>\n",
       "      <td>NW_020824066.1</td>\n",
       "      <td>29954</td>\n",
       "      <td>29955</td>\n",
       "      <td>0.229426</td>\n",
       "      <td>+</td>\n",
       "      <td>p1@LOC113839076_XM_027434535.1</td>\n",
       "    </tr>\n",
       "    <tr>\n",
       "      <td>p1@LOC113839111_XM_027434561.1</td>\n",
       "      <td>NW_020824120.1</td>\n",
       "      <td>10477</td>\n",
       "      <td>10478</td>\n",
       "      <td>1.600973</td>\n",
       "      <td>+</td>\n",
       "      <td>p1@LOC113839111_XM_027434561.1</td>\n",
       "    </tr>\n",
       "    <tr>\n",
       "      <td>p2@LOC113839111_XM_027434561.1</td>\n",
       "      <td>NW_020824120.1</td>\n",
       "      <td>9953</td>\n",
       "      <td>9954</td>\n",
       "      <td>0.574031</td>\n",
       "      <td>+</td>\n",
       "      <td>p2@LOC113839111_XM_027434561.1</td>\n",
       "    </tr>\n",
       "    <tr>\n",
       "      <td>p1@LOC113839113_XM_027434564.1</td>\n",
       "      <td>NW_020824123.1</td>\n",
       "      <td>694</td>\n",
       "      <td>694</td>\n",
       "      <td>0.604226</td>\n",
       "      <td>+</td>\n",
       "      <td>p1@LOC113839113_XM_027434564.1</td>\n",
       "    </tr>\n",
       "  </tbody>\n",
       "</table>\n",
       "<p>30775 rows × 6 columns</p>\n",
       "</div>"
      ],
      "text/plain": [
       "                                           Chr    Start      End      Stat  \\\n",
       "ID                                                                           \n",
       "p1@Bmp4_XM_027386529.1          NW_020822366.1   722283   722284  1.779596   \n",
       "p2@Bmp4_XM_027386529.1          NW_020822366.1   721674   721675  0.506505   \n",
       "p3@Bmp4_XM_027386529.1          NW_020822366.1   721907   721908  0.580925   \n",
       "p1@Bmp4_XM_027386528.1          NW_020822366.1   724608   724609  4.074290   \n",
       "p1@Cdkn3_XM_027386531.1         NW_020822366.1  1085506  1085507  1.212188   \n",
       "...                                        ...      ...      ...       ...   \n",
       "p1@LOC113839076_XM_027434536.1  NW_020824066.1    29525    29526  0.667453   \n",
       "p1@LOC113839076_XM_027434535.1  NW_020824066.1    29954    29955  0.229426   \n",
       "p1@LOC113839111_XM_027434561.1  NW_020824120.1    10477    10478  1.600973   \n",
       "p2@LOC113839111_XM_027434561.1  NW_020824120.1     9953     9954  0.574031   \n",
       "p1@LOC113839113_XM_027434564.1  NW_020824123.1      694      694  0.604226   \n",
       "\n",
       "                               Strand                              ID  \n",
       "ID                                                                     \n",
       "p1@Bmp4_XM_027386529.1              -          p1@Bmp4_XM_027386529.1  \n",
       "p2@Bmp4_XM_027386529.1              -          p2@Bmp4_XM_027386529.1  \n",
       "p3@Bmp4_XM_027386529.1              -          p3@Bmp4_XM_027386529.1  \n",
       "p1@Bmp4_XM_027386528.1              -          p1@Bmp4_XM_027386528.1  \n",
       "p1@Cdkn3_XM_027386531.1             +         p1@Cdkn3_XM_027386531.1  \n",
       "...                               ...                             ...  \n",
       "p1@LOC113839076_XM_027434536.1      +  p1@LOC113839076_XM_027434536.1  \n",
       "p1@LOC113839076_XM_027434535.1      +  p1@LOC113839076_XM_027434535.1  \n",
       "p1@LOC113839111_XM_027434561.1      +  p1@LOC113839111_XM_027434561.1  \n",
       "p2@LOC113839111_XM_027434561.1      +  p2@LOC113839111_XM_027434561.1  \n",
       "p1@LOC113839113_XM_027434564.1      +  p1@LOC113839113_XM_027434564.1  \n",
       "\n",
       "[30775 rows x 6 columns]"
      ]
     },
     "execution_count": 12,
     "metadata": {},
     "output_type": "execute_result"
    }
   ],
   "source": [
    "center = (np.floor((TSS_exp_bed[\"End\"]-TSS_exp_bed[\"Start\"])/2)).astype(int)\n",
    "TSS_exp_bed_1bp = TSS_exp_bed.copy()\n",
    "TSS_exp_bed_1bp[\"Start\"] += center\n",
    "TSS_exp_bed_1bp[\"End\"] -= center\n",
    "write_bed_file(TSS_exp_bed_1bp, tss_1bp_bed_f)\n",
    "TSS_exp_bed_1bp"
   ]
  },
  {
   "cell_type": "code",
   "execution_count": 17,
   "metadata": {
    "ExecuteTime": {
     "end_time": "2020-02-27T23:25:45.310318Z",
     "start_time": "2020-02-27T23:25:45.284819Z"
    }
   },
   "outputs": [
    {
     "data": {
      "text/plain": [
       "'Results/chromHMM_overlap/TSS_1bp_exp.bed'"
      ]
     },
     "execution_count": 17,
     "metadata": {},
     "output_type": "execute_result"
    }
   ],
   "source": [
    "tss_1bp_bed_f"
   ]
  },
  {
   "cell_type": "markdown",
   "metadata": {},
   "source": [
    "### B."
   ]
  },
  {
   "cell_type": "code",
   "execution_count": 13,
   "metadata": {
    "ExecuteTime": {
     "end_time": "2020-02-27T23:25:18.642136Z",
     "start_time": "2020-02-27T23:25:15.556028Z"
    },
    "scrolled": true
   },
   "outputs": [],
   "source": [
    "for ind,val in curr_hmm.groupby(\"State\"):\n",
    "    val.to_csv(join(states_dir, states_map_dict[ind]+\".bed\"), sep=\"\\t\", header=None, index=None)"
   ]
  },
  {
   "cell_type": "markdown",
   "metadata": {},
   "source": [
    "### C."
   ]
  },
  {
   "cell_type": "code",
   "execution_count": 14,
   "metadata": {
    "ExecuteTime": {
     "end_time": "2020-02-27T23:25:18.660252Z",
     "start_time": "2020-02-27T23:25:18.643747Z"
    }
   },
   "outputs": [],
   "source": [
    "def run_intersect(A, B, f_save, overlap_dir):\n",
    "    cmd = f\"bedtools intersect -a {A} -b {B} > {join(overlap_dir,f_save)}\"\n",
    "    print(cmd)\n",
    "    os.system(cmd)\n",
    "    return"
   ]
  },
  {
   "cell_type": "code",
   "execution_count": 15,
   "metadata": {
    "ExecuteTime": {
     "end_time": "2020-02-27T23:25:19.621992Z",
     "start_time": "2020-02-27T23:25:18.661673Z"
    },
    "scrolled": true
   },
   "outputs": [
    {
     "name": "stdout",
     "output_type": "stream",
     "text": [
      "bedtools intersect -a Results/chromHMM_overlap/TSS_1bp_exp.bed -b Results/chromHMM_overlap/states_dir/Repressed_heterochromatin_H3K9me3.bed > Results/chromHMM_overlap/overlap_dir/TSS_intersect_Repressed_heterochromatin_H3K9me3.bed\n",
      "bedtools intersect -a Results/chromHMM_overlap/TSS_1bp_exp.bed -b Results/chromHMM_overlap/states_dir/Quiescent.bed > Results/chromHMM_overlap/overlap_dir/TSS_intersect_Quiescent.bed\n",
      "bedtools intersect -a Results/chromHMM_overlap/TSS_1bp_exp.bed -b Results/chromHMM_overlap/states_dir/Polycomb_repressed_regions_H3K27me3.bed > Results/chromHMM_overlap/overlap_dir/TSS_intersect_Polycomb_repressed_regions_H3K27me3.bed\n",
      "bedtools intersect -a Results/chromHMM_overlap/TSS_1bp_exp.bed -b Results/chromHMM_overlap/states_dir/Strong_transcription_H3K36me3.bed > Results/chromHMM_overlap/overlap_dir/TSS_intersect_Strong_transcription_H3K36me3.bed\n",
      "bedtools intersect -a Results/chromHMM_overlap/TSS_1bp_exp.bed -b Results/chromHMM_overlap/states_dir/Genic_enhancer.bed > Results/chromHMM_overlap/overlap_dir/TSS_intersect_Genic_enhancer.bed\n",
      "bedtools intersect -a Results/chromHMM_overlap/TSS_1bp_exp.bed -b Results/chromHMM_overlap/states_dir/Enhancer_H3K27ac_low.bed > Results/chromHMM_overlap/overlap_dir/TSS_intersect_Enhancer_H3K27ac_low.bed\n",
      "bedtools intersect -a Results/chromHMM_overlap/TSS_1bp_exp.bed -b Results/chromHMM_overlap/states_dir/Enhancer_H3K27ac_high.bed > Results/chromHMM_overlap/overlap_dir/TSS_intersect_Enhancer_H3K27ac_high.bed\n",
      "bedtools intersect -a Results/chromHMM_overlap/TSS_1bp_exp.bed -b Results/chromHMM_overlap/states_dir/Regulatory_element.bed > Results/chromHMM_overlap/overlap_dir/TSS_intersect_Regulatory_element.bed\n",
      "bedtools intersect -a Results/chromHMM_overlap/TSS_1bp_exp.bed -b Results/chromHMM_overlap/states_dir/Active_promoter_H3K27ac_high.bed > Results/chromHMM_overlap/overlap_dir/TSS_intersect_Active_promoter_H3K27ac_high.bed\n",
      "bedtools intersect -a Results/chromHMM_overlap/TSS_1bp_exp.bed -b Results/chromHMM_overlap/states_dir/Active_promoter_H3K27ac_low.bed > Results/chromHMM_overlap/overlap_dir/TSS_intersect_Active_promoter_H3K27ac_low.bed\n",
      "bedtools intersect -a Results/chromHMM_overlap/TSS_1bp_exp.bed -b Results/chromHMM_overlap/states_dir/Flanking_TSS.bed > Results/chromHMM_overlap/overlap_dir/TSS_intersect_Flanking_TSS.bed\n"
     ]
    }
   ],
   "source": [
    "for ind in states_map_dict:\n",
    "    run_intersect(tss_1bp_bed_f,join(states_dir, states_map_dict[ind]+\".bed\"),\n",
    "                  f_save=f\"TSS_intersect_{states_map_dict[ind]}.bed\",overlap_dir=overlap_dir )"
   ]
  },
  {
   "cell_type": "markdown",
   "metadata": {},
   "source": [
    "## D. "
   ]
  },
  {
   "cell_type": "code",
   "execution_count": 16,
   "metadata": {
    "ExecuteTime": {
     "end_time": "2020-02-27T23:25:19.828157Z",
     "start_time": "2020-02-27T23:25:19.625809Z"
    }
   },
   "outputs": [
    {
     "name": "stdout",
     "output_type": "stream",
     "text": [
      "command: wc -l <Results/chromHMM_overlap/overlap_dir/TSS_intersect_Repressed_heterochromatin_H3K9me3.bed\n",
      "918\n",
      "command: wc -l <Results/chromHMM_overlap/overlap_dir/TSS_intersect_Quiescent.bed\n",
      "7851\n",
      "command: wc -l <Results/chromHMM_overlap/overlap_dir/TSS_intersect_Polycomb_repressed_regions_H3K27me3.bed\n",
      "353\n",
      "command: wc -l <Results/chromHMM_overlap/overlap_dir/TSS_intersect_Strong_transcription_H3K36me3.bed\n",
      "559\n",
      "command: wc -l <Results/chromHMM_overlap/overlap_dir/TSS_intersect_Genic_enhancer.bed\n",
      "76\n",
      "command: wc -l <Results/chromHMM_overlap/overlap_dir/TSS_intersect_Enhancer_H3K27ac_low.bed\n",
      "864\n",
      "command: wc -l <Results/chromHMM_overlap/overlap_dir/TSS_intersect_Enhancer_H3K27ac_high.bed\n",
      "233\n",
      "command: wc -l <Results/chromHMM_overlap/overlap_dir/TSS_intersect_Regulatory_element.bed\n",
      "64\n",
      "command: wc -l <Results/chromHMM_overlap/overlap_dir/TSS_intersect_Active_promoter_H3K27ac_high.bed\n",
      "16313\n",
      "command: wc -l <Results/chromHMM_overlap/overlap_dir/TSS_intersect_Active_promoter_H3K27ac_low.bed\n",
      "2036\n",
      "command: wc -l <Results/chromHMM_overlap/overlap_dir/TSS_intersect_Flanking_TSS.bed\n",
      "1508\n"
     ]
    },
    {
     "data": {
      "text/html": [
       "<div>\n",
       "<style scoped>\n",
       "    .dataframe tbody tr th:only-of-type {\n",
       "        vertical-align: middle;\n",
       "    }\n",
       "\n",
       "    .dataframe tbody tr th {\n",
       "        vertical-align: top;\n",
       "    }\n",
       "\n",
       "    .dataframe thead th {\n",
       "        text-align: right;\n",
       "    }\n",
       "</style>\n",
       "<table border=\"1\" class=\"dataframe\">\n",
       "  <thead>\n",
       "    <tr style=\"text-align: right;\">\n",
       "      <th></th>\n",
       "      <th>State</th>\n",
       "      <th>TSS numbers</th>\n",
       "      <th>TSS percentage</th>\n",
       "    </tr>\n",
       "  </thead>\n",
       "  <tbody>\n",
       "    <tr>\n",
       "      <td>Repressed_heterochromatin_H3K9me3</td>\n",
       "      <td>1</td>\n",
       "      <td>918</td>\n",
       "      <td>2.98294</td>\n",
       "    </tr>\n",
       "    <tr>\n",
       "      <td>Quiescent</td>\n",
       "      <td>2</td>\n",
       "      <td>7851</td>\n",
       "      <td>25.511</td>\n",
       "    </tr>\n",
       "    <tr>\n",
       "      <td>Polycomb_repressed_regions_H3K27me3</td>\n",
       "      <td>3</td>\n",
       "      <td>353</td>\n",
       "      <td>1.14703</td>\n",
       "    </tr>\n",
       "    <tr>\n",
       "      <td>Strong_transcription_H3K36me3</td>\n",
       "      <td>4</td>\n",
       "      <td>559</td>\n",
       "      <td>1.81641</td>\n",
       "    </tr>\n",
       "    <tr>\n",
       "      <td>Genic_enhancer</td>\n",
       "      <td>5</td>\n",
       "      <td>76</td>\n",
       "      <td>0.246954</td>\n",
       "    </tr>\n",
       "    <tr>\n",
       "      <td>Enhancer_H3K27ac_low</td>\n",
       "      <td>6</td>\n",
       "      <td>864</td>\n",
       "      <td>2.80747</td>\n",
       "    </tr>\n",
       "    <tr>\n",
       "      <td>Enhancer_H3K27ac_high</td>\n",
       "      <td>7</td>\n",
       "      <td>233</td>\n",
       "      <td>0.757108</td>\n",
       "    </tr>\n",
       "    <tr>\n",
       "      <td>Regulatory_element</td>\n",
       "      <td>8</td>\n",
       "      <td>64</td>\n",
       "      <td>0.207961</td>\n",
       "    </tr>\n",
       "    <tr>\n",
       "      <td>Active_promoter_H3K27ac_high</td>\n",
       "      <td>9</td>\n",
       "      <td>16313</td>\n",
       "      <td>53.0073</td>\n",
       "    </tr>\n",
       "    <tr>\n",
       "      <td>Active_promoter_H3K27ac_low</td>\n",
       "      <td>10</td>\n",
       "      <td>2036</td>\n",
       "      <td>6.61576</td>\n",
       "    </tr>\n",
       "    <tr>\n",
       "      <td>Flanking_TSS</td>\n",
       "      <td>11</td>\n",
       "      <td>1508</td>\n",
       "      <td>4.90008</td>\n",
       "    </tr>\n",
       "  </tbody>\n",
       "</table>\n",
       "</div>"
      ],
      "text/plain": [
       "                                    State TSS numbers TSS percentage\n",
       "Repressed_heterochromatin_H3K9me3       1         918        2.98294\n",
       "Quiescent                               2        7851         25.511\n",
       "Polycomb_repressed_regions_H3K27me3     3         353        1.14703\n",
       "Strong_transcription_H3K36me3           4         559        1.81641\n",
       "Genic_enhancer                          5          76       0.246954\n",
       "Enhancer_H3K27ac_low                    6         864        2.80747\n",
       "Enhancer_H3K27ac_high                   7         233       0.757108\n",
       "Regulatory_element                      8          64       0.207961\n",
       "Active_promoter_H3K27ac_high            9       16313        53.0073\n",
       "Active_promoter_H3K27ac_low            10        2036        6.61576\n",
       "Flanking_TSS                           11        1508        4.90008"
      ]
     },
     "execution_count": 16,
     "metadata": {},
     "output_type": "execute_result"
    }
   ],
   "source": [
    "cmd = f\"wc -l<{tss_1bp_bed_f}\" #Total TSS'\n",
    "total_tss = int(subprocess.check_output(cmd, shell=True, universal_newlines=True))\n",
    "\n",
    "tss_overlap = pd.DataFrame(index=states_map_dict.values(), columns=['State', 'TSS numbers', 'TSS percentage'])\n",
    "for ind in states_map_dict:\n",
    "    f_save = f\"TSS_intersect_{states_map_dict[ind]}.bed\"\n",
    "    cmd = f\"wc -l <{join(overlap_dir,f_save)}\"\n",
    "    print(\"command:\",cmd)\n",
    "    output = subprocess.check_output(cmd, shell=True, universal_newlines=True)\n",
    "    print(int(output))\n",
    "    \n",
    "    tss_overlap.at[states_map_dict[ind], 'TSS numbers'] = int(output)\n",
    "    tss_overlap.at[states_map_dict[ind], 'TSS percentage'] = 100.0*int(output)/total_tss\n",
    "    tss_overlap.at[states_map_dict[ind], 'State'] = ind\n",
    "\n",
    "tss_overlap\n"
   ]
  },
  {
   "cell_type": "code",
   "execution_count": 18,
   "metadata": {
    "ExecuteTime": {
     "end_time": "2020-02-27T23:26:52.811648Z",
     "start_time": "2020-02-27T23:26:52.787253Z"
    }
   },
   "outputs": [
    {
     "data": {
      "text/plain": [
       "State                66.0\n",
       "TSS numbers       30775.0\n",
       "TSS percentage      100.0\n",
       "dtype: float64"
      ]
     },
     "execution_count": 18,
     "metadata": {},
     "output_type": "execute_result"
    }
   ],
   "source": [
    "tss_overlap.sum()"
   ]
  }
 ],
 "metadata": {
  "kernelspec": {
   "display_name": "Python 3",
   "language": "python",
   "name": "python3"
  },
  "language_info": {
   "codemirror_mode": {
    "name": "ipython",
    "version": 3
   },
   "file_extension": ".py",
   "mimetype": "text/x-python",
   "name": "python",
   "nbconvert_exporter": "python",
   "pygments_lexer": "ipython3",
   "version": "3.7.3"
  }
 },
 "nbformat": 4,
 "nbformat_minor": 2
}
