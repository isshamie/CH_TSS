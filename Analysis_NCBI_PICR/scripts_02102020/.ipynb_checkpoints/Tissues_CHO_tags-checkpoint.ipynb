{
 "cells": [
  {
   "cell_type": "markdown",
   "metadata": {},
   "source": [
    "### requires python 3 and TSS conda environment (needed for parallelization)"
   ]
  },
  {
   "cell_type": "markdown",
   "metadata": {},
   "source": [
    "### Motivation: \n",
    "TSS: Focused and dispersed. \n",
    "Within each TSS there are variations to where the start site occurs across different tissues. \n",
    "When calling our peaks, we choose the CHO peak if it occurs, otherwise pick the tissue with the maximum p-value.\n",
    "\n",
    "One question that arises is when we call the TSS, how different are the read alignments when a) The TSS align b) The TSS are shifted between CHO and tissues and c) No CHO peak is seen, only tissues d) only CHO TSS\n",
    "\n",
    "For each of these, how many TSS' are seen for each. How many tissues have a TSS when they all agree with CHO and when they are offset from CHO.\n",
    "\n",
    "When they are offset versus aligned, what is the distribution of tags underneath (the density)\n",
    "\n",
    "\n",
    "In the same vein, we want to make sure that the CHO GRO-Cap and CHO csRNA peaks are both showing similar buildup profiles, and that when plotting histograms, they don't just look good because the GRO-Cap is aligning on the GRO-cap peaks and csRNA aligning on csRNA peaks. Therefore, each should be done to the opposite calls."
   ]
  },
  {
   "cell_type": "code",
   "execution_count": null,
   "metadata": {
    "ExecuteTime": {
     "start_time": "2020-02-24T21:40:05.217Z"
    }
   },
   "outputs": [
    {
     "name": "stderr",
     "output_type": "stream",
     "text": [
      "/home/isshamie/software/anaconda2/envs/TSS/lib/python3.7/site-packages/ipykernel_launcher.py:7: YAMLLoadWarning: calling yaml.load() without Loader=... is deprecated, as the default Loader is unsafe. Please read https://msg.pyyaml.org/load for full details.\n",
      "  import sys\n"
     ]
    }
   ],
   "source": [
    "## Parameters specific to where your folders are and your data\n",
    "parameter_file = '../params/params.yaml'\n",
    "import yaml\n",
    "import sys\n",
    "\n",
    "with open(parameter_file,'r') as f:\n",
    "    doc = yaml.load(f)\n",
    "\n",
    "#p = dic2obj(**doc)\n",
    "\n",
    "data_folder = doc['data_folder']\n",
    "tissues = doc['tissues'].split(',')\n",
    "sys.path.append(doc['pipeline_path'])\n",
    "ref_fa = doc['ref_fa']\n",
    "anno_gff=doc['annotation']\n",
    "mRNA_peak_file = doc[\"mRNA_peak_file\"]\n",
    "\n",
    "tss_annotation = doc['tss_annotation']\n",
    "\n",
    "\n",
    "import os\n",
    "from os.path import join\n",
    "import sys\n",
    "import pandas as pd\n",
    "import matplotlib\n",
    "import seaborn as sns\n",
    "import pickle\n",
    "import numpy as np\n",
    "import matplotlib as mpl\n",
    "from matplotlib import pyplot as plt\n",
    "from itertools import product\n",
    "import glob\n",
    "import re\n",
    "from matplotlib_venn import venn2\n",
    "from matplotlib import rcParams\n",
    "import inspect\n",
    "%matplotlib inline\n",
    "%config InlineBackend.figure_format = 'retina'\n",
    "sys.setrecursionlimit(3000)\n",
    "%load_ext autoreload\n",
    "%autoreload 2\n",
    "rcParams['figure.figsize'] = 8, 6\n",
    "from tqdm import *\n",
    "from os.path import basename\n",
    "##mpl.use('Agg')\n",
    "#mpl.style.use('ggplot')\n",
    "#mpl.style.use('fivethirtyeight')\n",
    "from Homer import *\n",
    "import helper\n",
    "import create_output\n",
    "print('Number of tissues: ',len(tissues))\n",
    "\n",
    "from collections import Counter\n"
   ]
  },
  {
   "cell_type": "code",
   "execution_count": null,
   "metadata": {
    "ExecuteTime": {
     "start_time": "2020-02-24T21:40:05.219Z"
    }
   },
   "outputs": [],
   "source": [
    "from numpanpar import parallel_df as pardf"
   ]
  },
  {
   "cell_type": "markdown",
   "metadata": {},
   "source": [
    "## Parameters and directories"
   ]
  },
  {
   "cell_type": "code",
   "execution_count": null,
   "metadata": {
    "ExecuteTime": {
     "start_time": "2020-02-24T21:40:05.226Z"
    }
   },
   "outputs": [],
   "source": [
    "sample_peaks_dir = \"../Results/tss_annotation_peaks/\"\n",
    "merged_dir = \"../Results/merged\"\n",
    "save_dir = \"Results/histograms/compare_tissues\"\n",
    "if not os.path.exists(save_dir):\n",
    "    os.mkdir(save_dir)"
   ]
  },
  {
   "cell_type": "markdown",
   "metadata": {},
   "source": [
    "### Load data"
   ]
  },
  {
   "cell_type": "code",
   "execution_count": null,
   "metadata": {
    "ExecuteTime": {
     "start_time": "2020-02-24T21:40:05.235Z"
    },
    "scrolled": true
   },
   "outputs": [],
   "source": [
    "merged_df = pd.read_csv(\"../Results/merged/samples.merge\",sep=\"\\t\", index_col=0)\n",
    "merged_df.head()"
   ]
  },
  {
   "cell_type": "code",
   "execution_count": null,
   "metadata": {
    "ExecuteTime": {
     "start_time": "2020-02-24T21:40:05.240Z"
    },
    "scrolled": true
   },
   "outputs": [],
   "source": [
    "meta_df = pd.read_csv(\"../Results/output/TSS1.exp.meta\", sep=\"\\t\", index_col=0)\n",
    "meta_df[\"ID\"] = meta_df[\"ID\"].fillna(-1).astype(int)\n",
    "bed_df = read_bed_file(\"../Results/output/TSS1.exp.bed\")\n",
    "meta_df.head()\n"
   ]
  },
  {
   "cell_type": "markdown",
   "metadata": {},
   "source": [
    "## Construct peak-by-location data"
   ]
  },
  {
   "cell_type": "code",
   "execution_count": null,
   "metadata": {
    "ExecuteTime": {
     "start_time": "2020-02-24T21:40:05.252Z"
    },
    "scrolled": false
   },
   "outputs": [],
   "source": [
    "sample_files = glob.glob(os.path.join(sample_peaks_dir, \"sample_*\"))\n",
    "columns = list(map(lambda x: x.split(\"sample_\")[1].split(\".tsv\")[0],sample_files))\n",
    "files_dict = {c:sample_files[ind] for ind, c in enumerate(columns)}\n",
    "peak_by_location = pd.DataFrame(index=meta_df[\"ID\"],columns=columns)\n",
    "peak_by_location.head()"
   ]
  },
  {
   "cell_type": "markdown",
   "metadata": {},
   "source": [
    "### To start, use all samples in columns (can average over tissues later)\n",
    "\n",
    "A. Create a dictionary where each sample is a key and their dataframe of peaks is the value  \n",
    "B. Loop through the meta_df IDs.   \n",
    "    For each ID:  \n",
    "    Determine which samples had the ID (use merged to determine where there is no null)  \n",
    "    Loop through each sample that had the peak:  \n",
    "        Get the peak from their sample_{sample} file, and get their location and fill it in. \n",
    "    "
   ]
  },
  {
   "cell_type": "markdown",
   "metadata": {},
   "source": [
    "### Create sample dictionary"
   ]
  },
  {
   "cell_type": "code",
   "execution_count": null,
   "metadata": {
    "ExecuteTime": {
     "start_time": "2020-02-24T21:40:05.269Z"
    },
    "scrolled": true
   },
   "outputs": [],
   "source": [
    "sample_dict = dict()\n",
    "for ind, f in enumerate(sample_files):\n",
    "    print(f)\n",
    "    print(columns[ind])\n",
    "    name = columns[ind]\n",
    "    sample_dict[name] = pd.read_csv(f, sep=\"\\t\")"
   ]
  },
  {
   "cell_type": "code",
   "execution_count": null,
   "metadata": {
    "ExecuteTime": {
     "start_time": "2020-02-24T21:40:05.271Z"
    }
   },
   "outputs": [],
   "source": [
    "def par_peak_by_location(df, files_dict):\n",
    "    # Dataframe will be tissue-by-peak instead of peak-by-sample to make the parallelization work\n",
    "    for name in df.index.values:\n",
    "        #name = columns[ind]\n",
    "        f = files_dict[name]\n",
    "        curr_sample = pd.read_csv(f, sep=\"\\t\", index_col=0)\n",
    "        curr_merge = pd.read_csv(f.replace(\"sample\",\"merged\"), sep=\"\\t\", index_col=0)\n",
    "        curr_merge = curr_merge.loc[:,curr_merge.columns.str.contains(\"f04_peaks/\")]\n",
    "        curr_merge.columns = list(map(lambda x: x.split(\"f04_peaks/\")[1], curr_merge.columns.values))\n",
    "        # Remove the comma, indicating multiple peaks, which doesnt happen often\n",
    "        curr_merge = curr_merge.loc[~(curr_merge[name].str.contains(\",\")), name] #Take only the column of the sample\n",
    "\n",
    "        for ind2, val in tqdm(curr_merge.iteritems()):\n",
    "            df.loc[name,ind2] = np.floor((curr_sample.loc[val, \"Start\"] + curr_sample.loc[val, \"End\"])/2)\n",
    "            \n",
    "    return df"
   ]
  },
  {
   "cell_type": "code",
   "execution_count": null,
   "metadata": {
    "ExecuteTime": {
     "start_time": "2020-02-24T21:40:05.273Z"
    },
    "scrolled": true
   },
   "outputs": [],
   "source": [
    "peak_by_location = pardf(peak_by_location.transpose(), par_peak_by_location, func_args=(files_dict,), num_processes=24).transpose()\n",
    "peak_by_location = peak_by_location.sort_index()"
   ]
  },
  {
   "cell_type": "code",
   "execution_count": null,
   "metadata": {
    "ExecuteTime": {
     "start_time": "2020-02-24T21:40:05.275Z"
    }
   },
   "outputs": [],
   "source": [
    "peak_by_location.to_csv(os.path.join(save_dir,\"peak_by_location.tsv\"), sep=\"\\t\")"
   ]
  },
  {
   "cell_type": "code",
   "execution_count": null,
   "metadata": {
    "ExecuteTime": {
     "start_time": "2020-02-24T21:40:05.280Z"
    },
    "scrolled": true
   },
   "outputs": [],
   "source": [
    "# for ind, f in enumerate(sample_files):\n",
    "#     print(f)\n",
    "#     print(columns[ind])\n",
    "#     name = columns[ind]\n",
    "#     curr_sample = pd.read_csv(f, sep=\"\\t\", index_col=0)\n",
    "#     curr_merge = pd.read_csv(f.replace(\"sample\",\"merged\"), sep=\"\\t\", index_col=0)\n",
    "#     curr_merge = curr_merge.loc[:,curr_merge.columns.str.contains(\"f04_peaks/\")]\n",
    "#     curr_merge.columns = list(map(lambda x: x.split(\"f04_peaks/\")[1], curr_merge.columns.values))\n",
    "#     curr_merge = curr_merge.loc[~(curr_merge[name].str.contains(\",\")), name] #Take only the column of the sample\n",
    "\n",
    "#     for ind2, val in tqdm(curr_merge.iteritems()):\n",
    "#         peak_by_location.loc[ind2, name] = (curr_sample.loc[val, \"Start\"] + curr_sample.loc[val, \"End\"])/2\n"
   ]
  },
  {
   "cell_type": "markdown",
   "metadata": {},
   "source": [
    "## Merge the samples together into tissues"
   ]
  },
  {
   "cell_type": "code",
   "execution_count": null,
   "metadata": {
    "ExecuteTime": {
     "start_time": "2020-02-24T21:40:05.287Z"
    }
   },
   "outputs": [],
   "source": [
    "tissue_peaks_by_location = pd.DataFrame(index=peak_by_location.index, columns=tissues)\n",
    "for t in tissues:\n",
    "    tissue_peaks_by_location[t] = peak_by_location.loc[:,peak_by_location.columns.str.contains(t)].mean(axis=1, \n",
    "                                                                                                       skipna=True).apply(np.floor)\n",
    "tissue_peaks_by_location.to_csv(os.path.join(save_dir,\"tissue_peak_by_location.tsv\"), sep=\"\\t\")"
   ]
  },
  {
   "cell_type": "markdown",
   "metadata": {},
   "source": [
    "### Get peaks in CHO and not in CHO"
   ]
  },
  {
   "cell_type": "code",
   "execution_count": null,
   "metadata": {
    "ExecuteTime": {
     "start_time": "2020-02-24T21:40:05.296Z"
    }
   },
   "outputs": [],
   "source": [
    "tissue = \"CHO\"\n",
    "peaks_in_cho = set(tissue_peaks_by_location.loc[~(tissue_peaks_by_location[tissue].isnull())].index)\n",
    "print(len(peaks_in_cho))\n",
    "\n",
    "peaks_not_in_cho = set(tissue_peaks_by_location[~tissue_peaks_by_location.isnull().all(axis=1)].drop(peaks_in_cho).index)\n",
    "print(len(peaks_not_in_cho))\n",
    "print(peaks_in_cho)\n",
    "print(peaks_not_in_cho)"
   ]
  },
  {
   "cell_type": "markdown",
   "metadata": {},
   "source": [
    "### Determine peaks that are in or not in agreement"
   ]
  },
  {
   "cell_type": "code",
   "execution_count": null,
   "metadata": {
    "ExecuteTime": {
     "start_time": "2020-02-24T21:40:05.302Z"
    }
   },
   "outputs": [],
   "source": [
    "def agree_peaks(tissue_peaks_by_location,tol=0, tissue='CHO'):    \n",
    "    # Get the peaks in CHO first\n",
    "    peaks_in_cho = set(tissue_peaks_by_location.loc[~(tissue_peaks_by_location[tissue].isnull())].index)\n",
    "    # For all these CHO peaks, see which ones are i) unique, ii) seen in >n tissues and are the same. seen in >n tissues and are different\n",
    "    no_cho_tissue_peaks_by_location = tissue_peaks_by_location.drop(tissue, axis=1)\n",
    "\n",
    "    peaks_cho_agree = dict()\n",
    "    peaks_cho_disagree = dict()\n",
    "\n",
    "    for p in tqdm(peaks_in_cho):\n",
    "        loc = tissue_peaks_by_location.loc[p, tissue]\n",
    "        agree = (np.abs(no_cho_tissue_peaks_by_location.loc[p].dropna() - loc) <= tol ).sum()\n",
    "        disagree = (np.abs(no_cho_tissue_peaks_by_location.loc[p].dropna() - loc) > tol ).sum()\n",
    "\n",
    "        \n",
    "        peaks_cho_agree[p] = agree\n",
    "        peaks_cho_disagree[p] = disagree\n",
    "\n",
    "    return peaks_cho_agree, peaks_cho_disagree"
   ]
  },
  {
   "cell_type": "code",
   "execution_count": null,
   "metadata": {
    "ExecuteTime": {
     "start_time": "2020-02-24T21:40:05.303Z"
    }
   },
   "outputs": [],
   "source": [
    "def retrieve_peaks(locations_df, meta_df, peaks_cho_agree, peaks_cho_disagree, n_ag, n_dis,n_tot):\n",
    "    \"\"\"Will extract peaks that have a certain qualification in terms of where the start signs align.\n",
    "    Parameters:\n",
    "    -----------\n",
    "    locations_df: peak-by-sample df where each element is the peak location (assumes the same chromosome), or null if no peak detected there.\n",
    "    \"\"\"\n",
    "    peaks_to_keep = set()\n",
    "    for p in peaks_cho_agree:\n",
    "        tot = peaks_cho_agree[p] + peaks_cho_disagree[p]\n",
    "        if tot <= n_tot: \n",
    "            peaks_to_keep.add(p)\n",
    "        elif peaks_cho_agree[p] >= n_ag and peaks_cho_disagree[p] >= n_dis:\n",
    "            peaks_to_keep.add(p)\n",
    "    return meta_df[meta_df[\"ID\"].isin(peaks_to_keep)]"
   ]
  },
  {
   "cell_type": "code",
   "execution_count": null,
   "metadata": {},
   "outputs": [],
   "source": []
  },
  {
   "cell_type": "markdown",
   "metadata": {},
   "source": [
    "# With a tolerance of 0"
   ]
  },
  {
   "cell_type": "code",
   "execution_count": null,
   "metadata": {
    "ExecuteTime": {
     "start_time": "2020-02-24T21:40:05.310Z"
    },
    "scrolled": true
   },
   "outputs": [],
   "source": [
    "peaks_cho_agree, peaks_cho_disagree = agree_peaks(tissue_peaks_by_location,tol=0, tissue='CHO')\n",
    "\n",
    "f = plt.figure()\n",
    "labels, values = zip(*Counter(peaks_cho_agree.values()).items())\n",
    "plt.bar(labels, values)\n",
    "plt.title(\"For each peak, the number of tissues that are on the same location tol=0\")\n",
    "#pd.Series(Counter(peaks_cho_agree)).plot.bar(color='y')\n",
    "\n",
    "\n",
    "f = plt.figure()\n",
    "labels, values = zip(*Counter(peaks_cho_disagree.values()).items())\n",
    "plt.bar(labels, values)\n",
    "plt.title(\"For each peak, the number of tissues that are on different location tol=0\")\n",
    "\n",
    "\n",
    "fraction_agree = []\n",
    "for p in peaks_cho_agree:\n",
    "    num_tot = peaks_cho_agree[p]+peaks_cho_disagree[p]\n",
    "    if not num_tot == 0:\n",
    "        fraction_agree.append(peaks_cho_agree[p]/(peaks_cho_agree[p]+peaks_cho_disagree[p]))\n",
    "\n",
    "f = plt.figure()\n",
    "plt.hist(fraction_agree)\n",
    "plt.title(\"Fraction of tissues that have a peak that agree tol=0\")"
   ]
  },
  {
   "cell_type": "markdown",
   "metadata": {},
   "source": [
    "### A. TSS only in CHO"
   ]
  },
  {
   "cell_type": "code",
   "execution_count": null,
   "metadata": {
    "ExecuteTime": {
     "start_time": "2020-02-24T21:40:05.317Z"
    }
   },
   "outputs": [],
   "source": [
    "# Only CHO has peak:\n",
    "#peaks_cho_agree, peaks_cho_disagree = agree_peaks(tissue_peaks_by_location,tol=0, tissue='CHO')\n",
    "#"
   ]
  },
  {
   "cell_type": "code",
   "execution_count": null,
   "metadata": {
    "ExecuteTime": {
     "start_time": "2020-02-24T21:40:05.320Z"
    },
    "scrolled": true
   },
   "outputs": [],
   "source": [
    "only_in_cho = retrieve_peaks(tissue_peaks_by_location, meta_df, peaks_cho_agree, peaks_cho_disagree, n_ag=20, n_dis=20,n_tot=0)\n",
    "only_in_cho"
   ]
  },
  {
   "cell_type": "markdown",
   "metadata": {},
   "source": [
    "### B. TSS offset  CHO and other tissues"
   ]
  },
  {
   "cell_type": "code",
   "execution_count": null,
   "metadata": {
    "ExecuteTime": {
     "start_time": "2020-02-24T21:40:05.326Z"
    },
    "scrolled": true
   },
   "outputs": [],
   "source": [
    "cho_dis3 = retrieve_peaks(tissue_peaks_by_location, meta_df, peaks_cho_agree, peaks_cho_disagree, n_ag=0, n_dis=3,n_tot=-1)\n",
    "cho_dis3"
   ]
  },
  {
   "cell_type": "markdown",
   "metadata": {},
   "source": [
    "### C. TSS agree CHO and tissues"
   ]
  },
  {
   "cell_type": "code",
   "execution_count": null,
   "metadata": {
    "ExecuteTime": {
     "start_time": "2020-02-24T21:40:05.332Z"
    },
    "scrolled": true
   },
   "outputs": [],
   "source": [
    "cho_ag3 = retrieve_peaks(tissue_peaks_by_location, meta_df, peaks_cho_agree, peaks_cho_disagree, n_ag=3, n_dis=0,n_tot=-1)\n",
    "cho_ag3"
   ]
  },
  {
   "cell_type": "markdown",
   "metadata": {},
   "source": [
    "### D. TSS offset from CHO, but take the tissue instead of CHO (using max or next max)"
   ]
  },
  {
   "cell_type": "code",
   "execution_count": null,
   "metadata": {
    "ExecuteTime": {
     "start_time": "2020-02-24T21:40:05.338Z"
    },
    "scrolled": true
   },
   "outputs": [],
   "source": [
    "cho_dis3_maxDist_bed = bed_df.loc[cho_dis3.index]\n",
    "\n",
    "for p in tqdm(cho_dis3[\"ID\"].values):\n",
    "    cho = tissue_peaks_by_location.loc[p, tissue]\n",
    "    new_start = int(tissue_peaks_by_location.loc[p,(np.abs(cho - tissue_peaks_by_location.loc[p])).idxmax()])\n",
    "    if new_start != 0:\n",
    "        tss_index = meta_df[meta_df[\"ID\"] == p].index[0]\n",
    "        cho_dis3_maxDist_bed.loc[tss_index, \"Start\"] = new_start-76\n",
    "        cho_dis3_maxDist_bed.loc[tss_index, \"End\"] = new_start+75\n",
    "\n"
   ]
  },
  {
   "cell_type": "markdown",
   "metadata": {},
   "source": [
    "#### Save results as bed files"
   ]
  },
  {
   "cell_type": "code",
   "execution_count": null,
   "metadata": {
    "ExecuteTime": {
     "start_time": "2020-02-24T21:40:05.343Z"
    },
    "scrolled": true
   },
   "outputs": [],
   "source": [
    "write_bed_file(cho_dis3_maxDist_bed, os.path.join(save_dir,\"cho_disagree3_maxDistance_tol_0.tsv\" ))\n",
    "write_bed_file(bed_df.loc[cho_ag3.index], os.path.join(save_dir, \"cho_agree3_tol_0.tsv\"))\n",
    "write_bed_file(bed_df.loc[cho_dis3.index], os.path.join(save_dir, \"cho_disagree3_tol_0.tsv\"))\n",
    "write_bed_file(bed_df.loc[only_in_cho.index], os.path.join(save_dir, \"cho_only_tol_0.tsv\"))\n",
    "write_bed_file(bed_df.loc[meta_df[meta_df[\"ID\"].isin(peaks_not_in_cho)].index], os.path.join(save_dir, \"not_in_cho.tsv\"))"
   ]
  },
  {
   "cell_type": "markdown",
   "metadata": {},
   "source": [
    "### E. TSS different across CHO samples"
   ]
  },
  {
   "cell_type": "markdown",
   "metadata": {},
   "source": [
    "# With a tolerance of 10"
   ]
  },
  {
   "cell_type": "code",
   "execution_count": null,
   "metadata": {
    "ExecuteTime": {
     "start_time": "2020-02-24T21:40:05.351Z"
    },
    "scrolled": true
   },
   "outputs": [],
   "source": [
    "peaks_cho_agree, peaks_cho_disagree = agree_peaks(tissue_peaks_by_location,tol=10, tissue='CHO')\n",
    "f = plt.figure()\n",
    "labels, values = zip(*Counter(peaks_cho_agree.values()).items())\n",
    "plt.bar(labels, values)\n",
    "plt.title(\"For each peak, the number of tissues that are on the same location tol=10\")\n",
    "#pd.Series(Counter(peaks_cho_agree)).plot.bar(color='y')\n",
    "\n",
    "\n",
    "f = plt.figure()\n",
    "labels, values = zip(*Counter(peaks_cho_disagree.values()).items())\n",
    "plt.bar(labels, values)\n",
    "plt.title(\"For each peak, the number of tissues that are on different location tol=10\")\n",
    "\n",
    "\n",
    "fraction_agree = []\n",
    "for p in peaks_cho_agree:\n",
    "    num_tot = peaks_cho_agree[p]+peaks_cho_disagree[p]\n",
    "    if not num_tot == 0:\n",
    "        fraction_agree.append(peaks_cho_agree[p]/(peaks_cho_agree[p]+peaks_cho_disagree[p]))\n",
    "\n",
    "f = plt.figure()\n",
    "plt.hist(fraction_agree)\n",
    "plt.title(\"Fraction of tissues that have a peak that agree tol=10\")"
   ]
  },
  {
   "cell_type": "markdown",
   "metadata": {},
   "source": [
    "### A. TSS only in CHO"
   ]
  },
  {
   "cell_type": "code",
   "execution_count": null,
   "metadata": {
    "ExecuteTime": {
     "start_time": "2020-02-24T21:40:05.356Z"
    },
    "scrolled": true
   },
   "outputs": [],
   "source": [
    "only_in_cho = retrieve_peaks(tissue_peaks_by_location, meta_df, peaks_cho_agree, peaks_cho_disagree, n_ag=20, n_dis=20,n_tot=0)\n",
    "only_in_cho"
   ]
  },
  {
   "cell_type": "markdown",
   "metadata": {},
   "source": [
    "### B. TSS offset  CHO and other tissues"
   ]
  },
  {
   "cell_type": "code",
   "execution_count": null,
   "metadata": {
    "ExecuteTime": {
     "start_time": "2020-02-24T21:40:05.362Z"
    }
   },
   "outputs": [],
   "source": [
    "cho_dis3 = retrieve_peaks(tissue_peaks_by_location, meta_df, peaks_cho_agree, peaks_cho_disagree, n_ag=0, n_dis=3,n_tot=-1)\n",
    "cho_dis3"
   ]
  },
  {
   "cell_type": "markdown",
   "metadata": {},
   "source": [
    "### C. TSS agree CHO and tissues"
   ]
  },
  {
   "cell_type": "code",
   "execution_count": null,
   "metadata": {
    "ExecuteTime": {
     "start_time": "2020-02-24T21:40:05.367Z"
    },
    "scrolled": true
   },
   "outputs": [],
   "source": [
    "cho_ag3 = retrieve_peaks(tissue_peaks_by_location, meta_df, peaks_cho_agree, peaks_cho_disagree, n_ag=3, n_dis=0,n_tot=-1)\n",
    "cho_ag3"
   ]
  },
  {
   "cell_type": "markdown",
   "metadata": {},
   "source": [
    "### D. TSS different across CHO samples"
   ]
  },
  {
   "cell_type": "markdown",
   "metadata": {},
   "source": [
    "# With a tolerance of 25"
   ]
  },
  {
   "cell_type": "code",
   "execution_count": null,
   "metadata": {
    "ExecuteTime": {
     "start_time": "2020-02-24T21:40:05.375Z"
    },
    "scrolled": true
   },
   "outputs": [],
   "source": [
    "peaks_cho_agree, peaks_cho_disagree = agree_peaks(tissue_peaks_by_location,tol=25, tissue='CHO')\n",
    "f = plt.figure()\n",
    "labels, values = zip(*Counter(peaks_cho_agree.values()).items())\n",
    "plt.bar(labels, values)\n",
    "plt.title(\"For each peak, the number of tissues that are on the same location tol=25\")\n",
    "#pd.Series(Counter(peaks_cho_agree)).plot.bar(color='y')\n",
    "\n",
    "\n",
    "f = plt.figure()\n",
    "labels, values = zip(*Counter(peaks_cho_disagree.values()).items())\n",
    "plt.bar(labels, values)\n",
    "plt.title(\"For each peak, the number of tissues that are on different location tol=25\")\n",
    "\n",
    "\n",
    "fraction_agree = []\n",
    "for p in peaks_cho_agree:\n",
    "    num_tot = peaks_cho_agree[p]+peaks_cho_disagree[p]\n",
    "    if not num_tot == 0:\n",
    "        fraction_agree.append(peaks_cho_agree[p]/(peaks_cho_agree[p]+peaks_cho_disagree[p]))\n",
    "\n",
    "f = plt.figure()\n",
    "plt.hist(fraction_agree)\n",
    "plt.title(\"Fraction of tissues that have a peak that agree tol=25\")"
   ]
  },
  {
   "cell_type": "markdown",
   "metadata": {},
   "source": [
    "### A. TSS only in CHO"
   ]
  },
  {
   "cell_type": "code",
   "execution_count": null,
   "metadata": {
    "ExecuteTime": {
     "start_time": "2020-02-24T21:40:05.382Z"
    },
    "scrolled": true
   },
   "outputs": [],
   "source": [
    "only_in_cho = retrieve_peaks(tissue_peaks_by_location, meta_df, peaks_cho_agree, peaks_cho_disagree, n_ag=20, n_dis=20,n_tot=0)\n",
    "only_in_cho"
   ]
  },
  {
   "cell_type": "markdown",
   "metadata": {},
   "source": [
    "### B. TSS offset  CHO and other tissues"
   ]
  },
  {
   "cell_type": "code",
   "execution_count": null,
   "metadata": {
    "ExecuteTime": {
     "start_time": "2020-02-24T21:40:05.387Z"
    }
   },
   "outputs": [],
   "source": [
    "cho_dis3 = retrieve_peaks(tissue_peaks_by_location, meta_df, peaks_cho_agree, peaks_cho_disagree, n_ag=0, n_dis=3,n_tot=-1)\n",
    "cho_dis3"
   ]
  },
  {
   "cell_type": "markdown",
   "metadata": {},
   "source": [
    "### C. TSS agree CHO and tissues"
   ]
  },
  {
   "cell_type": "code",
   "execution_count": null,
   "metadata": {
    "ExecuteTime": {
     "start_time": "2020-02-24T21:40:05.393Z"
    },
    "scrolled": true
   },
   "outputs": [],
   "source": [
    "cho_ag3 = retrieve_peaks(tissue_peaks_by_location, meta_df, peaks_cho_agree, peaks_cho_disagree, n_ag=3, n_dis=0,n_tot=-1)\n",
    "cho_ag3"
   ]
  },
  {
   "cell_type": "markdown",
   "metadata": {},
   "source": [
    "### D. TSS different across CHO samples"
   ]
  },
  {
   "cell_type": "markdown",
   "metadata": {},
   "source": [
    "### E. Location is the maximum difference one"
   ]
  },
  {
   "cell_type": "code",
   "execution_count": null,
   "metadata": {
    "ExecuteTime": {
     "start_time": "2020-02-24T21:40:05.401Z"
    }
   },
   "outputs": [],
   "source": [
    "cho_dis3_maxDist_bed = bed_df.loc[cho_dis3.index]\n",
    "\n",
    "for p in tqdm(cho_dis3[\"ID\"].values):\n",
    "    cho = tissue_peaks_by_location.loc[p, tissue]\n",
    "    new_start = int(tissue_peaks_by_location.loc[p,(np.abs(cho - tissue_peaks_by_location.loc[p])).idxmax()])\n",
    "    if new_start != 0:\n",
    "        tss_index = meta_df[meta_df[\"ID\"] == p].index[0]\n",
    "        cho_dis3_maxDist_bed.loc[tss_index, \"Start\"] = new_start-76\n",
    "        cho_dis3_maxDist_bed.loc[tss_index, \"End\"] = new_start+75\n",
    "\n"
   ]
  },
  {
   "cell_type": "markdown",
   "metadata": {},
   "source": [
    "#### Save results as bed files"
   ]
  },
  {
   "cell_type": "code",
   "execution_count": null,
   "metadata": {
    "ExecuteTime": {
     "start_time": "2020-02-24T21:40:05.405Z"
    },
    "scrolled": true
   },
   "outputs": [],
   "source": [
    "write_bed_file(cho_dis3_maxDist_bed, os.path.join(save_dir,\"cho_disagree3_maxDistance_tol_25.tsv\" ))\n",
    "write_bed_file(bed_df.loc[cho_ag3.index], os.path.join(save_dir, \"cho_agree3_tol_25.tsv\"))\n",
    "write_bed_file(bed_df.loc[cho_dis3.index], os.path.join(save_dir, \"cho_disagree3_tol_25.tsv\"))\n",
    "write_bed_file(bed_df.loc[only_in_cho.index], os.path.join(save_dir, \"cho_only_tol_25.tsv\"))"
   ]
  }
 ],
 "metadata": {
  "kernelspec": {
   "display_name": "Python 3",
   "language": "python",
   "name": "python3"
  },
  "language_info": {
   "codemirror_mode": {
    "name": "ipython",
    "version": 3
   },
   "file_extension": ".py",
   "mimetype": "text/x-python",
   "name": "python",
   "nbconvert_exporter": "python",
   "pygments_lexer": "ipython3",
   "version": "3.7.3"
  }
 },
 "nbformat": 4,
 "nbformat_minor": 2
}
