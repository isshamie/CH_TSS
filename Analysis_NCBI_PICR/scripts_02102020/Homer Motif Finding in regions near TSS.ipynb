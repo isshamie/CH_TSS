{
 "cells": [
  {
   "cell_type": "markdown",
   "metadata": {},
   "source": [
    "## Extract region of -2:+3 for experimental and reference\n",
    "\n",
    "BBCA+1BW (where B is C/G/T, and W is A/T)  \n",
    "http://genesdev.cshlp.org/content/31/13/1289.full"
   ]
  },
  {
   "cell_type": "code",
   "execution_count": 1,
   "metadata": {
    "ExecuteTime": {
     "end_time": "2020-02-27T19:28:14.207734Z",
     "start_time": "2020-02-27T19:28:13.221427Z"
    }
   },
   "outputs": [
    {
     "name": "stderr",
     "output_type": "stream",
     "text": [
      "/home/isshamie/software/anaconda2/envs/TSS/lib/python3.7/site-packages/ipykernel_launcher.py:7: YAMLLoadWarning: calling yaml.load() without Loader=... is deprecated, as the default Loader is unsafe. Please read https://msg.pyyaml.org/load for full details.\n",
      "  import sys\n"
     ]
    },
    {
     "name": "stdout",
     "output_type": "stream",
     "text": [
      "Number of tissues:  13\n"
     ]
    }
   ],
   "source": [
    "## Parameters specific to where your folders are and your data\n",
    "parameter_file = '../params/params.yaml'\n",
    "import yaml\n",
    "import sys\n",
    "\n",
    "with open(parameter_file,'r') as f:\n",
    "    doc = yaml.load(f)\n",
    "\n",
    "#p = dic2obj(**doc)\n",
    "\n",
    "data_folder = doc['data_folder']\n",
    "tissues = doc['tissues'].split(',')\n",
    "sys.path.append(doc['pipeline_path'])\n",
    "ref_fa = doc['ref_fa']\n",
    "anno_gff=doc['annotation']\n",
    "mRNA_peak_file = doc[\"mRNA_peak_file\"]\n",
    "\n",
    "tss_annotation = doc['tss_annotation']\n",
    "\n",
    "\n",
    "import os\n",
    "\n",
    "import subprocess\n",
    "import sys\n",
    "import pandas as pd\n",
    "import matplotlib\n",
    "import seaborn as sns\n",
    "import pickle\n",
    "import numpy as np\n",
    "import matplotlib as mpl\n",
    "from matplotlib import pyplot as plt\n",
    "from itertools import product\n",
    "import glob\n",
    "import re\n",
    "from matplotlib_venn import venn2\n",
    "from matplotlib import rcParams\n",
    "import inspect\n",
    "%matplotlib inline\n",
    "%config InlineBackend.figure_format = 'retina'\n",
    "sys.setrecursionlimit(3000)\n",
    "%load_ext autoreload\n",
    "%autoreload 2\n",
    "rcParams['figure.figsize'] = 8, 6\n",
    "import tqdm\n",
    "\n",
    "from os.path import basename\n",
    "##mpl.use('Agg')\n",
    "#mpl.style.use('ggplot')\n",
    "#mpl.style.use('fivethirtyeight')\n",
    "from Homer import *\n",
    "import helper\n",
    "import create_output\n",
    "print('Number of tissues: ',len(tissues))"
   ]
  },
  {
   "cell_type": "code",
   "execution_count": 2,
   "metadata": {
    "ExecuteTime": {
     "end_time": "2020-02-27T19:28:14.230385Z",
     "start_time": "2020-02-27T19:28:14.209940Z"
    }
   },
   "outputs": [],
   "source": [
    "save_dir = \"Results/homer_motifs/\"\n",
    "if not os.path.exists(save_dir):\n",
    "    os.mkdir(save_dir)"
   ]
  },
  {
   "cell_type": "markdown",
   "metadata": {},
   "source": [
    "## Read experimental bed file and create its companion refseq region"
   ]
  },
  {
   "cell_type": "code",
   "execution_count": 3,
   "metadata": {
    "ExecuteTime": {
     "end_time": "2020-02-27T19:28:15.771777Z",
     "start_time": "2020-02-27T19:28:14.232802Z"
    },
    "scrolled": true
   },
   "outputs": [
    {
     "data": {
      "text/html": [
       "<div>\n",
       "<style scoped>\n",
       "    .dataframe tbody tr th:only-of-type {\n",
       "        vertical-align: middle;\n",
       "    }\n",
       "\n",
       "    .dataframe tbody tr th {\n",
       "        vertical-align: top;\n",
       "    }\n",
       "\n",
       "    .dataframe thead th {\n",
       "        text-align: right;\n",
       "    }\n",
       "</style>\n",
       "<table border=\"1\" class=\"dataframe\">\n",
       "  <thead>\n",
       "    <tr style=\"text-align: right;\">\n",
       "      <th></th>\n",
       "      <th>0</th>\n",
       "      <th>1</th>\n",
       "      <th>2</th>\n",
       "      <th>3</th>\n",
       "      <th>4</th>\n",
       "      <th>5</th>\n",
       "    </tr>\n",
       "    <tr>\n",
       "      <th>3</th>\n",
       "      <th></th>\n",
       "      <th></th>\n",
       "      <th></th>\n",
       "      <th></th>\n",
       "      <th></th>\n",
       "      <th></th>\n",
       "    </tr>\n",
       "  </thead>\n",
       "  <tbody>\n",
       "    <tr>\n",
       "      <td>p1@Bmp4_XM_027386529.1</td>\n",
       "      <td>NW_020822366.1</td>\n",
       "      <td>722307</td>\n",
       "      <td>722309</td>\n",
       "      <td>p1@Bmp4_XM_027386529.1</td>\n",
       "      <td>1.779596</td>\n",
       "      <td>-</td>\n",
       "    </tr>\n",
       "    <tr>\n",
       "      <td>p1@Bmp4_XM_027386528.1</td>\n",
       "      <td>NW_020822366.1</td>\n",
       "      <td>724609</td>\n",
       "      <td>724611</td>\n",
       "      <td>p1@Bmp4_XM_027386528.1</td>\n",
       "      <td>4.074290</td>\n",
       "      <td>-</td>\n",
       "    </tr>\n",
       "    <tr>\n",
       "      <td>p1@Cdkn3_XM_027386531.1</td>\n",
       "      <td>NW_020822366.1</td>\n",
       "      <td>1085434</td>\n",
       "      <td>1085436</td>\n",
       "      <td>p1@Cdkn3_XM_027386531.1</td>\n",
       "      <td>1.212188</td>\n",
       "      <td>+</td>\n",
       "    </tr>\n",
       "    <tr>\n",
       "      <td>p1@Cnih1_XM_027386534.1</td>\n",
       "      <td>NW_020822366.1</td>\n",
       "      <td>1114412</td>\n",
       "      <td>1114414</td>\n",
       "      <td>p1@Cnih1_XM_027386534.1</td>\n",
       "      <td>1.527630</td>\n",
       "      <td>-</td>\n",
       "    </tr>\n",
       "    <tr>\n",
       "      <td>p1@Cgrrf1_XM_027386536.1</td>\n",
       "      <td>NW_020822366.1</td>\n",
       "      <td>1159882</td>\n",
       "      <td>1159884</td>\n",
       "      <td>p1@Cgrrf1_XM_027386536.1</td>\n",
       "      <td>1.748963</td>\n",
       "      <td>+</td>\n",
       "    </tr>\n",
       "    <tr>\n",
       "      <td>...</td>\n",
       "      <td>...</td>\n",
       "      <td>...</td>\n",
       "      <td>...</td>\n",
       "      <td>...</td>\n",
       "      <td>...</td>\n",
       "      <td>...</td>\n",
       "    </tr>\n",
       "    <tr>\n",
       "      <td>p1@LOC113839066_XM_027434527.1</td>\n",
       "      <td>NW_020824056.1</td>\n",
       "      <td>5213</td>\n",
       "      <td>5215</td>\n",
       "      <td>p1@LOC113839066_XM_027434527.1</td>\n",
       "      <td>0.824776</td>\n",
       "      <td>+</td>\n",
       "    </tr>\n",
       "    <tr>\n",
       "      <td>p1@LOC113839076_XM_027434536.1</td>\n",
       "      <td>NW_020824066.1</td>\n",
       "      <td>29644</td>\n",
       "      <td>29646</td>\n",
       "      <td>p1@LOC113839076_XM_027434536.1</td>\n",
       "      <td>0.667453</td>\n",
       "      <td>+</td>\n",
       "    </tr>\n",
       "    <tr>\n",
       "      <td>p1@LOC113839076_XM_027434535.1</td>\n",
       "      <td>NW_020824066.1</td>\n",
       "      <td>29645</td>\n",
       "      <td>29647</td>\n",
       "      <td>p1@LOC113839076_XM_027434535.1</td>\n",
       "      <td>0.229426</td>\n",
       "      <td>+</td>\n",
       "    </tr>\n",
       "    <tr>\n",
       "      <td>p1@LOC113839111_XM_027434561.1</td>\n",
       "      <td>NW_020824120.1</td>\n",
       "      <td>10460</td>\n",
       "      <td>10462</td>\n",
       "      <td>p1@LOC113839111_XM_027434561.1</td>\n",
       "      <td>1.600973</td>\n",
       "      <td>+</td>\n",
       "    </tr>\n",
       "    <tr>\n",
       "      <td>p1@LOC113839113_XM_027434564.1</td>\n",
       "      <td>NW_020824123.1</td>\n",
       "      <td>1552</td>\n",
       "      <td>1554</td>\n",
       "      <td>p1@LOC113839113_XM_027434564.1</td>\n",
       "      <td>0.604226</td>\n",
       "      <td>+</td>\n",
       "    </tr>\n",
       "  </tbody>\n",
       "</table>\n",
       "<p>20637 rows × 6 columns</p>\n",
       "</div>"
      ],
      "text/plain": [
       "                                             0        1        2  \\\n",
       "3                                                                  \n",
       "p1@Bmp4_XM_027386529.1          NW_020822366.1   722307   722309   \n",
       "p1@Bmp4_XM_027386528.1          NW_020822366.1   724609   724611   \n",
       "p1@Cdkn3_XM_027386531.1         NW_020822366.1  1085434  1085436   \n",
       "p1@Cnih1_XM_027386534.1         NW_020822366.1  1114412  1114414   \n",
       "p1@Cgrrf1_XM_027386536.1        NW_020822366.1  1159882  1159884   \n",
       "...                                        ...      ...      ...   \n",
       "p1@LOC113839066_XM_027434527.1  NW_020824056.1     5213     5215   \n",
       "p1@LOC113839076_XM_027434536.1  NW_020824066.1    29644    29646   \n",
       "p1@LOC113839076_XM_027434535.1  NW_020824066.1    29645    29647   \n",
       "p1@LOC113839111_XM_027434561.1  NW_020824120.1    10460    10462   \n",
       "p1@LOC113839113_XM_027434564.1  NW_020824123.1     1552     1554   \n",
       "\n",
       "                                                             3         4  5  \n",
       "3                                                                            \n",
       "p1@Bmp4_XM_027386529.1                  p1@Bmp4_XM_027386529.1  1.779596  -  \n",
       "p1@Bmp4_XM_027386528.1                  p1@Bmp4_XM_027386528.1  4.074290  -  \n",
       "p1@Cdkn3_XM_027386531.1                p1@Cdkn3_XM_027386531.1  1.212188  +  \n",
       "p1@Cnih1_XM_027386534.1                p1@Cnih1_XM_027386534.1  1.527630  -  \n",
       "p1@Cgrrf1_XM_027386536.1              p1@Cgrrf1_XM_027386536.1  1.748963  +  \n",
       "...                                                        ...       ... ..  \n",
       "p1@LOC113839066_XM_027434527.1  p1@LOC113839066_XM_027434527.1  0.824776  +  \n",
       "p1@LOC113839076_XM_027434536.1  p1@LOC113839076_XM_027434536.1  0.667453  +  \n",
       "p1@LOC113839076_XM_027434535.1  p1@LOC113839076_XM_027434535.1  0.229426  +  \n",
       "p1@LOC113839111_XM_027434561.1  p1@LOC113839111_XM_027434561.1  1.600973  +  \n",
       "p1@LOC113839113_XM_027434564.1  p1@LOC113839113_XM_027434564.1  0.604226  +  \n",
       "\n",
       "[20637 rows x 6 columns]"
      ]
     },
     "execution_count": 3,
     "metadata": {},
     "output_type": "execute_result"
    }
   ],
   "source": [
    "exp_bed_f = \"../Results/output/TSS1.exp.bed\"\n",
    "#mrna_bed_f = \"../Results/Figures/Figure3/A.TSS1_mrna\"\n",
    "\n",
    "\n",
    "## Create RefSeq peak file for this\n",
    "meta_f = \"../Results/output/TSS1.exp.meta\"\n",
    "mrna_bed_f = os.path.join(save_dir, \"TSS1.exp_refseq_centered.bed\")\n",
    "\n",
    "#mrna_filt = \"Results/Figures/Figure3/A.mrna\"\n",
    "create_output.exp_bed_to_refseq(exp_bed_f,meta_f,refseq_f=mRNA_peak_file,save_f=mrna_bed_f,is_unique=True)"
   ]
  },
  {
   "cell_type": "markdown",
   "metadata": {},
   "source": [
    "### Create narrow bed file for hg38"
   ]
  },
  {
   "cell_type": "code",
   "execution_count": 4,
   "metadata": {
    "ExecuteTime": {
     "end_time": "2020-02-27T19:28:17.339353Z",
     "start_time": "2020-02-27T19:28:15.775669Z"
    },
    "scrolled": true
   },
   "outputs": [
    {
     "name": "stderr",
     "output_type": "stream",
     "text": [
      "/home/isshamie/software/anaconda2/envs/TSS/lib/python3.7/site-packages/IPython/core/interactiveshell.py:3051: DtypeWarning: Columns (19) have mixed types. Specify dtype option on import or set low_memory=False.\n",
      "  interactivity=interactivity, compiler=compiler, result=result)\n"
     ]
    }
   ],
   "source": [
    "hg38 = pd.read_csv(\"/data/isshamie/genome/hg38/mRNA_final.peak\", sep=\"\\t\")\n",
    "hg38[\"Stat\"] = 0\n",
    "hg38 = hg38[[\"Chr\", \"Start\", \"End\",\"Name\", \"Stat\", \"Strand\"]]\n",
    "hg38 = hg38.drop_duplicates(subset=(\"Chr\",\"Start\", \"End\", \"Strand\"))\n",
    "hg38 = hg38.rename({\"Name\":\"ID\"}, axis=1)\n",
    "\n",
    "hg38_bed_f = os.path.join(save_dir, \"hg38.bed\")\n",
    "write_bed_file(hg38, hg38_bed_f, use_index=False)\n"
   ]
  },
  {
   "cell_type": "markdown",
   "metadata": {},
   "source": [
    "## For both bed files, only take -2:+3"
   ]
  },
  {
   "cell_type": "code",
   "execution_count": 5,
   "metadata": {
    "ExecuteTime": {
     "end_time": "2020-02-27T19:28:17.365018Z",
     "start_time": "2020-02-27T19:28:17.341535Z"
    }
   },
   "outputs": [],
   "source": [
    "def bed_subset_region(bed_f, f_save=None, region=(-2,+3)):\n",
    "    bed = read_bed_file(bed_f)\n",
    "    center = np.ceil((bed[\"Start\"] + bed[\"End\"])/2)\n",
    "    bed[\"Start\"] = (center+region[0]).astype(int)\n",
    "    bed[\"End\"] = (center+region[1]).astype(int)\n",
    "    print(bed.columns)\n",
    "    print(bed.index.name)\n",
    "    if f_save is not None:\n",
    "        write_bed_file(bed,f_save)\n",
    "        \n",
    "    return bed"
   ]
  },
  {
   "cell_type": "code",
   "execution_count": 6,
   "metadata": {
    "ExecuteTime": {
     "end_time": "2020-02-27T19:28:17.630409Z",
     "start_time": "2020-02-27T19:28:17.367027Z"
    },
    "scrolled": true
   },
   "outputs": [
    {
     "name": "stdout",
     "output_type": "stream",
     "text": [
      "Index(['Chr', 'Start', 'End', 'Stat', 'Strand'], dtype='object')\n",
      "ID\n"
     ]
    },
    {
     "data": {
      "text/html": [
       "<div>\n",
       "<style scoped>\n",
       "    .dataframe tbody tr th:only-of-type {\n",
       "        vertical-align: middle;\n",
       "    }\n",
       "\n",
       "    .dataframe tbody tr th {\n",
       "        vertical-align: top;\n",
       "    }\n",
       "\n",
       "    .dataframe thead th {\n",
       "        text-align: right;\n",
       "    }\n",
       "</style>\n",
       "<table border=\"1\" class=\"dataframe\">\n",
       "  <thead>\n",
       "    <tr style=\"text-align: right;\">\n",
       "      <th></th>\n",
       "      <th>Chr</th>\n",
       "      <th>Start</th>\n",
       "      <th>End</th>\n",
       "      <th>Stat</th>\n",
       "      <th>Strand</th>\n",
       "      <th>ID</th>\n",
       "    </tr>\n",
       "    <tr>\n",
       "      <th>ID</th>\n",
       "      <th></th>\n",
       "      <th></th>\n",
       "      <th></th>\n",
       "      <th></th>\n",
       "      <th></th>\n",
       "      <th></th>\n",
       "    </tr>\n",
       "  </thead>\n",
       "  <tbody>\n",
       "    <tr>\n",
       "      <td>p1@Bmp4_XM_027386529.1</td>\n",
       "      <td>NW_020822366.1</td>\n",
       "      <td>722282</td>\n",
       "      <td>722287</td>\n",
       "      <td>1.779596</td>\n",
       "      <td>-</td>\n",
       "      <td>p1@Bmp4_XM_027386529.1</td>\n",
       "    </tr>\n",
       "    <tr>\n",
       "      <td>p2@Bmp4_XM_027386529.1</td>\n",
       "      <td>NW_020822366.1</td>\n",
       "      <td>721673</td>\n",
       "      <td>721678</td>\n",
       "      <td>0.506505</td>\n",
       "      <td>-</td>\n",
       "      <td>p2@Bmp4_XM_027386529.1</td>\n",
       "    </tr>\n",
       "    <tr>\n",
       "      <td>p3@Bmp4_XM_027386529.1</td>\n",
       "      <td>NW_020822366.1</td>\n",
       "      <td>721906</td>\n",
       "      <td>721911</td>\n",
       "      <td>0.580925</td>\n",
       "      <td>-</td>\n",
       "      <td>p3@Bmp4_XM_027386529.1</td>\n",
       "    </tr>\n",
       "    <tr>\n",
       "      <td>p1@Bmp4_XM_027386528.1</td>\n",
       "      <td>NW_020822366.1</td>\n",
       "      <td>724607</td>\n",
       "      <td>724612</td>\n",
       "      <td>4.074290</td>\n",
       "      <td>-</td>\n",
       "      <td>p1@Bmp4_XM_027386528.1</td>\n",
       "    </tr>\n",
       "    <tr>\n",
       "      <td>p1@Cdkn3_XM_027386531.1</td>\n",
       "      <td>NW_020822366.1</td>\n",
       "      <td>1085505</td>\n",
       "      <td>1085510</td>\n",
       "      <td>1.212188</td>\n",
       "      <td>+</td>\n",
       "      <td>p1@Cdkn3_XM_027386531.1</td>\n",
       "    </tr>\n",
       "    <tr>\n",
       "      <td>...</td>\n",
       "      <td>...</td>\n",
       "      <td>...</td>\n",
       "      <td>...</td>\n",
       "      <td>...</td>\n",
       "      <td>...</td>\n",
       "      <td>...</td>\n",
       "    </tr>\n",
       "    <tr>\n",
       "      <td>p1@LOC113839076_XM_027434536.1</td>\n",
       "      <td>NW_020824066.1</td>\n",
       "      <td>29524</td>\n",
       "      <td>29529</td>\n",
       "      <td>0.667453</td>\n",
       "      <td>+</td>\n",
       "      <td>p1@LOC113839076_XM_027434536.1</td>\n",
       "    </tr>\n",
       "    <tr>\n",
       "      <td>p1@LOC113839076_XM_027434535.1</td>\n",
       "      <td>NW_020824066.1</td>\n",
       "      <td>29953</td>\n",
       "      <td>29958</td>\n",
       "      <td>0.229426</td>\n",
       "      <td>+</td>\n",
       "      <td>p1@LOC113839076_XM_027434535.1</td>\n",
       "    </tr>\n",
       "    <tr>\n",
       "      <td>p1@LOC113839111_XM_027434561.1</td>\n",
       "      <td>NW_020824120.1</td>\n",
       "      <td>10476</td>\n",
       "      <td>10481</td>\n",
       "      <td>1.600973</td>\n",
       "      <td>+</td>\n",
       "      <td>p1@LOC113839111_XM_027434561.1</td>\n",
       "    </tr>\n",
       "    <tr>\n",
       "      <td>p2@LOC113839111_XM_027434561.1</td>\n",
       "      <td>NW_020824120.1</td>\n",
       "      <td>9952</td>\n",
       "      <td>9957</td>\n",
       "      <td>0.574031</td>\n",
       "      <td>+</td>\n",
       "      <td>p2@LOC113839111_XM_027434561.1</td>\n",
       "    </tr>\n",
       "    <tr>\n",
       "      <td>p1@LOC113839113_XM_027434564.1</td>\n",
       "      <td>NW_020824123.1</td>\n",
       "      <td>692</td>\n",
       "      <td>697</td>\n",
       "      <td>0.604226</td>\n",
       "      <td>+</td>\n",
       "      <td>p1@LOC113839113_XM_027434564.1</td>\n",
       "    </tr>\n",
       "  </tbody>\n",
       "</table>\n",
       "<p>30775 rows × 6 columns</p>\n",
       "</div>"
      ],
      "text/plain": [
       "                                           Chr    Start      End      Stat  \\\n",
       "ID                                                                           \n",
       "p1@Bmp4_XM_027386529.1          NW_020822366.1   722282   722287  1.779596   \n",
       "p2@Bmp4_XM_027386529.1          NW_020822366.1   721673   721678  0.506505   \n",
       "p3@Bmp4_XM_027386529.1          NW_020822366.1   721906   721911  0.580925   \n",
       "p1@Bmp4_XM_027386528.1          NW_020822366.1   724607   724612  4.074290   \n",
       "p1@Cdkn3_XM_027386531.1         NW_020822366.1  1085505  1085510  1.212188   \n",
       "...                                        ...      ...      ...       ...   \n",
       "p1@LOC113839076_XM_027434536.1  NW_020824066.1    29524    29529  0.667453   \n",
       "p1@LOC113839076_XM_027434535.1  NW_020824066.1    29953    29958  0.229426   \n",
       "p1@LOC113839111_XM_027434561.1  NW_020824120.1    10476    10481  1.600973   \n",
       "p2@LOC113839111_XM_027434561.1  NW_020824120.1     9952     9957  0.574031   \n",
       "p1@LOC113839113_XM_027434564.1  NW_020824123.1      692      697  0.604226   \n",
       "\n",
       "                               Strand                              ID  \n",
       "ID                                                                     \n",
       "p1@Bmp4_XM_027386529.1              -          p1@Bmp4_XM_027386529.1  \n",
       "p2@Bmp4_XM_027386529.1              -          p2@Bmp4_XM_027386529.1  \n",
       "p3@Bmp4_XM_027386529.1              -          p3@Bmp4_XM_027386529.1  \n",
       "p1@Bmp4_XM_027386528.1              -          p1@Bmp4_XM_027386528.1  \n",
       "p1@Cdkn3_XM_027386531.1             +         p1@Cdkn3_XM_027386531.1  \n",
       "...                               ...                             ...  \n",
       "p1@LOC113839076_XM_027434536.1      +  p1@LOC113839076_XM_027434536.1  \n",
       "p1@LOC113839076_XM_027434535.1      +  p1@LOC113839076_XM_027434535.1  \n",
       "p1@LOC113839111_XM_027434561.1      +  p1@LOC113839111_XM_027434561.1  \n",
       "p2@LOC113839111_XM_027434561.1      +  p2@LOC113839111_XM_027434561.1  \n",
       "p1@LOC113839113_XM_027434564.1      +  p1@LOC113839113_XM_027434564.1  \n",
       "\n",
       "[30775 rows x 6 columns]"
      ]
     },
     "execution_count": 6,
     "metadata": {},
     "output_type": "execute_result"
    }
   ],
   "source": [
    "exp_f_save = os.path.join(save_dir, \"TSS1.exp.narrow.bed\")\n",
    "bed_subset_region(bed_f = exp_bed_f, f_save=exp_f_save, region=(-2,+3))"
   ]
  },
  {
   "cell_type": "code",
   "execution_count": 7,
   "metadata": {
    "ExecuteTime": {
     "end_time": "2020-02-27T19:28:17.816634Z",
     "start_time": "2020-02-27T19:28:17.632312Z"
    },
    "scrolled": true
   },
   "outputs": [
    {
     "name": "stdout",
     "output_type": "stream",
     "text": [
      "Index(['Chr', 'Start', 'End', 'Stat', 'Strand'], dtype='object')\n",
      "ID\n"
     ]
    },
    {
     "data": {
      "text/html": [
       "<div>\n",
       "<style scoped>\n",
       "    .dataframe tbody tr th:only-of-type {\n",
       "        vertical-align: middle;\n",
       "    }\n",
       "\n",
       "    .dataframe tbody tr th {\n",
       "        vertical-align: top;\n",
       "    }\n",
       "\n",
       "    .dataframe thead th {\n",
       "        text-align: right;\n",
       "    }\n",
       "</style>\n",
       "<table border=\"1\" class=\"dataframe\">\n",
       "  <thead>\n",
       "    <tr style=\"text-align: right;\">\n",
       "      <th></th>\n",
       "      <th>Chr</th>\n",
       "      <th>Start</th>\n",
       "      <th>End</th>\n",
       "      <th>Stat</th>\n",
       "      <th>Strand</th>\n",
       "      <th>ID</th>\n",
       "    </tr>\n",
       "    <tr>\n",
       "      <th>ID</th>\n",
       "      <th></th>\n",
       "      <th></th>\n",
       "      <th></th>\n",
       "      <th></th>\n",
       "      <th></th>\n",
       "      <th></th>\n",
       "    </tr>\n",
       "  </thead>\n",
       "  <tbody>\n",
       "    <tr>\n",
       "      <td>p1@Bmp4_XM_027386529.1</td>\n",
       "      <td>NW_020822366.1</td>\n",
       "      <td>722306</td>\n",
       "      <td>722311</td>\n",
       "      <td>1.779596</td>\n",
       "      <td>-</td>\n",
       "      <td>p1@Bmp4_XM_027386529.1</td>\n",
       "    </tr>\n",
       "    <tr>\n",
       "      <td>p1@Bmp4_XM_027386528.1</td>\n",
       "      <td>NW_020822366.1</td>\n",
       "      <td>724608</td>\n",
       "      <td>724613</td>\n",
       "      <td>4.074290</td>\n",
       "      <td>-</td>\n",
       "      <td>p1@Bmp4_XM_027386528.1</td>\n",
       "    </tr>\n",
       "    <tr>\n",
       "      <td>p1@Cdkn3_XM_027386531.1</td>\n",
       "      <td>NW_020822366.1</td>\n",
       "      <td>1085433</td>\n",
       "      <td>1085438</td>\n",
       "      <td>1.212188</td>\n",
       "      <td>+</td>\n",
       "      <td>p1@Cdkn3_XM_027386531.1</td>\n",
       "    </tr>\n",
       "    <tr>\n",
       "      <td>p1@Cnih1_XM_027386534.1</td>\n",
       "      <td>NW_020822366.1</td>\n",
       "      <td>1114411</td>\n",
       "      <td>1114416</td>\n",
       "      <td>1.527630</td>\n",
       "      <td>-</td>\n",
       "      <td>p1@Cnih1_XM_027386534.1</td>\n",
       "    </tr>\n",
       "    <tr>\n",
       "      <td>p1@Cgrrf1_XM_027386536.1</td>\n",
       "      <td>NW_020822366.1</td>\n",
       "      <td>1159881</td>\n",
       "      <td>1159886</td>\n",
       "      <td>1.748963</td>\n",
       "      <td>+</td>\n",
       "      <td>p1@Cgrrf1_XM_027386536.1</td>\n",
       "    </tr>\n",
       "    <tr>\n",
       "      <td>...</td>\n",
       "      <td>...</td>\n",
       "      <td>...</td>\n",
       "      <td>...</td>\n",
       "      <td>...</td>\n",
       "      <td>...</td>\n",
       "      <td>...</td>\n",
       "    </tr>\n",
       "    <tr>\n",
       "      <td>p1@LOC113839066_XM_027434527.1</td>\n",
       "      <td>NW_020824056.1</td>\n",
       "      <td>5212</td>\n",
       "      <td>5217</td>\n",
       "      <td>0.824776</td>\n",
       "      <td>+</td>\n",
       "      <td>p1@LOC113839066_XM_027434527.1</td>\n",
       "    </tr>\n",
       "    <tr>\n",
       "      <td>p1@LOC113839076_XM_027434536.1</td>\n",
       "      <td>NW_020824066.1</td>\n",
       "      <td>29643</td>\n",
       "      <td>29648</td>\n",
       "      <td>0.667453</td>\n",
       "      <td>+</td>\n",
       "      <td>p1@LOC113839076_XM_027434536.1</td>\n",
       "    </tr>\n",
       "    <tr>\n",
       "      <td>p1@LOC113839076_XM_027434535.1</td>\n",
       "      <td>NW_020824066.1</td>\n",
       "      <td>29644</td>\n",
       "      <td>29649</td>\n",
       "      <td>0.229426</td>\n",
       "      <td>+</td>\n",
       "      <td>p1@LOC113839076_XM_027434535.1</td>\n",
       "    </tr>\n",
       "    <tr>\n",
       "      <td>p1@LOC113839111_XM_027434561.1</td>\n",
       "      <td>NW_020824120.1</td>\n",
       "      <td>10459</td>\n",
       "      <td>10464</td>\n",
       "      <td>1.600973</td>\n",
       "      <td>+</td>\n",
       "      <td>p1@LOC113839111_XM_027434561.1</td>\n",
       "    </tr>\n",
       "    <tr>\n",
       "      <td>p1@LOC113839113_XM_027434564.1</td>\n",
       "      <td>NW_020824123.1</td>\n",
       "      <td>1551</td>\n",
       "      <td>1556</td>\n",
       "      <td>0.604226</td>\n",
       "      <td>+</td>\n",
       "      <td>p1@LOC113839113_XM_027434564.1</td>\n",
       "    </tr>\n",
       "  </tbody>\n",
       "</table>\n",
       "<p>20637 rows × 6 columns</p>\n",
       "</div>"
      ],
      "text/plain": [
       "                                           Chr    Start      End      Stat  \\\n",
       "ID                                                                           \n",
       "p1@Bmp4_XM_027386529.1          NW_020822366.1   722306   722311  1.779596   \n",
       "p1@Bmp4_XM_027386528.1          NW_020822366.1   724608   724613  4.074290   \n",
       "p1@Cdkn3_XM_027386531.1         NW_020822366.1  1085433  1085438  1.212188   \n",
       "p1@Cnih1_XM_027386534.1         NW_020822366.1  1114411  1114416  1.527630   \n",
       "p1@Cgrrf1_XM_027386536.1        NW_020822366.1  1159881  1159886  1.748963   \n",
       "...                                        ...      ...      ...       ...   \n",
       "p1@LOC113839066_XM_027434527.1  NW_020824056.1     5212     5217  0.824776   \n",
       "p1@LOC113839076_XM_027434536.1  NW_020824066.1    29643    29648  0.667453   \n",
       "p1@LOC113839076_XM_027434535.1  NW_020824066.1    29644    29649  0.229426   \n",
       "p1@LOC113839111_XM_027434561.1  NW_020824120.1    10459    10464  1.600973   \n",
       "p1@LOC113839113_XM_027434564.1  NW_020824123.1     1551     1556  0.604226   \n",
       "\n",
       "                               Strand                              ID  \n",
       "ID                                                                     \n",
       "p1@Bmp4_XM_027386529.1              -          p1@Bmp4_XM_027386529.1  \n",
       "p1@Bmp4_XM_027386528.1              -          p1@Bmp4_XM_027386528.1  \n",
       "p1@Cdkn3_XM_027386531.1             +         p1@Cdkn3_XM_027386531.1  \n",
       "p1@Cnih1_XM_027386534.1             -         p1@Cnih1_XM_027386534.1  \n",
       "p1@Cgrrf1_XM_027386536.1            +        p1@Cgrrf1_XM_027386536.1  \n",
       "...                               ...                             ...  \n",
       "p1@LOC113839066_XM_027434527.1      +  p1@LOC113839066_XM_027434527.1  \n",
       "p1@LOC113839076_XM_027434536.1      +  p1@LOC113839076_XM_027434536.1  \n",
       "p1@LOC113839076_XM_027434535.1      +  p1@LOC113839076_XM_027434535.1  \n",
       "p1@LOC113839111_XM_027434561.1      +  p1@LOC113839111_XM_027434561.1  \n",
       "p1@LOC113839113_XM_027434564.1      +  p1@LOC113839113_XM_027434564.1  \n",
       "\n",
       "[20637 rows x 6 columns]"
      ]
     },
     "execution_count": 7,
     "metadata": {},
     "output_type": "execute_result"
    }
   ],
   "source": [
    "mrna_f_save = os.path.join(save_dir, \"TSS1.exp_refseq_centered.narrow.bed\")\n",
    "bed_subset_region(bed_f = mrna_bed_f, f_save=mrna_f_save, region=(-2,+3))"
   ]
  },
  {
   "cell_type": "code",
   "execution_count": 8,
   "metadata": {
    "ExecuteTime": {
     "end_time": "2020-02-27T19:28:18.249297Z",
     "start_time": "2020-02-27T19:28:17.819172Z"
    },
    "scrolled": true
   },
   "outputs": [
    {
     "name": "stdout",
     "output_type": "stream",
     "text": [
      "Index(['Chr', 'Start', 'End', 'Stat', 'Strand'], dtype='object')\n",
      "ID\n"
     ]
    },
    {
     "data": {
      "text/html": [
       "<div>\n",
       "<style scoped>\n",
       "    .dataframe tbody tr th:only-of-type {\n",
       "        vertical-align: middle;\n",
       "    }\n",
       "\n",
       "    .dataframe tbody tr th {\n",
       "        vertical-align: top;\n",
       "    }\n",
       "\n",
       "    .dataframe thead th {\n",
       "        text-align: right;\n",
       "    }\n",
       "</style>\n",
       "<table border=\"1\" class=\"dataframe\">\n",
       "  <thead>\n",
       "    <tr style=\"text-align: right;\">\n",
       "      <th></th>\n",
       "      <th>Chr</th>\n",
       "      <th>Start</th>\n",
       "      <th>End</th>\n",
       "      <th>Stat</th>\n",
       "      <th>Strand</th>\n",
       "      <th>ID</th>\n",
       "    </tr>\n",
       "    <tr>\n",
       "      <th>ID</th>\n",
       "      <th></th>\n",
       "      <th></th>\n",
       "      <th></th>\n",
       "      <th></th>\n",
       "      <th></th>\n",
       "      <th></th>\n",
       "    </tr>\n",
       "  </thead>\n",
       "  <tbody>\n",
       "    <tr>\n",
       "      <td>NM_001005484.1</td>\n",
       "      <td>NC_000001.11</td>\n",
       "      <td>69089</td>\n",
       "      <td>69094</td>\n",
       "      <td>0</td>\n",
       "      <td>+</td>\n",
       "      <td>NM_001005484.1</td>\n",
       "    </tr>\n",
       "    <tr>\n",
       "      <td>XM_024451963.1</td>\n",
       "      <td>NC_000001.11</td>\n",
       "      <td>400154</td>\n",
       "      <td>400159</td>\n",
       "      <td>0</td>\n",
       "      <td>-</td>\n",
       "      <td>XM_024451963.1</td>\n",
       "    </tr>\n",
       "    <tr>\n",
       "      <td>NM_001005221.2</td>\n",
       "      <td>NC_000001.11</td>\n",
       "      <td>451676</td>\n",
       "      <td>451681</td>\n",
       "      <td>0</td>\n",
       "      <td>-</td>\n",
       "      <td>NM_001005221.2</td>\n",
       "    </tr>\n",
       "    <tr>\n",
       "      <td>XM_011542538.1</td>\n",
       "      <td>NC_000001.11</td>\n",
       "      <td>611295</td>\n",
       "      <td>611300</td>\n",
       "      <td>0</td>\n",
       "      <td>-</td>\n",
       "      <td>XM_011542538.1</td>\n",
       "    </tr>\n",
       "    <tr>\n",
       "      <td>XM_024449993.1</td>\n",
       "      <td>NC_000001.11</td>\n",
       "      <td>698923</td>\n",
       "      <td>698928</td>\n",
       "      <td>0</td>\n",
       "      <td>-</td>\n",
       "      <td>XM_024449993.1</td>\n",
       "    </tr>\n",
       "    <tr>\n",
       "      <td>...</td>\n",
       "      <td>...</td>\n",
       "      <td>...</td>\n",
       "      <td>...</td>\n",
       "      <td>...</td>\n",
       "      <td>...</td>\n",
       "      <td>...</td>\n",
       "    </tr>\n",
       "    <tr>\n",
       "      <td>NM_173801.4</td>\n",
       "      <td>NW_019805498.1</td>\n",
       "      <td>129928</td>\n",
       "      <td>129933</td>\n",
       "      <td>0</td>\n",
       "      <td>+</td>\n",
       "      <td>NM_173801.4</td>\n",
       "    </tr>\n",
       "    <tr>\n",
       "      <td>NM_006138.4</td>\n",
       "      <td>NW_019805498.1</td>\n",
       "      <td>150498</td>\n",
       "      <td>150503</td>\n",
       "      <td>0</td>\n",
       "      <td>+</td>\n",
       "      <td>NM_006138.4</td>\n",
       "    </tr>\n",
       "    <tr>\n",
       "      <td>XM_024452681.1</td>\n",
       "      <td>NW_019805499.1</td>\n",
       "      <td>6570</td>\n",
       "      <td>6575</td>\n",
       "      <td>0</td>\n",
       "      <td>+</td>\n",
       "      <td>XM_024452681.1</td>\n",
       "    </tr>\n",
       "    <tr>\n",
       "      <td>XM_024452683.1</td>\n",
       "      <td>NW_019805499.1</td>\n",
       "      <td>76478</td>\n",
       "      <td>76483</td>\n",
       "      <td>0</td>\n",
       "      <td>+</td>\n",
       "      <td>XM_024452683.1</td>\n",
       "    </tr>\n",
       "    <tr>\n",
       "      <td>NM_022166.3</td>\n",
       "      <td>NW_019805500.1</td>\n",
       "      <td>472140</td>\n",
       "      <td>472145</td>\n",
       "      <td>0</td>\n",
       "      <td>-</td>\n",
       "      <td>NM_022166.3</td>\n",
       "    </tr>\n",
       "  </tbody>\n",
       "</table>\n",
       "<p>67408 rows × 6 columns</p>\n",
       "</div>"
      ],
      "text/plain": [
       "                           Chr   Start     End  Stat Strand              ID\n",
       "ID                                                                         \n",
       "NM_001005484.1    NC_000001.11   69089   69094     0      +  NM_001005484.1\n",
       "XM_024451963.1    NC_000001.11  400154  400159     0      -  XM_024451963.1\n",
       "NM_001005221.2    NC_000001.11  451676  451681     0      -  NM_001005221.2\n",
       "XM_011542538.1    NC_000001.11  611295  611300     0      -  XM_011542538.1\n",
       "XM_024449993.1    NC_000001.11  698923  698928     0      -  XM_024449993.1\n",
       "...                        ...     ...     ...   ...    ...             ...\n",
       "NM_173801.4     NW_019805498.1  129928  129933     0      +     NM_173801.4\n",
       "NM_006138.4     NW_019805498.1  150498  150503     0      +     NM_006138.4\n",
       "XM_024452681.1  NW_019805499.1    6570    6575     0      +  XM_024452681.1\n",
       "XM_024452683.1  NW_019805499.1   76478   76483     0      +  XM_024452683.1\n",
       "NM_022166.3     NW_019805500.1  472140  472145     0      -     NM_022166.3\n",
       "\n",
       "[67408 rows x 6 columns]"
      ]
     },
     "execution_count": 8,
     "metadata": {},
     "output_type": "execute_result"
    }
   ],
   "source": [
    "hg38_f_save = os.path.join(save_dir, \"hg38.narrow.bed\")\n",
    "bed_subset_region(bed_f = hg38_bed_f, f_save=hg38_f_save, region=(-2,+3))"
   ]
  },
  {
   "cell_type": "markdown",
   "metadata": {},
   "source": [
    "## Run findMotifs in Homer"
   ]
  },
  {
   "cell_type": "code",
   "execution_count": 9,
   "metadata": {
    "ExecuteTime": {
     "end_time": "2020-02-26T22:55:28.420630Z",
     "start_time": "2020-02-26T22:55:28.400405Z"
    }
   },
   "outputs": [],
   "source": [
    "def run_findMotifs(bed_f, out_dir, ref_fa, args=None,  bg=None):\n",
    "    if not os.path.exists(curr_dir):\n",
    "        os.mkdir(curr_dir)\n",
    "    cmd = f\"nohup findMotifsGenome.pl {bed_f} {ref_fa} {out_dir} -size given -len 3,4,5 \"\n",
    "    if bg is not None:\n",
    "        cmd = f\"{cmd} -bg {bg} \" \n",
    "    if args is not None:\n",
    "        cmd = cmd + \" \".join(args) + \" \"\n",
    "    cmd = f\"{cmd} > {out_dir}.log\"\n",
    "    print(cmd)\n",
    "    os.system(cmd)    \n",
    "    return"
   ]
  },
  {
   "cell_type": "code",
   "execution_count": 10,
   "metadata": {
    "ExecuteTime": {
     "end_time": "2020-02-26T23:04:36.638837Z",
     "start_time": "2020-02-26T22:55:28.422536Z"
    }
   },
   "outputs": [
    {
     "name": "stdout",
     "output_type": "stream",
     "text": [
      "nohup findMotifsGenome.pl Results/homer_motifs/TSS1.exp.narrow.bed /data/isshamie/genome/ncbi_anno_103/GCF_003668045.1_CriGri-PICR_genomic.fna Results/homer_motifs/eTSS_bg_rTSS_nocpg -size given -len 3,4,5  -bg Results/homer_motifs/TSS1.exp_refseq_centered.narrow.bed  > Results/homer_motifs/eTSS_bg_rTSS_nocpg.log\n",
      "nohup findMotifsGenome.pl Results/homer_motifs/TSS1.exp.narrow.bed /data/isshamie/genome/ncbi_anno_103/GCF_003668045.1_CriGri-PICR_genomic.fna Results/homer_motifs/eTSS_motifs_nocpg -size given -len 3,4,5  > Results/homer_motifs/eTSS_motifs_nocpg.log\n",
      "nohup findMotifsGenome.pl Results/homer_motifs/TSS1.exp_refseq_centered.narrow.bed /data/isshamie/genome/ncbi_anno_103/GCF_003668045.1_CriGri-PICR_genomic.fna Results/homer_motifs/rTSS_motifs_nocpg -size given -len 3,4,5  > Results/homer_motifs/rTSS_motifs_nocpg.log\n",
      "nohup findMotifsGenome.pl Results/homer_motifs/hg38.narrow.bed /data/isshamie/genome/hg38/GCF_000001405.38_GRCh38.p12_genomic.fna Results/homer_motifs/hg38_nocpg -size given -len 3,4,5  > Results/homer_motifs/hg38_nocpg.log\n"
     ]
    }
   ],
   "source": [
    "curr_dir = os.path.join(save_dir, \"eTSS_bg_rTSS_nocpg\")\n",
    "run_findMotifs(exp_f_save, out_dir=curr_dir,ref_fa=ref_fa, bg=mrna_f_save)\n",
    "\n",
    "\n",
    "exp_dir = os.path.join(save_dir, \"eTSS_motifs_nocpg\")\n",
    "run_findMotifs(exp_f_save, out_dir=exp_dir,ref_fa=ref_fa)\n",
    "\n",
    "ref_dir = os.path.join(save_dir, \"rTSS_motifs_nocpg\")\n",
    "run_findMotifs(mrna_f_save, out_dir=ref_dir,ref_fa=ref_fa)\n",
    "\n",
    "hg38_out = os.path.join(save_dir, \"hg38_nocpg\")\n",
    "hg38_genome = \"/data/isshamie/genome/hg38/GCF_000001405.38_GRCh38.p12_genomic.fna\"\n",
    "run_findMotifs(hg38_f_save, out_dir=hg38_out,ref_fa=hg38_genome)\n",
    "\n"
   ]
  },
  {
   "cell_type": "code",
   "execution_count": 11,
   "metadata": {
    "ExecuteTime": {
     "end_time": "2020-02-26T23:13:15.049983Z",
     "start_time": "2020-02-26T23:04:36.641020Z"
    },
    "scrolled": false
   },
   "outputs": [
    {
     "name": "stdout",
     "output_type": "stream",
     "text": [
      "nohup findMotifsGenome.pl Results/homer_motifs/TSS1.exp.narrow.bed /data/isshamie/genome/ncbi_anno_103/GCF_003668045.1_CriGri-PICR_genomic.fna Results/homer_motifs/eTSS_bg_rTSS -size given -len 3,4,5  -bg Results/homer_motifs/TSS1.exp_refseq_centered.narrow.bed -cpg  > Results/homer_motifs/eTSS_bg_rTSS.log\n",
      "nohup findMotifsGenome.pl Results/homer_motifs/TSS1.exp.narrow.bed /data/isshamie/genome/ncbi_anno_103/GCF_003668045.1_CriGri-PICR_genomic.fna Results/homer_motifs/eTSS_motifs -size given -len 3,4,5 -cpg  > Results/homer_motifs/eTSS_motifs.log\n",
      "nohup findMotifsGenome.pl Results/homer_motifs/TSS1.exp_refseq_centered.narrow.bed /data/isshamie/genome/ncbi_anno_103/GCF_003668045.1_CriGri-PICR_genomic.fna Results/homer_motifs/rTSS_motifs -size given -len 3,4,5 -cpg  > Results/homer_motifs/rTSS_motifs.log\n",
      "nohup findMotifsGenome.pl Results/homer_motifs/hg38.narrow.bed /data/isshamie/genome/hg38/GCF_000001405.38_GRCh38.p12_genomic.fna Results/homer_motifs/hg38 -size given -len 3,4,5 -cpg  > Results/homer_motifs/hg38.log\n"
     ]
    }
   ],
   "source": [
    "curr_dir = os.path.join(save_dir, \"eTSS_bg_rTSS\")\n",
    "run_findMotifs(exp_f_save, out_dir=curr_dir,ref_fa=ref_fa, bg=mrna_f_save, args=[\"-cpg\"])\n",
    "\n",
    "exp_dir = os.path.join(save_dir, \"eTSS_motifs\")\n",
    "run_findMotifs(exp_f_save, out_dir=exp_dir,ref_fa=ref_fa, args=[\"-cpg\"])\n",
    "\n",
    "ref_dir = os.path.join(save_dir, \"rTSS_motifs\")\n",
    "run_findMotifs(mrna_f_save, out_dir=ref_dir,ref_fa=ref_fa, args=[\"-cpg\"])\n",
    "\n",
    "hg38_out = os.path.join(save_dir, \"hg38\")\n",
    "hg38_genome = \"/data/isshamie/genome/hg38/GCF_000001405.38_GRCh38.p12_genomic.fna\"\n",
    "run_findMotifs(hg38_f_save, out_dir=hg38_out,ref_fa=hg38_genome, args=[\"-cpg\"])\n"
   ]
  },
  {
   "cell_type": "code",
   "execution_count": 13,
   "metadata": {
    "ExecuteTime": {
     "end_time": "2020-02-26T21:34:09.212982Z",
     "start_time": "2020-02-26T21:32:41.146033Z"
    },
    "deletable": false,
    "editable": false,
    "run_control": {
     "frozen": true
    },
    "scrolled": true
   },
   "outputs": [
    {
     "name": "stdout",
     "output_type": "stream",
     "text": [
      "nohup findMotifsGenome.pl Results/homer_motifs/TSS1.exp.narrow.bed /data/isshamie/genome/ncbi_anno_103/GCF_003668045.1_CriGri-PICR_genomic.fna Results/homer_motifs/eTSS_bg_rTSS_nocpg -size given -bg Results/homer_motifs/TSS1.exp_refseq_centered.narrow.bed -len 3,4,5 > Results/homer_motifs/eTSS_bg_rTSS_nocpg.log\n"
     ]
    },
    {
     "data": {
      "text/plain": [
       "0"
      ]
     },
     "execution_count": 13,
     "metadata": {},
     "output_type": "execute_result"
    }
   ],
   "source": [
    "curr_dir = os.path.join(save_dir, \"eTSS_bg_rTSS_nocpg\")\n",
    "if not os.path.exists(curr_dir):\n",
    "    os.mkdir(curr_dir)\n",
    "\n",
    "run_findMotifs(exp_f_save, out_dir=curr_dir,ref_fa=ref_fa, bg=mrna_f_save)\n",
    "\n",
    "cmd = f\"nohup findMotifsGenome.pl {exp_f_save} {ref_fa} {curr_dir} -size given -bg {mrna_f_save} -len 3,4,5 > {curr_dir}.log\"\n",
    "print(cmd)\n",
    "os.system(cmd)"
   ]
  },
  {
   "cell_type": "code",
   "execution_count": 10,
   "metadata": {
    "ExecuteTime": {
     "end_time": "2020-02-26T19:46:50.495084Z",
     "start_time": "2020-02-26T19:40:43.431727Z"
    },
    "deletable": false,
    "editable": false,
    "run_control": {
     "frozen": true
    },
    "scrolled": true
   },
   "outputs": [
    {
     "name": "stdout",
     "output_type": "stream",
     "text": [
      "findMotifsGenome.pl Results/homer_motifs/TSS1.exp.narrow.bed /data/isshamie/genome/ncbi_anno_103/GCF_003668045.1_CriGri-PICR_genomic.fna Results/homer_motifs/eTSS_motifs_nocpg -size given -len 3,4,5 \n"
     ]
    },
    {
     "data": {
      "text/plain": [
       "0"
      ]
     },
     "execution_count": 10,
     "metadata": {},
     "output_type": "execute_result"
    }
   ],
   "source": [
    "exp_dir = os.path.join(save_dir, \"eTSS_motifs_nocpg\")\n",
    "if not os.path.exists(exp_dir):\n",
    "    os.mkdir(exp_dir)\n",
    "cmd = f\"nohup findMotifsGenome.pl {exp_f_save} {ref_fa} {exp_dir} -size given -len 3,4,5 > {exp_dir}.log\"\n",
    "print(cmd)\n",
    "os.system(cmd)"
   ]
  },
  {
   "cell_type": "code",
   "execution_count": 11,
   "metadata": {
    "ExecuteTime": {
     "end_time": "2020-02-26T19:49:33.057353Z",
     "start_time": "2020-02-26T19:46:50.498521Z"
    },
    "deletable": false,
    "editable": false,
    "run_control": {
     "frozen": true
    }
   },
   "outputs": [
    {
     "name": "stdout",
     "output_type": "stream",
     "text": [
      "findMotifsGenome.pl Results/homer_motifs/TSS1.exp.narrow.bed /data/isshamie/genome/ncbi_anno_103/GCF_003668045.1_CriGri-PICR_genomic.fna Results/homer_motifs/rTSS_motifs_nocpg -size given -len 3,4,5 \n"
     ]
    },
    {
     "data": {
      "text/plain": [
       "0"
      ]
     },
     "execution_count": 11,
     "metadata": {},
     "output_type": "execute_result"
    }
   ],
   "source": [
    "ref_dir = os.path.join(save_dir, \"rTSS_motifs_nocpg\")\n",
    "if not os.path.exists(ref_dir):\n",
    "    os.mkdir(ref_dir)\n",
    "cmd = f\"nohup findMotifsGenome.pl {exp_f_save} {ref_fa} {ref_dir} -size given -len 3,4,5 > {ref_dir}.log \"\n",
    "print(cmd)\n",
    "os.system(cmd)"
   ]
  },
  {
   "cell_type": "code",
   "execution_count": 25,
   "metadata": {
    "ExecuteTime": {
     "end_time": "2020-02-26T20:42:45.003114Z",
     "start_time": "2020-02-26T20:42:42.054586Z"
    },
    "deletable": false,
    "editable": false,
    "run_control": {
     "frozen": true
    },
    "scrolled": true
   },
   "outputs": [
    {
     "name": "stdout",
     "output_type": "stream",
     "text": [
      "findMotifsGenome.pl Results/homer_motifs/hg38.narrow.bed /data/isshamie/genome/hg38/GCF_000001405.38_GRCh38.p12_genomic.fna Results/homer_motifs/hg38 -size given -len 3,4,5,6 \n"
     ]
    },
    {
     "data": {
      "text/plain": [
       "2"
      ]
     },
     "execution_count": 25,
     "metadata": {},
     "output_type": "execute_result"
    }
   ],
   "source": [
    "hg38_out = os.path.join(save_dir, \"hg38_nocpg\")\n",
    "if not os.path.exists(hg38_out):\n",
    "    os.mkdir(hg38_out)\n",
    "\n",
    "hg38_genome = \"/data/isshamie/genome/hg38/GCF_000001405.38_GRCh38.p12_genomic.fna\"\n",
    "cmd = f\"nohup findMotifsGenome.pl {hg38_f_save} {hg38_genome} {hg38_out} -size given -len 3,4,5 {hg38}.log\"\n",
    "print(cmd)\n",
    "os.system(cmd)"
   ]
  },
  {
   "cell_type": "code",
   "execution_count": 13,
   "metadata": {
    "ExecuteTime": {
     "end_time": "2020-02-26T19:54:07.562120Z",
     "start_time": "2020-02-26T19:51:20.059671Z"
    },
    "deletable": false,
    "editable": false,
    "run_control": {
     "frozen": true
    },
    "scrolled": false
   },
   "outputs": [
    {
     "name": "stdout",
     "output_type": "stream",
     "text": [
      "findMotifsGenome.pl Results/homer_motifs/TSS1.exp.narrow.bed /data/isshamie/genome/ncbi_anno_103/GCF_003668045.1_CriGri-PICR_genomic.fna Results/homer_motifs/rTSS_motifs -size given -len 3,4,5  -cpg\n"
     ]
    },
    {
     "data": {
      "text/plain": [
       "0"
      ]
     },
     "execution_count": 13,
     "metadata": {},
     "output_type": "execute_result"
    }
   ],
   "source": [
    "ref_dir = os.path.join(save_dir, \"rTSS_motifs\")\n",
    "if not os.path.exists(ref_dir):\n",
    "    os.mkdir(ref_dir)\n",
    "cmd = f\"findMotifsGenome.pl {exp_f_save} {ref_fa} {ref_dir} -size given -len 3,4,5 -cpg\"\n",
    "print(cmd)\n",
    "os.system(cmd)"
   ]
  },
  {
   "cell_type": "code",
   "execution_count": 16,
   "metadata": {
    "ExecuteTime": {
     "end_time": "2020-02-26T20:16:06.772391Z",
     "start_time": "2020-02-26T20:14:53.814470Z"
    },
    "deletable": false,
    "editable": false,
    "run_control": {
     "frozen": true
    },
    "scrolled": true
   },
   "outputs": [
    {
     "name": "stdout",
     "output_type": "stream",
     "text": [
      "findMotifsGenome.pl Results/homer_motifs/TSS1.exp.narrow.bed /data/isshamie/genome/ncbi_anno_103/GCF_003668045.1_CriGri-PICR_genomic.fna Results/homer_motifs/exp_bg_ref_dir_motifs -size given -bg Results/homer_motifs/TSS1.exp_refseq_centered.narrow.bed -len 3,4,5  -cpg\n"
     ]
    },
    {
     "data": {
      "text/plain": [
       "0"
      ]
     },
     "execution_count": 16,
     "metadata": {},
     "output_type": "execute_result"
    }
   ],
   "source": [
    "exp_bg_ref_dir = os.path.join(save_dir, \"exp_bg_ref_dir_motifs\")\n",
    "if not os.path.exists(exp_bg_ref_dir):\n",
    "    os.mkdir(exp_bg_ref_dir)\n",
    "cmd = f\"findMotifsGenome.pl {exp_f_save} {ref_fa} {exp_bg_ref_dir} -size given -bg {mrna_f_save} -len 3,4,5  -cpg\"\n",
    "print(cmd)\n",
    "os.system(cmd)"
   ]
  },
  {
   "cell_type": "code",
   "execution_count": 15,
   "metadata": {
    "ExecuteTime": {
     "end_time": "2020-02-26T19:58:31.198020Z",
     "start_time": "2020-02-26T19:55:22.224476Z"
    },
    "deletable": false,
    "editable": false,
    "run_control": {
     "frozen": true
    },
    "scrolled": true
   },
   "outputs": [
    {
     "name": "stdout",
     "output_type": "stream",
     "text": [
      "findMotifsGenome.pl Results/homer_motifs/TSS1.exp.narrow.bed /data/isshamie/genome/ncbi_anno_103/GCF_003668045.1_CriGri-PICR_genomic.fna Results/homer_motifs/eTSS_motifs -size given -len 3,4,5  -cpg\n"
     ]
    },
    {
     "data": {
      "text/plain": [
       "0"
      ]
     },
     "execution_count": 15,
     "metadata": {},
     "output_type": "execute_result"
    }
   ],
   "source": [
    "exp_dir = os.path.join(save_dir, \"eTSS_motifs\")\n",
    "if not os.path.exists(exp_dir):\n",
    "    os.mkdir(exp_dir)\n",
    "cmd = f\"findMotifsGenome.pl {exp_f_save} {ref_fa} {exp_dir} -size given -len 3,4,5  -cpg\"\n",
    "print(cmd)\n",
    "os.system(cmd)"
   ]
  },
  {
   "cell_type": "markdown",
   "metadata": {},
   "source": [
    "## Plot PWM and Results"
   ]
  }
 ],
 "metadata": {
  "kernelspec": {
   "display_name": "Python 3",
   "language": "python",
   "name": "python3"
  },
  "language_info": {
   "codemirror_mode": {
    "name": "ipython",
    "version": 3
   },
   "file_extension": ".py",
   "mimetype": "text/x-python",
   "name": "python",
   "nbconvert_exporter": "python",
   "pygments_lexer": "ipython3",
   "version": "3.7.3"
  }
 },
 "nbformat": 4,
 "nbformat_minor": 2
}
