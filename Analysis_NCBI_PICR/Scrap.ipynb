{
 "cells": [
  {
   "cell_type": "code",
   "execution_count": 1,
   "metadata": {
    "ExecuteTime": {
     "end_time": "2019-02-05T23:30:02.017219Z",
     "start_time": "2019-02-05T23:30:01.641291Z"
    },
    "collapsed": true
   },
   "outputs": [],
   "source": [
    "import pandas as pd"
   ]
  },
  {
   "cell_type": "code",
   "execution_count": 3,
   "metadata": {
    "ExecuteTime": {
     "end_time": "2019-02-05T23:30:52.925566Z",
     "start_time": "2019-02-05T23:30:52.700361Z"
    }
   },
   "outputs": [
    {
     "data": {
      "text/html": [
       "<div>\n",
       "<style scoped>\n",
       "    .dataframe tbody tr th:only-of-type {\n",
       "        vertical-align: middle;\n",
       "    }\n",
       "\n",
       "    .dataframe tbody tr th {\n",
       "        vertical-align: top;\n",
       "    }\n",
       "\n",
       "    .dataframe thead th {\n",
       "        text-align: right;\n",
       "    }\n",
       "</style>\n",
       "<table border=\"1\" class=\"dataframe\">\n",
       "  <thead>\n",
       "    <tr style=\"text-align: right;\">\n",
       "      <th></th>\n",
       "      <th>Tissues</th>\n",
       "      <th>cs</th>\n",
       "      <th>CHO ATAC Region</th>\n",
       "      <th>ID</th>\n",
       "      <th>Gene</th>\n",
       "      <th>Gene ID</th>\n",
       "      <th>Transcript</th>\n",
       "      <th>Is Experimental</th>\n",
       "      <th>has ATAC</th>\n",
       "    </tr>\n",
       "  </thead>\n",
       "  <tbody>\n",
       "    <tr>\n",
       "      <th>p1@Bmp4_XM_027386528.1</th>\n",
       "      <td>Heart,Spleen,MiscOrgans,FemaleReproductive,Bra...</td>\n",
       "      <td>0b11</td>\n",
       "      <td>NaN</td>\n",
       "      <td>308710.0</td>\n",
       "      <td>Bmp4</td>\n",
       "      <td>NaN</td>\n",
       "      <td>XM_027386528.1</td>\n",
       "      <td>1</td>\n",
       "      <td>1</td>\n",
       "    </tr>\n",
       "    <tr>\n",
       "      <th>p1@Cdkn3_XM_027386531.1</th>\n",
       "      <td>BMDMwt,Spleen,MiscOrgans,FemaleReproductive,CH...</td>\n",
       "      <td>0b11</td>\n",
       "      <td>NaN</td>\n",
       "      <td>237253.0</td>\n",
       "      <td>Cdkn3</td>\n",
       "      <td>NaN</td>\n",
       "      <td>XM_027386531.1</td>\n",
       "      <td>1</td>\n",
       "      <td>0</td>\n",
       "    </tr>\n",
       "    <tr>\n",
       "      <th>p0@Cdkn3_XM_027386533.1</th>\n",
       "      <td>NaN</td>\n",
       "      <td>NaN</td>\n",
       "      <td>NaN</td>\n",
       "      <td>NaN</td>\n",
       "      <td>Cdkn3</td>\n",
       "      <td>NaN</td>\n",
       "      <td>XM_027386533.1</td>\n",
       "      <td>0</td>\n",
       "      <td>0</td>\n",
       "    </tr>\n",
       "    <tr>\n",
       "      <th>p2@Cnih1_XM_027386534.1</th>\n",
       "      <td>Heart,Spleen,MiscOrgans,FemaleReproductive,CHO...</td>\n",
       "      <td>0b11</td>\n",
       "      <td>1113861:1114585</td>\n",
       "      <td>353645.0</td>\n",
       "      <td>Cnih1</td>\n",
       "      <td>NaN</td>\n",
       "      <td>XM_027386534.1</td>\n",
       "      <td>1</td>\n",
       "      <td>1</td>\n",
       "    </tr>\n",
       "    <tr>\n",
       "      <th>p1@Cnih1_XM_027386534.1</th>\n",
       "      <td>Heart,Spleen,MiscOrgans,FemaleReproductive,CHO...</td>\n",
       "      <td>0b11</td>\n",
       "      <td>NaN</td>\n",
       "      <td>298307.0</td>\n",
       "      <td>Cnih1</td>\n",
       "      <td>NaN</td>\n",
       "      <td>XM_027386534.1</td>\n",
       "      <td>1</td>\n",
       "      <td>0</td>\n",
       "    </tr>\n",
       "  </tbody>\n",
       "</table>\n",
       "</div>"
      ],
      "text/plain": [
       "                                                                   Tissues  \\\n",
       "p1@Bmp4_XM_027386528.1   Heart,Spleen,MiscOrgans,FemaleReproductive,Bra...   \n",
       "p1@Cdkn3_XM_027386531.1  BMDMwt,Spleen,MiscOrgans,FemaleReproductive,CH...   \n",
       "p0@Cdkn3_XM_027386533.1                                                NaN   \n",
       "p2@Cnih1_XM_027386534.1  Heart,Spleen,MiscOrgans,FemaleReproductive,CHO...   \n",
       "p1@Cnih1_XM_027386534.1  Heart,Spleen,MiscOrgans,FemaleReproductive,CHO...   \n",
       "\n",
       "                           cs  CHO ATAC Region        ID   Gene  Gene ID  \\\n",
       "p1@Bmp4_XM_027386528.1   0b11              NaN  308710.0   Bmp4      NaN   \n",
       "p1@Cdkn3_XM_027386531.1  0b11              NaN  237253.0  Cdkn3      NaN   \n",
       "p0@Cdkn3_XM_027386533.1   NaN              NaN       NaN  Cdkn3      NaN   \n",
       "p2@Cnih1_XM_027386534.1  0b11  1113861:1114585  353645.0  Cnih1      NaN   \n",
       "p1@Cnih1_XM_027386534.1  0b11              NaN  298307.0  Cnih1      NaN   \n",
       "\n",
       "                             Transcript  Is Experimental  has ATAC  \n",
       "p1@Bmp4_XM_027386528.1   XM_027386528.1                1         1  \n",
       "p1@Cdkn3_XM_027386531.1  XM_027386531.1                1         0  \n",
       "p0@Cdkn3_XM_027386533.1  XM_027386533.1                0         0  \n",
       "p2@Cnih1_XM_027386534.1  XM_027386534.1                1         1  \n",
       "p1@Cnih1_XM_027386534.1  XM_027386534.1                1         0  "
      ]
     },
     "execution_count": 3,
     "metadata": {},
     "output_type": "execute_result"
    }
   ],
   "source": [
    "df = pd.read_csv(\"Results/output/TSS1.meta\", sep=\"\\t\",index_col=0)\n",
    "df.head()"
   ]
  },
  {
   "cell_type": "code",
   "execution_count": 6,
   "metadata": {
    "ExecuteTime": {
     "end_time": "2019-02-05T23:33:57.914086Z",
     "start_time": "2019-02-05T23:33:57.859834Z"
    }
   },
   "outputs": [
    {
     "data": {
      "text/html": [
       "<div>\n",
       "<style scoped>\n",
       "    .dataframe tbody tr th:only-of-type {\n",
       "        vertical-align: middle;\n",
       "    }\n",
       "\n",
       "    .dataframe tbody tr th {\n",
       "        vertical-align: top;\n",
       "    }\n",
       "\n",
       "    .dataframe thead th {\n",
       "        text-align: right;\n",
       "    }\n",
       "</style>\n",
       "<table border=\"1\" class=\"dataframe\">\n",
       "  <thead>\n",
       "    <tr style=\"text-align: right;\">\n",
       "      <th></th>\n",
       "      <th>Tissues</th>\n",
       "      <th>cs</th>\n",
       "      <th>CHO ATAC Region</th>\n",
       "      <th>ID</th>\n",
       "      <th>Gene</th>\n",
       "      <th>Gene ID</th>\n",
       "      <th>Transcript</th>\n",
       "      <th>Is Experimental</th>\n",
       "      <th>has ATAC</th>\n",
       "    </tr>\n",
       "  </thead>\n",
       "  <tbody>\n",
       "    <tr>\n",
       "      <th>p1@Bmp4_XM_027386528.1</th>\n",
       "      <td>Heart,Spleen,MiscOrgans,FemaleReproductive,Bra...</td>\n",
       "      <td>0b11</td>\n",
       "      <td>NaN</td>\n",
       "      <td>308710.0</td>\n",
       "      <td>Bmp4</td>\n",
       "      <td>NaN</td>\n",
       "      <td>XM_027386528.1</td>\n",
       "      <td>1</td>\n",
       "      <td>1</td>\n",
       "    </tr>\n",
       "  </tbody>\n",
       "</table>\n",
       "</div>"
      ],
      "text/plain": [
       "                                                                  Tissues  \\\n",
       "p1@Bmp4_XM_027386528.1  Heart,Spleen,MiscOrgans,FemaleReproductive,Bra...   \n",
       "\n",
       "                          cs CHO ATAC Region        ID  Gene  Gene ID  \\\n",
       "p1@Bmp4_XM_027386528.1  0b11             NaN  308710.0  Bmp4      NaN   \n",
       "\n",
       "                            Transcript  Is Experimental  has ATAC  \n",
       "p1@Bmp4_XM_027386528.1  XM_027386528.1                1         1  "
      ]
     },
     "execution_count": 6,
     "metadata": {},
     "output_type": "execute_result"
    }
   ],
   "source": [
    "df[df[\"Gene\"] == \"Bmp4\"]"
   ]
  },
  {
   "cell_type": "code",
   "execution_count": 4,
   "metadata": {
    "ExecuteTime": {
     "end_time": "2019-02-05T23:30:58.910702Z",
     "start_time": "2019-02-05T23:30:58.866947Z"
    },
    "scrolled": true
   },
   "outputs": [
    {
     "data": {
      "text/plain": [
       "p1@Bmp4_XM_027386528.1            1\n",
       "p1@Cdkn3_XM_027386531.1           0\n",
       "p0@Cdkn3_XM_027386533.1           0\n",
       "p2@Cnih1_XM_027386534.1           1\n",
       "p1@Cnih1_XM_027386534.1           0\n",
       "p2@Gmfb_XM_027386535.1            1\n",
       "p1@Gmfb_XM_027386535.1            0\n",
       "p1@Cgrrf1_XM_027386536.1          1\n",
       "p2@Cgrrf1_XM_027386536.1          0\n",
       "p1@Samd4a_XM_027386537.1          0\n",
       "p1@Samd4a_XM_027386538.1          0\n",
       "p1@Samd4a_XM_027386539.1          0\n",
       "p2@Samd4a_XM_027386539.1          0\n",
       "p1@Gch1_XM_027386540.1            0\n",
       "p1@Wdhd1_XM_027386542.1           1\n",
       "p1@Socs4_XM_027386543.1           0\n",
       "p1@Mapk1ip1l_XM_027386545.1       1\n",
       "p0@Mapk1ip1l_XM_027386544.1       1\n",
       "p1@Lgals3_XM_027386548.1          1\n",
       "p2@Lgals3_XM_027386548.1          0\n",
       "p1@Dlgap5_XM_027386546.1          1\n",
       "p2@Dlgap5_XM_027386546.1          0\n",
       "p1@Fbxo34_XM_027386550.1          1\n",
       "p0@Fbxo34_XM_027386549.1          1\n",
       "p0@Fbxo34_XM_027386551.1          0\n",
       "p1@Fbxo34_XM_027386552.1          0\n",
       "p2@Atg14_XM_027386553.1           1\n",
       "p1@Atg14_XM_027386553.1           0\n",
       "p1@Ktn1_XM_027386554.1            1\n",
       "p3@Ktn1_XM_027386554.1            0\n",
       "                                 ..\n",
       "p0@LOC113839105_XM_027434557.1    0\n",
       "p0@LOC113839106_XM_027434559.1    0\n",
       "p2@LOC113839111_XM_027434561.1    1\n",
       "p1@LOC113839111_XM_027434561.1    0\n",
       "p0@LOC113839111_XM_027434562.1    0\n",
       "p0@LOC113839112_XM_027434563.1    0\n",
       "p1@LOC113839113_XM_027434564.1    0\n",
       "p0@LOC113839114_XM_027434565.1    0\n",
       "p0@LOC113839116_XM_027434567.1    0\n",
       "p0@LOC113839120_XM_027434570.1    0\n",
       "p0@LOC100772781_XM_027434569.1    0\n",
       "p0@LOC113839119_XM_027434568.1    0\n",
       "p0@LOC100773104_XM_027434572.1    0\n",
       "p0@LOC113839123_XM_027434573.1    0\n",
       "p0@LOC113839127_XM_027434574.1    0\n",
       "p0@LOC113839129_XM_027434576.1    0\n",
       "p0@LOC113839128_XM_027434575.1    0\n",
       "p0@LOC113839134_XM_027434579.1    0\n",
       "p0@LOC113839135_XM_027434580.1    0\n",
       "p0@LOC113839136_XM_027434582.1    0\n",
       "p0@LOC113839138_XM_027434583.1    0\n",
       "p0@LOC113839140_XM_027434585.1    0\n",
       "p0@LOC113839142_XM_027434586.1    0\n",
       "p0@LOC100764150_XM_027434587.1    0\n",
       "p0@LOC113839145_XM_027434588.1    0\n",
       "p0@LOC113839146_XM_027434589.1    0\n",
       "p0@LOC113839147_XM_027434591.1    0\n",
       "p0@LOC103158952_XM_027434593.1    0\n",
       "p0@LOC113839149_XM_027434595.1    0\n",
       "p0@LOC113839150_XM_027434597.1    0\n",
       "Name: has ATAC, Length: 48344, dtype: int64"
      ]
     },
     "execution_count": 4,
     "metadata": {},
     "output_type": "execute_result"
    }
   ],
   "source": [
    "df[\"has ATAC\"]"
   ]
  }
 ],
 "metadata": {
  "kernelspec": {
   "display_name": "Python 2",
   "language": "python",
   "name": "python2"
  },
  "language_info": {
   "codemirror_mode": {
    "name": "ipython",
    "version": 2
   },
   "file_extension": ".py",
   "mimetype": "text/x-python",
   "name": "python",
   "nbconvert_exporter": "python",
   "pygments_lexer": "ipython2",
   "version": "2.7.13"
  }
 },
 "nbformat": 4,
 "nbformat_minor": 2
}
