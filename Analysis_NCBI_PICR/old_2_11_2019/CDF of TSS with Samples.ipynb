{
 "cells": [
  {
   "cell_type": "code",
   "execution_count": 2,
   "metadata": {
    "ExecuteTime": {
     "end_time": "2019-01-22T03:40:38.680244Z",
     "start_time": "2019-01-22T03:40:33.893896Z"
    }
   },
   "outputs": [
    {
     "name": "stdout",
     "output_type": "stream",
     "text": [
      "('Number of tissues: ', 13)\n"
     ]
    }
   ],
   "source": [
    "## Parameters specific to where your folders are and your data\n",
    "parameter_file = 'params/params.yaml'\n",
    "import yaml\n",
    "import sys\n",
    "import glob\n",
    "with open(parameter_file,'r') as f:\n",
    "    doc = yaml.load(f)\n",
    "\n",
    "#p = dic2obj(**doc)\n",
    "\n",
    "data_folder = doc['data_folder']\n",
    "tissues = doc['tissues'].split(',')\n",
    "sys.path.append(doc['pipeline_path'])\n",
    "ref_fa = doc['ref_fa']\n",
    "annotation= doc['annotation']\n",
    "#annotation_gtf = doc['annotation_gtf']\n",
    "tss_file = doc['tss_annotation']\n",
    "\n",
    "tss_annotation = doc['tss_annotation']\n",
    "\n",
    "\n",
    "import os\n",
    "\n",
    "import sys\n",
    "import pandas as pd\n",
    "import matplotlib\n",
    "import seaborn as sns\n",
    "import pickle\n",
    "import numpy as np\n",
    "import matplotlib as mpl\n",
    "from matplotlib import pyplot as plt\n",
    "from itertools import product\n",
    "import glob\n",
    "import re\n",
    "from matplotlib_venn import venn2\n",
    "from matplotlib import rcParams\n",
    "import inspect\n",
    "%matplotlib inline\n",
    "%config InlineBackend.figure_format = 'retina'\n",
    "sys.setrecursionlimit(3000)\n",
    "%load_ext autoreload\n",
    "%autoreload 2\n",
    "rcParams['figure.figsize'] = 8, 6\n",
    "import tqdm\n",
    "\n",
    "from os.path import basename\n",
    "##mpl.use('Agg')\n",
    "#mpl.style.use('ggplot')\n",
    "#mpl.style.use('fivethirtyeight')\n",
    "from Homer import *\n",
    "\n",
    "print('Number of tissues: ',len(tissues))"
   ]
  },
  {
   "cell_type": "code",
   "execution_count": 3,
   "metadata": {
    "ExecuteTime": {
     "end_time": "2019-01-22T03:40:38.706702Z",
     "start_time": "2019-01-22T03:40:38.682416Z"
    },
    "collapsed": true,
    "scrolled": true
   },
   "outputs": [],
   "source": [
    "import Homer"
   ]
  },
  {
   "cell_type": "markdown",
   "metadata": {
    "collapsed": true
   },
   "source": [
    "### Plot the CDF of fraction of genes covered"
   ]
  },
  {
   "cell_type": "code",
   "execution_count": 4,
   "metadata": {
    "ExecuteTime": {
     "end_time": "2019-01-22T03:40:38.737355Z",
     "start_time": "2019-01-22T03:40:38.709251Z"
    },
    "collapsed": true
   },
   "outputs": [],
   "source": [
    "def to_collapse(curr,collapse_mapping):\n",
    "    collapse = set()\n",
    "    for i in curr: \n",
    "        collapse.add(collapse_mapping[i])\n",
    "    return list(collapse)\n",
    "\n",
    "def create_binary(df,tissues,colname=\"tissues\"):\n",
    "    bin_df = pd.DataFrame(index=df.index,columns=tissues,dtype=bool)\n",
    "    bin_df[:] = False\n",
    "    for ind,val in tqdm.tqdm(df.iterrows()):\n",
    "        bin_df.loc[ind,val[\"tissues\"]] = True\n",
    "        \n",
    "    return bin_df"
   ]
  },
  {
   "cell_type": "code",
   "execution_count": 5,
   "metadata": {
    "ExecuteTime": {
     "end_time": "2019-01-22T03:40:38.846064Z",
     "start_time": "2019-01-22T03:40:38.739497Z"
    }
   },
   "outputs": [
    {
     "ename": "IOError",
     "evalue": "[Errno 2] No such file or directory: 'Results/tissue_map.p'",
     "output_type": "error",
     "traceback": [
      "\u001b[0;31m---------------------------------------------------------------------------\u001b[0m",
      "\u001b[0;31mIOError\u001b[0m                                   Traceback (most recent call last)",
      "\u001b[0;32m<ipython-input-5-a1ac22077d7a>\u001b[0m in \u001b[0;36m<module>\u001b[0;34m()\u001b[0m\n\u001b[0;32m----> 1\u001b[0;31m \u001b[0;34m[\u001b[0m\u001b[0mtissue_map\u001b[0m\u001b[0;34m,\u001b[0m\u001b[0mtissue_map_short\u001b[0m\u001b[0;34m]\u001b[0m\u001b[0;34m=\u001b[0m \u001b[0mpickle\u001b[0m\u001b[0;34m.\u001b[0m\u001b[0mload\u001b[0m\u001b[0;34m(\u001b[0m\u001b[0mopen\u001b[0m\u001b[0;34m(\u001b[0m\u001b[0;34m\"Results/tissue_map.p\"\u001b[0m\u001b[0;34m,\u001b[0m\u001b[0;34m\"rb\"\u001b[0m\u001b[0;34m)\u001b[0m\u001b[0;34m)\u001b[0m\u001b[0;34m\u001b[0m\u001b[0m\n\u001b[0m",
      "\u001b[0;31mIOError\u001b[0m: [Errno 2] No such file or directory: 'Results/tissue_map.p'"
     ]
    }
   ],
   "source": [
    "[tissue_map,tissue_map_short]= pickle.load(open(\"Results/tissue_map.p\",\"rb\"))"
   ]
  },
  {
   "cell_type": "code",
   "execution_count": null,
   "metadata": {
    "ExecuteTime": {
     "end_time": "2019-01-22T03:40:38.847156Z",
     "start_time": "2019-01-22T03:40:36.679Z"
    },
    "scrolled": true
   },
   "outputs": [],
   "source": [
    "f_in = 'Results/tss_annotation/geneID_df_02.p' \n",
    "gene = pickle.load(open(f_in,\"rb\"))\n",
    "gene[\"tissues\"] = gene[\"samples\"].apply(lambda x: to_collapse(x,tissue_map_short))\n",
    "gene_bin = create_binary(gene,tissues,colname=\"tissues\")"
   ]
  },
  {
   "cell_type": "code",
   "execution_count": null,
   "metadata": {
    "ExecuteTime": {
     "end_time": "2019-01-22T03:40:38.848988Z",
     "start_time": "2019-01-22T03:40:36.680Z"
    },
    "collapsed": true
   },
   "outputs": [],
   "source": [
    "## Create CDF of genes\n",
    "def create_cdf(bin_df):\n",
    "    ## Steps:\n",
    "    # 1. Create dictionary of tissue combo to number of genes \n",
    "    # 1. Double for loop and get the pairwise union overlap\n",
    "    # 2. Pop them from list\n",
    "    # 3. While not done with all columns\n",
    "         #-Loop through and find the next maximum overlap\n",
    "         #-Add to dictionary\n",
    "         #-Pop from list\n",
    "    cdf_tissues = []\n",
    "    cdf_number = []\n",
    "    all_cols = list(bin_df.columns.values)\n",
    "    max_overlap = 0\n",
    "    max_combo = ()\n",
    "    max_num = 0\n",
    "    for i in all_cols:\n",
    "        for j in all_cols[1:]:\n",
    "            overlap =  set((bin_df[bin_df[i]].index)).union(set((bin_df[bin_df[j]].index)))\n",
    "            if len(overlap) > max_num:\n",
    "                max_overlap = overlap\n",
    "                max_num = len(overlap)\n",
    "                max_combo  = (i,j)\n",
    "\n",
    "\n",
    "\n",
    "    cdf_tissues.append(max_combo[np.argmax([bin_df[max_combo[0]].sum(),bin_df[max_combo[1]].sum()])])\n",
    "    cdf_tissues.append(max_combo[np.argmin([bin_df[max_combo[0]].sum(),bin_df[max_combo[1]].sum()])])\n",
    "\n",
    "    cdf_number.append(max(bin_df[max_combo[0]].sum(),bin_df[max_combo[1]].sum()))\n",
    "    cdf_number.append(max_num)\n",
    "\n",
    "    all_cols.remove(max_combo[0])\n",
    "    all_cols.remove(max_combo[1])\n",
    "\n",
    "    while len(all_cols) > 0:\n",
    "        no_addition = True\n",
    "        for i in all_cols:\n",
    "            overlap =  max_overlap.union(set((bin_df[bin_df[i]].index)))\n",
    "            if len(overlap) > max_num:\n",
    "                max_num = len(overlap)\n",
    "                max_ind = i\n",
    "                no_addition = False\n",
    "        if no_addition:\n",
    "            break\n",
    "\n",
    "        max_overlap = max_overlap.union(set((bin_df[bin_df[max_ind]].index)))\n",
    "        cdf_tissues.append(max_ind)\n",
    "        cdf_number.append(max_num)\n",
    "        all_cols.remove(max_ind)\n",
    "    \n",
    "    return cdf_number,cdf_tissues\n",
    "  \n",
    "\n",
    "\n",
    "\n"
   ]
  },
  {
   "cell_type": "code",
   "execution_count": 6,
   "metadata": {
    "ExecuteTime": {
     "end_time": "2019-01-22T03:40:42.021222Z",
     "start_time": "2019-01-22T03:40:41.980488Z"
    },
    "scrolled": true
   },
   "outputs": [
    {
     "ename": "NameError",
     "evalue": "name 'create_cdf' is not defined",
     "output_type": "error",
     "traceback": [
      "\u001b[0;31m---------------------------------------------------------------------------\u001b[0m",
      "\u001b[0;31mNameError\u001b[0m                                 Traceback (most recent call last)",
      "\u001b[0;32m<ipython-input-6-381c1c708615>\u001b[0m in \u001b[0;36m<module>\u001b[0;34m()\u001b[0m\n\u001b[0;32m----> 1\u001b[0;31m \u001b[0mcdf_number_gene\u001b[0m\u001b[0;34m,\u001b[0m\u001b[0mcdf_tissues_gene\u001b[0m \u001b[0;34m=\u001b[0m \u001b[0mcreate_cdf\u001b[0m\u001b[0;34m(\u001b[0m\u001b[0mgene_bin\u001b[0m\u001b[0;34m)\u001b[0m\u001b[0;34m\u001b[0m\u001b[0m\n\u001b[0m",
      "\u001b[0;31mNameError\u001b[0m: name 'create_cdf' is not defined"
     ]
    }
   ],
   "source": [
    "cdf_number_gene,cdf_tissues_gene = create_cdf(gene_bin)"
   ]
  },
  {
   "cell_type": "code",
   "execution_count": null,
   "metadata": {
    "ExecuteTime": {
     "end_time": "2019-01-22T03:40:42.022575Z",
     "start_time": "2019-01-22T03:40:41.042Z"
    },
    "collapsed": true
   },
   "outputs": [],
   "source": [
    "if not os.path.exists(\"Results/Figures\"):\n",
    "    os.mkdir(\"Results/Figures\")\n",
    "if not os.path.exists(\"Results/Figures/cdf_tissues\"):\n",
    "    os.mkdir(\"Results/Figures/cdf_tissues\")\n"
   ]
  },
  {
   "cell_type": "code",
   "execution_count": null,
   "metadata": {
    "ExecuteTime": {
     "end_time": "2019-01-22T03:40:42.024327Z",
     "start_time": "2019-01-22T03:40:41.044Z"
    },
    "scrolled": false
   },
   "outputs": [],
   "source": [
    "f, ax = plt.subplots()\n",
    "plt.scatter(np.arange(1,len(cdf_number_gene)+1),cdf_number_gene)\n",
    "plt.xlabel(\"Tissue added\")\n",
    "plt.ylabel(\"Cumulative Number of Genes Detected\")\n",
    "ax.set_xticks(range(1,len(cdf_tissues_gene)+1));\n",
    "ax.set_xticklabels(cdf_tissues_gene);\n",
    "ax.tick_params(axis=\"x\",rotation=45)\n",
    "#plt.xticks(rotation=\"vertical\");\n",
    "plt.savefig(\"Results/Figures/cdf_tissues/cdf_geneID_df_02_tissues.png\",bbox_inches=\"tight\")\n",
    "plt.savefig(\"Results/Figures/cdf_tissues/cdf_geneID_df_02_tissues.svg\",bbox_inches=\"tight\")"
   ]
  },
  {
   "cell_type": "markdown",
   "metadata": {},
   "source": [
    "## Enhancers:\n",
    "1. Enhancer:  \n",
    "   i. Annotation as intergenic  \n",
    "   ii. Distance to TSS > 1000  \n",
    "   iii. Need to handle same strand/divergent transcription  \n",
    "2. Filter:  \n",
    "   i. > 1 CPM  \n",
    "   ii. > 10 CPM ??  \n",
    "   iii. > 2 tissues  "
   ]
  },
  {
   "cell_type": "code",
   "execution_count": null,
   "metadata": {
    "ExecuteTime": {
     "end_time": "2018-12-20T20:09:17.991782Z",
     "start_time": "2018-12-20T20:09:17.941473Z"
    },
    "collapsed": true
   },
   "outputs": [],
   "source": [
    "import annotation\n",
    "import helper"
   ]
  },
  {
   "cell_type": "code",
   "execution_count": null,
   "metadata": {
    "ExecuteTime": {
     "end_time": "2018-12-20T20:09:18.863434Z",
     "start_time": "2018-12-20T20:09:18.823728Z"
    },
    "collapsed": true
   },
   "outputs": [],
   "source": [
    "## Create binary of expression matrix\n",
    "def create_binary_from_expr(expr_df,threshold=1):\n",
    "    bin_df = (expr_df > threshold)\n",
    "    return bin_df"
   ]
  },
  {
   "cell_type": "code",
   "execution_count": null,
   "metadata": {
    "ExecuteTime": {
     "end_time": "2018-12-20T22:23:13.132610Z",
     "start_time": "2018-12-20T22:23:08.144668Z"
    },
    "scrolled": false
   },
   "outputs": [],
   "source": [
    "intergenic = pd.read_csv(\"Results/merged/samples.merge.anno\",sep=\"\\t\",index_col=0)\n",
    "#intergenic[\"Annotation\"].filna(inplace=True)\n",
    "intergenic = (intergenic[\"Annotation\"].str.contains(\"Intergenic\") & (np.abs(intergenic[\"Distance to TSS\"].fillna(0).astype(int)) > 1000))\n",
    "\n",
    "expr_df = pd.read_csv(\"Results/merged/tissues.merge.peaksexpression.log10\",sep=\"\\t\",index_col = 0)\n",
    "expr_df = expr_df[expr_df.index.isin(intergenic.index)]\n",
    "expr_df.head()"
   ]
  },
  {
   "cell_type": "markdown",
   "metadata": {},
   "source": [
    "## 1. Threshold = 10 (log10=1)\n",
    "   ## Distance to gene > 1000"
   ]
  },
  {
   "cell_type": "code",
   "execution_count": null,
   "metadata": {
    "ExecuteTime": {
     "end_time": "2018-12-20T22:23:18.416710Z",
     "start_time": "2018-12-20T22:23:16.689879Z"
    },
    "collapsed": true
   },
   "outputs": [],
   "source": [
    "bin_df_enh = create_binary_from_expr(expr_df,threshold=1)\n",
    "\n",
    "cdf_number,cdf_tissues = create_cdf(bin_df_enh)"
   ]
  },
  {
   "cell_type": "code",
   "execution_count": null,
   "metadata": {
    "ExecuteTime": {
     "end_time": "2018-12-21T01:14:33.307440Z",
     "start_time": "2018-12-21T01:14:32.006186Z"
    },
    "scrolled": false
   },
   "outputs": [],
   "source": [
    "f, ax = plt.subplots()\n",
    "plt.scatter(np.arange(1,len(cdf_number)+1),cdf_number)\n",
    "plt.xlabel(\"Tissue added\")\n",
    "plt.ylabel(\"Cumulative Number of enhancer peaks Detected\")\n",
    "ax.set_xticks(range(1,len(cdf_tissues)+1));\n",
    "ax.set_xticklabels(cdf_tissues);\n",
    "ax.tick_params(axis=\"x\",rotation=45)\n",
    "#plt.xticks(rotation=\"vertical\");\n",
    "plt.savefig(\"Results/Figures/cdf_tissues/cdf_enhancers_tissues.png\",bbox_inches=\"tight\")\n",
    "plt.savefig(\"Results/Figures/cdf_tissues/cdf_enhancers_tissues.svg\",bbox_inches=\"tight\")"
   ]
  },
  {
   "cell_type": "code",
   "execution_count": null,
   "metadata": {
    "ExecuteTime": {
     "end_time": "2018-12-20T22:23:19.643358Z",
     "start_time": "2018-12-20T22:23:19.596969Z"
    }
   },
   "outputs": [],
   "source": [
    "cdf_tissues"
   ]
  }
 ],
 "metadata": {
  "kernelspec": {
   "display_name": "Python 2",
   "language": "python",
   "name": "python2"
  },
  "language_info": {
   "codemirror_mode": {
    "name": "ipython",
    "version": 2
   },
   "file_extension": ".py",
   "mimetype": "text/x-python",
   "name": "python",
   "nbconvert_exporter": "python",
   "pygments_lexer": "ipython2",
   "version": "2.7.13"
  }
 },
 "nbformat": 4,
 "nbformat_minor": 2
}
