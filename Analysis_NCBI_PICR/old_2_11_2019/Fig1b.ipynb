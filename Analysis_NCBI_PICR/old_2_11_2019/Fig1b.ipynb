{
 "cells": [
  {
   "cell_type": "code",
   "execution_count": 1,
   "metadata": {
    "ExecuteTime": {
     "end_time": "2019-02-08T02:51:51.612629Z",
     "start_time": "2019-02-08T02:51:51.519898Z"
    },
    "collapsed": true
   },
   "outputs": [],
   "source": [
    "## Parameters specific to where your folders are and your data\n",
    "parameter_file = 'params/params.yaml'\n",
    "import yaml\n",
    "import sys\n",
    "\n",
    "with open(parameter_file,'r') as f:\n",
    "    doc = yaml.load(f)\n",
    "\n",
    "#p = dic2obj(**doc)\n",
    "\n",
    "data_folder = doc['data_folder']\n",
    "tissues = doc['tissues'].split(',')\n",
    "sys.path.append(doc['pipeline_path'])\n",
    "ref_fa = doc['ref_fa']\n",
    "annotation=doc['annotation']\n"
   ]
  },
  {
   "cell_type": "code",
   "execution_count": 2,
   "metadata": {
    "ExecuteTime": {
     "end_time": "2019-02-08T02:51:51.618674Z",
     "start_time": "2019-02-08T02:51:51.615458Z"
    },
    "collapsed": true
   },
   "outputs": [],
   "source": [
    "tss_annotation = doc['tss_annotation']"
   ]
  },
  {
   "cell_type": "code",
   "execution_count": 3,
   "metadata": {
    "ExecuteTime": {
     "end_time": "2019-02-08T02:51:52.314522Z",
     "start_time": "2019-02-08T02:51:51.621135Z"
    },
    "scrolled": true
   },
   "outputs": [
    {
     "name": "stdout",
     "output_type": "stream",
     "text": [
      "('Number of tissues: ', 13)\n"
     ]
    }
   ],
   "source": [
    "\n",
    "import os\n",
    "import sys\n",
    "import pandas as pd\n",
    "import matplotlib\n",
    "import seaborn as sns\n",
    "import pickle\n",
    "import numpy as np\n",
    "import matplotlib as mpl\n",
    "from matplotlib import pyplot as plt\n",
    "from itertools import product\n",
    "import glob\n",
    "import re\n",
    "from matplotlib_venn import venn2\n",
    "from matplotlib import rcParams\n",
    "import inspect\n",
    "%matplotlib inline\n",
    "%config InlineBackend.figure_format = 'retina'\n",
    "sys.setrecursionlimit(3000)\n",
    "%load_ext autoreload\n",
    "%autoreload 2\n",
    "rcParams['figure.figsize'] = 8, 6\n",
    "import tqdm\n",
    "### notebook specific configuration ###\n",
    "from os.path import basename\n",
    "#mpl.style.use('ggplot')\n",
    "mpl.style.use('fivethirtyeight')\n",
    "from cycler import cycler\n",
    "mpl.rcParams['axes.prop_cycle'] = cycler(color='bgrcmyk')\n",
    "\n",
    "from Homer import *\n",
    "\n",
    "print('Number of tissues: ',len(tissues))"
   ]
  },
  {
   "cell_type": "code",
   "execution_count": 4,
   "metadata": {
    "ExecuteTime": {
     "end_time": "2019-02-08T02:51:52.338862Z",
     "start_time": "2019-02-08T02:51:52.316839Z"
    },
    "collapsed": true
   },
   "outputs": [],
   "source": [
    "genes_to_look = ['MGAT3','ID1']"
   ]
  },
  {
   "cell_type": "code",
   "execution_count": 5,
   "metadata": {
    "ExecuteTime": {
     "end_time": "2019-02-08T02:51:52.360513Z",
     "start_time": "2019-02-08T02:51:52.340915Z"
    },
    "collapsed": true
   },
   "outputs": [],
   "source": [
    "bed_files = []\n",
    "signal_files = []"
   ]
  },
  {
   "cell_type": "code",
   "execution_count": 6,
   "metadata": {
    "ExecuteTime": {
     "end_time": "2019-02-08T02:51:52.383746Z",
     "start_time": "2019-02-08T02:51:52.362713Z"
    },
    "collapsed": true,
    "scrolled": true
   },
   "outputs": [],
   "source": [
    "serv = '/mnt/jabba'\n",
    "\n",
    "out_dir = \"/data/isshamie/TSS/Analysis/Analysis_NCBI_PICR\"\n",
    "out_dir_save = os.path.join(out_dir,\"Results/Figures/Figure1\")\n",
    "if not os.path.exists(out_dir_save):\n",
    "    os.mkdir(out_dir_save)"
   ]
  },
  {
   "cell_type": "code",
   "execution_count": 7,
   "metadata": {
    "ExecuteTime": {
     "end_time": "2019-02-08T02:51:52.573595Z",
     "start_time": "2019-02-08T02:51:52.385886Z"
    }
   },
   "outputs": [
    {
     "data": {
      "text/html": [
       "<div>\n",
       "<style scoped>\n",
       "    .dataframe tbody tr th:only-of-type {\n",
       "        vertical-align: middle;\n",
       "    }\n",
       "\n",
       "    .dataframe tbody tr th {\n",
       "        vertical-align: top;\n",
       "    }\n",
       "\n",
       "    .dataframe thead th {\n",
       "        text-align: right;\n",
       "    }\n",
       "</style>\n",
       "<table border=\"1\" class=\"dataframe\">\n",
       "  <thead>\n",
       "    <tr style=\"text-align: right;\">\n",
       "      <th></th>\n",
       "      <th>Chr</th>\n",
       "      <th>Start</th>\n",
       "      <th>End</th>\n",
       "      <th>ID</th>\n",
       "      <th>Stat</th>\n",
       "      <th>Strand</th>\n",
       "    </tr>\n",
       "  </thead>\n",
       "  <tbody>\n",
       "    <tr>\n",
       "      <th>0</th>\n",
       "      <td>NW_020822366.1</td>\n",
       "      <td>721599</td>\n",
       "      <td>721750</td>\n",
       "      <td>p2@Bmp4_XM_027386529.1</td>\n",
       "      <td>0.506505</td>\n",
       "      <td>-</td>\n",
       "    </tr>\n",
       "    <tr>\n",
       "      <th>1</th>\n",
       "      <td>NW_020822366.1</td>\n",
       "      <td>721832</td>\n",
       "      <td>721983</td>\n",
       "      <td>p3@Bmp4_XM_027386529.1</td>\n",
       "      <td>0.580925</td>\n",
       "      <td>-</td>\n",
       "    </tr>\n",
       "    <tr>\n",
       "      <th>2</th>\n",
       "      <td>NW_020822366.1</td>\n",
       "      <td>722208</td>\n",
       "      <td>722359</td>\n",
       "      <td>p1@Bmp4_XM_027386529.1</td>\n",
       "      <td>1.779596</td>\n",
       "      <td>-</td>\n",
       "    </tr>\n",
       "    <tr>\n",
       "      <th>3</th>\n",
       "      <td>NW_020822366.1</td>\n",
       "      <td>724533</td>\n",
       "      <td>724684</td>\n",
       "      <td>p1@Bmp4_XM_027386528.1</td>\n",
       "      <td>4.074290</td>\n",
       "      <td>-</td>\n",
       "    </tr>\n",
       "    <tr>\n",
       "      <th>4</th>\n",
       "      <td>NW_020822366.1</td>\n",
       "      <td>1085431</td>\n",
       "      <td>1085582</td>\n",
       "      <td>p1@Cdkn3_XM_027386531.1</td>\n",
       "      <td>1.212188</td>\n",
       "      <td>+</td>\n",
       "    </tr>\n",
       "  </tbody>\n",
       "</table>\n",
       "</div>"
      ],
      "text/plain": [
       "              Chr    Start      End                       ID      Stat Strand\n",
       "0  NW_020822366.1   721599   721750   p2@Bmp4_XM_027386529.1  0.506505      -\n",
       "1  NW_020822366.1   721832   721983   p3@Bmp4_XM_027386529.1  0.580925      -\n",
       "2  NW_020822366.1   722208   722359   p1@Bmp4_XM_027386529.1  1.779596      -\n",
       "3  NW_020822366.1   724533   724684   p1@Bmp4_XM_027386528.1  4.074290      -\n",
       "4  NW_020822366.1  1085431  1085582  p1@Cdkn3_XM_027386531.1  1.212188      +"
      ]
     },
     "execution_count": 7,
     "metadata": {},
     "output_type": "execute_result"
    }
   ],
   "source": [
    "tss = pd.read_csv(\"Results/output/TSS1.bed\",sep=\"\\t\",header=None)\n",
    "tss.rename({0:\"Chr\",1:\"Start\",2:\"End\",3:\"ID\",4:\"Stat\",5:\"Strand\"},axis=1,inplace=True)\n",
    "tss.head()"
   ]
  },
  {
   "cell_type": "code",
   "execution_count": 8,
   "metadata": {
    "ExecuteTime": {
     "end_time": "2019-02-08T02:51:52.599472Z",
     "start_time": "2019-02-08T02:51:52.575782Z"
    },
    "collapsed": true
   },
   "outputs": [],
   "source": [
    "vary_width = [0,100,1000,10000]"
   ]
  },
  {
   "cell_type": "markdown",
   "metadata": {},
   "source": [
    "## For Publication:\n",
    "-ATAC\n",
    "-GROCap\n",
    "-GRO\n",
    "-START\n",
    "-STARTinput\n",
    "-TSS\n",
    "-RefSeq\n",
    "-dTSS"
   ]
  },
  {
   "cell_type": "code",
   "execution_count": 9,
   "metadata": {
    "ExecuteTime": {
     "end_time": "2019-02-08T02:51:52.725014Z",
     "start_time": "2019-02-08T02:51:52.601617Z"
    },
    "code_folding": [],
    "scrolled": true
   },
   "outputs": [
    {
     "data": {
      "text/plain": [
       "'new\\ngenome /mnt/jabba/data/isshamie/genome/ncbi_anno_103/GCF_003668045.1_CriGri-PICR_genomic.fna\\nload /mnt/jabba/data/isshamie/genome/ncbi_anno_103/alt_CriGri-PICR_top_level.gff3\\n\\nload /mnt/jabba/data/isshamie/TSS/Analysis/Analysis_NCBI_PICR/Results/output/TSS1.bed\\nload /mnt/jabba/data/isshamie/TSS/Analysis/Analysis_NCBI_PICR/Results/merged/tags_TSS_merged.bedgraph.gz\\n\\n# CHO\\nload /mnt/jabba/data/isshamie/TSS/NCBI_PICR_103_Processed//CHO/ATAC/out/signal/macs2/pooled_rep/CHO_ATAC1.trim.nodup.tn5_CHO_ATAC3.trim.nodup.tn5.pf.pval.signal.bigwig\\nload /mnt/jabba/data/isshamie/TSS/NCBI_PICR_103_Processed//CHO/GROCap/bedgraph_files/trim_CHO_GRO1.bedgraph.gz \\nload /mnt/jabba/data/isshamie/TSS/NCBI_PICR_103_Processed//CHO/GROCap/bedgraph_files/trim_CHO_GROCap1.bedgraph.gz \\n\\nload /mnt/jabba/data/isshamie/TSS/NCBI_PICR_103_Processed//CHO/START/bedgraph_files/trim_CHO_START1.bedgraph.gz \\nload /mnt/jabba/data/isshamie/TSS/NCBI_PICR_103_Processed//CHO/START/bedgraph_files/trim_CHO_STARTinput1.bedgraph.gz \\n\\n# Brain\\nload /mnt/jabba/data/isshamie/TSS/NCBI_PICR_103_Processed//Brain/ATAC/out/signal/macs2/rep1/Brain_ATAC1.trim.nodup.tn5.pf.pval.signal.bigwig\\nload /mnt/jabba/data/isshamie/TSS/NCBI_PICR_103_Processed//Brain/GRO/bedgraph_files/trim_Brain_GROCap1.bedgraph.gz \\nload /mnt/jabba/data/isshamie/TSS/NCBI_PICR_103_Processed//Brain/GRO/bedgraph_files/trim_Brain_GRO1.bedgraph.gz \\n\\n#Liver \\nload /mnt/jabba/data/isshamie/TSS/NCBI_PICR_103_Processed//Liver/GRO/bedgraph_files/trim_Liver_GROCap1.bedgraph.gz\\nload /mnt/jabba/data/isshamie/TSS/NCBI_PICR_103_Processed//Liver/ATAC/out/signal/macs2/rep1/Liver_ATAC1.trim.nodup.tn5.pf.pval.signal.bigwig\\n\\nsnapshotDirectory /mnt/jabba/data/isshamie/TSS/Analysis/Analysis_NCBI_PICR/Results/Figures/Figure1\\nload /mnt/jabba/data/isshamie/TSS/Analysis/Analysis_NCBI_PICR/Results/Figures/Figure1/bed_files/BMDM1hKLA_GROCap.bed\\nload /mnt/jabba/data/isshamie/TSS/Analysis/Analysis_NCBI_PICR/Results/Figures/Figure1/bed_files/BMDMwt_GROCap.bed\\nload /mnt/jabba/data/isshamie/TSS/Analysis/Analysis_NCBI_PICR/Results/Figures/Figure1/bed_files/Brain_GROCap.bed\\nload /mnt/jabba/data/isshamie/TSS/Analysis/Analysis_NCBI_PICR/Results/Figures/Figure1/bed_files/Brain_START.bed\\nload /mnt/jabba/data/isshamie/TSS/Analysis/Analysis_NCBI_PICR/Results/Figures/Figure1/bed_files/FemaleReproductive_START.bed\\nload /mnt/jabba/data/isshamie/TSS/Analysis/Analysis_NCBI_PICR/Results/Figures/Figure1/bed_files/Heart_START.bed\\nload /mnt/jabba/data/isshamie/TSS/Analysis/Analysis_NCBI_PICR/Results/Figures/Figure1/bed_files/Kidney_GROCap.bed\\nload /mnt/jabba/data/isshamie/TSS/Analysis/Analysis_NCBI_PICR/Results/Figures/Figure1/bed_files/Kidney_START.bed\\nload /mnt/jabba/data/isshamie/TSS/Analysis/Analysis_NCBI_PICR/Results/Figures/Figure1/bed_files/Liver_GROCap.bed\\nload /mnt/jabba/data/isshamie/TSS/Analysis/Analysis_NCBI_PICR/Results/Figures/Figure1/bed_files/Liver_START.bed\\nload /mnt/jabba/data/isshamie/TSS/Analysis/Analysis_NCBI_PICR/Results/Figures/Figure1/bed_files/Lung_GROCap.bed\\nload /mnt/jabba/data/isshamie/TSS/Analysis/Analysis_NCBI_PICR/Results/Figures/Figure1/bed_files/Lung_START.bed\\nload /mnt/jabba/data/isshamie/TSS/Analysis/Analysis_NCBI_PICR/Results/Figures/Figure1/bed_files/MiscOrgans_START.bed\\nload /mnt/jabba/data/isshamie/TSS/Analysis/Analysis_NCBI_PICR/Results/Figures/Figure1/bed_files/Muscle_START.bed\\nload /mnt/jabba/data/isshamie/TSS/Analysis/Analysis_NCBI_PICR/Results/Figures/Figure1/bed_files/Pancreas_START.bed\\nload /mnt/jabba/data/isshamie/TSS/Analysis/Analysis_NCBI_PICR/Results/Figures/Figure1/bed_files/Spleen_START.bed\\nload /mnt/jabba/data/isshamie/TSS/Analysis/Analysis_NCBI_PICR/Results/Figures/Figure1/bed_files/CHO_GROCap.bed\\nload /mnt/jabba/data/isshamie/TSS/Analysis/Analysis_NCBI_PICR/Results/Figures/Figure1/bed_files/CHO_START.bed\\nsnapshotDirectory /mnt/jabba/data/isshamie/TSS/Analysis/Analysis_NCBI_PICR/Results/Figures/Figure1/\\ngoto NW_020822470.1:7502049-7502200\\nsort\\nsnapshot p1@Mgat3_NM_001244074.1_0.png\\nsnapshot p1@Mgat3_NM_001244074.1_0.svg\\ngoto NW_020822470.1:7501949-7502300\\nsort\\nsnapshot p1@Mgat3_NM_001244074.1_100.png\\nsnapshot p1@Mgat3_NM_001244074.1_100.svg\\ngoto NW_020822470.1:7501049-7503200\\nsort\\nsnapshot p1@Mgat3_NM_001244074.1_1000.png\\nsnapshot p1@Mgat3_NM_001244074.1_1000.svg\\ngoto NW_020822470.1:7492049-7512200\\nsort\\nsnapshot p1@Mgat3_NM_001244074.1_10000.png\\nsnapshot p1@Mgat3_NM_001244074.1_10000.svg\\n'"
      ]
     },
     "execution_count": 9,
     "metadata": {},
     "output_type": "execute_result"
    }
   ],
   "source": [
    "curr_folder = '/data/isshamie/TSS/Analysis/Analysis_NCBI_PICR/'\n",
    "igv_script = \"\"\"new\n",
    "genome {serv}{ref_fa}\n",
    "load {serv}{annotation}\n",
    "\n",
    "load {serv}{out_dir}/Results/output/TSS1.bed\n",
    "load {serv}{out_dir}/Results/merged/tags_TSS_merged.bedgraph.gz\n",
    "\n",
    "# CHO\n",
    "load {serv}{data_folder}/CHO/ATAC/out/signal/macs2/pooled_rep/CHO_ATAC1.trim.nodup.tn5_CHO_ATAC3.trim.nodup.tn5.pf.pval.signal.bigwig\n",
    "load {serv}{data_folder}/CHO/GROCap/bedgraph_files/trim_CHO_GRO1.bedgraph.gz \n",
    "load {serv}{data_folder}/CHO/GROCap/bedgraph_files/trim_CHO_GROCap1.bedgraph.gz \n",
    "\n",
    "load {serv}{data_folder}/CHO/START/bedgraph_files/trim_CHO_START1.bedgraph.gz \n",
    "load {serv}{data_folder}/CHO/START/bedgraph_files/trim_CHO_STARTinput1.bedgraph.gz \n",
    "\n",
    "# Brain\n",
    "load {serv}{data_folder}/Brain/ATAC/out/signal/macs2/rep1/Brain_ATAC1.trim.nodup.tn5.pf.pval.signal.bigwig\n",
    "load {serv}{data_folder}/Brain/GRO/bedgraph_files/trim_Brain_GROCap1.bedgraph.gz \n",
    "load {serv}{data_folder}/Brain/GRO/bedgraph_files/trim_Brain_GRO1.bedgraph.gz \n",
    "\n",
    "#Liver \n",
    "load {serv}{data_folder}/Liver/GRO/bedgraph_files/trim_Liver_GROCap1.bedgraph.gz\n",
    "load {serv}{data_folder}/Liver/ATAC/out/signal/macs2/rep1/Liver_ATAC1.trim.nodup.tn5.pf.pval.signal.bigwig\n",
    "\n",
    "snapshotDirectory {serv}{out_dir}/Results/Figures/Figure1\"\"\".format(\n",
    "    serv=serv,\n",
    "    data_folder=data_folder,\n",
    "    out_dir=out_dir,\n",
    "    ref_fa=ref_fa,\n",
    "    annotation=annotation)\n",
    "\n",
    "snaps = \"snapshotDirectory {serv}{out_dir}/Results/Figures/Figure1/\\n\".format(\n",
    "    serv=serv, out_dir=out_dir)\n",
    "\n",
    "for ind, val in tss[tss[\"ID\"].str.upper().str.contains(\"MGAT3\")].iterrows():\n",
    "    for w in vary_width:\n",
    "        snaps = snaps + 'goto {chrom}:{start}-{end}\\nsort\\nsnapshot {name}_{w}.png\\nsnapshot {name}_{w}.svg\\n'.format(\n",
    "            chrom=tss.loc[ind, \"Chr\"],\n",
    "            start=tss.loc[ind, \"Start\"] - w,\n",
    "            end=tss.loc[ind, \"End\"] + w,\n",
    "            name=tss.loc[ind, \"ID\"],\n",
    "            w=w)\n",
    "\n",
    "# for i in glob.glob(\"f04_peaks_bed/*bed\"):\n",
    "#     igv_script = igv_script +  \"\\nload \" + serv + os.path.join(curr_folder, i)\n",
    "if not os.path.exists(os.path.join(out_dir_save,\"bed_files/\")):\n",
    "    os.mkdir(os.path.join(out_dir_save,\"bed_files/\"))\n",
    "    \n",
    "for t in tissues:\n",
    "    for s in [\"GROCap\", \"START\"]:\n",
    "        for i in glob.glob(\n",
    "                os.path.join(data_folder, t, s, \"bed_files/\", \"*merge*bed\")):\n",
    "            name = os.path.join(out_dir_save,\"bed_files/\" + t + \"_\" + s + \".bed\")\n",
    "            if not os.path.exists(name):\n",
    "                cmd = \"cp {i} {name}\".format(i=i,name=name)\n",
    "                !{cmd}\n",
    "            #igv_script = os.path.join(s)\n",
    "            igv_script = igv_script + \"\\nload \" + serv + name\n",
    "\n",
    "with open('Results/Figures/Figure1/igv_batch_TSS_Pub_LOAD.bat', 'w') as f:\n",
    "    f.write(igv_script)\n",
    "\n",
    "batch = igv_script + \"\\n\" + snaps\n",
    "\n",
    "with open('Results/Figures/Figure1/igv_batch_TSS_MGAT3.bat', 'w') as f:\n",
    "    f.write(batch)\n",
    "\n",
    "with open('Results/Figures/Figure1/igv_batch_TSS_MGAT3_SNAP.bat', 'w') as f:\n",
    "    f.write(snaps)\n",
    "\n",
    "batch"
   ]
  },
  {
   "cell_type": "markdown",
   "metadata": {},
   "source": [
    "## 3 Genes of interest:\n",
    "Mgat3  \n",
    "ST6Gal1  \n",
    "Aldh18a1  \n"
   ]
  },
  {
   "cell_type": "code",
   "execution_count": 16,
   "metadata": {
    "ExecuteTime": {
     "end_time": "2019-02-08T18:11:41.233230Z",
     "start_time": "2019-02-08T18:11:40.913285Z"
    },
    "collapsed": true
   },
   "outputs": [],
   "source": [
    "snaps = \"snapshotDirectory {serv}{out_dir}/Results/Figures/Figure1/\\n\".format(\n",
    "    serv=serv, out_dir=out_dir)\n",
    "GOI = [\"MGAT3\",\"ST6GAL1\",\"ALDH18A1\",\"MGAT5\"]\n",
    "for g in GOI:\n",
    "    for ind, val in tss[tss[\"ID\"].str.upper().str.contains(g)].iterrows():\n",
    "        for w in vary_width:\n",
    "            snaps = snaps + 'goto {chrom}:{start}-{end}\\nsort\\nsnapshot {name}_{w}.png\\nsnapshot {name}_{w}.svg\\n'.format(\n",
    "                chrom=tss.loc[ind, \"Chr\"],\n",
    "                start=tss.loc[ind, \"Start\"] - w,\n",
    "                end=tss.loc[ind, \"End\"] + w,\n",
    "                name=tss.loc[ind, \"ID\"],\n",
    "                w=w)\n",
    "            \n",
    "with open('Results/Figures/Figure1/igv_batch_TSS_GOI_SNAP.bat', 'w') as f:\n",
    "    f.write(snaps)\n"
   ]
  },
  {
   "cell_type": "code",
   "execution_count": 17,
   "metadata": {
    "ExecuteTime": {
     "end_time": "2019-02-08T18:12:11.845776Z",
     "start_time": "2019-02-08T18:12:11.688305Z"
    },
    "collapsed": true
   },
   "outputs": [],
   "source": [
    "snaps = \"snapshotDirectory {serv}{out_dir}/Results/Figures/Figure1/\\n\".format(\n",
    "    serv=serv, out_dir=out_dir)\n",
    "GOI = [\"ALDH18A1\"]\n",
    "for g in GOI:\n",
    "    for ind, val in tss[tss[\"ID\"].str.upper().str.contains(g)].iterrows():\n",
    "        for w in vary_width:\n",
    "            snaps = snaps + 'goto {chrom}:{start}-{end}\\nsort\\nsnapshot {name}_{w}.png\\nsnapshot {name}_{w}.svg\\n'.format(\n",
    "                chrom=tss.loc[ind, \"Chr\"],\n",
    "                start=tss.loc[ind, \"Start\"] - w,\n",
    "                end=tss.loc[ind, \"End\"] + w,\n",
    "                name=tss.loc[ind, \"ID\"],\n",
    "                w=w)\n",
    "            \n",
    "with open('Results/Figures/Figure1/igv_batch_TSS_ALDH18A1_SNAP.bat', 'w') as f:\n",
    "    f.write(snaps)\n"
   ]
  },
  {
   "cell_type": "markdown",
   "metadata": {},
   "source": [
    "### GOIs:"
   ]
  },
  {
   "cell_type": "code",
   "execution_count": 11,
   "metadata": {
    "ExecuteTime": {
     "end_time": "2019-02-08T02:51:53.082562Z",
     "start_time": "2019-02-08T02:51:52.934452Z"
    },
    "collapsed": true,
    "scrolled": true
   },
   "outputs": [],
   "source": [
    "tss_meta = pd.read_csv(\"Results/output/TSS1.meta\",sep=\"\\t\",index_col=0)\n",
    "#tss_meta[tss_meta[\"Gene\"].str.upper().str.contains(\"MGAT3\")]\n"
   ]
  },
  {
   "cell_type": "code",
   "execution_count": 12,
   "metadata": {
    "ExecuteTime": {
     "end_time": "2019-02-08T02:51:53.206666Z",
     "start_time": "2019-02-08T02:51:53.085065Z"
    },
    "scrolled": true
   },
   "outputs": [
    {
     "name": "stdout",
     "output_type": "stream",
     "text": [
      "FemaleReproductive\n"
     ]
    },
    {
     "data": {
      "text/html": [
       "<div>\n",
       "<style scoped>\n",
       "    .dataframe tbody tr th:only-of-type {\n",
       "        vertical-align: middle;\n",
       "    }\n",
       "\n",
       "    .dataframe tbody tr th {\n",
       "        vertical-align: top;\n",
       "    }\n",
       "\n",
       "    .dataframe thead th {\n",
       "        text-align: right;\n",
       "    }\n",
       "</style>\n",
       "<table border=\"1\" class=\"dataframe\">\n",
       "  <thead>\n",
       "    <tr style=\"text-align: right;\">\n",
       "      <th></th>\n",
       "      <th>Chr</th>\n",
       "      <th>Start</th>\n",
       "      <th>End</th>\n",
       "      <th>ID</th>\n",
       "      <th>Stat</th>\n",
       "      <th>Strand</th>\n",
       "    </tr>\n",
       "  </thead>\n",
       "  <tbody>\n",
       "    <tr>\n",
       "      <th>17534</th>\n",
       "      <td>NW_020822470.1</td>\n",
       "      <td>7502049</td>\n",
       "      <td>7502200</td>\n",
       "      <td>p1@Mgat3_NM_001244074.1</td>\n",
       "      <td>0.394452</td>\n",
       "      <td>+</td>\n",
       "    </tr>\n",
       "  </tbody>\n",
       "</table>\n",
       "</div>"
      ],
      "text/plain": [
       "                  Chr    Start      End                       ID      Stat  \\\n",
       "17534  NW_020822470.1  7502049  7502200  p1@Mgat3_NM_001244074.1  0.394452   \n",
       "\n",
       "      Strand  \n",
       "17534      +  "
      ]
     },
     "execution_count": 12,
     "metadata": {},
     "output_type": "execute_result"
    }
   ],
   "source": [
    "print(tss_meta[tss_meta[\"Gene\"].str.upper().str.contains(\"MGAT3\")][\"Tissues\"][0])\n",
    "tss[tss[\"ID\"].str.upper().str.contains(\"MGAT3\")]\n"
   ]
  },
  {
   "cell_type": "code",
   "execution_count": 13,
   "metadata": {
    "ExecuteTime": {
     "end_time": "2019-02-08T02:51:53.329908Z",
     "start_time": "2019-02-08T02:51:53.208669Z"
    },
    "scrolled": true
   },
   "outputs": [
    {
     "name": "stdout",
     "output_type": "stream",
     "text": [
      "Heart,Spleen,MiscOrgans,FemaleReproductive,BMDM1hKLA,Brain,Lung,Liver,BMDMwt,Muscle,Kidney,Pancreas\n"
     ]
    },
    {
     "data": {
      "text/html": [
       "<div>\n",
       "<style scoped>\n",
       "    .dataframe tbody tr th:only-of-type {\n",
       "        vertical-align: middle;\n",
       "    }\n",
       "\n",
       "    .dataframe tbody tr th {\n",
       "        vertical-align: top;\n",
       "    }\n",
       "\n",
       "    .dataframe thead th {\n",
       "        text-align: right;\n",
       "    }\n",
       "</style>\n",
       "<table border=\"1\" class=\"dataframe\">\n",
       "  <thead>\n",
       "    <tr style=\"text-align: right;\">\n",
       "      <th></th>\n",
       "      <th>Chr</th>\n",
       "      <th>Start</th>\n",
       "      <th>End</th>\n",
       "      <th>ID</th>\n",
       "      <th>Stat</th>\n",
       "      <th>Strand</th>\n",
       "    </tr>\n",
       "  </thead>\n",
       "  <tbody>\n",
       "    <tr>\n",
       "      <th>20637</th>\n",
       "      <td>NW_020822501.1</td>\n",
       "      <td>20998652</td>\n",
       "      <td>20998803</td>\n",
       "      <td>p1@Aldh18a1_XM_027407359.1</td>\n",
       "      <td>2.587823</td>\n",
       "      <td>+</td>\n",
       "    </tr>\n",
       "  </tbody>\n",
       "</table>\n",
       "</div>"
      ],
      "text/plain": [
       "                  Chr     Start       End                          ID  \\\n",
       "20637  NW_020822501.1  20998652  20998803  p1@Aldh18a1_XM_027407359.1   \n",
       "\n",
       "           Stat Strand  \n",
       "20637  2.587823      +  "
      ]
     },
     "execution_count": 13,
     "metadata": {},
     "output_type": "execute_result"
    }
   ],
   "source": [
    "print(tss_meta[tss_meta[\"Gene\"].str.upper().str.contains(\"ALDH18A1\")][\"Tissues\"][0])\n",
    "#tss_meta[tss_meta[\"Gene\"].str.upper().str.contains(\"ALDH18A1\")]\n",
    "tss[tss[\"ID\"].str.upper().str.contains(\"ALDH18A1\")]\n"
   ]
  },
  {
   "cell_type": "code",
   "execution_count": 14,
   "metadata": {
    "ExecuteTime": {
     "end_time": "2019-02-08T02:51:53.471895Z",
     "start_time": "2019-02-08T02:51:53.332243Z"
    },
    "scrolled": false
   },
   "outputs": [
    {
     "name": "stdout",
     "output_type": "stream",
     "text": [
      "Liver\n"
     ]
    },
    {
     "data": {
      "text/html": [
       "<div>\n",
       "<style scoped>\n",
       "    .dataframe tbody tr th:only-of-type {\n",
       "        vertical-align: middle;\n",
       "    }\n",
       "\n",
       "    .dataframe tbody tr th {\n",
       "        vertical-align: top;\n",
       "    }\n",
       "\n",
       "    .dataframe thead th {\n",
       "        text-align: right;\n",
       "    }\n",
       "</style>\n",
       "<table border=\"1\" class=\"dataframe\">\n",
       "  <thead>\n",
       "    <tr style=\"text-align: right;\">\n",
       "      <th></th>\n",
       "      <th>Chr</th>\n",
       "      <th>Start</th>\n",
       "      <th>End</th>\n",
       "      <th>ID</th>\n",
       "      <th>Stat</th>\n",
       "      <th>Strand</th>\n",
       "    </tr>\n",
       "  </thead>\n",
       "  <tbody>\n",
       "    <tr>\n",
       "      <th>26277</th>\n",
       "      <td>NW_020822529.1</td>\n",
       "      <td>57376916</td>\n",
       "      <td>57377067</td>\n",
       "      <td>p1@St6gal1_NM_001246815.1</td>\n",
       "      <td>0.746634</td>\n",
       "      <td>-</td>\n",
       "    </tr>\n",
       "  </tbody>\n",
       "</table>\n",
       "</div>"
      ],
      "text/plain": [
       "                  Chr     Start       End                         ID  \\\n",
       "26277  NW_020822529.1  57376916  57377067  p1@St6gal1_NM_001246815.1   \n",
       "\n",
       "           Stat Strand  \n",
       "26277  0.746634      -  "
      ]
     },
     "execution_count": 14,
     "metadata": {},
     "output_type": "execute_result"
    }
   ],
   "source": [
    "print(tss_meta[tss_meta[\"Gene\"].str.upper().str.contains(\"ST6GAL1\")][\"Tissues\"][0])\n",
    "tss[tss[\"ID\"].str.upper().str.contains(\"ST6GAL1\")]"
   ]
  },
  {
   "cell_type": "code",
   "execution_count": 15,
   "metadata": {
    "ExecuteTime": {
     "end_time": "2019-02-08T02:51:53.604441Z",
     "start_time": "2019-02-08T02:51:53.474053Z"
    },
    "scrolled": false
   },
   "outputs": [
    {
     "name": "stdout",
     "output_type": "stream",
     "text": [
      "nan\n"
     ]
    },
    {
     "data": {
      "text/html": [
       "<div>\n",
       "<style scoped>\n",
       "    .dataframe tbody tr th:only-of-type {\n",
       "        vertical-align: middle;\n",
       "    }\n",
       "\n",
       "    .dataframe tbody tr th {\n",
       "        vertical-align: top;\n",
       "    }\n",
       "\n",
       "    .dataframe thead th {\n",
       "        text-align: right;\n",
       "    }\n",
       "</style>\n",
       "<table border=\"1\" class=\"dataframe\">\n",
       "  <thead>\n",
       "    <tr style=\"text-align: right;\">\n",
       "      <th></th>\n",
       "      <th>Chr</th>\n",
       "      <th>Start</th>\n",
       "      <th>End</th>\n",
       "      <th>ID</th>\n",
       "      <th>Stat</th>\n",
       "      <th>Strand</th>\n",
       "    </tr>\n",
       "  </thead>\n",
       "  <tbody>\n",
       "    <tr>\n",
       "      <th>30798</th>\n",
       "      <td>NW_020822567.1</td>\n",
       "      <td>39762223</td>\n",
       "      <td>39762225</td>\n",
       "      <td>p0@Mgat5_XM_027417771.1</td>\n",
       "      <td>0.000000</td>\n",
       "      <td>-</td>\n",
       "    </tr>\n",
       "    <tr>\n",
       "      <th>30799</th>\n",
       "      <td>NW_020822567.1</td>\n",
       "      <td>39762362</td>\n",
       "      <td>39762513</td>\n",
       "      <td>p1@Mgat5_XM_027417770.1</td>\n",
       "      <td>0.769377</td>\n",
       "      <td>-</td>\n",
       "    </tr>\n",
       "    <tr>\n",
       "      <th>30800</th>\n",
       "      <td>NW_020822567.1</td>\n",
       "      <td>39813270</td>\n",
       "      <td>39813421</td>\n",
       "      <td>p1@Mgat5_XM_027417769.1</td>\n",
       "      <td>1.723456</td>\n",
       "      <td>-</td>\n",
       "    </tr>\n",
       "    <tr>\n",
       "      <th>38375</th>\n",
       "      <td>NW_020822611.1</td>\n",
       "      <td>4879714</td>\n",
       "      <td>4879865</td>\n",
       "      <td>p1@Mgat5b_XM_027425561.1</td>\n",
       "      <td>0.678518</td>\n",
       "      <td>-</td>\n",
       "    </tr>\n",
       "  </tbody>\n",
       "</table>\n",
       "</div>"
      ],
      "text/plain": [
       "                  Chr     Start       End                        ID      Stat  \\\n",
       "30798  NW_020822567.1  39762223  39762225   p0@Mgat5_XM_027417771.1  0.000000   \n",
       "30799  NW_020822567.1  39762362  39762513   p1@Mgat5_XM_027417770.1  0.769377   \n",
       "30800  NW_020822567.1  39813270  39813421   p1@Mgat5_XM_027417769.1  1.723456   \n",
       "38375  NW_020822611.1   4879714   4879865  p1@Mgat5b_XM_027425561.1  0.678518   \n",
       "\n",
       "      Strand  \n",
       "30798      -  \n",
       "30799      -  \n",
       "30800      -  \n",
       "38375      -  "
      ]
     },
     "execution_count": 15,
     "metadata": {},
     "output_type": "execute_result"
    }
   ],
   "source": [
    "print(tss_meta[tss_meta[\"Gene\"].str.upper().str.contains(\"MGAT5\")][\"Tissues\"][0])\n",
    "tss[tss[\"ID\"].str.upper().str.contains(\"MGAT5\")]\n"
   ]
  },
  {
   "cell_type": "code",
   "execution_count": null,
   "metadata": {
    "collapsed": true
   },
   "outputs": [],
   "source": []
  },
  {
   "cell_type": "code",
   "execution_count": 35,
   "metadata": {
    "ExecuteTime": {
     "end_time": "2019-02-06T18:40:32.445970Z",
     "start_time": "2019-02-06T18:40:32.363729Z"
    },
    "scrolled": true
   },
   "outputs": [
    {
     "data": {
      "text/html": [
       "<div>\n",
       "<style scoped>\n",
       "    .dataframe tbody tr th:only-of-type {\n",
       "        vertical-align: middle;\n",
       "    }\n",
       "\n",
       "    .dataframe tbody tr th {\n",
       "        vertical-align: top;\n",
       "    }\n",
       "\n",
       "    .dataframe thead th {\n",
       "        text-align: right;\n",
       "    }\n",
       "</style>\n",
       "<table border=\"1\" class=\"dataframe\">\n",
       "  <thead>\n",
       "    <tr style=\"text-align: right;\">\n",
       "      <th></th>\n",
       "      <th>Tissues</th>\n",
       "      <th>cs</th>\n",
       "      <th>CHO ATAC Region</th>\n",
       "      <th>ID</th>\n",
       "      <th>Gene</th>\n",
       "      <th>Gene ID</th>\n",
       "      <th>Transcript</th>\n",
       "      <th>Is Experimental</th>\n",
       "      <th>has ATAC</th>\n",
       "    </tr>\n",
       "  </thead>\n",
       "  <tbody>\n",
       "    <tr>\n",
       "      <th>p1@Bmp4_XM_027386528.1</th>\n",
       "      <td>Heart,Spleen,MiscOrgans,FemaleReproductive,Bra...</td>\n",
       "      <td>0b11</td>\n",
       "      <td>NaN</td>\n",
       "      <td>308710.0</td>\n",
       "      <td>Bmp4</td>\n",
       "      <td>NaN</td>\n",
       "      <td>XM_027386528.1</td>\n",
       "      <td>1</td>\n",
       "      <td>1</td>\n",
       "    </tr>\n",
       "    <tr>\n",
       "      <th>p1@Cdkn3_XM_027386531.1</th>\n",
       "      <td>BMDMwt,Spleen,MiscOrgans,FemaleReproductive,CH...</td>\n",
       "      <td>0b11</td>\n",
       "      <td>NaN</td>\n",
       "      <td>237253.0</td>\n",
       "      <td>Cdkn3</td>\n",
       "      <td>NaN</td>\n",
       "      <td>XM_027386531.1</td>\n",
       "      <td>1</td>\n",
       "      <td>0</td>\n",
       "    </tr>\n",
       "    <tr>\n",
       "      <th>p0@Cdkn3_XM_027386533.1</th>\n",
       "      <td>NaN</td>\n",
       "      <td>NaN</td>\n",
       "      <td>NaN</td>\n",
       "      <td>NaN</td>\n",
       "      <td>Cdkn3</td>\n",
       "      <td>NaN</td>\n",
       "      <td>XM_027386533.1</td>\n",
       "      <td>0</td>\n",
       "      <td>0</td>\n",
       "    </tr>\n",
       "    <tr>\n",
       "      <th>p2@Cnih1_XM_027386534.1</th>\n",
       "      <td>Heart,Spleen,MiscOrgans,FemaleReproductive,CHO...</td>\n",
       "      <td>0b11</td>\n",
       "      <td>1113861:1114585</td>\n",
       "      <td>353645.0</td>\n",
       "      <td>Cnih1</td>\n",
       "      <td>NaN</td>\n",
       "      <td>XM_027386534.1</td>\n",
       "      <td>1</td>\n",
       "      <td>1</td>\n",
       "    </tr>\n",
       "    <tr>\n",
       "      <th>p1@Cnih1_XM_027386534.1</th>\n",
       "      <td>Heart,Spleen,MiscOrgans,FemaleReproductive,CHO...</td>\n",
       "      <td>0b11</td>\n",
       "      <td>NaN</td>\n",
       "      <td>298307.0</td>\n",
       "      <td>Cnih1</td>\n",
       "      <td>NaN</td>\n",
       "      <td>XM_027386534.1</td>\n",
       "      <td>1</td>\n",
       "      <td>0</td>\n",
       "    </tr>\n",
       "  </tbody>\n",
       "</table>\n",
       "</div>"
      ],
      "text/plain": [
       "                                                                   Tissues  \\\n",
       "p1@Bmp4_XM_027386528.1   Heart,Spleen,MiscOrgans,FemaleReproductive,Bra...   \n",
       "p1@Cdkn3_XM_027386531.1  BMDMwt,Spleen,MiscOrgans,FemaleReproductive,CH...   \n",
       "p0@Cdkn3_XM_027386533.1                                                NaN   \n",
       "p2@Cnih1_XM_027386534.1  Heart,Spleen,MiscOrgans,FemaleReproductive,CHO...   \n",
       "p1@Cnih1_XM_027386534.1  Heart,Spleen,MiscOrgans,FemaleReproductive,CHO...   \n",
       "\n",
       "                           cs  CHO ATAC Region        ID   Gene  Gene ID  \\\n",
       "p1@Bmp4_XM_027386528.1   0b11              NaN  308710.0   Bmp4      NaN   \n",
       "p1@Cdkn3_XM_027386531.1  0b11              NaN  237253.0  Cdkn3      NaN   \n",
       "p0@Cdkn3_XM_027386533.1   NaN              NaN       NaN  Cdkn3      NaN   \n",
       "p2@Cnih1_XM_027386534.1  0b11  1113861:1114585  353645.0  Cnih1      NaN   \n",
       "p1@Cnih1_XM_027386534.1  0b11              NaN  298307.0  Cnih1      NaN   \n",
       "\n",
       "                             Transcript  Is Experimental  has ATAC  \n",
       "p1@Bmp4_XM_027386528.1   XM_027386528.1                1         1  \n",
       "p1@Cdkn3_XM_027386531.1  XM_027386531.1                1         0  \n",
       "p0@Cdkn3_XM_027386533.1  XM_027386533.1                0         0  \n",
       "p2@Cnih1_XM_027386534.1  XM_027386534.1                1         1  \n",
       "p1@Cnih1_XM_027386534.1  XM_027386534.1                1         0  "
      ]
     },
     "execution_count": 35,
     "metadata": {},
     "output_type": "execute_result"
    }
   ],
   "source": [
    "tss_meta.head()"
   ]
  },
  {
   "cell_type": "code",
   "execution_count": 36,
   "metadata": {
    "ExecuteTime": {
     "end_time": "2019-02-06T18:40:39.563653Z",
     "start_time": "2019-02-06T18:40:39.527911Z"
    },
    "scrolled": true
   },
   "outputs": [
    {
     "data": {
      "text/plain": [
       "Tissues                 BMDM1hKLA\n",
       "cs                           0b10\n",
       "CHO ATAC Region               NaN\n",
       "ID                          71494\n",
       "Gene                         Ktn1\n",
       "Gene ID                       NaN\n",
       "Transcript         XM_027386555.1\n",
       "Is Experimental                 1\n",
       "has ATAC                        1\n",
       "Name: p1@Ktn1_XM_027386555.1, dtype: object"
      ]
     },
     "execution_count": 36,
     "metadata": {},
     "output_type": "execute_result"
    }
   ],
   "source": [
    "tss_meta.loc[\"p1@Ktn1_XM_027386555.1\"]"
   ]
  },
  {
   "cell_type": "markdown",
   "metadata": {},
   "source": [
    "##   \n",
    "CHO, Brain ATAC  \n",
    "CHO Start, Brain GRO/GROCap  \n",
    "Start with MGAT3 and FemaleReproductive GRO/GROCap  \n",
    "Then remove FemaleReproductive  \n",
    "Add   "
   ]
  },
  {
   "cell_type": "markdown",
   "metadata": {},
   "source": [
    "----------\n",
    "\n",
    "----------"
   ]
  },
  {
   "cell_type": "markdown",
   "metadata": {},
   "source": [
    "### Random gene TSS regions"
   ]
  },
  {
   "cell_type": "code",
   "execution_count": 17,
   "metadata": {
    "ExecuteTime": {
     "end_time": "2018-12-18T01:14:04.768838Z",
     "start_time": "2018-12-18T01:14:04.667635Z"
    },
    "code_folding": [],
    "scrolled": true
   },
   "outputs": [
    {
     "data": {
      "text/plain": [
       "'new\\ngenome /mnt/jabba/data/isshamie/genome/picr_final/picr.fa\\nload /mnt/jabba/data/isshamie/genome/picr_final/final.gff3\\nload /mnt/jabba/data/isshamie/TSS/Analysis/10_15_Results/Results/output/TSS1.bed\\nload /mnt/jabba/data/isshamie/TSS/Analysis/10_15_Results/Results/merged/tags_TSS_merged.bedgraph.gz\\nload /mnt/jabba/data/isshamie/TSS/Analysis/10_15_Results/Results/merged/tags_input_merged.bedgraph.gz\\nload /mnt/jabba/data/isshamie/TSS/1015_Processed//CHO/ATAC/out/signal/macs2/pooled_rep/CHO_ATAC1.trim.nodup.tn5_CHO_ATAC3.trim.nodup.tn5.pf.pval.signal.bigwig\\n\\nsnapshotDirectory /mnt/jabba/data/isshamie/TSS/Analysis/10_15_Results/Results/igv_snapshots\\nload /mnt/jabba/data/isshamie/TSS/Analysis/10_15_Results/f04_peaks_bed/FemaleReproductive_START.bed\\nload /mnt/jabba/data/isshamie/TSS/Analysis/10_15_Results/f04_peaks_bed/Spleen_START.bed\\nload /mnt/jabba/data/isshamie/TSS/Analysis/10_15_Results/f04_peaks_bed/Kidney_GROCap.bed\\nload /mnt/jabba/data/isshamie/TSS/Analysis/10_15_Results/f04_peaks_bed/Liver_START.bed\\nload /mnt/jabba/data/isshamie/TSS/Analysis/10_15_Results/f04_peaks_bed/BMDM1hKLA_GROCap.bed\\nload /mnt/jabba/data/isshamie/TSS/Analysis/10_15_Results/f04_peaks_bed/CHO_START.bed\\nload /mnt/jabba/data/isshamie/TSS/Analysis/10_15_Results/f04_peaks_bed/Liver_GROCap.bed\\nload /mnt/jabba/data/isshamie/TSS/Analysis/10_15_Results/f04_peaks_bed/Brain_START.bed\\nload /mnt/jabba/data/isshamie/TSS/Analysis/10_15_Results/f04_peaks_bed/Lung_START.bed\\nload /mnt/jabba/data/isshamie/TSS/Analysis/10_15_Results/f04_peaks_bed/Muscle_START.bed\\nload /mnt/jabba/data/isshamie/TSS/Analysis/10_15_Results/f04_peaks_bed/Brain_GROCap.bed\\nload /mnt/jabba/data/isshamie/TSS/Analysis/10_15_Results/f04_peaks_bed/Heart_START.bed\\nload /mnt/jabba/data/isshamie/TSS/Analysis/10_15_Results/f04_peaks_bed/MiscOrgans_START.bed\\nload /mnt/jabba/data/isshamie/TSS/Analysis/10_15_Results/f04_peaks_bed/Lung_GROCap.bed\\nload /mnt/jabba/data/isshamie/TSS/Analysis/10_15_Results/f04_peaks_bed/CHO_GROCap.bed\\nload /mnt/jabba/data/isshamie/TSS/Analysis/10_15_Results/f04_peaks_bed/Kidney_START.bed\\nload /mnt/jabba/data/isshamie/TSS/Analysis/10_15_Results/f04_peaks_bed/Pancreas_START.bed\\nload /mnt/jabba/data/isshamie/TSS/Analysis/10_15_Results/f04_peaks_bed/BMDMwt_GROCap.bed\\nsnapshotDirectory /mnt/jabba/data/isshamie/TSS/Analysis/10_15_Results/Results/igv_snapshots\\ngoto picr_0:175-177\\nsort\\ncollapse\\nsnapshot p0@SERHL_gene_1_2_asmbl_2_0\\ngoto picr_0:75-277\\nsort\\ncollapse\\nsnapshot p0@SERHL_gene_1_2_asmbl_2_100\\ngoto picr_0:-825-1177\\nsort\\ncollapse\\nsnapshot p0@SERHL_gene_1_2_asmbl_2_1000\\ngoto picr_0:-9825-10177\\nsort\\ncollapse\\nsnapshot p0@SERHL_gene_1_2_asmbl_2_10000\\ngoto picr_0:74802065-74802067\\nsort\\ncollapse\\nsnapshot p0@PPP4R1_gene_987_asmbl_3305_0\\ngoto picr_0:74801965-74802167\\nsort\\ncollapse\\nsnapshot p0@PPP4R1_gene_987_asmbl_3305_100\\ngoto picr_0:74801065-74803067\\nsort\\ncollapse\\nsnapshot p0@PPP4R1_gene_987_asmbl_3305_1000\\ngoto picr_0:74792065-74812067\\nsort\\ncollapse\\nsnapshot p0@PPP4R1_gene_987_asmbl_3305_10000\\ngoto picr_10:38061582-38061732\\nsort\\ncollapse\\nsnapshot p2@PISD_gene_2185_asmbl_6590_0\\ngoto picr_10:38061482-38061832\\nsort\\ncollapse\\nsnapshot p2@PISD_gene_2185_asmbl_6590_100\\ngoto picr_10:38060582-38062732\\nsort\\ncollapse\\nsnapshot p2@PISD_gene_2185_asmbl_6590_1000\\ngoto picr_10:38051582-38071732\\nsort\\ncollapse\\nsnapshot p2@PISD_gene_2185_asmbl_6590_10000\\ngoto picr_11:6543748-6543898\\nsort\\ncollapse\\nsnapshot p3@SESTD1_gene_3309_asmbl_9725_0\\ngoto picr_11:6543648-6543998\\nsort\\ncollapse\\nsnapshot p3@SESTD1_gene_3309_asmbl_9725_100\\ngoto picr_11:6542748-6544898\\nsort\\ncollapse\\nsnapshot p3@SESTD1_gene_3309_asmbl_9725_1000\\ngoto picr_11:6533748-6553898\\nsort\\ncollapse\\nsnapshot p3@SESTD1_gene_3309_asmbl_9725_10000\\ngoto picr_12:5275262-5275264\\nsort\\ncollapse\\nsnapshot p0@ATP11A_gene_4389_asmbl_12964_0\\ngoto picr_12:5275162-5275364\\nsort\\ncollapse\\nsnapshot p0@ATP11A_gene_4389_asmbl_12964_100\\ngoto picr_12:5274262-5276264\\nsort\\ncollapse\\nsnapshot p0@ATP11A_gene_4389_asmbl_12964_1000\\ngoto picr_12:5265262-5285264\\nsort\\ncollapse\\nsnapshot p0@ATP11A_gene_4389_asmbl_12964_10000\\ngoto picr_13:17823310-17823460\\nsort\\ncollapse\\nsnapshot p1@MTO1_gene_5582_asmbl_16160_0\\ngoto picr_13:17823210-17823560\\nsort\\ncollapse\\nsnapshot p1@MTO1_gene_5582_asmbl_16160_100\\ngoto picr_13:17822310-17824460\\nsort\\ncollapse\\nsnapshot p1@MTO1_gene_5582_asmbl_16160_1000\\ngoto picr_13:17813310-17833460\\nsort\\ncollapse\\nsnapshot p1@MTO1_gene_5582_asmbl_16160_10000\\ngoto picr_138:1323912-1323914\\nsort\\ncollapse\\nsnapshot p0@KLC1_gene_6506_asmbl_19364_0\\ngoto picr_138:1323812-1324014\\nsort\\ncollapse\\nsnapshot p0@KLC1_gene_6506_asmbl_19364_100\\ngoto picr_138:1322912-1324914\\nsort\\ncollapse\\nsnapshot p0@KLC1_gene_6506_asmbl_19364_1000\\ngoto picr_138:1313912-1333914\\nsort\\ncollapse\\nsnapshot p0@KLC1_gene_6506_asmbl_19364_10000\\ngoto picr_152:835421-835571\\nsort\\ncollapse\\nsnapshot p1@RP2_gene_7737_asmbl_22822_0\\ngoto picr_152:835321-835671\\nsort\\ncollapse\\nsnapshot p1@RP2_gene_7737_asmbl_22822_100\\ngoto picr_152:834421-836571\\nsort\\ncollapse\\nsnapshot p1@RP2_gene_7737_asmbl_22822_1000\\ngoto picr_152:825421-845571\\nsort\\ncollapse\\nsnapshot p1@RP2_gene_7737_asmbl_22822_10000\\ngoto picr_167:1102621-1102771\\nsort\\ncollapse\\nsnapshot p4@NOVA2_gene_8819_asmbl_26067_0\\ngoto picr_167:1102521-1102871\\nsort\\ncollapse\\nsnapshot p4@NOVA2_gene_8819_asmbl_26067_100\\ngoto picr_167:1101621-1103771\\nsort\\ncollapse\\nsnapshot p4@NOVA2_gene_8819_asmbl_26067_1000\\ngoto picr_167:1092621-1112771\\nsort\\ncollapse\\nsnapshot p4@NOVA2_gene_8819_asmbl_26067_10000\\ngoto picr_199:287250-287252\\nsort\\ncollapse\\nsnapshot p0@PLA2G4C_gene_10073_asmbl_29425_0\\ngoto picr_199:287150-287352\\nsort\\ncollapse\\nsnapshot p0@PLA2G4C_gene_10073_asmbl_29425_100\\ngoto picr_199:286250-288252\\nsort\\ncollapse\\nsnapshot p0@PLA2G4C_gene_10073_asmbl_29425_1000\\ngoto picr_199:277250-297252\\nsort\\ncollapse\\nsnapshot p0@PLA2G4C_gene_10073_asmbl_29425_10000\\ngoto picr_20:3121218-3121368\\nsort\\ncollapse\\nsnapshot p1@ACTA2_gene_11319_asmbl_32581_0\\ngoto picr_20:3121118-3121468\\nsort\\ncollapse\\nsnapshot p1@ACTA2_gene_11319_asmbl_32581_100\\ngoto picr_20:3120218-3122368\\nsort\\ncollapse\\nsnapshot p1@ACTA2_gene_11319_asmbl_32581_1000\\ngoto picr_20:3111218-3131368\\nsort\\ncollapse\\nsnapshot p1@ACTA2_gene_11319_asmbl_32581_10000\\ngoto picr_22:22300387-22300537\\nsort\\ncollapse\\nsnapshot p4@SDHB_gene_12490_asmbl_35868_0\\ngoto picr_22:22300287-22300637\\nsort\\ncollapse\\nsnapshot p4@SDHB_gene_12490_asmbl_35868_100\\ngoto picr_22:22299387-22301537\\nsort\\ncollapse\\nsnapshot p4@SDHB_gene_12490_asmbl_35868_1000\\ngoto picr_22:22290387-22310537\\nsort\\ncollapse\\nsnapshot p4@SDHB_gene_12490_asmbl_35868_10000\\ngoto picr_26:4008830-4008980\\nsort\\ncollapse\\nsnapshot p1@ITM2A_gene_13600_asmbl_39113_0\\ngoto picr_26:4008730-4009080\\nsort\\ncollapse\\nsnapshot p1@ITM2A_gene_13600_asmbl_39113_100\\ngoto picr_26:4007830-4009980\\nsort\\ncollapse\\nsnapshot p1@ITM2A_gene_13600_asmbl_39113_1000\\ngoto picr_26:3998830-4018980\\nsort\\ncollapse\\nsnapshot p1@ITM2A_gene_13600_asmbl_39113_10000\\ngoto picr_3:25617143-25617293\\nsort\\ncollapse\\nsnapshot p2@ST3GAL6_gene_15008_1_asmbl_42499_0\\ngoto picr_3:25617043-25617393\\nsort\\ncollapse\\nsnapshot p2@ST3GAL6_gene_15008_1_asmbl_42499_100\\ngoto picr_3:25616143-25618293\\nsort\\ncollapse\\nsnapshot p2@ST3GAL6_gene_15008_1_asmbl_42499_1000\\ngoto picr_3:25607143-25627293\\nsort\\ncollapse\\nsnapshot p2@ST3GAL6_gene_15008_1_asmbl_42499_10000\\ngoto picr_33:14850055-14850057\\nsort\\ncollapse\\nsnapshot p0@ABCB1_gene_16244_5_asmbl_45868_0\\ngoto picr_33:14849955-14850157\\nsort\\ncollapse\\nsnapshot p0@ABCB1_gene_16244_5_asmbl_45868_100\\ngoto picr_33:14849055-14851057\\nsort\\ncollapse\\nsnapshot p0@ABCB1_gene_16244_5_asmbl_45868_1000\\ngoto picr_33:14840055-14860057\\nsort\\ncollapse\\nsnapshot p0@ABCB1_gene_16244_5_asmbl_45868_10000\\ngoto picr_37:7782330-7782332\\nsort\\ncollapse\\nsnapshot p0@SHOX2_gene_17383_asmbl_49231_0\\ngoto picr_37:7782230-7782432\\nsort\\ncollapse\\nsnapshot p0@SHOX2_gene_17383_asmbl_49231_100\\ngoto picr_37:7781330-7783332\\nsort\\ncollapse\\nsnapshot p0@SHOX2_gene_17383_asmbl_49231_1000\\ngoto picr_37:7772330-7792332\\nsort\\ncollapse\\nsnapshot p0@SHOX2_gene_17383_asmbl_49231_10000\\ngoto picr_4:46597595-46597745\\nsort\\ncollapse\\nsnapshot p1@RTCB_gene_18611_asmbl_52440_0\\ngoto picr_4:46597495-46597845\\nsort\\ncollapse\\nsnapshot p1@RTCB_gene_18611_asmbl_52440_100\\ngoto picr_4:46596595-46598745\\nsort\\ncollapse\\nsnapshot p1@RTCB_gene_18611_asmbl_52440_1000\\ngoto picr_4:46587595-46607745\\nsort\\ncollapse\\nsnapshot p1@RTCB_gene_18611_asmbl_52440_10000\\ngoto picr_45:4789919-4789921\\nsort\\ncollapse\\nsnapshot p0@SLC25A26_gene_19790_3_asmbl_55607_0\\ngoto picr_45:4789819-4790021\\nsort\\ncollapse\\nsnapshot p0@SLC25A26_gene_19790_3_asmbl_55607_100\\ngoto picr_45:4788919-4790921\\nsort\\ncollapse\\nsnapshot p0@SLC25A26_gene_19790_3_asmbl_55607_1000\\ngoto picr_45:4779919-4799921\\nsort\\ncollapse\\nsnapshot p0@SLC25A26_gene_19790_3_asmbl_55607_10000\\ngoto picr_5:39017583-39017733\\nsort\\ncollapse\\nsnapshot p2@RPS23_gene_21012_asmbl_59073_0\\ngoto picr_5:39017483-39017833\\nsort\\ncollapse\\nsnapshot p2@RPS23_gene_21012_asmbl_59073_100\\ngoto picr_5:39016583-39018733\\nsort\\ncollapse\\nsnapshot p2@RPS23_gene_21012_asmbl_59073_1000\\ngoto picr_5:39007583-39027733\\nsort\\ncollapse\\nsnapshot p2@RPS23_gene_21012_asmbl_59073_10000\\ngoto picr_54:65708-65710\\nsort\\ncollapse\\nsnapshot p0@GTDC1_gene_21993_asmbl_62099_0\\ngoto picr_54:65608-65810\\nsort\\ncollapse\\nsnapshot p0@GTDC1_gene_21993_asmbl_62099_100\\ngoto picr_54:64708-66710\\nsort\\ncollapse\\nsnapshot p0@GTDC1_gene_21993_asmbl_62099_1000\\ngoto picr_54:55708-75710\\nsort\\ncollapse\\nsnapshot p0@GTDC1_gene_21993_asmbl_62099_10000\\ngoto picr_58:12144745-12144747\\nsort\\ncollapse\\nsnapshot p0@RASAL3_gene_23086_asmbl_65273_0\\ngoto picr_58:12144645-12144847\\nsort\\ncollapse\\nsnapshot p0@RASAL3_gene_23086_asmbl_65273_100\\ngoto picr_58:12143745-12145747\\nsort\\ncollapse\\nsnapshot p0@RASAL3_gene_23086_asmbl_65273_1000\\ngoto picr_58:12134745-12154747\\nsort\\ncollapse\\nsnapshot p0@RASAL3_gene_23086_asmbl_65273_10000\\ngoto picr_61:11095244-11095246\\nsort\\ncollapse\\nsnapshot p0@S100A16_gene_24138_asmbl_68445_0\\ngoto picr_61:11095144-11095346\\nsort\\ncollapse\\nsnapshot p0@S100A16_gene_24138_asmbl_68445_100\\ngoto picr_61:11094244-11096246\\nsort\\ncollapse\\nsnapshot p0@S100A16_gene_24138_asmbl_68445_1000\\ngoto picr_61:11085244-11105246\\nsort\\ncollapse\\nsnapshot p0@S100A16_gene_24138_asmbl_68445_10000\\ngoto picr_70:2062198-2062200\\nsort\\ncollapse\\nsnapshot p0@ANKRD34A_gene_25791_asmbl_72740_0\\ngoto picr_70:2062098-2062300\\nsort\\ncollapse\\nsnapshot p0@ANKRD34A_gene_25791_asmbl_72740_100\\ngoto picr_70:2061198-2063200\\nsort\\ncollapse\\nsnapshot p0@ANKRD34A_gene_25791_asmbl_72740_1000\\ngoto picr_70:2052198-2072200\\nsort\\ncollapse\\nsnapshot p0@ANKRD34A_gene_25791_asmbl_72740_10000\\ngoto picr_77:298322-298472\\nsort\\ncollapse\\nsnapshot p1@GREB1L_gene_26862_asmbl_75958_0\\ngoto picr_77:298222-298572\\nsort\\ncollapse\\nsnapshot p1@GREB1L_gene_26862_asmbl_75958_100\\ngoto picr_77:297322-299472\\nsort\\ncollapse\\nsnapshot p1@GREB1L_gene_26862_asmbl_75958_1000\\ngoto picr_77:288322-308472\\nsort\\ncollapse\\nsnapshot p1@GREB1L_gene_26862_asmbl_75958_10000\\ngoto picr_8:22474889-22475039\\nsort\\ncollapse\\nsnapshot p1@CHD3_gene_27692_asmbl_78157_0\\ngoto picr_8:22474789-22475139\\nsort\\ncollapse\\nsnapshot p1@CHD3_gene_27692_asmbl_78157_100\\ngoto picr_8:22473889-22476039\\nsort\\ncollapse\\nsnapshot p1@CHD3_gene_27692_asmbl_78157_1000\\ngoto picr_8:22464889-22485039\\nsort\\ncollapse\\nsnapshot p1@CHD3_gene_27692_asmbl_78157_10000\\ngoto picr_85:8722169-8722171\\nsort\\ncollapse\\nsnapshot p0@FAM32A_gene_28768_3_asmbl_81507_0\\ngoto picr_85:8722069-8722271\\nsort\\ncollapse\\nsnapshot p0@FAM32A_gene_28768_3_asmbl_81507_100\\ngoto picr_85:8721169-8723171\\nsort\\ncollapse\\nsnapshot p0@FAM32A_gene_28768_3_asmbl_81507_1000\\ngoto picr_85:8712169-8732171\\nsort\\ncollapse\\nsnapshot p0@FAM32A_gene_28768_3_asmbl_81507_10000\\ngoto picr_93:755638-755788\\nsort\\ncollapse\\nsnapshot p1@ICAM2_gene_29973_asmbl_84893_0\\ngoto picr_93:755538-755888\\nsort\\ncollapse\\nsnapshot p1@ICAM2_gene_29973_asmbl_84893_100\\ngoto picr_93:754638-756788\\nsort\\ncollapse\\nsnapshot p1@ICAM2_gene_29973_asmbl_84893_1000\\ngoto picr_93:745638-765788\\nsort\\ncollapse\\nsnapshot p1@ICAM2_gene_29973_asmbl_84893_10000\\n'"
      ]
     },
     "execution_count": 17,
     "metadata": {},
     "output_type": "execute_result"
    }
   ],
   "source": [
    "snaps = 'snapshotDirectory {serv}{out_dir}/Results/Figures/Figure1\\n'.format(serv=serv)\n",
    "for i in range(len(tss)):\n",
    "    if i % 2500 == 0:\n",
    "        for w in vary_width:\n",
    "            snaps = snaps + 'goto {chrom}:{start}-{end}\\nsort\\nsnapshot {name}_{w}.png\\n'.format(\n",
    "                chrom=tss.loc[i, \"Chr\"],\n",
    "                start=tss.loc[i, \"Start\"] - w,\n",
    "                end=tss.loc[i, \"End\"] + w,\n",
    "                name=tss.loc[i, \"ID\"],\n",
    "                w=w)\n",
    "batch = igv_script + \"\\n\" + snaps\n",
    "with open('Results/Figures/Figure1/igv_batch_TSS.bat', 'w') as f:\n",
    "    f.write(batch)\n",
    "\n",
    "with open('Results/Figures/Figure1/igv_batch_TSS_SNAP.bat', 'w') as f:\n",
    "    f.write(snaps)\n",
    "    \n",
    "batch\n",
    "\n"
   ]
  },
  {
   "cell_type": "markdown",
   "metadata": {},
   "source": [
    "### Second: Load every single peak file and the final output and see the shift\n",
    "Have a CHO ATAC and GRO as well"
   ]
  },
  {
   "cell_type": "code",
   "execution_count": 14,
   "metadata": {
    "ExecuteTime": {
     "end_time": "2018-12-18T01:14:04.069896Z",
     "start_time": "2018-12-18T01:14:04.022751Z"
    },
    "deletable": false,
    "editable": false,
    "run_control": {
     "frozen": true
    },
    "scrolled": true
   },
   "outputs": [
    {
     "data": {
      "text/plain": [
       "'new\\ngenome /mnt/jabba/data/isshamie/genome/picr_final/picr.fa\\nload /mnt/jabba/data/isshamie/genome/picr_final/final.gff3\\nload /mnt/jabba/data/isshamie/TSS/Analysis/10_15_Results/Results/output/TSS1.bed\\nload /mnt/jabba/data/isshamie/TSS/Analysis/10_15_Results/Results/merged/tags_TSS_merged.bedgraph.gz\\nload /mnt/jabba/data/isshamie/TSS/Analysis/10_15_Results/Results/merged/tags_input_merged.bedgraph.gz\\nload /mnt/jabba/data/isshamie/TSS/1015_Processed//CHO/ATAC/out/signal/macs2/pooled_rep/CHO_ATAC1.trim.nodup.tn5_CHO_ATAC3.trim.nodup.tn5.pf.pval.signal.bigwig\\n\\nsnapshotDirectory /mnt/jabba/data/isshamie/TSS/Analysis/10_15_Results/Results/igv_snapshots\\nload /mnt/jabba/data/isshamie/TSS/Analysis/10_15_Results/f04_peaks_bed/FemaleReproductive_START.bed\\nload /mnt/jabba/data/isshamie/TSS/Analysis/10_15_Results/f04_peaks_bed/Spleen_START.bed\\nload /mnt/jabba/data/isshamie/TSS/Analysis/10_15_Results/f04_peaks_bed/Kidney_GROCap.bed\\nload /mnt/jabba/data/isshamie/TSS/Analysis/10_15_Results/f04_peaks_bed/Liver_START.bed\\nload /mnt/jabba/data/isshamie/TSS/Analysis/10_15_Results/f04_peaks_bed/BMDM1hKLA_GROCap.bed\\nload /mnt/jabba/data/isshamie/TSS/Analysis/10_15_Results/f04_peaks_bed/CHO_START.bed\\nload /mnt/jabba/data/isshamie/TSS/Analysis/10_15_Results/f04_peaks_bed/Liver_GROCap.bed\\nload /mnt/jabba/data/isshamie/TSS/Analysis/10_15_Results/f04_peaks_bed/Brain_START.bed\\nload /mnt/jabba/data/isshamie/TSS/Analysis/10_15_Results/f04_peaks_bed/Lung_START.bed\\nload /mnt/jabba/data/isshamie/TSS/Analysis/10_15_Results/f04_peaks_bed/Muscle_START.bed\\nload /mnt/jabba/data/isshamie/TSS/Analysis/10_15_Results/f04_peaks_bed/Brain_GROCap.bed\\nload /mnt/jabba/data/isshamie/TSS/Analysis/10_15_Results/f04_peaks_bed/Heart_START.bed\\nload /mnt/jabba/data/isshamie/TSS/Analysis/10_15_Results/f04_peaks_bed/MiscOrgans_START.bed\\nload /mnt/jabba/data/isshamie/TSS/Analysis/10_15_Results/f04_peaks_bed/Lung_GROCap.bed\\nload /mnt/jabba/data/isshamie/TSS/Analysis/10_15_Results/f04_peaks_bed/CHO_GROCap.bed\\nload /mnt/jabba/data/isshamie/TSS/Analysis/10_15_Results/f04_peaks_bed/Kidney_START.bed\\nload /mnt/jabba/data/isshamie/TSS/Analysis/10_15_Results/f04_peaks_bed/Pancreas_START.bed\\nload /mnt/jabba/data/isshamie/TSS/Analysis/10_15_Results/f04_peaks_bed/BMDMwt_GROCap.bed'"
      ]
     },
     "execution_count": 14,
     "metadata": {},
     "output_type": "execute_result"
    }
   ],
   "source": [
    "curr_folder = '{out_dir}'\n",
    "igv_script = \"\"\"new\n",
    "genome {serv}{ref_fa}\n",
    "load {serv}{annotation}\n",
    "load {serv}{out_dir}/Results/output/TSS1.bed\n",
    "load {serv}{out_dir}/Results/merged/tags_TSS_merged.bedgraph.gz\n",
    "load {serv}{out_dir}/Results/merged/tags_input_merged.bedgraph.gz\n",
    "load {serv}{data_folder}/CHO/ATAC/out/signal/macs2/pooled_rep/CHO_ATAC1.trim.nodup.tn5_CHO_ATAC3.trim.nodup.tn5.pf.pval.signal.bigwig\n",
    "\n",
    "snapshotDirectory {serv}{out_dir}/Results/Figures/Figure1\"\"\".format(serv=serv,data_folder=data_folder)\n",
    "\n",
    "for i in glob.glob(\"f04_peaks_bed/*bed\"):\n",
    "    igv_script = igv_script +  \"\\nload \" + serv + os.path.join(curr_folder, i)\n",
    "    \n",
    "igv_script"
   ]
  },
  {
   "cell_type": "markdown",
   "metadata": {},
   "source": [
    "### MGAT regions"
   ]
  },
  {
   "cell_type": "code",
   "execution_count": 16,
   "metadata": {
    "ExecuteTime": {
     "end_time": "2018-12-18T01:14:04.663851Z",
     "start_time": "2018-12-18T01:14:04.462320Z"
    },
    "collapsed": true,
    "deletable": false,
    "editable": false,
    "run_control": {
     "frozen": true
    },
    "scrolled": true
   },
   "outputs": [],
   "source": [
    "snaps = 'snapshotDirectory {serv}{out_dir}/Results/Figures/Figure1\\n'.format(serv=serv)\n",
    "\n",
    "\n",
    "for ind,val in tss[tss[\"ID\"].str.contains(\"MGAT\")].iterrows():\n",
    "    \n",
    "    for w in vary_width:\n",
    "        snaps = snaps + 'goto {chrom}:{start}-{end}\\nsort\\ncollapse\\nsnapshot {name}_{w}\\n'.format(\n",
    "            chrom=tss.loc[ind, \"Chr\"],\n",
    "            start=tss.loc[ind, \"Start\"] - w,\n",
    "            end=tss.loc[ind, \"End\"] + w,\n",
    "            name=tss.loc[ind, \"ID\"],\n",
    "            w=w)\n",
    "\n",
    "batch = igv_script + \"\\n\" + snaps\n",
    "with open('Results/Figures/Figure1/igv_batch_TSS_MGAT.bat', 'w') as f:\n",
    "    f.write(batch)\n",
    "batch\n",
    "\n",
    "\n",
    "with open('Results/Figures/Figure1/igv_batch_TSS_MGAT_SNAP.bat', 'w') as f:\n",
    "    f.write(snaps)"
   ]
  }
 ],
 "metadata": {
  "kernelspec": {
   "display_name": "Python 2",
   "language": "python",
   "name": "python2"
  },
  "language_info": {
   "codemirror_mode": {
    "name": "ipython",
    "version": 2
   },
   "file_extension": ".py",
   "mimetype": "text/x-python",
   "name": "python",
   "nbconvert_exporter": "python",
   "pygments_lexer": "ipython2",
   "version": "2.7.13"
  }
 },
 "nbformat": 4,
 "nbformat_minor": 2
}
