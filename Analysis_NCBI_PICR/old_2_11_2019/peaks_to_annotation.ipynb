{
 "cells": [
  {
   "cell_type": "code",
   "execution_count": 1,
   "metadata": {
    "ExecuteTime": {
     "end_time": "2019-02-06T20:16:05.939659Z",
     "start_time": "2019-02-06T20:16:05.869395Z"
    },
    "collapsed": true
   },
   "outputs": [],
   "source": [
    "parameter_file = 'params/params.yaml'\n",
    "import os\n",
    "import yaml\n",
    "import sys\n",
    "import glob\n",
    "with open(parameter_file,'r') as f:\n",
    "    doc = yaml.load(f)\n",
    "\n",
    "#p = dic2obj(**doc)\n",
    "\n",
    "data_folder = doc['data_folder']\n",
    "tissues = doc['tissues'].split(',')\n",
    "sys.path.append(doc['pipeline_path'])\n",
    "ref_fa = doc['ref_fa']\n",
    "annotation=doc['annotation']\n",
    "tss_file = doc['tss_annotation']"
   ]
  },
  {
   "cell_type": "code",
   "execution_count": 2,
   "metadata": {
    "ExecuteTime": {
     "end_time": "2019-02-06T20:16:05.953682Z",
     "start_time": "2019-02-06T20:16:05.941638Z"
    }
   },
   "outputs": [
    {
     "data": {
      "text/plain": [
       "'/data/isshamie/genome/ncbi_anno_103/start_site_mRNA_final.tsv'"
      ]
     },
     "execution_count": 2,
     "metadata": {},
     "output_type": "execute_result"
    }
   ],
   "source": [
    "tss_file"
   ]
  },
  {
   "cell_type": "code",
   "execution_count": 3,
   "metadata": {
    "ExecuteTime": {
     "end_time": "2019-02-06T20:16:05.972143Z",
     "start_time": "2019-02-06T20:16:05.955778Z"
    },
    "collapsed": true
   },
   "outputs": [],
   "source": [
    "%load_ext autoreload\n",
    "%autoreload 2\n"
   ]
  },
  {
   "cell_type": "code",
   "execution_count": 4,
   "metadata": {
    "ExecuteTime": {
     "end_time": "2019-02-06T20:16:06.214200Z",
     "start_time": "2019-02-06T20:16:05.974001Z"
    },
    "collapsed": true
   },
   "outputs": [],
   "source": [
    "import pandas as pd"
   ]
  },
  {
   "cell_type": "code",
   "execution_count": 5,
   "metadata": {
    "ExecuteTime": {
     "end_time": "2019-02-06T20:16:06.671517Z",
     "start_time": "2019-02-06T20:16:06.216400Z"
    }
   },
   "outputs": [
    {
     "name": "stdout",
     "output_type": "stream",
     "text": [
      "('Number of tissues: ', 13)\n"
     ]
    }
   ],
   "source": [
    "import annotation\n",
    "#from Homer import *\n",
    "print('Number of tissues: ',len(tissues))"
   ]
  },
  {
   "cell_type": "code",
   "execution_count": 6,
   "metadata": {
    "ExecuteTime": {
     "end_time": "2019-02-06T20:16:06.699351Z",
     "start_time": "2019-02-06T20:16:06.674107Z"
    },
    "collapsed": true
   },
   "outputs": [],
   "source": [
    "import numpy as np"
   ]
  },
  {
   "cell_type": "markdown",
   "metadata": {},
   "source": [
    "### Create annotation"
   ]
  },
  {
   "cell_type": "markdown",
   "metadata": {},
   "source": [
    "#### Annotation file:  updated_final_sort.gff3\n",
    "#### Genome: picr.gff3"
   ]
  },
  {
   "cell_type": "code",
   "execution_count": 7,
   "metadata": {
    "ExecuteTime": {
     "end_time": "2019-02-06T20:16:06.721564Z",
     "start_time": "2019-02-06T20:16:06.701545Z"
    },
    "collapsed": true
   },
   "outputs": [],
   "source": [
    "if not os.path.exists(\"Results/tss_annotation/\"):\n",
    "    os.mkdir(\"Results/tss_annotation/\")"
   ]
  },
  {
   "cell_type": "markdown",
   "metadata": {},
   "source": [
    "## Gene"
   ]
  },
  {
   "cell_type": "markdown",
   "metadata": {},
   "source": [
    "### a.\n",
    "i. introns excluded  \n",
    "ii. peak_bins [-1000,+100]"
   ]
  },
  {
   "cell_type": "code",
   "execution_count": 8,
   "metadata": {
    "ExecuteTime": {
     "end_time": "2019-02-06T20:16:06.743766Z",
     "start_time": "2019-02-06T20:16:06.723775Z"
    }
   },
   "outputs": [
    {
     "data": {
      "text/plain": [
       "'/data/isshamie/genome/ncbi_anno_103/start_site_mRNA_final.tsv'"
      ]
     },
     "execution_count": 8,
     "metadata": {},
     "output_type": "execute_result"
    }
   ],
   "source": [
    "tss_file"
   ]
  },
  {
   "cell_type": "code",
   "execution_count": 9,
   "metadata": {
    "ExecuteTime": {
     "end_time": "2019-02-06T20:19:40.986281Z",
     "start_time": "2019-02-06T20:16:06.745553Z"
    },
    "scrolled": false
   },
   "outputs": [
    {
     "name": "stderr",
     "output_type": "stream",
     "text": [
      "Widget Javascript not detected.  It may not be installed or enabled properly.\n"
     ]
    },
    {
     "data": {
      "application/vnd.jupyter.widget-view+json": {
       "model_id": "b49a640f75b04a19b613550a974ceaaa"
      }
     },
     "metadata": {},
     "output_type": "display_data"
    },
    {
     "name": "stdout",
     "output_type": "stream",
     "text": [
      "\n",
      "('Total Number: ', 21387)\n",
      "('Total Number with start sites: ', 14426)\n",
      "('Fraction with start sites: ', 0.6745219058306448)\n",
      "CPU times: user 3min 40s, sys: 4.76 s, total: 3min 45s\n",
      "Wall time: 3min 34s\n"
     ]
    }
   ],
   "source": [
    "%%time\n",
    "peaks_file = 'Results/merged/peaks_with_tss_distances.tsv'\n",
    "peaks_expression_file = 'Results/merged/samples.merge.peaksexpression'\n",
    "\n",
    "\n",
    "df = annotation.wrap_create_anno_centric(peaks_file, peaks_expression_file, tss_file,\n",
    "                             peak_bin=(-1000, 100), anno_col='Nearest gene',\n",
    "                             tss_df_col='gene',\n",
    "                             f_save='Results/tss_annotation/gene_df_01', allow_intron=False)\n",
    "\n"
   ]
  },
  {
   "cell_type": "markdown",
   "metadata": {
    "deletable": false,
    "editable": false,
    "run_control": {
     "frozen": true
    }
   },
   "source": [
    "### b.\n",
    "i. introns excluded  \n",
    "ii. peak_bins [-1000,+1000]"
   ]
  },
  {
   "cell_type": "code",
   "execution_count": 10,
   "metadata": {
    "ExecuteTime": {
     "end_time": "2019-02-06T20:36:02.273190Z",
     "start_time": "2019-02-06T20:19:40.988363Z"
    }
   },
   "outputs": [
    {
     "name": "stderr",
     "output_type": "stream",
     "text": [
      "Widget Javascript not detected.  It may not be installed or enabled properly.\n"
     ]
    },
    {
     "data": {
      "application/vnd.jupyter.widget-view+json": {
       "model_id": "8e03beddecba4b6597bb05ed77a2c4a2"
      }
     },
     "metadata": {},
     "output_type": "display_data"
    },
    {
     "name": "stdout",
     "output_type": "stream",
     "text": [
      "\n",
      "('Total Number: ', 21387)\n",
      "('Total Number with start sites: ', 15771)\n",
      "('Fraction with start sites: ', 0.7374105765184458)\n",
      "CPU times: user 16min 28s, sys: 8.25 s, total: 16min 36s\n",
      "Wall time: 16min 21s\n"
     ]
    }
   ],
   "source": [
    "%%time\n",
    "peaks_file = 'Results/merged/peaks_with_tss_distances.tsv'\n",
    "peaks_expression_file = 'Results/merged/samples.merge.peaksexpression'\n",
    "\n",
    "\n",
    "df = annotation.wrap_create_anno_centric(peaks_file, peaks_expression_file, tss_file,\n",
    "                             peak_bin=(-1000, 1000), anno_col='Nearest gene',\n",
    "                             tss_df_col='gene',\n",
    "                             f_save='Results/tss_annotation/gene_df_02', allow_intron=False)\n",
    "\n"
   ]
  },
  {
   "cell_type": "markdown",
   "metadata": {},
   "source": [
    "## Txn"
   ]
  },
  {
   "cell_type": "markdown",
   "metadata": {},
   "source": [
    "### a.\n",
    "i. introns excluded  \n",
    "ii. peak_bins [-1000,+100]"
   ]
  },
  {
   "cell_type": "code",
   "execution_count": null,
   "metadata": {
    "ExecuteTime": {
     "start_time": "2019-02-07T05:09:39.153Z"
    },
    "scrolled": true
   },
   "outputs": [
    {
     "data": {
      "application/vnd.jupyter.widget-view+json": {
       "model_id": "1cd4e26a13c440228ea7852bd7ee7f6b"
      }
     },
     "metadata": {},
     "output_type": "display_data"
    },
    {
     "name": "stdout",
     "output_type": "stream",
     "text": [
      "\n",
      "('Total Number: ', 35679)\n",
      "('Total Number with start sites: ', 19223)\n",
      "('Fraction with start sites: ', 0.5387763109952634)\n",
      "CPU times: user 5min 25s, sys: 4.14 s, total: 5min 29s\n",
      "Wall time: 5min 17s\n"
     ]
    }
   ],
   "source": [
    "%%time\n",
    "peaks_file = 'Results/merged/peaks_with_tss_distances.tsv'\n",
    "peaks_expression_file = 'Results/merged/samples.merge.peaksexpression'\n",
    "\n",
    "\n",
    "df = annotation.wrap_create_anno_centric(peaks_file, peaks_expression_file, tss_file,\n",
    "                             peak_bin=(-1000, 100), anno_col='Nearest TSS',\n",
    "                             tss_df_col='transcript_id',\n",
    "                             f_save='Results/tss_annotation/txn_df_01', allow_intron=False)\n",
    "\n"
   ]
  },
  {
   "cell_type": "markdown",
   "metadata": {},
   "source": [
    "### b.\n",
    "i. introns excluded  \n",
    "ii. peak_bins [-1000,+1000]"
   ]
  },
  {
   "cell_type": "code",
   "execution_count": null,
   "metadata": {
    "ExecuteTime": {
     "start_time": "2019-02-07T05:09:39.165Z"
    }
   },
   "outputs": [
    {
     "data": {
      "application/vnd.jupyter.widget-view+json": {
       "model_id": "a76352e6405245838d2e32c059075b5a"
      }
     },
     "metadata": {},
     "output_type": "display_data"
    }
   ],
   "source": [
    "%%time\n",
    "peaks_file = 'Results/merged/peaks_with_tss_distances.tsv'\n",
    "peaks_expression_file = 'Results/merged/samples.merge.peaksexpression'\n",
    "\n",
    "\n",
    "df = annotation.wrap_create_anno_centric(peaks_file, peaks_expression_file, tss_file,\n",
    "                             peak_bin=(-1000, 1000), anno_col='Nearest TSS',\n",
    "                             tss_df_col='transcript_id',\n",
    "                             f_save='Results/tss_annotation/txn_df_02', allow_intron=False)\n",
    "\n"
   ]
  },
  {
   "cell_type": "code",
   "execution_count": null,
   "metadata": {
    "ExecuteTime": {
     "start_time": "2019-02-07T05:09:39.166Z"
    },
    "collapsed": true,
    "scrolled": true
   },
   "outputs": [],
   "source": [
    "f_in = \"Results/tss_annotation/txn_df_02.p\"\n",
    "f_mat_in = 'Results/merged/samples.merge.peaksexpression'\n",
    "f_out = 'Results/tss_annotation/txn_df_02_matrix'\n",
    "txn_df_02_matrix = annotation.df_to_TSS_expression(f_in, f_mat_in, f_out=f_out)\n",
    "txn_df_02_matrix.head()"
   ]
  }
 ],
 "metadata": {
  "kernelspec": {
   "display_name": "Python 2",
   "language": "python",
   "name": "python2"
  },
  "language_info": {
   "codemirror_mode": {
    "name": "ipython",
    "version": 2
   },
   "file_extension": ".py",
   "mimetype": "text/x-python",
   "name": "python",
   "nbconvert_exporter": "python",
   "pygments_lexer": "ipython2",
   "version": "2.7.13"
  }
 },
 "nbformat": 4,
 "nbformat_minor": 2
}
