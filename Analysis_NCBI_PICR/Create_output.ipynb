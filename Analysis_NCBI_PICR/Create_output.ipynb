{
 "cells": [
  {
   "cell_type": "markdown",
   "metadata": {},
   "source": [
    "## File names here:"
   ]
  },
  {
   "cell_type": "code",
   "execution_count": 1,
   "metadata": {
    "ExecuteTime": {
     "end_time": "2019-06-26T00:52:56.950827Z",
     "start_time": "2019-06-26T00:52:56.730982Z"
    },
    "collapsed": true
   },
   "outputs": [],
   "source": [
    "tissues_with_atac = ['CHO','Brain','Liver','Lung','Kidney','Spleen','BMDMwt','BMDM1hKLA']\n",
    "\n",
    "## Parameters specific to where your folders are and your data\n",
    "parameter_file = 'params/params.yaml'\n",
    "import yaml\n",
    "import sys\n",
    "\n",
    "with open(parameter_file,'r') as f:\n",
    "    doc = yaml.load(f)\n",
    "\n",
    "data_folder = doc['data_folder']\n",
    "tissues = doc['tissues'].split(',')\n",
    "sys.path.append(doc['pipeline_path'])\n",
    "ref_fa = doc['ref_fa']\n",
    "annotation=doc['annotation']\n",
    "tss_annotation = doc['tss_annotation']\n",
    "mRNA_peak_file = doc[\"mRNA_peak_file\"]"
   ]
  },
  {
   "cell_type": "code",
   "execution_count": 2,
   "metadata": {
    "ExecuteTime": {
     "end_time": "2019-06-26T00:53:00.974626Z",
     "start_time": "2019-06-26T00:53:00.952938Z"
    }
   },
   "outputs": [
    {
     "data": {
      "text/plain": [
       "'/data/isshamie/genome/ncbi_anno_103/mRNA_final.peak'"
      ]
     },
     "execution_count": 2,
     "metadata": {},
     "output_type": "execute_result"
    }
   ],
   "source": [
    "mRNA_peak_file"
   ]
  },
  {
   "cell_type": "code",
   "execution_count": 2,
   "metadata": {
    "ExecuteTime": {
     "end_time": "2019-02-12T03:01:51.074655Z",
     "start_time": "2019-02-12T03:01:50.961640Z"
    }
   },
   "outputs": [
    {
     "name": "stdout",
     "output_type": "stream",
     "text": [
      "/data/isshamie/genome/ncbi_anno_103/start_site_mRNA_final.tsv\r\n"
     ]
    }
   ],
   "source": [
    "ls {tss_annotation}"
   ]
  },
  {
   "cell_type": "code",
   "execution_count": 3,
   "metadata": {
    "ExecuteTime": {
     "end_time": "2019-02-12T03:01:51.679285Z",
     "start_time": "2019-02-12T03:01:51.076754Z"
    },
    "collapsed": true
   },
   "outputs": [],
   "source": [
    "from create_output import *\n",
    "\n",
    "txn_f = \"Results/tss_annotation/txn_df_02_tissues.p\"\n",
    "#expr_f = \"Results/merged/samples.merge.peaksexpression.log10\"\n",
    "expr_f = \"Results/merged/tissues.merge.peaksexpression.log10\"\n",
    "anno_f = \"Results/tss_annotation_peaks/all_peaks_txn_df_02_maxinfo.tsv\"\n",
    "rank_func = rank_median_samples\n",
    "atac_f = \"Results/ATAC_results/CHO/ATAC_ppr.naive_overlap.narrowPeak.sort\"\n",
    "tss_f = mRNA_peak_file\n",
    "all_atac = \"Results/ATAC_results/ATAC_merge.bed\"\n",
    "\n"
   ]
  },
  {
   "cell_type": "code",
   "execution_count": 4,
   "metadata": {
    "ExecuteTime": {
     "end_time": "2019-02-12T03:01:51.744054Z",
     "start_time": "2019-02-12T03:01:51.681942Z"
    },
    "scrolled": true
   },
   "outputs": [
    {
     "name": "stdout",
     "output_type": "stream",
     "text": [
      "('Number of tissues: ', 13)\n"
     ]
    }
   ],
   "source": [
    "import os\n",
    "import sys\n",
    "import pandas as pd\n",
    "import matplotlib\n",
    "import seaborn as sns\n",
    "import pickle\n",
    "import numpy as np\n",
    "import matplotlib as mpl\n",
    "from matplotlib import pyplot as plt\n",
    "from itertools import product\n",
    "import glob\n",
    "import re\n",
    "from matplotlib_venn import venn2\n",
    "from matplotlib import rcParams\n",
    "import inspect\n",
    "%matplotlib inline\n",
    "%config InlineBackend.figure_format = 'retina'\n",
    "sys.setrecursionlimit(3000)\n",
    "%load_ext autoreload\n",
    "%autoreload 2\n",
    "rcParams['figure.figsize'] = 8, 6\n",
    "import tqdm\n",
    "### notebook specific configuration ###\n",
    "from os.path import basename\n",
    "#mpl.style.use('ggplot')\n",
    "mpl.style.use('fivethirtyeight')\n",
    "from cycler import cycler\n",
    "mpl.rcParams['axes.prop_cycle'] = cycler(color='bgrcmyk')\n",
    "\n",
    "from Homer import *\n",
    "\n",
    "print('Number of tissues: ',len(tissues))"
   ]
  },
  {
   "cell_type": "code",
   "execution_count": 5,
   "metadata": {
    "ExecuteTime": {
     "end_time": "2019-02-12T03:01:51.763061Z",
     "start_time": "2019-02-12T03:01:51.745855Z"
    },
    "collapsed": true
   },
   "outputs": [],
   "source": [
    "if not os.path.exists(\"Results/output\"):\n",
    "    os.mkdir(\"Results/output\")"
   ]
  },
  {
   "cell_type": "code",
   "execution_count": 6,
   "metadata": {
    "ExecuteTime": {
     "end_time": "2019-02-12T03:39:28.399396Z",
     "start_time": "2019-02-12T03:01:51.765014Z"
    },
    "scrolled": true
   },
   "outputs": [
    {
     "name": "stdout",
     "output_type": "stream",
     "text": [
      "Constructing TSS not observed experimentally\n"
     ]
    },
    {
     "name": "stderr",
     "output_type": "stream",
     "text": [
      "15042it [02:52, 87.28it/s]\n"
     ]
    },
    {
     "name": "stdout",
     "output_type": "stream",
     "text": [
      "Constructing TSS observed experimentally\n",
      "Including ATAC information\n"
     ]
    },
    {
     "name": "stderr",
     "output_type": "stream",
     "text": [
      "45817it [06:34, 116.17it/s]\n",
      "45817it [18:05, 42.19it/s]\n"
     ]
    },
    {
     "name": "stdout",
     "output_type": "stream",
     "text": [
      "CPU times: user 37min 46s, sys: 8.91 s, total: 37min 55s\n",
      "Wall time: 37min 36s\n"
     ]
    }
   ],
   "source": [
    "%%time\n",
    "# bed_df, meta_df = construct_peakID(txn_anno_f, expr_f, anno_f, rank_func,\n",
    "#                      atac_f=None, col_name=None)\n",
    "\n",
    "bed_df, meta_df = construct_all_peaks(txn_f, expr_f, anno_f, rank_func, tss_f, atac_f,\n",
    "                        all_atac=all_atac, out_f=\"Results/output/TSS1\")"
   ]
  },
  {
   "cell_type": "code",
   "execution_count": 7,
   "metadata": {
    "ExecuteTime": {
     "end_time": "2019-02-12T03:39:28.436704Z",
     "start_time": "2019-02-12T03:39:28.401327Z"
    }
   },
   "outputs": [
    {
     "data": {
      "text/html": [
       "<div>\n",
       "<style scoped>\n",
       "    .dataframe tbody tr th:only-of-type {\n",
       "        vertical-align: middle;\n",
       "    }\n",
       "\n",
       "    .dataframe tbody tr th {\n",
       "        vertical-align: top;\n",
       "    }\n",
       "\n",
       "    .dataframe thead th {\n",
       "        text-align: right;\n",
       "    }\n",
       "</style>\n",
       "<table border=\"1\" class=\"dataframe\">\n",
       "  <thead>\n",
       "    <tr style=\"text-align: right;\">\n",
       "      <th></th>\n",
       "      <th>Chr</th>\n",
       "      <th>Start</th>\n",
       "      <th>End</th>\n",
       "      <th>ID</th>\n",
       "      <th>Stat</th>\n",
       "      <th>Strand</th>\n",
       "    </tr>\n",
       "  </thead>\n",
       "  <tbody>\n",
       "    <tr>\n",
       "      <th>p2@Bmp4_XM_027386529.1</th>\n",
       "      <td>NW_020822366.1</td>\n",
       "      <td>721599</td>\n",
       "      <td>721750</td>\n",
       "      <td>p2@Bmp4_XM_027386529.1</td>\n",
       "      <td>0.506505</td>\n",
       "      <td>-</td>\n",
       "    </tr>\n",
       "    <tr>\n",
       "      <th>p3@Bmp4_XM_027386529.1</th>\n",
       "      <td>NW_020822366.1</td>\n",
       "      <td>721832</td>\n",
       "      <td>721983</td>\n",
       "      <td>p3@Bmp4_XM_027386529.1</td>\n",
       "      <td>0.580925</td>\n",
       "      <td>-</td>\n",
       "    </tr>\n",
       "    <tr>\n",
       "      <th>p1@Bmp4_XM_027386529.1</th>\n",
       "      <td>NW_020822366.1</td>\n",
       "      <td>722208</td>\n",
       "      <td>722359</td>\n",
       "      <td>p1@Bmp4_XM_027386529.1</td>\n",
       "      <td>1.779596</td>\n",
       "      <td>-</td>\n",
       "    </tr>\n",
       "    <tr>\n",
       "      <th>p1@Bmp4_XM_027386528.1</th>\n",
       "      <td>NW_020822366.1</td>\n",
       "      <td>724533</td>\n",
       "      <td>724684</td>\n",
       "      <td>p1@Bmp4_XM_027386528.1</td>\n",
       "      <td>4.074290</td>\n",
       "      <td>-</td>\n",
       "    </tr>\n",
       "    <tr>\n",
       "      <th>p1@Cdkn3_XM_027386531.1</th>\n",
       "      <td>NW_020822366.1</td>\n",
       "      <td>1085431</td>\n",
       "      <td>1085582</td>\n",
       "      <td>p1@Cdkn3_XM_027386531.1</td>\n",
       "      <td>1.212188</td>\n",
       "      <td>+</td>\n",
       "    </tr>\n",
       "  </tbody>\n",
       "</table>\n",
       "</div>"
      ],
      "text/plain": [
       "                                    Chr    Start      End  \\\n",
       "p2@Bmp4_XM_027386529.1   NW_020822366.1   721599   721750   \n",
       "p3@Bmp4_XM_027386529.1   NW_020822366.1   721832   721983   \n",
       "p1@Bmp4_XM_027386529.1   NW_020822366.1   722208   722359   \n",
       "p1@Bmp4_XM_027386528.1   NW_020822366.1   724533   724684   \n",
       "p1@Cdkn3_XM_027386531.1  NW_020822366.1  1085431  1085582   \n",
       "\n",
       "                                              ID      Stat Strand  \n",
       "p2@Bmp4_XM_027386529.1    p2@Bmp4_XM_027386529.1  0.506505      -  \n",
       "p3@Bmp4_XM_027386529.1    p3@Bmp4_XM_027386529.1  0.580925      -  \n",
       "p1@Bmp4_XM_027386529.1    p1@Bmp4_XM_027386529.1  1.779596      -  \n",
       "p1@Bmp4_XM_027386528.1    p1@Bmp4_XM_027386528.1  4.074290      -  \n",
       "p1@Cdkn3_XM_027386531.1  p1@Cdkn3_XM_027386531.1  1.212188      +  "
      ]
     },
     "execution_count": 7,
     "metadata": {},
     "output_type": "execute_result"
    }
   ],
   "source": [
    "bed_df.head()"
   ]
  },
  {
   "cell_type": "code",
   "execution_count": 8,
   "metadata": {
    "ExecuteTime": {
     "end_time": "2019-02-12T03:39:28.474683Z",
     "start_time": "2019-02-12T03:39:28.438570Z"
    }
   },
   "outputs": [
    {
     "data": {
      "text/html": [
       "<div>\n",
       "<style scoped>\n",
       "    .dataframe tbody tr th:only-of-type {\n",
       "        vertical-align: middle;\n",
       "    }\n",
       "\n",
       "    .dataframe tbody tr th {\n",
       "        vertical-align: top;\n",
       "    }\n",
       "\n",
       "    .dataframe thead th {\n",
       "        text-align: right;\n",
       "    }\n",
       "</style>\n",
       "<table border=\"1\" class=\"dataframe\">\n",
       "  <thead>\n",
       "    <tr style=\"text-align: right;\">\n",
       "      <th></th>\n",
       "      <th>Tissues</th>\n",
       "      <th>cs</th>\n",
       "      <th>CHO ATAC Region</th>\n",
       "      <th>ID</th>\n",
       "      <th>Gene</th>\n",
       "      <th>Gene ID</th>\n",
       "      <th>Transcript</th>\n",
       "      <th>Is Experimental</th>\n",
       "      <th>has ATAC</th>\n",
       "    </tr>\n",
       "  </thead>\n",
       "  <tbody>\n",
       "    <tr>\n",
       "      <th>p2@Bmp4_XM_027386529.1</th>\n",
       "      <td>Spleen,MiscOrgans,FemaleReproductive,Brain,Lun...</td>\n",
       "      <td>0b00</td>\n",
       "      <td></td>\n",
       "      <td>90264</td>\n",
       "      <td>Bmp4</td>\n",
       "      <td></td>\n",
       "      <td>XM_027386529.1</td>\n",
       "      <td>1</td>\n",
       "      <td>0</td>\n",
       "    </tr>\n",
       "    <tr>\n",
       "      <th>p3@Bmp4_XM_027386529.1</th>\n",
       "      <td>Spleen,MiscOrgans,FemaleReproductive,Brain,Lun...</td>\n",
       "      <td>0b00</td>\n",
       "      <td></td>\n",
       "      <td>181215</td>\n",
       "      <td>Bmp4</td>\n",
       "      <td></td>\n",
       "      <td>XM_027386529.1</td>\n",
       "      <td>1</td>\n",
       "      <td>1</td>\n",
       "    </tr>\n",
       "    <tr>\n",
       "      <th>p1@Bmp4_XM_027386529.1</th>\n",
       "      <td>Spleen,MiscOrgans,FemaleReproductive,Brain,Lun...</td>\n",
       "      <td>0b11</td>\n",
       "      <td></td>\n",
       "      <td>348823</td>\n",
       "      <td>Bmp4</td>\n",
       "      <td></td>\n",
       "      <td>XM_027386529.1</td>\n",
       "      <td>1</td>\n",
       "      <td>1</td>\n",
       "    </tr>\n",
       "    <tr>\n",
       "      <th>p1@Bmp4_XM_027386528.1</th>\n",
       "      <td>Heart,Spleen,MiscOrgans,FemaleReproductive,Bra...</td>\n",
       "      <td>0b11</td>\n",
       "      <td></td>\n",
       "      <td>308710</td>\n",
       "      <td>Bmp4</td>\n",
       "      <td></td>\n",
       "      <td>XM_027386528.1</td>\n",
       "      <td>1</td>\n",
       "      <td>1</td>\n",
       "    </tr>\n",
       "    <tr>\n",
       "      <th>p1@Cdkn3_XM_027386531.1</th>\n",
       "      <td>BMDMwt,Spleen,MiscOrgans,FemaleReproductive,CH...</td>\n",
       "      <td>0b11</td>\n",
       "      <td></td>\n",
       "      <td>237253</td>\n",
       "      <td>Cdkn3</td>\n",
       "      <td></td>\n",
       "      <td>XM_027386531.1</td>\n",
       "      <td>1</td>\n",
       "      <td>0</td>\n",
       "    </tr>\n",
       "  </tbody>\n",
       "</table>\n",
       "</div>"
      ],
      "text/plain": [
       "                                                                   Tissues  \\\n",
       "p2@Bmp4_XM_027386529.1   Spleen,MiscOrgans,FemaleReproductive,Brain,Lun...   \n",
       "p3@Bmp4_XM_027386529.1   Spleen,MiscOrgans,FemaleReproductive,Brain,Lun...   \n",
       "p1@Bmp4_XM_027386529.1   Spleen,MiscOrgans,FemaleReproductive,Brain,Lun...   \n",
       "p1@Bmp4_XM_027386528.1   Heart,Spleen,MiscOrgans,FemaleReproductive,Bra...   \n",
       "p1@Cdkn3_XM_027386531.1  BMDMwt,Spleen,MiscOrgans,FemaleReproductive,CH...   \n",
       "\n",
       "                           cs CHO ATAC Region      ID   Gene Gene ID  \\\n",
       "p2@Bmp4_XM_027386529.1   0b00                   90264   Bmp4           \n",
       "p3@Bmp4_XM_027386529.1   0b00                  181215   Bmp4           \n",
       "p1@Bmp4_XM_027386529.1   0b11                  348823   Bmp4           \n",
       "p1@Bmp4_XM_027386528.1   0b11                  308710   Bmp4           \n",
       "p1@Cdkn3_XM_027386531.1  0b11                  237253  Cdkn3           \n",
       "\n",
       "                             Transcript  Is Experimental  has ATAC  \n",
       "p2@Bmp4_XM_027386529.1   XM_027386529.1                1         0  \n",
       "p3@Bmp4_XM_027386529.1   XM_027386529.1                1         1  \n",
       "p1@Bmp4_XM_027386529.1   XM_027386529.1                1         1  \n",
       "p1@Bmp4_XM_027386528.1   XM_027386528.1                1         1  \n",
       "p1@Cdkn3_XM_027386531.1  XM_027386531.1                1         0  "
      ]
     },
     "execution_count": 8,
     "metadata": {},
     "output_type": "execute_result"
    }
   ],
   "source": [
    "meta_df.head()"
   ]
  },
  {
   "cell_type": "markdown",
   "metadata": {},
   "source": [
    "-----------------------------"
   ]
  },
  {
   "cell_type": "markdown",
   "metadata": {},
   "source": [
    "-----------------------------"
   ]
  }
 ],
 "metadata": {
  "kernelspec": {
   "display_name": "Python 2",
   "language": "python",
   "name": "python2"
  },
  "language_info": {
   "codemirror_mode": {
    "name": "ipython",
    "version": 2
   },
   "file_extension": ".py",
   "mimetype": "text/x-python",
   "name": "python",
   "nbconvert_exporter": "python",
   "pygments_lexer": "ipython2",
   "version": "2.7.15"
  }
 },
 "nbformat": 4,
 "nbformat_minor": 2
}
