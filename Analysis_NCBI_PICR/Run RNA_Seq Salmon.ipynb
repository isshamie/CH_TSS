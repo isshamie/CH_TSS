{
 "cells": [
  {
   "cell_type": "code",
   "execution_count": 1,
   "metadata": {
    "ExecuteTime": {
     "end_time": "2019-10-07T23:20:39.931083Z",
     "start_time": "2019-10-07T23:20:39.926800Z"
    },
    "collapsed": true
   },
   "outputs": [],
   "source": [
    "import sarge\n",
    "import os\n",
    "import sys\n",
    "import glob\n",
    "from os.path import basename\n",
    "\n",
    "\n",
    "rna_in_dir = \"/data/isshamie/dropbox/RNAseq/2017_12_15_hamster_Seq/\"\n",
    "rna_out_dir = \"Results/RNA_align/\"\n",
    "salmon_index = \"Results/RNA_align/transcripts_index/\"\n",
    "\n",
    "def salmon(input_files,out_path,salmon_index,thread,lib=''):\n",
    "    '''run salmon'''\n",
    "    if lib == '':\n",
    "        library = '-l A'\n",
    "    else:\n",
    "        library = '-l ' + lib\n",
    "    if len(input_files) == 2:\n",
    "        cmd=('salmon quant -i {index} {lib} -p {t} -1 {f1} -2 {f2} -o {out_path}').format(\n",
    "        index=salmon_index,lib=library,t=str(thread),f1=input_files[0],f2=input_files[1],out_path=out_path)\n",
    "    else:\n",
    "        cmd=('salmon quant -i {index} {lib} -p {t} -r {f1} -o {out_path}').format(\n",
    "        index=salmon_index,lib=library,t=str(thread),f1=input_files[0],out_path=out_path)\n",
    "    print(cmd)\n",
    "    sarge.run(cmd)\n",
    "\n",
    "in_f = glob.glob(os.path.join(rna_in_dir,\"*_R1_001.fastq.gz\"))\n",
    "for i1 in in_f:\n",
    "    print(glob.glob(i1))\n",
    "    i2 = i1.replace(\"_R1_\",\"_R2_\")\n",
    "    print(glob.glob(i2))\n",
    "    out_f = os.path.join(rna_out_dir, basename(i1).split(\"_\")[1])\n",
    "    print(out_f)\n",
    "    \n",
    "    salmon([i1,i2],out_f,salmon_index,thread=4,lib='')"
   ]
  }
 ],
 "metadata": {
  "kernelspec": {
   "display_name": "Python 3",
   "language": "python",
   "name": "python3"
  },
  "language_info": {
   "codemirror_mode": {
    "name": "ipython",
    "version": 2
   },
   "file_extension": ".py",
   "mimetype": "text/x-python",
   "name": "python",
   "nbconvert_exporter": "python",
   "pygments_lexer": "ipython2",
   "version": "2.7.15"
  }
 },
 "nbformat": 4,
 "nbformat_minor": 2
}
