{
 "cells": [
  {
   "cell_type": "markdown",
   "metadata": {},
   "source": [
    "### Use file from other folder and replace the directory name and the genome name"
   ]
  },
  {
   "cell_type": "code",
   "execution_count": 1,
   "metadata": {
    "ExecuteTime": {
     "end_time": "2019-01-22T19:04:38.313617Z",
     "start_time": "2019-01-22T19:04:38.310666Z"
    },
    "collapsed": true
   },
   "outputs": [],
   "source": [
    "with open(\"/data/isshamie/TSS/1015_Processed/run_atac.sh\",\"r\") as f:\n",
    "    curr = f.readlines()\n"
   ]
  },
  {
   "cell_type": "code",
   "execution_count": 2,
   "metadata": {
    "ExecuteTime": {
     "end_time": "2019-01-22T19:04:38.329127Z",
     "start_time": "2019-01-22T19:04:38.315679Z"
    },
    "scrolled": true
   },
   "outputs": [
    {
     "data": {
      "text/plain": [
       "['#!/bin/sh\\n',\n",
       " 'cd /data/isshamie/TSS/1015_Processed/Brain/ATAC\\n',\n",
       " 'atac.bds -species crigri_picr_final -nth 6 -se -fastq1 Brain_ATAC1.fastq.gz enable_idr -auto_detect_adapter > Brain.out\\n',\n",
       " '\\n',\n",
       " 'cd /data/isshamie/TSS/1015_Processed/Kidney/ATAC\\n',\n",
       " 'atac.bds -species crigri_picr_final -nth 6 -se -fastq1 Kidney_ATAC1.fastq.gz enable_idr -auto_detect_adapter > Kidney.out\\n',\n",
       " '\\n',\n",
       " 'cd /data/isshamie/TSS/1015_Processed/Lung/ATAC\\n',\n",
       " 'atac.bds -species crigri_picr_final -nth 6 -se -fastq1 Lung_ATAC1.fastq.gz enable_idr -auto_detect_adapter > Lung.out\\n',\n",
       " '\\n',\n",
       " 'cd /data/isshamie/TSS/1015_Processed/Liver/ATAC\\n',\n",
       " 'atac.bds -species crigri_picr_final -nth 6 -se -fastq1 Liver_ATAC1.fastq.gz enable_idr -auto_detect_adapter > Liver.out\\n',\n",
       " '\\n',\n",
       " 'cd /data/isshamie/TSS/1015_Processed/Spleen/ATAC\\n',\n",
       " 'atac.bds -species crigri_picr_final -nth 6 -se -fastq1 Spleen_ATAC1.fastq.gz enable_idr -auto_detect_adapter > Spleen.out\\n',\n",
       " '\\n',\n",
       " 'cd /data/isshamie/TSS/1015_Processed/BMDMwt/ATAC\\n',\n",
       " 'atac.bds -species crigri_picr_final -nth 6 -se -fastq1 CHBMDMVehic2_ATAC_JHS999_SD_TGGTCACA_S10_L001_R1_001.fastq.gz -fastq2 CHBMDMVehic1_ATAC_JHS997_SD_GTGTGGTG_S8_L001_R1_001.fastq.gz enable_idr -auto_detect_adapter > BMDMwt.out\\n',\n",
       " '\\n',\n",
       " 'cd /data/isshamie/TSS/1015_Processed/BMDM1hKLA/ATAC\\n',\n",
       " 'atac.bds -species crigri_picr_final -nth 6 -se -fastq1 BMDM1hKLA_ATAC2.fastq.gz  -fastq2 BMDM1hKLA_ATAC1.fastq.gz enable_idr -auto_detect_adapter > BMDM1hKLA.out\\n']"
      ]
     },
     "execution_count": 2,
     "metadata": {},
     "output_type": "execute_result"
    }
   ],
   "source": [
    "curr"
   ]
  },
  {
   "cell_type": "code",
   "execution_count": 3,
   "metadata": {
    "ExecuteTime": {
     "end_time": "2019-01-22T19:04:38.606212Z",
     "start_time": "2019-01-22T19:04:38.331016Z"
    },
    "collapsed": true
   },
   "outputs": [],
   "source": [
    "import pandas as pd"
   ]
  },
  {
   "cell_type": "code",
   "execution_count": 4,
   "metadata": {
    "ExecuteTime": {
     "end_time": "2019-01-22T19:04:38.644062Z",
     "start_time": "2019-01-22T19:04:38.608269Z"
    }
   },
   "outputs": [
    {
     "data": {
      "text/html": [
       "<div>\n",
       "<style scoped>\n",
       "    .dataframe tbody tr th:only-of-type {\n",
       "        vertical-align: middle;\n",
       "    }\n",
       "\n",
       "    .dataframe tbody tr th {\n",
       "        vertical-align: top;\n",
       "    }\n",
       "\n",
       "    .dataframe thead th {\n",
       "        text-align: right;\n",
       "    }\n",
       "</style>\n",
       "<table border=\"1\" class=\"dataframe\">\n",
       "  <thead>\n",
       "    <tr style=\"text-align: right;\">\n",
       "      <th></th>\n",
       "      <th>Tissue</th>\n",
       "      <th>Experiment</th>\n",
       "      <th>Name</th>\n",
       "      <th>Full</th>\n",
       "    </tr>\n",
       "  </thead>\n",
       "  <tbody>\n",
       "    <tr>\n",
       "      <th>CHBMDM1hKLA2_ATAC_JHS1000_SD_AGGTTGGG_S11_L001_R1_001.fastq.gz</th>\n",
       "      <td>BMDM1hKLA</td>\n",
       "      <td>ATAC</td>\n",
       "      <td>BMDM1hKLA_ATAC1</td>\n",
       "      <td>CHBMDM1hKLA2_ATAC_JHS1000_SD_AGGTTGGG_S11_L001...</td>\n",
       "    </tr>\n",
       "    <tr>\n",
       "      <th>CHBMDM1hKLA1_ATAC_JHS998_SD_TGGGTTTC_S9_L001_R1_001.fastq.gz</th>\n",
       "      <td>BMDM1hKLA</td>\n",
       "      <td>ATAC</td>\n",
       "      <td>BMDM1hKLA_ATAC2</td>\n",
       "      <td>CHBMDM1hKLA1_ATAC_JHS998_SD_TGGGTTTC_S9_L001_R...</td>\n",
       "    </tr>\n",
       "    <tr>\n",
       "      <th>CHBMDMVehic2_ATAC_JHS999_SD_TGGTCACA_S10_L001_R1_001.fastq.gz</th>\n",
       "      <td>BMDMwt</td>\n",
       "      <td>ATAC</td>\n",
       "      <td>BMDMwt_ATAC1</td>\n",
       "      <td>CHBMDMVehic2_ATAC_JHS999_SD_TGGTCACA_S10_L001_...</td>\n",
       "    </tr>\n",
       "    <tr>\n",
       "      <th>CHBMDMVehic1_ATAC_JHS997_SD_GTGTGGTG_S8_L001_R1_001.fastq.gz</th>\n",
       "      <td>BMDMwt</td>\n",
       "      <td>ATAC</td>\n",
       "      <td>BMDMwt_ATAC2</td>\n",
       "      <td>CHBMDMVehic1_ATAC_JHS997_SD_GTGTGGTG_S8_L001_R...</td>\n",
       "    </tr>\n",
       "    <tr>\n",
       "      <th>CHBrain_ATAC_JHS992_SD_ACCACTGT_S4_L001_R1_001.fastq.gz</th>\n",
       "      <td>Brain</td>\n",
       "      <td>ATAC</td>\n",
       "      <td>Brain_ATAC1</td>\n",
       "      <td>CHBrain_ATAC_JHS992_SD_ACCACTGT_S4_L001_R1_001...</td>\n",
       "    </tr>\n",
       "    <tr>\n",
       "      <th>CHO-ATAC-SD378_S17_R1_001.fastq.gz</th>\n",
       "      <td>CHO</td>\n",
       "      <td>ATAC</td>\n",
       "      <td>CHO_ATAC1</td>\n",
       "      <td>CHO-ATAC-SD378_S17_R1_001.fastq.gz</td>\n",
       "    </tr>\n",
       "    <tr>\n",
       "      <th>Hamster-CHO-ATAC-SD332_S22_R1_001.fastq.gz</th>\n",
       "      <td>CHO</td>\n",
       "      <td>ATAC</td>\n",
       "      <td>CHO_ATAC2</td>\n",
       "      <td>Hamster-CHO-ATAC-SD332_S22_R1_001.fastq.gz</td>\n",
       "    </tr>\n",
       "    <tr>\n",
       "      <th>CHO-ATAC-SD380_S18_R1_001.fastq.gz</th>\n",
       "      <td>CHO</td>\n",
       "      <td>ATAC</td>\n",
       "      <td>CHO_ATAC3</td>\n",
       "      <td>CHO-ATAC-SD380_S18_R1_001.fastq.gz</td>\n",
       "    </tr>\n",
       "    <tr>\n",
       "      <th>Hamster-CHO-ATAC-SD335_S23_R1_001.fastq.gz</th>\n",
       "      <td>CHO</td>\n",
       "      <td>ATAC</td>\n",
       "      <td>CHO_ATAC4</td>\n",
       "      <td>Hamster-CHO-ATAC-SD335_S23_R1_001.fastq.gz</td>\n",
       "    </tr>\n",
       "    <tr>\n",
       "      <th>CHKidney_ATAC_JHS991_SD_CGAGGCTG_S3_L001_R1_001.fastq.gz</th>\n",
       "      <td>Kidney</td>\n",
       "      <td>ATAC</td>\n",
       "      <td>Kidney_ATAC1</td>\n",
       "      <td>CHKidney_ATAC_JHS991_SD_CGAGGCTG_S3_L001_R1_00...</td>\n",
       "    </tr>\n",
       "    <tr>\n",
       "      <th>CHLiver_ATAC_JHS994_SD_CCGTTTGT_S6_L001_R1_001.fastq.gz</th>\n",
       "      <td>Liver</td>\n",
       "      <td>ATAC</td>\n",
       "      <td>Liver_ATAC1</td>\n",
       "      <td>CHLiver_ATAC_JHS994_SD_CCGTTTGT_S6_L001_R1_001...</td>\n",
       "    </tr>\n",
       "    <tr>\n",
       "      <th>CHLung_ATAC_JHS993_SD_TGGATCTG_S5_L001_R1_001.fastq.gz</th>\n",
       "      <td>Lung</td>\n",
       "      <td>ATAC</td>\n",
       "      <td>Lung_ATAC1</td>\n",
       "      <td>CHLung_ATAC_JHS993_SD_TGGATCTG_S5_L001_R1_001....</td>\n",
       "    </tr>\n",
       "    <tr>\n",
       "      <th>CHSpleenBlood_ATAC_JHS995_SD_TGCTGGGT_S7_L001_R1_001.fastq.gz</th>\n",
       "      <td>Spleen</td>\n",
       "      <td>ATAC</td>\n",
       "      <td>Spleen_ATAC1</td>\n",
       "      <td>CHSpleenBlood_ATAC_JHS995_SD_TGCTGGGT_S7_L001_...</td>\n",
       "    </tr>\n",
       "  </tbody>\n",
       "</table>\n",
       "</div>"
      ],
      "text/plain": [
       "                                                       Tissue Experiment  \\\n",
       "CHBMDM1hKLA2_ATAC_JHS1000_SD_AGGTTGGG_S11_L001_...  BMDM1hKLA       ATAC   \n",
       "CHBMDM1hKLA1_ATAC_JHS998_SD_TGGGTTTC_S9_L001_R1...  BMDM1hKLA       ATAC   \n",
       "CHBMDMVehic2_ATAC_JHS999_SD_TGGTCACA_S10_L001_R...     BMDMwt       ATAC   \n",
       "CHBMDMVehic1_ATAC_JHS997_SD_GTGTGGTG_S8_L001_R1...     BMDMwt       ATAC   \n",
       "CHBrain_ATAC_JHS992_SD_ACCACTGT_S4_L001_R1_001....      Brain       ATAC   \n",
       "CHO-ATAC-SD378_S17_R1_001.fastq.gz                        CHO       ATAC   \n",
       "Hamster-CHO-ATAC-SD332_S22_R1_001.fastq.gz                CHO       ATAC   \n",
       "CHO-ATAC-SD380_S18_R1_001.fastq.gz                        CHO       ATAC   \n",
       "Hamster-CHO-ATAC-SD335_S23_R1_001.fastq.gz                CHO       ATAC   \n",
       "CHKidney_ATAC_JHS991_SD_CGAGGCTG_S3_L001_R1_001...     Kidney       ATAC   \n",
       "CHLiver_ATAC_JHS994_SD_CCGTTTGT_S6_L001_R1_001....      Liver       ATAC   \n",
       "CHLung_ATAC_JHS993_SD_TGGATCTG_S5_L001_R1_001.f...       Lung       ATAC   \n",
       "CHSpleenBlood_ATAC_JHS995_SD_TGCTGGGT_S7_L001_R...     Spleen       ATAC   \n",
       "\n",
       "                                                               Name  \\\n",
       "CHBMDM1hKLA2_ATAC_JHS1000_SD_AGGTTGGG_S11_L001_...  BMDM1hKLA_ATAC1   \n",
       "CHBMDM1hKLA1_ATAC_JHS998_SD_TGGGTTTC_S9_L001_R1...  BMDM1hKLA_ATAC2   \n",
       "CHBMDMVehic2_ATAC_JHS999_SD_TGGTCACA_S10_L001_R...     BMDMwt_ATAC1   \n",
       "CHBMDMVehic1_ATAC_JHS997_SD_GTGTGGTG_S8_L001_R1...     BMDMwt_ATAC2   \n",
       "CHBrain_ATAC_JHS992_SD_ACCACTGT_S4_L001_R1_001....      Brain_ATAC1   \n",
       "CHO-ATAC-SD378_S17_R1_001.fastq.gz                        CHO_ATAC1   \n",
       "Hamster-CHO-ATAC-SD332_S22_R1_001.fastq.gz                CHO_ATAC2   \n",
       "CHO-ATAC-SD380_S18_R1_001.fastq.gz                        CHO_ATAC3   \n",
       "Hamster-CHO-ATAC-SD335_S23_R1_001.fastq.gz                CHO_ATAC4   \n",
       "CHKidney_ATAC_JHS991_SD_CGAGGCTG_S3_L001_R1_001...     Kidney_ATAC1   \n",
       "CHLiver_ATAC_JHS994_SD_CCGTTTGT_S6_L001_R1_001....      Liver_ATAC1   \n",
       "CHLung_ATAC_JHS993_SD_TGGATCTG_S5_L001_R1_001.f...       Lung_ATAC1   \n",
       "CHSpleenBlood_ATAC_JHS995_SD_TGCTGGGT_S7_L001_R...     Spleen_ATAC1   \n",
       "\n",
       "                                                                                                 Full  \n",
       "CHBMDM1hKLA2_ATAC_JHS1000_SD_AGGTTGGG_S11_L001_...  CHBMDM1hKLA2_ATAC_JHS1000_SD_AGGTTGGG_S11_L001...  \n",
       "CHBMDM1hKLA1_ATAC_JHS998_SD_TGGGTTTC_S9_L001_R1...  CHBMDM1hKLA1_ATAC_JHS998_SD_TGGGTTTC_S9_L001_R...  \n",
       "CHBMDMVehic2_ATAC_JHS999_SD_TGGTCACA_S10_L001_R...  CHBMDMVehic2_ATAC_JHS999_SD_TGGTCACA_S10_L001_...  \n",
       "CHBMDMVehic1_ATAC_JHS997_SD_GTGTGGTG_S8_L001_R1...  CHBMDMVehic1_ATAC_JHS997_SD_GTGTGGTG_S8_L001_R...  \n",
       "CHBrain_ATAC_JHS992_SD_ACCACTGT_S4_L001_R1_001....  CHBrain_ATAC_JHS992_SD_ACCACTGT_S4_L001_R1_001...  \n",
       "CHO-ATAC-SD378_S17_R1_001.fastq.gz                                 CHO-ATAC-SD378_S17_R1_001.fastq.gz  \n",
       "Hamster-CHO-ATAC-SD332_S22_R1_001.fastq.gz                 Hamster-CHO-ATAC-SD332_S22_R1_001.fastq.gz  \n",
       "CHO-ATAC-SD380_S18_R1_001.fastq.gz                                 CHO-ATAC-SD380_S18_R1_001.fastq.gz  \n",
       "Hamster-CHO-ATAC-SD335_S23_R1_001.fastq.gz                 Hamster-CHO-ATAC-SD335_S23_R1_001.fastq.gz  \n",
       "CHKidney_ATAC_JHS991_SD_CGAGGCTG_S3_L001_R1_001...  CHKidney_ATAC_JHS991_SD_CGAGGCTG_S3_L001_R1_00...  \n",
       "CHLiver_ATAC_JHS994_SD_CCGTTTGT_S6_L001_R1_001....  CHLiver_ATAC_JHS994_SD_CCGTTTGT_S6_L001_R1_001...  \n",
       "CHLung_ATAC_JHS993_SD_TGGATCTG_S5_L001_R1_001.f...  CHLung_ATAC_JHS993_SD_TGGATCTG_S5_L001_R1_001....  \n",
       "CHSpleenBlood_ATAC_JHS995_SD_TGCTGGGT_S7_L001_R...  CHSpleenBlood_ATAC_JHS995_SD_TGCTGGGT_S7_L001_...  "
      ]
     },
     "execution_count": 4,
     "metadata": {},
     "output_type": "execute_result"
    }
   ],
   "source": [
    "metaSamples = pd.read_csv(\"/data/isshamie/TSS/Analysis/raw_metaSamples.tsv\",sep='\\t',index_col = 0)\n",
    "metaSamples[metaSamples[\"Experiment\"] == \"ATAC\"]"
   ]
  },
  {
   "cell_type": "code",
   "execution_count": 5,
   "metadata": {
    "ExecuteTime": {
     "end_time": "2019-01-22T19:04:38.654704Z",
     "start_time": "2019-01-22T19:04:38.646053Z"
    }
   },
   "outputs": [
    {
     "name": "stdout",
     "output_type": "stream",
     "text": [
      "CHBMDMVehic2_ATAC_JHS999_SD_TGGTCACA_S10_L001_R1_001.fastq.gz\n",
      "BMDMwt_ATAC1\n",
      "CHBMDMVehic1_ATAC_JHS997_SD_GTGTGGTG_S8_L001_R1_001.fastq.gz\n",
      "BMDMwt_ATAC2\n"
     ]
    }
   ],
   "source": [
    "for ind,val in enumerate(curr):\n",
    "    curr[ind] = val.replace(\"1015_Processed\",\"NCBI_PICR_103_Processed\")\n",
    "    curr[ind] = curr[ind].replace(\"crigri_picr_final\",\"ncbi_picr\")\n",
    "    val_str = val.split(\" \")\n",
    "    for i in val_str:\n",
    "        #print(i)\n",
    "        if i in metaSamples.index:\n",
    "            print(i)\n",
    "            print(metaSamples.loc[i,\"Name\"])\n",
    "            curr[ind] = curr[ind].replace(i,metaSamples.loc[i,\"Name\"]+'.fastq.gz')"
   ]
  },
  {
   "cell_type": "code",
   "execution_count": 6,
   "metadata": {
    "ExecuteTime": {
     "end_time": "2019-01-22T19:04:38.661489Z",
     "start_time": "2019-01-22T19:04:38.656621Z"
    },
    "scrolled": true
   },
   "outputs": [
    {
     "data": {
      "text/plain": [
       "['#!/bin/sh\\n',\n",
       " 'cd /data/isshamie/TSS/NCBI_PICR_103_Processed/Brain/ATAC\\n',\n",
       " 'atac.bds -species ncbi_picr -nth 6 -se -fastq1 Brain_ATAC1.fastq.gz enable_idr -auto_detect_adapter > Brain.out\\n',\n",
       " '\\n',\n",
       " 'cd /data/isshamie/TSS/NCBI_PICR_103_Processed/Kidney/ATAC\\n',\n",
       " 'atac.bds -species ncbi_picr -nth 6 -se -fastq1 Kidney_ATAC1.fastq.gz enable_idr -auto_detect_adapter > Kidney.out\\n',\n",
       " '\\n',\n",
       " 'cd /data/isshamie/TSS/NCBI_PICR_103_Processed/Lung/ATAC\\n',\n",
       " 'atac.bds -species ncbi_picr -nth 6 -se -fastq1 Lung_ATAC1.fastq.gz enable_idr -auto_detect_adapter > Lung.out\\n',\n",
       " '\\n',\n",
       " 'cd /data/isshamie/TSS/NCBI_PICR_103_Processed/Liver/ATAC\\n',\n",
       " 'atac.bds -species ncbi_picr -nth 6 -se -fastq1 Liver_ATAC1.fastq.gz enable_idr -auto_detect_adapter > Liver.out\\n',\n",
       " '\\n',\n",
       " 'cd /data/isshamie/TSS/NCBI_PICR_103_Processed/Spleen/ATAC\\n',\n",
       " 'atac.bds -species ncbi_picr -nth 6 -se -fastq1 Spleen_ATAC1.fastq.gz enable_idr -auto_detect_adapter > Spleen.out\\n',\n",
       " '\\n',\n",
       " 'cd /data/isshamie/TSS/NCBI_PICR_103_Processed/BMDMwt/ATAC\\n',\n",
       " 'atac.bds -species ncbi_picr -nth 6 -se -fastq1 BMDMwt_ATAC1.fastq.gz -fastq2 BMDMwt_ATAC2.fastq.gz enable_idr -auto_detect_adapter > BMDMwt.out\\n',\n",
       " '\\n',\n",
       " 'cd /data/isshamie/TSS/NCBI_PICR_103_Processed/BMDM1hKLA/ATAC\\n',\n",
       " 'atac.bds -species ncbi_picr -nth 6 -se -fastq1 BMDM1hKLA_ATAC2.fastq.gz  -fastq2 BMDM1hKLA_ATAC1.fastq.gz enable_idr -auto_detect_adapter > BMDM1hKLA.out\\n']"
      ]
     },
     "execution_count": 6,
     "metadata": {},
     "output_type": "execute_result"
    }
   ],
   "source": [
    "curr"
   ]
  },
  {
   "cell_type": "markdown",
   "metadata": {},
   "source": [
    "## Add CHO"
   ]
  },
  {
   "cell_type": "code",
   "execution_count": 7,
   "metadata": {
    "ExecuteTime": {
     "end_time": "2019-01-22T19:04:38.668058Z",
     "start_time": "2019-01-22T19:04:38.663367Z"
    }
   },
   "outputs": [
    {
     "data": {
      "text/plain": [
       "['#!/bin/sh\\n',\n",
       " 'cd /data/isshamie/TSS/NCBI_PICR_103_Processed/Brain/ATAC\\n',\n",
       " 'atac.bds -species ncbi_picr -nth 6 -se -fastq1 Brain_ATAC1.fastq.gz enable_idr -auto_detect_adapter > Brain.out\\n',\n",
       " '\\n',\n",
       " 'cd /data/isshamie/TSS/NCBI_PICR_103_Processed/Kidney/ATAC\\n',\n",
       " 'atac.bds -species ncbi_picr -nth 6 -se -fastq1 Kidney_ATAC1.fastq.gz enable_idr -auto_detect_adapter > Kidney.out\\n',\n",
       " '\\n',\n",
       " 'cd /data/isshamie/TSS/NCBI_PICR_103_Processed/Lung/ATAC\\n',\n",
       " 'atac.bds -species ncbi_picr -nth 6 -se -fastq1 Lung_ATAC1.fastq.gz enable_idr -auto_detect_adapter > Lung.out\\n',\n",
       " '\\n',\n",
       " 'cd /data/isshamie/TSS/NCBI_PICR_103_Processed/Liver/ATAC\\n',\n",
       " 'atac.bds -species ncbi_picr -nth 6 -se -fastq1 Liver_ATAC1.fastq.gz enable_idr -auto_detect_adapter > Liver.out\\n',\n",
       " '\\n',\n",
       " 'cd /data/isshamie/TSS/NCBI_PICR_103_Processed/Spleen/ATAC\\n',\n",
       " 'atac.bds -species ncbi_picr -nth 6 -se -fastq1 Spleen_ATAC1.fastq.gz enable_idr -auto_detect_adapter > Spleen.out\\n',\n",
       " '\\n',\n",
       " 'cd /data/isshamie/TSS/NCBI_PICR_103_Processed/BMDMwt/ATAC\\n',\n",
       " 'atac.bds -species ncbi_picr -nth 6 -se -fastq1 BMDMwt_ATAC1.fastq.gz -fastq2 BMDMwt_ATAC2.fastq.gz enable_idr -auto_detect_adapter > BMDMwt.out\\n',\n",
       " '\\n',\n",
       " 'cd /data/isshamie/TSS/NCBI_PICR_103_Processed/BMDM1hKLA/ATAC\\n',\n",
       " 'atac.bds -species ncbi_picr -nth 6 -se -fastq1 BMDM1hKLA_ATAC2.fastq.gz  -fastq2 BMDM1hKLA_ATAC1.fastq.gz enable_idr -auto_detect_adapter > BMDM1hKLA.out\\n']"
      ]
     },
     "execution_count": 7,
     "metadata": {},
     "output_type": "execute_result"
    }
   ],
   "source": [
    "curr"
   ]
  },
  {
   "cell_type": "code",
   "execution_count": 8,
   "metadata": {
    "ExecuteTime": {
     "end_time": "2019-01-22T19:04:38.672707Z",
     "start_time": "2019-01-22T19:04:38.669917Z"
    }
   },
   "outputs": [],
   "source": [
    "curr.append(\"\\ncd /data/isshamie/TSS/NCBI_PICR_103_Processed/CHO/ATAC\\natac.bds -species ncbi_picr -nth 6 -se -fastq1 CHO_ATAC1.fastq.gz  -fastq2 CHO_ATAC3.fastq.gz enable_idr -auto_detect_adapter > CHO.out\\n\")"
   ]
  },
  {
   "cell_type": "code",
   "execution_count": 9,
   "metadata": {
    "ExecuteTime": {
     "end_time": "2019-01-22T19:04:38.679638Z",
     "start_time": "2019-01-22T19:04:38.674743Z"
    }
   },
   "outputs": [
    {
     "data": {
      "text/plain": [
       "['#!/bin/sh\\n',\n",
       " 'cd /data/isshamie/TSS/NCBI_PICR_103_Processed/Brain/ATAC\\n',\n",
       " 'atac.bds -species ncbi_picr -nth 6 -se -fastq1 Brain_ATAC1.fastq.gz enable_idr -auto_detect_adapter > Brain.out\\n',\n",
       " '\\n',\n",
       " 'cd /data/isshamie/TSS/NCBI_PICR_103_Processed/Kidney/ATAC\\n',\n",
       " 'atac.bds -species ncbi_picr -nth 6 -se -fastq1 Kidney_ATAC1.fastq.gz enable_idr -auto_detect_adapter > Kidney.out\\n',\n",
       " '\\n',\n",
       " 'cd /data/isshamie/TSS/NCBI_PICR_103_Processed/Lung/ATAC\\n',\n",
       " 'atac.bds -species ncbi_picr -nth 6 -se -fastq1 Lung_ATAC1.fastq.gz enable_idr -auto_detect_adapter > Lung.out\\n',\n",
       " '\\n',\n",
       " 'cd /data/isshamie/TSS/NCBI_PICR_103_Processed/Liver/ATAC\\n',\n",
       " 'atac.bds -species ncbi_picr -nth 6 -se -fastq1 Liver_ATAC1.fastq.gz enable_idr -auto_detect_adapter > Liver.out\\n',\n",
       " '\\n',\n",
       " 'cd /data/isshamie/TSS/NCBI_PICR_103_Processed/Spleen/ATAC\\n',\n",
       " 'atac.bds -species ncbi_picr -nth 6 -se -fastq1 Spleen_ATAC1.fastq.gz enable_idr -auto_detect_adapter > Spleen.out\\n',\n",
       " '\\n',\n",
       " 'cd /data/isshamie/TSS/NCBI_PICR_103_Processed/BMDMwt/ATAC\\n',\n",
       " 'atac.bds -species ncbi_picr -nth 6 -se -fastq1 BMDMwt_ATAC1.fastq.gz -fastq2 BMDMwt_ATAC2.fastq.gz enable_idr -auto_detect_adapter > BMDMwt.out\\n',\n",
       " '\\n',\n",
       " 'cd /data/isshamie/TSS/NCBI_PICR_103_Processed/BMDM1hKLA/ATAC\\n',\n",
       " 'atac.bds -species ncbi_picr -nth 6 -se -fastq1 BMDM1hKLA_ATAC2.fastq.gz  -fastq2 BMDM1hKLA_ATAC1.fastq.gz enable_idr -auto_detect_adapter > BMDM1hKLA.out\\n',\n",
       " '\\ncd /data/isshamie/TSS/NCBI_PICR_103_Processed/CHO/ATAC\\natac.bds -species ncbi_picr -nth 6 -se -fastq1 CHO_ATAC1.fastq.gz  -fastq2 CHO_ATAC3.fastq.gz enable_idr -auto_detect_adapter > CHO.out\\n']"
      ]
     },
     "execution_count": 9,
     "metadata": {},
     "output_type": "execute_result"
    }
   ],
   "source": [
    "curr"
   ]
  },
  {
   "cell_type": "markdown",
   "metadata": {},
   "source": [
    "## Write file"
   ]
  },
  {
   "cell_type": "code",
   "execution_count": 10,
   "metadata": {
    "ExecuteTime": {
     "end_time": "2019-01-22T19:04:38.685806Z",
     "start_time": "2019-01-22T19:04:38.681498Z"
    },
    "collapsed": true
   },
   "outputs": [],
   "source": [
    "with open(\"/data/isshamie/TSS/NCBI_PICR_103_Processed/run_atac.sh\",\"w\") as f:\n",
    "    f.write(''.join(curr))\n"
   ]
  }
 ],
 "metadata": {
  "kernelspec": {
   "display_name": "Python 2",
   "language": "python",
   "name": "python2"
  },
  "language_info": {
   "codemirror_mode": {
    "name": "ipython",
    "version": 2
   },
   "file_extension": ".py",
   "mimetype": "text/x-python",
   "name": "python",
   "nbconvert_exporter": "python",
   "pygments_lexer": "ipython2",
   "version": "2.7.13"
  }
 },
 "nbformat": 4,
 "nbformat_minor": 2
}
