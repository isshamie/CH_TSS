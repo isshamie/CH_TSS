{
 "cells": [
  {
   "cell_type": "markdown",
   "metadata": {},
   "source": [
    "# 1. Environment Setup"
   ]
  },
  {
   "cell_type": "code",
   "execution_count": 1,
   "metadata": {
    "ExecuteTime": {
     "end_time": "2019-02-14T10:12:16.795011Z",
     "start_time": "2019-02-14T10:12:16.652621Z"
    },
    "scrolled": true
   },
   "outputs": [
    {
     "ename": "KeyError",
     "evalue": "'mRNA_peak_150_file'",
     "output_type": "error",
     "traceback": [
      "\u001b[0;31m---------------------------------------------------------------------------\u001b[0m",
      "\u001b[0;31mKeyError\u001b[0m                                  Traceback (most recent call last)",
      "\u001b[0;32m<ipython-input-1-2d39552e0220>\u001b[0m in \u001b[0;36m<module>\u001b[0;34m()\u001b[0m\n\u001b[1;32m     15\u001b[0m \u001b[0manno_gff\u001b[0m\u001b[0;34m=\u001b[0m\u001b[0mdoc\u001b[0m\u001b[0;34m[\u001b[0m\u001b[0;34m'annotation'\u001b[0m\u001b[0;34m]\u001b[0m\u001b[0;34m\u001b[0m\u001b[0m\n\u001b[1;32m     16\u001b[0m \u001b[0mmRNA_peak_file\u001b[0m \u001b[0;34m=\u001b[0m \u001b[0mdoc\u001b[0m\u001b[0;34m[\u001b[0m\u001b[0;34m\"mRNA_peak_file\"\u001b[0m\u001b[0;34m]\u001b[0m\u001b[0;34m\u001b[0m\u001b[0m\n\u001b[0;32m---> 17\u001b[0;31m \u001b[0mmRNA_peak_150_file\u001b[0m \u001b[0;34m=\u001b[0m \u001b[0mdoc\u001b[0m\u001b[0;34m[\u001b[0m\u001b[0;34m\"mRNA_peak_150_file\"\u001b[0m\u001b[0;34m]\u001b[0m\u001b[0;34m\u001b[0m\u001b[0m\n\u001b[0m\u001b[1;32m     18\u001b[0m \u001b[0msupplemental\u001b[0m \u001b[0;34m=\u001b[0m \u001b[0mdoc\u001b[0m\u001b[0;34m[\u001b[0m\u001b[0;34m\"supplemental\"\u001b[0m\u001b[0;34m]\u001b[0m\u001b[0;34m\u001b[0m\u001b[0m\n\u001b[1;32m     19\u001b[0m \u001b[0mtss_annotation\u001b[0m \u001b[0;34m=\u001b[0m \u001b[0mdoc\u001b[0m\u001b[0;34m[\u001b[0m\u001b[0;34m'tss_annotation'\u001b[0m\u001b[0;34m]\u001b[0m\u001b[0;34m\u001b[0m\u001b[0m\n",
      "\u001b[0;31mKeyError\u001b[0m: 'mRNA_peak_150_file'"
     ]
    }
   ],
   "source": [
    "## Parameters specific to where your folders are and your data\n",
    "parameter_file = 'params/params.yaml'\n",
    "import yaml\n",
    "import sys\n",
    "\n",
    "with open(parameter_file,'r') as f:\n",
    "    doc = yaml.load(f)\n",
    "\n",
    "#p = dic2obj(**doc)\n",
    "\n",
    "data_folder = doc['data_folder']\n",
    "tissues = doc['tissues'].split(',')\n",
    "sys.path.append(doc['pipeline_path'])\n",
    "ref_fa = doc['ref_fa']\n",
    "anno_gff=doc['annotation']\n",
    "mRNA_peak_file = doc[\"mRNA_peak_file\"]\n",
    "mRNA_peak_150_file = doc[\"mRNA_peak_150_file\"]\n",
    "supplemental = doc[\"supplemental\"]\n",
    "tss_annotation = doc['tss_annotation']\n",
    "\n",
    "import os\n",
    "os.chdir\n",
    "import sys\n",
    "import pandas as pd\n",
    "import matplotlib\n",
    "import seaborn as sns\n",
    "import pickle\n",
    "import numpy as np\n",
    "import matplotlib as mpl\n",
    "from matplotlib import pyplot as plt\n",
    "from itertools import product\n",
    "import glob\n",
    "import re\n",
    "from matplotlib_venn import venn2\n",
    "from matplotlib import rcParams\n",
    "import inspect\n",
    "%matplotlib inline\n",
    "%config InlineBackend.figure_format = 'retina'\n",
    "sys.setrecursionlimit(3000)\n",
    "%load_ext autoreload\n",
    "%autoreload 2\n",
    "rcParams['figure.figsize'] = 8, 6\n",
    "import tqdm\n",
    "import time\n",
    "\n",
    "from os.path import basename\n",
    "##mpl.use('Agg')\n",
    "#mpl.style.use('ggplot')\n",
    "#mpl.style.use('fivethirtyeight')\n",
    "from Homer import *\n",
    "\n",
    "print('Number of tissues: ',len(tissues))"
   ]
  },
  {
   "cell_type": "code",
   "execution_count": null,
   "metadata": {
    "ExecuteTime": {
     "end_time": "2019-01-28T19:05:19.262708Z",
     "start_time": "2019-01-28T19:05:19.228396Z"
    },
    "collapsed": true
   },
   "outputs": [],
   "source": [
    "from create_output import *"
   ]
  },
  {
   "cell_type": "code",
   "execution_count": null,
   "metadata": {
    "ExecuteTime": {
     "end_time": "2019-01-28T19:05:19.294681Z",
     "start_time": "2019-01-28T19:05:19.265287Z"
    },
    "collapsed": true
   },
   "outputs": [],
   "source": [
    "sys.path.append(\"/home/isshamie/software/homebrew/parallel_functions/\")\n",
    "import parallel_functions as pf"
   ]
  },
  {
   "cell_type": "code",
   "execution_count": null,
   "metadata": {
    "ExecuteTime": {
     "end_time": "2019-01-28T19:05:19.423352Z",
     "start_time": "2019-01-28T19:05:19.297212Z"
    },
    "collapsed": true
   },
   "outputs": [],
   "source": [
    "import motif_analysis"
   ]
  },
  {
   "cell_type": "code",
   "execution_count": null,
   "metadata": {
    "ExecuteTime": {
     "end_time": "2019-01-28T19:05:19.477575Z",
     "start_time": "2019-01-28T19:05:19.425975Z"
    },
    "scrolled": true
   },
   "outputs": [],
   "source": [
    "motif_folder = doc['motif_folder']\n",
    "motifs_of_interest = map(lambda x: os.path.basename(x).split('.')[0],glob.glob(motif_folder + '/*motif'))\n",
    "motifs_of_interest"
   ]
  },
  {
   "cell_type": "markdown",
   "metadata": {},
   "source": [
    "## Create directory"
   ]
  },
  {
   "cell_type": "code",
   "execution_count": null,
   "metadata": {
    "ExecuteTime": {
     "end_time": "2019-01-28T19:05:21.740662Z",
     "start_time": "2019-01-28T19:05:21.713643Z"
    },
    "collapsed": true
   },
   "outputs": [],
   "source": [
    "out_dir = \"Results/Figures/SuppFigure3/\"\n",
    "if not os.path.exists(out_dir):\n",
    "    os.mkdir(out_dir)"
   ]
  },
  {
   "cell_type": "markdown",
   "metadata": {},
   "source": [
    "# 2. Preprocessing"
   ]
  },
  {
   "cell_type": "markdown",
   "metadata": {},
   "source": [
    "## Create Fasta file for the output bed sequences"
   ]
  },
  {
   "cell_type": "code",
   "execution_count": null,
   "metadata": {
    "ExecuteTime": {
     "end_time": "2019-01-25T19:56:50.845821Z",
     "start_time": "2019-01-25T19:56:45.396085Z"
    }
   },
   "outputs": [],
   "source": [
    "bed_file = \"Results/output/TSS1.exp.bed\"\n",
    "out_f = os.path.join(out_dir,\"TSS1.exp.fa\")\n",
    "cmd = \"homerTools extract {bed_f} {ref_fa} -fa > {out_f}\".format(bed_f=bed_file,ref_fa=ref_fa,out_f=out_f)\n",
    "!{cmd}\n",
    "#Homer.extract_peak_sequences(bed_file,peak_list,genome,f_save,upstream=1000,downstream=100)"
   ]
  },
  {
   "cell_type": "markdown",
   "metadata": {},
   "source": [
    "## Do the same for reference. Also need to create the bed file beforehand"
   ]
  },
  {
   "cell_type": "code",
   "execution_count": null,
   "metadata": {
    "ExecuteTime": {
     "end_time": "2019-01-28T19:15:19.300129Z",
     "start_time": "2019-01-28T19:15:14.254190Z"
    },
    "scrolled": true
   },
   "outputs": [],
   "source": [
    "bed_f = \"Results/output/TSS1.exp.bed\"\n",
    "meta_f = \"Results/output/TSS1.exp.meta\"\n",
    "save_f = os.path.join(out_dir,\"TSS1.exp_refseq_centered.bed\")\n",
    "refseq_f = mRNA_peak_150_file\n",
    "exp_bed_to_refseq(bed_f, meta_f, refseq_f, save_f = save_f)\n",
    "out_f= os.path.join(out_dir,os.path.basename(save_f).replace(\".bed\",\".fa\"))\n",
    "\n",
    "cmd = \"homerTools extract {bed_f} {ref_fa} -fa > {out_f}\".format(bed_f=save_f,ref_fa=ref_fa,out_f=out_f)\n",
    "print(cmd)\n",
    "!{cmd}"
   ]
  },
  {
   "cell_type": "code",
   "execution_count": null,
   "metadata": {
    "ExecuteTime": {
     "start_time": "2019-01-25T02:42:20.016Z"
    },
    "deletable": false,
    "editable": false,
    "run_control": {
     "frozen": true
    }
   },
   "outputs": [],
   "source": [
    "motifs_of_interest = ['inr','tata', 'sp1', 'ctcf']\n",
    "motifs_of_interest = ['inr']\n",
    "fa_file = os.path.join(out_dir,\"TSS1.exp.fa\")\n",
    "f_save = 'Results/Figures/SuppFigure3/TSS_exp_instance_nonbin'\n",
    "motif_analysis.all_motifs_of_interest_instance(motifs_of_interest,fa_file,\n",
    "                                    motif_folder, f_save,\n",
    "                                    lowmem=False)"
   ]
  },
  {
   "cell_type": "markdown",
   "metadata": {},
   "source": [
    "## 3. Motif Generation"
   ]
  },
  {
   "cell_type": "markdown",
   "metadata": {},
   "source": [
    "### Experimental"
   ]
  },
  {
   "cell_type": "code",
   "execution_count": null,
   "metadata": {
    "ExecuteTime": {
     "end_time": "2019-01-25T21:13:39.627923Z",
     "start_time": "2019-01-25T19:56:50.848308Z"
    },
    "scrolled": false
   },
   "outputs": [],
   "source": [
    "t = time.time()\n",
    "motifs_of_interest = ['inr']\n",
    "fa_file = os.path.join(out_dir,\"TSS1.exp.fa\")\n",
    "\n",
    "f_save = 'Results/Figures/SuppFigure3/TSS_exp_instance_bin'\n",
    "motif_analysis.all_motifs_of_interest_instance(motifs_of_interest,fa_file,\n",
    "                                    motif_folder, f_save,\n",
    "                                    lowmem=True)\n",
    "print(t - time.time())"
   ]
  },
  {
   "cell_type": "code",
   "execution_count": null,
   "metadata": {
    "ExecuteTime": {
     "end_time": "2019-01-25T21:31:47.921916Z",
     "start_time": "2019-01-25T21:13:39.630328Z"
    },
    "scrolled": true
   },
   "outputs": [],
   "source": [
    "t = time.time()\n",
    "motifs_of_interest = ['inr']\n",
    "fa_file = os.path.join(out_dir,\"TSS1.exp.fa\")\n",
    "\n",
    "f_save = 'Results/Figures/SuppFigure3/TSS_exp_instance_nonbin'\n",
    "motif_analysis.all_motifs_of_interest_instance(motifs_of_interest,fa_file,\n",
    "                                    motif_folder, f_save,\n",
    "                                    lowmem=False)\n",
    "print(t - time.time())"
   ]
  },
  {
   "cell_type": "code",
   "execution_count": null,
   "metadata": {
    "ExecuteTime": {
     "start_time": "2019-01-26T00:51:30.067Z"
    },
    "scrolled": true
   },
   "outputs": [],
   "source": [
    "t = time.time()\n",
    "motifs_of_interest = ['inr']\n",
    "fa_file = os.path.join(out_dir,\"TSS1.exp.fa\")\n",
    "\n",
    "f_save = 'Results/Figures/SuppFigure3/TSS_exp_instance_nonbinV2'\n",
    "motif_analysis.all_motifs_of_interest_instance(motifs_of_interest,fa_file,\n",
    "                                    motif_folder, f_save,\n",
    "                                    lowmem=False)\n",
    "print(t - time.time())"
   ]
  },
  {
   "cell_type": "markdown",
   "metadata": {},
   "source": [
    "### Refseq"
   ]
  },
  {
   "cell_type": "code",
   "execution_count": null,
   "metadata": {
    "ExecuteTime": {
     "end_time": "2019-01-28T19:53:44.633354Z",
     "start_time": "2019-01-28T19:34:28.457004Z"
    },
    "scrolled": true
   },
   "outputs": [],
   "source": [
    "t = time.time()\n",
    "motifs_of_interest = ['inr']\n",
    "fa_file = os.path.join(out_dir,\"TSS1.exp_refseq_centered.fa\")\n",
    "\n",
    "f_save = 'Results/Figures/SuppFigure3/TSS1.exp_refseq_centered_instance_nonbin'\n",
    "motif_analysis.all_motifs_of_interest_instance(motifs_of_interest,fa_file,\n",
    "                                    motif_folder, f_save,\n",
    "                                    lowmem=False)\n",
    "print(time.time()-t)"
   ]
  },
  {
   "cell_type": "code",
   "execution_count": null,
   "metadata": {
    "ExecuteTime": {
     "end_time": "2019-01-25T19:10:51.483653Z",
     "start_time": "2019-01-25T19:10:51.118302Z"
    },
    "deletable": false,
    "editable": false,
    "run_control": {
     "frozen": true
    },
    "scrolled": true
   },
   "outputs": [],
   "source": [
    "inr_df = pd.read_csv(f_save+\"_inr_instance.tsv\",sep=\"\\t\",index_col=0)\n",
    "inr_df"
   ]
  },
  {
   "cell_type": "markdown",
   "metadata": {},
   "source": [
    "# 4. Plotting"
   ]
  },
  {
   "cell_type": "code",
   "execution_count": null,
   "metadata": {
    "ExecuteTime": {
     "end_time": "2019-01-28T20:57:10.245116Z",
     "start_time": "2019-01-28T20:57:10.198897Z"
    },
    "collapsed": true
   },
   "outputs": [],
   "source": [
    "from motif_analysis import *"
   ]
  },
  {
   "cell_type": "code",
   "execution_count": null,
   "metadata": {
    "ExecuteTime": {
     "end_time": "2019-01-28T21:43:30.487226Z",
     "start_time": "2019-01-28T21:43:30.245118Z"
    },
    "collapsed": true
   },
   "outputs": [],
   "source": [
    "peaks_df = read_bed_file(\"Results/output/TSS1.exp.bed\")\n",
    "peaks_df[\"Length\"] = peaks_df[\"End\"] - peaks_df[\"Start\"]\n",
    "#peaks_df.head()\n",
    "peaks_df = peaks_df[\"Length\"].to_dict()"
   ]
  },
  {
   "cell_type": "code",
   "execution_count": null,
   "metadata": {
    "ExecuteTime": {
     "end_time": "2019-01-28T21:44:15.657207Z",
     "start_time": "2019-01-28T21:44:05.249522Z"
    },
    "scrolled": false
   },
   "outputs": [],
   "source": [
    "#motifs_list = glob.glob(\"Results/Figures/SuppFigure3/*instance.p\")\n",
    "\n",
    "#pfm_list = glob.glob(os.path.join(supp_f, \"homer_motifs/*.pfm\"))\n",
    "pfm_path = os.path.join(supplemental, \"homer_motifs\")\n",
    "\n",
    "#names_list = list(map(lambda x: x.split(\"instance\")[1].replace(\"_\",\"\"), motifs_list))\n",
    "\n",
    "motifs_list = ['Results/Figures/SuppFigure3/TSS_exp_instance_nonbinV2_inr_instance.p','Results/Figures/SuppFigure3/TSS1.exp_refseq_centered_instance_nonbin_inr_instance.p']\n",
    "names_list = [\"inr\",\"inr\"]\n",
    "print(names_list)\n",
    "print(motifs_list)\n",
    "\n",
    "#peaks_df = pd.read_csv(\"Results/output/TSS1.exp.bed\",sep=\"\\t\",index_col=0)\n",
    "\n",
    "wrap_motifs(motifs_list,names_list,peaks_df,pfm_path)"
   ]
  },
  {
   "cell_type": "markdown",
   "metadata": {},
   "source": [
    "# 5. Run for more motifs"
   ]
  },
  {
   "cell_type": "code",
   "execution_count": null,
   "metadata": {
    "ExecuteTime": {
     "end_time": "2019-01-28T22:44:13.501009Z",
     "start_time": "2019-01-28T22:44:13.416891Z"
    }
   },
   "outputs": [],
   "source": [
    "glob.glob(os.path.join(motif_folder,\"*pfm\"))"
   ]
  },
  {
   "cell_type": "code",
   "execution_count": null,
   "metadata": {
    "ExecuteTime": {
     "start_time": "2019-01-28T22:46:03.495Z"
    },
    "scrolled": true
   },
   "outputs": [],
   "source": [
    "t = time.time()\n",
    "motifs_of_interest = ['tata', 'sp1', 'ctcf']\n",
    "fa_file = os.path.join(out_dir,\"TSS1.exp.fa\")\n",
    "\n",
    "f_save = 'Results/Figures/SuppFigure3/TSS_exp_instance_nonbin'\n",
    "motif_analysis.all_motifs_of_interest_instance(motifs_of_interest,fa_file,\n",
    "                                    motif_folder, f_save,\n",
    "                                    lowmem=False)\n",
    "print(time.time()-t)\n",
    "\n",
    "### Refseq\n",
    "\n",
    "t = time.time()\n",
    "\n",
    "fa_file = os.path.join(out_dir,\"TSS1.exp_refseq_centered.fa\")\n",
    "\n",
    "f_save = 'Results/Figures/SuppFigure3/TSS1.exp_refseq_centered_instance_nonbin'\n",
    "motif_analysis.all_motifs_of_interest_instance(motifs_of_interest,fa_file,\n",
    "                                    motif_folder, f_save,\n",
    "                                    lowmem=False)\n",
    "print(time.time()-t)"
   ]
  },
  {
   "cell_type": "markdown",
   "metadata": {},
   "source": [
    "## Plot"
   ]
  },
  {
   "cell_type": "code",
   "execution_count": null,
   "metadata": {
    "ExecuteTime": {
     "end_time": "2019-01-31T02:43:56.258867Z",
     "start_time": "2019-01-31T02:41:51.229661Z"
    },
    "scrolled": false
   },
   "outputs": [],
   "source": [
    "#motifs_list = glob.glob(\"Results/Figures/SuppFigure3/*instance.p\")\n",
    "\n",
    "#pfm_list = glob.glob(os.path.join(supp_f, \"homer_motifs/*.pfm\"))\n",
    "pfm_path = os.path.join(supplemental, \"homer_motifs\")\n",
    "\n",
    "#names_list = list(map(lambda x: x.split(\"instance\")[1].replace(\"_\",\"\"), motifs_list))\n",
    "\n",
    "motifs_list = ['Results/Figures/SuppFigure3/TSS_exp_instance_nonbinV2_inr_instance.p',\n",
    "               'Results/Figures/SuppFigure3/TSS1.exp_refseq_centered_instance_nonbin_inr_instance.p',\n",
    "               'Results/Figures/SuppFigure3/TSS_exp_instance_nonbin_tata_instance.p',\n",
    "               'Results/Figures/SuppFigure3/TSS1.exp_refseq_centered_instance_nonbin_tata_instance.p',\n",
    "               'Results/Figures/SuppFigure3/TSS_exp_instance_nonbin_sp1_instance.p',\n",
    "               'Results/Figures/SuppFigure3/TSS1.exp_refseq_centered_instance_nonbin_sp1_instance.p',\n",
    "               'Results/Figures/SuppFigure3/TSS_exp_instance_nonbin_ctcf_instance.p',\n",
    "               'Results/Figures/SuppFigure3/TSS1.exp_refseq_centered_instance_nonbin_ctcf_instance.p',\n",
    "              ]\n",
    "\n",
    "names_list = [\"inr exp\",\"inr ref\", 'tata exp', 'tata ref', 'sp1 exp', 'sp1 ref', 'ctcf exp', 'ctcf ref']\n",
    "motif_pfm = [os.path.join(pfm_path, \"inr.motif.pfm\"),os.path.join(pfm_path, \"inr.motif.pfm\"),\n",
    "            os.path.join(pfm_path, \"tata.motif.pfm\"),os.path.join(pfm_path, \"tata.motif.pfm\"),\n",
    "            os.path.join(pfm_path, \"sp1.motif.pfm\"),os.path.join(pfm_path, \"sp1.motif.pfm\"),\n",
    "            os.path.join(pfm_path, \"ctcf.motif.pfm\"),os.path.join(pfm_path, \"ctcf.motif.pfm\")\n",
    "            ]\n",
    "\n",
    "print(names_list)\n",
    "print(motifs_list)\n",
    "\n",
    "#peaks_df = pd.read_csv(\"Results/output/TSS1.exp.bed\",sep=\"\\t\",index_col=0)\n",
    "\n",
    "wrap_motifs(motifs_list,names_list,peaks_df,motif_pfm,out_dir=\"Results/Figures/SuppFigure3/\")"
   ]
  }
 ],
 "metadata": {
  "kernelspec": {
   "display_name": "Python 2",
   "language": "python",
   "name": "python2"
  },
  "language_info": {
   "codemirror_mode": {
    "name": "ipython",
    "version": 2
   },
   "file_extension": ".py",
   "mimetype": "text/x-python",
   "name": "python",
   "nbconvert_exporter": "python",
   "pygments_lexer": "ipython2",
   "version": "2.7.15"
  }
 },
 "nbformat": 4,
 "nbformat_minor": 2
}
