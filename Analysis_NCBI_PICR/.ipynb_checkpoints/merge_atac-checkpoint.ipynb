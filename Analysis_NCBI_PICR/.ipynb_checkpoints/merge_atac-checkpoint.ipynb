{
 "cells": [
  {
   "cell_type": "markdown",
   "metadata": {},
   "source": [
    "# Merge ATAC-seq bed files "
   ]
  },
  {
   "cell_type": "code",
   "execution_count": 1,
   "metadata": {
    "ExecuteTime": {
     "end_time": "2019-01-23T05:40:52.491147Z",
     "start_time": "2019-01-23T05:40:52.487924Z"
    },
    "collapsed": true
   },
   "outputs": [],
   "source": [
    "tissues_with_atac = ['CHO','Brain','Liver','Lung','Kidney','Spleen','BMDMwt','BMDM1hKLA']"
   ]
  },
  {
   "cell_type": "code",
   "execution_count": 2,
   "metadata": {
    "ExecuteTime": {
     "end_time": "2019-01-23T05:40:52.561320Z",
     "start_time": "2019-01-23T05:40:52.497900Z"
    },
    "collapsed": true
   },
   "outputs": [],
   "source": [
    "## Parameters specific to where your folders are and your data\n",
    "parameter_file = 'params/params.yaml'\n",
    "import yaml\n",
    "import sys\n",
    "\n",
    "with open(parameter_file,'r') as f:\n",
    "    doc = yaml.load(f)\n",
    "\n",
    "#p = dic2obj(**doc)\n",
    "\n",
    "data_folder = doc['data_folder']\n",
    "tissues = doc['tissues'].split(',')\n",
    "sys.path.append(doc['pipeline_path'])\n",
    "ref_fa = doc['ref_fa']\n",
    "annotation=doc['annotation']\n"
   ]
  },
  {
   "cell_type": "code",
   "execution_count": 3,
   "metadata": {
    "ExecuteTime": {
     "end_time": "2019-01-23T05:40:52.566224Z",
     "start_time": "2019-01-23T05:40:52.563534Z"
    },
    "collapsed": true
   },
   "outputs": [],
   "source": [
    "tss_annotation = doc['tss_annotation']"
   ]
  },
  {
   "cell_type": "code",
   "execution_count": null,
   "metadata": {
    "ExecuteTime": {
     "start_time": "2019-01-23T05:40:52.461Z"
    },
    "scrolled": false
   },
   "outputs": [
    {
     "name": "stdout",
     "output_type": "stream",
     "text": [
      "('Number of tissues: ', 13)\n"
     ]
    }
   ],
   "source": [
    "import os\n",
    "import sys\n",
    "import pandas as pd\n",
    "import matplotlib\n",
    "import seaborn as sns\n",
    "import pickle\n",
    "import numpy as np\n",
    "import matplotlib as mpl\n",
    "from matplotlib import pyplot as plt\n",
    "from itertools import product\n",
    "import glob\n",
    "import re\n",
    "from matplotlib_venn import venn2\n",
    "from matplotlib import rcParams\n",
    "import inspect\n",
    "%matplotlib inline\n",
    "%config InlineBackend.figure_format = 'retina'\n",
    "sys.setrecursionlimit(3000)\n",
    "%load_ext autoreload\n",
    "%autoreload 2\n",
    "rcParams['figure.figsize'] = 8, 6\n",
    "import tqdm\n",
    "### notebook specific configuration ###\n",
    "from os.path import basename\n",
    "#mpl.style.use('ggplot')\n",
    "mpl.style.use('fivethirtyeight')\n",
    "from cycler import cycler\n",
    "mpl.rcParams['axes.prop_cycle'] = cycler(color='bgrcmyk')\n",
    "\n",
    "from Homer import *\n",
    "\n",
    "print('Number of tissues: ',len(tissues))"
   ]
  },
  {
   "cell_type": "code",
   "execution_count": null,
   "metadata": {
    "ExecuteTime": {
     "start_time": "2019-01-23T05:40:52.462Z"
    }
   },
   "outputs": [
    {
     "name": "stdout",
     "output_type": "stream",
     "text": [
      "mergePeaks Results/ATAC_results/CHO/ATAC_ppr.naive_overlap.narrowPeak.sort Results/ATAC_results/Brain/ATAC_rep1-pr.naive_overlap.narrowPeak.sort Results/ATAC_results/Liver/ATAC_rep1-pr.naive_overlap.narrowPeak.sort Results/ATAC_results/Lung/ATAC_rep1-pr.naive_overlap.narrowPeak.sort Results/ATAC_results/Kidney/ATAC_rep1-pr.naive_overlap.narrowPeak.sort Results/ATAC_results/Spleen/ATAC_rep1-pr.naive_overlap.narrowPeak.sort Results/ATAC_results/BMDMwt/ATAC_ppr.naive_overlap.narrowPeak.sort > Results/ATAC_results/ATAC_merge.merge\n"
     ]
    }
   ],
   "source": [
    "all_bed = []\n",
    "for t in tissues_with_atac:\n",
    "    all_bed = all_bed + glob.glob(os.path.join(\"Results/ATAC_results/\",t,\"*sort\"))\n",
    "\n",
    "cmd = \"mergePeaks \" + \" \".join(all_bed) + \" > Results/ATAC_results/ATAC_merge.merge\"\n",
    "#cmd = \"bedtools merge -i \" + \" \".join(all_bed) + \" > Results/ATAC_results/ATAC_merge.bed\"\n",
    "#!{cmd}\n",
    "print(cmd)\n",
    "!{cmd}"
   ]
  },
  {
   "cell_type": "code",
   "execution_count": null,
   "metadata": {
    "ExecuteTime": {
     "start_time": "2019-01-23T05:40:52.471Z"
    }
   },
   "outputs": [],
   "source": [
    "merge_atac = pd.read_csv(\"Results/ATAC_results/ATAC_merge.merge\",sep=\"\\t\",index_col=0)\n",
    "merge_atac.sort_values([\"chr\",\"start\",\"end\",\"strand\"],inplace=True)\n",
    "merge_atac[\"strand\"] = \".\"\n",
    "merge_atac[\"Stat\"] = merge_atac[\"Stat\"].astype(int)\n",
    "merge_atac[\"ID\"] = merge_atac.index\n",
    "merge_atac = merge_atac[[\"chr\",\"start\",\"end\",\"ID\",\"Stat\",\"strand\"]]\n",
    "\n",
    "merge_atac.to_csv(\"Results/ATAC_results/ATAC_merge.bed\",index=None,header=None,sep=\"\\t\")\n",
    "merge_atac.head(100)"
   ]
  }
 ],
 "metadata": {
  "kernelspec": {
   "display_name": "Python 2",
   "language": "python",
   "name": "python2"
  },
  "language_info": {
   "codemirror_mode": {
    "name": "ipython",
    "version": 2
   },
   "file_extension": ".py",
   "mimetype": "text/x-python",
   "name": "python",
   "nbconvert_exporter": "python",
   "pygments_lexer": "ipython2",
   "version": "2.7.13"
  }
 },
 "nbformat": 4,
 "nbformat_minor": 2
}
