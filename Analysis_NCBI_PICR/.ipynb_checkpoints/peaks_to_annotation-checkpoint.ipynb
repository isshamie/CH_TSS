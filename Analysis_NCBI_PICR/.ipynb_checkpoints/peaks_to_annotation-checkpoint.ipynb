{
 "cells": [
  {
   "cell_type": "code",
   "execution_count": 1,
   "metadata": {
    "ExecuteTime": {
     "end_time": "2019-01-21T23:47:40.913301Z",
     "start_time": "2019-01-21T23:47:40.844063Z"
    },
    "collapsed": true
   },
   "outputs": [],
   "source": [
    "parameter_file = 'params/params.yaml'\n",
    "import os\n",
    "import yaml\n",
    "import sys\n",
    "import glob\n",
    "with open(parameter_file,'r') as f:\n",
    "    doc = yaml.load(f)\n",
    "\n",
    "#p = dic2obj(**doc)\n",
    "\n",
    "data_folder = doc['data_folder']\n",
    "tissues = doc['tissues'].split(',')\n",
    "sys.path.append(doc['pipeline_path'])\n",
    "ref_fa = doc['ref_fa']\n",
    "annotation=doc['annotation']\n",
    "tss_file = doc['tss_annotation']"
   ]
  },
  {
   "cell_type": "code",
   "execution_count": 2,
   "metadata": {
    "ExecuteTime": {
     "end_time": "2019-01-21T23:47:40.935925Z",
     "start_time": "2019-01-21T23:47:40.915520Z"
    },
    "collapsed": true
   },
   "outputs": [],
   "source": [
    "%load_ext autoreload\n",
    "%autoreload 2\n"
   ]
  },
  {
   "cell_type": "code",
   "execution_count": 3,
   "metadata": {
    "ExecuteTime": {
     "end_time": "2019-01-21T23:47:41.342500Z",
     "start_time": "2019-01-21T23:47:40.938105Z"
    },
    "collapsed": true
   },
   "outputs": [],
   "source": [
    "import pandas as pd"
   ]
  },
  {
   "cell_type": "code",
   "execution_count": 4,
   "metadata": {
    "ExecuteTime": {
     "end_time": "2019-01-21T23:47:42.020700Z",
     "start_time": "2019-01-21T23:47:41.344851Z"
    }
   },
   "outputs": [
    {
     "name": "stdout",
     "output_type": "stream",
     "text": [
      "('Number of tissues: ', 13)\n"
     ]
    }
   ],
   "source": [
    "import annotation\n",
    "#from Homer import *\n",
    "print('Number of tissues: ',len(tissues))"
   ]
  },
  {
   "cell_type": "code",
   "execution_count": 5,
   "metadata": {
    "ExecuteTime": {
     "end_time": "2019-01-21T23:47:42.048254Z",
     "start_time": "2019-01-21T23:47:42.022930Z"
    },
    "collapsed": true
   },
   "outputs": [],
   "source": [
    "import numpy as np"
   ]
  },
  {
   "cell_type": "markdown",
   "metadata": {},
   "source": [
    "### Create annotation"
   ]
  },
  {
   "cell_type": "markdown",
   "metadata": {},
   "source": [
    "#### Annotation file:  updated_final_sort.gff3\n",
    "#### Genome: picr.gff3"
   ]
  },
  {
   "cell_type": "code",
   "execution_count": 6,
   "metadata": {
    "ExecuteTime": {
     "end_time": "2019-01-21T23:47:42.074794Z",
     "start_time": "2019-01-21T23:47:42.051018Z"
    }
   },
   "outputs": [],
   "source": [
    "if not os.path.exists(\"Results/tss_annotation/\"):\n",
    "    os.mkdir(\"Results/tss_annotation/\")"
   ]
  },
  {
   "cell_type": "markdown",
   "metadata": {},
   "source": [
    "## Gene"
   ]
  },
  {
   "cell_type": "markdown",
   "metadata": {},
   "source": [
    "### a.\n",
    "i. introns excluded  \n",
    "ii. peak_bins [-1000,+100]"
   ]
  },
  {
   "cell_type": "code",
   "execution_count": 8,
   "metadata": {
    "ExecuteTime": {
     "end_time": "2019-01-21T23:51:28.296653Z",
     "start_time": "2019-01-21T23:51:28.270708Z"
    }
   },
   "outputs": [
    {
     "data": {
      "text/plain": [
       "'/data/isshamie/genome/ncbi_anno_103/start_site_mRNA_final.tsv'"
      ]
     },
     "execution_count": 8,
     "metadata": {},
     "output_type": "execute_result"
    }
   ],
   "source": [
    "tss_file"
   ]
  },
  {
   "cell_type": "code",
   "execution_count": null,
   "metadata": {
    "ExecuteTime": {
     "start_time": "2019-01-22T00:07:20.250Z"
    },
    "scrolled": true
   },
   "outputs": [],
   "source": [
    "%%time\n",
    "peaks_file = 'Results/merged/peaks_with_tss_distances.tsv'\n",
    "peaks_expression_file = 'Results/merged/samples.merge.peaksexpression'\n",
    "\n",
    "\n",
    "df = annotation.wrap_create_anno_centric(peaks_file, peaks_expression_file, tss_file,\n",
    "                             peak_bin=(-1000, 100), anno_col='Nearest gene',\n",
    "                             tss_df_col='gene',\n",
    "                             f_save='Results/tss_annotation/gene_df_01', allow_intron=False)\n",
    "\n"
   ]
  },
  {
   "cell_type": "markdown",
   "metadata": {
    "deletable": false,
    "editable": false,
    "run_control": {
     "frozen": true
    }
   },
   "source": [
    "### b.\n",
    "i. introns excluded  \n",
    "ii. peak_bins [-1000,+1000]"
   ]
  },
  {
   "cell_type": "code",
   "execution_count": null,
   "metadata": {
    "ExecuteTime": {
     "end_time": "2019-01-21T23:47:47.921213Z",
     "start_time": "2019-01-21T23:47:39.920Z"
    }
   },
   "outputs": [],
   "source": [
    "%%time\n",
    "peaks_file = 'Results/merged/peaks_with_tss_distances.tsv'\n",
    "peaks_expression_file = 'Results/merged/samples.merge.peaksexpression'\n",
    "\n",
    "\n",
    "df = annotation.wrap_create_anno_centric(peaks_file, peaks_expression_file, tss_file,\n",
    "                             peak_bin=(-1000, 1000), anno_col='Nearest gene',\n",
    "                             tss_df_col='gene',\n",
    "                             f_save='Results/tss_annotation/gene_df_02', allow_intron=False)\n",
    "\n"
   ]
  },
  {
   "cell_type": "markdown",
   "metadata": {},
   "source": [
    "## Txn"
   ]
  },
  {
   "cell_type": "markdown",
   "metadata": {},
   "source": [
    "### a.\n",
    "i. introns excluded  \n",
    "ii. peak_bins [-1000,+100]"
   ]
  },
  {
   "cell_type": "code",
   "execution_count": null,
   "metadata": {
    "ExecuteTime": {
     "end_time": "2019-01-21T23:47:47.925523Z",
     "start_time": "2019-01-21T23:47:39.927Z"
    },
    "collapsed": true,
    "scrolled": true
   },
   "outputs": [],
   "source": [
    "%%time\n",
    "peaks_file = 'Results/merged/peaks_with_tss_distances.tsv'\n",
    "peaks_expression_file = 'Results/merged/samples.merge.peaksexpression'\n",
    "\n",
    "\n",
    "df = annotation.wrap_create_anno_centric(peaks_file, peaks_expression_file, tss_file,\n",
    "                             peak_bin=(-1000, 100), anno_col='Nearest TSS',\n",
    "                             tss_df_col='transcript_id',\n",
    "                             f_save='Results/tss_annotation/txn_df_01', allow_intron=False)\n",
    "\n"
   ]
  },
  {
   "cell_type": "markdown",
   "metadata": {},
   "source": [
    "### b.\n",
    "i. introns excluded  \n",
    "ii. peak_bins [-1000,+1000]"
   ]
  },
  {
   "cell_type": "code",
   "execution_count": null,
   "metadata": {
    "ExecuteTime": {
     "end_time": "2019-01-21T23:47:47.926987Z",
     "start_time": "2019-01-21T23:47:39.929Z"
    },
    "collapsed": true
   },
   "outputs": [],
   "source": [
    "%%time\n",
    "peaks_file = 'Results/merged/peaks_with_tss_distances.tsv'\n",
    "peaks_expression_file = 'Results/merged/samples.merge.peaksexpression'\n",
    "\n",
    "\n",
    "df = annotation.wrap_create_anno_centric(peaks_file, peaks_expression_file, tss_file,\n",
    "                             peak_bin=(-1000, 1000), anno_col='Nearest TSS',\n",
    "                             tss_df_col='transcript_id',\n",
    "                             f_save='Results/tss_annotation/txn_df_02', allow_intron=False)\n",
    "\n"
   ]
  },
  {
   "cell_type": "code",
   "execution_count": null,
   "metadata": {
    "ExecuteTime": {
     "end_time": "2019-01-21T23:47:47.928416Z",
     "start_time": "2019-01-21T23:47:39.930Z"
    },
    "collapsed": true,
    "scrolled": true
   },
   "outputs": [],
   "source": [
    "f_in = \"Results/tss_annotation/txn_df_02.p\"\n",
    "f_mat_in = 'Results/merged/samples.merge.peaksexpression'\n",
    "f_out = 'Results/tss_annotation/txn_df_02_matrix'\n",
    "txn_df_02_matrix = annotation.df_to_TSS_expression(f_in, f_mat_in, f_out=f_out)\n",
    "txn_df_02_matrix.head()"
   ]
  }
 ],
 "metadata": {
  "kernelspec": {
   "display_name": "Python 2",
   "language": "python",
   "name": "python2"
  },
  "language_info": {
   "codemirror_mode": {
    "name": "ipython",
    "version": 2
   },
   "file_extension": ".py",
   "mimetype": "text/x-python",
   "name": "python",
   "nbconvert_exporter": "python",
   "pygments_lexer": "ipython2",
   "version": "2.7.13"
  }
 },
 "nbformat": 4,
 "nbformat_minor": 2
}
