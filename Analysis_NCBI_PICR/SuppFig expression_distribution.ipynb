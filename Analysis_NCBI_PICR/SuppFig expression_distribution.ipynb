{
 "cells": [
  {
   "cell_type": "markdown",
   "metadata": {},
   "source": [
    "## Stats to run\n",
    "Peak count distribution \n",
    "Factor A.\n",
    "-Each sample separately\n",
    "-median of merged values (similar to the output)\n",
    "\n",
    "\n",
    "Factor B.\n",
    "a. TPM (raw too?), all  \n",
    "b. RLE, all  \n",
    "c. log10TPM, all\n",
    "d. Fold over background\n",
    "c. promoters only  \n",
    "d. Seen in one replicate but not the other\n",
    "e. Seen in only one sample\n",
    "\n",
    "P-value distibution  \n",
    "a. all    \n",
    "b. promoters only  \n",
    "c. Seen in one replicate but not the other\n",
    "d. Seen in only one sample\n",
    "\n",
    "\n",
    "-Number of peaks with CPM < 1\n",
    "-Lowest number of counts seen in a peak (bottom-level)\n",
    "\n",
    "\n",
    "\n",
    "\n",
    "\n",
    "Width\n",
    "Peak 500-150-10 bp width  \n"
   ]
  }
 ],
 "metadata": {
  "kernelspec": {
   "display_name": "Python 3",
   "language": "python",
   "name": "python3"
  },
  "language_info": {
   "codemirror_mode": {
    "name": "ipython",
    "version": 2
   },
   "file_extension": ".py",
   "mimetype": "text/x-python",
   "name": "python",
   "nbconvert_exporter": "python",
   "pygments_lexer": "ipython2",
   "version": "2.7.15"
  }
 },
 "nbformat": 4,
 "nbformat_minor": 2
}
