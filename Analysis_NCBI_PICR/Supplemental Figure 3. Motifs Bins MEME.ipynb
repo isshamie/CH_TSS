{
 "cells": [
  {
   "cell_type": "markdown",
   "metadata": {},
   "source": [
    "# 1. Environment Setup"
   ]
  },
  {
   "cell_type": "code",
   "execution_count": 1,
   "metadata": {
    "ExecuteTime": {
     "end_time": "2019-03-01T01:08:18.130820Z",
     "start_time": "2019-03-01T01:08:17.250353Z"
    },
    "scrolled": true
   },
   "outputs": [
    {
     "name": "stdout",
     "output_type": "stream",
     "text": [
      "('Number of tissues: ', 13)\n"
     ]
    }
   ],
   "source": [
    "## Parameters specific to where your folders are and your data\n",
    "parameter_file = 'params/params.yaml'\n",
    "import yaml\n",
    "import sys\n",
    "\n",
    "with open(parameter_file,'r') as f:\n",
    "    doc = yaml.load(f)\n",
    "\n",
    "#p = dic2obj(**doc)\n",
    "\n",
    "data_folder = doc['data_folder']\n",
    "tissues = doc['tissues'].split(',')\n",
    "sys.path.append(doc['pipeline_path'])\n",
    "ref_fa = doc['ref_fa']\n",
    "anno_gff=doc['annotation']\n",
    "mRNA_peak_file = doc[\"mRNA_peak_file\"]\n",
    "mRNA_peak_150_file = doc[\"mRNA_peak_150_file\"]\n",
    "supplemental = doc[\"supplemental\"]\n",
    "tss_annotation = doc['tss_annotation']\n",
    "\n",
    "import os\n",
    "os.chdir\n",
    "import sys\n",
    "import pandas as pd\n",
    "import matplotlib\n",
    "import seaborn as sns\n",
    "import pickle\n",
    "import numpy as np\n",
    "import matplotlib as mpl\n",
    "from matplotlib import pyplot as plt\n",
    "from itertools import product\n",
    "import glob\n",
    "import re\n",
    "from matplotlib_venn import venn2\n",
    "from matplotlib import rcParams\n",
    "import inspect\n",
    "%matplotlib inline\n",
    "%config InlineBackend.figure_format = 'retina'\n",
    "sys.setrecursionlimit(3000)\n",
    "%load_ext autoreload\n",
    "%autoreload 2\n",
    "rcParams['figure.figsize'] = 8, 6\n",
    "import tqdm\n",
    "import time\n",
    "\n",
    "from os.path import basename\n",
    "##mpl.use('Agg')\n",
    "#mpl.style.use('ggplot')\n",
    "#mpl.style.use('fivethirtyeight')\n",
    "from Homer import *\n",
    "from create_output import *\n",
    "print('Number of tissues: ',len(tissues))"
   ]
  },
  {
   "cell_type": "code",
   "execution_count": 3,
   "metadata": {
    "ExecuteTime": {
     "end_time": "2019-03-01T01:08:18.200636Z",
     "start_time": "2019-03-01T01:08:18.158909Z"
    },
    "collapsed": true
   },
   "outputs": [],
   "source": [
    "sys.path.append(\"/home/isshamie/software/homebrew/parallel_functions/\")\n",
    "import parallel_functions as pf"
   ]
  },
  {
   "cell_type": "code",
   "execution_count": 4,
   "metadata": {
    "ExecuteTime": {
     "end_time": "2019-03-01T01:08:18.716229Z",
     "start_time": "2019-03-01T01:08:18.202826Z"
    },
    "collapsed": true
   },
   "outputs": [],
   "source": [
    "import motif_analysis"
   ]
  },
  {
   "cell_type": "markdown",
   "metadata": {},
   "source": [
    "## Create directory"
   ]
  },
  {
   "cell_type": "code",
   "execution_count": 5,
   "metadata": {
    "ExecuteTime": {
     "end_time": "2019-03-01T01:08:18.739792Z",
     "start_time": "2019-03-01T01:08:18.718235Z"
    },
    "collapsed": true
   },
   "outputs": [],
   "source": [
    "out_dir = \"Results/Figures/SuppFigure3/\"\n",
    "if not os.path.exists(out_dir):\n",
    "    os.mkdir(out_dir)"
   ]
  },
  {
   "cell_type": "code",
   "execution_count": 6,
   "metadata": {
    "ExecuteTime": {
     "end_time": "2019-03-01T01:08:18.763138Z",
     "start_time": "2019-03-01T01:08:18.741854Z"
    },
    "collapsed": true
   },
   "outputs": [],
   "source": [
    "fasta_dir = \"Results/Figures/SuppFigure3/fasta_files\"\n",
    "if not os.path.exists(fasta_dir):\n",
    "    os.mkdir(fasta_dir)"
   ]
  },
  {
   "cell_type": "markdown",
   "metadata": {},
   "source": [
    "## Motif Generation\n",
    "\n",
    "### Using FIMO"
   ]
  },
  {
   "cell_type": "markdown",
   "metadata": {},
   "source": [
    "# 1. "
   ]
  },
  {
   "cell_type": "markdown",
   "metadata": {},
   "source": [
    "## First do the TSSs used in the final output"
   ]
  },
  {
   "cell_type": "markdown",
   "metadata": {},
   "source": [
    "### Experimental"
   ]
  },
  {
   "cell_type": "code",
   "execution_count": 7,
   "metadata": {
    "ExecuteTime": {
     "end_time": "2019-03-01T01:08:28.192162Z",
     "start_time": "2019-03-01T01:08:28.168584Z"
    },
    "scrolled": true
   },
   "outputs": [
    {
     "name": "stdout",
     "output_type": "stream",
     "text": [
      "homerTools extract Results/output/TSS1.exp.bed /data/isshamie/genome/ncbi_anno_103/GCF_003668045.1_CriGri-PICR_genomic.fna -fa > Results/Figures/SuppFigure3/fasta_files/TSS1.exp.fa\n"
     ]
    }
   ],
   "source": [
    "## Get the sequence for the file\n",
    "peak_f = \"Results/output/TSS1.exp.bed\"\n",
    "seq_f = \"Results/Figures/SuppFigure3/fasta_files/TSS1.exp.fa\".format(sample=os.path.basename(peak_f))\n",
    "cmd = \"homerTools extract {peak_f} {ref_fa} -fa > {seq_f}\".format(peak_f=peak_f,seq_f=seq_f,ref_fa=ref_fa)\n",
    "!{cmd}\n",
    "print(cmd)"
   ]
  },
  {
   "cell_type": "code",
   "execution_count": 7,
   "metadata": {
    "ExecuteTime": {
     "end_time": "2019-02-16T07:20:52.124303Z",
     "start_time": "2019-02-16T07:08:14.748756Z"
    },
    "deletable": false,
    "editable": false,
    "run_control": {
     "frozen": true
    },
    "scrolled": true
   },
   "outputs": [
    {
     "name": "stdout",
     "output_type": "stream",
     "text": [
      "fimo --o Results/Figures/SuppFigure3/TSS1.exp_meme /data/isshamie/TSS/Analysis/supplemental/homer_motifs/MEME_motifs.txt Results/Figures/SuppFigure3/TSS1.exp.fa \n",
      "Using motif +ap1.motif of width 10.\n",
      "Using motif -ap1.motif of width 10.\n",
      "Computing q-values.\n",
      "Estimating pi_0 from a uniformly sampled set of 10000 p-values.\n",
      "Estimating pi_0.\n",
      "Estimated pi_0=1\n",
      "Using motif +ap2.motif of width 12.\n",
      "Using motif -ap2.motif of width 12.\n",
      "Computing q-values.\n",
      "Estimating pi_0 from a uniformly sampled set of 10000 p-values.\n",
      "Estimating pi_0.\n",
      "Estimated pi_0=0.724037\n",
      "Using motif +ap2gamma.motif of width 12.\n",
      "Using motif -ap2gamma.motif of width 12.\n",
      "Computing q-values.\n",
      "Estimating pi_0 from a uniformly sampled set of 10000 p-values.\n",
      "Estimating pi_0.\n",
      "Estimated pi_0=0.710693\n",
      "Using motif +ap4.motif of width 10.\n",
      "Using motif -ap4.motif of width 10.\n",
      "Computing q-values.\n",
      "Estimating pi_0 from a uniformly sampled set of 10000 p-values.\n",
      "Estimating pi_0.\n",
      "Estimated pi_0=0.913621\n",
      "Using motif +ar-half.motif of width 10.\n",
      "Using motif -ar-half.motif of width 10.\n",
      "Computing q-values.\n",
      "Estimating pi_0 from a uniformly sampled set of 10000 p-values.\n",
      "Estimating pi_0.\n",
      "Estimated pi_0=0.907238\n",
      "Using motif +are-fox.motif of width 20.\n",
      "Using motif -are-fox.motif of width 20.\n",
      "Computing q-values.\n",
      "Estimating pi_0 from a uniformly sampled set of 10000 p-values.\n",
      "Estimating pi_0.\n",
      "Estimated pi_0=1\n",
      "Using motif +are.motif of width 16.\n",
      "Using motif -are.motif of width 16.\n",
      "Computing q-values.\n",
      "Estimating pi_0 from a uniformly sampled set of 10000 p-values.\n",
      "Estimating pi_0.\n",
      "Estimated pi_0=0.98191\n",
      "Using motif +arnt.motif of width 10.\n",
      "Using motif -arnt.motif of width 10.\n",
      "Computing q-values.\n",
      "Estimating pi_0 from a uniformly sampled set of 10000 p-values.\n",
      "Estimating pi_0.\n",
      "Estimated pi_0=0.898095\n",
      "Using motif +ascl1.motif of width 12.\n",
      "Using motif -ascl1.motif of width 12.\n",
      "Computing q-values.\n",
      "Estimating pi_0 from a uniformly sampled set of 10000 p-values.\n",
      "Estimating pi_0.\n",
      "Estimated pi_0=0.851858\n",
      "Using motif +atf1.motif of width 10.\n",
      "Using motif -atf1.motif of width 10.\n",
      "Computing q-values.\n",
      "Estimating pi_0 from a uniformly sampled set of 10000 p-values.\n",
      "Estimating pi_0.\n",
      "Estimated pi_0=1\n",
      "Using motif +atf2.motif of width 12.\n",
      "Using motif -atf2.motif of width 12.\n",
      "Computing q-values.\n",
      "Estimating pi_0 from a uniformly sampled set of 10000 p-values.\n",
      "Estimating pi_0.\n",
      "Estimated pi_0=0.975556\n",
      "Using motif +atf3.motif of width 12.\n",
      "Using motif -atf3.motif of width 12.\n",
      "Computing q-values.\n",
      "Estimating pi_0 from a uniformly sampled set of 10000 p-values.\n",
      "Estimating pi_0.\n",
      "Estimated pi_0=1\n",
      "Using motif +atf4.motif of width 10.\n",
      "Using motif -atf4.motif of width 10.\n",
      "Computing q-values.\n",
      "Estimating pi_0 from a uniformly sampled set of 10000 p-values.\n",
      "Estimating pi_0.\n",
      "Estimated pi_0=1\n",
      "Using motif +atf7.motif of width 12.\n",
      "Using motif -atf7.motif of width 12.\n",
      "Computing q-values.\n",
      "Estimating pi_0 from a uniformly sampled set of 10000 p-values.\n",
      "Estimating pi_0.\n",
      "Estimated pi_0=0.93982\n",
      "Using motif +atoh1.motif of width 12.\n",
      "Using motif -atoh1.motif of width 12.\n",
      "Computing q-values.\n",
      "Estimating pi_0 from a uniformly sampled set of 10000 p-values.\n",
      "Estimating pi_0.\n",
      "Estimated pi_0=0.864779\n",
      "Using motif +bach1.motif of width 15.\n",
      "Using motif -bach1.motif of width 15.\n",
      "Computing q-values.\n",
      "Estimating pi_0 from a uniformly sampled set of 10000 p-values.\n",
      "Estimating pi_0.\n",
      "Estimated pi_0=1\n",
      "Using motif +bach2.motif of width 10.\n",
      "Using motif -bach2.motif of width 10.\n",
      "Computing q-values.\n",
      "Estimating pi_0 from a uniformly sampled set of 10000 p-values.\n",
      "Estimating pi_0.\n",
      "Estimated pi_0=0.987975\n",
      "Using motif +bapx1.motif of width 10.\n",
      "Using motif -bapx1.motif of width 10.\n",
      "Computing q-values.\n",
      "Estimating pi_0 from a uniformly sampled set of 10000 p-values.\n",
      "Estimating pi_0.\n",
      "Estimated pi_0=1\n",
      "Using motif +barx1.motif of width 10.\n",
      "Using motif -barx1.motif of width 10.\n",
      "Computing q-values.\n",
      "Estimating pi_0 from a uniformly sampled set of 10000 p-values.\n",
      "Estimating pi_0.\n",
      "Estimated pi_0=1\n",
      "Using motif +batf.motif of width 10.\n",
      "Using motif -batf.motif of width 10.\n",
      "Computing q-values.\n",
      "Estimating pi_0 from a uniformly sampled set of 10000 p-values.\n",
      "Estimating pi_0.\n",
      "Estimated pi_0=1\n",
      "Using motif +batf3-irf8.motif of width 15.\n",
      "Using motif -batf3-irf8.motif of width 15.\n",
      "Computing q-values.\n",
      "Estimating pi_0 from a uniformly sampled set of 10000 p-values.\n",
      "Estimating pi_0.\n",
      "Estimated pi_0=1\n",
      "Using motif +bcl6.motif of width 15.\n",
      "Using motif -bcl6.motif of width 15.\n",
      "Computing q-values.\n",
      "Estimating pi_0 from a uniformly sampled set of 10000 p-values.\n",
      "Estimating pi_0.\n",
      "Estimated pi_0=0.997487\n",
      "Using motif +bhlhe40.motif of width 10.\n",
      "Using motif -bhlhe40.motif of width 10.\n",
      "Computing q-values.\n",
      "Estimating pi_0 from a uniformly sampled set of 10000 p-values.\n",
      "Estimating pi_0.\n",
      "Estimated pi_0=0.897333\n",
      "Using motif +bmal.motif of width 8.\n",
      "Using motif -bmal.motif of width 8.\n",
      "Computing q-values.\n",
      "Estimating pi_0 from a uniformly sampled set of 10000 p-values.\n",
      "Estimating pi_0.\n",
      "Estimated pi_0=0.89\n",
      "Using motif +bmyb.motif of width 10.\n",
      "Using motif -bmyb.motif of width 10.\n",
      "Computing q-values.\n",
      "Estimating pi_0 from a uniformly sampled set of 10000 p-values.\n",
      "Estimating pi_0.\n",
      "Estimated pi_0=0.999899\n",
      "Using motif +boris.motif of width 20.\n",
      "Using motif -boris.motif of width 20.\n",
      "Computing q-values.\n",
      "Estimating pi_0 from a uniformly sampled set of 10000 p-values.\n",
      "Estimating pi_0.\n",
      "Estimated pi_0=0.663178\n",
      "Using motif +brachyury.motif of width 21.\n",
      "Using motif -brachyury.motif of width 21.\n",
      "Computing q-values.\n",
      "Estimating pi_0 from a uniformly sampled set of 10000 p-values.\n",
      "Estimating pi_0.\n",
      "Estimated pi_0=0.940696\n",
      "Using motif +brn1.motif of width 12.\n",
      "Using motif -brn1.motif of width 12.\n",
      "Computing q-values.\n",
      "Estimating pi_0 from a uniformly sampled set of 10000 p-values.\n",
      "Estimating pi_0.\n",
      "Estimated pi_0=1\n",
      "Using motif +brn2.motif of width 10.\n",
      "Using motif -brn2.motif of width 10.\n",
      "Computing q-values.\n",
      "Estimating pi_0 from a uniformly sampled set of 10000 p-values.\n",
      "Estimating pi_0.\n",
      "Estimated pi_0=1\n",
      "Using motif +bzip-irf.motif of width 18.\n",
      "Using motif -bzip-irf.motif of width 18.\n",
      "Computing q-values.\n",
      "Estimating pi_0 from a uniformly sampled set of 10000 p-values.\n",
      "Estimating pi_0.\n",
      "Estimated pi_0=1\n",
      "Using motif +cdx2.motif of width 10.\n",
      "Using motif -cdx2.motif of width 10.\n",
      "Computing q-values.\n",
      "Estimating pi_0 from a uniformly sampled set of 10000 p-values.\n",
      "Estimating pi_0.\n",
      "Estimated pi_0=1\n",
      "Using motif +cdx4.motif of width 12.\n",
      "Using motif -cdx4.motif of width 12.\n",
      "Computing q-values.\n",
      "Estimating pi_0 from a uniformly sampled set of 10000 p-values.\n",
      "Estimating pi_0.\n",
      "Estimated pi_0=1\n",
      "Using motif +cebp-ap1.motif of width 10.\n",
      "Using motif -cebp-ap1.motif of width 10.\n",
      "Computing q-values.\n",
      "Estimating pi_0 from a uniformly sampled set of 10000 p-values.\n",
      "Estimating pi_0.\n",
      "Estimated pi_0=1\n",
      "Using motif +cebp-cebp.motif of width 20.\n",
      "Using motif -cebp-cebp.motif of width 20.\n",
      "Computing q-values.\n",
      "Estimating pi_0 from a uniformly sampled set of 10000 p-values.\n",
      "Estimating pi_0.\n",
      "Estimated pi_0=1\n",
      "Using motif +cebp.motif of width 10.\n",
      "Using motif -cebp.motif of width 10.\n",
      "Computing q-values.\n",
      "Estimating pi_0 from a uniformly sampled set of 10000 p-values.\n",
      "Estimating pi_0.\n",
      "Estimated pi_0=1\n",
      "Using motif +chop.motif of width 10.\n",
      "Using motif -chop.motif of width 10.\n",
      "Computing q-values.\n",
      "Estimating pi_0 from a uniformly sampled set of 10000 p-values.\n",
      "Estimating pi_0.\n",
      "Estimated pi_0=1\n",
      "Using motif +chr.motif of width 10.\n",
      "Using motif -chr.motif of width 10.\n",
      "Computing q-values.\n",
      "Estimating pi_0 from a uniformly sampled set of 10000 p-values.\n",
      "Estimating pi_0.\n",
      "Estimated pi_0=1\n",
      "Using motif +clock.motif of width 8.\n",
      "Using motif -clock.motif of width 8.\n",
      "Computing q-values.\n",
      "Estimating pi_0 from a uniformly sampled set of 10000 p-values.\n",
      "Estimating pi_0.\n",
      "Estimated pi_0=0.874128\n",
      "Using motif +cMyc.lncap.motif of width 8.\n",
      "Using motif -cMyc.lncap.motif of width 8.\n",
      "Computing q-values.\n",
      "Estimating pi_0 from a uniformly sampled set of 10000 p-values.\n",
      "Estimating pi_0.\n",
      "Estimated pi_0=0.7894\n",
      "Using motif +cmyc.motif of width 10.\n",
      "Using motif -cmyc.motif of width 10.\n",
      "Computing q-values.\n",
      "Estimating pi_0 from a uniformly sampled set of 10000 p-values.\n",
      "Estimating pi_0.\n",
      "Estimated pi_0=0.796346\n",
      "Using motif +couptf1.motif of width 12.\n",
      "Using motif -couptf1.motif of width 12.\n",
      "Computing q-values.\n",
      "Estimating pi_0 from a uniformly sampled set of 10000 p-values.\n",
      "Estimating pi_0.\n",
      "Estimated pi_0=0.905042\n",
      "Using motif +couptf2.motif of width 8.\n",
      "Using motif -couptf2.motif of width 8.\n"
     ]
    },
    {
     "name": "stdout",
     "output_type": "stream",
     "text": [
      "Computing q-values.\n",
      "Estimating pi_0 from a uniformly sampled set of 10000 p-values.\n",
      "Estimating pi_0.\n",
      "Estimated pi_0=0.887037\n",
      "Using motif +cre.motif of width 12.\n",
      "Using motif -cre.motif of width 12.\n",
      "Computing q-values.\n",
      "Estimating pi_0 from a uniformly sampled set of 10000 p-values.\n",
      "Estimating pi_0.\n",
      "Estimated pi_0=0.739216\n",
      "Using motif +crx.motif of width 8.\n",
      "Using motif -crx.motif of width 8.\n",
      "Computing q-values.\n",
      "Estimating pi_0 from a uniformly sampled set of 10000 p-values.\n",
      "Estimating pi_0.\n",
      "Estimated pi_0=1\n",
      "Using motif +ctcf-mys.motif of width 20.\n",
      "Using motif -ctcf-mys.motif of width 20.\n",
      "Computing q-values.\n",
      "Estimating pi_0 from a uniformly sampled set of 10000 p-values.\n",
      "Estimating pi_0.\n",
      "Estimated pi_0=0.979773\n",
      "Using motif +ctcf.motif of width 20.\n",
      "Using motif -ctcf.motif of width 20.\n",
      "Computing q-values.\n",
      "Estimating pi_0 from a uniformly sampled set of 10000 p-values.\n",
      "Estimating pi_0.\n",
      "Estimated pi_0=0.786038\n",
      "Using motif +cux2.motif of width 10.\n",
      "Using motif -cux2.motif of width 10.\n",
      "Computing q-values.\n",
      "Estimating pi_0 from a uniformly sampled set of 10000 p-values.\n",
      "Estimating pi_0.\n",
      "Estimated pi_0=1\n",
      "Using motif +dmc1.motif of width 20.\n",
      "Using motif -dmc1.motif of width 20.\n",
      "Computing q-values.\n",
      "Estimating pi_0 from a uniformly sampled set of 10000 p-values.\n",
      "Estimating pi_0.\n",
      "Estimated pi_0=0.998794\n",
      "Using motif +dmrt1.motif of width 15.\n",
      "Using motif -dmrt1.motif of width 15.\n",
      "Computing q-values.\n",
      "Estimating pi_0 from a uniformly sampled set of 10000 p-values.\n",
      "Estimating pi_0.\n",
      "Estimated pi_0=1\n",
      "Using motif +dmrt6.motif of width 15.\n",
      "Using motif -dmrt6.motif of width 15.\n",
      "Computing q-values.\n",
      "Estimating pi_0 from a uniformly sampled set of 10000 p-values.\n",
      "Estimating pi_0.\n",
      "Estimated pi_0=1\n",
      "Using motif +dr0.motif of width 12.\n",
      "Using motif -dr0.motif of width 12.\n",
      "Computing q-values.\n",
      "Estimating pi_0 from a uniformly sampled set of 10000 p-values.\n",
      "Estimating pi_0.\n",
      "Estimated pi_0=0.910756\n",
      "Using motif +dr5.motif of width 18.\n",
      "Using motif -dr5.motif of width 18.\n",
      "Computing q-values.\n",
      "Estimating pi_0 from a uniformly sampled set of 10000 p-values.\n",
      "Estimating pi_0.\n",
      "Estimated pi_0=0.854609\n",
      "Using motif +dux4.motif of width 15.\n",
      "Using motif -dux4.motif of width 15.\n",
      "Computing q-values.\n",
      "Estimating pi_0 from a uniformly sampled set of 10000 p-values.\n",
      "Estimating pi_0.\n",
      "Estimated pi_0=1\n",
      "Using motif +e2a.motif of width 10.\n",
      "Using motif -e2a.motif of width 10.\n",
      "Computing q-values.\n",
      "Estimating pi_0 from a uniformly sampled set of 10000 p-values.\n",
      "Estimating pi_0.\n",
      "Estimated pi_0=0.772477\n",
      "Using motif +e2f.motif of width 12.\n",
      "Using motif -e2f.motif of width 12.\n",
      "Computing q-values.\n",
      "Estimating pi_0 from a uniformly sampled set of 10000 p-values.\n",
      "Estimating pi_0.\n",
      "Estimated pi_0=0.669903\n",
      "Using motif +e2f1.motif of width 10.\n",
      "Using motif -e2f1.motif of width 10.\n",
      "Computing q-values.\n",
      "Estimating pi_0 from a uniformly sampled set of 10000 p-values.\n",
      "Estimating pi_0.\n",
      "Estimated pi_0=0.7538\n",
      "Using motif +e2f3.motif of width 12.\n",
      "Using motif -e2f3.motif of width 12.\n",
      "Computing q-values.\n",
      "Estimating pi_0 from a uniformly sampled set of 10000 p-values.\n",
      "Estimating pi_0.\n",
      "Estimated pi_0=0.7144\n",
      "Using motif +e2f4.motif of width 10.\n",
      "Using motif -e2f4.motif of width 10.\n",
      "Computing q-values.\n",
      "Estimating pi_0 from a uniformly sampled set of 10000 p-values.\n",
      "Estimating pi_0.\n",
      "Estimated pi_0=0.696667\n",
      "Using motif +e2f6.motif of width 10.\n",
      "Using motif -e2f6.motif of width 10.\n",
      "Computing q-values.\n",
      "Estimating pi_0 from a uniformly sampled set of 10000 p-values.\n",
      "Estimating pi_0.\n",
      "Estimated pi_0=0.731456\n",
      "Using motif +e2f7.motif of width 12.\n",
      "Using motif -e2f7.motif of width 12.\n",
      "Computing q-values.\n",
      "Estimating pi_0 from a uniformly sampled set of 10000 p-values.\n",
      "Estimating pi_0.\n",
      "Estimated pi_0=0.735619\n",
      "Using motif +e47.motif of width 10.\n",
      "Using motif -e47.motif of width 10.\n",
      "Computing q-values.\n",
      "Estimating pi_0 from a uniformly sampled set of 10000 p-values.\n",
      "Estimating pi_0.\n",
      "Estimated pi_0=0.809\n",
      "Using motif +ebf-old.motif of width 12.\n",
      "Using motif -ebf-old.motif of width 12.\n",
      "Computing q-values.\n",
      "Estimating pi_0 from a uniformly sampled set of 10000 p-values.\n",
      "Estimating pi_0.\n",
      "Estimated pi_0=0.861417\n",
      "Using motif +ebf.motif of width 12.\n",
      "Using motif -ebf.motif of width 12.\n",
      "Computing q-values.\n",
      "Estimating pi_0 from a uniformly sampled set of 10000 p-values.\n",
      "Estimating pi_0.\n",
      "Estimated pi_0=0.813091\n",
      "Using motif +ebna1.motif of width 20.\n",
      "Using motif -ebna1.motif of width 20.\n",
      "Computing q-values.\n",
      "Estimating pi_0 from a uniformly sampled set of 10000 p-values.\n",
      "Estimating pi_0.\n",
      "Estimated pi_0=0.903459\n",
      "Using motif +ebox.motif of width 12.\n",
      "Using motif -ebox.motif of width 12.\n",
      "Computing q-values.\n",
      "Estimating pi_0 from a uniformly sampled set of 10000 p-values.\n",
      "Estimating pi_0.\n",
      "Estimated pi_0=0.765385\n",
      "Using motif +egr1.motif of width 10.\n",
      "Using motif -egr1.motif of width 10.\n",
      "Computing q-values.\n",
      "Estimating pi_0 from a uniformly sampled set of 10000 p-values.\n",
      "Estimating pi_0.\n",
      "Estimated pi_0=0.83254\n",
      "Using motif +egr2.motif of width 12.\n",
      "Using motif -egr2.motif of width 12.\n",
      "Computing q-values.\n",
      "Estimating pi_0 from a uniformly sampled set of 10000 p-values.\n",
      "Estimating pi_0.\n",
      "Estimated pi_0=0.802075\n",
      "Using motif +ehf.motif of width 10.\n",
      "Using motif -ehf.motif of width 10.\n",
      "Computing q-values.\n",
      "Estimating pi_0 from a uniformly sampled set of 10000 p-values.\n",
      "Estimating pi_0.\n",
      "Estimated pi_0=0.99171\n",
      "Using motif +eklf.motif of width 12.\n",
      "Using motif -eklf.motif of width 12.\n",
      "Computing q-values.\n",
      "Estimating pi_0 from a uniformly sampled set of 10000 p-values.\n",
      "Estimating pi_0.\n",
      "Estimated pi_0=0.862364\n",
      "Using motif +elf1.motif of width 10.\n",
      "Using motif -elf1.motif of width 10.\n",
      "Computing q-values.\n",
      "Estimating pi_0 from a uniformly sampled set of 10000 p-values.\n",
      "Estimating pi_0.\n",
      "Estimated pi_0=0.86713\n",
      "Using motif +elf3.motif of width 10.\n",
      "Using motif -elf3.motif of width 10.\n",
      "Computing q-values.\n",
      "Estimating pi_0 from a uniformly sampled set of 10000 p-values.\n",
      "Estimating pi_0.\n",
      "Estimated pi_0=0.996548\n",
      "Using motif +elf5.motif of width 10.\n",
      "Using motif -elf5.motif of width 10.\n",
      "Computing q-values.\n",
      "Estimating pi_0 from a uniformly sampled set of 10000 p-values.\n",
      "Estimating pi_0.\n",
      "Estimated pi_0=0.965203\n",
      "Using motif +elk1.motif of width 10.\n",
      "Using motif -elk1.motif of width 10.\n",
      "Computing q-values.\n",
      "Estimating pi_0 from a uniformly sampled set of 10000 p-values.\n",
      "Estimating pi_0.\n",
      "Estimated pi_0=0.862157\n",
      "Using motif +elk4.motif of width 10.\n",
      "Using motif -elk4.motif of width 10.\n",
      "Computing q-values.\n",
      "Estimating pi_0 from a uniformly sampled set of 10000 p-values.\n",
      "Estimating pi_0.\n",
      "Estimated pi_0=0.942615\n",
      "Using motif +eomes.motif of width 10.\n",
      "Using motif -eomes.motif of width 10.\n",
      "Computing q-values.\n",
      "Estimating pi_0 from a uniformly sampled set of 10000 p-values.\n",
      "Estimating pi_0.\n",
      "Estimated pi_0=1\n",
      "Using motif +ere.motif of width 15.\n",
      "Using motif -ere.motif of width 15.\n",
      "Computing q-values.\n",
      "Estimating pi_0 from a uniformly sampled set of 10000 p-values.\n",
      "Estimating pi_0.\n",
      "Estimated pi_0=0.92336\n",
      "Using motif +erg.motif of width 10.\n",
      "Using motif -erg.motif of width 10.\n",
      "Computing q-values.\n",
      "Estimating pi_0 from a uniformly sampled set of 10000 p-values.\n",
      "Estimating pi_0.\n",
      "Estimated pi_0=0.955362\n",
      "Using motif +erra.motif of width 10.\n",
      "Using motif -erra.motif of width 10.\n",
      "Computing q-values.\n",
      "Estimating pi_0 from a uniformly sampled set of 10000 p-values.\n",
      "Estimating pi_0.\n",
      "Estimated pi_0=0.861333\n",
      "Using motif +es.motif of width 12.\n",
      "Using motif -es.motif of width 12.\n",
      "Computing q-values.\n",
      "Estimating pi_0 from a uniformly sampled set of 10000 p-values.\n",
      "Estimating pi_0.\n",
      "Estimated pi_0=0.903649\n",
      "Using motif +esrrb.motif of width 10.\n",
      "Using motif -esrrb.motif of width 10.\n",
      "Computing q-values.\n",
      "Estimating pi_0 from a uniformly sampled set of 10000 p-values.\n",
      "Estimating pi_0.\n",
      "Estimated pi_0=0.903333\n",
      "Using motif +ets-distal.motif of width 10.\n",
      "Using motif -ets-distal.motif of width 10.\n",
      "Computing q-values.\n",
      "Estimating pi_0 from a uniformly sampled set of 10000 p-values.\n",
      "Estimating pi_0.\n",
      "Estimated pi_0=0.995736\n",
      "Using motif +ets-ebox.motif of width 12.\n",
      "Using motif -ets-ebox.motif of width 12.\n",
      "Computing q-values.\n",
      "Estimating pi_0 from a uniformly sampled set of 10000 p-values.\n",
      "Estimating pi_0.\n",
      "Estimated pi_0=0.975249\n",
      "Using motif +ets-runx.motif of width 12.\n",
      "Using motif -ets-runx.motif of width 12.\n",
      "Computing q-values.\n",
      "Estimating pi_0 from a uniformly sampled set of 10000 p-values.\n",
      "Estimating pi_0.\n",
      "Estimated pi_0=0.903652\n",
      "Using motif +ets.motif of width 10.\n",
      "Using motif -ets.motif of width 10.\n"
     ]
    },
    {
     "name": "stdout",
     "output_type": "stream",
     "text": [
      "Computing q-values.\n",
      "Estimating pi_0 from a uniformly sampled set of 10000 p-values.\n",
      "Estimating pi_0.\n",
      "Estimated pi_0=0.867965\n",
      "Using motif +ets1.motif of width 10.\n",
      "Using motif -ets1.motif of width 10.\n",
      "Computing q-values.\n",
      "Estimating pi_0 from a uniformly sampled set of 10000 p-values.\n",
      "Estimating pi_0.\n",
      "Estimated pi_0=0.948923\n",
      "Using motif +etv1.motif of width 10.\n",
      "Using motif -etv1.motif of width 10.\n",
      "Computing q-values.\n",
      "Estimating pi_0 from a uniformly sampled set of 10000 p-values.\n",
      "Estimating pi_0.\n",
      "Estimated pi_0=0.913704\n",
      "Using motif +etv2.motif of width 12.\n",
      "Using motif -etv2.motif of width 12.\n",
      "Computing q-values.\n",
      "Estimating pi_0 from a uniformly sampled set of 10000 p-values.\n",
      "Estimating pi_0.\n",
      "Estimated pi_0=0.944179\n",
      "Using motif +etv4.motif of width 10.\n",
      "Using motif -etv4.motif of width 10.\n",
      "Computing q-values.\n",
      "Estimating pi_0 from a uniformly sampled set of 10000 p-values.\n",
      "Estimating pi_0.\n",
      "Estimated pi_0=0.8292\n",
      "Using motif +ews-erg.motif of width 10.\n",
      "Using motif -ews-erg.motif of width 10.\n",
      "Computing q-values.\n",
      "Estimating pi_0 from a uniformly sampled set of 10000 p-values.\n",
      "Estimating pi_0.\n",
      "Estimated pi_0=1\n",
      "Using motif +ews-fli1.motif of width 10.\n",
      "Using motif -ews-fli1.motif of width 10.\n",
      "Computing q-values.\n",
      "Estimating pi_0 from a uniformly sampled set of 10000 p-values.\n",
      "Estimating pi_0.\n",
      "Estimated pi_0=0.991538\n",
      "Using motif +fli.motif of width 10.\n",
      "Using motif -fli.motif of width 10.\n",
      "Computing q-values.\n",
      "Estimating pi_0 from a uniformly sampled set of 10000 p-values.\n",
      "Estimating pi_0.\n",
      "Estimated pi_0=0.915504\n",
      "Using motif +fosl2.motif of width 12.\n",
      "Using motif -fosl2.motif of width 12.\n",
      "Computing q-values.\n",
      "Estimating pi_0 from a uniformly sampled set of 10000 p-values.\n",
      "Estimating pi_0.\n",
      "Estimated pi_0=1\n",
      "Using motif +fox-ebox.motif of width 17.\n",
      "Using motif -fox-ebox.motif of width 17.\n",
      "Computing q-values.\n",
      "Estimating pi_0 from a uniformly sampled set of 10000 p-values.\n",
      "Estimating pi_0.\n",
      "Estimated pi_0=1\n",
      "Using motif +foxa1.lncap.motif of width 10.\n",
      "Using motif -foxa1.lncap.motif of width 10.\n",
      "Computing q-values.\n",
      "Estimating pi_0 from a uniformly sampled set of 10000 p-values.\n",
      "Estimating pi_0.\n",
      "Estimated pi_0=1\n",
      "Using motif +foxa1.mcf7.motif of width 10.\n",
      "Using motif -foxa1.mcf7.motif of width 10.\n",
      "Computing q-values.\n",
      "Estimating pi_0 from a uniformly sampled set of 10000 p-values.\n",
      "Estimating pi_0.\n",
      "Estimated pi_0=1\n",
      "Using motif +foxa2.motif of width 12.\n",
      "Using motif -foxa2.motif of width 12.\n",
      "Computing q-values.\n",
      "Estimating pi_0 from a uniformly sampled set of 10000 p-values.\n",
      "Estimating pi_0.\n",
      "Estimated pi_0=1\n",
      "Using motif +foxa3.motif of width 15.\n",
      "Using motif -foxa3.motif of width 15.\n",
      "Computing q-values.\n",
      "Estimating pi_0 from a uniformly sampled set of 10000 p-values.\n",
      "Estimating pi_0.\n",
      "Estimated pi_0=1\n",
      "Using motif +foxf1.motif of width 12.\n",
      "Using motif -foxf1.motif of width 12.\n",
      "Computing q-values.\n",
      "Estimating pi_0 from a uniformly sampled set of 10000 p-values.\n",
      "Estimating pi_0.\n",
      "Estimated pi_0=1\n",
      "Using motif +foxh1.motif of width 12.\n",
      "Using motif -foxh1.motif of width 12.\n",
      "Computing q-values.\n",
      "Estimating pi_0 from a uniformly sampled set of 10000 p-values.\n",
      "Estimating pi_0.\n",
      "Estimated pi_0=1\n",
      "Using motif +foxk1.motif of width 10.\n",
      "Using motif -foxk1.motif of width 10.\n",
      "Computing q-values.\n",
      "Estimating pi_0 from a uniformly sampled set of 10000 p-values.\n",
      "Estimating pi_0.\n",
      "Estimated pi_0=1\n",
      "Using motif +foxk2.motif of width 12.\n",
      "Using motif -foxk2.motif of width 12.\n",
      "Computing q-values.\n",
      "Estimating pi_0 from a uniformly sampled set of 10000 p-values.\n",
      "Estimating pi_0.\n",
      "Estimated pi_0=1\n",
      "Using motif +foxl2.motif of width 12.\n",
      "Using motif -foxl2.motif of width 12.\n",
      "Computing q-values.\n",
      "Estimating pi_0 from a uniformly sampled set of 10000 p-values.\n",
      "Estimating pi_0.\n",
      "Estimated pi_0=1\n",
      "Using motif +foxm1.motif of width 10.\n",
      "Using motif -foxm1.motif of width 10.\n",
      "Computing q-values.\n",
      "Estimating pi_0 from a uniformly sampled set of 10000 p-values.\n",
      "Estimating pi_0.\n",
      "Estimated pi_0=1\n",
      "Using motif +foxo1.motif of width 8.\n",
      "Using motif -foxo1.motif of width 8.\n",
      "Computing q-values.\n",
      "Estimating pi_0 from a uniformly sampled set of 10000 p-values.\n",
      "Estimating pi_0.\n",
      "Estimated pi_0=1\n",
      "Using motif +foxo3.motif of width 8.\n",
      "Using motif -foxo3.motif of width 8.\n",
      "Computing q-values.\n",
      "Estimating pi_0 from a uniformly sampled set of 10000 p-values.\n",
      "Estimating pi_0.\n",
      "Estimated pi_0=1\n",
      "Using motif +foxp1.motif of width 12.\n",
      "Using motif -foxp1.motif of width 12.\n",
      "Computing q-values.\n",
      "Estimating pi_0 from a uniformly sampled set of 10000 p-values.\n",
      "Estimating pi_0.\n",
      "Estimated pi_0=1\n",
      "Using motif +fra1.motif of width 12.\n",
      "Using motif -fra1.motif of width 12.\n",
      "Computing q-values.\n",
      "Estimating pi_0 from a uniformly sampled set of 10000 p-values.\n",
      "Estimating pi_0.\n",
      "Estimated pi_0=1\n",
      "Using motif +fra2.motif of width 12.\n",
      "Using motif -fra2.motif of width 12.\n",
      "Computing q-values.\n",
      "Estimating pi_0 from a uniformly sampled set of 10000 p-values.\n",
      "Estimating pi_0.\n",
      "Estimated pi_0=1\n",
      "Using motif +fxr.motif of width 14.\n",
      "Using motif -fxr.motif of width 14.\n",
      "Computing q-values.\n",
      "Estimating pi_0 from a uniformly sampled set of 10000 p-values.\n",
      "Estimating pi_0.\n",
      "Estimated pi_0=0.837477\n",
      "Using motif +gabp.motif of width 10.\n",
      "Using motif -gabp.motif of width 10.\n",
      "Computing q-values.\n",
      "Estimating pi_0 from a uniformly sampled set of 10000 p-values.\n",
      "Estimating pi_0.\n",
      "Estimated pi_0=0.856481\n",
      "Using motif +gata-scl.motif of width 20.\n",
      "Using motif -gata-scl.motif of width 20.\n",
      "Computing q-values.\n",
      "Estimating pi_0 from a uniformly sampled set of 10000 p-values.\n",
      "Estimating pi_0.\n",
      "Estimated pi_0=0.932897\n",
      "Using motif +gata.motif of width 10.\n",
      "Using motif -gata.motif of width 10.\n",
      "Computing q-values.\n",
      "Estimating pi_0 from a uniformly sampled set of 10000 p-values.\n",
      "Estimating pi_0.\n",
      "Estimated pi_0=1\n",
      "Using motif +gata2.motif of width 10.\n",
      "Using motif -gata2.motif of width 10.\n",
      "Computing q-values.\n",
      "Estimating pi_0 from a uniformly sampled set of 10000 p-values.\n",
      "Estimating pi_0.\n",
      "Estimated pi_0=1\n",
      "Using motif +gata3.dr4.motif of width 15.\n",
      "Using motif -gata3.dr4.motif of width 15.\n",
      "Computing q-values.\n",
      "Estimating pi_0 from a uniformly sampled set of 10000 p-values.\n",
      "Estimating pi_0.\n",
      "Estimated pi_0=1\n",
      "Using motif +gata3.dr8.motif of width 20.\n",
      "Using motif -gata3.dr8.motif of width 20.\n",
      "Computing q-values.\n",
      "Estimating pi_0 from a uniformly sampled set of 10000 p-values.\n",
      "Estimating pi_0.\n",
      "Estimated pi_0=1\n",
      "Using motif +gata3.ir3.motif of width 20.\n",
      "Using motif -gata3.ir3.motif of width 20.\n",
      "Computing q-values.\n",
      "Estimating pi_0 from a uniformly sampled set of 10000 p-values.\n",
      "Estimating pi_0.\n",
      "Estimated pi_0=1\n",
      "Using motif +gata3.ir4.motif of width 15.\n",
      "Using motif -gata3.ir4.motif of width 15.\n",
      "Computing q-values.\n",
      "Estimating pi_0 from a uniformly sampled set of 10000 p-values.\n",
      "Estimating pi_0.\n",
      "Estimated pi_0=1\n",
      "Using motif +gata3.motif of width 8.\n",
      "Using motif -gata3.motif of width 8.\n",
      "Computing q-values.\n",
      "Estimating pi_0 from a uniformly sampled set of 10000 p-values.\n",
      "Estimating pi_0.\n",
      "Estimated pi_0=1\n",
      "Using motif +gata4.motif of width 10.\n",
      "Using motif -gata4.motif of width 10.\n",
      "Computing q-values.\n",
      "Estimating pi_0 from a uniformly sampled set of 10000 p-values.\n",
      "Estimating pi_0.\n",
      "Estimated pi_0=1\n",
      "Using motif +gata6.motif of width 10.\n",
      "Using motif -gata6.motif of width 10.\n",
      "Computing q-values.\n",
      "Estimating pi_0 from a uniformly sampled set of 10000 p-values.\n",
      "Estimating pi_0.\n",
      "Estimated pi_0=1\n",
      "Using motif +gfi1b.motif of width 10.\n",
      "Using motif -gfi1b.motif of width 10.\n",
      "Computing q-values.\n",
      "Estimating pi_0 from a uniformly sampled set of 10000 p-values.\n",
      "Estimating pi_0.\n",
      "Estimated pi_0=1\n",
      "Using motif +gfx.motif of width 12.\n",
      "Using motif -gfx.motif of width 12.\n",
      "Computing q-values.\n",
      "Estimating pi_0 from a uniformly sampled set of 10000 p-values.\n",
      "Estimating pi_0.\n",
      "Estimated pi_0=0.859619\n",
      "Using motif +gfy-staf.motif of width 20.\n",
      "Using motif -gfy-staf.motif of width 20.\n",
      "Computing q-values.\n",
      "Estimating pi_0 from a uniformly sampled set of 10000 p-values.\n",
      "Estimating pi_0.\n",
      "Estimated pi_0=0.97913\n",
      "Using motif +gfy.motif of width 12.\n",
      "Using motif -gfy.motif of width 12.\n",
      "Computing q-values.\n",
      "Estimating pi_0 from a uniformly sampled set of 10000 p-values.\n",
      "Estimating pi_0.\n",
      "Estimated pi_0=0.917612\n",
      "Using motif +gli.motif of width 12.\n",
      "Using motif -gli.motif of width 12.\n",
      "Computing q-values.\n",
      "Estimating pi_0 from a uniformly sampled set of 10000 p-values.\n",
      "Estimating pi_0.\n",
      "Estimated pi_0=0.788039\n",
      "Using motif +gre-raw.motif of width 15.\n",
      "Using motif -gre-raw.motif of width 15.\n"
     ]
    },
    {
     "name": "stdout",
     "output_type": "stream",
     "text": [
      "Computing q-values.\n",
      "Estimating pi_0 from a uniformly sampled set of 10000 p-values.\n",
      "Estimating pi_0.\n",
      "Estimated pi_0=1\n",
      "Using motif +gre.motif of width 16.\n",
      "Using motif -gre.motif of width 16.\n",
      "Computing q-values.\n",
      "Estimating pi_0 from a uniformly sampled set of 10000 p-values.\n",
      "Estimating pi_0.\n",
      "Estimated pi_0=0.961699\n",
      "Using motif +grhl2.motif of width 20.\n",
      "Using motif -grhl2.motif of width 20.\n",
      "Computing q-values.\n",
      "Estimating pi_0 from a uniformly sampled set of 10000 p-values.\n",
      "Estimating pi_0.\n",
      "Estimated pi_0=1\n",
      "Using motif +gsc.motif of width 8.\n",
      "Using motif -gsc.motif of width 8.\n",
      "Computing q-values.\n",
      "Estimating pi_0 from a uniformly sampled set of 10000 p-values.\n",
      "Estimating pi_0.\n",
      "Estimated pi_0=1\n",
      "Using motif +hand2.motif of width 15.\n",
      "Using motif -hand2.motif of width 15.\n",
      "Computing q-values.\n",
      "Estimating pi_0 from a uniformly sampled set of 10000 p-values.\n",
      "Estimating pi_0.\n",
      "Estimated pi_0=0.950563\n",
      "Using motif +heb.motif of width 10.\n",
      "Using motif -heb.motif of width 10.\n",
      "Computing q-values.\n",
      "Estimating pi_0 from a uniformly sampled set of 10000 p-values.\n",
      "Estimating pi_0.\n",
      "Estimated pi_0=0.7146\n",
      "Using motif +hif1a.motif of width 8.\n",
      "Using motif -hif1a.motif of width 8.\n",
      "Computing q-values.\n",
      "Estimating pi_0 from a uniformly sampled set of 10000 p-values.\n",
      "Estimating pi_0.\n",
      "Estimated pi_0=0.852308\n",
      "Using motif +hif1b.motif of width 8.\n",
      "Using motif -hif1b.motif of width 8.\n",
      "Computing q-values.\n",
      "Estimating pi_0 from a uniformly sampled set of 10000 p-values.\n",
      "Estimating pi_0.\n",
      "Estimated pi_0=0.945641\n",
      "Using motif +hif2a.motif of width 10.\n",
      "Using motif -hif2a.motif of width 10.\n",
      "Computing q-values.\n",
      "Estimating pi_0 from a uniformly sampled set of 10000 p-values.\n",
      "Estimating pi_0.\n",
      "Estimated pi_0=0.881154\n",
      "Using motif +hinfp.motif of width 10.\n",
      "Using motif -hinfp.motif of width 10.\n",
      "Computing q-values.\n",
      "Estimating pi_0 from a uniformly sampled set of 10000 p-values.\n",
      "Estimating pi_0.\n",
      "Estimated pi_0=0.689109\n",
      "Using motif +hlf.motif of width 10.\n",
      "Using motif -hlf.motif of width 10.\n",
      "Computing q-values.\n",
      "Estimating pi_0 from a uniformly sampled set of 10000 p-values.\n",
      "Estimating pi_0.\n",
      "Estimated pi_0=1\n",
      "Using motif +hnf1.motif of width 13.\n",
      "Using motif -hnf1.motif of width 13.\n",
      "Computing q-values.\n",
      "Estimating pi_0 from a uniformly sampled set of 10000 p-values.\n",
      "Estimating pi_0.\n",
      "Estimated pi_0=1\n",
      "Using motif +hnf1b.motif of width 12.\n",
      "Using motif -hnf1b.motif of width 12.\n",
      "Computing q-values.\n",
      "Estimating pi_0 from a uniformly sampled set of 10000 p-values.\n",
      "Estimating pi_0.\n",
      "Estimated pi_0=1\n",
      "Using motif +hnf4.motif of width 16.\n",
      "Using motif -hnf4.motif of width 16.\n",
      "Computing q-values.\n",
      "Estimating pi_0 from a uniformly sampled set of 10000 p-values.\n",
      "Estimating pi_0.\n",
      "Estimated pi_0=0.983911\n",
      "Using motif +hnf6.motif of width 10.\n",
      "Using motif -hnf6.motif of width 10.\n",
      "Computing q-values.\n",
      "Estimating pi_0 from a uniformly sampled set of 10000 p-values.\n",
      "Estimating pi_0.\n",
      "Estimated pi_0=1\n",
      "Using motif +hoxa10.motif of width 10.\n",
      "Using motif -hoxa10.motif of width 10.\n",
      "Computing q-values.\n",
      "Estimating pi_0 from a uniformly sampled set of 10000 p-values.\n",
      "Estimating pi_0.\n",
      "Estimated pi_0=1\n",
      "Using motif +hoxa11.motif of width 10.\n",
      "Using motif -hoxa11.motif of width 10.\n",
      "Computing q-values.\n",
      "Estimating pi_0 from a uniformly sampled set of 10000 p-values.\n",
      "Estimating pi_0.\n",
      "Estimated pi_0=1\n",
      "Using motif +hoxa13.motif of width 10.\n",
      "Using motif -hoxa13.motif of width 10.\n",
      "Computing q-values.\n",
      "Estimating pi_0 from a uniformly sampled set of 10000 p-values.\n",
      "Estimating pi_0.\n",
      "Estimated pi_0=1\n",
      "Using motif +hoxa2.motif of width 12.\n",
      "Using motif -hoxa2.motif of width 12.\n",
      "Computing q-values.\n",
      "Estimating pi_0 from a uniformly sampled set of 10000 p-values.\n",
      "Estimating pi_0.\n",
      "Estimated pi_0=1\n",
      "Using motif +hoxa9.motif of width 10.\n",
      "Using motif -hoxa9.motif of width 10.\n",
      "Computing q-values.\n",
      "Estimating pi_0 from a uniformly sampled set of 10000 p-values.\n",
      "Estimating pi_0.\n",
      "Estimated pi_0=1\n",
      "Using motif +hoxb13.motif of width 10.\n",
      "Using motif -hoxb13.motif of width 10.\n",
      "Computing q-values.\n",
      "Estimating pi_0 from a uniformly sampled set of 10000 p-values.\n",
      "Estimating pi_0.\n",
      "Estimated pi_0=1\n",
      "Using motif +hoxb4.motif of width 12.\n",
      "Using motif -hoxb4.motif of width 12.\n",
      "Computing q-values.\n",
      "Estimating pi_0 from a uniformly sampled set of 10000 p-values.\n",
      "Estimating pi_0.\n",
      "Estimated pi_0=1\n",
      "Using motif +hoxc9.motif of width 12.\n",
      "Using motif -hoxc9.motif of width 12.\n",
      "Computing q-values.\n",
      "Estimating pi_0 from a uniformly sampled set of 10000 p-values.\n",
      "Estimating pi_0.\n",
      "Estimated pi_0=1\n",
      "Using motif +hoxd10.motif of width 10.\n",
      "Using motif -hoxd10.motif of width 10.\n",
      "Computing q-values.\n",
      "Estimating pi_0 from a uniformly sampled set of 10000 p-values.\n",
      "Estimating pi_0.\n",
      "Estimated pi_0=1\n",
      "Using motif +hoxd11.motif of width 10.\n",
      "Using motif -hoxd11.motif of width 10.\n",
      "Computing q-values.\n",
      "Estimating pi_0 from a uniformly sampled set of 10000 p-values.\n",
      "Estimating pi_0.\n",
      "Estimated pi_0=1\n",
      "Using motif +hoxd12.motif of width 12.\n",
      "Using motif -hoxd12.motif of width 12.\n",
      "Computing q-values.\n",
      "Estimating pi_0 from a uniformly sampled set of 10000 p-values.\n",
      "Estimating pi_0.\n",
      "Estimated pi_0=1\n",
      "Using motif +hoxd13.motif of width 10.\n",
      "Using motif -hoxd13.motif of width 10.\n",
      "Computing q-values.\n",
      "Estimating pi_0 from a uniformly sampled set of 10000 p-values.\n",
      "Estimating pi_0.\n",
      "Estimated pi_0=1\n",
      "Using motif +hsf.motif of width 15.\n",
      "Using motif -hsf.motif of width 15.\n",
      "Computing q-values.\n",
      "Estimating pi_0 from a uniformly sampled set of 10000 p-values.\n",
      "Estimating pi_0.\n",
      "Estimated pi_0=0.999799\n",
      "Using motif +hsf1.motif of width 20.\n",
      "Using motif -hsf1.motif of width 20.\n",
      "Computing q-values.\n",
      "Estimating pi_0 from a uniformly sampled set of 10000 p-values.\n",
      "Estimating pi_0.\n",
      "Estimated pi_0=0.841165\n",
      "Using motif +inr.motif of width 8.\n",
      "Using motif -inr.motif of width 8.\n",
      "Computing q-values.\n",
      "Estimating pi_0 from a uniformly sampled set of 10000 p-values.\n",
      "Estimating pi_0.\n",
      "Estimated pi_0=0.956608\n",
      "Using motif +irf1.motif of width 12.\n",
      "Using motif -irf1.motif of width 12.\n",
      "Computing q-values.\n",
      "Estimating pi_0 from a uniformly sampled set of 10000 p-values.\n",
      "Estimating pi_0.\n",
      "Estimated pi_0=0.998291\n",
      "Using motif +irf2.motif of width 12.\n",
      "Using motif -irf2.motif of width 12.\n",
      "Computing q-values.\n",
      "Estimating pi_0 from a uniformly sampled set of 10000 p-values.\n",
      "Estimating pi_0.\n",
      "Estimated pi_0=0.922545\n",
      "Using motif +irf3.motif of width 12.\n",
      "Using motif -irf3.motif of width 12.\n",
      "Computing q-values.\n",
      "Estimating pi_0 from a uniformly sampled set of 10000 p-values.\n",
      "Estimating pi_0.\n",
      "Estimated pi_0=0.998593\n",
      "Using motif +irf4.motif of width 10.\n",
      "Using motif -irf4.motif of width 10.\n",
      "Computing q-values.\n",
      "Estimating pi_0 from a uniformly sampled set of 10000 p-values.\n",
      "Estimating pi_0.\n",
      "Estimated pi_0=1\n",
      "Using motif +irf8.motif of width 12.\n",
      "Using motif -irf8.motif of width 12.\n",
      "Computing q-values.\n",
      "Estimating pi_0 from a uniformly sampled set of 10000 p-values.\n",
      "Estimating pi_0.\n",
      "Estimated pi_0=0.998291\n",
      "Using motif +isl1.motif of width 8.\n",
      "Using motif -isl1.motif of width 8.\n",
      "Computing q-values.\n",
      "Estimating pi_0 from a uniformly sampled set of 10000 p-values.\n",
      "Estimating pi_0.\n",
      "Estimated pi_0=1\n",
      "Using motif +isre.motif of width 12.\n",
      "Using motif -isre.motif of width 12.\n",
      "Computing q-values.\n",
      "Estimating pi_0 from a uniformly sampled set of 10000 p-values.\n",
      "Estimating pi_0.\n",
      "Estimated pi_0=0.999397\n",
      "Using motif +jun-ap1.motif of width 12.\n",
      "Using motif -jun-ap1.motif of width 12.\n",
      "Computing q-values.\n",
      "Estimating pi_0 from a uniformly sampled set of 10000 p-values.\n",
      "Estimating pi_0.\n",
      "Estimated pi_0=1\n",
      "Using motif +jun-cre.motif of width 12.\n",
      "Using motif -jun-cre.motif of width 12.\n",
      "Computing q-values.\n",
      "Estimating pi_0 from a uniformly sampled set of 10000 p-values.\n",
      "Estimating pi_0.\n",
      "Estimated pi_0=0.981667\n",
      "Using motif +junb.motif of width 10.\n",
      "Using motif -junb.motif of width 10.\n",
      "Computing q-values.\n",
      "Estimating pi_0 from a uniformly sampled set of 10000 p-values.\n",
      "Estimating pi_0.\n",
      "Estimated pi_0=1\n",
      "Using motif +jund.motif of width 12.\n",
      "Using motif -jund.motif of width 12.\n",
      "Computing q-values.\n",
      "Estimating pi_0 from a uniformly sampled set of 10000 p-values.\n",
      "Estimating pi_0.\n",
      "Estimated pi_0=1\n",
      "Using motif +klf10.motif of width 12.\n",
      "Using motif -klf10.motif of width 12.\n",
      "Computing q-values.\n",
      "Estimating pi_0 from a uniformly sampled set of 10000 p-values.\n",
      "Estimating pi_0.\n",
      "Estimated pi_0=0.830517\n",
      "Using motif +klf14.motif of width 12.\n",
      "Using motif -klf14.motif of width 12.\n"
     ]
    },
    {
     "name": "stdout",
     "output_type": "stream",
     "text": [
      "Computing q-values.\n",
      "Estimating pi_0 from a uniformly sampled set of 10000 p-values.\n",
      "Estimating pi_0.\n",
      "Estimated pi_0=0.791532\n",
      "Using motif +klf3.motif of width 15.\n",
      "Using motif -klf3.motif of width 15.\n",
      "Computing q-values.\n",
      "Estimating pi_0 from a uniformly sampled set of 10000 p-values.\n",
      "Estimating pi_0.\n",
      "Estimated pi_0=0.778667\n",
      "Using motif +klf4.motif of width 10.\n",
      "Using motif -klf4.motif of width 10.\n",
      "Computing q-values.\n",
      "Estimating pi_0 from a uniformly sampled set of 10000 p-values.\n",
      "Estimating pi_0.\n",
      "Estimated pi_0=0.808713\n",
      "Using motif +klf5.motif of width 10.\n",
      "Using motif -klf5.motif of width 10.\n",
      "Computing q-values.\n",
      "Estimating pi_0 from a uniformly sampled set of 10000 p-values.\n",
      "Estimating pi_0.\n",
      "Estimated pi_0=0.826964\n",
      "Using motif +klf6.motif of width 12.\n",
      "Using motif -klf6.motif of width 12.\n",
      "Computing q-values.\n",
      "Estimating pi_0 from a uniformly sampled set of 10000 p-values.\n",
      "Estimating pi_0.\n",
      "Estimated pi_0=0.771852\n",
      "Using motif +klf9.motif of width 12.\n",
      "Using motif -klf9.motif of width 12.\n",
      "Computing q-values.\n",
      "Estimating pi_0 from a uniformly sampled set of 10000 p-values.\n",
      "Estimating pi_0.\n",
      "Estimated pi_0=0.780556\n",
      "Using motif +lef1.motif of width 10.\n",
      "Using motif -lef1.motif of width 10.\n",
      "Computing q-values.\n",
      "Estimating pi_0 from a uniformly sampled set of 10000 p-values.\n",
      "Estimating pi_0.\n",
      "Estimated pi_0=1\n",
      "Using motif +lhx1.motif of width 10.\n",
      "Using motif -lhx1.motif of width 10.\n",
      "Computing q-values.\n",
      "Estimating pi_0 from a uniformly sampled set of 10000 p-values.\n",
      "Estimating pi_0.\n",
      "Estimated pi_0=1\n",
      "Using motif +lhx2.motif of width 8.\n",
      "Using motif -lhx2.motif of width 8.\n",
      "Computing q-values.\n",
      "Estimating pi_0 from a uniformly sampled set of 10000 p-values.\n",
      "Estimating pi_0.\n",
      "Estimated pi_0=1\n",
      "Using motif +lhx3.motif of width 10.\n",
      "Using motif -lhx3.motif of width 10.\n",
      "Computing q-values.\n",
      "Estimating pi_0 from a uniformly sampled set of 10000 p-values.\n",
      "Estimating pi_0.\n",
      "Estimated pi_0=1\n",
      "Using motif +limb.motif of width 10.\n",
      "Using motif -limb.motif of width 10.\n",
      "Computing q-values.\n",
      "Estimating pi_0 from a uniformly sampled set of 10000 p-values.\n",
      "Estimating pi_0.\n",
      "Estimated pi_0=1\n",
      "Using motif +lrf.motif of width 10.\n",
      "Using motif -lrf.motif of width 10.\n",
      "Computing q-values.\n",
      "Estimating pi_0 from a uniformly sampled set of 10000 p-values.\n",
      "Estimating pi_0.\n",
      "Estimated pi_0=0.756814\n",
      "Using motif +lrh1.motif of width 10.\n",
      "Using motif -lrh1.motif of width 10.\n",
      "Computing q-values.\n",
      "Estimating pi_0 from a uniformly sampled set of 10000 p-values.\n",
      "Estimating pi_0.\n",
      "Estimated pi_0=0.950069\n",
      "Using motif +lxre.motif of width 16.\n",
      "Using motif -lxre.motif of width 16.\n",
      "Computing q-values.\n",
      "Estimating pi_0 from a uniformly sampled set of 10000 p-values.\n",
      "Estimating pi_0.\n",
      "Estimated pi_0=0.985625\n",
      "Using motif +mafa.motif of width 10.\n",
      "Using motif -mafa.motif of width 10.\n",
      "Computing q-values.\n",
      "Estimating pi_0 from a uniformly sampled set of 10000 p-values.\n",
      "Estimating pi_0.\n",
      "Estimated pi_0=0.931095\n",
      "Using motif +mafb.motif of width 20.\n",
      "Using motif -mafb.motif of width 20.\n",
      "Computing q-values.\n",
      "Estimating pi_0 from a uniformly sampled set of 10000 p-values.\n",
      "Estimating pi_0.\n",
      "Estimated pi_0=0.998995\n",
      "Using motif +mafF.motif of width 15.\n",
      "Using motif -mafF.motif of width 15.\n",
      "Computing q-values.\n",
      "Estimating pi_0 from a uniformly sampled set of 10000 p-values.\n",
      "Estimating pi_0.\n",
      "Estimated pi_0=1\n",
      "Using motif +mafk.motif of width 12.\n",
      "Using motif -mafk.motif of width 12.\n",
      "Computing q-values.\n",
      "Estimating pi_0 from a uniformly sampled set of 10000 p-values.\n",
      "Estimating pi_0.\n",
      "Estimated pi_0=0.981739\n",
      "Using motif +max.motif of width 12.\n",
      "Using motif -max.motif of width 12.\n",
      "Computing q-values.\n",
      "Estimating pi_0 from a uniformly sampled set of 10000 p-values.\n",
      "Estimating pi_0.\n",
      "Estimated pi_0=0.891071\n",
      "Using motif +maz.motif of width 8.\n",
      "Using motif -maz.motif of width 8.\n",
      "Computing q-values.\n",
      "Estimating pi_0 from a uniformly sampled set of 10000 p-values.\n",
      "Estimating pi_0.\n",
      "Estimated pi_0=0.723571\n",
      "Using motif +mef2a.motif of width 10.\n",
      "Using motif -mef2a.motif of width 10.\n",
      "Computing q-values.\n",
      "Estimating pi_0 from a uniformly sampled set of 10000 p-values.\n",
      "Estimating pi_0.\n",
      "Estimated pi_0=1\n",
      "Using motif +mef2b.motif of width 12.\n",
      "Using motif -mef2b.motif of width 12.\n",
      "Computing q-values.\n",
      "Estimating pi_0 from a uniformly sampled set of 10000 p-values.\n",
      "Estimating pi_0.\n",
      "Estimated pi_0=1\n",
      "Using motif +mef2c.motif of width 12.\n",
      "Using motif -mef2c.motif of width 12.\n",
      "Computing q-values.\n",
      "Estimating pi_0 from a uniformly sampled set of 10000 p-values.\n",
      "Estimating pi_0.\n",
      "Estimated pi_0=1\n",
      "Using motif +mef2d.motif of width 12.\n",
      "Using motif -mef2d.motif of width 12.\n",
      "Computing q-values.\n",
      "Estimating pi_0 from a uniformly sampled set of 10000 p-values.\n",
      "Estimating pi_0.\n",
      "Estimated pi_0=1\n",
      "Using motif +meis1.motif of width 10.\n",
      "Using motif -meis1.motif of width 10.\n",
      "Computing q-values.\n",
      "Estimating pi_0 from a uniformly sampled set of 10000 p-values.\n",
      "Estimating pi_0.\n",
      "Estimated pi_0=0.884182\n",
      "Using motif +mitf.motif of width 10.\n",
      "Using motif -mitf.motif of width 10.\n",
      "Computing q-values.\n",
      "Estimating pi_0 from a uniformly sampled set of 10000 p-values.\n",
      "Estimating pi_0.\n",
      "Estimated pi_0=0.879048\n",
      "Using motif +mnt.motif of width 10.\n",
      "Using motif -mnt.motif of width 10.\n",
      "Computing q-values.\n",
      "Estimating pi_0 from a uniformly sampled set of 10000 p-values.\n",
      "Estimating pi_0.\n",
      "Estimated pi_0=0.892475\n",
      "Using motif +myb.motif of width 8.\n",
      "Using motif -myb.motif of width 8.\n",
      "Computing q-values.\n",
      "Estimating pi_0 from a uniformly sampled set of 10000 p-values.\n",
      "Estimating pi_0.\n",
      "Estimated pi_0=0.913\n",
      "Using motif +myba.motif of width 10.\n",
      "Using motif -myba.motif of width 10.\n",
      "Computing q-values.\n",
      "Estimating pi_0 from a uniformly sampled set of 10000 p-values.\n",
      "Estimating pi_0.\n",
      "Estimated pi_0=0.96438\n",
      "Using motif +myf5.motif of width 10.\n",
      "Using motif -myf5.motif of width 10.\n",
      "Computing q-values.\n",
      "Estimating pi_0 from a uniformly sampled set of 10000 p-values.\n",
      "Estimating pi_0.\n",
      "Estimated pi_0=0.883697\n",
      "Using motif +mynn.motif of width 15.\n",
      "Using motif -mynn.motif of width 15.\n",
      "Computing q-values.\n",
      "Estimating pi_0 from a uniformly sampled set of 10000 p-values.\n",
      "Estimating pi_0.\n",
      "Estimated pi_0=1\n",
      "Using motif +myod.motif of width 12.\n",
      "Using motif -myod.motif of width 12.\n",
      "Computing q-values.\n",
      "Estimating pi_0 from a uniformly sampled set of 10000 p-values.\n",
      "Estimating pi_0.\n",
      "Estimated pi_0=0.875252\n",
      "Using motif +myog.motif of width 8.\n",
      "Using motif -myog.motif of width 8.\n",
      "Computing q-values.\n",
      "Estimating pi_0 from a uniformly sampled set of 10000 p-values.\n",
      "Estimating pi_0.\n",
      "Estimated pi_0=0.877431\n",
      "Using motif +nanog.motif of width 10.\n",
      "Using motif -nanog.motif of width 10.\n",
      "Computing q-values.\n",
      "Estimating pi_0 from a uniformly sampled set of 10000 p-values.\n",
      "Estimating pi_0.\n",
      "Estimated pi_0=1\n",
      "Using motif +neurod1.motif of width 10.\n",
      "Using motif -neurod1.motif of width 10.\n",
      "Computing q-values.\n",
      "Estimating pi_0 from a uniformly sampled set of 10000 p-values.\n",
      "Estimating pi_0.\n",
      "Estimated pi_0=0.891724\n",
      "Using motif +neurog2.motif of width 10.\n",
      "Using motif -neurog2.motif of width 10.\n",
      "Computing q-values.\n",
      "Estimating pi_0 from a uniformly sampled set of 10000 p-values.\n",
      "Estimating pi_0.\n",
      "Estimated pi_0=0.93875\n",
      "Using motif +nf1-fox.motif of width 16.\n",
      "Using motif -nf1-fox.motif of width 16.\n",
      "Computing q-values.\n",
      "Estimating pi_0 from a uniformly sampled set of 10000 p-values.\n",
      "Estimating pi_0.\n",
      "Estimated pi_0=1\n",
      "Using motif +nf1-half.motif of width 8.\n",
      "Using motif -nf1-half.motif of width 8.\n",
      "Computing q-values.\n",
      "Estimating pi_0 from a uniformly sampled set of 10000 p-values.\n",
      "Estimating pi_0.\n",
      "Estimated pi_0=0.831089\n",
      "Using motif +nf1.motif of width 16.\n",
      "Using motif -nf1.motif of width 16.\n",
      "Computing q-values.\n",
      "Estimating pi_0 from a uniformly sampled set of 10000 p-values.\n",
      "Estimating pi_0.\n",
      "Estimated pi_0=0.837117\n",
      "Using motif +nfat-ap1.motif of width 20.\n",
      "Using motif -nfat-ap1.motif of width 20.\n",
      "Computing q-values.\n",
      "Estimating pi_0 from a uniformly sampled set of 10000 p-values.\n",
      "Estimating pi_0.\n",
      "Estimated pi_0=0.99899\n",
      "Using motif +nfatc1.motif of width 10.\n",
      "Using motif -nfatc1.motif of width 10.\n",
      "Computing q-values.\n",
      "Estimating pi_0 from a uniformly sampled set of 10000 p-values.\n",
      "Estimating pi_0.\n",
      "Estimated pi_0=1\n",
      "Using motif +nfe2.motif of width 12.\n",
      "Using motif -nfe2.motif of width 12.\n",
      "Computing q-values.\n",
      "Estimating pi_0 from a uniformly sampled set of 10000 p-values.\n",
      "Estimating pi_0.\n",
      "Estimated pi_0=0.998794\n",
      "Using motif +nfe2l2.motif of width 15.\n",
      "Using motif -nfe2l2.motif of width 15.\n"
     ]
    },
    {
     "name": "stdout",
     "output_type": "stream",
     "text": [
      "Computing q-values.\n",
      "Estimating pi_0 from a uniformly sampled set of 10000 p-values.\n",
      "Estimating pi_0.\n",
      "Estimated pi_0=1\n",
      "Using motif +nfil3.motif of width 15.\n",
      "Using motif -nfil3.motif of width 15.\n",
      "Computing q-values.\n",
      "Estimating pi_0 from a uniformly sampled set of 10000 p-values.\n",
      "Estimating pi_0.\n",
      "Estimated pi_0=1\n",
      "Using motif +nfkb.motif of width 10.\n",
      "Using motif -nfkb.motif of width 10.\n",
      "Computing q-values.\n",
      "Estimating pi_0 from a uniformly sampled set of 10000 p-values.\n",
      "Estimating pi_0.\n",
      "Estimated pi_0=0.999497\n",
      "Using motif +nfy.motif of width 10.\n",
      "Using motif -nfy.motif of width 10.\n",
      "Computing q-values.\n",
      "Estimating pi_0 from a uniformly sampled set of 10000 p-values.\n",
      "Estimating pi_0.\n",
      "Estimated pi_0=0.887921\n",
      "Using motif +nkx2.1.motif of width 10.\n",
      "Using motif -nkx2.1.motif of width 10.\n",
      "Computing q-values.\n",
      "Estimating pi_0 from a uniformly sampled set of 10000 p-values.\n",
      "Estimating pi_0.\n",
      "Estimated pi_0=0.999095\n",
      "Using motif +nkx2.2.motif of width 10.\n",
      "Using motif -nkx2.2.motif of width 10.\n",
      "Computing q-values.\n",
      "Estimating pi_0 from a uniformly sampled set of 10000 p-values.\n",
      "Estimating pi_0.\n",
      "Estimated pi_0=0.966225\n",
      "Using motif +nkx2.5.motif of width 10.\n",
      "Using motif -nkx2.5.motif of width 10.\n",
      "Computing q-values.\n",
      "Estimating pi_0 from a uniformly sampled set of 10000 p-values.\n",
      "Estimating pi_0.\n",
      "Estimated pi_0=0.995773\n",
      "Using motif +nkx3.1.motif of width 10.\n",
      "Using motif -nkx3.1.motif of width 10.\n",
      "Computing q-values.\n",
      "Estimating pi_0 from a uniformly sampled set of 10000 p-values.\n",
      "Estimating pi_0.\n",
      "Estimated pi_0=0.999188\n",
      "Using motif +nkx6.1.motif of width 8.\n",
      "Using motif -nkx6.1.motif of width 8.\n",
      "Computing q-values.\n",
      "Estimating pi_0 from a uniformly sampled set of 10000 p-values.\n",
      "Estimating pi_0.\n",
      "Estimated pi_0=1\n",
      "Using motif +nmyc.motif of width 10.\n",
      "Using motif -nmyc.motif of width 10.\n",
      "Computing q-values.\n",
      "Estimating pi_0 from a uniformly sampled set of 10000 p-values.\n",
      "Estimating pi_0.\n",
      "Estimated pi_0=0.783137\n",
      "Using motif +npas.motif of width 8.\n",
      "Using motif -npas.motif of width 8.\n",
      "Computing q-values.\n",
      "Estimating pi_0 from a uniformly sampled set of 10000 p-values.\n",
      "Estimating pi_0.\n",
      "Estimated pi_0=0.889739\n",
      "Using motif +npas2.motif of width 10.\n",
      "Using motif -npas2.motif of width 10.\n",
      "Computing q-values.\n",
      "Estimating pi_0 from a uniformly sampled set of 10000 p-values.\n",
      "Estimating pi_0.\n",
      "Estimated pi_0=0.913158\n",
      "Using motif +nr2f6.motif of width 12.\n",
      "Using motif -nr2f6.motif of width 12.\n",
      "Computing q-values.\n",
      "Estimating pi_0 from a uniformly sampled set of 10000 p-values.\n",
      "Estimating pi_0.\n",
      "Estimated pi_0=0.869464\n",
      "Using motif +nr5a2.motif of width 10.\n",
      "Using motif -nr5a2.motif of width 10.\n",
      "Computing q-values.\n",
      "Estimating pi_0 from a uniformly sampled set of 10000 p-values.\n",
      "Estimating pi_0.\n",
      "Estimated pi_0=0.940758\n",
      "Using motif +nrf.motif of width 12.\n",
      "Using motif -nrf.motif of width 12.\n",
      "Computing q-values.\n",
      "Estimating pi_0 from a uniformly sampled set of 10000 p-values.\n",
      "Estimating pi_0.\n",
      "Estimated pi_0=0.721379\n",
      "Using motif +nrf1.motif of width 12.\n",
      "Using motif -nrf1.motif of width 12.\n",
      "Computing q-values.\n",
      "Estimating pi_0 from a uniformly sampled set of 10000 p-values.\n",
      "Estimating pi_0.\n",
      "Estimated pi_0=0.678614\n",
      "Using motif +nrf2.motif of width 12.\n",
      "Using motif -nrf2.motif of width 12.\n",
      "Computing q-values.\n",
      "Estimating pi_0 from a uniformly sampled set of 10000 p-values.\n",
      "Estimating pi_0.\n",
      "Estimated pi_0=0.987857\n",
      "Using motif +nur77.motif of width 12.\n",
      "Using motif -nur77.motif of width 12.\n",
      "Computing q-values.\n",
      "Estimating pi_0 from a uniformly sampled set of 10000 p-values.\n",
      "Estimating pi_0.\n",
      "Estimated pi_0=1\n",
      "Using motif +oct-oct.motif of width 15.\n",
      "Using motif -oct-oct.motif of width 15.\n",
      "Computing q-values.\n",
      "Estimating pi_0 from a uniformly sampled set of 10000 p-values.\n",
      "Estimating pi_0.\n",
      "Estimated pi_0=1\n",
      "Using motif +oct-oct.short.motif of width 15.\n",
      "Using motif -oct-oct.short.motif of width 15.\n",
      "Computing q-values.\n",
      "Estimating pi_0 from a uniformly sampled set of 10000 p-values.\n",
      "Estimating pi_0.\n",
      "Estimated pi_0=1\n",
      "Using motif +oct.ir.motif of width 15.\n",
      "Using motif -oct.ir.motif of width 15.\n",
      "Computing q-values.\n",
      "Estimating pi_0 from a uniformly sampled set of 10000 p-values.\n",
      "Estimating pi_0.\n",
      "Estimated pi_0=1\n",
      "Using motif +oct.ir1.motif of width 15.\n",
      "Using motif -oct.ir1.motif of width 15.\n",
      "Computing q-values.\n",
      "Estimating pi_0 from a uniformly sampled set of 10000 p-values.\n",
      "Estimating pi_0.\n",
      "Estimated pi_0=1\n",
      "Using motif +oct2.motif of width 10.\n",
      "Using motif -oct2.motif of width 10.\n",
      "Computing q-values.\n",
      "Estimating pi_0 from a uniformly sampled set of 10000 p-values.\n",
      "Estimating pi_0.\n",
      "Estimated pi_0=1\n",
      "Using motif +oct4-sox17.motif of width 15.\n",
      "Using motif -oct4-sox17.motif of width 15.\n",
      "Computing q-values.\n",
      "Estimating pi_0 from a uniformly sampled set of 10000 p-values.\n",
      "Estimating pi_0.\n",
      "Estimated pi_0=1\n",
      "Using motif +oct4-sox2.motif of width 15.\n",
      "Using motif -oct4-sox2.motif of width 15.\n",
      "Computing q-values.\n",
      "Estimating pi_0 from a uniformly sampled set of 10000 p-values.\n",
      "Estimating pi_0.\n",
      "Estimated pi_0=1\n",
      "Using motif +oct4.motif of width 10.\n",
      "Using motif -oct4.motif of width 10.\n",
      "Computing q-values.\n",
      "Estimating pi_0 from a uniformly sampled set of 10000 p-values.\n",
      "Estimating pi_0.\n",
      "Estimated pi_0=1\n",
      "Using motif +oct6.motif of width 12.\n",
      "Using motif -oct6.motif of width 12.\n",
      "Computing q-values.\n",
      "Estimating pi_0 from a uniformly sampled set of 10000 p-values.\n",
      "Estimating pi_0.\n",
      "Estimated pi_0=1\n",
      "Using motif +olig2.motif of width 10.\n",
      "Using motif -olig2.motif of width 10.\n",
      "Computing q-values.\n",
      "Estimating pi_0 from a uniformly sampled set of 10000 p-values.\n",
      "Estimating pi_0.\n",
      "Estimated pi_0=0.985165\n",
      "Using motif +otx2.motif of width 10.\n",
      "Using motif -otx2.motif of width 10.\n",
      "Computing q-values.\n",
      "Estimating pi_0 from a uniformly sampled set of 10000 p-values.\n",
      "Estimating pi_0.\n",
      "Estimated pi_0=1\n",
      "Using motif +p50.motif of width 12.\n",
      "Using motif -p50.motif of width 12.\n",
      "Computing q-values.\n",
      "Estimating pi_0 from a uniformly sampled set of 10000 p-values.\n",
      "Estimating pi_0.\n",
      "Estimated pi_0=0.753465\n",
      "Using motif +p53-myc.motif of width 14.\n",
      "Using motif -p53-myc.motif of width 14.\n",
      "Computing q-values.\n",
      "Estimating pi_0 from a uniformly sampled set of 10000 p-values.\n",
      "Estimating pi_0.\n",
      "Estimated pi_0=0.847368\n",
      "Using motif +p53.motif of width 20.\n",
      "Using motif -p53.motif of width 20.\n",
      "Computing q-values.\n",
      "Estimating pi_0 from a uniformly sampled set of 10000 p-values.\n",
      "Estimating pi_0.\n",
      "Estimated pi_0=0.959371\n",
      "Using motif +p63.motif of width 20.\n",
      "Using motif -p63.motif of width 20.\n",
      "Computing q-values.\n",
      "Estimating pi_0 from a uniformly sampled set of 10000 p-values.\n",
      "Estimating pi_0.\n",
      "Estimated pi_0=0.948874\n",
      "Using motif +p65.motif of width 12.\n",
      "Using motif -p65.motif of width 12.\n",
      "Computing q-values.\n",
      "Estimating pi_0 from a uniformly sampled set of 10000 p-values.\n",
      "Estimating pi_0.\n",
      "Estimated pi_0=0.987097\n",
      "Using motif +p73.motif of width 20.\n",
      "Using motif -p73.motif of width 20.\n",
      "Computing q-values.\n",
      "Estimating pi_0 from a uniformly sampled set of 10000 p-values.\n",
      "Estimating pi_0.\n",
      "Estimated pi_0=0.960241\n",
      "Using motif +pax3-fkhr.motif of width 15.\n",
      "Using motif -pax3-fkhr.motif of width 15.\n",
      "Computing q-values.\n",
      "Estimating pi_0 from a uniformly sampled set of 10000 p-values.\n",
      "Estimating pi_0.\n",
      "Estimated pi_0=1\n",
      "Using motif +pax5-short.motif of width 14.\n",
      "Using motif -pax5-short.motif of width 14.\n",
      "Computing q-values.\n",
      "Estimating pi_0 from a uniformly sampled set of 10000 p-values.\n",
      "Estimating pi_0.\n",
      "Estimated pi_0=0.776832\n",
      "Using motif +pax5.motif of width 16.\n",
      "Using motif -pax5.motif of width 16.\n",
      "Computing q-values.\n",
      "Estimating pi_0 from a uniformly sampled set of 10000 p-values.\n",
      "Estimating pi_0.\n",
      "Estimated pi_0=0.780762\n",
      "Using motif +pax6.motif of width 20.\n",
      "Using motif -pax6.motif of width 20.\n",
      "Computing q-values.\n",
      "Estimating pi_0 from a uniformly sampled set of 10000 p-values.\n",
      "Estimating pi_0.\n",
      "Estimated pi_0=0.92789\n",
      "Using motif +pax7-long.motif of width 12.\n",
      "Using motif -pax7-long.motif of width 12.\n",
      "Computing q-values.\n",
      "Estimating pi_0 from a uniformly sampled set of 10000 p-values.\n",
      "Estimating pi_0.\n",
      "Estimated pi_0=1\n",
      "Using motif +pax7-longest.motif of width 20.\n",
      "Using motif -pax7-longest.motif of width 20.\n",
      "Computing q-values.\n",
      "Estimating pi_0 from a uniformly sampled set of 10000 p-values.\n",
      "Estimating pi_0.\n",
      "Estimated pi_0=1\n",
      "Using motif +pax7.motif of width 10.\n",
      "Using motif -pax7.motif of width 10.\n",
      "Computing q-values.\n",
      "Estimating pi_0 from a uniformly sampled set of 10000 p-values.\n",
      "Estimating pi_0.\n",
      "Estimated pi_0=1\n",
      "Using motif +pax8.motif of width 15.\n",
      "Using motif -pax8.motif of width 15.\n"
     ]
    },
    {
     "name": "stdout",
     "output_type": "stream",
     "text": [
      "Computing q-values.\n",
      "Estimating pi_0 from a uniformly sampled set of 10000 p-values.\n",
      "Estimating pi_0.\n",
      "Estimated pi_0=0.7628\n",
      "Using motif +pbx1.motif of width 12.\n",
      "Using motif -pbx1.motif of width 12.\n",
      "Computing q-values.\n",
      "Estimating pi_0 from a uniformly sampled set of 10000 p-values.\n",
      "Estimating pi_0.\n",
      "Estimated pi_0=0.9\n",
      "Using motif +pbx2.motif of width 12.\n",
      "Using motif -pbx2.motif of width 12.\n",
      "Computing q-values.\n",
      "Estimating pi_0 from a uniformly sampled set of 10000 p-values.\n",
      "Estimating pi_0.\n",
      "Estimated pi_0=1\n",
      "Using motif +pbx3.motif of width 12.\n",
      "Using motif -pbx3.motif of width 12.\n",
      "Computing q-values.\n",
      "Estimating pi_0 from a uniformly sampled set of 10000 p-values.\n",
      "Estimating pi_0.\n",
      "Estimated pi_0=0.970435\n",
      "Using motif +pdx1.motif of width 10.\n",
      "Using motif -pdx1.motif of width 10.\n",
      "Computing q-values.\n",
      "Estimating pi_0 from a uniformly sampled set of 10000 p-values.\n",
      "Estimating pi_0.\n",
      "Estimated pi_0=1\n",
      "Using motif +pgr.motif of width 15.\n",
      "Using motif -pgr.motif of width 15.\n",
      "Computing q-values.\n",
      "Estimating pi_0 from a uniformly sampled set of 10000 p-values.\n",
      "Estimating pi_0.\n",
      "Estimated pi_0=1\n",
      "Using motif +phox2a.motif of width 12.\n",
      "Using motif -phox2a.motif of width 12.\n",
      "Computing q-values.\n",
      "Estimating pi_0 from a uniformly sampled set of 10000 p-values.\n",
      "Estimating pi_0.\n",
      "Estimated pi_0=1\n",
      "Using motif +pit1-long.motif of width 12.\n",
      "Using motif -pit1-long.motif of width 12.\n",
      "Computing q-values.\n",
      "Estimating pi_0 from a uniformly sampled set of 10000 p-values.\n",
      "Estimating pi_0.\n",
      "Estimated pi_0=1\n",
      "Using motif +pit1.motif of width 10.\n",
      "Using motif -pit1.motif of width 10.\n",
      "Computing q-values.\n",
      "Estimating pi_0 from a uniformly sampled set of 10000 p-values.\n",
      "Estimating pi_0.\n",
      "Estimated pi_0=1\n",
      "Using motif +pitx1-ebox.motif of width 18.\n",
      "Using motif -pitx1-ebox.motif of width 18.\n",
      "Computing q-values.\n",
      "Estimating pi_0 from a uniformly sampled set of 10000 p-values.\n",
      "Estimating pi_0.\n",
      "Estimated pi_0=1\n",
      "Using motif +pitx1.motif of width 8.\n",
      "Using motif -pitx1.motif of width 8.\n",
      "Computing q-values.\n",
      "Estimating pi_0 from a uniformly sampled set of 10000 p-values.\n",
      "Estimating pi_0.\n",
      "Estimated pi_0=1\n",
      "Using motif +pknox1.motif of width 12.\n",
      "Using motif -pknox1.motif of width 12.\n",
      "Computing q-values.\n",
      "Estimating pi_0 from a uniformly sampled set of 10000 p-values.\n",
      "Estimating pi_0.\n",
      "Estimated pi_0=0.915126\n",
      "Using motif +pparg.motif of width 14.\n",
      "Using motif -pparg.motif of width 14.\n",
      "Computing q-values.\n",
      "Estimating pi_0 from a uniformly sampled set of 10000 p-values.\n",
      "Estimating pi_0.\n",
      "Estimated pi_0=0.932469\n",
      "Using motif +pr.motif of width 15.\n",
      "Using motif -pr.motif of width 15.\n",
      "Computing q-values.\n",
      "Estimating pi_0 from a uniformly sampled set of 10000 p-values.\n",
      "Estimating pi_0.\n",
      "Estimated pi_0=0.997186\n",
      "Using motif +prdm1.motif of width 12.\n",
      "Using motif -prdm1.motif of width 12.\n",
      "Computing q-values.\n",
      "Estimating pi_0 from a uniformly sampled set of 10000 p-values.\n",
      "Estimating pi_0.\n",
      "Estimated pi_0=0.992449\n",
      "Using motif +prdm10.motif of width 12.\n",
      "Using motif -prdm10.motif of width 12.\n",
      "Computing q-values.\n",
      "Estimating pi_0 from a uniformly sampled set of 10000 p-values.\n",
      "Estimating pi_0.\n",
      "Estimated pi_0=0.955034\n",
      "Using motif +prdm14.motif of width 12.\n",
      "Using motif -prdm14.motif of width 12.\n",
      "Computing q-values.\n",
      "Estimating pi_0 from a uniformly sampled set of 10000 p-values.\n",
      "Estimating pi_0.\n",
      "Estimated pi_0=1\n",
      "Using motif +prdm9.motif of width 15.\n",
      "Using motif -prdm9.motif of width 15.\n",
      "Computing q-values.\n",
      "Estimating pi_0 from a uniformly sampled set of 10000 p-values.\n",
      "Estimating pi_0.\n",
      "Estimated pi_0=0.984444\n",
      "Using motif +prop1.motif of width 12.\n",
      "Using motif -prop1.motif of width 12.\n",
      "Computing q-values.\n",
      "Estimating pi_0 from a uniformly sampled set of 10000 p-values.\n",
      "Estimating pi_0.\n",
      "Estimated pi_0=1\n",
      "Using motif +ptf1a.motif of width 10.\n",
      "Using motif -ptf1a.motif of width 10.\n",
      "Computing q-values.\n",
      "Estimating pi_0 from a uniformly sampled set of 10000 p-values.\n",
      "Estimating pi_0.\n",
      "Estimated pi_0=0.802617\n",
      "Using motif +pu1-irf.motif of width 12.\n",
      "Using motif -pu1-irf.motif of width 12.\n",
      "Computing q-values.\n",
      "Estimating pi_0 from a uniformly sampled set of 10000 p-values.\n",
      "Estimating pi_0.\n",
      "Estimated pi_0=0.969825\n",
      "Using motif +pu1-irf8.motif of width 12.\n",
      "Using motif -pu1-irf8.motif of width 12.\n",
      "Computing q-values.\n",
      "Estimating pi_0 from a uniformly sampled set of 10000 p-values.\n",
      "Estimating pi_0.\n",
      "Estimated pi_0=0.998693\n",
      "Using motif +pu1.motif of width 10.\n",
      "Using motif -pu1.motif of width 10.\n",
      "Computing q-values.\n",
      "Estimating pi_0 from a uniformly sampled set of 10000 p-values.\n",
      "Estimating pi_0.\n",
      "Estimated pi_0=0.95414\n",
      "Using motif +rara.motif of width 10.\n",
      "Using motif -rara.motif of width 10.\n",
      "Computing q-values.\n",
      "Estimating pi_0 from a uniformly sampled set of 10000 p-values.\n",
      "Estimating pi_0.\n",
      "Estimated pi_0=0.980119\n",
      "Using motif +rarg.motif of width 12.\n",
      "Using motif -rarg.motif of width 12.\n",
      "Computing q-values.\n",
      "Estimating pi_0 from a uniformly sampled set of 10000 p-values.\n",
      "Estimating pi_0.\n",
      "Estimated pi_0=0.941194\n",
      "Using motif +rbpj1-ebox.motif of width 17.\n",
      "Using motif -rbpj1-ebox.motif of width 17.\n",
      "Computing q-values.\n",
      "Estimating pi_0 from a uniformly sampled set of 10000 p-values.\n",
      "Estimating pi_0.\n",
      "Estimated pi_0=0.890862\n",
      "Using motif +rbpj1.motif of width 10.\n",
      "Using motif -rbpj1.motif of width 10.\n",
      "Computing q-values.\n",
      "Estimating pi_0 from a uniformly sampled set of 10000 p-values.\n",
      "Estimating pi_0.\n",
      "Estimated pi_0=0.965223\n",
      "Using motif +rest.motif of width 20.\n",
      "Using motif -rest.motif of width 20.\n",
      "Computing q-values.\n",
      "Estimating pi_0 from a uniformly sampled set of 10000 p-values.\n",
      "Estimating pi_0.\n",
      "Estimated pi_0=0.845299\n",
      "Using motif +reverb.motif of width 16.\n",
      "Using motif -reverb.motif of width 16.\n",
      "Computing q-values.\n",
      "Estimating pi_0 from a uniformly sampled set of 10000 p-values.\n",
      "Estimating pi_0.\n",
      "Estimated pi_0=0.876379\n",
      "Using motif +rfx1.motif of width 14.\n",
      "Using motif -rfx1.motif of width 14.\n",
      "Computing q-values.\n",
      "Estimating pi_0 from a uniformly sampled set of 10000 p-values.\n",
      "Estimating pi_0.\n",
      "Estimated pi_0=0.897426\n",
      "Using motif +rfx2.motif of width 15.\n",
      "Using motif -rfx2.motif of width 15.\n",
      "Computing q-values.\n",
      "Estimating pi_0 from a uniformly sampled set of 10000 p-values.\n",
      "Estimating pi_0.\n",
      "Estimated pi_0=0.948188\n",
      "Using motif +rfx3.motif of width 16.\n",
      "Using motif -rfx3.motif of width 16.\n",
      "Computing q-values.\n",
      "Estimating pi_0 from a uniformly sampled set of 10000 p-values.\n",
      "Estimating pi_0.\n",
      "Estimated pi_0=0.887928\n",
      "Using motif +rfx5.motif of width 12.\n",
      "Using motif -rfx5.motif of width 12.\n",
      "Computing q-values.\n",
      "Estimating pi_0 from a uniformly sampled set of 10000 p-values.\n",
      "Estimating pi_0.\n",
      "Estimated pi_0=0.960875\n",
      "Using motif +rfx6.motif of width 15.\n",
      "Using motif -rfx6.motif of width 15.\n",
      "Computing q-values.\n",
      "Estimating pi_0 from a uniformly sampled set of 10000 p-values.\n",
      "Estimating pi_0.\n",
      "Estimated pi_0=0.947518\n",
      "Using motif +ronin.motif of width 20.\n",
      "Using motif -ronin.motif of width 20.\n",
      "Computing q-values.\n",
      "Estimating pi_0 from a uniformly sampled set of 10000 p-values.\n",
      "Estimating pi_0.\n",
      "Estimated pi_0=0.91719\n",
      "Using motif +rorc.motif of width 10.\n",
      "Using motif -rorc.motif of width 10.\n",
      "Computing q-values.\n",
      "Estimating pi_0 from a uniformly sampled set of 10000 p-values.\n",
      "Estimating pi_0.\n",
      "Estimated pi_0=1\n",
      "Using motif +runx.motif of width 10.\n",
      "Using motif -runx.motif of width 10.\n",
      "Computing q-values.\n",
      "Estimating pi_0 from a uniformly sampled set of 10000 p-values.\n",
      "Estimating pi_0.\n",
      "Estimated pi_0=0.97172\n",
      "Using motif +runx1.motif of width 10.\n",
      "Using motif -runx1.motif of width 10.\n",
      "Computing q-values.\n",
      "Estimating pi_0 from a uniformly sampled set of 10000 p-values.\n",
      "Estimating pi_0.\n",
      "Estimated pi_0=0.99798\n",
      "Using motif +runx1m.motif of width 10.\n",
      "Using motif -runx1m.motif of width 10.\n",
      "Computing q-values.\n",
      "Estimating pi_0 from a uniformly sampled set of 10000 p-values.\n",
      "Estimating pi_0.\n",
      "Estimated pi_0=0.991348\n",
      "Using motif +runx2.motif of width 12.\n",
      "Using motif -runx2.motif of width 12.\n",
      "Computing q-values.\n",
      "Estimating pi_0 from a uniformly sampled set of 10000 p-values.\n",
      "Estimating pi_0.\n",
      "Estimated pi_0=0.950476\n",
      "Using motif +rxr.motif of width 14.\n",
      "Using motif -rxr.motif of width 14.\n",
      "Computing q-values.\n",
      "Estimating pi_0 from a uniformly sampled set of 10000 p-values.\n",
      "Estimating pi_0.\n",
      "Estimated pi_0=0.898219\n",
      "Using motif +scl.motif of width 8.\n",
      "Using motif -scl.motif of width 8.\n",
      "Computing q-values.\n",
      "Estimating pi_0 from a uniformly sampled set of 10000 p-values.\n",
      "Estimating pi_0.\n"
     ]
    },
    {
     "name": "stdout",
     "output_type": "stream",
     "text": [
      "Estimated pi_0=0.956766\n",
      "Using motif +scrt1.motif of width 10.\n",
      "Using motif -scrt1.motif of width 10.\n",
      "Computing q-values.\n",
      "Estimating pi_0 from a uniformly sampled set of 10000 p-values.\n",
      "Estimating pi_0.\n",
      "Estimated pi_0=0.963117\n",
      "Using motif +sf1.motif of width 10.\n",
      "Using motif -sf1.motif of width 10.\n",
      "Computing q-values.\n",
      "Estimating pi_0 from a uniformly sampled set of 10000 p-values.\n",
      "Estimating pi_0.\n",
      "Estimated pi_0=0.937\n",
      "Using motif +six1.motif of width 12.\n",
      "Using motif -six1.motif of width 12.\n",
      "Computing q-values.\n",
      "Estimating pi_0 from a uniformly sampled set of 10000 p-values.\n",
      "Estimating pi_0.\n",
      "Estimated pi_0=1\n",
      "Using motif +six2.motif of width 12.\n",
      "Using motif -six2.motif of width 12.\n",
      "Computing q-values.\n",
      "Estimating pi_0 from a uniformly sampled set of 10000 p-values.\n",
      "Estimating pi_0.\n",
      "Estimated pi_0=1\n",
      "Using motif +six4.motif of width 15.\n",
      "Using motif -six4.motif of width 15.\n",
      "Computing q-values.\n",
      "Estimating pi_0 from a uniformly sampled set of 10000 p-values.\n",
      "Estimating pi_0.\n",
      "Estimated pi_0=1\n",
      "Using motif +smad2.motif of width 8.\n",
      "Using motif -smad2.motif of width 8.\n",
      "Computing q-values.\n",
      "Estimating pi_0 from a uniformly sampled set of 10000 p-values.\n",
      "Estimating pi_0.\n",
      "Estimated pi_0=0.834257\n",
      "Using motif +smad3.motif of width 8.\n",
      "Using motif -smad3.motif of width 8.\n",
      "Computing q-values.\n",
      "Estimating pi_0 from a uniformly sampled set of 10000 p-values.\n",
      "Estimating pi_0.\n",
      "Estimated pi_0=0.994845\n",
      "Using motif +smad4.motif of width 10.\n",
      "Using motif -smad4.motif of width 10.\n",
      "Computing q-values.\n",
      "Estimating pi_0 from a uniformly sampled set of 10000 p-values.\n",
      "Estimating pi_0.\n",
      "Estimated pi_0=0.873529\n",
      "Using motif +snai2.motif of width 12.\n",
      "Using motif -snai2.motif of width 12.\n",
      "Computing q-values.\n",
      "Estimating pi_0 from a uniformly sampled set of 10000 p-values.\n",
      "Estimating pi_0.\n",
      "Estimated pi_0=0.810156\n",
      "Using motif +sox10.motif of width 10.\n",
      "Using motif -sox10.motif of width 10.\n",
      "Computing q-values.\n",
      "Estimating pi_0 from a uniformly sampled set of 10000 p-values.\n",
      "Estimating pi_0.\n",
      "Estimated pi_0=1\n",
      "Using motif +sox15.motif of width 10.\n",
      "Using motif -sox15.motif of width 10.\n",
      "Computing q-values.\n",
      "Estimating pi_0 from a uniformly sampled set of 10000 p-values.\n",
      "Estimating pi_0.\n",
      "Estimated pi_0=1\n",
      "Using motif +sox17.motif of width 10.\n",
      "Using motif -sox17.motif of width 10.\n",
      "Computing q-values.\n",
      "Estimating pi_0 from a uniformly sampled set of 10000 p-values.\n",
      "Estimating pi_0.\n",
      "Estimated pi_0=1\n",
      "Using motif +sox2.motif of width 10.\n",
      "Using motif -sox2.motif of width 10.\n",
      "Computing q-values.\n",
      "Estimating pi_0 from a uniformly sampled set of 10000 p-values.\n",
      "Estimating pi_0.\n",
      "Estimated pi_0=1\n",
      "Using motif +sox3.motif of width 8.\n",
      "Using motif -sox3.motif of width 8.\n",
      "Computing q-values.\n",
      "Estimating pi_0 from a uniformly sampled set of 10000 p-values.\n",
      "Estimating pi_0.\n",
      "Estimated pi_0=1\n",
      "Using motif +sox4.motif of width 10.\n",
      "Using motif -sox4.motif of width 10.\n",
      "Computing q-values.\n",
      "Estimating pi_0 from a uniformly sampled set of 10000 p-values.\n",
      "Estimating pi_0.\n",
      "Estimated pi_0=0.999296\n",
      "Using motif +sox6.motif of width 10.\n",
      "Using motif -sox6.motif of width 10.\n",
      "Computing q-values.\n",
      "Estimating pi_0 from a uniformly sampled set of 10000 p-values.\n",
      "Estimating pi_0.\n",
      "Estimated pi_0=1\n",
      "Using motif +sox9.motif of width 12.\n",
      "Using motif -sox9.motif of width 12.\n",
      "Computing q-values.\n",
      "Estimating pi_0 from a uniformly sampled set of 10000 p-values.\n",
      "Estimating pi_0.\n",
      "Estimated pi_0=0.998687\n",
      "Using motif +sp1.motif of width 12.\n",
      "Using motif -sp1.motif of width 12.\n",
      "Computing q-values.\n",
      "Estimating pi_0 from a uniformly sampled set of 10000 p-values.\n",
      "Estimating pi_0.\n",
      "Estimated pi_0=0.67534\n",
      "Using motif +sp2.motif of width 12.\n",
      "Using motif -sp2.motif of width 12.\n",
      "Computing q-values.\n",
      "Estimating pi_0 from a uniformly sampled set of 10000 p-values.\n",
      "Estimating pi_0.\n",
      "Estimated pi_0=0.822388\n",
      "Using motif +sp5.motif of width 12.\n",
      "Using motif -sp5.motif of width 12.\n",
      "Computing q-values.\n",
      "Estimating pi_0 from a uniformly sampled set of 10000 p-values.\n",
      "Estimating pi_0.\n",
      "Estimated pi_0=0.833094\n",
      "Using motif +spdef.motif of width 10.\n",
      "Using motif -spdef.motif of width 10.\n",
      "Computing q-values.\n",
      "Estimating pi_0 from a uniformly sampled set of 10000 p-values.\n",
      "Estimating pi_0.\n",
      "Estimated pi_0=0.993822\n",
      "Using motif +spib.motif of width 12.\n",
      "Using motif -spib.motif of width 12.\n",
      "Computing q-values.\n",
      "Estimating pi_0 from a uniformly sampled set of 10000 p-values.\n",
      "Estimating pi_0.\n",
      "Estimated pi_0=0.98617\n",
      "Using motif +srebp1a.motif of width 10.\n",
      "Using motif -srebp1a.motif of width 10.\n",
      "Computing q-values.\n",
      "Estimating pi_0 from a uniformly sampled set of 10000 p-values.\n",
      "Estimating pi_0.\n",
      "Estimated pi_0=0.864602\n",
      "Using motif +srebp2.motif of width 12.\n",
      "Using motif -srebp2.motif of width 12.\n",
      "Computing q-values.\n",
      "Estimating pi_0 from a uniformly sampled set of 10000 p-values.\n",
      "Estimating pi_0.\n",
      "Estimated pi_0=0.811429\n",
      "Using motif +srf.motif of width 12.\n",
      "Using motif -srf.motif of width 12.\n",
      "Computing q-values.\n",
      "Estimating pi_0 from a uniformly sampled set of 10000 p-values.\n",
      "Estimating pi_0.\n",
      "Estimated pi_0=1\n",
      "Using motif +staf.motif of width 15.\n",
      "Using motif -staf.motif of width 15.\n",
      "Computing q-values.\n",
      "Estimating pi_0 from a uniformly sampled set of 10000 p-values.\n",
      "Estimating pi_0.\n",
      "Estimated pi_0=0.833663\n",
      "Using motif +stat1.motif of width 14.\n",
      "Using motif -stat1.motif of width 14.\n",
      "Computing q-values.\n",
      "Estimating pi_0 from a uniformly sampled set of 10000 p-values.\n",
      "Estimating pi_0.\n",
      "Estimated pi_0=1\n",
      "Using motif +stat3.il23.motif of width 14.\n",
      "Using motif -stat3.il23.motif of width 14.\n",
      "Computing q-values.\n",
      "Estimating pi_0 from a uniformly sampled set of 10000 p-values.\n",
      "Estimating pi_0.\n",
      "Estimated pi_0=0.991158\n",
      "Using motif +stat3.motif of width 10.\n",
      "Using motif -stat3.motif of width 10.\n",
      "Computing q-values.\n",
      "Estimating pi_0 from a uniformly sampled set of 10000 p-values.\n",
      "Estimating pi_0.\n",
      "Estimated pi_0=0.955046\n",
      "Using motif +stat4.motif of width 12.\n",
      "Using motif -stat4.motif of width 12.\n",
      "Computing q-values.\n",
      "Estimating pi_0 from a uniformly sampled set of 10000 p-values.\n",
      "Estimating pi_0.\n",
      "Estimated pi_0=0.999095\n",
      "Using motif +stat5.motif of width 12.\n",
      "Using motif -stat5.motif of width 12.\n",
      "Computing q-values.\n",
      "Estimating pi_0 from a uniformly sampled set of 10000 p-values.\n",
      "Estimating pi_0.\n",
      "Estimated pi_0=0.999899\n",
      "Using motif +stat6.2.motif of width 10.\n",
      "Using motif -stat6.2.motif of width 10.\n",
      "Computing q-values.\n",
      "Estimating pi_0 from a uniformly sampled set of 10000 p-values.\n",
      "Estimating pi_0.\n",
      "Estimated pi_0=1\n",
      "Using motif +stat6.motif of width 12.\n",
      "Using motif -stat6.motif of width 12.\n",
      "Computing q-values.\n",
      "Estimating pi_0 from a uniformly sampled set of 10000 p-values.\n",
      "Estimating pi_0.\n",
      "Estimated pi_0=1\n",
      "Using motif +t1isre.motif of width 12.\n",
      "Using motif -t1isre.motif of width 12.\n",
      "Computing q-values.\n",
      "Estimating pi_0 from a uniformly sampled set of 10000 p-values.\n",
      "Estimating pi_0.\n",
      "Estimated pi_0=0.999296\n",
      "Using motif +tata.motif of width 12.\n",
      "Using motif -tata.motif of width 12.\n",
      "Computing q-values.\n",
      "Estimating pi_0 from a uniformly sampled set of 10000 p-values.\n",
      "Estimating pi_0.\n",
      "Estimated pi_0=1\n",
      "Using motif +tbet.motif of width 10.\n",
      "Using motif -tbet.motif of width 10.\n",
      "Computing q-values.\n",
      "Estimating pi_0 from a uniformly sampled set of 10000 p-values.\n",
      "Estimating pi_0.\n",
      "Estimated pi_0=1\n",
      "Using motif +tbox-smad.motif of width 12.\n",
      "Using motif -tbox-smad.motif of width 12.\n",
      "Computing q-values.\n",
      "Estimating pi_0 from a uniformly sampled set of 10000 p-values.\n",
      "Estimating pi_0.\n",
      "Estimated pi_0=0.94069\n",
      "Using motif +tbr1.motif of width 10.\n",
      "Using motif -tbr1.motif of width 10.\n",
      "Computing q-values.\n",
      "Estimating pi_0 from a uniformly sampled set of 10000 p-values.\n",
      "Estimating pi_0.\n",
      "Estimated pi_0=1\n",
      "Using motif +tbx20.motif of width 12.\n",
      "Using motif -tbx20.motif of width 12.\n",
      "Computing q-values.\n",
      "Estimating pi_0 from a uniformly sampled set of 10000 p-values.\n",
      "Estimating pi_0.\n",
      "Estimated pi_0=0.967875\n",
      "Using motif +tbx21.motif of width 10.\n",
      "Using motif -tbx21.motif of width 10.\n",
      "Computing q-values.\n",
      "Estimating pi_0 from a uniformly sampled set of 10000 p-values.\n",
      "Estimating pi_0.\n",
      "Estimated pi_0=1\n",
      "Using motif +tbx5.motif of width 8.\n",
      "Using motif -tbx5.motif of width 8.\n",
      "Computing q-values.\n",
      "Estimating pi_0 from a uniformly sampled set of 10000 p-values.\n",
      "Estimating pi_0.\n",
      "Estimated pi_0=0.945101\n",
      "Using motif +tcf12.motif of width 10.\n",
      "Using motif -tcf12.motif of width 10.\n",
      "Computing q-values.\n",
      "Estimating pi_0 from a uniformly sampled set of 10000 p-values.\n",
      "Estimating pi_0.\n",
      "Estimated pi_0=0.821165\n",
      "Using motif +tcf21.motif of width 10.\n",
      "Using motif -tcf21.motif of width 10.\n"
     ]
    },
    {
     "name": "stdout",
     "output_type": "stream",
     "text": [
      "Computing q-values.\n",
      "Estimating pi_0 from a uniformly sampled set of 10000 p-values.\n",
      "Estimating pi_0.\n",
      "Estimated pi_0=0.901805\n",
      "Using motif +tcf3.motif of width 10.\n",
      "Using motif -tcf3.motif of width 10.\n",
      "Computing q-values.\n",
      "Estimating pi_0 from a uniformly sampled set of 10000 p-values.\n",
      "Estimating pi_0.\n",
      "Estimated pi_0=1\n",
      "Using motif +tcf4.motif of width 12.\n",
      "Using motif -tcf4.motif of width 12.\n",
      "Computing q-values.\n",
      "Estimating pi_0 from a uniformly sampled set of 10000 p-values.\n",
      "Estimating pi_0.\n",
      "Estimated pi_0=1\n",
      "Using motif +tcf7.motif of width 12.\n",
      "Using motif -tcf7.motif of width 12.\n",
      "Computing q-values.\n",
      "Estimating pi_0 from a uniformly sampled set of 10000 p-values.\n",
      "Estimating pi_0.\n",
      "Estimated pi_0=1\n",
      "Using motif +tcf7l2.motif of width 10.\n",
      "Using motif -tcf7l2.motif of width 10.\n",
      "Computing q-values.\n",
      "Estimating pi_0 from a uniformly sampled set of 10000 p-values.\n",
      "Estimating pi_0.\n",
      "Estimated pi_0=1\n",
      "Using motif +tcfcp2l1.motif of width 20.\n",
      "Using motif -tcfcp2l1.motif of width 20.\n",
      "Computing q-values.\n",
      "Estimating pi_0 from a uniformly sampled set of 10000 p-values.\n",
      "Estimating pi_0.\n",
      "Estimated pi_0=0.917162\n",
      "Using motif +tead.motif of width 10.\n",
      "Using motif -tead.motif of width 10.\n",
      "Computing q-values.\n",
      "Estimating pi_0 from a uniformly sampled set of 10000 p-values.\n",
      "Estimating pi_0.\n",
      "Estimated pi_0=1\n",
      "Using motif +tead1.motif of width 10.\n",
      "Using motif -tead1.motif of width 10.\n",
      "Computing q-values.\n",
      "Estimating pi_0 from a uniformly sampled set of 10000 p-values.\n",
      "Estimating pi_0.\n",
      "Estimated pi_0=1\n",
      "Using motif +tead2.motif of width 10.\n",
      "Using motif -tead2.motif of width 10.\n",
      "Computing q-values.\n",
      "Estimating pi_0 from a uniformly sampled set of 10000 p-values.\n",
      "Estimating pi_0.\n",
      "Estimated pi_0=1\n",
      "Using motif +tead3.motif of width 10.\n",
      "Using motif -tead3.motif of width 10.\n",
      "Computing q-values.\n",
      "Estimating pi_0 from a uniformly sampled set of 10000 p-values.\n",
      "Estimating pi_0.\n",
      "Estimated pi_0=1\n",
      "Using motif +tead4.motif of width 10.\n",
      "Using motif -tead4.motif of width 10.\n",
      "Computing q-values.\n",
      "Estimating pi_0 from a uniformly sampled set of 10000 p-values.\n",
      "Estimating pi_0.\n",
      "Estimated pi_0=1\n",
      "Using motif +tfe3.motif of width 12.\n",
      "Using motif -tfe3.motif of width 12.\n",
      "Computing q-values.\n",
      "Estimating pi_0 from a uniformly sampled set of 10000 p-values.\n",
      "Estimating pi_0.\n",
      "Estimated pi_0=0.905149\n",
      "Using motif +tgif1.motif of width 8.\n",
      "Using motif -tgif1.motif of width 8.\n",
      "Computing q-values.\n",
      "Estimating pi_0 from a uniformly sampled set of 10000 p-values.\n",
      "Estimating pi_0.\n",
      "Estimated pi_0=1\n",
      "Using motif +tgif2.motif of width 8.\n",
      "Using motif -tgif2.motif of width 8.\n",
      "Computing q-values.\n",
      "Estimating pi_0 from a uniformly sampled set of 10000 p-values.\n",
      "Estimating pi_0.\n",
      "Estimated pi_0=0.999592\n",
      "Using motif +thrb.motif of width 15.\n",
      "Using motif -thrb.motif of width 15.\n",
      "Computing q-values.\n",
      "Estimating pi_0 from a uniformly sampled set of 10000 p-values.\n",
      "Estimating pi_0.\n",
      "Estimated pi_0=0.7806\n",
      "Using motif +tlx.motif of width 14.\n",
      "Using motif -tlx.motif of width 14.\n",
      "Computing q-values.\n",
      "Estimating pi_0 from a uniformly sampled set of 10000 p-values.\n",
      "Estimating pi_0.\n",
      "Estimated pi_0=0.899385\n",
      "Using motif +tr4.motif of width 14.\n",
      "Using motif -tr4.motif of width 14.\n",
      "Computing q-values.\n",
      "Estimating pi_0 from a uniformly sampled set of 10000 p-values.\n",
      "Estimating pi_0.\n",
      "Estimated pi_0=0.94\n",
      "Using motif +tra.motif of width 15.\n",
      "Using motif -tra.motif of width 15.\n",
      "Computing q-values.\n",
      "Estimating pi_0 from a uniformly sampled set of 10000 p-values.\n",
      "Estimating pi_0.\n",
      "Estimated pi_0=0.874454\n",
      "Using motif +trb.motif of width 8.\n",
      "Using motif -trb.motif of width 8.\n",
      "Computing q-values.\n",
      "Estimating pi_0 from a uniformly sampled set of 10000 p-values.\n",
      "Estimating pi_0.\n",
      "Estimated pi_0=0.952667\n",
      "Using motif +twist1.motif of width 20.\n",
      "Using motif -twist1.motif of width 20.\n",
      "Computing q-values.\n",
      "Estimating pi_0 from a uniformly sampled set of 10000 p-values.\n",
      "Estimating pi_0.\n",
      "Estimated pi_0=0.917926\n",
      "Using motif +usf1.motif of width 10.\n",
      "Using motif -usf1.motif of width 10.\n",
      "Computing q-values.\n",
      "Estimating pi_0 from a uniformly sampled set of 10000 p-values.\n",
      "Estimating pi_0.\n",
      "Estimated pi_0=0.8276\n",
      "Using motif +usf2.motif of width 10.\n",
      "Using motif -usf2.motif of width 10.\n",
      "Computing q-values.\n",
      "Estimating pi_0 from a uniformly sampled set of 10000 p-values.\n",
      "Estimating pi_0.\n",
      "Estimated pi_0=0.89549\n",
      "Using motif +vdr.motif of width 20.\n",
      "Using motif -vdr.motif of width 20.\n",
      "Computing q-values.\n",
      "Estimating pi_0 from a uniformly sampled set of 10000 p-values.\n",
      "Estimating pi_0.\n",
      "Estimated pi_0=0.924675\n",
      "Using motif +xbox.motif of width 14.\n",
      "Using motif -xbox.motif of width 14.\n",
      "Computing q-values.\n",
      "Estimating pi_0 from a uniformly sampled set of 10000 p-values.\n",
      "Estimating pi_0.\n",
      "Estimated pi_0=1\n",
      "Using motif +yy1.motif of width 12.\n",
      "Using motif -yy1.motif of width 12.\n",
      "Computing q-values.\n",
      "Estimating pi_0 from a uniformly sampled set of 10000 p-values.\n",
      "Estimating pi_0.\n",
      "Estimated pi_0=0.885893\n",
      "Using motif +zbtb12.motif of width 15.\n",
      "Using motif -zbtb12.motif of width 15.\n",
      "Computing q-values.\n",
      "Estimating pi_0 from a uniformly sampled set of 10000 p-values.\n",
      "Estimating pi_0.\n",
      "Estimated pi_0=0.887321\n",
      "Using motif +zbtb18.motif of width 10.\n",
      "Using motif -zbtb18.motif of width 10.\n",
      "Computing q-values.\n",
      "Estimating pi_0 from a uniformly sampled set of 10000 p-values.\n",
      "Estimating pi_0.\n",
      "Estimated pi_0=0.89913\n",
      "Using motif +zbtb33.motif of width 15.\n",
      "Using motif -zbtb33.motif of width 15.\n",
      "Computing q-values.\n",
      "Estimating pi_0 from a uniformly sampled set of 10000 p-values.\n",
      "Estimating pi_0.\n",
      "Estimated pi_0=0.748868\n",
      "Using motif +zeb1.motif of width 10.\n",
      "Using motif -zeb1.motif of width 10.\n",
      "Computing q-values.\n",
      "Estimating pi_0 from a uniformly sampled set of 10000 p-values.\n",
      "Estimating pi_0.\n",
      "Estimated pi_0=0.900155\n",
      "Using motif +zfp281.motif of width 12.\n",
      "Using motif -zfp281.motif of width 12.\n",
      "Computing q-values.\n",
      "Estimating pi_0 from a uniformly sampled set of 10000 p-values.\n",
      "Estimating pi_0.\n",
      "Estimated pi_0=0.80015\n",
      "Using motif +zfp3.motif of width 25.\n",
      "Using motif -zfp3.motif of width 25.\n",
      "Computing q-values.\n",
      "Estimating pi_0 from a uniformly sampled set of 10000 p-values.\n",
      "Estimating pi_0.\n",
      "Estimated pi_0=0.992804\n",
      "Using motif +zfp809.motif of width 15.\n",
      "Using motif -zfp809.motif of width 15.\n",
      "Computing q-values.\n",
      "Estimating pi_0 from a uniformly sampled set of 10000 p-values.\n",
      "Estimating pi_0.\n",
      "Estimated pi_0=0.75165\n",
      "Using motif +zfx.motif of width 8.\n",
      "Using motif -zfx.motif of width 8.\n",
      "Computing q-values.\n",
      "Estimating pi_0 from a uniformly sampled set of 10000 p-values.\n",
      "Estimating pi_0.\n",
      "Estimated pi_0=0.829905\n",
      "Using motif +zic.motif of width 10.\n",
      "Using motif -zic.motif of width 10.\n",
      "Computing q-values.\n",
      "Estimating pi_0 from a uniformly sampled set of 10000 p-values.\n",
      "Estimating pi_0.\n",
      "Estimated pi_0=0.923111\n",
      "Using motif +zic3.motif of width 15.\n",
      "Using motif -zic3.motif of width 15.\n",
      "Computing q-values.\n",
      "Estimating pi_0 from a uniformly sampled set of 10000 p-values.\n",
      "Estimating pi_0.\n",
      "Estimated pi_0=0.75181\n",
      "Using motif +zkscan1.motif of width 15.\n",
      "Using motif -zkscan1.motif of width 15.\n",
      "Computing q-values.\n",
      "Estimating pi_0 from a uniformly sampled set of 10000 p-values.\n",
      "Estimating pi_0.\n",
      "Estimated pi_0=0.845294\n",
      "Using motif +znf136.motif of width 25.\n",
      "Using motif -znf136.motif of width 25.\n",
      "Computing q-values.\n",
      "Estimating pi_0 from a uniformly sampled set of 10000 p-values.\n",
      "Estimating pi_0.\n",
      "Estimated pi_0=1\n",
      "Using motif +znf16.motif of width 25.\n",
      "Using motif -znf16.motif of width 25.\n",
      "Computing q-values.\n",
      "Estimating pi_0 from a uniformly sampled set of 10000 p-values.\n",
      "Estimating pi_0.\n",
      "Estimated pi_0=0.874677\n",
      "Using motif +znf165.motif of width 15.\n",
      "Using motif -znf165.motif of width 15.\n",
      "Computing q-values.\n",
      "Estimating pi_0 from a uniformly sampled set of 10000 p-values.\n",
      "Estimating pi_0.\n",
      "Estimated pi_0=0.75027\n",
      "Using motif +znf189.motif of width 10.\n",
      "Using motif -znf189.motif of width 10.\n",
      "Computing q-values.\n",
      "Estimating pi_0 from a uniformly sampled set of 10000 p-values.\n",
      "Estimating pi_0.\n",
      "Estimated pi_0=0.906218\n",
      "Using motif +znf263.motif of width 10.\n",
      "Using motif -znf263.motif of width 10.\n",
      "Computing q-values.\n",
      "Estimating pi_0 from a uniformly sampled set of 10000 p-values.\n",
      "Estimating pi_0.\n",
      "Estimated pi_0=0.784202\n",
      "Using motif +znf264.motif of width 12.\n",
      "Using motif -znf264.motif of width 12.\n",
      "Computing q-values.\n",
      "Estimating pi_0 from a uniformly sampled set of 10000 p-values.\n",
      "Estimating pi_0.\n",
      "Estimated pi_0=0.907767\n",
      "Using motif +znf317.motif of width 15.\n",
      "Using motif -znf317.motif of width 15.\n"
     ]
    },
    {
     "name": "stdout",
     "output_type": "stream",
     "text": [
      "Computing q-values.\n",
      "Estimating pi_0 from a uniformly sampled set of 10000 p-values.\n",
      "Estimating pi_0.\n",
      "Estimated pi_0=0.98573\n",
      "Using motif +znf322.motif of width 20.\n",
      "Using motif -znf322.motif of width 20.\n",
      "Computing q-values.\n",
      "Estimating pi_0 from a uniformly sampled set of 10000 p-values.\n",
      "Estimating pi_0.\n",
      "Estimated pi_0=0.870563\n",
      "Using motif +znf382.motif of width 20.\n",
      "Using motif -znf382.motif of width 20.\n",
      "Computing q-values.\n",
      "Estimating pi_0 from a uniformly sampled set of 10000 p-values.\n",
      "Estimating pi_0.\n",
      "Estimated pi_0=0.997688\n",
      "Using motif +znf41.motif of width 25.\n",
      "Using motif -znf41.motif of width 25.\n",
      "Computing q-values.\n",
      "Estimating pi_0 from a uniformly sampled set of 10000 p-values.\n",
      "Estimating pi_0.\n",
      "Estimated pi_0=0.960115\n",
      "Using motif +znf415.motif of width 12.\n",
      "Using motif -znf415.motif of width 12.\n",
      "Computing q-values.\n",
      "Estimating pi_0 from a uniformly sampled set of 10000 p-values.\n",
      "Estimating pi_0.\n",
      "Estimated pi_0=0.858393\n",
      "Using motif +znf416.motif of width 10.\n",
      "Using motif -znf416.motif of width 10.\n",
      "Computing q-values.\n",
      "Estimating pi_0 from a uniformly sampled set of 10000 p-values.\n",
      "Estimating pi_0.\n",
      "Estimated pi_0=0.94323\n",
      "Using motif +znf467.motif of width 12.\n",
      "Using motif -znf467.motif of width 12.\n",
      "Computing q-values.\n",
      "Estimating pi_0 from a uniformly sampled set of 10000 p-values.\n",
      "Estimating pi_0.\n",
      "Estimated pi_0=0.846066\n",
      "Using motif +znf519.motif of width 10.\n",
      "Using motif -znf519.motif of width 10.\n",
      "Computing q-values.\n",
      "Estimating pi_0 from a uniformly sampled set of 10000 p-values.\n",
      "Estimating pi_0.\n",
      "Estimated pi_0=0.7194\n",
      "Using motif +znf528.motif of width 15.\n",
      "Using motif -znf528.motif of width 15.\n",
      "Computing q-values.\n",
      "Estimating pi_0 from a uniformly sampled set of 10000 p-values.\n",
      "Estimating pi_0.\n",
      "Estimated pi_0=0.998593\n",
      "Using motif +znf652.motif of width 15.\n",
      "Using motif -znf652.motif of width 15.\n",
      "Computing q-values.\n",
      "Estimating pi_0 from a uniformly sampled set of 10000 p-values.\n",
      "Estimating pi_0.\n",
      "Estimated pi_0=1\n",
      "Using motif +znf669.motif of width 15.\n",
      "Using motif -znf669.motif of width 15.\n",
      "Computing q-values.\n",
      "Estimating pi_0 from a uniformly sampled set of 10000 p-values.\n",
      "Estimating pi_0.\n",
      "Estimated pi_0=0.79301\n",
      "Using motif +znf675.motif of width 15.\n",
      "Using motif -znf675.motif of width 15.\n",
      "Computing q-values.\n",
      "Estimating pi_0 from a uniformly sampled set of 10000 p-values.\n",
      "Estimating pi_0.\n",
      "Estimated pi_0=0.99799\n",
      "Using motif +znf692.motif of width 10.\n",
      "Using motif -znf692.motif of width 10.\n",
      "Computing q-values.\n",
      "Estimating pi_0 from a uniformly sampled set of 10000 p-values.\n",
      "Estimating pi_0.\n",
      "Estimated pi_0=0.692745\n",
      "Using motif +znf7.motif of width 45.\n",
      "Using motif -znf7.motif of width 45.\n",
      "Computing q-values.\n",
      "Estimating pi_0 from a uniformly sampled set of 10000 p-values.\n",
      "Estimating pi_0.\n",
      "Estimated pi_0=0.860734\n",
      "Using motif +znf711.motif of width 8.\n",
      "Using motif -znf711.motif of width 8.\n",
      "Computing q-values.\n",
      "Estimating pi_0 from a uniformly sampled set of 10000 p-values.\n",
      "Estimating pi_0.\n",
      "Estimated pi_0=0.730784\n",
      "Using motif +zscan22.motif of width 20.\n",
      "Using motif -zscan22.motif of width 20.\n",
      "Computing q-values.\n",
      "Estimating pi_0 from a uniformly sampled set of 10000 p-values.\n",
      "Estimating pi_0.\n",
      "Estimated pi_0=0.850857\n",
      "-757.315631151\n"
     ]
    }
   ],
   "source": [
    "t = time.time()\n",
    "seq_f = \"Results/Figures/SuppFigure3/TSS1.exp.fa\"\n",
    "meme_motifs_dir = '/data/isshamie/TSS/Analysis/supplemental/homer_motifs/MEME_motifs.txt'\n",
    "out_dir = \"Results/Figures/SuppFigure3/TSS1.exp_meme\"\n",
    "cmd = \"fimo --o {out_dir} {motif_f} {seq_f} \".format(motif_f=meme_motifs_dir,seq_f=seq_f,out_dir=out_dir)\n",
    "print(cmd)\n",
    "!{cmd}\n",
    "print(t - time.time())\n"
   ]
  },
  {
   "cell_type": "markdown",
   "metadata": {},
   "source": [
    "### Refseq"
   ]
  },
  {
   "cell_type": "code",
   "execution_count": 9,
   "metadata": {
    "ExecuteTime": {
     "end_time": "2019-02-23T00:01:07.530160Z",
     "start_time": "2019-02-23T00:01:03.233544Z"
    }
   },
   "outputs": [
    {
     "name": "stdout",
     "output_type": "stream",
     "text": [
      "\n",
      "\tExtracting sequences from file: /data/isshamie/genome/ncbi_anno_103/GCF_003668045.1_CriGri-PICR_genomic.fna\n",
      "\tLooking for peak sequences in a single file (/data/isshamie/genome/ncbi_anno_103/GCF_003668045.1_CriGri-PICR_genomic.fna)\n",
      "\tExtracting 86 sequences from NW_020822366.1\n",
      "\tExtracting 462 sequences from NW_020822370.1\n",
      "\tExtracting 82 sequences from NW_020822372.1\n",
      "\tExtracting 82 sequences from NW_020822373.1\n",
      "\tExtracting 42 sequences from NW_020822374.1\n",
      "\tExtracting 363 sequences from NW_020822375.1\n",
      "\tExtracting 76 sequences from NW_020822376.1\n",
      "\tExtracting 69 sequences from NW_020822377.1\n",
      "\tExtracting 56 sequences from NW_020822379.1\n",
      "\tExtracting 239 sequences from NW_020822381.1\n",
      "\tExtracting 32 sequences from NW_020822382.1\n",
      "\tExtracting 15 sequences from NW_020822385.1\n",
      "\tExtracting 98 sequences from NW_020822388.1\n",
      "\tExtracting 20 sequences from NW_020822390.1\n",
      "\tExtracting 7 sequences from NW_020822391.1\n",
      "\tExtracting 89 sequences from NW_020822393.1\n",
      "\tExtracting 20 sequences from NW_020822394.1\n",
      "\tExtracting 15 sequences from NW_020822396.1\n",
      "\tExtracting 231 sequences from NW_020822398.1\n",
      "\tExtracting 10 sequences from NW_020822399.1\n",
      "\tExtracting 10 sequences from NW_020822402.1\n",
      "\tExtracting 213 sequences from NW_020822403.1\n",
      "\tExtracting 2 sequences from NW_020822404.1\n",
      "\tExtracting 4 sequences from NW_020822405.1\n",
      "\tExtracting 467 sequences from NW_020822406.1\n",
      "\tExtracting 210 sequences from NW_020822407.1\n",
      "\tExtracting 174 sequences from NW_020822409.1\n",
      "\tExtracting 234 sequences from NW_020822410.1\n",
      "\tExtracting 147 sequences from NW_020822412.1\n",
      "\tExtracting 2 sequences from NW_020822413.1\n",
      "\tExtracting 666 sequences from NW_020822415.1\n",
      "\tExtracting 4 sequences from NW_020822416.1\n",
      "\tExtracting 42 sequences from NW_020822419.1\n",
      "\tExtracting 334 sequences from NW_020822420.1\n",
      "\tExtracting 83 sequences from NW_020822421.1\n",
      "\tExtracting 296 sequences from NW_020822423.1\n",
      "\tExtracting 119 sequences from NW_020822425.1\n",
      "\tExtracting 54 sequences from NW_020822426.1\n",
      "\tExtracting 48 sequences from NW_020822427.1\n",
      "\tExtracting 183 sequences from NW_020822428.1\n",
      "\tExtracting 281 sequences from NW_020822429.1\n",
      "\tExtracting 58 sequences from NW_020822432.1\n",
      "\tExtracting 87 sequences from NW_020822434.1\n",
      "\tExtracting 61 sequences from NW_020822435.1\n",
      "\tExtracting 111 sequences from NW_020822436.1\n",
      "\tExtracting 431 sequences from NW_020822438.1\n",
      "\tExtracting 1197 sequences from NW_020822439.1\n",
      "\tExtracting 64 sequences from NW_020822440.1\n",
      "\tExtracting 110 sequences from NW_020822442.1\n",
      "\tExtracting 145 sequences from NW_020822443.1\n",
      "\tExtracting 46 sequences from NW_020822444.1\n",
      "\tExtracting 119 sequences from NW_020822446.1\n",
      "\tExtracting 24 sequences from NW_020822449.1\n",
      "\tExtracting 175 sequences from NW_020822450.1\n",
      "\tExtracting 6 sequences from NW_020822451.1\n",
      "\tExtracting 714 sequences from NW_020822452.1\n",
      "\tExtracting 1 sequences from NW_020822453.1\n",
      "\tExtracting 126 sequences from NW_020822454.1\n",
      "\tExtracting 90 sequences from NW_020822455.1\n",
      "\tExtracting 114 sequences from NW_020822457.1\n",
      "\tExtracting 181 sequences from NW_020822458.1\n",
      "\tExtracting 110 sequences from NW_020822459.1\n",
      "\tExtracting 186 sequences from NW_020822460.1\n",
      "\tExtracting 456 sequences from NW_020822461.1\n",
      "\tExtracting 166 sequences from NW_020822462.1\n",
      "\tExtracting 156 sequences from NW_020822464.1\n",
      "\tExtracting 220 sequences from NW_020822465.1\n",
      "\tExtracting 156 sequences from NW_020822466.1\n",
      "\tExtracting 66 sequences from NW_020822467.1\n",
      "\tExtracting 495 sequences from NW_020822468.1\n",
      "\tExtracting 73 sequences from NW_020822469.1\n",
      "\tExtracting 363 sequences from NW_020822470.1\n",
      "\tExtracting 64 sequences from NW_020822471.1\n",
      "\tExtracting 264 sequences from NW_020822474.1\n",
      "\tExtracting 18 sequences from NW_020822475.1\n",
      "\tExtracting 67 sequences from NW_020822476.1\n",
      "\tExtracting 25 sequences from NW_020822483.1\n",
      "\tExtracting 45 sequences from NW_020822484.1\n",
      "\tExtracting 270 sequences from NW_020822486.1\n",
      "\tExtracting 396 sequences from NW_020822487.1\n",
      "\tExtracting 21 sequences from NW_020822488.1\n",
      "\tExtracting 108 sequences from NW_020822490.1\n",
      "\tExtracting 17 sequences from NW_020822493.1\n",
      "\tExtracting 337 sequences from NW_020822499.1\n",
      "\tExtracting 417 sequences from NW_020822501.1\n",
      "\tExtracting 296 sequences from NW_020822503.1\n",
      "\tExtracting 181 sequences from NW_020822504.1\n",
      "\tExtracting 600 sequences from NW_020822505.1\n",
      "\tExtracting 246 sequences from NW_020822506.1\n",
      "\tExtracting 302 sequences from NW_020822507.1\n",
      "\tExtracting 196 sequences from NW_020822508.1\n",
      "\tExtracting 110 sequences from NW_020822511.1\n",
      "\tExtracting 66 sequences from NW_020822512.1\n",
      "\tExtracting 157 sequences from NW_020822513.1\n",
      "\tExtracting 39 sequences from NW_020822518.1\n",
      "\tExtracting 383 sequences from NW_020822519.1\n",
      "\tExtracting 116 sequences from NW_020822520.1\n",
      "\tExtracting 389 sequences from NW_020822526.1\n",
      "\tExtracting 8 sequences from NW_020822528.1\n",
      "\tExtracting 658 sequences from NW_020822529.1\n",
      "\tExtracting 248 sequences from NW_020822530.1\n",
      "\tExtracting 275 sequences from NW_020822531.1\n",
      "\tExtracting 360 sequences from NW_020822532.1\n",
      "\tExtracting 235 sequences from NW_020822533.1\n",
      "\tExtracting 82 sequences from NW_020822534.1\n",
      "\tExtracting 187 sequences from NW_020822535.1\n",
      "\tExtracting 141 sequences from NW_020822537.1\n",
      "\tExtracting 180 sequences from NW_020822538.1\n",
      "\tExtracting 164 sequences from NW_020822539.1\n",
      "\tExtracting 26 sequences from NW_020822544.1\n",
      "\tExtracting 44 sequences from NW_020822545.1\n",
      "\tExtracting 35 sequences from NW_020822550.1\n",
      "\tExtracting 11 sequences from NW_020822552.1\n",
      "\tExtracting 34 sequences from NW_020822555.1\n",
      "\tExtracting 122 sequences from NW_020822557.1\n",
      "\tExtracting 119 sequences from NW_020822558.1\n",
      "\tExtracting 25 sequences from NW_020822559.1\n",
      "\tExtracting 9 sequences from NW_020822563.1\n",
      "\tExtracting 713 sequences from NW_020822567.1\n",
      "\tExtracting 361 sequences from NW_020822570.1\n",
      "\tExtracting 332 sequences from NW_020822577.1\n",
      "\tExtracting 1 sequences from NW_020822585.1\n",
      "\tExtracting 353 sequences from NW_020822586.1\n",
      "\tExtracting 56 sequences from NW_020822591.1\n",
      "\tExtracting 45 sequences from NW_020822592.1\n",
      "\tExtracting 15 sequences from NW_020822595.1\n",
      "\tExtracting 126 sequences from NW_020822596.1\n",
      "\tExtracting 306 sequences from NW_020822597.1\n",
      "\tExtracting 217 sequences from NW_020822598.1\n",
      "\tExtracting 1013 sequences from NW_020822601.1\n",
      "\tExtracting 266 sequences from NW_020822602.1\n",
      "\tExtracting 208 sequences from NW_020822603.1\n",
      "\tExtracting 205 sequences from NW_020822604.1\n",
      "\tExtracting 104 sequences from NW_020822605.1\n",
      "\tExtracting 213 sequences from NW_020822606.1\n",
      "\tExtracting 43 sequences from NW_020822607.1\n",
      "\tExtracting 319 sequences from NW_020822608.1\n",
      "\tExtracting 1 sequences from NW_020822609.1\n",
      "\tExtracting 299 sequences from NW_020822610.1\n",
      "\tExtracting 430 sequences from NW_020822611.1\n",
      "\tExtracting 154 sequences from NW_020822614.1\n",
      "\tExtracting 1078 sequences from NW_020822615.1\n",
      "\tExtracting 325 sequences from NW_020822616.1\n",
      "\tExtracting 165 sequences from NW_020822618.1\n",
      "\tExtracting 98 sequences from NW_020822619.1\n",
      "\tExtracting 44 sequences from NW_020822620.1\n",
      "\tExtracting 24 sequences from NW_020822621.1\n",
      "\tExtracting 57 sequences from NW_020822623.1\n",
      "\tExtracting 24 sequences from NW_020822626.1\n",
      "\tExtracting 15 sequences from NW_020822627.1\n",
      "\tExtracting 21 sequences from NW_020822628.1\n",
      "\tExtracting 115 sequences from NW_020822629.1\n",
      "\tExtracting 229 sequences from NW_020822630.1\n",
      "\tExtracting 140 sequences from NW_020822632.1\n",
      "\tExtracting 157 sequences from NW_020822634.1\n",
      "\tExtracting 124 sequences from NW_020822636.1\n",
      "\tExtracting 108 sequences from NW_020822638.1\n",
      "\tExtracting 25 sequences from NW_020822641.1\n",
      "\tExtracting 57 sequences from NW_020822642.1\n",
      "\tExtracting 251 sequences from NW_020822643.1\n",
      "\tExtracting 129 sequences from NW_020822644.1\n",
      "\tExtracting 20 sequences from NW_020822645.1\n",
      "\tExtracting 61 sequences from NW_020822646.1\n",
      "\tExtracting 29 sequences from NW_020822647.1\n",
      "\tExtracting 35 sequences from NW_020822648.1\n",
      "\tExtracting 46 sequences from NW_020822649.1\n",
      "\tExtracting 27 sequences from NW_020822650.1\n",
      "\tExtracting 28 sequences from NW_020822651.1\n",
      "\tExtracting 53 sequences from NW_020822652.1\n",
      "\tExtracting 8 sequences from NW_020822653.1\n",
      "\tExtracting 28 sequences from NW_020822654.1\n",
      "\tExtracting 4 sequences from NW_020822656.1\n",
      "\tExtracting 150 sequences from NW_020822657.1\n",
      "\tExtracting 110 sequences from NW_020822658.1\n",
      "\tExtracting 76 sequences from NW_020822663.1\n",
      "\tExtracting 20 sequences from NW_020822664.1\n",
      "\tExtracting 43 sequences from NW_020822665.1\n"
     ]
    },
    {
     "name": "stdout",
     "output_type": "stream",
     "text": [
      "\tExtracting 41 sequences from NW_020822666.1\n",
      "\tExtracting 33 sequences from NW_020822668.1\n",
      "\tExtracting 23 sequences from NW_020822670.1\n",
      "\tExtracting 28 sequences from NW_020822671.1\n",
      "\tExtracting 37 sequences from NW_020822672.1\n",
      "\tExtracting 24 sequences from NW_020822674.1\n",
      "\tExtracting 41 sequences from NW_020822676.1\n",
      "\tExtracting 59 sequences from NW_020822680.1\n",
      "\tExtracting 20 sequences from NW_020822681.1\n",
      "\tExtracting 9 sequences from NW_020822686.1\n",
      "\tExtracting 113 sequences from NW_020822687.1\n",
      "\tExtracting 138 sequences from NW_020822688.1\n",
      "\tExtracting 1 sequences from NW_020822690.1\n",
      "\tExtracting 145 sequences from NW_020822698.1\n",
      "\tExtracting 57 sequences from NW_020822699.1\n",
      "\tExtracting 63 sequences from NW_020822701.1\n",
      "\tExtracting 1 sequences from NW_020822702.1\n",
      "\tExtracting 53 sequences from NW_020822703.1\n",
      "\tExtracting 1 sequences from NW_020822734.1\n",
      "\tExtracting 1 sequences from NW_020822867.1\n",
      "\tExtracting 1 sequences from NW_020822982.1\n",
      "\tExtracting 3 sequences from NW_020823085.1\n",
      "\tExtracting 1 sequences from NW_020823094.1\n",
      "\tExtracting 1 sequences from NW_020823142.1\n",
      "\tExtracting 4 sequences from NW_020823156.1\n",
      "\tExtracting 2 sequences from NW_020823167.1\n",
      "\tExtracting 4 sequences from NW_020823398.1\n",
      "\tExtracting 17 sequences from NW_020823422.1\n",
      "\tExtracting 1 sequences from NW_020823442.1\n",
      "\tExtracting 19 sequences from NW_020823468.1\n",
      "\tExtracting 3 sequences from NW_020823473.1\n",
      "\tExtracting 1 sequences from NW_020823474.1\n",
      "\tExtracting 1 sequences from NW_020823490.1\n",
      "\tExtracting 11 sequences from NW_020823503.1\n",
      "\tExtracting 1 sequences from NW_020823510.1\n",
      "\tExtracting 2 sequences from NW_020823518.1\n",
      "\tExtracting 4 sequences from NW_020823529.1\n",
      "\tExtracting 2 sequences from NW_020823533.1\n",
      "\tExtracting 4 sequences from NW_020823558.1\n",
      "\tExtracting 1 sequences from NW_020823586.1\n",
      "\tExtracting 1 sequences from NW_020823587.1\n",
      "\tExtracting 1 sequences from NW_020823602.1\n",
      "\tExtracting 7 sequences from NW_020823627.1\n",
      "\tExtracting 2 sequences from NW_020823629.1\n",
      "\tExtracting 1 sequences from NW_020823639.1\n",
      "\tExtracting 1 sequences from NW_020823676.1\n",
      "\tExtracting 1 sequences from NW_020823792.1\n",
      "\tExtracting 4 sequences from NW_020823819.1\n",
      "\tExtracting 1 sequences from NW_020823856.1\n",
      "\tExtracting 1 sequences from NW_020823876.1\n",
      "\tExtracting 1 sequences from NW_020823898.1\n",
      "\tExtracting 1 sequences from NW_020823908.1\n",
      "\tExtracting 2 sequences from NW_020823928.1\n",
      "\tExtracting 1 sequences from NW_020823970.1\n",
      "\tExtracting 1 sequences from NW_020824001.1\n",
      "\tExtracting 1 sequences from NW_020824030.1\n",
      "\tExtracting 1 sequences from NW_020824056.1\n",
      "\tExtracting 2 sequences from NW_020824066.1\n",
      "\tExtracting 2 sequences from NW_020824120.1\n",
      "\tExtracting 1 sequences from NW_020824123.1\n",
      "homerTools extract Results/output/TSS1.exp.bed /data/isshamie/genome/ncbi_anno_103/GCF_003668045.1_CriGri-PICR_genomic.fna -fa > Results/Figures/SuppFigure3/fasta_files/TSS1.mrna.fa\n"
     ]
    }
   ],
   "source": [
    "## Create RefSeq peak and sequence files\n",
    "peak_f = \"Results/output/TSS1.exp.bed\"\n",
    "meta_f = \"Results/output/TSS1.exp.meta\"\n",
    "save_f = \"Results/Figures/SuppFigure3/fasta_files/TSS1.mrna\"\n",
    "exp_bed_to_refseq(peak_f,meta_f,refseq_f=mRNA_peak_file,save_f=save_f,is_unique=True)\n",
    "seq_f = \"Results/Figures/SuppFigure3/fasta_files/TSS1.mrna.fa\"\n",
    "cmd = \"homerTools extract {peak_f} {ref_fa} -fa > {seq_f}\".format(peak_f=peak_f,seq_f=seq_f,ref_fa=ref_fa)\n",
    "!{cmd}\n",
    "print(cmd)"
   ]
  },
  {
   "cell_type": "code",
   "execution_count": null,
   "metadata": {
    "ExecuteTime": {
     "start_time": "2019-02-16T07:34:29.596Z"
    },
    "deletable": false,
    "editable": false,
    "run_control": {
     "frozen": true
    },
    "scrolled": true
   },
   "outputs": [
    {
     "name": "stdout",
     "output_type": "stream",
     "text": [
      "fimo --o Results/Figures/SuppFigure3/TSS1.exp_refseq_centered_meme /data/isshamie/TSS/Analysis/supplemental/homer_motifs/MEME_motifs.txt Results/Figures/SuppFigure3/TSS1.exp_refseq_centered.fa \n",
      "Using motif +ap1.motif of width 10.\n",
      "Using motif -ap1.motif of width 10.\n",
      "Computing q-values.\n",
      "Estimating pi_0 from a uniformly sampled set of 10000 p-values.\n",
      "Estimating pi_0.\n",
      "Estimated pi_0=1\n",
      "Using motif +ap2.motif of width 12.\n",
      "Using motif -ap2.motif of width 12.\n",
      "Computing q-values.\n",
      "Estimating pi_0 from a uniformly sampled set of 10000 p-values.\n",
      "Estimating pi_0.\n",
      "Estimated pi_0=0.583762\n",
      "Using motif +ap2gamma.motif of width 12.\n",
      "Using motif -ap2gamma.motif of width 12.\n",
      "Computing q-values.\n",
      "Estimating pi_0 from a uniformly sampled set of 10000 p-values.\n",
      "Estimating pi_0.\n",
      "Estimated pi_0=0.613\n",
      "Using motif +ap4.motif of width 10.\n",
      "Using motif -ap4.motif of width 10.\n",
      "Computing q-values.\n",
      "Estimating pi_0 from a uniformly sampled set of 10000 p-values.\n",
      "Estimating pi_0.\n",
      "Estimated pi_0=0.884386\n",
      "Using motif +ar-half.motif of width 10.\n",
      "Using motif -ar-half.motif of width 10.\n",
      "Computing q-values.\n",
      "Estimating pi_0 from a uniformly sampled set of 10000 p-values.\n",
      "Estimating pi_0.\n",
      "Estimated pi_0=0.895185\n",
      "Using motif +are-fox.motif of width 20.\n",
      "Using motif -are-fox.motif of width 20.\n",
      "Computing q-values.\n",
      "Estimating pi_0 from a uniformly sampled set of 10000 p-values.\n",
      "Estimating pi_0.\n",
      "Estimated pi_0=1\n",
      "Using motif +are.motif of width 16.\n",
      "Using motif -are.motif of width 16.\n",
      "Computing q-values.\n",
      "Estimating pi_0 from a uniformly sampled set of 10000 p-values.\n",
      "Estimating pi_0.\n",
      "Estimated pi_0=0.944595\n",
      "Using motif +arnt.motif of width 10.\n",
      "Using motif -arnt.motif of width 10.\n",
      "Computing q-values.\n",
      "Estimating pi_0 from a uniformly sampled set of 10000 p-values.\n",
      "Estimating pi_0.\n",
      "Estimated pi_0=0.868037\n",
      "Using motif +ascl1.motif of width 12.\n",
      "Using motif -ascl1.motif of width 12.\n",
      "Computing q-values.\n",
      "Estimating pi_0 from a uniformly sampled set of 10000 p-values.\n",
      "Estimating pi_0.\n",
      "Estimated pi_0=0.83027\n",
      "Using motif +atf1.motif of width 10.\n",
      "Using motif -atf1.motif of width 10.\n",
      "Computing q-values.\n",
      "Estimating pi_0 from a uniformly sampled set of 10000 p-values.\n",
      "Estimating pi_0.\n",
      "Estimated pi_0=1\n",
      "Using motif +atf2.motif of width 12.\n",
      "Using motif -atf2.motif of width 12.\n",
      "Computing q-values.\n",
      "Estimating pi_0 from a uniformly sampled set of 10000 p-values.\n",
      "Estimating pi_0.\n",
      "Estimated pi_0=0.999495\n",
      "Using motif +atf3.motif of width 12.\n",
      "Using motif -atf3.motif of width 12.\n",
      "Computing q-values.\n",
      "Estimating pi_0 from a uniformly sampled set of 10000 p-values.\n",
      "Estimating pi_0.\n",
      "Estimated pi_0=1\n",
      "Using motif +atf4.motif of width 10.\n",
      "Using motif -atf4.motif of width 10.\n",
      "Computing q-values.\n",
      "Estimating pi_0 from a uniformly sampled set of 10000 p-values.\n",
      "Estimating pi_0.\n",
      "Estimated pi_0=1\n",
      "Using motif +atf7.motif of width 12.\n",
      "Using motif -atf7.motif of width 12.\n",
      "Computing q-values.\n",
      "Estimating pi_0 from a uniformly sampled set of 10000 p-values.\n",
      "Estimating pi_0.\n",
      "Estimated pi_0=0.931619\n",
      "Using motif +atoh1.motif of width 12.\n",
      "Using motif -atoh1.motif of width 12.\n",
      "Computing q-values.\n",
      "Estimating pi_0 from a uniformly sampled set of 10000 p-values.\n",
      "Estimating pi_0.\n",
      "Estimated pi_0=0.828785\n",
      "Using motif +bach1.motif of width 15.\n",
      "Using motif -bach1.motif of width 15.\n",
      "Computing q-values.\n",
      "Estimating pi_0 from a uniformly sampled set of 10000 p-values.\n",
      "Estimating pi_0.\n",
      "Estimated pi_0=1\n",
      "Using motif +bach2.motif of width 10.\n",
      "Using motif -bach2.motif of width 10.\n",
      "Computing q-values.\n",
      "Estimating pi_0 from a uniformly sampled set of 10000 p-values.\n",
      "Estimating pi_0.\n",
      "Estimated pi_0=0.981517\n",
      "Using motif +bapx1.motif of width 10.\n",
      "Using motif -bapx1.motif of width 10.\n",
      "Computing q-values.\n",
      "Estimating pi_0 from a uniformly sampled set of 10000 p-values.\n",
      "Estimating pi_0.\n",
      "Estimated pi_0=1\n",
      "Using motif +barx1.motif of width 10.\n",
      "Using motif -barx1.motif of width 10.\n",
      "Computing q-values.\n",
      "Estimating pi_0 from a uniformly sampled set of 10000 p-values.\n",
      "Estimating pi_0.\n",
      "Estimated pi_0=1\n",
      "Using motif +batf.motif of width 10.\n",
      "Using motif -batf.motif of width 10.\n",
      "Computing q-values.\n",
      "Estimating pi_0 from a uniformly sampled set of 10000 p-values.\n",
      "Estimating pi_0.\n",
      "Estimated pi_0=1\n",
      "Using motif +batf3-irf8.motif of width 15.\n",
      "Using motif -batf3-irf8.motif of width 15.\n",
      "Computing q-values.\n",
      "Estimating pi_0 from a uniformly sampled set of 10000 p-values.\n",
      "Estimating pi_0.\n",
      "Estimated pi_0=0.999799\n",
      "Using motif +bcl6.motif of width 15.\n",
      "Using motif -bcl6.motif of width 15.\n",
      "Computing q-values.\n",
      "Estimating pi_0 from a uniformly sampled set of 10000 p-values.\n",
      "Estimating pi_0.\n",
      "Estimated pi_0=0.99809\n",
      "Using motif +bhlhe40.motif of width 10.\n",
      "Using motif -bhlhe40.motif of width 10.\n",
      "Computing q-values.\n",
      "Estimating pi_0 from a uniformly sampled set of 10000 p-values.\n",
      "Estimating pi_0.\n",
      "Estimated pi_0=0.862\n",
      "Using motif +bmal.motif of width 8.\n",
      "Using motif -bmal.motif of width 8.\n",
      "Computing q-values.\n",
      "Estimating pi_0 from a uniformly sampled set of 10000 p-values.\n",
      "Estimating pi_0.\n",
      "Estimated pi_0=0.86084\n",
      "Using motif +bmyb.motif of width 10.\n",
      "Using motif -bmyb.motif of width 10.\n",
      "Computing q-values.\n",
      "Estimating pi_0 from a uniformly sampled set of 10000 p-values.\n",
      "Estimating pi_0.\n",
      "Estimated pi_0=1\n",
      "Using motif +boris.motif of width 20.\n",
      "Using motif -boris.motif of width 20.\n",
      "Computing q-values.\n",
      "Estimating pi_0 from a uniformly sampled set of 10000 p-values.\n",
      "Estimating pi_0.\n",
      "Estimated pi_0=0.581373\n",
      "Using motif +brachyury.motif of width 21.\n",
      "Using motif -brachyury.motif of width 21.\n",
      "Computing q-values.\n",
      "Estimating pi_0 from a uniformly sampled set of 10000 p-values.\n",
      "Estimating pi_0.\n",
      "Estimated pi_0=0.891538\n",
      "Using motif +brn1.motif of width 12.\n",
      "Using motif -brn1.motif of width 12.\n",
      "Computing q-values.\n",
      "Estimating pi_0 from a uniformly sampled set of 10000 p-values.\n",
      "Estimating pi_0.\n",
      "Estimated pi_0=1\n",
      "Using motif +brn2.motif of width 10.\n",
      "Using motif -brn2.motif of width 10.\n",
      "Computing q-values.\n",
      "Estimating pi_0 from a uniformly sampled set of 10000 p-values.\n",
      "Estimating pi_0.\n",
      "Estimated pi_0=1\n",
      "Using motif +bzip-irf.motif of width 18.\n",
      "Using motif -bzip-irf.motif of width 18.\n",
      "Computing q-values.\n",
      "Estimating pi_0 from a uniformly sampled set of 10000 p-values.\n",
      "Estimating pi_0.\n",
      "Estimated pi_0=1\n",
      "Using motif +cdx2.motif of width 10.\n",
      "Using motif -cdx2.motif of width 10.\n",
      "Computing q-values.\n",
      "Estimating pi_0 from a uniformly sampled set of 10000 p-values.\n",
      "Estimating pi_0.\n",
      "Estimated pi_0=1\n",
      "Using motif +cdx4.motif of width 12.\n",
      "Using motif -cdx4.motif of width 12.\n",
      "Computing q-values.\n",
      "Estimating pi_0 from a uniformly sampled set of 10000 p-values.\n",
      "Estimating pi_0.\n",
      "Estimated pi_0=1\n",
      "Using motif +cebp-ap1.motif of width 10.\n",
      "Using motif -cebp-ap1.motif of width 10.\n",
      "Computing q-values.\n",
      "Estimating pi_0 from a uniformly sampled set of 10000 p-values.\n",
      "Estimating pi_0.\n",
      "Estimated pi_0=1\n",
      "Using motif +cebp-cebp.motif of width 20.\n",
      "Using motif -cebp-cebp.motif of width 20.\n",
      "Computing q-values.\n",
      "Estimating pi_0 from a uniformly sampled set of 10000 p-values.\n",
      "Estimating pi_0.\n",
      "Estimated pi_0=1\n",
      "Using motif +cebp.motif of width 10.\n",
      "Using motif -cebp.motif of width 10.\n",
      "Computing q-values.\n",
      "Estimating pi_0 from a uniformly sampled set of 10000 p-values.\n",
      "Estimating pi_0.\n",
      "Estimated pi_0=1\n",
      "Using motif +chop.motif of width 10.\n",
      "Using motif -chop.motif of width 10.\n",
      "Computing q-values.\n",
      "Estimating pi_0 from a uniformly sampled set of 10000 p-values.\n",
      "Estimating pi_0.\n",
      "Estimated pi_0=1\n",
      "Using motif +chr.motif of width 10.\n",
      "Using motif -chr.motif of width 10.\n",
      "Computing q-values.\n",
      "Estimating pi_0 from a uniformly sampled set of 10000 p-values.\n",
      "Estimating pi_0.\n",
      "Estimated pi_0=1\n",
      "Using motif +clock.motif of width 8.\n",
      "Using motif -clock.motif of width 8.\n",
      "Computing q-values.\n",
      "Estimating pi_0 from a uniformly sampled set of 10000 p-values.\n",
      "Estimating pi_0.\n",
      "Estimated pi_0=0.868829\n",
      "Using motif +cMyc.lncap.motif of width 8.\n",
      "Using motif -cMyc.lncap.motif of width 8.\n",
      "Computing q-values.\n",
      "Estimating pi_0 from a uniformly sampled set of 10000 p-values.\n",
      "Estimating pi_0.\n",
      "Estimated pi_0=0.702\n",
      "Using motif +cmyc.motif of width 10.\n",
      "Using motif -cmyc.motif of width 10.\n",
      "Computing q-values.\n",
      "Estimating pi_0 from a uniformly sampled set of 10000 p-values.\n",
      "Estimating pi_0.\n",
      "Estimated pi_0=0.729901\n",
      "Using motif +couptf1.motif of width 12.\n",
      "Using motif -couptf1.motif of width 12.\n",
      "Computing q-values.\n",
      "Estimating pi_0 from a uniformly sampled set of 10000 p-values.\n",
      "Estimating pi_0.\n",
      "Estimated pi_0=0.854019\n",
      "Using motif +couptf2.motif of width 8.\n",
      "Using motif -couptf2.motif of width 8.\n"
     ]
    },
    {
     "name": "stdout",
     "output_type": "stream",
     "text": [
      "Computing q-values.\n",
      "Estimating pi_0 from a uniformly sampled set of 10000 p-values.\n",
      "Estimating pi_0.\n",
      "Estimated pi_0=0.85068\n",
      "Using motif +cre.motif of width 12.\n",
      "Using motif -cre.motif of width 12.\n",
      "Computing q-values.\n",
      "Estimating pi_0 from a uniformly sampled set of 10000 p-values.\n",
      "Estimating pi_0.\n",
      "Estimated pi_0=0.667255\n",
      "Using motif +crx.motif of width 8.\n",
      "Using motif -crx.motif of width 8.\n",
      "Computing q-values.\n",
      "Estimating pi_0 from a uniformly sampled set of 10000 p-values.\n",
      "Estimating pi_0.\n",
      "Estimated pi_0=1\n",
      "Using motif +ctcf-mys.motif of width 20.\n",
      "Using motif -ctcf-mys.motif of width 20.\n",
      "Computing q-values.\n",
      "Estimating pi_0 from a uniformly sampled set of 10000 p-values.\n",
      "Estimating pi_0.\n",
      "Estimated pi_0=0.968994\n",
      "Using motif +ctcf.motif of width 20.\n",
      "Using motif -ctcf.motif of width 20.\n",
      "Computing q-values.\n",
      "Estimating pi_0 from a uniformly sampled set of 10000 p-values.\n",
      "Estimating pi_0.\n",
      "Estimated pi_0=0.7218\n",
      "Using motif +cux2.motif of width 10.\n",
      "Using motif -cux2.motif of width 10.\n",
      "Computing q-values.\n",
      "Estimating pi_0 from a uniformly sampled set of 10000 p-values.\n",
      "Estimating pi_0.\n",
      "Estimated pi_0=1\n",
      "Using motif +dmc1.motif of width 20.\n",
      "Using motif -dmc1.motif of width 20.\n",
      "Computing q-values.\n",
      "Estimating pi_0 from a uniformly sampled set of 10000 p-values.\n",
      "Estimating pi_0.\n",
      "Estimated pi_0=1\n",
      "Using motif +dmrt1.motif of width 15.\n",
      "Using motif -dmrt1.motif of width 15.\n",
      "Computing q-values.\n",
      "Estimating pi_0 from a uniformly sampled set of 10000 p-values.\n",
      "Estimating pi_0.\n",
      "Estimated pi_0=1\n",
      "Using motif +dmrt6.motif of width 15.\n",
      "Using motif -dmrt6.motif of width 15.\n",
      "Computing q-values.\n",
      "Estimating pi_0 from a uniformly sampled set of 10000 p-values.\n",
      "Estimating pi_0.\n",
      "Estimated pi_0=1\n",
      "Using motif +dr0.motif of width 12.\n",
      "Using motif -dr0.motif of width 12.\n",
      "Computing q-values.\n",
      "Estimating pi_0 from a uniformly sampled set of 10000 p-values.\n",
      "Estimating pi_0.\n",
      "Estimated pi_0=0.893277\n",
      "Using motif +dr5.motif of width 18.\n",
      "Using motif -dr5.motif of width 18.\n",
      "Computing q-values.\n",
      "Estimating pi_0 from a uniformly sampled set of 10000 p-values.\n",
      "Estimating pi_0.\n",
      "Estimated pi_0=0.770385\n",
      "Using motif +dux4.motif of width 15.\n",
      "Using motif -dux4.motif of width 15.\n",
      "Computing q-values.\n",
      "Estimating pi_0 from a uniformly sampled set of 10000 p-values.\n",
      "Estimating pi_0.\n",
      "Estimated pi_0=1\n",
      "Using motif +e2a.motif of width 10.\n",
      "Using motif -e2a.motif of width 10.\n",
      "Computing q-values.\n",
      "Estimating pi_0 from a uniformly sampled set of 10000 p-values.\n",
      "Estimating pi_0.\n",
      "Estimated pi_0=0.6856\n",
      "Using motif +e2f.motif of width 12.\n",
      "Using motif -e2f.motif of width 12.\n",
      "Computing q-values.\n",
      "Estimating pi_0 from a uniformly sampled set of 10000 p-values.\n",
      "Estimating pi_0.\n",
      "Estimated pi_0=0.585347\n",
      "Using motif +e2f1.motif of width 10.\n",
      "Using motif -e2f1.motif of width 10.\n",
      "Computing q-values.\n",
      "Estimating pi_0 from a uniformly sampled set of 10000 p-values.\n",
      "Estimating pi_0.\n",
      "Estimated pi_0=0.676699\n",
      "Using motif +e2f3.motif of width 12.\n",
      "Using motif -e2f3.motif of width 12.\n",
      "Computing q-values.\n",
      "Estimating pi_0 from a uniformly sampled set of 10000 p-values.\n",
      "Estimating pi_0.\n",
      "Estimated pi_0=0.624158\n",
      "Using motif +e2f4.motif of width 10.\n",
      "Using motif -e2f4.motif of width 10.\n",
      "Computing q-values.\n",
      "Estimating pi_0 from a uniformly sampled set of 10000 p-values.\n",
      "Estimating pi_0.\n",
      "Estimated pi_0=0.5716\n",
      "Using motif +e2f6.motif of width 10.\n",
      "Using motif -e2f6.motif of width 10.\n",
      "Computing q-values.\n",
      "Estimating pi_0 from a uniformly sampled set of 10000 p-values.\n",
      "Estimating pi_0.\n",
      "Estimated pi_0=0.695446\n",
      "Using motif +e2f7.motif of width 12.\n",
      "Using motif -e2f7.motif of width 12.\n",
      "Computing q-values.\n",
      "Estimating pi_0 from a uniformly sampled set of 10000 p-values.\n",
      "Estimating pi_0.\n",
      "Estimated pi_0=0.6502\n",
      "Using motif +e47.motif of width 10.\n",
      "Using motif -e47.motif of width 10.\n",
      "Computing q-values.\n",
      "Estimating pi_0 from a uniformly sampled set of 10000 p-values.\n",
      "Estimating pi_0.\n",
      "Estimated pi_0=0.755842\n",
      "Using motif +ebf-old.motif of width 12.\n",
      "Using motif -ebf-old.motif of width 12.\n",
      "Computing q-values.\n",
      "Estimating pi_0 from a uniformly sampled set of 10000 p-values.\n",
      "Estimating pi_0.\n",
      "Estimated pi_0=0.778113\n",
      "Using motif +ebf.motif of width 12.\n",
      "Using motif -ebf.motif of width 12.\n",
      "Computing q-values.\n",
      "Estimating pi_0 from a uniformly sampled set of 10000 p-values.\n",
      "Estimating pi_0.\n",
      "Estimated pi_0=0.754727\n",
      "Using motif +ebna1.motif of width 20.\n",
      "Using motif -ebna1.motif of width 20.\n",
      "Computing q-values.\n",
      "Estimating pi_0 from a uniformly sampled set of 10000 p-values.\n",
      "Estimating pi_0.\n",
      "Estimated pi_0=0.856415\n",
      "Using motif +ebox.motif of width 12.\n",
      "Using motif -ebox.motif of width 12.\n",
      "Computing q-values.\n",
      "Estimating pi_0 from a uniformly sampled set of 10000 p-values.\n",
      "Estimating pi_0.\n",
      "Estimated pi_0=0.685941\n",
      "Using motif +egr1.motif of width 10.\n",
      "Using motif -egr1.motif of width 10.\n",
      "Computing q-values.\n",
      "Estimating pi_0 from a uniformly sampled set of 10000 p-values.\n",
      "Estimating pi_0.\n",
      "Estimated pi_0=0.777168\n",
      "Using motif +egr2.motif of width 12.\n",
      "Using motif -egr2.motif of width 12.\n",
      "Computing q-values.\n",
      "Estimating pi_0 from a uniformly sampled set of 10000 p-values.\n",
      "Estimating pi_0.\n",
      "Estimated pi_0=0.742407\n",
      "Using motif +ehf.motif of width 10.\n",
      "Using motif -ehf.motif of width 10.\n",
      "Computing q-values.\n",
      "Estimating pi_0 from a uniformly sampled set of 10000 p-values.\n",
      "Estimating pi_0.\n",
      "Estimated pi_0=0.986286\n",
      "Using motif +eklf.motif of width 12.\n",
      "Using motif -eklf.motif of width 12.\n",
      "Computing q-values.\n",
      "Estimating pi_0 from a uniformly sampled set of 10000 p-values.\n",
      "Estimating pi_0.\n",
      "Estimated pi_0=0.833628\n",
      "Using motif +elf1.motif of width 10.\n",
      "Using motif -elf1.motif of width 10.\n",
      "Computing q-values.\n",
      "Estimating pi_0 from a uniformly sampled set of 10000 p-values.\n",
      "Estimating pi_0.\n",
      "Estimated pi_0=0.804078\n",
      "Using motif +elf3.motif of width 10.\n",
      "Using motif -elf3.motif of width 10.\n",
      "Computing q-values.\n",
      "Estimating pi_0 from a uniformly sampled set of 10000 p-values.\n",
      "Estimating pi_0.\n",
      "Estimated pi_0=0.99799\n",
      "Using motif +elf5.motif of width 10.\n",
      "Using motif -elf5.motif of width 10.\n",
      "Computing q-values.\n",
      "Estimating pi_0 from a uniformly sampled set of 10000 p-values.\n",
      "Estimating pi_0.\n",
      "Estimated pi_0=0.974507\n",
      "Using motif +elk1.motif of width 10.\n",
      "Using motif -elk1.motif of width 10.\n",
      "Computing q-values.\n",
      "Estimating pi_0 from a uniformly sampled set of 10000 p-values.\n",
      "Estimating pi_0.\n",
      "Estimated pi_0=0.846604\n",
      "Using motif +elk4.motif of width 10.\n",
      "Using motif -elk4.motif of width 10.\n",
      "Computing q-values.\n",
      "Estimating pi_0 from a uniformly sampled set of 10000 p-values.\n",
      "Estimating pi_0.\n",
      "Estimated pi_0=0.922906\n",
      "Using motif +eomes.motif of width 10.\n",
      "Using motif -eomes.motif of width 10.\n",
      "Computing q-values.\n",
      "Estimating pi_0 from a uniformly sampled set of 10000 p-values.\n",
      "Estimating pi_0.\n",
      "Estimated pi_0=1\n",
      "Using motif +ere.motif of width 15.\n",
      "Using motif -ere.motif of width 15.\n",
      "Computing q-values.\n",
      "Estimating pi_0 from a uniformly sampled set of 10000 p-values.\n",
      "Estimating pi_0.\n",
      "Estimated pi_0=0.908\n",
      "Using motif +erg.motif of width 10.\n",
      "Using motif -erg.motif of width 10.\n",
      "Computing q-values.\n",
      "Estimating pi_0 from a uniformly sampled set of 10000 p-values.\n",
      "Estimating pi_0.\n",
      "Estimated pi_0=0.943358\n",
      "Using motif +erra.motif of width 10.\n",
      "Using motif -erra.motif of width 10.\n",
      "Computing q-values.\n",
      "Estimating pi_0 from a uniformly sampled set of 10000 p-values.\n",
      "Estimating pi_0.\n",
      "Estimated pi_0=0.842883\n",
      "Using motif +es.motif of width 12.\n",
      "Using motif -es.motif of width 12.\n",
      "Computing q-values.\n",
      "Estimating pi_0 from a uniformly sampled set of 10000 p-values.\n",
      "Estimating pi_0.\n",
      "Estimated pi_0=0.866271\n",
      "Using motif +esrrb.motif of width 10.\n",
      "Using motif -esrrb.motif of width 10.\n",
      "Computing q-values.\n",
      "Estimating pi_0 from a uniformly sampled set of 10000 p-values.\n",
      "Estimating pi_0.\n",
      "Estimated pi_0=0.843922\n",
      "Using motif +ets-distal.motif of width 10.\n",
      "Using motif -ets-distal.motif of width 10.\n",
      "Computing q-values.\n",
      "Estimating pi_0 from a uniformly sampled set of 10000 p-values.\n",
      "Estimating pi_0.\n",
      "Estimated pi_0=0.995179\n",
      "Using motif +ets-ebox.motif of width 12.\n",
      "Using motif -ets-ebox.motif of width 12.\n",
      "Computing q-values.\n",
      "Estimating pi_0 from a uniformly sampled set of 10000 p-values.\n",
      "Estimating pi_0.\n",
      "Estimated pi_0=0.964138\n",
      "Using motif +ets-runx.motif of width 12.\n",
      "Using motif -ets-runx.motif of width 12.\n",
      "Computing q-values.\n",
      "Estimating pi_0 from a uniformly sampled set of 10000 p-values.\n",
      "Estimating pi_0.\n"
     ]
    },
    {
     "name": "stdout",
     "output_type": "stream",
     "text": [
      "Estimated pi_0=0.894138\n",
      "Using motif +ets.motif of width 10.\n",
      "Using motif -ets.motif of width 10.\n",
      "Computing q-values.\n",
      "Estimating pi_0 from a uniformly sampled set of 10000 p-values.\n",
      "Estimating pi_0.\n",
      "Estimated pi_0=0.857368\n",
      "Using motif +ets1.motif of width 10.\n",
      "Using motif -ets1.motif of width 10.\n",
      "Computing q-values.\n",
      "Estimating pi_0 from a uniformly sampled set of 10000 p-values.\n",
      "Estimating pi_0.\n",
      "Estimated pi_0=0.951711\n",
      "Using motif +etv1.motif of width 10.\n",
      "Using motif -etv1.motif of width 10.\n",
      "Computing q-values.\n",
      "Estimating pi_0 from a uniformly sampled set of 10000 p-values.\n",
      "Estimating pi_0.\n",
      "Estimated pi_0=0.883186\n",
      "Using motif +etv2.motif of width 12.\n",
      "Using motif -etv2.motif of width 12.\n",
      "Computing q-values.\n",
      "Estimating pi_0 from a uniformly sampled set of 10000 p-values.\n",
      "Estimating pi_0.\n",
      "Estimated pi_0=0.924034\n",
      "Using motif +etv4.motif of width 10.\n",
      "Using motif -etv4.motif of width 10.\n",
      "Computing q-values.\n",
      "Estimating pi_0 from a uniformly sampled set of 10000 p-values.\n",
      "Estimating pi_0.\n",
      "Estimated pi_0=0.769434\n",
      "Using motif +ews-erg.motif of width 10.\n",
      "Using motif -ews-erg.motif of width 10.\n",
      "Computing q-values.\n",
      "Estimating pi_0 from a uniformly sampled set of 10000 p-values.\n",
      "Estimating pi_0.\n",
      "Estimated pi_0=0.999899\n",
      "Using motif +ews-fli1.motif of width 10.\n",
      "Using motif -ews-fli1.motif of width 10.\n",
      "Computing q-values.\n",
      "Estimating pi_0 from a uniformly sampled set of 10000 p-values.\n",
      "Estimating pi_0.\n",
      "Estimated pi_0=0.992513\n",
      "Using motif +fli.motif of width 10.\n",
      "Using motif -fli.motif of width 10.\n",
      "Computing q-values.\n",
      "Estimating pi_0 from a uniformly sampled set of 10000 p-values.\n",
      "Estimating pi_0.\n",
      "Estimated pi_0=0.896216\n",
      "Using motif +fosl2.motif of width 12.\n",
      "Using motif -fosl2.motif of width 12.\n",
      "Computing q-values.\n",
      "Estimating pi_0 from a uniformly sampled set of 10000 p-values.\n",
      "Estimating pi_0.\n",
      "Estimated pi_0=1\n",
      "Using motif +fox-ebox.motif of width 17.\n",
      "Using motif -fox-ebox.motif of width 17.\n",
      "Computing q-values.\n",
      "Estimating pi_0 from a uniformly sampled set of 10000 p-values.\n",
      "Estimating pi_0.\n",
      "Estimated pi_0=1\n",
      "Using motif +foxa1.lncap.motif of width 10.\n",
      "Using motif -foxa1.lncap.motif of width 10.\n",
      "Computing q-values.\n",
      "Estimating pi_0 from a uniformly sampled set of 10000 p-values.\n",
      "Estimating pi_0.\n",
      "Estimated pi_0=1\n",
      "Using motif +foxa1.mcf7.motif of width 10.\n",
      "Using motif -foxa1.mcf7.motif of width 10.\n",
      "Computing q-values.\n",
      "Estimating pi_0 from a uniformly sampled set of 10000 p-values.\n",
      "Estimating pi_0.\n",
      "Estimated pi_0=1\n",
      "Using motif +foxa2.motif of width 12.\n",
      "Using motif -foxa2.motif of width 12.\n",
      "Computing q-values.\n",
      "Estimating pi_0 from a uniformly sampled set of 10000 p-values.\n",
      "Estimating pi_0.\n",
      "Estimated pi_0=1\n",
      "Using motif +foxa3.motif of width 15.\n",
      "Using motif -foxa3.motif of width 15.\n",
      "Computing q-values.\n",
      "Estimating pi_0 from a uniformly sampled set of 10000 p-values.\n",
      "Estimating pi_0.\n",
      "Estimated pi_0=1\n",
      "Using motif +foxf1.motif of width 12.\n",
      "Using motif -foxf1.motif of width 12.\n",
      "Computing q-values.\n",
      "Estimating pi_0 from a uniformly sampled set of 10000 p-values.\n",
      "Estimating pi_0.\n",
      "Estimated pi_0=1\n",
      "Using motif +foxh1.motif of width 12.\n",
      "Using motif -foxh1.motif of width 12.\n",
      "Computing q-values.\n",
      "Estimating pi_0 from a uniformly sampled set of 10000 p-values.\n",
      "Estimating pi_0.\n",
      "Estimated pi_0=1\n",
      "Using motif +foxk1.motif of width 10.\n",
      "Using motif -foxk1.motif of width 10.\n",
      "Computing q-values.\n",
      "Estimating pi_0 from a uniformly sampled set of 10000 p-values.\n",
      "Estimating pi_0.\n",
      "Estimated pi_0=1\n",
      "Using motif +foxk2.motif of width 12.\n",
      "Using motif -foxk2.motif of width 12.\n",
      "Computing q-values.\n",
      "Estimating pi_0 from a uniformly sampled set of 10000 p-values.\n",
      "Estimating pi_0.\n",
      "Estimated pi_0=1\n",
      "Using motif +foxl2.motif of width 12.\n",
      "Using motif -foxl2.motif of width 12.\n",
      "Computing q-values.\n",
      "Estimating pi_0 from a uniformly sampled set of 10000 p-values.\n",
      "Estimating pi_0.\n",
      "Estimated pi_0=1\n",
      "Using motif +foxm1.motif of width 10.\n",
      "Using motif -foxm1.motif of width 10.\n",
      "Computing q-values.\n",
      "Estimating pi_0 from a uniformly sampled set of 10000 p-values.\n",
      "Estimating pi_0.\n",
      "Estimated pi_0=1\n",
      "Using motif +foxo1.motif of width 8.\n",
      "Using motif -foxo1.motif of width 8.\n",
      "Computing q-values.\n",
      "Estimating pi_0 from a uniformly sampled set of 10000 p-values.\n",
      "Estimating pi_0.\n",
      "Estimated pi_0=1\n",
      "Using motif +foxo3.motif of width 8.\n",
      "Using motif -foxo3.motif of width 8.\n",
      "Computing q-values.\n",
      "Estimating pi_0 from a uniformly sampled set of 10000 p-values.\n",
      "Estimating pi_0.\n",
      "Estimated pi_0=1\n",
      "Using motif +foxp1.motif of width 12.\n",
      "Using motif -foxp1.motif of width 12.\n",
      "Computing q-values.\n",
      "Estimating pi_0 from a uniformly sampled set of 10000 p-values.\n",
      "Estimating pi_0.\n",
      "Estimated pi_0=1\n",
      "Using motif +fra1.motif of width 12.\n",
      "Using motif -fra1.motif of width 12.\n",
      "Computing q-values.\n",
      "Estimating pi_0 from a uniformly sampled set of 10000 p-values.\n",
      "Estimating pi_0.\n",
      "Estimated pi_0=1\n",
      "Using motif +fra2.motif of width 12.\n",
      "Using motif -fra2.motif of width 12.\n",
      "Computing q-values.\n",
      "Estimating pi_0 from a uniformly sampled set of 10000 p-values.\n",
      "Estimating pi_0.\n",
      "Estimated pi_0=1\n",
      "Using motif +fxr.motif of width 14.\n",
      "Using motif -fxr.motif of width 14.\n",
      "Computing q-values.\n",
      "Estimating pi_0 from a uniformly sampled set of 10000 p-values.\n",
      "Estimating pi_0.\n",
      "Estimated pi_0=0.799815\n",
      "Using motif +gabp.motif of width 10.\n",
      "Using motif -gabp.motif of width 10.\n",
      "Computing q-values.\n",
      "Estimating pi_0 from a uniformly sampled set of 10000 p-values.\n",
      "Estimating pi_0.\n",
      "Estimated pi_0=0.840556\n",
      "Using motif +gata-scl.motif of width 20.\n",
      "Using motif -gata-scl.motif of width 20.\n",
      "Computing q-values.\n",
      "Estimating pi_0 from a uniformly sampled set of 10000 p-values.\n",
      "Estimating pi_0.\n",
      "Estimated pi_0=0.892115\n",
      "Using motif +gata.motif of width 10.\n",
      "Using motif -gata.motif of width 10.\n",
      "Computing q-values.\n",
      "Estimating pi_0 from a uniformly sampled set of 10000 p-values.\n",
      "Estimating pi_0.\n",
      "Estimated pi_0=1\n",
      "Using motif +gata2.motif of width 10.\n",
      "Using motif -gata2.motif of width 10.\n",
      "Computing q-values.\n",
      "Estimating pi_0 from a uniformly sampled set of 10000 p-values.\n",
      "Estimating pi_0.\n",
      "Estimated pi_0=1\n",
      "Using motif +gata3.dr4.motif of width 15.\n",
      "Using motif -gata3.dr4.motif of width 15.\n",
      "Computing q-values.\n",
      "Estimating pi_0 from a uniformly sampled set of 10000 p-values.\n",
      "Estimating pi_0.\n",
      "Estimated pi_0=1\n",
      "Using motif +gata3.dr8.motif of width 20.\n",
      "Using motif -gata3.dr8.motif of width 20.\n",
      "Computing q-values.\n",
      "Estimating pi_0 from a uniformly sampled set of 10000 p-values.\n",
      "Estimating pi_0.\n",
      "Estimated pi_0=1\n",
      "Using motif +gata3.ir3.motif of width 20.\n",
      "Using motif -gata3.ir3.motif of width 20.\n",
      "Computing q-values.\n",
      "Estimating pi_0 from a uniformly sampled set of 10000 p-values.\n",
      "Estimating pi_0.\n",
      "Estimated pi_0=1\n",
      "Using motif +gata3.ir4.motif of width 15.\n",
      "Using motif -gata3.ir4.motif of width 15.\n",
      "Computing q-values.\n",
      "Estimating pi_0 from a uniformly sampled set of 10000 p-values.\n",
      "Estimating pi_0.\n",
      "Estimated pi_0=1\n",
      "Using motif +gata3.motif of width 8.\n",
      "Using motif -gata3.motif of width 8.\n",
      "Computing q-values.\n",
      "Estimating pi_0 from a uniformly sampled set of 10000 p-values.\n",
      "Estimating pi_0.\n",
      "Estimated pi_0=1\n",
      "Using motif +gata4.motif of width 10.\n",
      "Using motif -gata4.motif of width 10.\n",
      "Computing q-values.\n",
      "Estimating pi_0 from a uniformly sampled set of 10000 p-values.\n",
      "Estimating pi_0.\n",
      "Estimated pi_0=1\n",
      "Using motif +gata6.motif of width 10.\n",
      "Using motif -gata6.motif of width 10.\n",
      "Computing q-values.\n",
      "Estimating pi_0 from a uniformly sampled set of 10000 p-values.\n",
      "Estimating pi_0.\n",
      "Estimated pi_0=1\n",
      "Using motif +gfi1b.motif of width 10.\n",
      "Using motif -gfi1b.motif of width 10.\n",
      "Computing q-values.\n",
      "Estimating pi_0 from a uniformly sampled set of 10000 p-values.\n",
      "Estimating pi_0.\n",
      "Estimated pi_0=1\n",
      "Using motif +gfx.motif of width 12.\n",
      "Using motif -gfx.motif of width 12.\n",
      "Computing q-values.\n",
      "Estimating pi_0 from a uniformly sampled set of 10000 p-values.\n",
      "Estimating pi_0.\n",
      "Estimated pi_0=0.795\n",
      "Using motif +gfy-staf.motif of width 20.\n",
      "Using motif -gfy-staf.motif of width 20.\n",
      "Computing q-values.\n",
      "Estimating pi_0 from a uniformly sampled set of 10000 p-values.\n",
      "Estimating pi_0.\n",
      "Estimated pi_0=0.962812\n",
      "Using motif +gfy.motif of width 12.\n",
      "Using motif -gfy.motif of width 12.\n",
      "Computing q-values.\n",
      "Estimating pi_0 from a uniformly sampled set of 10000 p-values.\n",
      "Estimating pi_0.\n",
      "Estimated pi_0=0.879344\n",
      "Using motif +gli.motif of width 12.\n",
      "Using motif -gli.motif of width 12.\n",
      "Computing q-values.\n",
      "Estimating pi_0 from a uniformly sampled set of 10000 p-values.\n",
      "Estimating pi_0.\n",
      "Estimated pi_0=0.737714\n",
      "Using motif +gre-raw.motif of width 15.\n",
      "Using motif -gre-raw.motif of width 15.\n"
     ]
    },
    {
     "name": "stdout",
     "output_type": "stream",
     "text": [
      "Computing q-values.\n",
      "Estimating pi_0 from a uniformly sampled set of 10000 p-values.\n",
      "Estimating pi_0.\n",
      "Estimated pi_0=1\n",
      "Using motif +gre.motif of width 16.\n",
      "Using motif -gre.motif of width 16.\n",
      "Computing q-values.\n",
      "Estimating pi_0 from a uniformly sampled set of 10000 p-values.\n",
      "Estimating pi_0.\n",
      "Estimated pi_0=0.954345\n",
      "Using motif +grhl2.motif of width 20.\n",
      "Using motif -grhl2.motif of width 20.\n",
      "Computing q-values.\n",
      "Estimating pi_0 from a uniformly sampled set of 10000 p-values.\n",
      "Estimating pi_0.\n",
      "Estimated pi_0=1\n",
      "Using motif +gsc.motif of width 8.\n",
      "Using motif -gsc.motif of width 8.\n",
      "Computing q-values.\n",
      "Estimating pi_0 from a uniformly sampled set of 10000 p-values.\n",
      "Estimating pi_0.\n",
      "Estimated pi_0=1\n",
      "Using motif +hand2.motif of width 15.\n",
      "Using motif -hand2.motif of width 15.\n",
      "Computing q-values.\n",
      "Estimating pi_0 from a uniformly sampled set of 10000 p-values.\n",
      "Estimating pi_0.\n",
      "Estimated pi_0=0.922462\n",
      "Using motif +heb.motif of width 10.\n",
      "Using motif -heb.motif of width 10.\n",
      "Computing q-values.\n",
      "Estimating pi_0 from a uniformly sampled set of 10000 p-values.\n",
      "Estimating pi_0.\n",
      "Estimated pi_0=0.654851\n",
      "Using motif +hif1a.motif of width 8.\n",
      "Using motif -hif1a.motif of width 8.\n",
      "Computing q-values.\n",
      "Estimating pi_0 from a uniformly sampled set of 10000 p-values.\n",
      "Estimating pi_0.\n",
      "Estimated pi_0=0.833269\n",
      "Using motif +hif1b.motif of width 8.\n",
      "Using motif -hif1b.motif of width 8.\n",
      "Computing q-values.\n",
      "Estimating pi_0 from a uniformly sampled set of 10000 p-values.\n",
      "Estimating pi_0.\n",
      "Estimated pi_0=0.937949\n",
      "Using motif +hif2a.motif of width 10.\n",
      "Using motif -hif2a.motif of width 10.\n",
      "Computing q-values.\n",
      "Estimating pi_0 from a uniformly sampled set of 10000 p-values.\n",
      "Estimating pi_0.\n",
      "Estimated pi_0=0.844\n",
      "Using motif +hinfp.motif of width 10.\n",
      "Using motif -hinfp.motif of width 10.\n",
      "Computing q-values.\n",
      "Estimating pi_0 from a uniformly sampled set of 10000 p-values.\n",
      "Estimating pi_0.\n",
      "Estimated pi_0=0.5956\n",
      "Using motif +hlf.motif of width 10.\n",
      "Using motif -hlf.motif of width 10.\n",
      "Computing q-values.\n",
      "Estimating pi_0 from a uniformly sampled set of 10000 p-values.\n",
      "Estimating pi_0.\n",
      "Estimated pi_0=1\n",
      "Using motif +hnf1.motif of width 13.\n",
      "Using motif -hnf1.motif of width 13.\n",
      "Computing q-values.\n",
      "Estimating pi_0 from a uniformly sampled set of 10000 p-values.\n",
      "Estimating pi_0.\n",
      "Estimated pi_0=1\n",
      "Using motif +hnf1b.motif of width 12.\n",
      "Using motif -hnf1b.motif of width 12.\n",
      "Computing q-values.\n",
      "Estimating pi_0 from a uniformly sampled set of 10000 p-values.\n",
      "Estimating pi_0.\n",
      "Estimated pi_0=1\n",
      "Using motif +hnf4.motif of width 16.\n",
      "Using motif -hnf4.motif of width 16.\n",
      "Computing q-values.\n",
      "Estimating pi_0 from a uniformly sampled set of 10000 p-values.\n",
      "Estimating pi_0.\n",
      "Estimated pi_0=0.993437\n",
      "Using motif +hnf6.motif of width 10.\n",
      "Using motif -hnf6.motif of width 10.\n",
      "Computing q-values.\n",
      "Estimating pi_0 from a uniformly sampled set of 10000 p-values.\n",
      "Estimating pi_0.\n",
      "Estimated pi_0=1\n",
      "Using motif +hoxa10.motif of width 10.\n",
      "Using motif -hoxa10.motif of width 10.\n",
      "Computing q-values.\n",
      "Estimating pi_0 from a uniformly sampled set of 10000 p-values.\n",
      "Estimating pi_0.\n",
      "Estimated pi_0=1\n",
      "Using motif +hoxa11.motif of width 10.\n",
      "Using motif -hoxa11.motif of width 10.\n",
      "Computing q-values.\n",
      "Estimating pi_0 from a uniformly sampled set of 10000 p-values.\n",
      "Estimating pi_0.\n",
      "Estimated pi_0=1\n",
      "Using motif +hoxa13.motif of width 10.\n",
      "Using motif -hoxa13.motif of width 10.\n",
      "Computing q-values.\n",
      "Estimating pi_0 from a uniformly sampled set of 10000 p-values.\n",
      "Estimating pi_0.\n",
      "Estimated pi_0=1\n",
      "Using motif +hoxa2.motif of width 12.\n",
      "Using motif -hoxa2.motif of width 12.\n",
      "Computing q-values.\n",
      "Estimating pi_0 from a uniformly sampled set of 10000 p-values.\n",
      "Estimating pi_0.\n",
      "Estimated pi_0=1\n",
      "Using motif +hoxa9.motif of width 10.\n",
      "Using motif -hoxa9.motif of width 10.\n",
      "Computing q-values.\n",
      "Estimating pi_0 from a uniformly sampled set of 10000 p-values.\n",
      "Estimating pi_0.\n",
      "Estimated pi_0=1\n",
      "Using motif +hoxb13.motif of width 10.\n",
      "Using motif -hoxb13.motif of width 10.\n",
      "Computing q-values.\n",
      "Estimating pi_0 from a uniformly sampled set of 10000 p-values.\n",
      "Estimating pi_0.\n",
      "Estimated pi_0=1\n",
      "Using motif +hoxb4.motif of width 12.\n",
      "Using motif -hoxb4.motif of width 12.\n",
      "Computing q-values.\n",
      "Estimating pi_0 from a uniformly sampled set of 10000 p-values.\n",
      "Estimating pi_0.\n",
      "Estimated pi_0=1\n",
      "Using motif +hoxc9.motif of width 12.\n",
      "Using motif -hoxc9.motif of width 12.\n",
      "Computing q-values.\n",
      "Estimating pi_0 from a uniformly sampled set of 10000 p-values.\n",
      "Estimating pi_0.\n",
      "Estimated pi_0=1\n",
      "Using motif +hoxd10.motif of width 10.\n",
      "Using motif -hoxd10.motif of width 10.\n",
      "Computing q-values.\n",
      "Estimating pi_0 from a uniformly sampled set of 10000 p-values.\n",
      "Estimating pi_0.\n",
      "Estimated pi_0=1\n",
      "Using motif +hoxd11.motif of width 10.\n",
      "Using motif -hoxd11.motif of width 10.\n",
      "Computing q-values.\n",
      "Estimating pi_0 from a uniformly sampled set of 10000 p-values.\n",
      "Estimating pi_0.\n",
      "Estimated pi_0=1\n",
      "Using motif +hoxd12.motif of width 12.\n",
      "Using motif -hoxd12.motif of width 12.\n",
      "Computing q-values.\n",
      "Estimating pi_0 from a uniformly sampled set of 10000 p-values.\n",
      "Estimating pi_0.\n",
      "Estimated pi_0=1\n",
      "Using motif +hoxd13.motif of width 10.\n",
      "Using motif -hoxd13.motif of width 10.\n",
      "Computing q-values.\n",
      "Estimating pi_0 from a uniformly sampled set of 10000 p-values.\n",
      "Estimating pi_0.\n",
      "Estimated pi_0=1\n",
      "Using motif +hsf.motif of width 15.\n",
      "Using motif -hsf.motif of width 15.\n",
      "Computing q-values.\n",
      "Estimating pi_0 from a uniformly sampled set of 10000 p-values.\n",
      "Estimating pi_0.\n",
      "Estimated pi_0=1\n",
      "Using motif +hsf1.motif of width 20.\n",
      "Using motif -hsf1.motif of width 20.\n",
      "Computing q-values.\n",
      "Estimating pi_0 from a uniformly sampled set of 10000 p-values.\n",
      "Estimating pi_0.\n",
      "Estimated pi_0=0.801538\n",
      "Using motif +inr.motif of width 8.\n",
      "Using motif -inr.motif of width 8.\n",
      "Computing q-values.\n",
      "Estimating pi_0 from a uniformly sampled set of 10000 p-values.\n",
      "Estimating pi_0.\n",
      "Estimated pi_0=0.964457\n",
      "Using motif +irf1.motif of width 12.\n",
      "Using motif -irf1.motif of width 12.\n",
      "Computing q-values.\n",
      "Estimating pi_0 from a uniformly sampled set of 10000 p-values.\n",
      "Estimating pi_0.\n",
      "Estimated pi_0=0.999899\n",
      "Using motif +irf2.motif of width 12.\n",
      "Using motif -irf2.motif of width 12.\n",
      "Computing q-values.\n",
      "Estimating pi_0 from a uniformly sampled set of 10000 p-values.\n",
      "Estimating pi_0.\n",
      "Estimated pi_0=0.906275\n",
      "Using motif +irf3.motif of width 12.\n",
      "Using motif -irf3.motif of width 12.\n",
      "Computing q-values.\n",
      "Estimating pi_0 from a uniformly sampled set of 10000 p-values.\n",
      "Estimating pi_0.\n",
      "Estimated pi_0=0.998693\n",
      "Using motif +irf4.motif of width 10.\n",
      "Using motif -irf4.motif of width 10.\n",
      "Computing q-values.\n",
      "Estimating pi_0 from a uniformly sampled set of 10000 p-values.\n",
      "Estimating pi_0.\n",
      "Estimated pi_0=1\n",
      "Using motif +irf8.motif of width 12.\n",
      "Using motif -irf8.motif of width 12.\n",
      "Computing q-values.\n",
      "Estimating pi_0 from a uniformly sampled set of 10000 p-values.\n",
      "Estimating pi_0.\n",
      "Estimated pi_0=0.99809\n",
      "Using motif +isl1.motif of width 8.\n",
      "Using motif -isl1.motif of width 8.\n",
      "Computing q-values.\n",
      "Estimating pi_0 from a uniformly sampled set of 10000 p-values.\n",
      "Estimating pi_0.\n",
      "Estimated pi_0=1\n",
      "Using motif +isre.motif of width 12.\n",
      "Using motif -isre.motif of width 12.\n",
      "Computing q-values.\n",
      "Estimating pi_0 from a uniformly sampled set of 10000 p-values.\n",
      "Estimating pi_0.\n",
      "Estimated pi_0=1\n",
      "Using motif +jun-ap1.motif of width 12.\n",
      "Using motif -jun-ap1.motif of width 12.\n",
      "Computing q-values.\n",
      "Estimating pi_0 from a uniformly sampled set of 10000 p-values.\n",
      "Estimating pi_0.\n",
      "Estimated pi_0=1\n",
      "Using motif +jun-cre.motif of width 12.\n",
      "Using motif -jun-cre.motif of width 12.\n",
      "Computing q-values.\n",
      "Estimating pi_0 from a uniformly sampled set of 10000 p-values.\n",
      "Estimating pi_0.\n",
      "Estimated pi_0=0.970874\n",
      "Using motif +junb.motif of width 10.\n",
      "Using motif -junb.motif of width 10.\n",
      "Computing q-values.\n",
      "Estimating pi_0 from a uniformly sampled set of 10000 p-values.\n",
      "Estimating pi_0.\n",
      "Estimated pi_0=1\n",
      "Using motif +jund.motif of width 12.\n",
      "Using motif -jund.motif of width 12.\n",
      "Computing q-values.\n",
      "Estimating pi_0 from a uniformly sampled set of 10000 p-values.\n",
      "Estimating pi_0.\n",
      "Estimated pi_0=1\n",
      "Using motif +klf10.motif of width 12.\n",
      "Using motif -klf10.motif of width 12.\n",
      "Computing q-values.\n",
      "Estimating pi_0 from a uniformly sampled set of 10000 p-values.\n",
      "Estimating pi_0.\n",
      "Estimated pi_0=0.757228\n",
      "Using motif +klf14.motif of width 12.\n",
      "Using motif -klf14.motif of width 12.\n"
     ]
    },
    {
     "name": "stdout",
     "output_type": "stream",
     "text": [
      "Computing q-values.\n",
      "Estimating pi_0 from a uniformly sampled set of 10000 p-values.\n",
      "Estimating pi_0.\n",
      "Estimated pi_0=0.751429\n",
      "Using motif +klf3.motif of width 15.\n",
      "Using motif -klf3.motif of width 15.\n",
      "Computing q-values.\n",
      "Estimating pi_0 from a uniformly sampled set of 10000 p-values.\n",
      "Estimating pi_0.\n",
      "Estimated pi_0=0.700357\n",
      "Using motif +klf4.motif of width 10.\n",
      "Using motif -klf4.motif of width 10.\n",
      "Computing q-values.\n",
      "Estimating pi_0 from a uniformly sampled set of 10000 p-values.\n",
      "Estimating pi_0.\n",
      "Estimated pi_0=0.746931\n",
      "Using motif +klf5.motif of width 10.\n",
      "Using motif -klf5.motif of width 10.\n",
      "Computing q-values.\n",
      "Estimating pi_0 from a uniformly sampled set of 10000 p-values.\n",
      "Estimating pi_0.\n",
      "Estimated pi_0=0.812913\n",
      "Using motif +klf6.motif of width 12.\n",
      "Using motif -klf6.motif of width 12.\n",
      "Computing q-values.\n",
      "Estimating pi_0 from a uniformly sampled set of 10000 p-values.\n",
      "Estimating pi_0.\n",
      "Estimated pi_0=0.7216\n",
      "Using motif +klf9.motif of width 12.\n",
      "Using motif -klf9.motif of width 12.\n",
      "Computing q-values.\n",
      "Estimating pi_0 from a uniformly sampled set of 10000 p-values.\n",
      "Estimating pi_0.\n",
      "Estimated pi_0=0.730261\n",
      "Using motif +lef1.motif of width 10.\n",
      "Using motif -lef1.motif of width 10.\n",
      "Computing q-values.\n",
      "Estimating pi_0 from a uniformly sampled set of 10000 p-values.\n",
      "Estimating pi_0.\n",
      "Estimated pi_0=1\n",
      "Using motif +lhx1.motif of width 10.\n",
      "Using motif -lhx1.motif of width 10.\n",
      "Computing q-values.\n",
      "Estimating pi_0 from a uniformly sampled set of 10000 p-values.\n",
      "Estimating pi_0.\n",
      "Estimated pi_0=1\n",
      "Using motif +lhx2.motif of width 8.\n",
      "Using motif -lhx2.motif of width 8.\n",
      "Computing q-values.\n",
      "Estimating pi_0 from a uniformly sampled set of 10000 p-values.\n",
      "Estimating pi_0.\n",
      "Estimated pi_0=1\n",
      "Using motif +lhx3.motif of width 10.\n",
      "Using motif -lhx3.motif of width 10.\n",
      "Computing q-values.\n",
      "Estimating pi_0 from a uniformly sampled set of 10000 p-values.\n",
      "Estimating pi_0.\n",
      "Estimated pi_0=1\n",
      "Using motif +limb.motif of width 10.\n",
      "Using motif -limb.motif of width 10.\n",
      "Computing q-values.\n",
      "Estimating pi_0 from a uniformly sampled set of 10000 p-values.\n",
      "Estimating pi_0.\n",
      "Estimated pi_0=1\n",
      "Using motif +lrf.motif of width 10.\n",
      "Using motif -lrf.motif of width 10.\n",
      "Computing q-values.\n",
      "Estimating pi_0 from a uniformly sampled set of 10000 p-values.\n",
      "Estimating pi_0.\n",
      "Estimated pi_0=0.691304\n",
      "Using motif +lrh1.motif of width 10.\n",
      "Using motif -lrh1.motif of width 10.\n",
      "Computing q-values.\n",
      "Estimating pi_0 from a uniformly sampled set of 10000 p-values.\n",
      "Estimating pi_0.\n",
      "Estimated pi_0=0.928819\n",
      "Using motif +lxre.motif of width 16.\n",
      "Using motif -lxre.motif of width 16.\n",
      "Computing q-values.\n",
      "Estimating pi_0 from a uniformly sampled set of 10000 p-values.\n",
      "Estimating pi_0.\n",
      "Estimated pi_0=0.99772\n",
      "Using motif +mafa.motif of width 10.\n",
      "Using motif -mafa.motif of width 10.\n",
      "Computing q-values.\n",
      "Estimating pi_0 from a uniformly sampled set of 10000 p-values.\n",
      "Estimating pi_0.\n",
      "Estimated pi_0=0.888421\n",
      "Using motif +mafb.motif of width 20.\n",
      "Using motif -mafb.motif of width 20.\n",
      "Computing q-values.\n",
      "Estimating pi_0 from a uniformly sampled set of 10000 p-values.\n",
      "Estimating pi_0.\n",
      "Estimated pi_0=1\n",
      "Using motif +mafF.motif of width 15.\n",
      "Using motif -mafF.motif of width 15.\n",
      "Computing q-values.\n",
      "Estimating pi_0 from a uniformly sampled set of 10000 p-values.\n",
      "Estimating pi_0.\n",
      "Estimated pi_0=1\n",
      "Using motif +mafk.motif of width 12.\n",
      "Using motif -mafk.motif of width 12.\n",
      "Computing q-values.\n",
      "Estimating pi_0 from a uniformly sampled set of 10000 p-values.\n",
      "Estimating pi_0.\n",
      "Estimated pi_0=0.97284\n",
      "Using motif +max.motif of width 12.\n",
      "Using motif -max.motif of width 12.\n",
      "Computing q-values.\n",
      "Estimating pi_0 from a uniformly sampled set of 10000 p-values.\n",
      "Estimating pi_0.\n",
      "Estimated pi_0=0.841129\n",
      "Using motif +maz.motif of width 8.\n",
      "Using motif -maz.motif of width 8.\n",
      "Computing q-values.\n",
      "Estimating pi_0 from a uniformly sampled set of 10000 p-values.\n",
      "Estimating pi_0.\n",
      "Estimated pi_0=0.624706\n",
      "Using motif +mef2a.motif of width 10.\n",
      "Using motif -mef2a.motif of width 10.\n",
      "Computing q-values.\n",
      "Estimating pi_0 from a uniformly sampled set of 10000 p-values.\n",
      "Estimating pi_0.\n",
      "Estimated pi_0=1\n",
      "Using motif +mef2b.motif of width 12.\n",
      "Using motif -mef2b.motif of width 12.\n",
      "Computing q-values.\n",
      "Estimating pi_0 from a uniformly sampled set of 10000 p-values.\n",
      "Estimating pi_0.\n",
      "Estimated pi_0=1\n",
      "Using motif +mef2c.motif of width 12.\n",
      "Using motif -mef2c.motif of width 12.\n",
      "Computing q-values.\n",
      "Estimating pi_0 from a uniformly sampled set of 10000 p-values.\n",
      "Estimating pi_0.\n",
      "Estimated pi_0=1\n",
      "Using motif +mef2d.motif of width 12.\n",
      "Using motif -mef2d.motif of width 12.\n",
      "Computing q-values.\n",
      "Estimating pi_0 from a uniformly sampled set of 10000 p-values.\n",
      "Estimating pi_0.\n",
      "Estimated pi_0=1\n",
      "Using motif +meis1.motif of width 10.\n",
      "Using motif -meis1.motif of width 10.\n",
      "Computing q-values.\n",
      "Estimating pi_0 from a uniformly sampled set of 10000 p-values.\n",
      "Estimating pi_0.\n",
      "Estimated pi_0=0.846471\n",
      "Using motif +mitf.motif of width 10.\n",
      "Using motif -mitf.motif of width 10.\n",
      "Computing q-values.\n",
      "Estimating pi_0 from a uniformly sampled set of 10000 p-values.\n",
      "Estimating pi_0.\n",
      "Estimated pi_0=0.840952\n",
      "Using motif +mnt.motif of width 10.\n",
      "Using motif -mnt.motif of width 10.\n",
      "Computing q-values.\n",
      "Estimating pi_0 from a uniformly sampled set of 10000 p-values.\n",
      "Estimating pi_0.\n",
      "Estimated pi_0=0.878077\n",
      "Using motif +myb.motif of width 8.\n",
      "Using motif -myb.motif of width 8.\n",
      "Computing q-values.\n",
      "Estimating pi_0 from a uniformly sampled set of 10000 p-values.\n",
      "Estimating pi_0.\n",
      "Estimated pi_0=0.91604\n",
      "Using motif +myba.motif of width 10.\n",
      "Using motif -myba.motif of width 10.\n",
      "Computing q-values.\n",
      "Estimating pi_0 from a uniformly sampled set of 10000 p-values.\n",
      "Estimating pi_0.\n",
      "Estimated pi_0=0.949841\n",
      "Using motif +myf5.motif of width 10.\n",
      "Using motif -myf5.motif of width 10.\n",
      "Computing q-values.\n",
      "Estimating pi_0 from a uniformly sampled set of 10000 p-values.\n",
      "Estimating pi_0.\n",
      "Estimated pi_0=0.828119\n",
      "Using motif +mynn.motif of width 15.\n",
      "Using motif -mynn.motif of width 15.\n",
      "Computing q-values.\n",
      "Estimating pi_0 from a uniformly sampled set of 10000 p-values.\n",
      "Estimating pi_0.\n",
      "Estimated pi_0=1\n",
      "Using motif +myod.motif of width 12.\n",
      "Using motif -myod.motif of width 12.\n",
      "Computing q-values.\n",
      "Estimating pi_0 from a uniformly sampled set of 10000 p-values.\n",
      "Estimating pi_0.\n",
      "Estimated pi_0=0.847368\n",
      "Using motif +myog.motif of width 8.\n",
      "Using motif -myog.motif of width 8.\n",
      "Computing q-values.\n",
      "Estimating pi_0 from a uniformly sampled set of 10000 p-values.\n",
      "Estimating pi_0.\n",
      "Estimated pi_0=0.85744\n",
      "Using motif +nanog.motif of width 10.\n",
      "Using motif -nanog.motif of width 10.\n",
      "Computing q-values.\n",
      "Estimating pi_0 from a uniformly sampled set of 10000 p-values.\n",
      "Estimating pi_0.\n",
      "Estimated pi_0=1\n",
      "Using motif +neurod1.motif of width 10.\n",
      "Using motif -neurod1.motif of width 10.\n",
      "Computing q-values.\n",
      "Estimating pi_0 from a uniformly sampled set of 10000 p-values.\n",
      "Estimating pi_0.\n",
      "Estimated pi_0=0.871887\n",
      "Using motif +neurog2.motif of width 10.\n",
      "Using motif -neurog2.motif of width 10.\n",
      "Computing q-values.\n",
      "Estimating pi_0 from a uniformly sampled set of 10000 p-values.\n",
      "Estimating pi_0.\n",
      "Estimated pi_0=0.918318\n",
      "Using motif +nf1-fox.motif of width 16.\n",
      "Using motif -nf1-fox.motif of width 16.\n",
      "Computing q-values.\n",
      "Estimating pi_0 from a uniformly sampled set of 10000 p-values.\n",
      "Estimating pi_0.\n",
      "Estimated pi_0=1\n",
      "Using motif +nf1-half.motif of width 8.\n",
      "Using motif -nf1-half.motif of width 8.\n",
      "Computing q-values.\n",
      "Estimating pi_0 from a uniformly sampled set of 10000 p-values.\n",
      "Estimating pi_0.\n",
      "Estimated pi_0=0.79271\n",
      "Using motif +nf1.motif of width 16.\n",
      "Using motif -nf1.motif of width 16.\n",
      "Computing q-values.\n",
      "Estimating pi_0 from a uniformly sampled set of 10000 p-values.\n",
      "Estimating pi_0.\n",
      "Estimated pi_0=0.782342\n",
      "Using motif +nfat-ap1.motif of width 20.\n",
      "Using motif -nfat-ap1.motif of width 20.\n",
      "Computing q-values.\n",
      "Estimating pi_0 from a uniformly sampled set of 10000 p-values.\n",
      "Estimating pi_0.\n",
      "Estimated pi_0=0.998191\n",
      "Using motif +nfatc1.motif of width 10.\n",
      "Using motif -nfatc1.motif of width 10.\n",
      "Computing q-values.\n",
      "Estimating pi_0 from a uniformly sampled set of 10000 p-values.\n",
      "Estimating pi_0.\n",
      "Estimated pi_0=1\n",
      "Using motif +nfe2.motif of width 12.\n",
      "Using motif -nfe2.motif of width 12.\n",
      "Computing q-values.\n",
      "Estimating pi_0 from a uniformly sampled set of 10000 p-values.\n",
      "Estimating pi_0.\n",
      "Estimated pi_0=0.999899\n",
      "Using motif +nfe2l2.motif of width 15.\n",
      "Using motif -nfe2l2.motif of width 15.\n"
     ]
    },
    {
     "name": "stdout",
     "output_type": "stream",
     "text": [
      "Computing q-values.\n",
      "Estimating pi_0 from a uniformly sampled set of 10000 p-values.\n",
      "Estimating pi_0.\n",
      "Estimated pi_0=1\n",
      "Using motif +nfil3.motif of width 15.\n",
      "Using motif -nfil3.motif of width 15.\n",
      "Computing q-values.\n",
      "Estimating pi_0 from a uniformly sampled set of 10000 p-values.\n",
      "Estimating pi_0.\n",
      "Estimated pi_0=1\n",
      "Using motif +nfkb.motif of width 10.\n",
      "Using motif -nfkb.motif of width 10.\n",
      "Computing q-values.\n",
      "Estimating pi_0 from a uniformly sampled set of 10000 p-values.\n",
      "Estimating pi_0.\n",
      "Estimated pi_0=1\n",
      "Using motif +nfy.motif of width 10.\n",
      "Using motif -nfy.motif of width 10.\n",
      "Computing q-values.\n",
      "Estimating pi_0 from a uniformly sampled set of 10000 p-values.\n",
      "Estimating pi_0.\n",
      "Estimated pi_0=0.84835\n",
      "Using motif +nkx2.1.motif of width 10.\n",
      "Using motif -nkx2.1.motif of width 10.\n",
      "Computing q-values.\n",
      "Estimating pi_0 from a uniformly sampled set of 10000 p-values.\n",
      "Estimating pi_0.\n",
      "Estimated pi_0=0.999497\n",
      "Using motif +nkx2.2.motif of width 10.\n",
      "Using motif -nkx2.2.motif of width 10.\n",
      "Computing q-values.\n",
      "Estimating pi_0 from a uniformly sampled set of 10000 p-values.\n",
      "Estimating pi_0.\n",
      "Estimated pi_0=0.94031\n",
      "Using motif +nkx2.5.motif of width 10.\n",
      "Using motif -nkx2.5.motif of width 10.\n",
      "Computing q-values.\n",
      "Estimating pi_0 from a uniformly sampled set of 10000 p-values.\n",
      "Estimating pi_0.\n",
      "Estimated pi_0=0.995918\n",
      "Using motif +nkx3.1.motif of width 10.\n",
      "Using motif -nkx3.1.motif of width 10.\n",
      "Computing q-values.\n",
      "Estimating pi_0 from a uniformly sampled set of 10000 p-values.\n",
      "Estimating pi_0.\n",
      "Estimated pi_0=1\n",
      "Using motif +nkx6.1.motif of width 8.\n",
      "Using motif -nkx6.1.motif of width 8.\n",
      "Computing q-values.\n",
      "Estimating pi_0 from a uniformly sampled set of 10000 p-values.\n",
      "Estimating pi_0.\n",
      "Estimated pi_0=1\n",
      "Using motif +nmyc.motif of width 10.\n",
      "Using motif -nmyc.motif of width 10.\n",
      "Computing q-values.\n",
      "Estimating pi_0 from a uniformly sampled set of 10000 p-values.\n",
      "Estimating pi_0.\n",
      "Estimated pi_0=0.744314\n",
      "Using motif +npas.motif of width 8.\n",
      "Using motif -npas.motif of width 8.\n",
      "Computing q-values.\n",
      "Estimating pi_0 from a uniformly sampled set of 10000 p-values.\n",
      "Estimating pi_0.\n",
      "Estimated pi_0=0.867179\n",
      "Using motif +npas2.motif of width 10.\n",
      "Using motif -npas2.motif of width 10.\n",
      "Computing q-values.\n",
      "Estimating pi_0 from a uniformly sampled set of 10000 p-values.\n",
      "Estimating pi_0.\n",
      "Estimated pi_0=0.869714\n",
      "Using motif +nr2f6.motif of width 12.\n",
      "Using motif -nr2f6.motif of width 12.\n",
      "Computing q-values.\n",
      "Estimating pi_0 from a uniformly sampled set of 10000 p-values.\n",
      "Estimating pi_0.\n",
      "Estimated pi_0=0.830769\n",
      "Using motif +nr5a2.motif of width 10.\n",
      "Using motif -nr5a2.motif of width 10.\n",
      "Computing q-values.\n",
      "Estimating pi_0 from a uniformly sampled set of 10000 p-values.\n",
      "Estimating pi_0.\n",
      "Estimated pi_0=0.922969\n",
      "Using motif +nrf.motif of width 12.\n",
      "Using motif -nrf.motif of width 12.\n",
      "Computing q-values.\n",
      "Estimating pi_0 from a uniformly sampled set of 10000 p-values.\n",
      "Estimating pi_0.\n",
      "Estimated pi_0=0.669138\n",
      "Using motif +nrf1.motif of width 12.\n",
      "Using motif -nrf1.motif of width 12.\n",
      "Computing q-values.\n",
      "Estimating pi_0 from a uniformly sampled set of 10000 p-values.\n",
      "Estimating pi_0.\n",
      "Estimated pi_0=0.618812\n",
      "Using motif +nrf2.motif of width 12.\n",
      "Using motif -nrf2.motif of width 12.\n",
      "Computing q-values.\n",
      "Estimating pi_0 from a uniformly sampled set of 10000 p-values.\n",
      "Estimating pi_0.\n",
      "Estimated pi_0=1\n",
      "Using motif +nur77.motif of width 12.\n",
      "Using motif -nur77.motif of width 12.\n",
      "Computing q-values.\n",
      "Estimating pi_0 from a uniformly sampled set of 10000 p-values.\n",
      "Estimating pi_0.\n",
      "Estimated pi_0=1\n",
      "Using motif +oct-oct.motif of width 15.\n",
      "Using motif -oct-oct.motif of width 15.\n",
      "Computing q-values.\n",
      "Estimating pi_0 from a uniformly sampled set of 10000 p-values.\n",
      "Estimating pi_0.\n",
      "Estimated pi_0=1\n",
      "Using motif +oct-oct.short.motif of width 15.\n",
      "Using motif -oct-oct.short.motif of width 15.\n",
      "Computing q-values.\n",
      "Estimating pi_0 from a uniformly sampled set of 10000 p-values.\n",
      "Estimating pi_0.\n",
      "Estimated pi_0=1\n",
      "Using motif +oct.ir.motif of width 15.\n",
      "Using motif -oct.ir.motif of width 15.\n",
      "Computing q-values.\n",
      "Estimating pi_0 from a uniformly sampled set of 10000 p-values.\n",
      "Estimating pi_0.\n",
      "Estimated pi_0=1\n",
      "Using motif +oct.ir1.motif of width 15.\n",
      "Using motif -oct.ir1.motif of width 15.\n",
      "Computing q-values.\n",
      "Estimating pi_0 from a uniformly sampled set of 10000 p-values.\n",
      "Estimating pi_0.\n",
      "Estimated pi_0=1\n",
      "Using motif +oct2.motif of width 10.\n",
      "Using motif -oct2.motif of width 10.\n",
      "Computing q-values.\n",
      "Estimating pi_0 from a uniformly sampled set of 10000 p-values.\n",
      "Estimating pi_0.\n",
      "Estimated pi_0=1\n",
      "Using motif +oct4-sox17.motif of width 15.\n",
      "Using motif -oct4-sox17.motif of width 15.\n",
      "Computing q-values.\n",
      "Estimating pi_0 from a uniformly sampled set of 10000 p-values.\n",
      "Estimating pi_0.\n",
      "Estimated pi_0=1\n",
      "Using motif +oct4-sox2.motif of width 15.\n",
      "Using motif -oct4-sox2.motif of width 15.\n",
      "Computing q-values.\n",
      "Estimating pi_0 from a uniformly sampled set of 10000 p-values.\n",
      "Estimating pi_0.\n",
      "Estimated pi_0=1\n",
      "Using motif +oct4.motif of width 10.\n",
      "Using motif -oct4.motif of width 10.\n",
      "Computing q-values.\n",
      "Estimating pi_0 from a uniformly sampled set of 10000 p-values.\n",
      "Estimating pi_0.\n",
      "Estimated pi_0=1\n",
      "Using motif +oct6.motif of width 12.\n",
      "Using motif -oct6.motif of width 12.\n",
      "Computing q-values.\n",
      "Estimating pi_0 from a uniformly sampled set of 10000 p-values.\n",
      "Estimating pi_0.\n",
      "Estimated pi_0=1\n",
      "Using motif +olig2.motif of width 10.\n",
      "Using motif -olig2.motif of width 10.\n",
      "Computing q-values.\n",
      "Estimating pi_0 from a uniformly sampled set of 10000 p-values.\n",
      "Estimating pi_0.\n",
      "Estimated pi_0=0.971818\n",
      "Using motif +otx2.motif of width 10.\n",
      "Using motif -otx2.motif of width 10.\n",
      "Computing q-values.\n",
      "Estimating pi_0 from a uniformly sampled set of 10000 p-values.\n",
      "Estimating pi_0.\n",
      "Estimated pi_0=1\n",
      "Using motif +p50.motif of width 12.\n",
      "Using motif -p50.motif of width 12.\n",
      "Computing q-values.\n",
      "Estimating pi_0 from a uniformly sampled set of 10000 p-values.\n",
      "Estimating pi_0.\n",
      "Estimated pi_0=0.680396\n",
      "Using motif +p53-myc.motif of width 14.\n",
      "Using motif -p53-myc.motif of width 14.\n",
      "Computing q-values.\n",
      "Estimating pi_0 from a uniformly sampled set of 10000 p-values.\n",
      "Estimating pi_0.\n",
      "Estimated pi_0=0.783178\n",
      "Using motif +p53.motif of width 20.\n",
      "Using motif -p53.motif of width 20.\n",
      "Computing q-values.\n",
      "Estimating pi_0 from a uniformly sampled set of 10000 p-values.\n",
      "Estimating pi_0.\n",
      "Estimated pi_0=0.946456\n",
      "Using motif +p63.motif of width 20.\n",
      "Using motif -p63.motif of width 20.\n",
      "Computing q-values.\n",
      "Estimating pi_0 from a uniformly sampled set of 10000 p-values.\n",
      "Estimating pi_0.\n",
      "Estimated pi_0=0.952121\n",
      "Using motif +p65.motif of width 12.\n",
      "Using motif -p65.motif of width 12.\n",
      "Computing q-values.\n",
      "Estimating pi_0 from a uniformly sampled set of 10000 p-values.\n",
      "Estimating pi_0.\n",
      "Estimated pi_0=0.973292\n",
      "Using motif +p73.motif of width 20.\n",
      "Using motif -p73.motif of width 20.\n",
      "Computing q-values.\n",
      "Estimating pi_0 from a uniformly sampled set of 10000 p-values.\n",
      "Estimating pi_0.\n",
      "Estimated pi_0=0.953953\n",
      "Using motif +pax3-fkhr.motif of width 15.\n",
      "Using motif -pax3-fkhr.motif of width 15.\n",
      "Computing q-values.\n",
      "Estimating pi_0 from a uniformly sampled set of 10000 p-values.\n",
      "Estimating pi_0.\n",
      "Estimated pi_0=1\n",
      "Using motif +pax5-short.motif of width 14.\n",
      "Using motif -pax5-short.motif of width 14.\n",
      "Computing q-values.\n",
      "Estimating pi_0 from a uniformly sampled set of 10000 p-values.\n",
      "Estimating pi_0.\n",
      "Estimated pi_0=0.688627\n",
      "Using motif +pax5.motif of width 16.\n",
      "Using motif -pax5.motif of width 16.\n",
      "Computing q-values.\n",
      "Estimating pi_0 from a uniformly sampled set of 10000 p-values.\n",
      "Estimating pi_0.\n",
      "Estimated pi_0=0.701373\n",
      "Using motif +pax6.motif of width 20.\n",
      "Using motif -pax6.motif of width 20.\n",
      "Computing q-values.\n",
      "Estimating pi_0 from a uniformly sampled set of 10000 p-values.\n",
      "Estimating pi_0.\n",
      "Estimated pi_0=0.888148\n",
      "Using motif +pax7-long.motif of width 12.\n",
      "Using motif -pax7-long.motif of width 12.\n",
      "Computing q-values.\n",
      "Estimating pi_0 from a uniformly sampled set of 10000 p-values.\n",
      "Estimating pi_0.\n",
      "Estimated pi_0=1\n",
      "Using motif +pax7-longest.motif of width 20.\n",
      "Using motif -pax7-longest.motif of width 20.\n",
      "Computing q-values.\n",
      "Estimating pi_0 from a uniformly sampled set of 10000 p-values.\n",
      "Estimating pi_0.\n",
      "Estimated pi_0=1\n",
      "Using motif +pax7.motif of width 10.\n",
      "Using motif -pax7.motif of width 10.\n",
      "Computing q-values.\n",
      "Estimating pi_0 from a uniformly sampled set of 10000 p-values.\n",
      "Estimating pi_0.\n",
      "Estimated pi_0=1\n",
      "Using motif +pax8.motif of width 15.\n",
      "Using motif -pax8.motif of width 15.\n"
     ]
    },
    {
     "name": "stdout",
     "output_type": "stream",
     "text": [
      "Computing q-values.\n",
      "Estimating pi_0 from a uniformly sampled set of 10000 p-values.\n",
      "Estimating pi_0.\n",
      "Estimated pi_0=0.678812\n",
      "Using motif +pbx1.motif of width 12.\n",
      "Using motif -pbx1.motif of width 12.\n",
      "Computing q-values.\n",
      "Estimating pi_0 from a uniformly sampled set of 10000 p-values.\n",
      "Estimating pi_0.\n",
      "Estimated pi_0=0.893663\n",
      "Using motif +pbx2.motif of width 12.\n",
      "Using motif -pbx2.motif of width 12.\n",
      "Computing q-values.\n",
      "Estimating pi_0 from a uniformly sampled set of 10000 p-values.\n",
      "Estimating pi_0.\n",
      "Estimated pi_0=1\n",
      "Using motif +pbx3.motif of width 12.\n",
      "Using motif -pbx3.motif of width 12.\n",
      "Computing q-values.\n",
      "Estimating pi_0 from a uniformly sampled set of 10000 p-values.\n",
      "Estimating pi_0.\n",
      "Estimated pi_0=0.946212\n",
      "Using motif +pdx1.motif of width 10.\n",
      "Using motif -pdx1.motif of width 10.\n",
      "Computing q-values.\n",
      "Estimating pi_0 from a uniformly sampled set of 10000 p-values.\n",
      "Estimating pi_0.\n",
      "Estimated pi_0=1\n",
      "Using motif +pgr.motif of width 15.\n",
      "Using motif -pgr.motif of width 15.\n",
      "Computing q-values.\n",
      "Estimating pi_0 from a uniformly sampled set of 10000 p-values.\n",
      "Estimating pi_0.\n",
      "Estimated pi_0=1\n",
      "Using motif +phox2a.motif of width 12.\n",
      "Using motif -phox2a.motif of width 12.\n",
      "Computing q-values.\n",
      "Estimating pi_0 from a uniformly sampled set of 10000 p-values.\n",
      "Estimating pi_0.\n",
      "Estimated pi_0=1\n",
      "Using motif +pit1-long.motif of width 12.\n",
      "Using motif -pit1-long.motif of width 12.\n",
      "Computing q-values.\n",
      "Estimating pi_0 from a uniformly sampled set of 10000 p-values.\n",
      "Estimating pi_0.\n",
      "Estimated pi_0=1\n",
      "Using motif +pit1.motif of width 10.\n",
      "Using motif -pit1.motif of width 10.\n",
      "Computing q-values.\n",
      "Estimating pi_0 from a uniformly sampled set of 10000 p-values.\n",
      "Estimating pi_0.\n",
      "Estimated pi_0=1\n",
      "Using motif +pitx1-ebox.motif of width 18.\n",
      "Using motif -pitx1-ebox.motif of width 18.\n",
      "Computing q-values.\n",
      "Estimating pi_0 from a uniformly sampled set of 10000 p-values.\n",
      "Estimating pi_0.\n",
      "Estimated pi_0=1\n",
      "Using motif +pitx1.motif of width 8.\n",
      "Using motif -pitx1.motif of width 8.\n",
      "Computing q-values.\n",
      "Estimating pi_0 from a uniformly sampled set of 10000 p-values.\n",
      "Estimating pi_0.\n",
      "Estimated pi_0=1\n",
      "Using motif +pknox1.motif of width 12.\n",
      "Using motif -pknox1.motif of width 12.\n",
      "Computing q-values.\n",
      "Estimating pi_0 from a uniformly sampled set of 10000 p-values.\n",
      "Estimating pi_0.\n",
      "Estimated pi_0=0.908182\n",
      "Using motif +pparg.motif of width 14.\n",
      "Using motif -pparg.motif of width 14.\n",
      "Computing q-values.\n",
      "Estimating pi_0 from a uniformly sampled set of 10000 p-values.\n",
      "Estimating pi_0.\n",
      "Estimated pi_0=0.920759\n",
      "Using motif +pr.motif of width 15.\n",
      "Using motif -pr.motif of width 15.\n",
      "Computing q-values.\n",
      "Estimating pi_0 from a uniformly sampled set of 10000 p-values.\n",
      "Estimating pi_0.\n",
      "Estimated pi_0=0.999095\n",
      "Using motif +prdm1.motif of width 12.\n",
      "Using motif -prdm1.motif of width 12.\n",
      "Computing q-values.\n",
      "Estimating pi_0 from a uniformly sampled set of 10000 p-values.\n",
      "Estimating pi_0.\n",
      "Estimated pi_0=0.999196\n",
      "Using motif +prdm10.motif of width 12.\n",
      "Using motif -prdm10.motif of width 12.\n",
      "Computing q-values.\n",
      "Estimating pi_0 from a uniformly sampled set of 10000 p-values.\n",
      "Estimating pi_0.\n",
      "Estimated pi_0=0.948382\n",
      "Using motif +prdm14.motif of width 12.\n",
      "Using motif -prdm14.motif of width 12.\n",
      "Computing q-values.\n",
      "Estimating pi_0 from a uniformly sampled set of 10000 p-values.\n",
      "Estimating pi_0.\n",
      "Estimated pi_0=1\n",
      "Using motif +prdm9.motif of width 15.\n",
      "Using motif -prdm9.motif of width 15.\n",
      "Computing q-values.\n",
      "Estimating pi_0 from a uniformly sampled set of 10000 p-values.\n",
      "Estimating pi_0.\n",
      "Estimated pi_0=0.993673\n",
      "Using motif +prop1.motif of width 12.\n",
      "Using motif -prop1.motif of width 12.\n",
      "Computing q-values.\n",
      "Estimating pi_0 from a uniformly sampled set of 10000 p-values.\n",
      "Estimating pi_0.\n",
      "Estimated pi_0=1\n",
      "Using motif +ptf1a.motif of width 10.\n",
      "Using motif -ptf1a.motif of width 10.\n",
      "Computing q-values.\n",
      "Estimating pi_0 from a uniformly sampled set of 10000 p-values.\n",
      "Estimating pi_0.\n",
      "Estimated pi_0=0.743704\n",
      "Using motif +pu1-irf.motif of width 12.\n",
      "Using motif -pu1-irf.motif of width 12.\n",
      "Computing q-values.\n",
      "Estimating pi_0 from a uniformly sampled set of 10000 p-values.\n",
      "Estimating pi_0.\n",
      "Estimated pi_0=0.974945\n",
      "Using motif +pu1-irf8.motif of width 12.\n",
      "Using motif -pu1-irf8.motif of width 12.\n",
      "Computing q-values.\n",
      "Estimating pi_0 from a uniformly sampled set of 10000 p-values.\n",
      "Estimating pi_0.\n",
      "Estimated pi_0=0.999598\n",
      "Using motif +pu1.motif of width 10.\n",
      "Using motif -pu1.motif of width 10.\n",
      "Computing q-values.\n",
      "Estimating pi_0 from a uniformly sampled set of 10000 p-values.\n",
      "Estimating pi_0.\n",
      "Estimated pi_0=0.92432\n",
      "Using motif +rara.motif of width 10.\n",
      "Using motif -rara.motif of width 10.\n",
      "Computing q-values.\n",
      "Estimating pi_0 from a uniformly sampled set of 10000 p-values.\n",
      "Estimating pi_0.\n",
      "Estimated pi_0=0.984048\n",
      "Using motif +rarg.motif of width 12.\n",
      "Using motif -rarg.motif of width 12.\n",
      "Computing q-values.\n",
      "Estimating pi_0 from a uniformly sampled set of 10000 p-values.\n",
      "Estimating pi_0.\n",
      "Estimated pi_0=0.944837\n",
      "Using motif +rbpj1-ebox.motif of width 17.\n",
      "Using motif -rbpj1-ebox.motif of width 17.\n",
      "Computing q-values.\n",
      "Estimating pi_0 from a uniformly sampled set of 10000 p-values.\n",
      "Estimating pi_0.\n",
      "Estimated pi_0=0.885\n",
      "Using motif +rbpj1.motif of width 10.\n",
      "Using motif -rbpj1.motif of width 10.\n",
      "Computing q-values.\n",
      "Estimating pi_0 from a uniformly sampled set of 10000 p-values.\n",
      "Estimating pi_0.\n",
      "Estimated pi_0=0.950308\n",
      "Using motif +rest.motif of width 20.\n",
      "Using motif -rest.motif of width 20.\n",
      "Computing q-values.\n",
      "Estimating pi_0 from a uniformly sampled set of 10000 p-values.\n",
      "Estimating pi_0.\n",
      "Estimated pi_0=0.77566\n",
      "Using motif +reverb.motif of width 16.\n",
      "Using motif -reverb.motif of width 16.\n",
      "Computing q-values.\n",
      "Estimating pi_0 from a uniformly sampled set of 10000 p-values.\n",
      "Estimating pi_0.\n",
      "Estimated pi_0=0.816604\n",
      "Using motif +rfx1.motif of width 14.\n",
      "Using motif -rfx1.motif of width 14.\n",
      "Computing q-values.\n",
      "Estimating pi_0 from a uniformly sampled set of 10000 p-values.\n",
      "Estimating pi_0.\n",
      "Estimated pi_0=0.909286\n",
      "Using motif +rfx2.motif of width 15.\n",
      "Using motif -rfx2.motif of width 15.\n",
      "Computing q-values.\n",
      "Estimating pi_0 from a uniformly sampled set of 10000 p-values.\n",
      "Estimating pi_0.\n",
      "Estimated pi_0=0.924409\n",
      "Using motif +rfx3.motif of width 16.\n",
      "Using motif -rfx3.motif of width 16.\n",
      "Computing q-values.\n",
      "Estimating pi_0 from a uniformly sampled set of 10000 p-values.\n",
      "Estimating pi_0.\n",
      "Estimated pi_0=0.852427\n",
      "Using motif +rfx5.motif of width 12.\n",
      "Using motif -rfx5.motif of width 12.\n",
      "Computing q-values.\n",
      "Estimating pi_0 from a uniformly sampled set of 10000 p-values.\n",
      "Estimating pi_0.\n",
      "Estimated pi_0=0.955862\n",
      "Using motif +rfx6.motif of width 15.\n",
      "Using motif -rfx6.motif of width 15.\n",
      "Computing q-values.\n",
      "Estimating pi_0 from a uniformly sampled set of 10000 p-values.\n",
      "Estimating pi_0.\n",
      "Estimated pi_0=0.907538\n",
      "Using motif +ronin.motif of width 20.\n",
      "Using motif -ronin.motif of width 20.\n",
      "Computing q-values.\n",
      "Estimating pi_0 from a uniformly sampled set of 10000 p-values.\n",
      "Estimating pi_0.\n",
      "Estimated pi_0=0.882364\n",
      "Using motif +rorc.motif of width 10.\n",
      "Using motif -rorc.motif of width 10.\n",
      "Computing q-values.\n",
      "Estimating pi_0 from a uniformly sampled set of 10000 p-values.\n",
      "Estimating pi_0.\n",
      "Estimated pi_0=1\n",
      "Using motif +runx.motif of width 10.\n",
      "Using motif -runx.motif of width 10.\n",
      "Computing q-values.\n",
      "Estimating pi_0 from a uniformly sampled set of 10000 p-values.\n",
      "Estimating pi_0.\n",
      "Estimated pi_0=0.956857\n",
      "Using motif +runx1.motif of width 10.\n",
      "Using motif -runx1.motif of width 10.\n",
      "Computing q-values.\n",
      "Estimating pi_0 from a uniformly sampled set of 10000 p-values.\n",
      "Estimating pi_0.\n",
      "Estimated pi_0=0.986667\n",
      "Using motif +runx1m.motif of width 10.\n",
      "Using motif -runx1m.motif of width 10.\n",
      "Computing q-values.\n",
      "Estimating pi_0 from a uniformly sampled set of 10000 p-values.\n",
      "Estimating pi_0.\n",
      "Estimated pi_0=0.996458\n",
      "Using motif +runx2.motif of width 12.\n",
      "Using motif -runx2.motif of width 12.\n",
      "Computing q-values.\n",
      "Estimating pi_0 from a uniformly sampled set of 10000 p-values.\n",
      "Estimating pi_0.\n",
      "Estimated pi_0=0.935556\n",
      "Using motif +rxr.motif of width 14.\n",
      "Using motif -rxr.motif of width 14.\n",
      "Computing q-values.\n",
      "Estimating pi_0 from a uniformly sampled set of 10000 p-values.\n",
      "Estimating pi_0.\n",
      "Estimated pi_0=0.87472\n",
      "Using motif +scl.motif of width 8.\n",
      "Using motif -scl.motif of width 8.\n",
      "Computing q-values.\n",
      "Estimating pi_0 from a uniformly sampled set of 10000 p-values.\n",
      "Estimating pi_0.\n",
      "Estimated pi_0=0.9444\n",
      "Using motif +scrt1.motif of width 10.\n",
      "Using motif -scrt1.motif of width 10.\n"
     ]
    },
    {
     "name": "stdout",
     "output_type": "stream",
     "text": [
      "Computing q-values.\n",
      "Estimating pi_0 from a uniformly sampled set of 10000 p-values.\n",
      "Estimating pi_0.\n",
      "Estimated pi_0=0.912613\n",
      "Using motif +sf1.motif of width 10.\n",
      "Using motif -sf1.motif of width 10.\n",
      "Computing q-values.\n",
      "Estimating pi_0 from a uniformly sampled set of 10000 p-values.\n",
      "Estimating pi_0.\n",
      "Estimated pi_0=0.888136\n",
      "Using motif +six1.motif of width 12.\n",
      "Using motif -six1.motif of width 12.\n",
      "Computing q-values.\n",
      "Estimating pi_0 from a uniformly sampled set of 10000 p-values.\n",
      "Estimating pi_0.\n",
      "Estimated pi_0=1\n",
      "Using motif +six2.motif of width 12.\n",
      "Using motif -six2.motif of width 12.\n",
      "Computing q-values.\n",
      "Estimating pi_0 from a uniformly sampled set of 10000 p-values.\n",
      "Estimating pi_0.\n",
      "Estimated pi_0=1\n",
      "Using motif +six4.motif of width 15.\n",
      "Using motif -six4.motif of width 15.\n",
      "Computing q-values.\n",
      "Estimating pi_0 from a uniformly sampled set of 10000 p-values.\n",
      "Estimating pi_0.\n",
      "Estimated pi_0=1\n",
      "Using motif +smad2.motif of width 8.\n",
      "Using motif -smad2.motif of width 8.\n",
      "Computing q-values.\n",
      "Estimating pi_0 from a uniformly sampled set of 10000 p-values.\n",
      "Estimating pi_0.\n",
      "Estimated pi_0=0.781132\n",
      "Using motif +smad3.motif of width 8.\n",
      "Using motif -smad3.motif of width 8.\n",
      "Computing q-values.\n",
      "Estimating pi_0 from a uniformly sampled set of 10000 p-values.\n",
      "Estimating pi_0.\n",
      "Estimated pi_0=0.988865\n",
      "Using motif +smad4.motif of width 10.\n",
      "Using motif -smad4.motif of width 10.\n",
      "Computing q-values.\n",
      "Estimating pi_0 from a uniformly sampled set of 10000 p-values.\n",
      "Estimating pi_0.\n",
      "Estimated pi_0=0.831228\n",
      "Using motif +snai2.motif of width 12.\n",
      "Using motif -snai2.motif of width 12.\n",
      "Computing q-values.\n",
      "Estimating pi_0 from a uniformly sampled set of 10000 p-values.\n",
      "Estimating pi_0.\n",
      "Estimated pi_0=0.758788\n",
      "Using motif +sox10.motif of width 10.\n",
      "Using motif -sox10.motif of width 10.\n",
      "Computing q-values.\n",
      "Estimating pi_0 from a uniformly sampled set of 10000 p-values.\n",
      "Estimating pi_0.\n",
      "Estimated pi_0=1\n",
      "Using motif +sox15.motif of width 10.\n",
      "Using motif -sox15.motif of width 10.\n",
      "Computing q-values.\n",
      "Estimating pi_0 from a uniformly sampled set of 10000 p-values.\n",
      "Estimating pi_0.\n",
      "Estimated pi_0=1\n",
      "Using motif +sox17.motif of width 10.\n",
      "Using motif -sox17.motif of width 10.\n",
      "Computing q-values.\n",
      "Estimating pi_0 from a uniformly sampled set of 10000 p-values.\n",
      "Estimating pi_0.\n",
      "Estimated pi_0=1\n",
      "Using motif +sox2.motif of width 10.\n",
      "Using motif -sox2.motif of width 10.\n",
      "Computing q-values.\n",
      "Estimating pi_0 from a uniformly sampled set of 10000 p-values.\n",
      "Estimating pi_0.\n",
      "Estimated pi_0=1\n",
      "Using motif +sox3.motif of width 8.\n",
      "Using motif -sox3.motif of width 8.\n",
      "Computing q-values.\n",
      "Estimating pi_0 from a uniformly sampled set of 10000 p-values.\n",
      "Estimating pi_0.\n",
      "Estimated pi_0=1\n",
      "Using motif +sox4.motif of width 10.\n",
      "Using motif -sox4.motif of width 10.\n",
      "Computing q-values.\n",
      "Estimating pi_0 from a uniformly sampled set of 10000 p-values.\n",
      "Estimating pi_0.\n",
      "Estimated pi_0=0.999397\n",
      "Using motif +sox6.motif of width 10.\n",
      "Using motif -sox6.motif of width 10.\n",
      "Computing q-values.\n",
      "Estimating pi_0 from a uniformly sampled set of 10000 p-values.\n",
      "Estimating pi_0.\n",
      "Estimated pi_0=1\n",
      "Using motif +sox9.motif of width 12.\n",
      "Using motif -sox9.motif of width 12.\n",
      "Computing q-values.\n",
      "Estimating pi_0 from a uniformly sampled set of 10000 p-values.\n",
      "Estimating pi_0.\n",
      "Estimated pi_0=1\n",
      "Using motif +sp1.motif of width 12.\n",
      "Using motif -sp1.motif of width 12.\n",
      "Computing q-values.\n",
      "Estimating pi_0 from a uniformly sampled set of 10000 p-values.\n",
      "Estimating pi_0.\n",
      "Estimated pi_0=0.613393\n",
      "Using motif +sp2.motif of width 12.\n",
      "Using motif -sp2.motif of width 12.\n",
      "Computing q-values.\n",
      "Estimating pi_0 from a uniformly sampled set of 10000 p-values.\n",
      "Estimating pi_0.\n",
      "Estimated pi_0=0.755728\n",
      "Using motif +sp5.motif of width 12.\n",
      "Using motif -sp5.motif of width 12.\n",
      "Computing q-values.\n",
      "Estimating pi_0 from a uniformly sampled set of 10000 p-values.\n",
      "Estimating pi_0.\n",
      "Estimated pi_0=0.749735\n",
      "Using motif +spdef.motif of width 10.\n",
      "Using motif -spdef.motif of width 10.\n",
      "Computing q-values.\n",
      "Estimating pi_0 from a uniformly sampled set of 10000 p-values.\n",
      "Estimating pi_0.\n",
      "Estimated pi_0=0.997172\n",
      "Using motif +spib.motif of width 12.\n",
      "Using motif -spib.motif of width 12.\n",
      "Computing q-values.\n",
      "Estimating pi_0 from a uniformly sampled set of 10000 p-values.\n",
      "Estimating pi_0.\n",
      "Estimated pi_0=0.974371\n",
      "Using motif +srebp1a.motif of width 10.\n",
      "Using motif -srebp1a.motif of width 10.\n",
      "Computing q-values.\n",
      "Estimating pi_0 from a uniformly sampled set of 10000 p-values.\n",
      "Estimating pi_0.\n",
      "Estimated pi_0=0.845487\n",
      "Using motif +srebp2.motif of width 12.\n",
      "Using motif -srebp2.motif of width 12.\n",
      "Computing q-values.\n",
      "Estimating pi_0 from a uniformly sampled set of 10000 p-values.\n",
      "Estimating pi_0.\n",
      "Estimated pi_0=0.762157\n",
      "Using motif +srf.motif of width 12.\n",
      "Using motif -srf.motif of width 12.\n",
      "Computing q-values.\n",
      "Estimating pi_0 from a uniformly sampled set of 10000 p-values.\n",
      "Estimating pi_0.\n",
      "Estimated pi_0=1\n",
      "Using motif +staf.motif of width 15.\n",
      "Using motif -staf.motif of width 15.\n",
      "Computing q-values.\n",
      "Estimating pi_0 from a uniformly sampled set of 10000 p-values.\n",
      "Estimating pi_0.\n",
      "Estimated pi_0=0.813889\n",
      "Using motif +stat1.motif of width 14.\n",
      "Using motif -stat1.motif of width 14.\n",
      "Computing q-values.\n",
      "Estimating pi_0 from a uniformly sampled set of 10000 p-values.\n",
      "Estimating pi_0.\n",
      "Estimated pi_0=1\n",
      "Using motif +stat3.il23.motif of width 14.\n",
      "Using motif -stat3.il23.motif of width 14.\n",
      "Computing q-values.\n",
      "Estimating pi_0 from a uniformly sampled set of 10000 p-values.\n",
      "Estimating pi_0.\n",
      "Estimated pi_0=0.990805\n",
      "Using motif +stat3.motif of width 10.\n",
      "Using motif -stat3.motif of width 10.\n",
      "Computing q-values.\n",
      "Estimating pi_0 from a uniformly sampled set of 10000 p-values.\n",
      "Estimating pi_0.\n",
      "Estimated pi_0=0.92537\n",
      "Using motif +stat4.motif of width 12.\n",
      "Using motif -stat4.motif of width 12.\n",
      "Computing q-values.\n",
      "Estimating pi_0 from a uniformly sampled set of 10000 p-values.\n",
      "Estimating pi_0.\n",
      "Estimated pi_0=0.999296\n",
      "Using motif +stat5.motif of width 12.\n",
      "Using motif -stat5.motif of width 12.\n",
      "Computing q-values.\n",
      "Estimating pi_0 from a uniformly sampled set of 10000 p-values.\n",
      "Estimating pi_0.\n",
      "Estimated pi_0=1\n",
      "Using motif +stat6.2.motif of width 10.\n",
      "Using motif -stat6.2.motif of width 10.\n",
      "Computing q-values.\n",
      "Estimating pi_0 from a uniformly sampled set of 10000 p-values.\n",
      "Estimating pi_0.\n",
      "Estimated pi_0=1\n",
      "Using motif +stat6.motif of width 12.\n",
      "Using motif -stat6.motif of width 12.\n",
      "Computing q-values.\n",
      "Estimating pi_0 from a uniformly sampled set of 10000 p-values.\n",
      "Estimating pi_0.\n",
      "Estimated pi_0=1\n",
      "Using motif +t1isre.motif of width 12.\n",
      "Using motif -t1isre.motif of width 12.\n",
      "Computing q-values.\n",
      "Estimating pi_0 from a uniformly sampled set of 10000 p-values.\n",
      "Estimating pi_0.\n",
      "Estimated pi_0=1\n",
      "Using motif +tata.motif of width 12.\n",
      "Using motif -tata.motif of width 12.\n",
      "Computing q-values.\n",
      "Estimating pi_0 from a uniformly sampled set of 10000 p-values.\n",
      "Estimating pi_0.\n",
      "Estimated pi_0=1\n",
      "Using motif +tbet.motif of width 10.\n",
      "Using motif -tbet.motif of width 10.\n",
      "Computing q-values.\n",
      "Estimating pi_0 from a uniformly sampled set of 10000 p-values.\n",
      "Estimating pi_0.\n",
      "Estimated pi_0=1\n",
      "Using motif +tbox-smad.motif of width 12.\n",
      "Using motif -tbox-smad.motif of width 12.\n",
      "Computing q-values.\n",
      "Estimating pi_0 from a uniformly sampled set of 10000 p-values.\n",
      "Estimating pi_0.\n",
      "Estimated pi_0=0.904874\n",
      "Using motif +tbr1.motif of width 10.\n",
      "Using motif -tbr1.motif of width 10.\n",
      "Computing q-values.\n",
      "Estimating pi_0 from a uniformly sampled set of 10000 p-values.\n",
      "Estimating pi_0.\n",
      "Estimated pi_0=1\n",
      "Using motif +tbx20.motif of width 12.\n",
      "Using motif -tbx20.motif of width 12.\n",
      "Computing q-values.\n",
      "Estimating pi_0 from a uniformly sampled set of 10000 p-values.\n",
      "Estimating pi_0.\n",
      "Estimated pi_0=0.957015\n",
      "Using motif +tbx21.motif of width 10.\n",
      "Using motif -tbx21.motif of width 10.\n",
      "Computing q-values.\n",
      "Estimating pi_0 from a uniformly sampled set of 10000 p-values.\n",
      "Estimating pi_0.\n",
      "Estimated pi_0=1\n",
      "Using motif +tbx5.motif of width 8.\n",
      "Using motif -tbx5.motif of width 8.\n",
      "Computing q-values.\n",
      "Estimating pi_0 from a uniformly sampled set of 10000 p-values.\n",
      "Estimating pi_0.\n",
      "Estimated pi_0=0.913667\n",
      "Using motif +tcf12.motif of width 10.\n",
      "Using motif -tcf12.motif of width 10.\n",
      "Computing q-values.\n",
      "Estimating pi_0 from a uniformly sampled set of 10000 p-values.\n",
      "Estimating pi_0.\n",
      "Estimated pi_0=0.762018\n",
      "Using motif +tcf21.motif of width 10.\n",
      "Using motif -tcf21.motif of width 10.\n"
     ]
    },
    {
     "name": "stdout",
     "output_type": "stream",
     "text": [
      "Computing q-values.\n",
      "Estimating pi_0 from a uniformly sampled set of 10000 p-values.\n",
      "Estimating pi_0.\n",
      "Estimated pi_0=0.865397\n",
      "Using motif +tcf3.motif of width 10.\n",
      "Using motif -tcf3.motif of width 10.\n",
      "Computing q-values.\n",
      "Estimating pi_0 from a uniformly sampled set of 10000 p-values.\n",
      "Estimating pi_0.\n",
      "Estimated pi_0=1\n",
      "Using motif +tcf4.motif of width 12.\n",
      "Using motif -tcf4.motif of width 12.\n",
      "Computing q-values.\n",
      "Estimating pi_0 from a uniformly sampled set of 10000 p-values.\n",
      "Estimating pi_0.\n",
      "Estimated pi_0=1\n",
      "Using motif +tcf7.motif of width 12.\n",
      "Using motif -tcf7.motif of width 12.\n",
      "Computing q-values.\n",
      "Estimating pi_0 from a uniformly sampled set of 10000 p-values.\n",
      "Estimating pi_0.\n",
      "Estimated pi_0=1\n",
      "Using motif +tcf7l2.motif of width 10.\n",
      "Using motif -tcf7l2.motif of width 10.\n",
      "Computing q-values.\n",
      "Estimating pi_0 from a uniformly sampled set of 10000 p-values.\n",
      "Estimating pi_0.\n",
      "Estimated pi_0=1\n",
      "Using motif +tcfcp2l1.motif of width 20.\n",
      "Using motif -tcfcp2l1.motif of width 20.\n",
      "Computing q-values.\n",
      "Estimating pi_0 from a uniformly sampled set of 10000 p-values.\n",
      "Estimating pi_0.\n",
      "Estimated pi_0=0.872982\n",
      "Using motif +tead.motif of width 10.\n",
      "Using motif -tead.motif of width 10.\n",
      "Computing q-values.\n",
      "Estimating pi_0 from a uniformly sampled set of 10000 p-values.\n",
      "Estimating pi_0.\n",
      "Estimated pi_0=1\n",
      "Using motif +tead1.motif of width 10.\n",
      "Using motif -tead1.motif of width 10.\n",
      "Computing q-values.\n",
      "Estimating pi_0 from a uniformly sampled set of 10000 p-values.\n",
      "Estimating pi_0.\n",
      "Estimated pi_0=1\n",
      "Using motif +tead2.motif of width 10.\n",
      "Using motif -tead2.motif of width 10.\n",
      "Computing q-values.\n",
      "Estimating pi_0 from a uniformly sampled set of 10000 p-values.\n",
      "Estimating pi_0.\n",
      "Estimated pi_0=1\n",
      "Using motif +tead3.motif of width 10.\n",
      "Using motif -tead3.motif of width 10.\n",
      "Computing q-values.\n",
      "Estimating pi_0 from a uniformly sampled set of 10000 p-values.\n",
      "Estimating pi_0.\n",
      "Estimated pi_0=1\n",
      "Using motif +tead4.motif of width 10.\n",
      "Using motif -tead4.motif of width 10.\n",
      "Computing q-values.\n",
      "Estimating pi_0 from a uniformly sampled set of 10000 p-values.\n",
      "Estimating pi_0.\n",
      "Estimated pi_0=0.994157\n",
      "Using motif +tfe3.motif of width 12.\n",
      "Using motif -tfe3.motif of width 12.\n",
      "Computing q-values.\n",
      "Estimating pi_0 from a uniformly sampled set of 10000 p-values.\n",
      "Estimating pi_0.\n",
      "Estimated pi_0=0.884423\n",
      "Using motif +tgif1.motif of width 8.\n",
      "Using motif -tgif1.motif of width 8.\n",
      "Computing q-values.\n",
      "Estimating pi_0 from a uniformly sampled set of 10000 p-values.\n",
      "Estimating pi_0.\n",
      "Estimated pi_0=1\n",
      "Using motif +tgif2.motif of width 8.\n",
      "Using motif -tgif2.motif of width 8.\n",
      "Computing q-values.\n",
      "Estimating pi_0 from a uniformly sampled set of 10000 p-values.\n",
      "Estimating pi_0.\n",
      "Estimated pi_0=0.998404\n",
      "Using motif +thrb.motif of width 15.\n",
      "Using motif -thrb.motif of width 15.\n",
      "Computing q-values.\n",
      "Estimating pi_0 from a uniformly sampled set of 10000 p-values.\n",
      "Estimating pi_0.\n",
      "Estimated pi_0=0.723366\n",
      "Using motif +tlx.motif of width 14.\n",
      "Using motif -tlx.motif of width 14.\n",
      "Computing q-values.\n",
      "Estimating pi_0 from a uniformly sampled set of 10000 p-values.\n",
      "Estimating pi_0.\n",
      "Estimated pi_0=0.881\n",
      "Using motif +tr4.motif of width 14.\n",
      "Using motif -tr4.motif of width 14.\n",
      "Computing q-values.\n",
      "Estimating pi_0 from a uniformly sampled set of 10000 p-values.\n",
      "Estimating pi_0.\n",
      "Estimated pi_0=0.884308\n",
      "Using motif +tra.motif of width 15.\n",
      "Using motif -tra.motif of width 15.\n",
      "Computing q-values.\n",
      "Estimating pi_0 from a uniformly sampled set of 10000 p-values.\n",
      "Estimating pi_0.\n",
      "Estimated pi_0=0.834909\n",
      "Using motif +trb.motif of width 8.\n",
      "Using motif -trb.motif of width 8.\n",
      "Computing q-values.\n",
      "Estimating pi_0 from a uniformly sampled set of 10000 p-values.\n",
      "Estimating pi_0.\n",
      "Estimated pi_0=0.93678\n",
      "Using motif +twist1.motif of width 20.\n",
      "Using motif -twist1.motif of width 20.\n",
      "Computing q-values.\n",
      "Estimating pi_0 from a uniformly sampled set of 10000 p-values.\n",
      "Estimating pi_0.\n",
      "Estimated pi_0=0.870619\n",
      "Using motif +usf1.motif of width 10.\n",
      "Using motif -usf1.motif of width 10.\n",
      "Computing q-values.\n",
      "Estimating pi_0 from a uniformly sampled set of 10000 p-values.\n",
      "Estimating pi_0.\n",
      "Estimated pi_0=0.773861\n",
      "Using motif +usf2.motif of width 10.\n",
      "Using motif -usf2.motif of width 10.\n",
      "Computing q-values.\n",
      "Estimating pi_0 from a uniformly sampled set of 10000 p-values.\n",
      "Estimating pi_0.\n",
      "Estimated pi_0=0.860367\n",
      "Using motif +vdr.motif of width 20.\n",
      "Using motif -vdr.motif of width 20.\n",
      "Computing q-values.\n",
      "Estimating pi_0 from a uniformly sampled set of 10000 p-values.\n",
      "Estimating pi_0.\n",
      "Estimated pi_0=0.884961\n",
      "Using motif +xbox.motif of width 14.\n",
      "Using motif -xbox.motif of width 14.\n",
      "Computing q-values.\n",
      "Estimating pi_0 from a uniformly sampled set of 10000 p-values.\n",
      "Estimating pi_0.\n",
      "Estimated pi_0=1\n",
      "Using motif +yy1.motif of width 12.\n",
      "Using motif -yy1.motif of width 12.\n",
      "Computing q-values.\n",
      "Estimating pi_0 from a uniformly sampled set of 10000 p-values.\n",
      "Estimating pi_0.\n",
      "Estimated pi_0=0.847961\n",
      "Using motif +zbtb12.motif of width 15.\n",
      "Using motif -zbtb12.motif of width 15.\n",
      "Computing q-values.\n",
      "Estimating pi_0 from a uniformly sampled set of 10000 p-values.\n",
      "Estimating pi_0.\n",
      "Estimated pi_0=0.852321\n",
      "Using motif +zbtb18.motif of width 10.\n",
      "Using motif -zbtb18.motif of width 10.\n",
      "Computing q-values.\n",
      "Estimating pi_0 from a uniformly sampled set of 10000 p-values.\n",
      "Estimating pi_0.\n",
      "Estimated pi_0=0.838077\n",
      "Using motif +zbtb33.motif of width 15.\n",
      "Using motif -zbtb33.motif of width 15.\n",
      "Computing q-values.\n",
      "Estimating pi_0 from a uniformly sampled set of 10000 p-values.\n",
      "Estimating pi_0.\n",
      "Estimated pi_0=0.654902\n",
      "Using motif +zeb1.motif of width 10.\n",
      "Using motif -zeb1.motif of width 10.\n",
      "Computing q-values.\n",
      "Estimating pi_0 from a uniformly sampled set of 10000 p-values.\n",
      "Estimating pi_0.\n",
      "Estimated pi_0=0.879692\n",
      "Using motif +zfp281.motif of width 12.\n",
      "Using motif -zfp281.motif of width 12.\n",
      "Computing q-values.\n",
      "Estimating pi_0 from a uniformly sampled set of 10000 p-values.\n",
      "Estimating pi_0.\n",
      "Estimated pi_0=0.734727\n",
      "Using motif +zfp3.motif of width 25.\n",
      "Using motif -zfp3.motif of width 25.\n",
      "Computing q-values.\n",
      "Estimating pi_0 from a uniformly sampled set of 10000 p-values.\n",
      "Estimating pi_0.\n",
      "Estimated pi_0=0.993684\n",
      "Using motif +zfp809.motif of width 15.\n",
      "Using motif -zfp809.motif of width 15.\n",
      "Computing q-values.\n",
      "Estimating pi_0 from a uniformly sampled set of 10000 p-values.\n",
      "Estimating pi_0.\n",
      "Estimated pi_0=0.658416\n",
      "Using motif +zfx.motif of width 8.\n",
      "Using motif -zfx.motif of width 8.\n",
      "Computing q-values.\n",
      "Estimating pi_0 from a uniformly sampled set of 10000 p-values.\n",
      "Estimating pi_0.\n",
      "Estimated pi_0=0.759\n",
      "Using motif +zic.motif of width 10.\n",
      "Using motif -zic.motif of width 10.\n",
      "Computing q-values.\n",
      "Estimating pi_0 from a uniformly sampled set of 10000 p-values.\n",
      "Estimating pi_0.\n",
      "Estimated pi_0=0.876038\n",
      "Using motif +zic3.motif of width 15.\n",
      "Using motif -zic3.motif of width 15.\n",
      "Computing q-values.\n",
      "Estimating pi_0 from a uniformly sampled set of 10000 p-values.\n",
      "Estimating pi_0.\n",
      "Estimated pi_0=0.661569\n",
      "Using motif +zkscan1.motif of width 15.\n",
      "Using motif -zkscan1.motif of width 15.\n",
      "Computing q-values.\n",
      "Estimating pi_0 from a uniformly sampled set of 10000 p-values.\n",
      "Estimating pi_0.\n",
      "Estimated pi_0=0.813269\n",
      "Using motif +znf136.motif of width 25.\n",
      "Using motif -znf136.motif of width 25.\n",
      "Computing q-values.\n",
      "Estimating pi_0 from a uniformly sampled set of 10000 p-values.\n",
      "Estimating pi_0.\n",
      "Estimated pi_0=1\n",
      "Using motif +znf16.motif of width 25.\n",
      "Using motif -znf16.motif of width 25.\n",
      "Computing q-values.\n",
      "Estimating pi_0 from a uniformly sampled set of 10000 p-values.\n",
      "Estimating pi_0.\n",
      "Estimated pi_0=0.816102\n",
      "Using motif +znf165.motif of width 15.\n",
      "Using motif -znf165.motif of width 15.\n",
      "Computing q-values.\n",
      "Estimating pi_0 from a uniformly sampled set of 10000 p-values.\n",
      "Estimating pi_0.\n",
      "Estimated pi_0=0.651683\n",
      "Using motif +znf189.motif of width 10.\n",
      "Using motif -znf189.motif of width 10.\n",
      "Computing q-values.\n",
      "Estimating pi_0 from a uniformly sampled set of 10000 p-values.\n",
      "Estimating pi_0.\n",
      "Estimated pi_0=0.90597\n",
      "Using motif +znf263.motif of width 10.\n",
      "Using motif -znf263.motif of width 10.\n",
      "Computing q-values.\n",
      "Estimating pi_0 from a uniformly sampled set of 10000 p-values.\n",
      "Estimating pi_0.\n",
      "Estimated pi_0=0.706607\n",
      "Using motif +znf264.motif of width 12.\n",
      "Using motif -znf264.motif of width 12.\n",
      "Computing q-values.\n",
      "Estimating pi_0 from a uniformly sampled set of 10000 p-values.\n",
      "Estimating pi_0.\n",
      "Estimated pi_0=0.894464\n",
      "Using motif +znf317.motif of width 15.\n",
      "Using motif -znf317.motif of width 15.\n"
     ]
    },
    {
     "name": "stdout",
     "output_type": "stream",
     "text": [
      "Computing q-values.\n",
      "Estimating pi_0 from a uniformly sampled set of 10000 p-values.\n",
      "Estimating pi_0.\n",
      "Estimated pi_0=0.982762\n",
      "Using motif +znf322.motif of width 20.\n",
      "Using motif -znf322.motif of width 20.\n",
      "Computing q-values.\n",
      "Estimating pi_0 from a uniformly sampled set of 10000 p-values.\n",
      "Estimating pi_0.\n",
      "Estimated pi_0=0.838974\n",
      "Using motif +znf382.motif of width 20.\n",
      "Using motif -znf382.motif of width 20.\n",
      "Computing q-values.\n",
      "Estimating pi_0 from a uniformly sampled set of 10000 p-values.\n",
      "Estimating pi_0.\n",
      "Estimated pi_0=0.999296\n",
      "Using motif +znf41.motif of width 25.\n",
      "Using motif -znf41.motif of width 25.\n",
      "Computing q-values.\n",
      "Estimating pi_0 from a uniformly sampled set of 10000 p-values.\n",
      "Estimating pi_0.\n",
      "Estimated pi_0=0.941081\n",
      "Using motif +znf415.motif of width 12.\n",
      "Using motif -znf415.motif of width 12.\n",
      "Computing q-values.\n",
      "Estimating pi_0 from a uniformly sampled set of 10000 p-values.\n",
      "Estimating pi_0.\n",
      "Estimated pi_0=0.800381\n",
      "Using motif +znf416.motif of width 10.\n",
      "Using motif -znf416.motif of width 10.\n",
      "Computing q-values.\n",
      "Estimating pi_0 from a uniformly sampled set of 10000 p-values.\n",
      "Estimating pi_0.\n",
      "Estimated pi_0=0.922252\n",
      "Using motif +znf467.motif of width 12.\n",
      "Using motif -znf467.motif of width 12.\n",
      "Computing q-values.\n",
      "Estimating pi_0 from a uniformly sampled set of 10000 p-values.\n",
      "Estimating pi_0.\n",
      "Estimated pi_0=0.823333\n",
      "Using motif +znf519.motif of width 10.\n",
      "Using motif -znf519.motif of width 10.\n",
      "Computing q-values.\n",
      "Estimating pi_0 from a uniformly sampled set of 10000 p-values.\n",
      "Estimating pi_0.\n",
      "Estimated pi_0=0.6636\n",
      "Using motif +znf528.motif of width 15.\n",
      "Using motif -znf528.motif of width 15.\n",
      "Computing q-values.\n",
      "Estimating pi_0 from a uniformly sampled set of 10000 p-values.\n",
      "Estimating pi_0.\n",
      "Estimated pi_0=0.999799\n",
      "Using motif +znf652.motif of width 15.\n",
      "Using motif -znf652.motif of width 15.\n",
      "Computing q-values.\n",
      "Estimating pi_0 from a uniformly sampled set of 10000 p-values.\n",
      "Estimating pi_0.\n",
      "Estimated pi_0=1\n",
      "Using motif +znf669.motif of width 15.\n",
      "Using motif -znf669.motif of width 15.\n",
      "Computing q-values.\n",
      "Estimating pi_0 from a uniformly sampled set of 10000 p-values.\n",
      "Estimating pi_0.\n",
      "Estimated pi_0=0.727379\n",
      "Using motif +znf675.motif of width 15.\n",
      "Using motif -znf675.motif of width 15.\n",
      "Computing q-values.\n",
      "Estimating pi_0 from a uniformly sampled set of 10000 p-values.\n",
      "Estimating pi_0.\n",
      "Estimated pi_0=0.999899\n",
      "Using motif +znf692.motif of width 10.\n",
      "Using motif -znf692.motif of width 10.\n",
      "Computing q-values.\n",
      "Estimating pi_0 from a uniformly sampled set of 10000 p-values.\n",
      "Estimating pi_0.\n",
      "Estimated pi_0=0.627327\n",
      "Using motif +znf7.motif of width 45.\n",
      "Using motif -znf7.motif of width 45.\n",
      "Computing q-values.\n",
      "Estimating pi_0 from a uniformly sampled set of 10000 p-values.\n",
      "Estimating pi_0.\n",
      "Estimated pi_0=0.827525\n",
      "Using motif +znf711.motif of width 8.\n",
      "Using motif -znf711.motif of width 8.\n",
      "Computing q-values.\n",
      "Estimating pi_0 from a uniformly sampled set of 10000 p-values.\n",
      "Estimating pi_0.\n",
      "Estimated pi_0=0.647184\n",
      "Using motif +zscan22.motif of width 20.\n",
      "Using motif -zscan22.motif of width 20.\n",
      "Computing q-values.\n",
      "Estimating pi_0 from a uniformly sampled set of 10000 p-values.\n",
      "Estimating pi_0.\n",
      "Estimated pi_0=0.810236\n",
      "The output directory 'Results/Figures/SuppFigure3/TSS1.exp_refseq_centered_meme' already exists.\n",
      "Its contents will not be overwritten.\n",
      "FATAL: Couldn't create output directory Results/Figures/SuppFigure3/TSS1.exp_refseq_centered_meme.\n",
      "\n",
      "692.647359133\n"
     ]
    }
   ],
   "source": [
    "t = time.time()\n",
    "seq_f = os.path.join(\"Results/Figures/SuppFigure3/TSS1.exp_refseq_centered.fa\")\n",
    "meme_motifs_dir = '/data/isshamie/TSS/Analysis/supplemental/homer_motifs/MEME_motifs.txt'\n",
    "out_dir = \"Results/Figures/SuppFigure3/TSS1.exp_refseq_centered_meme\"\n",
    "#f_save = 'Results/Figures/SuppFigure3/TSS1.exp_refseq_centered_instance_meme'\n",
    "cmd = \"fimo --o {out_dir} {motif_f} {seq_f} \".format(motif_f=meme_motifs_dir,seq_f=seq_f,out_dir=out_dir)\n",
    "print(cmd)\n",
    "!{cmd}\n",
    "print(time.time()-t)"
   ]
  },
  {
   "cell_type": "markdown",
   "metadata": {
    "ExecuteTime": {
     "end_time": "2019-03-01T01:07:35.858743Z",
     "start_time": "2019-03-01T01:07:35.854889Z"
    }
   },
   "source": [
    "--------"
   ]
  },
  {
   "cell_type": "markdown",
   "metadata": {
    "ExecuteTime": {
     "end_time": "2019-03-01T01:07:35.858743Z",
     "start_time": "2019-03-01T01:07:35.854889Z"
    }
   },
   "source": [
    "--------"
   ]
  },
  {
   "cell_type": "markdown",
   "metadata": {
    "ExecuteTime": {
     "end_time": "2019-03-01T01:07:35.858743Z",
     "start_time": "2019-03-01T01:07:35.854889Z"
    }
   },
   "source": [
    "--------"
   ]
  },
  {
   "cell_type": "markdown",
   "metadata": {
    "ExecuteTime": {
     "end_time": "2019-03-01T01:07:35.858743Z",
     "start_time": "2019-03-01T01:07:35.854889Z"
    }
   },
   "source": [
    "--------"
   ]
  },
  {
   "cell_type": "markdown",
   "metadata": {},
   "source": [
    "# 2.\n",
    "## Now use each individual peak files"
   ]
  },
  {
   "cell_type": "code",
   "execution_count": null,
   "metadata": {
    "ExecuteTime": {
     "start_time": "2019-02-16T07:34:38.689Z"
    }
   },
   "outputs": [
    {
     "name": "stdout",
     "output_type": "stream",
     "text": [
      "\n",
      "\tExtracting sequences from file: /data/isshamie/genome/ncbi_anno_103/GCF_003668045.1_CriGri-PICR_genomic.fna\n",
      "\tLooking for peak sequences in a single file (/data/isshamie/genome/ncbi_anno_103/GCF_003668045.1_CriGri-PICR_genomic.fna)\n",
      "\tExtracting 181 sequences from NW_020822366.1\n",
      "\tExtracting 620 sequences from NW_020822370.1\n",
      "\tExtracting 127 sequences from NW_020822372.1\n",
      "\tExtracting 120 sequences from NW_020822373.1\n",
      "\tExtracting 56 sequences from NW_020822374.1\n",
      "\tExtracting 520 sequences from NW_020822375.1\n",
      "\tExtracting 147 sequences from NW_020822376.1\n",
      "\tExtracting 82 sequences from NW_020822377.1\n",
      "\tExtracting 91 sequences from NW_020822379.1\n",
      "\tExtracting 290 sequences from NW_020822381.1\n",
      "\tExtracting 50 sequences from NW_020822382.1\n",
      "\tExtracting 27 sequences from NW_020822385.1\n",
      "\tExtracting 158 sequences from NW_020822388.1\n",
      "\tExtracting 42 sequences from NW_020822390.1\n",
      "\tExtracting 14 sequences from NW_020822391.1\n",
      "\tExtracting 99 sequences from NW_020822393.1\n",
      "\tExtracting 19 sequences from NW_020822394.1\n",
      "\tExtracting 34 sequences from NW_020822396.1\n",
      "\tExtracting 308 sequences from NW_020822398.1\n",
      "\tExtracting 9 sequences from NW_020822399.1\n",
      "\tExtracting 24 sequences from NW_020822402.1\n",
      "\tExtracting 345 sequences from NW_020822403.1\n",
      "\tExtracting 2 sequences from NW_020822404.1\n",
      "\tExtracting 1 sequences from NW_020822405.1\n",
      "\tExtracting 717 sequences from NW_020822406.1\n",
      "\tExtracting 267 sequences from NW_020822407.1\n",
      "\tExtracting 235 sequences from NW_020822409.1\n",
      "\tExtracting 298 sequences from NW_020822410.1\n",
      "\tExtracting 187 sequences from NW_020822412.1\n",
      "\tExtracting 3 sequences from NW_020822413.1\n",
      "\tExtracting 970 sequences from NW_020822415.1\n",
      "\tExtracting 10 sequences from NW_020822416.1\n",
      "\tExtracting 73 sequences from NW_020822419.1\n",
      "\tExtracting 429 sequences from NW_020822420.1\n",
      "\tExtracting 110 sequences from NW_020822421.1\n",
      "\tExtracting 457 sequences from NW_020822423.1\n",
      "\tExtracting 226 sequences from NW_020822425.1\n",
      "\tExtracting 75 sequences from NW_020822426.1\n",
      "\tExtracting 119 sequences from NW_020822427.1\n",
      "\tExtracting 303 sequences from NW_020822428.1\n",
      "\tExtracting 378 sequences from NW_020822429.1\n",
      "\tExtracting 1 sequences from NW_020822431.1\n",
      "\tExtracting 122 sequences from NW_020822432.1\n",
      "\tExtracting 149 sequences from NW_020822434.1\n",
      "\tExtracting 88 sequences from NW_020822435.1\n",
      "\tExtracting 157 sequences from NW_020822436.1\n",
      "\tExtracting 666 sequences from NW_020822438.1\n",
      "\tExtracting 1743 sequences from NW_020822439.1\n",
      "\tExtracting 99 sequences from NW_020822440.1\n",
      "\tExtracting 99 sequences from NW_020822442.1\n",
      "\tExtracting 286 sequences from NW_020822443.1\n",
      "\tExtracting 69 sequences from NW_020822444.1\n",
      "\tExtracting 149 sequences from NW_020822446.1\n",
      "\tExtracting 27 sequences from NW_020822449.1\n",
      "\tExtracting 295 sequences from NW_020822450.1\n",
      "\tExtracting 10 sequences from NW_020822451.1\n",
      "\tExtracting 999 sequences from NW_020822452.1\n",
      "\tExtracting 1 sequences from NW_020822453.1\n",
      "\tExtracting 213 sequences from NW_020822454.1\n",
      "\tExtracting 117 sequences from NW_020822455.1\n",
      "\tExtracting 194 sequences from NW_020822457.1\n",
      "\tExtracting 295 sequences from NW_020822458.1\n",
      "\tExtracting 166 sequences from NW_020822459.1\n",
      "\tExtracting 330 sequences from NW_020822460.1\n",
      "\tExtracting 706 sequences from NW_020822461.1\n",
      "\tExtracting 241 sequences from NW_020822462.1\n",
      "\tExtracting 268 sequences from NW_020822464.1\n",
      "\tExtracting 312 sequences from NW_020822465.1\n",
      "\tExtracting 272 sequences from NW_020822466.1\n",
      "\tExtracting 72 sequences from NW_020822467.1\n",
      "\tExtracting 696 sequences from NW_020822468.1\n",
      "\tExtracting 104 sequences from NW_020822469.1\n",
      "\tExtracting 535 sequences from NW_020822470.1\n",
      "\tExtracting 87 sequences from NW_020822471.1\n",
      "\tExtracting 321 sequences from NW_020822474.1\n",
      "\tExtracting 24 sequences from NW_020822475.1\n",
      "\tExtracting 170 sequences from NW_020822476.1\n",
      "\tExtracting 50 sequences from NW_020822483.1\n",
      "\tExtracting 46 sequences from NW_020822484.1\n",
      "\tExtracting 453 sequences from NW_020822486.1\n",
      "\tExtracting 491 sequences from NW_020822487.1\n",
      "\tExtracting 38 sequences from NW_020822488.1\n",
      "\tExtracting 169 sequences from NW_020822490.1\n",
      "\tExtracting 15 sequences from NW_020822493.1\n",
      "\tExtracting 2 sequences from NW_020822495.1\n",
      "\tExtracting 3 sequences from NW_020822498.1\n",
      "\tExtracting 499 sequences from NW_020822499.1\n",
      "\tExtracting 583 sequences from NW_020822501.1\n",
      "\tExtracting 410 sequences from NW_020822503.1\n",
      "\tExtracting 372 sequences from NW_020822504.1\n",
      "\tExtracting 792 sequences from NW_020822505.1\n",
      "\tExtracting 371 sequences from NW_020822506.1\n",
      "\tExtracting 468 sequences from NW_020822507.1\n",
      "\tExtracting 310 sequences from NW_020822508.1\n",
      "\tExtracting 188 sequences from NW_020822511.1\n",
      "\tExtracting 100 sequences from NW_020822512.1\n",
      "\tExtracting 238 sequences from NW_020822513.1\n",
      "\tExtracting 39 sequences from NW_020822518.1\n",
      "\tExtracting 587 sequences from NW_020822519.1\n",
      "\tExtracting 169 sequences from NW_020822520.1\n",
      "\tExtracting 582 sequences from NW_020822526.1\n",
      "\tExtracting 6 sequences from NW_020822528.1\n",
      "\tExtracting 1064 sequences from NW_020822529.1\n",
      "\tExtracting 417 sequences from NW_020822530.1\n",
      "\tExtracting 465 sequences from NW_020822531.1\n",
      "\tExtracting 491 sequences from NW_020822532.1\n",
      "\tExtracting 331 sequences from NW_020822533.1\n",
      "\tExtracting 136 sequences from NW_020822534.1\n",
      "\tExtracting 310 sequences from NW_020822535.1\n",
      "\tExtracting 268 sequences from NW_020822537.1\n",
      "\tExtracting 243 sequences from NW_020822538.1\n",
      "\tExtracting 257 sequences from NW_020822539.1\n",
      "\tExtracting 67 sequences from NW_020822544.1\n",
      "\tExtracting 84 sequences from NW_020822545.1\n",
      "\tExtracting 64 sequences from NW_020822550.1\n",
      "\tExtracting 15 sequences from NW_020822552.1\n",
      "\tExtracting 105 sequences from NW_020822555.1\n",
      "\tExtracting 161 sequences from NW_020822557.1\n",
      "\tExtracting 153 sequences from NW_020822558.1\n",
      "\tExtracting 60 sequences from NW_020822559.1\n",
      "\tExtracting 17 sequences from NW_020822563.1\n",
      "\tExtracting 1236 sequences from NW_020822567.1\n",
      "\tExtracting 605 sequences from NW_020822570.1\n",
      "\tExtracting 1 sequences from NW_020822576.1\n",
      "\tExtracting 574 sequences from NW_020822577.1\n",
      "\tExtracting 1 sequences from NW_020822579.1\n",
      "\tExtracting 1 sequences from NW_020822580.1\n",
      "\tExtracting 1 sequences from NW_020822585.1\n",
      "\tExtracting 480 sequences from NW_020822586.1\n",
      "\tExtracting 83 sequences from NW_020822591.1\n",
      "\tExtracting 94 sequences from NW_020822592.1\n",
      "\tExtracting 12 sequences from NW_020822595.1\n",
      "\tExtracting 140 sequences from NW_020822596.1\n",
      "\tExtracting 434 sequences from NW_020822597.1\n",
      "\tExtracting 252 sequences from NW_020822598.1\n",
      "\tExtracting 1418 sequences from NW_020822601.1\n",
      "\tExtracting 340 sequences from NW_020822602.1\n",
      "\tExtracting 371 sequences from NW_020822603.1\n",
      "\tExtracting 294 sequences from NW_020822604.1\n",
      "\tExtracting 120 sequences from NW_020822605.1\n",
      "\tExtracting 313 sequences from NW_020822606.1\n",
      "\tExtracting 59 sequences from NW_020822607.1\n",
      "\tExtracting 475 sequences from NW_020822608.1\n",
      "\tExtracting 2 sequences from NW_020822609.1\n",
      "\tExtracting 411 sequences from NW_020822610.1\n",
      "\tExtracting 661 sequences from NW_020822611.1\n",
      "\tExtracting 216 sequences from NW_020822614.1\n",
      "\tExtracting 1626 sequences from NW_020822615.1\n",
      "\tExtracting 418 sequences from NW_020822616.1\n",
      "\tExtracting 223 sequences from NW_020822618.1\n",
      "\tExtracting 143 sequences from NW_020822619.1\n",
      "\tExtracting 97 sequences from NW_020822620.1\n",
      "\tExtracting 22 sequences from NW_020822621.1\n",
      "\tExtracting 77 sequences from NW_020822623.1\n",
      "\tExtracting 26 sequences from NW_020822626.1\n",
      "\tExtracting 21 sequences from NW_020822627.1\n",
      "\tExtracting 25 sequences from NW_020822628.1\n",
      "\tExtracting 221 sequences from NW_020822629.1\n",
      "\tExtracting 386 sequences from NW_020822630.1\n",
      "\tExtracting 202 sequences from NW_020822632.1\n",
      "\tExtracting 247 sequences from NW_020822634.1\n",
      "\tExtracting 226 sequences from NW_020822636.1\n",
      "\tExtracting 176 sequences from NW_020822638.1\n",
      "\tExtracting 36 sequences from NW_020822641.1\n",
      "\tExtracting 94 sequences from NW_020822642.1\n",
      "\tExtracting 305 sequences from NW_020822643.1\n",
      "\tExtracting 117 sequences from NW_020822644.1\n",
      "\tExtracting 23 sequences from NW_020822645.1\n",
      "\tExtracting 104 sequences from NW_020822646.1\n",
      "\tExtracting 37 sequences from NW_020822647.1\n",
      "\tExtracting 68 sequences from NW_020822648.1\n",
      "\tExtracting 52 sequences from NW_020822649.1\n",
      "\tExtracting 34 sequences from NW_020822650.1\n",
      "\tExtracting 33 sequences from NW_020822651.1\n",
      "\tExtracting 44 sequences from NW_020822652.1\n",
      "\tExtracting 9 sequences from NW_020822653.1\n",
      "\tExtracting 32 sequences from NW_020822654.1\n",
      "\tExtracting 6 sequences from NW_020822656.1\n",
      "\tExtracting 312 sequences from NW_020822657.1\n",
      "\tExtracting 306 sequences from NW_020822658.1\n"
     ]
    },
    {
     "name": "stdout",
     "output_type": "stream",
     "text": [
      "\tExtracting 74 sequences from NW_020822663.1\n",
      "\tExtracting 42 sequences from NW_020822664.1\n",
      "\tExtracting 53 sequences from NW_020822665.1\n",
      "\tExtracting 39 sequences from NW_020822666.1\n",
      "\tExtracting 38 sequences from NW_020822668.1\n",
      "\tExtracting 13 sequences from NW_020822670.1\n",
      "\tExtracting 27 sequences from NW_020822671.1\n",
      "\tExtracting 35 sequences from NW_020822672.1\n",
      "\tExtracting 21 sequences from NW_020822674.1\n",
      "\tExtracting 47 sequences from NW_020822676.1\n",
      "\tExtracting 74 sequences from NW_020822680.1\n",
      "\tExtracting 20 sequences from NW_020822681.1\n",
      "\tExtracting 4 sequences from NW_020822685.1\n",
      "\tExtracting 20 sequences from NW_020822686.1\n",
      "\tExtracting 127 sequences from NW_020822687.1\n",
      "\tExtracting 143 sequences from NW_020822688.1\n",
      "\tExtracting 1 sequences from NW_020822689.1\n",
      "\tExtracting 1 sequences from NW_020822690.1\n",
      "\tExtracting 174 sequences from NW_020822698.1\n",
      "\tExtracting 46 sequences from NW_020822699.1\n",
      "\tExtracting 81 sequences from NW_020822701.1\n",
      "\tExtracting 71 sequences from NW_020822703.1\n",
      "\tExtracting 2 sequences from NW_020822714.1\n",
      "\tExtracting 1 sequences from NW_020822726.1\n",
      "\tExtracting 1 sequences from NW_020822732.1\n",
      "\tExtracting 1 sequences from NW_020822734.1\n",
      "\tExtracting 1 sequences from NW_020822799.1\n",
      "\tExtracting 1 sequences from NW_020822807.1\n",
      "\tExtracting 1 sequences from NW_020822828.1\n",
      "\tExtracting 2 sequences from NW_020822839.1\n",
      "\tExtracting 2 sequences from NW_020822897.1\n",
      "\tExtracting 1 sequences from NW_020822937.1\n",
      "\tExtracting 2 sequences from NW_020822963.1\n",
      "\tExtracting 1 sequences from NW_020823156.1\n",
      "\tExtracting 3 sequences from NW_020823167.1\n",
      "\tExtracting 1 sequences from NW_020823172.1\n",
      "\tExtracting 1 sequences from NW_020823226.1\n",
      "\tExtracting 1 sequences from NW_020823280.1\n",
      "\tExtracting 1 sequences from NW_020823286.1\n",
      "\tExtracting 1 sequences from NW_020823318.1\n",
      "\tExtracting 1 sequences from NW_020823398.1\n",
      "\tExtracting 1 sequences from NW_020823411.1\n",
      "\tExtracting 19 sequences from NW_020823422.1\n",
      "\tExtracting 21 sequences from NW_020823468.1\n",
      "\tExtracting 7 sequences from NW_020823469.1\n",
      "\tExtracting 5 sequences from NW_020823473.1\n",
      "\tExtracting 1 sequences from NW_020823484.1\n",
      "\tExtracting 1 sequences from NW_020823485.1\n",
      "\tExtracting 1 sequences from NW_020823489.1\n",
      "\tExtracting 4 sequences from NW_020823490.1\n",
      "\tExtracting 3 sequences from NW_020823499.1\n",
      "\tExtracting 3 sequences from NW_020823500.1\n",
      "\tExtracting 10 sequences from NW_020823503.1\n",
      "\tExtracting 1 sequences from NW_020823512.1\n",
      "\tExtracting 1 sequences from NW_020823513.1\n",
      "\tExtracting 1 sequences from NW_020823516.1\n",
      "\tExtracting 1 sequences from NW_020823518.1\n",
      "\tExtracting 1 sequences from NW_020823519.1\n",
      "\tExtracting 6 sequences from NW_020823529.1\n",
      "\tExtracting 1 sequences from NW_020823532.1\n",
      "\tExtracting 2 sequences from NW_020823533.1\n",
      "\tExtracting 1 sequences from NW_020823538.1\n",
      "\tExtracting 3 sequences from NW_020823556.1\n",
      "\tExtracting 2 sequences from NW_020823558.1\n",
      "\tExtracting 1 sequences from NW_020823563.1\n",
      "\tExtracting 1 sequences from NW_020823569.1\n",
      "\tExtracting 1 sequences from NW_020823570.1\n",
      "\tExtracting 2 sequences from NW_020823574.1\n",
      "\tExtracting 2 sequences from NW_020823581.1\n",
      "\tExtracting 1 sequences from NW_020823585.1\n",
      "\tExtracting 3 sequences from NW_020823586.1\n",
      "\tExtracting 1 sequences from NW_020823587.1\n",
      "\tExtracting 1 sequences from NW_020823588.1\n",
      "\tExtracting 1 sequences from NW_020823612.1\n",
      "\tExtracting 8 sequences from NW_020823627.1\n",
      "\tExtracting 2 sequences from NW_020823629.1\n",
      "\tExtracting 1 sequences from NW_020823633.1\n",
      "\tExtracting 1 sequences from NW_020823655.1\n",
      "\tExtracting 1 sequences from NW_020823658.1\n",
      "\tExtracting 1 sequences from NW_020823659.1\n",
      "\tExtracting 1 sequences from NW_020823663.1\n",
      "\tExtracting 1 sequences from NW_020823674.1\n",
      "\tExtracting 1 sequences from NW_020823676.1\n",
      "\tExtracting 1 sequences from NW_020823679.1\n",
      "\tExtracting 1 sequences from NW_020823695.1\n",
      "\tExtracting 2 sequences from NW_020823701.1\n",
      "\tExtracting 1 sequences from NW_020823704.1\n",
      "\tExtracting 1 sequences from NW_020823707.1\n",
      "\tExtracting 1 sequences from NW_020823718.1\n",
      "\tExtracting 1 sequences from NW_020823720.1\n",
      "\tExtracting 1 sequences from NW_020823741.1\n",
      "\tExtracting 2 sequences from NW_020823749.1\n",
      "\tExtracting 2 sequences from NW_020823754.1\n",
      "\tExtracting 1 sequences from NW_020823767.1\n",
      "\tExtracting 2 sequences from NW_020823770.1\n",
      "\tExtracting 1 sequences from NW_020823806.1\n",
      "\tExtracting 2 sequences from NW_020823812.1\n",
      "\tExtracting 7 sequences from NW_020823819.1\n",
      "\tExtracting 1 sequences from NW_020823831.1\n",
      "\tExtracting 3 sequences from NW_020823871.1\n",
      "\tExtracting 1 sequences from NW_020823876.1\n",
      "\tExtracting 1 sequences from NW_020823887.1\n",
      "\tExtracting 1 sequences from NW_020823928.1\n",
      "\tExtracting 2 sequences from NW_020823957.1\n",
      "\tExtracting 1 sequences from NW_020823970.1\n",
      "\tExtracting 1 sequences from NW_020823976.1\n",
      "\tExtracting 1 sequences from NW_020823980.1\n",
      "\tExtracting 1 sequences from NW_020823984.1\n",
      "\tExtracting 2 sequences from NW_020823989.1\n",
      "\tExtracting 1 sequences from NW_020824003.1\n",
      "\tExtracting 1 sequences from NW_020824021.1\n",
      "\tExtracting 1 sequences from NW_020824030.1\n",
      "\tExtracting 2 sequences from NW_020824056.1\n",
      "\tExtracting 2 sequences from NW_020824066.1\n",
      "\tExtracting 1 sequences from NW_020824067.1\n",
      "\tExtracting 1 sequences from NW_020824096.1\n",
      "\tExtracting 1 sequences from NW_020824107.1\n",
      "\tExtracting 1 sequences from NW_020824114.1\n",
      "\tExtracting 4 sequences from NW_020824120.1\n",
      "\tExtracting 2 sequences from NW_020824125.1\n",
      "\tExtracting 1 sequences from NW_020824156.1\n",
      "\tExtracting 1 sequences from NW_020824159.1\n",
      "homerTools extract f04_peaks/MiscOrgans_START1_and_MiscOrgans_startinput1 /data/isshamie/genome/ncbi_anno_103/GCF_003668045.1_CriGri-PICR_genomic.fna -fa > Results/Figures/SuppFigure3/fasta_files/MiscOrgans_START1_and_MiscOrgans_startinput1.fa\n",
      "Using motif +ap1.motif of width 10.\n",
      "Using motif -ap1.motif of width 10.\n",
      "Computing q-values.\n",
      "Estimating pi_0 from a uniformly sampled set of 10000 p-values.\n",
      "Estimating pi_0.\n",
      "Estimated pi_0=1\n",
      "Using motif +ap2.motif of width 12.\n",
      "Using motif -ap2.motif of width 12.\n",
      "Computing q-values.\n",
      "Estimating pi_0 from a uniformly sampled set of 10000 p-values.\n",
      "Estimating pi_0.\n",
      "Estimated pi_0=0.73\n",
      "Using motif +ap2gamma.motif of width 12.\n",
      "Using motif -ap2gamma.motif of width 12.\n",
      "Computing q-values.\n",
      "Estimating pi_0 from a uniformly sampled set of 10000 p-values.\n",
      "Estimating pi_0.\n",
      "Estimated pi_0=0.764587\n",
      "Using motif +ap4.motif of width 10.\n",
      "Using motif -ap4.motif of width 10.\n",
      "Computing q-values.\n",
      "Estimating pi_0 from a uniformly sampled set of 10000 p-values.\n",
      "Estimating pi_0.\n",
      "Estimated pi_0=0.921217\n",
      "Using motif +ar-half.motif of width 10.\n",
      "Using motif -ar-half.motif of width 10.\n",
      "Computing q-values.\n",
      "Estimating pi_0 from a uniformly sampled set of 10000 p-values.\n",
      "Estimating pi_0.\n",
      "Estimated pi_0=0.93963\n",
      "Using motif +are-fox.motif of width 20.\n",
      "Using motif -are-fox.motif of width 20.\n",
      "Computing q-values.\n",
      "Estimating pi_0 from a uniformly sampled set of 10000 p-values.\n",
      "Estimating pi_0.\n",
      "Estimated pi_0=1\n",
      "Using motif +are.motif of width 16.\n",
      "Using motif -are.motif of width 16.\n",
      "Computing q-values.\n",
      "Estimating pi_0 from a uniformly sampled set of 10000 p-values.\n",
      "Estimating pi_0.\n",
      "Estimated pi_0=0.970508\n",
      "Using motif +arnt.motif of width 10.\n",
      "Using motif -arnt.motif of width 10.\n",
      "Computing q-values.\n",
      "Estimating pi_0 from a uniformly sampled set of 10000 p-values.\n",
      "Estimating pi_0.\n",
      "Estimated pi_0=0.918519\n",
      "Using motif +ascl1.motif of width 12.\n",
      "Using motif -ascl1.motif of width 12.\n",
      "Computing q-values.\n",
      "Estimating pi_0 from a uniformly sampled set of 10000 p-values.\n",
      "Estimating pi_0.\n",
      "Estimated pi_0=0.875752\n",
      "Using motif +atf1.motif of width 10.\n",
      "Using motif -atf1.motif of width 10.\n",
      "Computing q-values.\n",
      "Estimating pi_0 from a uniformly sampled set of 10000 p-values.\n",
      "Estimating pi_0.\n",
      "Estimated pi_0=1\n",
      "Using motif +atf2.motif of width 12.\n",
      "Using motif -atf2.motif of width 12.\n",
      "Computing q-values.\n",
      "Estimating pi_0 from a uniformly sampled set of 10000 p-values.\n",
      "Estimating pi_0.\n",
      "Estimated pi_0=0.998687\n",
      "Using motif +atf3.motif of width 12.\n",
      "Using motif -atf3.motif of width 12.\n",
      "Computing q-values.\n",
      "Estimating pi_0 from a uniformly sampled set of 10000 p-values.\n",
      "Estimating pi_0.\n",
      "Estimated pi_0=1\n",
      "Using motif +atf4.motif of width 10.\n",
      "Using motif -atf4.motif of width 10.\n",
      "Computing q-values.\n",
      "Estimating pi_0 from a uniformly sampled set of 10000 p-values.\n",
      "Estimating pi_0.\n",
      "Estimated pi_0=1\n",
      "Using motif +atf7.motif of width 12.\n",
      "Using motif -atf7.motif of width 12.\n"
     ]
    },
    {
     "name": "stdout",
     "output_type": "stream",
     "text": [
      "Computing q-values.\n",
      "Estimating pi_0 from a uniformly sampled set of 10000 p-values.\n",
      "Estimating pi_0.\n",
      "Estimated pi_0=0.998883\n",
      "Using motif +atoh1.motif of width 12.\n",
      "Using motif -atoh1.motif of width 12.\n",
      "Computing q-values.\n",
      "Estimating pi_0 from a uniformly sampled set of 10000 p-values.\n",
      "Estimating pi_0.\n",
      "Estimated pi_0=0.881636\n",
      "Using motif +bach1.motif of width 15.\n",
      "Using motif -bach1.motif of width 15.\n",
      "Computing q-values.\n",
      "Estimating pi_0 from a uniformly sampled set of 10000 p-values.\n",
      "Estimating pi_0.\n",
      "Estimated pi_0=1\n",
      "Using motif +bach2.motif of width 10.\n",
      "Using motif -bach2.motif of width 10.\n",
      "Computing q-values.\n",
      "Estimating pi_0 from a uniformly sampled set of 10000 p-values.\n",
      "Estimating pi_0.\n",
      "Estimated pi_0=0.998788\n",
      "Using motif +bapx1.motif of width 10.\n",
      "Using motif -bapx1.motif of width 10.\n",
      "Computing q-values.\n",
      "Estimating pi_0 from a uniformly sampled set of 10000 p-values.\n",
      "Estimating pi_0.\n",
      "Estimated pi_0=1\n",
      "Using motif +barx1.motif of width 10.\n",
      "Using motif -barx1.motif of width 10.\n",
      "Computing q-values.\n",
      "Estimating pi_0 from a uniformly sampled set of 10000 p-values.\n",
      "Estimating pi_0.\n",
      "Estimated pi_0=1\n",
      "Using motif +batf.motif of width 10.\n",
      "Using motif -batf.motif of width 10.\n",
      "Computing q-values.\n",
      "Estimating pi_0 from a uniformly sampled set of 10000 p-values.\n",
      "Estimating pi_0.\n",
      "Estimated pi_0=1\n",
      "Using motif +batf3-irf8.motif of width 15.\n",
      "Using motif -batf3-irf8.motif of width 15.\n",
      "Computing q-values.\n",
      "Estimating pi_0 from a uniformly sampled set of 10000 p-values.\n",
      "Estimating pi_0.\n",
      "Estimated pi_0=1\n",
      "Using motif +bcl6.motif of width 15.\n",
      "Using motif -bcl6.motif of width 15.\n",
      "Computing q-values.\n",
      "Estimating pi_0 from a uniformly sampled set of 10000 p-values.\n",
      "Estimating pi_0.\n",
      "Estimated pi_0=0.998081\n",
      "Using motif +bhlhe40.motif of width 10.\n",
      "Using motif -bhlhe40.motif of width 10.\n",
      "Computing q-values.\n",
      "Estimating pi_0 from a uniformly sampled set of 10000 p-values.\n",
      "Estimating pi_0.\n",
      "Estimated pi_0=0.91776\n",
      "Using motif +bmal.motif of width 8.\n",
      "Using motif -bmal.motif of width 8.\n",
      "Computing q-values.\n",
      "Estimating pi_0 from a uniformly sampled set of 10000 p-values.\n",
      "Estimating pi_0.\n",
      "Estimated pi_0=0.923103\n",
      "Using motif +bmyb.motif of width 10.\n",
      "Using motif -bmyb.motif of width 10.\n",
      "Computing q-values.\n",
      "Estimating pi_0 from a uniformly sampled set of 10000 p-values.\n",
      "Estimating pi_0.\n",
      "Estimated pi_0=1\n",
      "Using motif +boris.motif of width 20.\n",
      "Using motif -boris.motif of width 20.\n",
      "Computing q-values.\n",
      "Estimating pi_0 from a uniformly sampled set of 10000 p-values.\n",
      "Estimating pi_0.\n",
      "Estimated pi_0=0.726018\n",
      "Using motif +brachyury.motif of width 21.\n",
      "Using motif -brachyury.motif of width 21.\n",
      "Computing q-values.\n",
      "Estimating pi_0 from a uniformly sampled set of 10000 p-values.\n",
      "Estimating pi_0.\n",
      "Estimated pi_0=0.938614\n",
      "Using motif +brn1.motif of width 12.\n",
      "Using motif -brn1.motif of width 12.\n",
      "Computing q-values.\n",
      "Estimating pi_0 from a uniformly sampled set of 10000 p-values.\n",
      "Estimating pi_0.\n",
      "Estimated pi_0=1\n",
      "Using motif +brn2.motif of width 10.\n",
      "Using motif -brn2.motif of width 10.\n",
      "Computing q-values.\n",
      "Estimating pi_0 from a uniformly sampled set of 10000 p-values.\n",
      "Estimating pi_0.\n",
      "Estimated pi_0=1\n",
      "Using motif +bzip-irf.motif of width 18.\n",
      "Using motif -bzip-irf.motif of width 18.\n",
      "Computing q-values.\n",
      "Estimating pi_0 from a uniformly sampled set of 10000 p-values.\n",
      "Estimating pi_0.\n",
      "Estimated pi_0=0.999598\n",
      "Using motif +cdx2.motif of width 10.\n",
      "Using motif -cdx2.motif of width 10.\n",
      "Computing q-values.\n",
      "Estimating pi_0 from a uniformly sampled set of 10000 p-values.\n",
      "Estimating pi_0.\n",
      "Estimated pi_0=1\n",
      "Using motif +cdx4.motif of width 12.\n",
      "Using motif -cdx4.motif of width 12.\n",
      "Computing q-values.\n",
      "Estimating pi_0 from a uniformly sampled set of 10000 p-values.\n",
      "Estimating pi_0.\n",
      "Estimated pi_0=1\n",
      "Using motif +cebp-ap1.motif of width 10.\n",
      "Using motif -cebp-ap1.motif of width 10.\n",
      "Computing q-values.\n",
      "Estimating pi_0 from a uniformly sampled set of 10000 p-values.\n",
      "Estimating pi_0.\n",
      "Estimated pi_0=1\n",
      "Using motif +cebp-cebp.motif of width 20.\n",
      "Using motif -cebp-cebp.motif of width 20.\n",
      "Computing q-values.\n",
      "Estimating pi_0 from a uniformly sampled set of 10000 p-values.\n",
      "Estimating pi_0.\n",
      "Estimated pi_0=1\n",
      "Using motif +cebp.motif of width 10.\n",
      "Using motif -cebp.motif of width 10.\n",
      "Computing q-values.\n",
      "Estimating pi_0 from a uniformly sampled set of 10000 p-values.\n",
      "Estimating pi_0.\n",
      "Estimated pi_0=1\n",
      "Using motif +chop.motif of width 10.\n",
      "Using motif -chop.motif of width 10.\n",
      "Computing q-values.\n",
      "Estimating pi_0 from a uniformly sampled set of 10000 p-values.\n",
      "Estimating pi_0.\n",
      "Estimated pi_0=1\n",
      "Using motif +chr.motif of width 10.\n",
      "Using motif -chr.motif of width 10.\n",
      "Computing q-values.\n",
      "Estimating pi_0 from a uniformly sampled set of 10000 p-values.\n",
      "Estimating pi_0.\n",
      "Estimated pi_0=1\n",
      "Using motif +clock.motif of width 8.\n",
      "Using motif -clock.motif of width 8.\n",
      "Computing q-values.\n",
      "Estimating pi_0 from a uniformly sampled set of 10000 p-values.\n",
      "Estimating pi_0.\n",
      "Estimated pi_0=0.922857\n",
      "Using motif +cMyc.lncap.motif of width 8.\n",
      "Using motif -cMyc.lncap.motif of width 8.\n",
      "Computing q-values.\n",
      "Estimating pi_0 from a uniformly sampled set of 10000 p-values.\n",
      "Estimating pi_0.\n",
      "Estimated pi_0=0.815644\n",
      "Using motif +cmyc.motif of width 10.\n",
      "Using motif -cmyc.motif of width 10.\n",
      "Computing q-values.\n",
      "Estimating pi_0 from a uniformly sampled set of 10000 p-values.\n",
      "Estimating pi_0.\n",
      "Estimated pi_0=0.817426\n",
      "Using motif +couptf1.motif of width 12.\n",
      "Using motif -couptf1.motif of width 12.\n",
      "Computing q-values.\n",
      "Estimating pi_0 from a uniformly sampled set of 10000 p-values.\n",
      "Estimating pi_0.\n",
      "Estimated pi_0=0.928092\n",
      "Using motif +couptf2.motif of width 8.\n",
      "Using motif -couptf2.motif of width 8.\n",
      "Computing q-values.\n",
      "Estimating pi_0 from a uniformly sampled set of 10000 p-values.\n",
      "Estimating pi_0.\n",
      "Estimated pi_0=0.906116\n",
      "Using motif +cre.motif of width 12.\n",
      "Using motif -cre.motif of width 12.\n",
      "Computing q-values.\n",
      "Estimating pi_0 from a uniformly sampled set of 10000 p-values.\n",
      "Estimating pi_0.\n",
      "Estimated pi_0=0.7514\n",
      "Using motif +crx.motif of width 8.\n",
      "Using motif -crx.motif of width 8.\n",
      "Computing q-values.\n",
      "Estimating pi_0 from a uniformly sampled set of 10000 p-values.\n",
      "Estimating pi_0.\n",
      "Estimated pi_0=1\n",
      "Using motif +ctcf-mys.motif of width 20.\n",
      "Using motif -ctcf-mys.motif of width 20.\n",
      "Computing q-values.\n",
      "Estimating pi_0 from a uniformly sampled set of 10000 p-values.\n",
      "Estimating pi_0.\n",
      "Estimated pi_0=0.972544\n",
      "Using motif +ctcf.motif of width 20.\n",
      "Using motif -ctcf.motif of width 20.\n",
      "Computing q-values.\n",
      "Estimating pi_0 from a uniformly sampled set of 10000 p-values.\n",
      "Estimating pi_0.\n",
      "Estimated pi_0=0.830874\n",
      "Using motif +cux2.motif of width 10.\n",
      "Using motif -cux2.motif of width 10.\n",
      "Computing q-values.\n",
      "Estimating pi_0 from a uniformly sampled set of 10000 p-values.\n",
      "Estimating pi_0.\n",
      "Estimated pi_0=1\n",
      "Using motif +dmc1.motif of width 20.\n",
      "Using motif -dmc1.motif of width 20.\n",
      "Computing q-values.\n",
      "Estimating pi_0 from a uniformly sampled set of 10000 p-values.\n",
      "Estimating pi_0.\n",
      "Estimated pi_0=1\n",
      "Using motif +dmrt1.motif of width 15.\n",
      "Using motif -dmrt1.motif of width 15.\n",
      "Computing q-values.\n",
      "Estimating pi_0 from a uniformly sampled set of 10000 p-values.\n",
      "Estimating pi_0.\n",
      "Estimated pi_0=1\n",
      "Using motif +dmrt6.motif of width 15.\n",
      "Using motif -dmrt6.motif of width 15.\n",
      "Computing q-values.\n",
      "Estimating pi_0 from a uniformly sampled set of 10000 p-values.\n",
      "Estimating pi_0.\n",
      "Estimated pi_0=1\n",
      "Using motif +dr0.motif of width 12.\n",
      "Using motif -dr0.motif of width 12.\n",
      "Computing q-values.\n",
      "Estimating pi_0 from a uniformly sampled set of 10000 p-values.\n",
      "Estimating pi_0.\n",
      "Estimated pi_0=0.937851\n",
      "Using motif +dr5.motif of width 18.\n",
      "Using motif -dr5.motif of width 18.\n",
      "Computing q-values.\n",
      "Estimating pi_0 from a uniformly sampled set of 10000 p-values.\n",
      "Estimating pi_0.\n",
      "Estimated pi_0=0.860169\n",
      "Using motif +dux4.motif of width 15.\n",
      "Using motif -dux4.motif of width 15.\n",
      "Computing q-values.\n",
      "Estimating pi_0 from a uniformly sampled set of 10000 p-values.\n",
      "Estimating pi_0.\n",
      "Estimated pi_0=1\n",
      "Using motif +e2a.motif of width 10.\n",
      "Using motif -e2a.motif of width 10.\n",
      "Computing q-values.\n",
      "Estimating pi_0 from a uniformly sampled set of 10000 p-values.\n",
      "Estimating pi_0.\n",
      "Estimated pi_0=0.797196\n",
      "Using motif +e2f.motif of width 12.\n",
      "Using motif -e2f.motif of width 12.\n",
      "Computing q-values.\n",
      "Estimating pi_0 from a uniformly sampled set of 10000 p-values.\n",
      "Estimating pi_0.\n",
      "Estimated pi_0=0.7126\n",
      "Using motif +e2f1.motif of width 10.\n",
      "Using motif -e2f1.motif of width 10.\n"
     ]
    },
    {
     "name": "stdout",
     "output_type": "stream",
     "text": [
      "Computing q-values.\n",
      "Estimating pi_0 from a uniformly sampled set of 10000 p-values.\n",
      "Estimating pi_0.\n",
      "Estimated pi_0=0.786408\n",
      "Using motif +e2f3.motif of width 12.\n",
      "Using motif -e2f3.motif of width 12.\n",
      "Computing q-values.\n",
      "Estimating pi_0 from a uniformly sampled set of 10000 p-values.\n",
      "Estimating pi_0.\n",
      "Estimated pi_0=0.739208\n",
      "Using motif +e2f4.motif of width 10.\n",
      "Using motif -e2f4.motif of width 10.\n",
      "Computing q-values.\n",
      "Estimating pi_0 from a uniformly sampled set of 10000 p-values.\n",
      "Estimating pi_0.\n",
      "Estimated pi_0=0.706863\n",
      "Using motif +e2f6.motif of width 10.\n",
      "Using motif -e2f6.motif of width 10.\n",
      "Computing q-values.\n",
      "Estimating pi_0 from a uniformly sampled set of 10000 p-values.\n",
      "Estimating pi_0.\n",
      "Estimated pi_0=0.812174\n",
      "Using motif +e2f7.motif of width 12.\n",
      "Using motif -e2f7.motif of width 12.\n",
      "Computing q-values.\n",
      "Estimating pi_0 from a uniformly sampled set of 10000 p-values.\n",
      "Estimating pi_0.\n",
      "Estimated pi_0=0.7528\n",
      "Using motif +e47.motif of width 10.\n",
      "Using motif -e47.motif of width 10.\n",
      "Computing q-values.\n",
      "Estimating pi_0 from a uniformly sampled set of 10000 p-values.\n",
      "Estimating pi_0.\n",
      "Estimated pi_0=0.8284\n",
      "Using motif +ebf-old.motif of width 12.\n",
      "Using motif -ebf-old.motif of width 12.\n",
      "Computing q-values.\n",
      "Estimating pi_0 from a uniformly sampled set of 10000 p-values.\n",
      "Estimating pi_0.\n",
      "Estimated pi_0=0.875772\n",
      "Using motif +ebf.motif of width 12.\n",
      "Using motif -ebf.motif of width 12.\n",
      "Computing q-values.\n",
      "Estimating pi_0 from a uniformly sampled set of 10000 p-values.\n",
      "Estimating pi_0.\n",
      "Estimated pi_0=0.862542\n",
      "Using motif +ebna1.motif of width 20.\n",
      "Using motif -ebna1.motif of width 20.\n",
      "Computing q-values.\n",
      "Estimating pi_0 from a uniformly sampled set of 10000 p-values.\n",
      "Estimating pi_0.\n",
      "Estimated pi_0=0.915781\n",
      "Using motif +ebox.motif of width 12.\n",
      "Using motif -ebox.motif of width 12.\n",
      "Computing q-values.\n",
      "Estimating pi_0 from a uniformly sampled set of 10000 p-values.\n",
      "Estimating pi_0.\n",
      "Estimated pi_0=0.8076\n",
      "Using motif +egr1.motif of width 10.\n",
      "Using motif -egr1.motif of width 10.\n",
      "Computing q-values.\n",
      "Estimating pi_0 from a uniformly sampled set of 10000 p-values.\n",
      "Estimating pi_0.\n",
      "Estimated pi_0=0.861983\n",
      "Using motif +egr2.motif of width 12.\n",
      "Using motif -egr2.motif of width 12.\n",
      "Computing q-values.\n",
      "Estimating pi_0 from a uniformly sampled set of 10000 p-values.\n",
      "Estimating pi_0.\n",
      "Estimated pi_0=0.796117\n",
      "Using motif +ehf.motif of width 10.\n",
      "Using motif -ehf.motif of width 10.\n",
      "Computing q-values.\n",
      "Estimating pi_0 from a uniformly sampled set of 10000 p-values.\n",
      "Estimating pi_0.\n",
      "Estimated pi_0=0.99\n",
      "Using motif +eklf.motif of width 12.\n",
      "Using motif -eklf.motif of width 12.\n",
      "Computing q-values.\n",
      "Estimating pi_0 from a uniformly sampled set of 10000 p-values.\n",
      "Estimating pi_0.\n",
      "Estimated pi_0=0.889231\n",
      "Using motif +elf1.motif of width 10.\n",
      "Using motif -elf1.motif of width 10.\n",
      "Computing q-values.\n",
      "Estimating pi_0 from a uniformly sampled set of 10000 p-values.\n",
      "Estimating pi_0.\n",
      "Estimated pi_0=0.874958\n",
      "Using motif +elf3.motif of width 10.\n",
      "Using motif -elf3.motif of width 10.\n",
      "Computing q-values.\n",
      "Estimating pi_0 from a uniformly sampled set of 10000 p-values.\n",
      "Estimating pi_0.\n",
      "Estimated pi_0=0.992857\n",
      "Using motif +elf5.motif of width 10.\n",
      "Using motif -elf5.motif of width 10.\n",
      "Computing q-values.\n",
      "Estimating pi_0 from a uniformly sampled set of 10000 p-values.\n",
      "Estimating pi_0.\n",
      "Estimated pi_0=0.990625\n",
      "Using motif +elk1.motif of width 10.\n",
      "Using motif -elk1.motif of width 10.\n",
      "Computing q-values.\n",
      "Estimating pi_0 from a uniformly sampled set of 10000 p-values.\n",
      "Estimating pi_0.\n",
      "Estimated pi_0=0.884615\n",
      "Using motif +elk4.motif of width 10.\n",
      "Using motif -elk4.motif of width 10.\n",
      "Computing q-values.\n",
      "Estimating pi_0 from a uniformly sampled set of 10000 p-values.\n",
      "Estimating pi_0.\n",
      "Estimated pi_0=0.969744\n",
      "Using motif +eomes.motif of width 10.\n",
      "Using motif -eomes.motif of width 10.\n",
      "Computing q-values.\n",
      "Estimating pi_0 from a uniformly sampled set of 10000 p-values.\n",
      "Estimating pi_0.\n",
      "Estimated pi_0=1\n",
      "Using motif +ere.motif of width 15.\n",
      "Using motif -ere.motif of width 15.\n",
      "Computing q-values.\n",
      "Estimating pi_0 from a uniformly sampled set of 10000 p-values.\n",
      "Estimating pi_0.\n",
      "Estimated pi_0=0.922857\n",
      "Using motif +erg.motif of width 10.\n",
      "Using motif -erg.motif of width 10.\n",
      "Computing q-values.\n",
      "Estimating pi_0 from a uniformly sampled set of 10000 p-values.\n",
      "Estimating pi_0.\n",
      "Estimated pi_0=0.965128\n",
      "Using motif +erra.motif of width 10.\n",
      "Using motif -erra.motif of width 10.\n",
      "Computing q-values.\n",
      "Estimating pi_0 from a uniformly sampled set of 10000 p-values.\n",
      "Estimating pi_0.\n",
      "Estimated pi_0=0.892793\n",
      "Using motif +es.motif of width 12.\n",
      "Using motif -es.motif of width 12.\n",
      "Computing q-values.\n",
      "Estimating pi_0 from a uniformly sampled set of 10000 p-values.\n",
      "Estimating pi_0.\n",
      "Estimated pi_0=0.918345\n",
      "Using motif +esrrb.motif of width 10.\n",
      "Using motif -esrrb.motif of width 10.\n",
      "Computing q-values.\n",
      "Estimating pi_0 from a uniformly sampled set of 10000 p-values.\n",
      "Estimating pi_0.\n",
      "Estimated pi_0=0.919818\n",
      "Using motif +ets-distal.motif of width 10.\n",
      "Using motif -ets-distal.motif of width 10.\n",
      "Computing q-values.\n",
      "Estimating pi_0 from a uniformly sampled set of 10000 p-values.\n",
      "Estimating pi_0.\n",
      "Estimated pi_0=0.996869\n",
      "Using motif +ets-ebox.motif of width 12.\n",
      "Using motif -ets-ebox.motif of width 12.\n",
      "Computing q-values.\n",
      "Estimating pi_0 from a uniformly sampled set of 10000 p-values.\n",
      "Estimating pi_0.\n",
      "Estimated pi_0=0.98701\n",
      "Using motif +ets-runx.motif of width 12.\n",
      "Using motif -ets-runx.motif of width 12.\n",
      "Computing q-values.\n",
      "Estimating pi_0 from a uniformly sampled set of 10000 p-values.\n",
      "Estimating pi_0.\n",
      "Estimated pi_0=0.928951\n",
      "Using motif +ets.motif of width 10.\n",
      "Using motif -ets.motif of width 10.\n",
      "Computing q-values.\n",
      "Estimating pi_0 from a uniformly sampled set of 10000 p-values.\n",
      "Estimating pi_0.\n",
      "Estimated pi_0=0.910732\n",
      "Using motif +ets1.motif of width 10.\n",
      "Using motif -ets1.motif of width 10.\n",
      "Computing q-values.\n",
      "Estimating pi_0 from a uniformly sampled set of 10000 p-values.\n",
      "Estimating pi_0.\n",
      "Estimated pi_0=0.949683\n",
      "Using motif +etv1.motif of width 10.\n",
      "Using motif -etv1.motif of width 10.\n",
      "Computing q-values.\n",
      "Estimating pi_0 from a uniformly sampled set of 10000 p-values.\n",
      "Estimating pi_0.\n",
      "Estimated pi_0=0.919818\n",
      "Using motif +etv2.motif of width 12.\n",
      "Using motif -etv2.motif of width 12.\n",
      "Computing q-values.\n",
      "Estimating pi_0 from a uniformly sampled set of 10000 p-values.\n",
      "Estimating pi_0.\n",
      "Estimated pi_0=0.95\n",
      "Using motif +etv4.motif of width 10.\n",
      "Using motif -etv4.motif of width 10.\n",
      "Computing q-values.\n",
      "Estimating pi_0 from a uniformly sampled set of 10000 p-values.\n",
      "Estimating pi_0.\n",
      "Estimated pi_0=0.85981\n",
      "Using motif +ews-erg.motif of width 10.\n",
      "Using motif -ews-erg.motif of width 10.\n",
      "Computing q-values.\n",
      "Estimating pi_0 from a uniformly sampled set of 10000 p-values.\n",
      "Estimating pi_0.\n",
      "Estimated pi_0=0.996784\n",
      "Using motif +ews-fli1.motif of width 10.\n",
      "Using motif -ews-fli1.motif of width 10.\n",
      "Computing q-values.\n",
      "Estimating pi_0 from a uniformly sampled set of 10000 p-values.\n",
      "Estimating pi_0.\n",
      "Estimated pi_0=0.996751\n",
      "Using motif +fli.motif of width 10.\n",
      "Using motif -fli.motif of width 10.\n",
      "Computing q-values.\n",
      "Estimating pi_0 from a uniformly sampled set of 10000 p-values.\n",
      "Estimating pi_0.\n",
      "Estimated pi_0=0.944925\n",
      "Using motif +fosl2.motif of width 12.\n",
      "Using motif -fosl2.motif of width 12.\n",
      "Computing q-values.\n",
      "Estimating pi_0 from a uniformly sampled set of 10000 p-values.\n",
      "Estimating pi_0.\n",
      "Estimated pi_0=1\n",
      "Using motif +fox-ebox.motif of width 17.\n",
      "Using motif -fox-ebox.motif of width 17.\n",
      "Computing q-values.\n",
      "Estimating pi_0 from a uniformly sampled set of 10000 p-values.\n",
      "Estimating pi_0.\n",
      "Estimated pi_0=0.999497\n",
      "Using motif +foxa1.lncap.motif of width 10.\n",
      "Using motif -foxa1.lncap.motif of width 10.\n",
      "Computing q-values.\n",
      "Estimating pi_0 from a uniformly sampled set of 10000 p-values.\n",
      "Estimating pi_0.\n",
      "Estimated pi_0=1\n",
      "Using motif +foxa1.mcf7.motif of width 10.\n",
      "Using motif -foxa1.mcf7.motif of width 10.\n",
      "Computing q-values.\n",
      "Estimating pi_0 from a uniformly sampled set of 10000 p-values.\n",
      "Estimating pi_0.\n",
      "Estimated pi_0=1\n",
      "Using motif +foxa2.motif of width 12.\n",
      "Using motif -foxa2.motif of width 12.\n",
      "Computing q-values.\n",
      "Estimating pi_0 from a uniformly sampled set of 10000 p-values.\n",
      "Estimating pi_0.\n",
      "Estimated pi_0=1\n",
      "Using motif +foxa3.motif of width 15.\n",
      "Using motif -foxa3.motif of width 15.\n",
      "Computing q-values.\n",
      "Estimating pi_0 from a uniformly sampled set of 10000 p-values.\n",
      "Estimating pi_0.\n"
     ]
    },
    {
     "name": "stdout",
     "output_type": "stream",
     "text": [
      "Estimated pi_0=1\n",
      "Using motif +foxf1.motif of width 12.\n",
      "Using motif -foxf1.motif of width 12.\n",
      "Computing q-values.\n",
      "Estimating pi_0 from a uniformly sampled set of 10000 p-values.\n",
      "Estimating pi_0.\n",
      "Estimated pi_0=1\n",
      "Using motif +foxh1.motif of width 12.\n",
      "Using motif -foxh1.motif of width 12.\n",
      "Computing q-values.\n",
      "Estimating pi_0 from a uniformly sampled set of 10000 p-values.\n",
      "Estimating pi_0.\n",
      "Estimated pi_0=1\n",
      "Using motif +foxk1.motif of width 10.\n",
      "Using motif -foxk1.motif of width 10.\n",
      "Computing q-values.\n",
      "Estimating pi_0 from a uniformly sampled set of 10000 p-values.\n",
      "Estimating pi_0.\n",
      "Estimated pi_0=1\n",
      "Using motif +foxk2.motif of width 12.\n",
      "Using motif -foxk2.motif of width 12.\n",
      "Computing q-values.\n",
      "Estimating pi_0 from a uniformly sampled set of 10000 p-values.\n",
      "Estimating pi_0.\n",
      "Estimated pi_0=1\n",
      "Using motif +foxl2.motif of width 12.\n",
      "Using motif -foxl2.motif of width 12.\n",
      "Computing q-values.\n",
      "Estimating pi_0 from a uniformly sampled set of 10000 p-values.\n",
      "Estimating pi_0.\n",
      "Estimated pi_0=1\n",
      "Using motif +foxm1.motif of width 10.\n",
      "Using motif -foxm1.motif of width 10.\n",
      "Computing q-values.\n",
      "Estimating pi_0 from a uniformly sampled set of 10000 p-values.\n",
      "Estimating pi_0.\n",
      "Estimated pi_0=1\n",
      "Using motif +foxo1.motif of width 8.\n",
      "Using motif -foxo1.motif of width 8.\n",
      "Computing q-values.\n",
      "Estimating pi_0 from a uniformly sampled set of 10000 p-values.\n",
      "Estimating pi_0.\n",
      "Estimated pi_0=0.997259\n",
      "Using motif +foxo3.motif of width 8.\n",
      "Using motif -foxo3.motif of width 8.\n",
      "Computing q-values.\n",
      "Estimating pi_0 from a uniformly sampled set of 10000 p-values.\n",
      "Estimating pi_0.\n",
      "Estimated pi_0=1\n",
      "Using motif +foxp1.motif of width 12.\n",
      "Using motif -foxp1.motif of width 12.\n",
      "Computing q-values.\n",
      "Estimating pi_0 from a uniformly sampled set of 10000 p-values.\n",
      "Estimating pi_0.\n",
      "Estimated pi_0=1\n",
      "Using motif +fra1.motif of width 12.\n",
      "Using motif -fra1.motif of width 12.\n",
      "Computing q-values.\n",
      "Estimating pi_0 from a uniformly sampled set of 10000 p-values.\n",
      "Estimating pi_0.\n",
      "Estimated pi_0=1\n",
      "Using motif +fra2.motif of width 12.\n",
      "Using motif -fra2.motif of width 12.\n"
     ]
    }
   ],
   "source": [
    "for peak_f in glob.glob(\"f04_peaks/*\"):\n",
    "    seq_f = \"Results/Figures/SuppFigure3/fasta_files/{sample}.fa\".format(sample=os.path.basename(peak_f))\n",
    "    cmd = \"homerTools extract {peak_f} {ref_fa} -fa > {seq_f}\".format(peak_f=peak_f,seq_f=seq_f,ref_fa=ref_fa)\n",
    "    !{cmd}\n",
    "    print(cmd)\n",
    "    meme_motifs_dir = '/data/isshamie/TSS/Analysis/supplemental/homer_motifs/MEME_motifs.txt'\n",
    "    curr_dir = \"Results/Figures/SuppFigure3/\" + os.path.basename(peak_f)\n",
    "    #f_save = 'Results/Figures/SuppFigure3/TSS1.exp_refseq_centered_instance_meme'\n",
    "    cmd = \"fimo --o {curr_dir} {motif_f} {seq_f} \".format(motif_f=meme_motifs_dir,seq_f=seq_f,out_dir=curr_dir)\n",
    "    !{cmd}\n",
    "    print(cmd)\n"
   ]
  },
  {
   "cell_type": "markdown",
   "metadata": {
    "ExecuteTime": {
     "end_time": "2019-03-01T01:07:35.858743Z",
     "start_time": "2019-03-01T01:07:35.854889Z"
    }
   },
   "source": [
    "--------"
   ]
  },
  {
   "cell_type": "markdown",
   "metadata": {
    "ExecuteTime": {
     "end_time": "2019-03-01T01:07:35.858743Z",
     "start_time": "2019-03-01T01:07:35.854889Z"
    }
   },
   "source": [
    "--------"
   ]
  },
  {
   "cell_type": "markdown",
   "metadata": {
    "ExecuteTime": {
     "end_time": "2019-03-01T01:07:35.858743Z",
     "start_time": "2019-03-01T01:07:35.854889Z"
    }
   },
   "source": [
    "--------"
   ]
  },
  {
   "cell_type": "markdown",
   "metadata": {},
   "source": [
    "# Plotting"
   ]
  },
  {
   "cell_type": "code",
   "execution_count": 10,
   "metadata": {
    "ExecuteTime": {
     "end_time": "2019-02-23T00:01:18.097645Z",
     "start_time": "2019-02-23T00:01:18.072877Z"
    },
    "collapsed": true
   },
   "outputs": [],
   "source": [
    "from motif_analysis import *"
   ]
  },
  {
   "cell_type": "markdown",
   "metadata": {},
   "source": [
    "# 1. TSS1 exp vs TSS1 refseq_centered_exp "
   ]
  },
  {
   "cell_type": "markdown",
   "metadata": {},
   "source": [
    "## Transform motifs  into binary matrix of presence/absence\n",
    "\n",
    "Create sequence-by-|basepairs| matrix , fill in with the start of the motif where present. \n",
    "fimo output is 1-based indexing "
   ]
  },
  {
   "cell_type": "code",
   "execution_count": 35,
   "metadata": {
    "ExecuteTime": {
     "end_time": "2019-02-23T00:30:04.054146Z",
     "start_time": "2019-02-23T00:30:04.029540Z"
    },
    "collapsed": true
   },
   "outputs": [],
   "source": [
    "fig_dir = os.path.join(out_dir,\"Figures\")\n",
    "if not os.path.exists(fig_dir):\n",
    "    os.mkdir(fig_dir)"
   ]
  },
  {
   "cell_type": "code",
   "execution_count": 37,
   "metadata": {
    "ExecuteTime": {
     "end_time": "2019-02-23T00:44:30.271892Z",
     "start_time": "2019-02-23T00:31:11.018081Z"
    },
    "code_folding": [],
    "scrolled": true
   },
   "outputs": [
    {
     "name": "stdout",
     "output_type": "stream",
     "text": [
      "ap1.motif\n"
     ]
    },
    {
     "data": {
      "application/vnd.jupyter.widget-view+json": {
       "model_id": "10bc0c4c0cfa4edd833098f36c0ae29a"
      }
     },
     "metadata": {},
     "output_type": "display_data"
    },
    {
     "name": "stdout",
     "output_type": "stream",
     "text": [
      "ap2.motif\n"
     ]
    },
    {
     "data": {
      "application/vnd.jupyter.widget-view+json": {
       "model_id": "95382dd5dc674df1b72a5dc8ede24f69"
      }
     },
     "metadata": {},
     "output_type": "display_data"
    },
    {
     "name": "stdout",
     "output_type": "stream",
     "text": [
      "ap2gamma.motif\n"
     ]
    },
    {
     "data": {
      "application/vnd.jupyter.widget-view+json": {
       "model_id": "5296f8dad904446c8078dcbd6b65e1e4"
      }
     },
     "metadata": {},
     "output_type": "display_data"
    },
    {
     "name": "stdout",
     "output_type": "stream",
     "text": [
      "ap4.motif\n"
     ]
    },
    {
     "data": {
      "application/vnd.jupyter.widget-view+json": {
       "model_id": "320405108be24e2cb1bf9183878a374a"
      }
     },
     "metadata": {},
     "output_type": "display_data"
    },
    {
     "name": "stdout",
     "output_type": "stream",
     "text": [
      "342it [00:20, 16.90it/s]ar-half.motif\n"
     ]
    },
    {
     "data": {
      "application/vnd.jupyter.widget-view+json": {
       "model_id": "981d0b4a308d47828d40a4f71a689eb7"
      }
     },
     "metadata": {},
     "output_type": "display_data"
    },
    {
     "name": "stdout",
     "output_type": "stream",
     "text": [
      "are-fox.motif\n"
     ]
    },
    {
     "data": {
      "application/vnd.jupyter.widget-view+json": {
       "model_id": "140da5b914b24361974e3d92a2f1650e"
      }
     },
     "metadata": {},
     "output_type": "display_data"
    },
    {
     "name": "stdout",
     "output_type": "stream",
     "text": [
      "are.motif\n"
     ]
    },
    {
     "data": {
      "application/vnd.jupyter.widget-view+json": {
       "model_id": "df873937435343ee871b150728e1051e"
      }
     },
     "metadata": {},
     "output_type": "display_data"
    },
    {
     "name": "stdout",
     "output_type": "stream",
     "text": [
      "arnt.motif\n"
     ]
    },
    {
     "data": {
      "application/vnd.jupyter.widget-view+json": {
       "model_id": "4ca005cb64104132820f0236fdc46115"
      }
     },
     "metadata": {},
     "output_type": "display_data"
    },
    {
     "name": "stdout",
     "output_type": "stream",
     "text": [
      "ascl1.motif\n"
     ]
    },
    {
     "data": {
      "application/vnd.jupyter.widget-view+json": {
       "model_id": "5aee4d6199d6442e8ecc62e7701d499d"
      }
     },
     "metadata": {},
     "output_type": "display_data"
    },
    {
     "name": "stdout",
     "output_type": "stream",
     "text": [
      "atf1.motif\n"
     ]
    },
    {
     "data": {
      "application/vnd.jupyter.widget-view+json": {
       "model_id": "71144ebe273e4bf3b7472fd454ef9499"
      }
     },
     "metadata": {},
     "output_type": "display_data"
    },
    {
     "name": "stdout",
     "output_type": "stream",
     "text": [
      "atf2.motif\n"
     ]
    },
    {
     "data": {
      "application/vnd.jupyter.widget-view+json": {
       "model_id": "a87f5f5d845b434ca89cbd8f34dd7f49"
      }
     },
     "metadata": {},
     "output_type": "display_data"
    },
    {
     "name": "stdout",
     "output_type": "stream",
     "text": [
      "atf3.motif\n"
     ]
    },
    {
     "data": {
      "application/vnd.jupyter.widget-view+json": {
       "model_id": "51ec394b696c4c57bfb9f7dfd7dd287c"
      }
     },
     "metadata": {},
     "output_type": "display_data"
    },
    {
     "name": "stdout",
     "output_type": "stream",
     "text": [
      "atf4.motif\n"
     ]
    },
    {
     "data": {
      "application/vnd.jupyter.widget-view+json": {
       "model_id": "bc63e2b4057742c0bff70fadeac4b9a8"
      }
     },
     "metadata": {},
     "output_type": "display_data"
    },
    {
     "name": "stdout",
     "output_type": "stream",
     "text": [
      "atf7.motif\n"
     ]
    },
    {
     "data": {
      "application/vnd.jupyter.widget-view+json": {
       "model_id": "6bf4506bb7d7407ca646ca707e9af4e8"
      }
     },
     "metadata": {},
     "output_type": "display_data"
    },
    {
     "name": "stdout",
     "output_type": "stream",
     "text": [
      "atoh1.motif\n"
     ]
    },
    {
     "data": {
      "application/vnd.jupyter.widget-view+json": {
       "model_id": "3e39f28eb4394bc3984de561969ca650"
      }
     },
     "metadata": {},
     "output_type": "display_data"
    },
    {
     "name": "stdout",
     "output_type": "stream",
     "text": [
      "bach1.motif\n"
     ]
    },
    {
     "data": {
      "application/vnd.jupyter.widget-view+json": {
       "model_id": "1ae9129368454e15a703ebef449464c4"
      }
     },
     "metadata": {},
     "output_type": "display_data"
    },
    {
     "name": "stdout",
     "output_type": "stream",
     "text": [
      "bach2.motif\n"
     ]
    },
    {
     "data": {
      "application/vnd.jupyter.widget-view+json": {
       "model_id": "b6e6f620f3c24a6d8d8997e74756bb40"
      }
     },
     "metadata": {},
     "output_type": "display_data"
    },
    {
     "name": "stdout",
     "output_type": "stream",
     "text": [
      "bapx1.motif\n"
     ]
    },
    {
     "data": {
      "application/vnd.jupyter.widget-view+json": {
       "model_id": "e31e103dd53642108239994c85d24ad9"
      }
     },
     "metadata": {},
     "output_type": "display_data"
    },
    {
     "name": "stdout",
     "output_type": "stream",
     "text": [
      "barx1.motif\n"
     ]
    },
    {
     "data": {
      "application/vnd.jupyter.widget-view+json": {
       "model_id": "9ae7ea052fb54944b956ca94e650910e"
      }
     },
     "metadata": {},
     "output_type": "display_data"
    },
    {
     "name": "stdout",
     "output_type": "stream",
     "text": [
      "batf.motif\n"
     ]
    },
    {
     "data": {
      "application/vnd.jupyter.widget-view+json": {
       "model_id": "abcacf320f6343a2b1cb0707af205f78"
      }
     },
     "metadata": {},
     "output_type": "display_data"
    },
    {
     "name": "stdout",
     "output_type": "stream",
     "text": [
      "batf3-irf8.motif\n"
     ]
    },
    {
     "data": {
      "application/vnd.jupyter.widget-view+json": {
       "model_id": "f43cbcd62eaa49de9579ec01ad2c7b42"
      }
     },
     "metadata": {},
     "output_type": "display_data"
    },
    {
     "name": "stdout",
     "output_type": "stream",
     "text": [
      "bcl6.motif\n"
     ]
    },
    {
     "data": {
      "application/vnd.jupyter.widget-view+json": {
       "model_id": "341cc21da0a141e987a53bb4cf3450db"
      }
     },
     "metadata": {},
     "output_type": "display_data"
    },
    {
     "name": "stdout",
     "output_type": "stream",
     "text": [
      "bhlhe40.motif\n"
     ]
    },
    {
     "data": {
      "application/vnd.jupyter.widget-view+json": {
       "model_id": "d6c03804ecfd44cdbfa2d08383b583a2"
      }
     },
     "metadata": {},
     "output_type": "display_data"
    },
    {
     "name": "stdout",
     "output_type": "stream",
     "text": [
      "bmal.motif\n"
     ]
    },
    {
     "data": {
      "application/vnd.jupyter.widget-view+json": {
       "model_id": "52af5e4f60504e10bb9b3db6442ff6df"
      }
     },
     "metadata": {},
     "output_type": "display_data"
    },
    {
     "name": "stdout",
     "output_type": "stream",
     "text": [
      "bmyb.motif\n"
     ]
    },
    {
     "data": {
      "application/vnd.jupyter.widget-view+json": {
       "model_id": "ba64ca1afb94424bb3862d7baf9d82c6"
      }
     },
     "metadata": {},
     "output_type": "display_data"
    },
    {
     "name": "stdout",
     "output_type": "stream",
     "text": [
      "boris.motif\n"
     ]
    },
    {
     "data": {
      "application/vnd.jupyter.widget-view+json": {
       "model_id": "d6d7b46b09e3451f81dd61cb2cf32dc9"
      }
     },
     "metadata": {},
     "output_type": "display_data"
    },
    {
     "name": "stdout",
     "output_type": "stream",
     "text": [
      "brachyury.motif\n"
     ]
    },
    {
     "data": {
      "application/vnd.jupyter.widget-view+json": {
       "model_id": "285a3fc9fdaa4a30a8d7ba78d8e894ed"
      }
     },
     "metadata": {},
     "output_type": "display_data"
    },
    {
     "name": "stdout",
     "output_type": "stream",
     "text": [
      "brn1.motif\n"
     ]
    },
    {
     "data": {
      "application/vnd.jupyter.widget-view+json": {
       "model_id": "e255d761a259495eb0e8f26623e05041"
      }
     },
     "metadata": {},
     "output_type": "display_data"
    },
    {
     "name": "stdout",
     "output_type": "stream",
     "text": [
      "brn2.motif\n"
     ]
    },
    {
     "data": {
      "application/vnd.jupyter.widget-view+json": {
       "model_id": "d9f915495dc74d56828f0cec350b6889"
      }
     },
     "metadata": {},
     "output_type": "display_data"
    },
    {
     "name": "stdout",
     "output_type": "stream",
     "text": [
      "bzip-irf.motif\n"
     ]
    },
    {
     "data": {
      "application/vnd.jupyter.widget-view+json": {
       "model_id": "41d1520fdc0b4002a4182e63bab3f031"
      }
     },
     "metadata": {},
     "output_type": "display_data"
    },
    {
     "name": "stdout",
     "output_type": "stream",
     "text": [
      "cMyc.lncap.motif\n"
     ]
    },
    {
     "data": {
      "application/vnd.jupyter.widget-view+json": {
       "model_id": "def8bfe1eeed4dab98894f12c43a5d69"
      }
     },
     "metadata": {},
     "output_type": "display_data"
    },
    {
     "name": "stdout",
     "output_type": "stream",
     "text": [
      "cdx2.motif\n"
     ]
    },
    {
     "data": {
      "application/vnd.jupyter.widget-view+json": {
       "model_id": "81ee332fae4743feb4d474e773f9300a"
      }
     },
     "metadata": {},
     "output_type": "display_data"
    },
    {
     "name": "stdout",
     "output_type": "stream",
     "text": [
      "cdx4.motif\n"
     ]
    },
    {
     "data": {
      "application/vnd.jupyter.widget-view+json": {
       "model_id": "4d27dc8253554060be85429828c3df82"
      }
     },
     "metadata": {},
     "output_type": "display_data"
    },
    {
     "name": "stdout",
     "output_type": "stream",
     "text": [
      "cebp-ap1.motif\n"
     ]
    },
    {
     "data": {
      "application/vnd.jupyter.widget-view+json": {
       "model_id": "4558c37eb6c24e72acbfad890b242b92"
      }
     },
     "metadata": {},
     "output_type": "display_data"
    },
    {
     "name": "stdout",
     "output_type": "stream",
     "text": [
      "cebp-cebp.motif\n"
     ]
    },
    {
     "data": {
      "application/vnd.jupyter.widget-view+json": {
       "model_id": "7b6843cc84264cbc90f9f92002bcd620"
      }
     },
     "metadata": {},
     "output_type": "display_data"
    },
    {
     "name": "stdout",
     "output_type": "stream",
     "text": [
      "cebp.motif\n"
     ]
    },
    {
     "data": {
      "application/vnd.jupyter.widget-view+json": {
       "model_id": "f5c0534671ff460086175e2fdbf8da0f"
      }
     },
     "metadata": {},
     "output_type": "display_data"
    },
    {
     "name": "stdout",
     "output_type": "stream",
     "text": [
      "chop.motif\n"
     ]
    },
    {
     "data": {
      "application/vnd.jupyter.widget-view+json": {
       "model_id": "ebd0d05c99bb48f6b65394f77da2273c"
      }
     },
     "metadata": {},
     "output_type": "display_data"
    },
    {
     "name": "stdout",
     "output_type": "stream",
     "text": [
      "chr.motif\n"
     ]
    },
    {
     "data": {
      "application/vnd.jupyter.widget-view+json": {
       "model_id": "aac8dbe6406948a2ab1b1cccc8eea18e"
      }
     },
     "metadata": {},
     "output_type": "display_data"
    },
    {
     "name": "stdout",
     "output_type": "stream",
     "text": [
      "clock.motif\n"
     ]
    },
    {
     "data": {
      "application/vnd.jupyter.widget-view+json": {
       "model_id": "76052801040240a3b91b970724edb2e3"
      }
     },
     "metadata": {},
     "output_type": "display_data"
    },
    {
     "name": "stdout",
     "output_type": "stream",
     "text": [
      "cmyc.motif\n"
     ]
    },
    {
     "data": {
      "application/vnd.jupyter.widget-view+json": {
       "model_id": "f39c554b5378423b913ff219d0ff8d33"
      }
     },
     "metadata": {},
     "output_type": "display_data"
    },
    {
     "name": "stdout",
     "output_type": "stream",
     "text": [
      "couptf1.motif\n"
     ]
    },
    {
     "data": {
      "application/vnd.jupyter.widget-view+json": {
       "model_id": "c0c76592a8d44f4b872bb66d854f36de"
      }
     },
     "metadata": {},
     "output_type": "display_data"
    },
    {
     "name": "stdout",
     "output_type": "stream",
     "text": [
      "couptf2.motif\n"
     ]
    },
    {
     "data": {
      "application/vnd.jupyter.widget-view+json": {
       "model_id": "cd0bdb6481024d8d827168d18f84d4e8"
      }
     },
     "metadata": {},
     "output_type": "display_data"
    },
    {
     "name": "stdout",
     "output_type": "stream",
     "text": [
      "cre.motif\n"
     ]
    },
    {
     "data": {
      "application/vnd.jupyter.widget-view+json": {
       "model_id": "d792b4ad2a6243c0920859e97e004c1a"
      }
     },
     "metadata": {},
     "output_type": "display_data"
    },
    {
     "name": "stdout",
     "output_type": "stream",
     "text": [
      "crx.motif\n"
     ]
    },
    {
     "data": {
      "application/vnd.jupyter.widget-view+json": {
       "model_id": "b1e9adbf5c6b48e69ab76e4d499dfda4"
      }
     },
     "metadata": {},
     "output_type": "display_data"
    },
    {
     "name": "stdout",
     "output_type": "stream",
     "text": [
      "ctcf-mys.motif\n"
     ]
    },
    {
     "data": {
      "application/vnd.jupyter.widget-view+json": {
       "model_id": "f8905b04fcc5417096a5862c3bc31632"
      }
     },
     "metadata": {},
     "output_type": "display_data"
    },
    {
     "name": "stdout",
     "output_type": "stream",
     "text": [
      "ctcf.motif\n"
     ]
    },
    {
     "data": {
      "application/vnd.jupyter.widget-view+json": {
       "model_id": "6f1f022cecdc41bf8632872d5831587d"
      }
     },
     "metadata": {},
     "output_type": "display_data"
    },
    {
     "name": "stdout",
     "output_type": "stream",
     "text": [
      "cux2.motif\n"
     ]
    },
    {
     "data": {
      "application/vnd.jupyter.widget-view+json": {
       "model_id": "35a1ae6891ec4a7da3b37189a8b52452"
      }
     },
     "metadata": {},
     "output_type": "display_data"
    },
    {
     "name": "stdout",
     "output_type": "stream",
     "text": [
      "dmc1.motif\n"
     ]
    },
    {
     "data": {
      "application/vnd.jupyter.widget-view+json": {
       "model_id": "3c65d0555be347c593454112bfdc6480"
      }
     },
     "metadata": {},
     "output_type": "display_data"
    },
    {
     "name": "stdout",
     "output_type": "stream",
     "text": [
      "dmrt1.motif\n"
     ]
    },
    {
     "data": {
      "application/vnd.jupyter.widget-view+json": {
       "model_id": "9f20e94aa4624b4ab17ac2adede4418f"
      }
     },
     "metadata": {},
     "output_type": "display_data"
    },
    {
     "name": "stdout",
     "output_type": "stream",
     "text": [
      "dmrt6.motif\n"
     ]
    },
    {
     "data": {
      "application/vnd.jupyter.widget-view+json": {
       "model_id": "aa53fb3016d0415a8f64642faf0633ee"
      }
     },
     "metadata": {},
     "output_type": "display_data"
    },
    {
     "name": "stdout",
     "output_type": "stream",
     "text": [
      "dr0.motif\n"
     ]
    },
    {
     "data": {
      "application/vnd.jupyter.widget-view+json": {
       "model_id": "b75f67b6cbc8428d90be996d9612e0bb"
      }
     },
     "metadata": {},
     "output_type": "display_data"
    },
    {
     "name": "stdout",
     "output_type": "stream",
     "text": [
      "dr5.motif\n"
     ]
    },
    {
     "data": {
      "application/vnd.jupyter.widget-view+json": {
       "model_id": "6de669fe0c0147638eee704ef0e7132b"
      }
     },
     "metadata": {},
     "output_type": "display_data"
    },
    {
     "name": "stdout",
     "output_type": "stream",
     "text": [
      "dux4.motif\n"
     ]
    },
    {
     "data": {
      "application/vnd.jupyter.widget-view+json": {
       "model_id": "6b48cf81028242b9bd89f76f31bec5c5"
      }
     },
     "metadata": {},
     "output_type": "display_data"
    },
    {
     "name": "stdout",
     "output_type": "stream",
     "text": [
      "e2a.motif\n"
     ]
    },
    {
     "data": {
      "application/vnd.jupyter.widget-view+json": {
       "model_id": "96895ac157b944e2b7d668bef111bab1"
      }
     },
     "metadata": {},
     "output_type": "display_data"
    },
    {
     "name": "stdout",
     "output_type": "stream",
     "text": [
      "e2f.motif\n"
     ]
    },
    {
     "data": {
      "application/vnd.jupyter.widget-view+json": {
       "model_id": "1a0585d9b3144e018affdd381798b53a"
      }
     },
     "metadata": {},
     "output_type": "display_data"
    },
    {
     "name": "stdout",
     "output_type": "stream",
     "text": [
      "e2f1.motif\n"
     ]
    },
    {
     "data": {
      "application/vnd.jupyter.widget-view+json": {
       "model_id": "353b88ca98544c37aca9351281092e16"
      }
     },
     "metadata": {},
     "output_type": "display_data"
    },
    {
     "name": "stdout",
     "output_type": "stream",
     "text": [
      "e2f3.motif\n"
     ]
    },
    {
     "data": {
      "application/vnd.jupyter.widget-view+json": {
       "model_id": "6d3ea6bcb68b4fa59440436ce7f23094"
      }
     },
     "metadata": {},
     "output_type": "display_data"
    },
    {
     "name": "stdout",
     "output_type": "stream",
     "text": [
      "e2f4.motif\n"
     ]
    },
    {
     "data": {
      "application/vnd.jupyter.widget-view+json": {
       "model_id": "25fdc26eed7f41509fea0345e7f7c065"
      }
     },
     "metadata": {},
     "output_type": "display_data"
    },
    {
     "name": "stdout",
     "output_type": "stream",
     "text": [
      "e2f6.motif\n"
     ]
    },
    {
     "data": {
      "application/vnd.jupyter.widget-view+json": {
       "model_id": "4cb873927cb44f05a262e77da248a279"
      }
     },
     "metadata": {},
     "output_type": "display_data"
    },
    {
     "name": "stdout",
     "output_type": "stream",
     "text": [
      "e2f7.motif\n"
     ]
    },
    {
     "data": {
      "application/vnd.jupyter.widget-view+json": {
       "model_id": "81d2697517f54cbab1ff26aaacb4ed88"
      }
     },
     "metadata": {},
     "output_type": "display_data"
    },
    {
     "name": "stdout",
     "output_type": "stream",
     "text": [
      "e47.motif\n"
     ]
    },
    {
     "data": {
      "application/vnd.jupyter.widget-view+json": {
       "model_id": "99673dc7c0264a2bbce002ce96764ed9"
      }
     },
     "metadata": {},
     "output_type": "display_data"
    },
    {
     "name": "stdout",
     "output_type": "stream",
     "text": [
      "ebf-old.motif\n"
     ]
    },
    {
     "data": {
      "application/vnd.jupyter.widget-view+json": {
       "model_id": "54ca1e32d0764df9996e4dea217c71c3"
      }
     },
     "metadata": {},
     "output_type": "display_data"
    },
    {
     "name": "stdout",
     "output_type": "stream",
     "text": [
      "ebf.motif\n"
     ]
    },
    {
     "data": {
      "application/vnd.jupyter.widget-view+json": {
       "model_id": "5f79c4f13f57481bb196b12b9121541b"
      }
     },
     "metadata": {},
     "output_type": "display_data"
    },
    {
     "name": "stdout",
     "output_type": "stream",
     "text": [
      "ebna1.motif\n"
     ]
    },
    {
     "data": {
      "application/vnd.jupyter.widget-view+json": {
       "model_id": "690bee0a060d414eac69826f4f3d3199"
      }
     },
     "metadata": {},
     "output_type": "display_data"
    },
    {
     "name": "stdout",
     "output_type": "stream",
     "text": [
      "ebox.motif\n"
     ]
    },
    {
     "data": {
      "application/vnd.jupyter.widget-view+json": {
       "model_id": "9818127a7e4d45c68bb3e44902a3e557"
      }
     },
     "metadata": {},
     "output_type": "display_data"
    },
    {
     "name": "stdout",
     "output_type": "stream",
     "text": [
      "egr1.motif\n"
     ]
    },
    {
     "data": {
      "application/vnd.jupyter.widget-view+json": {
       "model_id": "69f65db7ac36433ab9bafe79d298ba7e"
      }
     },
     "metadata": {},
     "output_type": "display_data"
    },
    {
     "name": "stdout",
     "output_type": "stream",
     "text": [
      "egr2.motif\n"
     ]
    },
    {
     "data": {
      "application/vnd.jupyter.widget-view+json": {
       "model_id": "e0cddcd25cb74a61a497415b418cc057"
      }
     },
     "metadata": {},
     "output_type": "display_data"
    },
    {
     "name": "stdout",
     "output_type": "stream",
     "text": [
      "ehf.motif\n"
     ]
    },
    {
     "data": {
      "application/vnd.jupyter.widget-view+json": {
       "model_id": "085466ecee7e4e07a99c67acbd795a99"
      }
     },
     "metadata": {},
     "output_type": "display_data"
    },
    {
     "name": "stdout",
     "output_type": "stream",
     "text": [
      "eklf.motif\n"
     ]
    },
    {
     "data": {
      "application/vnd.jupyter.widget-view+json": {
       "model_id": "baa1549360ee457b8ff693960550a123"
      }
     },
     "metadata": {},
     "output_type": "display_data"
    },
    {
     "name": "stdout",
     "output_type": "stream",
     "text": [
      "elf1.motif\n"
     ]
    },
    {
     "data": {
      "application/vnd.jupyter.widget-view+json": {
       "model_id": "c6ef33bf1422496b89526ac63e228351"
      }
     },
     "metadata": {},
     "output_type": "display_data"
    },
    {
     "name": "stdout",
     "output_type": "stream",
     "text": [
      "elf3.motif\n"
     ]
    },
    {
     "data": {
      "application/vnd.jupyter.widget-view+json": {
       "model_id": "43ccbfa9184444c1bf5c670271aa8d3e"
      }
     },
     "metadata": {},
     "output_type": "display_data"
    },
    {
     "name": "stdout",
     "output_type": "stream",
     "text": [
      "elf5.motif\n"
     ]
    },
    {
     "data": {
      "application/vnd.jupyter.widget-view+json": {
       "model_id": "4e3c1ee802d04aea89057c625bb1af96"
      }
     },
     "metadata": {},
     "output_type": "display_data"
    },
    {
     "name": "stdout",
     "output_type": "stream",
     "text": [
      "elk1.motif\n"
     ]
    },
    {
     "data": {
      "application/vnd.jupyter.widget-view+json": {
       "model_id": "099d8be1ec5543fda594f20e9d35feca"
      }
     },
     "metadata": {},
     "output_type": "display_data"
    },
    {
     "name": "stdout",
     "output_type": "stream",
     "text": [
      "elk4.motif\n"
     ]
    },
    {
     "data": {
      "application/vnd.jupyter.widget-view+json": {
       "model_id": "c21ae19e62574cf68d8a691a9716330b"
      }
     },
     "metadata": {},
     "output_type": "display_data"
    },
    {
     "name": "stdout",
     "output_type": "stream",
     "text": [
      "eomes.motif\n"
     ]
    },
    {
     "data": {
      "application/vnd.jupyter.widget-view+json": {
       "model_id": "55d86264f53d4c16901162ce24bc4c2c"
      }
     },
     "metadata": {},
     "output_type": "display_data"
    },
    {
     "name": "stdout",
     "output_type": "stream",
     "text": [
      "ere.motif\n"
     ]
    },
    {
     "data": {
      "application/vnd.jupyter.widget-view+json": {
       "model_id": "0b8578d47c584e6eb3d4de8f421b18c1"
      }
     },
     "metadata": {},
     "output_type": "display_data"
    },
    {
     "name": "stdout",
     "output_type": "stream",
     "text": [
      "erg.motif\n"
     ]
    },
    {
     "data": {
      "application/vnd.jupyter.widget-view+json": {
       "model_id": "b1020db38f744e33b71833be39d4c6a3"
      }
     },
     "metadata": {},
     "output_type": "display_data"
    },
    {
     "name": "stdout",
     "output_type": "stream",
     "text": [
      "erra.motif\n"
     ]
    },
    {
     "data": {
      "application/vnd.jupyter.widget-view+json": {
       "model_id": "1d8f8c0fdcf44675a2a7c456088b0749"
      }
     },
     "metadata": {},
     "output_type": "display_data"
    },
    {
     "name": "stdout",
     "output_type": "stream",
     "text": [
      "es.motif\n"
     ]
    },
    {
     "data": {
      "application/vnd.jupyter.widget-view+json": {
       "model_id": "148e98d38acc48bd8cac2eb8064bf5ed"
      }
     },
     "metadata": {},
     "output_type": "display_data"
    },
    {
     "name": "stdout",
     "output_type": "stream",
     "text": [
      "esrrb.motif\n"
     ]
    },
    {
     "data": {
      "application/vnd.jupyter.widget-view+json": {
       "model_id": "2c7588741a8741cfb57c5e2c746e0685"
      }
     },
     "metadata": {},
     "output_type": "display_data"
    },
    {
     "name": "stdout",
     "output_type": "stream",
     "text": [
      "ets-distal.motif\n"
     ]
    },
    {
     "data": {
      "application/vnd.jupyter.widget-view+json": {
       "model_id": "4b8f5c5f4df7400ea798a80fbf2ac7fa"
      }
     },
     "metadata": {},
     "output_type": "display_data"
    },
    {
     "name": "stdout",
     "output_type": "stream",
     "text": [
      "ets-ebox.motif\n"
     ]
    },
    {
     "data": {
      "application/vnd.jupyter.widget-view+json": {
       "model_id": "bae212e09512464fbe3f7a114b87beea"
      }
     },
     "metadata": {},
     "output_type": "display_data"
    },
    {
     "name": "stdout",
     "output_type": "stream",
     "text": [
      "ets-runx.motif\n"
     ]
    },
    {
     "data": {
      "application/vnd.jupyter.widget-view+json": {
       "model_id": "fa98d197d3bd45f8b1baf56f2459d1f5"
      }
     },
     "metadata": {},
     "output_type": "display_data"
    },
    {
     "name": "stdout",
     "output_type": "stream",
     "text": [
      "ets.motif\n"
     ]
    },
    {
     "data": {
      "application/vnd.jupyter.widget-view+json": {
       "model_id": "1408e1bab7d34133911fd7c65e254af6"
      }
     },
     "metadata": {},
     "output_type": "display_data"
    },
    {
     "name": "stdout",
     "output_type": "stream",
     "text": [
      "ets1.motif\n"
     ]
    },
    {
     "data": {
      "application/vnd.jupyter.widget-view+json": {
       "model_id": "e80dfbb18f094037b531d6b3bd2598d5"
      }
     },
     "metadata": {},
     "output_type": "display_data"
    },
    {
     "name": "stdout",
     "output_type": "stream",
     "text": [
      "etv1.motif\n"
     ]
    },
    {
     "data": {
      "application/vnd.jupyter.widget-view+json": {
       "model_id": "9e8cb68b24f343ddba81d7fee7179090"
      }
     },
     "metadata": {},
     "output_type": "display_data"
    },
    {
     "name": "stdout",
     "output_type": "stream",
     "text": [
      "etv2.motif\n"
     ]
    },
    {
     "data": {
      "application/vnd.jupyter.widget-view+json": {
       "model_id": "4bd44c4442c2438eb1d7bc8231c27889"
      }
     },
     "metadata": {},
     "output_type": "display_data"
    },
    {
     "name": "stdout",
     "output_type": "stream",
     "text": [
      "etv4.motif\n"
     ]
    },
    {
     "data": {
      "application/vnd.jupyter.widget-view+json": {
       "model_id": "5a81302e09194a27ac2550aee24435fe"
      }
     },
     "metadata": {},
     "output_type": "display_data"
    },
    {
     "name": "stdout",
     "output_type": "stream",
     "text": [
      "ews-erg.motif\n"
     ]
    },
    {
     "data": {
      "application/vnd.jupyter.widget-view+json": {
       "model_id": "ef1a3b730e714e9082d4ca29f2085217"
      }
     },
     "metadata": {},
     "output_type": "display_data"
    },
    {
     "name": "stdout",
     "output_type": "stream",
     "text": [
      "ews-fli1.motif\n"
     ]
    },
    {
     "data": {
      "application/vnd.jupyter.widget-view+json": {
       "model_id": "8519ccfe016c4bf498352649edc7bf28"
      }
     },
     "metadata": {},
     "output_type": "display_data"
    },
    {
     "name": "stdout",
     "output_type": "stream",
     "text": [
      "fli.motif\n"
     ]
    },
    {
     "data": {
      "application/vnd.jupyter.widget-view+json": {
       "model_id": "a6bfa9e091bd4c60bde5744f808134bc"
      }
     },
     "metadata": {},
     "output_type": "display_data"
    },
    {
     "name": "stdout",
     "output_type": "stream",
     "text": [
      "fosl2.motif\n"
     ]
    },
    {
     "data": {
      "application/vnd.jupyter.widget-view+json": {
       "model_id": "93953d41b18c4b739fdae86096d260cf"
      }
     },
     "metadata": {},
     "output_type": "display_data"
    },
    {
     "name": "stdout",
     "output_type": "stream",
     "text": [
      "fox-ebox.motif\n"
     ]
    },
    {
     "data": {
      "application/vnd.jupyter.widget-view+json": {
       "model_id": "edf6ca621f0d4207955f0a013a241ede"
      }
     },
     "metadata": {},
     "output_type": "display_data"
    },
    {
     "name": "stdout",
     "output_type": "stream",
     "text": [
      "foxa1.lncap.motif\n"
     ]
    },
    {
     "data": {
      "application/vnd.jupyter.widget-view+json": {
       "model_id": "923027ca4e544e91bfc0a39c67f576b7"
      }
     },
     "metadata": {},
     "output_type": "display_data"
    },
    {
     "name": "stdout",
     "output_type": "stream",
     "text": [
      "foxa1.mcf7.motif\n"
     ]
    },
    {
     "data": {
      "application/vnd.jupyter.widget-view+json": {
       "model_id": "db12e1ff5aad481bbdf8742922acce08"
      }
     },
     "metadata": {},
     "output_type": "display_data"
    },
    {
     "name": "stdout",
     "output_type": "stream",
     "text": [
      "foxa2.motif\n"
     ]
    },
    {
     "data": {
      "application/vnd.jupyter.widget-view+json": {
       "model_id": "7dae6ca89186411fa5e8ab228b105fc4"
      }
     },
     "metadata": {},
     "output_type": "display_data"
    },
    {
     "name": "stdout",
     "output_type": "stream",
     "text": [
      "foxa3.motif\n"
     ]
    },
    {
     "data": {
      "application/vnd.jupyter.widget-view+json": {
       "model_id": "1b1b311207a545cfa964bf4589379fbd"
      }
     },
     "metadata": {},
     "output_type": "display_data"
    },
    {
     "name": "stdout",
     "output_type": "stream",
     "text": [
      "foxf1.motif\n"
     ]
    },
    {
     "data": {
      "application/vnd.jupyter.widget-view+json": {
       "model_id": "4bd2092a1dd946cb857e46bdbb13a401"
      }
     },
     "metadata": {},
     "output_type": "display_data"
    },
    {
     "name": "stdout",
     "output_type": "stream",
     "text": [
      "foxh1.motif\n"
     ]
    },
    {
     "data": {
      "application/vnd.jupyter.widget-view+json": {
       "model_id": "c04e359844cb4d5fae0fa64a556ea07c"
      }
     },
     "metadata": {},
     "output_type": "display_data"
    },
    {
     "name": "stdout",
     "output_type": "stream",
     "text": [
      "foxk1.motif\n"
     ]
    },
    {
     "data": {
      "application/vnd.jupyter.widget-view+json": {
       "model_id": "24c25855eb4e4bb5b1f4f56f1f906015"
      }
     },
     "metadata": {},
     "output_type": "display_data"
    },
    {
     "name": "stdout",
     "output_type": "stream",
     "text": [
      "foxk2.motif\n"
     ]
    },
    {
     "data": {
      "application/vnd.jupyter.widget-view+json": {
       "model_id": "7437e0ed577d4f72acdbd33f04db952d"
      }
     },
     "metadata": {},
     "output_type": "display_data"
    },
    {
     "name": "stdout",
     "output_type": "stream",
     "text": [
      "foxl2.motif\n"
     ]
    },
    {
     "data": {
      "application/vnd.jupyter.widget-view+json": {
       "model_id": "3cfe0eb9ef2e49b99b12cfd1e66deb3d"
      }
     },
     "metadata": {},
     "output_type": "display_data"
    },
    {
     "name": "stdout",
     "output_type": "stream",
     "text": [
      "foxm1.motif\n"
     ]
    },
    {
     "data": {
      "application/vnd.jupyter.widget-view+json": {
       "model_id": "0b980d18301140769de68739bffa7c3a"
      }
     },
     "metadata": {},
     "output_type": "display_data"
    },
    {
     "name": "stdout",
     "output_type": "stream",
     "text": [
      "foxo1.motif\n"
     ]
    },
    {
     "data": {
      "application/vnd.jupyter.widget-view+json": {
       "model_id": "3c50c78fd29c4de2b01d186b0abf2ea0"
      }
     },
     "metadata": {},
     "output_type": "display_data"
    },
    {
     "name": "stdout",
     "output_type": "stream",
     "text": [
      "foxo3.motif\n"
     ]
    },
    {
     "data": {
      "application/vnd.jupyter.widget-view+json": {
       "model_id": "af36988bba9a422b90337df793f38b30"
      }
     },
     "metadata": {},
     "output_type": "display_data"
    },
    {
     "name": "stdout",
     "output_type": "stream",
     "text": [
      "foxp1.motif\n"
     ]
    },
    {
     "data": {
      "application/vnd.jupyter.widget-view+json": {
       "model_id": "6d4e6a24aa42482283c78625674441b2"
      }
     },
     "metadata": {},
     "output_type": "display_data"
    },
    {
     "name": "stdout",
     "output_type": "stream",
     "text": [
      "fra1.motif\n"
     ]
    },
    {
     "data": {
      "application/vnd.jupyter.widget-view+json": {
       "model_id": "fb10df641b3549ecb208350d804b6908"
      }
     },
     "metadata": {},
     "output_type": "display_data"
    },
    {
     "name": "stdout",
     "output_type": "stream",
     "text": [
      "fra2.motif\n"
     ]
    },
    {
     "data": {
      "application/vnd.jupyter.widget-view+json": {
       "model_id": "b544a56ae0c64c7895eacc5e35619e24"
      }
     },
     "metadata": {},
     "output_type": "display_data"
    },
    {
     "name": "stdout",
     "output_type": "stream",
     "text": [
      "fxr.motif\n"
     ]
    },
    {
     "data": {
      "application/vnd.jupyter.widget-view+json": {
       "model_id": "ba68844883a94b2eaf56b6834c6985ae"
      }
     },
     "metadata": {},
     "output_type": "display_data"
    },
    {
     "name": "stdout",
     "output_type": "stream",
     "text": [
      "gabp.motif\n"
     ]
    },
    {
     "data": {
      "application/vnd.jupyter.widget-view+json": {
       "model_id": "eebeac2dbc0446e6beff080a196a2b44"
      }
     },
     "metadata": {},
     "output_type": "display_data"
    },
    {
     "name": "stdout",
     "output_type": "stream",
     "text": [
      "gata-scl.motif\n"
     ]
    },
    {
     "data": {
      "application/vnd.jupyter.widget-view+json": {
       "model_id": "25b5e97c48244f3893991ada6eeda989"
      }
     },
     "metadata": {},
     "output_type": "display_data"
    },
    {
     "name": "stdout",
     "output_type": "stream",
     "text": [
      "gata.motif\n"
     ]
    },
    {
     "data": {
      "application/vnd.jupyter.widget-view+json": {
       "model_id": "a076c245a443400e82aa322a6036d19c"
      }
     },
     "metadata": {},
     "output_type": "display_data"
    },
    {
     "name": "stdout",
     "output_type": "stream",
     "text": [
      "gata2.motif\n"
     ]
    },
    {
     "data": {
      "application/vnd.jupyter.widget-view+json": {
       "model_id": "2d4bd8b4b33244a38140968e9df351d4"
      }
     },
     "metadata": {},
     "output_type": "display_data"
    },
    {
     "name": "stdout",
     "output_type": "stream",
     "text": [
      "gata3.dr4.motif\n"
     ]
    },
    {
     "data": {
      "application/vnd.jupyter.widget-view+json": {
       "model_id": "7df65a6fe4cf4e22898d629536427c48"
      }
     },
     "metadata": {},
     "output_type": "display_data"
    },
    {
     "name": "stdout",
     "output_type": "stream",
     "text": [
      "gata3.dr8.motif\n"
     ]
    },
    {
     "data": {
      "application/vnd.jupyter.widget-view+json": {
       "model_id": "af81a3b1bd284bf096eddd73fac1ad72"
      }
     },
     "metadata": {},
     "output_type": "display_data"
    },
    {
     "name": "stdout",
     "output_type": "stream",
     "text": [
      "gata3.ir3.motif\n"
     ]
    },
    {
     "data": {
      "application/vnd.jupyter.widget-view+json": {
       "model_id": "e7e7526af03542129b84807cd33809d5"
      }
     },
     "metadata": {},
     "output_type": "display_data"
    },
    {
     "name": "stdout",
     "output_type": "stream",
     "text": [
      "gata3.ir4.motif\n"
     ]
    },
    {
     "data": {
      "application/vnd.jupyter.widget-view+json": {
       "model_id": "606fabb1ae7e40219d03ddbf19f67da5"
      }
     },
     "metadata": {},
     "output_type": "display_data"
    },
    {
     "name": "stdout",
     "output_type": "stream",
     "text": [
      "gata3.motif\n"
     ]
    },
    {
     "data": {
      "application/vnd.jupyter.widget-view+json": {
       "model_id": "b952fdbe62e94f56a8e1e2a520538ba2"
      }
     },
     "metadata": {},
     "output_type": "display_data"
    },
    {
     "name": "stdout",
     "output_type": "stream",
     "text": [
      "gata4.motif\n"
     ]
    },
    {
     "data": {
      "application/vnd.jupyter.widget-view+json": {
       "model_id": "b81e05facac74135b16f66674e115086"
      }
     },
     "metadata": {},
     "output_type": "display_data"
    },
    {
     "name": "stdout",
     "output_type": "stream",
     "text": [
      "gata6.motif\n"
     ]
    },
    {
     "data": {
      "application/vnd.jupyter.widget-view+json": {
       "model_id": "297623c5ce234dce8c1bce9609520208"
      }
     },
     "metadata": {},
     "output_type": "display_data"
    },
    {
     "name": "stdout",
     "output_type": "stream",
     "text": [
      "gfi1b.motif\n"
     ]
    },
    {
     "data": {
      "application/vnd.jupyter.widget-view+json": {
       "model_id": "241546d0392d4dd5aa798153bb54855b"
      }
     },
     "metadata": {},
     "output_type": "display_data"
    },
    {
     "name": "stdout",
     "output_type": "stream",
     "text": [
      "gfx.motif\n"
     ]
    },
    {
     "data": {
      "application/vnd.jupyter.widget-view+json": {
       "model_id": "8f4b218558a94537b829581c60324453"
      }
     },
     "metadata": {},
     "output_type": "display_data"
    },
    {
     "name": "stdout",
     "output_type": "stream",
     "text": [
      "gfy-staf.motif\n"
     ]
    },
    {
     "data": {
      "application/vnd.jupyter.widget-view+json": {
       "model_id": "6130db96354e4527bb8eb052224d0d16"
      }
     },
     "metadata": {},
     "output_type": "display_data"
    },
    {
     "name": "stdout",
     "output_type": "stream",
     "text": [
      "gfy.motif\n"
     ]
    },
    {
     "data": {
      "application/vnd.jupyter.widget-view+json": {
       "model_id": "6297414fedc84214bc0abaebcafb72aa"
      }
     },
     "metadata": {},
     "output_type": "display_data"
    },
    {
     "name": "stdout",
     "output_type": "stream",
     "text": [
      "gli.motif\n"
     ]
    },
    {
     "data": {
      "application/vnd.jupyter.widget-view+json": {
       "model_id": "2d18cc43f01445498c80056ed6d51ec0"
      }
     },
     "metadata": {},
     "output_type": "display_data"
    },
    {
     "name": "stdout",
     "output_type": "stream",
     "text": [
      "gre-raw.motif\n"
     ]
    },
    {
     "data": {
      "application/vnd.jupyter.widget-view+json": {
       "model_id": "76c30d4bc9de4424a897fb0e2a0a123d"
      }
     },
     "metadata": {},
     "output_type": "display_data"
    },
    {
     "name": "stdout",
     "output_type": "stream",
     "text": [
      "gre.motif\n"
     ]
    },
    {
     "data": {
      "application/vnd.jupyter.widget-view+json": {
       "model_id": "fc00aa0d14c84fe1a9b617ee7dff0756"
      }
     },
     "metadata": {},
     "output_type": "display_data"
    },
    {
     "name": "stdout",
     "output_type": "stream",
     "text": [
      "grhl2.motif\n"
     ]
    },
    {
     "data": {
      "application/vnd.jupyter.widget-view+json": {
       "model_id": "19ca19d0f2454db98428fe87fbf9685a"
      }
     },
     "metadata": {},
     "output_type": "display_data"
    },
    {
     "name": "stdout",
     "output_type": "stream",
     "text": [
      "gsc.motif\n"
     ]
    },
    {
     "data": {
      "application/vnd.jupyter.widget-view+json": {
       "model_id": "5a2653626a0a4434ac51263217c26c9f"
      }
     },
     "metadata": {},
     "output_type": "display_data"
    },
    {
     "name": "stdout",
     "output_type": "stream",
     "text": [
      "hand2.motif\n"
     ]
    },
    {
     "data": {
      "application/vnd.jupyter.widget-view+json": {
       "model_id": "86d258ed555448c8b3e10e83e5428038"
      }
     },
     "metadata": {},
     "output_type": "display_data"
    },
    {
     "name": "stdout",
     "output_type": "stream",
     "text": [
      "heb.motif\n"
     ]
    },
    {
     "data": {
      "application/vnd.jupyter.widget-view+json": {
       "model_id": "62fc4f35081f4c299c1e8cafa8fbed70"
      }
     },
     "metadata": {},
     "output_type": "display_data"
    },
    {
     "name": "stdout",
     "output_type": "stream",
     "text": [
      "hif1a.motif\n"
     ]
    },
    {
     "data": {
      "application/vnd.jupyter.widget-view+json": {
       "model_id": "97350a944aa54bf6918f8a25a05b9200"
      }
     },
     "metadata": {},
     "output_type": "display_data"
    },
    {
     "name": "stdout",
     "output_type": "stream",
     "text": [
      "hif1b.motif\n"
     ]
    },
    {
     "data": {
      "application/vnd.jupyter.widget-view+json": {
       "model_id": "9cb00e36ac6e4c7dbfea5a1e915d031a"
      }
     },
     "metadata": {},
     "output_type": "display_data"
    },
    {
     "name": "stdout",
     "output_type": "stream",
     "text": [
      "hif2a.motif\n"
     ]
    },
    {
     "data": {
      "application/vnd.jupyter.widget-view+json": {
       "model_id": "c2140678fdbc4d859619ca1ca775b785"
      }
     },
     "metadata": {},
     "output_type": "display_data"
    },
    {
     "name": "stdout",
     "output_type": "stream",
     "text": [
      "hinfp.motif\n"
     ]
    },
    {
     "data": {
      "application/vnd.jupyter.widget-view+json": {
       "model_id": "04fa470fa3f24c7486cd413b853b6f4f"
      }
     },
     "metadata": {},
     "output_type": "display_data"
    },
    {
     "name": "stdout",
     "output_type": "stream",
     "text": [
      "hlf.motif\n"
     ]
    },
    {
     "data": {
      "application/vnd.jupyter.widget-view+json": {
       "model_id": "f00b4202afbe4f16aed5c7296f510d86"
      }
     },
     "metadata": {},
     "output_type": "display_data"
    },
    {
     "name": "stdout",
     "output_type": "stream",
     "text": [
      "hnf1.motif\n"
     ]
    },
    {
     "data": {
      "application/vnd.jupyter.widget-view+json": {
       "model_id": "254f1e9c216d4a00a450d8c214327a52"
      }
     },
     "metadata": {},
     "output_type": "display_data"
    },
    {
     "name": "stdout",
     "output_type": "stream",
     "text": [
      "hnf1b.motif\n"
     ]
    },
    {
     "data": {
      "application/vnd.jupyter.widget-view+json": {
       "model_id": "dc7084b686124eb2a7473febe3054b0a"
      }
     },
     "metadata": {},
     "output_type": "display_data"
    },
    {
     "name": "stdout",
     "output_type": "stream",
     "text": [
      "hnf4.motif\n"
     ]
    },
    {
     "data": {
      "application/vnd.jupyter.widget-view+json": {
       "model_id": "0b4c2ae2e4a14c379cf9773a2b82f5d6"
      }
     },
     "metadata": {},
     "output_type": "display_data"
    },
    {
     "name": "stdout",
     "output_type": "stream",
     "text": [
      "hnf6.motif\n"
     ]
    },
    {
     "data": {
      "application/vnd.jupyter.widget-view+json": {
       "model_id": "9d8f5b07a37c49e19e2e747c32d725c1"
      }
     },
     "metadata": {},
     "output_type": "display_data"
    },
    {
     "name": "stdout",
     "output_type": "stream",
     "text": [
      "hoxa10.motif\n"
     ]
    },
    {
     "data": {
      "application/vnd.jupyter.widget-view+json": {
       "model_id": "e230087e0b8f46a2a8323a9fb54b5108"
      }
     },
     "metadata": {},
     "output_type": "display_data"
    },
    {
     "name": "stdout",
     "output_type": "stream",
     "text": [
      "hoxa11.motif\n"
     ]
    },
    {
     "data": {
      "application/vnd.jupyter.widget-view+json": {
       "model_id": "449dfbce1fc14374bc633fadb0ee75de"
      }
     },
     "metadata": {},
     "output_type": "display_data"
    },
    {
     "name": "stdout",
     "output_type": "stream",
     "text": [
      "hoxa13.motif\n"
     ]
    },
    {
     "data": {
      "application/vnd.jupyter.widget-view+json": {
       "model_id": "dc4ee329460644038d777b49fbc12a83"
      }
     },
     "metadata": {},
     "output_type": "display_data"
    },
    {
     "name": "stdout",
     "output_type": "stream",
     "text": [
      "hoxa2.motif\n"
     ]
    },
    {
     "data": {
      "application/vnd.jupyter.widget-view+json": {
       "model_id": "b943ad50c97942588273d5312b97ae74"
      }
     },
     "metadata": {},
     "output_type": "display_data"
    },
    {
     "name": "stdout",
     "output_type": "stream",
     "text": [
      "hoxa9.motif\n"
     ]
    },
    {
     "data": {
      "application/vnd.jupyter.widget-view+json": {
       "model_id": "4855d7a9a21f48dabf7bc302b894c09d"
      }
     },
     "metadata": {},
     "output_type": "display_data"
    },
    {
     "name": "stdout",
     "output_type": "stream",
     "text": [
      "hoxb13.motif\n"
     ]
    },
    {
     "data": {
      "application/vnd.jupyter.widget-view+json": {
       "model_id": "4366bb7467864b5d8f5fee4398b5e917"
      }
     },
     "metadata": {},
     "output_type": "display_data"
    },
    {
     "name": "stdout",
     "output_type": "stream",
     "text": [
      "hoxb4.motif\n"
     ]
    },
    {
     "data": {
      "application/vnd.jupyter.widget-view+json": {
       "model_id": "087c687ad3484dada42cc7589a92c50b"
      }
     },
     "metadata": {},
     "output_type": "display_data"
    },
    {
     "name": "stdout",
     "output_type": "stream",
     "text": [
      "hoxc9.motif\n"
     ]
    },
    {
     "data": {
      "application/vnd.jupyter.widget-view+json": {
       "model_id": "1a0bcdd388e64833a0f642aa01580fbf"
      }
     },
     "metadata": {},
     "output_type": "display_data"
    },
    {
     "name": "stdout",
     "output_type": "stream",
     "text": [
      "hoxd10.motif\n"
     ]
    },
    {
     "data": {
      "application/vnd.jupyter.widget-view+json": {
       "model_id": "f33b7ad63a1a40f2ba801b1a9a65785d"
      }
     },
     "metadata": {},
     "output_type": "display_data"
    },
    {
     "name": "stdout",
     "output_type": "stream",
     "text": [
      "hoxd11.motif\n"
     ]
    },
    {
     "data": {
      "application/vnd.jupyter.widget-view+json": {
       "model_id": "0fb4890b738b4a31997436f206199557"
      }
     },
     "metadata": {},
     "output_type": "display_data"
    },
    {
     "name": "stdout",
     "output_type": "stream",
     "text": [
      "hoxd12.motif\n"
     ]
    },
    {
     "data": {
      "application/vnd.jupyter.widget-view+json": {
       "model_id": "8edb483edb5e4cf193f1da447a0db957"
      }
     },
     "metadata": {},
     "output_type": "display_data"
    },
    {
     "name": "stdout",
     "output_type": "stream",
     "text": [
      "hoxd13.motif\n"
     ]
    },
    {
     "data": {
      "application/vnd.jupyter.widget-view+json": {
       "model_id": "840f85c243e54160a886654d53ba2688"
      }
     },
     "metadata": {},
     "output_type": "display_data"
    },
    {
     "name": "stdout",
     "output_type": "stream",
     "text": [
      "hsf.motif\n"
     ]
    },
    {
     "data": {
      "application/vnd.jupyter.widget-view+json": {
       "model_id": "4d71bcaf8489498f9f461c3cd3dbda08"
      }
     },
     "metadata": {},
     "output_type": "display_data"
    },
    {
     "name": "stdout",
     "output_type": "stream",
     "text": [
      "hsf1.motif\n"
     ]
    },
    {
     "data": {
      "application/vnd.jupyter.widget-view+json": {
       "model_id": "5435f2313fb74e18a9204d50f438b703"
      }
     },
     "metadata": {},
     "output_type": "display_data"
    },
    {
     "name": "stdout",
     "output_type": "stream",
     "text": [
      "inr.motif\n"
     ]
    },
    {
     "data": {
      "application/vnd.jupyter.widget-view+json": {
       "model_id": "fb95a6ac20144419bc137b6a4426d185"
      }
     },
     "metadata": {},
     "output_type": "display_data"
    },
    {
     "name": "stdout",
     "output_type": "stream",
     "text": [
      "irf1.motif\n"
     ]
    },
    {
     "data": {
      "application/vnd.jupyter.widget-view+json": {
       "model_id": "ffa65df44ed04a0b8edf0559d7896716"
      }
     },
     "metadata": {},
     "output_type": "display_data"
    },
    {
     "name": "stdout",
     "output_type": "stream",
     "text": [
      "irf2.motif\n"
     ]
    },
    {
     "data": {
      "application/vnd.jupyter.widget-view+json": {
       "model_id": "e4dd14d9d91b4a349d118ba5b87e4fb4"
      }
     },
     "metadata": {},
     "output_type": "display_data"
    },
    {
     "name": "stdout",
     "output_type": "stream",
     "text": [
      "irf3.motif\n"
     ]
    },
    {
     "data": {
      "application/vnd.jupyter.widget-view+json": {
       "model_id": "b2775389beaf450a8790a7881a898ffd"
      }
     },
     "metadata": {},
     "output_type": "display_data"
    },
    {
     "name": "stdout",
     "output_type": "stream",
     "text": [
      "irf4.motif\n"
     ]
    },
    {
     "data": {
      "application/vnd.jupyter.widget-view+json": {
       "model_id": "e4853225750640a5ab174eb94ff8e9ed"
      }
     },
     "metadata": {},
     "output_type": "display_data"
    },
    {
     "name": "stdout",
     "output_type": "stream",
     "text": [
      "irf8.motif\n"
     ]
    },
    {
     "data": {
      "application/vnd.jupyter.widget-view+json": {
       "model_id": "c66846fe0fbd4decb61ce4876cc9878c"
      }
     },
     "metadata": {},
     "output_type": "display_data"
    },
    {
     "name": "stdout",
     "output_type": "stream",
     "text": [
      "isl1.motif\n"
     ]
    },
    {
     "data": {
      "application/vnd.jupyter.widget-view+json": {
       "model_id": "0f504b99b50a4fd6b32acd74fcfc609c"
      }
     },
     "metadata": {},
     "output_type": "display_data"
    },
    {
     "name": "stdout",
     "output_type": "stream",
     "text": [
      "isre.motif\n"
     ]
    },
    {
     "data": {
      "application/vnd.jupyter.widget-view+json": {
       "model_id": "172e3069fefd486680cac8bad6ac4c14"
      }
     },
     "metadata": {},
     "output_type": "display_data"
    },
    {
     "name": "stdout",
     "output_type": "stream",
     "text": [
      "jun-ap1.motif\n"
     ]
    },
    {
     "data": {
      "application/vnd.jupyter.widget-view+json": {
       "model_id": "b10f08baa82f49d1b444ac2edfe83927"
      }
     },
     "metadata": {},
     "output_type": "display_data"
    },
    {
     "name": "stdout",
     "output_type": "stream",
     "text": [
      "jun-cre.motif\n"
     ]
    },
    {
     "data": {
      "application/vnd.jupyter.widget-view+json": {
       "model_id": "ec63f0d799cc4c058830a3baa7490658"
      }
     },
     "metadata": {},
     "output_type": "display_data"
    },
    {
     "name": "stdout",
     "output_type": "stream",
     "text": [
      "junb.motif\n"
     ]
    },
    {
     "data": {
      "application/vnd.jupyter.widget-view+json": {
       "model_id": "37cd71ac8d8649babf79726ae0c1aac9"
      }
     },
     "metadata": {},
     "output_type": "display_data"
    },
    {
     "name": "stdout",
     "output_type": "stream",
     "text": [
      "jund.motif\n"
     ]
    },
    {
     "data": {
      "application/vnd.jupyter.widget-view+json": {
       "model_id": "5f529451b07340d58cb6faa1decd464d"
      }
     },
     "metadata": {},
     "output_type": "display_data"
    },
    {
     "name": "stdout",
     "output_type": "stream",
     "text": [
      "klf10.motif\n"
     ]
    },
    {
     "data": {
      "application/vnd.jupyter.widget-view+json": {
       "model_id": "6362a45b6a9d4aa585f2b5e399b71fa2"
      }
     },
     "metadata": {},
     "output_type": "display_data"
    },
    {
     "name": "stdout",
     "output_type": "stream",
     "text": [
      "klf14.motif\n"
     ]
    },
    {
     "data": {
      "application/vnd.jupyter.widget-view+json": {
       "model_id": "cab56cc9316645e8b08a63ba8c6ccc18"
      }
     },
     "metadata": {},
     "output_type": "display_data"
    },
    {
     "name": "stdout",
     "output_type": "stream",
     "text": [
      "klf3.motif\n"
     ]
    },
    {
     "data": {
      "application/vnd.jupyter.widget-view+json": {
       "model_id": "80ff12c4135144a89570e35ed5dd98bb"
      }
     },
     "metadata": {},
     "output_type": "display_data"
    },
    {
     "name": "stdout",
     "output_type": "stream",
     "text": [
      "klf4.motif\n"
     ]
    },
    {
     "data": {
      "application/vnd.jupyter.widget-view+json": {
       "model_id": "eac6319d562347fdbed00df22598919a"
      }
     },
     "metadata": {},
     "output_type": "display_data"
    },
    {
     "name": "stdout",
     "output_type": "stream",
     "text": [
      "klf5.motif\n"
     ]
    },
    {
     "data": {
      "application/vnd.jupyter.widget-view+json": {
       "model_id": "344bdd0beb0841f18bbe8a2e765f7d5a"
      }
     },
     "metadata": {},
     "output_type": "display_data"
    },
    {
     "name": "stdout",
     "output_type": "stream",
     "text": [
      "klf6.motif\n"
     ]
    },
    {
     "data": {
      "application/vnd.jupyter.widget-view+json": {
       "model_id": "820657f0f1d44bfabefe5f64f5b5dd18"
      }
     },
     "metadata": {},
     "output_type": "display_data"
    },
    {
     "name": "stdout",
     "output_type": "stream",
     "text": [
      "klf9.motif\n"
     ]
    },
    {
     "data": {
      "application/vnd.jupyter.widget-view+json": {
       "model_id": "992c9841abe34c4d813cf569deedce18"
      }
     },
     "metadata": {},
     "output_type": "display_data"
    },
    {
     "name": "stdout",
     "output_type": "stream",
     "text": [
      "lef1.motif\n"
     ]
    },
    {
     "data": {
      "application/vnd.jupyter.widget-view+json": {
       "model_id": "db9efaf944f84e52880d1dd1d4a957d7"
      }
     },
     "metadata": {},
     "output_type": "display_data"
    },
    {
     "name": "stdout",
     "output_type": "stream",
     "text": [
      "lhx1.motif\n"
     ]
    },
    {
     "data": {
      "application/vnd.jupyter.widget-view+json": {
       "model_id": "0f977e69836944c1b9890f64eb1ae757"
      }
     },
     "metadata": {},
     "output_type": "display_data"
    },
    {
     "name": "stdout",
     "output_type": "stream",
     "text": [
      "lhx2.motif\n"
     ]
    },
    {
     "data": {
      "application/vnd.jupyter.widget-view+json": {
       "model_id": "418ea4102d504625b48abf4baf62f31d"
      }
     },
     "metadata": {},
     "output_type": "display_data"
    },
    {
     "name": "stdout",
     "output_type": "stream",
     "text": [
      "lhx3.motif\n"
     ]
    },
    {
     "data": {
      "application/vnd.jupyter.widget-view+json": {
       "model_id": "9ac16b3b2eb94017bb70b71bd94db1d6"
      }
     },
     "metadata": {},
     "output_type": "display_data"
    },
    {
     "name": "stdout",
     "output_type": "stream",
     "text": [
      "limb.motif\n"
     ]
    },
    {
     "data": {
      "application/vnd.jupyter.widget-view+json": {
       "model_id": "4d868026a6814431bd82a78a61cd5d09"
      }
     },
     "metadata": {},
     "output_type": "display_data"
    },
    {
     "name": "stdout",
     "output_type": "stream",
     "text": [
      "lrf.motif\n"
     ]
    },
    {
     "data": {
      "application/vnd.jupyter.widget-view+json": {
       "model_id": "babfbd7027f149dbaab644cabfd8ff15"
      }
     },
     "metadata": {},
     "output_type": "display_data"
    },
    {
     "name": "stdout",
     "output_type": "stream",
     "text": [
      "lrh1.motif\n"
     ]
    },
    {
     "data": {
      "application/vnd.jupyter.widget-view+json": {
       "model_id": "3334edbb485a4bb4a827dfb85403e721"
      }
     },
     "metadata": {},
     "output_type": "display_data"
    },
    {
     "name": "stdout",
     "output_type": "stream",
     "text": [
      "lxre.motif\n"
     ]
    },
    {
     "data": {
      "application/vnd.jupyter.widget-view+json": {
       "model_id": "f733b49bf10348e4b3b80b5a5adf58ca"
      }
     },
     "metadata": {},
     "output_type": "display_data"
    },
    {
     "name": "stdout",
     "output_type": "stream",
     "text": [
      "mafF.motif\n"
     ]
    },
    {
     "data": {
      "application/vnd.jupyter.widget-view+json": {
       "model_id": "9efd79097ec84ade8e7c6e1d6d9cbd9e"
      }
     },
     "metadata": {},
     "output_type": "display_data"
    },
    {
     "name": "stdout",
     "output_type": "stream",
     "text": [
      "mafa.motif\n"
     ]
    },
    {
     "data": {
      "application/vnd.jupyter.widget-view+json": {
       "model_id": "d46cd29d2da442359ca672bfa161ac65"
      }
     },
     "metadata": {},
     "output_type": "display_data"
    },
    {
     "name": "stdout",
     "output_type": "stream",
     "text": [
      "mafb.motif\n"
     ]
    },
    {
     "data": {
      "application/vnd.jupyter.widget-view+json": {
       "model_id": "5d1a3d8ef72e4b6588bde188a55eba73"
      }
     },
     "metadata": {},
     "output_type": "display_data"
    },
    {
     "name": "stdout",
     "output_type": "stream",
     "text": [
      "mafk.motif\n"
     ]
    },
    {
     "data": {
      "application/vnd.jupyter.widget-view+json": {
       "model_id": "3013b6773ac94d54a398bd8a6de6dd1a"
      }
     },
     "metadata": {},
     "output_type": "display_data"
    },
    {
     "name": "stdout",
     "output_type": "stream",
     "text": [
      "max.motif\n"
     ]
    },
    {
     "data": {
      "application/vnd.jupyter.widget-view+json": {
       "model_id": "1239896629d74ad6b5fb97fd4e34ef43"
      }
     },
     "metadata": {},
     "output_type": "display_data"
    },
    {
     "name": "stdout",
     "output_type": "stream",
     "text": [
      "maz.motif\n"
     ]
    },
    {
     "data": {
      "application/vnd.jupyter.widget-view+json": {
       "model_id": "36fac278ff9a4c0a817ab5ed3bd44ddb"
      }
     },
     "metadata": {},
     "output_type": "display_data"
    },
    {
     "name": "stdout",
     "output_type": "stream",
     "text": [
      "mef2a.motif\n"
     ]
    },
    {
     "data": {
      "application/vnd.jupyter.widget-view+json": {
       "model_id": "c6ad68d8086d4ae8ae596383e5fb95b7"
      }
     },
     "metadata": {},
     "output_type": "display_data"
    },
    {
     "name": "stdout",
     "output_type": "stream",
     "text": [
      "mef2b.motif\n"
     ]
    },
    {
     "data": {
      "application/vnd.jupyter.widget-view+json": {
       "model_id": "41af8ee461e7496d830f4ffa086697fd"
      }
     },
     "metadata": {},
     "output_type": "display_data"
    },
    {
     "name": "stdout",
     "output_type": "stream",
     "text": [
      "mef2c.motif\n"
     ]
    },
    {
     "data": {
      "application/vnd.jupyter.widget-view+json": {
       "model_id": "82353deb01db44c69d32caa017f84485"
      }
     },
     "metadata": {},
     "output_type": "display_data"
    },
    {
     "name": "stdout",
     "output_type": "stream",
     "text": [
      "mef2d.motif\n"
     ]
    },
    {
     "data": {
      "application/vnd.jupyter.widget-view+json": {
       "model_id": "2054f115df564935b87812aa4b8d31e7"
      }
     },
     "metadata": {},
     "output_type": "display_data"
    },
    {
     "name": "stdout",
     "output_type": "stream",
     "text": [
      "meis1.motif\n"
     ]
    },
    {
     "data": {
      "application/vnd.jupyter.widget-view+json": {
       "model_id": "cac312b1b1004b998c6554072284db5f"
      }
     },
     "metadata": {},
     "output_type": "display_data"
    },
    {
     "name": "stdout",
     "output_type": "stream",
     "text": [
      "mitf.motif\n"
     ]
    },
    {
     "data": {
      "application/vnd.jupyter.widget-view+json": {
       "model_id": "a3ee2e2c8be54e33b16783d45e434ccd"
      }
     },
     "metadata": {},
     "output_type": "display_data"
    },
    {
     "name": "stdout",
     "output_type": "stream",
     "text": [
      "mnt.motif\n"
     ]
    },
    {
     "data": {
      "application/vnd.jupyter.widget-view+json": {
       "model_id": "dd2e58e36dca4735b0de51016d038e1f"
      }
     },
     "metadata": {},
     "output_type": "display_data"
    },
    {
     "name": "stdout",
     "output_type": "stream",
     "text": [
      "myb.motif\n"
     ]
    },
    {
     "data": {
      "application/vnd.jupyter.widget-view+json": {
       "model_id": "3e19aa6bdfd84a3a9a76940d00e62935"
      }
     },
     "metadata": {},
     "output_type": "display_data"
    },
    {
     "name": "stdout",
     "output_type": "stream",
     "text": [
      "myba.motif\n"
     ]
    },
    {
     "data": {
      "application/vnd.jupyter.widget-view+json": {
       "model_id": "0f74cf51940c4e52a9d71adb3fd9a2f6"
      }
     },
     "metadata": {},
     "output_type": "display_data"
    },
    {
     "name": "stdout",
     "output_type": "stream",
     "text": [
      "myf5.motif\n"
     ]
    },
    {
     "data": {
      "application/vnd.jupyter.widget-view+json": {
       "model_id": "d5fe9852dec249d7b31be1be885d9e0f"
      }
     },
     "metadata": {},
     "output_type": "display_data"
    },
    {
     "name": "stdout",
     "output_type": "stream",
     "text": [
      "mynn.motif\n"
     ]
    },
    {
     "data": {
      "application/vnd.jupyter.widget-view+json": {
       "model_id": "05b57e5d62b5444b92a4adc9dcd455f3"
      }
     },
     "metadata": {},
     "output_type": "display_data"
    },
    {
     "name": "stdout",
     "output_type": "stream",
     "text": [
      "myod.motif\n"
     ]
    },
    {
     "data": {
      "application/vnd.jupyter.widget-view+json": {
       "model_id": "3313d57cb3d149bdaaf1c32aa44f11e0"
      }
     },
     "metadata": {},
     "output_type": "display_data"
    },
    {
     "name": "stdout",
     "output_type": "stream",
     "text": [
      "myog.motif\n"
     ]
    },
    {
     "data": {
      "application/vnd.jupyter.widget-view+json": {
       "model_id": "ab9c5262bae74c4089f0f0e61c928822"
      }
     },
     "metadata": {},
     "output_type": "display_data"
    },
    {
     "name": "stdout",
     "output_type": "stream",
     "text": [
      "nanog.motif\n"
     ]
    },
    {
     "data": {
      "application/vnd.jupyter.widget-view+json": {
       "model_id": "1460e3e457f3464ca30a6bfb0934bf8c"
      }
     },
     "metadata": {},
     "output_type": "display_data"
    },
    {
     "name": "stdout",
     "output_type": "stream",
     "text": [
      "neurod1.motif\n"
     ]
    },
    {
     "data": {
      "application/vnd.jupyter.widget-view+json": {
       "model_id": "2ad8cd48c87e4b38af907cd731f790f5"
      }
     },
     "metadata": {},
     "output_type": "display_data"
    },
    {
     "name": "stdout",
     "output_type": "stream",
     "text": [
      "neurog2.motif\n"
     ]
    },
    {
     "data": {
      "application/vnd.jupyter.widget-view+json": {
       "model_id": "eb732363a03c4f8f960d240fdf215f80"
      }
     },
     "metadata": {},
     "output_type": "display_data"
    },
    {
     "name": "stdout",
     "output_type": "stream",
     "text": [
      "nf1-fox.motif\n"
     ]
    },
    {
     "data": {
      "application/vnd.jupyter.widget-view+json": {
       "model_id": "8782ef356e874f5fa56ebff36116e806"
      }
     },
     "metadata": {},
     "output_type": "display_data"
    },
    {
     "name": "stdout",
     "output_type": "stream",
     "text": [
      "nf1-half.motif\n"
     ]
    },
    {
     "data": {
      "application/vnd.jupyter.widget-view+json": {
       "model_id": "cc140b4faced49a0afda61bbd75d1d49"
      }
     },
     "metadata": {},
     "output_type": "display_data"
    },
    {
     "name": "stdout",
     "output_type": "stream",
     "text": [
      "nf1.motif\n"
     ]
    },
    {
     "data": {
      "application/vnd.jupyter.widget-view+json": {
       "model_id": "b417c2bd90ff4043927fc5d5a570f49b"
      }
     },
     "metadata": {},
     "output_type": "display_data"
    },
    {
     "name": "stdout",
     "output_type": "stream",
     "text": [
      "nfat-ap1.motif\n"
     ]
    },
    {
     "data": {
      "application/vnd.jupyter.widget-view+json": {
       "model_id": "202ce9b9140d46329dc9d7ecda3fd218"
      }
     },
     "metadata": {},
     "output_type": "display_data"
    },
    {
     "name": "stdout",
     "output_type": "stream",
     "text": [
      "nfatc1.motif\n"
     ]
    },
    {
     "data": {
      "application/vnd.jupyter.widget-view+json": {
       "model_id": "e321f5a28b284920956a1d7f68df1313"
      }
     },
     "metadata": {},
     "output_type": "display_data"
    },
    {
     "name": "stdout",
     "output_type": "stream",
     "text": [
      "nfe2.motif\n"
     ]
    },
    {
     "data": {
      "application/vnd.jupyter.widget-view+json": {
       "model_id": "3d201b66a9084aee85575edc80cf7b8c"
      }
     },
     "metadata": {},
     "output_type": "display_data"
    },
    {
     "name": "stdout",
     "output_type": "stream",
     "text": [
      "nfe2l2.motif\n"
     ]
    },
    {
     "data": {
      "application/vnd.jupyter.widget-view+json": {
       "model_id": "9b6598b5fab24e51bbf43b788bcbf9ca"
      }
     },
     "metadata": {},
     "output_type": "display_data"
    },
    {
     "name": "stdout",
     "output_type": "stream",
     "text": [
      "nfil3.motif\n"
     ]
    },
    {
     "data": {
      "application/vnd.jupyter.widget-view+json": {
       "model_id": "1a7e0ac5634741a6b0bab4831ad20fd1"
      }
     },
     "metadata": {},
     "output_type": "display_data"
    },
    {
     "name": "stdout",
     "output_type": "stream",
     "text": [
      "nfkb.motif\n"
     ]
    },
    {
     "data": {
      "application/vnd.jupyter.widget-view+json": {
       "model_id": "a9031f47b76c4a28be26eef304066a14"
      }
     },
     "metadata": {},
     "output_type": "display_data"
    },
    {
     "name": "stdout",
     "output_type": "stream",
     "text": [
      "nfy.motif\n"
     ]
    },
    {
     "data": {
      "application/vnd.jupyter.widget-view+json": {
       "model_id": "95c8c204778b47d7a4e4db13c8f3509f"
      }
     },
     "metadata": {},
     "output_type": "display_data"
    },
    {
     "name": "stdout",
     "output_type": "stream",
     "text": [
      "nkx2.1.motif\n"
     ]
    },
    {
     "data": {
      "application/vnd.jupyter.widget-view+json": {
       "model_id": "4e976d2ff3024dafb0b57a3d67d68ef0"
      }
     },
     "metadata": {},
     "output_type": "display_data"
    },
    {
     "name": "stdout",
     "output_type": "stream",
     "text": [
      "nkx2.2.motif\n"
     ]
    },
    {
     "data": {
      "application/vnd.jupyter.widget-view+json": {
       "model_id": "448f1db99dbe43008c788cc7d586af8f"
      }
     },
     "metadata": {},
     "output_type": "display_data"
    },
    {
     "name": "stdout",
     "output_type": "stream",
     "text": [
      "nkx2.5.motif\n"
     ]
    },
    {
     "data": {
      "application/vnd.jupyter.widget-view+json": {
       "model_id": "018ffeb9a3404638afadc218baf8a692"
      }
     },
     "metadata": {},
     "output_type": "display_data"
    },
    {
     "name": "stdout",
     "output_type": "stream",
     "text": [
      "nkx3.1.motif\n"
     ]
    },
    {
     "data": {
      "application/vnd.jupyter.widget-view+json": {
       "model_id": "22e9aafa7dc64ecfac6b3a979a9c5f28"
      }
     },
     "metadata": {},
     "output_type": "display_data"
    },
    {
     "name": "stdout",
     "output_type": "stream",
     "text": [
      "nkx6.1.motif\n"
     ]
    },
    {
     "data": {
      "application/vnd.jupyter.widget-view+json": {
       "model_id": "1c0b610da4104756b1728e52082e3503"
      }
     },
     "metadata": {},
     "output_type": "display_data"
    },
    {
     "name": "stdout",
     "output_type": "stream",
     "text": [
      "nmyc.motif\n"
     ]
    },
    {
     "data": {
      "application/vnd.jupyter.widget-view+json": {
       "model_id": "5291f4637cc84adebbf8a64d255171b5"
      }
     },
     "metadata": {},
     "output_type": "display_data"
    },
    {
     "name": "stdout",
     "output_type": "stream",
     "text": [
      "npas.motif\n"
     ]
    },
    {
     "data": {
      "application/vnd.jupyter.widget-view+json": {
       "model_id": "693e6d234c7a41a0a2c531c677e12759"
      }
     },
     "metadata": {},
     "output_type": "display_data"
    },
    {
     "name": "stdout",
     "output_type": "stream",
     "text": [
      "npas2.motif\n"
     ]
    },
    {
     "data": {
      "application/vnd.jupyter.widget-view+json": {
       "model_id": "0c9f3ed564b04384b88c897fb0a978e4"
      }
     },
     "metadata": {},
     "output_type": "display_data"
    },
    {
     "name": "stdout",
     "output_type": "stream",
     "text": [
      "nr2f6.motif\n"
     ]
    },
    {
     "data": {
      "application/vnd.jupyter.widget-view+json": {
       "model_id": "621db05b55d84f1d8d942c569453775d"
      }
     },
     "metadata": {},
     "output_type": "display_data"
    },
    {
     "name": "stdout",
     "output_type": "stream",
     "text": [
      "nr5a2.motif\n"
     ]
    },
    {
     "data": {
      "application/vnd.jupyter.widget-view+json": {
       "model_id": "61ac6c8895fd43c9ba7d81dcc818dd29"
      }
     },
     "metadata": {},
     "output_type": "display_data"
    },
    {
     "name": "stdout",
     "output_type": "stream",
     "text": [
      "nrf.motif\n"
     ]
    },
    {
     "data": {
      "application/vnd.jupyter.widget-view+json": {
       "model_id": "35f8921e241444d9a3fe649ced84ffa6"
      }
     },
     "metadata": {},
     "output_type": "display_data"
    },
    {
     "name": "stdout",
     "output_type": "stream",
     "text": [
      "nrf1.motif\n"
     ]
    },
    {
     "data": {
      "application/vnd.jupyter.widget-view+json": {
       "model_id": "a72e9bf8b2b244f18684b059fd4a1d6b"
      }
     },
     "metadata": {},
     "output_type": "display_data"
    },
    {
     "name": "stdout",
     "output_type": "stream",
     "text": [
      "nrf2.motif\n"
     ]
    },
    {
     "data": {
      "application/vnd.jupyter.widget-view+json": {
       "model_id": "a90fedf3edc04d289c58c90a8c23ef14"
      }
     },
     "metadata": {},
     "output_type": "display_data"
    },
    {
     "name": "stdout",
     "output_type": "stream",
     "text": [
      "nur77.motif\n"
     ]
    },
    {
     "data": {
      "application/vnd.jupyter.widget-view+json": {
       "model_id": "73989148fe1448c7a0b2893935a0b587"
      }
     },
     "metadata": {},
     "output_type": "display_data"
    },
    {
     "name": "stdout",
     "output_type": "stream",
     "text": [
      "oct-oct.motif\n"
     ]
    },
    {
     "data": {
      "application/vnd.jupyter.widget-view+json": {
       "model_id": "314c7215471645c686b4fbc2ddedf567"
      }
     },
     "metadata": {},
     "output_type": "display_data"
    },
    {
     "name": "stdout",
     "output_type": "stream",
     "text": [
      "oct-oct.short.motif\n"
     ]
    },
    {
     "data": {
      "application/vnd.jupyter.widget-view+json": {
       "model_id": "16c6eb74858040bb9ba5c722a8e5bc96"
      }
     },
     "metadata": {},
     "output_type": "display_data"
    },
    {
     "name": "stdout",
     "output_type": "stream",
     "text": [
      "oct.ir.motif\n"
     ]
    },
    {
     "data": {
      "application/vnd.jupyter.widget-view+json": {
       "model_id": "8a26f4e87fed4816939f52713187604a"
      }
     },
     "metadata": {},
     "output_type": "display_data"
    },
    {
     "name": "stdout",
     "output_type": "stream",
     "text": [
      "oct.ir1.motif\n"
     ]
    },
    {
     "data": {
      "application/vnd.jupyter.widget-view+json": {
       "model_id": "9661fbc51b594a7d808d77b124c04af8"
      }
     },
     "metadata": {},
     "output_type": "display_data"
    },
    {
     "name": "stdout",
     "output_type": "stream",
     "text": [
      "oct2.motif\n"
     ]
    },
    {
     "data": {
      "application/vnd.jupyter.widget-view+json": {
       "model_id": "dd09f8324e0240fdac1397492781b681"
      }
     },
     "metadata": {},
     "output_type": "display_data"
    },
    {
     "name": "stdout",
     "output_type": "stream",
     "text": [
      "oct4-sox17.motif\n"
     ]
    },
    {
     "data": {
      "application/vnd.jupyter.widget-view+json": {
       "model_id": "77b4300269144473a0d7f30bd1df976d"
      }
     },
     "metadata": {},
     "output_type": "display_data"
    },
    {
     "name": "stdout",
     "output_type": "stream",
     "text": [
      "oct4-sox2.motif\n"
     ]
    },
    {
     "data": {
      "application/vnd.jupyter.widget-view+json": {
       "model_id": "fbc0bc319f36404ab1838e63786af5b2"
      }
     },
     "metadata": {},
     "output_type": "display_data"
    },
    {
     "name": "stdout",
     "output_type": "stream",
     "text": [
      "oct4.motif\n"
     ]
    },
    {
     "data": {
      "application/vnd.jupyter.widget-view+json": {
       "model_id": "5fc7de6af42c4aa3bc82542f2e999dcd"
      }
     },
     "metadata": {},
     "output_type": "display_data"
    },
    {
     "name": "stdout",
     "output_type": "stream",
     "text": [
      "oct6.motif\n"
     ]
    },
    {
     "data": {
      "application/vnd.jupyter.widget-view+json": {
       "model_id": "ae96861b6dda4a9db73397c238e5ef5c"
      }
     },
     "metadata": {},
     "output_type": "display_data"
    },
    {
     "name": "stdout",
     "output_type": "stream",
     "text": [
      "olig2.motif\n"
     ]
    },
    {
     "data": {
      "application/vnd.jupyter.widget-view+json": {
       "model_id": "90ec8a8a23cc429ba49a95fac0c99dd8"
      }
     },
     "metadata": {},
     "output_type": "display_data"
    },
    {
     "name": "stdout",
     "output_type": "stream",
     "text": [
      "otx2.motif\n"
     ]
    },
    {
     "data": {
      "application/vnd.jupyter.widget-view+json": {
       "model_id": "f75871ca3f68467980e3db42e3ad9a6b"
      }
     },
     "metadata": {},
     "output_type": "display_data"
    },
    {
     "name": "stdout",
     "output_type": "stream",
     "text": [
      "p50.motif\n"
     ]
    },
    {
     "data": {
      "application/vnd.jupyter.widget-view+json": {
       "model_id": "4ad94a76c9d74ca7a175d137c735493b"
      }
     },
     "metadata": {},
     "output_type": "display_data"
    },
    {
     "name": "stdout",
     "output_type": "stream",
     "text": [
      "p53-myc.motif\n"
     ]
    },
    {
     "data": {
      "application/vnd.jupyter.widget-view+json": {
       "model_id": "c15036578f0c44a2b86bc83ddccb7d6f"
      }
     },
     "metadata": {},
     "output_type": "display_data"
    },
    {
     "name": "stdout",
     "output_type": "stream",
     "text": [
      "p53.motif\n"
     ]
    },
    {
     "data": {
      "application/vnd.jupyter.widget-view+json": {
       "model_id": "1c50ec048c054241bcb26997a64e5d75"
      }
     },
     "metadata": {},
     "output_type": "display_data"
    },
    {
     "name": "stdout",
     "output_type": "stream",
     "text": [
      "p63.motif\n"
     ]
    },
    {
     "data": {
      "application/vnd.jupyter.widget-view+json": {
       "model_id": "6f123e7e43b54f228d1d7bd7f7c9e449"
      }
     },
     "metadata": {},
     "output_type": "display_data"
    },
    {
     "name": "stdout",
     "output_type": "stream",
     "text": [
      "p65.motif\n"
     ]
    },
    {
     "data": {
      "application/vnd.jupyter.widget-view+json": {
       "model_id": "ea4440b466d148c59bf34093bc6577a1"
      }
     },
     "metadata": {},
     "output_type": "display_data"
    },
    {
     "name": "stdout",
     "output_type": "stream",
     "text": [
      "p73.motif\n"
     ]
    },
    {
     "data": {
      "application/vnd.jupyter.widget-view+json": {
       "model_id": "5d03ac4bf91a40ecadcf5a4e7b2f323f"
      }
     },
     "metadata": {},
     "output_type": "display_data"
    },
    {
     "name": "stdout",
     "output_type": "stream",
     "text": [
      "pax3-fkhr.motif\n"
     ]
    },
    {
     "data": {
      "application/vnd.jupyter.widget-view+json": {
       "model_id": "c6987ab3a1d1450ea33647ae1129c898"
      }
     },
     "metadata": {},
     "output_type": "display_data"
    },
    {
     "name": "stdout",
     "output_type": "stream",
     "text": [
      "pax5-short.motif\n"
     ]
    },
    {
     "data": {
      "application/vnd.jupyter.widget-view+json": {
       "model_id": "75a3462eb58248dbacfc63bbbb204797"
      }
     },
     "metadata": {},
     "output_type": "display_data"
    },
    {
     "name": "stdout",
     "output_type": "stream",
     "text": [
      "pax5.motif\n"
     ]
    },
    {
     "data": {
      "application/vnd.jupyter.widget-view+json": {
       "model_id": "5f7a8d2da9c74786aa5c7f293ab16c3d"
      }
     },
     "metadata": {},
     "output_type": "display_data"
    },
    {
     "name": "stdout",
     "output_type": "stream",
     "text": [
      "pax6.motif\n"
     ]
    },
    {
     "data": {
      "application/vnd.jupyter.widget-view+json": {
       "model_id": "8783865eef7049cea3740bae3f1f118b"
      }
     },
     "metadata": {},
     "output_type": "display_data"
    },
    {
     "name": "stdout",
     "output_type": "stream",
     "text": [
      "pax7-long.motif\n"
     ]
    },
    {
     "data": {
      "application/vnd.jupyter.widget-view+json": {
       "model_id": "99fdb2a4411b482ba611a9e2ef5cc084"
      }
     },
     "metadata": {},
     "output_type": "display_data"
    },
    {
     "name": "stdout",
     "output_type": "stream",
     "text": [
      "pax7-longest.motif\n"
     ]
    },
    {
     "data": {
      "application/vnd.jupyter.widget-view+json": {
       "model_id": "9a861f9e4e834cdc9fe33a4a7103b1bc"
      }
     },
     "metadata": {},
     "output_type": "display_data"
    },
    {
     "name": "stdout",
     "output_type": "stream",
     "text": [
      "pax7.motif\n"
     ]
    },
    {
     "data": {
      "application/vnd.jupyter.widget-view+json": {
       "model_id": "c08899471e5a4e6f86bb1c2f05e13c11"
      }
     },
     "metadata": {},
     "output_type": "display_data"
    },
    {
     "name": "stdout",
     "output_type": "stream",
     "text": [
      "pax8.motif\n"
     ]
    },
    {
     "data": {
      "application/vnd.jupyter.widget-view+json": {
       "model_id": "ba70cf5c052c47c4bde84377ea148975"
      }
     },
     "metadata": {},
     "output_type": "display_data"
    },
    {
     "name": "stdout",
     "output_type": "stream",
     "text": [
      "pbx1.motif\n"
     ]
    },
    {
     "data": {
      "application/vnd.jupyter.widget-view+json": {
       "model_id": "1215706262ee4d2e86659108cc14de32"
      }
     },
     "metadata": {},
     "output_type": "display_data"
    },
    {
     "name": "stdout",
     "output_type": "stream",
     "text": [
      "pbx2.motif\n"
     ]
    },
    {
     "data": {
      "application/vnd.jupyter.widget-view+json": {
       "model_id": "0511dbe812994ea4bc98458ce5fb2f0c"
      }
     },
     "metadata": {},
     "output_type": "display_data"
    },
    {
     "name": "stdout",
     "output_type": "stream",
     "text": [
      "pbx3.motif\n"
     ]
    },
    {
     "data": {
      "application/vnd.jupyter.widget-view+json": {
       "model_id": "b094d04945304da18c4cf70d79ea51c6"
      }
     },
     "metadata": {},
     "output_type": "display_data"
    },
    {
     "name": "stdout",
     "output_type": "stream",
     "text": [
      "pdx1.motif\n"
     ]
    },
    {
     "data": {
      "application/vnd.jupyter.widget-view+json": {
       "model_id": "ab3ca620a71e4f3aa8a301a3de8efa71"
      }
     },
     "metadata": {},
     "output_type": "display_data"
    },
    {
     "name": "stdout",
     "output_type": "stream",
     "text": [
      "pgr.motif\n"
     ]
    },
    {
     "data": {
      "application/vnd.jupyter.widget-view+json": {
       "model_id": "b697096672ee4cd5967e845d4fa5b73e"
      }
     },
     "metadata": {},
     "output_type": "display_data"
    },
    {
     "name": "stdout",
     "output_type": "stream",
     "text": [
      "phox2a.motif\n"
     ]
    },
    {
     "data": {
      "application/vnd.jupyter.widget-view+json": {
       "model_id": "84399bc2d57746f99865f6fc468f399c"
      }
     },
     "metadata": {},
     "output_type": "display_data"
    },
    {
     "name": "stdout",
     "output_type": "stream",
     "text": [
      "pit1-long.motif\n"
     ]
    },
    {
     "data": {
      "application/vnd.jupyter.widget-view+json": {
       "model_id": "d5b7d9d3a505456c8a081da6448c1fe8"
      }
     },
     "metadata": {},
     "output_type": "display_data"
    },
    {
     "name": "stdout",
     "output_type": "stream",
     "text": [
      "pit1.motif\n"
     ]
    },
    {
     "data": {
      "application/vnd.jupyter.widget-view+json": {
       "model_id": "3c6012227e9445ebba6b556c3a69dce2"
      }
     },
     "metadata": {},
     "output_type": "display_data"
    },
    {
     "name": "stdout",
     "output_type": "stream",
     "text": [
      "pitx1-ebox.motif\n"
     ]
    },
    {
     "data": {
      "application/vnd.jupyter.widget-view+json": {
       "model_id": "220a94efeb67450ea5a5601e0ce00b11"
      }
     },
     "metadata": {},
     "output_type": "display_data"
    },
    {
     "name": "stdout",
     "output_type": "stream",
     "text": [
      "pitx1.motif\n"
     ]
    },
    {
     "data": {
      "application/vnd.jupyter.widget-view+json": {
       "model_id": "ecf61e28c6314c4f8a19a3c90d2ee625"
      }
     },
     "metadata": {},
     "output_type": "display_data"
    },
    {
     "name": "stdout",
     "output_type": "stream",
     "text": [
      "pknox1.motif\n"
     ]
    },
    {
     "data": {
      "application/vnd.jupyter.widget-view+json": {
       "model_id": "9c1a5ffd081c4f7496a692b763b9fddc"
      }
     },
     "metadata": {},
     "output_type": "display_data"
    },
    {
     "name": "stdout",
     "output_type": "stream",
     "text": [
      "pparg.motif\n"
     ]
    },
    {
     "data": {
      "application/vnd.jupyter.widget-view+json": {
       "model_id": "ec8965f02ab749a79c385694608ffe99"
      }
     },
     "metadata": {},
     "output_type": "display_data"
    },
    {
     "name": "stdout",
     "output_type": "stream",
     "text": [
      "pr.motif\n"
     ]
    },
    {
     "data": {
      "application/vnd.jupyter.widget-view+json": {
       "model_id": "47421502f2af4fc4ae632149ef1b78d1"
      }
     },
     "metadata": {},
     "output_type": "display_data"
    },
    {
     "name": "stdout",
     "output_type": "stream",
     "text": [
      "prdm1.motif\n"
     ]
    },
    {
     "data": {
      "application/vnd.jupyter.widget-view+json": {
       "model_id": "d61359ed8e5f40eebd95ee03bcd6e691"
      }
     },
     "metadata": {},
     "output_type": "display_data"
    },
    {
     "name": "stdout",
     "output_type": "stream",
     "text": [
      "prdm10.motif\n"
     ]
    },
    {
     "data": {
      "application/vnd.jupyter.widget-view+json": {
       "model_id": "11c0035b08194e9f9e50f1f42d52b1b8"
      }
     },
     "metadata": {},
     "output_type": "display_data"
    },
    {
     "name": "stdout",
     "output_type": "stream",
     "text": [
      "prdm14.motif\n"
     ]
    },
    {
     "data": {
      "application/vnd.jupyter.widget-view+json": {
       "model_id": "c7fac6c34826497997f2dfc140ca0e86"
      }
     },
     "metadata": {},
     "output_type": "display_data"
    },
    {
     "name": "stdout",
     "output_type": "stream",
     "text": [
      "prdm9.motif\n"
     ]
    },
    {
     "data": {
      "application/vnd.jupyter.widget-view+json": {
       "model_id": "d560aebbccd5432b9f150b53f3554457"
      }
     },
     "metadata": {},
     "output_type": "display_data"
    },
    {
     "name": "stdout",
     "output_type": "stream",
     "text": [
      "prop1.motif\n"
     ]
    },
    {
     "data": {
      "application/vnd.jupyter.widget-view+json": {
       "model_id": "2891066d69884e9d9b3c728c1cc05d58"
      }
     },
     "metadata": {},
     "output_type": "display_data"
    },
    {
     "name": "stdout",
     "output_type": "stream",
     "text": [
      "ptf1a.motif\n"
     ]
    },
    {
     "data": {
      "application/vnd.jupyter.widget-view+json": {
       "model_id": "9d1eb07b706049c2943b091a7eb2cba4"
      }
     },
     "metadata": {},
     "output_type": "display_data"
    },
    {
     "name": "stdout",
     "output_type": "stream",
     "text": [
      "pu1-irf.motif\n"
     ]
    },
    {
     "data": {
      "application/vnd.jupyter.widget-view+json": {
       "model_id": "acea2e806e344dd89d63b4b852376e99"
      }
     },
     "metadata": {},
     "output_type": "display_data"
    },
    {
     "name": "stdout",
     "output_type": "stream",
     "text": [
      "pu1-irf8.motif\n"
     ]
    },
    {
     "data": {
      "application/vnd.jupyter.widget-view+json": {
       "model_id": "f12efc380cb94176afd6636978096098"
      }
     },
     "metadata": {},
     "output_type": "display_data"
    },
    {
     "name": "stdout",
     "output_type": "stream",
     "text": [
      "pu1.motif\n"
     ]
    },
    {
     "data": {
      "application/vnd.jupyter.widget-view+json": {
       "model_id": "3e9f8b2b4c994c1d87207f5a1bd864a3"
      }
     },
     "metadata": {},
     "output_type": "display_data"
    },
    {
     "name": "stdout",
     "output_type": "stream",
     "text": [
      "rara.motif\n"
     ]
    },
    {
     "data": {
      "application/vnd.jupyter.widget-view+json": {
       "model_id": "253b4181c3af41e2a1202aed0fafbc27"
      }
     },
     "metadata": {},
     "output_type": "display_data"
    },
    {
     "name": "stdout",
     "output_type": "stream",
     "text": [
      "rarg.motif\n"
     ]
    },
    {
     "data": {
      "application/vnd.jupyter.widget-view+json": {
       "model_id": "07e3c06853e449e19b2549391200d8c4"
      }
     },
     "metadata": {},
     "output_type": "display_data"
    },
    {
     "name": "stdout",
     "output_type": "stream",
     "text": [
      "rbpj1-ebox.motif\n"
     ]
    },
    {
     "data": {
      "application/vnd.jupyter.widget-view+json": {
       "model_id": "1ec50014240e4ab3826e9a44f2e153d5"
      }
     },
     "metadata": {},
     "output_type": "display_data"
    },
    {
     "name": "stdout",
     "output_type": "stream",
     "text": [
      "rbpj1.motif\n"
     ]
    },
    {
     "data": {
      "application/vnd.jupyter.widget-view+json": {
       "model_id": "8e0f310057814f96b8932ba3b0fb7c6f"
      }
     },
     "metadata": {},
     "output_type": "display_data"
    },
    {
     "name": "stdout",
     "output_type": "stream",
     "text": [
      "rest.motif\n"
     ]
    },
    {
     "data": {
      "application/vnd.jupyter.widget-view+json": {
       "model_id": "bf4a172ed41b4e67be2cf70ee6a8ea4c"
      }
     },
     "metadata": {},
     "output_type": "display_data"
    },
    {
     "name": "stdout",
     "output_type": "stream",
     "text": [
      "reverb.motif\n"
     ]
    },
    {
     "data": {
      "application/vnd.jupyter.widget-view+json": {
       "model_id": "1ddb047312894427b2b70c43111b5518"
      }
     },
     "metadata": {},
     "output_type": "display_data"
    },
    {
     "name": "stdout",
     "output_type": "stream",
     "text": [
      "rfx1.motif\n"
     ]
    },
    {
     "data": {
      "application/vnd.jupyter.widget-view+json": {
       "model_id": "d26e4b1a930049ffa49893f632f1d624"
      }
     },
     "metadata": {},
     "output_type": "display_data"
    },
    {
     "name": "stdout",
     "output_type": "stream",
     "text": [
      "rfx2.motif\n"
     ]
    },
    {
     "data": {
      "application/vnd.jupyter.widget-view+json": {
       "model_id": "eddddd9b40a24ef284d55f43c34247b6"
      }
     },
     "metadata": {},
     "output_type": "display_data"
    },
    {
     "name": "stdout",
     "output_type": "stream",
     "text": [
      "rfx3.motif\n"
     ]
    },
    {
     "data": {
      "application/vnd.jupyter.widget-view+json": {
       "model_id": "d74d3dec18774fd38af1bf32d9ac0163"
      }
     },
     "metadata": {},
     "output_type": "display_data"
    },
    {
     "name": "stdout",
     "output_type": "stream",
     "text": [
      "rfx5.motif\n"
     ]
    },
    {
     "data": {
      "application/vnd.jupyter.widget-view+json": {
       "model_id": "d6dc6c58829e4327b403b77f33ea44bf"
      }
     },
     "metadata": {},
     "output_type": "display_data"
    },
    {
     "name": "stdout",
     "output_type": "stream",
     "text": [
      "rfx6.motif\n"
     ]
    },
    {
     "data": {
      "application/vnd.jupyter.widget-view+json": {
       "model_id": "ef2648908a794d90b690f0cf9549b9df"
      }
     },
     "metadata": {},
     "output_type": "display_data"
    },
    {
     "name": "stdout",
     "output_type": "stream",
     "text": [
      "ronin.motif\n"
     ]
    },
    {
     "data": {
      "application/vnd.jupyter.widget-view+json": {
       "model_id": "2b50b9be2a2947c6a977e46ce4af9806"
      }
     },
     "metadata": {},
     "output_type": "display_data"
    },
    {
     "name": "stdout",
     "output_type": "stream",
     "text": [
      "rorc.motif\n"
     ]
    },
    {
     "data": {
      "application/vnd.jupyter.widget-view+json": {
       "model_id": "589bff435e984fe0b2c3dfd4b83dc85f"
      }
     },
     "metadata": {},
     "output_type": "display_data"
    },
    {
     "name": "stdout",
     "output_type": "stream",
     "text": [
      "runx.motif\n"
     ]
    },
    {
     "data": {
      "application/vnd.jupyter.widget-view+json": {
       "model_id": "14e0d15c9a384a2a996b79a39edaef52"
      }
     },
     "metadata": {},
     "output_type": "display_data"
    },
    {
     "name": "stdout",
     "output_type": "stream",
     "text": [
      "runx1.motif\n"
     ]
    },
    {
     "data": {
      "application/vnd.jupyter.widget-view+json": {
       "model_id": "6c255cbd4b6940d68e4356252f226a49"
      }
     },
     "metadata": {},
     "output_type": "display_data"
    },
    {
     "name": "stdout",
     "output_type": "stream",
     "text": [
      "runx1m.motif\n"
     ]
    },
    {
     "data": {
      "application/vnd.jupyter.widget-view+json": {
       "model_id": "a00e1037916c4c5eb5eefd0e5c90de3a"
      }
     },
     "metadata": {},
     "output_type": "display_data"
    },
    {
     "name": "stdout",
     "output_type": "stream",
     "text": [
      "runx2.motif\n"
     ]
    },
    {
     "data": {
      "application/vnd.jupyter.widget-view+json": {
       "model_id": "4b52354e808d481ca44ad893f1626516"
      }
     },
     "metadata": {},
     "output_type": "display_data"
    },
    {
     "name": "stdout",
     "output_type": "stream",
     "text": [
      "rxr.motif\n"
     ]
    },
    {
     "data": {
      "application/vnd.jupyter.widget-view+json": {
       "model_id": "12f4e4f6edb34b86a636673bdd640fad"
      }
     },
     "metadata": {},
     "output_type": "display_data"
    },
    {
     "name": "stdout",
     "output_type": "stream",
     "text": [
      "scl.motif\n"
     ]
    },
    {
     "data": {
      "application/vnd.jupyter.widget-view+json": {
       "model_id": "d61d52d84e8641ab8b89f0e6c844be52"
      }
     },
     "metadata": {},
     "output_type": "display_data"
    },
    {
     "name": "stdout",
     "output_type": "stream",
     "text": [
      "scrt1.motif\n"
     ]
    },
    {
     "data": {
      "application/vnd.jupyter.widget-view+json": {
       "model_id": "59b2b2aad9ad4d68a36452c03b9aafb4"
      }
     },
     "metadata": {},
     "output_type": "display_data"
    },
    {
     "name": "stdout",
     "output_type": "stream",
     "text": [
      "sf1.motif\n"
     ]
    },
    {
     "data": {
      "application/vnd.jupyter.widget-view+json": {
       "model_id": "7955257a5bbd408f99e3b4ea616c1c50"
      }
     },
     "metadata": {},
     "output_type": "display_data"
    },
    {
     "name": "stdout",
     "output_type": "stream",
     "text": [
      "six1.motif\n"
     ]
    },
    {
     "data": {
      "application/vnd.jupyter.widget-view+json": {
       "model_id": "68e22d68204c46b8ba96a11b2db2cf07"
      }
     },
     "metadata": {},
     "output_type": "display_data"
    },
    {
     "name": "stdout",
     "output_type": "stream",
     "text": [
      "six2.motif\n"
     ]
    },
    {
     "data": {
      "application/vnd.jupyter.widget-view+json": {
       "model_id": "43c0a9e92a4e44ed8a97165ed54f4b24"
      }
     },
     "metadata": {},
     "output_type": "display_data"
    },
    {
     "name": "stdout",
     "output_type": "stream",
     "text": [
      "six4.motif\n"
     ]
    },
    {
     "data": {
      "application/vnd.jupyter.widget-view+json": {
       "model_id": "7885e7120b854bcd8116db5ec9f6cc99"
      }
     },
     "metadata": {},
     "output_type": "display_data"
    },
    {
     "name": "stdout",
     "output_type": "stream",
     "text": [
      "smad2.motif\n"
     ]
    },
    {
     "data": {
      "application/vnd.jupyter.widget-view+json": {
       "model_id": "b959d4fc1ef54a23828c3cde02a51fbc"
      }
     },
     "metadata": {},
     "output_type": "display_data"
    },
    {
     "name": "stdout",
     "output_type": "stream",
     "text": [
      "smad3.motif\n"
     ]
    },
    {
     "data": {
      "application/vnd.jupyter.widget-view+json": {
       "model_id": "d24179d890e14fc584f5c392d080c405"
      }
     },
     "metadata": {},
     "output_type": "display_data"
    },
    {
     "name": "stdout",
     "output_type": "stream",
     "text": [
      "smad4.motif\n"
     ]
    },
    {
     "data": {
      "application/vnd.jupyter.widget-view+json": {
       "model_id": "2af3760e1faf4619972dc342b51f9aa0"
      }
     },
     "metadata": {},
     "output_type": "display_data"
    },
    {
     "name": "stdout",
     "output_type": "stream",
     "text": [
      "snai2.motif\n"
     ]
    },
    {
     "data": {
      "application/vnd.jupyter.widget-view+json": {
       "model_id": "c3c87d93593e41dea780930a62a39651"
      }
     },
     "metadata": {},
     "output_type": "display_data"
    },
    {
     "name": "stdout",
     "output_type": "stream",
     "text": [
      "sox10.motif\n"
     ]
    },
    {
     "data": {
      "application/vnd.jupyter.widget-view+json": {
       "model_id": "299c6060553b43efb27d09b52616417b"
      }
     },
     "metadata": {},
     "output_type": "display_data"
    },
    {
     "name": "stdout",
     "output_type": "stream",
     "text": [
      "sox15.motif\n"
     ]
    },
    {
     "data": {
      "application/vnd.jupyter.widget-view+json": {
       "model_id": "5f5aae99db1b4ef99b85bb27713b2f34"
      }
     },
     "metadata": {},
     "output_type": "display_data"
    },
    {
     "name": "stdout",
     "output_type": "stream",
     "text": [
      "sox17.motif\n"
     ]
    },
    {
     "data": {
      "application/vnd.jupyter.widget-view+json": {
       "model_id": "3711612a55f644618e671d91bc2f930e"
      }
     },
     "metadata": {},
     "output_type": "display_data"
    },
    {
     "name": "stdout",
     "output_type": "stream",
     "text": [
      "sox2.motif\n"
     ]
    },
    {
     "data": {
      "application/vnd.jupyter.widget-view+json": {
       "model_id": "20c9a0dca0ea42b79f602bde6c70aba2"
      }
     },
     "metadata": {},
     "output_type": "display_data"
    },
    {
     "name": "stdout",
     "output_type": "stream",
     "text": [
      "sox3.motif\n"
     ]
    },
    {
     "data": {
      "application/vnd.jupyter.widget-view+json": {
       "model_id": "946138878e3f43b49de47f256397c276"
      }
     },
     "metadata": {},
     "output_type": "display_data"
    },
    {
     "name": "stdout",
     "output_type": "stream",
     "text": [
      "sox4.motif\n"
     ]
    },
    {
     "data": {
      "application/vnd.jupyter.widget-view+json": {
       "model_id": "0601fe1c4d8c4480bef052e58c35cbd0"
      }
     },
     "metadata": {},
     "output_type": "display_data"
    },
    {
     "name": "stdout",
     "output_type": "stream",
     "text": [
      "sox6.motif\n"
     ]
    },
    {
     "data": {
      "application/vnd.jupyter.widget-view+json": {
       "model_id": "ad2b3eb1330f437fbeaf2f3a2e586639"
      }
     },
     "metadata": {},
     "output_type": "display_data"
    },
    {
     "name": "stdout",
     "output_type": "stream",
     "text": [
      "sox9.motif\n"
     ]
    },
    {
     "data": {
      "application/vnd.jupyter.widget-view+json": {
       "model_id": "aebcaad952f04dfdbcbb00c1fcdf2750"
      }
     },
     "metadata": {},
     "output_type": "display_data"
    },
    {
     "name": "stdout",
     "output_type": "stream",
     "text": [
      "sp1.motif\n"
     ]
    },
    {
     "data": {
      "application/vnd.jupyter.widget-view+json": {
       "model_id": "e7be331173d04c24a0ffc9ccca94696a"
      }
     },
     "metadata": {},
     "output_type": "display_data"
    },
    {
     "name": "stdout",
     "output_type": "stream",
     "text": [
      "sp2.motif\n"
     ]
    },
    {
     "data": {
      "application/vnd.jupyter.widget-view+json": {
       "model_id": "3ce8f80343654c2ab108135b08c1277d"
      }
     },
     "metadata": {},
     "output_type": "display_data"
    },
    {
     "name": "stdout",
     "output_type": "stream",
     "text": [
      "sp5.motif\n"
     ]
    },
    {
     "data": {
      "application/vnd.jupyter.widget-view+json": {
       "model_id": "8b95f118476c40a3ad8144606d8a4b15"
      }
     },
     "metadata": {},
     "output_type": "display_data"
    },
    {
     "name": "stdout",
     "output_type": "stream",
     "text": [
      "spdef.motif\n"
     ]
    },
    {
     "data": {
      "application/vnd.jupyter.widget-view+json": {
       "model_id": "dd7a9cc51e674bc39dbe0bba010aa5f9"
      }
     },
     "metadata": {},
     "output_type": "display_data"
    },
    {
     "name": "stdout",
     "output_type": "stream",
     "text": [
      "spib.motif\n"
     ]
    },
    {
     "data": {
      "application/vnd.jupyter.widget-view+json": {
       "model_id": "c9ad0f1885c345cc831f07bde5809247"
      }
     },
     "metadata": {},
     "output_type": "display_data"
    },
    {
     "name": "stdout",
     "output_type": "stream",
     "text": [
      "srebp1a.motif\n"
     ]
    },
    {
     "data": {
      "application/vnd.jupyter.widget-view+json": {
       "model_id": "edb483ce063546339a3aceef2257aeae"
      }
     },
     "metadata": {},
     "output_type": "display_data"
    },
    {
     "name": "stdout",
     "output_type": "stream",
     "text": [
      "srebp2.motif\n"
     ]
    },
    {
     "data": {
      "application/vnd.jupyter.widget-view+json": {
       "model_id": "5b09aa56b69d48d0bd21358a92638b8f"
      }
     },
     "metadata": {},
     "output_type": "display_data"
    },
    {
     "name": "stdout",
     "output_type": "stream",
     "text": [
      "srf.motif\n"
     ]
    },
    {
     "data": {
      "application/vnd.jupyter.widget-view+json": {
       "model_id": "48bad43e88d549369e49733119e6208f"
      }
     },
     "metadata": {},
     "output_type": "display_data"
    },
    {
     "name": "stdout",
     "output_type": "stream",
     "text": [
      "staf.motif\n"
     ]
    },
    {
     "data": {
      "application/vnd.jupyter.widget-view+json": {
       "model_id": "f45d5502833543f191d8a2b9710ab024"
      }
     },
     "metadata": {},
     "output_type": "display_data"
    },
    {
     "name": "stdout",
     "output_type": "stream",
     "text": [
      "stat1.motif\n"
     ]
    },
    {
     "data": {
      "application/vnd.jupyter.widget-view+json": {
       "model_id": "2fab48c88da34fae881e5539af78defe"
      }
     },
     "metadata": {},
     "output_type": "display_data"
    },
    {
     "name": "stdout",
     "output_type": "stream",
     "text": [
      "stat3.il23.motif\n"
     ]
    },
    {
     "data": {
      "application/vnd.jupyter.widget-view+json": {
       "model_id": "f9938a2b982d4a42ac1fc141b1bf30fa"
      }
     },
     "metadata": {},
     "output_type": "display_data"
    },
    {
     "name": "stdout",
     "output_type": "stream",
     "text": [
      "stat3.motif\n"
     ]
    },
    {
     "data": {
      "application/vnd.jupyter.widget-view+json": {
       "model_id": "6f2c6c5b46d34abf9cabdf7edd9a054a"
      }
     },
     "metadata": {},
     "output_type": "display_data"
    },
    {
     "name": "stdout",
     "output_type": "stream",
     "text": [
      "stat4.motif\n"
     ]
    },
    {
     "data": {
      "application/vnd.jupyter.widget-view+json": {
       "model_id": "3c090b4ff78244b3b3bf968d74d95d5e"
      }
     },
     "metadata": {},
     "output_type": "display_data"
    },
    {
     "name": "stdout",
     "output_type": "stream",
     "text": [
      "stat5.motif\n"
     ]
    },
    {
     "data": {
      "application/vnd.jupyter.widget-view+json": {
       "model_id": "b7aa250502364af88e074556efcf8f64"
      }
     },
     "metadata": {},
     "output_type": "display_data"
    },
    {
     "name": "stdout",
     "output_type": "stream",
     "text": [
      "stat6.2.motif\n"
     ]
    },
    {
     "data": {
      "application/vnd.jupyter.widget-view+json": {
       "model_id": "b4cacd81a31a471ab4221de3d758eacf"
      }
     },
     "metadata": {},
     "output_type": "display_data"
    },
    {
     "name": "stdout",
     "output_type": "stream",
     "text": [
      "stat6.motif\n"
     ]
    },
    {
     "data": {
      "application/vnd.jupyter.widget-view+json": {
       "model_id": "b89e86e8f25b4b03af7fd2a5410bc176"
      }
     },
     "metadata": {},
     "output_type": "display_data"
    },
    {
     "name": "stdout",
     "output_type": "stream",
     "text": [
      "t1isre.motif\n"
     ]
    },
    {
     "data": {
      "application/vnd.jupyter.widget-view+json": {
       "model_id": "7d44ac128c834d8b967d4313399fee63"
      }
     },
     "metadata": {},
     "output_type": "display_data"
    },
    {
     "name": "stdout",
     "output_type": "stream",
     "text": [
      "tata.motif\n"
     ]
    },
    {
     "data": {
      "application/vnd.jupyter.widget-view+json": {
       "model_id": "54465a6003074f7287490e2f41587878"
      }
     },
     "metadata": {},
     "output_type": "display_data"
    },
    {
     "name": "stdout",
     "output_type": "stream",
     "text": [
      "tbet.motif\n"
     ]
    },
    {
     "data": {
      "application/vnd.jupyter.widget-view+json": {
       "model_id": "03ef8d7d011440678f23b3f41bc6de8c"
      }
     },
     "metadata": {},
     "output_type": "display_data"
    },
    {
     "name": "stdout",
     "output_type": "stream",
     "text": [
      "tbox-smad.motif\n"
     ]
    },
    {
     "data": {
      "application/vnd.jupyter.widget-view+json": {
       "model_id": "001bb4e70d7f41dab025f3d1f7bf331d"
      }
     },
     "metadata": {},
     "output_type": "display_data"
    },
    {
     "name": "stdout",
     "output_type": "stream",
     "text": [
      "tbr1.motif\n"
     ]
    },
    {
     "data": {
      "application/vnd.jupyter.widget-view+json": {
       "model_id": "b44eeaaba134451f8ae12a6b3f643afc"
      }
     },
     "metadata": {},
     "output_type": "display_data"
    },
    {
     "name": "stdout",
     "output_type": "stream",
     "text": [
      "tbx20.motif\n"
     ]
    },
    {
     "data": {
      "application/vnd.jupyter.widget-view+json": {
       "model_id": "a241eaa733cb4636bd961eda528c0a84"
      }
     },
     "metadata": {},
     "output_type": "display_data"
    },
    {
     "name": "stdout",
     "output_type": "stream",
     "text": [
      "tbx21.motif\n"
     ]
    },
    {
     "data": {
      "application/vnd.jupyter.widget-view+json": {
       "model_id": "6e3ae9b6cd944501b2270cd6f7d67ddf"
      }
     },
     "metadata": {},
     "output_type": "display_data"
    },
    {
     "name": "stdout",
     "output_type": "stream",
     "text": [
      "tbx5.motif\n"
     ]
    },
    {
     "data": {
      "application/vnd.jupyter.widget-view+json": {
       "model_id": "c22c651313944873b40e26de427208cf"
      }
     },
     "metadata": {},
     "output_type": "display_data"
    },
    {
     "name": "stdout",
     "output_type": "stream",
     "text": [
      "tcf12.motif\n"
     ]
    },
    {
     "data": {
      "application/vnd.jupyter.widget-view+json": {
       "model_id": "5d976fe3572945c89c3c7b4975ea6631"
      }
     },
     "metadata": {},
     "output_type": "display_data"
    },
    {
     "name": "stdout",
     "output_type": "stream",
     "text": [
      "tcf21.motif\n"
     ]
    },
    {
     "data": {
      "application/vnd.jupyter.widget-view+json": {
       "model_id": "4ff4e89c47124e3d8b2f65e1a076f9af"
      }
     },
     "metadata": {},
     "output_type": "display_data"
    },
    {
     "name": "stdout",
     "output_type": "stream",
     "text": [
      "tcf3.motif\n"
     ]
    },
    {
     "data": {
      "application/vnd.jupyter.widget-view+json": {
       "model_id": "f58e60563ee644ea9a29d3b776fd69c3"
      }
     },
     "metadata": {},
     "output_type": "display_data"
    },
    {
     "name": "stdout",
     "output_type": "stream",
     "text": [
      "tcf4.motif\n"
     ]
    },
    {
     "data": {
      "application/vnd.jupyter.widget-view+json": {
       "model_id": "8a32f077b09249fba084392ff7fef44b"
      }
     },
     "metadata": {},
     "output_type": "display_data"
    },
    {
     "name": "stdout",
     "output_type": "stream",
     "text": [
      "tcf7.motif\n"
     ]
    },
    {
     "data": {
      "application/vnd.jupyter.widget-view+json": {
       "model_id": "224299f2786c42f8998b362132e713f1"
      }
     },
     "metadata": {},
     "output_type": "display_data"
    },
    {
     "name": "stdout",
     "output_type": "stream",
     "text": [
      "tcf7l2.motif\n"
     ]
    },
    {
     "data": {
      "application/vnd.jupyter.widget-view+json": {
       "model_id": "c437c93fe9a144d3b5cdc0a34f6714f8"
      }
     },
     "metadata": {},
     "output_type": "display_data"
    },
    {
     "name": "stdout",
     "output_type": "stream",
     "text": [
      "tcfcp2l1.motif\n"
     ]
    },
    {
     "data": {
      "application/vnd.jupyter.widget-view+json": {
       "model_id": "00f9a40a54ef41ca9b2a5043193da880"
      }
     },
     "metadata": {},
     "output_type": "display_data"
    },
    {
     "name": "stdout",
     "output_type": "stream",
     "text": [
      "tead.motif\n"
     ]
    },
    {
     "data": {
      "application/vnd.jupyter.widget-view+json": {
       "model_id": "17f99e7a062b4eca9b77339c3c2a5bff"
      }
     },
     "metadata": {},
     "output_type": "display_data"
    },
    {
     "name": "stdout",
     "output_type": "stream",
     "text": [
      "tead1.motif\n"
     ]
    },
    {
     "data": {
      "application/vnd.jupyter.widget-view+json": {
       "model_id": "fc90701677384ba3bc9d28ca55a9b680"
      }
     },
     "metadata": {},
     "output_type": "display_data"
    },
    {
     "name": "stdout",
     "output_type": "stream",
     "text": [
      "tead2.motif\n"
     ]
    },
    {
     "data": {
      "application/vnd.jupyter.widget-view+json": {
       "model_id": "e449816365e043ce874338cbad27b95d"
      }
     },
     "metadata": {},
     "output_type": "display_data"
    },
    {
     "name": "stdout",
     "output_type": "stream",
     "text": [
      "tead3.motif\n"
     ]
    },
    {
     "data": {
      "application/vnd.jupyter.widget-view+json": {
       "model_id": "5b7da409b06845beaff398a97b18d2b9"
      }
     },
     "metadata": {},
     "output_type": "display_data"
    },
    {
     "name": "stdout",
     "output_type": "stream",
     "text": [
      "tead4.motif\n"
     ]
    },
    {
     "data": {
      "application/vnd.jupyter.widget-view+json": {
       "model_id": "7c86118b84f64db2b9492e914eb7897c"
      }
     },
     "metadata": {},
     "output_type": "display_data"
    },
    {
     "name": "stdout",
     "output_type": "stream",
     "text": [
      "tfe3.motif\n"
     ]
    },
    {
     "data": {
      "application/vnd.jupyter.widget-view+json": {
       "model_id": "4d1fe2e2a164495c9820ebf2b69dc03f"
      }
     },
     "metadata": {},
     "output_type": "display_data"
    },
    {
     "name": "stdout",
     "output_type": "stream",
     "text": [
      "tgif1.motif\n"
     ]
    },
    {
     "data": {
      "application/vnd.jupyter.widget-view+json": {
       "model_id": "a56c4c4c08da475eb4caf74973e3ce35"
      }
     },
     "metadata": {},
     "output_type": "display_data"
    },
    {
     "name": "stdout",
     "output_type": "stream",
     "text": [
      "tgif2.motif\n"
     ]
    },
    {
     "data": {
      "application/vnd.jupyter.widget-view+json": {
       "model_id": "283edc51cbb54d3b9d202aee7544a878"
      }
     },
     "metadata": {},
     "output_type": "display_data"
    },
    {
     "name": "stdout",
     "output_type": "stream",
     "text": [
      "thrb.motif\n"
     ]
    },
    {
     "data": {
      "application/vnd.jupyter.widget-view+json": {
       "model_id": "fb2d0b4083e24297a4c330240173b11d"
      }
     },
     "metadata": {},
     "output_type": "display_data"
    },
    {
     "name": "stdout",
     "output_type": "stream",
     "text": [
      "tlx.motif\n"
     ]
    },
    {
     "data": {
      "application/vnd.jupyter.widget-view+json": {
       "model_id": "fa425829dd61443780c85d14f2d97b3f"
      }
     },
     "metadata": {},
     "output_type": "display_data"
    },
    {
     "name": "stdout",
     "output_type": "stream",
     "text": [
      "tr4.motif\n"
     ]
    },
    {
     "data": {
      "application/vnd.jupyter.widget-view+json": {
       "model_id": "c0cdebe8d82f4699b963e5c901fe5ede"
      }
     },
     "metadata": {},
     "output_type": "display_data"
    },
    {
     "name": "stdout",
     "output_type": "stream",
     "text": [
      "tra.motif\n"
     ]
    },
    {
     "data": {
      "application/vnd.jupyter.widget-view+json": {
       "model_id": "bf7140cea5f44e028f14b30e89bbfd3f"
      }
     },
     "metadata": {},
     "output_type": "display_data"
    },
    {
     "name": "stdout",
     "output_type": "stream",
     "text": [
      "trb.motif\n"
     ]
    },
    {
     "data": {
      "application/vnd.jupyter.widget-view+json": {
       "model_id": "b17902e5aa9f472283279f39f6733b8e"
      }
     },
     "metadata": {},
     "output_type": "display_data"
    },
    {
     "name": "stdout",
     "output_type": "stream",
     "text": [
      "twist1.motif\n"
     ]
    },
    {
     "data": {
      "application/vnd.jupyter.widget-view+json": {
       "model_id": "9f5f7410f586401e86d03069fc93e141"
      }
     },
     "metadata": {},
     "output_type": "display_data"
    },
    {
     "name": "stdout",
     "output_type": "stream",
     "text": [
      "usf1.motif\n"
     ]
    },
    {
     "data": {
      "application/vnd.jupyter.widget-view+json": {
       "model_id": "3fab1ebd17954029a0e57def3b8b05ba"
      }
     },
     "metadata": {},
     "output_type": "display_data"
    },
    {
     "name": "stdout",
     "output_type": "stream",
     "text": [
      "usf2.motif\n"
     ]
    },
    {
     "data": {
      "application/vnd.jupyter.widget-view+json": {
       "model_id": "5057f651f144423d81d0d1dd34900423"
      }
     },
     "metadata": {},
     "output_type": "display_data"
    },
    {
     "name": "stdout",
     "output_type": "stream",
     "text": [
      "vdr.motif\n"
     ]
    },
    {
     "data": {
      "application/vnd.jupyter.widget-view+json": {
       "model_id": "af7edb7988114a388a410a1a0b345ca7"
      }
     },
     "metadata": {},
     "output_type": "display_data"
    },
    {
     "name": "stdout",
     "output_type": "stream",
     "text": [
      "xbox.motif\n"
     ]
    },
    {
     "data": {
      "application/vnd.jupyter.widget-view+json": {
       "model_id": "bf5ecc0690844db592c74c2c31c82728"
      }
     },
     "metadata": {},
     "output_type": "display_data"
    },
    {
     "name": "stdout",
     "output_type": "stream",
     "text": [
      "yy1.motif\n"
     ]
    },
    {
     "data": {
      "application/vnd.jupyter.widget-view+json": {
       "model_id": "998ccc8a56fa41598659fde4311b1000"
      }
     },
     "metadata": {},
     "output_type": "display_data"
    },
    {
     "name": "stdout",
     "output_type": "stream",
     "text": [
      "zbtb12.motif\n"
     ]
    },
    {
     "data": {
      "application/vnd.jupyter.widget-view+json": {
       "model_id": "c1f3fc91a20a4b878eddee5ae0bf46b3"
      }
     },
     "metadata": {},
     "output_type": "display_data"
    },
    {
     "name": "stdout",
     "output_type": "stream",
     "text": [
      "zbtb18.motif\n"
     ]
    },
    {
     "data": {
      "application/vnd.jupyter.widget-view+json": {
       "model_id": "e78ea0806a4a4a4fa4770ec9f000380d"
      }
     },
     "metadata": {},
     "output_type": "display_data"
    },
    {
     "name": "stdout",
     "output_type": "stream",
     "text": [
      "zbtb33.motif\n"
     ]
    },
    {
     "data": {
      "application/vnd.jupyter.widget-view+json": {
       "model_id": "246b3bb0b00047eab31e7b7dbba07e7c"
      }
     },
     "metadata": {},
     "output_type": "display_data"
    },
    {
     "name": "stdout",
     "output_type": "stream",
     "text": [
      "zeb1.motif\n"
     ]
    },
    {
     "data": {
      "application/vnd.jupyter.widget-view+json": {
       "model_id": "f81ad177a67a4048b5d78df461d7913c"
      }
     },
     "metadata": {},
     "output_type": "display_data"
    },
    {
     "name": "stdout",
     "output_type": "stream",
     "text": [
      "zfp281.motif\n"
     ]
    },
    {
     "data": {
      "application/vnd.jupyter.widget-view+json": {
       "model_id": "22fcb7fa0d80456dba4c2ef21d1d976f"
      }
     },
     "metadata": {},
     "output_type": "display_data"
    },
    {
     "name": "stdout",
     "output_type": "stream",
     "text": [
      "zfp3.motif\n"
     ]
    },
    {
     "data": {
      "application/vnd.jupyter.widget-view+json": {
       "model_id": "b0b77c31d8a94e839d52e912be8d45aa"
      }
     },
     "metadata": {},
     "output_type": "display_data"
    },
    {
     "name": "stdout",
     "output_type": "stream",
     "text": [
      "zfp809.motif\n"
     ]
    },
    {
     "data": {
      "application/vnd.jupyter.widget-view+json": {
       "model_id": "1052b7594b864d3bb181b94c7ecdad34"
      }
     },
     "metadata": {},
     "output_type": "display_data"
    },
    {
     "name": "stdout",
     "output_type": "stream",
     "text": [
      "zfx.motif\n"
     ]
    },
    {
     "data": {
      "application/vnd.jupyter.widget-view+json": {
       "model_id": "afcbe884957b4fb3a51d8a552ba582bc"
      }
     },
     "metadata": {},
     "output_type": "display_data"
    },
    {
     "name": "stdout",
     "output_type": "stream",
     "text": [
      "zic.motif\n"
     ]
    },
    {
     "data": {
      "application/vnd.jupyter.widget-view+json": {
       "model_id": "d9a29b353e364175ae87a6e508e27c26"
      }
     },
     "metadata": {},
     "output_type": "display_data"
    },
    {
     "name": "stdout",
     "output_type": "stream",
     "text": [
      "zic3.motif\n"
     ]
    },
    {
     "data": {
      "application/vnd.jupyter.widget-view+json": {
       "model_id": "f4d0af83fdbd41c8b72d0157f4cbb81f"
      }
     },
     "metadata": {},
     "output_type": "display_data"
    },
    {
     "name": "stdout",
     "output_type": "stream",
     "text": [
      "zkscan1.motif\n"
     ]
    },
    {
     "data": {
      "application/vnd.jupyter.widget-view+json": {
       "model_id": "731936b4405b4b5085a1a7311b2ff166"
      }
     },
     "metadata": {},
     "output_type": "display_data"
    },
    {
     "name": "stdout",
     "output_type": "stream",
     "text": [
      "znf136.motif\n"
     ]
    },
    {
     "data": {
      "application/vnd.jupyter.widget-view+json": {
       "model_id": "38bdbbcb4d9b4c27a030a3f98d321f46"
      }
     },
     "metadata": {},
     "output_type": "display_data"
    },
    {
     "name": "stdout",
     "output_type": "stream",
     "text": [
      "znf16.motif\n"
     ]
    },
    {
     "data": {
      "application/vnd.jupyter.widget-view+json": {
       "model_id": "1646efa2c806427bb867dd751bd962ca"
      }
     },
     "metadata": {},
     "output_type": "display_data"
    },
    {
     "name": "stdout",
     "output_type": "stream",
     "text": [
      "znf165.motif\n"
     ]
    },
    {
     "data": {
      "application/vnd.jupyter.widget-view+json": {
       "model_id": "c270668be7f04af6b84b22670c17441c"
      }
     },
     "metadata": {},
     "output_type": "display_data"
    },
    {
     "name": "stdout",
     "output_type": "stream",
     "text": [
      "znf189.motif\n"
     ]
    },
    {
     "data": {
      "application/vnd.jupyter.widget-view+json": {
       "model_id": "57ab36c4a1cb4a6097e30b14a74f72e8"
      }
     },
     "metadata": {},
     "output_type": "display_data"
    },
    {
     "name": "stdout",
     "output_type": "stream",
     "text": [
      "znf263.motif\n"
     ]
    },
    {
     "data": {
      "application/vnd.jupyter.widget-view+json": {
       "model_id": "004b9e67355f412eb16bbe80353db4ab"
      }
     },
     "metadata": {},
     "output_type": "display_data"
    },
    {
     "name": "stdout",
     "output_type": "stream",
     "text": [
      "znf264.motif\n"
     ]
    },
    {
     "data": {
      "application/vnd.jupyter.widget-view+json": {
       "model_id": "f19747591e4a401d98edcbb4d73d5acd"
      }
     },
     "metadata": {},
     "output_type": "display_data"
    },
    {
     "name": "stdout",
     "output_type": "stream",
     "text": [
      "znf317.motif\n"
     ]
    },
    {
     "data": {
      "application/vnd.jupyter.widget-view+json": {
       "model_id": "64063817190f4338a276b9f36e06c856"
      }
     },
     "metadata": {},
     "output_type": "display_data"
    },
    {
     "name": "stdout",
     "output_type": "stream",
     "text": [
      "znf322.motif\n"
     ]
    },
    {
     "data": {
      "application/vnd.jupyter.widget-view+json": {
       "model_id": "6588bc9b046240bda1ef449e9c77bca4"
      }
     },
     "metadata": {},
     "output_type": "display_data"
    },
    {
     "name": "stdout",
     "output_type": "stream",
     "text": [
      "znf382.motif\n"
     ]
    },
    {
     "data": {
      "application/vnd.jupyter.widget-view+json": {
       "model_id": "e8572caff9544d0590faff6a04d50685"
      }
     },
     "metadata": {},
     "output_type": "display_data"
    },
    {
     "name": "stdout",
     "output_type": "stream",
     "text": [
      "znf41.motif\n"
     ]
    },
    {
     "data": {
      "application/vnd.jupyter.widget-view+json": {
       "model_id": "ef4640656405434e9696358a50fa645a"
      }
     },
     "metadata": {},
     "output_type": "display_data"
    },
    {
     "name": "stdout",
     "output_type": "stream",
     "text": [
      "znf415.motif\n"
     ]
    },
    {
     "data": {
      "application/vnd.jupyter.widget-view+json": {
       "model_id": "5b420cd3574f4560a1079d67293fc150"
      }
     },
     "metadata": {},
     "output_type": "display_data"
    },
    {
     "name": "stdout",
     "output_type": "stream",
     "text": [
      "znf416.motif\n"
     ]
    },
    {
     "data": {
      "application/vnd.jupyter.widget-view+json": {
       "model_id": "18cc11a0a4884deabcd8cf3e03be166e"
      }
     },
     "metadata": {},
     "output_type": "display_data"
    },
    {
     "name": "stdout",
     "output_type": "stream",
     "text": [
      "znf467.motif\n"
     ]
    },
    {
     "data": {
      "application/vnd.jupyter.widget-view+json": {
       "model_id": "88ca7810df5546ab8b0767bc8ace92fc"
      }
     },
     "metadata": {},
     "output_type": "display_data"
    },
    {
     "name": "stdout",
     "output_type": "stream",
     "text": [
      "znf519.motif\n"
     ]
    },
    {
     "data": {
      "application/vnd.jupyter.widget-view+json": {
       "model_id": "3bde7bf717ca4220b8f3a335b61880b0"
      }
     },
     "metadata": {},
     "output_type": "display_data"
    },
    {
     "name": "stdout",
     "output_type": "stream",
     "text": [
      "znf528.motif\n"
     ]
    },
    {
     "data": {
      "application/vnd.jupyter.widget-view+json": {
       "model_id": "178427444715434c9efc4999f5632064"
      }
     },
     "metadata": {},
     "output_type": "display_data"
    },
    {
     "name": "stdout",
     "output_type": "stream",
     "text": [
      "znf652.motif\n"
     ]
    },
    {
     "data": {
      "application/vnd.jupyter.widget-view+json": {
       "model_id": "e6efbaf2f4ea42c6af1e8f12642c7643"
      }
     },
     "metadata": {},
     "output_type": "display_data"
    },
    {
     "name": "stdout",
     "output_type": "stream",
     "text": [
      "znf669.motif\n"
     ]
    },
    {
     "data": {
      "application/vnd.jupyter.widget-view+json": {
       "model_id": "267872d08cdf4fa6a0f60eab0dca2482"
      }
     },
     "metadata": {},
     "output_type": "display_data"
    },
    {
     "name": "stdout",
     "output_type": "stream",
     "text": [
      "znf675.motif\n"
     ]
    },
    {
     "data": {
      "application/vnd.jupyter.widget-view+json": {
       "model_id": "c282a04bed0d43d0a7e99acc972fc100"
      }
     },
     "metadata": {},
     "output_type": "display_data"
    },
    {
     "name": "stdout",
     "output_type": "stream",
     "text": [
      "znf692.motif\n"
     ]
    },
    {
     "data": {
      "application/vnd.jupyter.widget-view+json": {
       "model_id": "308047f06f8943b99ddc7a5316aef6af"
      }
     },
     "metadata": {},
     "output_type": "display_data"
    },
    {
     "name": "stdout",
     "output_type": "stream",
     "text": [
      "znf7.motif\n"
     ]
    },
    {
     "data": {
      "application/vnd.jupyter.widget-view+json": {
       "model_id": "4289ac0f15b242dea2ef58a67b60a6a2"
      }
     },
     "metadata": {},
     "output_type": "display_data"
    },
    {
     "name": "stdout",
     "output_type": "stream",
     "text": [
      "znf711.motif\n"
     ]
    },
    {
     "data": {
      "application/vnd.jupyter.widget-view+json": {
       "model_id": "4f9d5f81e3f84dafa085a79716500f44"
      }
     },
     "metadata": {},
     "output_type": "display_data"
    },
    {
     "name": "stdout",
     "output_type": "stream",
     "text": [
      "zscan22.motif\n"
     ]
    },
    {
     "data": {
      "application/vnd.jupyter.widget-view+json": {
       "model_id": "f8208e2e0d4c40d985deba98ed466585"
      }
     },
     "metadata": {},
     "output_type": "display_data"
    }
   ],
   "source": [
    "peak_f = \"Results/output/TSS1.exp.bed\"\n",
    "motif_f = \"Results/Figures/SuppFigure3/TSS1.exp_meme/fimo.tsv\"\n",
    "\n",
    "motifs_df = pd.read_csv(motif_f,sep=\"\\t\",comment=\"#\")\n",
    "#inr = motifs_df[motifs_df[\"motif_id\"] == \"inr.motif\"]\n",
    "\n",
    "for motif,curr in motifs_df.groupby(\"motif_id\"): #motifs_df.groupby(\"motif_id\"):\n",
    "    print(motif)\n",
    "    peaks_df = read_bed_file(peak_f)\n",
    "    curr_save = os.path.join(fig_dir,os.path.basename(peak_f) + \".\" + motif)\n",
    "    \n",
    "    num_nts = np.max(curr[\"stop\"])#np.max(curr[\"stop\"] - (curr[\"start\"])+1)\n",
    "            \n",
    "    curr_out_pos = motif_analysis.initialize_motif_df(peaks_df.index,seq_len=num_nts)\n",
    "    curr_out_neg = motif_analysis.initialize_motif_df(peaks_df.index,seq_len=num_nts)\n",
    "    \n",
    "    #first_seq = curr_out.columns.values[0]\n",
    "    first_seq = curr_out_pos.columns.values[0]\n",
    "    \n",
    "    for ind,val in tqdm.tqdm_notebook(curr.iterrows()):\n",
    "        if val[\"strand\"] == \"+\":\n",
    "            curr_out_pos.at[val[\"sequence_name\"],first_seq + val[\"start\"] - 1] = True\n",
    "        else:\n",
    "            curr_out_neg.at[val[\"sequence_name\"],first_seq + val[\"stop\"] - 1] = True\n",
    "    curr_out_pos\n",
    "    #curr_out = pd.DataFrame(index= peaks_df.index,columns=np.arange(-num_nts/2,num_nts/2),dtype=bool)\n",
    "\n",
    "    motif_analysis.plot_count([curr_out_pos, curr_out_neg], name = motif.replace(\".motif\",\"\") , f_save = curr_save)\n",
    "    plt.close()"
   ]
  },
  {
   "cell_type": "code",
   "execution_count": 38,
   "metadata": {
    "ExecuteTime": {
     "end_time": "2019-02-23T00:44:42.191587Z",
     "start_time": "2019-02-23T00:44:30.273959Z"
    },
    "code_folding": [],
    "scrolled": false
   },
   "outputs": [
    {
     "name": "stdout",
     "output_type": "stream",
     "text": [
      "inr.motif\n"
     ]
    },
    {
     "data": {
      "application/vnd.jupyter.widget-view+json": {
       "model_id": "48aa958a506f46258e5a33262492077b"
      }
     },
     "metadata": {},
     "output_type": "display_data"
    },
    {
     "name": "stdout",
     "output_type": "stream",
     "text": [
      "sp1.motif\n"
     ]
    },
    {
     "data": {
      "application/vnd.jupyter.widget-view+json": {
       "model_id": "ecea55d19748447d8c552e4fc994e311"
      }
     },
     "metadata": {},
     "output_type": "display_data"
    },
    {
     "name": "stdout",
     "output_type": "stream",
     "text": [
      "tata.motif\n"
     ]
    },
    {
     "data": {
      "application/vnd.jupyter.widget-view+json": {
       "model_id": "8f4194db13d84e94ae27327aae74342a"
      }
     },
     "metadata": {},
     "output_type": "display_data"
    }
   ],
   "source": [
    "peak_f = \"Results/Figures/SuppFigure3/TSS1.exp_refseq_centered.bed\"\n",
    "motif_f = \"Results/Figures/SuppFigure3/TSS1.exp_refseq_centered_meme/fimo.tsv\"\n",
    "\n",
    "motifs_df = pd.read_csv(motif_f,sep=\"\\t\",comment=\"#\")\n",
    "#inr = motifs_df[motifs_df[\"motif_id\"] == \"inr.motif\"]\n",
    "\n",
    "\n",
    "for motif,curr in motifs_df.groupby(\"motif_id\"): #motifs_df.groupby(\"motif_id\"):\n",
    "    print(motif)\n",
    "    peaks_df = read_bed_file(peak_f)\n",
    "    curr_save = os.path.join(fig_dir,os.path.basename(peak_f) + \".\" + motif)\n",
    "    \n",
    "    num_nts = np.max(curr[\"stop\"])#np.max(curr[\"stop\"] - (curr[\"start\"])+1)\n",
    "\n",
    "    curr_out_pos = motif_analysis.initialize_motif_df(peaks_df.index,seq_len=num_nts)\n",
    "    curr_out_neg = motif_analysis.initialize_motif_df(peaks_df.index,seq_len=num_nts)\n",
    "    \n",
    "    #first_seq = curr_out.columns.values[0]\n",
    "    first_seq = curr_out_pos.columns.values[0]\n",
    "    \n",
    "    for ind,val in tqdm.tqdm_notebook(curr.iterrows()):\n",
    "        if val[\"strand\"] == \"+\":\n",
    "            curr_out_pos.at[val[\"sequence_name\"],first_seq + val[\"start\"] - 1] = True\n",
    "        else:\n",
    "            curr_out_neg.at[val[\"sequence_name\"],first_seq + val[\"stop\"] - 1] = True\n",
    "    motif_analysis.plot_count([curr_out_pos, curr_out_neg], name = motif.replace(\".motif\",\"\") , f_save = curr_save)\n",
    "    plt.close()"
   ]
  },
  {
   "cell_type": "markdown",
   "metadata": {},
   "source": [
    "## Need to separate enhancers from promoters"
   ]
  },
  {
   "cell_type": "markdown",
   "metadata": {},
   "source": [
    "# 2. Each tissue individually "
   ]
  },
  {
   "cell_type": "markdown",
   "metadata": {},
   "source": [
    "### Plot with convolutions"
   ]
  },
  {
   "cell_type": "code",
   "execution_count": 9,
   "metadata": {
    "ExecuteTime": {
     "end_time": "2019-03-01T01:28:14.024829Z",
     "start_time": "2019-03-01T01:28:13.839380Z"
    },
    "collapsed": true
   },
   "outputs": [],
   "source": [
    "for motif,curr in motifs_df.groupby(\"motif_id\"): #motifs_df.groupby(\"motif_id\"):\n",
    "    print(motif)\n",
    "    peaks_df = read_bed_file(peak_f)\n",
    "    curr_save = os.path.join(fig_dir,os.path.basename(peak_f) + \".\" + motif)\n",
    "    \n",
    "    num_nts = np.max(curr[\"stop\"])#np.max(curr[\"stop\"] - (curr[\"start\"])+1)\n",
    "\n",
    "    curr_out_pos = motif_analysis.initialize_motif_df(peaks_df.index,seq_len=num_nts)\n",
    "    \n",
    "curr = motifs_df.filter()\n",
    "peak_f = \"Results/Figures/SuppFigure3/TSS1.exp_refseq_centered.bed\"\n",
    "motif_f = \"Results/Figures/SuppFigure3/TSS1.exp_refseq_centered_meme/fimo.tsv\"\n",
    "\n",
    "motifs_df = pd.read_csv(motif_f,sep=\"\\t\",comment=\"#\")"
   ]
  },
  {
   "cell_type": "code",
   "execution_count": 21,
   "metadata": {
    "ExecuteTime": {
     "end_time": "2019-03-01T01:38:55.257384Z",
     "start_time": "2019-03-01T01:38:55.151792Z"
    },
    "scrolled": true
   },
   "outputs": [
    {
     "data": {
      "text/html": [
       "<div>\n",
       "<style scoped>\n",
       "    .dataframe tbody tr th:only-of-type {\n",
       "        vertical-align: middle;\n",
       "    }\n",
       "\n",
       "    .dataframe tbody tr th {\n",
       "        vertical-align: top;\n",
       "    }\n",
       "\n",
       "    .dataframe thead th {\n",
       "        text-align: right;\n",
       "    }\n",
       "</style>\n",
       "<table border=\"1\" class=\"dataframe\">\n",
       "  <thead>\n",
       "    <tr style=\"text-align: right;\">\n",
       "      <th></th>\n",
       "      <th>motif_id</th>\n",
       "      <th>motif_alt_id</th>\n",
       "      <th>sequence_name</th>\n",
       "      <th>start</th>\n",
       "      <th>stop</th>\n",
       "      <th>strand</th>\n",
       "      <th>score</th>\n",
       "      <th>p-value</th>\n",
       "      <th>q-value</th>\n",
       "      <th>matched_sequence</th>\n",
       "    </tr>\n",
       "  </thead>\n",
       "  <tbody>\n",
       "    <tr>\n",
       "      <th>0</th>\n",
       "      <td>sp1.motif</td>\n",
       "      <td>NaN</td>\n",
       "      <td>p2@Epas1_XM_027417972.1</td>\n",
       "      <td>1</td>\n",
       "      <td>12</td>\n",
       "      <td>+</td>\n",
       "      <td>21.60610</td>\n",
       "      <td>1.720000e-08</td>\n",
       "      <td>0.000202</td>\n",
       "      <td>GGCCCCGCCCCC</td>\n",
       "    </tr>\n",
       "    <tr>\n",
       "      <th>1</th>\n",
       "      <td>sp1.motif</td>\n",
       "      <td>NaN</td>\n",
       "      <td>p1@Epas1_XM_027417972.1</td>\n",
       "      <td>1</td>\n",
       "      <td>12</td>\n",
       "      <td>+</td>\n",
       "      <td>21.60610</td>\n",
       "      <td>1.720000e-08</td>\n",
       "      <td>0.000202</td>\n",
       "      <td>GGCCCCGCCCCC</td>\n",
       "    </tr>\n",
       "    <tr>\n",
       "      <th>2</th>\n",
       "      <td>sp1.motif</td>\n",
       "      <td>NaN</td>\n",
       "      <td>p1@Gas6_XM_027387801.1</td>\n",
       "      <td>2</td>\n",
       "      <td>13</td>\n",
       "      <td>+</td>\n",
       "      <td>21.60610</td>\n",
       "      <td>1.720000e-08</td>\n",
       "      <td>0.000202</td>\n",
       "      <td>GGCCCCGCCCCC</td>\n",
       "    </tr>\n",
       "    <tr>\n",
       "      <th>3</th>\n",
       "      <td>sp1.motif</td>\n",
       "      <td>NaN</td>\n",
       "      <td>p1@Rel_XM_027388002.1</td>\n",
       "      <td>4</td>\n",
       "      <td>15</td>\n",
       "      <td>+</td>\n",
       "      <td>21.60610</td>\n",
       "      <td>1.720000e-08</td>\n",
       "      <td>0.000202</td>\n",
       "      <td>GGCCCCGCCCCC</td>\n",
       "    </tr>\n",
       "    <tr>\n",
       "      <th>4</th>\n",
       "      <td>sp1.motif</td>\n",
       "      <td>NaN</td>\n",
       "      <td>p2@Rel_XM_027388002.1</td>\n",
       "      <td>4</td>\n",
       "      <td>15</td>\n",
       "      <td>+</td>\n",
       "      <td>21.60610</td>\n",
       "      <td>1.720000e-08</td>\n",
       "      <td>0.000202</td>\n",
       "      <td>GGCCCCGCCCCC</td>\n",
       "    </tr>\n",
       "    <tr>\n",
       "      <th>5</th>\n",
       "      <td>sp1.motif</td>\n",
       "      <td>NaN</td>\n",
       "      <td>p2@Rel_XM_027388003.1</td>\n",
       "      <td>5</td>\n",
       "      <td>16</td>\n",
       "      <td>+</td>\n",
       "      <td>21.60610</td>\n",
       "      <td>1.720000e-08</td>\n",
       "      <td>0.000202</td>\n",
       "      <td>GGCCCCGCCCCC</td>\n",
       "    </tr>\n",
       "    <tr>\n",
       "      <th>6</th>\n",
       "      <td>sp1.motif</td>\n",
       "      <td>NaN</td>\n",
       "      <td>p1@Rel_XM_027388003.1</td>\n",
       "      <td>5</td>\n",
       "      <td>16</td>\n",
       "      <td>+</td>\n",
       "      <td>21.60610</td>\n",
       "      <td>1.720000e-08</td>\n",
       "      <td>0.000202</td>\n",
       "      <td>GGCCCCGCCCCC</td>\n",
       "    </tr>\n",
       "    <tr>\n",
       "      <th>7</th>\n",
       "      <td>sp1.motif</td>\n",
       "      <td>NaN</td>\n",
       "      <td>p1@Radil_XM_027413540.1</td>\n",
       "      <td>5</td>\n",
       "      <td>16</td>\n",
       "      <td>+</td>\n",
       "      <td>21.60610</td>\n",
       "      <td>1.720000e-08</td>\n",
       "      <td>0.000202</td>\n",
       "      <td>GGCCCCGCCCCC</td>\n",
       "    </tr>\n",
       "    <tr>\n",
       "      <th>8</th>\n",
       "      <td>sp1.motif</td>\n",
       "      <td>NaN</td>\n",
       "      <td>p1@Ppp6r2_XM_027396263.1</td>\n",
       "      <td>7</td>\n",
       "      <td>18</td>\n",
       "      <td>+</td>\n",
       "      <td>21.60610</td>\n",
       "      <td>1.720000e-08</td>\n",
       "      <td>0.000202</td>\n",
       "      <td>GGCCCCGCCCCC</td>\n",
       "    </tr>\n",
       "    <tr>\n",
       "      <th>9</th>\n",
       "      <td>sp1.motif</td>\n",
       "      <td>NaN</td>\n",
       "      <td>p2@Epha1_XM_027389779.1</td>\n",
       "      <td>8</td>\n",
       "      <td>19</td>\n",
       "      <td>+</td>\n",
       "      <td>21.60610</td>\n",
       "      <td>1.720000e-08</td>\n",
       "      <td>0.000202</td>\n",
       "      <td>GGCCCCGCCCCC</td>\n",
       "    </tr>\n",
       "    <tr>\n",
       "      <th>10</th>\n",
       "      <td>sp1.motif</td>\n",
       "      <td>NaN</td>\n",
       "      <td>p1@Epha1_XM_027389779.1</td>\n",
       "      <td>8</td>\n",
       "      <td>19</td>\n",
       "      <td>+</td>\n",
       "      <td>21.60610</td>\n",
       "      <td>1.720000e-08</td>\n",
       "      <td>0.000202</td>\n",
       "      <td>GGCCCCGCCCCC</td>\n",
       "    </tr>\n",
       "    <tr>\n",
       "      <th>11</th>\n",
       "      <td>sp1.motif</td>\n",
       "      <td>NaN</td>\n",
       "      <td>p2@Ppp6r2_XM_027396258.1</td>\n",
       "      <td>8</td>\n",
       "      <td>19</td>\n",
       "      <td>+</td>\n",
       "      <td>21.60610</td>\n",
       "      <td>1.720000e-08</td>\n",
       "      <td>0.000202</td>\n",
       "      <td>GGCCCCGCCCCC</td>\n",
       "    </tr>\n",
       "    <tr>\n",
       "      <th>12</th>\n",
       "      <td>sp1.motif</td>\n",
       "      <td>NaN</td>\n",
       "      <td>p1@Sgk1_XM_027401907.1</td>\n",
       "      <td>8</td>\n",
       "      <td>19</td>\n",
       "      <td>+</td>\n",
       "      <td>21.60610</td>\n",
       "      <td>1.720000e-08</td>\n",
       "      <td>0.000202</td>\n",
       "      <td>GGCCCCGCCCCC</td>\n",
       "    </tr>\n",
       "    <tr>\n",
       "      <th>13</th>\n",
       "      <td>sp1.motif</td>\n",
       "      <td>NaN</td>\n",
       "      <td>p2@Sgk1_XM_027401907.1</td>\n",
       "      <td>8</td>\n",
       "      <td>19</td>\n",
       "      <td>+</td>\n",
       "      <td>21.60610</td>\n",
       "      <td>1.720000e-08</td>\n",
       "      <td>0.000202</td>\n",
       "      <td>GGCCCCGCCCCC</td>\n",
       "    </tr>\n",
       "    <tr>\n",
       "      <th>14</th>\n",
       "      <td>sp1.motif</td>\n",
       "      <td>NaN</td>\n",
       "      <td>p1@Ppp6r2_XM_027396258.1</td>\n",
       "      <td>8</td>\n",
       "      <td>19</td>\n",
       "      <td>+</td>\n",
       "      <td>21.60610</td>\n",
       "      <td>1.720000e-08</td>\n",
       "      <td>0.000202</td>\n",
       "      <td>GGCCCCGCCCCC</td>\n",
       "    </tr>\n",
       "    <tr>\n",
       "      <th>15</th>\n",
       "      <td>sp1.motif</td>\n",
       "      <td>NaN</td>\n",
       "      <td>p1@Fgfr1op_XM_027401138.1</td>\n",
       "      <td>9</td>\n",
       "      <td>20</td>\n",
       "      <td>+</td>\n",
       "      <td>21.60610</td>\n",
       "      <td>1.720000e-08</td>\n",
       "      <td>0.000202</td>\n",
       "      <td>GGCCCCGCCCCC</td>\n",
       "    </tr>\n",
       "    <tr>\n",
       "      <th>16</th>\n",
       "      <td>sp1.motif</td>\n",
       "      <td>NaN</td>\n",
       "      <td>p2@Fgfr1op_XM_027401139.1</td>\n",
       "      <td>10</td>\n",
       "      <td>21</td>\n",
       "      <td>+</td>\n",
       "      <td>21.60610</td>\n",
       "      <td>1.720000e-08</td>\n",
       "      <td>0.000202</td>\n",
       "      <td>GGCCCCGCCCCC</td>\n",
       "    </tr>\n",
       "    <tr>\n",
       "      <th>17</th>\n",
       "      <td>sp1.motif</td>\n",
       "      <td>NaN</td>\n",
       "      <td>p1@Gns_XM_027392301.1</td>\n",
       "      <td>10</td>\n",
       "      <td>21</td>\n",
       "      <td>+</td>\n",
       "      <td>21.60610</td>\n",
       "      <td>1.720000e-08</td>\n",
       "      <td>0.000202</td>\n",
       "      <td>GGCCCCGCCCCC</td>\n",
       "    </tr>\n",
       "    <tr>\n",
       "      <th>18</th>\n",
       "      <td>sp1.motif</td>\n",
       "      <td>NaN</td>\n",
       "      <td>p1@Kifc1_XM_027388978.1</td>\n",
       "      <td>10</td>\n",
       "      <td>21</td>\n",
       "      <td>+</td>\n",
       "      <td>21.60610</td>\n",
       "      <td>1.720000e-08</td>\n",
       "      <td>0.000202</td>\n",
       "      <td>GGCCCCGCCCCC</td>\n",
       "    </tr>\n",
       "    <tr>\n",
       "      <th>19</th>\n",
       "      <td>sp1.motif</td>\n",
       "      <td>NaN</td>\n",
       "      <td>p1@Fgfr1op_XM_027401139.1</td>\n",
       "      <td>10</td>\n",
       "      <td>21</td>\n",
       "      <td>+</td>\n",
       "      <td>21.60610</td>\n",
       "      <td>1.720000e-08</td>\n",
       "      <td>0.000202</td>\n",
       "      <td>GGCCCCGCCCCC</td>\n",
       "    </tr>\n",
       "    <tr>\n",
       "      <th>20</th>\n",
       "      <td>sp1.motif</td>\n",
       "      <td>NaN</td>\n",
       "      <td>p2@Phlda3_XM_027417510.1</td>\n",
       "      <td>11</td>\n",
       "      <td>22</td>\n",
       "      <td>+</td>\n",
       "      <td>21.60610</td>\n",
       "      <td>1.720000e-08</td>\n",
       "      <td>0.000202</td>\n",
       "      <td>GGCCCCGCCCCC</td>\n",
       "    </tr>\n",
       "    <tr>\n",
       "      <th>21</th>\n",
       "      <td>sp1.motif</td>\n",
       "      <td>NaN</td>\n",
       "      <td>p1@Phlda3_XM_027417510.1</td>\n",
       "      <td>11</td>\n",
       "      <td>22</td>\n",
       "      <td>+</td>\n",
       "      <td>21.60610</td>\n",
       "      <td>1.720000e-08</td>\n",
       "      <td>0.000202</td>\n",
       "      <td>GGCCCCGCCCCC</td>\n",
       "    </tr>\n",
       "    <tr>\n",
       "      <th>22</th>\n",
       "      <td>sp1.motif</td>\n",
       "      <td>NaN</td>\n",
       "      <td>p2@Znf385a_XM_027396779.1</td>\n",
       "      <td>12</td>\n",
       "      <td>23</td>\n",
       "      <td>+</td>\n",
       "      <td>21.60610</td>\n",
       "      <td>1.720000e-08</td>\n",
       "      <td>0.000202</td>\n",
       "      <td>GGCCCCGCCCCC</td>\n",
       "    </tr>\n",
       "    <tr>\n",
       "      <th>23</th>\n",
       "      <td>sp1.motif</td>\n",
       "      <td>NaN</td>\n",
       "      <td>p3@Gabarapl2_XM_027406058.1</td>\n",
       "      <td>12</td>\n",
       "      <td>23</td>\n",
       "      <td>+</td>\n",
       "      <td>21.60610</td>\n",
       "      <td>1.720000e-08</td>\n",
       "      <td>0.000202</td>\n",
       "      <td>GGCCCCGCCCCC</td>\n",
       "    </tr>\n",
       "    <tr>\n",
       "      <th>24</th>\n",
       "      <td>sp1.motif</td>\n",
       "      <td>NaN</td>\n",
       "      <td>p2@Gabarapl2_XM_027406058.1</td>\n",
       "      <td>12</td>\n",
       "      <td>23</td>\n",
       "      <td>+</td>\n",
       "      <td>21.60610</td>\n",
       "      <td>1.720000e-08</td>\n",
       "      <td>0.000202</td>\n",
       "      <td>GGCCCCGCCCCC</td>\n",
       "    </tr>\n",
       "    <tr>\n",
       "      <th>25</th>\n",
       "      <td>sp1.motif</td>\n",
       "      <td>NaN</td>\n",
       "      <td>p1@Gabarapl2_XM_027406058.1</td>\n",
       "      <td>12</td>\n",
       "      <td>23</td>\n",
       "      <td>+</td>\n",
       "      <td>21.60610</td>\n",
       "      <td>1.720000e-08</td>\n",
       "      <td>0.000202</td>\n",
       "      <td>GGCCCCGCCCCC</td>\n",
       "    </tr>\n",
       "    <tr>\n",
       "      <th>26</th>\n",
       "      <td>sp1.motif</td>\n",
       "      <td>NaN</td>\n",
       "      <td>p1@Znf385a_XM_027396779.1</td>\n",
       "      <td>12</td>\n",
       "      <td>23</td>\n",
       "      <td>+</td>\n",
       "      <td>21.60610</td>\n",
       "      <td>1.720000e-08</td>\n",
       "      <td>0.000202</td>\n",
       "      <td>GGCCCCGCCCCC</td>\n",
       "    </tr>\n",
       "    <tr>\n",
       "      <th>27</th>\n",
       "      <td>sp1.motif</td>\n",
       "      <td>NaN</td>\n",
       "      <td>p3@Zbed4_XM_027396215.1</td>\n",
       "      <td>13</td>\n",
       "      <td>24</td>\n",
       "      <td>+</td>\n",
       "      <td>21.60610</td>\n",
       "      <td>1.720000e-08</td>\n",
       "      <td>0.000202</td>\n",
       "      <td>GGCCCCGCCCCC</td>\n",
       "    </tr>\n",
       "    <tr>\n",
       "      <th>28</th>\n",
       "      <td>sp1.motif</td>\n",
       "      <td>NaN</td>\n",
       "      <td>p2@Zbed4_XM_027396215.1</td>\n",
       "      <td>13</td>\n",
       "      <td>24</td>\n",
       "      <td>+</td>\n",
       "      <td>21.60610</td>\n",
       "      <td>1.720000e-08</td>\n",
       "      <td>0.000202</td>\n",
       "      <td>GGCCCCGCCCCC</td>\n",
       "    </tr>\n",
       "    <tr>\n",
       "      <th>29</th>\n",
       "      <td>sp1.motif</td>\n",
       "      <td>NaN</td>\n",
       "      <td>p1@Lmna_XM_027393131.1</td>\n",
       "      <td>13</td>\n",
       "      <td>24</td>\n",
       "      <td>+</td>\n",
       "      <td>21.60610</td>\n",
       "      <td>1.720000e-08</td>\n",
       "      <td>0.000202</td>\n",
       "      <td>GGCCCCGCCCCC</td>\n",
       "    </tr>\n",
       "    <tr>\n",
       "      <th>...</th>\n",
       "      <td>...</td>\n",
       "      <td>...</td>\n",
       "      <td>...</td>\n",
       "      <td>...</td>\n",
       "      <td>...</td>\n",
       "      <td>...</td>\n",
       "      <td>...</td>\n",
       "      <td>...</td>\n",
       "      <td>...</td>\n",
       "      <td>...</td>\n",
       "    </tr>\n",
       "    <tr>\n",
       "      <th>44904</th>\n",
       "      <td>sp1.motif</td>\n",
       "      <td>NaN</td>\n",
       "      <td>p1@Zmym2_XM_027390484.1</td>\n",
       "      <td>64</td>\n",
       "      <td>75</td>\n",
       "      <td>-</td>\n",
       "      <td>9.59394</td>\n",
       "      <td>9.990000e-05</td>\n",
       "      <td>0.012500</td>\n",
       "      <td>CTCCCCTCCCCC</td>\n",
       "    </tr>\n",
       "    <tr>\n",
       "      <th>44905</th>\n",
       "      <td>sp1.motif</td>\n",
       "      <td>NaN</td>\n",
       "      <td>p1@Dbn1_XM_027409786.1</td>\n",
       "      <td>77</td>\n",
       "      <td>88</td>\n",
       "      <td>+</td>\n",
       "      <td>9.59394</td>\n",
       "      <td>9.990000e-05</td>\n",
       "      <td>0.012500</td>\n",
       "      <td>CTCCCCTCCCCC</td>\n",
       "    </tr>\n",
       "    <tr>\n",
       "      <th>44906</th>\n",
       "      <td>sp1.motif</td>\n",
       "      <td>NaN</td>\n",
       "      <td>p1@LOC100759356_XM_027387448.1</td>\n",
       "      <td>79</td>\n",
       "      <td>90</td>\n",
       "      <td>+</td>\n",
       "      <td>9.59394</td>\n",
       "      <td>9.990000e-05</td>\n",
       "      <td>0.012500</td>\n",
       "      <td>GTTCCCGCCTCC</td>\n",
       "    </tr>\n",
       "    <tr>\n",
       "      <th>44907</th>\n",
       "      <td>sp1.motif</td>\n",
       "      <td>NaN</td>\n",
       "      <td>p1@Xylt2_XM_027424375.1</td>\n",
       "      <td>69</td>\n",
       "      <td>80</td>\n",
       "      <td>-</td>\n",
       "      <td>9.59394</td>\n",
       "      <td>9.990000e-05</td>\n",
       "      <td>0.012500</td>\n",
       "      <td>GGCCCCCCCACT</td>\n",
       "    </tr>\n",
       "    <tr>\n",
       "      <th>44908</th>\n",
       "      <td>sp1.motif</td>\n",
       "      <td>NaN</td>\n",
       "      <td>p1@Dap3_XM_027393187.1</td>\n",
       "      <td>87</td>\n",
       "      <td>98</td>\n",
       "      <td>+</td>\n",
       "      <td>9.59394</td>\n",
       "      <td>9.990000e-05</td>\n",
       "      <td>0.012500</td>\n",
       "      <td>CTCCCCTCCCCC</td>\n",
       "    </tr>\n",
       "    <tr>\n",
       "      <th>44909</th>\n",
       "      <td>sp1.motif</td>\n",
       "      <td>NaN</td>\n",
       "      <td>p3@Znf148_XM_027412807.1</td>\n",
       "      <td>87</td>\n",
       "      <td>98</td>\n",
       "      <td>+</td>\n",
       "      <td>9.59394</td>\n",
       "      <td>9.990000e-05</td>\n",
       "      <td>0.012500</td>\n",
       "      <td>CTCCCCTCCCCC</td>\n",
       "    </tr>\n",
       "    <tr>\n",
       "      <th>44910</th>\n",
       "      <td>sp1.motif</td>\n",
       "      <td>NaN</td>\n",
       "      <td>p2@Znf148_XM_027412807.1</td>\n",
       "      <td>87</td>\n",
       "      <td>98</td>\n",
       "      <td>+</td>\n",
       "      <td>9.59394</td>\n",
       "      <td>9.990000e-05</td>\n",
       "      <td>0.012500</td>\n",
       "      <td>CTCCCCTCCCCC</td>\n",
       "    </tr>\n",
       "    <tr>\n",
       "      <th>44911</th>\n",
       "      <td>sp1.motif</td>\n",
       "      <td>NaN</td>\n",
       "      <td>p1@Znf148_XM_027412807.1</td>\n",
       "      <td>87</td>\n",
       "      <td>98</td>\n",
       "      <td>+</td>\n",
       "      <td>9.59394</td>\n",
       "      <td>9.990000e-05</td>\n",
       "      <td>0.012500</td>\n",
       "      <td>CTCCCCTCCCCC</td>\n",
       "    </tr>\n",
       "    <tr>\n",
       "      <th>44912</th>\n",
       "      <td>sp1.motif</td>\n",
       "      <td>NaN</td>\n",
       "      <td>p4@Abcg2_XM_027429735.1</td>\n",
       "      <td>76</td>\n",
       "      <td>87</td>\n",
       "      <td>-</td>\n",
       "      <td>9.59394</td>\n",
       "      <td>9.990000e-05</td>\n",
       "      <td>0.012500</td>\n",
       "      <td>CTCCCCTCCCCC</td>\n",
       "    </tr>\n",
       "    <tr>\n",
       "      <th>44913</th>\n",
       "      <td>sp1.motif</td>\n",
       "      <td>NaN</td>\n",
       "      <td>p3@Abcg2_XM_027429735.1</td>\n",
       "      <td>76</td>\n",
       "      <td>87</td>\n",
       "      <td>-</td>\n",
       "      <td>9.59394</td>\n",
       "      <td>9.990000e-05</td>\n",
       "      <td>0.012500</td>\n",
       "      <td>CTCCCCTCCCCC</td>\n",
       "    </tr>\n",
       "    <tr>\n",
       "      <th>44914</th>\n",
       "      <td>sp1.motif</td>\n",
       "      <td>NaN</td>\n",
       "      <td>p2@Abcg2_XM_027429735.1</td>\n",
       "      <td>76</td>\n",
       "      <td>87</td>\n",
       "      <td>-</td>\n",
       "      <td>9.59394</td>\n",
       "      <td>9.990000e-05</td>\n",
       "      <td>0.012500</td>\n",
       "      <td>CTCCCCTCCCCC</td>\n",
       "    </tr>\n",
       "    <tr>\n",
       "      <th>44915</th>\n",
       "      <td>sp1.motif</td>\n",
       "      <td>NaN</td>\n",
       "      <td>p1@Abcg2_XM_027429735.1</td>\n",
       "      <td>76</td>\n",
       "      <td>87</td>\n",
       "      <td>-</td>\n",
       "      <td>9.59394</td>\n",
       "      <td>9.990000e-05</td>\n",
       "      <td>0.012500</td>\n",
       "      <td>CTCCCCTCCCCC</td>\n",
       "    </tr>\n",
       "    <tr>\n",
       "      <th>44916</th>\n",
       "      <td>sp1.motif</td>\n",
       "      <td>NaN</td>\n",
       "      <td>p1@Gtf2h1_XM_027410465.1</td>\n",
       "      <td>79</td>\n",
       "      <td>90</td>\n",
       "      <td>-</td>\n",
       "      <td>9.59394</td>\n",
       "      <td>9.990000e-05</td>\n",
       "      <td>0.012500</td>\n",
       "      <td>GGTCTCGCCTCC</td>\n",
       "    </tr>\n",
       "    <tr>\n",
       "      <th>44917</th>\n",
       "      <td>sp1.motif</td>\n",
       "      <td>NaN</td>\n",
       "      <td>p1@Usp2_XM_027411901.1</td>\n",
       "      <td>82</td>\n",
       "      <td>93</td>\n",
       "      <td>-</td>\n",
       "      <td>9.59394</td>\n",
       "      <td>9.990000e-05</td>\n",
       "      <td>0.012500</td>\n",
       "      <td>CGCCTCTCCCCC</td>\n",
       "    </tr>\n",
       "    <tr>\n",
       "      <th>44918</th>\n",
       "      <td>sp1.motif</td>\n",
       "      <td>NaN</td>\n",
       "      <td>p1@Bach2_XM_027403432.1</td>\n",
       "      <td>96</td>\n",
       "      <td>107</td>\n",
       "      <td>+</td>\n",
       "      <td>9.59394</td>\n",
       "      <td>9.990000e-05</td>\n",
       "      <td>0.012500</td>\n",
       "      <td>CTCCCCTCCCCC</td>\n",
       "    </tr>\n",
       "    <tr>\n",
       "      <th>44919</th>\n",
       "      <td>sp1.motif</td>\n",
       "      <td>NaN</td>\n",
       "      <td>p1@Upf2_XM_027405172.1</td>\n",
       "      <td>102</td>\n",
       "      <td>113</td>\n",
       "      <td>-</td>\n",
       "      <td>9.59394</td>\n",
       "      <td>9.990000e-05</td>\n",
       "      <td>0.012500</td>\n",
       "      <td>CTCCCCTCCCCC</td>\n",
       "    </tr>\n",
       "    <tr>\n",
       "      <th>44920</th>\n",
       "      <td>sp1.motif</td>\n",
       "      <td>NaN</td>\n",
       "      <td>p1@Pip4p2_XM_027403553.1</td>\n",
       "      <td>117</td>\n",
       "      <td>128</td>\n",
       "      <td>+</td>\n",
       "      <td>9.59394</td>\n",
       "      <td>9.990000e-05</td>\n",
       "      <td>0.012500</td>\n",
       "      <td>CTCCCCTCCCCC</td>\n",
       "    </tr>\n",
       "    <tr>\n",
       "      <th>44921</th>\n",
       "      <td>sp1.motif</td>\n",
       "      <td>NaN</td>\n",
       "      <td>p2@Ralgps2_XM_027417292.1</td>\n",
       "      <td>119</td>\n",
       "      <td>130</td>\n",
       "      <td>+</td>\n",
       "      <td>9.59394</td>\n",
       "      <td>9.990000e-05</td>\n",
       "      <td>0.012500</td>\n",
       "      <td>CTCCCCTCCCCC</td>\n",
       "    </tr>\n",
       "    <tr>\n",
       "      <th>44922</th>\n",
       "      <td>sp1.motif</td>\n",
       "      <td>NaN</td>\n",
       "      <td>p1@Ralgps2_XM_027417292.1</td>\n",
       "      <td>119</td>\n",
       "      <td>130</td>\n",
       "      <td>+</td>\n",
       "      <td>9.59394</td>\n",
       "      <td>9.990000e-05</td>\n",
       "      <td>0.012500</td>\n",
       "      <td>CTCCCCTCCCCC</td>\n",
       "    </tr>\n",
       "    <tr>\n",
       "      <th>44923</th>\n",
       "      <td>sp1.motif</td>\n",
       "      <td>NaN</td>\n",
       "      <td>p3@LOC113833874_XM_027399804.1</td>\n",
       "      <td>120</td>\n",
       "      <td>131</td>\n",
       "      <td>+</td>\n",
       "      <td>9.59394</td>\n",
       "      <td>9.990000e-05</td>\n",
       "      <td>0.012500</td>\n",
       "      <td>CTCCCCTCCCCC</td>\n",
       "    </tr>\n",
       "    <tr>\n",
       "      <th>44924</th>\n",
       "      <td>sp1.motif</td>\n",
       "      <td>NaN</td>\n",
       "      <td>p2@LOC113833874_XM_027399804.1</td>\n",
       "      <td>120</td>\n",
       "      <td>131</td>\n",
       "      <td>+</td>\n",
       "      <td>9.59394</td>\n",
       "      <td>9.990000e-05</td>\n",
       "      <td>0.012500</td>\n",
       "      <td>CTCCCCTCCCCC</td>\n",
       "    </tr>\n",
       "    <tr>\n",
       "      <th>44925</th>\n",
       "      <td>sp1.motif</td>\n",
       "      <td>NaN</td>\n",
       "      <td>p1@LOC113833874_XM_027399804.1</td>\n",
       "      <td>120</td>\n",
       "      <td>131</td>\n",
       "      <td>+</td>\n",
       "      <td>9.59394</td>\n",
       "      <td>9.990000e-05</td>\n",
       "      <td>0.012500</td>\n",
       "      <td>CTCCCCTCCCCC</td>\n",
       "    </tr>\n",
       "    <tr>\n",
       "      <th>44926</th>\n",
       "      <td>sp1.motif</td>\n",
       "      <td>NaN</td>\n",
       "      <td>p1@Pip4p2_XM_027403552.1</td>\n",
       "      <td>122</td>\n",
       "      <td>133</td>\n",
       "      <td>+</td>\n",
       "      <td>9.59394</td>\n",
       "      <td>9.990000e-05</td>\n",
       "      <td>0.012500</td>\n",
       "      <td>CTCCCCTCCCCC</td>\n",
       "    </tr>\n",
       "    <tr>\n",
       "      <th>44927</th>\n",
       "      <td>sp1.motif</td>\n",
       "      <td>NaN</td>\n",
       "      <td>p1@Senp7_XM_027412499.1</td>\n",
       "      <td>134</td>\n",
       "      <td>145</td>\n",
       "      <td>+</td>\n",
       "      <td>9.59394</td>\n",
       "      <td>9.990000e-05</td>\n",
       "      <td>0.012500</td>\n",
       "      <td>CTCCCCTCCCCC</td>\n",
       "    </tr>\n",
       "    <tr>\n",
       "      <th>44928</th>\n",
       "      <td>sp1.motif</td>\n",
       "      <td>NaN</td>\n",
       "      <td>p2@Cxcl6_XM_027388377.1</td>\n",
       "      <td>135</td>\n",
       "      <td>146</td>\n",
       "      <td>+</td>\n",
       "      <td>9.59394</td>\n",
       "      <td>9.990000e-05</td>\n",
       "      <td>0.012500</td>\n",
       "      <td>CTCCCCTCCCCC</td>\n",
       "    </tr>\n",
       "    <tr>\n",
       "      <th>44929</th>\n",
       "      <td>sp1.motif</td>\n",
       "      <td>NaN</td>\n",
       "      <td>p1@Cxcl6_XM_027388377.1</td>\n",
       "      <td>135</td>\n",
       "      <td>146</td>\n",
       "      <td>+</td>\n",
       "      <td>9.59394</td>\n",
       "      <td>9.990000e-05</td>\n",
       "      <td>0.012500</td>\n",
       "      <td>CTCCCCTCCCCC</td>\n",
       "    </tr>\n",
       "    <tr>\n",
       "      <th>44930</th>\n",
       "      <td>sp1.motif</td>\n",
       "      <td>NaN</td>\n",
       "      <td>p4@Sema4c_XM_027386855.1</td>\n",
       "      <td>128</td>\n",
       "      <td>139</td>\n",
       "      <td>-</td>\n",
       "      <td>9.59394</td>\n",
       "      <td>9.990000e-05</td>\n",
       "      <td>0.012500</td>\n",
       "      <td>CTCCCCTCCCCC</td>\n",
       "    </tr>\n",
       "    <tr>\n",
       "      <th>44931</th>\n",
       "      <td>sp1.motif</td>\n",
       "      <td>NaN</td>\n",
       "      <td>p3@Sema4c_XM_027386855.1</td>\n",
       "      <td>128</td>\n",
       "      <td>139</td>\n",
       "      <td>-</td>\n",
       "      <td>9.59394</td>\n",
       "      <td>9.990000e-05</td>\n",
       "      <td>0.012500</td>\n",
       "      <td>CTCCCCTCCCCC</td>\n",
       "    </tr>\n",
       "    <tr>\n",
       "      <th>44932</th>\n",
       "      <td>sp1.motif</td>\n",
       "      <td>NaN</td>\n",
       "      <td>p2@Sema4c_XM_027386855.1</td>\n",
       "      <td>128</td>\n",
       "      <td>139</td>\n",
       "      <td>-</td>\n",
       "      <td>9.59394</td>\n",
       "      <td>9.990000e-05</td>\n",
       "      <td>0.012500</td>\n",
       "      <td>CTCCCCTCCCCC</td>\n",
       "    </tr>\n",
       "    <tr>\n",
       "      <th>44933</th>\n",
       "      <td>sp1.motif</td>\n",
       "      <td>NaN</td>\n",
       "      <td>p1@Sema4c_XM_027386855.1</td>\n",
       "      <td>128</td>\n",
       "      <td>139</td>\n",
       "      <td>-</td>\n",
       "      <td>9.59394</td>\n",
       "      <td>9.990000e-05</td>\n",
       "      <td>0.012500</td>\n",
       "      <td>CTCCCCTCCCCC</td>\n",
       "    </tr>\n",
       "  </tbody>\n",
       "</table>\n",
       "<p>42071 rows × 10 columns</p>\n",
       "</div>"
      ],
      "text/plain": [
       "        motif_id  motif_alt_id                   sequence_name  start  stop  \\\n",
       "0      sp1.motif           NaN         p2@Epas1_XM_027417972.1      1    12   \n",
       "1      sp1.motif           NaN         p1@Epas1_XM_027417972.1      1    12   \n",
       "2      sp1.motif           NaN          p1@Gas6_XM_027387801.1      2    13   \n",
       "3      sp1.motif           NaN           p1@Rel_XM_027388002.1      4    15   \n",
       "4      sp1.motif           NaN           p2@Rel_XM_027388002.1      4    15   \n",
       "5      sp1.motif           NaN           p2@Rel_XM_027388003.1      5    16   \n",
       "6      sp1.motif           NaN           p1@Rel_XM_027388003.1      5    16   \n",
       "7      sp1.motif           NaN         p1@Radil_XM_027413540.1      5    16   \n",
       "8      sp1.motif           NaN        p1@Ppp6r2_XM_027396263.1      7    18   \n",
       "9      sp1.motif           NaN         p2@Epha1_XM_027389779.1      8    19   \n",
       "10     sp1.motif           NaN         p1@Epha1_XM_027389779.1      8    19   \n",
       "11     sp1.motif           NaN        p2@Ppp6r2_XM_027396258.1      8    19   \n",
       "12     sp1.motif           NaN          p1@Sgk1_XM_027401907.1      8    19   \n",
       "13     sp1.motif           NaN          p2@Sgk1_XM_027401907.1      8    19   \n",
       "14     sp1.motif           NaN        p1@Ppp6r2_XM_027396258.1      8    19   \n",
       "15     sp1.motif           NaN       p1@Fgfr1op_XM_027401138.1      9    20   \n",
       "16     sp1.motif           NaN       p2@Fgfr1op_XM_027401139.1     10    21   \n",
       "17     sp1.motif           NaN           p1@Gns_XM_027392301.1     10    21   \n",
       "18     sp1.motif           NaN         p1@Kifc1_XM_027388978.1     10    21   \n",
       "19     sp1.motif           NaN       p1@Fgfr1op_XM_027401139.1     10    21   \n",
       "20     sp1.motif           NaN        p2@Phlda3_XM_027417510.1     11    22   \n",
       "21     sp1.motif           NaN        p1@Phlda3_XM_027417510.1     11    22   \n",
       "22     sp1.motif           NaN       p2@Znf385a_XM_027396779.1     12    23   \n",
       "23     sp1.motif           NaN     p3@Gabarapl2_XM_027406058.1     12    23   \n",
       "24     sp1.motif           NaN     p2@Gabarapl2_XM_027406058.1     12    23   \n",
       "25     sp1.motif           NaN     p1@Gabarapl2_XM_027406058.1     12    23   \n",
       "26     sp1.motif           NaN       p1@Znf385a_XM_027396779.1     12    23   \n",
       "27     sp1.motif           NaN         p3@Zbed4_XM_027396215.1     13    24   \n",
       "28     sp1.motif           NaN         p2@Zbed4_XM_027396215.1     13    24   \n",
       "29     sp1.motif           NaN          p1@Lmna_XM_027393131.1     13    24   \n",
       "...          ...           ...                             ...    ...   ...   \n",
       "44904  sp1.motif           NaN         p1@Zmym2_XM_027390484.1     64    75   \n",
       "44905  sp1.motif           NaN          p1@Dbn1_XM_027409786.1     77    88   \n",
       "44906  sp1.motif           NaN  p1@LOC100759356_XM_027387448.1     79    90   \n",
       "44907  sp1.motif           NaN         p1@Xylt2_XM_027424375.1     69    80   \n",
       "44908  sp1.motif           NaN          p1@Dap3_XM_027393187.1     87    98   \n",
       "44909  sp1.motif           NaN        p3@Znf148_XM_027412807.1     87    98   \n",
       "44910  sp1.motif           NaN        p2@Znf148_XM_027412807.1     87    98   \n",
       "44911  sp1.motif           NaN        p1@Znf148_XM_027412807.1     87    98   \n",
       "44912  sp1.motif           NaN         p4@Abcg2_XM_027429735.1     76    87   \n",
       "44913  sp1.motif           NaN         p3@Abcg2_XM_027429735.1     76    87   \n",
       "44914  sp1.motif           NaN         p2@Abcg2_XM_027429735.1     76    87   \n",
       "44915  sp1.motif           NaN         p1@Abcg2_XM_027429735.1     76    87   \n",
       "44916  sp1.motif           NaN        p1@Gtf2h1_XM_027410465.1     79    90   \n",
       "44917  sp1.motif           NaN          p1@Usp2_XM_027411901.1     82    93   \n",
       "44918  sp1.motif           NaN         p1@Bach2_XM_027403432.1     96   107   \n",
       "44919  sp1.motif           NaN          p1@Upf2_XM_027405172.1    102   113   \n",
       "44920  sp1.motif           NaN        p1@Pip4p2_XM_027403553.1    117   128   \n",
       "44921  sp1.motif           NaN       p2@Ralgps2_XM_027417292.1    119   130   \n",
       "44922  sp1.motif           NaN       p1@Ralgps2_XM_027417292.1    119   130   \n",
       "44923  sp1.motif           NaN  p3@LOC113833874_XM_027399804.1    120   131   \n",
       "44924  sp1.motif           NaN  p2@LOC113833874_XM_027399804.1    120   131   \n",
       "44925  sp1.motif           NaN  p1@LOC113833874_XM_027399804.1    120   131   \n",
       "44926  sp1.motif           NaN        p1@Pip4p2_XM_027403552.1    122   133   \n",
       "44927  sp1.motif           NaN         p1@Senp7_XM_027412499.1    134   145   \n",
       "44928  sp1.motif           NaN         p2@Cxcl6_XM_027388377.1    135   146   \n",
       "44929  sp1.motif           NaN         p1@Cxcl6_XM_027388377.1    135   146   \n",
       "44930  sp1.motif           NaN        p4@Sema4c_XM_027386855.1    128   139   \n",
       "44931  sp1.motif           NaN        p3@Sema4c_XM_027386855.1    128   139   \n",
       "44932  sp1.motif           NaN        p2@Sema4c_XM_027386855.1    128   139   \n",
       "44933  sp1.motif           NaN        p1@Sema4c_XM_027386855.1    128   139   \n",
       "\n",
       "      strand     score       p-value   q-value matched_sequence  \n",
       "0          +  21.60610  1.720000e-08  0.000202     GGCCCCGCCCCC  \n",
       "1          +  21.60610  1.720000e-08  0.000202     GGCCCCGCCCCC  \n",
       "2          +  21.60610  1.720000e-08  0.000202     GGCCCCGCCCCC  \n",
       "3          +  21.60610  1.720000e-08  0.000202     GGCCCCGCCCCC  \n",
       "4          +  21.60610  1.720000e-08  0.000202     GGCCCCGCCCCC  \n",
       "5          +  21.60610  1.720000e-08  0.000202     GGCCCCGCCCCC  \n",
       "6          +  21.60610  1.720000e-08  0.000202     GGCCCCGCCCCC  \n",
       "7          +  21.60610  1.720000e-08  0.000202     GGCCCCGCCCCC  \n",
       "8          +  21.60610  1.720000e-08  0.000202     GGCCCCGCCCCC  \n",
       "9          +  21.60610  1.720000e-08  0.000202     GGCCCCGCCCCC  \n",
       "10         +  21.60610  1.720000e-08  0.000202     GGCCCCGCCCCC  \n",
       "11         +  21.60610  1.720000e-08  0.000202     GGCCCCGCCCCC  \n",
       "12         +  21.60610  1.720000e-08  0.000202     GGCCCCGCCCCC  \n",
       "13         +  21.60610  1.720000e-08  0.000202     GGCCCCGCCCCC  \n",
       "14         +  21.60610  1.720000e-08  0.000202     GGCCCCGCCCCC  \n",
       "15         +  21.60610  1.720000e-08  0.000202     GGCCCCGCCCCC  \n",
       "16         +  21.60610  1.720000e-08  0.000202     GGCCCCGCCCCC  \n",
       "17         +  21.60610  1.720000e-08  0.000202     GGCCCCGCCCCC  \n",
       "18         +  21.60610  1.720000e-08  0.000202     GGCCCCGCCCCC  \n",
       "19         +  21.60610  1.720000e-08  0.000202     GGCCCCGCCCCC  \n",
       "20         +  21.60610  1.720000e-08  0.000202     GGCCCCGCCCCC  \n",
       "21         +  21.60610  1.720000e-08  0.000202     GGCCCCGCCCCC  \n",
       "22         +  21.60610  1.720000e-08  0.000202     GGCCCCGCCCCC  \n",
       "23         +  21.60610  1.720000e-08  0.000202     GGCCCCGCCCCC  \n",
       "24         +  21.60610  1.720000e-08  0.000202     GGCCCCGCCCCC  \n",
       "25         +  21.60610  1.720000e-08  0.000202     GGCCCCGCCCCC  \n",
       "26         +  21.60610  1.720000e-08  0.000202     GGCCCCGCCCCC  \n",
       "27         +  21.60610  1.720000e-08  0.000202     GGCCCCGCCCCC  \n",
       "28         +  21.60610  1.720000e-08  0.000202     GGCCCCGCCCCC  \n",
       "29         +  21.60610  1.720000e-08  0.000202     GGCCCCGCCCCC  \n",
       "...      ...       ...           ...       ...              ...  \n",
       "44904      -   9.59394  9.990000e-05  0.012500     CTCCCCTCCCCC  \n",
       "44905      +   9.59394  9.990000e-05  0.012500     CTCCCCTCCCCC  \n",
       "44906      +   9.59394  9.990000e-05  0.012500     GTTCCCGCCTCC  \n",
       "44907      -   9.59394  9.990000e-05  0.012500     GGCCCCCCCACT  \n",
       "44908      +   9.59394  9.990000e-05  0.012500     CTCCCCTCCCCC  \n",
       "44909      +   9.59394  9.990000e-05  0.012500     CTCCCCTCCCCC  \n",
       "44910      +   9.59394  9.990000e-05  0.012500     CTCCCCTCCCCC  \n",
       "44911      +   9.59394  9.990000e-05  0.012500     CTCCCCTCCCCC  \n",
       "44912      -   9.59394  9.990000e-05  0.012500     CTCCCCTCCCCC  \n",
       "44913      -   9.59394  9.990000e-05  0.012500     CTCCCCTCCCCC  \n",
       "44914      -   9.59394  9.990000e-05  0.012500     CTCCCCTCCCCC  \n",
       "44915      -   9.59394  9.990000e-05  0.012500     CTCCCCTCCCCC  \n",
       "44916      -   9.59394  9.990000e-05  0.012500     GGTCTCGCCTCC  \n",
       "44917      -   9.59394  9.990000e-05  0.012500     CGCCTCTCCCCC  \n",
       "44918      +   9.59394  9.990000e-05  0.012500     CTCCCCTCCCCC  \n",
       "44919      -   9.59394  9.990000e-05  0.012500     CTCCCCTCCCCC  \n",
       "44920      +   9.59394  9.990000e-05  0.012500     CTCCCCTCCCCC  \n",
       "44921      +   9.59394  9.990000e-05  0.012500     CTCCCCTCCCCC  \n",
       "44922      +   9.59394  9.990000e-05  0.012500     CTCCCCTCCCCC  \n",
       "44923      +   9.59394  9.990000e-05  0.012500     CTCCCCTCCCCC  \n",
       "44924      +   9.59394  9.990000e-05  0.012500     CTCCCCTCCCCC  \n",
       "44925      +   9.59394  9.990000e-05  0.012500     CTCCCCTCCCCC  \n",
       "44926      +   9.59394  9.990000e-05  0.012500     CTCCCCTCCCCC  \n",
       "44927      +   9.59394  9.990000e-05  0.012500     CTCCCCTCCCCC  \n",
       "44928      +   9.59394  9.990000e-05  0.012500     CTCCCCTCCCCC  \n",
       "44929      +   9.59394  9.990000e-05  0.012500     CTCCCCTCCCCC  \n",
       "44930      -   9.59394  9.990000e-05  0.012500     CTCCCCTCCCCC  \n",
       "44931      -   9.59394  9.990000e-05  0.012500     CTCCCCTCCCCC  \n",
       "44932      -   9.59394  9.990000e-05  0.012500     CTCCCCTCCCCC  \n",
       "44933      -   9.59394  9.990000e-05  0.012500     CTCCCCTCCCCC  \n",
       "\n",
       "[42071 rows x 10 columns]"
      ]
     },
     "execution_count": 21,
     "metadata": {},
     "output_type": "execute_result"
    }
   ],
   "source": [
    "motifs_df.query(\"motif_id == 'sp1.motif' \")"
   ]
  },
  {
   "cell_type": "code",
   "execution_count": 32,
   "metadata": {
    "ExecuteTime": {
     "end_time": "2019-03-01T01:55:08.816194Z",
     "start_time": "2019-03-01T01:55:05.799354Z"
    },
    "scrolled": true
   },
   "outputs": [
    {
     "data": {
      "application/vnd.jupyter.widget-view+json": {
       "model_id": "fc6b438d605b4c56a5f37303fb7c9ee7"
      }
     },
     "metadata": {},
     "output_type": "display_data"
    },
    {
     "name": "stdout",
     "output_type": "stream",
     "text": [
      "\n"
     ]
    },
    {
     "data": {
      "text/plain": [
       "[<matplotlib.lines.Line2D at 0x7f5de018c6d0>]"
      ]
     },
     "execution_count": 32,
     "metadata": {},
     "output_type": "execute_result"
    },
    {
     "data": {
      "image/png": "[encoded data removed]",
      "text/plain": [
       "<matplotlib.figure.Figure at 0x7f5de805ec90>"
      ]
     },
     "metadata": {
      "image/png": {
       "height": 380,
       "width": 533
      }
     },
     "output_type": "display_data"
    },
    {
     "data": {
      "image/png": "[encoded data removed]",
      "text/plain": [
       "<matplotlib.figure.Figure at 0x7f5d82f2b190>"
      ]
     },
     "metadata": {
      "image/png": {
       "height": 381,
       "width": 533
      }
     },
     "output_type": "display_data"
    }
   ],
   "source": [
    "motif_f = \"Results/Figures/SuppFigure3/TSS1.exp_meme/fimo.tsv\"\n",
    "\n",
    "motifs_df = pd.read_csv(motif_f,sep=\"\\t\",comment=\"#\")\n",
    "\n",
    "\n",
    "peak_f = \"Results/output/TSS1.exp.bed\"\n",
    "peaks_df = read_bed_file(peak_f)\n",
    "\n",
    "curr = motifs_df.query(\"motif_id == 'tata.motif' \")\n",
    "num_nts = np.max(curr[\"stop\"])#np.max(curr[\"stop\"] - (curr[\"start\"])+1)\n",
    "curr_out_pos = motif_analysis.initialize_motif_df(peaks_df.index,seq_len=num_nts)\n",
    "\n",
    "#first_seq = curr_out.columns.values[0]\n",
    "first_seq = curr_out_pos.columns.values[0]\n",
    "\n",
    "for ind,val in tqdm.tqdm_notebook(curr.iterrows()):\n",
    "    if val[\"strand\"] == \"+\":\n",
    "        curr_out_pos.at[val[\"sequence_name\"],first_seq + val[\"start\"] - 1] = True\n",
    "\n",
    "N = 10\n",
    "f = plt.figure()\n",
    "plt.plot(np.convolve(np.array(curr_out_pos.sum()), np.ones((N,))/N, mode='valid'))\n",
    "\n",
    "f = plt.figure()\n",
    "plt.plot((np.array(curr_out_pos.sum())))\n"
   ]
  },
  {
   "cell_type": "code",
   "execution_count": 81,
   "metadata": {
    "ExecuteTime": {
     "end_time": "2019-03-01T23:18:04.887187Z",
     "start_time": "2019-03-01T23:18:04.835458Z"
    },
    "collapsed": true
   },
   "outputs": [],
   "source": [
    "import plot_tss_results"
   ]
  },
  {
   "cell_type": "code",
   "execution_count": 83,
   "metadata": {
    "ExecuteTime": {
     "end_time": "2019-03-01T23:27:58.532167Z",
     "start_time": "2019-03-01T23:27:58.044470Z"
    },
    "scrolled": false
   },
   "outputs": [
    {
     "data": {
      "text/plain": [
       "([58, 52, 55, 59, 38, 55, 76, 122, 34, 40, 50, 46, 60, 50, 36],\n",
       " [-70, -60, -50, -40, -30, -20, -10, 0, 10, 20, 30, 40, 50, 60, 69])"
      ]
     },
     "execution_count": 83,
     "metadata": {},
     "output_type": "execute_result"
    },
    {
     "data": {
      "image/png": "[encoded data removed]",
      "text/plain": [
       "<matplotlib.figure.Figure at 0x7f5d83467cd0>"
      ]
     },
     "metadata": {
      "image/png": {
       "height": 380,
       "width": 539
      }
     },
     "output_type": "display_data"
    }
   ],
   "source": [
    "plot_tss_results.create_bins(curr_out_pos.sum(),w=10)"
   ]
  },
  {
   "cell_type": "code",
   "execution_count": 33,
   "metadata": {
    "ExecuteTime": {
     "end_time": "2019-03-01T01:55:15.658195Z",
     "start_time": "2019-03-01T01:55:12.492799Z"
    },
    "code_folding": [],
    "scrolled": true
   },
   "outputs": [
    {
     "data": {
      "application/vnd.jupyter.widget-view+json": {
       "model_id": "d86b1bd982ef4788afb7cfbd4cf6fa02"
      }
     },
     "metadata": {},
     "output_type": "display_data"
    },
    {
     "name": "stdout",
     "output_type": "stream",
     "text": [
      "\n"
     ]
    },
    {
     "data": {
      "text/plain": [
       "[<matplotlib.lines.Line2D at 0x7f5d79555810>]"
      ]
     },
     "execution_count": 33,
     "metadata": {},
     "output_type": "execute_result"
    },
    {
     "data": {
      "image/png": "[encoded data removed]",
      "text/plain": [
       "<matplotlib.figure.Figure at 0x7f5d8296e190>"
      ]
     },
     "metadata": {
      "image/png": {
       "height": 380,
       "width": 533
      }
     },
     "output_type": "display_data"
    },
    {
     "data": {
      "image/png": "[encoded data removed]",
      "text/plain": [
       "<matplotlib.figure.Figure at 0x7f5d78d08950>"
      ]
     },
     "metadata": {
      "image/png": {
       "height": 380,
       "width": 533
      }
     },
     "output_type": "display_data"
    }
   ],
   "source": [
    "motif_f = \"Results/Figures/SuppFigure3/TSS1.exp_meme/fimo.tsv\"\n",
    "\n",
    "motifs_df = pd.read_csv(motif_f,sep=\"\\t\",comment=\"#\")\n",
    "\n",
    "\n",
    "peak_f = \"Results/output/TSS1.exp.bed\"\n",
    "peaks_df = read_bed_file(peak_f)\n",
    "\n",
    "curr = motifs_df.query(\"motif_id == 'inr.motif' \")\n",
    "num_nts = np.max(curr[\"stop\"])#np.max(curr[\"stop\"] - (curr[\"start\"])+1)\n",
    "curr_out_pos = motif_analysis.initialize_motif_df(peaks_df.index,seq_len=num_nts)\n",
    "\n",
    "#first_seq = curr_out.columns.values[0]\n",
    "first_seq = curr_out_pos.columns.values[0]\n",
    "\n",
    "for ind,val in tqdm.tqdm_notebook(curr.iterrows()):\n",
    "    if val[\"strand\"] == \"+\":\n",
    "        curr_out_pos.at[val[\"sequence_name\"],first_seq + val[\"start\"] - 1] = True\n",
    "\n",
    "N = 10\n",
    "f = plt.figure()\n",
    "plt.plot(np.convolve(np.array(curr_out_pos.sum()), np.ones((N,))/N, mode='valid'))\n",
    "\n",
    "f = plt.figure()\n",
    "plt.plot((np.array(curr_out_pos.sum())))\n"
   ]
  },
  {
   "cell_type": "code",
   "execution_count": null,
   "metadata": {
    "collapsed": true
   },
   "outputs": [],
   "source": []
  }
 ],
 "metadata": {
  "kernelspec": {
   "display_name": "Python 2",
   "language": "python",
   "name": "python2"
  },
  "language_info": {
   "codemirror_mode": {
    "name": "ipython",
    "version": 2
   },
   "file_extension": ".py",
   "mimetype": "text/x-python",
   "name": "python",
   "nbconvert_exporter": "python",
   "pygments_lexer": "ipython2",
   "version": "2.7.15"
  }
 },
 "nbformat": 4,
 "nbformat_minor": 2
}
