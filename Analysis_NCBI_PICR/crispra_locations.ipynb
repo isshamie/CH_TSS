{
 "cells": [
  {
   "cell_type": "code",
   "execution_count": 1,
   "metadata": {
    "ExecuteTime": {
     "end_time": "2020-01-28T23:27:18.842399Z",
     "start_time": "2020-01-28T23:27:18.832491Z"
    },
    "collapsed": true
   },
   "outputs": [],
   "source": [
    "sgRNAs = [7475312,7475431,7475959]"
   ]
  },
  {
   "cell_type": "code",
   "execution_count": 2,
   "metadata": {
    "ExecuteTime": {
     "end_time": "2020-01-28T23:27:18.857823Z",
     "start_time": "2020-01-28T23:27:18.846691Z"
    },
    "collapsed": true
   },
   "outputs": [],
   "source": [
    "eTSSs = [\n",
    "(7464423,7464574,\"asmbl_75037\"),\n",
    "(7464713,7464864,\"asmbl_75037\"),\n",
    "(7466351,7466502,\"asmbl_75038\"),\n",
    "(7468509,7468660,\"asmbl_75039\"),\n",
    "(7475953,7476104,\"asmbl_75040\"),\n",
    "(7489391,7489393,\"asmbl_75041\")]\n"
   ]
  },
  {
   "cell_type": "code",
   "execution_count": 3,
   "metadata": {
    "ExecuteTime": {
     "end_time": "2020-01-28T23:27:18.868943Z",
     "start_time": "2020-01-28T23:27:18.861839Z"
    },
    "collapsed": true
   },
   "outputs": [],
   "source": [
    "rTSSs = [\n",
    "(7464700,7506058,\"asmbl_75037\"),\n",
    "(7466834,7506053,\"asmbl_75038\"),\n",
    "(7469573,7506042,\"asmbl_75039\"),\n",
    "(7475740,7506058,\"asmbl_75040\"),\n",
    "(7489392,7506058,\"asmbl_75041\")\n",
    "]\n",
    "\n"
   ]
  },
  {
   "cell_type": "markdown",
   "metadata": {},
   "source": [
    "## Distance to eTSS"
   ]
  },
  {
   "cell_type": "code",
   "execution_count": 4,
   "metadata": {
    "ExecuteTime": {
     "end_time": "2020-01-28T23:27:18.881660Z",
     "start_time": "2020-01-28T23:27:18.872740Z"
    }
   },
   "outputs": [
    {
     "name": "stdout",
     "output_type": "stream",
     "text": [
      "(7475312, (7475953, 7476104, 'asmbl_75040'), -716)\n",
      "(7475431, (7475953, 7476104, 'asmbl_75040'), -597)\n",
      "(7475959, (7475953, 7476104, 'asmbl_75040'), -69)\n"
     ]
    }
   ],
   "source": [
    "for i in sgRNAs:\n",
    "    for e in eTSSs:\n",
    "        start = (e[0] + e[1])/2\n",
    "        if abs(i - start) < 1000:\n",
    "            print(i, e, i -start)\n",
    "    "
   ]
  },
  {
   "cell_type": "markdown",
   "metadata": {},
   "source": [
    "## Distance to rTSS"
   ]
  },
  {
   "cell_type": "code",
   "execution_count": 5,
   "metadata": {
    "ExecuteTime": {
     "end_time": "2020-01-28T23:27:18.896309Z",
     "start_time": "2020-01-28T23:27:18.885564Z"
    }
   },
   "outputs": [
    {
     "name": "stdout",
     "output_type": "stream",
     "text": [
      "(7475312, (7475740, 7506058, 'asmbl_75040'), -428)\n",
      "(7475431, (7475740, 7506058, 'asmbl_75040'), -309)\n",
      "(7475959, (7475740, 7506058, 'asmbl_75040'), 219)\n"
     ]
    }
   ],
   "source": [
    "for i in sgRNAs:\n",
    "    for e in rTSSs:\n",
    "        start = e[0]\n",
    "        if abs(i - start) < 1000:\n",
    "            print(i, e, i-start)"
   ]
  },
  {
   "cell_type": "code",
   "execution_count": 7,
   "metadata": {
    "ExecuteTime": {
     "end_time": "2020-01-28T23:33:22.190892Z",
     "start_time": "2020-01-28T23:33:22.184183Z"
    }
   },
   "outputs": [
    {
     "name": "stdout",
     "output_type": "stream",
     "text": [
      "asmbl_75037\n",
      "202\n",
      "asmbl_75037\n",
      "-88\n",
      "asmbl_75038\n",
      "408\n",
      "asmbl_75039\n",
      "989\n",
      "asmbl_75040\n",
      "-288\n",
      "asmbl_75041\n",
      "0\n"
     ]
    }
   ],
   "source": [
    "for r in rTSSs:\n",
    "    r_txn = r[2]\n",
    "    for e in eTSSs:\n",
    "        e_txn = e[2]\n",
    "        if e_txn == r_txn:\n",
    "            print(r_txn)\n",
    "            print(r[0] - (e[0]+e[1])/2)"
   ]
  },
  {
   "cell_type": "code",
   "execution_count": null,
   "metadata": {
    "collapsed": true
   },
   "outputs": [],
   "source": [
    "\n"
   ]
  }
 ],
 "metadata": {
  "kernelspec": {
   "display_name": "Python 2",
   "language": "python",
   "name": "python2"
  },
  "language_info": {
   "codemirror_mode": {
    "name": "ipython",
    "version": 2
   },
   "file_extension": ".py",
   "mimetype": "text/x-python",
   "name": "python",
   "nbconvert_exporter": "python",
   "pygments_lexer": "ipython2",
   "version": "2.7.15"
  }
 },
 "nbformat": 4,
 "nbformat_minor": 2
}
