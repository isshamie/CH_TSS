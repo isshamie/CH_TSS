{
 "cells": [
  {
   "cell_type": "code",
   "execution_count": 1,
   "metadata": {
    "collapsed": true
   },
   "outputs": [],
   "source": [
    "import os\n",
    "import sys\n",
    "import pandas as pd\n",
    "import matplotlib\n",
    "import seaborn as sns\n",
    "import pickle\n",
    "import numpy as np\n",
    "import matplotlib as mpl\n",
    "from matplotlib import pyplot as plt\n",
    "from itertools import product\n",
    "import glob\n",
    "import re\n",
    "from matplotlib_venn import venn2\n",
    "from matplotlib import rcParams\n",
    "import inspect\n",
    "%matplotlib inline\n",
    "%config InlineBackend.figure_format = 'retina'\n",
    "sys.setrecursionlimit(3000)\n",
    "sns.set_context('notebook')\n",
    "%load_ext autoreload\n",
    "%autoreload 2\n",
    "rcParams['figure.figsize'] = 8, 6\n",
    "#rcParams['font.family'] = 'sans-serif'\n",
    "#rcParams['font.sans-serif'] = ['Tahoma']\n",
    "import tqdm\n",
    "### notebook specific configuration ###\n",
    "from os.path import basename\n",
    "mpl.style.use('fivethirtyeight')"
   ]
  },
  {
   "cell_type": "code",
   "execution_count": 2,
   "metadata": {
    "scrolled": true
   },
   "outputs": [],
   "source": [
    "from Modules.Homer import *"
   ]
  },
  {
   "cell_type": "code",
   "execution_count": 3,
   "metadata": {
    "collapsed": true
   },
   "outputs": [],
   "source": [
    "sys.path.append('/home/isshamie/software/NGS-Pipeline')"
   ]
  },
  {
   "cell_type": "code",
   "execution_count": 4,
   "metadata": {
    "collapsed": true
   },
   "outputs": [],
   "source": [
    "ref_fa = '/data/genome/hamster/picr/picr.fa'\n",
    "annotation = '/data/genome/hamster/picr/updated_final_sort.gff3'\n",
    "\n",
    "mrna_peak = '/data/isshamie/TSS/mRNA.peak'"
   ]
  },
  {
   "cell_type": "code",
   "execution_count": 5,
   "metadata": {
    "collapsed": true
   },
   "outputs": [],
   "source": [
    "data_folder = '/data/isshamie/TSS/Processed/'"
   ]
  },
  {
   "cell_type": "code",
   "execution_count": 6,
   "metadata": {
    "collapsed": true
   },
   "outputs": [],
   "source": [
    "tissues = ['BloodSpleen','BMDM1hKLA','BMDMwt','Brain','Brain7neg1',\n",
    "          'FemaleReproductive','Heart','Intestine','Kidney','Liver','Lung',\n",
    "           'MiscOrgans','Muscle','Pancreas','Skin','Spleen','Total','CHO']"
   ]
  },
  {
   "cell_type": "code",
   "execution_count": 7,
   "metadata": {
    "scrolled": true
   },
   "outputs": [
    {
     "data": {
      "text/plain": [
       "18"
      ]
     },
     "execution_count": 7,
     "metadata": {},
     "output_type": "execute_result"
    }
   ],
   "source": [
    "len(tissues)"
   ]
  },
  {
   "cell_type": "code",
   "execution_count": 8,
   "metadata": {
    "scrolled": true
   },
   "outputs": [
    {
     "name": "stdout",
     "output_type": "stream",
     "text": [
      "BMDM1hKLA\r\n",
      "BMDMwt\r\n",
      "Brain\r\n",
      "CHBMDM1hKLA1_ATAC_JHS998_SD_TGGGTTTC_S9_L001_R1_001.fastq.gz\r\n",
      "CHBMDM1hKLA2_ATAC_JHS1000_SD_AGGTTGGG_S11_L001_R1_001.fastq.gz\r\n",
      "CHBMDMVehic1_ATAC_JHS997_SD_GTGTGGTG_S8_L001_R1_001.fastq.gz\r\n",
      "CHBMDMVehic2_ATAC_JHS999_SD_TGGTCACA_S10_L001_R1_001.fastq.gz\r\n",
      "CHBrain_ATAC_JHS992_SD_ACCACTGT_S4_L001_R1_001.fastq.gz\r\n",
      "CHKidney_ATAC_JHS991_SD_CGAGGCTG_S3_L001_R1_001.fastq.gz\r\n",
      "CHLiver_ATAC_JHS994_SD_CCGTTTGT_S6_L001_R1_001.fastq.gz\r\n",
      "CHLung_ATAC_JHS993_SD_TGGATCTG_S5_L001_R1_001.fastq.gz\r\n",
      "CHO\r\n",
      "CHSpleenBlood_ATAC_JHS995_SD_TGCTGGGT_S7_L001_R1_001.fastq.gz\r\n",
      "FemaleReproductive\r\n",
      "Heart\r\n",
      "Intestine\r\n",
      "Kidney\r\n",
      "Liver\r\n",
      "log.txt\r\n",
      "Lung\r\n",
      "MiscOrgans\r\n",
      "Muscle\r\n",
      "out\r\n",
      "Pancreas\r\n",
      "pipeline.sh\r\n",
      "run_pipeline.sh\r\n",
      "separate_multiqc\r\n",
      "Skin\r\n",
      "Spleen\r\n",
      "Total\r\n"
     ]
    }
   ],
   "source": [
    "os.chdir('/data/isshamie/TSS/Processed/')\n",
    "!ls"
   ]
  },
  {
   "cell_type": "markdown",
   "metadata": {},
   "source": [
    "### Move files into respective folder"
   ]
  },
  {
   "cell_type": "markdown",
   "metadata": {
    "collapsed": true
   },
   "source": [
    "'1033',BMDM_wt_5GRO\n",
    "'JHS 1034',CH_BMDM_1hKLA_5GRO\n",
    "'JHS 1035',CH_Kidney_5GRO\n",
    "'JHS 1036',CH_Brain_5GRO\n",
    "'JHS 1037',CH_Lung_5GRO\n",
    "'JHS 1038',CH_Liver_5GRO\n",
    "'JHS 1039',CH_Bloond-Spleen_5GRO"
   ]
  },
  {
   "cell_type": "code",
   "execution_count": 14,
   "metadata": {
    "scrolled": true
   },
   "outputs": [
    {
     "name": "stdout",
     "output_type": "stream",
     "text": [
      "mv *BMDM1hKLA*GRO* BMDM1hKLA/GRO/\n",
      "mv *BMDM1hKLA*GRO* BMDM1hKLA/GRO/\n",
      "mv: cannot stat '*BMDM1hKLA*GRO*': No such file or directory\n",
      "mv *BMDMwt*GRO* BMDMwt/GRO/\n",
      "mv *BMDMwt*GRO* BMDMwt/GRO/\n",
      "mv: cannot stat '*BMDMwt*GRO*': No such file or directory\n",
      "mv *Brain*mSTART* Brain/mSTART/\n",
      "mv *Brain*mSTART* Brain/mSTART/\n",
      "mv: cannot stat '*Brain*mSTART*': No such file or directory\n",
      "mv *Brain*mSTART* Brain/mSTART/\n",
      "mv: cannot stat '*Brain*mSTART*': No such file or directory\n",
      "mv *Brain*mSTART* Brain/mSTART/\n",
      "mv: cannot stat '*Brain*mSTART*': No such file or directory\n",
      "mv *Brain*mSTART* Brain/mSTART/\n",
      "mv: cannot stat '*Brain*mSTART*': No such file or directory\n",
      "mv *Brain*GRO* Brain/GRO/\n",
      "mv *Brain*GRO* Brain/GRO/\n",
      "mv: cannot stat '*Brain*GRO*': No such file or directory\n",
      "mv *FemaleReproductive*mSTART* FemaleReproductive/mSTART/\n",
      "mv *FemaleReproductive*mSTART* FemaleReproductive/mSTART/\n",
      "mv: cannot stat '*FemaleReproductive*mSTART*': No such file or directory\n",
      "mv *FemaleReproductive*mSTART* FemaleReproductive/mSTART/\n",
      "mv: cannot stat '*FemaleReproductive*mSTART*': No such file or directory\n",
      "mv *Heart*mSTART* Heart/mSTART/\n",
      "mv *Heart*mSTART* Heart/mSTART/\n",
      "mv: cannot stat '*Heart*mSTART*': No such file or directory\n",
      "mv *Heart*mSTART* Heart/mSTART/\n",
      "mv: cannot stat '*Heart*mSTART*': No such file or directory\n",
      "mv *Intestine*mSTART* Intestine/mSTART/\n",
      "mv *Kidney*mSTART* Kidney/mSTART/\n",
      "mv *Kidney*mSTART* Kidney/mSTART/\n",
      "mv: cannot stat '*Kidney*mSTART*': No such file or directory\n",
      "mv *Kidney*mSTART* Kidney/mSTART/\n",
      "mv: cannot stat '*Kidney*mSTART*': No such file or directory\n",
      "mv *Kidney*GRO* Kidney/GRO/\n",
      "mv *Kidney*GRO* Kidney/GRO/\n",
      "mv: cannot stat '*Kidney*GRO*': No such file or directory\n",
      "mv *Liver*mSTART* Liver/mSTART/\n",
      "mv *Liver*mSTART* Liver/mSTART/\n",
      "mv: cannot stat '*Liver*mSTART*': No such file or directory\n",
      "mv *Liver*mSTART* Liver/mSTART/\n",
      "mv: cannot stat '*Liver*mSTART*': No such file or directory\n",
      "mv *Liver*GRO* Liver/GRO/\n",
      "mv *Liver*GRO* Liver/GRO/\n",
      "mv: cannot stat '*Liver*GRO*': No such file or directory\n",
      "mv *Lung*mSTART* Lung/mSTART/\n",
      "mv *Lung*mSTART* Lung/mSTART/\n",
      "mv: cannot stat '*Lung*mSTART*': No such file or directory\n",
      "mv *Lung*mSTART* Lung/mSTART/\n",
      "mv: cannot stat '*Lung*mSTART*': No such file or directory\n",
      "mv *Lung*GRO* Lung/GRO/\n",
      "mv *Lung*GRO* Lung/GRO/\n",
      "mv: cannot stat '*Lung*GRO*': No such file or directory\n",
      "mv *MiscOrgans*mSTART* MiscOrgans/mSTART/\n",
      "mv *MiscOrgans*mSTART* MiscOrgans/mSTART/\n",
      "mv: cannot stat '*MiscOrgans*mSTART*': No such file or directory\n",
      "mv *MiscOrgans*mSTART* MiscOrgans/mSTART/\n",
      "mv: cannot stat '*MiscOrgans*mSTART*': No such file or directory\n",
      "mv *Muscle*mSTART* Muscle/mSTART/\n",
      "mv *Muscle*mSTART* Muscle/mSTART/\n",
      "mv: cannot stat '*Muscle*mSTART*': No such file or directory\n",
      "mv *Muscle*mSTART* Muscle/mSTART/\n",
      "mv: cannot stat '*Muscle*mSTART*': No such file or directory\n",
      "mv *Pancreas*mSTART* Pancreas/mSTART/\n",
      "mv *Pancreas*mSTART* Pancreas/mSTART/\n",
      "mv: cannot stat '*Pancreas*mSTART*': No such file or directory\n",
      "mv *Pancreas*mSTART* Pancreas/mSTART/\n",
      "mv: cannot stat '*Pancreas*mSTART*': No such file or directory\n",
      "mv *Skin*mSTART* Skin/mSTART/\n",
      "mv *Spleen*mSTART* Spleen/mSTART/\n",
      "mv *Spleen*mSTART* Spleen/mSTART/\n",
      "mv: cannot stat '*Spleen*mSTART*': No such file or directory\n",
      "mv *Spleen*GRO* Spleen/GRO/\n",
      "mv *Spleen*GRO* Spleen/GRO/\n",
      "mv: cannot stat '*Spleen*GRO*': No such file or directory\n",
      "mv *Total*mSTART* Total/mSTART/\n"
     ]
    }
   ],
   "source": [
    "types = ['mSTART','GRO']\n",
    "for t in tissues:\n",
    "    if not os.path.exists(t):\n",
    "        os.mkdir(t)\n",
    "    #print(t)\n",
    "    for exp in types:\n",
    "        if not os.path.exists(t + '/' + exp):\n",
    "            os.mkdir(t + '/' + exp)\n",
    "        for f in glob.glob(\"CH*\" + t + '*' + exp + '*'):\n",
    "            cmd = 'mv *%s*%s* %s/%s/' % (t,exp,t,exp)\n",
    "            print(cmd)\n",
    "            !mv *{t}*{exp}* {t}/{exp}/\n"
   ]
  },
  {
   "cell_type": "code",
   "execution_count": 9,
   "metadata": {
    "scrolled": true
   },
   "outputs": [
    {
     "name": "stdout",
     "output_type": "stream",
     "text": [
      "mv *BMDM1hKLA*ATAC* BMDM1hKLA/ATAC/\n",
      "mv *BMDM1hKLA*ATAC* BMDM1hKLA/ATAC/\n",
      "mv: cannot stat '*BMDM1hKLA*ATAC*': No such file or directory\n",
      "mv *Brain*ATAC* Brain/ATAC/\n",
      "mv *Kidney*ATAC* Kidney/ATAC/\n",
      "mv *Liver*ATAC* Liver/ATAC/\n",
      "mv *Lung*ATAC* Lung/ATAC/\n",
      "mv *Spleen*ATAC* Spleen/ATAC/\n"
     ]
    }
   ],
   "source": [
    "types = ['ATAC']\n",
    "for t in tissues:\n",
    "    if not os.path.exists(t):\n",
    "        os.mkdir(t)\n",
    "    #print(t)\n",
    "    for exp in types:\n",
    "        if not os.path.exists(t + '/' + exp):\n",
    "            os.mkdir(t + '/' + exp)\n",
    "        for f in glob.glob(\"CH*\" + t + '*' + exp + '*'):\n",
    "            cmd = 'mv *%s*%s* %s/%s/' % (t,exp,t,exp)\n",
    "            print(cmd)\n",
    "            !mv *{t}*{exp}* {t}/{exp}/\n"
   ]
  },
  {
   "cell_type": "markdown",
   "metadata": {},
   "source": [
    "### Added BMMVehic to WT in terminal"
   ]
  },
  {
   "cell_type": "markdown",
   "metadata": {},
   "source": [
    "## Labeling in 5GRO was removed, need to change the labels of 5GRO"
   ]
  },
  {
   "cell_type": "code",
   "execution_count": 27,
   "metadata": {
    "scrolled": true
   },
   "outputs": [
    {
     "name": "stdout",
     "output_type": "stream",
     "text": [
      "BMDM1hKLA/GRO\n",
      "('f_new', 'BMDM1hKLA/GRO/CHBMDM1hKLA_5GRO_JHS1034_SD_AGTCAA_S49_L003_R1_001.fastq.gz')\n",
      "BMDMwt/GRO\n",
      "('f_new', 'BMDMwt/GRO/CHBMDMwt_5GRO_JHS1033_SD_TAGCTT_S48_L003_R1_001.fastq.gz')\n",
      "Brain/GRO\n",
      "('f_new', 'Brain/GRO/CHBrain_5GRO_JHS1036_SD_ATGTCA_S51_L003_R1_001.fastq.gz')\n",
      "Kidney/GRO\n",
      "('f_new', 'Kidney/GRO/CHKidney_5GRO_JHS1035_SD_AGTTCC_S50_L003_R1_001.fastq.gz')\n",
      "Liver/GRO\n",
      "('f_new', 'Liver/GRO/CHLiver_5GRO_JHS1038_SD_GTAGAG_S53_L003_R1_001.fastq.gz')\n",
      "Liver/GRO\n",
      "('f_new', 'Liver/GRO/trim_CHLiver_5GRO_JHS1038_SD_GTAGAG_S53_L003_R1_001.fastq.gz')\n",
      "Lung/GRO\n",
      "('f_new', 'Lung/GRO/CHLung_5GRO_JHS1037_SD_CCGTCC_S52_L003_R1_001.fastq.gz')\n",
      "Spleen/GRO\n",
      "('f_new', 'Spleen/GRO/CHBloondnegSpleen_5GRO_JHS1039_SD_GTCCGC_S54_L003_R1_001.fastq.gz')\n"
     ]
    }
   ],
   "source": [
    "to_switch = ['1033','1034','1035','1036','1037','1038','1039']\n",
    "for t in tissues:\n",
    "    for f in glob.glob(t + '/' + 'GRO/*'):\n",
    "        for i in to_switch:\n",
    "            if i in f:\n",
    "                f_new = os.path.basename(f).replace(\"GRO\",\"5GRO\")\n",
    "                print(os.path.dirname(f))\n",
    "                f_new = os.path.dirname(f)+ '/'+ f_new\n",
    "                print('f_new',f_new)\n",
    "                !mv {f} {f_new}"
   ]
  }
 ],
 "metadata": {
  "kernelspec": {
   "display_name": "Python 2",
   "language": "python",
   "name": "python2"
  },
  "language_info": {
   "codemirror_mode": {
    "name": "ipython",
    "version": 2
   },
   "file_extension": ".py",
   "mimetype": "text/x-python",
   "name": "python",
   "nbconvert_exporter": "python",
   "pygments_lexer": "ipython2",
   "version": "2.7.13"
  }
 },
 "nbformat": 4,
 "nbformat_minor": 2
}
