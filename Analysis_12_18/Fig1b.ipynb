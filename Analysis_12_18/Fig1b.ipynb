{
 "cells": [
  {
   "cell_type": "code",
   "execution_count": 1,
   "metadata": {
    "ExecuteTime": {
     "end_time": "2019-04-08T22:38:39.187953Z",
     "start_time": "2019-04-08T22:38:39.104545Z"
    },
    "collapsed": true
   },
   "outputs": [],
   "source": [
    "## Parameters specific to where your folders are and your data\n",
    "parameter_file = 'params/params.yaml'\n",
    "import yaml\n",
    "import sys\n",
    "\n",
    "with open(parameter_file,'r') as f:\n",
    "    doc = yaml.load(f)\n",
    "\n",
    "#p = dic2obj(**doc)\n",
    "\n",
    "data_folder = doc['data_folder']\n",
    "tissues = doc['tissues'].split(',')\n",
    "sys.path.append(doc['pipeline_path'])\n",
    "ref_fa = doc['ref_fa']\n",
    "annotation=doc['annotation']\n"
   ]
  },
  {
   "cell_type": "code",
   "execution_count": 2,
   "metadata": {
    "ExecuteTime": {
     "end_time": "2019-04-08T22:38:39.192613Z",
     "start_time": "2019-04-08T22:38:39.189965Z"
    },
    "collapsed": true
   },
   "outputs": [],
   "source": [
    "tss_annotation = doc['tss_annotation']"
   ]
  },
  {
   "cell_type": "code",
   "execution_count": 3,
   "metadata": {
    "ExecuteTime": {
     "end_time": "2019-04-08T22:38:40.966570Z",
     "start_time": "2019-04-08T22:38:39.194688Z"
    },
    "scrolled": true
   },
   "outputs": [
    {
     "name": "stdout",
     "output_type": "stream",
     "text": [
      "('Number of tissues: ', 15)\n"
     ]
    }
   ],
   "source": [
    "\n",
    "import os\n",
    "import sys\n",
    "import pandas as pd\n",
    "import matplotlib\n",
    "import seaborn as sns\n",
    "import pickle\n",
    "import numpy as np\n",
    "import matplotlib as mpl\n",
    "from matplotlib import pyplot as plt\n",
    "from itertools import product\n",
    "import glob\n",
    "import re\n",
    "from matplotlib_venn import venn2\n",
    "from matplotlib import rcParams\n",
    "import inspect\n",
    "%matplotlib inline\n",
    "%config InlineBackend.figure_format = 'retina'\n",
    "sys.setrecursionlimit(3000)\n",
    "%load_ext autoreload\n",
    "%autoreload 2\n",
    "rcParams['figure.figsize'] = 8, 6\n",
    "import tqdm\n",
    "### notebook specific configuration ###\n",
    "from os.path import basename\n",
    "#mpl.style.use('ggplot')\n",
    "mpl.style.use('fivethirtyeight')\n",
    "from cycler import cycler\n",
    "mpl.rcParams['axes.prop_cycle'] = cycler(color='bgrcmyk')\n",
    "\n",
    "from Homer import *\n",
    "\n",
    "print('Number of tissues: ',len(tissues))"
   ]
  },
  {
   "cell_type": "code",
   "execution_count": 4,
   "metadata": {
    "ExecuteTime": {
     "end_time": "2019-04-08T22:38:40.991560Z",
     "start_time": "2019-04-08T22:38:40.968722Z"
    },
    "collapsed": true
   },
   "outputs": [],
   "source": [
    "genes_to_look = ['MGAT3','ID1']"
   ]
  },
  {
   "cell_type": "code",
   "execution_count": 5,
   "metadata": {
    "ExecuteTime": {
     "end_time": "2019-04-08T22:38:41.014464Z",
     "start_time": "2019-04-08T22:38:40.993663Z"
    },
    "collapsed": true
   },
   "outputs": [],
   "source": [
    "bed_files = []\n",
    "signal_files = []"
   ]
  },
  {
   "cell_type": "code",
   "execution_count": 6,
   "metadata": {
    "ExecuteTime": {
     "end_time": "2019-04-08T22:38:41.039004Z",
     "start_time": "2019-04-08T22:38:41.016860Z"
    },
    "collapsed": true,
    "scrolled": true
   },
   "outputs": [],
   "source": [
    "serv = '/mnt/jabba'\n",
    "\n",
    "out_dir = \".\"\n",
    "out_dir_save = os.path.join(out_dir,\"Results/Figures/Figure1\")\n",
    "if not os.path.exists(out_dir_save):\n",
    "    os.mkdir(out_dir_save)"
   ]
  },
  {
   "cell_type": "code",
   "execution_count": 7,
   "metadata": {
    "ExecuteTime": {
     "end_time": "2019-04-08T22:38:41.346934Z",
     "start_time": "2019-04-08T22:38:41.041303Z"
    }
   },
   "outputs": [
    {
     "data": {
      "text/html": [
       "<div>\n",
       "<style scoped>\n",
       "    .dataframe tbody tr th:only-of-type {\n",
       "        vertical-align: middle;\n",
       "    }\n",
       "\n",
       "    .dataframe tbody tr th {\n",
       "        vertical-align: top;\n",
       "    }\n",
       "\n",
       "    .dataframe thead th {\n",
       "        text-align: right;\n",
       "    }\n",
       "</style>\n",
       "<table border=\"1\" class=\"dataframe\">\n",
       "  <thead>\n",
       "    <tr style=\"text-align: right;\">\n",
       "      <th></th>\n",
       "      <th>Chr</th>\n",
       "      <th>Start</th>\n",
       "      <th>End</th>\n",
       "      <th>ID</th>\n",
       "      <th>Stat</th>\n",
       "      <th>Strand</th>\n",
       "    </tr>\n",
       "  </thead>\n",
       "  <tbody>\n",
       "    <tr>\n",
       "      <th>0</th>\n",
       "      <td>picr_0</td>\n",
       "      <td>175</td>\n",
       "      <td>177</td>\n",
       "      <td>p0@SERHL_asmbl_2</td>\n",
       "      <td>0.00000</td>\n",
       "      <td>+</td>\n",
       "    </tr>\n",
       "    <tr>\n",
       "      <th>1</th>\n",
       "      <td>picr_0</td>\n",
       "      <td>18148</td>\n",
       "      <td>18150</td>\n",
       "      <td>p0@SERHL_asmbl_11</td>\n",
       "      <td>0.00000</td>\n",
       "      <td>+</td>\n",
       "    </tr>\n",
       "    <tr>\n",
       "      <th>2</th>\n",
       "      <td>picr_0</td>\n",
       "      <td>20786</td>\n",
       "      <td>20788</td>\n",
       "      <td>p0@SERHL_asmbl_12</td>\n",
       "      <td>0.00000</td>\n",
       "      <td>+</td>\n",
       "    </tr>\n",
       "    <tr>\n",
       "      <th>3</th>\n",
       "      <td>picr_0</td>\n",
       "      <td>20916</td>\n",
       "      <td>21067</td>\n",
       "      <td>p1@SERHL_asmbl_14</td>\n",
       "      <td>2.05576</td>\n",
       "      <td>+</td>\n",
       "    </tr>\n",
       "    <tr>\n",
       "      <th>4</th>\n",
       "      <td>picr_0</td>\n",
       "      <td>22503</td>\n",
       "      <td>22505</td>\n",
       "      <td>p0@SERHL_asmbl_15</td>\n",
       "      <td>0.00000</td>\n",
       "      <td>+</td>\n",
       "    </tr>\n",
       "  </tbody>\n",
       "</table>\n",
       "</div>"
      ],
      "text/plain": [
       "      Chr  Start    End                 ID     Stat Strand\n",
       "0  picr_0    175    177   p0@SERHL_asmbl_2  0.00000      +\n",
       "1  picr_0  18148  18150  p0@SERHL_asmbl_11  0.00000      +\n",
       "2  picr_0  20786  20788  p0@SERHL_asmbl_12  0.00000      +\n",
       "3  picr_0  20916  21067  p1@SERHL_asmbl_14  2.05576      +\n",
       "4  picr_0  22503  22505  p0@SERHL_asmbl_15  0.00000      +"
      ]
     },
     "execution_count": 7,
     "metadata": {},
     "output_type": "execute_result"
    }
   ],
   "source": [
    "tss = pd.read_csv(\"Results/output/TSS1.bed\",sep=\"\\t\",header=None)\n",
    "tss.rename({0:\"Chr\",1:\"Start\",2:\"End\",3:\"ID\",4:\"Stat\",5:\"Strand\"},axis=1,inplace=True)\n",
    "tss.head()"
   ]
  },
  {
   "cell_type": "code",
   "execution_count": 8,
   "metadata": {
    "ExecuteTime": {
     "end_time": "2019-04-08T22:38:41.370994Z",
     "start_time": "2019-04-08T22:38:41.348959Z"
    },
    "collapsed": true
   },
   "outputs": [],
   "source": [
    "vary_width = [0,100,1000,10000]"
   ]
  },
  {
   "cell_type": "markdown",
   "metadata": {},
   "source": [
    "## For Publication:\n",
    "-ATAC\n",
    "-GROCap\n",
    "-GRO\n",
    "-START\n",
    "-STARTinput\n",
    "-TSS\n",
    "-RefSeq\n",
    "-dTSS"
   ]
  },
  {
   "cell_type": "code",
   "execution_count": 9,
   "metadata": {
    "ExecuteTime": {
     "end_time": "2019-04-08T22:41:32.211033Z",
     "start_time": "2019-04-08T22:41:32.063944Z"
    },
    "code_folding": [],
    "scrolled": true
   },
   "outputs": [
    {
     "data": {
      "text/plain": [
       "'new\\ngenome /mnt/jabba/data/isshamie/genome/picr_final/picr.fa\\nload /mnt/jabba/data/isshamie/genome/picr_final/final.gff3\\n\\nload /mnt/jabba./Results/output/TSS1.bed\\nload /mnt/jabba./Results/merged/tags_TSS_merged.bedgraph.gz\\n\\n# CHO\\nload /mnt/jabba/data/isshamie/TSS/1015_Processed//CHO/ATAC/out/signal/macs2/pooled_rep/CHO_ATAC1.trim.nodup.tn5_CHO_ATAC3.trim.nodup.tn5.pf.pval.signal.bigwig\\nload /mnt/jabba/data/isshamie/TSS/1015_Processed//CHO/GROCap/bedgraph_files/trim_CHO_GRO1.bedgraph.gz \\nload /mnt/jabba/data/isshamie/TSS/1015_Processed//CHO/GROCap/bedgraph_files/trim_CHO_GROCap1.bedgraph.gz \\n\\nload /mnt/jabba/data/isshamie/TSS/1015_Processed//CHO/START/bedgraph_files/trim_CHO_START1.bedgraph.gz \\nload /mnt/jabba/data/isshamie/TSS/1015_Processed//CHO/START/bedgraph_files/trim_CHO_STARTinput1.bedgraph.gz \\n\\nsnapshotDirectory /mnt/jabba./Results/Figures/Figure1\\nsnapshotDirectory /mnt/jabba./Results/Figures/Figure1/\\ngoto picr_74:7464423-7464574\\nsort\\nsnapshot p1@MGAT3_asmbl_75037_0.png\\nsnapshot p1@MGAT3_asmbl_75037_0.svg\\ngoto picr_74:7464323-7464674\\nsort\\nsnapshot p1@MGAT3_asmbl_75037_100.png\\nsnapshot p1@MGAT3_asmbl_75037_100.svg\\ngoto picr_74:7463423-7465574\\nsort\\nsnapshot p1@MGAT3_asmbl_75037_1000.png\\nsnapshot p1@MGAT3_asmbl_75037_1000.svg\\ngoto picr_74:7454423-7474574\\nsort\\nsnapshot p1@MGAT3_asmbl_75037_10000.png\\nsnapshot p1@MGAT3_asmbl_75037_10000.svg\\ngoto picr_74:7464713-7464864\\nsort\\nsnapshot p2@MGAT3_asmbl_75037_0.png\\nsnapshot p2@MGAT3_asmbl_75037_0.svg\\ngoto picr_74:7464613-7464964\\nsort\\nsnapshot p2@MGAT3_asmbl_75037_100.png\\nsnapshot p2@MGAT3_asmbl_75037_100.svg\\ngoto picr_74:7463713-7465864\\nsort\\nsnapshot p2@MGAT3_asmbl_75037_1000.png\\nsnapshot p2@MGAT3_asmbl_75037_1000.svg\\ngoto picr_74:7454713-7474864\\nsort\\nsnapshot p2@MGAT3_asmbl_75037_10000.png\\nsnapshot p2@MGAT3_asmbl_75037_10000.svg\\ngoto picr_74:7466351-7466502\\nsort\\nsnapshot p1@MGAT3_asmbl_75038_0.png\\nsnapshot p1@MGAT3_asmbl_75038_0.svg\\ngoto picr_74:7466251-7466602\\nsort\\nsnapshot p1@MGAT3_asmbl_75038_100.png\\nsnapshot p1@MGAT3_asmbl_75038_100.svg\\ngoto picr_74:7465351-7467502\\nsort\\nsnapshot p1@MGAT3_asmbl_75038_1000.png\\nsnapshot p1@MGAT3_asmbl_75038_1000.svg\\ngoto picr_74:7456351-7476502\\nsort\\nsnapshot p1@MGAT3_asmbl_75038_10000.png\\nsnapshot p1@MGAT3_asmbl_75038_10000.svg\\ngoto picr_74:7468509-7468660\\nsort\\nsnapshot p1@MGAT3_asmbl_75039_0.png\\nsnapshot p1@MGAT3_asmbl_75039_0.svg\\ngoto picr_74:7468409-7468760\\nsort\\nsnapshot p1@MGAT3_asmbl_75039_100.png\\nsnapshot p1@MGAT3_asmbl_75039_100.svg\\ngoto picr_74:7467509-7469660\\nsort\\nsnapshot p1@MGAT3_asmbl_75039_1000.png\\nsnapshot p1@MGAT3_asmbl_75039_1000.svg\\ngoto picr_74:7458509-7478660\\nsort\\nsnapshot p1@MGAT3_asmbl_75039_10000.png\\nsnapshot p1@MGAT3_asmbl_75039_10000.svg\\ngoto picr_74:7475953-7476104\\nsort\\nsnapshot p1@MGAT3_asmbl_75040_0.png\\nsnapshot p1@MGAT3_asmbl_75040_0.svg\\ngoto picr_74:7475853-7476204\\nsort\\nsnapshot p1@MGAT3_asmbl_75040_100.png\\nsnapshot p1@MGAT3_asmbl_75040_100.svg\\ngoto picr_74:7474953-7477104\\nsort\\nsnapshot p1@MGAT3_asmbl_75040_1000.png\\nsnapshot p1@MGAT3_asmbl_75040_1000.svg\\ngoto picr_74:7465953-7486104\\nsort\\nsnapshot p1@MGAT3_asmbl_75040_10000.png\\nsnapshot p1@MGAT3_asmbl_75040_10000.svg\\ngoto picr_74:7489391-7489393\\nsort\\nsnapshot p0@MGAT3_asmbl_75041_0.png\\nsnapshot p0@MGAT3_asmbl_75041_0.svg\\ngoto picr_74:7489291-7489493\\nsort\\nsnapshot p0@MGAT3_asmbl_75041_100.png\\nsnapshot p0@MGAT3_asmbl_75041_100.svg\\ngoto picr_74:7488391-7490393\\nsort\\nsnapshot p0@MGAT3_asmbl_75041_1000.png\\nsnapshot p0@MGAT3_asmbl_75041_1000.svg\\ngoto picr_74:7479391-7499393\\nsort\\nsnapshot p0@MGAT3_asmbl_75041_10000.png\\nsnapshot p0@MGAT3_asmbl_75041_10000.svg\\n'"
      ]
     },
     "execution_count": 9,
     "metadata": {},
     "output_type": "execute_result"
    }
   ],
   "source": [
    "curr_folder = '.'\n",
    "igv_script = \"\"\"new\n",
    "genome {serv}{ref_fa}\n",
    "load {serv}{annotation}\n",
    "\n",
    "load {serv}{out_dir}/Results/output/TSS1.bed\n",
    "load {serv}{out_dir}/Results/merged/tags_TSS_merged.bedgraph.gz\n",
    "\n",
    "# CHO\n",
    "load {serv}{data_folder}/CHO/ATAC/out/signal/macs2/pooled_rep/CHO_ATAC1.trim.nodup.tn5_CHO_ATAC3.trim.nodup.tn5.pf.pval.signal.bigwig\n",
    "load {serv}{data_folder}/CHO/GROCap/bedgraph_files/trim_CHO_GRO1.bedgraph.gz \n",
    "load {serv}{data_folder}/CHO/GROCap/bedgraph_files/trim_CHO_GROCap1.bedgraph.gz \n",
    "\n",
    "load {serv}{data_folder}/CHO/START/bedgraph_files/trim_CHO_START1.bedgraph.gz \n",
    "load {serv}{data_folder}/CHO/START/bedgraph_files/trim_CHO_STARTinput1.bedgraph.gz \n",
    "\n",
    "snapshotDirectory {serv}{out_dir}/Results/Figures/Figure1\"\"\".format(\n",
    "    serv=serv,\n",
    "    data_folder=data_folder,\n",
    "    out_dir=out_dir,\n",
    "    ref_fa=ref_fa,\n",
    "    annotation=annotation)\n",
    "\n",
    "snaps = \"snapshotDirectory {serv}{out_dir}/Results/Figures/Figure1/\\n\".format(\n",
    "    serv=serv, out_dir=out_dir)\n",
    "\n",
    "for ind, val in tss[tss[\"ID\"].str.upper().str.contains(\"MGAT3\")].iterrows():\n",
    "    for w in vary_width:\n",
    "        snaps = snaps + 'goto {chrom}:{start}-{end}\\nsort\\nsnapshot {name}_{w}.png\\nsnapshot {name}_{w}.svg\\n'.format(\n",
    "            chrom=tss.loc[ind, \"Chr\"],\n",
    "            start=tss.loc[ind, \"Start\"] - w,\n",
    "            end=tss.loc[ind, \"End\"] + w,\n",
    "            name=tss.loc[ind, \"ID\"],\n",
    "            w=w)\n",
    "\n",
    "# for i in glob.glob(\"f04_peaks_bed/*bed\"):\n",
    "#     igv_script = igv_script +  \"\\nload \" + serv + os.path.join(curr_folder, i)\n",
    "if not os.path.exists(os.path.join(out_dir_save,\"bed_files/\")):\n",
    "    os.mkdir(os.path.join(out_dir_save,\"bed_files/\"))\n",
    "    \n",
    "for t in tissues:\n",
    "    for s in [\"GROCap\", \"START\"]:\n",
    "        for i in glob.glob(\n",
    "                os.path.join(data_folder, t, s, \"bed_files/\", \"*merge*bed\")):\n",
    "            name = os.path.join(out_dir_save,\"bed_files/\" + t + \"_\" + s + \".bed\")\n",
    "            if not os.path.exists(name):\n",
    "                cmd = \"cp {i} {name}\".format(i=i,name=name)\n",
    "                !{cmd}\n",
    "            #igv_script = os.path.join(s)\n",
    "            igv_script = igv_script + \"\\nload \" + serv + name\n",
    "\n",
    "with open('Results/Figures/Figure1/igv_batch_TSS_Pub_LOAD.bat', 'w') as f:\n",
    "    f.write(igv_script)\n",
    "\n",
    "batch = igv_script + \"\\n\" + snaps\n",
    "\n",
    "with open('Results/Figures/Figure1/igv_batch_TSS_MGAT3.bat', 'w') as f:\n",
    "    f.write(batch)\n",
    "\n",
    "with open('Results/Figures/Figure1/igv_batch_TSS_MGAT3_SNAP.bat', 'w') as f:\n",
    "    f.write(snaps)\n",
    "\n",
    "batch"
   ]
  },
  {
   "cell_type": "markdown",
   "metadata": {},
   "source": [
    "## 3 Genes of interest:\n",
    "Mgat3  \n",
    "ST6Gal1  \n",
    "Aldh18a1  \n"
   ]
  },
  {
   "cell_type": "code",
   "execution_count": 10,
   "metadata": {
    "ExecuteTime": {
     "end_time": "2019-04-08T22:41:37.569322Z",
     "start_time": "2019-04-08T22:41:37.181924Z"
    },
    "collapsed": true
   },
   "outputs": [],
   "source": [
    "snaps = \"snapshotDirectory {serv}{out_dir}/Results/Figures/Figure1/\\n\".format(\n",
    "    serv=serv, out_dir=out_dir)\n",
    "GOI = [\"MGAT3\",\"ST6GAL1\",\"ALDH18A1\",\"MGAT5\"]\n",
    "for g in GOI:\n",
    "    for ind, val in tss[tss[\"ID\"].str.upper().str.contains(g)].iterrows():\n",
    "        for w in vary_width:\n",
    "            snaps = snaps + 'goto {chrom}:{start}-{end}\\nsort\\nsnapshot {name}_{w}.png\\nsnapshot {name}_{w}.svg\\n'.format(\n",
    "                chrom=tss.loc[ind, \"Chr\"],\n",
    "                start=tss.loc[ind, \"Start\"] - w,\n",
    "                end=tss.loc[ind, \"End\"] + w,\n",
    "                name=tss.loc[ind, \"ID\"],\n",
    "                w=w)\n",
    "            \n",
    "with open('Results/Figures/Figure1/igv_batch_TSS_GOI_SNAP.bat', 'w') as f:\n",
    "    f.write(snaps)\n"
   ]
  },
  {
   "cell_type": "code",
   "execution_count": 11,
   "metadata": {
    "ExecuteTime": {
     "end_time": "2019-04-08T22:41:43.532089Z",
     "start_time": "2019-04-08T22:41:43.342734Z"
    },
    "collapsed": true
   },
   "outputs": [],
   "source": [
    "snaps = \"snapshotDirectory {serv}{out_dir}/Results/Figures/Figure1/\\n\".format(\n",
    "    serv=serv, out_dir=out_dir)\n",
    "GOI = [\"ALDH18A1\"]\n",
    "for g in GOI:\n",
    "    for ind, val in tss[tss[\"ID\"].str.upper().str.contains(g)].iterrows():\n",
    "        for w in vary_width:\n",
    "            snaps = snaps + 'goto {chrom}:{start}-{end}\\nsort\\nsnapshot {name}_{w}.png\\nsnapshot {name}_{w}.svg\\n'.format(\n",
    "                chrom=tss.loc[ind, \"Chr\"],\n",
    "                start=tss.loc[ind, \"Start\"] - w,\n",
    "                end=tss.loc[ind, \"End\"] + w,\n",
    "                name=tss.loc[ind, \"ID\"],\n",
    "                w=w)\n",
    "            \n",
    "with open('Results/Figures/Figure1/igv_batch_TSS_ALDH18A1_SNAP.bat', 'w') as f:\n",
    "    f.write(snaps)\n"
   ]
  },
  {
   "cell_type": "markdown",
   "metadata": {},
   "source": [
    "### GOIs:"
   ]
  },
  {
   "cell_type": "code",
   "execution_count": 12,
   "metadata": {
    "ExecuteTime": {
     "end_time": "2019-02-14T00:03:32.883987Z",
     "start_time": "2019-02-14T00:03:32.583476Z"
    },
    "collapsed": true,
    "scrolled": true
   },
   "outputs": [],
   "source": [
    "tss_meta = pd.read_csv(\"Results/output/TSS1.meta\",sep=\"\\t\",index_col=0)\n",
    "#tss_meta[tss_meta[\"Gene\"].str.upper().str.contains(\"MGAT3\")]\n"
   ]
  },
  {
   "cell_type": "code",
   "execution_count": 13,
   "metadata": {
    "ExecuteTime": {
     "end_time": "2019-02-14T00:03:33.015651Z",
     "start_time": "2019-02-14T00:03:32.886030Z"
    },
    "scrolled": true
   },
   "outputs": [
    {
     "name": "stdout",
     "output_type": "stream",
     "text": [
      "nan\n"
     ]
    },
    {
     "data": {
      "text/html": [
       "<div>\n",
       "<style scoped>\n",
       "    .dataframe tbody tr th:only-of-type {\n",
       "        vertical-align: middle;\n",
       "    }\n",
       "\n",
       "    .dataframe tbody tr th {\n",
       "        vertical-align: top;\n",
       "    }\n",
       "\n",
       "    .dataframe thead th {\n",
       "        text-align: right;\n",
       "    }\n",
       "</style>\n",
       "<table border=\"1\" class=\"dataframe\">\n",
       "  <thead>\n",
       "    <tr style=\"text-align: right;\">\n",
       "      <th></th>\n",
       "      <th>Chr</th>\n",
       "      <th>Start</th>\n",
       "      <th>End</th>\n",
       "      <th>ID</th>\n",
       "      <th>Stat</th>\n",
       "      <th>Strand</th>\n",
       "    </tr>\n",
       "  </thead>\n",
       "  <tbody>\n",
       "    <tr>\n",
       "      <th>16985</th>\n",
       "      <td>NW_020822470.1</td>\n",
       "      <td>7501433</td>\n",
       "      <td>7501435</td>\n",
       "      <td>p0@Mgat3_NM_001244074.1</td>\n",
       "      <td>0.0</td>\n",
       "      <td>+</td>\n",
       "    </tr>\n",
       "  </tbody>\n",
       "</table>\n",
       "</div>"
      ],
      "text/plain": [
       "                  Chr    Start      End                       ID  Stat Strand\n",
       "16985  NW_020822470.1  7501433  7501435  p0@Mgat3_NM_001244074.1   0.0      +"
      ]
     },
     "execution_count": 13,
     "metadata": {},
     "output_type": "execute_result"
    }
   ],
   "source": [
    "print(tss_meta[tss_meta[\"Gene\"].str.upper().str.contains(\"MGAT3\")][\"Tissues\"][0])\n",
    "tss[tss[\"ID\"].str.upper().str.contains(\"MGAT3\")]\n"
   ]
  },
  {
   "cell_type": "code",
   "execution_count": 14,
   "metadata": {
    "ExecuteTime": {
     "end_time": "2019-02-14T00:03:33.149956Z",
     "start_time": "2019-02-14T00:03:33.017578Z"
    },
    "scrolled": true
   },
   "outputs": [
    {
     "name": "stdout",
     "output_type": "stream",
     "text": [
      "Heart,Spleen,MiscOrgans,FemaleReproductive,BMDM1hKLA,Brain,Lung,Liver,BMDMwt,Muscle,Kidney,Pancreas\n"
     ]
    },
    {
     "data": {
      "text/html": [
       "<div>\n",
       "<style scoped>\n",
       "    .dataframe tbody tr th:only-of-type {\n",
       "        vertical-align: middle;\n",
       "    }\n",
       "\n",
       "    .dataframe tbody tr th {\n",
       "        vertical-align: top;\n",
       "    }\n",
       "\n",
       "    .dataframe thead th {\n",
       "        text-align: right;\n",
       "    }\n",
       "</style>\n",
       "<table border=\"1\" class=\"dataframe\">\n",
       "  <thead>\n",
       "    <tr style=\"text-align: right;\">\n",
       "      <th></th>\n",
       "      <th>Chr</th>\n",
       "      <th>Start</th>\n",
       "      <th>End</th>\n",
       "      <th>ID</th>\n",
       "      <th>Stat</th>\n",
       "      <th>Strand</th>\n",
       "    </tr>\n",
       "  </thead>\n",
       "  <tbody>\n",
       "    <tr>\n",
       "      <th>19999</th>\n",
       "      <td>NW_020822501.1</td>\n",
       "      <td>20998652</td>\n",
       "      <td>20998803</td>\n",
       "      <td>p1@Aldh18a1_XM_027407359.1</td>\n",
       "      <td>2.587823</td>\n",
       "      <td>+</td>\n",
       "    </tr>\n",
       "  </tbody>\n",
       "</table>\n",
       "</div>"
      ],
      "text/plain": [
       "                  Chr     Start       End                          ID  \\\n",
       "19999  NW_020822501.1  20998652  20998803  p1@Aldh18a1_XM_027407359.1   \n",
       "\n",
       "           Stat Strand  \n",
       "19999  2.587823      +  "
      ]
     },
     "execution_count": 14,
     "metadata": {},
     "output_type": "execute_result"
    }
   ],
   "source": [
    "print(tss_meta[tss_meta[\"Gene\"].str.upper().str.contains(\"ALDH18A1\")][\"Tissues\"][0])\n",
    "#tss_meta[tss_meta[\"Gene\"].str.upper().str.contains(\"ALDH18A1\")]\n",
    "tss[tss[\"ID\"].str.upper().str.contains(\"ALDH18A1\")]\n"
   ]
  },
  {
   "cell_type": "code",
   "execution_count": 15,
   "metadata": {
    "ExecuteTime": {
     "end_time": "2019-02-14T00:03:33.280863Z",
     "start_time": "2019-02-14T00:03:33.151823Z"
    },
    "scrolled": false
   },
   "outputs": [
    {
     "name": "stdout",
     "output_type": "stream",
     "text": [
      "nan\n"
     ]
    },
    {
     "data": {
      "text/html": [
       "<div>\n",
       "<style scoped>\n",
       "    .dataframe tbody tr th:only-of-type {\n",
       "        vertical-align: middle;\n",
       "    }\n",
       "\n",
       "    .dataframe tbody tr th {\n",
       "        vertical-align: top;\n",
       "    }\n",
       "\n",
       "    .dataframe thead th {\n",
       "        text-align: right;\n",
       "    }\n",
       "</style>\n",
       "<table border=\"1\" class=\"dataframe\">\n",
       "  <thead>\n",
       "    <tr style=\"text-align: right;\">\n",
       "      <th></th>\n",
       "      <th>Chr</th>\n",
       "      <th>Start</th>\n",
       "      <th>End</th>\n",
       "      <th>ID</th>\n",
       "      <th>Stat</th>\n",
       "      <th>Strand</th>\n",
       "    </tr>\n",
       "  </thead>\n",
       "  <tbody>\n",
       "    <tr>\n",
       "      <th>25465</th>\n",
       "      <td>NW_020822529.1</td>\n",
       "      <td>57377311</td>\n",
       "      <td>57377313</td>\n",
       "      <td>p0@St6gal1_NM_001246815.1</td>\n",
       "      <td>0.0</td>\n",
       "      <td>-</td>\n",
       "    </tr>\n",
       "  </tbody>\n",
       "</table>\n",
       "</div>"
      ],
      "text/plain": [
       "                  Chr     Start       End                         ID  Stat  \\\n",
       "25465  NW_020822529.1  57377311  57377313  p0@St6gal1_NM_001246815.1   0.0   \n",
       "\n",
       "      Strand  \n",
       "25465      -  "
      ]
     },
     "execution_count": 15,
     "metadata": {},
     "output_type": "execute_result"
    }
   ],
   "source": [
    "print(tss_meta[tss_meta[\"Gene\"].str.upper().str.contains(\"ST6GAL1\")][\"Tissues\"][0])\n",
    "tss[tss[\"ID\"].str.upper().str.contains(\"ST6GAL1\")]"
   ]
  },
  {
   "cell_type": "code",
   "execution_count": 16,
   "metadata": {
    "ExecuteTime": {
     "end_time": "2019-02-14T00:03:33.410877Z",
     "start_time": "2019-02-14T00:03:33.282831Z"
    },
    "scrolled": false
   },
   "outputs": [
    {
     "name": "stdout",
     "output_type": "stream",
     "text": [
      "nan\n"
     ]
    },
    {
     "data": {
      "text/html": [
       "<div>\n",
       "<style scoped>\n",
       "    .dataframe tbody tr th:only-of-type {\n",
       "        vertical-align: middle;\n",
       "    }\n",
       "\n",
       "    .dataframe tbody tr th {\n",
       "        vertical-align: top;\n",
       "    }\n",
       "\n",
       "    .dataframe thead th {\n",
       "        text-align: right;\n",
       "    }\n",
       "</style>\n",
       "<table border=\"1\" class=\"dataframe\">\n",
       "  <thead>\n",
       "    <tr style=\"text-align: right;\">\n",
       "      <th></th>\n",
       "      <th>Chr</th>\n",
       "      <th>Start</th>\n",
       "      <th>End</th>\n",
       "      <th>ID</th>\n",
       "      <th>Stat</th>\n",
       "      <th>Strand</th>\n",
       "    </tr>\n",
       "  </thead>\n",
       "  <tbody>\n",
       "    <tr>\n",
       "      <th>29854</th>\n",
       "      <td>NW_020822567.1</td>\n",
       "      <td>39762223</td>\n",
       "      <td>39762225</td>\n",
       "      <td>p0@Mgat5_XM_027417771.1</td>\n",
       "      <td>0.000000</td>\n",
       "      <td>-</td>\n",
       "    </tr>\n",
       "    <tr>\n",
       "      <th>29855</th>\n",
       "      <td>NW_020822567.1</td>\n",
       "      <td>39762362</td>\n",
       "      <td>39762513</td>\n",
       "      <td>p1@Mgat5_XM_027417770.1</td>\n",
       "      <td>0.769377</td>\n",
       "      <td>-</td>\n",
       "    </tr>\n",
       "    <tr>\n",
       "      <th>29856</th>\n",
       "      <td>NW_020822567.1</td>\n",
       "      <td>39813270</td>\n",
       "      <td>39813421</td>\n",
       "      <td>p1@Mgat5_XM_027417769.1</td>\n",
       "      <td>1.723456</td>\n",
       "      <td>-</td>\n",
       "    </tr>\n",
       "    <tr>\n",
       "      <th>37199</th>\n",
       "      <td>NW_020822611.1</td>\n",
       "      <td>4879714</td>\n",
       "      <td>4879865</td>\n",
       "      <td>p1@Mgat5b_XM_027425561.1</td>\n",
       "      <td>0.678518</td>\n",
       "      <td>-</td>\n",
       "    </tr>\n",
       "  </tbody>\n",
       "</table>\n",
       "</div>"
      ],
      "text/plain": [
       "                  Chr     Start       End                        ID      Stat  \\\n",
       "29854  NW_020822567.1  39762223  39762225   p0@Mgat5_XM_027417771.1  0.000000   \n",
       "29855  NW_020822567.1  39762362  39762513   p1@Mgat5_XM_027417770.1  0.769377   \n",
       "29856  NW_020822567.1  39813270  39813421   p1@Mgat5_XM_027417769.1  1.723456   \n",
       "37199  NW_020822611.1   4879714   4879865  p1@Mgat5b_XM_027425561.1  0.678518   \n",
       "\n",
       "      Strand  \n",
       "29854      -  \n",
       "29855      -  \n",
       "29856      -  \n",
       "37199      -  "
      ]
     },
     "execution_count": 16,
     "metadata": {},
     "output_type": "execute_result"
    }
   ],
   "source": [
    "print(tss_meta[tss_meta[\"Gene\"].str.upper().str.contains(\"MGAT5\")][\"Tissues\"][0])\n",
    "tss[tss[\"ID\"].str.upper().str.contains(\"MGAT5\")]\n"
   ]
  },
  {
   "cell_type": "code",
   "execution_count": 17,
   "metadata": {
    "ExecuteTime": {
     "end_time": "2019-02-14T00:03:33.448093Z",
     "start_time": "2019-02-14T00:03:33.412696Z"
    },
    "scrolled": false
   },
   "outputs": [
    {
     "data": {
      "text/html": [
       "<div>\n",
       "<style scoped>\n",
       "    .dataframe tbody tr th:only-of-type {\n",
       "        vertical-align: middle;\n",
       "    }\n",
       "\n",
       "    .dataframe tbody tr th {\n",
       "        vertical-align: top;\n",
       "    }\n",
       "\n",
       "    .dataframe thead th {\n",
       "        text-align: right;\n",
       "    }\n",
       "</style>\n",
       "<table border=\"1\" class=\"dataframe\">\n",
       "  <thead>\n",
       "    <tr style=\"text-align: right;\">\n",
       "      <th></th>\n",
       "      <th>Tissues</th>\n",
       "      <th>cs</th>\n",
       "      <th>CHO ATAC Region</th>\n",
       "      <th>ID</th>\n",
       "      <th>Gene</th>\n",
       "      <th>Gene ID</th>\n",
       "      <th>Transcript</th>\n",
       "      <th>Is Experimental</th>\n",
       "      <th>has ATAC</th>\n",
       "    </tr>\n",
       "  </thead>\n",
       "  <tbody>\n",
       "    <tr>\n",
       "      <th>p2@Bmp4_XM_027386529.1</th>\n",
       "      <td>Spleen,MiscOrgans,FemaleReproductive,Brain,Lun...</td>\n",
       "      <td>0b00</td>\n",
       "      <td>NaN</td>\n",
       "      <td>90264.0</td>\n",
       "      <td>Bmp4</td>\n",
       "      <td>NaN</td>\n",
       "      <td>XM_027386529.1</td>\n",
       "      <td>1</td>\n",
       "      <td>0</td>\n",
       "    </tr>\n",
       "    <tr>\n",
       "      <th>p3@Bmp4_XM_027386529.1</th>\n",
       "      <td>Spleen,MiscOrgans,FemaleReproductive,Brain,Lun...</td>\n",
       "      <td>0b00</td>\n",
       "      <td>NaN</td>\n",
       "      <td>181215.0</td>\n",
       "      <td>Bmp4</td>\n",
       "      <td>NaN</td>\n",
       "      <td>XM_027386529.1</td>\n",
       "      <td>1</td>\n",
       "      <td>1</td>\n",
       "    </tr>\n",
       "    <tr>\n",
       "      <th>p1@Bmp4_XM_027386529.1</th>\n",
       "      <td>Spleen,MiscOrgans,FemaleReproductive,Brain,Lun...</td>\n",
       "      <td>0b11</td>\n",
       "      <td>NaN</td>\n",
       "      <td>348823.0</td>\n",
       "      <td>Bmp4</td>\n",
       "      <td>NaN</td>\n",
       "      <td>XM_027386529.1</td>\n",
       "      <td>1</td>\n",
       "      <td>1</td>\n",
       "    </tr>\n",
       "    <tr>\n",
       "      <th>p1@Bmp4_XM_027386528.1</th>\n",
       "      <td>Heart,Spleen,MiscOrgans,FemaleReproductive,Bra...</td>\n",
       "      <td>0b11</td>\n",
       "      <td>NaN</td>\n",
       "      <td>308710.0</td>\n",
       "      <td>Bmp4</td>\n",
       "      <td>NaN</td>\n",
       "      <td>XM_027386528.1</td>\n",
       "      <td>1</td>\n",
       "      <td>1</td>\n",
       "    </tr>\n",
       "    <tr>\n",
       "      <th>p1@Cdkn3_XM_027386531.1</th>\n",
       "      <td>BMDMwt,Spleen,MiscOrgans,FemaleReproductive,CH...</td>\n",
       "      <td>0b11</td>\n",
       "      <td>NaN</td>\n",
       "      <td>237253.0</td>\n",
       "      <td>Cdkn3</td>\n",
       "      <td>NaN</td>\n",
       "      <td>XM_027386531.1</td>\n",
       "      <td>1</td>\n",
       "      <td>0</td>\n",
       "    </tr>\n",
       "  </tbody>\n",
       "</table>\n",
       "</div>"
      ],
      "text/plain": [
       "                                                                   Tissues  \\\n",
       "p2@Bmp4_XM_027386529.1   Spleen,MiscOrgans,FemaleReproductive,Brain,Lun...   \n",
       "p3@Bmp4_XM_027386529.1   Spleen,MiscOrgans,FemaleReproductive,Brain,Lun...   \n",
       "p1@Bmp4_XM_027386529.1   Spleen,MiscOrgans,FemaleReproductive,Brain,Lun...   \n",
       "p1@Bmp4_XM_027386528.1   Heart,Spleen,MiscOrgans,FemaleReproductive,Bra...   \n",
       "p1@Cdkn3_XM_027386531.1  BMDMwt,Spleen,MiscOrgans,FemaleReproductive,CH...   \n",
       "\n",
       "                           cs CHO ATAC Region        ID   Gene  Gene ID  \\\n",
       "p2@Bmp4_XM_027386529.1   0b00             NaN   90264.0   Bmp4      NaN   \n",
       "p3@Bmp4_XM_027386529.1   0b00             NaN  181215.0   Bmp4      NaN   \n",
       "p1@Bmp4_XM_027386529.1   0b11             NaN  348823.0   Bmp4      NaN   \n",
       "p1@Bmp4_XM_027386528.1   0b11             NaN  308710.0   Bmp4      NaN   \n",
       "p1@Cdkn3_XM_027386531.1  0b11             NaN  237253.0  Cdkn3      NaN   \n",
       "\n",
       "                             Transcript  Is Experimental  has ATAC  \n",
       "p2@Bmp4_XM_027386529.1   XM_027386529.1                1         0  \n",
       "p3@Bmp4_XM_027386529.1   XM_027386529.1                1         1  \n",
       "p1@Bmp4_XM_027386529.1   XM_027386529.1                1         1  \n",
       "p1@Bmp4_XM_027386528.1   XM_027386528.1                1         1  \n",
       "p1@Cdkn3_XM_027386531.1  XM_027386531.1                1         0  "
      ]
     },
     "execution_count": 17,
     "metadata": {},
     "output_type": "execute_result"
    }
   ],
   "source": [
    "tss_meta.head()"
   ]
  },
  {
   "cell_type": "markdown",
   "metadata": {},
   "source": [
    "##   \n",
    "CHO, Brain ATAC  \n",
    "CHO Start, Brain GRO/GROCap  \n",
    "Start with MGAT3 and FemaleReproductive GRO/GROCap  \n",
    "Then remove FemaleReproductive  \n",
    "Add   "
   ]
  },
  {
   "cell_type": "markdown",
   "metadata": {},
   "source": [
    "----------\n",
    "\n",
    "----------"
   ]
  }
 ],
 "metadata": {
  "kernelspec": {
   "display_name": "Python 2",
   "language": "python",
   "name": "python2"
  },
  "language_info": {
   "codemirror_mode": {
    "name": "ipython",
    "version": 2
   },
   "file_extension": ".py",
   "mimetype": "text/x-python",
   "name": "python",
   "nbconvert_exporter": "python",
   "pygments_lexer": "ipython2",
   "version": "2.7.15"
  }
 },
 "nbformat": 4,
 "nbformat_minor": 2
}
