{
 "cells": [
  {
   "cell_type": "markdown",
   "metadata": {},
   "source": [
    "## I split up peaks_to_annotation. 2nd half here"
   ]
  },
  {
   "cell_type": "code",
   "execution_count": 1,
   "metadata": {
    "ExecuteTime": {
     "end_time": "2018-12-19T05:19:37.381709Z",
     "start_time": "2018-12-19T05:19:37.197686Z"
    },
    "collapsed": true
   },
   "outputs": [],
   "source": [
    "parameter_file = 'params/params.yaml'\n",
    "import os\n",
    "import yaml\n",
    "import sys\n",
    "import glob\n",
    "with open(parameter_file,'r') as f:\n",
    "    doc = yaml.load(f)\n",
    "\n",
    "#p = dic2obj(**doc)\n",
    "\n",
    "data_folder = doc['data_folder']\n",
    "tissues = doc['tissues'].split(',')\n",
    "sys.path.append(doc['pipeline_path'])\n",
    "ref_fa = doc['ref_fa']\n",
    "annotation=doc['annotation']\n",
    "tss_file = doc['tss_annotation']"
   ]
  },
  {
   "cell_type": "code",
   "execution_count": 2,
   "metadata": {
    "ExecuteTime": {
     "end_time": "2018-12-19T05:19:37.447412Z",
     "start_time": "2018-12-19T05:19:37.385151Z"
    },
    "collapsed": true
   },
   "outputs": [],
   "source": [
    "%load_ext autoreload\n",
    "%autoreload 2\n"
   ]
  },
  {
   "cell_type": "code",
   "execution_count": 3,
   "metadata": {
    "ExecuteTime": {
     "end_time": "2018-12-19T05:19:39.088647Z",
     "start_time": "2018-12-19T05:19:37.450966Z"
    },
    "collapsed": true
   },
   "outputs": [],
   "source": [
    "import pandas as pd"
   ]
  },
  {
   "cell_type": "code",
   "execution_count": 4,
   "metadata": {
    "ExecuteTime": {
     "end_time": "2018-12-19T05:19:41.354946Z",
     "start_time": "2018-12-19T05:19:39.090845Z"
    }
   },
   "outputs": [
    {
     "name": "stdout",
     "output_type": "stream",
     "text": [
      "('Number of tissues: ', 15)\n"
     ]
    }
   ],
   "source": [
    "import annotation\n",
    "#from Homer import *\n",
    "print('Number of tissues: ',len(tissues))"
   ]
  },
  {
   "cell_type": "code",
   "execution_count": 5,
   "metadata": {
    "ExecuteTime": {
     "end_time": "2018-12-19T05:19:41.389677Z",
     "start_time": "2018-12-19T05:19:41.358585Z"
    },
    "collapsed": true
   },
   "outputs": [],
   "source": [
    "import numpy as np"
   ]
  },
  {
   "cell_type": "markdown",
   "metadata": {},
   "source": [
    "### Create annotation"
   ]
  },
  {
   "cell_type": "markdown",
   "metadata": {},
   "source": [
    "#### Annotation file:  updated_final_sort.gff3\n",
    "#### Genome: picr.gff3"
   ]
  },
  {
   "cell_type": "code",
   "execution_count": 6,
   "metadata": {
    "ExecuteTime": {
     "end_time": "2018-12-19T05:19:44.348251Z",
     "start_time": "2018-12-19T05:19:44.307245Z"
    }
   },
   "outputs": [],
   "source": [
    "if not os.path.exists(\"Results/tss_annotation/\"):\n",
    "    os.mkdir(\"Results/tss_annotation/\")"
   ]
  },
  {
   "cell_type": "markdown",
   "metadata": {},
   "source": [
    "## Gene"
   ]
  },
  {
   "cell_type": "markdown",
   "metadata": {},
   "source": [
    "### a.\n",
    "i. introns excluded  \n",
    "ii. peak_bins [-1000,+100]"
   ]
  },
  {
   "cell_type": "code",
   "execution_count": null,
   "metadata": {
    "ExecuteTime": {
     "start_time": "2018-12-19T05:20:03.642Z"
    },
    "scrolled": true
   },
   "outputs": [
    {
     "data": {
      "application/vnd.jupyter.widget-view+json": {
       "model_id": "73d9c6eee3fd4a95bbcfa93514ae20dd"
      }
     },
     "metadata": {},
     "output_type": "display_data"
    },
    {
     "name": "stdout",
     "output_type": "stream",
     "text": [
      "\n",
      "('Total Number: ', 17246)\n",
      "('Total Number with start sites: ', 12557)\n",
      "('Fraction with start sites: ', 0.7281108662878348)\n",
      "CPU times: user 4min 51s, sys: 6.49 s, total: 4min 58s\n",
      "Wall time: 4min 50s\n"
     ]
    }
   ],
   "source": [
    "%%time\n",
    "peaks_file = 'Results/merged/peaks_with_tss_distances.tsv'\n",
    "peaks_expression_file = 'Results/merged/samples.merge.peaksexpression'\n",
    "\n",
    "\n",
    "df = annotation.wrap_create_anno_centric(peaks_file, peaks_expression_file, tss_file,\n",
    "                             peak_bin=(-1000, 100), anno_col='Nearest gene',\n",
    "                             tss_df_col='gene',\n",
    "                             f_save='Results/tss_annotation/gene_df_01', allow_intron=False)\n",
    "\n"
   ]
  },
  {
   "cell_type": "markdown",
   "metadata": {
    "deletable": false,
    "editable": false,
    "run_control": {
     "frozen": true
    }
   },
   "source": [
    "### b.\n",
    "i. introns excluded  \n",
    "ii. peak_bins [-1000,+1000]"
   ]
  },
  {
   "cell_type": "code",
   "execution_count": null,
   "metadata": {
    "ExecuteTime": {
     "start_time": "2018-12-19T05:20:04.594Z"
    }
   },
   "outputs": [
    {
     "data": {
      "application/vnd.jupyter.widget-view+json": {
       "model_id": "410af3507dd54a46bc90edf7e1646269"
      }
     },
     "metadata": {},
     "output_type": "display_data"
    }
   ],
   "source": [
    "%%time\n",
    "peaks_file = 'Results/merged/peaks_with_tss_distances.tsv'\n",
    "peaks_expression_file = 'Results/merged/samples.merge.peaksexpression'\n",
    "\n",
    "\n",
    "df = annotation.wrap_create_anno_centric(peaks_file, peaks_expression_file, tss_file,\n",
    "                             peak_bin=(-1000, 1000), anno_col='Nearest gene',\n",
    "                             tss_df_col='gene',\n",
    "                             f_save='Results/tss_annotation/gene_df_02', allow_intron=False)\n",
    "\n"
   ]
  },
  {
   "cell_type": "markdown",
   "metadata": {},
   "source": [
    "## Gene ID"
   ]
  },
  {
   "cell_type": "code",
   "execution_count": null,
   "metadata": {
    "ExecuteTime": {
     "start_time": "2018-12-19T05:20:05.539Z"
    },
    "collapsed": true,
    "scrolled": true
   },
   "outputs": [],
   "source": [
    "%%time\n",
    "peaks_file = 'Results/merged/peaks_with_tss_distances.tsv'\n",
    "peaks_expression_file = 'Results/merged/samples.merge.peaksexpression'\n",
    "\n",
    "\n",
    "df = annotation.wrap_create_anno_centric(peaks_file, peaks_expression_file, tss_file,\n",
    "                             peak_bin=(-1000, 100), anno_col='Nearest gene_id',\n",
    "                             tss_df_col='gene_id',\n",
    "                             f_save='Results/tss_annotation/geneID_df_01', allow_intron=False)\n",
    "\n"
   ]
  },
  {
   "cell_type": "markdown",
   "metadata": {},
   "source": [
    "### b.\n",
    "i. introns excluded  \n",
    "ii. peak_bins [-1000,+1000]"
   ]
  },
  {
   "cell_type": "code",
   "execution_count": null,
   "metadata": {
    "ExecuteTime": {
     "start_time": "2018-12-19T05:20:06.799Z"
    },
    "collapsed": true
   },
   "outputs": [],
   "source": [
    "%%time\n",
    "peaks_file = 'Results/merged/peaks_with_tss_distances.tsv'\n",
    "peaks_expression_file = 'Results/merged/samples.merge.peaksexpression'\n",
    "\n",
    "\n",
    "df = annotation.wrap_create_anno_centric(peaks_file, peaks_expression_file, tss_file,\n",
    "                             peak_bin=(-1000, 1000), anno_col='Nearest gene_id',\n",
    "                             tss_df_col='gene_id',\n",
    "                             f_save='Results/tss_annotation/geneID_df_02', allow_intron=False)\n",
    "\n"
   ]
  },
  {
   "cell_type": "markdown",
   "metadata": {},
   "source": [
    "## Txn"
   ]
  },
  {
   "cell_type": "markdown",
   "metadata": {},
   "source": [
    "### a.\n",
    "i. introns excluded  \n",
    "ii. peak_bins [-1000,+100]"
   ]
  },
  {
   "cell_type": "code",
   "execution_count": null,
   "metadata": {
    "ExecuteTime": {
     "start_time": "2018-12-19T05:23:22.518Z"
    },
    "scrolled": true
   },
   "outputs": [],
   "source": [
    "%%time\n",
    "peaks_file = 'Results/merged/peaks_with_tss_distances.tsv'\n",
    "peaks_expression_file = 'Results/merged/samples.merge.peaksexpression'\n",
    "\n",
    "\n",
    "df = annotation.wrap_create_anno_centric(peaks_file, peaks_expression_file, tss_file,\n",
    "                             peak_bin=(-1000, 100), anno_col='Nearest TSS',\n",
    "                             tss_df_col='transcript_id',\n",
    "                             f_save='Results/tss_annotation/txn_df_01', allow_intron=False)\n",
    "\n"
   ]
  },
  {
   "cell_type": "markdown",
   "metadata": {},
   "source": [
    "### b.\n",
    "i. introns excluded  \n",
    "ii. peak_bins [-1000,+1000]"
   ]
  },
  {
   "cell_type": "code",
   "execution_count": null,
   "metadata": {
    "ExecuteTime": {
     "start_time": "2018-12-19T05:23:22.521Z"
    },
    "collapsed": true
   },
   "outputs": [],
   "source": [
    "%%time\n",
    "peaks_file = 'Results/merged/peaks_with_tss_distances.tsv'\n",
    "peaks_expression_file = 'Results/merged/samples.merge.peaksexpression'\n",
    "\n",
    "\n",
    "df = annotation.wrap_create_anno_centric(peaks_file, peaks_expression_file, tss_file,\n",
    "                             peak_bin=(-1000, 1000), anno_col='Nearest TSS',\n",
    "                             tss_df_col='transcript_id',\n",
    "                             f_save='Results/tss_annotation/txn_df_02', allow_intron=False)\n",
    "\n"
   ]
  },
  {
   "cell_type": "code",
   "execution_count": null,
   "metadata": {
    "ExecuteTime": {
     "start_time": "2018-12-19T05:23:22.524Z"
    },
    "scrolled": true
   },
   "outputs": [],
   "source": [
    "f_in = \"Results/tss_annotation/txn_df_02.p\"\n",
    "f_mat_in = 'Results/merged/samples.merge.peaksexpression'\n",
    "f_out = 'Results/tss_annotation/txn_df_02_matrix'\n",
    "txn_df_02_matrix = annotation.df_to_TSS_expression(f_in, f_mat_in, f_out=f_out)\n",
    "txn_df_02_matrix.head()"
   ]
  }
 ],
 "metadata": {
  "kernelspec": {
   "display_name": "Python 2",
   "language": "python",
   "name": "python2"
  },
  "language_info": {
   "codemirror_mode": {
    "name": "ipython",
    "version": 2
   },
   "file_extension": ".py",
   "mimetype": "text/x-python",
   "name": "python",
   "nbconvert_exporter": "python",
   "pygments_lexer": "ipython2",
   "version": "2.7.13"
  }
 },
 "nbformat": 4,
 "nbformat_minor": 2
}
