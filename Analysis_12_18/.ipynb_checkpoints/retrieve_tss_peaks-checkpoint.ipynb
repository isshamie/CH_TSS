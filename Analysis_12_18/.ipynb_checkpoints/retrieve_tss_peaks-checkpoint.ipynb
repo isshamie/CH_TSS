{
 "cells": [
  {
   "cell_type": "code",
   "execution_count": 1,
   "metadata": {
    "ExecuteTime": {
     "end_time": "2019-04-05T04:52:55.378184Z",
     "start_time": "2019-04-05T04:52:53.088520Z"
    },
    "scrolled": true
   },
   "outputs": [
    {
     "name": "stdout",
     "output_type": "stream",
     "text": [
      "('Number of tissues: ', 15)\n"
     ]
    }
   ],
   "source": [
    "## Parameters specific to where your folders are and your data\n",
    "parameter_file = 'params/params.yaml'\n",
    "import yaml\n",
    "import sys\n",
    "\n",
    "with open(parameter_file,'r') as f:\n",
    "    doc = yaml.load(f)\n",
    "\n",
    "#p = dic2obj(**doc)\n",
    "\n",
    "data_folder = doc['data_folder']\n",
    "tissues = doc['tissues'].split(',')\n",
    "sys.path.append(doc['pipeline_path'])\n",
    "ref_fa = doc['ref_fa']\n",
    "anno_gff=doc['annotation']\n",
    "\n",
    "\n",
    "tss_annotation = doc['tss_annotation']\n",
    "\n",
    "\n",
    "import os\n",
    "os.chdir\n",
    "import sys\n",
    "import pandas as pd\n",
    "import matplotlib\n",
    "import seaborn as sns\n",
    "import pickle\n",
    "import numpy as np\n",
    "import matplotlib as mpl\n",
    "from matplotlib import pyplot as plt\n",
    "from itertools import product\n",
    "import glob\n",
    "import re\n",
    "from matplotlib_venn import venn2\n",
    "from matplotlib import rcParams\n",
    "import inspect\n",
    "%matplotlib inline\n",
    "%config InlineBackend.figure_format = 'retina'\n",
    "sys.setrecursionlimit(3000)\n",
    "%load_ext autoreload\n",
    "%autoreload 2\n",
    "rcParams['figure.figsize'] = 8, 6\n",
    "import tqdm\n",
    "\n",
    "from os.path import basename\n",
    "##mpl.use('Agg')\n",
    "#mpl.style.use('ggplot')\n",
    "#mpl.style.use('fivethirtyeight')\n",
    "from Homer import *\n",
    "import annotation\n",
    "print('Number of tissues: ',len(tissues))"
   ]
  },
  {
   "cell_type": "code",
   "execution_count": 2,
   "metadata": {
    "ExecuteTime": {
     "end_time": "2019-04-05T04:52:55.545450Z",
     "start_time": "2019-04-05T04:52:55.395205Z"
    },
    "collapsed": true
   },
   "outputs": [],
   "source": [
    "if not os.path.exists(\"Results/tss_annotation_peaks\"):\n",
    "    os.mkdir(\"Results/tss_annotation_peaks\")\n"
   ]
  },
  {
   "cell_type": "code",
   "execution_count": 3,
   "metadata": {
    "ExecuteTime": {
     "end_time": "2019-04-05T04:52:55.694652Z",
     "start_time": "2019-04-05T04:52:55.558063Z"
    },
    "collapsed": true
   },
   "outputs": [],
   "source": [
    "anno_f = 'Results/tss_annotation/gene_df_01.p'\n",
    "merged_f = \"Results/merged/samples.merge\""
   ]
  },
  {
   "cell_type": "code",
   "execution_count": 4,
   "metadata": {
    "ExecuteTime": {
     "end_time": "2019-04-05T04:53:00.840225Z",
     "start_time": "2019-04-05T04:52:55.709544Z"
    },
    "scrolled": true
   },
   "outputs": [
    {
     "data": {
      "text/html": [
       "<div>\n",
       "<style scoped>\n",
       "    .dataframe tbody tr th:only-of-type {\n",
       "        vertical-align: middle;\n",
       "    }\n",
       "\n",
       "    .dataframe tbody tr th {\n",
       "        vertical-align: top;\n",
       "    }\n",
       "\n",
       "    .dataframe thead th {\n",
       "        text-align: right;\n",
       "    }\n",
       "</style>\n",
       "<table border=\"1\" class=\"dataframe\">\n",
       "  <thead>\n",
       "    <tr style=\"text-align: right;\">\n",
       "      <th></th>\n",
       "      <th>peaks</th>\n",
       "      <th>closest_to_X_numberOfPeaks</th>\n",
       "      <th>bin_-1000_100</th>\n",
       "      <th>sameStrand_bin_-1000_100</th>\n",
       "      <th>samples</th>\n",
       "      <th>minDistance</th>\n",
       "      <th>minDistancePeak</th>\n",
       "      <th>maxValue</th>\n",
       "      <th>maxPeakId</th>\n",
       "      <th>maxSample</th>\n",
       "      <th>Chr</th>\n",
       "      <th>Start</th>\n",
       "      <th>End</th>\n",
       "      <th>Strand</th>\n",
       "      <th>gene</th>\n",
       "      <th>transcript</th>\n",
       "      <th>maxSamples</th>\n",
       "      <th>hasGene</th>\n",
       "      <th>Number of SS</th>\n",
       "    </tr>\n",
       "  </thead>\n",
       "  <tbody>\n",
       "    <tr>\n",
       "      <th>SERHL</th>\n",
       "      <td>[81397, 101386, 160866, 218802, 235684, 243721...</td>\n",
       "      <td>14</td>\n",
       "      <td>[101386, 160866, 235684, 243721]</td>\n",
       "      <td>[160866, 243721]</td>\n",
       "      <td>[MiscOrgans_START1_and_MiscOrgans_startinput1,...</td>\n",
       "      <td>31.0</td>\n",
       "      <td>160866</td>\n",
       "      <td>3321</td>\n",
       "      <td>243721</td>\n",
       "      <td>NaN</td>\n",
       "      <td>picr_74</td>\n",
       "      <td>10067755</td>\n",
       "      <td>10067756</td>\n",
       "      <td>+</td>\n",
       "      <td>SERHL</td>\n",
       "      <td>asmbl_75212</td>\n",
       "      <td>[MiscOrgans_START1_and_MiscOrgans_startinput1,...</td>\n",
       "      <td>True</td>\n",
       "      <td>2</td>\n",
       "    </tr>\n",
       "    <tr>\n",
       "      <th>RRP7A</th>\n",
       "      <td>[28807, 47323, 96099, 98772, 99011, 134825, 14...</td>\n",
       "      <td>46</td>\n",
       "      <td>[298180, 302870]</td>\n",
       "      <td>[298180]</td>\n",
       "      <td>[MiscOrgans_START1_and_MiscOrgans_startinput1,...</td>\n",
       "      <td>24.0</td>\n",
       "      <td>298180</td>\n",
       "      <td>17.4</td>\n",
       "      <td>298180</td>\n",
       "      <td>NaN</td>\n",
       "      <td>picr_0</td>\n",
       "      <td>44489</td>\n",
       "      <td>44490</td>\n",
       "      <td>-</td>\n",
       "      <td>RRP7A</td>\n",
       "      <td>asmbl_10</td>\n",
       "      <td>[MiscOrgans_START1_and_MiscOrgans_startinput1,...</td>\n",
       "      <td>True</td>\n",
       "      <td>1</td>\n",
       "    </tr>\n",
       "    <tr>\n",
       "      <th>POLDIP3</th>\n",
       "      <td>[6789, 25757, 25759, 27913, 28291, 30315, 4272...</td>\n",
       "      <td>50</td>\n",
       "      <td>[27913, 77918, 145034, 166116, 234806]</td>\n",
       "      <td>[27913, 77918, 145034]</td>\n",
       "      <td>[MiscOrgans_START1_and_MiscOrgans_startinput1,...</td>\n",
       "      <td>-24.0</td>\n",
       "      <td>145034</td>\n",
       "      <td>42</td>\n",
       "      <td>145034</td>\n",
       "      <td>NaN</td>\n",
       "      <td>picr_0</td>\n",
       "      <td>78279</td>\n",
       "      <td>78280</td>\n",
       "      <td>-</td>\n",
       "      <td>POLDIP3</td>\n",
       "      <td>asmbl_19</td>\n",
       "      <td>[MiscOrgans_START1_and_MiscOrgans_startinput1,...</td>\n",
       "      <td>True</td>\n",
       "      <td>3</td>\n",
       "    </tr>\n",
       "    <tr>\n",
       "      <th>CYB5R3</th>\n",
       "      <td>[81786, 88536, 115379, 155379, 236115, 247925,...</td>\n",
       "      <td>16</td>\n",
       "      <td>[302496, 382084, 447608]</td>\n",
       "      <td>[302496, 382084]</td>\n",
       "      <td>[CHO_GROCap2_and_CHO_GRO1, BMDM1hKLA_GROCap1_a...</td>\n",
       "      <td>0.0</td>\n",
       "      <td>382084</td>\n",
       "      <td>6.98</td>\n",
       "      <td>302496</td>\n",
       "      <td>NaN</td>\n",
       "      <td>picr_0</td>\n",
       "      <td>92664</td>\n",
       "      <td>92665</td>\n",
       "      <td>-</td>\n",
       "      <td>CYB5R3</td>\n",
       "      <td>asmbl_20</td>\n",
       "      <td>[CHO_GROCap2_and_CHO_GRO1, BMDM1hKLA_GROCap1_a...</td>\n",
       "      <td>True</td>\n",
       "      <td>2</td>\n",
       "    </tr>\n",
       "    <tr>\n",
       "      <th>A4GALT</th>\n",
       "      <td>[7956, 18389, 26188, 27915, 28489, 32910, 4272...</td>\n",
       "      <td>53</td>\n",
       "      <td>[139618, 147715, 239414]</td>\n",
       "      <td>[139618, 239414]</td>\n",
       "      <td>[MiscOrgans_START1_and_MiscOrgans_startinput1,...</td>\n",
       "      <td>5.0</td>\n",
       "      <td>239414</td>\n",
       "      <td>43.4</td>\n",
       "      <td>139618</td>\n",
       "      <td>NaN</td>\n",
       "      <td>picr_0</td>\n",
       "      <td>185727</td>\n",
       "      <td>185728</td>\n",
       "      <td>-</td>\n",
       "      <td>A4GALT</td>\n",
       "      <td>asmbl_30</td>\n",
       "      <td>[MiscOrgans_START1_and_MiscOrgans_startinput1,...</td>\n",
       "      <td>True</td>\n",
       "      <td>2</td>\n",
       "    </tr>\n",
       "  </tbody>\n",
       "</table>\n",
       "</div>"
      ],
      "text/plain": [
       "                                                     peaks  \\\n",
       "SERHL    [81397, 101386, 160866, 218802, 235684, 243721...   \n",
       "RRP7A    [28807, 47323, 96099, 98772, 99011, 134825, 14...   \n",
       "POLDIP3  [6789, 25757, 25759, 27913, 28291, 30315, 4272...   \n",
       "CYB5R3   [81786, 88536, 115379, 155379, 236115, 247925,...   \n",
       "A4GALT   [7956, 18389, 26188, 27915, 28489, 32910, 4272...   \n",
       "\n",
       "         closest_to_X_numberOfPeaks                           bin_-1000_100  \\\n",
       "SERHL                            14        [101386, 160866, 235684, 243721]   \n",
       "RRP7A                            46                        [298180, 302870]   \n",
       "POLDIP3                          50  [27913, 77918, 145034, 166116, 234806]   \n",
       "CYB5R3                           16                [302496, 382084, 447608]   \n",
       "A4GALT                           53                [139618, 147715, 239414]   \n",
       "\n",
       "        sameStrand_bin_-1000_100  \\\n",
       "SERHL           [160866, 243721]   \n",
       "RRP7A                   [298180]   \n",
       "POLDIP3   [27913, 77918, 145034]   \n",
       "CYB5R3          [302496, 382084]   \n",
       "A4GALT          [139618, 239414]   \n",
       "\n",
       "                                                   samples  minDistance  \\\n",
       "SERHL    [MiscOrgans_START1_and_MiscOrgans_startinput1,...         31.0   \n",
       "RRP7A    [MiscOrgans_START1_and_MiscOrgans_startinput1,...         24.0   \n",
       "POLDIP3  [MiscOrgans_START1_and_MiscOrgans_startinput1,...        -24.0   \n",
       "CYB5R3   [CHO_GROCap2_and_CHO_GRO1, BMDM1hKLA_GROCap1_a...          0.0   \n",
       "A4GALT   [MiscOrgans_START1_and_MiscOrgans_startinput1,...          5.0   \n",
       "\n",
       "        minDistancePeak maxValue maxPeakId maxSample      Chr     Start  \\\n",
       "SERHL            160866     3321    243721       NaN  picr_74  10067755   \n",
       "RRP7A            298180     17.4    298180       NaN   picr_0     44489   \n",
       "POLDIP3          145034       42    145034       NaN   picr_0     78279   \n",
       "CYB5R3           382084     6.98    302496       NaN   picr_0     92664   \n",
       "A4GALT           239414     43.4    139618       NaN   picr_0    185727   \n",
       "\n",
       "              End Strand     gene   transcript  \\\n",
       "SERHL    10067756      +    SERHL  asmbl_75212   \n",
       "RRP7A       44490      -    RRP7A     asmbl_10   \n",
       "POLDIP3     78280      -  POLDIP3     asmbl_19   \n",
       "CYB5R3      92665      -   CYB5R3     asmbl_20   \n",
       "A4GALT     185728      -   A4GALT     asmbl_30   \n",
       "\n",
       "                                                maxSamples  hasGene  \\\n",
       "SERHL    [MiscOrgans_START1_and_MiscOrgans_startinput1,...     True   \n",
       "RRP7A    [MiscOrgans_START1_and_MiscOrgans_startinput1,...     True   \n",
       "POLDIP3  [MiscOrgans_START1_and_MiscOrgans_startinput1,...     True   \n",
       "CYB5R3   [CHO_GROCap2_and_CHO_GRO1, BMDM1hKLA_GROCap1_a...     True   \n",
       "A4GALT   [MiscOrgans_START1_and_MiscOrgans_startinput1,...     True   \n",
       "\n",
       "         Number of SS  \n",
       "SERHL               2  \n",
       "RRP7A               1  \n",
       "POLDIP3             3  \n",
       "CYB5R3              2  \n",
       "A4GALT              2  "
      ]
     },
     "execution_count": 4,
     "metadata": {},
     "output_type": "execute_result"
    }
   ],
   "source": [
    "anno_df = pickle.load(open(anno_f,\"rb\"))\n",
    "anno_df.head()"
   ]
  },
  {
   "cell_type": "code",
   "execution_count": 5,
   "metadata": {
    "ExecuteTime": {
     "end_time": "2019-04-05T04:53:00.882665Z",
     "start_time": "2019-04-05T04:53:00.843043Z"
    },
    "collapsed": true
   },
   "outputs": [],
   "source": [
    "outdir = \"Results/tss_annotation_peaks/\""
   ]
  },
  {
   "cell_type": "code",
   "execution_count": 6,
   "metadata": {
    "ExecuteTime": {
     "end_time": "2019-04-05T04:53:20.832314Z",
     "start_time": "2019-04-05T04:53:00.886190Z"
    },
    "scrolled": false
   },
   "outputs": [
    {
     "name": "stderr",
     "output_type": "stream",
     "text": [
      "/home/isshamie/software/anaconda2/lib/python2.7/site-packages/IPython/core/interactiveshell.py:2827: DtypeWarning: Columns (8,9,10,11,12,13,14,15,16,17,18,19,20,21,22,23,24,25,26,27,28,29,30,31,32,33,34,35,36,37,38,39,40,41,42) have mixed types. Specify dtype option on import or set low_memory=False.\n",
      "  if self.run_code(code, result):\n"
     ]
    }
   ],
   "source": [
    "output_f = \"Results/tss_annotation_peaks/all_peaks_gene_df_01.tsv\"\n",
    "annotation.retrieve_all_peaks_from_anno(anno_f, merged_f, output_f)"
   ]
  },
  {
   "cell_type": "code",
   "execution_count": null,
   "metadata": {
    "ExecuteTime": {
     "start_time": "2019-04-05T04:52:53.065Z"
    },
    "collapsed": true,
    "scrolled": true
   },
   "outputs": [],
   "source": [
    "output_f = \"Results/tss_annotation_peaks/all_peaks_max_gene_df_01.tsv\"\n",
    "annotation.retrieve_all_peaks_from_anno(anno_f, merged_f, output_f,is_max=True)"
   ]
  },
  {
   "cell_type": "code",
   "execution_count": null,
   "metadata": {
    "ExecuteTime": {
     "start_time": "2019-04-05T04:52:53.066Z"
    }
   },
   "outputs": [
    {
     "name": "stderr",
     "output_type": "stream",
     "text": [
      "/home/isshamie/software/anaconda2/lib/python2.7/site-packages/IPython/core/interactiveshell.py:2821: DtypeWarning: Columns (8,9,10,11,12,13,14,15,16,17,18,19,20,21,22,23,24,25,26,27,28,29,30,31,32,33,34,35,36,37,38,39,40,41,42) have mixed types. Specify dtype option on import or set low_memory=False.\n",
      "  if self.run_code(code, result):\n"
     ]
    }
   ],
   "source": [
    "for sample_name in glob.glob(\"f04_peaks/*\"):\n",
    "    # Merged sample file\n",
    "    output_f = os.path.join(outdir,\"merged_\" + os.path.basename(sample_name) + '.tsv')\n",
    "    annotation.retrieve_sample_peaks_from_anno(anno_f, merged_f, output_f,\n",
    "                                        sample_name, sample_f=None,\n",
    "                                        col_name=None,\n",
    "                                        use_sample_peaks=False)\n",
    "    # Original sample file\n",
    "    output_f = os.path.join(outdir,\"sample_\" + os.path.basename(sample_name) + '.tsv')\n",
    "    annotation.retrieve_sample_peaks_from_anno(anno_f, merged_f, output_f,\n",
    "                                        sample_name, sample_f=sample_name,\n",
    "                                        col_name=None,\n",
    "                                        use_sample_peaks=True)    \n",
    "\n"
   ]
  },
  {
   "cell_type": "code",
   "execution_count": null,
   "metadata": {
    "ExecuteTime": {
     "start_time": "2019-04-05T04:52:53.067Z"
    },
    "collapsed": true,
    "scrolled": true
   },
   "outputs": [],
   "source": [
    "anno_f = 'Results/tss_annotation/txn_df_02.p'\n",
    "merged_f = \"Results/merged/samples.merge\"\n",
    "output_f = \"Results/tss_annotation_peaks/all_peaks_txn_df_02.tsv\"\n",
    "annotation.retrieve_all_peaks_from_anno(anno_f, merged_f, output_f)"
   ]
  },
  {
   "cell_type": "markdown",
   "metadata": {},
   "source": [
    "## Add onto the all_peaks_txn_df_02 the information about the maximum peak"
   ]
  },
  {
   "cell_type": "code",
   "execution_count": null,
   "metadata": {
    "ExecuteTime": {
     "start_time": "2019-04-05T04:52:53.081Z"
    },
    "collapsed": true
   },
   "outputs": [],
   "source": [
    "merged_f = \"Results/tss_annotation_peaks/all_peaks_txn_df_02.tsv\"\n",
    "expr_peaks_f = \"Results/merged/samples.merge.peaksexpression.log10\"\n",
    "out_f = \"Results/tss_annotation_peaks/all_peaks_txn_df_02_maxinfo.tsv\"\n",
    "annotation.wrap_add_max_info(merged_f, expr_peaks_f,out_f)"
   ]
  }
 ],
 "metadata": {
  "kernelspec": {
   "display_name": "Python 2",
   "language": "python",
   "name": "python2"
  },
  "language_info": {
   "codemirror_mode": {
    "name": "ipython",
    "version": 2
   },
   "file_extension": ".py",
   "mimetype": "text/x-python",
   "name": "python",
   "nbconvert_exporter": "python",
   "pygments_lexer": "ipython2",
   "version": "2.7.15"
  }
 },
 "nbformat": 4,
 "nbformat_minor": 2
}
