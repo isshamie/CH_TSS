{
 "cells": [
  {
   "cell_type": "markdown",
   "metadata": {},
   "source": [
    "## File names here:"
   ]
  },
  {
   "cell_type": "code",
   "execution_count": 1,
   "metadata": {
    "ExecuteTime": {
     "end_time": "2019-01-05T00:52:58.335306Z",
     "start_time": "2019-01-05T00:52:58.220743Z"
    },
    "collapsed": true
   },
   "outputs": [],
   "source": [
    "tissues_with_atac = ['CHO','Brain','Liver','Lung','Kidney','Spleen','BMDMwt','BMDM1hKLA']\n",
    "\n",
    "## Parameters specific to where your folders are and your data\n",
    "parameter_file = 'params/params.yaml'\n",
    "import yaml\n",
    "import sys\n",
    "\n",
    "with open(parameter_file,'r') as f:\n",
    "    doc = yaml.load(f)\n",
    "\n",
    "data_folder = doc['data_folder']\n",
    "tissues = doc['tissues'].split(',')\n",
    "sys.path.append(doc['pipeline_path'])\n",
    "ref_fa = doc['ref_fa']\n",
    "annotation=doc['annotation']\n",
    "tss_annotation = doc['tss_annotation']"
   ]
  },
  {
   "cell_type": "code",
   "execution_count": 2,
   "metadata": {
    "ExecuteTime": {
     "end_time": "2019-01-05T00:52:59.603334Z",
     "start_time": "2019-01-05T00:52:58.338262Z"
    },
    "collapsed": true
   },
   "outputs": [],
   "source": [
    "from create_output import *\n",
    "\n",
    "txn_f = \"Results/tss_annotation/txn_df_02_tissues.p\"\n",
    "#expr_f = \"Results/merged/samples.merge.peaksexpression.log10\"\n",
    "expr_f = \"Results/merged/tissues.merge.peaksexpression.log10\"\n",
    "anno_f = \"Results/tss_annotation_peaks/all_peaks_txn_df_02_maxinfo.tsv\"\n",
    "rank_func = rank_median_samples\n",
    "atac_f = \"../10_15_Results/Results/ATAC_results/CHO/ATAC_ppr.naive_overlap.narrowPeak.sort\"\n",
    "tss_f = \"/data/isshamie/genome/picr_final/mRNA_final.peak\"#tss_annotation\n",
    "all_atac = \"../10_15_Results/Results/ATAC_results/ATAC_merge.bed\"\n",
    "\n"
   ]
  },
  {
   "cell_type": "code",
   "execution_count": 3,
   "metadata": {
    "ExecuteTime": {
     "end_time": "2019-01-05T00:52:59.696285Z",
     "start_time": "2019-01-05T00:52:59.606178Z"
    },
    "scrolled": true
   },
   "outputs": [
    {
     "name": "stdout",
     "output_type": "stream",
     "text": [
      "('Number of tissues: ', 15)\n"
     ]
    }
   ],
   "source": [
    "\n",
    "import os\n",
    "import sys\n",
    "import pandas as pd\n",
    "import matplotlib\n",
    "import seaborn as sns\n",
    "import pickle\n",
    "import numpy as np\n",
    "import matplotlib as mpl\n",
    "from matplotlib import pyplot as plt\n",
    "from itertools import product\n",
    "import glob\n",
    "import re\n",
    "from matplotlib_venn import venn2\n",
    "from matplotlib import rcParams\n",
    "import inspect\n",
    "%matplotlib inline\n",
    "%config InlineBackend.figure_format = 'retina'\n",
    "sys.setrecursionlimit(3000)\n",
    "%load_ext autoreload\n",
    "%autoreload 2\n",
    "rcParams['figure.figsize'] = 8, 6\n",
    "import tqdm\n",
    "### notebook specific configuration ###\n",
    "from os.path import basename\n",
    "#mpl.style.use('ggplot')\n",
    "mpl.style.use('fivethirtyeight')\n",
    "from cycler import cycler\n",
    "mpl.rcParams['axes.prop_cycle'] = cycler(color='bgrcmyk')\n",
    "\n",
    "from Homer import *\n",
    "\n",
    "print('Number of tissues: ',len(tissues))"
   ]
  },
  {
   "cell_type": "code",
   "execution_count": null,
   "metadata": {
    "ExecuteTime": {
     "start_time": "2019-01-05T00:52:58.208Z"
    },
    "collapsed": true
   },
   "outputs": [],
   "source": [
    "if not os.path.exists(\"Results/output\"):\n",
    "    os.mkdir(\"Results/output\")"
   ]
  },
  {
   "cell_type": "code",
   "execution_count": null,
   "metadata": {
    "ExecuteTime": {
     "start_time": "2019-01-05T00:52:58.210Z"
    },
    "scrolled": true
   },
   "outputs": [
    {
     "name": "stderr",
     "output_type": "stream",
     "text": [
      "27075it [14:54, 30.25it/s]\n"
     ]
    },
    {
     "name": "stdout",
     "output_type": "stream",
     "text": [
      "         Chr     Start       End Strand        Stat  \\\n",
      "ID                                                    \n",
      "3    picr_54  10883074  10883337      +    3.991000   \n",
      "4     picr_2  37427816  37427999      +  129.025650   \n",
      "5   picr_136   2231719   2231926      -   16.201666   \n",
      "6    picr_38   6314085   6314339      +   11.446400   \n",
      "8    picr_95    461540    462075      -    6.742963   \n",
      "\n",
      "                                         Parent files  Total subpeaks  \\\n",
      "ID                                                                      \n",
      "3   f04_peaks/MiscOrgans_START1_and_MiscOrgans_sta...              20   \n",
      "4   f04_peaks/MiscOrgans_START1_and_MiscOrgans_sta...              23   \n",
      "5   f04_peaks/MiscOrgans_START1_and_MiscOrgans_sta...              24   \n",
      "6   f04_peaks/MiscOrgans_START1_and_MiscOrgans_sta...              25   \n",
      "8   f04_peaks/MiscOrgans_START1_and_MiscOrgans_sta...              27   \n",
      "\n",
      "   f04_peaks/MiscOrgans_START1_and_MiscOrgans_startinput1  \\\n",
      "ID                                                          \n",
      "3                                         picr_54-204       \n",
      "4                                           picr_2-18       \n",
      "5                                         picr_136-12       \n",
      "6                                          picr_38-68       \n",
      "8                                          picr_95-25       \n",
      "\n",
      "   f04_peaks/Liver_START2_and_Liver_startinput1  \\\n",
      "ID                                                \n",
      "3                                           NaN   \n",
      "4                                           NaN   \n",
      "5                                           NaN   \n",
      "6                                     picr_38-6   \n",
      "8                                           NaN   \n",
      "\n",
      "   f04_peaks/Brain_GROCap1_and_Brain_GRO1   ...      max_Chr max_Start  \\\n",
      "ID                                          ...                          \n",
      "3                                     NaN   ...      picr_54  10883093   \n",
      "4                             picr_2-1445   ...       picr_2  37427849   \n",
      "5                             picr_136-53   ...     picr_136   2231771   \n",
      "6                                     NaN   ...      picr_38   6314179   \n",
      "8                              picr_95-42   ...      picr_95    461768   \n",
      "\n",
      "     max_End max_Stat                                  cho_file  \\\n",
      "ID                                                                \n",
      "3   10883243     12.0  f04_peaks/CHO_START1_and_CHO_startinput1   \n",
      "4   37427999    457.9  f04_peaks/CHO_START1_and_CHO_startinput1   \n",
      "5    2231921     61.3                                       NaN   \n",
      "6    6314329     77.8  f04_peaks/CHO_START1_and_CHO_startinput1   \n",
      "8     461918     15.0  f04_peaks/CHO_START1_and_CHO_startinput1   \n",
      "\n",
      "   cho_file_peak_name  cho_Chr cho_Start   cho_End cho_Stat  \n",
      "ID                                                           \n",
      "3         picr_54-227  picr_54  10883112  10883262     3.14  \n",
      "4           picr_2-41   picr_2  37427849  37427999    91.90  \n",
      "5                 NaN      NaN        -1        -1     0.00  \n",
      "6         picr_38-193  picr_38   6314096   6314246     6.13  \n",
      "8          picr_95-23  picr_95    461773    461923    10.70  \n",
      "\n",
      "[5 rows x 54 columns]\n",
      "36446\n"
     ]
    },
    {
     "name": "stderr",
     "output_type": "stream",
     "text": [
      "63521it [15:09, 69.83it/s]\n",
      "60116it [40:06, 22.53it/s]"
     ]
    }
   ],
   "source": [
    "%%time\n",
    "# bed_df, meta_df = construct_peakID(txn_anno_f, expr_f, anno_f, rank_func,\n",
    "#                      atac_f=None, col_name=None)\n",
    "\n",
    "bed_df, meta_df = construct_all_peaks(txn_f, expr_f, anno_f, rank_func, tss_f, atac_f,\n",
    "                        all_atac=all_atac, out_f=\"Results/output/TSS1\")"
   ]
  },
  {
   "cell_type": "code",
   "execution_count": 8,
   "metadata": {
    "ExecuteTime": {
     "end_time": "2019-01-07T23:47:12.160549Z",
     "start_time": "2019-01-07T23:47:12.091386Z"
    }
   },
   "outputs": [
    {
     "data": {
      "text/html": [
       "<div>\n",
       "<style scoped>\n",
       "    .dataframe tbody tr th:only-of-type {\n",
       "        vertical-align: middle;\n",
       "    }\n",
       "\n",
       "    .dataframe tbody tr th {\n",
       "        vertical-align: top;\n",
       "    }\n",
       "\n",
       "    .dataframe thead th {\n",
       "        text-align: right;\n",
       "    }\n",
       "</style>\n",
       "<table border=\"1\" class=\"dataframe\">\n",
       "  <thead>\n",
       "    <tr style=\"text-align: right;\">\n",
       "      <th></th>\n",
       "      <th>Chr</th>\n",
       "      <th>Start</th>\n",
       "      <th>End</th>\n",
       "      <th>ID</th>\n",
       "      <th>Stat</th>\n",
       "      <th>Strand</th>\n",
       "    </tr>\n",
       "  </thead>\n",
       "  <tbody>\n",
       "    <tr>\n",
       "      <th>p0@SERHL_gene_1_2_asmbl_2</th>\n",
       "      <td>picr_0</td>\n",
       "      <td>175</td>\n",
       "      <td>177</td>\n",
       "      <td>p0@SERHL_gene_1_2_asmbl_2</td>\n",
       "      <td>0.00000</td>\n",
       "      <td>+</td>\n",
       "    </tr>\n",
       "    <tr>\n",
       "      <th>p0@SERHL_gene_1_4_asmbl_11</th>\n",
       "      <td>picr_0</td>\n",
       "      <td>18148</td>\n",
       "      <td>18150</td>\n",
       "      <td>p0@SERHL_gene_1_4_asmbl_11</td>\n",
       "      <td>0.00000</td>\n",
       "      <td>+</td>\n",
       "    </tr>\n",
       "    <tr>\n",
       "      <th>p0@SERHL_gene_1_4_asmbl_12</th>\n",
       "      <td>picr_0</td>\n",
       "      <td>20786</td>\n",
       "      <td>20788</td>\n",
       "      <td>p0@SERHL_gene_1_4_asmbl_12</td>\n",
       "      <td>0.00000</td>\n",
       "      <td>+</td>\n",
       "    </tr>\n",
       "    <tr>\n",
       "      <th>p1@SERHL_gene_1_4_asmbl_14</th>\n",
       "      <td>picr_0</td>\n",
       "      <td>20916</td>\n",
       "      <td>21066</td>\n",
       "      <td>p1@SERHL_gene_1_4_asmbl_14</td>\n",
       "      <td>2.05576</td>\n",
       "      <td>+</td>\n",
       "    </tr>\n",
       "    <tr>\n",
       "      <th>p0@SERHL_gene_1_4_asmbl_15</th>\n",
       "      <td>picr_0</td>\n",
       "      <td>22503</td>\n",
       "      <td>22505</td>\n",
       "      <td>p0@SERHL_gene_1_4_asmbl_15</td>\n",
       "      <td>0.00000</td>\n",
       "      <td>+</td>\n",
       "    </tr>\n",
       "  </tbody>\n",
       "</table>\n",
       "</div>"
      ],
      "text/plain": [
       "                               Chr  Start    End                          ID  \\\n",
       "p0@SERHL_gene_1_2_asmbl_2   picr_0    175    177   p0@SERHL_gene_1_2_asmbl_2   \n",
       "p0@SERHL_gene_1_4_asmbl_11  picr_0  18148  18150  p0@SERHL_gene_1_4_asmbl_11   \n",
       "p0@SERHL_gene_1_4_asmbl_12  picr_0  20786  20788  p0@SERHL_gene_1_4_asmbl_12   \n",
       "p1@SERHL_gene_1_4_asmbl_14  picr_0  20916  21066  p1@SERHL_gene_1_4_asmbl_14   \n",
       "p0@SERHL_gene_1_4_asmbl_15  picr_0  22503  22505  p0@SERHL_gene_1_4_asmbl_15   \n",
       "\n",
       "                               Stat Strand  \n",
       "p0@SERHL_gene_1_2_asmbl_2   0.00000      +  \n",
       "p0@SERHL_gene_1_4_asmbl_11  0.00000      +  \n",
       "p0@SERHL_gene_1_4_asmbl_12  0.00000      +  \n",
       "p1@SERHL_gene_1_4_asmbl_14  2.05576      +  \n",
       "p0@SERHL_gene_1_4_asmbl_15  0.00000      +  "
      ]
     },
     "execution_count": 8,
     "metadata": {},
     "output_type": "execute_result"
    }
   ],
   "source": [
    "bed_df.head()"
   ]
  },
  {
   "cell_type": "code",
   "execution_count": 9,
   "metadata": {
    "ExecuteTime": {
     "end_time": "2019-01-07T23:47:12.239203Z",
     "start_time": "2019-01-07T23:47:12.163805Z"
    }
   },
   "outputs": [
    {
     "data": {
      "text/html": [
       "<div>\n",
       "<style scoped>\n",
       "    .dataframe tbody tr th:only-of-type {\n",
       "        vertical-align: middle;\n",
       "    }\n",
       "\n",
       "    .dataframe tbody tr th {\n",
       "        vertical-align: top;\n",
       "    }\n",
       "\n",
       "    .dataframe thead th {\n",
       "        text-align: right;\n",
       "    }\n",
       "</style>\n",
       "<table border=\"1\" class=\"dataframe\">\n",
       "  <thead>\n",
       "    <tr style=\"text-align: right;\">\n",
       "      <th></th>\n",
       "      <th>Tissues</th>\n",
       "      <th>cs</th>\n",
       "      <th>CHO ATAC Region</th>\n",
       "      <th>ID</th>\n",
       "      <th>Gene</th>\n",
       "      <th>Gene ID</th>\n",
       "      <th>Transcript</th>\n",
       "      <th>Is Experimental</th>\n",
       "      <th>has ATAC</th>\n",
       "    </tr>\n",
       "  </thead>\n",
       "  <tbody>\n",
       "    <tr>\n",
       "      <th>p0@SERHL_gene_1_2_asmbl_2</th>\n",
       "      <td></td>\n",
       "      <td></td>\n",
       "      <td></td>\n",
       "      <td></td>\n",
       "      <td>SERHL</td>\n",
       "      <td>gene_1_2</td>\n",
       "      <td>asmbl_2</td>\n",
       "      <td>0</td>\n",
       "      <td>0</td>\n",
       "    </tr>\n",
       "    <tr>\n",
       "      <th>p0@SERHL_gene_1_4_asmbl_11</th>\n",
       "      <td></td>\n",
       "      <td></td>\n",
       "      <td></td>\n",
       "      <td></td>\n",
       "      <td>SERHL</td>\n",
       "      <td>gene_1_4</td>\n",
       "      <td>asmbl_11</td>\n",
       "      <td>0</td>\n",
       "      <td>0</td>\n",
       "    </tr>\n",
       "    <tr>\n",
       "      <th>p0@SERHL_gene_1_4_asmbl_12</th>\n",
       "      <td></td>\n",
       "      <td></td>\n",
       "      <td></td>\n",
       "      <td></td>\n",
       "      <td>SERHL</td>\n",
       "      <td>gene_1_4</td>\n",
       "      <td>asmbl_12</td>\n",
       "      <td>0</td>\n",
       "      <td>0</td>\n",
       "    </tr>\n",
       "    <tr>\n",
       "      <th>p1@SERHL_gene_1_4_asmbl_14</th>\n",
       "      <td>Heart,Spleen,MiscOrgans,FemaleReproductive,CHO...</td>\n",
       "      <td>0b11</td>\n",
       "      <td></td>\n",
       "      <td>160866</td>\n",
       "      <td>SERHL</td>\n",
       "      <td>gene_1_4</td>\n",
       "      <td>asmbl_14</td>\n",
       "      <td>1</td>\n",
       "      <td>0</td>\n",
       "    </tr>\n",
       "    <tr>\n",
       "      <th>p0@SERHL_gene_1_4_asmbl_15</th>\n",
       "      <td></td>\n",
       "      <td></td>\n",
       "      <td></td>\n",
       "      <td></td>\n",
       "      <td>SERHL</td>\n",
       "      <td>gene_1_4</td>\n",
       "      <td>asmbl_15</td>\n",
       "      <td>0</td>\n",
       "      <td>0</td>\n",
       "    </tr>\n",
       "  </tbody>\n",
       "</table>\n",
       "</div>"
      ],
      "text/plain": [
       "                                                                      Tissues  \\\n",
       "p0@SERHL_gene_1_2_asmbl_2                                                       \n",
       "p0@SERHL_gene_1_4_asmbl_11                                                      \n",
       "p0@SERHL_gene_1_4_asmbl_12                                                      \n",
       "p1@SERHL_gene_1_4_asmbl_14  Heart,Spleen,MiscOrgans,FemaleReproductive,CHO...   \n",
       "p0@SERHL_gene_1_4_asmbl_15                                                      \n",
       "\n",
       "                              cs CHO ATAC Region      ID   Gene   Gene ID  \\\n",
       "p0@SERHL_gene_1_2_asmbl_2                                 SERHL  gene_1_2   \n",
       "p0@SERHL_gene_1_4_asmbl_11                                SERHL  gene_1_4   \n",
       "p0@SERHL_gene_1_4_asmbl_12                                SERHL  gene_1_4   \n",
       "p1@SERHL_gene_1_4_asmbl_14  0b11                  160866  SERHL  gene_1_4   \n",
       "p0@SERHL_gene_1_4_asmbl_15                                SERHL  gene_1_4   \n",
       "\n",
       "                           Transcript  Is Experimental  has ATAC  \n",
       "p0@SERHL_gene_1_2_asmbl_2     asmbl_2                0         0  \n",
       "p0@SERHL_gene_1_4_asmbl_11   asmbl_11                0         0  \n",
       "p0@SERHL_gene_1_4_asmbl_12   asmbl_12                0         0  \n",
       "p1@SERHL_gene_1_4_asmbl_14   asmbl_14                1         0  \n",
       "p0@SERHL_gene_1_4_asmbl_15   asmbl_15                0         0  "
      ]
     },
     "execution_count": 9,
     "metadata": {},
     "output_type": "execute_result"
    }
   ],
   "source": [
    "meta_df.head()"
   ]
  },
  {
   "cell_type": "code",
   "execution_count": null,
   "metadata": {
    "collapsed": true
   },
   "outputs": [],
   "source": []
  },
  {
   "cell_type": "markdown",
   "metadata": {},
   "source": [
    "-----------------------------"
   ]
  }
 ],
 "metadata": {
  "kernelspec": {
   "display_name": "Python 2",
   "language": "python",
   "name": "python2"
  },
  "language_info": {
   "codemirror_mode": {
    "name": "ipython",
    "version": 2
   },
   "file_extension": ".py",
   "mimetype": "text/x-python",
   "name": "python",
   "nbconvert_exporter": "python",
   "pygments_lexer": "ipython2",
   "version": "2.7.15"
  }
 },
 "nbformat": 4,
 "nbformat_minor": 2
}
