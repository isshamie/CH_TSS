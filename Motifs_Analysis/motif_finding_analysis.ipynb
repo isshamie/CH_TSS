{
 "cells": [
  {
   "cell_type": "code",
   "execution_count": 1,
   "metadata": {
    "code_folding": [],
    "collapsed": true
   },
   "outputs": [],
   "source": [
    "## Parameters specific to where your folders are and your data\n",
    "parameter_file = 'params/params.yaml'\n",
    "import yaml\n",
    "import sys\n",
    "\n",
    "with open(parameter_file,'r') as f:\n",
    "    doc = yaml.load(f)\n",
    "\n",
    "#p = dic2obj(**doc)\n",
    "\n",
    "data_folder = doc['data_folder']\n",
    "tissues = doc['tissues'].split(',')\n",
    "sys.path.append(doc['pipeline_path'])\n",
    "ref_fa = doc['ref_fa']\n",
    "annotation=doc['annotation']\n"
   ]
  },
  {
   "cell_type": "code",
   "execution_count": 2,
   "metadata": {
    "collapsed": true
   },
   "outputs": [],
   "source": [
    "tss_annotation = doc['tss_annotation']"
   ]
  },
  {
   "cell_type": "code",
   "execution_count": 3,
   "metadata": {
    "scrolled": true
   },
   "outputs": [
    {
     "name": "stdout",
     "output_type": "stream",
     "text": [
      "('Number of tissues: ', 16)\n"
     ]
    }
   ],
   "source": [
    "\n",
    "import os\n",
    "import sys\n",
    "import pandas as pd\n",
    "import matplotlib\n",
    "import seaborn as sns\n",
    "import pickle\n",
    "import numpy as np\n",
    "import matplotlib as mpl\n",
    "from matplotlib import pyplot as plt\n",
    "from itertools import product\n",
    "import glob\n",
    "import re\n",
    "from matplotlib_venn import venn2\n",
    "from matplotlib import rcParams\n",
    "import inspect\n",
    "%matplotlib inline\n",
    "%config InlineBackend.figure_format = 'retina'\n",
    "sys.setrecursionlimit(3000)\n",
    "%load_ext autoreload\n",
    "%autoreload 2\n",
    "rcParams['figure.figsize'] = 8, 6\n",
    "import tqdm\n",
    "### notebook specific configuration ###\n",
    "from os.path import basename\n",
    "#mpl.style.use('ggplot')\n",
    "mpl.style.use('fivethirtyeight')\n",
    "from cycler import cycler\n",
    "mpl.rcParams['axes.prop_cycle'] = cycler(color='bgrcmyk')\n",
    "\n",
    "from Modules.Homer import *\n",
    "\n",
    "print('Number of tissues: ',len(tissues))"
   ]
  },
  {
   "cell_type": "code",
   "execution_count": 4,
   "metadata": {
    "collapsed": true
   },
   "outputs": [],
   "source": [
    "sys.path.append('/home/isshamie/software/parallel_helper')\n",
    "import parallel_functions as pf"
   ]
  },
  {
   "cell_type": "code",
   "execution_count": 5,
   "metadata": {
    "collapsed": true
   },
   "outputs": [],
   "source": [
    "## Bio import\n",
    "from Bio import motifs as mt\n",
    "from Bio.Seq import Seq\n",
    "from Bio import SeqIO"
   ]
  },
  {
   "cell_type": "code",
   "execution_count": 6,
   "metadata": {
    "collapsed": true
   },
   "outputs": [],
   "source": [
    "motifs_folder = 'supplemental/homer_motifs/'\n",
    "motifs_of_interest = ['tata','sp1','ctcf','inr']"
   ]
  },
  {
   "cell_type": "markdown",
   "metadata": {},
   "source": [
    "## Load in motif results"
   ]
  },
  {
   "cell_type": "code",
   "execution_count": 7,
   "metadata": {
    "scrolled": false
   },
   "outputs": [
    {
     "data": {
      "text/html": [
       "<div>\n",
       "<style scoped>\n",
       "    .dataframe tbody tr th:only-of-type {\n",
       "        vertical-align: middle;\n",
       "    }\n",
       "\n",
       "    .dataframe tbody tr th {\n",
       "        vertical-align: top;\n",
       "    }\n",
       "\n",
       "    .dataframe thead th {\n",
       "        text-align: right;\n",
       "    }\n",
       "</style>\n",
       "<table border=\"1\" class=\"dataframe\">\n",
       "  <thead>\n",
       "    <tr style=\"text-align: right;\">\n",
       "      <th></th>\n",
       "      <th>Chr</th>\n",
       "      <th>Start</th>\n",
       "      <th>End</th>\n",
       "      <th>Strand</th>\n",
       "      <th>Peak Score</th>\n",
       "      <th>Focus Ratio/Region Size</th>\n",
       "      <th>Annotation</th>\n",
       "      <th>Distance to TSS</th>\n",
       "      <th>Nearest PromoterID</th>\n",
       "      <th>Nearest TSS</th>\n",
       "      <th>isSameStrand</th>\n",
       "      <th>Nearest gene</th>\n",
       "      <th>Nearest gene_id</th>\n",
       "      <th>Length</th>\n",
       "    </tr>\n",
       "    <tr>\n",
       "      <th>PeakID (cmd=annotatePeaks.pl Results/merged/all_peaks_merged.tsv /data/isshamie/genome/picr.fa -gff /data/isshamie/genome/updated_final_sort.gff3)</th>\n",
       "      <th></th>\n",
       "      <th></th>\n",
       "      <th></th>\n",
       "      <th></th>\n",
       "      <th></th>\n",
       "      <th></th>\n",
       "      <th></th>\n",
       "      <th></th>\n",
       "      <th></th>\n",
       "      <th></th>\n",
       "      <th></th>\n",
       "      <th></th>\n",
       "      <th></th>\n",
       "      <th></th>\n",
       "    </tr>\n",
       "  </thead>\n",
       "  <tbody>\n",
       "    <tr>\n",
       "      <th>Merged-picr_48-1084706-14</th>\n",
       "      <td>picr_48</td>\n",
       "      <td>1084630</td>\n",
       "      <td>1084782</td>\n",
       "      <td>+</td>\n",
       "      <td>50717.441406</td>\n",
       "      <td>/data/isshamie/TSS/Processed/BMDMwt/GRO/f04_pe...</td>\n",
       "      <td>TTS (ID=asmbl_56918.exon2;Parent=asmbl_56918;g...</td>\n",
       "      <td>127017.0</td>\n",
       "      <td>ID=asmbl_56919.exon2;Parent=asmbl_56919;gene_i...</td>\n",
       "      <td>asmbl_56916</td>\n",
       "      <td>True</td>\n",
       "      <td>MTHFD1L</td>\n",
       "      <td>gene_20259_1</td>\n",
       "      <td>152</td>\n",
       "    </tr>\n",
       "    <tr>\n",
       "      <th>Merged-picr_33-4827737-11</th>\n",
       "      <td>picr_33</td>\n",
       "      <td>4827637</td>\n",
       "      <td>4827815</td>\n",
       "      <td>+</td>\n",
       "      <td>17077.398438</td>\n",
       "      <td>/data/isshamie/TSS/Processed/Brain/mSTART/f04_...</td>\n",
       "      <td>promoter-TSS (ID=asmbl_45526.exon1;Parent=asmb...</td>\n",
       "      <td>4.0</td>\n",
       "      <td>ID=asmbl_45526.exon1;Parent=asmbl_45526;gene_i...</td>\n",
       "      <td>asmbl_45526</td>\n",
       "      <td>True</td>\n",
       "      <td>CPA2</td>\n",
       "      <td>gene_16120</td>\n",
       "      <td>178</td>\n",
       "    </tr>\n",
       "    <tr>\n",
       "      <th>Merged-picr_13-30535388-7</th>\n",
       "      <td>picr_13</td>\n",
       "      <td>30535313</td>\n",
       "      <td>30535463</td>\n",
       "      <td>+</td>\n",
       "      <td>15631.878906</td>\n",
       "      <td>/data/isshamie/TSS/Processed/BMDMwt/GRO/f04_pe...</td>\n",
       "      <td>promoter-TSS (ID=asmbl_16617.exon1;Parent=asmb...</td>\n",
       "      <td>-267.0</td>\n",
       "      <td>ID=asmbl_16613.exon1;Parent=asmbl_16613;gene_i...</td>\n",
       "      <td>asmbl_16611</td>\n",
       "      <td>False</td>\n",
       "      <td>PARP16</td>\n",
       "      <td>gene_5744</td>\n",
       "      <td>150</td>\n",
       "    </tr>\n",
       "    <tr>\n",
       "      <th>Merged-picr_64-11363665-15</th>\n",
       "      <td>picr_64</td>\n",
       "      <td>11363590</td>\n",
       "      <td>11363741</td>\n",
       "      <td>+</td>\n",
       "      <td>8920.436523</td>\n",
       "      <td>/data/isshamie/TSS/Processed/BMDMwt/GRO/f04_pe...</td>\n",
       "      <td>Intergenic</td>\n",
       "      <td>-42355.0</td>\n",
       "      <td>ID=asmbl_69800.exon2;Parent=asmbl_69800;gene_i...</td>\n",
       "      <td>asmbl_69802</td>\n",
       "      <td>True</td>\n",
       "      <td>GRM3</td>\n",
       "      <td>gene_24621</td>\n",
       "      <td>151</td>\n",
       "    </tr>\n",
       "    <tr>\n",
       "      <th>Merged-picr_16-22007181-6</th>\n",
       "      <td>picr_16</td>\n",
       "      <td>22007101</td>\n",
       "      <td>22007263</td>\n",
       "      <td>+</td>\n",
       "      <td>6541.673828</td>\n",
       "      <td>/data/isshamie/TSS/Processed/Brain/mSTART/f04_...</td>\n",
       "      <td>promoter-TSS (ID=asmbl_24868.exon3;Parent=asmb...</td>\n",
       "      <td>-25868.0</td>\n",
       "      <td>ID=asmbl_24866.exon2;Parent=asmbl_24866;gene_i...</td>\n",
       "      <td>asmbl_24876</td>\n",
       "      <td>True</td>\n",
       "      <td>DSCAML1</td>\n",
       "      <td>gene_8431</td>\n",
       "      <td>162</td>\n",
       "    </tr>\n",
       "  </tbody>\n",
       "</table>\n",
       "</div>"
      ],
      "text/plain": [
       "                                                        Chr     Start  \\\n",
       "PeakID (cmd=annotatePeaks.pl Results/merged/all...                      \n",
       "Merged-picr_48-1084706-14                           picr_48   1084630   \n",
       "Merged-picr_33-4827737-11                           picr_33   4827637   \n",
       "Merged-picr_13-30535388-7                           picr_13  30535313   \n",
       "Merged-picr_64-11363665-15                          picr_64  11363590   \n",
       "Merged-picr_16-22007181-6                           picr_16  22007101   \n",
       "\n",
       "                                                         End Strand  \\\n",
       "PeakID (cmd=annotatePeaks.pl Results/merged/all...                    \n",
       "Merged-picr_48-1084706-14                            1084782      +   \n",
       "Merged-picr_33-4827737-11                            4827815      +   \n",
       "Merged-picr_13-30535388-7                           30535463      +   \n",
       "Merged-picr_64-11363665-15                          11363741      +   \n",
       "Merged-picr_16-22007181-6                           22007263      +   \n",
       "\n",
       "                                                      Peak Score  \\\n",
       "PeakID (cmd=annotatePeaks.pl Results/merged/all...                 \n",
       "Merged-picr_48-1084706-14                           50717.441406   \n",
       "Merged-picr_33-4827737-11                           17077.398438   \n",
       "Merged-picr_13-30535388-7                           15631.878906   \n",
       "Merged-picr_64-11363665-15                           8920.436523   \n",
       "Merged-picr_16-22007181-6                            6541.673828   \n",
       "\n",
       "                                                                              Focus Ratio/Region Size  \\\n",
       "PeakID (cmd=annotatePeaks.pl Results/merged/all...                                                      \n",
       "Merged-picr_48-1084706-14                           /data/isshamie/TSS/Processed/BMDMwt/GRO/f04_pe...   \n",
       "Merged-picr_33-4827737-11                           /data/isshamie/TSS/Processed/Brain/mSTART/f04_...   \n",
       "Merged-picr_13-30535388-7                           /data/isshamie/TSS/Processed/BMDMwt/GRO/f04_pe...   \n",
       "Merged-picr_64-11363665-15                          /data/isshamie/TSS/Processed/BMDMwt/GRO/f04_pe...   \n",
       "Merged-picr_16-22007181-6                           /data/isshamie/TSS/Processed/Brain/mSTART/f04_...   \n",
       "\n",
       "                                                                                           Annotation  \\\n",
       "PeakID (cmd=annotatePeaks.pl Results/merged/all...                                                      \n",
       "Merged-picr_48-1084706-14                           TTS (ID=asmbl_56918.exon2;Parent=asmbl_56918;g...   \n",
       "Merged-picr_33-4827737-11                           promoter-TSS (ID=asmbl_45526.exon1;Parent=asmb...   \n",
       "Merged-picr_13-30535388-7                           promoter-TSS (ID=asmbl_16617.exon1;Parent=asmb...   \n",
       "Merged-picr_64-11363665-15                                                                 Intergenic   \n",
       "Merged-picr_16-22007181-6                           promoter-TSS (ID=asmbl_24868.exon3;Parent=asmb...   \n",
       "\n",
       "                                                    Distance to TSS  \\\n",
       "PeakID (cmd=annotatePeaks.pl Results/merged/all...                    \n",
       "Merged-picr_48-1084706-14                                  127017.0   \n",
       "Merged-picr_33-4827737-11                                       4.0   \n",
       "Merged-picr_13-30535388-7                                    -267.0   \n",
       "Merged-picr_64-11363665-15                                 -42355.0   \n",
       "Merged-picr_16-22007181-6                                  -25868.0   \n",
       "\n",
       "                                                                                   Nearest PromoterID  \\\n",
       "PeakID (cmd=annotatePeaks.pl Results/merged/all...                                                      \n",
       "Merged-picr_48-1084706-14                           ID=asmbl_56919.exon2;Parent=asmbl_56919;gene_i...   \n",
       "Merged-picr_33-4827737-11                           ID=asmbl_45526.exon1;Parent=asmbl_45526;gene_i...   \n",
       "Merged-picr_13-30535388-7                           ID=asmbl_16613.exon1;Parent=asmbl_16613;gene_i...   \n",
       "Merged-picr_64-11363665-15                          ID=asmbl_69800.exon2;Parent=asmbl_69800;gene_i...   \n",
       "Merged-picr_16-22007181-6                           ID=asmbl_24866.exon2;Parent=asmbl_24866;gene_i...   \n",
       "\n",
       "                                                    Nearest TSS  isSameStrand  \\\n",
       "PeakID (cmd=annotatePeaks.pl Results/merged/all...                              \n",
       "Merged-picr_48-1084706-14                           asmbl_56916          True   \n",
       "Merged-picr_33-4827737-11                           asmbl_45526          True   \n",
       "Merged-picr_13-30535388-7                           asmbl_16611         False   \n",
       "Merged-picr_64-11363665-15                          asmbl_69802          True   \n",
       "Merged-picr_16-22007181-6                           asmbl_24876          True   \n",
       "\n",
       "                                                   Nearest gene  \\\n",
       "PeakID (cmd=annotatePeaks.pl Results/merged/all...                \n",
       "Merged-picr_48-1084706-14                               MTHFD1L   \n",
       "Merged-picr_33-4827737-11                                  CPA2   \n",
       "Merged-picr_13-30535388-7                                PARP16   \n",
       "Merged-picr_64-11363665-15                                 GRM3   \n",
       "Merged-picr_16-22007181-6                               DSCAML1   \n",
       "\n",
       "                                                   Nearest gene_id  Length  \n",
       "PeakID (cmd=annotatePeaks.pl Results/merged/all...                          \n",
       "Merged-picr_48-1084706-14                             gene_20259_1     152  \n",
       "Merged-picr_33-4827737-11                               gene_16120     178  \n",
       "Merged-picr_13-30535388-7                                gene_5744     150  \n",
       "Merged-picr_64-11363665-15                              gene_24621     151  \n",
       "Merged-picr_16-22007181-6                                gene_8431     162  "
      ]
     },
     "execution_count": 7,
     "metadata": {},
     "output_type": "execute_result"
    }
   ],
   "source": [
    "anno_peaks = pd.read_csv(\"Results/peaks_with_tss_and_gene.tsv\",sep='\\t',index_col=0)\n",
    "anno_peaks['Length'] = anno_peaks['End'] - anno_peaks['Start']\n",
    "anno_peaks.head()"
   ]
  },
  {
   "cell_type": "markdown",
   "metadata": {},
   "source": [
    "## Create an n-by-m matrix where |n|= Number of peaks and |m| = Number of motifs and each element is a count for how many times that motif was seen within +/- 75 bp of peak\n"
   ]
  },
  {
   "cell_type": "code",
   "execution_count": 8,
   "metadata": {
    "collapsed": true
   },
   "outputs": [],
   "source": [
    "all_motifs = glob.glob('Results/motifs/all_peaks_merged_anno*instance.p')"
   ]
  },
  {
   "cell_type": "code",
   "execution_count": 10,
   "metadata": {
    "collapsed": true
   },
   "outputs": [],
   "source": [
    "def motif_counts(seq_len,motif_instances,bins=[-75,75],compl_strand=False):\n",
    "    ### Returns counts of motifs within the a certain range. \n",
    "    ### If compl_strand=True, it returns a tuple with number of positive hits as the first element \n",
    "    ### And negative elements as the second.\n",
    "    mid = np.ceil(seq_len/2)\n",
    "    curr_motif_instance = np.array(motif_instances) #From list to array\n",
    "    \n",
    "    if compl_strand:\n",
    "        pos = curr_motif_instance[np.apply_along_axis(lambda x: x>=0,0,curr_motif_instance)]\n",
    "        neg = curr_motif_instance[np.apply_along_axis(lambda x: x<0,0,curr_motif_instance)]\n",
    "        pos_count = np.sum(np.apply_along_axis(lambda x: (bins[0] < mid - x) & (mid-x < bins[1]),0,pos))\n",
    "        neg = np.abs(neg)\n",
    "        neg_count = np.sum(np.apply_along_axis(lambda x: (bins[0] < mid - x) & (mid-x < bins[1]),0,neg))\n",
    "        return (pos_count,neg_count)\n",
    "        #return list(map(lambda x: bins[0] < mid - x and mid-x < bins[1] ,motif_instances)).count(True) \n",
    "    else:\n",
    "        return np.sum(np.apply_along_axis(lambda x: (bins[0] < mid - x) & (mid-x < bins[1]),0,curr_motif_instance))"
   ]
  },
  {
   "cell_type": "code",
   "execution_count": 11,
   "metadata": {
    "collapsed": true
   },
   "outputs": [],
   "source": [
    "def wrap_motifs(df,anno_df,motifs,new_col):\n",
    "    not_in_peaks = 0\n",
    "    for peak, val in df.iterrows():\n",
    "        seq_len = anno_df.loc[peak,'Length']\n",
    "        if peak in motifs:\n",
    "            motif_instances = motifs[peak]\n",
    "            #motif_instances = df.loc[peak,'instances']\n",
    "            df.at[peak,new_col] = motif_counts(seq_len,motif_instances,compl_strand=True)[0]\n",
    "        else:\n",
    "            df.at[peak,new_col] = 0\n",
    "            not_in_peaks += 1\n",
    "    #print('Not found in peaks', not_in_peaks)\n",
    "    return df"
   ]
  },
  {
   "cell_type": "code",
   "execution_count": 16,
   "metadata": {
    "scrolled": true
   },
   "outputs": [
    {
     "name": "stdout",
     "output_type": "stream",
     "text": [
      "0\n",
      "Results/motifs/all_peaks_merged_anno_inr_instance.p\n",
      "inr\n",
      "1\n",
      "Results/motifs/all_peaks_merged_anno_tata_instance.p\n",
      "tata\n",
      "CPU times: user 37.2 s, sys: 3.14 s, total: 40.3 s\n",
      "Wall time: 4min 55s\n"
     ]
    }
   ],
   "source": [
    "%%time\n",
    "all_motifs = glob.glob('Results/motifs/all_peaks_merged_anno*instance.p')\n",
    "all_motifs = list(filter(lambda x:'inr' in x or 'tata' in x,all_motifs))\n",
    "motif_names = map(lambda x: os.path.basename(x).split('_')[-2],all_motifs)\n",
    "\n",
    "peak_motif_counts = pd.DataFrame(index=anno_peaks.index,columns = motif_names)\n",
    "#peak_motif_counts = pd.DataFrame(index=anno_peaks.index)\n",
    "\n",
    "for ind,i in enumerate(all_motifs):\n",
    "    print(ind)\n",
    "    print(i)\n",
    "    f_out = i\n",
    "    motifs = pickle.load(open(f_out,'rb'))\n",
    "\n",
    "    print(motif_names[ind])\n",
    "    #peak_motif_counts = wrap_motifs(anno_peaks,motifs,motif_names[ind])\n",
    "    peak_motif_counts = pf.parallel_df(peak_motif_counts,func=wrap_motifs,func_args=[anno_peaks[['Length']],motifs,motif_names[ind]],num_processes=2)"
   ]
  },
  {
   "cell_type": "code",
   "execution_count": 17,
   "metadata": {},
   "outputs": [
    {
     "data": {
      "text/html": [
       "<div>\n",
       "<style scoped>\n",
       "    .dataframe tbody tr th:only-of-type {\n",
       "        vertical-align: middle;\n",
       "    }\n",
       "\n",
       "    .dataframe tbody tr th {\n",
       "        vertical-align: top;\n",
       "    }\n",
       "\n",
       "    .dataframe thead th {\n",
       "        text-align: right;\n",
       "    }\n",
       "</style>\n",
       "<table border=\"1\" class=\"dataframe\">\n",
       "  <thead>\n",
       "    <tr style=\"text-align: right;\">\n",
       "      <th></th>\n",
       "      <th>inr</th>\n",
       "      <th>tata</th>\n",
       "    </tr>\n",
       "    <tr>\n",
       "      <th>PeakID (cmd=annotatePeaks.pl Results/merged/all_peaks_merged.tsv /data/isshamie/genome/picr.fa -gff /data/isshamie/genome/updated_final_sort.gff3)</th>\n",
       "      <th></th>\n",
       "      <th></th>\n",
       "    </tr>\n",
       "  </thead>\n",
       "  <tbody>\n",
       "    <tr>\n",
       "      <th>Merged-picr_48-1084706-14</th>\n",
       "      <td>0</td>\n",
       "      <td>0</td>\n",
       "    </tr>\n",
       "    <tr>\n",
       "      <th>Merged-picr_33-4827737-11</th>\n",
       "      <td>0</td>\n",
       "      <td>4</td>\n",
       "    </tr>\n",
       "    <tr>\n",
       "      <th>Merged-picr_13-30535388-7</th>\n",
       "      <td>0</td>\n",
       "      <td>2</td>\n",
       "    </tr>\n",
       "    <tr>\n",
       "      <th>Merged-picr_64-11363665-15</th>\n",
       "      <td>0</td>\n",
       "      <td>5</td>\n",
       "    </tr>\n",
       "    <tr>\n",
       "      <th>Merged-picr_16-22007181-6</th>\n",
       "      <td>0</td>\n",
       "      <td>2</td>\n",
       "    </tr>\n",
       "  </tbody>\n",
       "</table>\n",
       "</div>"
      ],
      "text/plain": [
       "                                                   inr tata\n",
       "PeakID (cmd=annotatePeaks.pl Results/merged/all...         \n",
       "Merged-picr_48-1084706-14                            0    0\n",
       "Merged-picr_33-4827737-11                            0    4\n",
       "Merged-picr_13-30535388-7                            0    2\n",
       "Merged-picr_64-11363665-15                           0    5\n",
       "Merged-picr_16-22007181-6                            0    2"
      ]
     },
     "execution_count": 17,
     "metadata": {},
     "output_type": "execute_result"
    }
   ],
   "source": [
    "peak_motif_counts.head()"
   ]
  },
  {
   "cell_type": "code",
   "execution_count": 18,
   "metadata": {
    "collapsed": true
   },
   "outputs": [],
   "source": [
    "peak_motif_counts.to_csv('Results/motifs/all_peaks_instances_combined.csv')"
   ]
  },
  {
   "cell_type": "code",
   "execution_count": 8,
   "metadata": {
    "collapsed": true
   },
   "outputs": [],
   "source": [
    "peak_motif_counts = pd.read_csv('Results/motifs/all_peaks_instances_combined.csv',index_col=0)"
   ]
  },
  {
   "cell_type": "code",
   "execution_count": 9,
   "metadata": {},
   "outputs": [
    {
     "data": {
      "text/html": [
       "<div>\n",
       "<style scoped>\n",
       "    .dataframe tbody tr th:only-of-type {\n",
       "        vertical-align: middle;\n",
       "    }\n",
       "\n",
       "    .dataframe tbody tr th {\n",
       "        vertical-align: top;\n",
       "    }\n",
       "\n",
       "    .dataframe thead th {\n",
       "        text-align: right;\n",
       "    }\n",
       "</style>\n",
       "<table border=\"1\" class=\"dataframe\">\n",
       "  <thead>\n",
       "    <tr style=\"text-align: right;\">\n",
       "      <th></th>\n",
       "      <th>inr</th>\n",
       "      <th>tata</th>\n",
       "    </tr>\n",
       "    <tr>\n",
       "      <th>PeakID (cmd=annotatePeaks.pl Results/merged/all_peaks_merged.tsv /data/isshamie/genome/picr.fa -gff /data/isshamie/genome/updated_final_sort.gff3)</th>\n",
       "      <th></th>\n",
       "      <th></th>\n",
       "    </tr>\n",
       "  </thead>\n",
       "  <tbody>\n",
       "    <tr>\n",
       "      <th>Merged-picr_48-1084706-14</th>\n",
       "      <td>0</td>\n",
       "      <td>0</td>\n",
       "    </tr>\n",
       "    <tr>\n",
       "      <th>Merged-picr_33-4827737-11</th>\n",
       "      <td>0</td>\n",
       "      <td>4</td>\n",
       "    </tr>\n",
       "    <tr>\n",
       "      <th>Merged-picr_13-30535388-7</th>\n",
       "      <td>0</td>\n",
       "      <td>2</td>\n",
       "    </tr>\n",
       "    <tr>\n",
       "      <th>Merged-picr_64-11363665-15</th>\n",
       "      <td>0</td>\n",
       "      <td>5</td>\n",
       "    </tr>\n",
       "    <tr>\n",
       "      <th>Merged-picr_16-22007181-6</th>\n",
       "      <td>0</td>\n",
       "      <td>2</td>\n",
       "    </tr>\n",
       "  </tbody>\n",
       "</table>\n",
       "</div>"
      ],
      "text/plain": [
       "                                                    inr  tata\n",
       "PeakID (cmd=annotatePeaks.pl Results/merged/all...           \n",
       "Merged-picr_48-1084706-14                             0     0\n",
       "Merged-picr_33-4827737-11                             0     4\n",
       "Merged-picr_13-30535388-7                             0     2\n",
       "Merged-picr_64-11363665-15                            0     5\n",
       "Merged-picr_16-22007181-6                             0     2"
      ]
     },
     "execution_count": 9,
     "metadata": {},
     "output_type": "execute_result"
    }
   ],
   "source": [
    "peak_motif_counts.head()"
   ]
  },
  {
   "cell_type": "markdown",
   "metadata": {},
   "source": [
    "------------"
   ]
  },
  {
   "cell_type": "markdown",
   "metadata": {},
   "source": [
    "------------"
   ]
  },
  {
   "cell_type": "markdown",
   "metadata": {},
   "source": [
    "------------"
   ]
  },
  {
   "cell_type": "markdown",
   "metadata": {},
   "source": [
    "## Clustering"
   ]
  },
  {
   "cell_type": "code",
   "execution_count": 20,
   "metadata": {},
   "outputs": [
    {
     "data": {
      "text/plain": [
       "array([[0, 0],\n",
       "       [0, 4],\n",
       "       [0, 2],\n",
       "       ..., \n",
       "       [0, 0],\n",
       "       [0, 3],\n",
       "       [1, 2]], dtype=object)"
      ]
     },
     "execution_count": 20,
     "metadata": {},
     "output_type": "execute_result"
    }
   ],
   "source": [
    "np.array(peak_motif_counts)"
   ]
  },
  {
   "cell_type": "code",
   "execution_count": 22,
   "metadata": {
    "collapsed": true
   },
   "outputs": [],
   "source": [
    "from scipy.cluster.hierarchy import dendrogram, linkage\n"
   ]
  },
  {
   "cell_type": "code",
   "execution_count": null,
   "metadata": {
    "collapsed": true
   },
   "outputs": [],
   "source": [
    "X = np.array(peak_motif_counts)"
   ]
  },
  {
   "cell_type": "code",
   "execution_count": null,
   "metadata": {
    "collapsed": true
   },
   "outputs": [],
   "source": [
    "Z = linkage(X, 'ward')"
   ]
  },
  {
   "cell_type": "code",
   "execution_count": null,
   "metadata": {
    "collapsed": true
   },
   "outputs": [],
   "source": [
    "from scipy.cluster.hierarchy import cophenet\n",
    "from scipy.spatial.distance import pdist\n",
    "\n",
    "c, coph_dists = cophenet(Z, pdist(X))\n",
    "c"
   ]
  },
  {
   "cell_type": "code",
   "execution_count": null,
   "metadata": {
    "collapsed": true
   },
   "outputs": [],
   "source": [
    "plt.title('Hierarchical Clustering Dendrogram (truncated)')\n",
    "plt.xlabel('sample index')\n",
    "plt.ylabel('distance')\n",
    "dendrogram(\n",
    "    Z,\n",
    "    truncate_mode='lastp',  # show only the last p merged clusters\n",
    "    p=12,  # show only the last p merged clusters\n",
    "    show_leaf_counts=False,  # otherwise numbers in brackets are counts\n",
    "    leaf_rotation=90.,\n",
    "    leaf_font_size=12.,\n",
    "    show_contracted=True,  # to get a distribution impression in truncated branches\n",
    ")\n",
    "plt.show()"
   ]
  },
  {
   "cell_type": "markdown",
   "metadata": {},
   "source": [
    "-----------------"
   ]
  },
  {
   "cell_type": "markdown",
   "metadata": {},
   "source": [
    "-----------------"
   ]
  },
  {
   "cell_type": "markdown",
   "metadata": {},
   "source": [
    "-----------------"
   ]
  },
  {
   "cell_type": "code",
   "execution_count": 10,
   "metadata": {},
   "outputs": [
    {
     "name": "stdout",
     "output_type": "stream",
     "text": [
      "34253\n"
     ]
    },
    {
     "data": {
      "image/png": "[encoded data removed]",
      "text/plain": [
       "<matplotlib.figure.Figure at 0x7f1be32c8b90>"
      ]
     },
     "metadata": {
      "image/png": {
       "height": 380,
       "width": 550
      }
     },
     "output_type": "display_data"
    }
   ],
   "source": [
    "\n",
    "lens = []\n",
    "for key in motifs:\n",
    "    curr = np.array(motifs[key])\n",
    "    hits = np.sum(curr>0)\n",
    "    #lens.append(len(motifs[key]))\n",
    "    lens.append(hits)\n",
    "\n",
    "\n",
    "from collections import Counter\n",
    "\n",
    "labels, values = zip(*Counter(lens).items())\n",
    "\n",
    "indexes = np.arange(len(labels))\n",
    "width = 1\n",
    "\n",
    "plt.bar(indexes, values, width)\n",
    "#plt.xticks(indexes + width * 0.5, labels)\n",
    "plt.show()\n"
   ]
  }
 ],
 "metadata": {
  "kernelspec": {
   "display_name": "Python 2",
   "language": "python",
   "name": "python2"
  },
  "language_info": {
   "codemirror_mode": {
    "name": "ipython",
    "version": 2
   },
   "file_extension": ".py",
   "mimetype": "text/x-python",
   "name": "python",
   "nbconvert_exporter": "python",
   "pygments_lexer": "ipython2",
   "version": "2.7.13"
  }
 },
 "nbformat": 4,
 "nbformat_minor": 2
}
