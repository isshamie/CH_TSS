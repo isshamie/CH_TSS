{
 "cells": [
  {
   "cell_type": "markdown",
   "metadata": {},
   "source": [
    "## GCF annotation release by NCBI"
   ]
  },
  {
   "cell_type": "code",
   "execution_count": 1,
   "metadata": {
    "ExecuteTime": {
     "end_time": "2020-04-10T21:58:07.015923Z",
     "start_time": "2020-04-10T21:58:05.152039Z"
    }
   },
   "outputs": [
    {
     "name": "stderr",
     "output_type": "stream",
     "text": [
      "/home/isshamie/software/anaconda2/envs/TSS/lib/python3.7/site-packages/ipykernel_launcher.py:10: YAMLLoadWarning: calling yaml.load() without Loader=... is deprecated, as the default Loader is unsafe. Please read https://msg.pyyaml.org/load for full details.\n",
      "  # Remove the CWD from sys.path while we load stuff.\n"
     ]
    },
    {
     "name": "stdout",
     "output_type": "stream",
     "text": [
      "params {'EMAIL': 'isshamie@ucsd.edu', 'parameters': 'parameters/params.yaml'}\n",
      "Number of tissues:  13\n",
      "/data/isshamie/TSS/Analysis/Analysis_03302020/Results\n"
     ]
    }
   ],
   "source": [
    "parameter_file = '../parameters/params.yaml'\n",
    "import os\n",
    "import yaml\n",
    "import sys\n",
    "from os.path import join\n",
    "import glob\n",
    "import pandas as pd\n",
    "\n",
    "with open(parameter_file,'r') as f:\n",
    "    doc = yaml.load(f)\n",
    "\n",
    "#p = dic2obj(**doc)\n",
    "\n",
    "data_folder = doc['data_folder']\n",
    "tissues = doc['tissues'].split(',')\n",
    "sys.path.append(doc['pipeline_path'])\n",
    "ref_fa = doc['ref_fa']\n",
    "annotation=doc['annotation']\n",
    "\n",
    "#tss_file = doc['tss_annotation']\n",
    "\n",
    "## change to results directory\n",
    "os.chdir(doc[\"results\"])\n",
    "tss_file = join(\"genome/picr/gcf/start_site_mRNA.tsv\")\n",
    "%load_ext autoreload\n",
    "%autoreload 2\n",
    "\n",
    "\n",
    "from tss.data import annotation\n",
    "#from Homer import *\n",
    "print('Number of tissues: ',len(tissues))\n",
    "import numpy as np\n",
    "!pwd\n"
   ]
  },
  {
   "cell_type": "markdown",
   "metadata": {},
   "source": [
    "### Create annotation"
   ]
  },
  {
   "cell_type": "markdown",
   "metadata": {},
   "source": [
    "#### Annotation file:  updated_final_sort.gff3\n",
    "#### Genome: picr.gff3"
   ]
  },
  {
   "cell_type": "code",
   "execution_count": 2,
   "metadata": {
    "ExecuteTime": {
     "end_time": "2020-04-10T21:58:07.084068Z",
     "start_time": "2020-04-10T21:58:07.028351Z"
    }
   },
   "outputs": [
    {
     "name": "stdout",
     "output_type": "stream",
     "text": [
      "tss_annotation/picr/gcf\n"
     ]
    }
   ],
   "source": [
    "outdir = \"tss_annotation\"\n",
    "outdir = join(outdir, \"picr\", \"gcf\")\n",
    "print(outdir)"
   ]
  },
  {
   "cell_type": "code",
   "execution_count": 3,
   "metadata": {
    "ExecuteTime": {
     "end_time": "2020-04-10T21:58:07.280351Z",
     "start_time": "2020-04-10T21:58:07.244859Z"
    }
   },
   "outputs": [],
   "source": [
    "if not os.path.exists(outdir):\n",
    "    os.makedirs(outdir)"
   ]
  },
  {
   "cell_type": "code",
   "execution_count": 4,
   "metadata": {
    "ExecuteTime": {
     "end_time": "2020-04-10T21:58:07.955587Z",
     "start_time": "2020-04-10T21:58:07.919827Z"
    }
   },
   "outputs": [],
   "source": [
    "peaks_file = \"merged/peaks_with_tss_distances_size1.noCDS.tsv\""
   ]
  },
  {
   "cell_type": "markdown",
   "metadata": {},
   "source": [
    "## Gene"
   ]
  },
  {
   "cell_type": "markdown",
   "metadata": {},
   "source": [
    "### a.\n",
    "i. introns excluded  \n",
    "ii. peak_bins [-1000,+100]"
   ]
  },
  {
   "cell_type": "code",
   "execution_count": 5,
   "metadata": {
    "ExecuteTime": {
     "end_time": "2020-04-10T20:55:24.652918Z",
     "start_time": "2020-04-10T20:38:57.463795Z"
    },
    "scrolled": true
   },
   "outputs": [
    {
     "name": "stderr",
     "output_type": "stream",
     "text": [
      "100%|██████████| 19774/19774 [16:08<00:00, 20.42it/s] \n"
     ]
    },
    {
     "name": "stdout",
     "output_type": "stream",
     "text": [
      "Total Number:  21387\n",
      "Total Number with start sites:  14259\n",
      "Fraction with start sites:  0.6667134240426428\n",
      "CPU times: user 12min 33s, sys: 5.64 s, total: 12min 39s\n",
      "Wall time: 16min 27s\n"
     ]
    }
   ],
   "source": [
    "%%time\n",
    "#peaks_file = 'merged/peaks_with_tss_distances.tsv'\n",
    "peaks_expression_file = 'merged/samples.merge.peaksexpression'\n",
    "\n",
    "\n",
    "df = annotation.wrap_create_anno_centric(peaks_file, peaks_expression_file, tss_file,\n",
    "                             peak_bin=(-1000, 100), anno_col='Nearest gene',\n",
    "                             tss_df_col='gene',\n",
    "                             f_save=join(outdir, 'gene_df_01'), allow_intron=False)\n",
    "\n"
   ]
  },
  {
   "cell_type": "markdown",
   "metadata": {
    "deletable": false,
    "editable": false,
    "run_control": {
     "frozen": true
    }
   },
   "source": [
    "### b.\n",
    "i. introns excluded  \n",
    "ii. peak_bins [-1000,+1000]"
   ]
  },
  {
   "cell_type": "code",
   "execution_count": 6,
   "metadata": {
    "ExecuteTime": {
     "end_time": "2020-04-10T21:23:46.579416Z",
     "start_time": "2020-04-10T20:55:24.658909Z"
    }
   },
   "outputs": [
    {
     "name": "stderr",
     "output_type": "stream",
     "text": [
      "100%|██████████| 19774/19774 [28:07<00:00, 11.72it/s]  \n"
     ]
    },
    {
     "name": "stdout",
     "output_type": "stream",
     "text": [
      "Total Number:  21387\n",
      "Total Number with start sites:  15312\n",
      "Fraction with start sites:  0.7159489409454342\n",
      "CPU times: user 15min 7s, sys: 6.86 s, total: 15min 14s\n",
      "Wall time: 28min 21s\n"
     ]
    }
   ],
   "source": [
    "%%time\n",
    "#peaks_file = 'merged/peaks_with_tss_distances.tsv'\n",
    "peaks_expression_file = 'merged/samples.merge.peaksexpression'\n",
    "\n",
    "\n",
    "df = annotation.wrap_create_anno_centric(peaks_file, peaks_expression_file, tss_file,\n",
    "                             peak_bin=(-1000, 1000), anno_col='Nearest gene',\n",
    "                             tss_df_col='gene',\n",
    "                             f_save=join(outdir, 'gene_df_02'), allow_intron=False)\n",
    "\n"
   ]
  },
  {
   "cell_type": "markdown",
   "metadata": {},
   "source": [
    "## Txn"
   ]
  },
  {
   "cell_type": "markdown",
   "metadata": {},
   "source": [
    "### a.\n",
    "i. introns excluded  \n",
    "ii. peak_bins [-1000,+100]"
   ]
  },
  {
   "cell_type": "code",
   "execution_count": 5,
   "metadata": {
    "ExecuteTime": {
     "end_time": "2020-04-10T21:58:21.388633Z",
     "start_time": "2020-04-10T21:58:13.731315Z"
    },
    "scrolled": true
   },
   "outputs": [
    {
     "data": {
      "text/html": [
       "<div>\n",
       "<style scoped>\n",
       "    .dataframe tbody tr th:only-of-type {\n",
       "        vertical-align: middle;\n",
       "    }\n",
       "\n",
       "    .dataframe tbody tr th {\n",
       "        vertical-align: top;\n",
       "    }\n",
       "\n",
       "    .dataframe thead th {\n",
       "        text-align: right;\n",
       "    }\n",
       "</style>\n",
       "<table border=\"1\" class=\"dataframe\">\n",
       "  <thead>\n",
       "    <tr style=\"text-align: right;\">\n",
       "      <th></th>\n",
       "      <th>Chr</th>\n",
       "      <th>Start</th>\n",
       "      <th>End</th>\n",
       "      <th>Strand</th>\n",
       "      <th>Stat</th>\n",
       "      <th>Annotation</th>\n",
       "      <th>Nearest TSS</th>\n",
       "      <th>Distance to TSS</th>\n",
       "      <th>isSameStrand</th>\n",
       "      <th>Nearest gene</th>\n",
       "    </tr>\n",
       "    <tr>\n",
       "      <th>ID</th>\n",
       "      <th></th>\n",
       "      <th></th>\n",
       "      <th></th>\n",
       "      <th></th>\n",
       "      <th></th>\n",
       "      <th></th>\n",
       "      <th></th>\n",
       "      <th></th>\n",
       "      <th></th>\n",
       "      <th></th>\n",
       "    </tr>\n",
       "  </thead>\n",
       "  <tbody>\n",
       "    <tr>\n",
       "      <td>0</td>\n",
       "      <td>NW_020822452.1</td>\n",
       "      <td>16590385</td>\n",
       "      <td>16590386</td>\n",
       "      <td>+</td>\n",
       "      <td>16.227333</td>\n",
       "      <td>promoter-TSS (ID=exon-XM_027399668.1-1;Parent=...</td>\n",
       "      <td>XM_027399668.1</td>\n",
       "      <td>-462.5</td>\n",
       "      <td>False</td>\n",
       "      <td>Clic4</td>\n",
       "    </tr>\n",
       "    <tr>\n",
       "      <td>1</td>\n",
       "      <td>NW_020822597.1</td>\n",
       "      <td>23595396</td>\n",
       "      <td>23595397</td>\n",
       "      <td>+</td>\n",
       "      <td>5.740000</td>\n",
       "      <td>Intergenic</td>\n",
       "      <td>XM_027420351.1</td>\n",
       "      <td>-23849.5</td>\n",
       "      <td>True</td>\n",
       "      <td>Baz2b</td>\n",
       "    </tr>\n",
       "    <tr>\n",
       "      <td>2</td>\n",
       "      <td>NW_020822680.1</td>\n",
       "      <td>728718</td>\n",
       "      <td>728719</td>\n",
       "      <td>+</td>\n",
       "      <td>7.579579</td>\n",
       "      <td>promoter-TSS (ID=exon-XM_027432478.1-3;Parent=...</td>\n",
       "      <td>XM_027432478.1</td>\n",
       "      <td>746.0</td>\n",
       "      <td>False</td>\n",
       "      <td>Irak1</td>\n",
       "    </tr>\n",
       "    <tr>\n",
       "      <td>3</td>\n",
       "      <td>NW_020822602.1</td>\n",
       "      <td>10883205</td>\n",
       "      <td>10883206</td>\n",
       "      <td>+</td>\n",
       "      <td>3.992000</td>\n",
       "      <td>Intergenic</td>\n",
       "      <td>XM_027423054.1</td>\n",
       "      <td>9079.5</td>\n",
       "      <td>True</td>\n",
       "      <td>Gbgt1</td>\n",
       "    </tr>\n",
       "    <tr>\n",
       "      <td>4</td>\n",
       "      <td>NW_020822601.1</td>\n",
       "      <td>37427907</td>\n",
       "      <td>37427908</td>\n",
       "      <td>+</td>\n",
       "      <td>129.031738</td>\n",
       "      <td>promoter-TSS (ID=exon-XM_027421990.1-1;Parent=...</td>\n",
       "      <td>XM_027421990.1</td>\n",
       "      <td>-10.5</td>\n",
       "      <td>True</td>\n",
       "      <td>Shf</td>\n",
       "    </tr>\n",
       "  </tbody>\n",
       "</table>\n",
       "</div>"
      ],
      "text/plain": [
       "               Chr     Start       End Strand        Stat  \\\n",
       "ID                                                          \n",
       "0   NW_020822452.1  16590385  16590386      +   16.227333   \n",
       "1   NW_020822597.1  23595396  23595397      +    5.740000   \n",
       "2   NW_020822680.1    728718    728719      +    7.579579   \n",
       "3   NW_020822602.1  10883205  10883206      +    3.992000   \n",
       "4   NW_020822601.1  37427907  37427908      +  129.031738   \n",
       "\n",
       "                                           Annotation     Nearest TSS  \\\n",
       "ID                                                                      \n",
       "0   promoter-TSS (ID=exon-XM_027399668.1-1;Parent=...  XM_027399668.1   \n",
       "1                                          Intergenic  XM_027420351.1   \n",
       "2   promoter-TSS (ID=exon-XM_027432478.1-3;Parent=...  XM_027432478.1   \n",
       "3                                          Intergenic  XM_027423054.1   \n",
       "4   promoter-TSS (ID=exon-XM_027421990.1-1;Parent=...  XM_027421990.1   \n",
       "\n",
       "    Distance to TSS  isSameStrand Nearest gene  \n",
       "ID                                              \n",
       "0            -462.5         False        Clic4  \n",
       "1          -23849.5          True        Baz2b  \n",
       "2             746.0         False        Irak1  \n",
       "3            9079.5          True        Gbgt1  \n",
       "4             -10.5          True          Shf  "
      ]
     },
     "execution_count": 5,
     "metadata": {},
     "output_type": "execute_result"
    }
   ],
   "source": [
    "#peaks_file = 'merged/peaks_with_tss_distances.tsv'\n",
    "peaks_expression_file = 'merged/samples.merge.peaksexpression'\n",
    "peaks_df = pd.read_csv(peaks_file,sep='\\t',index_col=0,na_filter=False)\n",
    "\n",
    "tss_df = pd.read_csv(tss_file, sep='\\t', index_col=0)\n",
    "peaks_df = pd.read_csv(peaks_file,sep='\\t',index_col=0,na_filter=False)\n",
    "peak_tissue_matrix = pd.read_csv(peaks_expression_file,sep='\\t',index_col=0)\n",
    "peaks_df.head()"
   ]
  },
  {
   "cell_type": "code",
   "execution_count": 6,
   "metadata": {
    "ExecuteTime": {
     "end_time": "2020-04-10T22:24:37.971099Z",
     "start_time": "2020-04-10T21:58:21.392982Z"
    },
    "scrolled": true
   },
   "outputs": [
    {
     "name": "stderr",
     "output_type": "stream",
     "text": [
      "100%|██████████| 30356/30356 [26:04<00:00, 19.41it/s]  \n"
     ]
    },
    {
     "name": "stdout",
     "output_type": "stream",
     "text": [
      "Total Number:  35679\n",
      "Total Number with start sites:  18482\n",
      "Fraction with start sites:  0.5180077916981978\n",
      "CPU times: user 16min 40s, sys: 5.98 s, total: 16min 46s\n",
      "Wall time: 26min 16s\n"
     ]
    }
   ],
   "source": [
    "%%time\n",
    "#peaks_file = 'merged/peaks_with_tss_distances.tsv'\n",
    "peaks_expression_file = 'merged/samples.merge.peaksexpression'\n",
    "\n",
    "\n",
    "df = annotation.wrap_create_anno_centric(peaks_file, peaks_expression_file, tss_file,\n",
    "                             peak_bin=(-1000, 100), anno_col='Nearest TSS',\n",
    "                             tss_df_col='transcript_id',\n",
    "                             f_save=join(outdir, 'txn_df_01'), allow_intron=False)\n",
    "\n"
   ]
  },
  {
   "cell_type": "markdown",
   "metadata": {},
   "source": [
    "### b.\n",
    "i. introns excluded  \n",
    "ii. peak_bins [-1000,+1000]"
   ]
  },
  {
   "cell_type": "code",
   "execution_count": 7,
   "metadata": {
    "ExecuteTime": {
     "end_time": "2020-04-10T22:53:12.217245Z",
     "start_time": "2020-04-10T22:24:37.975428Z"
    },
    "scrolled": true
   },
   "outputs": [
    {
     "name": "stderr",
     "output_type": "stream",
     "text": [
      "100%|██████████| 30356/30356 [28:19<00:00, 17.86it/s]  \n"
     ]
    },
    {
     "name": "stdout",
     "output_type": "stream",
     "text": [
      "Total Number:  35679\n",
      "Total Number with start sites:  20628\n",
      "Fraction with start sites:  0.5781552173547465\n",
      "CPU times: user 18min 13s, sys: 8.8 s, total: 18min 22s\n",
      "Wall time: 28min 34s\n"
     ]
    }
   ],
   "source": [
    "%%time\n",
    "#peaks_file = 'merged/peaks_with_tss_distances.tsv'\n",
    "peaks_expression_file = 'merged/samples.merge.peaksexpression'\n",
    "\n",
    "\n",
    "df = annotation.wrap_create_anno_centric(peaks_file, peaks_expression_file, tss_file,\n",
    "                             peak_bin=(-1000, 1000), anno_col='Nearest TSS',\n",
    "                             tss_df_col='transcript_id',\n",
    "                             f_save=join(outdir, 'txn_df_02'), allow_intron=False)\n",
    "\n"
   ]
  },
  {
   "cell_type": "code",
   "execution_count": 10,
   "metadata": {
    "ExecuteTime": {
     "end_time": "2020-04-10T23:11:50.615702Z",
     "start_time": "2020-04-10T23:04:10.252163Z"
    },
    "scrolled": true
   },
   "outputs": [
    {
     "name": "stderr",
     "output_type": "stream",
     "text": [
      "35679it [07:12, 82.43it/s] \n"
     ]
    },
    {
     "data": {
      "text/html": [
       "<div>\n",
       "<style scoped>\n",
       "    .dataframe tbody tr th:only-of-type {\n",
       "        vertical-align: middle;\n",
       "    }\n",
       "\n",
       "    .dataframe tbody tr th {\n",
       "        vertical-align: top;\n",
       "    }\n",
       "\n",
       "    .dataframe thead th {\n",
       "        text-align: right;\n",
       "    }\n",
       "</style>\n",
       "<table border=\"1\" class=\"dataframe\">\n",
       "  <thead>\n",
       "    <tr style=\"text-align: right;\">\n",
       "      <th></th>\n",
       "      <th>Results/f04_peaks/MiscOrgans_START1_and_MiscOrgans_startinput1</th>\n",
       "      <th>Results/f04_peaks/Liver_START2_and_Liver_startinput1</th>\n",
       "      <th>Results/f04_peaks/Brain_GROCap1_and_Brain_GRO1</th>\n",
       "      <th>Results/f04_peaks/Liver_START1_and_Liver_startinput1</th>\n",
       "      <th>Results/f04_peaks/Lung_GROCap1_and_Lung_GRO1</th>\n",
       "      <th>Results/f04_peaks/Brain_START3_and_Brain_startinput1</th>\n",
       "      <th>Results/f04_peaks/Heart_START1_and_Heart_startinput1</th>\n",
       "      <th>Results/f04_peaks/CHO_GROCap2_and_CHO_GRO1</th>\n",
       "      <th>Results/f04_peaks/Heart_START2_and_Heart_startinput1</th>\n",
       "      <th>Results/f04_peaks/Liver_GROCap1_and_Liver_GRO1</th>\n",
       "      <th>...</th>\n",
       "      <th>Results/f04_peaks/MiscOrgans_START2_and_MiscOrgans_startinput1</th>\n",
       "      <th>Results/f04_peaks/Spleen_START1_and_Spleen_startinput1</th>\n",
       "      <th>Results/f04_peaks/Lung_START2_and_Lung_startinput1</th>\n",
       "      <th>Results/f04_peaks/CHO_START1_and_CHO_startinput1</th>\n",
       "      <th>Results/f04_peaks/FemaleReproductive_START1_and_FemaleReproductive_startinput1</th>\n",
       "      <th>Results/f04_peaks/Kidney_START2_and_Kidney_startinput1</th>\n",
       "      <th>Results/f04_peaks/Kidney_GROCap1_and_Kidney_GRO1</th>\n",
       "      <th>Results/f04_peaks/CHO_GROCap1_and_CHO_GRO1</th>\n",
       "      <th>Results/f04_peaks/BMDMwt_GROCap1_and_BMDMwt_GRO1</th>\n",
       "      <th>Results/f04_peaks/Spleen_START2_and_Spleen_startinput1</th>\n",
       "    </tr>\n",
       "  </thead>\n",
       "  <tbody>\n",
       "    <tr>\n",
       "      <td>XM_027386529.1</td>\n",
       "      <td>2.54</td>\n",
       "      <td>0.0</td>\n",
       "      <td>1.59</td>\n",
       "      <td>0.0</td>\n",
       "      <td>59.200001</td>\n",
       "      <td>0.00</td>\n",
       "      <td>0.0</td>\n",
       "      <td>0.0</td>\n",
       "      <td>0.000000</td>\n",
       "      <td>5.06</td>\n",
       "      <td>...</td>\n",
       "      <td>0.00</td>\n",
       "      <td>0.000000</td>\n",
       "      <td>0.000000</td>\n",
       "      <td>0.000000</td>\n",
       "      <td>0.000000</td>\n",
       "      <td>0.000000</td>\n",
       "      <td>27.900000</td>\n",
       "      <td>0.00</td>\n",
       "      <td>0.00</td>\n",
       "      <td>5.94</td>\n",
       "    </tr>\n",
       "    <tr>\n",
       "      <td>XM_027386528.1</td>\n",
       "      <td>4.23</td>\n",
       "      <td>248.5</td>\n",
       "      <td>3.01</td>\n",
       "      <td>0.0</td>\n",
       "      <td>37.099998</td>\n",
       "      <td>4.39</td>\n",
       "      <td>22.1</td>\n",
       "      <td>0.0</td>\n",
       "      <td>130.899994</td>\n",
       "      <td>4.49</td>\n",
       "      <td>...</td>\n",
       "      <td>5.17</td>\n",
       "      <td>32.400002</td>\n",
       "      <td>11864.599609</td>\n",
       "      <td>0.000000</td>\n",
       "      <td>37.799999</td>\n",
       "      <td>116.599998</td>\n",
       "      <td>35.099998</td>\n",
       "      <td>0.00</td>\n",
       "      <td>1.32</td>\n",
       "      <td>7.32</td>\n",
       "    </tr>\n",
       "    <tr>\n",
       "      <td>XM_027386531.1</td>\n",
       "      <td>3.38</td>\n",
       "      <td>0.0</td>\n",
       "      <td>1.43</td>\n",
       "      <td>0.0</td>\n",
       "      <td>0.000000</td>\n",
       "      <td>2.10</td>\n",
       "      <td>0.0</td>\n",
       "      <td>0.0</td>\n",
       "      <td>0.000000</td>\n",
       "      <td>0.00</td>\n",
       "      <td>...</td>\n",
       "      <td>0.97</td>\n",
       "      <td>6.270000</td>\n",
       "      <td>0.000000</td>\n",
       "      <td>15.300000</td>\n",
       "      <td>1.730000</td>\n",
       "      <td>0.000000</td>\n",
       "      <td>0.000000</td>\n",
       "      <td>9.97</td>\n",
       "      <td>2.83</td>\n",
       "      <td>0.00</td>\n",
       "    </tr>\n",
       "    <tr>\n",
       "      <td>XM_027386533.1</td>\n",
       "      <td>0.00</td>\n",
       "      <td>0.0</td>\n",
       "      <td>0.00</td>\n",
       "      <td>0.0</td>\n",
       "      <td>0.000000</td>\n",
       "      <td>0.00</td>\n",
       "      <td>0.0</td>\n",
       "      <td>0.0</td>\n",
       "      <td>0.000000</td>\n",
       "      <td>0.00</td>\n",
       "      <td>...</td>\n",
       "      <td>0.00</td>\n",
       "      <td>0.000000</td>\n",
       "      <td>0.000000</td>\n",
       "      <td>0.000000</td>\n",
       "      <td>0.000000</td>\n",
       "      <td>0.000000</td>\n",
       "      <td>0.000000</td>\n",
       "      <td>0.00</td>\n",
       "      <td>0.00</td>\n",
       "      <td>0.00</td>\n",
       "    </tr>\n",
       "    <tr>\n",
       "      <td>XM_027386534.1</td>\n",
       "      <td>5.92</td>\n",
       "      <td>12.5</td>\n",
       "      <td>12.90</td>\n",
       "      <td>0.0</td>\n",
       "      <td>8.690000</td>\n",
       "      <td>21.40</td>\n",
       "      <td>7.7</td>\n",
       "      <td>0.0</td>\n",
       "      <td>12.000000</td>\n",
       "      <td>6.18</td>\n",
       "      <td>...</td>\n",
       "      <td>2.42</td>\n",
       "      <td>20.000000</td>\n",
       "      <td>57.200001</td>\n",
       "      <td>32.700001</td>\n",
       "      <td>22.000000</td>\n",
       "      <td>16.200001</td>\n",
       "      <td>3.670000</td>\n",
       "      <td>0.00</td>\n",
       "      <td>19.40</td>\n",
       "      <td>5.94</td>\n",
       "    </tr>\n",
       "  </tbody>\n",
       "</table>\n",
       "<p>5 rows × 35 columns</p>\n",
       "</div>"
      ],
      "text/plain": [
       "                Results/f04_peaks/MiscOrgans_START1_and_MiscOrgans_startinput1  \\\n",
       "XM_027386529.1                                               2.54                \n",
       "XM_027386528.1                                               4.23                \n",
       "XM_027386531.1                                               3.38                \n",
       "XM_027386533.1                                               0.00                \n",
       "XM_027386534.1                                               5.92                \n",
       "\n",
       "                Results/f04_peaks/Liver_START2_and_Liver_startinput1  \\\n",
       "XM_027386529.1                                                0.0      \n",
       "XM_027386528.1                                              248.5      \n",
       "XM_027386531.1                                                0.0      \n",
       "XM_027386533.1                                                0.0      \n",
       "XM_027386534.1                                               12.5      \n",
       "\n",
       "                Results/f04_peaks/Brain_GROCap1_and_Brain_GRO1  \\\n",
       "XM_027386529.1                                            1.59   \n",
       "XM_027386528.1                                            3.01   \n",
       "XM_027386531.1                                            1.43   \n",
       "XM_027386533.1                                            0.00   \n",
       "XM_027386534.1                                           12.90   \n",
       "\n",
       "                Results/f04_peaks/Liver_START1_and_Liver_startinput1  \\\n",
       "XM_027386529.1                                                0.0      \n",
       "XM_027386528.1                                                0.0      \n",
       "XM_027386531.1                                                0.0      \n",
       "XM_027386533.1                                                0.0      \n",
       "XM_027386534.1                                                0.0      \n",
       "\n",
       "                Results/f04_peaks/Lung_GROCap1_and_Lung_GRO1  \\\n",
       "XM_027386529.1                                     59.200001   \n",
       "XM_027386528.1                                     37.099998   \n",
       "XM_027386531.1                                      0.000000   \n",
       "XM_027386533.1                                      0.000000   \n",
       "XM_027386534.1                                      8.690000   \n",
       "\n",
       "                Results/f04_peaks/Brain_START3_and_Brain_startinput1  \\\n",
       "XM_027386529.1                                               0.00      \n",
       "XM_027386528.1                                               4.39      \n",
       "XM_027386531.1                                               2.10      \n",
       "XM_027386533.1                                               0.00      \n",
       "XM_027386534.1                                              21.40      \n",
       "\n",
       "                Results/f04_peaks/Heart_START1_and_Heart_startinput1  \\\n",
       "XM_027386529.1                                                0.0      \n",
       "XM_027386528.1                                               22.1      \n",
       "XM_027386531.1                                                0.0      \n",
       "XM_027386533.1                                                0.0      \n",
       "XM_027386534.1                                                7.7      \n",
       "\n",
       "                Results/f04_peaks/CHO_GROCap2_and_CHO_GRO1  \\\n",
       "XM_027386529.1                                         0.0   \n",
       "XM_027386528.1                                         0.0   \n",
       "XM_027386531.1                                         0.0   \n",
       "XM_027386533.1                                         0.0   \n",
       "XM_027386534.1                                         0.0   \n",
       "\n",
       "                Results/f04_peaks/Heart_START2_and_Heart_startinput1  \\\n",
       "XM_027386529.1                                           0.000000      \n",
       "XM_027386528.1                                         130.899994      \n",
       "XM_027386531.1                                           0.000000      \n",
       "XM_027386533.1                                           0.000000      \n",
       "XM_027386534.1                                          12.000000      \n",
       "\n",
       "                Results/f04_peaks/Liver_GROCap1_and_Liver_GRO1  ...  \\\n",
       "XM_027386529.1                                            5.06  ...   \n",
       "XM_027386528.1                                            4.49  ...   \n",
       "XM_027386531.1                                            0.00  ...   \n",
       "XM_027386533.1                                            0.00  ...   \n",
       "XM_027386534.1                                            6.18  ...   \n",
       "\n",
       "                Results/f04_peaks/MiscOrgans_START2_and_MiscOrgans_startinput1  \\\n",
       "XM_027386529.1                                               0.00                \n",
       "XM_027386528.1                                               5.17                \n",
       "XM_027386531.1                                               0.97                \n",
       "XM_027386533.1                                               0.00                \n",
       "XM_027386534.1                                               2.42                \n",
       "\n",
       "                Results/f04_peaks/Spleen_START1_and_Spleen_startinput1  \\\n",
       "XM_027386529.1                                           0.000000        \n",
       "XM_027386528.1                                          32.400002        \n",
       "XM_027386531.1                                           6.270000        \n",
       "XM_027386533.1                                           0.000000        \n",
       "XM_027386534.1                                          20.000000        \n",
       "\n",
       "                Results/f04_peaks/Lung_START2_and_Lung_startinput1  \\\n",
       "XM_027386529.1                                           0.000000    \n",
       "XM_027386528.1                                       11864.599609    \n",
       "XM_027386531.1                                           0.000000    \n",
       "XM_027386533.1                                           0.000000    \n",
       "XM_027386534.1                                          57.200001    \n",
       "\n",
       "                Results/f04_peaks/CHO_START1_and_CHO_startinput1  \\\n",
       "XM_027386529.1                                          0.000000   \n",
       "XM_027386528.1                                          0.000000   \n",
       "XM_027386531.1                                         15.300000   \n",
       "XM_027386533.1                                          0.000000   \n",
       "XM_027386534.1                                         32.700001   \n",
       "\n",
       "                Results/f04_peaks/FemaleReproductive_START1_and_FemaleReproductive_startinput1  \\\n",
       "XM_027386529.1                                           0.000000                                \n",
       "XM_027386528.1                                          37.799999                                \n",
       "XM_027386531.1                                           1.730000                                \n",
       "XM_027386533.1                                           0.000000                                \n",
       "XM_027386534.1                                          22.000000                                \n",
       "\n",
       "                Results/f04_peaks/Kidney_START2_and_Kidney_startinput1  \\\n",
       "XM_027386529.1                                           0.000000        \n",
       "XM_027386528.1                                         116.599998        \n",
       "XM_027386531.1                                           0.000000        \n",
       "XM_027386533.1                                           0.000000        \n",
       "XM_027386534.1                                          16.200001        \n",
       "\n",
       "                Results/f04_peaks/Kidney_GROCap1_and_Kidney_GRO1  \\\n",
       "XM_027386529.1                                         27.900000   \n",
       "XM_027386528.1                                         35.099998   \n",
       "XM_027386531.1                                          0.000000   \n",
       "XM_027386533.1                                          0.000000   \n",
       "XM_027386534.1                                          3.670000   \n",
       "\n",
       "                Results/f04_peaks/CHO_GROCap1_and_CHO_GRO1  \\\n",
       "XM_027386529.1                                        0.00   \n",
       "XM_027386528.1                                        0.00   \n",
       "XM_027386531.1                                        9.97   \n",
       "XM_027386533.1                                        0.00   \n",
       "XM_027386534.1                                        0.00   \n",
       "\n",
       "                Results/f04_peaks/BMDMwt_GROCap1_and_BMDMwt_GRO1  \\\n",
       "XM_027386529.1                                              0.00   \n",
       "XM_027386528.1                                              1.32   \n",
       "XM_027386531.1                                              2.83   \n",
       "XM_027386533.1                                              0.00   \n",
       "XM_027386534.1                                             19.40   \n",
       "\n",
       "                Results/f04_peaks/Spleen_START2_and_Spleen_startinput1  \n",
       "XM_027386529.1                                               5.94       \n",
       "XM_027386528.1                                               7.32       \n",
       "XM_027386531.1                                               0.00       \n",
       "XM_027386533.1                                               0.00       \n",
       "XM_027386534.1                                               5.94       \n",
       "\n",
       "[5 rows x 35 columns]"
      ]
     },
     "execution_count": 10,
     "metadata": {},
     "output_type": "execute_result"
    }
   ],
   "source": [
    "f_in = join(outdir,\"txn_df_02.p\")\n",
    "f_mat_in = 'merged/samples.merge.peaksexpression'\n",
    "f_out = join(outdir, 'txn_df_02_matrix')\n",
    "txn_df_02_matrix = annotation.df_to_TSS_expression(f_in, f_mat_in, f_out=f_out)\n",
    "txn_df_02_matrix.head()"
   ]
  }
 ],
 "metadata": {
  "kernelspec": {
   "display_name": "Python 2",
   "language": "python",
   "name": "python2"
  },
  "language_info": {
   "codemirror_mode": {
    "name": "ipython",
    "version": 3
   },
   "file_extension": ".py",
   "mimetype": "text/x-python",
   "name": "python",
   "nbconvert_exporter": "python",
   "pygments_lexer": "ipython3",
   "version": "3.7.3"
  }
 },
 "nbformat": 4,
 "nbformat_minor": 2
}
