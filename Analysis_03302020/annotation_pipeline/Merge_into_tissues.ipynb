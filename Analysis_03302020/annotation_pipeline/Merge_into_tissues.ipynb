{
 "cells": [
  {
   "cell_type": "code",
   "execution_count": 1,
   "metadata": {
    "ExecuteTime": {
     "end_time": "2020-04-10T23:06:02.175882Z",
     "start_time": "2020-04-10T23:06:02.014490Z"
    }
   },
   "outputs": [
    {
     "name": "stderr",
     "output_type": "stream",
     "text": [
      "/home/isshamie/software/anaconda2/envs/TSS/lib/python3.7/site-packages/ipykernel_launcher.py:7: YAMLLoadWarning: calling yaml.load() without Loader=... is deprecated, as the default Loader is unsafe. Please read https://msg.pyyaml.org/load for full details.\n",
      "  import sys\n"
     ]
    }
   ],
   "source": [
    "## Parameters specific to where your folders are and your data\n",
    "parameter_file = '../parameters/params.yaml'\n",
    "import yaml\n",
    "import sys\n",
    "import os\n",
    "with open(parameter_file,'r') as f:\n",
    "    doc = yaml.load(f)\n",
    "\n",
    "#p = dic2obj(**doc)\n",
    "\n",
    "data_folder = doc['data_folder']\n",
    "tissues = doc['tissues'].split(',')\n",
    "sys.path.append(doc['pipeline_path'])\n",
    "ref_fa = doc['ref_fa']\n",
    "annotation=doc['annotation']\n",
    "\n",
    "os.chdir(doc[\"results\"])"
   ]
  },
  {
   "cell_type": "code",
   "execution_count": 2,
   "metadata": {
    "ExecuteTime": {
     "end_time": "2020-04-10T23:06:02.203303Z",
     "start_time": "2020-04-10T23:06:02.190219Z"
    }
   },
   "outputs": [],
   "source": [
    "tss_annotation = \"genome/picr/gcf/start_site_mRNA.tsv\" #doc['tss_annotation']"
   ]
  },
  {
   "cell_type": "code",
   "execution_count": 3,
   "metadata": {
    "ExecuteTime": {
     "end_time": "2020-04-10T23:06:05.069204Z",
     "start_time": "2020-04-10T23:06:02.219958Z"
    },
    "scrolled": true
   },
   "outputs": [
    {
     "name": "stdout",
     "output_type": "stream",
     "text": [
      "Number of tissues:  13\n"
     ]
    }
   ],
   "source": [
    "from collections import defaultdict\n",
    "import os\n",
    "import sys\n",
    "import pandas as pd\n",
    "import matplotlib\n",
    "import seaborn as sns\n",
    "import pickle\n",
    "import numpy as np\n",
    "import matplotlib as mpl\n",
    "from matplotlib import pyplot as plt\n",
    "from itertools import product\n",
    "import glob\n",
    "import re\n",
    "from matplotlib_venn import venn2\n",
    "from matplotlib import rcParams\n",
    "import inspect\n",
    "%matplotlib inline\n",
    "%config InlineBackend.figure_format = 'retina'\n",
    "sys.setrecursionlimit(3000)\n",
    "%load_ext autoreload\n",
    "%autoreload 2\n",
    "rcParams['figure.figsize'] = 8, 6\n",
    "import tqdm\n",
    "### notebook specific configuration ###\n",
    "from os.path import basename\n",
    "#mpl.style.use('ggplot')\n",
    "mpl.style.use('fivethirtyeight')\n",
    "from cycler import cycler\n",
    "mpl.rcParams['axes.prop_cycle'] = cycler(color='bgrcmyk')\n",
    "\n",
    "from Homer import *\n",
    "\n",
    "\n",
    "print('Number of tissues: ',len(tissues))"
   ]
  },
  {
   "cell_type": "code",
   "execution_count": 4,
   "metadata": {
    "ExecuteTime": {
     "end_time": "2020-04-10T23:06:05.195005Z",
     "start_time": "2020-04-10T23:06:05.072877Z"
    },
    "scrolled": true
   },
   "outputs": [
    {
     "data": {
      "text/html": [
       "<div>\n",
       "<style scoped>\n",
       "    .dataframe tbody tr th:only-of-type {\n",
       "        vertical-align: middle;\n",
       "    }\n",
       "\n",
       "    .dataframe tbody tr th {\n",
       "        vertical-align: top;\n",
       "    }\n",
       "\n",
       "    .dataframe thead th {\n",
       "        text-align: right;\n",
       "    }\n",
       "</style>\n",
       "<table border=\"1\" class=\"dataframe\">\n",
       "  <thead>\n",
       "    <tr style=\"text-align: right;\">\n",
       "      <th></th>\n",
       "      <th>Experiment</th>\n",
       "      <th>Full</th>\n",
       "      <th>Name</th>\n",
       "      <th>Tissue</th>\n",
       "    </tr>\n",
       "  </thead>\n",
       "  <tbody>\n",
       "    <tr>\n",
       "      <td>CHBMDM1hKLA2_ATAC_JHS1000_SD_AGGTTGGG_S11_L001_R1_001.fastq.gz</td>\n",
       "      <td>ATAC</td>\n",
       "      <td>CHBMDM1hKLA2_ATAC_JHS1000_SD_AGGTTGGG_S11_L001...</td>\n",
       "      <td>BMDM1hKLA_ATAC1</td>\n",
       "      <td>BMDM1hKLA</td>\n",
       "    </tr>\n",
       "    <tr>\n",
       "      <td>CHBMDM1hKLA1_ATAC_JHS998_SD_TGGGTTTC_S9_L001_R1_001.fastq.gz</td>\n",
       "      <td>ATAC</td>\n",
       "      <td>CHBMDM1hKLA1_ATAC_JHS998_SD_TGGGTTTC_S9_L001_R...</td>\n",
       "      <td>BMDM1hKLA_ATAC2</td>\n",
       "      <td>BMDM1hKLA</td>\n",
       "    </tr>\n",
       "    <tr>\n",
       "      <td>CHBMDM1hKLA_GRO_JHS1027_SD_CAAAAG_S42_L003_R1_001.fastq.gz</td>\n",
       "      <td>GRO</td>\n",
       "      <td>CHBMDM1hKLA_GRO_JHS1027_SD_CAAAAG_S42_L003_R1_...</td>\n",
       "      <td>BMDM1hKLA_GRO1</td>\n",
       "      <td>BMDM1hKLA</td>\n",
       "    </tr>\n",
       "    <tr>\n",
       "      <td>CHBMDM1hKLA_GRO_JHS1034_SD_AGTCAA_S49_L003_R1_001.fastq.gz</td>\n",
       "      <td>GROCap</td>\n",
       "      <td>CHBMDM1hKLA_GRO_JHS1034_SD_AGTCAA_S49_L003_R1_...</td>\n",
       "      <td>BMDM1hKLA_GROCap1</td>\n",
       "      <td>BMDM1hKLA</td>\n",
       "    </tr>\n",
       "    <tr>\n",
       "      <td>CHBMDMVehic2_ATAC_JHS999_SD_TGGTCACA_S10_L001_R1_001.fastq.gz</td>\n",
       "      <td>ATAC</td>\n",
       "      <td>CHBMDMVehic2_ATAC_JHS999_SD_TGGTCACA_S10_L001_...</td>\n",
       "      <td>BMDMwt_ATAC1</td>\n",
       "      <td>BMDMwt</td>\n",
       "    </tr>\n",
       "  </tbody>\n",
       "</table>\n",
       "</div>"
      ],
      "text/plain": [
       "                                                   Experiment  \\\n",
       "CHBMDM1hKLA2_ATAC_JHS1000_SD_AGGTTGGG_S11_L001_...       ATAC   \n",
       "CHBMDM1hKLA1_ATAC_JHS998_SD_TGGGTTTC_S9_L001_R1...       ATAC   \n",
       "CHBMDM1hKLA_GRO_JHS1027_SD_CAAAAG_S42_L003_R1_0...        GRO   \n",
       "CHBMDM1hKLA_GRO_JHS1034_SD_AGTCAA_S49_L003_R1_0...     GROCap   \n",
       "CHBMDMVehic2_ATAC_JHS999_SD_TGGTCACA_S10_L001_R...       ATAC   \n",
       "\n",
       "                                                                                                 Full  \\\n",
       "CHBMDM1hKLA2_ATAC_JHS1000_SD_AGGTTGGG_S11_L001_...  CHBMDM1hKLA2_ATAC_JHS1000_SD_AGGTTGGG_S11_L001...   \n",
       "CHBMDM1hKLA1_ATAC_JHS998_SD_TGGGTTTC_S9_L001_R1...  CHBMDM1hKLA1_ATAC_JHS998_SD_TGGGTTTC_S9_L001_R...   \n",
       "CHBMDM1hKLA_GRO_JHS1027_SD_CAAAAG_S42_L003_R1_0...  CHBMDM1hKLA_GRO_JHS1027_SD_CAAAAG_S42_L003_R1_...   \n",
       "CHBMDM1hKLA_GRO_JHS1034_SD_AGTCAA_S49_L003_R1_0...  CHBMDM1hKLA_GRO_JHS1034_SD_AGTCAA_S49_L003_R1_...   \n",
       "CHBMDMVehic2_ATAC_JHS999_SD_TGGTCACA_S10_L001_R...  CHBMDMVehic2_ATAC_JHS999_SD_TGGTCACA_S10_L001_...   \n",
       "\n",
       "                                                                 Name  \\\n",
       "CHBMDM1hKLA2_ATAC_JHS1000_SD_AGGTTGGG_S11_L001_...    BMDM1hKLA_ATAC1   \n",
       "CHBMDM1hKLA1_ATAC_JHS998_SD_TGGGTTTC_S9_L001_R1...    BMDM1hKLA_ATAC2   \n",
       "CHBMDM1hKLA_GRO_JHS1027_SD_CAAAAG_S42_L003_R1_0...     BMDM1hKLA_GRO1   \n",
       "CHBMDM1hKLA_GRO_JHS1034_SD_AGTCAA_S49_L003_R1_0...  BMDM1hKLA_GROCap1   \n",
       "CHBMDMVehic2_ATAC_JHS999_SD_TGGTCACA_S10_L001_R...       BMDMwt_ATAC1   \n",
       "\n",
       "                                                       Tissue  \n",
       "CHBMDM1hKLA2_ATAC_JHS1000_SD_AGGTTGGG_S11_L001_...  BMDM1hKLA  \n",
       "CHBMDM1hKLA1_ATAC_JHS998_SD_TGGGTTTC_S9_L001_R1...  BMDM1hKLA  \n",
       "CHBMDM1hKLA_GRO_JHS1027_SD_CAAAAG_S42_L003_R1_0...  BMDM1hKLA  \n",
       "CHBMDM1hKLA_GRO_JHS1034_SD_AGTCAA_S49_L003_R1_0...  BMDM1hKLA  \n",
       "CHBMDMVehic2_ATAC_JHS999_SD_TGGTCACA_S10_L001_R...     BMDMwt  "
      ]
     },
     "execution_count": 4,
     "metadata": {},
     "output_type": "execute_result"
    }
   ],
   "source": [
    "meta_samples = pd.read_csv(\"../parameters/samples.tsv\", sep=\"\\t\",index_col=0) #pd.read_csv('../raw_metaSamples.tsv',sep=\"\\t\",index_col=0)\n",
    "meta_samples.head()"
   ]
  },
  {
   "cell_type": "code",
   "execution_count": 5,
   "metadata": {
    "ExecuteTime": {
     "end_time": "2020-04-10T23:06:05.260187Z",
     "start_time": "2020-04-10T23:06:05.198470Z"
    }
   },
   "outputs": [],
   "source": [
    "def merge_columns(df, mapping_dict):\n",
    "    '''Function that merges columns by taking the mean of them.\n",
    "    Merges based on if they have the same element in the meta_samples meta_column.\n",
    "    Returns:\n",
    "        new_df: Dataframe but with the columns of interest merged. Also column names are now based\n",
    "                on the unique meta_samples[meta_column].\n",
    "    '''\n",
    "\n",
    "    vals = mapping_dict.keys()#np.unique(meta_samples[meta_column].values)\n",
    "    new_df = pd.DataFrame(index=df.index, columns=vals)\n",
    "    for i in vals:\n",
    "        if not mapping_dict[i] == []:#(meta_samples[meta_column] == i).any():\n",
    "            new_col = (df.loc[:, mapping_dict[i]])\n",
    "            new_col = new_col.mean(axis=1)\n",
    "            new_df.loc[:, i] = new_col\n",
    "    new_df = new_df.loc[:, ~(new_df.isnull().all())]\n",
    "    return new_df\n"
   ]
  },
  {
   "cell_type": "code",
   "execution_count": 6,
   "metadata": {
    "ExecuteTime": {
     "end_time": "2020-04-10T23:06:10.243066Z",
     "start_time": "2020-04-10T23:06:05.264047Z"
    },
    "scrolled": true
   },
   "outputs": [
    {
     "data": {
      "text/html": [
       "<div>\n",
       "<style scoped>\n",
       "    .dataframe tbody tr th:only-of-type {\n",
       "        vertical-align: middle;\n",
       "    }\n",
       "\n",
       "    .dataframe tbody tr th {\n",
       "        vertical-align: top;\n",
       "    }\n",
       "\n",
       "    .dataframe thead th {\n",
       "        text-align: right;\n",
       "    }\n",
       "</style>\n",
       "<table border=\"1\" class=\"dataframe\">\n",
       "  <thead>\n",
       "    <tr style=\"text-align: right;\">\n",
       "      <th></th>\n",
       "      <th>Results/f04_peaks/MiscOrgans_START1_and_MiscOrgans_startinput1</th>\n",
       "      <th>Results/f04_peaks/Liver_START2_and_Liver_startinput1</th>\n",
       "      <th>Results/f04_peaks/Brain_GROCap1_and_Brain_GRO1</th>\n",
       "      <th>Results/f04_peaks/Liver_START1_and_Liver_startinput1</th>\n",
       "      <th>Results/f04_peaks/Lung_GROCap1_and_Lung_GRO1</th>\n",
       "      <th>Results/f04_peaks/Brain_START3_and_Brain_startinput1</th>\n",
       "      <th>Results/f04_peaks/Heart_START1_and_Heart_startinput1</th>\n",
       "      <th>Results/f04_peaks/CHO_GROCap2_and_CHO_GRO1</th>\n",
       "      <th>Results/f04_peaks/Heart_START2_and_Heart_startinput1</th>\n",
       "      <th>Results/f04_peaks/Liver_GROCap1_and_Liver_GRO1</th>\n",
       "      <th>...</th>\n",
       "      <th>Results/f04_peaks/MiscOrgans_START2_and_MiscOrgans_startinput1</th>\n",
       "      <th>Results/f04_peaks/Spleen_START1_and_Spleen_startinput1</th>\n",
       "      <th>Results/f04_peaks/Lung_START2_and_Lung_startinput1</th>\n",
       "      <th>Results/f04_peaks/CHO_START1_and_CHO_startinput1</th>\n",
       "      <th>Results/f04_peaks/FemaleReproductive_START1_and_FemaleReproductive_startinput1</th>\n",
       "      <th>Results/f04_peaks/Kidney_START2_and_Kidney_startinput1</th>\n",
       "      <th>Results/f04_peaks/Kidney_GROCap1_and_Kidney_GRO1</th>\n",
       "      <th>Results/f04_peaks/CHO_GROCap1_and_CHO_GRO1</th>\n",
       "      <th>Results/f04_peaks/BMDMwt_GROCap1_and_BMDMwt_GRO1</th>\n",
       "      <th>Results/f04_peaks/Spleen_START2_and_Spleen_startinput1</th>\n",
       "    </tr>\n",
       "  </thead>\n",
       "  <tbody>\n",
       "    <tr>\n",
       "      <td>0</td>\n",
       "      <td>0.382017</td>\n",
       "      <td>0.0</td>\n",
       "      <td>0.356026</td>\n",
       "      <td>0.000000</td>\n",
       "      <td>0.877371</td>\n",
       "      <td>0.000000</td>\n",
       "      <td>0.426511</td>\n",
       "      <td>1.515874</td>\n",
       "      <td>0.0</td>\n",
       "      <td>0.000000</td>\n",
       "      <td>...</td>\n",
       "      <td>0.000000</td>\n",
       "      <td>0.000000</td>\n",
       "      <td>0.000000</td>\n",
       "      <td>0.804821</td>\n",
       "      <td>0.000000</td>\n",
       "      <td>0.0</td>\n",
       "      <td>0.868644</td>\n",
       "      <td>1.531479</td>\n",
       "      <td>0.000000</td>\n",
       "      <td>0.000000</td>\n",
       "    </tr>\n",
       "    <tr>\n",
       "      <td>1</td>\n",
       "      <td>0.472756</td>\n",
       "      <td>0.0</td>\n",
       "      <td>0.485721</td>\n",
       "      <td>0.633468</td>\n",
       "      <td>0.000000</td>\n",
       "      <td>0.000000</td>\n",
       "      <td>0.000000</td>\n",
       "      <td>0.000000</td>\n",
       "      <td>0.0</td>\n",
       "      <td>0.000000</td>\n",
       "      <td>...</td>\n",
       "      <td>0.843855</td>\n",
       "      <td>0.311754</td>\n",
       "      <td>1.619093</td>\n",
       "      <td>0.000000</td>\n",
       "      <td>0.825426</td>\n",
       "      <td>0.0</td>\n",
       "      <td>0.000000</td>\n",
       "      <td>0.000000</td>\n",
       "      <td>0.000000</td>\n",
       "      <td>0.827369</td>\n",
       "    </tr>\n",
       "    <tr>\n",
       "      <td>2</td>\n",
       "      <td>0.382017</td>\n",
       "      <td>0.0</td>\n",
       "      <td>0.290480</td>\n",
       "      <td>0.000000</td>\n",
       "      <td>0.680336</td>\n",
       "      <td>0.000000</td>\n",
       "      <td>0.000000</td>\n",
       "      <td>1.372912</td>\n",
       "      <td>0.0</td>\n",
       "      <td>0.000000</td>\n",
       "      <td>...</td>\n",
       "      <td>0.000000</td>\n",
       "      <td>0.000000</td>\n",
       "      <td>0.000000</td>\n",
       "      <td>0.893207</td>\n",
       "      <td>0.436163</td>\n",
       "      <td>0.0</td>\n",
       "      <td>0.451786</td>\n",
       "      <td>1.354108</td>\n",
       "      <td>0.823474</td>\n",
       "      <td>0.545307</td>\n",
       "    </tr>\n",
       "    <tr>\n",
       "      <td>3</td>\n",
       "      <td>0.694605</td>\n",
       "      <td>0.0</td>\n",
       "      <td>0.000000</td>\n",
       "      <td>0.000000</td>\n",
       "      <td>0.000000</td>\n",
       "      <td>0.627366</td>\n",
       "      <td>0.426511</td>\n",
       "      <td>0.000000</td>\n",
       "      <td>0.0</td>\n",
       "      <td>0.000000</td>\n",
       "      <td>...</td>\n",
       "      <td>0.491362</td>\n",
       "      <td>0.649335</td>\n",
       "      <td>0.000000</td>\n",
       "      <td>0.617000</td>\n",
       "      <td>0.000000</td>\n",
       "      <td>0.0</td>\n",
       "      <td>0.000000</td>\n",
       "      <td>0.559907</td>\n",
       "      <td>0.537819</td>\n",
       "      <td>0.517196</td>\n",
       "    </tr>\n",
       "    <tr>\n",
       "      <td>4</td>\n",
       "      <td>2.220892</td>\n",
       "      <td>0.0</td>\n",
       "      <td>0.456366</td>\n",
       "      <td>1.918030</td>\n",
       "      <td>0.000000</td>\n",
       "      <td>1.648360</td>\n",
       "      <td>1.717671</td>\n",
       "      <td>0.000000</td>\n",
       "      <td>0.0</td>\n",
       "      <td>0.919078</td>\n",
       "      <td>...</td>\n",
       "      <td>1.776701</td>\n",
       "      <td>1.283301</td>\n",
       "      <td>0.000000</td>\n",
       "      <td>1.968016</td>\n",
       "      <td>0.000000</td>\n",
       "      <td>0.0</td>\n",
       "      <td>0.401401</td>\n",
       "      <td>0.761928</td>\n",
       "      <td>0.642465</td>\n",
       "      <td>2.203848</td>\n",
       "    </tr>\n",
       "  </tbody>\n",
       "</table>\n",
       "<p>5 rows × 35 columns</p>\n",
       "</div>"
      ],
      "text/plain": [
       "   Results/f04_peaks/MiscOrgans_START1_and_MiscOrgans_startinput1  \\\n",
       "0                                           0.382017                \n",
       "1                                           0.472756                \n",
       "2                                           0.382017                \n",
       "3                                           0.694605                \n",
       "4                                           2.220892                \n",
       "\n",
       "   Results/f04_peaks/Liver_START2_and_Liver_startinput1  \\\n",
       "0                                                0.0      \n",
       "1                                                0.0      \n",
       "2                                                0.0      \n",
       "3                                                0.0      \n",
       "4                                                0.0      \n",
       "\n",
       "   Results/f04_peaks/Brain_GROCap1_and_Brain_GRO1  \\\n",
       "0                                        0.356026   \n",
       "1                                        0.485721   \n",
       "2                                        0.290480   \n",
       "3                                        0.000000   \n",
       "4                                        0.456366   \n",
       "\n",
       "   Results/f04_peaks/Liver_START1_and_Liver_startinput1  \\\n",
       "0                                           0.000000      \n",
       "1                                           0.633468      \n",
       "2                                           0.000000      \n",
       "3                                           0.000000      \n",
       "4                                           1.918030      \n",
       "\n",
       "   Results/f04_peaks/Lung_GROCap1_and_Lung_GRO1  \\\n",
       "0                                      0.877371   \n",
       "1                                      0.000000   \n",
       "2                                      0.680336   \n",
       "3                                      0.000000   \n",
       "4                                      0.000000   \n",
       "\n",
       "   Results/f04_peaks/Brain_START3_and_Brain_startinput1  \\\n",
       "0                                           0.000000      \n",
       "1                                           0.000000      \n",
       "2                                           0.000000      \n",
       "3                                           0.627366      \n",
       "4                                           1.648360      \n",
       "\n",
       "   Results/f04_peaks/Heart_START1_and_Heart_startinput1  \\\n",
       "0                                           0.426511      \n",
       "1                                           0.000000      \n",
       "2                                           0.000000      \n",
       "3                                           0.426511      \n",
       "4                                           1.717671      \n",
       "\n",
       "   Results/f04_peaks/CHO_GROCap2_and_CHO_GRO1  \\\n",
       "0                                    1.515874   \n",
       "1                                    0.000000   \n",
       "2                                    1.372912   \n",
       "3                                    0.000000   \n",
       "4                                    0.000000   \n",
       "\n",
       "   Results/f04_peaks/Heart_START2_and_Heart_startinput1  \\\n",
       "0                                                0.0      \n",
       "1                                                0.0      \n",
       "2                                                0.0      \n",
       "3                                                0.0      \n",
       "4                                                0.0      \n",
       "\n",
       "   Results/f04_peaks/Liver_GROCap1_and_Liver_GRO1  ...  \\\n",
       "0                                        0.000000  ...   \n",
       "1                                        0.000000  ...   \n",
       "2                                        0.000000  ...   \n",
       "3                                        0.000000  ...   \n",
       "4                                        0.919078  ...   \n",
       "\n",
       "   Results/f04_peaks/MiscOrgans_START2_and_MiscOrgans_startinput1  \\\n",
       "0                                           0.000000                \n",
       "1                                           0.843855                \n",
       "2                                           0.000000                \n",
       "3                                           0.491362                \n",
       "4                                           1.776701                \n",
       "\n",
       "   Results/f04_peaks/Spleen_START1_and_Spleen_startinput1  \\\n",
       "0                                           0.000000        \n",
       "1                                           0.311754        \n",
       "2                                           0.000000        \n",
       "3                                           0.649335        \n",
       "4                                           1.283301        \n",
       "\n",
       "   Results/f04_peaks/Lung_START2_and_Lung_startinput1  \\\n",
       "0                                           0.000000    \n",
       "1                                           1.619093    \n",
       "2                                           0.000000    \n",
       "3                                           0.000000    \n",
       "4                                           0.000000    \n",
       "\n",
       "   Results/f04_peaks/CHO_START1_and_CHO_startinput1  \\\n",
       "0                                          0.804821   \n",
       "1                                          0.000000   \n",
       "2                                          0.893207   \n",
       "3                                          0.617000   \n",
       "4                                          1.968016   \n",
       "\n",
       "   Results/f04_peaks/FemaleReproductive_START1_and_FemaleReproductive_startinput1  \\\n",
       "0                                           0.000000                                \n",
       "1                                           0.825426                                \n",
       "2                                           0.436163                                \n",
       "3                                           0.000000                                \n",
       "4                                           0.000000                                \n",
       "\n",
       "   Results/f04_peaks/Kidney_START2_and_Kidney_startinput1  \\\n",
       "0                                                0.0        \n",
       "1                                                0.0        \n",
       "2                                                0.0        \n",
       "3                                                0.0        \n",
       "4                                                0.0        \n",
       "\n",
       "   Results/f04_peaks/Kidney_GROCap1_and_Kidney_GRO1  \\\n",
       "0                                          0.868644   \n",
       "1                                          0.000000   \n",
       "2                                          0.451786   \n",
       "3                                          0.000000   \n",
       "4                                          0.401401   \n",
       "\n",
       "   Results/f04_peaks/CHO_GROCap1_and_CHO_GRO1  \\\n",
       "0                                    1.531479   \n",
       "1                                    0.000000   \n",
       "2                                    1.354108   \n",
       "3                                    0.559907   \n",
       "4                                    0.761928   \n",
       "\n",
       "   Results/f04_peaks/BMDMwt_GROCap1_and_BMDMwt_GRO1  \\\n",
       "0                                          0.000000   \n",
       "1                                          0.000000   \n",
       "2                                          0.823474   \n",
       "3                                          0.537819   \n",
       "4                                          0.642465   \n",
       "\n",
       "   Results/f04_peaks/Spleen_START2_and_Spleen_startinput1  \n",
       "0                                           0.000000       \n",
       "1                                           0.827369       \n",
       "2                                           0.545307       \n",
       "3                                           0.517196       \n",
       "4                                           2.203848       \n",
       "\n",
       "[5 rows x 35 columns]"
      ]
     },
     "execution_count": 6,
     "metadata": {},
     "output_type": "execute_result"
    }
   ],
   "source": [
    "peaks_tissue = pd.read_csv(\"merged/samples.merge.peaksexpression.log10\",index_col=0,sep=\"\\t\")\n",
    "peaks_tissue.head()"
   ]
  },
  {
   "cell_type": "code",
   "execution_count": 7,
   "metadata": {
    "ExecuteTime": {
     "end_time": "2020-04-10T23:06:10.347413Z",
     "start_time": "2020-04-10T23:06:10.250547Z"
    }
   },
   "outputs": [],
   "source": [
    "tissue_to_peaks = defaultdict(list)\n",
    "for val in peaks_tissue.columns.values:\n",
    "    count = 0\n",
    "    for t in np.unique(meta_samples[\"Tissue\"].values):\n",
    "        if t in val:\n",
    "            count += 1\n",
    "            tissue_to_peaks[t].append(val)\n",
    "            if count > 1:\n",
    "                print(\"This sample has multiple tissues associated with it\")\n",
    "                print(\"Sample: \",val)"
   ]
  },
  {
   "cell_type": "code",
   "execution_count": 8,
   "metadata": {
    "ExecuteTime": {
     "end_time": "2020-04-10T23:06:14.135695Z",
     "start_time": "2020-04-10T23:06:10.358805Z"
    }
   },
   "outputs": [],
   "source": [
    "peaks_tissue_merged = merge_columns(peaks_tissue,mapping_dict=tissue_to_peaks)"
   ]
  },
  {
   "cell_type": "code",
   "execution_count": 9,
   "metadata": {
    "ExecuteTime": {
     "end_time": "2020-04-10T23:06:14.173051Z",
     "start_time": "2020-04-10T23:06:14.138019Z"
    }
   },
   "outputs": [
    {
     "data": {
      "text/html": [
       "<div>\n",
       "<style scoped>\n",
       "    .dataframe tbody tr th:only-of-type {\n",
       "        vertical-align: middle;\n",
       "    }\n",
       "\n",
       "    .dataframe tbody tr th {\n",
       "        vertical-align: top;\n",
       "    }\n",
       "\n",
       "    .dataframe thead th {\n",
       "        text-align: right;\n",
       "    }\n",
       "</style>\n",
       "<table border=\"1\" class=\"dataframe\">\n",
       "  <thead>\n",
       "    <tr style=\"text-align: right;\">\n",
       "      <th></th>\n",
       "      <th>MiscOrgans</th>\n",
       "      <th>Liver</th>\n",
       "      <th>Brain</th>\n",
       "      <th>Lung</th>\n",
       "      <th>Heart</th>\n",
       "      <th>CHO</th>\n",
       "      <th>Pancreas</th>\n",
       "      <th>BMDM1hKLA</th>\n",
       "      <th>FemaleReproductive</th>\n",
       "      <th>Muscle</th>\n",
       "      <th>Kidney</th>\n",
       "      <th>Spleen</th>\n",
       "      <th>BMDMwt</th>\n",
       "    </tr>\n",
       "  </thead>\n",
       "  <tbody>\n",
       "    <tr>\n",
       "      <td>0</td>\n",
       "      <td>0.191009</td>\n",
       "      <td>0.000000</td>\n",
       "      <td>0.192445</td>\n",
       "      <td>0.292457</td>\n",
       "      <td>0.213256</td>\n",
       "      <td>1.379905</td>\n",
       "      <td>0.000000</td>\n",
       "      <td>1.93044</td>\n",
       "      <td>0.177054</td>\n",
       "      <td>0.192803</td>\n",
       "      <td>0.289548</td>\n",
       "      <td>0.000000</td>\n",
       "      <td>0.000000</td>\n",
       "    </tr>\n",
       "    <tr>\n",
       "      <td>1</td>\n",
       "      <td>0.658306</td>\n",
       "      <td>0.211156</td>\n",
       "      <td>0.365353</td>\n",
       "      <td>0.875756</td>\n",
       "      <td>0.000000</td>\n",
       "      <td>0.000000</td>\n",
       "      <td>0.000000</td>\n",
       "      <td>0.00000</td>\n",
       "      <td>0.704879</td>\n",
       "      <td>0.160073</td>\n",
       "      <td>0.206016</td>\n",
       "      <td>0.569562</td>\n",
       "      <td>0.000000</td>\n",
       "    </tr>\n",
       "    <tr>\n",
       "      <td>2</td>\n",
       "      <td>0.191009</td>\n",
       "      <td>0.000000</td>\n",
       "      <td>0.285237</td>\n",
       "      <td>0.440272</td>\n",
       "      <td>0.000000</td>\n",
       "      <td>1.269450</td>\n",
       "      <td>0.299942</td>\n",
       "      <td>0.00000</td>\n",
       "      <td>0.650337</td>\n",
       "      <td>0.252575</td>\n",
       "      <td>0.377071</td>\n",
       "      <td>0.272654</td>\n",
       "      <td>0.823474</td>\n",
       "    </tr>\n",
       "    <tr>\n",
       "      <td>3</td>\n",
       "      <td>0.592983</td>\n",
       "      <td>0.000000</td>\n",
       "      <td>0.633209</td>\n",
       "      <td>0.256951</td>\n",
       "      <td>0.213256</td>\n",
       "      <td>0.347363</td>\n",
       "      <td>0.380588</td>\n",
       "      <td>0.00000</td>\n",
       "      <td>0.556972</td>\n",
       "      <td>0.300486</td>\n",
       "      <td>0.216445</td>\n",
       "      <td>0.583265</td>\n",
       "      <td>0.537819</td>\n",
       "    </tr>\n",
       "    <tr>\n",
       "      <td>4</td>\n",
       "      <td>1.998797</td>\n",
       "      <td>0.945703</td>\n",
       "      <td>1.707621</td>\n",
       "      <td>0.729080</td>\n",
       "      <td>0.858835</td>\n",
       "      <td>0.698374</td>\n",
       "      <td>1.141651</td>\n",
       "      <td>0.00000</td>\n",
       "      <td>1.218955</td>\n",
       "      <td>1.198361</td>\n",
       "      <td>0.838893</td>\n",
       "      <td>1.743575</td>\n",
       "      <td>0.642465</td>\n",
       "    </tr>\n",
       "  </tbody>\n",
       "</table>\n",
       "</div>"
      ],
      "text/plain": [
       "   MiscOrgans     Liver     Brain      Lung     Heart       CHO  Pancreas  \\\n",
       "0    0.191009  0.000000  0.192445  0.292457  0.213256  1.379905  0.000000   \n",
       "1    0.658306  0.211156  0.365353  0.875756  0.000000  0.000000  0.000000   \n",
       "2    0.191009  0.000000  0.285237  0.440272  0.000000  1.269450  0.299942   \n",
       "3    0.592983  0.000000  0.633209  0.256951  0.213256  0.347363  0.380588   \n",
       "4    1.998797  0.945703  1.707621  0.729080  0.858835  0.698374  1.141651   \n",
       "\n",
       "   BMDM1hKLA  FemaleReproductive    Muscle    Kidney    Spleen    BMDMwt  \n",
       "0    1.93044            0.177054  0.192803  0.289548  0.000000  0.000000  \n",
       "1    0.00000            0.704879  0.160073  0.206016  0.569562  0.000000  \n",
       "2    0.00000            0.650337  0.252575  0.377071  0.272654  0.823474  \n",
       "3    0.00000            0.556972  0.300486  0.216445  0.583265  0.537819  \n",
       "4    0.00000            1.218955  1.198361  0.838893  1.743575  0.642465  "
      ]
     },
     "execution_count": 9,
     "metadata": {},
     "output_type": "execute_result"
    }
   ],
   "source": [
    "peaks_tissue_merged.head()"
   ]
  },
  {
   "cell_type": "code",
   "execution_count": 10,
   "metadata": {
    "ExecuteTime": {
     "end_time": "2020-04-10T23:06:30.112036Z",
     "start_time": "2020-04-10T23:06:14.174899Z"
    }
   },
   "outputs": [],
   "source": [
    "peaks_tissue_merged.to_csv(\"merged/tissues.merge.peaksexpression.log10\",sep=\"\\t\")"
   ]
  },
  {
   "cell_type": "markdown",
   "metadata": {},
   "source": [
    "## Same but without log"
   ]
  },
  {
   "cell_type": "code",
   "execution_count": 11,
   "metadata": {
    "ExecuteTime": {
     "end_time": "2020-04-10T23:07:00.027908Z",
     "start_time": "2020-04-10T23:06:30.127854Z"
    },
    "scrolled": true
   },
   "outputs": [],
   "source": [
    "peaks_tissue = pd.read_csv(\"merged/samples.merge.peaksexpression\",index_col=0,sep=\"\\t\")\n",
    "peaks_tissue.head()\n",
    "\n",
    "tissue_to_peaks = defaultdict(list)\n",
    "for val in peaks_tissue.columns.values:\n",
    "    count = 0\n",
    "    for t in np.unique(meta_samples[\"Tissue\"].values):\n",
    "        if t in val:\n",
    "            count += 1\n",
    "            tissue_to_peaks[t].append(val)\n",
    "            if count > 1:\n",
    "                print(\"This sample has multiple tissues associated with it\")\n",
    "                print(\"Sample: \",val)\n",
    "\n",
    "peaks_tissue_merged = merge_columns(peaks_tissue,mapping_dict=tissue_to_peaks)\n",
    "\n",
    "peaks_tissue_merged.head()\n",
    "\n",
    "peaks_tissue_merged.to_csv(\"merged/tissues.merge.peaksexpression\",sep=\"\\t\")"
   ]
  },
  {
   "cell_type": "markdown",
   "metadata": {},
   "source": [
    "## Do the same but for txn_df and gene_df"
   ]
  },
  {
   "cell_type": "code",
   "execution_count": 12,
   "metadata": {
    "ExecuteTime": {
     "end_time": "2020-04-10T23:07:01.233202Z",
     "start_time": "2020-04-10T23:07:00.036256Z"
    }
   },
   "outputs": [],
   "source": [
    "txn_df = pickle.load(open(\"tss_annotation/picr/gcf/txn_df_02.p\",\"rb\"))"
   ]
  },
  {
   "cell_type": "code",
   "execution_count": 13,
   "metadata": {
    "ExecuteTime": {
     "end_time": "2020-04-10T23:07:01.303143Z",
     "start_time": "2020-04-10T23:07:01.237618Z"
    },
    "scrolled": true
   },
   "outputs": [],
   "source": [
    "## invert and create a peaks_to_tissue\n",
    "peaks_to_tissue = dict()\n",
    "for t in tissue_to_peaks:\n",
    "    for p in tissue_to_peaks[t]:\n",
    "        peaks_to_tissue[os.path.basename(p)] = t"
   ]
  },
  {
   "cell_type": "code",
   "execution_count": 14,
   "metadata": {
    "ExecuteTime": {
     "end_time": "2020-04-10T23:07:25.748159Z",
     "start_time": "2020-04-10T23:07:01.309025Z"
    },
    "scrolled": true
   },
   "outputs": [
    {
     "name": "stderr",
     "output_type": "stream",
     "text": [
      "35679it [00:24, 1465.85it/s]\n"
     ]
    }
   ],
   "source": [
    "txn_df[\"Tissues\"] = \"\"\n",
    "for ind,val in tqdm.tqdm(txn_df.iterrows()):\n",
    "    if len(val[\"samples\"]) != 0:\n",
    "        tis = set()\n",
    "        for t in val[\"samples\"]:\n",
    "            tis.add(peaks_to_tissue[t])\n",
    "        txn_df.at[ind,\"Tissues\"] = \",\".join(tis)"
   ]
  },
  {
   "cell_type": "code",
   "execution_count": 15,
   "metadata": {
    "ExecuteTime": {
     "end_time": "2020-04-10T23:07:28.862084Z",
     "start_time": "2020-04-10T23:07:25.757948Z"
    }
   },
   "outputs": [],
   "source": [
    "pickle.dump(txn_df,open(\"tss_annotation/picr/gcf/txn_df_02_tissues.p\",\"wb\"))\n"
   ]
  },
  {
   "cell_type": "code",
   "execution_count": 16,
   "metadata": {
    "ExecuteTime": {
     "end_time": "2020-04-10T23:07:40.225505Z",
     "start_time": "2020-04-10T23:07:28.864659Z"
    }
   },
   "outputs": [
    {
     "name": "stderr",
     "output_type": "stream",
     "text": [
      "21387it [00:08, 2384.18it/s]\n"
     ]
    }
   ],
   "source": [
    "gene_df = pickle.load(open(\"tss_annotation/picr/gcf/gene_df_02.p\",\"rb\"))\n",
    "\n",
    "## invert and create a peaks_to_tissue\n",
    "peaks_to_tissue = dict()\n",
    "for t in tissue_to_peaks:\n",
    "    for p in tissue_to_peaks[t]:\n",
    "        peaks_to_tissue[os.path.basename(p)] = t\n",
    "\n",
    "gene_df[\"Tissues\"] = \"\"\n",
    "for ind,val in tqdm.tqdm(gene_df.iterrows()):\n",
    "    if len(val[\"samples\"]) != 0:\n",
    "        tis = set()\n",
    "        for t in val[\"samples\"]:\n",
    "            tis.add(peaks_to_tissue[t])\n",
    "        gene_df.at[ind,\"Tissues\"] = \",\".join(tis)\n",
    "\n",
    "pickle.dump(gene_df,open(\"tss_annotation/gene_df_02_tissues.p\",\"wb\"))\n"
   ]
  }
 ],
 "metadata": {
  "kernelspec": {
   "display_name": "Python 2",
   "language": "python",
   "name": "python2"
  },
  "language_info": {
   "codemirror_mode": {
    "name": "ipython",
    "version": 3
   },
   "file_extension": ".py",
   "mimetype": "text/x-python",
   "name": "python",
   "nbconvert_exporter": "python",
   "pygments_lexer": "ipython3",
   "version": "3.7.3"
  }
 },
 "nbformat": 4,
 "nbformat_minor": 2
}
