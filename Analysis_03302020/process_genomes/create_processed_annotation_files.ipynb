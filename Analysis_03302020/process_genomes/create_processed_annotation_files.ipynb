{
 "cells": [
  {
   "cell_type": "markdown",
   "metadata": {},
   "source": [
    "## Process both the alternative annotation and GCF annotation for downstream processing"
   ]
  },
  {
   "cell_type": "code",
   "execution_count": 1,
   "metadata": {
    "ExecuteTime": {
     "end_time": "2020-04-30T23:37:27.013661Z",
     "start_time": "2020-04-30T23:37:26.225639Z"
    },
    "scrolled": true
   },
   "outputs": [
    {
     "name": "stderr",
     "output_type": "stream",
     "text": [
      "/home/isshamie/software/anaconda2/envs/TSS/lib/python3.7/site-packages/ipykernel_launcher.py:7: YAMLLoadWarning: calling yaml.load() without Loader=... is deprecated, as the default Loader is unsafe. Please read https://msg.pyyaml.org/load for full details.\n",
      "  import sys\n"
     ]
    },
    {
     "name": "stdout",
     "output_type": "stream",
     "text": [
      "Number of tissues:  13\n"
     ]
    }
   ],
   "source": [
    "## Parameters specific to where your folders are and your data\n",
    "parameter_file = '../parameters/params.yaml'\n",
    "import yaml\n",
    "import sys\n",
    "\n",
    "with open(parameter_file,'r') as f:\n",
    "    doc = yaml.load(f)\n",
    "\n",
    "#p = dic2obj(**doc)\n",
    "\n",
    "data_folder = doc['data_folder']\n",
    "tissues = doc['tissues'].split(',')\n",
    "sys.path.append(doc['pipeline_path'])\n",
    "ref_fa = doc['ref_fa']\n",
    "anno_gff=doc['annotation']\n",
    "\n",
    "import tqdm\n",
    "import os\n",
    "from os.path import join\n",
    "import sys\n",
    "import pandas as pd\n",
    "import matplotlib\n",
    "import seaborn as sns\n",
    "import pickle\n",
    "import numpy as np\n",
    "import matplotlib as mpl\n",
    "from matplotlib import pyplot as plt\n",
    "from itertools import product\n",
    "import glob\n",
    "import re\n",
    "from matplotlib_venn import venn2\n",
    "from matplotlib import rcParams\n",
    "import inspect\n",
    "%matplotlib inline\n",
    "%config InlineBackend.figure_format = 'retina'\n",
    "sys.setrecursionlimit(3000)\n",
    "%load_ext autoreload\n",
    "%autoreload 2\n",
    "rcParams['figure.figsize'] = 8, 6\n",
    "from tqdm import *\n",
    "from os.path import basename\n",
    "##mpl.use('Agg')\n",
    "#mpl.style.use('ggplot')\n",
    "#mpl.style.use('fivethirtyeight')\n",
    "from Homer import *\n",
    "import helper\n",
    "import create_output\n",
    "print('Number of tissues: ',len(tissues))\n",
    "\n",
    "from collections import Counter\n",
    "\n",
    "\n",
    "from os.path import join\n",
    "\n",
    "from Homer import *"
   ]
  },
  {
   "cell_type": "code",
   "execution_count": 2,
   "metadata": {
    "ExecuteTime": {
     "end_time": "2020-04-30T23:37:27.220798Z",
     "start_time": "2020-04-30T23:37:27.015747Z"
    },
    "scrolled": true
   },
   "outputs": [
    {
     "name": "stdout",
     "output_type": "stream",
     "text": [
      "params {'EMAIL': 'isshamie@ucsd.edu', 'parameters': 'parameters/params.yaml'}\n",
      "/data2/resources/software/homer/v4.11_10242019/bin//\n"
     ]
    }
   ],
   "source": [
    "from tss.data import generate_genome"
   ]
  },
  {
   "cell_type": "markdown",
   "metadata": {},
   "source": [
    "## Input Files"
   ]
  },
  {
   "cell_type": "code",
   "execution_count": 3,
   "metadata": {
    "ExecuteTime": {
     "end_time": "2020-04-30T23:37:27.240432Z",
     "start_time": "2020-04-30T23:37:27.223195Z"
    }
   },
   "outputs": [],
   "source": [
    "genome_raw_dir = os.path.join(doc[\"supplemental\"], \"genome\", \"ncbi_anno_103\")\n",
    "ref_fa = doc[\"ref_fa\"]\n",
    "annotation = doc[\"annotation\"]\n",
    "ref_fa = os.path.join(genome_raw_dir,'GCF_003668045.1_CriGri-PICR_genomic.fna')\n",
    "annotation = os.path.join(genome_raw_dir,'alt_CriGri-PICR_top_level.gff3')\n",
    "                 "
   ]
  },
  {
   "cell_type": "markdown",
   "metadata": {},
   "source": [
    "## Output files"
   ]
  },
  {
   "cell_type": "code",
   "execution_count": 4,
   "metadata": {
    "ExecuteTime": {
     "end_time": "2020-04-30T23:37:27.258177Z",
     "start_time": "2020-04-30T23:37:27.242483Z"
    }
   },
   "outputs": [],
   "source": [
    "os.chdir(doc[\"results\"])\n",
    "genome_dir = \"genome/picr/gcf/\"\n",
    "if not os.path.exists(genome_dir):\n",
    "    os.makedirs(genome_dir)"
   ]
  },
  {
   "cell_type": "markdown",
   "metadata": {},
   "source": [
    "## Run"
   ]
  },
  {
   "cell_type": "code",
   "execution_count": 5,
   "metadata": {
    "ExecuteTime": {
     "end_time": "2020-04-30T23:52:59.968281Z",
     "start_time": "2020-04-30T23:37:27.259957Z"
    },
    "scrolled": true
   },
   "outputs": [
    {
     "name": "stderr",
     "output_type": "stream",
     "text": [
      "/data/isshamie/TSS/TSS/tss/data/generate_genome.py:44: FutureWarning: set_value is deprecated and will be removed in a future release. Please use .at[] or .iat[] accessors instead\n",
      "  mrna_peak_df.set_value(ind, curr_split[0], curr_split[1])\n",
      "/data/isshamie/TSS/TSS/tss/data/generate_genome.py:62: FutureWarning: set_value is deprecated and will be removed in a future release. Please use .at[] or .iat[] accessors instead\n",
      "  curr_split[1])\n"
     ]
    },
    {
     "name": "stdout",
     "output_type": "stream",
     "text": [
      "pos2bed.pl genome/picr/gcf/mRNA_150.tss.peak > genome/picr/gcf/mRNA_150.tss.bed\n",
      "homerTools extract genome/picr/gcf/mRNA_150.tss.bed /data/isshamie/TSS/Analysis/supplemental/genome/ncbi_anno_103/GCF_003668045.1_CriGri-PICR_genomic.fna -fa > genome/picr/gcf/mRNA_150.tss.fa\n",
      "awk '{ if ($3==\"mRNA\") {print}  }' /data/isshamie/TSS/Analysis/supplemental/genome/ncbi_anno_103/alt_CriGri-PICR_top_level.gff3 > genome/picr/gcf/mRNA.gff\n",
      "awk '{ if ($3==\"CDS\") {print}  }' /data/isshamie/TSS/Analysis/supplemental/genome/ncbi_anno_103/alt_CriGri-PICR_top_level.gff3 > genome/picr/gcf/CDS.gff\n",
      "gff2bed < genome/picr/gcf/CDS.gff > genome/picr/gcf/CDS.bed\n",
      "gff2bed < genome/picr/gcf/mRNA.gff > genome/picr/gcf/mRNA.bed\n"
     ]
    },
    {
     "name": "stderr",
     "output_type": "stream",
     "text": [
      "/data/isshamie/TSS/TSS/tss/data/generate_genome.py:109: FutureWarning: set_value is deprecated and will be removed in a future release. Please use .at[] or .iat[] accessors instead\n",
      "  mRNA_anno.set_value(ind, curr_split[0], curr_split[1])\n",
      "100%|██████████| 35680/35680 [12:31<00:00, 47.48it/s] \n"
     ]
    },
    {
     "name": "stdout",
     "output_type": "stream",
     "text": [
      "samtools faidx /data/isshamie/TSS/Analysis/supplemental/genome/ncbi_anno_103/GCF_003668045.1_CriGri-PICR_genomic.fna\n",
      "cut -f1,2 /data/isshamie/TSS/Analysis/supplemental/genome/ncbi_anno_103/GCF_003668045.1_CriGri-PICR_genomic.fna.fai > genome/picr/gcf/chrom.sizes\n",
      "Number of unique genes:  21387\n",
      "Number of unique start sites for mrna 35679\n",
      "Number of transcripts 46751\n",
      "Number of exons 630390\n"
     ]
    }
   ],
   "source": [
    "generate_genome.process_genome(ref_fa, annotation, genome_dir)"
   ]
  },
  {
   "cell_type": "code",
   "execution_count": null,
   "metadata": {},
   "outputs": [],
   "source": []
  },
  {
   "cell_type": "markdown",
   "metadata": {
    "ExecuteTime": {
     "end_time": "2020-04-09T23:43:35.455845Z",
     "start_time": "2020-04-09T23:43:35.442385Z"
    }
   },
   "source": [
    "### For human hg38"
   ]
  },
  {
   "cell_type": "code",
   "execution_count": null,
   "metadata": {
    "ExecuteTime": {
     "start_time": "2020-04-30T23:37:26.234Z"
    },
    "scrolled": true
   },
   "outputs": [
    {
     "name": "stdout",
     "output_type": "stream",
     "text": [
      "pos2bed.pl Results/genome/hg38/mRNA_150.tss.peak > Results/genome/hg38/mRNA_150.tss.bed\n",
      "homerTools extract Results/genome/hg38/mRNA_150.tss.bed /data/isshamie/genome/hg38/GCF_000001405.38_GRCh38.p12_genomic.fna -fa > Results/genome/hg38/mRNA_150.tss.fa\n",
      "awk '{ if ($3==\"mRNA\") {print}  }' /data/isshamie/genome/hg38/ref_GRCh38.p12_top_level.gff3 > Results/genome/hg38/mRNA.gff\n",
      "awk '{ if ($3==\"CDS\") {print}  }' /data/isshamie/genome/hg38/ref_GRCh38.p12_top_level.gff3 > Results/genome/hg38/CDS.gff\n",
      "gff2bed < Results/genome/hg38/CDS.gff > Results/genome/hg38/CDS.bed\n",
      "gff2bed < Results/genome/hg38/mRNA.gff > Results/genome/hg38/mRNA.bed\n"
     ]
    },
    {
     "name": "stderr",
     "output_type": "stream",
     "text": [
      " 80%|███████▉  | 53859/67503 [33:26<17:52, 12.72it/s] "
     ]
    }
   ],
   "source": [
    "ref_fa = \"/data/isshamie/genome/hg38/GCF_000001405.38_GRCh38.p12_genomic.fna\"\n",
    "annotation = \"/data/isshamie/genome/hg38/ref_GRCh38.p12_top_level.gff3\"\n",
    "\n",
    "## Output files\n",
    "genome_dir = \"Results/genome/hg38/\"\n",
    "if not os.path.exists(genome_dir):\n",
    "    os.makedirs(genome_dir)\n",
    "generate_genome.process_genome(ref_fa, annotation, genome_dir)"
   ]
  },
  {
   "cell_type": "code",
   "execution_count": null,
   "metadata": {},
   "outputs": [],
   "source": []
  },
  {
   "cell_type": "code",
   "execution_count": null,
   "metadata": {},
   "outputs": [],
   "source": []
  },
  {
   "cell_type": "code",
   "execution_count": null,
   "metadata": {},
   "outputs": [],
   "source": []
  }
 ],
 "metadata": {
  "kernelspec": {
   "display_name": "Python 2",
   "language": "python",
   "name": "python2"
  },
  "language_info": {
   "codemirror_mode": {
    "name": "ipython",
    "version": 3
   },
   "file_extension": ".py",
   "mimetype": "text/x-python",
   "name": "python",
   "nbconvert_exporter": "python",
   "pygments_lexer": "ipython3",
   "version": "3.7.3"
  }
 },
 "nbformat": 4,
 "nbformat_minor": 2
}
