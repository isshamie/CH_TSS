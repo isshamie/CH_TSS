{
 "cells": [
  {
   "cell_type": "markdown",
   "metadata": {},
   "source": [
    "# Copy over bedgraph files, genome, and bed file into IGV Folder"
   ]
  },
  {
   "cell_type": "code",
   "execution_count": 1,
   "metadata": {
    "ExecuteTime": {
     "end_time": "2020-04-29T07:32:02.276187Z",
     "start_time": "2020-04-29T07:32:01.307852Z"
    },
    "scrolled": true
   },
   "outputs": [
    {
     "name": "stderr",
     "output_type": "stream",
     "text": [
      "/home/isshamie/software/anaconda2/envs/TSS/lib/python3.7/site-packages/ipykernel_launcher.py:7: YAMLLoadWarning: calling yaml.load() without Loader=... is deprecated, as the default Loader is unsafe. Please read https://msg.pyyaml.org/load for full details.\n",
      "  import sys\n"
     ]
    },
    {
     "name": "stdout",
     "output_type": "stream",
     "text": [
      "Number of tissues:  13\n",
      "/data2/resources/software/homer/v4.11_10242019/bin//homer\r\n"
     ]
    }
   ],
   "source": [
    "## Parameters specific to where your folders are and your data\n",
    "parameter_file = '../parameters/params.yaml'\n",
    "import yaml\n",
    "import sys\n",
    "import os\n",
    "with open(parameter_file,'r') as f:\n",
    "    doc = yaml.load(f)\n",
    "\n",
    "#p = dic2obj(**doc)\n",
    "\n",
    "data_folder = doc['data_folder']\n",
    "tissues = doc['tissues'].split(',')\n",
    "sys.path.append(doc['pipeline_path'])\n",
    "ref_fa = doc['ref_fa']\n",
    "#anno_gff=doc['annotation']\n",
    "#mRNA_peak_file = doc[\"mRNA_peak_file\"]\n",
    "#tss_annotation = doc['tss_annotation']\n",
    "\n",
    "anno_gff = doc[\"alt_annotation\"]\n",
    "import sys\n",
    "import pandas as pd\n",
    "import matplotlib\n",
    "import seaborn as sns\n",
    "import pickle\n",
    "import numpy as np\n",
    "import matplotlib as mpl\n",
    "from matplotlib import pyplot as plt\n",
    "from itertools import product\n",
    "import glob\n",
    "import re\n",
    "from os.path import join, basename\n",
    "from matplotlib_venn import venn2\n",
    "from matplotlib import rcParams\n",
    "import inspect\n",
    "%matplotlib inline\n",
    "%config InlineBackend.figure_format = 'retina'\n",
    "sys.setrecursionlimit(3000)\n",
    "%load_ext autoreload\n",
    "%autoreload 2\n",
    "rcParams['figure.figsize'] = 8, 6\n",
    "import tqdm\n",
    "\n",
    "from os.path import basename\n",
    "##mpl.use('Agg')\n",
    "#mpl.style.use('ggplot')\n",
    "#mpl.style.use('fivethirtyeight')\n",
    "from Homer import *\n",
    "import helper\n",
    "import create_output\n",
    "print('Number of tissues: ',len(tissues))\n",
    "\n",
    "homer_path =  \"/data2/resources/software/homer/v4.11_10242019/bin/\"\n",
    "os.environ['PATH'] = f\"{homer_path}:{os.environ['PATH']}\"\n",
    "!which homer\n",
    "\n",
    "os.chdir(doc[\"results\"])\n"
   ]
  },
  {
   "cell_type": "code",
   "execution_count": 2,
   "metadata": {
    "ExecuteTime": {
     "end_time": "2020-04-29T07:32:02.304698Z",
     "start_time": "2020-04-29T07:32:02.279469Z"
    },
    "scrolled": true
   },
   "outputs": [],
   "source": [
    "os.chdir(doc[\"results\"])\n",
    "outdir = 'igv_files'\n",
    "if not os.path.exists(outdir):\n",
    "    os.mkdir(outdir)"
   ]
  },
  {
   "cell_type": "markdown",
   "metadata": {},
   "source": [
    "# Files"
   ]
  },
  {
   "cell_type": "code",
   "execution_count": 3,
   "metadata": {
    "ExecuteTime": {
     "end_time": "2020-04-29T07:32:04.454413Z",
     "start_time": "2020-04-29T07:32:04.435568Z"
    }
   },
   "outputs": [],
   "source": [
    "files = [\"/data/isshamie/genome/ncbi_anno_103/GCF_003668045.1_CriGri-PICR_genomic.fna\",\n",
    "        \"/data/isshamie/TSS/NCBI_PICR_103_Processed//CHO/START/bedgraph_files/trim_CHO_START1.bedgraph.gz\",\n",
    "        \"/data/isshamie/TSS/Analysis/Analysis_NCBI_PICR/Results/output/TSS1.bed\",\n",
    "        \"/data/isshamie/TSS/NCBI_PICR_103_Processed//CHO/START/bedgraph_files/trim_CHO_STARTinput1.bedgraph.gz\",\n",
    "        \"/data/isshamie/TSS/NCBI_PICR_103_Processed/Brain/GROCap/bedgraph_files/trim_Brain_GRO1.bedgraph.gz\",\n",
    "        \"/data/isshamie/TSS/NCBI_PICR_103_Processed/BMDMwt/GROCap/bedgraph_files/trim_BMDMwt_GROCap1.bedgraph.gz\",\n",
    "        \"/data/isshamie/TSS/NCBI_PICR_103_Processed/Lung/START/bedgraph_files/trim_Lung_START1.bedgraph.gz\",\n",
    "        \"/data/isshamie/genome/ncbi_anno_103/alt_CriGri-PICR_top_level.gff3\",\n",
    "        \"/data/isshamie/TSS/NCBI_PICR_103_Processed/Brain/GROCap/bedgraph_files/trim_Brain_GROCap1.bedgraph.gz\",\n",
    "        \"/data/isshamie/TSS/NCBI_PICR_103_Processed//CHO/ATAC/out/signal/macs2/pooled_rep/CHO_ATAC1.trim.nodup.tn5_CHO_ATAC3.trim.nodup.tn5.pf.pval.signal.bigwig\",\n",
    "        \"/data/isshamie/TSS/NCBI_PICR_103_Processed//CHO/GROCap/bedgraph_files/trim_CHO_GRO1.bedgraph.gz\",\n",
    "        \"/data/isshamie/TSS/NCBI_PICR_103_Processed/BMDMwt/GROCap/bedgraph_files/trim_BMDMwt_GRO1.bedgraph.gz\",\n",
    "        \"/data/isshamie/TSS/NCBI_PICR_103_Processed/Lung/START/bedgraph_files/trim_Lung_STARTinput1.bedgraph.gz\",\n",
    "        \"/data/isshamie/TSS/NCBI_PICR_103_Processed//CHO/GROCap/bedgraph_files/trim_CHO_GROCap1.bedgraph.gz\",\n",
    "        \"/data2/isshamie/TSS/Analysis/Analysis_03302020/Results/csRNA_pipeline/bedgraph/Brain_RNASeq1.bedgraph.gz\"]"
   ]
  },
  {
   "cell_type": "code",
   "execution_count": 6,
   "metadata": {
    "ExecuteTime": {
     "end_time": "2020-04-29T07:33:15.829772Z",
     "start_time": "2020-04-29T07:32:42.700591Z"
    },
    "scrolled": true
   },
   "outputs": [
    {
     "name": "stdout",
     "output_type": "stream",
     "text": [
      "cp /data/isshamie/genome/ncbi_anno_103/GCF_003668045.1_CriGri-PICR_genomic.fna igv_files/GCF_003668045.1_CriGri-PICR_genomic.fna\n",
      "cp /data/isshamie/TSS/NCBI_PICR_103_Processed//CHO/START/bedgraph_files/trim_CHO_START1.bedgraph.gz igv_files/trim_CHO_START1.bedgraph.gz\n",
      "cp /data/isshamie/TSS/Analysis/Analysis_NCBI_PICR/Results/output/TSS1.bed igv_files/TSS1.bed\n",
      "cp /data/isshamie/TSS/NCBI_PICR_103_Processed//CHO/START/bedgraph_files/trim_CHO_STARTinput1.bedgraph.gz igv_files/trim_CHO_STARTinput1.bedgraph.gz\n",
      "cp /data/isshamie/TSS/NCBI_PICR_103_Processed/Brain/GROCap/bedgraph_files/trim_Brain_GRO1.bedgraph.gz igv_files/trim_Brain_GRO1.bedgraph.gz\n",
      "cp /data/isshamie/TSS/NCBI_PICR_103_Processed/BMDMwt/GROCap/bedgraph_files/trim_BMDMwt_GROCap1.bedgraph.gz igv_files/trim_BMDMwt_GROCap1.bedgraph.gz\n",
      "cp /data/isshamie/TSS/NCBI_PICR_103_Processed/Lung/START/bedgraph_files/trim_Lung_START1.bedgraph.gz igv_files/trim_Lung_START1.bedgraph.gz\n",
      "cp /data/isshamie/genome/ncbi_anno_103/alt_CriGri-PICR_top_level.gff3 igv_files/alt_CriGri-PICR_top_level.gff3\n",
      "cp /data/isshamie/TSS/NCBI_PICR_103_Processed/Brain/GROCap/bedgraph_files/trim_Brain_GROCap1.bedgraph.gz igv_files/trim_Brain_GROCap1.bedgraph.gz\n",
      "cp /data/isshamie/TSS/NCBI_PICR_103_Processed//CHO/ATAC/out/signal/macs2/pooled_rep/CHO_ATAC1.trim.nodup.tn5_CHO_ATAC3.trim.nodup.tn5.pf.pval.signal.bigwig igv_files/CHO_ATAC1.trim.nodup.tn5_CHO_ATAC3.trim.nodup.tn5.pf.pval.signal.bigwig\n",
      "cp /data/isshamie/TSS/NCBI_PICR_103_Processed//CHO/GROCap/bedgraph_files/trim_CHO_GRO1.bedgraph.gz igv_files/trim_CHO_GRO1.bedgraph.gz\n",
      "cp /data/isshamie/TSS/NCBI_PICR_103_Processed/BMDMwt/GROCap/bedgraph_files/trim_BMDMwt_GRO1.bedgraph.gz igv_files/trim_BMDMwt_GRO1.bedgraph.gz\n",
      "cp /data/isshamie/TSS/NCBI_PICR_103_Processed/Lung/START/bedgraph_files/trim_Lung_STARTinput1.bedgraph.gz igv_files/trim_Lung_STARTinput1.bedgraph.gz\n",
      "cp /data/isshamie/TSS/NCBI_PICR_103_Processed//CHO/GROCap/bedgraph_files/trim_CHO_GROCap1.bedgraph.gz igv_files/trim_CHO_GROCap1.bedgraph.gz\n",
      "cp /data2/isshamie/TSS/Analysis/Analysis_03302020/Results/csRNA_pipeline/bedgraph/Brain_RNASeq1.bedgraph.gz igv_files/Brain_RNASeq1.bedgraph.gz\n"
     ]
    }
   ],
   "source": [
    "for f in files:\n",
    "    cmd = f\"cp {f} {join(outdir,basename(f))}\"\n",
    "    print(cmd)\n",
    "    os.system(cmd)"
   ]
  },
  {
   "cell_type": "code",
   "execution_count": null,
   "metadata": {},
   "outputs": [],
   "source": []
  }
 ],
 "metadata": {
  "kernelspec": {
   "display_name": "Python 3",
   "language": "python",
   "name": "python3"
  },
  "language_info": {
   "codemirror_mode": {
    "name": "ipython",
    "version": 3
   },
   "file_extension": ".py",
   "mimetype": "text/x-python",
   "name": "python",
   "nbconvert_exporter": "python",
   "pygments_lexer": "ipython3",
   "version": "3.7.3"
  }
 },
 "nbformat": 4,
 "nbformat_minor": 2
}
