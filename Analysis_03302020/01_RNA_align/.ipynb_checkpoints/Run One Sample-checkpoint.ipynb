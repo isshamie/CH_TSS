{
 "cells": [
  {
   "cell_type": "markdown",
   "metadata": {},
   "source": [
    "## Load metasamples and take the Brain one."
   ]
  },
  {
   "cell_type": "code",
   "execution_count": 35,
   "metadata": {
    "ExecuteTime": {
     "end_time": "2020-04-08T22:19:17.587437Z",
     "start_time": "2020-04-08T22:19:17.455529Z"
    },
    "scrolled": false
   },
   "outputs": [
    {
     "data": {
      "text/html": [
       "<div>\n",
       "<style scoped>\n",
       "    .dataframe tbody tr th:only-of-type {\n",
       "        vertical-align: middle;\n",
       "    }\n",
       "\n",
       "    .dataframe tbody tr th {\n",
       "        vertical-align: top;\n",
       "    }\n",
       "\n",
       "    .dataframe thead th {\n",
       "        text-align: right;\n",
       "    }\n",
       "</style>\n",
       "<table border=\"1\" class=\"dataframe\">\n",
       "  <thead>\n",
       "    <tr style=\"text-align: right;\">\n",
       "      <th></th>\n",
       "      <th>Experiment</th>\n",
       "      <th>Full</th>\n",
       "      <th>Name</th>\n",
       "      <th>Tissue</th>\n",
       "    </tr>\n",
       "  </thead>\n",
       "  <tbody>\n",
       "    <tr>\n",
       "      <td>CHBMDM1hKLA2_ATAC_JHS1000_SD_AGGTTGGG_S11_L001_R1_001.fastq.gz</td>\n",
       "      <td>ATAC</td>\n",
       "      <td>CHBMDM1hKLA2_ATAC_JHS1000_SD_AGGTTGGG_S11_L001...</td>\n",
       "      <td>BMDM1hKLA_ATAC1</td>\n",
       "      <td>BMDM1hKLA</td>\n",
       "    </tr>\n",
       "    <tr>\n",
       "      <td>CHBMDM1hKLA1_ATAC_JHS998_SD_TGGGTTTC_S9_L001_R1_001.fastq.gz</td>\n",
       "      <td>ATAC</td>\n",
       "      <td>CHBMDM1hKLA1_ATAC_JHS998_SD_TGGGTTTC_S9_L001_R...</td>\n",
       "      <td>BMDM1hKLA_ATAC2</td>\n",
       "      <td>BMDM1hKLA</td>\n",
       "    </tr>\n",
       "    <tr>\n",
       "      <td>CHBMDM1hKLA_GRO_JHS1027_SD_CAAAAG_S42_L003_R1_001.fastq.gz</td>\n",
       "      <td>GRO</td>\n",
       "      <td>CHBMDM1hKLA_GRO_JHS1027_SD_CAAAAG_S42_L003_R1_...</td>\n",
       "      <td>BMDM1hKLA_GRO1</td>\n",
       "      <td>BMDM1hKLA</td>\n",
       "    </tr>\n",
       "    <tr>\n",
       "      <td>CHBMDM1hKLA_GRO_JHS1034_SD_AGTCAA_S49_L003_R1_001.fastq.gz</td>\n",
       "      <td>GROCap</td>\n",
       "      <td>CHBMDM1hKLA_GRO_JHS1034_SD_AGTCAA_S49_L003_R1_...</td>\n",
       "      <td>BMDM1hKLA_GROCap1</td>\n",
       "      <td>BMDM1hKLA</td>\n",
       "    </tr>\n",
       "    <tr>\n",
       "      <td>CHBMDMVehic2_ATAC_JHS999_SD_TGGTCACA_S10_L001_R1_001.fastq.gz</td>\n",
       "      <td>ATAC</td>\n",
       "      <td>CHBMDMVehic2_ATAC_JHS999_SD_TGGTCACA_S10_L001_...</td>\n",
       "      <td>BMDMwt_ATAC1</td>\n",
       "      <td>BMDMwt</td>\n",
       "    </tr>\n",
       "    <tr>\n",
       "      <td>...</td>\n",
       "      <td>...</td>\n",
       "      <td>...</td>\n",
       "      <td>...</td>\n",
       "      <td>...</td>\n",
       "    </tr>\n",
       "    <tr>\n",
       "      <td>NL5_Liver_S5_L006_R1_001.fastq.gz</td>\n",
       "      <td>RNASeq</td>\n",
       "      <td>NL5_Liver_S5_L006_R1_001.fastq.gz</td>\n",
       "      <td>Liver_RNASeq1</td>\n",
       "      <td>Liver</td>\n",
       "    </tr>\n",
       "    <tr>\n",
       "      <td>NL6_Heart_S6_L006_R1_001.fastq.gz</td>\n",
       "      <td>RNASeq</td>\n",
       "      <td>NL6_Heart_S6_L006_R1_001.fastq.gz</td>\n",
       "      <td>Heart_RNASeq1</td>\n",
       "      <td>Heart</td>\n",
       "    </tr>\n",
       "    <tr>\n",
       "      <td>NL7_Brain2_S7_L006_R1_001.fastq.gz</td>\n",
       "      <td>RNASeq</td>\n",
       "      <td>NL7_Brain2_S7_L006_R1_001.fastq.gz</td>\n",
       "      <td>Brain_RNASeq2</td>\n",
       "      <td>Brain</td>\n",
       "    </tr>\n",
       "    <tr>\n",
       "      <td>NL8_Muscle_S8_L006_R1_001.fastq.gz</td>\n",
       "      <td>RNASeq</td>\n",
       "      <td>NL8_Muscle_S8_L006_R1_001.fastq.gz</td>\n",
       "      <td>Muscle_RNASeq1</td>\n",
       "      <td>Muscle</td>\n",
       "    </tr>\n",
       "    <tr>\n",
       "      <td>NL9_Kidney_S9_L006_R1_001.fastq.gz</td>\n",
       "      <td>RNASeq</td>\n",
       "      <td>NL9_Kidney_S9_L006_R1_001.fastq.gz</td>\n",
       "      <td>Kidney_RNASeq1</td>\n",
       "      <td>Kidney</td>\n",
       "    </tr>\n",
       "  </tbody>\n",
       "</table>\n",
       "<p>78 rows × 4 columns</p>\n",
       "</div>"
      ],
      "text/plain": [
       "                                                   Experiment  \\\n",
       "CHBMDM1hKLA2_ATAC_JHS1000_SD_AGGTTGGG_S11_L001_...       ATAC   \n",
       "CHBMDM1hKLA1_ATAC_JHS998_SD_TGGGTTTC_S9_L001_R1...       ATAC   \n",
       "CHBMDM1hKLA_GRO_JHS1027_SD_CAAAAG_S42_L003_R1_0...        GRO   \n",
       "CHBMDM1hKLA_GRO_JHS1034_SD_AGTCAA_S49_L003_R1_0...     GROCap   \n",
       "CHBMDMVehic2_ATAC_JHS999_SD_TGGTCACA_S10_L001_R...       ATAC   \n",
       "...                                                       ...   \n",
       "NL5_Liver_S5_L006_R1_001.fastq.gz                      RNASeq   \n",
       "NL6_Heart_S6_L006_R1_001.fastq.gz                      RNASeq   \n",
       "NL7_Brain2_S7_L006_R1_001.fastq.gz                     RNASeq   \n",
       "NL8_Muscle_S8_L006_R1_001.fastq.gz                     RNASeq   \n",
       "NL9_Kidney_S9_L006_R1_001.fastq.gz                     RNASeq   \n",
       "\n",
       "                                                                                                 Full  \\\n",
       "CHBMDM1hKLA2_ATAC_JHS1000_SD_AGGTTGGG_S11_L001_...  CHBMDM1hKLA2_ATAC_JHS1000_SD_AGGTTGGG_S11_L001...   \n",
       "CHBMDM1hKLA1_ATAC_JHS998_SD_TGGGTTTC_S9_L001_R1...  CHBMDM1hKLA1_ATAC_JHS998_SD_TGGGTTTC_S9_L001_R...   \n",
       "CHBMDM1hKLA_GRO_JHS1027_SD_CAAAAG_S42_L003_R1_0...  CHBMDM1hKLA_GRO_JHS1027_SD_CAAAAG_S42_L003_R1_...   \n",
       "CHBMDM1hKLA_GRO_JHS1034_SD_AGTCAA_S49_L003_R1_0...  CHBMDM1hKLA_GRO_JHS1034_SD_AGTCAA_S49_L003_R1_...   \n",
       "CHBMDMVehic2_ATAC_JHS999_SD_TGGTCACA_S10_L001_R...  CHBMDMVehic2_ATAC_JHS999_SD_TGGTCACA_S10_L001_...   \n",
       "...                                                                                               ...   \n",
       "NL5_Liver_S5_L006_R1_001.fastq.gz                                   NL5_Liver_S5_L006_R1_001.fastq.gz   \n",
       "NL6_Heart_S6_L006_R1_001.fastq.gz                                   NL6_Heart_S6_L006_R1_001.fastq.gz   \n",
       "NL7_Brain2_S7_L006_R1_001.fastq.gz                                 NL7_Brain2_S7_L006_R1_001.fastq.gz   \n",
       "NL8_Muscle_S8_L006_R1_001.fastq.gz                                 NL8_Muscle_S8_L006_R1_001.fastq.gz   \n",
       "NL9_Kidney_S9_L006_R1_001.fastq.gz                                 NL9_Kidney_S9_L006_R1_001.fastq.gz   \n",
       "\n",
       "                                                                 Name  \\\n",
       "CHBMDM1hKLA2_ATAC_JHS1000_SD_AGGTTGGG_S11_L001_...    BMDM1hKLA_ATAC1   \n",
       "CHBMDM1hKLA1_ATAC_JHS998_SD_TGGGTTTC_S9_L001_R1...    BMDM1hKLA_ATAC2   \n",
       "CHBMDM1hKLA_GRO_JHS1027_SD_CAAAAG_S42_L003_R1_0...     BMDM1hKLA_GRO1   \n",
       "CHBMDM1hKLA_GRO_JHS1034_SD_AGTCAA_S49_L003_R1_0...  BMDM1hKLA_GROCap1   \n",
       "CHBMDMVehic2_ATAC_JHS999_SD_TGGTCACA_S10_L001_R...       BMDMwt_ATAC1   \n",
       "...                                                               ...   \n",
       "NL5_Liver_S5_L006_R1_001.fastq.gz                       Liver_RNASeq1   \n",
       "NL6_Heart_S6_L006_R1_001.fastq.gz                       Heart_RNASeq1   \n",
       "NL7_Brain2_S7_L006_R1_001.fastq.gz                      Brain_RNASeq2   \n",
       "NL8_Muscle_S8_L006_R1_001.fastq.gz                     Muscle_RNASeq1   \n",
       "NL9_Kidney_S9_L006_R1_001.fastq.gz                     Kidney_RNASeq1   \n",
       "\n",
       "                                                       Tissue  \n",
       "CHBMDM1hKLA2_ATAC_JHS1000_SD_AGGTTGGG_S11_L001_...  BMDM1hKLA  \n",
       "CHBMDM1hKLA1_ATAC_JHS998_SD_TGGGTTTC_S9_L001_R1...  BMDM1hKLA  \n",
       "CHBMDM1hKLA_GRO_JHS1027_SD_CAAAAG_S42_L003_R1_0...  BMDM1hKLA  \n",
       "CHBMDM1hKLA_GRO_JHS1034_SD_AGTCAA_S49_L003_R1_0...  BMDM1hKLA  \n",
       "CHBMDMVehic2_ATAC_JHS999_SD_TGGTCACA_S10_L001_R...     BMDMwt  \n",
       "...                                                       ...  \n",
       "NL5_Liver_S5_L006_R1_001.fastq.gz                       Liver  \n",
       "NL6_Heart_S6_L006_R1_001.fastq.gz                       Heart  \n",
       "NL7_Brain2_S7_L006_R1_001.fastq.gz                      Brain  \n",
       "NL8_Muscle_S8_L006_R1_001.fastq.gz                     Muscle  \n",
       "NL9_Kidney_S9_L006_R1_001.fastq.gz                     Kidney  \n",
       "\n",
       "[78 rows x 4 columns]"
      ]
     },
     "execution_count": 35,
     "metadata": {},
     "output_type": "execute_result"
    }
   ],
   "source": [
    "import pandas as pd\n",
    "import os\n",
    "from os.path import join, basename\n",
    "import glob\n",
    "import shutil\n",
    "import matplotlib.pyplot as plt\n",
    "import numpy as np\n",
    "%matplotlib inline\n",
    "samples = pd.read_csv(\"../parameters/samples.tsv\", sep=\"\\t\", index_col=0)\n",
    "samples"
   ]
  },
  {
   "cell_type": "markdown",
   "metadata": {},
   "source": [
    "## Directory names"
   ]
  },
  {
   "cell_type": "code",
   "execution_count": 165,
   "metadata": {
    "ExecuteTime": {
     "end_time": "2020-04-09T01:18:07.088659Z",
     "start_time": "2020-04-09T01:18:07.078704Z"
    }
   },
   "outputs": [],
   "source": [
    "raw_head_dir = \"/media/lewislab/Dropbox (UCSD SBRG)/LewisPub/Data/TSS/\"\n",
    "raw_dir = \"/media/lewislab/Dropbox (UCSD SBRG)/LewisPub/Data/TSS/171227_hamster_GRO_mStart\"\n",
    "params_dir = \"../parameters\"\n",
    "out_dir = \"../Results/csRNA_pipeline/\"\n",
    "bam_dir = join(out_dir, \"bam\")\n",
    "sortBam_dir = join(out_dir, \"sortBam\")\n",
    "tag_dir = join(out_dir, \"tags\")\n",
    "csRNA_dir = join(out_dir, 'csRNA_peaks')\n",
    "\n",
    "if not os.path.exists(bam_dir):\n",
    "    os.mkdir(bam_dir)\n",
    "    \n",
    "if not os.path.exists(sortBam_dir):\n",
    "    os.mkdir(sortBam_dir)\n",
    "    \n",
    "if not os.path.exists(tag_dir):\n",
    "    os.mkdir(tag_dir)\n",
    "    \n",
    "if not os.path.exists(csRNA_dir):\n",
    "    os.mkdir(csRNA_dir)"
   ]
  },
  {
   "cell_type": "code",
   "execution_count": 161,
   "metadata": {
    "ExecuteTime": {
     "end_time": "2020-04-09T01:16:14.089877Z",
     "start_time": "2020-04-09T01:16:14.068843Z"
    }
   },
   "outputs": [
    {
     "name": "stdout",
     "output_type": "stream",
     "text": [
      "{'data_folder': '/data/isshamie/TSS/NCBI_PICR_103_Processed/', 'results': '/data/isshamie/TSS/Analysis/Analysis_03302020/Results/', 'RNAseq_QC': '/data/isshamie/TSS/NCBI_PICR_103_Processed/RNAseq/2017_12_15_hamster_Seq/fastqc/', 'RNAseq_folder': '/data/isshamie/TSS/NCBI_PICR_103_Processed/RNAseq/2017_12_15_hamster_Seq/', 'pipeline_path': '/data/isshamie/TSS/Analysis/src/', 'tissues': 'BMDM1hKLA,BMDMwt,Brain,FemaleReproductive,Heart,Kidney,Liver,Lung,MiscOrgans,Muscle,Pancreas,Spleen,CHO', 'ref_fa': '/data/isshamie/genome/ncbi_anno_103/GCF_003668045.1_CriGri-PICR_genomic.fna', 'annotation': '/data/isshamie/genome/ncbi_anno_103/alt_CriGri-PICR_top_level.gff3', 'annotation_gtf': '/data/isshamie/genome/ncbi_anno_103/GCF_003668045.1_CriGri-PICR_genomic.gtf', 'mRNA_peak_file': '/data/isshamie/genome/ncbi_anno_103/mRNA_final.peak', 'mRNA_peak_150_file': '/data/isshamie/genome/ncbi_anno_103/mRNA_final_150.peak', 'tss_annotation': '/data/isshamie/genome/ncbi_anno_103/start_site_mRNA_final.tsv', 'cds_annotation': '/data/isshamie/genome/ncbi_anno_103/CDS.bed', 'motif_folder': '/data/isshamie/TSS/Analysis/supplemental/homer_motifs/', 'supplemental': '/data/isshamie/TSS/Analysis/supplemental', 'cho_rna_file': '/data/shangzhong/DE/tpm_using_picr.txt', 'htseq_anno_source': 'ncbi', 'strand_specific': 'yes', 'id_name': 'id'}\n"
     ]
    },
    {
     "name": "stderr",
     "output_type": "stream",
     "text": [
      "/home/isshamie/software/anaconda2/envs/TSS/lib/python3.7/site-packages/ipykernel_launcher.py:4: YAMLLoadWarning: calling yaml.load() without Loader=... is deprecated, as the default Loader is unsafe. Please read https://msg.pyyaml.org/load for full details.\n",
      "  after removing the cwd from sys.path.\n"
     ]
    },
    {
     "data": {
      "text/plain": [
       "'/data/isshamie/genome/ncbi_anno_103/GCF_003668045.1_CriGri-PICR_genomic.gtf'"
      ]
     },
     "execution_count": 161,
     "metadata": {},
     "output_type": "execute_result"
    }
   ],
   "source": [
    "import yaml\n",
    "parameter_file = \"../parameters/params.yaml\"\n",
    "with open(parameter_file,'r') as f:\n",
    "    doc = yaml.load(f)\n",
    "\n",
    "print(doc)\n",
    "gtf = doc[\"annotation_gtf\"]\n",
    "ref_fa = doc[\"ref_fa\"]\n",
    "\n",
    "results = doc[\"results\"]\n"
   ]
  },
  {
   "cell_type": "code",
   "execution_count": 3,
   "metadata": {
    "ExecuteTime": {
     "end_time": "2020-04-08T20:23:55.854964Z",
     "start_time": "2020-04-08T20:23:55.718466Z"
    }
   },
   "outputs": [
    {
     "name": "stdout",
     "output_type": "stream",
     "text": [
      "/data2/resources/software/homer/v4.11_10242019/bin//homer\r\n"
     ]
    }
   ],
   "source": [
    "homer_path =  \"/data2/resources/software/homer/v4.11_10242019/bin/\"\n",
    "os.environ['PATH'] = f\"{homer_path}:{os.environ['PATH']}\"\n",
    "!which homer"
   ]
  },
  {
   "cell_type": "markdown",
   "metadata": {
    "ExecuteTime": {
     "end_time": "2020-04-08T04:56:51.408779Z",
     "start_time": "2020-04-08T04:56:51.404575Z"
    }
   },
   "source": [
    "## BRAIN sample\n",
    "START1\n",
    "STARTinput1\n",
    "RNA-seq: Brain2_S7"
   ]
  },
  {
   "cell_type": "markdown",
   "metadata": {},
   "source": [
    "## 0.1 Copy raw over to outdir"
   ]
  },
  {
   "cell_type": "code",
   "execution_count": 4,
   "metadata": {
    "ExecuteTime": {
     "end_time": "2020-04-08T20:23:55.875622Z",
     "start_time": "2020-04-08T20:23:55.859273Z"
    },
    "scrolled": false
   },
   "outputs": [
    {
     "name": "stdout",
     "output_type": "stream",
     "text": [
      "CHBrain_mSTART_JHS1057_SD_ATTCCT_S79_L004_R1_001.fastq.gz \n",
      " CHBrain_mSTARTinput_JHS1078_SD_ATTCCT_S100_L005_R1_001.fastq.gz \n",
      " NL11_Brain7-1_S11_L006_R1_001.fastq.gz\n"
     ]
    }
   ],
   "source": [
    "tissue = \"Brain\"\n",
    "csRNA = samples[(samples[\"Tissue\"]==tissue) & (samples[\"Experiment\"]==\"START\")].iloc[0]\n",
    "csInput = samples[(samples[\"Tissue\"]==tissue) & (samples[\"Experiment\"]==\"STARTinput\")].iloc[1]\n",
    "rnaSeq = samples[(samples[\"Tissue\"]==tissue) & (samples[\"Experiment\"]==\"RNASeq\")].iloc[0]\n",
    "print(csRNA.name, \"\\n\", csInput.name,\"\\n\", rnaSeq.name)"
   ]
  },
  {
   "cell_type": "code",
   "execution_count": 5,
   "metadata": {
    "ExecuteTime": {
     "end_time": "2020-04-08T20:24:31.828966Z",
     "start_time": "2020-04-08T20:23:55.877878Z"
    },
    "scrolled": false
   },
   "outputs": [
    {
     "name": "stdout",
     "output_type": "stream",
     "text": [
      "/media/lewislab/Dropbox\\ \\(UCSD\\ SBRG\\)/LewisPub/Data/TSS/171227_hamster_GRO_mStart\n",
      "cp /media/lewislab/Dropbox\\ \\(UCSD\\ SBRG\\)/LewisPub/Data/TSS/171227_hamster_GRO_mStart/CHBrain_mSTART_JHS1057_SD_ATTCCT_S79_L004_R1_001.fastq.gz ../Results/csRNA_pipeline/Brain_START1.fastq.gz\n",
      "/media/lewislab/Dropbox\\ \\(UCSD\\ SBRG\\)/LewisPub/Data/TSS/171227_hamster_GRO_mStart\n",
      "cp /media/lewislab/Dropbox\\ \\(UCSD\\ SBRG\\)/LewisPub/Data/TSS/171227_hamster_GRO_mStart/CHBrain_mSTARTinput_JHS1078_SD_ATTCCT_S100_L005_R1_001.fastq.gz ../Results/csRNA_pipeline/Brain_STARTinput2.fastq.gz\n"
     ]
    }
   ],
   "source": [
    "def copy_to_outdir(raw_d, raw_name, out_d, out_name ):\n",
    "    #raw_d = raw_d.replace(\" \", \"\\\\\").replace(\"(\", \"\\\\\").replace(\")\", \"\\\\\")\n",
    "    raw_d = \"/\".join(list(map(lambda x: x.replace(\" \", \"\\\\ \").replace(\"(\", \"\\\\(\").replace(\")\", \"\\\\)\"), raw_d.split(\"/\"))))\n",
    "    print(raw_d)\n",
    "    cmd = f'cp {join(raw_d, raw_name)} {join(out_d, out_name+\".fastq.gz\")}'\n",
    "    \n",
    "    \n",
    "    print(cmd)\n",
    "    os.system(cmd)\n",
    "    return\n",
    "\n",
    "copy_to_outdir(raw_dir, csRNA.name, out_d=out_dir, out_name=csRNA[\"Name\"])\n",
    "copy_to_outdir(raw_dir, csInput.name, out_d=out_dir, out_name=csInput[\"Name\"])"
   ]
  },
  {
   "cell_type": "markdown",
   "metadata": {},
   "source": [
    "## 1 Trim"
   ]
  },
  {
   "cell_type": "code",
   "execution_count": 6,
   "metadata": {
    "ExecuteTime": {
     "end_time": "2020-04-08T20:26:59.761391Z",
     "start_time": "2020-04-08T20:24:31.832955Z"
    }
   },
   "outputs": [
    {
     "name": "stdout",
     "output_type": "stream",
     "text": [
      "homerTools trim -3 AGATCGGAAGAGCACACGTCT -mis 2 -minMatchLength 4 -min 20 ../Results/csRNA_pipeline/Brain_START1.fastq.gz\n",
      "homerTools trim -3 AGATCGGAAGAGCACACGTCT -mis 2 -minMatchLength 4 -min 20 ../Results/csRNA_pipeline/Brain_STARTinput2.fastq.gz\n"
     ]
    }
   ],
   "source": [
    "def trim(fastq_f):\n",
    "    cmd = f\"homerTools trim -3 AGATCGGAAGAGCACACGTCT -mis 2 -minMatchLength 4 -min 20 {fastq_f}\"\n",
    "    print(cmd)\n",
    "    os.system(cmd) \n",
    "    return\n",
    "\n",
    "trim(join(out_dir,  csRNA[\"Name\"]+\".fastq.gz\"))\n",
    "trim(join(out_dir,  csInput[\"Name\"]+\".fastq.gz\"))"
   ]
  },
  {
   "cell_type": "markdown",
   "metadata": {},
   "source": [
    "## Build STAR\n",
    "## Build genome from Homer\n",
    "## ? Rna-seq 2 should be the one (check annotation?)"
   ]
  },
  {
   "cell_type": "code",
   "execution_count": 9,
   "metadata": {
    "ExecuteTime": {
     "end_time": "2020-04-08T21:00:04.832183Z",
     "start_time": "2020-04-08T20:43:52.739491Z"
    },
    "scrolled": true
   },
   "outputs": [
    {
     "name": "stdout",
     "output_type": "stream",
     "text": [
      "STAR --runMode genomeGenerate --genomeDir /data/isshamie/genome/hamster/ncbi_anno_103/GCF_003668045.1_CriGri-PICR/CriGri-PICR_STAR_db --genomeFastaFiles /data/isshamie/genome/hamster/ncbi_anno_103/GCF_003668045.1_CriGri-PICR/GCF_003668045.1_CriGri-PICR_genomic.fna --runThreadN 4                --limitGenomeGenerateRAM 100000000000  --readFilesCommand zcat                --sjdbGTFfile /data/isshamie/genome/hamster/ncbi_anno_103/GCF_003668045.1_CriGri-PICR/GCF_003668045.1_CriGri-PICR_genomic.gtf --sjdbOverhang 100\n"
     ]
    },
    {
     "data": {
      "text/plain": [
       "2"
      ]
     },
     "execution_count": 9,
     "metadata": {},
     "output_type": "execute_result"
    }
   ],
   "source": [
    "# #!which STAR\n",
    "# thread = 4\n",
    "\n",
    "# genome_dir = \"/data/isshamie/genome/hamster/ncbi_anno_103/GCF_003668045.1_CriGri-PICR\"\n",
    "# db_path = join(genome_dir,\"CriGri-PICR_STAR_db\")\n",
    "\n",
    "# if not os.path.exists(db_path):\n",
    "#     os.mkdir(db_path)\n",
    "    \n",
    "# ref_fa = join(genome_dir, \"GCF_003668045.1_CriGri-PICR_genomic.fna\")\n",
    "# gtf = join(genome_dir, \"GCF_003668045.1_CriGri-PICR_genomic.gtf\")\n",
    "\n",
    "\n",
    "# cmd = f\"\"\"STAR --runMode genomeGenerate --genomeDir {db_path} --genomeFastaFiles {ref_fa} --runThreadN {thread} \n",
    "#                --limitGenomeGenerateRAM 100000000000  --readFilesCommand zcat \n",
    "#                --sjdbGTFfile {gtf} --sjdbOverhang 100\"\"\"\n",
    "# print(cmd.replace(\"\\n\",\"\"))\n",
    "# os.system(cmd)\n",
    "# #--sjdbGTFtagExonParentTranscript Parent"
   ]
  },
  {
   "cell_type": "markdown",
   "metadata": {},
   "source": [
    "## 2. Alignment (STAR)"
   ]
  },
  {
   "cell_type": "code",
   "execution_count": 10,
   "metadata": {
    "ExecuteTime": {
     "end_time": "2020-04-08T21:00:18.475968Z",
     "start_time": "2020-04-08T21:00:18.471140Z"
    }
   },
   "outputs": [],
   "source": [
    "trim_f = join(out_dir,  csRNA[\"Name\"] + \".fastq.gz.trimmed\")\n",
    "bam_out = join(bam_dir, csRNA[\"Name\"])\n",
    "db_path = \"/data/isshamie/genome/ncbi_anno_103/CriGri-PICR_STAR_db\""
   ]
  },
  {
   "cell_type": "markdown",
   "metadata": {},
   "source": [
    "### csRNA "
   ]
  },
  {
   "cell_type": "code",
   "execution_count": 14,
   "metadata": {
    "ExecuteTime": {
     "end_time": "2020-04-08T21:10:59.623400Z",
     "start_time": "2020-04-08T21:05:47.442953Z"
    },
    "scrolled": false
   },
   "outputs": [
    {
     "name": "stdout",
     "output_type": "stream",
     "text": [
      "STAR --genomeDir /data/isshamie/genome/ncbi_anno_103/CriGri-PICR_STAR_db --runThreadN 24 --readFilesIn ../Results/csRNA_pipeline/Brain_START1.fastq.gz.trimmed --outFileNamePrefix ../Results/csRNA_pipeline/bam/Brain_START1 --outSAMstrandField intronMotif --outMultimapperOrder Random --outSAMmultNmax 1 --outSAMtype BAM SortedByCoordinate --outFilterMultimapNmax 10000 --limitOutSAMoneReadBytes 10000000\n"
     ]
    },
    {
     "data": {
      "text/plain": [
       "0"
      ]
     },
     "execution_count": 14,
     "metadata": {},
     "output_type": "execute_result"
    }
   ],
   "source": [
    "cmd = f\"STAR --genomeDir {db_path} --runThreadN 24 --readFilesIn {trim_f} --outFileNamePrefix {bam_out} --outSAMstrandField intronMotif --outMultimapperOrder Random --outSAMmultNmax 1 --outSAMtype BAM SortedByCoordinate --outFilterMultimapNmax 10000 --limitOutSAMoneReadBytes 10000000\"\n",
    "print(cmd)\n",
    "os.system(cmd) "
   ]
  },
  {
   "cell_type": "markdown",
   "metadata": {},
   "source": [
    "### Samtools sort and index "
   ]
  },
  {
   "cell_type": "code",
   "execution_count": 17,
   "metadata": {
    "ExecuteTime": {
     "end_time": "2020-04-08T21:15:56.948424Z",
     "start_time": "2020-04-08T21:15:09.642427Z"
    }
   },
   "outputs": [
    {
     "name": "stdout",
     "output_type": "stream",
     "text": [
      "samtools index ../Results/csRNA_pipeline/bam/Brain_START1Aligned.sortedByCoord.out.bam\n"
     ]
    },
    {
     "data": {
      "text/plain": [
       "0"
      ]
     },
     "execution_count": 17,
     "metadata": {},
     "output_type": "execute_result"
    }
   ],
   "source": [
    "# cmd = f\"samtools sort {bam_out} {csRNA['Name']} + .sorted.bam\"\n",
    "# print(cmd)\n",
    "\n",
    "cmd = f\"samtools index {join(bam_dir,csRNA['Name'])}Aligned.sortedByCoord.out.bam\"\n",
    "print(cmd)\n",
    "os.system(cmd)"
   ]
  },
  {
   "cell_type": "markdown",
   "metadata": {},
   "source": [
    "### csInput"
   ]
  },
  {
   "cell_type": "code",
   "execution_count": 18,
   "metadata": {
    "ExecuteTime": {
     "end_time": "2020-04-08T21:21:00.979206Z",
     "start_time": "2020-04-08T21:19:34.485168Z"
    },
    "scrolled": false
   },
   "outputs": [
    {
     "name": "stdout",
     "output_type": "stream",
     "text": [
      "STAR --genomeDir /data/isshamie/genome/ncbi_anno_103/CriGri-PICR_STAR_db --runThreadN 24 --readFilesIn ../Results/csRNA_pipeline/Brain_STARTinput2.fastq.gz.trimmed --outFileNamePrefix ../Results/csRNA_pipeline/bam/Brain_STARTinput2 --outSAMstrandField intronMotif --outMultimapperOrder Random --outSAMmultNmax 1 --outSAMtype BAM SortedByCoordinate --outFilterMultimapNmax 10000 --limitOutSAMoneReadBytes 10000000\n",
      "samtools index ../Results/csRNA_pipeline/bam/Brain_STARTinput2Aligned.sortedByCoord.out.bam\n"
     ]
    },
    {
     "data": {
      "text/plain": [
       "0"
      ]
     },
     "execution_count": 18,
     "metadata": {},
     "output_type": "execute_result"
    }
   ],
   "source": [
    "trim_f = join(out_dir,  csInput[\"Name\"] + \".fastq.gz.trimmed\")\n",
    "bam_out = join(bam_dir, csInput[\"Name\"])\n",
    "db_path = \"/data/isshamie/genome/ncbi_anno_103/CriGri-PICR_STAR_db\"\n",
    "cmd = f\"STAR --genomeDir {db_path} --runThreadN 24 --readFilesIn {trim_f} --outFileNamePrefix {bam_out} --outSAMstrandField intronMotif --outMultimapperOrder Random --outSAMmultNmax 1 --outSAMtype BAM SortedByCoordinate --outFilterMultimapNmax 10000 --limitOutSAMoneReadBytes 10000000\"\n",
    "print(cmd)\n",
    "os.system(cmd) \n",
    "cmd = f\"samtools index {join(bam_dir,csInput['Name'])}Aligned.sortedByCoord.out.bam\"\n",
    "print(cmd)\n",
    "os.system(cmd)"
   ]
  },
  {
   "cell_type": "markdown",
   "metadata": {},
   "source": [
    "## 3. make the tags\n",
    "### Make rna tag directory (normalize by 1m mapped reads not 10m).. thats in findPeaks actually"
   ]
  },
  {
   "cell_type": "code",
   "execution_count": 79,
   "metadata": {
    "ExecuteTime": {
     "end_time": "2020-04-08T22:48:56.013451Z",
     "start_time": "2020-04-08T22:40:54.216458Z"
    },
    "scrolled": true
   },
   "outputs": [
    {
     "name": "stdout",
     "output_type": "stream",
     "text": [
      "makeTagDirectory ../Results/csRNA_pipeline/tags/Brain_START1 ../Results/csRNA_pipeline/bam/Brain_START1Aligned.sortedByCoord.out.bam -genome /data/isshamie/genome/ncbi_anno_103/GCF_003668045.1_CriGri-PICR_genomic.fna -single -checkGC -fragLength 150\n",
      "makeTagDirectory ../Results/csRNA_pipeline/tags/Brain_STARTinput2 ../Results/csRNA_pipeline/bam/Brain_STARTinput2Aligned.sortedByCoord.out.bam -genome /data/isshamie/genome/ncbi_anno_103/GCF_003668045.1_CriGri-PICR_genomic.fna  -single -checkGC -fragLength 150\n"
     ]
    },
    {
     "data": {
      "text/plain": [
       "0"
      ]
     },
     "execution_count": 79,
     "metadata": {},
     "output_type": "execute_result"
    }
   ],
   "source": [
    "csRNA_tag = join(tag_dir, csRNA[\"Name\"])\n",
    "csRNA_bam = join(bam_dir, csRNA[\"Name\"])\n",
    "\n",
    "\n",
    "cmd = f\"makeTagDirectory {csRNA_tag} {csRNA_bam}Aligned.sortedByCoord.out.bam -genome {ref_fa} -single -checkGC -fragLength 150\"\n",
    "print(cmd)\n",
    "os.system(cmd)\n",
    "\n",
    "csInput_tag = join(tag_dir, csInput[\"Name\"])\n",
    "csInput_bam = join(bam_dir, csInput[\"Name\"])\n",
    "\n",
    "cmd = f\"makeTagDirectory {csInput_tag} {csInput_bam}Aligned.sortedByCoord.out.bam -genome {ref_fa}  -single -checkGC -fragLength 150\"\n",
    "print(cmd)\n",
    "os.system(cmd)"
   ]
  },
  {
   "cell_type": "markdown",
   "metadata": {},
   "source": [
    "### QC tags"
   ]
  },
  {
   "cell_type": "code",
   "execution_count": 80,
   "metadata": {
    "ExecuteTime": {
     "end_time": "2020-04-08T22:48:56.438812Z",
     "start_time": "2020-04-08T22:48:56.016034Z"
    },
    "scrolled": false
   },
   "outputs": [
    {
     "name": "stderr",
     "output_type": "stream",
     "text": [
      "/home/isshamie/software/anaconda2/envs/TSS/lib/python3.7/site-packages/ipykernel_launcher.py:10: RuntimeWarning: divide by zero encountered in log10\n",
      "  # Remove the CWD from sys.path while we load stuff.\n",
      "/home/isshamie/software/anaconda2/envs/TSS/lib/python3.7/site-packages/ipykernel_launcher.py:13: RuntimeWarning: divide by zero encountered in log10\n",
      "  del sys.path[0]\n"
     ]
    },
    {
     "data": {
      "text/plain": [
       "<matplotlib.collections.PathCollection at 0x7fca7b13d6d8>"
      ]
     },
     "execution_count": 80,
     "metadata": {},
     "output_type": "execute_result"
    },
    {
     "data": {
      "image/png": "[encoded data removed]",
      "text/plain": [
       "<Figure size 432x288 with 1 Axes>"
      ]
     },
     "metadata": {
      "needs_background": "light"
     },
     "output_type": "display_data"
    }
   ],
   "source": [
    "csrna_count = pd.read_csv(join(csRNA_tag, \"tagCountDistribution.txt\"),sep=\"\\t\", index_col=0, dtype=float)\n",
    "csrna_count[\"Tag per position\"] = csrna_count.index.astype(int)\n",
    "\n",
    "input_count = pd.read_csv(join(csInput_tag, \"tagCountDistribution.txt\"),sep=\"\\t\", index_col=0)\n",
    "input_count[\"Tag per position\"] = input_count.index.astype(int)\n",
    "\n",
    "f = plt.figure()\n",
    "#plt.scatter(np.log10(input_count.index), np.log10(input_count[\"Fraction of Positions\"]), color=\"blue\")\n",
    "\n",
    "plt.scatter(np.log10(csrna_count.index),np.log10(csrna_count[\"Fraction of Positions\"]), color=\"blue\")#, loglog=True)\n",
    "plt.scatter(np.log10(input_count.index), np.log10(input_count[\"Fraction of Positions\"]), color=\"orange\")#, loglog=True)\n"
   ]
  },
  {
   "cell_type": "code",
   "execution_count": 85,
   "metadata": {
    "ExecuteTime": {
     "end_time": "2020-04-08T23:21:51.620572Z",
     "start_time": "2020-04-08T23:21:51.603602Z"
    },
    "scrolled": true
   },
   "outputs": [
    {
     "data": {
      "text/html": [
       "<div>\n",
       "<style scoped>\n",
       "    .dataframe tbody tr th:only-of-type {\n",
       "        vertical-align: middle;\n",
       "    }\n",
       "\n",
       "    .dataframe tbody tr th {\n",
       "        vertical-align: top;\n",
       "    }\n",
       "\n",
       "    .dataframe thead th {\n",
       "        text-align: right;\n",
       "    }\n",
       "</style>\n",
       "<table border=\"1\" class=\"dataframe\">\n",
       "  <thead>\n",
       "    <tr style=\"text-align: right;\">\n",
       "      <th></th>\n",
       "      <th>Fraction of Tags</th>\n",
       "      <th>Tag per position</th>\n",
       "    </tr>\n",
       "    <tr>\n",
       "      <th>Tag Length (Average tag length = 34.865394)</th>\n",
       "      <th></th>\n",
       "      <th></th>\n",
       "    </tr>\n",
       "  </thead>\n",
       "  <tbody>\n",
       "    <tr>\n",
       "      <td>0.0</td>\n",
       "      <td>0.000000</td>\n",
       "      <td>0</td>\n",
       "    </tr>\n",
       "    <tr>\n",
       "      <td>1.0</td>\n",
       "      <td>0.000000</td>\n",
       "      <td>1</td>\n",
       "    </tr>\n",
       "    <tr>\n",
       "      <td>2.0</td>\n",
       "      <td>0.000000</td>\n",
       "      <td>2</td>\n",
       "    </tr>\n",
       "    <tr>\n",
       "      <td>3.0</td>\n",
       "      <td>0.000000</td>\n",
       "      <td>3</td>\n",
       "    </tr>\n",
       "    <tr>\n",
       "      <td>4.0</td>\n",
       "      <td>0.000000</td>\n",
       "      <td>4</td>\n",
       "    </tr>\n",
       "    <tr>\n",
       "      <td>...</td>\n",
       "      <td>...</td>\n",
       "      <td>...</td>\n",
       "    </tr>\n",
       "    <tr>\n",
       "      <td>71.0</td>\n",
       "      <td>0.000002</td>\n",
       "      <td>71</td>\n",
       "    </tr>\n",
       "    <tr>\n",
       "      <td>72.0</td>\n",
       "      <td>0.000002</td>\n",
       "      <td>72</td>\n",
       "    </tr>\n",
       "    <tr>\n",
       "      <td>73.0</td>\n",
       "      <td>0.000002</td>\n",
       "      <td>73</td>\n",
       "    </tr>\n",
       "    <tr>\n",
       "      <td>74.0</td>\n",
       "      <td>0.000002</td>\n",
       "      <td>74</td>\n",
       "    </tr>\n",
       "    <tr>\n",
       "      <td>75.0</td>\n",
       "      <td>0.000010</td>\n",
       "      <td>75</td>\n",
       "    </tr>\n",
       "  </tbody>\n",
       "</table>\n",
       "<p>76 rows × 2 columns</p>\n",
       "</div>"
      ],
      "text/plain": [
       "                                             Fraction of Tags  \\\n",
       "Tag Length (Average tag length = 34.865394)                     \n",
       "0.0                                                  0.000000   \n",
       "1.0                                                  0.000000   \n",
       "2.0                                                  0.000000   \n",
       "3.0                                                  0.000000   \n",
       "4.0                                                  0.000000   \n",
       "...                                                       ...   \n",
       "71.0                                                 0.000002   \n",
       "72.0                                                 0.000002   \n",
       "73.0                                                 0.000002   \n",
       "74.0                                                 0.000002   \n",
       "75.0                                                 0.000010   \n",
       "\n",
       "                                             Tag per position  \n",
       "Tag Length (Average tag length = 34.865394)                    \n",
       "0.0                                                         0  \n",
       "1.0                                                         1  \n",
       "2.0                                                         2  \n",
       "3.0                                                         3  \n",
       "4.0                                                         4  \n",
       "...                                                       ...  \n",
       "71.0                                                       71  \n",
       "72.0                                                       72  \n",
       "73.0                                                       73  \n",
       "74.0                                                       74  \n",
       "75.0                                                       75  \n",
       "\n",
       "[76 rows x 2 columns]"
      ]
     },
     "execution_count": 85,
     "metadata": {},
     "output_type": "execute_result"
    }
   ],
   "source": [
    "csrna_length"
   ]
  },
  {
   "cell_type": "code",
   "execution_count": 95,
   "metadata": {
    "ExecuteTime": {
     "end_time": "2020-04-08T23:55:58.225567Z",
     "start_time": "2020-04-08T23:55:58.026063Z"
    },
    "scrolled": true
   },
   "outputs": [
    {
     "data": {
      "text/plain": [
       "Text(0, 0.5, 'Fraction of Tags')"
      ]
     },
     "execution_count": 95,
     "metadata": {},
     "output_type": "execute_result"
    },
    {
     "data": {
      "image/png": "[encoded data removed]",
      "text/plain": [
       "<Figure size 432x288 with 1 Axes>"
      ]
     },
     "metadata": {
      "needs_background": "light"
     },
     "output_type": "display_data"
    }
   ],
   "source": [
    "import seaborn as sns\n",
    "csrna_length = pd.read_csv(join(csRNA_tag, \"tagLengthDistribution.txt\"),sep=\"\\t\", index_col=0, dtype=float)\n",
    "csrna_length[\"Read Length\"] = csrna_length.index.astype(int)\n",
    "\n",
    "input_length = pd.read_csv(join(csInput_tag, \"tagLengthDistribution.txt\"),sep=\"\\t\", index_col=0)\n",
    "input_length[\"Read Length\"] = input_length.index.astype(int)\n",
    "\n",
    "f = plt.figure()\n",
    "#plt.scatter(np.log10(input_length.index), np.log10(input_length[\"Fraction of Positions\"]), color=\"blue\")\n",
    "\n",
    "#sns.distplot(csrna_length[\"Fraction of Tags\"], color=\"blue\")#, loglog=True)\n",
    "#sns.distplot(input_length[\"Fraction of Tags\"], color=\"orange\")#, loglog=True)\n",
    "plt.scatter(csrna_length.index,csrna_length[\"Fraction of Tags\"], color=\"blue\")\n",
    "plt.scatter(input_length.index,input_length[\"Fraction of Tags\"], color=\"orange\")\n",
    "plt.xlabel(\"Read length\")\n",
    "plt.ylabel(\"Fraction of Tags\")"
   ]
  },
  {
   "cell_type": "code",
   "execution_count": null,
   "metadata": {},
   "outputs": [],
   "source": []
  },
  {
   "cell_type": "markdown",
   "metadata": {},
   "source": [
    "## findcsRNA"
   ]
  },
  {
   "cell_type": "code",
   "execution_count": 104,
   "metadata": {
    "ExecuteTime": {
     "end_time": "2020-04-09T00:33:56.139140Z",
     "start_time": "2020-04-09T00:33:56.131997Z"
    }
   },
   "outputs": [
    {
     "data": {
      "text/plain": [
       "'/data/isshamie/TSS/NCBI_PICR_103_Processed/RNASeq/Brain'"
      ]
     },
     "execution_count": 104,
     "metadata": {},
     "output_type": "execute_result"
    }
   ],
   "source": [
    "join(doc[\"data_folder\"],\"RNASeq\",'Brain')"
   ]
  },
  {
   "cell_type": "code",
   "execution_count": 114,
   "metadata": {
    "ExecuteTime": {
     "end_time": "2020-04-09T00:38:49.707896Z",
     "start_time": "2020-04-09T00:38:49.700206Z"
    },
    "scrolled": false
   },
   "outputs": [
    {
     "name": "stdout",
     "output_type": "stream",
     "text": [
      "['/data/isshamie/TSS/NCBI_PICR_103_Processed/RNAseq/sortBam/NL10_Misc_S10_L006_R1_001.fastq.sorted.bam', '/data/isshamie/TSS/NCBI_PICR_103_Processed/RNAseq/sortBam/NL4_Lung_S4_L006_R1_001.fastq.sort.bam', '/data/isshamie/TSS/NCBI_PICR_103_Processed/RNAseq/sortBam/NL7_Brain2_S7_L006_R1_001.fastq.sort.bam', '/data/isshamie/TSS/NCBI_PICR_103_Processed/RNAseq/sortBam/NL6_Heart_S6_L006_R1_001.fastq.sort.bam', '/data/isshamie/TSS/NCBI_PICR_103_Processed/RNAseq/sortBam/NL10_Misc_S10_L006_R1_001.fastq.sort.bam', '/data/isshamie/TSS/NCBI_PICR_103_Processed/RNAseq/sortBam/NL3_Spleen_S3_L006_R1_001.fastq.sort.bam', '/data/isshamie/TSS/NCBI_PICR_103_Processed/RNAseq/sortBam/NL8_Muscle_S8_L006_R1_001.fastq.sort.bam', '/data/isshamie/TSS/NCBI_PICR_103_Processed/RNAseq/sortBam/NL11_Brain7-1_S11_L006_R1_001.fastq.sort.bam', '/data/isshamie/TSS/NCBI_PICR_103_Processed/RNAseq/sortBam/NL1_Pancreas_S1_L006_R1_001.fastq.sort.bam', '/data/isshamie/TSS/NCBI_PICR_103_Processed/RNAseq/sortBam/NL2_ReproductiveTract_S2_L006_R1_001.fastq.sort.bam', '/data/isshamie/TSS/NCBI_PICR_103_Processed/RNAseq/sortBam/NL9_Kidney_S9_L006_R1_001.fastq.sort.bam', '/data/isshamie/TSS/NCBI_PICR_103_Processed/RNAseq/sortBam/NL5_Liver_S5_L006_R1_001.fastq.sort.bam']\n"
     ]
    }
   ],
   "source": [
    "print(glob.glob(join(doc[\"data_folder\"],\"RNAseq\",'sortBam',\"*.bam\")))"
   ]
  },
  {
   "cell_type": "code",
   "execution_count": 151,
   "metadata": {
    "ExecuteTime": {
     "end_time": "2020-04-09T01:13:27.310032Z",
     "start_time": "2020-04-09T01:13:27.296131Z"
    },
    "scrolled": true
   },
   "outputs": [
    {
     "data": {
      "text/plain": [
       "'/data/isshamie/TSS/NCBI_PICR_103_Processed/RNAseq/tags/Brain7'"
      ]
     },
     "execution_count": 151,
     "metadata": {},
     "output_type": "execute_result"
    }
   ],
   "source": [
    "name = samples[(samples[\"Experiment\"] == \"RNASeq\") & (samples[\"Tissue\"] == \"Brain\")][\"Full\"]\n",
    "name = name[0].replace(\".fastq.gz\",\"\").split(\"_\")[1].split(\"-\")[0]\n",
    "RNA_tag = glob.glob(join(doc[\"data_folder\"],\"RNAseq\",'tags',\"*\"+name+\"*\"))[0]#name))[0]\n",
    "RNA_tag"
   ]
  },
  {
   "cell_type": "code",
   "execution_count": 167,
   "metadata": {
    "ExecuteTime": {
     "end_time": "2020-04-09T01:18:24.876526Z",
     "start_time": "2020-04-09T01:18:20.673084Z"
    }
   },
   "outputs": [
    {
     "name": "stdout",
     "output_type": "stream",
     "text": [
      "findcsRNATSS.pl ../Results/csRNA_pipeline/tags/Brain_START1 -i ../Results/csRNA_pipeline/tags/Brain_STARTinput2 -rna /data/isshamie/TSS/NCBI_PICR_103_Processed/RNAseq/tags/Brain7 -gtf /data/isshamie/genome/ncbi_anno_103/GCF_003668045.1_CriGri-PICR_genomic.gtf -genome /data/isshamie/genome/ncbi_anno_103/GCF_003668045.1_CriGri-PICR_genomic.fna -cpu 30 -o ../Results/csRNA_pipeline/csRNA_peaks/Brain_START1_STARTinput2_RNASeq1\n"
     ]
    },
    {
     "data": {
      "text/plain": [
       "2"
      ]
     },
     "execution_count": 167,
     "metadata": {},
     "output_type": "execute_result"
    }
   ],
   "source": [
    "csInput_tag\n",
    "csRNA_tag\n",
    "#rna_files = glob.glob(rna_bam_dir+\"/*.bam\")\n",
    "#RNA_tag = \n",
    "\n",
    "tis = \"Brain\"\n",
    "\n",
    "rnaSeq[\"Name\"].split(\"_\")[1]\n",
    "out_name = '%s_%s_%s_%s' % (tis,csRNA[\"Name\"].split(\"_\")[1],csInput[\"Name\"].split(\"_\")[1],rnaSeq[\"Name\"].split(\"_\")[1])\n",
    "\n",
    "out_f = os.path.join(csRNA_dir,out_name)\n",
    "cmd = f'findcsRNATSS.pl {csRNA_tag} -i {csInput_tag} -rna {RNA_tag} -gtf {gtf} -genome {ref_fa} -cpu 30 -o {out_f}'\n",
    "print(cmd)\n",
    "os.system(cmd)"
   ]
  }
 ],
 "metadata": {
  "kernelspec": {
   "display_name": "Python 3",
   "language": "python",
   "name": "python3"
  },
  "language_info": {
   "codemirror_mode": {
    "name": "ipython",
    "version": 3
   },
   "file_extension": ".py",
   "mimetype": "text/x-python",
   "name": "python",
   "nbconvert_exporter": "python",
   "pygments_lexer": "ipython3",
   "version": "3.7.3"
  }
 },
 "nbformat": 4,
 "nbformat_minor": 2
}
