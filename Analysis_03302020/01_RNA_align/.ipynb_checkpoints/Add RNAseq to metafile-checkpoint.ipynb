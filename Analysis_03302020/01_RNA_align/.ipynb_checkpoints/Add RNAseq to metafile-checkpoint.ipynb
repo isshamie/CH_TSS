{
 "cells": [
  {
   "cell_type": "code",
   "execution_count": null,
   "metadata": {},
   "outputs": [],
   "source": [
    "import yaml\n",
    "import sys\n",
    "import glob\n",
    "import os\n",
    "from os.path import join, basename\n",
    "import pandas as pd\n",
    "import re"
   ]
  },
  {
   "cell_type": "code",
   "execution_count": 20,
   "metadata": {
    "ExecuteTime": {
     "end_time": "2020-04-08T17:32:22.989233Z",
     "start_time": "2020-04-08T17:32:22.976591Z"
    },
    "scrolled": true
   },
   "outputs": [
    {
     "data": {
      "text/plain": [
       "['/media/lewislab/Dropbox (UCSD SBRG)/LewisPub/Data/RNAseq/2017_12_15_hamster_Seq/NL10_Misc_S10_L006_R1_001.fastq.gz',\n",
       " '/media/lewislab/Dropbox (UCSD SBRG)/LewisPub/Data/RNAseq/2017_12_15_hamster_Seq/NL10_Misc_S10_L006_R2_001.fastq.gz',\n",
       " '/media/lewislab/Dropbox (UCSD SBRG)/LewisPub/Data/RNAseq/2017_12_15_hamster_Seq/NL11_Brain7-1_S11_L006_R1_001.fastq.gz',\n",
       " '/media/lewislab/Dropbox (UCSD SBRG)/LewisPub/Data/RNAseq/2017_12_15_hamster_Seq/NL11_Brain7-1_S11_L006_R2_001.fastq.gz',\n",
       " '/media/lewislab/Dropbox (UCSD SBRG)/LewisPub/Data/RNAseq/2017_12_15_hamster_Seq/NL1_Pancreas_S1_L006_R1_001.fastq.gz',\n",
       " '/media/lewislab/Dropbox (UCSD SBRG)/LewisPub/Data/RNAseq/2017_12_15_hamster_Seq/NL1_Pancreas_S1_L006_R2_001.fastq.gz',\n",
       " '/media/lewislab/Dropbox (UCSD SBRG)/LewisPub/Data/RNAseq/2017_12_15_hamster_Seq/NL2_ReproductiveTract_S2_L006_R1_001.fastq.gz',\n",
       " '/media/lewislab/Dropbox (UCSD SBRG)/LewisPub/Data/RNAseq/2017_12_15_hamster_Seq/NL2_ReproductiveTract_S2_L006_R2_001.fastq.gz',\n",
       " '/media/lewislab/Dropbox (UCSD SBRG)/LewisPub/Data/RNAseq/2017_12_15_hamster_Seq/NL3_Spleen_S3_L006_R1_001.fastq.gz',\n",
       " '/media/lewislab/Dropbox (UCSD SBRG)/LewisPub/Data/RNAseq/2017_12_15_hamster_Seq/NL3_Spleen_S3_L006_R2_001.fastq.gz',\n",
       " '/media/lewislab/Dropbox (UCSD SBRG)/LewisPub/Data/RNAseq/2017_12_15_hamster_Seq/NL4_Lung_S4_L006_R1_001.fastq.gz',\n",
       " '/media/lewislab/Dropbox (UCSD SBRG)/LewisPub/Data/RNAseq/2017_12_15_hamster_Seq/NL4_Lung_S4_L006_R2_001.fastq.gz',\n",
       " '/media/lewislab/Dropbox (UCSD SBRG)/LewisPub/Data/RNAseq/2017_12_15_hamster_Seq/NL5_Liver_S5_L006_R1_001.fastq.gz',\n",
       " '/media/lewislab/Dropbox (UCSD SBRG)/LewisPub/Data/RNAseq/2017_12_15_hamster_Seq/NL5_Liver_S5_L006_R2_001.fastq.gz',\n",
       " '/media/lewislab/Dropbox (UCSD SBRG)/LewisPub/Data/RNAseq/2017_12_15_hamster_Seq/NL6_Heart_S6_L006_R1_001.fastq.gz',\n",
       " '/media/lewislab/Dropbox (UCSD SBRG)/LewisPub/Data/RNAseq/2017_12_15_hamster_Seq/NL6_Heart_S6_L006_R2_001.fastq.gz',\n",
       " '/media/lewislab/Dropbox (UCSD SBRG)/LewisPub/Data/RNAseq/2017_12_15_hamster_Seq/NL7_Brain2_S7_L006_R1_001.fastq.gz',\n",
       " '/media/lewislab/Dropbox (UCSD SBRG)/LewisPub/Data/RNAseq/2017_12_15_hamster_Seq/NL7_Brain2_S7_L006_R2_001.fastq.gz',\n",
       " '/media/lewislab/Dropbox (UCSD SBRG)/LewisPub/Data/RNAseq/2017_12_15_hamster_Seq/NL8_Muscle_S8_L006_R1_001.fastq.gz',\n",
       " '/media/lewislab/Dropbox (UCSD SBRG)/LewisPub/Data/RNAseq/2017_12_15_hamster_Seq/NL8_Muscle_S8_L006_R2_001.fastq.gz',\n",
       " '/media/lewislab/Dropbox (UCSD SBRG)/LewisPub/Data/RNAseq/2017_12_15_hamster_Seq/NL9_Kidney_S9_L006_R1_001.fastq.gz',\n",
       " '/media/lewislab/Dropbox (UCSD SBRG)/LewisPub/Data/RNAseq/2017_12_15_hamster_Seq/NL9_Kidney_S9_L006_R2_001.fastq.gz']"
      ]
     },
     "execution_count": 20,
     "metadata": {},
     "output_type": "execute_result"
    }
   ],
   "source": [
    "raw_dir = \"/media/lewislab/Dropbox (UCSD SBRG)/LewisPub/Data/RNAseq/2017_12_15_hamster_Seq\"\n",
    "fastq_files = glob.glob(raw_dir + \"/*fastq.gz\")\n",
    "outdir = \"../parameters/\"\n",
    "fastq_files"
   ]
  },
  {
   "cell_type": "markdown",
   "metadata": {},
   "source": [
    "### Add in RNA-seq\n",
    "Change the name of the Brain samples to numbered "
   ]
  },
  {
   "cell_type": "code",
   "execution_count": 32,
   "metadata": {
    "ExecuteTime": {
     "end_time": "2020-04-08T17:37:39.167095Z",
     "start_time": "2020-04-08T17:37:39.112292Z"
    },
    "scrolled": false
   },
   "outputs": [
    {
     "name": "stdout",
     "output_type": "stream",
     "text": [
      "(78, 4)\n"
     ]
    },
    {
     "name": "stderr",
     "output_type": "stream",
     "text": [
      "/home/isshamie/software/anaconda2/envs/TSS/lib/python3.7/site-packages/ipykernel_launcher.py:10: FutureWarning: Sorting because non-concatenation axis is not aligned. A future version\n",
      "of pandas will change to not sort by default.\n",
      "\n",
      "To accept the future behavior, pass 'sort=False'.\n",
      "\n",
      "To retain the current behavior and silence the warning, pass 'sort=True'.\n",
      "\n",
      "  # Remove the CWD from sys.path while we load stuff.\n"
     ]
    },
    {
     "data": {
      "text/html": [
       "<div>\n",
       "<style scoped>\n",
       "    .dataframe tbody tr th:only-of-type {\n",
       "        vertical-align: middle;\n",
       "    }\n",
       "\n",
       "    .dataframe tbody tr th {\n",
       "        vertical-align: top;\n",
       "    }\n",
       "\n",
       "    .dataframe thead th {\n",
       "        text-align: right;\n",
       "    }\n",
       "</style>\n",
       "<table border=\"1\" class=\"dataframe\">\n",
       "  <thead>\n",
       "    <tr style=\"text-align: right;\">\n",
       "      <th></th>\n",
       "      <th>Experiment</th>\n",
       "      <th>Full</th>\n",
       "      <th>Name</th>\n",
       "      <th>Tissue</th>\n",
       "    </tr>\n",
       "  </thead>\n",
       "  <tbody>\n",
       "    <tr>\n",
       "      <td>CHBMDM1hKLA2_ATAC_JHS1000_SD_AGGTTGGG_S11_L001_R1_001.fastq.gz</td>\n",
       "      <td>ATAC</td>\n",
       "      <td>CHBMDM1hKLA2_ATAC_JHS1000_SD_AGGTTGGG_S11_L001...</td>\n",
       "      <td>BMDM1hKLA_ATAC1</td>\n",
       "      <td>BMDM1hKLA</td>\n",
       "    </tr>\n",
       "    <tr>\n",
       "      <td>CHBMDM1hKLA1_ATAC_JHS998_SD_TGGGTTTC_S9_L001_R1_001.fastq.gz</td>\n",
       "      <td>ATAC</td>\n",
       "      <td>CHBMDM1hKLA1_ATAC_JHS998_SD_TGGGTTTC_S9_L001_R...</td>\n",
       "      <td>BMDM1hKLA_ATAC2</td>\n",
       "      <td>BMDM1hKLA</td>\n",
       "    </tr>\n",
       "    <tr>\n",
       "      <td>CHBMDM1hKLA_GRO_JHS1027_SD_CAAAAG_S42_L003_R1_001.fastq.gz</td>\n",
       "      <td>GRO</td>\n",
       "      <td>CHBMDM1hKLA_GRO_JHS1027_SD_CAAAAG_S42_L003_R1_...</td>\n",
       "      <td>BMDM1hKLA_GRO1</td>\n",
       "      <td>BMDM1hKLA</td>\n",
       "    </tr>\n",
       "    <tr>\n",
       "      <td>CHBMDM1hKLA_GRO_JHS1034_SD_AGTCAA_S49_L003_R1_001.fastq.gz</td>\n",
       "      <td>GROCap</td>\n",
       "      <td>CHBMDM1hKLA_GRO_JHS1034_SD_AGTCAA_S49_L003_R1_...</td>\n",
       "      <td>BMDM1hKLA_GROCap1</td>\n",
       "      <td>BMDM1hKLA</td>\n",
       "    </tr>\n",
       "    <tr>\n",
       "      <td>CHBMDMVehic2_ATAC_JHS999_SD_TGGTCACA_S10_L001_R1_001.fastq.gz</td>\n",
       "      <td>ATAC</td>\n",
       "      <td>CHBMDMVehic2_ATAC_JHS999_SD_TGGTCACA_S10_L001_...</td>\n",
       "      <td>BMDMwt_ATAC1</td>\n",
       "      <td>BMDMwt</td>\n",
       "    </tr>\n",
       "    <tr>\n",
       "      <td>...</td>\n",
       "      <td>...</td>\n",
       "      <td>...</td>\n",
       "      <td>...</td>\n",
       "      <td>...</td>\n",
       "    </tr>\n",
       "    <tr>\n",
       "      <td>NL5_Liver_S5_L006_R1_001.fastq.gz</td>\n",
       "      <td>RNASeq</td>\n",
       "      <td>NL5_Liver_S5_L006_R1_001.fastq.gz</td>\n",
       "      <td>Liver_S5</td>\n",
       "      <td>Liver</td>\n",
       "    </tr>\n",
       "    <tr>\n",
       "      <td>NL6_Heart_S6_L006_R1_001.fastq.gz</td>\n",
       "      <td>RNASeq</td>\n",
       "      <td>NL6_Heart_S6_L006_R1_001.fastq.gz</td>\n",
       "      <td>Heart_S6</td>\n",
       "      <td>Heart</td>\n",
       "    </tr>\n",
       "    <tr>\n",
       "      <td>NL7_Brain2_S7_L006_R1_001.fastq.gz</td>\n",
       "      <td>RNASeq</td>\n",
       "      <td>NL7_Brain2_S7_L006_R1_001.fastq.gz</td>\n",
       "      <td>Brain2_S7</td>\n",
       "      <td>Brain</td>\n",
       "    </tr>\n",
       "    <tr>\n",
       "      <td>NL8_Muscle_S8_L006_R1_001.fastq.gz</td>\n",
       "      <td>RNASeq</td>\n",
       "      <td>NL8_Muscle_S8_L006_R1_001.fastq.gz</td>\n",
       "      <td>Muscle_S8</td>\n",
       "      <td>Muscle</td>\n",
       "    </tr>\n",
       "    <tr>\n",
       "      <td>NL9_Kidney_S9_L006_R1_001.fastq.gz</td>\n",
       "      <td>RNASeq</td>\n",
       "      <td>NL9_Kidney_S9_L006_R1_001.fastq.gz</td>\n",
       "      <td>Kidney_S9</td>\n",
       "      <td>Kidney</td>\n",
       "    </tr>\n",
       "  </tbody>\n",
       "</table>\n",
       "<p>78 rows × 4 columns</p>\n",
       "</div>"
      ],
      "text/plain": [
       "                                                   Experiment  \\\n",
       "CHBMDM1hKLA2_ATAC_JHS1000_SD_AGGTTGGG_S11_L001_...       ATAC   \n",
       "CHBMDM1hKLA1_ATAC_JHS998_SD_TGGGTTTC_S9_L001_R1...       ATAC   \n",
       "CHBMDM1hKLA_GRO_JHS1027_SD_CAAAAG_S42_L003_R1_0...        GRO   \n",
       "CHBMDM1hKLA_GRO_JHS1034_SD_AGTCAA_S49_L003_R1_0...     GROCap   \n",
       "CHBMDMVehic2_ATAC_JHS999_SD_TGGTCACA_S10_L001_R...       ATAC   \n",
       "...                                                       ...   \n",
       "NL5_Liver_S5_L006_R1_001.fastq.gz                      RNASeq   \n",
       "NL6_Heart_S6_L006_R1_001.fastq.gz                      RNASeq   \n",
       "NL7_Brain2_S7_L006_R1_001.fastq.gz                     RNASeq   \n",
       "NL8_Muscle_S8_L006_R1_001.fastq.gz                     RNASeq   \n",
       "NL9_Kidney_S9_L006_R1_001.fastq.gz                     RNASeq   \n",
       "\n",
       "                                                                                                 Full  \\\n",
       "CHBMDM1hKLA2_ATAC_JHS1000_SD_AGGTTGGG_S11_L001_...  CHBMDM1hKLA2_ATAC_JHS1000_SD_AGGTTGGG_S11_L001...   \n",
       "CHBMDM1hKLA1_ATAC_JHS998_SD_TGGGTTTC_S9_L001_R1...  CHBMDM1hKLA1_ATAC_JHS998_SD_TGGGTTTC_S9_L001_R...   \n",
       "CHBMDM1hKLA_GRO_JHS1027_SD_CAAAAG_S42_L003_R1_0...  CHBMDM1hKLA_GRO_JHS1027_SD_CAAAAG_S42_L003_R1_...   \n",
       "CHBMDM1hKLA_GRO_JHS1034_SD_AGTCAA_S49_L003_R1_0...  CHBMDM1hKLA_GRO_JHS1034_SD_AGTCAA_S49_L003_R1_...   \n",
       "CHBMDMVehic2_ATAC_JHS999_SD_TGGTCACA_S10_L001_R...  CHBMDMVehic2_ATAC_JHS999_SD_TGGTCACA_S10_L001_...   \n",
       "...                                                                                               ...   \n",
       "NL5_Liver_S5_L006_R1_001.fastq.gz                                   NL5_Liver_S5_L006_R1_001.fastq.gz   \n",
       "NL6_Heart_S6_L006_R1_001.fastq.gz                                   NL6_Heart_S6_L006_R1_001.fastq.gz   \n",
       "NL7_Brain2_S7_L006_R1_001.fastq.gz                                 NL7_Brain2_S7_L006_R1_001.fastq.gz   \n",
       "NL8_Muscle_S8_L006_R1_001.fastq.gz                                 NL8_Muscle_S8_L006_R1_001.fastq.gz   \n",
       "NL9_Kidney_S9_L006_R1_001.fastq.gz                                 NL9_Kidney_S9_L006_R1_001.fastq.gz   \n",
       "\n",
       "                                                                 Name  \\\n",
       "CHBMDM1hKLA2_ATAC_JHS1000_SD_AGGTTGGG_S11_L001_...    BMDM1hKLA_ATAC1   \n",
       "CHBMDM1hKLA1_ATAC_JHS998_SD_TGGGTTTC_S9_L001_R1...    BMDM1hKLA_ATAC2   \n",
       "CHBMDM1hKLA_GRO_JHS1027_SD_CAAAAG_S42_L003_R1_0...     BMDM1hKLA_GRO1   \n",
       "CHBMDM1hKLA_GRO_JHS1034_SD_AGTCAA_S49_L003_R1_0...  BMDM1hKLA_GROCap1   \n",
       "CHBMDMVehic2_ATAC_JHS999_SD_TGGTCACA_S10_L001_R...       BMDMwt_ATAC1   \n",
       "...                                                               ...   \n",
       "NL5_Liver_S5_L006_R1_001.fastq.gz                            Liver_S5   \n",
       "NL6_Heart_S6_L006_R1_001.fastq.gz                            Heart_S6   \n",
       "NL7_Brain2_S7_L006_R1_001.fastq.gz                          Brain2_S7   \n",
       "NL8_Muscle_S8_L006_R1_001.fastq.gz                          Muscle_S8   \n",
       "NL9_Kidney_S9_L006_R1_001.fastq.gz                          Kidney_S9   \n",
       "\n",
       "                                                       Tissue  \n",
       "CHBMDM1hKLA2_ATAC_JHS1000_SD_AGGTTGGG_S11_L001_...  BMDM1hKLA  \n",
       "CHBMDM1hKLA1_ATAC_JHS998_SD_TGGGTTTC_S9_L001_R1...  BMDM1hKLA  \n",
       "CHBMDM1hKLA_GRO_JHS1027_SD_CAAAAG_S42_L003_R1_0...  BMDM1hKLA  \n",
       "CHBMDM1hKLA_GRO_JHS1034_SD_AGTCAA_S49_L003_R1_0...  BMDM1hKLA  \n",
       "CHBMDMVehic2_ATAC_JHS999_SD_TGGTCACA_S10_L001_R...     BMDMwt  \n",
       "...                                                       ...  \n",
       "NL5_Liver_S5_L006_R1_001.fastq.gz                       Liver  \n",
       "NL6_Heart_S6_L006_R1_001.fastq.gz                       Heart  \n",
       "NL7_Brain2_S7_L006_R1_001.fastq.gz                      Brain  \n",
       "NL8_Muscle_S8_L006_R1_001.fastq.gz                     Muscle  \n",
       "NL9_Kidney_S9_L006_R1_001.fastq.gz                     Kidney  \n",
       "\n",
       "[78 rows x 4 columns]"
      ]
     },
     "execution_count": 32,
     "metadata": {},
     "output_type": "execute_result"
    }
   ],
   "source": [
    "meta = pd.read_csv('../../params/raw_metaSamples.tsv', sep=\"\\t\", index_col=0)\n",
    "\n",
    "exp = \"RNASeq\"\n",
    "for curr_f in fastq_files:\n",
    "    if \"_R2_\" in curr_f:\n",
    "        continue\n",
    "    sid = \"_\".join(basename(curr_f).split(\"_\")[1:3])\n",
    "    tissue = re.sub(r'[^a-zA-Z_]', '', basename(curr_f).split(\"_\")[1])\n",
    "    name = sid.split(\"_\")[0]\n",
    "    curr = pd.DataFrame(pd.Series({\"Experiment\":\"RNASeq\", \"Tissue\":tissue, \"Full\":basename(curr_f), \"Name\":sid}, name=basename(curr_f))).transpose()\n",
    "    meta = pd.concat((meta,curr))\n",
    "print(meta.shape)\n",
    "meta"
   ]
  },
  {
   "cell_type": "markdown",
   "metadata": {},
   "source": [
    "## Save "
   ]
  },
  {
   "cell_type": "code",
   "execution_count": null,
   "metadata": {},
   "outputs": [],
   "source": [
    "samples.to_csv(\"../Results/samples.tsv\", sep=\"\\t\")"
   ]
  },
  {
   "cell_type": "code",
   "execution_count": null,
   "metadata": {},
   "outputs": [],
   "source": [
    "import pandas as pd\n",
    "pd.read_csv(\"samples.tsv\", sep=\"\\t\")"
   ]
  },
  {
   "cell_type": "code",
   "execution_count": null,
   "metadata": {},
   "outputs": [],
   "source": []
  },
  {
   "cell_type": "code",
   "execution_count": null,
   "metadata": {},
   "outputs": [],
   "source": []
  },
  {
   "cell_type": "code",
   "execution_count": null,
   "metadata": {},
   "outputs": [],
   "source": []
  }
 ],
 "metadata": {
  "kernelspec": {
   "display_name": "Python 3",
   "language": "python",
   "name": "python3"
  },
  "language_info": {
   "codemirror_mode": {
    "name": "ipython",
    "version": 3
   },
   "file_extension": ".py",
   "mimetype": "text/x-python",
   "name": "python",
   "nbconvert_exporter": "python",
   "pygments_lexer": "ipython3",
   "version": "3.7.3"
  }
 },
 "nbformat": 4,
 "nbformat_minor": 2
}
