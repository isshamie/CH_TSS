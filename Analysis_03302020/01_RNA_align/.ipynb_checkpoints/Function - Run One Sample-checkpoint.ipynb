{
 "cells": [
  {
   "cell_type": "markdown",
   "metadata": {},
   "source": [
    "## Load metasamples and take the Brain one."
   ]
  },
  {
   "cell_type": "code",
   "execution_count": 1,
   "metadata": {
    "ExecuteTime": {
     "end_time": "2020-04-09T03:49:15.767535Z",
     "start_time": "2020-04-09T03:49:15.251020Z"
    },
    "scrolled": true
   },
   "outputs": [
    {
     "data": {
      "text/html": [
       "<div>\n",
       "<style scoped>\n",
       "    .dataframe tbody tr th:only-of-type {\n",
       "        vertical-align: middle;\n",
       "    }\n",
       "\n",
       "    .dataframe tbody tr th {\n",
       "        vertical-align: top;\n",
       "    }\n",
       "\n",
       "    .dataframe thead th {\n",
       "        text-align: right;\n",
       "    }\n",
       "</style>\n",
       "<table border=\"1\" class=\"dataframe\">\n",
       "  <thead>\n",
       "    <tr style=\"text-align: right;\">\n",
       "      <th></th>\n",
       "      <th>Experiment</th>\n",
       "      <th>Full</th>\n",
       "      <th>Name</th>\n",
       "      <th>Tissue</th>\n",
       "    </tr>\n",
       "  </thead>\n",
       "  <tbody>\n",
       "    <tr>\n",
       "      <td>CHBMDM1hKLA2_ATAC_JHS1000_SD_AGGTTGGG_S11_L001_R1_001.fastq.gz</td>\n",
       "      <td>ATAC</td>\n",
       "      <td>CHBMDM1hKLA2_ATAC_JHS1000_SD_AGGTTGGG_S11_L001...</td>\n",
       "      <td>BMDM1hKLA_ATAC1</td>\n",
       "      <td>BMDM1hKLA</td>\n",
       "    </tr>\n",
       "    <tr>\n",
       "      <td>CHBMDM1hKLA1_ATAC_JHS998_SD_TGGGTTTC_S9_L001_R1_001.fastq.gz</td>\n",
       "      <td>ATAC</td>\n",
       "      <td>CHBMDM1hKLA1_ATAC_JHS998_SD_TGGGTTTC_S9_L001_R...</td>\n",
       "      <td>BMDM1hKLA_ATAC2</td>\n",
       "      <td>BMDM1hKLA</td>\n",
       "    </tr>\n",
       "    <tr>\n",
       "      <td>CHBMDM1hKLA_GRO_JHS1027_SD_CAAAAG_S42_L003_R1_001.fastq.gz</td>\n",
       "      <td>GRO</td>\n",
       "      <td>CHBMDM1hKLA_GRO_JHS1027_SD_CAAAAG_S42_L003_R1_...</td>\n",
       "      <td>BMDM1hKLA_GRO1</td>\n",
       "      <td>BMDM1hKLA</td>\n",
       "    </tr>\n",
       "    <tr>\n",
       "      <td>CHBMDM1hKLA_GRO_JHS1034_SD_AGTCAA_S49_L003_R1_001.fastq.gz</td>\n",
       "      <td>GROCap</td>\n",
       "      <td>CHBMDM1hKLA_GRO_JHS1034_SD_AGTCAA_S49_L003_R1_...</td>\n",
       "      <td>BMDM1hKLA_GROCap1</td>\n",
       "      <td>BMDM1hKLA</td>\n",
       "    </tr>\n",
       "    <tr>\n",
       "      <td>CHBMDMVehic2_ATAC_JHS999_SD_TGGTCACA_S10_L001_R1_001.fastq.gz</td>\n",
       "      <td>ATAC</td>\n",
       "      <td>CHBMDMVehic2_ATAC_JHS999_SD_TGGTCACA_S10_L001_...</td>\n",
       "      <td>BMDMwt_ATAC1</td>\n",
       "      <td>BMDMwt</td>\n",
       "    </tr>\n",
       "    <tr>\n",
       "      <td>...</td>\n",
       "      <td>...</td>\n",
       "      <td>...</td>\n",
       "      <td>...</td>\n",
       "      <td>...</td>\n",
       "    </tr>\n",
       "    <tr>\n",
       "      <td>NL5_Liver_S5_L006_R1_001.fastq.gz</td>\n",
       "      <td>RNASeq</td>\n",
       "      <td>NL5_Liver_S5_L006_R1_001.fastq.gz</td>\n",
       "      <td>Liver_RNASeq1</td>\n",
       "      <td>Liver</td>\n",
       "    </tr>\n",
       "    <tr>\n",
       "      <td>NL6_Heart_S6_L006_R1_001.fastq.gz</td>\n",
       "      <td>RNASeq</td>\n",
       "      <td>NL6_Heart_S6_L006_R1_001.fastq.gz</td>\n",
       "      <td>Heart_RNASeq1</td>\n",
       "      <td>Heart</td>\n",
       "    </tr>\n",
       "    <tr>\n",
       "      <td>NL7_Brain2_S7_L006_R1_001.fastq.gz</td>\n",
       "      <td>RNASeq</td>\n",
       "      <td>NL7_Brain2_S7_L006_R1_001.fastq.gz</td>\n",
       "      <td>Brain_RNASeq2</td>\n",
       "      <td>Brain</td>\n",
       "    </tr>\n",
       "    <tr>\n",
       "      <td>NL8_Muscle_S8_L006_R1_001.fastq.gz</td>\n",
       "      <td>RNASeq</td>\n",
       "      <td>NL8_Muscle_S8_L006_R1_001.fastq.gz</td>\n",
       "      <td>Muscle_RNASeq1</td>\n",
       "      <td>Muscle</td>\n",
       "    </tr>\n",
       "    <tr>\n",
       "      <td>NL9_Kidney_S9_L006_R1_001.fastq.gz</td>\n",
       "      <td>RNASeq</td>\n",
       "      <td>NL9_Kidney_S9_L006_R1_001.fastq.gz</td>\n",
       "      <td>Kidney_RNASeq1</td>\n",
       "      <td>Kidney</td>\n",
       "    </tr>\n",
       "  </tbody>\n",
       "</table>\n",
       "<p>78 rows × 4 columns</p>\n",
       "</div>"
      ],
      "text/plain": [
       "                                                   Experiment  \\\n",
       "CHBMDM1hKLA2_ATAC_JHS1000_SD_AGGTTGGG_S11_L001_...       ATAC   \n",
       "CHBMDM1hKLA1_ATAC_JHS998_SD_TGGGTTTC_S9_L001_R1...       ATAC   \n",
       "CHBMDM1hKLA_GRO_JHS1027_SD_CAAAAG_S42_L003_R1_0...        GRO   \n",
       "CHBMDM1hKLA_GRO_JHS1034_SD_AGTCAA_S49_L003_R1_0...     GROCap   \n",
       "CHBMDMVehic2_ATAC_JHS999_SD_TGGTCACA_S10_L001_R...       ATAC   \n",
       "...                                                       ...   \n",
       "NL5_Liver_S5_L006_R1_001.fastq.gz                      RNASeq   \n",
       "NL6_Heart_S6_L006_R1_001.fastq.gz                      RNASeq   \n",
       "NL7_Brain2_S7_L006_R1_001.fastq.gz                     RNASeq   \n",
       "NL8_Muscle_S8_L006_R1_001.fastq.gz                     RNASeq   \n",
       "NL9_Kidney_S9_L006_R1_001.fastq.gz                     RNASeq   \n",
       "\n",
       "                                                                                                 Full  \\\n",
       "CHBMDM1hKLA2_ATAC_JHS1000_SD_AGGTTGGG_S11_L001_...  CHBMDM1hKLA2_ATAC_JHS1000_SD_AGGTTGGG_S11_L001...   \n",
       "CHBMDM1hKLA1_ATAC_JHS998_SD_TGGGTTTC_S9_L001_R1...  CHBMDM1hKLA1_ATAC_JHS998_SD_TGGGTTTC_S9_L001_R...   \n",
       "CHBMDM1hKLA_GRO_JHS1027_SD_CAAAAG_S42_L003_R1_0...  CHBMDM1hKLA_GRO_JHS1027_SD_CAAAAG_S42_L003_R1_...   \n",
       "CHBMDM1hKLA_GRO_JHS1034_SD_AGTCAA_S49_L003_R1_0...  CHBMDM1hKLA_GRO_JHS1034_SD_AGTCAA_S49_L003_R1_...   \n",
       "CHBMDMVehic2_ATAC_JHS999_SD_TGGTCACA_S10_L001_R...  CHBMDMVehic2_ATAC_JHS999_SD_TGGTCACA_S10_L001_...   \n",
       "...                                                                                               ...   \n",
       "NL5_Liver_S5_L006_R1_001.fastq.gz                                   NL5_Liver_S5_L006_R1_001.fastq.gz   \n",
       "NL6_Heart_S6_L006_R1_001.fastq.gz                                   NL6_Heart_S6_L006_R1_001.fastq.gz   \n",
       "NL7_Brain2_S7_L006_R1_001.fastq.gz                                 NL7_Brain2_S7_L006_R1_001.fastq.gz   \n",
       "NL8_Muscle_S8_L006_R1_001.fastq.gz                                 NL8_Muscle_S8_L006_R1_001.fastq.gz   \n",
       "NL9_Kidney_S9_L006_R1_001.fastq.gz                                 NL9_Kidney_S9_L006_R1_001.fastq.gz   \n",
       "\n",
       "                                                                 Name  \\\n",
       "CHBMDM1hKLA2_ATAC_JHS1000_SD_AGGTTGGG_S11_L001_...    BMDM1hKLA_ATAC1   \n",
       "CHBMDM1hKLA1_ATAC_JHS998_SD_TGGGTTTC_S9_L001_R1...    BMDM1hKLA_ATAC2   \n",
       "CHBMDM1hKLA_GRO_JHS1027_SD_CAAAAG_S42_L003_R1_0...     BMDM1hKLA_GRO1   \n",
       "CHBMDM1hKLA_GRO_JHS1034_SD_AGTCAA_S49_L003_R1_0...  BMDM1hKLA_GROCap1   \n",
       "CHBMDMVehic2_ATAC_JHS999_SD_TGGTCACA_S10_L001_R...       BMDMwt_ATAC1   \n",
       "...                                                               ...   \n",
       "NL5_Liver_S5_L006_R1_001.fastq.gz                       Liver_RNASeq1   \n",
       "NL6_Heart_S6_L006_R1_001.fastq.gz                       Heart_RNASeq1   \n",
       "NL7_Brain2_S7_L006_R1_001.fastq.gz                      Brain_RNASeq2   \n",
       "NL8_Muscle_S8_L006_R1_001.fastq.gz                     Muscle_RNASeq1   \n",
       "NL9_Kidney_S9_L006_R1_001.fastq.gz                     Kidney_RNASeq1   \n",
       "\n",
       "                                                       Tissue  \n",
       "CHBMDM1hKLA2_ATAC_JHS1000_SD_AGGTTGGG_S11_L001_...  BMDM1hKLA  \n",
       "CHBMDM1hKLA1_ATAC_JHS998_SD_TGGGTTTC_S9_L001_R1...  BMDM1hKLA  \n",
       "CHBMDM1hKLA_GRO_JHS1027_SD_CAAAAG_S42_L003_R1_0...  BMDM1hKLA  \n",
       "CHBMDM1hKLA_GRO_JHS1034_SD_AGTCAA_S49_L003_R1_0...  BMDM1hKLA  \n",
       "CHBMDMVehic2_ATAC_JHS999_SD_TGGTCACA_S10_L001_R...     BMDMwt  \n",
       "...                                                       ...  \n",
       "NL5_Liver_S5_L006_R1_001.fastq.gz                       Liver  \n",
       "NL6_Heart_S6_L006_R1_001.fastq.gz                       Heart  \n",
       "NL7_Brain2_S7_L006_R1_001.fastq.gz                      Brain  \n",
       "NL8_Muscle_S8_L006_R1_001.fastq.gz                     Muscle  \n",
       "NL9_Kidney_S9_L006_R1_001.fastq.gz                     Kidney  \n",
       "\n",
       "[78 rows x 4 columns]"
      ]
     },
     "execution_count": 1,
     "metadata": {},
     "output_type": "execute_result"
    }
   ],
   "source": [
    "import pandas as pd\n",
    "import os\n",
    "from os.path import join, basename\n",
    "import glob\n",
    "import shutil\n",
    "import matplotlib.pyplot as plt\n",
    "import numpy as np\n",
    "%matplotlib inline\n",
    "samples = pd.read_csv(\"../parameters/samples.tsv\", sep=\"\\t\", index_col=0)\n",
    "samples"
   ]
  },
  {
   "cell_type": "markdown",
   "metadata": {},
   "source": [
    "## Directory names"
   ]
  },
  {
   "cell_type": "code",
   "execution_count": 2,
   "metadata": {
    "ExecuteTime": {
     "end_time": "2020-04-09T03:49:15.775552Z",
     "start_time": "2020-04-09T03:49:15.769379Z"
    }
   },
   "outputs": [],
   "source": [
    "raw_head_dir = \"/media/lewislab/Dropbox (UCSD SBRG)/LewisPub/Data/TSS/\"\n",
    "raw_dir = \"/media/lewislab/Dropbox (UCSD SBRG)/LewisPub/Data/TSS/171227_hamster_GRO_mStart\"\n",
    "params_dir = \"../parameters\"\n",
    "out_dir = \"../Results/csRNA_pipeline/\"\n",
    "bam_dir = join(out_dir, \"bam\")\n",
    "sortBam_dir = join(out_dir, \"sortBam\")\n",
    "tag_dir = join(out_dir, \"tags\")\n",
    "csRNA_dir = join(out_dir, 'csRNA_peaks')\n",
    "\n",
    "if not os.path.exists(bam_dir):\n",
    "    os.mkdir(bam_dir)\n",
    "    \n",
    "if not os.path.exists(sortBam_dir):\n",
    "    os.mkdir(sortBam_dir)\n",
    "    \n",
    "if not os.path.exists(tag_dir):\n",
    "    os.mkdir(tag_dir)\n",
    "    \n",
    "if not os.path.exists(csRNA_dir):\n",
    "    os.mkdir(csRNA_dir)"
   ]
  },
  {
   "cell_type": "code",
   "execution_count": 3,
   "metadata": {
    "ExecuteTime": {
     "end_time": "2020-04-09T03:49:15.806882Z",
     "start_time": "2020-04-09T03:49:15.777541Z"
    }
   },
   "outputs": [
    {
     "name": "stdout",
     "output_type": "stream",
     "text": [
      "{'data_folder': '/data/isshamie/TSS/NCBI_PICR_103_Processed/', 'results': '/data/isshamie/TSS/Analysis/Analysis_03302020/Results/', 'RNAseq_QC': '/data/isshamie/TSS/NCBI_PICR_103_Processed/RNAseq/2017_12_15_hamster_Seq/fastqc/', 'RNAseq_folder': '/data/isshamie/TSS/NCBI_PICR_103_Processed/RNAseq/2017_12_15_hamster_Seq/', 'pipeline_path': '/data/isshamie/TSS/Analysis/src/', 'tissues': 'BMDM1hKLA,BMDMwt,Brain,FemaleReproductive,Heart,Kidney,Liver,Lung,MiscOrgans,Muscle,Pancreas,Spleen,CHO', 'ref_fa': '/data/isshamie/genome/ncbi_anno_103/GCF_003668045.1_CriGri-PICR_genomic.fna', 'annotation': '/data/isshamie/genome/ncbi_anno_103/alt_CriGri-PICR_top_level.gff3', 'annotation_gtf': '/data/isshamie/genome/ncbi_anno_103/GCF_003668045.1_CriGri-PICR_genomic.gtf', 'mRNA_peak_file': '/data/isshamie/genome/ncbi_anno_103/mRNA_final.peak', 'mRNA_peak_150_file': '/data/isshamie/genome/ncbi_anno_103/mRNA_final_150.peak', 'tss_annotation': '/data/isshamie/genome/ncbi_anno_103/start_site_mRNA_final.tsv', 'cds_annotation': '/data/isshamie/genome/ncbi_anno_103/CDS.bed', 'motif_folder': '/data/isshamie/TSS/Analysis/supplemental/homer_motifs/', 'supplemental': '/data/isshamie/TSS/Analysis/supplemental', 'cho_rna_file': '/data/shangzhong/DE/tpm_using_picr.txt', 'htseq_anno_source': 'ncbi', 'strand_specific': 'yes', 'id_name': 'id'}\n"
     ]
    },
    {
     "name": "stderr",
     "output_type": "stream",
     "text": [
      "/home/isshamie/software/anaconda2/envs/TSS/lib/python3.7/site-packages/ipykernel_launcher.py:4: YAMLLoadWarning: calling yaml.load() without Loader=... is deprecated, as the default Loader is unsafe. Please read https://msg.pyyaml.org/load for full details.\n",
      "  after removing the cwd from sys.path.\n"
     ]
    }
   ],
   "source": [
    "import yaml\n",
    "parameter_file = \"../parameters/params.yaml\"\n",
    "with open(parameter_file,'r') as f:\n",
    "    doc = yaml.load(f)\n",
    "\n",
    "print(doc)\n",
    "gtf = doc[\"annotation_gtf\"]\n",
    "ref_fa = doc[\"ref_fa\"]\n",
    "db_path = \"/data/isshamie/genome/ncbi_anno_103/CriGri-PICR_STAR_db\"\n",
    "results = doc[\"results\"]\n"
   ]
  },
  {
   "cell_type": "code",
   "execution_count": 4,
   "metadata": {
    "ExecuteTime": {
     "end_time": "2020-04-09T03:49:15.938178Z",
     "start_time": "2020-04-09T03:49:15.808594Z"
    }
   },
   "outputs": [
    {
     "name": "stdout",
     "output_type": "stream",
     "text": [
      "/data2/resources/software/homer/v4.11_10242019/bin//homer\r\n"
     ]
    }
   ],
   "source": [
    "homer_path =  \"/data2/resources/software/homer/v4.11_10242019/bin/\"\n",
    "os.environ['PATH'] = f\"{homer_path}:{os.environ['PATH']}\"\n",
    "!which homer"
   ]
  },
  {
   "cell_type": "code",
   "execution_count": 5,
   "metadata": {
    "ExecuteTime": {
     "end_time": "2020-04-09T03:49:15.952406Z",
     "start_time": "2020-04-09T03:49:15.942749Z"
    }
   },
   "outputs": [],
   "source": [
    "## 0.1 Copy raw over to outdir\n",
    "def copy_to_outdir(raw_d, raw_name, out_d, out_name ):\n",
    "    #raw_d = raw_d.replace(\" \", \"\\\\\").replace(\"(\", \"\\\\\").replace(\")\", \"\\\\\")\n",
    "    raw_d = \"/\".join(list(map(lambda x: x.replace(\" \", \"\\\\ \").replace(\"(\", \"\\\\(\").replace(\")\", \"\\\\)\"), raw_d.split(\"/\"))))\n",
    "    print(raw_d)\n",
    "    cmd = f'cp {join(raw_d, raw_name)} {join(out_d, out_name+\".fastq.gz\")}'\n",
    "    \n",
    "    print(cmd)\n",
    "    os.system(cmd)\n",
    "    return\n",
    "\n",
    "## 1. Trim\n",
    "def trim(fastq_f):\n",
    "    cmd = f\"homerTools trim -3 AGATCGGAAGAGCACACGTCT -mis 2 -minMatchLength 4 -min 20 {fastq_f}\"\n",
    "    print(cmd)\n",
    "    os.system(cmd) \n",
    "    return\n",
    "\n",
    "\n",
    "## 2. Alignment (STAR)\n",
    "def run_star(trim_f, name, out_f):\n",
    "    bam_out = join(bam_dir, csRNA[\"Name\"])\n",
    "    cmd = f\"STAR --genomeDir {db_path} --runThreadN 24 --readFilesIn {trim_f} --outFileNamePrefix {bam_out} --outSAMstrandField intronMotif --outMultimapperOrder Random --outSAMmultNmax 1 --outSAMtype BAM SortedByCoordinate --outFilterMultimapNmax 10000 --limitOutSAMoneReadBytes 10000000\"\n",
    "    print(cmd)\n",
    "    os.system(cmd) \n",
    "    return\n",
    "\n",
    "## 3. Tags\n",
    "\n",
    "\n",
    "## 4. "
   ]
  },
  {
   "cell_type": "code",
   "execution_count": 12,
   "metadata": {
    "ExecuteTime": {
     "end_time": "2020-04-09T06:30:38.973809Z",
     "start_time": "2020-04-09T06:30:38.910022Z"
    }
   },
   "outputs": [],
   "source": [
    "def run_tissue(tis, samples, out_dir):\n",
    "    samples = samples[(samples[\"Tissue\"]==tis)]\n",
    "    if not ((samples[\"Experiment\"] == \"START\").any() & (samples[\"Experiment\"] == \"STARTinput\").any() & \n",
    "        (samples[\"Experiment\"] == \"RNASeq\").any()):\n",
    "            print(\"Not csRNA, csInput, RNASeq\")\n",
    "            return\n",
    "        \n",
    "    for ind, csRNA in samples[(samples[\"Tissue\"]==tis) & (samples[\"Experiment\"]==\"START\")].iterrows():\n",
    "        copy_to_outdir(raw_dir, csRNA.name, out_d=out_dir, out_name=csRNA[\"Name\"])\n",
    "        ## csRNA trim, align index and tags\n",
    "        trim(join(out_dir,  csRNA[\"Name\"]+\".fastq.gz\"))\n",
    "        trim_f = join(out_dir,  csRNA[\"Name\"] + \".fastq.gz.trimmed\")    \n",
    "        bam_out = join(bam_dir, csRNA[\"Name\"])\n",
    "        cmd = f\"STAR --genomeDir {db_path} --runThreadN 24 --readFilesIn {trim_f} --outFileNamePrefix {bam_out} --outSAMstrandField intronMotif --outMultimapperOrder Random --outSAMmultNmax 1 --outSAMtype BAM SortedByCoordinate --outFilterMultimapNmax 10000 --limitOutSAMoneReadBytes 10000000\"\n",
    "        print(cmd)\n",
    "        os.system(cmd)      \n",
    "        cmd = f\"samtools index {join(bam_dir,csRNA['Name'])}Aligned.sortedByCoord.out.bam\"\n",
    "        print(cmd)\n",
    "        os.system(cmd) \n",
    "        ## Tags\n",
    "        csRNA_tag = join(tag_dir, csRNA[\"Name\"])\n",
    "        csRNA_bam = join(bam_dir, csRNA[\"Name\"])\n",
    "        cmd = f\"makeTagDirectory {csRNA_tag} {csRNA_bam}Aligned.sortedByCoord.out.bam -genome {ref_fa} -single -checkGC -fragLength 150\"\n",
    "        print(cmd)\n",
    "        os.system(cmd) \n",
    "    \n",
    "    for ind2, csInput in samples[(samples[\"Tissue\"]==tis) & (samples[\"Experiment\"]==\"STARTinput\")].iterrows():\n",
    "        copy_to_outdir(raw_dir, csInput.name, out_d=out_dir, out_name=csInput[\"Name\"])\n",
    "        ## csInput trim, align, index and tags\n",
    "        trim(join(out_dir,  csInput[\"Name\"]+\".fastq.gz\"))\n",
    "        trim_f = join(out_dir,  csInput[\"Name\"] + \".fastq.gz.trimmed\")\n",
    "        bam_out = join(bam_dir, csInput[\"Name\"])\n",
    "        cmd = f\"STAR --genomeDir {db_path} --runThreadN 24 --readFilesIn {trim_f} --outFileNamePrefix {bam_out} --outSAMstrandField intronMotif --outMultimapperOrder Random --outSAMmultNmax 1 --outSAMtype BAM SortedByCoordinate --outFilterMultimapNmax 10000 --limitOutSAMoneReadBytes 10000000\"\n",
    "        print(cmd)\n",
    "        os.system(cmd) \n",
    "        cmd = f\"samtools index {join(bam_dir,csInput['Name'])}Aligned.sortedByCoord.out.bam\"\n",
    "        print(cmd)\n",
    "        os.system(cmd)\n",
    "        csInput_tag = join(tag_dir, csInput[\"Name\"])\n",
    "        csInput_bam = join(bam_dir, csInput[\"Name\"])\n",
    "        cmd = f\"makeTagDirectory {csInput_tag} {csInput_bam}Aligned.sortedByCoord.out.bam -genome {ref_fa}  -single -checkGC -fragLength 150\"\n",
    "        print(cmd)\n",
    "        os.system(cmd)\n",
    "\n",
    "    \n",
    "    ## Tag QC\n",
    "    f = plt.figure()\n",
    "    for ind, csRNA in samples[(samples[\"Tissue\"]==tis) & (samples[\"Experiment\"]==\"START\")].iterrows():\n",
    "        csrna_count = pd.read_csv(join(csRNA_tag, \"tagCountDistribution.txt\"),sep=\"\\t\", index_col=0, dtype=float)\n",
    "        csrna_count[\"Tag per position\"] = csrna_count.index.astype(int)\n",
    "        plt.scatter(np.log10(csrna_count.index),np.log10(csrna_count[\"Fraction of Positions\"]), color=\"blue\")#, loglog=True)\n",
    "        for ind2, csInput in samples[(samples[\"Tissue\"]==tis) & (samples[\"Experiment\"]==\"STARTinput\")].iterrows():\n",
    "            input_count = pd.read_csv(join(csInput_tag, \"tagCountDistribution.txt\"),sep=\"\\t\", index_col=0)\n",
    "            input_count[\"Tag per position\"] = input_count.index.astype(int)\n",
    "            plt.scatter(np.log10(input_count.index), np.log10(input_count[\"Fraction of Positions\"]), color=\"orange\")#, loglog=True)    \n",
    "\n",
    "    f = plt.figure()\n",
    "    for ind, csRNA in samples[(samples[\"Tissue\"]==tis) & (samples[\"Experiment\"]==\"START\")].iterrows():         \n",
    "        csrna_length = pd.read_csv(join(csRNA_tag, \"tagLengthDistribution.txt\"),sep=\"\\t\", index_col=0, dtype=float)\n",
    "        csrna_length[\"Read Length\"] = csrna_length.index.astype(int)\n",
    "        plt.scatter(csrna_length.index,csrna_length[\"Fraction of Tags\"], color=\"blue\")\n",
    "        for ind2, csInput in samples[(samples[\"Tissue\"]==tis) & (samples[\"Experiment\"]==\"STARTinput\")].iterrows():\n",
    "            input_length = pd.read_csv(join(csInput_tag, \"tagLengthDistribution.txt\"),sep=\"\\t\", index_col=0)\n",
    "            input_length[\"Read Length\"] = input_length.index.astype(int)\n",
    "            plt.scatter(input_length.index,input_length[\"Fraction of Tags\"], color=\"orange\")\n",
    "    plt.xlabel(\"Read length\")\n",
    "    plt.ylabel(\"Fraction of Tags\")\n",
    "            \n",
    "    ## findcsRNATSS peaks\n",
    "    for ind, csRNA in samples[(samples[\"Tissue\"]==tis) & (samples[\"Experiment\"]==\"START\")].iterrows():         \n",
    "        for ind2, csInput in samples[(samples[\"Tissue\"]==tis) & (samples[\"Experiment\"]==\"STARTinput\")].iterrows():\n",
    "            for ind3, rnaSeq in samples[(samples[\"Tissue\"]==tis) & (samples[\"Experiment\"]==\"RNASeq\")].iterrows():    \n",
    "                print(csRNA.name, \"\\n\", csInput.name,\"\\n\", rnaSeq.name)   \n",
    "                ## findCSRNA\n",
    "                name = samples[(samples[\"Experiment\"] == \"RNASeq\") & (samples[\"Tissue\"] == tis)][\"Full\"]\n",
    "                name = name[0].replace(\".fastq.gz\",\"\").split(\"_\")[1].split(\"-\")[0]\n",
    "                RNA_tag = glob.glob(join(doc[\"data_folder\"],\"RNAseq\",'tags',\"*\"+name+\"*\"))[0]#name))[0]\n",
    "\n",
    "                rnaSeq[\"Name\"].split(\"_\")[1]\n",
    "                out_name = '%s_%s_%s_%s' % (tis,csRNA[\"Name\"].split(\"_\")[1],csInput[\"Name\"].split(\"_\")[1],rnaSeq[\"Name\"].split(\"_\")[1])\n",
    "\n",
    "                out_f = os.path.join(csRNA_dir,out_name)\n",
    "                cmd = f'findcsRNATSS.pl {csRNA_tag} -i {csInput_tag} -rna {RNA_tag} -gtf {gtf} -genome {ref_fa} -cpu 30 -o {out_f}'\n",
    "                print(cmd)\n",
    "                os.system(cmd)\n",
    "    return"
   ]
  },
  {
   "cell_type": "code",
   "execution_count": null,
   "metadata": {
    "ExecuteTime": {
     "start_time": "2020-04-09T06:30:39.989Z"
    },
    "scrolled": true
   },
   "outputs": [
    {
     "name": "stdout",
     "output_type": "stream",
     "text": [
      "BMDM1hKLA\n",
      "Not csRNA, csInput, RNASeq\n",
      "BMDMwt\n",
      "Not csRNA, csInput, RNASeq\n",
      "Brain\n",
      "CHO\n",
      "Not csRNA, csInput, RNASeq\n",
      "FemaleReproductive\n",
      "Not csRNA, csInput, RNASeq\n",
      "Heart\n",
      "/media/lewislab/Dropbox\\ \\(UCSD\\ SBRG\\)/LewisPub/Data/TSS/171227_hamster_GRO_mStart\n",
      "cp /media/lewislab/Dropbox\\ \\(UCSD\\ SBRG\\)/LewisPub/Data/TSS/171227_hamster_GRO_mStart/CHHeart_mSTART_JHS1056_SD_ATGAGC_S78_L004_R1_001.fastq.gz ../Results/csRNA_pipeline/Heart_START1.fastq.gz\n"
     ]
    }
   ],
   "source": [
    "for tis, df in samples.groupby(\"Tissue\"):\n",
    "    print(tis)\n",
    "    if tis == \"Brain\":\n",
    "        continue\n",
    "    run_tissue(tis, samples, out_dir)"
   ]
  }
 ],
 "metadata": {
  "kernelspec": {
   "display_name": "Python 3",
   "language": "python",
   "name": "python3"
  },
  "language_info": {
   "codemirror_mode": {
    "name": "ipython",
    "version": 3
   },
   "file_extension": ".py",
   "mimetype": "text/x-python",
   "name": "python",
   "nbconvert_exporter": "python",
   "pygments_lexer": "ipython3",
   "version": "3.7.3"
  }
 },
 "nbformat": 4,
 "nbformat_minor": 2
}
