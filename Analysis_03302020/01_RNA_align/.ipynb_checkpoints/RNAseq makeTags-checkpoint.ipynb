{
 "cells": [
  {
   "cell_type": "markdown",
   "metadata": {},
   "source": [
    "## Load parameters"
   ]
  },
  {
   "cell_type": "code",
   "execution_count": 1,
   "metadata": {
    "ExecuteTime": {
     "end_time": "2020-04-08T01:42:24.755758Z",
     "start_time": "2020-04-08T01:42:24.268286Z"
    },
    "scrolled": false
   },
   "outputs": [
    {
     "name": "stdout",
     "output_type": "stream",
     "text": [
      "{'contact': 'ishamie14@gmail.com', 'RawDataPath': '/data/isshamie/TSS/NCBI_PICR_103_Processed/RNAseq/', 'NGS_folder': '/home/isshamie/software/NGS-Pipeline', 'thread': 8, 'ref_fa': '/data/isshamie/genome/ncbi_anno_103/GCF_003668045.1_CriGri-PICR_genomic.fna', 'gff': '/data/isshamie/genome/ncbi_anno_103/alt_CriGri-PICR_top_level.gff3', 'annotation': '/data/isshamie/genome/ncbi_anno_103/alt_CriGri-PICR_top_level.gff3', 'gtf': '/data/isshamie/genome/ncbi_anno_103/alt_CriGri-PICR_top_level.gtf', 'QC': False, 'trim_reads': False, 'trimmomatic_path': '/home/shangzhong/Installation/Trimmomatic-0.32/Trimmomatic-0.33/trimmomatic-0.33.jar', 'trim_jobs_per_batch': 6, 'adapter': '', 'picard': '/home/shangzhong/Installation/picard-tools-1.141/picard.jar', 'star_jobs_per_batch': 2, 'star_index_path': '/data/isshamie/genome/ncbi_anno_103/CriGri-PICR_STAR_db', 'STAR_index_path': '/data/isshamie/genome/ncbi_anno_103/CriGri-PICR_STAR_db', 'star_pass': 2, 'star_params': [], 'htseq_anno_source': 'ncbi', 'strand_specific': 'reverse', 'id_name': 'id'}\n"
     ]
    },
    {
     "name": "stderr",
     "output_type": "stream",
     "text": [
      "/home/isshamie/software/anaconda2/envs/TSS/lib/python3.7/site-packages/ipykernel_launcher.py:11: YAMLLoadWarning: calling yaml.load() without Loader=... is deprecated, as the default Loader is unsafe. Please read https://msg.pyyaml.org/load for full details.\n",
      "  # This is added back by InteractiveShellApp.init_path()\n"
     ]
    },
    {
     "data": {
      "text/plain": [
       "<f01_file_process.dic2obj at 0x7f14eec86128>"
      ]
     },
     "execution_count": 1,
     "metadata": {},
     "output_type": "execute_result"
    }
   ],
   "source": [
    "parameter_file = '../parameters/STAR_get_bam.yaml'\n",
    "\n",
    "import yaml\n",
    "import sys\n",
    "import glob\n",
    "import os\n",
    "from os.path import join, basename\n",
    "import pandas as pd\n",
    "\n",
    "with open(parameter_file,'r') as f:\n",
    "    doc = yaml.load(f)\n",
    "\n",
    "print(doc)\n",
    "\n",
    "sys.path.append(doc[\"NGS_folder\"])\n",
    "sys.path.append(os.path.join(doc[\"NGS_folder\"],'Modules'))\n",
    "from f01_file_process import *\n",
    "p = dic2obj(**doc)\n",
    "p\n",
    "\n",
    "# data_folder = doc['data_folder']\n",
    "# tissues = doc['tissues'].split(',')\n",
    "# sys.path.append(doc['pipeline_path'])\n",
    "# ref_fa = doc['ref_fa']\n",
    "# #annotation=doc['annotation_gtf']\n",
    "# annotation=doc['annotation']\n",
    "# from Homer import *\n"
   ]
  },
  {
   "cell_type": "code",
   "execution_count": 2,
   "metadata": {
    "ExecuteTime": {
     "end_time": "2020-04-08T01:42:24.763697Z",
     "start_time": "2020-04-08T01:42:24.758090Z"
    }
   },
   "outputs": [],
   "source": [
    "file_path = p.RawDataPath\n",
    "thread = p.thread\n",
    "QC = p.QC\n",
    "# all parameter\n",
    "ref_fa = p.ref_fa\n",
    "annotation = p.gff\n",
    "gtf_anno = p.gtf\n",
    "# trimmomatic parameter\n",
    "trim = p.trim_reads\n",
    "trimmomatic = p.trimmomatic_path\n",
    "trim_batch = p.trim_jobs_per_batch\n",
    "adapter = p.adapter\n",
    "# star parameter\n",
    "star_batch = p.star_jobs_per_batch\n",
    "db_path = p.STAR_index_path\n",
    "# htseq parameter\n",
    "htseq_anno_source = p.htseq_anno_source\n",
    "strand = p.strand_specific\n",
    "id_name = p.id_name\n",
    "\n",
    "contact = p.contact"
   ]
  },
  {
   "cell_type": "markdown",
   "metadata": {},
   "source": [
    "## Make directories"
   ]
  },
  {
   "cell_type": "code",
   "execution_count": 3,
   "metadata": {
    "ExecuteTime": {
     "end_time": "2020-04-08T01:42:24.773892Z",
     "start_time": "2020-04-08T01:42:24.765743Z"
    }
   },
   "outputs": [],
   "source": [
    "qc_dir = join(file_path,\"QC\")\n",
    "multiqc_dir = join(file_path,\"multiqc\")\n",
    "\n",
    "\n",
    "trim_qc_dir = join(file_path,\"trim_QC\")\n",
    "trim_multiqc_dir = join(file_path,\"trim_multiqc\")\n",
    "\n",
    "\n",
    "bam_dir = join(file_path, \"sortBam\")\n",
    "\n",
    "ht_dir = join(file_path, 'htseq')\n",
    "\n",
    "tag_dir = join(file_path, 'tags')\n",
    "\n",
    "RNA_SeQC = join(file_path,'RNA_SeQC')"
   ]
  },
  {
   "cell_type": "markdown",
   "metadata": {},
   "source": [
    "## Running shangzhong's pipeline RNAseq_count.py\n",
    "(Will generate bam and htseq count data"
   ]
  },
  {
   "cell_type": "markdown",
   "metadata": {},
   "source": [
    "The star command is this:  \n",
    "```STAR --genomeDir /data/isshamie/genome/ncbi_anno_103/CriGri-PICR_STAR_db --readFilesCommand zcat --readFilesIn NL11_Brain7-1_S11_L006_R1_001.fastq.gz NL11_Brain7-1_S11_L006_R2_001.fastq.gz --runThreadN 4 --outFileNamePrefix bam/NL11_Brain7-1_S11_L006_R1_001.fastq.bam --outSAMstrandField intronMotif --outFilterIntronMotifs RemoveNoncanonical --outSAMtype BAM Unsorted --outSAMunmapped Within --sjdbGTFfile /data/isshamie/genome/ncbi_anno_103/alt_CriGri-PICR_top_level.gff3 --sjdbGTFtagExonParentTranscript Parent```"
   ]
  },
  {
   "cell_type": "markdown",
   "metadata": {},
   "source": [
    "## Next, need to run QC on RNA "
   ]
  },
  {
   "cell_type": "markdown",
   "metadata": {},
   "source": [
    "## Picard QC stats"
   ]
  },
  {
   "cell_type": "code",
   "execution_count": 4,
   "metadata": {
    "ExecuteTime": {
     "end_time": "2020-04-08T01:42:24.790079Z",
     "start_time": "2020-04-08T01:42:24.775816Z"
    }
   },
   "outputs": [],
   "source": [
    "import inspect\n",
    "import textwrap"
   ]
  },
  {
   "cell_type": "code",
   "execution_count": 5,
   "metadata": {
    "ExecuteTime": {
     "end_time": "2020-04-08T01:42:24.806434Z",
     "start_time": "2020-04-08T01:42:24.791937Z"
    },
    "scrolled": true
   },
   "outputs": [],
   "source": [
    "# cmd = \"\"\"samtools index ${md_bam_file}\"\"\"\n",
    "\n",
    "# for pair in list_fq_files(p.RawDataPath):\n",
    "#     sample_id = basename(pair[0]).replace('.fastq',\"\").replace(\".gz\",\"\")\n",
    "#     sample_id = \"_\".join(sample_id.split(\"_\")[1:3])\n",
    "#     print(sample_id)\n",
    "#     md_bam_file = join(bam_dir,sample_id)\n",
    "    \n",
    "#     javaPath=\"/home/vahid/.conda/pkgs/java-1.7.0-openjdk-cos6-x86_64-1.7.0.131-h06d78d4_0/x86_64-conda_cos6-linux-gnu/sysroot/usr/lib/jvm/java-1.7.0-openjdk-1.7.0.131.x86_64/jre/bin/\" \n",
    "#     cmd = f\"\"\"\n",
    "#     {javaPath}java -jar /data/vahid/RNAseqPipeLine/RNA-SeQC_1.1.9/RNA-SeQC.jar -n 1000 \\\n",
    "#         -s {sample_id},{md_bam_file},{sample_id} \\\n",
    "#         -t {gtf_anno} \\\n",
    "#         -r {ref_fa} \\\n",
    "#         -noDoC \\\n",
    "#         -strictMode \\\n",
    "#         -o {RNA_SeQC} \\\n",
    "#         -gatkFlags --allow_potentially_misencoded_quality_scores \\\n",
    "#         -singleEnd no\n",
    "#         \"\"\"\n",
    "\n",
    "#     print(inspect.cleandoc(cmd))\n",
    "#     os.system(cmd)"
   ]
  },
  {
   "cell_type": "code",
   "execution_count": 6,
   "metadata": {
    "ExecuteTime": {
     "end_time": "2020-04-08T01:42:24.816559Z",
     "start_time": "2020-04-08T01:42:24.808376Z"
    }
   },
   "outputs": [],
   "source": [
    "if not os.path.exists(qc_dir):\n",
    "    os.mkdir(qc_dir)\n",
    "\n",
    "if not os.path.exists(multiqc_dir):\n",
    "    os.mkdir(multiqc_dir)\n",
    "    \n",
    "if not os.path.exists(trim_qc_dir):\n",
    "    os.mkdir(trim_qc_dir)\n",
    "\n",
    "if not os.path.exists(trim_multiqc_dir):\n",
    "    os.mkdir(trim_multiqc_dir)\n",
    "    \n",
    "if not os.path.exists(bam_dir):\n",
    "    os.mkdir(bam_dir)\n",
    "    \n",
    "if not os.path.exists(ht_dir):\n",
    "    os.mkdir(ht_dir)\n",
    "    \n",
    "if not os.path.exists(tag_dir):\n",
    "    os.mkdir(tag_dir)\n",
    "    \n",
    "if not os.path.exists(RNA_SeQC):\n",
    "    os.mkdir(RNA_SeQC)"
   ]
  },
  {
   "cell_type": "code",
   "execution_count": null,
   "metadata": {},
   "outputs": [],
   "source": []
  },
  {
   "cell_type": "code",
   "execution_count": null,
   "metadata": {},
   "outputs": [],
   "source": []
  },
  {
   "cell_type": "markdown",
   "metadata": {},
   "source": [
    "## Make the tag directory"
   ]
  },
  {
   "cell_type": "code",
   "execution_count": 7,
   "metadata": {
    "ExecuteTime": {
     "end_time": "2020-04-08T01:42:24.954019Z",
     "start_time": "2020-04-08T01:42:24.818270Z"
    },
    "scrolled": true
   },
   "outputs": [
    {
     "name": "stdout",
     "output_type": "stream",
     "text": [
      "/data2/resources/software/homer/v4.11_10242019/bin//homer\r\n"
     ]
    }
   ],
   "source": [
    "import os\n",
    "import glob\n",
    "homer_path =  \"/data2/resources/software/homer/v4.11_10242019/bin/\"\n",
    "os.environ['PATH'] = f\"{homer_path}:{os.environ['PATH']}\"\n",
    "!which homer"
   ]
  },
  {
   "cell_type": "code",
   "execution_count": null,
   "metadata": {
    "ExecuteTime": {
     "start_time": "2020-04-08T01:42:24.306Z"
    },
    "scrolled": true
   },
   "outputs": [
    {
     "name": "stdout",
     "output_type": "stream",
     "text": [
      "/data/isshamie/TSS/NCBI_PICR_103_Processed/RNAseq/sortBam/NL10_Misc_S10_L006_R1_001.fastq.sorted.bam\n",
      "Misc_S10\n",
      "makeTagDirectory /data/isshamie/TSS/NCBI_PICR_103_Processed/RNAseq/tags/Misc_S10 /data/isshamie/TSS/NCBI_PICR_103_Processed/RNAseq/sortBam/NL10_Misc_S10_L006_R1_001.fastq.sorted.bam -read2 -single\n"
     ]
    }
   ],
   "source": [
    "#makeTagDirectory TagDir/ alignment.sam -read2\n",
    "\n",
    "for curr in glob.glob(bam_dir+'/*.bam'):\n",
    "    print(curr)\n",
    "    sample_id = basename(curr).replace('.fastq',\"\").replace(\".gz\",\"\")\n",
    "    sample_id = \"_\".join(sample_id.split(\"_\")[1:3])\n",
    "    sample_id = sample_id.split(\"-\")[0]\n",
    "    print(sample_id)\n",
    "    md_bam_file = join(bam_dir,sample_id)\n",
    "    \n",
    "\n",
    "    cmd = f'makeTagDirectory {join(tag_dir,sample_id) } {curr} -read2 -single' #'-sspe -unique'\n",
    "    print(cmd)\n",
    "    os.system(cmd)"
   ]
  },
  {
   "cell_type": "code",
   "execution_count": null,
   "metadata": {
    "ExecuteTime": {
     "start_time": "2020-04-08T01:42:24.308Z"
    },
    "scrolled": false
   },
   "outputs": [],
   "source": [
    "#makeTagDirectory TagDir/ alignment.sam -read2\n",
    "\n",
    "for curr in glob.glob(bam_dir+'/*.bam'):\n",
    "    print(curr)\n",
    "    sample_id = basename(curr).replace('.fastq',\"\").replace(\".gz\",\"\")\n",
    "    sample_id = \"_\".join(sample_id.split(\"_\")[1:3])\n",
    "    sample_id = sample_id.split(\"-\")[0]\n",
    "    print(sample_id)\n",
    "    md_bam_file = join(bam_dir,sample_id)\n",
    "    \n",
    "    cmd = f'makeTagDirectory {join(tag_dir,sample_id+\"_frag150\")} {curr} -read2 -fragLength 150 -single' \n",
    "    print(cmd)\n",
    "    os.system(cmd)"
   ]
  },
  {
   "cell_type": "code",
   "execution_count": null,
   "metadata": {
    "ExecuteTime": {
     "start_time": "2020-04-08T01:42:24.309Z"
    },
    "scrolled": true
   },
   "outputs": [],
   "source": [
    "#makeTagDirectory TagDir/ alignment.sam -read2\n",
    "tag_dir_read1 = join(tag_dir+\"_read1\")\n",
    "if not os.path.exists(tag_dir_read1):\n",
    "    os.mkdir(tag_dir_read1)\n",
    "\n",
    "for curr in glob.glob(bam_dir+'/*.bam'):\n",
    "    print(curr)\n",
    "    sample_id = basename(curr).replace('.fastq',\"\").replace(\".gz\",\"\")\n",
    "    sample_id = \"_\".join(sample_id.split(\"_\")[1:3])\n",
    "    sample_id = sample_id.split(\"-\")[0]\n",
    "    print(sample_id)\n",
    "    md_bam_file = join(bam_dir,sample_id)\n",
    "    \n",
    "\n",
    "    cmd = f'makeTagDirectory {join(tag_dir_read1,sample_id) } {curr} -read1' #'-sspe -unique'\n",
    "    print(cmd)\n",
    "    os.system(cmd)"
   ]
  },
  {
   "cell_type": "code",
   "execution_count": null,
   "metadata": {},
   "outputs": [],
   "source": []
  },
  {
   "cell_type": "code",
   "execution_count": null,
   "metadata": {},
   "outputs": [],
   "source": []
  },
  {
   "cell_type": "code",
   "execution_count": null,
   "metadata": {},
   "outputs": [],
   "source": []
  },
  {
   "cell_type": "code",
   "execution_count": null,
   "metadata": {},
   "outputs": [],
   "source": []
  },
  {
   "cell_type": "code",
   "execution_count": null,
   "metadata": {},
   "outputs": [],
   "source": []
  },
  {
   "cell_type": "code",
   "execution_count": null,
   "metadata": {},
   "outputs": [],
   "source": []
  },
  {
   "cell_type": "code",
   "execution_count": 7,
   "metadata": {
    "ExecuteTime": {
     "end_time": "2020-04-02T18:27:07.415864Z",
     "start_time": "2020-04-02T18:27:07.399706Z"
    },
    "scrolled": true
   },
   "outputs": [
    {
     "name": "stdout",
     "output_type": "stream",
     "text": [
      "Pancreas_S1\n",
      "/home/isshamie/software/NGS-Pipeline/RNAseq_STARpipeline.sh -f1 NL1_Pancreas_S1_L006_R1_001.fastq.gz -f2 NL1_Pancreas_S1_L006_R2_001.fastq.gz -sid Pancreas_S1  -starIndx /data/isshamie/genome/ncbi_anno_103/CriGri-PICR_STAR_db -BAM /data/isshamie/TSS/NCBI_PICR_103_Processed/RNAseq/bam/Pancreas_S1 -refFasta /data/isshamie/genome/ncbi_anno_103/GCF_003668045.1_CriGri-PICR_genomic.fna -GFF /data/isshamie/genome/ncbi_anno_103/alt_CriGri-PICR_top_level.gff3 -RSEM /data/vahid/RNAseqPipeLine/rsemRef/rsem_reference\n",
      "ReproductiveTract_S2\n",
      "/home/isshamie/software/NGS-Pipeline/RNAseq_STARpipeline.sh -f1 NL2_ReproductiveTract_S2_L006_R1_001.fastq.gz -f2 NL2_ReproductiveTract_S2_L006_R2_001.fastq.gz -sid ReproductiveTract_S2  -starIndx /data/isshamie/genome/ncbi_anno_103/CriGri-PICR_STAR_db -BAM /data/isshamie/TSS/NCBI_PICR_103_Processed/RNAseq/bam/ReproductiveTract_S2 -refFasta /data/isshamie/genome/ncbi_anno_103/GCF_003668045.1_CriGri-PICR_genomic.fna -GFF /data/isshamie/genome/ncbi_anno_103/alt_CriGri-PICR_top_level.gff3 -RSEM /data/vahid/RNAseqPipeLine/rsemRef/rsem_reference\n",
      "Spleen_S3\n",
      "/home/isshamie/software/NGS-Pipeline/RNAseq_STARpipeline.sh -f1 NL3_Spleen_S3_L006_R1_001.fastq.gz -f2 NL3_Spleen_S3_L006_R2_001.fastq.gz -sid Spleen_S3  -starIndx /data/isshamie/genome/ncbi_anno_103/CriGri-PICR_STAR_db -BAM /data/isshamie/TSS/NCBI_PICR_103_Processed/RNAseq/bam/Spleen_S3 -refFasta /data/isshamie/genome/ncbi_anno_103/GCF_003668045.1_CriGri-PICR_genomic.fna -GFF /data/isshamie/genome/ncbi_anno_103/alt_CriGri-PICR_top_level.gff3 -RSEM /data/vahid/RNAseqPipeLine/rsemRef/rsem_reference\n",
      "Lung_S4\n",
      "/home/isshamie/software/NGS-Pipeline/RNAseq_STARpipeline.sh -f1 NL4_Lung_S4_L006_R1_001.fastq.gz -f2 NL4_Lung_S4_L006_R2_001.fastq.gz -sid Lung_S4  -starIndx /data/isshamie/genome/ncbi_anno_103/CriGri-PICR_STAR_db -BAM /data/isshamie/TSS/NCBI_PICR_103_Processed/RNAseq/bam/Lung_S4 -refFasta /data/isshamie/genome/ncbi_anno_103/GCF_003668045.1_CriGri-PICR_genomic.fna -GFF /data/isshamie/genome/ncbi_anno_103/alt_CriGri-PICR_top_level.gff3 -RSEM /data/vahid/RNAseqPipeLine/rsemRef/rsem_reference\n",
      "Liver_S5\n",
      "/home/isshamie/software/NGS-Pipeline/RNAseq_STARpipeline.sh -f1 NL5_Liver_S5_L006_R1_001.fastq.gz -f2 NL5_Liver_S5_L006_R2_001.fastq.gz -sid Liver_S5  -starIndx /data/isshamie/genome/ncbi_anno_103/CriGri-PICR_STAR_db -BAM /data/isshamie/TSS/NCBI_PICR_103_Processed/RNAseq/bam/Liver_S5 -refFasta /data/isshamie/genome/ncbi_anno_103/GCF_003668045.1_CriGri-PICR_genomic.fna -GFF /data/isshamie/genome/ncbi_anno_103/alt_CriGri-PICR_top_level.gff3 -RSEM /data/vahid/RNAseqPipeLine/rsemRef/rsem_reference\n",
      "Heart_S6\n",
      "/home/isshamie/software/NGS-Pipeline/RNAseq_STARpipeline.sh -f1 NL6_Heart_S6_L006_R1_001.fastq.gz -f2 NL6_Heart_S6_L006_R2_001.fastq.gz -sid Heart_S6  -starIndx /data/isshamie/genome/ncbi_anno_103/CriGri-PICR_STAR_db -BAM /data/isshamie/TSS/NCBI_PICR_103_Processed/RNAseq/bam/Heart_S6 -refFasta /data/isshamie/genome/ncbi_anno_103/GCF_003668045.1_CriGri-PICR_genomic.fna -GFF /data/isshamie/genome/ncbi_anno_103/alt_CriGri-PICR_top_level.gff3 -RSEM /data/vahid/RNAseqPipeLine/rsemRef/rsem_reference\n",
      "Brain2_S7\n",
      "/home/isshamie/software/NGS-Pipeline/RNAseq_STARpipeline.sh -f1 NL7_Brain2_S7_L006_R1_001.fastq.gz -f2 NL7_Brain2_S7_L006_R2_001.fastq.gz -sid Brain2_S7  -starIndx /data/isshamie/genome/ncbi_anno_103/CriGri-PICR_STAR_db -BAM /data/isshamie/TSS/NCBI_PICR_103_Processed/RNAseq/bam/Brain2_S7 -refFasta /data/isshamie/genome/ncbi_anno_103/GCF_003668045.1_CriGri-PICR_genomic.fna -GFF /data/isshamie/genome/ncbi_anno_103/alt_CriGri-PICR_top_level.gff3 -RSEM /data/vahid/RNAseqPipeLine/rsemRef/rsem_reference\n",
      "Muscle_S8\n",
      "/home/isshamie/software/NGS-Pipeline/RNAseq_STARpipeline.sh -f1 NL8_Muscle_S8_L006_R1_001.fastq.gz -f2 NL8_Muscle_S8_L006_R2_001.fastq.gz -sid Muscle_S8  -starIndx /data/isshamie/genome/ncbi_anno_103/CriGri-PICR_STAR_db -BAM /data/isshamie/TSS/NCBI_PICR_103_Processed/RNAseq/bam/Muscle_S8 -refFasta /data/isshamie/genome/ncbi_anno_103/GCF_003668045.1_CriGri-PICR_genomic.fna -GFF /data/isshamie/genome/ncbi_anno_103/alt_CriGri-PICR_top_level.gff3 -RSEM /data/vahid/RNAseqPipeLine/rsemRef/rsem_reference\n",
      "Kidney_S9\n",
      "/home/isshamie/software/NGS-Pipeline/RNAseq_STARpipeline.sh -f1 NL9_Kidney_S9_L006_R1_001.fastq.gz -f2 NL9_Kidney_S9_L006_R2_001.fastq.gz -sid Kidney_S9  -starIndx /data/isshamie/genome/ncbi_anno_103/CriGri-PICR_STAR_db -BAM /data/isshamie/TSS/NCBI_PICR_103_Processed/RNAseq/bam/Kidney_S9 -refFasta /data/isshamie/genome/ncbi_anno_103/GCF_003668045.1_CriGri-PICR_genomic.fna -GFF /data/isshamie/genome/ncbi_anno_103/alt_CriGri-PICR_top_level.gff3 -RSEM /data/vahid/RNAseqPipeLine/rsemRef/rsem_reference\n",
      "Misc_S10\n",
      "/home/isshamie/software/NGS-Pipeline/RNAseq_STARpipeline.sh -f1 NL10_Misc_S10_L006_R1_001.fastq.gz -f2 NL10_Misc_S10_L006_R2_001.fastq.gz -sid Misc_S10  -starIndx /data/isshamie/genome/ncbi_anno_103/CriGri-PICR_STAR_db -BAM /data/isshamie/TSS/NCBI_PICR_103_Processed/RNAseq/bam/Misc_S10 -refFasta /data/isshamie/genome/ncbi_anno_103/GCF_003668045.1_CriGri-PICR_genomic.fna -GFF /data/isshamie/genome/ncbi_anno_103/alt_CriGri-PICR_top_level.gff3 -RSEM /data/vahid/RNAseqPipeLine/rsemRef/rsem_reference\n",
      "Brain7-1_S11\n",
      "/home/isshamie/software/NGS-Pipeline/RNAseq_STARpipeline.sh -f1 NL11_Brain7-1_S11_L006_R1_001.fastq.gz -f2 NL11_Brain7-1_S11_L006_R2_001.fastq.gz -sid Brain7-1_S11  -starIndx /data/isshamie/genome/ncbi_anno_103/CriGri-PICR_STAR_db -BAM /data/isshamie/TSS/NCBI_PICR_103_Processed/RNAseq/bam/Brain7-1_S11 -refFasta /data/isshamie/genome/ncbi_anno_103/GCF_003668045.1_CriGri-PICR_genomic.fna -GFF /data/isshamie/genome/ncbi_anno_103/alt_CriGri-PICR_top_level.gff3 -RSEM /data/vahid/RNAseqPipeLine/rsemRef/rsem_reference\n"
     ]
    }
   ],
   "source": [
    "# os.chdir(p.RawDataPath)\n",
    "# for pair in list_fq_files(p.RawDataPath):\n",
    "#     sample_name = basename(pair[0]).replace('.fastq',\"\").replace(\".gz\",\"\")\n",
    "#     sample_name = \"_\".join(sample_name.split(\"_\")[1:3])\n",
    "#     print(sample_name)\n",
    "#     cmd =   f'{join(p.NGS_folder,\"RNAseq_STARpipeline.sh\")} -f1 {pair[0]} -f2 {pair[1]} -sid {sample_name} '\n",
    "#     cmd = cmd + f' -starIndx {p.STAR_index_path} -BAM {join(bam_dir,sample_name)} -refFasta {p.ref_fa} -GFF {p.gff}'\n",
    "#     cmd = cmd + f' -RSEM /data/vahid/RNAseqPipeLine/rsemRef/rsem_reference'\n",
    "#     print(cmd)\n",
    "#    #os.system(cmd)\n"
   ]
  }
 ],
 "metadata": {
  "kernelspec": {
   "display_name": "Python 3",
   "language": "python",
   "name": "python3"
  },
  "language_info": {
   "codemirror_mode": {
    "name": "ipython",
    "version": 3
   },
   "file_extension": ".py",
   "mimetype": "text/x-python",
   "name": "python",
   "nbconvert_exporter": "python",
   "pygments_lexer": "ipython3",
   "version": "3.7.3"
  }
 },
 "nbformat": 4,
 "nbformat_minor": 2
}
