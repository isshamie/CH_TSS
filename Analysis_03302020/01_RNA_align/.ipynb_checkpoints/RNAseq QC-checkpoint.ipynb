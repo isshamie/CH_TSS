{
 "cells": [
  {
   "cell_type": "code",
   "execution_count": null,
   "metadata": {
    "ExecuteTime": {
     "start_time": "2020-04-06T23:35:24.706Z"
    }
   },
   "outputs": [],
   "source": [
    "parameter_file = '../parameters/STAR_get_bam.yaml'\n",
    "\n",
    "import yaml\n",
    "import sys\n",
    "import glob\n",
    "import os\n",
    "import seaborn as sns\n",
    "from os.path import join, basename\n",
    "import pandas as pd\n",
    "import matplotlib.pyplot as plt\n",
    "with open(parameter_file,'r') as f:\n",
    "    doc = yaml.load(f)\n",
    "import numpy as np\n",
    "print(doc)\n",
    "\n",
    "sys.path.append(doc[\"NGS_folder\"])\n",
    "sys.path.append(os.path.join(doc[\"NGS_folder\"],'Modules'))\n",
    "from f01_file_process import *\n",
    "p = dic2obj(**doc)\n",
    "\n",
    "\n",
    "file_path = p.RawDataPath\n",
    "thread = p.thread\n",
    "QC = p.QC\n",
    "# all parameter\n",
    "ref_fa = p.ref_fa\n",
    "annotation = p.gff\n",
    "gtf_anno = p.gtf\n",
    "bed_anno = annotation.replace(\"gff3\",\"bed\")\n",
    "# trimmomatic parameter\n",
    "trim = p.trim_reads\n",
    "trimmomatic = p.trimmomatic_path\n",
    "trim_batch = p.trim_jobs_per_batch\n",
    "adapter = p.adapter\n",
    "# star parameter\n",
    "star_batch = p.star_jobs_per_batch\n",
    "db_path = p.STAR_index_path\n",
    "# htseq parameter\n",
    "htseq_anno_source = p.htseq_anno_source\n",
    "strand = p.strand_specific\n",
    "id_name = p.id_name\n",
    "\n",
    "contact = p.contact\n",
    "\n",
    "import os\n",
    "import glob\n",
    "homer_path =  \"/data2/resources/software/homer/v4.11_10242019/bin/\"\n",
    "os.environ['PATH'] = f\"{homer_path}:{os.environ['PATH']}\"\n",
    "!which homer"
   ]
  },
  {
   "cell_type": "code",
   "execution_count": null,
   "metadata": {
    "ExecuteTime": {
     "start_time": "2020-04-06T23:35:24.708Z"
    }
   },
   "outputs": [],
   "source": [
    "qc_dir = join(file_path,\"QC\")\n",
    "multiqc_dir = join(file_path,\"multiqc\")\n",
    "\n",
    "trim_qc_dir = join(file_path,\"trim_QC\")\n",
    "trim_multiqc_dir = join(file_path,\"trim_multiqc\")\n",
    "\n",
    "bam_dir = join(file_path, \"sortBam\")\n",
    "ht_dir = join(file_path, 'htseq')\n",
    "ht_reverse_dir = join(file_path, 'htseq_rev')\n",
    "RNA_SeQC = join(file_path,'RNA_SeQC')"
   ]
  },
  {
   "cell_type": "code",
   "execution_count": null,
   "metadata": {
    "ExecuteTime": {
     "start_time": "2020-04-06T23:35:24.709Z"
    }
   },
   "outputs": [],
   "source": [
    "cmd = f\"geneBody_coverage.py -r {bed_anno} -i {bam_dir}  -o {RNA_SeQC}\"\n",
    "print(cmd)\n",
    "os.system(cmd)"
   ]
  },
  {
   "cell_type": "code",
   "execution_count": 3,
   "metadata": {
    "ExecuteTime": {
     "end_time": "2020-04-06T23:33:42.993684Z",
     "start_time": "2020-04-06T23:33:42.828913Z"
    },
    "scrolled": true
   },
   "outputs": [
    {
     "name": "stdout",
     "output_type": "stream",
     "text": [
      "/data/isshamie/TSS/NCBI_PICR_103_Processed/RNAseq/sortBam/NL4_Lung_S4_L006_R1_001.fastq.sort.bam\n",
      "Lung_S4\n"
     ]
    },
    {
     "ename": "NameError",
     "evalue": "name 'input_f' is not defined",
     "output_type": "error",
     "traceback": [
      "\u001b[0;31m---------------------------------------------------------------------------\u001b[0m",
      "\u001b[0;31mNameError\u001b[0m                                 Traceback (most recent call last)",
      "\u001b[0;32m<ipython-input-3-57f51c6a9ca4>\u001b[0m in \u001b[0;36m<module>\u001b[0;34m\u001b[0m\n\u001b[1;32m      4\u001b[0m     \u001b[0mprint\u001b[0m\u001b[0;34m(\u001b[0m\u001b[0msid\u001b[0m\u001b[0;34m)\u001b[0m\u001b[0;34m\u001b[0m\u001b[0;34m\u001b[0m\u001b[0m\n\u001b[1;32m      5\u001b[0m     \u001b[0moutput_f\u001b[0m \u001b[0;34m=\u001b[0m \u001b[0mjoin\u001b[0m\u001b[0;34m(\u001b[0m\u001b[0mRNA_SeQC\u001b[0m\u001b[0;34m,\u001b[0m\u001b[0msid\u001b[0m\u001b[0;34m)\u001b[0m\u001b[0;34m\u001b[0m\u001b[0;34m\u001b[0m\u001b[0m\n\u001b[0;32m----> 6\u001b[0;31m     \u001b[0mcmd\u001b[0m \u001b[0;34m=\u001b[0m \u001b[0;34mf\"geneBody_coverage.py {input_f} {output_f}\"\u001b[0m\u001b[0;34m\u001b[0m\u001b[0;34m\u001b[0m\u001b[0m\n\u001b[0m\u001b[1;32m      7\u001b[0m     \u001b[0mprint\u001b[0m\u001b[0;34m(\u001b[0m\u001b[0mcmd\u001b[0m\u001b[0;34m)\u001b[0m\u001b[0;34m\u001b[0m\u001b[0;34m\u001b[0m\u001b[0m\n\u001b[1;32m      8\u001b[0m     \u001b[0;31m#os.system(cmd)\u001b[0m\u001b[0;34m\u001b[0m\u001b[0;34m\u001b[0m\u001b[0;34m\u001b[0m\u001b[0m\n",
      "\u001b[0;31mNameError\u001b[0m: name 'input_f' is not defined"
     ]
    }
   ],
   "source": [
    "for bam_f in glob.glob(bam_dir+\"/*bam\"):\n",
    "    print(bam_f)\n",
    "    sid = \"_\".join(basename(bam_f).split(\"_\")[1:3])\n",
    "    print(sid)\n",
    "    output_f = join(RNA_SeQC,sid)\n",
    "    \n",
    "    cmd = f\"geneBody_coverage.py {input_f} {output_f}\"\n",
    "    print(cmd)\n",
    "    #os.system(cmd)"
   ]
  },
  {
   "cell_type": "code",
   "execution_count": null,
   "metadata": {},
   "outputs": [],
   "source": []
  }
 ],
 "metadata": {
  "kernelspec": {
   "display_name": "Python 3",
   "language": "python",
   "name": "python3"
  },
  "language_info": {
   "codemirror_mode": {
    "name": "ipython",
    "version": 3
   },
   "file_extension": ".py",
   "mimetype": "text/x-python",
   "name": "python",
   "nbconvert_exporter": "python",
   "pygments_lexer": "ipython3",
   "version": "3.7.3"
  }
 },
 "nbformat": 4,
 "nbformat_minor": 2
}
