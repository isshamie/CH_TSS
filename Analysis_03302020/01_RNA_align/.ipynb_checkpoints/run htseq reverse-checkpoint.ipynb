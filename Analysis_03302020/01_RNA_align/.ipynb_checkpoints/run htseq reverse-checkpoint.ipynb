{
 "cells": [
  {
   "cell_type": "markdown",
   "metadata": {},
   "source": [
    "## Load parameters"
   ]
  },
  {
   "cell_type": "code",
   "execution_count": 1,
   "metadata": {
    "ExecuteTime": {
     "end_time": "2020-04-02T23:10:49.792359Z",
     "start_time": "2020-04-02T23:10:49.253465Z"
    },
    "scrolled": false
   },
   "outputs": [
    {
     "name": "stdout",
     "output_type": "stream",
     "text": [
      "{'contact': 'ishamie14@gmail.com', 'RawDataPath': '/data/isshamie/TSS/NCBI_PICR_103_Processed/RNAseq/', 'NGS_folder': '/home/isshamie/software/NGS-Pipeline', 'thread': 8, 'ref_fa': '/data/isshamie/genome/ncbi_anno_103/GCF_003668045.1_CriGri-PICR_genomic.fna', 'gff': '/data/isshamie/genome/ncbi_anno_103/alt_CriGri-PICR_top_level.gff3', 'annotation': '/data/isshamie/genome/ncbi_anno_103/alt_CriGri-PICR_top_level.gff3', 'gtf': '/data/isshamie/genome/ncbi_anno_103/alt_CriGri-PICR_top_level.gtf', 'QC': False, 'trim_reads': False, 'trimmomatic_path': '/home/shangzhong/Installation/Trimmomatic-0.32/Trimmomatic-0.33/trimmomatic-0.33.jar', 'trim_jobs_per_batch': 6, 'adapter': '', 'picard': '/home/shangzhong/Installation/picard-tools-1.141/picard.jar', 'star_jobs_per_batch': 2, 'star_index_path': '/data/isshamie/genome/ncbi_anno_103/CriGri-PICR_STAR_db', 'STAR_index_path': '/data/isshamie/genome/ncbi_anno_103/CriGri-PICR_STAR_db', 'star_pass': 2, 'star_params': [], 'htseq_anno_source': 'ncbi', 'strand_specific': 'reverse', 'id_name': 'id'}\n"
     ]
    },
    {
     "name": "stderr",
     "output_type": "stream",
     "text": [
      "/home/isshamie/software/anaconda2/envs/TSS/lib/python3.7/site-packages/ipykernel_launcher.py:11: YAMLLoadWarning: calling yaml.load() without Loader=... is deprecated, as the default Loader is unsafe. Please read https://msg.pyyaml.org/load for full details.\n",
      "  # This is added back by InteractiveShellApp.init_path()\n"
     ]
    },
    {
     "data": {
      "text/plain": [
       "<f01_file_process.dic2obj at 0x7f919eb7c160>"
      ]
     },
     "execution_count": 1,
     "metadata": {},
     "output_type": "execute_result"
    }
   ],
   "source": [
    "parameter_file = '../parameters/STAR_get_bam.yaml'\n",
    "\n",
    "import yaml\n",
    "import sys\n",
    "import glob\n",
    "import os\n",
    "from os.path import join, basename\n",
    "import pandas as pd\n",
    "\n",
    "with open(parameter_file,'r') as f:\n",
    "    doc = yaml.load(f)\n",
    "\n",
    "print(doc)\n",
    "\n",
    "sys.path.append(doc[\"NGS_folder\"])\n",
    "sys.path.append(os.path.join(doc[\"NGS_folder\"],'Modules'))\n",
    "from f01_file_process import *\n",
    "p = dic2obj(**doc)\n",
    "p\n",
    "\n",
    "# data_folder = doc['data_folder']\n",
    "# tissues = doc['tissues'].split(',')\n",
    "# sys.path.append(doc['pipeline_path'])\n",
    "# ref_fa = doc['ref_fa']\n",
    "# #annotation=doc['annotation_gtf']\n",
    "# annotation=doc['annotation']\n",
    "# from Homer import *\n"
   ]
  },
  {
   "cell_type": "code",
   "execution_count": 2,
   "metadata": {
    "ExecuteTime": {
     "end_time": "2020-04-02T23:10:53.003118Z",
     "start_time": "2020-04-02T23:10:52.996823Z"
    }
   },
   "outputs": [],
   "source": [
    "file_path = p.RawDataPath\n",
    "thread = p.thread\n",
    "QC = p.QC\n",
    "# all parameter\n",
    "ref_fa = p.ref_fa\n",
    "annotation = p.gff\n",
    "gtf_anno = p.gtf\n",
    "# trimmomatic parameter\n",
    "trim = p.trim_reads\n",
    "trimmomatic = p.trimmomatic_path\n",
    "trim_batch = p.trim_jobs_per_batch\n",
    "adapter = p.adapter\n",
    "# star parameter\n",
    "star_batch = p.star_jobs_per_batch\n",
    "db_path = p.STAR_index_path\n",
    "# htseq parameter\n",
    "htseq_anno_source = p.htseq_anno_source\n",
    "strand = p.strand_specific\n",
    "id_name = p.id_name\n",
    "\n",
    "contact = p.contact"
   ]
  },
  {
   "cell_type": "markdown",
   "metadata": {},
   "source": [
    "## Make directories"
   ]
  },
  {
   "cell_type": "code",
   "execution_count": 3,
   "metadata": {
    "ExecuteTime": {
     "end_time": "2020-04-02T23:10:55.252418Z",
     "start_time": "2020-04-02T23:10:55.247167Z"
    }
   },
   "outputs": [],
   "source": [
    "qc_dir = join(file_path,\"QC\")\n",
    "multiqc_dir = join(file_path,\"multiqc\")\n",
    "\n",
    "\n",
    "trim_qc_dir = join(file_path,\"trim_QC\")\n",
    "trim_multiqc_dir = join(file_path,\"trim_multiqc\")\n",
    "\n",
    "\n",
    "bam_dir = join(file_path, \"sortBam\")\n",
    "\n",
    "ht_dir = join(file_path, 'htseq')\n",
    "\n",
    "tag_dir = join(file_path, 'tags')\n",
    "\n",
    "RNA_SeQC = join(file_path,'RNA_SeQC')"
   ]
  },
  {
   "cell_type": "code",
   "execution_count": 1,
   "metadata": {
    "ExecuteTime": {
     "end_time": "2020-04-02T22:54:33.508137Z",
     "start_time": "2020-04-02T22:54:32.628286Z"
    },
    "scrolled": true
   },
   "outputs": [
    {
     "name": "stdout",
     "output_type": "stream",
     "text": [
      "{'contact': 'ishamie14@gmail.com', 'RawDataPath': '/data/isshamie/TSS/NCBI_PICR_103_Processed/RNAseq/', 'NGS_folder': '/home/isshamie/software/NGS-Pipeline', 'thread': 8, 'ref_fa': '/data/isshamie/genome/ncbi_anno_103/GCF_003668045.1_CriGri-PICR_genomic.fna', 'gff': '/data/isshamie/genome/ncbi_anno_103/alt_CriGri-PICR_top_level.gff3', 'annotation': '/data/isshamie/genome/ncbi_anno_103/alt_CriGri-PICR_top_level.gff3', 'gtf': '/data/isshamie/genome/ncbi_anno_103/alt_CriGri-PICR_top_level.gtf', 'QC': False, 'trim_reads': False, 'trimmomatic_path': '/home/shangzhong/Installation/Trimmomatic-0.32/Trimmomatic-0.33/trimmomatic-0.33.jar', 'trim_jobs_per_batch': 6, 'adapter': '', 'picard': '/home/shangzhong/Installation/picard-tools-1.141/picard.jar', 'star_jobs_per_batch': 2, 'star_index_path': '/data/isshamie/genome/ncbi_anno_103/CriGri-PICR_STAR_db', 'STAR_index_path': '/data/isshamie/genome/ncbi_anno_103/CriGri-PICR_STAR_db', 'star_pass': 2, 'star_params': [], 'htseq_anno_source': 'ncbi', 'strand_specific': 'reverse', 'id_name': 'id'}\n"
     ]
    },
    {
     "name": "stderr",
     "output_type": "stream",
     "text": [
      "/home/isshamie/software/anaconda2/envs/TSS/lib/python3.7/site-packages/ipykernel_launcher.py:11: YAMLLoadWarning: calling yaml.load() without Loader=... is deprecated, as the default Loader is unsafe. Please read https://msg.pyyaml.org/load for full details.\n",
      "  # This is added back by InteractiveShellApp.init_path()\n"
     ]
    },
    {
     "data": {
      "text/plain": [
       "<f01_file_process.dic2obj at 0x7f4afdcb5fd0>"
      ]
     },
     "execution_count": 1,
     "metadata": {},
     "output_type": "execute_result"
    }
   ],
   "source": [
    "parameter_file = '../parameters/STAR_get_bam.yaml'\n",
    "\n",
    "import yaml\n",
    "import sys\n",
    "import glob\n",
    "import os\n",
    "from os.path import join, basename\n",
    "import pandas as pd\n",
    "\n",
    "with open(parameter_file,'r') as f:\n",
    "    doc = yaml.load(f)\n",
    "\n",
    "print(doc)\n",
    "\n",
    "sys.path.append(doc[\"NGS_folder\"])\n",
    "sys.path.append(os.path.join(doc[\"NGS_folder\"],'Modules'))\n",
    "from f01_file_process import *\n",
    "p = dic2obj(**doc)\n",
    "p\n",
    "\n",
    "# data_folder = doc['data_folder']\n",
    "# tissues = doc['tissues'].split(',')\n",
    "# sys.path.append(doc['pipeline_path'])\n",
    "# ref_fa = doc['ref_fa']\n",
    "# #annotation=doc['annotation_gtf']\n",
    "# annotation=doc['annotation']\n",
    "# from Homer import *\n"
   ]
  },
  {
   "cell_type": "code",
   "execution_count": 2,
   "metadata": {
    "ExecuteTime": {
     "end_time": "2020-04-02T22:54:33.520489Z",
     "start_time": "2020-04-02T22:54:33.511114Z"
    }
   },
   "outputs": [],
   "source": [
    "file_path = p.RawDataPath\n",
    "thread = p.thread\n",
    "QC = p.QC\n",
    "# all parameter\n",
    "ref_fa = p.ref_fa\n",
    "annotation = p.gff\n",
    "gtf_anno = p.gtf\n",
    "# trimmomatic parameter\n",
    "trim = p.trim_reads\n",
    "trimmomatic = p.trimmomatic_path\n",
    "trim_batch = p.trim_jobs_per_batch\n",
    "adapter = p.adapter\n",
    "# star parameter\n",
    "star_batch = p.star_jobs_per_batch\n",
    "db_path = p.STAR_index_path\n",
    "# htseq parameter\n",
    "htseq_anno_source = p.htseq_anno_source\n",
    "strand = p.strand_specific\n",
    "id_name = p.id_name\n",
    "\n",
    "contact = p.contact"
   ]
  },
  {
   "cell_type": "markdown",
   "metadata": {},
   "source": [
    "## Make directories"
   ]
  },
  {
   "cell_type": "code",
   "execution_count": 3,
   "metadata": {
    "ExecuteTime": {
     "end_time": "2020-04-02T22:54:33.531773Z",
     "start_time": "2020-04-02T22:54:33.524293Z"
    }
   },
   "outputs": [],
   "source": [
    "qc_dir = join(file_path,\"QC\")\n",
    "multiqc_dir = join(file_path,\"multiqc\")\n",
    "\n",
    "trim_qc_dir = join(file_path,\"trim_QC\")\n",
    "trim_multiqc_dir = join(file_path,\"trim_multiqc\")\n",
    "\n",
    "bam_dir = join(file_path, \"sortBam\")\n",
    "ht_reverse_dir = join(file_path, 'htseq_rev')"
   ]
  },
  {
   "cell_type": "code",
   "execution_count": 4,
   "metadata": {
    "ExecuteTime": {
     "end_time": "2020-04-02T22:54:33.548513Z",
     "start_time": "2020-04-02T22:54:33.534675Z"
    }
   },
   "outputs": [],
   "source": [
    "# \n",
    "if not os.path.exists(ht_reverse_dir):\n",
    "    os.mkdir(ht_reverse_dir)"
   ]
  },
  {
   "cell_type": "markdown",
   "metadata": {},
   "source": [
    "## Run HTseq with strand reverse"
   ]
  },
  {
   "cell_type": "code",
   "execution_count": 5,
   "metadata": {
    "ExecuteTime": {
     "end_time": "2020-04-02T22:54:33.694007Z",
     "start_time": "2020-04-02T22:54:33.551392Z"
    }
   },
   "outputs": [
    {
     "name": "stdout",
     "output_type": "stream",
     "text": [
      "/data2/resources/software/homer/v4.11_10242019/bin//homer\r\n"
     ]
    }
   ],
   "source": [
    "import os\n",
    "import glob\n",
    "homer_path =  \"/data2/resources/software/homer/v4.11_10242019/bin/\"\n",
    "os.environ['PATH'] = f\"{homer_path}:{os.environ['PATH']}\"\n",
    "!which homer"
   ]
  },
  {
   "cell_type": "code",
   "execution_count": null,
   "metadata": {
    "ExecuteTime": {
     "start_time": "2020-04-02T22:54:32.620Z"
    },
    "scrolled": true
   },
   "outputs": [
    {
     "name": "stdout",
     "output_type": "stream",
     "text": [
      "/data/isshamie/TSS/NCBI_PICR_103_Processed/RNAseq/sortBam/NL4_Lung_S4_L006_R1_001.fastq.sort.bam\n",
      "Lung_S4\n",
      "htseq-count -f bam -s reverse -t exon -i gene /data/isshamie/TSS/NCBI_PICR_103_Processed/RNAseq/sortBam/NL4_Lung_S4_L006_R1_001.fastq.sort.bam /data/isshamie/genome/ncbi_anno_103/alt_CriGri-PICR_top_level.gff3 > /data/isshamie/TSS/NCBI_PICR_103_Processed/RNAseq/htseq_rev/Lung_S4.count.txt\n"
     ]
    }
   ],
   "source": [
    "for bam_f in glob.glob(bam_dir+\"/*bam\"):\n",
    "    print(bam_f)\n",
    "    sid = \"_\".join(basename(bam_f).split(\"_\")[1:3])\n",
    "    print(sid)\n",
    "    #NL9_Kidney_S9_L006_R1_001.fastq.sort\n",
    "    cmd = f\"htseq-count -f bam -s reverse -t exon -i gene {bam_f} {annotation} > {join(ht_reverse_dir, sid +'.count.txt')}\"\n",
    "    print(cmd)\n",
    "    os.system(cmd)"
   ]
  },
  {
   "cell_type": "code",
   "execution_count": null,
   "metadata": {},
   "outputs": [],
   "source": []
  },
  {
   "cell_type": "code",
   "execution_count": null,
   "metadata": {},
   "outputs": [],
   "source": []
  },
  {
   "cell_type": "code",
   "execution_count": null,
   "metadata": {},
   "outputs": [],
   "source": []
  },
  {
   "cell_type": "code",
   "execution_count": 12,
   "metadata": {
    "ExecuteTime": {
     "end_time": "2020-04-02T19:29:49.232439Z",
     "start_time": "2020-04-02T19:29:49.221669Z"
    },
    "scrolled": true
   },
   "outputs": [
    {
     "name": "stdout",
     "output_type": "stream",
     "text": [
      "/data/isshamie/TSS/NCBI_PICR_103_Processed/RNAseq/bam/NL3_Spleen_S3_L006_R1_001.fastq.bam\n",
      "Brain7\n",
      "makeTagDirectory /data/isshamie/TSS/NCBI_PICR_103_Processed/RNAseq/tags/Brain7 /data/isshamie/TSS/NCBI_PICR_103_Processed/RNAseq/bam/NL3_Spleen_S3_L006_R1_001.fastq.bam -sspe -unique\n",
      "/data/isshamie/TSS/NCBI_PICR_103_Processed/RNAseq/bam/NL1_Pancreas_S1_L006_R1_001.fastq.bam\n",
      "Brain7\n",
      "makeTagDirectory /data/isshamie/TSS/NCBI_PICR_103_Processed/RNAseq/tags/Brain7 /data/isshamie/TSS/NCBI_PICR_103_Processed/RNAseq/bam/NL1_Pancreas_S1_L006_R1_001.fastq.bam -sspe -unique\n",
      "/data/isshamie/TSS/NCBI_PICR_103_Processed/RNAseq/bam/NL2_ReproductiveTract_S2_L006_R1_001.fastq.bam\n",
      "Brain7\n",
      "makeTagDirectory /data/isshamie/TSS/NCBI_PICR_103_Processed/RNAseq/tags/Brain7 /data/isshamie/TSS/NCBI_PICR_103_Processed/RNAseq/bam/NL2_ReproductiveTract_S2_L006_R1_001.fastq.bam -sspe -unique\n",
      "/data/isshamie/TSS/NCBI_PICR_103_Processed/RNAseq/bam/NL5_Liver_S5_L006_R1_001.fastq.bam\n",
      "Brain7\n",
      "makeTagDirectory /data/isshamie/TSS/NCBI_PICR_103_Processed/RNAseq/tags/Brain7 /data/isshamie/TSS/NCBI_PICR_103_Processed/RNAseq/bam/NL5_Liver_S5_L006_R1_001.fastq.bam -sspe -unique\n",
      "/data/isshamie/TSS/NCBI_PICR_103_Processed/RNAseq/bam/NL4_Lung_S4_L006_R1_001.fastq.bam\n",
      "Brain7\n",
      "makeTagDirectory /data/isshamie/TSS/NCBI_PICR_103_Processed/RNAseq/tags/Brain7 /data/isshamie/TSS/NCBI_PICR_103_Processed/RNAseq/bam/NL4_Lung_S4_L006_R1_001.fastq.bam -sspe -unique\n",
      "/data/isshamie/TSS/NCBI_PICR_103_Processed/RNAseq/bam/NL6_Heart_S6_L006_R1_001.fastq.bam\n",
      "Brain7\n",
      "makeTagDirectory /data/isshamie/TSS/NCBI_PICR_103_Processed/RNAseq/tags/Brain7 /data/isshamie/TSS/NCBI_PICR_103_Processed/RNAseq/bam/NL6_Heart_S6_L006_R1_001.fastq.bam -sspe -unique\n",
      "/data/isshamie/TSS/NCBI_PICR_103_Processed/RNAseq/bam/NL7_Brain2_S7_L006_R1_001.fastq.bamAligned.out.bam\n",
      "Brain7\n",
      "makeTagDirectory /data/isshamie/TSS/NCBI_PICR_103_Processed/RNAseq/tags/Brain7 /data/isshamie/TSS/NCBI_PICR_103_Processed/RNAseq/bam/NL7_Brain2_S7_L006_R1_001.fastq.bamAligned.out.bam -sspe -unique\n",
      "/data/isshamie/TSS/NCBI_PICR_103_Processed/RNAseq/bam/NL8_Muscle_S8_L006_R1_001.fastq.bamAligned.out.bam\n",
      "Brain7\n",
      "makeTagDirectory /data/isshamie/TSS/NCBI_PICR_103_Processed/RNAseq/tags/Brain7 /data/isshamie/TSS/NCBI_PICR_103_Processed/RNAseq/bam/NL8_Muscle_S8_L006_R1_001.fastq.bamAligned.out.bam -sspe -unique\n",
      "/data/isshamie/TSS/NCBI_PICR_103_Processed/RNAseq/bam/NL11_Brain7-1_S11_L006_R1_001.fastq.bam\n",
      "Brain7\n",
      "makeTagDirectory /data/isshamie/TSS/NCBI_PICR_103_Processed/RNAseq/tags/Brain7 /data/isshamie/TSS/NCBI_PICR_103_Processed/RNAseq/bam/NL11_Brain7-1_S11_L006_R1_001.fastq.bam -sspe -unique\n",
      "/data/isshamie/TSS/NCBI_PICR_103_Processed/RNAseq/bam/NL10_Misc_S10_L006_R1_001.fastq.bam\n",
      "Brain7\n",
      "makeTagDirectory /data/isshamie/TSS/NCBI_PICR_103_Processed/RNAseq/tags/Brain7 /data/isshamie/TSS/NCBI_PICR_103_Processed/RNAseq/bam/NL10_Misc_S10_L006_R1_001.fastq.bam -sspe -unique\n"
     ]
    }
   ],
   "source": [
    "# for curr in glob.glob(bam_dir+'/*.bam'):\n",
    "#     print(curr)\n",
    "#     sample_id = basename(pair[0]).replace('.fastq',\"\").replace(\".gz\",\"\")\n",
    "#     sample_id = \"_\".join(sample_id.split(\"_\")[1:3])\n",
    "#     sample_id = sample_id.split(\"-\")[0]\n",
    "#     print(sample_id)\n",
    "#     md_bam_file = join(bam_dir,sample_id)\n",
    "    \n",
    "\n",
    "#     cmd = f'makeTagDirectory {join(tag_dir,sample_id) } {curr} read2' #'-sspe -unique'\n",
    "#     print(cmd)"
   ]
  },
  {
   "cell_type": "code",
   "execution_count": null,
   "metadata": {},
   "outputs": [],
   "source": []
  }
 ],
 "metadata": {
  "kernelspec": {
   "display_name": "Python 3",
   "language": "python",
   "name": "python3"
  },
  "language_info": {
   "codemirror_mode": {
    "name": "ipython",
    "version": 3
   },
   "file_extension": ".py",
   "mimetype": "text/x-python",
   "name": "python",
   "nbconvert_exporter": "python",
   "pygments_lexer": "ipython3",
   "version": "3.7.3"
  }
 },
 "nbformat": 4,
 "nbformat_minor": 2
}
