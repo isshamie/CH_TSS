{
 "cells": [
  {
   "cell_type": "markdown",
   "metadata": {},
   "source": [
    "## Load parameters"
   ]
  },
  {
   "cell_type": "code",
   "execution_count": 1,
   "metadata": {
    "ExecuteTime": {
     "end_time": "2020-04-06T22:50:55.631712Z",
     "start_time": "2020-04-06T22:50:53.896633Z"
    },
    "scrolled": false
   },
   "outputs": [
    {
     "name": "stdout",
     "output_type": "stream",
     "text": [
      "{'contact': 'ishamie14@gmail.com', 'RawDataPath': '/data/isshamie/TSS/NCBI_PICR_103_Processed/RNAseq/', 'NGS_folder': '/home/isshamie/software/NGS-Pipeline', 'thread': 8, 'ref_fa': '/data/isshamie/genome/ncbi_anno_103/GCF_003668045.1_CriGri-PICR_genomic.fna', 'gff': '/data/isshamie/genome/ncbi_anno_103/alt_CriGri-PICR_top_level.gff3', 'annotation': '/data/isshamie/genome/ncbi_anno_103/alt_CriGri-PICR_top_level.gff3', 'gtf': '/data/isshamie/genome/ncbi_anno_103/alt_CriGri-PICR_top_level.gtf', 'QC': False, 'trim_reads': False, 'trimmomatic_path': '/home/shangzhong/Installation/Trimmomatic-0.32/Trimmomatic-0.33/trimmomatic-0.33.jar', 'trim_jobs_per_batch': 6, 'adapter': '', 'picard': '/home/shangzhong/Installation/picard-tools-1.141/picard.jar', 'star_jobs_per_batch': 2, 'star_index_path': '/data/isshamie/genome/ncbi_anno_103/CriGri-PICR_STAR_db', 'STAR_index_path': '/data/isshamie/genome/ncbi_anno_103/CriGri-PICR_STAR_db', 'star_pass': 2, 'star_params': [], 'htseq_anno_source': 'ncbi', 'strand_specific': 'reverse', 'id_name': 'id'}\n"
     ]
    },
    {
     "name": "stderr",
     "output_type": "stream",
     "text": [
      "/home/isshamie/software/anaconda2/envs/TSS/lib/python3.7/site-packages/ipykernel_launcher.py:12: YAMLLoadWarning: calling yaml.load() without Loader=... is deprecated, as the default Loader is unsafe. Please read https://msg.pyyaml.org/load for full details.\n",
      "  if sys.path[0] == '':\n"
     ]
    },
    {
     "data": {
      "text/plain": [
       "<f01_file_process.dic2obj at 0x7f93b22b6da0>"
      ]
     },
     "execution_count": 1,
     "metadata": {},
     "output_type": "execute_result"
    }
   ],
   "source": [
    "parameter_file = '../parameters/STAR_get_bam.yaml'\n",
    "\n",
    "import yaml\n",
    "import sys\n",
    "import glob\n",
    "import os\n",
    "import seaborn as sns\n",
    "from os.path import join, basename\n",
    "import pandas as pd\n",
    "import matplotlib.pyplot as plt\n",
    "with open(parameter_file,'r') as f:\n",
    "    doc = yaml.load(f)\n",
    "\n",
    "print(doc)\n",
    "\n",
    "sys.path.append(doc[\"NGS_folder\"])\n",
    "sys.path.append(os.path.join(doc[\"NGS_folder\"],'Modules'))\n",
    "from f01_file_process import *\n",
    "p = dic2obj(**doc)\n",
    "p\n"
   ]
  },
  {
   "cell_type": "code",
   "execution_count": 2,
   "metadata": {
    "ExecuteTime": {
     "end_time": "2020-04-06T22:50:55.638773Z",
     "start_time": "2020-04-06T22:50:55.633647Z"
    }
   },
   "outputs": [],
   "source": [
    "file_path = p.RawDataPath\n",
    "thread = p.thread\n",
    "QC = p.QC\n",
    "# all parameter\n",
    "ref_fa = p.ref_fa\n",
    "annotation = p.gff\n",
    "gtf_anno = p.gtf\n",
    "# trimmomatic parameter\n",
    "trim = p.trim_reads\n",
    "trimmomatic = p.trimmomatic_path\n",
    "trim_batch = p.trim_jobs_per_batch\n",
    "adapter = p.adapter\n",
    "# star parameter\n",
    "star_batch = p.star_jobs_per_batch\n",
    "db_path = p.STAR_index_path\n",
    "# htseq parameter\n",
    "htseq_anno_source = p.htseq_anno_source\n",
    "strand = p.strand_specific\n",
    "id_name = p.id_name\n",
    "\n",
    "contact = p.contact"
   ]
  },
  {
   "cell_type": "markdown",
   "metadata": {},
   "source": [
    "## Make directories"
   ]
  },
  {
   "cell_type": "code",
   "execution_count": 3,
   "metadata": {
    "ExecuteTime": {
     "end_time": "2020-04-06T22:50:55.768466Z",
     "start_time": "2020-04-06T22:50:55.640891Z"
    }
   },
   "outputs": [
    {
     "name": "stdout",
     "output_type": "stream",
     "text": [
      "/home/isshamie/software/homer/bin/homer\r\n"
     ]
    }
   ],
   "source": [
    "import os\n",
    "import glob\n",
    "homer_path =  \"/data2/resources/software/homer/v4.11_10242019/bin/\"\n",
    "os.environ['PATH'] = f\"{homer_path}:{os.environ['PATH']}\"\n",
    "!which homer"
   ]
  },
  {
   "cell_type": "code",
   "execution_count": 4,
   "metadata": {
    "ExecuteTime": {
     "end_time": "2020-04-06T22:50:55.782745Z",
     "start_time": "2020-04-06T22:50:55.774099Z"
    }
   },
   "outputs": [],
   "source": [
    "file_path = p.RawDataPath\n",
    "thread = p.thread\n",
    "QC = p.QC\n",
    "# all parameter\n",
    "ref_fa = p.ref_fa\n",
    "annotation = p.gff\n",
    "gtf_anno = p.gtf\n",
    "# trimmomatic parameter\n",
    "trim = p.trim_reads\n",
    "trimmomatic = p.trimmomatic_path\n",
    "trim_batch = p.trim_jobs_per_batch\n",
    "adapter = p.adapter\n",
    "# star parameter\n",
    "star_batch = p.star_jobs_per_batch\n",
    "db_path = p.STAR_index_path\n",
    "# htseq parameter\n",
    "htseq_anno_source = p.htseq_anno_source\n",
    "strand = p.strand_specific\n",
    "id_name = p.id_name\n",
    "\n",
    "contact = p.contact"
   ]
  },
  {
   "cell_type": "markdown",
   "metadata": {},
   "source": [
    "##  Directories"
   ]
  },
  {
   "cell_type": "code",
   "execution_count": 5,
   "metadata": {
    "ExecuteTime": {
     "end_time": "2020-04-06T22:50:55.792497Z",
     "start_time": "2020-04-06T22:50:55.784469Z"
    }
   },
   "outputs": [],
   "source": [
    "qc_dir = join(file_path,\"QC\")\n",
    "multiqc_dir = join(file_path,\"multiqc\")\n",
    "\n",
    "trim_qc_dir = join(file_path,\"trim_QC\")\n",
    "trim_multiqc_dir = join(file_path,\"trim_multiqc\")\n",
    "\n",
    "bam_dir = join(file_path, \"sortBam\")\n",
    "ht_dir = join(file_path, 'htseq')\n",
    "ht_reverse_dir = join(file_path, 'htseq_rev')\n",
    "RNA_SeQC = join(file_path,'RNA_SeQC')"
   ]
  },
  {
   "cell_type": "markdown",
   "metadata": {},
   "source": [
    "## Load HTseq results: strand normal"
   ]
  },
  {
   "cell_type": "code",
   "execution_count": 11,
   "metadata": {
    "ExecuteTime": {
     "end_time": "2020-04-06T22:52:08.630014Z",
     "start_time": "2020-04-06T22:52:08.624848Z"
    }
   },
   "outputs": [],
   "source": [
    "import numpy as np"
   ]
  },
  {
   "cell_type": "code",
   "execution_count": 15,
   "metadata": {
    "ExecuteTime": {
     "end_time": "2020-04-06T22:53:18.416402Z",
     "start_time": "2020-04-06T22:53:12.672114Z"
    },
    "scrolled": true
   },
   "outputs": [
    {
     "name": "stdout",
     "output_type": "stream",
     "text": [
      "/data/isshamie/TSS/NCBI_PICR_103_Processed/RNAseq/sortBam/NL4_Lung_S4_L006_R1_001.fastq.sort.bam\n",
      "Lung_S4\n"
     ]
    },
    {
     "name": "stderr",
     "output_type": "stream",
     "text": [
      "/home/isshamie/software/anaconda2/envs/TSS/lib/python3.7/site-packages/ipykernel_launcher.py:20: FutureWarning: Sorting because non-concatenation axis is not aligned. A future version\n",
      "of pandas will change to not sort by default.\n",
      "\n",
      "To accept the future behavior, pass 'sort=False'.\n",
      "\n",
      "To retain the current behavior and silence the warning, pass 'sort=True'.\n",
      "\n"
     ]
    },
    {
     "name": "stdout",
     "output_type": "stream",
     "text": [
      "/data/isshamie/TSS/NCBI_PICR_103_Processed/RNAseq/sortBam/NL7_Brain2_S7_L006_R1_001.fastq.sort.bam\n",
      "Brain2_S7\n",
      "/data/isshamie/TSS/NCBI_PICR_103_Processed/RNAseq/sortBam/NL6_Heart_S6_L006_R1_001.fastq.sort.bam\n",
      "Heart_S6\n",
      "/data/isshamie/TSS/NCBI_PICR_103_Processed/RNAseq/sortBam/NL10_Misc_S10_L006_R1_001.fastq.sort.bam\n",
      "Misc_S10\n",
      "/data/isshamie/TSS/NCBI_PICR_103_Processed/RNAseq/sortBam/NL3_Spleen_S3_L006_R1_001.fastq.sort.bam\n",
      "Spleen_S3\n",
      "/data/isshamie/TSS/NCBI_PICR_103_Processed/RNAseq/sortBam/NL8_Muscle_S8_L006_R1_001.fastq.sort.bam\n",
      "Muscle_S8\n",
      "/data/isshamie/TSS/NCBI_PICR_103_Processed/RNAseq/sortBam/NL11_Brain7-1_S11_L006_R1_001.fastq.sort.bam\n",
      "Brain7-1_S11\n",
      "/data/isshamie/TSS/NCBI_PICR_103_Processed/RNAseq/sortBam/NL1_Pancreas_S1_L006_R1_001.fastq.sort.bam\n",
      "Pancreas_S1\n",
      "/data/isshamie/TSS/NCBI_PICR_103_Processed/RNAseq/sortBam/NL2_ReproductiveTract_S2_L006_R1_001.fastq.sort.bam\n",
      "ReproductiveTract_S2\n",
      "/data/isshamie/TSS/NCBI_PICR_103_Processed/RNAseq/sortBam/NL9_Kidney_S9_L006_R1_001.fastq.sort.bam\n",
      "Kidney_S9\n",
      "/data/isshamie/TSS/NCBI_PICR_103_Processed/RNAseq/sortBam/NL5_Liver_S5_L006_R1_001.fastq.sort.bam\n",
      "Liver_S5\n"
     ]
    },
    {
     "data": {
      "image/png": "[encoded data removed]",
      "text/plain": [
       "<Figure size 432x288 with 1 Axes>"
      ]
     },
     "metadata": {
      "needs_background": "light"
     },
     "output_type": "display_data"
    },
    {
     "data": {
      "image/png": "[encoded data removed]",
      "text/plain": [
       "<Figure size 432x288 with 1 Axes>"
      ]
     },
     "metadata": {
      "needs_background": "light"
     },
     "output_type": "display_data"
    },
    {
     "data": {
      "image/png": "[encoded data removed]",
      "text/plain": [
       "<Figure size 432x288 with 1 Axes>"
      ]
     },
     "metadata": {
      "needs_background": "light"
     },
     "output_type": "display_data"
    },
    {
     "data": {
      "image/png": "[encoded data removed]",
      "text/plain": [
       "<Figure size 432x288 with 1 Axes>"
      ]
     },
     "metadata": {
      "needs_background": "light"
     },
     "output_type": "display_data"
    },
    {
     "data": {
      "image/png": "[encoded data removed]",
      "text/plain": [
       "<Figure size 432x288 with 1 Axes>"
      ]
     },
     "metadata": {
      "needs_background": "light"
     },
     "output_type": "display_data"
    },
    {
     "data": {
      "image/png": "[encoded data removed]",
      "text/plain": [
       "<Figure size 432x288 with 1 Axes>"
      ]
     },
     "metadata": {
      "needs_background": "light"
     },
     "output_type": "display_data"
    },
    {
     "data": {
      "image/png": "[encoded data removed]",
      "text/plain": [
       "<Figure size 432x288 with 1 Axes>"
      ]
     },
     "metadata": {
      "needs_background": "light"
     },
     "output_type": "display_data"
    },
    {
     "data": {
      "image/png": "[encoded data removed]",
      "text/plain": [
       "<Figure size 432x288 with 1 Axes>"
      ]
     },
     "metadata": {
      "needs_background": "light"
     },
     "output_type": "display_data"
    },
    {
     "data": {
      "image/png": "[encoded data removed]",
      "text/plain": [
       "<Figure size 432x288 with 1 Axes>"
      ]
     },
     "metadata": {
      "needs_background": "light"
     },
     "output_type": "display_data"
    },
    {
     "data": {
      "image/png": "[encoded data removed]",
      "text/plain": [
       "<Figure size 432x288 with 1 Axes>"
      ]
     },
     "metadata": {
      "needs_background": "light"
     },
     "output_type": "display_data"
    },
    {
     "data": {
      "image/png": "[encoded data removed]",
      "text/plain": [
       "<Figure size 432x288 with 1 Axes>"
      ]
     },
     "metadata": {
      "needs_background": "light"
     },
     "output_type": "display_data"
    }
   ],
   "source": [
    "all_df = pd.DataFrame()\n",
    "\n",
    "\n",
    "for bam_f in glob.glob(bam_dir+\"/*bam\"):\n",
    "    print(bam_f)\n",
    "    sid = \"_\".join(basename(bam_f).split(\"_\")[1:3])\n",
    "    print(sid)\n",
    "    #NL9_Kidney_S9_L006_R1_001.fastq.sort\n",
    "    count_rev_f = join(ht_reverse_dir, sid +'.count.txt')\n",
    "    count_f = join(ht_dir,basename(bam_f).replace(\".bam\", \".count.txt\"))\n",
    "    df = pd.read_csv(count_f,sep=\"\\t\", header=None, index_col=0)\n",
    "    df = df[~(df.index.str.contains(\"_\"))]\n",
    "    df.columns = [sid + \" Count\"]\n",
    "    \n",
    "    df_rev = pd.read_csv(count_rev_f,sep=\"\\t\", header=None, index_col=0)\n",
    "    df_rev = df_rev[~(df_rev.index.str.contains(\"_\"))]\n",
    "    df_rev.columns = [sid + \" Count Reverse\"]\n",
    "    df\n",
    "    \n",
    "    all_df = pd.concat((all_df,df,df_rev), axis=1)\n",
    "    #cmd = f\"htseq-count -f bam -s reverse -t exon -i gene {bam_f} {annotation} > {join(ht_reverse_dir, sid +'.count.txt')}\"\n",
    "    #print(cmd)\n",
    "    f = plt.figure()\n",
    "    sns.distplot(np.log2(df+1))\n",
    "    sns.distplot(np.log2(df_rev+1), color='g')\n",
    "    plt.legend([\"HT\", \"Reverse ht\"])"
   ]
  },
  {
   "cell_type": "code",
   "execution_count": 16,
   "metadata": {
    "ExecuteTime": {
     "end_time": "2020-04-06T23:53:21.320431Z",
     "start_time": "2020-04-06T23:53:21.313596Z"
    }
   },
   "outputs": [
    {
     "data": {
      "text/plain": [
       "(59732, 22)"
      ]
     },
     "execution_count": 16,
     "metadata": {},
     "output_type": "execute_result"
    }
   ],
   "source": [
    "all_df.shape"
   ]
  },
  {
   "cell_type": "code",
   "execution_count": 17,
   "metadata": {
    "ExecuteTime": {
     "end_time": "2020-04-06T23:53:24.133878Z",
     "start_time": "2020-04-06T23:53:24.069070Z"
    }
   },
   "outputs": [
    {
     "data": {
      "text/html": [
       "<div>\n",
       "<style scoped>\n",
       "    .dataframe tbody tr th:only-of-type {\n",
       "        vertical-align: middle;\n",
       "    }\n",
       "\n",
       "    .dataframe tbody tr th {\n",
       "        vertical-align: top;\n",
       "    }\n",
       "\n",
       "    .dataframe thead th {\n",
       "        text-align: right;\n",
       "    }\n",
       "</style>\n",
       "<table border=\"1\" class=\"dataframe\">\n",
       "  <thead>\n",
       "    <tr style=\"text-align: right;\">\n",
       "      <th></th>\n",
       "      <th>Lung_S4 Count</th>\n",
       "      <th>Lung_S4 Count Reverse</th>\n",
       "      <th>Brain2_S7 Count</th>\n",
       "      <th>Brain2_S7 Count Reverse</th>\n",
       "      <th>Heart_S6 Count</th>\n",
       "      <th>Heart_S6 Count Reverse</th>\n",
       "      <th>Misc_S10 Count</th>\n",
       "      <th>Misc_S10 Count Reverse</th>\n",
       "      <th>Spleen_S3 Count</th>\n",
       "      <th>Spleen_S3 Count Reverse</th>\n",
       "      <th>...</th>\n",
       "      <th>Brain7-1_S11 Count</th>\n",
       "      <th>Brain7-1_S11 Count Reverse</th>\n",
       "      <th>Pancreas_S1 Count</th>\n",
       "      <th>Pancreas_S1 Count Reverse</th>\n",
       "      <th>ReproductiveTract_S2 Count</th>\n",
       "      <th>ReproductiveTract_S2 Count Reverse</th>\n",
       "      <th>Kidney_S9 Count</th>\n",
       "      <th>Kidney_S9 Count Reverse</th>\n",
       "      <th>Liver_S5 Count</th>\n",
       "      <th>Liver_S5 Count Reverse</th>\n",
       "    </tr>\n",
       "  </thead>\n",
       "  <tbody>\n",
       "    <tr>\n",
       "      <td>100682525</td>\n",
       "      <td>0.0</td>\n",
       "      <td>NaN</td>\n",
       "      <td>0.0</td>\n",
       "      <td>NaN</td>\n",
       "      <td>2.0</td>\n",
       "      <td>NaN</td>\n",
       "      <td>0.0</td>\n",
       "      <td>NaN</td>\n",
       "      <td>0.0</td>\n",
       "      <td>NaN</td>\n",
       "      <td>...</td>\n",
       "      <td>0.0</td>\n",
       "      <td>NaN</td>\n",
       "      <td>0.0</td>\n",
       "      <td>NaN</td>\n",
       "      <td>0.0</td>\n",
       "      <td>NaN</td>\n",
       "      <td>0.0</td>\n",
       "      <td>NaN</td>\n",
       "      <td>0.0</td>\n",
       "      <td>NaN</td>\n",
       "    </tr>\n",
       "    <tr>\n",
       "      <td>100682526</td>\n",
       "      <td>0.0</td>\n",
       "      <td>NaN</td>\n",
       "      <td>0.0</td>\n",
       "      <td>NaN</td>\n",
       "      <td>0.0</td>\n",
       "      <td>NaN</td>\n",
       "      <td>0.0</td>\n",
       "      <td>NaN</td>\n",
       "      <td>0.0</td>\n",
       "      <td>NaN</td>\n",
       "      <td>...</td>\n",
       "      <td>0.0</td>\n",
       "      <td>NaN</td>\n",
       "      <td>0.0</td>\n",
       "      <td>NaN</td>\n",
       "      <td>0.0</td>\n",
       "      <td>NaN</td>\n",
       "      <td>0.0</td>\n",
       "      <td>NaN</td>\n",
       "      <td>1.0</td>\n",
       "      <td>NaN</td>\n",
       "    </tr>\n",
       "    <tr>\n",
       "      <td>100682527</td>\n",
       "      <td>39.0</td>\n",
       "      <td>NaN</td>\n",
       "      <td>19.0</td>\n",
       "      <td>NaN</td>\n",
       "      <td>9.0</td>\n",
       "      <td>NaN</td>\n",
       "      <td>18.0</td>\n",
       "      <td>NaN</td>\n",
       "      <td>18.0</td>\n",
       "      <td>NaN</td>\n",
       "      <td>...</td>\n",
       "      <td>29.0</td>\n",
       "      <td>NaN</td>\n",
       "      <td>0.0</td>\n",
       "      <td>NaN</td>\n",
       "      <td>31.0</td>\n",
       "      <td>NaN</td>\n",
       "      <td>17.0</td>\n",
       "      <td>NaN</td>\n",
       "      <td>0.0</td>\n",
       "      <td>NaN</td>\n",
       "    </tr>\n",
       "    <tr>\n",
       "      <td>100682528</td>\n",
       "      <td>0.0</td>\n",
       "      <td>NaN</td>\n",
       "      <td>9.0</td>\n",
       "      <td>NaN</td>\n",
       "      <td>0.0</td>\n",
       "      <td>NaN</td>\n",
       "      <td>2.0</td>\n",
       "      <td>NaN</td>\n",
       "      <td>4.0</td>\n",
       "      <td>NaN</td>\n",
       "      <td>...</td>\n",
       "      <td>0.0</td>\n",
       "      <td>NaN</td>\n",
       "      <td>0.0</td>\n",
       "      <td>NaN</td>\n",
       "      <td>4.0</td>\n",
       "      <td>NaN</td>\n",
       "      <td>0.0</td>\n",
       "      <td>NaN</td>\n",
       "      <td>3.0</td>\n",
       "      <td>NaN</td>\n",
       "    </tr>\n",
       "    <tr>\n",
       "      <td>100682529</td>\n",
       "      <td>0.0</td>\n",
       "      <td>NaN</td>\n",
       "      <td>0.0</td>\n",
       "      <td>NaN</td>\n",
       "      <td>0.0</td>\n",
       "      <td>NaN</td>\n",
       "      <td>1.0</td>\n",
       "      <td>NaN</td>\n",
       "      <td>0.0</td>\n",
       "      <td>NaN</td>\n",
       "      <td>...</td>\n",
       "      <td>0.0</td>\n",
       "      <td>NaN</td>\n",
       "      <td>0.0</td>\n",
       "      <td>NaN</td>\n",
       "      <td>0.0</td>\n",
       "      <td>NaN</td>\n",
       "      <td>0.0</td>\n",
       "      <td>NaN</td>\n",
       "      <td>0.0</td>\n",
       "      <td>NaN</td>\n",
       "    </tr>\n",
       "    <tr>\n",
       "      <td>...</td>\n",
       "      <td>...</td>\n",
       "      <td>...</td>\n",
       "      <td>...</td>\n",
       "      <td>...</td>\n",
       "      <td>...</td>\n",
       "      <td>...</td>\n",
       "      <td>...</td>\n",
       "      <td>...</td>\n",
       "      <td>...</td>\n",
       "      <td>...</td>\n",
       "      <td>...</td>\n",
       "      <td>...</td>\n",
       "      <td>...</td>\n",
       "      <td>...</td>\n",
       "      <td>...</td>\n",
       "      <td>...</td>\n",
       "      <td>...</td>\n",
       "      <td>...</td>\n",
       "      <td>...</td>\n",
       "      <td>...</td>\n",
       "      <td>...</td>\n",
       "    </tr>\n",
       "    <tr>\n",
       "      <td>Zxdc</td>\n",
       "      <td>NaN</td>\n",
       "      <td>442.0</td>\n",
       "      <td>NaN</td>\n",
       "      <td>429.0</td>\n",
       "      <td>NaN</td>\n",
       "      <td>44.0</td>\n",
       "      <td>NaN</td>\n",
       "      <td>520.0</td>\n",
       "      <td>NaN</td>\n",
       "      <td>454.0</td>\n",
       "      <td>...</td>\n",
       "      <td>NaN</td>\n",
       "      <td>625.0</td>\n",
       "      <td>NaN</td>\n",
       "      <td>28.0</td>\n",
       "      <td>NaN</td>\n",
       "      <td>836.0</td>\n",
       "      <td>NaN</td>\n",
       "      <td>663.0</td>\n",
       "      <td>NaN</td>\n",
       "      <td>374.0</td>\n",
       "    </tr>\n",
       "    <tr>\n",
       "      <td>Zyg11b</td>\n",
       "      <td>NaN</td>\n",
       "      <td>555.0</td>\n",
       "      <td>NaN</td>\n",
       "      <td>3372.0</td>\n",
       "      <td>NaN</td>\n",
       "      <td>106.0</td>\n",
       "      <td>NaN</td>\n",
       "      <td>2033.0</td>\n",
       "      <td>NaN</td>\n",
       "      <td>671.0</td>\n",
       "      <td>...</td>\n",
       "      <td>NaN</td>\n",
       "      <td>995.0</td>\n",
       "      <td>NaN</td>\n",
       "      <td>32.0</td>\n",
       "      <td>NaN</td>\n",
       "      <td>1502.0</td>\n",
       "      <td>NaN</td>\n",
       "      <td>1572.0</td>\n",
       "      <td>NaN</td>\n",
       "      <td>1687.0</td>\n",
       "    </tr>\n",
       "    <tr>\n",
       "      <td>Zyx</td>\n",
       "      <td>NaN</td>\n",
       "      <td>1511.0</td>\n",
       "      <td>NaN</td>\n",
       "      <td>336.0</td>\n",
       "      <td>NaN</td>\n",
       "      <td>157.0</td>\n",
       "      <td>NaN</td>\n",
       "      <td>616.0</td>\n",
       "      <td>NaN</td>\n",
       "      <td>311.0</td>\n",
       "      <td>...</td>\n",
       "      <td>NaN</td>\n",
       "      <td>846.0</td>\n",
       "      <td>NaN</td>\n",
       "      <td>43.0</td>\n",
       "      <td>NaN</td>\n",
       "      <td>963.0</td>\n",
       "      <td>NaN</td>\n",
       "      <td>290.0</td>\n",
       "      <td>NaN</td>\n",
       "      <td>237.0</td>\n",
       "    </tr>\n",
       "    <tr>\n",
       "      <td>Zzef1</td>\n",
       "      <td>NaN</td>\n",
       "      <td>1919.0</td>\n",
       "      <td>NaN</td>\n",
       "      <td>1882.0</td>\n",
       "      <td>NaN</td>\n",
       "      <td>103.0</td>\n",
       "      <td>NaN</td>\n",
       "      <td>1574.0</td>\n",
       "      <td>NaN</td>\n",
       "      <td>3705.0</td>\n",
       "      <td>...</td>\n",
       "      <td>NaN</td>\n",
       "      <td>1872.0</td>\n",
       "      <td>NaN</td>\n",
       "      <td>100.0</td>\n",
       "      <td>NaN</td>\n",
       "      <td>2364.0</td>\n",
       "      <td>NaN</td>\n",
       "      <td>3006.0</td>\n",
       "      <td>NaN</td>\n",
       "      <td>1537.0</td>\n",
       "    </tr>\n",
       "    <tr>\n",
       "      <td>Zzz3</td>\n",
       "      <td>NaN</td>\n",
       "      <td>1101.0</td>\n",
       "      <td>NaN</td>\n",
       "      <td>1777.0</td>\n",
       "      <td>NaN</td>\n",
       "      <td>72.0</td>\n",
       "      <td>NaN</td>\n",
       "      <td>1060.0</td>\n",
       "      <td>NaN</td>\n",
       "      <td>1764.0</td>\n",
       "      <td>...</td>\n",
       "      <td>NaN</td>\n",
       "      <td>1325.0</td>\n",
       "      <td>NaN</td>\n",
       "      <td>47.0</td>\n",
       "      <td>NaN</td>\n",
       "      <td>1811.0</td>\n",
       "      <td>NaN</td>\n",
       "      <td>1759.0</td>\n",
       "      <td>NaN</td>\n",
       "      <td>575.0</td>\n",
       "    </tr>\n",
       "  </tbody>\n",
       "</table>\n",
       "<p>59732 rows × 22 columns</p>\n",
       "</div>"
      ],
      "text/plain": [
       "           Lung_S4 Count  Lung_S4 Count Reverse  Brain2_S7 Count  \\\n",
       "100682525            0.0                    NaN              0.0   \n",
       "100682526            0.0                    NaN              0.0   \n",
       "100682527           39.0                    NaN             19.0   \n",
       "100682528            0.0                    NaN              9.0   \n",
       "100682529            0.0                    NaN              0.0   \n",
       "...                  ...                    ...              ...   \n",
       "Zxdc                 NaN                  442.0              NaN   \n",
       "Zyg11b               NaN                  555.0              NaN   \n",
       "Zyx                  NaN                 1511.0              NaN   \n",
       "Zzef1                NaN                 1919.0              NaN   \n",
       "Zzz3                 NaN                 1101.0              NaN   \n",
       "\n",
       "           Brain2_S7 Count Reverse  Heart_S6 Count  Heart_S6 Count Reverse  \\\n",
       "100682525                      NaN             2.0                     NaN   \n",
       "100682526                      NaN             0.0                     NaN   \n",
       "100682527                      NaN             9.0                     NaN   \n",
       "100682528                      NaN             0.0                     NaN   \n",
       "100682529                      NaN             0.0                     NaN   \n",
       "...                            ...             ...                     ...   \n",
       "Zxdc                         429.0             NaN                    44.0   \n",
       "Zyg11b                      3372.0             NaN                   106.0   \n",
       "Zyx                          336.0             NaN                   157.0   \n",
       "Zzef1                       1882.0             NaN                   103.0   \n",
       "Zzz3                        1777.0             NaN                    72.0   \n",
       "\n",
       "           Misc_S10 Count  Misc_S10 Count Reverse  Spleen_S3 Count  \\\n",
       "100682525             0.0                     NaN              0.0   \n",
       "100682526             0.0                     NaN              0.0   \n",
       "100682527            18.0                     NaN             18.0   \n",
       "100682528             2.0                     NaN              4.0   \n",
       "100682529             1.0                     NaN              0.0   \n",
       "...                   ...                     ...              ...   \n",
       "Zxdc                  NaN                   520.0              NaN   \n",
       "Zyg11b                NaN                  2033.0              NaN   \n",
       "Zyx                   NaN                   616.0              NaN   \n",
       "Zzef1                 NaN                  1574.0              NaN   \n",
       "Zzz3                  NaN                  1060.0              NaN   \n",
       "\n",
       "           Spleen_S3 Count Reverse  ...  Brain7-1_S11 Count  \\\n",
       "100682525                      NaN  ...                 0.0   \n",
       "100682526                      NaN  ...                 0.0   \n",
       "100682527                      NaN  ...                29.0   \n",
       "100682528                      NaN  ...                 0.0   \n",
       "100682529                      NaN  ...                 0.0   \n",
       "...                            ...  ...                 ...   \n",
       "Zxdc                         454.0  ...                 NaN   \n",
       "Zyg11b                       671.0  ...                 NaN   \n",
       "Zyx                          311.0  ...                 NaN   \n",
       "Zzef1                       3705.0  ...                 NaN   \n",
       "Zzz3                        1764.0  ...                 NaN   \n",
       "\n",
       "           Brain7-1_S11 Count Reverse  Pancreas_S1 Count  \\\n",
       "100682525                         NaN                0.0   \n",
       "100682526                         NaN                0.0   \n",
       "100682527                         NaN                0.0   \n",
       "100682528                         NaN                0.0   \n",
       "100682529                         NaN                0.0   \n",
       "...                               ...                ...   \n",
       "Zxdc                            625.0                NaN   \n",
       "Zyg11b                          995.0                NaN   \n",
       "Zyx                             846.0                NaN   \n",
       "Zzef1                          1872.0                NaN   \n",
       "Zzz3                           1325.0                NaN   \n",
       "\n",
       "           Pancreas_S1 Count Reverse  ReproductiveTract_S2 Count  \\\n",
       "100682525                        NaN                         0.0   \n",
       "100682526                        NaN                         0.0   \n",
       "100682527                        NaN                        31.0   \n",
       "100682528                        NaN                         4.0   \n",
       "100682529                        NaN                         0.0   \n",
       "...                              ...                         ...   \n",
       "Zxdc                            28.0                         NaN   \n",
       "Zyg11b                          32.0                         NaN   \n",
       "Zyx                             43.0                         NaN   \n",
       "Zzef1                          100.0                         NaN   \n",
       "Zzz3                            47.0                         NaN   \n",
       "\n",
       "           ReproductiveTract_S2 Count Reverse  Kidney_S9 Count  \\\n",
       "100682525                                 NaN              0.0   \n",
       "100682526                                 NaN              0.0   \n",
       "100682527                                 NaN             17.0   \n",
       "100682528                                 NaN              0.0   \n",
       "100682529                                 NaN              0.0   \n",
       "...                                       ...              ...   \n",
       "Zxdc                                    836.0              NaN   \n",
       "Zyg11b                                 1502.0              NaN   \n",
       "Zyx                                     963.0              NaN   \n",
       "Zzef1                                  2364.0              NaN   \n",
       "Zzz3                                   1811.0              NaN   \n",
       "\n",
       "           Kidney_S9 Count Reverse  Liver_S5 Count  Liver_S5 Count Reverse  \n",
       "100682525                      NaN             0.0                     NaN  \n",
       "100682526                      NaN             1.0                     NaN  \n",
       "100682527                      NaN             0.0                     NaN  \n",
       "100682528                      NaN             3.0                     NaN  \n",
       "100682529                      NaN             0.0                     NaN  \n",
       "...                            ...             ...                     ...  \n",
       "Zxdc                         663.0             NaN                   374.0  \n",
       "Zyg11b                      1572.0             NaN                  1687.0  \n",
       "Zyx                          290.0             NaN                   237.0  \n",
       "Zzef1                       3006.0             NaN                  1537.0  \n",
       "Zzz3                        1759.0             NaN                   575.0  \n",
       "\n",
       "[59732 rows x 22 columns]"
      ]
     },
     "execution_count": 17,
     "metadata": {},
     "output_type": "execute_result"
    }
   ],
   "source": [
    "all_df"
   ]
  },
  {
   "cell_type": "markdown",
   "metadata": {},
   "source": [
    "## Reverse seems to be the correct way to do it"
   ]
  },
  {
   "cell_type": "code",
   "execution_count": 18,
   "metadata": {
    "ExecuteTime": {
     "end_time": "2020-04-06T23:54:25.823996Z",
     "start_time": "2020-04-06T23:54:25.417888Z"
    }
   },
   "outputs": [
    {
     "name": "stdout",
     "output_type": "stream",
     "text": [
      "/data/isshamie/TSS/NCBI_PICR_103_Processed/RNAseq/sortBam/NL4_Lung_S4_L006_R1_001.fastq.sort.bam\n",
      "Lung_S4\n",
      "/data/isshamie/TSS/NCBI_PICR_103_Processed/RNAseq/sortBam/NL7_Brain2_S7_L006_R1_001.fastq.sort.bam\n",
      "Brain2_S7\n",
      "/data/isshamie/TSS/NCBI_PICR_103_Processed/RNAseq/sortBam/NL6_Heart_S6_L006_R1_001.fastq.sort.bam\n",
      "Heart_S6\n",
      "/data/isshamie/TSS/NCBI_PICR_103_Processed/RNAseq/sortBam/NL10_Misc_S10_L006_R1_001.fastq.sort.bam\n",
      "Misc_S10\n",
      "/data/isshamie/TSS/NCBI_PICR_103_Processed/RNAseq/sortBam/NL3_Spleen_S3_L006_R1_001.fastq.sort.bam\n",
      "Spleen_S3\n",
      "/data/isshamie/TSS/NCBI_PICR_103_Processed/RNAseq/sortBam/NL8_Muscle_S8_L006_R1_001.fastq.sort.bam\n",
      "Muscle_S8\n",
      "/data/isshamie/TSS/NCBI_PICR_103_Processed/RNAseq/sortBam/NL11_Brain7-1_S11_L006_R1_001.fastq.sort.bam\n",
      "Brain7-1_S11\n",
      "/data/isshamie/TSS/NCBI_PICR_103_Processed/RNAseq/sortBam/NL1_Pancreas_S1_L006_R1_001.fastq.sort.bam\n",
      "Pancreas_S1\n",
      "/data/isshamie/TSS/NCBI_PICR_103_Processed/RNAseq/sortBam/NL2_ReproductiveTract_S2_L006_R1_001.fastq.sort.bam\n",
      "ReproductiveTract_S2\n",
      "/data/isshamie/TSS/NCBI_PICR_103_Processed/RNAseq/sortBam/NL9_Kidney_S9_L006_R1_001.fastq.sort.bam\n",
      "Kidney_S9\n",
      "/data/isshamie/TSS/NCBI_PICR_103_Processed/RNAseq/sortBam/NL5_Liver_S5_L006_R1_001.fastq.sort.bam\n",
      "Liver_S5\n"
     ]
    }
   ],
   "source": [
    "tpm_df = pd.DataFrame()\n",
    "\n",
    "\n",
    "for bam_f in glob.glob(bam_dir+\"/*bam\"):\n",
    "    print(bam_f)\n",
    "    sid = \"_\".join(basename(bam_f).split(\"_\")[1:3])\n",
    "    print(sid)\n",
    "    #NL9_Kidney_S9_L006_R1_001.fastq.sort\n",
    "    count_rev_f = join(ht_reverse_dir, sid +'.count.txt')\n",
    "    count_f = join(ht_dir,basename(bam_f).replace(\".bam\", \".count.txt\"))\n",
    "    df_rev = pd.read_csv(count_rev_f,sep=\"\\t\", header=None, index_col=0)\n",
    "    df_rev = df_rev[~(df_rev.index.str.contains(\"_\"))]\n",
    "    df_rev.columns = [sid + \" Count Reverse\"]\n",
    "    df\n",
    "    \n",
    "    tpm_df = pd.concat((tpm_df,df_rev), axis=1)\n",
    "    #cmd = f\"htseq-count -f bam -s reverse -t exon -i gene {bam_f} {annotation} > {join(ht_reverse_dir, sid +'.count.txt')}\"\n",
    "    #print(cmd)\n"
   ]
  },
  {
   "cell_type": "code",
   "execution_count": 20,
   "metadata": {
    "ExecuteTime": {
     "end_time": "2020-04-06T23:54:37.384614Z",
     "start_time": "2020-04-06T23:54:37.374713Z"
    }
   },
   "outputs": [
    {
     "data": {
      "text/plain": [
       "Lung_S4 Count Reverse                 11051157\n",
       "Brain2_S7 Count Reverse               11402105\n",
       "Heart_S6 Count Reverse                10883432\n",
       "Misc_S10 Count Reverse                11813587\n",
       "Spleen_S3 Count Reverse                9897029\n",
       "Muscle_S8 Count Reverse               12544540\n",
       "Brain7-1_S11 Count Reverse             9106097\n",
       "Pancreas_S1 Count Reverse              8081610\n",
       "ReproductiveTract_S2 Count Reverse    10501274\n",
       "Kidney_S9 Count Reverse               14215209\n",
       "Liver_S5 Count Reverse                13476977\n",
       "dtype: int64"
      ]
     },
     "execution_count": 20,
     "metadata": {},
     "output_type": "execute_result"
    }
   ],
   "source": [
    "tpm_df.sum(axis=0)"
   ]
  },
  {
   "cell_type": "code",
   "execution_count": 21,
   "metadata": {
    "ExecuteTime": {
     "end_time": "2020-04-06T23:57:06.821477Z",
     "start_time": "2020-04-06T23:57:06.788905Z"
    }
   },
   "outputs": [
    {
     "data": {
      "text/plain": [
       "Lung_S4 Count                           171429.0\n",
       "Lung_S4 Count Reverse                 11051157.0\n",
       "Brain2_S7 Count                         280969.0\n",
       "Brain2_S7 Count Reverse               11402105.0\n",
       "Heart_S6 Count                           38691.0\n",
       "Heart_S6 Count Reverse                10883432.0\n",
       "Misc_S10 Count                          208849.0\n",
       "Misc_S10 Count Reverse                11813587.0\n",
       "Spleen_S3 Count                         256482.0\n",
       "Spleen_S3 Count Reverse                9897029.0\n",
       "Muscle_S8 Count                         129911.0\n",
       "Muscle_S8 Count Reverse               12544540.0\n",
       "Brain7-1_S11 Count                      203573.0\n",
       "Brain7-1_S11 Count Reverse             9106097.0\n",
       "Pancreas_S1 Count                        48892.0\n",
       "Pancreas_S1 Count Reverse              8081610.0\n",
       "ReproductiveTract_S2 Count              270872.0\n",
       "ReproductiveTract_S2 Count Reverse    10501274.0\n",
       "Kidney_S9 Count                         186602.0\n",
       "Kidney_S9 Count Reverse               14215209.0\n",
       "Liver_S5 Count                          195776.0\n",
       "Liver_S5 Count Reverse                13476977.0\n",
       "dtype: float64"
      ]
     },
     "execution_count": 21,
     "metadata": {},
     "output_type": "execute_result"
    }
   ],
   "source": [
    "all_df.sum(axis=0)"
   ]
  }
 ],
 "metadata": {
  "kernelspec": {
   "display_name": "Python 3",
   "language": "python",
   "name": "python3"
  },
  "language_info": {
   "codemirror_mode": {
    "name": "ipython",
    "version": 3
   },
   "file_extension": ".py",
   "mimetype": "text/x-python",
   "name": "python",
   "nbconvert_exporter": "python",
   "pygments_lexer": "ipython3",
   "version": "3.7.3"
  }
 },
 "nbformat": 4,
 "nbformat_minor": 2
}
