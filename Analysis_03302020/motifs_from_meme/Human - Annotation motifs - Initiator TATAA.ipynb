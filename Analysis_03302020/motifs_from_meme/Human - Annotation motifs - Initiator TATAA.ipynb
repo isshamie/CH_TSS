{
 "cells": [
  {
   "cell_type": "markdown",
   "metadata": {},
   "source": [
    "# 1. Environment Setup"
   ]
  },
  {
   "cell_type": "code",
   "execution_count": 1,
   "metadata": {
    "ExecuteTime": {
     "end_time": "2020-04-10T06:45:42.803547Z",
     "start_time": "2020-04-10T06:45:40.454477Z"
    },
    "scrolled": true
   },
   "outputs": [
    {
     "name": "stderr",
     "output_type": "stream",
     "text": [
      "/home/isshamie/software/anaconda2/envs/TSS/lib/python3.7/site-packages/ipykernel_launcher.py:7: YAMLLoadWarning: calling yaml.load() without Loader=... is deprecated, as the default Loader is unsafe. Please read https://msg.pyyaml.org/load for full details.\n",
      "  import sys\n"
     ]
    },
    {
     "name": "stdout",
     "output_type": "stream",
     "text": [
      "Number of tissues:  13\n"
     ]
    }
   ],
   "source": [
    "## Parameters specific to where your folders are and your data\n",
    "parameter_file = '../parameters/params.yaml'\n",
    "import yaml\n",
    "import sys\n",
    "\n",
    "with open(parameter_file,'r') as f:\n",
    "    doc = yaml.load(f)\n",
    "\n",
    "#p = dic2obj(**doc)\n",
    "\n",
    "data_folder = doc['data_folder']\n",
    "tissues = doc['tissues'].split(',')\n",
    "sys.path.append(doc['pipeline_path'])\n",
    "ref_fa = doc['ref_fa']\n",
    "anno_gff=doc['annotation']\n",
    "# mRNA_peak_file = doc[\"mRNA_peak_file\"]\n",
    "# mRNA_peak_150_file = doc[\"mRNA_peak_150_file\"]\n",
    "supplemental = doc[\"supplemental\"]\n",
    "#tss_annotation = doc['tss_annotation']\n",
    "\n",
    "import os\n",
    "from os.path import join\n",
    "import sys\n",
    "import pandas as pd\n",
    "import matplotlib\n",
    "import seaborn as sns\n",
    "import pickle\n",
    "import numpy as np\n",
    "import matplotlib as mpl\n",
    "from matplotlib import pyplot as plt\n",
    "from itertools import product\n",
    "import glob\n",
    "import re\n",
    "from matplotlib_venn import venn2\n",
    "from matplotlib import rcParams\n",
    "import inspect\n",
    "%matplotlib inline\n",
    "%config InlineBackend.figure_format = 'retina'\n",
    "sys.setrecursionlimit(3000)\n",
    "%load_ext autoreload\n",
    "%autoreload 2\n",
    "rcParams['figure.figsize'] = 8, 6\n",
    "import tqdm\n",
    "import time\n",
    "\n",
    "from os.path import basename\n",
    "##mpl.use('Agg')\n",
    "#mpl.style.use('ggplot')\n",
    "#mpl.style.use('fivethirtyeight')\n",
    "from Homer import *\n",
    "from create_output import *\n",
    "print('Number of tissues: ',len(tissues))\n",
    "\n",
    "os.chdir(doc[\"results\"])"
   ]
  },
  {
   "cell_type": "code",
   "execution_count": 2,
   "metadata": {
    "ExecuteTime": {
     "end_time": "2020-04-10T06:45:43.445962Z",
     "start_time": "2020-04-10T06:45:42.815464Z"
    }
   },
   "outputs": [],
   "source": [
    "import plot_tss_results\n",
    "import motif_analysis\n",
    "from dotenv import load_dotenv\n",
    "from dotenv.main import dotenv_values"
   ]
  },
  {
   "cell_type": "code",
   "execution_count": 3,
   "metadata": {
    "ExecuteTime": {
     "end_time": "2020-04-10T06:45:43.533942Z",
     "start_time": "2020-04-10T06:45:43.456561Z"
    }
   },
   "outputs": [],
   "source": [
    "in_dir = \"fimo/hg38/TSS.meme/\"\n",
    "peak_f = \"genome/hg38/mRNA_150.tss.bed\""
   ]
  },
  {
   "cell_type": "markdown",
   "metadata": {},
   "source": [
    "## Create directory"
   ]
  },
  {
   "cell_type": "code",
   "execution_count": 4,
   "metadata": {
    "ExecuteTime": {
     "end_time": "2020-04-10T06:45:43.576111Z",
     "start_time": "2020-04-10T06:45:43.537440Z"
    }
   },
   "outputs": [],
   "source": [
    "out_dir = join(doc[\"figures\"], \"motifs\", \"human\") #figures/Figure4/motifs_from_meme/\"\n",
    "if not os.path.exists(out_dir):\n",
    "    os.makedirs(out_dir)\n"
   ]
  },
  {
   "cell_type": "markdown",
   "metadata": {},
   "source": [
    "## Motif Generation\n",
    "\n",
    "### Using FIMO"
   ]
  },
  {
   "cell_type": "markdown",
   "metadata": {},
   "source": [
    "# 1. "
   ]
  },
  {
   "cell_type": "markdown",
   "metadata": {},
   "source": [
    "## First do the TSSs used in the final output"
   ]
  },
  {
   "cell_type": "markdown",
   "metadata": {},
   "source": [
    "### Experimental"
   ]
  },
  {
   "cell_type": "markdown",
   "metadata": {
    "ExecuteTime": {
     "end_time": "2019-03-01T01:07:35.858743Z",
     "start_time": "2019-03-01T01:07:35.854889Z"
    }
   },
   "source": [
    "--------"
   ]
  },
  {
   "cell_type": "markdown",
   "metadata": {
    "ExecuteTime": {
     "end_time": "2019-03-01T01:07:35.858743Z",
     "start_time": "2019-03-01T01:07:35.854889Z"
    }
   },
   "source": [
    "--------"
   ]
  },
  {
   "cell_type": "markdown",
   "metadata": {
    "ExecuteTime": {
     "end_time": "2019-03-01T01:07:35.858743Z",
     "start_time": "2019-03-01T01:07:35.854889Z"
    }
   },
   "source": [
    "--------"
   ]
  },
  {
   "cell_type": "markdown",
   "metadata": {
    "ExecuteTime": {
     "end_time": "2019-03-01T01:07:35.858743Z",
     "start_time": "2019-03-01T01:07:35.854889Z"
    }
   },
   "source": [
    "--------"
   ]
  },
  {
   "cell_type": "markdown",
   "metadata": {},
   "source": [
    "# Plotting"
   ]
  },
  {
   "cell_type": "code",
   "execution_count": 5,
   "metadata": {
    "ExecuteTime": {
     "end_time": "2020-04-10T06:45:43.608640Z",
     "start_time": "2020-04-10T06:45:43.579221Z"
    }
   },
   "outputs": [],
   "source": [
    "from motif_analysis import *"
   ]
  },
  {
   "cell_type": "markdown",
   "metadata": {},
   "source": [
    "# 1. TSS1 exp vs TSS1 refseq_centered_exp "
   ]
  },
  {
   "cell_type": "markdown",
   "metadata": {},
   "source": [
    "## Transform motifs  into binary matrix of presence/absence\n",
    "\n",
    "Create sequence-by-|basepairs| matrix , fill in with the start of the motif where present. \n",
    "fimo output is 1-based indexing "
   ]
  },
  {
   "cell_type": "code",
   "execution_count": 6,
   "metadata": {
    "ExecuteTime": {
     "end_time": "2020-04-10T06:45:43.636734Z",
     "start_time": "2020-04-10T06:45:43.611174Z"
    }
   },
   "outputs": [],
   "source": [
    "peak_center = 75 #75 basepairs for each peak"
   ]
  },
  {
   "cell_type": "code",
   "execution_count": 42,
   "metadata": {
    "ExecuteTime": {
     "end_time": "2020-04-10T17:21:29.596962Z",
     "start_time": "2020-04-10T17:21:13.520105Z"
    },
    "scrolled": false
   },
   "outputs": [
    {
     "data": {
      "text/html": [
       "<div>\n",
       "<style scoped>\n",
       "    .dataframe tbody tr th:only-of-type {\n",
       "        vertical-align: middle;\n",
       "    }\n",
       "\n",
       "    .dataframe tbody tr th {\n",
       "        vertical-align: top;\n",
       "    }\n",
       "\n",
       "    .dataframe thead th {\n",
       "        text-align: right;\n",
       "    }\n",
       "</style>\n",
       "<table border=\"1\" class=\"dataframe\">\n",
       "  <thead>\n",
       "    <tr style=\"text-align: right;\">\n",
       "      <th></th>\n",
       "      <th>motif_id</th>\n",
       "      <th>motif_alt_id</th>\n",
       "      <th>sequence_name</th>\n",
       "      <th>start</th>\n",
       "      <th>stop</th>\n",
       "      <th>strand</th>\n",
       "      <th>score</th>\n",
       "      <th>p-value</th>\n",
       "      <th>q-value</th>\n",
       "      <th>matched_sequence</th>\n",
       "    </tr>\n",
       "  </thead>\n",
       "  <tbody>\n",
       "    <tr>\n",
       "      <td>0</td>\n",
       "      <td>zfp3.motif</td>\n",
       "      <td>NaN</td>\n",
       "      <td>XM_011540872.2</td>\n",
       "      <td>98</td>\n",
       "      <td>122</td>\n",
       "      <td>+</td>\n",
       "      <td>36.3515</td>\n",
       "      <td>4.260000e-13</td>\n",
       "      <td>1.270000e-05</td>\n",
       "      <td>GGGTCTTGAAGGATGGGTAGGAGTT</td>\n",
       "    </tr>\n",
       "    <tr>\n",
       "      <td>1</td>\n",
       "      <td>ronin.motif</td>\n",
       "      <td>NaN</td>\n",
       "      <td>NM_001350173.1</td>\n",
       "      <td>6</td>\n",
       "      <td>25</td>\n",
       "      <td>+</td>\n",
       "      <td>30.5394</td>\n",
       "      <td>5.570000e-13</td>\n",
       "      <td>7.340000e-07</td>\n",
       "      <td>GACTACAACTCCCAGCAGGC</td>\n",
       "    </tr>\n",
       "    <tr>\n",
       "      <td>2</td>\n",
       "      <td>ronin.motif</td>\n",
       "      <td>NaN</td>\n",
       "      <td>XM_011513451.2</td>\n",
       "      <td>73</td>\n",
       "      <td>92</td>\n",
       "      <td>+</td>\n",
       "      <td>30.5394</td>\n",
       "      <td>5.570000e-13</td>\n",
       "      <td>7.340000e-07</td>\n",
       "      <td>GACTACAACTCCCAGCAGGC</td>\n",
       "    </tr>\n",
       "    <tr>\n",
       "      <td>3</td>\n",
       "      <td>ronin.motif</td>\n",
       "      <td>NaN</td>\n",
       "      <td>XM_011513450.2</td>\n",
       "      <td>73</td>\n",
       "      <td>92</td>\n",
       "      <td>+</td>\n",
       "      <td>30.5394</td>\n",
       "      <td>5.570000e-13</td>\n",
       "      <td>7.340000e-07</td>\n",
       "      <td>GACTACAACTCCCAGCAGGC</td>\n",
       "    </tr>\n",
       "    <tr>\n",
       "      <td>4</td>\n",
       "      <td>ronin.motif</td>\n",
       "      <td>NaN</td>\n",
       "      <td>XM_011513457.2</td>\n",
       "      <td>73</td>\n",
       "      <td>92</td>\n",
       "      <td>+</td>\n",
       "      <td>30.5394</td>\n",
       "      <td>5.570000e-13</td>\n",
       "      <td>7.340000e-07</td>\n",
       "      <td>GACTACAACTCCCAGCAGGC</td>\n",
       "    </tr>\n",
       "  </tbody>\n",
       "</table>\n",
       "</div>"
      ],
      "text/plain": [
       "      motif_id  motif_alt_id   sequence_name  start  stop strand    score  \\\n",
       "0   zfp3.motif           NaN  XM_011540872.2     98   122      +  36.3515   \n",
       "1  ronin.motif           NaN  NM_001350173.1      6    25      +  30.5394   \n",
       "2  ronin.motif           NaN  XM_011513451.2     73    92      +  30.5394   \n",
       "3  ronin.motif           NaN  XM_011513450.2     73    92      +  30.5394   \n",
       "4  ronin.motif           NaN  XM_011513457.2     73    92      +  30.5394   \n",
       "\n",
       "        p-value       q-value           matched_sequence  \n",
       "0  4.260000e-13  1.270000e-05  GGGTCTTGAAGGATGGGTAGGAGTT  \n",
       "1  5.570000e-13  7.340000e-07       GACTACAACTCCCAGCAGGC  \n",
       "2  5.570000e-13  7.340000e-07       GACTACAACTCCCAGCAGGC  \n",
       "3  5.570000e-13  7.340000e-07       GACTACAACTCCCAGCAGGC  \n",
       "4  5.570000e-13  7.340000e-07       GACTACAACTCCCAGCAGGC  "
      ]
     },
     "execution_count": 42,
     "metadata": {},
     "output_type": "execute_result"
    }
   ],
   "source": [
    "motif_f = os.path.join(in_dir, \"fimo.tsv\")\n",
    "peaks_df_exp = read_bed_file(peak_f)\n",
    "peaks_df_exp = peaks_df_exp[~(peaks_df_exp.index.duplicated())]\n",
    "motifs_df_exp = pd.read_csv(motif_f,sep=\"\\t\",comment=\"#\")\n",
    "#inr = motifs_df[motifs_df[\"motif_id\"] == \"inr.motif\"]\n",
    "motifs_df_exp.head()"
   ]
  },
  {
   "cell_type": "code",
   "execution_count": 44,
   "metadata": {
    "ExecuteTime": {
     "end_time": "2020-04-10T17:27:32.225927Z",
     "start_time": "2020-04-10T17:27:32.139999Z"
    }
   },
   "outputs": [],
   "source": [
    "motifs_of_interest = [\"tata.motif\", \"inr.motif\"]\n",
    "#motifs_of_interest = [\"ap2.motif\"]"
   ]
  },
  {
   "cell_type": "code",
   "execution_count": null,
   "metadata": {},
   "outputs": [],
   "source": []
  },
  {
   "cell_type": "code",
   "execution_count": null,
   "metadata": {},
   "outputs": [],
   "source": []
  },
  {
   "cell_type": "code",
   "execution_count": null,
   "metadata": {},
   "outputs": [],
   "source": []
  },
  {
   "cell_type": "code",
   "execution_count": 61,
   "metadata": {
    "ExecuteTime": {
     "end_time": "2020-04-10T19:49:27.900898Z",
     "start_time": "2020-04-10T19:10:03.230778Z"
    },
    "code_folding": [
     19
    ],
    "scrolled": false
   },
   "outputs": [
    {
     "data": {
      "image/png": "[encoded data removed]",
      "text/plain": [
       "<Figure size 576x432 with 1 Axes>"
      ]
     },
     "metadata": {
      "image/png": {
       "height": 423,
       "width": 566
      }
     },
     "output_type": "display_data"
    },
    {
     "data": {
      "image/png": "[encoded data removed]",
      "text/plain": [
       "<Figure size 576x432 with 1 Axes>"
      ]
     },
     "metadata": {
      "image/png": {
       "height": 423,
       "width": 566
      }
     },
     "output_type": "display_data"
    }
   ],
   "source": [
    "motifs_data = dict()\n",
    "for m in motifs_of_interest:\n",
    "    name = m.replace(\".motif\", \"\")\n",
    "    curr_exp = motifs_df_exp[motifs_df_exp[\"motif_id\"] ==  m]\n",
    "    \n",
    "    #curr = motifs_df.query(\"motif_id == 'tata.motif' \")\n",
    "    num_nts = np.max(curr_exp[\"stop\"])\n",
    "    \n",
    "    curr_out_neg_exp = motif_analysis.initialize_motif_df(peaks_df_exp.index,seq_len=num_nts)\n",
    "\n",
    "    curr_out_pos_exp = motif_analysis.initialize_motif_df(peaks_df_exp.index,seq_len=num_nts)\n",
    "\n",
    "    \n",
    "    #first_seq = curr_out.columns.values[0]\n",
    "    first_seq = curr_out_neg_exp.columns.values[0]\n",
    "    for ind,val in (curr_exp.iterrows()):\n",
    "        if val[\"strand\"] == \"-\":\n",
    "            curr_out_neg_exp.at[val[\"sequence_name\"],first_seq + val[\"start\"] - 1] = True\n",
    "\n",
    "    for ind,val in (curr_exp.iterrows()):\n",
    "        if val[\"strand\"] == \"+\":\n",
    "            curr_out_pos_exp.at[val[\"sequence_name\"],first_seq + val[\"start\"] - 1] = True\n",
    "        \n",
    "    N = 5\n",
    "    f,ax = plt.subplots()\n",
    "    \n",
    "    y_exp = np.array(curr_out_pos_exp.sum()) +np.array(curr_out_neg_exp.sum())\n",
    "    motifs_data[name] = pd.DataFrame({\"Position\":curr_out_neg_exp.columns.values, \"Motif Counts Human HG38\":y_exp})\n",
    "    motifs_data[name].to_csv(os.path.join(out_dir, name+\".csv\"), index=False)\n",
    "        \n",
    "    ax.bar(x=range(1, len(y_exp)+1), height= y_exp, color=\"b\", alpha=0.4)\n",
    "    plt.title(name)\n",
    "    \n",
    "    ax.set_xlabel(\"Distance to TSS\")\n",
    "    ax.set_ylabel(\"Motif Frequency\")\n",
    "    \n",
    "    ax.set_xticks(np.arange(-1*peak_center,peak_center+1, 15) + peak_center)\n",
    "    ax.set_xticklabels(np.arange(-1*peak_center,peak_center+1, 15))\n"
   ]
  },
  {
   "cell_type": "code",
   "execution_count": 64,
   "metadata": {
    "ExecuteTime": {
     "end_time": "2020-04-10T19:51:12.678889Z",
     "start_time": "2020-04-10T19:51:12.510347Z"
    }
   },
   "outputs": [
    {
     "data": {
      "text/html": [
       "<div>\n",
       "<style scoped>\n",
       "    .dataframe tbody tr th:only-of-type {\n",
       "        vertical-align: middle;\n",
       "    }\n",
       "\n",
       "    .dataframe tbody tr th {\n",
       "        vertical-align: top;\n",
       "    }\n",
       "\n",
       "    .dataframe thead th {\n",
       "        text-align: right;\n",
       "    }\n",
       "</style>\n",
       "<table border=\"1\" class=\"dataframe\">\n",
       "  <thead>\n",
       "    <tr style=\"text-align: right;\">\n",
       "      <th></th>\n",
       "      <th>Position</th>\n",
       "      <th>Motif Counts Human HG38</th>\n",
       "    </tr>\n",
       "  </thead>\n",
       "  <tbody>\n",
       "    <tr>\n",
       "      <td>72</td>\n",
       "      <td>-3</td>\n",
       "      <td>43.0</td>\n",
       "    </tr>\n",
       "    <tr>\n",
       "      <td>73</td>\n",
       "      <td>-2</td>\n",
       "      <td>208.0</td>\n",
       "    </tr>\n",
       "    <tr>\n",
       "      <td>74</td>\n",
       "      <td>-1</td>\n",
       "      <td>39.0</td>\n",
       "    </tr>\n",
       "    <tr>\n",
       "      <td>75</td>\n",
       "      <td>0</td>\n",
       "      <td>33.0</td>\n",
       "    </tr>\n",
       "    <tr>\n",
       "      <td>76</td>\n",
       "      <td>1</td>\n",
       "      <td>35.0</td>\n",
       "    </tr>\n",
       "    <tr>\n",
       "      <td>77</td>\n",
       "      <td>2</td>\n",
       "      <td>52.0</td>\n",
       "    </tr>\n",
       "  </tbody>\n",
       "</table>\n",
       "</div>"
      ],
      "text/plain": [
       "    Position  Motif Counts Human HG38\n",
       "72        -3                     43.0\n",
       "73        -2                    208.0\n",
       "74        -1                     39.0\n",
       "75         0                     33.0\n",
       "76         1                     35.0\n",
       "77         2                     52.0"
      ]
     },
     "execution_count": 64,
     "metadata": {},
     "output_type": "execute_result"
    }
   ],
   "source": [
    "motifs_data[\"inr\"][motifs_data[\"inr\"][\"Position\"].isin(np.arange(-3,3))]"
   ]
  },
  {
   "cell_type": "code",
   "execution_count": null,
   "metadata": {},
   "outputs": [],
   "source": []
  }
 ],
 "metadata": {
  "kernelspec": {
   "display_name": "Python 2",
   "language": "python",
   "name": "python2"
  },
  "language_info": {
   "codemirror_mode": {
    "name": "ipython",
    "version": 3
   },
   "file_extension": ".py",
   "mimetype": "text/x-python",
   "name": "python",
   "nbconvert_exporter": "python",
   "pygments_lexer": "ipython3",
   "version": "3.7.3"
  }
 },
 "nbformat": 4,
 "nbformat_minor": 2
}
