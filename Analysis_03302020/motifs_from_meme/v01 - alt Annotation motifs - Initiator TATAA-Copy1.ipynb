{
 "cells": [
  {
   "cell_type": "markdown",
   "metadata": {},
   "source": [
    "# 1. Environment Setup"
   ]
  },
  {
   "cell_type": "code",
   "execution_count": 2,
   "metadata": {
    "ExecuteTime": {
     "end_time": "2020-04-04T07:59:35.240575Z",
     "start_time": "2020-04-04T07:59:34.329075Z"
    },
    "scrolled": true
   },
   "outputs": [
    {
     "name": "stderr",
     "output_type": "stream",
     "text": [
      "/home/isshamie/software/anaconda2/envs/TSS/lib/python3.7/site-packages/ipykernel_launcher.py:7: YAMLLoadWarning: calling yaml.load() without Loader=... is deprecated, as the default Loader is unsafe. Please read https://msg.pyyaml.org/load for full details.\n",
      "  import sys\n"
     ]
    },
    {
     "name": "stdout",
     "output_type": "stream",
     "text": [
      "Number of tissues:  13\n"
     ]
    }
   ],
   "source": [
    "## Parameters specific to where your folders are and your data\n",
    "parameter_file = '../parameters/params.yaml'\n",
    "import yaml\n",
    "import sys\n",
    "\n",
    "with open(parameter_file,'r') as f:\n",
    "    doc = yaml.load(f)\n",
    "\n",
    "#p = dic2obj(**doc)\n",
    "\n",
    "data_folder = doc['data_folder']\n",
    "tissues = doc['tissues'].split(',')\n",
    "sys.path.append(doc['pipeline_path'])\n",
    "ref_fa = doc['ref_fa']\n",
    "anno_gff=doc['annotation']\n",
    "mRNA_peak_file = doc[\"mRNA_peak_file\"]\n",
    "mRNA_peak_150_file = doc[\"mRNA_peak_150_file\"]\n",
    "supplemental = doc[\"supplemental\"]\n",
    "tss_annotation = doc['tss_annotation']\n",
    "\n",
    "import os\n",
    "import sys\n",
    "import pandas as pd\n",
    "import matplotlib\n",
    "import seaborn as sns\n",
    "import pickle\n",
    "import numpy as np\n",
    "import matplotlib as mpl\n",
    "from matplotlib import pyplot as plt\n",
    "from itertools import product\n",
    "import glob\n",
    "import re\n",
    "from matplotlib_venn import venn2\n",
    "from matplotlib import rcParams\n",
    "import inspect\n",
    "%matplotlib inline\n",
    "%config InlineBackend.figure_format = 'retina'\n",
    "sys.setrecursionlimit(3000)\n",
    "%load_ext autoreload\n",
    "%autoreload 2\n",
    "rcParams['figure.figsize'] = 8, 6\n",
    "import tqdm\n",
    "import time\n",
    "\n",
    "from os.path import basename\n",
    "##mpl.use('Agg')\n",
    "#mpl.style.use('ggplot')\n",
    "#mpl.style.use('fivethirtyeight')\n",
    "from Homer import *\n",
    "from create_output import *\n",
    "print('Number of tissues: ',len(tissues))"
   ]
  },
  {
   "cell_type": "code",
   "execution_count": 3,
   "metadata": {
    "ExecuteTime": {
     "end_time": "2020-04-04T07:59:35.258360Z",
     "start_time": "2020-04-04T07:59:35.242790Z"
    }
   },
   "outputs": [],
   "source": [
    "import plot_tss_results"
   ]
  },
  {
   "cell_type": "code",
   "execution_count": 4,
   "metadata": {
    "ExecuteTime": {
     "end_time": "2020-04-04T07:59:35.400721Z",
     "start_time": "2020-04-04T07:59:35.260443Z"
    },
    "scrolled": false
   },
   "outputs": [],
   "source": [
    "import motif_analysis"
   ]
  },
  {
   "cell_type": "code",
   "execution_count": 5,
   "metadata": {
    "ExecuteTime": {
     "end_time": "2020-04-04T07:59:35.426545Z",
     "start_time": "2020-04-04T07:59:35.403032Z"
    }
   },
   "outputs": [],
   "source": [
    "from dotenv import load_dotenv\n",
    "from dotenv.main import dotenv_values"
   ]
  },
  {
   "cell_type": "code",
   "execution_count": 6,
   "metadata": {
    "ExecuteTime": {
     "end_time": "2020-04-04T07:59:35.450808Z",
     "start_time": "2020-04-04T07:59:35.428362Z"
    }
   },
   "outputs": [
    {
     "name": "stdout",
     "output_type": "stream",
     "text": [
      "Hidden parameters to load:\n",
      "EMAIL\n",
      "parameters\n"
     ]
    },
    {
     "data": {
      "text/plain": [
       "{'EMAIL': 'isshamie@ucsd.edu', 'parameters': 'parameters/params.yaml'}"
      ]
     },
     "execution_count": 6,
     "metadata": {},
     "output_type": "execute_result"
    }
   ],
   "source": [
    "PATH_DICT = dotenv_values()\n",
    "if len(PATH_DICT) > 0:\n",
    "    print(\"Hidden parameters to load:\")\n",
    "    for d in PATH_DICT:\n",
    "        print(d)\n",
    "PATH_DICT"
   ]
  },
  {
   "cell_type": "code",
   "execution_count": 7,
   "metadata": {
    "ExecuteTime": {
     "end_time": "2020-04-04T07:59:35.589765Z",
     "start_time": "2020-04-04T07:59:35.452447Z"
    }
   },
   "outputs": [
    {
     "name": "stdout",
     "output_type": "stream",
     "text": [
      "/data/isshamie/TSS/Analysis/Analysis_03302020/motifs_from_meme\r\n"
     ]
    }
   ],
   "source": [
    "!pwd"
   ]
  },
  {
   "cell_type": "code",
   "execution_count": 8,
   "metadata": {
    "ExecuteTime": {
     "end_time": "2020-04-04T07:59:35.614516Z",
     "start_time": "2020-04-04T07:59:35.592163Z"
    }
   },
   "outputs": [],
   "source": [
    "os.chdir(doc['results'])"
   ]
  },
  {
   "cell_type": "code",
   "execution_count": 9,
   "metadata": {
    "ExecuteTime": {
     "end_time": "2020-04-04T07:59:35.751016Z",
     "start_time": "2020-04-04T07:59:35.617300Z"
    },
    "scrolled": true
   },
   "outputs": [
    {
     "name": "stdout",
     "output_type": "stream",
     "text": [
      "/data/isshamie/TSS/Analysis/Analysis_03302020\r\n"
     ]
    }
   ],
   "source": [
    "!pwd"
   ]
  },
  {
   "cell_type": "code",
   "execution_count": 10,
   "metadata": {
    "ExecuteTime": {
     "end_time": "2020-04-04T07:59:35.775720Z",
     "start_time": "2020-04-04T07:59:35.753769Z"
    }
   },
   "outputs": [],
   "source": [
    "in_dir = \"Figure4/motifs_from_meme/\""
   ]
  },
  {
   "cell_type": "markdown",
   "metadata": {},
   "source": [
    "## Create directory"
   ]
  },
  {
   "cell_type": "code",
   "execution_count": 11,
   "metadata": {
    "ExecuteTime": {
     "end_time": "2020-04-04T07:59:35.794417Z",
     "start_time": "2020-04-04T07:59:35.777479Z"
    }
   },
   "outputs": [],
   "source": [
    "out_dir = \"figures/Figure4/motifs_from_meme/\"\n",
    "if not os.path.exists(out_dir):\n",
    "    os.makedirs(out_dir)\n"
   ]
  },
  {
   "cell_type": "markdown",
   "metadata": {},
   "source": [
    "## Motif Generation\n",
    "\n",
    "### Using FIMO"
   ]
  },
  {
   "cell_type": "markdown",
   "metadata": {},
   "source": [
    "# 1. "
   ]
  },
  {
   "cell_type": "markdown",
   "metadata": {},
   "source": [
    "## First do the TSSs used in the final output"
   ]
  },
  {
   "cell_type": "markdown",
   "metadata": {},
   "source": [
    "### Experimental"
   ]
  },
  {
   "cell_type": "markdown",
   "metadata": {
    "ExecuteTime": {
     "end_time": "2019-03-01T01:07:35.858743Z",
     "start_time": "2019-03-01T01:07:35.854889Z"
    }
   },
   "source": [
    "--------"
   ]
  },
  {
   "cell_type": "markdown",
   "metadata": {
    "ExecuteTime": {
     "end_time": "2019-03-01T01:07:35.858743Z",
     "start_time": "2019-03-01T01:07:35.854889Z"
    }
   },
   "source": [
    "--------"
   ]
  },
  {
   "cell_type": "markdown",
   "metadata": {
    "ExecuteTime": {
     "end_time": "2019-03-01T01:07:35.858743Z",
     "start_time": "2019-03-01T01:07:35.854889Z"
    }
   },
   "source": [
    "--------"
   ]
  },
  {
   "cell_type": "markdown",
   "metadata": {
    "ExecuteTime": {
     "end_time": "2019-03-01T01:07:35.858743Z",
     "start_time": "2019-03-01T01:07:35.854889Z"
    }
   },
   "source": [
    "--------"
   ]
  },
  {
   "cell_type": "markdown",
   "metadata": {},
   "source": [
    "# Plotting"
   ]
  },
  {
   "cell_type": "code",
   "execution_count": 12,
   "metadata": {
    "ExecuteTime": {
     "end_time": "2020-04-04T07:59:35.812514Z",
     "start_time": "2020-04-04T07:59:35.796135Z"
    }
   },
   "outputs": [],
   "source": [
    "from motif_analysis import *"
   ]
  },
  {
   "cell_type": "markdown",
   "metadata": {},
   "source": [
    "# 1. TSS1 exp vs TSS1 refseq_centered_exp "
   ]
  },
  {
   "cell_type": "markdown",
   "metadata": {},
   "source": [
    "## Transform motifs  into binary matrix of presence/absence\n",
    "\n",
    "Create sequence-by-|basepairs| matrix , fill in with the start of the motif where present. \n",
    "fimo output is 1-based indexing "
   ]
  },
  {
   "cell_type": "code",
   "execution_count": 13,
   "metadata": {
    "ExecuteTime": {
     "end_time": "2020-04-04T07:59:35.830600Z",
     "start_time": "2020-04-04T07:59:35.814192Z"
    }
   },
   "outputs": [],
   "source": [
    "peak_center = 75 #75 basepairs for each peak"
   ]
  },
  {
   "cell_type": "code",
   "execution_count": 14,
   "metadata": {
    "ExecuteTime": {
     "end_time": "2020-04-04T07:59:37.098413Z",
     "start_time": "2020-04-04T07:59:35.832319Z"
    },
    "scrolled": true
   },
   "outputs": [
    {
     "data": {
      "text/html": [
       "<div>\n",
       "<style scoped>\n",
       "    .dataframe tbody tr th:only-of-type {\n",
       "        vertical-align: middle;\n",
       "    }\n",
       "\n",
       "    .dataframe tbody tr th {\n",
       "        vertical-align: top;\n",
       "    }\n",
       "\n",
       "    .dataframe thead th {\n",
       "        text-align: right;\n",
       "    }\n",
       "</style>\n",
       "<table border=\"1\" class=\"dataframe\">\n",
       "  <thead>\n",
       "    <tr style=\"text-align: right;\">\n",
       "      <th></th>\n",
       "      <th>motif_id</th>\n",
       "      <th>motif_alt_id</th>\n",
       "      <th>sequence_name</th>\n",
       "      <th>start</th>\n",
       "      <th>stop</th>\n",
       "      <th>strand</th>\n",
       "      <th>score</th>\n",
       "      <th>p-value</th>\n",
       "      <th>q-value</th>\n",
       "      <th>matched_sequence</th>\n",
       "    </tr>\n",
       "  </thead>\n",
       "  <tbody>\n",
       "    <tr>\n",
       "      <td>0</td>\n",
       "      <td>ronin.motif</td>\n",
       "      <td>NaN</td>\n",
       "      <td>p1@Znf8_XM_027431202.1</td>\n",
       "      <td>60</td>\n",
       "      <td>79</td>\n",
       "      <td>-</td>\n",
       "      <td>30.4364</td>\n",
       "      <td>1.230000e-12</td>\n",
       "      <td>0.000006</td>\n",
       "      <td>GACTACAACTCCCAGAAGGC</td>\n",
       "    </tr>\n",
       "    <tr>\n",
       "      <td>1</td>\n",
       "      <td>gfy-staf.motif</td>\n",
       "      <td>NaN</td>\n",
       "      <td>p1@Rbbp9_XM_027421615.1</td>\n",
       "      <td>18</td>\n",
       "      <td>37</td>\n",
       "      <td>+</td>\n",
       "      <td>31.7455</td>\n",
       "      <td>1.830000e-12</td>\n",
       "      <td>0.000010</td>\n",
       "      <td>AACTACAATTCCCAGAAGGC</td>\n",
       "    </tr>\n",
       "    <tr>\n",
       "      <td>2</td>\n",
       "      <td>ronin.motif</td>\n",
       "      <td>NaN</td>\n",
       "      <td>p1@Gabpa_XM_027412373.1</td>\n",
       "      <td>9</td>\n",
       "      <td>28</td>\n",
       "      <td>-</td>\n",
       "      <td>30.1212</td>\n",
       "      <td>1.910000e-12</td>\n",
       "      <td>0.000006</td>\n",
       "      <td>AACTACAACTCCCAGCAGGC</td>\n",
       "    </tr>\n",
       "    <tr>\n",
       "      <td>3</td>\n",
       "      <td>rest.motif</td>\n",
       "      <td>NaN</td>\n",
       "      <td>p1@Vwc2l_XM_027397153.1</td>\n",
       "      <td>83</td>\n",
       "      <td>102</td>\n",
       "      <td>+</td>\n",
       "      <td>31.6788</td>\n",
       "      <td>2.400000e-12</td>\n",
       "      <td>0.000017</td>\n",
       "      <td>GGCGCTGTCCGTGGTGCTGA</td>\n",
       "    </tr>\n",
       "    <tr>\n",
       "      <td>4</td>\n",
       "      <td>ronin.motif</td>\n",
       "      <td>NaN</td>\n",
       "      <td>p1@Polk_XM_027401683.1</td>\n",
       "      <td>110</td>\n",
       "      <td>129</td>\n",
       "      <td>-</td>\n",
       "      <td>30.1152</td>\n",
       "      <td>2.470000e-12</td>\n",
       "      <td>0.000006</td>\n",
       "      <td>GACTACAACTCCCAGGAGGC</td>\n",
       "    </tr>\n",
       "  </tbody>\n",
       "</table>\n",
       "</div>"
      ],
      "text/plain": [
       "         motif_id  motif_alt_id            sequence_name  start  stop strand  \\\n",
       "0     ronin.motif           NaN   p1@Znf8_XM_027431202.1     60    79      -   \n",
       "1  gfy-staf.motif           NaN  p1@Rbbp9_XM_027421615.1     18    37      +   \n",
       "2     ronin.motif           NaN  p1@Gabpa_XM_027412373.1      9    28      -   \n",
       "3      rest.motif           NaN  p1@Vwc2l_XM_027397153.1     83   102      +   \n",
       "4     ronin.motif           NaN   p1@Polk_XM_027401683.1    110   129      -   \n",
       "\n",
       "     score       p-value   q-value      matched_sequence  \n",
       "0  30.4364  1.230000e-12  0.000006  GACTACAACTCCCAGAAGGC  \n",
       "1  31.7455  1.830000e-12  0.000010  AACTACAATTCCCAGAAGGC  \n",
       "2  30.1212  1.910000e-12  0.000006  AACTACAACTCCCAGCAGGC  \n",
       "3  31.6788  2.400000e-12  0.000017  GGCGCTGTCCGTGGTGCTGA  \n",
       "4  30.1152  2.470000e-12  0.000006  GACTACAACTCCCAGGAGGC  "
      ]
     },
     "execution_count": 14,
     "metadata": {},
     "output_type": "execute_result"
    }
   ],
   "source": [
    "peak_f = \"analysis_ncbi_picr/output/TSS1.exp.bed\"\n",
    "motif_f = os.path.join(in_dir, \"TSS1.exp_meme/fimo.tsv\")\n",
    "peaks_df_exp = read_bed_file(peak_f)\n",
    "motifs_df_exp = pd.read_csv(motif_f,sep=\"\\t\",comment=\"#\")\n",
    "#inr = motifs_df[motifs_df[\"motif_id\"] == \"inr.motif\"]\n",
    "motifs_df_exp.head()"
   ]
  },
  {
   "cell_type": "code",
   "execution_count": 15,
   "metadata": {
    "ExecuteTime": {
     "end_time": "2020-04-04T07:59:37.246103Z",
     "start_time": "2020-04-04T07:59:37.101573Z"
    }
   },
   "outputs": [
    {
     "data": {
      "text/html": [
       "<div>\n",
       "<style scoped>\n",
       "    .dataframe tbody tr th:only-of-type {\n",
       "        vertical-align: middle;\n",
       "    }\n",
       "\n",
       "    .dataframe tbody tr th {\n",
       "        vertical-align: top;\n",
       "    }\n",
       "\n",
       "    .dataframe thead th {\n",
       "        text-align: right;\n",
       "    }\n",
       "</style>\n",
       "<table border=\"1\" class=\"dataframe\">\n",
       "  <thead>\n",
       "    <tr style=\"text-align: right;\">\n",
       "      <th></th>\n",
       "      <th>motif_id</th>\n",
       "      <th>motif_alt_id</th>\n",
       "      <th>sequence_name</th>\n",
       "      <th>start</th>\n",
       "      <th>stop</th>\n",
       "      <th>strand</th>\n",
       "      <th>score</th>\n",
       "      <th>p-value</th>\n",
       "      <th>q-value</th>\n",
       "      <th>matched_sequence</th>\n",
       "    </tr>\n",
       "  </thead>\n",
       "  <tbody>\n",
       "    <tr>\n",
       "      <td>0</td>\n",
       "      <td>sp1.motif</td>\n",
       "      <td>NaN</td>\n",
       "      <td>p2@Epas1_XM_027417972.1</td>\n",
       "      <td>1</td>\n",
       "      <td>12</td>\n",
       "      <td>+</td>\n",
       "      <td>21.6061</td>\n",
       "      <td>1.720000e-08</td>\n",
       "      <td>0.000202</td>\n",
       "      <td>GGCCCCGCCCCC</td>\n",
       "    </tr>\n",
       "    <tr>\n",
       "      <td>1</td>\n",
       "      <td>sp1.motif</td>\n",
       "      <td>NaN</td>\n",
       "      <td>p1@Epas1_XM_027417972.1</td>\n",
       "      <td>1</td>\n",
       "      <td>12</td>\n",
       "      <td>+</td>\n",
       "      <td>21.6061</td>\n",
       "      <td>1.720000e-08</td>\n",
       "      <td>0.000202</td>\n",
       "      <td>GGCCCCGCCCCC</td>\n",
       "    </tr>\n",
       "    <tr>\n",
       "      <td>2</td>\n",
       "      <td>sp1.motif</td>\n",
       "      <td>NaN</td>\n",
       "      <td>p1@Gas6_XM_027387801.1</td>\n",
       "      <td>2</td>\n",
       "      <td>13</td>\n",
       "      <td>+</td>\n",
       "      <td>21.6061</td>\n",
       "      <td>1.720000e-08</td>\n",
       "      <td>0.000202</td>\n",
       "      <td>GGCCCCGCCCCC</td>\n",
       "    </tr>\n",
       "    <tr>\n",
       "      <td>3</td>\n",
       "      <td>sp1.motif</td>\n",
       "      <td>NaN</td>\n",
       "      <td>p1@Rel_XM_027388002.1</td>\n",
       "      <td>4</td>\n",
       "      <td>15</td>\n",
       "      <td>+</td>\n",
       "      <td>21.6061</td>\n",
       "      <td>1.720000e-08</td>\n",
       "      <td>0.000202</td>\n",
       "      <td>GGCCCCGCCCCC</td>\n",
       "    </tr>\n",
       "    <tr>\n",
       "      <td>4</td>\n",
       "      <td>sp1.motif</td>\n",
       "      <td>NaN</td>\n",
       "      <td>p2@Rel_XM_027388002.1</td>\n",
       "      <td>4</td>\n",
       "      <td>15</td>\n",
       "      <td>+</td>\n",
       "      <td>21.6061</td>\n",
       "      <td>1.720000e-08</td>\n",
       "      <td>0.000202</td>\n",
       "      <td>GGCCCCGCCCCC</td>\n",
       "    </tr>\n",
       "  </tbody>\n",
       "</table>\n",
       "</div>"
      ],
      "text/plain": [
       "    motif_id  motif_alt_id            sequence_name  start  stop strand  \\\n",
       "0  sp1.motif           NaN  p2@Epas1_XM_027417972.1      1    12      +   \n",
       "1  sp1.motif           NaN  p1@Epas1_XM_027417972.1      1    12      +   \n",
       "2  sp1.motif           NaN   p1@Gas6_XM_027387801.1      2    13      +   \n",
       "3  sp1.motif           NaN    p1@Rel_XM_027388002.1      4    15      +   \n",
       "4  sp1.motif           NaN    p2@Rel_XM_027388002.1      4    15      +   \n",
       "\n",
       "     score       p-value   q-value matched_sequence  \n",
       "0  21.6061  1.720000e-08  0.000202     GGCCCCGCCCCC  \n",
       "1  21.6061  1.720000e-08  0.000202     GGCCCCGCCCCC  \n",
       "2  21.6061  1.720000e-08  0.000202     GGCCCCGCCCCC  \n",
       "3  21.6061  1.720000e-08  0.000202     GGCCCCGCCCCC  \n",
       "4  21.6061  1.720000e-08  0.000202     GGCCCCGCCCCC  "
      ]
     },
     "execution_count": 15,
     "metadata": {},
     "output_type": "execute_result"
    }
   ],
   "source": [
    "peak_f = \"analysis_ncbi_picr/output/TSS1.exp.bed\"\n",
    "motif_f = os.path.join(in_dir,\"TSS1.exp_refseq_centered_meme/fimo.tsv\")\n",
    "peaks_df_ref = read_bed_file(peak_f)\n",
    "motifs_df_ref = pd.read_csv(motif_f,sep=\"\\t\",comment=\"#\")\n",
    "#inr = motifs_df[motifs_df[\"motif_id\"] == \"inr.motif\"]\n",
    "motifs_df_ref.head()"
   ]
  },
  {
   "cell_type": "code",
   "execution_count": 16,
   "metadata": {
    "ExecuteTime": {
     "end_time": "2020-04-04T07:59:37.268180Z",
     "start_time": "2020-04-04T07:59:37.248106Z"
    }
   },
   "outputs": [],
   "source": [
    "motifs_of_interest = [\"tata.motif\", \"inr.motif\"]"
   ]
  },
  {
   "cell_type": "code",
   "execution_count": 50,
   "metadata": {
    "ExecuteTime": {
     "end_time": "2020-04-04T08:07:28.115785Z",
     "start_time": "2020-04-04T08:07:22.500774Z"
    },
    "scrolled": false
   },
   "outputs": [
    {
     "data": {
      "image/png": "[encoded data removed]",
      "text/plain": [
       "<Figure size 576x432 with 1 Axes>"
      ]
     },
     "metadata": {
      "image/png": {
       "height": 423,
       "width": 557
      }
     },
     "output_type": "display_data"
    },
    {
     "data": {
      "image/png": "[encoded data removed]",
      "text/plain": [
       "<Figure size 576x432 with 1 Axes>"
      ]
     },
     "metadata": {
      "image/png": {
       "height": 423,
       "width": 557
      }
     },
     "output_type": "display_data"
    }
   ],
   "source": [
    "motifs_data = dict()\n",
    "for m in motifs_of_interest:\n",
    "    name = m.replace(\".motif\", \"\")\n",
    "    curr_exp = motifs_df_exp[motifs_df_exp[\"motif_id\"] ==  m]\n",
    "    curr_ref = motifs_df_ref[motifs_df_ref[\"motif_id\"] ==  m]\n",
    "    \n",
    "    #curr = motifs_df.query(\"motif_id == 'tata.motif' \")\n",
    "    num_nts = np.max((np.max(curr_exp[\"stop\"]), np.max(curr_ref[\"stop\"]))) #np.max(curr[\"stop\"] - (curr[\"start\"])+1)\n",
    "    \n",
    "    curr_out_neg_exp = motif_analysis.initialize_motif_df(peaks_df_exp.index,seq_len=num_nts)\n",
    "    curr_out_neg_ref = motif_analysis.initialize_motif_df(peaks_df_ref.index,seq_len=num_nts)\n",
    "\n",
    "    curr_out_pos_exp = motif_analysis.initialize_motif_df(peaks_df_exp.index,seq_len=num_nts)\n",
    "    curr_out_pos_ref = motif_analysis.initialize_motif_df(peaks_df_ref.index,seq_len=num_nts)\n",
    "\n",
    "    \n",
    "    #first_seq = curr_out.columns.values[0]\n",
    "    first_seq = curr_out_neg_exp.columns.values[0]\n",
    "    for ind,val in (curr_exp.iterrows()):\n",
    "        if val[\"strand\"] == \"-\":\n",
    "            curr_out_neg_exp.at[val[\"sequence_name\"],first_seq + val[\"start\"] - 1] = True\n",
    "    for ind,val in (curr_ref.iterrows()):\n",
    "        if val[\"strand\"] == \"-\":\n",
    "            curr_out_neg_ref.at[val[\"sequence_name\"],first_seq + val[\"start\"] - 1] = True\n",
    "    \n",
    "    for ind,val in (curr_exp.iterrows()):\n",
    "        if val[\"strand\"] == \"+\":\n",
    "            curr_out_pos_exp.at[val[\"sequence_name\"],first_seq + val[\"start\"] - 1] = True\n",
    "    for ind,val in (curr_ref.iterrows()):\n",
    "        if val[\"strand\"] == \"+\":\n",
    "            curr_out_pos_ref.at[val[\"sequence_name\"],first_seq + val[\"start\"] - 1] = True  \n",
    "            \n",
    "    N = 5\n",
    "    f,ax = plt.subplots()\n",
    "    \n",
    "    y_exp = np.array(curr_out_pos_exp.sum()) +np.array(curr_out_neg_exp.sum())\n",
    "    y_exp_refseq_centered = np.array(curr_out_pos_ref.sum()) + np.array(curr_out_neg_ref.sum())\n",
    "\n",
    "    \n",
    "    motifs_data[name] = pd.DataFrame({\"Position\":curr_out_neg_exp.columns.values, \n",
    "              \"Motif Counts new TSS\":y_exp, \"Motif Counts NCBI RefSeq\": y_exp_refseq_centered})\n",
    "\n",
    "    motifs_data[name].to_csv(os.path.join(out_dir, name+\".csv\"), index=False)\n",
    "    \n",
    "    \n",
    "    ax.bar(x=range(1, len(y_exp)+1), height= y_exp, color=\"b\", alpha=0.4)\n",
    "    ax.bar(x=range(1, len(y_exp_refseq_centered)+1), height= y_exp_refseq_centered, color=\"g\", alpha=0.2)\n",
    "    plt.title(name)\n",
    "    \n",
    "    ax.set_xlabel(\"Distance to TSS\")\n",
    "    ax.set_ylabel(\"Motif Frequency\")\n",
    "    \n",
    "    ax.set_xticks(np.arange(-1*peak_center,peak_center+1, 15) + peak_center)\n",
    "    ax.set_xticklabels(np.arange(-1*peak_center,peak_center+1, 15))\n",
    "    plt.legend([\"Experimental\", \"Reference\"]).get_frame().set_facecolor('none')\n",
    "    #helper_save(os.path.join(out_dir, m.replace(\".motif\", \"\") + \"_exp_ref\" ))\n",
    "    "
   ]
  }
 ],
 "metadata": {
  "kernelspec": {
   "display_name": "Python 2",
   "language": "python",
   "name": "python2"
  },
  "language_info": {
   "codemirror_mode": {
    "name": "ipython",
    "version": 3
   },
   "file_extension": ".py",
   "mimetype": "text/x-python",
   "name": "python",
   "nbconvert_exporter": "python",
   "pygments_lexer": "ipython3",
   "version": "3.7.3"
  }
 },
 "nbformat": 4,
 "nbformat_minor": 2
}
