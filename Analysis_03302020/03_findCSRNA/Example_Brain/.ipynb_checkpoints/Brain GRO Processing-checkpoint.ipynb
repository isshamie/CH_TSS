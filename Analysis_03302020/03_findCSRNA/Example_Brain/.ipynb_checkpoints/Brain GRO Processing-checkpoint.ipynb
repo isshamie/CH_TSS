{
 "cells": [
  {
   "cell_type": "markdown",
   "metadata": {},
   "source": [
    "# Import packages and load params"
   ]
  },
  {
   "cell_type": "code",
   "execution_count": null,
   "metadata": {
    "ExecuteTime": {
     "end_time": "2018-09-20T21:02:35.560731Z",
     "start_time": "2018-09-20T21:02:34.809482Z"
    },
    "collapsed": true
   },
   "outputs": [],
   "source": [
    "import yaml\n",
    "import sys\n",
    "import os\n",
    "\n",
    "## First go back up a folder \n",
    "import os\n",
    "#os.chdir('..')\n",
    "import sys\n",
    "import pandas as pd\n",
    "import matplotlib\n",
    "import seaborn as sns\n",
    "import pickle\n",
    "import numpy as np\n",
    "import matplotlib as mpl\n",
    "from matplotlib import pyplot as plt\n",
    "from itertools import product\n",
    "import glob\n",
    "import re\n",
    "from matplotlib_venn import venn2\n",
    "from matplotlib import rcParams\n",
    "import inspect\n",
    "%matplotlib inline\n",
    "%config InlineBackend.figure_format = 'retina'\n",
    "sys.setrecursionlimit(3000)\n",
    "%load_ext autoreload\n",
    "%autoreload 2\n",
    "rcParams['figure.figsize'] = 8, 6\n",
    "import tqdm\n",
    "### notebook specific configuration ###\n",
    "from os.path import basename\n",
    "#mpl.style.use('ggplot')\n",
    "mpl.style.use('fivethirtyeight')\n",
    "from cycler import cycler\n",
    "mpl.rcParams['axes.prop_cycle'] = cycler(color='bgrcmyk')"
   ]
  },
  {
   "cell_type": "code",
   "execution_count": null,
   "metadata": {
    "ExecuteTime": {
     "end_time": "2018-09-20T21:02:35.703255Z",
     "start_time": "2018-09-20T21:02:35.563106Z"
    },
    "scrolled": true
   },
   "outputs": [],
   "source": [
    "meta_samples = pd.read_csv('meta_samples.csv',index_col=0)\n",
    "meta_samples.head()"
   ]
  },
  {
   "cell_type": "markdown",
   "metadata": {},
   "source": [
    "## Load Parameter file"
   ]
  },
  {
   "cell_type": "code",
   "execution_count": null,
   "metadata": {
    "ExecuteTime": {
     "end_time": "2018-09-20T21:02:35.739838Z",
     "start_time": "2018-09-20T21:02:35.705720Z"
    },
    "collapsed": true
   },
   "outputs": [],
   "source": [
    "## Parameters specific to where your folders are and your data\n",
    "parameter_file = 'params/params.yaml'\n",
    "\n",
    "\n",
    "\n",
    "with open(parameter_file,'r') as f:\n",
    "    doc = yaml.load(f)\n",
    "\n",
    "data_folder = doc['data_folder']\n",
    "tissues = doc['tissues'].split(',')\n",
    "sys.path.append(doc['pipeline_path'])\n",
    "ref_fa = doc['ref_fa']\n",
    "gff_f=doc['annotation']\n",
    "annotation_gtf=doc['annotation_gtf']\n",
    "\n",
    "RNA_dir = os.path.join(data_folder,'RNA_Total')\n",
    "\n"
   ]
  },
  {
   "cell_type": "markdown",
   "metadata": {},
   "source": [
    "## Load Developing Modules"
   ]
  },
  {
   "cell_type": "code",
   "execution_count": null,
   "metadata": {
    "ExecuteTime": {
     "end_time": "2018-09-20T21:02:35.770028Z",
     "start_time": "2018-09-20T21:02:35.741997Z"
    },
    "collapsed": true
   },
   "outputs": [],
   "source": [
    "from Modules.Homer import *"
   ]
  },
  {
   "cell_type": "code",
   "execution_count": null,
   "metadata": {
    "ExecuteTime": {
     "end_time": "2018-09-20T21:02:35.797720Z",
     "start_time": "2018-09-20T21:02:35.772364Z"
    },
    "collapsed": true
   },
   "outputs": [],
   "source": [
    "sys.path.append('/data/isshamie/TSS/Analysis/src')\n",
    "import helper"
   ]
  },
  {
   "cell_type": "markdown",
   "metadata": {},
   "source": [
    "### Tissues with totalRNA"
   ]
  },
  {
   "cell_type": "code",
   "execution_count": null,
   "metadata": {
    "ExecuteTime": {
     "end_time": "2018-09-20T21:02:35.825259Z",
     "start_time": "2018-09-20T21:02:35.800149Z"
    },
    "collapsed": true
   },
   "outputs": [],
   "source": [
    "tissues_with_RNA = {\n",
    "    'MiscOrgans': 'Misc',\n",
    "    'FemaleReproductive':'ReproductiveTract',\n",
    "    'Brain':'Brain',\n",
    "    'Lung':'Lung',\n",
    "    'Liver':'Liver',\n",
    "    'Spleen':'Spleen',\n",
    "    'Muscle':'Muscle'    \n",
    "}"
   ]
  },
  {
   "cell_type": "markdown",
   "metadata": {},
   "source": [
    "## Example Case here"
   ]
  },
  {
   "cell_type": "code",
   "execution_count": null,
   "metadata": {
    "ExecuteTime": {
     "end_time": "2018-09-20T21:02:35.853561Z",
     "start_time": "2018-09-20T21:02:35.827878Z"
    },
    "collapsed": true
   },
   "outputs": [],
   "source": [
    "t = 'Brain'\n",
    "s = 'GRO'\n",
    "out_dir = './'\n",
    "\n",
    "in_dir = '/data/isshamie/TSS/Processed/Brain/GRO/'"
   ]
  },
  {
   "cell_type": "code",
   "execution_count": null,
   "metadata": {
    "ExecuteTime": {
     "end_time": "2018-09-20T21:02:35.883506Z",
     "start_time": "2018-09-20T21:02:35.855974Z"
    },
    "collapsed": true
   },
   "outputs": [],
   "source": [
    "gff_f = '/data/genome/hamster/picr/updated_final_sort.gff3'\n",
    "\n",
    "## 5' file\n",
    "raw_f = 'CHBrain_5GRO_JHS1036_SD_ATGTCA_S51_L003_R1_001.fastq.gz'\n",
    "trim_f = 'trim_CHBrain_5GRO_JHS1036_SD_ATGTCA_S51_L003_R1_001.fastq'\n",
    "align_f = 'f02_bam/trim_CHBrain_5GRO_JHS1036_SD_ATGTCA_S51_L003_R1_001'\n",
    "tag_f = 'f03_tags/trim_CHBrain_5GRO_JHS1036_SD_ATGTCA_S51_L003_R1_001.fastq'\n",
    "\n",
    "## input file\n",
    "in_raw_f = 'CHBrain_GRO_JHS1029_SD_CACCGG_S44_L003_R1_001.fastq.gz'\n",
    "in_trim_f = 'trim_CHBrain_GRO_JHS1029_SD_CACCGG_S44_L003_R1_001.fastq'\n",
    "in_align_f = 'f02_bam/trim_CHBrain_GRO_JHS1029_SD_CACCGG_S44_L003_R1_001.bam'\n",
    "in_tag_f = 'f03_tags/trim_CHBrain_GRO_JHS1029_SD_CACCGG_S44_L003_R1_001.fastq'\n",
    "\n",
    "## rna file\n",
    "rna_align_f = '/data/isshamie/TSS/Processed/RNA_Total/NL11_Brain7-1_S11_L006_R1_001.fastq.bam'\n",
    "#rna_tag_f = '/data/isshamie/TSS/Processed/RNA_Total/Combined_Brain'\n",
    "rna_tag_f = '/data/isshamie/TSS/Processed/RNA_Total/NL11_Brain7-1_S11_L006_R1_001'"
   ]
  },
  {
   "cell_type": "code",
   "execution_count": null,
   "metadata": {
    "ExecuteTime": {
     "start_time": "2018-09-20T21:02:32.573Z"
    },
    "collapsed": true
   },
   "outputs": [],
   "source": [
    "def run_process(raw_f,trim_f,align_f,tag_f):\n",
    "    trim_cmd = 'cutadapt --minimum-length 10 -a file:/data/isshamie/TSS/universal_adaptor.fa \\\n",
    "    {raw_f} -o {trim_f}'.format(raw_f=raw_f,trim_f=trim_f) #--cores=3\n",
    "    !{trim_cmd}\n",
    "\n",
    "\n",
    "    align_cmd = 'STAR --genomeDir /data/genome/hamster/picr/picr_STAR_Db\\\n",
    "    --readFilesCommand zcat --readFilesIn {trim_f} --runThreadN 6 --outFileNamePrefix\\\n",
    "    {align_f} --outSAMstrandField intronMotif --outFilterIntronMotifs RemoveNoncanonical\\\n",
    "    --outSAMtype BAM SortedByCoordinate --sjdbGTFfile {gff_f}\\\n",
    "    --sjdbGTFtagExonParentTranscript Parent'.format(trim_f=trim_f,align_f=align_f,gff_f = gff_f)\n",
    "    print(align_cmd)\n",
    "    !{align_cmd}\n",
    "    \n",
    "    tag_f = 'f03_tags/trim_Brain-5GRO-SD367_S6_R1_001.fastq'\n",
    "    tag_cmd = 'makeTagDirectory {tag_f} -genome /data/genome/hamster/picr/picr.fa -checkGC -single \\\n",
    "    {align_f}'.format(tag_f=tag_f,align_f=align_f)\n",
    "    print(tag_cmd)\n",
    "    \n",
    "    return"
   ]
  },
  {
   "cell_type": "code",
   "execution_count": null,
   "metadata": {
    "ExecuteTime": {
     "start_time": "2018-09-20T21:02:32.575Z"
    }
   },
   "outputs": [],
   "source": [
    "run_process(raw_f,trim_f,align_f,tag_f)"
   ]
  },
  {
   "cell_type": "code",
   "execution_count": null,
   "metadata": {
    "ExecuteTime": {
     "start_time": "2018-09-20T21:02:32.576Z"
    },
    "collapsed": true,
    "scrolled": false
   },
   "outputs": [],
   "source": [
    "run_process(in_raw_f,in_trim_f,in_align_f,in_tag_f)"
   ]
  },
  {
   "cell_type": "markdown",
   "metadata": {},
   "source": [
    "# Trim, Align and make tags"
   ]
  },
  {
   "cell_type": "code",
   "execution_count": null,
   "metadata": {
    "ExecuteTime": {
     "start_time": "2018-09-20T20:44:44.465Z"
    },
    "deletable": false,
    "editable": false,
    "run_control": {
     "frozen": true
    }
   },
   "outputs": [],
   "source": [
    "# \n",
    "raw_f = 'Brain-5GRO-SD371_S10_R1_001.fastq.gz'\n",
    "trim_f = 'trim_Brain-5GRO-SD371_S10_R1_001.fastq.gz'\n",
    "\n",
    "trim_cmd = 'cutadapt --minimum-length 10 -a file:/data/isshamie/TSS/universal_adaptor.fa \\\n",
    "{raw_f} -o {trim_f}'.format(raw_f=raw_f,trim_f=trim_f) #--cores=3\n",
    "\n",
    "print(trim_cmd)\n",
    "!{trim_cmd}"
   ]
  },
  {
   "cell_type": "code",
   "execution_count": null,
   "metadata": {
    "ExecuteTime": {
     "end_time": "2018-09-20T19:37:17.813860Z",
     "start_time": "2018-09-20T19:37:17.786413Z"
    },
    "deletable": false,
    "editable": false,
    "run_control": {
     "frozen": true
    },
    "scrolled": true
   },
   "outputs": [],
   "source": [
    "align_f = 'f02_bam/trim_Brain-5GRO-SD371_S10_R1_001.bam'\n",
    "gff_f = '/data/genome/hamster/picr/updated_final_sort.gff3'\n",
    "\n",
    "align_cmd = 'STAR --genomeDir /data/genome/hamster/picr/picr_STAR_Db\\\n",
    "--readFilesCommand zcat --readFilesIn {trim_f} --runThreadN 6 --outFileNamePrefix\\\n",
    "{align_f} --outSAMstrandField intronMotif --outFilterIntronMotifs RemoveNoncanonical\\\n",
    "--outSAMtype BAM SortedByCoordinate --sjdbGTFfile {gff_f}\\\n",
    "--sjdbGTFtagExonParentTranscript Parent'.format(trim_f=trim_f,align_f=align_f,gff_f = gff_f)\n",
    "print(align_cmd)"
   ]
  },
  {
   "cell_type": "code",
   "execution_count": null,
   "metadata": {
    "ExecuteTime": {
     "end_time": "2018-09-20T19:46:59.995310Z",
     "start_time": "2018-09-20T19:46:59.968209Z"
    },
    "deletable": false,
    "editable": false,
    "run_control": {
     "frozen": true
    }
   },
   "outputs": [],
   "source": [
    "tag_f = 'f03_tags/trim_Brain-5GRO-SD367_S6_R1_001.fastq'\n",
    "tag_cmd = 'makeTagDirectory {tag_f} -genome /data/genome/hamster/picr/picr.fa -checkGC -single \\\n",
    "{align_f}'.format(tag_f=tag_f,align_f=align_f)\n",
    "print(tag_cmd)"
   ]
  },
  {
   "cell_type": "code",
   "execution_count": null,
   "metadata": {
    "ExecuteTime": {
     "end_time": "2018-09-20T17:56:53.209392Z",
     "start_time": "2018-09-20T17:56:53.184513Z"
    },
    "deletable": false,
    "editable": false,
    "run_control": {
     "frozen": true
    },
    "scrolled": false
   },
   "outputs": [],
   "source": [
    "findPeaks_cmd = 'findPeaks f03_tags/trim_Brain-5GRO-SD367_S6_R1_001.fastq -style tss -o f04_peaks/trim_Brain-5GRO-SD367_S6_R1_001.fastq_and_trim_Brain-GRO-SD370_S9_R1_001.fastq_bg_2.peak -i f03_tags/trim_Brain-GRO-SD370_S9_R1_001.fastq -norm 1000000 -F 2'\n",
    "print(findPeaks_cmd)"
   ]
  },
  {
   "cell_type": "markdown",
   "metadata": {},
   "source": [
    "----------"
   ]
  },
  {
   "cell_type": "markdown",
   "metadata": {},
   "source": [
    "----------"
   ]
  },
  {
   "cell_type": "markdown",
   "metadata": {},
   "source": [
    "----------"
   ]
  },
  {
   "cell_type": "markdown",
   "metadata": {},
   "source": [
    "# findcsRNA"
   ]
  },
  {
   "cell_type": "code",
   "execution_count": null,
   "metadata": {
    "collapsed": true
   },
   "outputs": [],
   "source": [
    "tss_tag = [tag_f]\n",
    "inp_tag = [in_tag_f]\n",
    "#rna_tag = []"
   ]
  },
  {
   "cell_type": "code",
   "execution_count": null,
   "metadata": {
    "collapsed": true
   },
   "outputs": [],
   "source": [
    "#cmd = 'findcsRNATSS.pl /data/isshamie/TSS/Processed/Brain/mSTART/f03_tags/trim_Brain--mSTART-JHS823_S21_R1_001.fastq -i /data/isshamie/TSS/Processed/Brain/mSTART/f03_tags/trim_Brain--mSTART_input-JHS802_S11_R1_001.fastq -gtf /data/isshamie/genome/updated_final_sort.gtf -genome ch -cpu 30 -o Results/csRNATSS/Example/Brain_trim_Brain--mSTART-JHS823_S21_R1_001.fastq_trim_Brain--mSTART_input-JHS802_S11_R1_001.fastq\n",
    "i = tss_tag[0]\n",
    "j = inp_tag[0]\n",
    "\n",
    "out_name = '%s_%s_%s' % (t,os.path.basename(i),os.path.basename(j))\n",
    "out_f = os.path.join(out_dir,out_name) #'Results/csRNATSS/%s_%s_%s' % (t,os.path.basename(i),os.path.basename(j))\n",
    "\n",
    "cs_cmd = 'findcsRNATSS.pl {start} -i {control} -rna {rna} -gtf {annotation_gtf} -genome ch -cpu 30 -o {out_f}'.format(\n",
    "    start=i,\n",
    "    control=j,\n",
    "    rna=rna_tag,\n",
    "    annotation_gtf=annotation_gtf,\n",
    "    out_f=out_f)"
   ]
  },
  {
   "cell_type": "code",
   "execution_count": null,
   "metadata": {
    "collapsed": true
   },
   "outputs": [],
   "source": [
    "print(cs_cmd)\n",
    "#!{cs_cmd}"
   ]
  },
  {
   "cell_type": "markdown",
   "metadata": {},
   "source": [
    "# Load Results"
   ]
  },
  {
   "cell_type": "code",
   "execution_count": null,
   "metadata": {
    "ExecuteTime": {
     "end_time": "2018-09-20T18:15:04.157147Z",
     "start_time": "2018-09-20T18:15:03.975731Z"
    }
   },
   "outputs": [],
   "source": [
    "tss = pd.read_csv('Results/csRNATSS/Example/Results/csRNATSS/Brain_trim_Brain-5GRO-SD367_S6_R1_001.fastq_trim_Brain-GRO-SD370_S9_R1_001.fastq.tss.txt'\n",
    "                 ,sep='\\t',index_col = 0)\n",
    "\n",
    "\n",
    "print(tss.shape)\n",
    "tss.head()"
   ]
  },
  {
   "cell_type": "code",
   "execution_count": null,
   "metadata": {
    "ExecuteTime": {
     "end_time": "2018-09-20T18:14:57.912357Z",
     "start_time": "2018-09-20T18:14:57.844760Z"
    }
   },
   "outputs": [],
   "source": [
    "exon = pd.read_csv('Results/csRNATSS/Example/Results/csRNATSS/Brain_trim_Brain-5GRO-SD367_S6_R1_001.fastq_trim_Brain-GRO-SD370_S9_R1_001.fastq.annexons.txt'\n",
    "                 ,sep='\\t', index_col = 0)\n",
    "print(exon.shape)\n",
    "exon.head()"
   ]
  },
  {
   "cell_type": "code",
   "execution_count": null,
   "metadata": {
    "ExecuteTime": {
     "end_time": "2018-09-20T18:14:52.049466Z",
     "start_time": "2018-09-20T18:14:51.886125Z"
    }
   },
   "outputs": [],
   "source": [
    "anntss = pd.read_csv('Results/csRNATSS/Brain_trim_Brain-5GRO-SD367_S6_R1_001.fastq_trim_Brain-GRO-SD370_S9_R1_001.fastq.anntss.txt'\n",
    "                 ,sep='\\t', index_col = 0)\n",
    "print(anntss.shape)\n",
    "anntss.head()"
   ]
  },
  {
   "cell_type": "markdown",
   "metadata": {},
   "source": [
    "# Visualize"
   ]
  },
  {
   "cell_type": "code",
   "execution_count": null,
   "metadata": {
    "ExecuteTime": {
     "end_time": "2018-09-20T18:16:40.616270Z",
     "start_time": "2018-09-20T18:16:40.200708Z"
    }
   },
   "outputs": [],
   "source": [
    "f = plt.figure()\n",
    "\n",
    "## Setup bin edges\n",
    "num_bins = 100\n",
    "concat = np.concatenate((np.array(exon_peaks['Log2Ratio vs. Input']),np.array(peaks['Log2Ratio vs. Input'])))\n",
    "step = np.ceil(np.ceil(concat.max()) - np.floor(concat.min()))/num_bins\n",
    "bins = np.arange(np.floor(concat.min()),np.ceil(concat.max()),step)\n",
    "\n",
    "## Exon peaks\n",
    "counts_exon, bin_edges = np.histogram (exon_peaks['Log2Ratio vs. Input'], bins=bins, density=True)\n",
    "cdf_exon = np.cumsum(counts_exon)\n",
    "cdf_exon = cdf_exon/cdf_exon[-1]\n",
    "sdf_exon = 1-cdf_exon\n",
    "plt.plot(bin_edges[1:], sdf_exon,label='Exon')\n",
    "\n",
    "## TSS peaks\n",
    "counts_tss, bin_edges = np.histogram (peaks['Log2Ratio vs. Input'], bins=bins, density=True)\n",
    "cdf_tss = np.cumsum(counts_tss)\n",
    "cdf_tss = cdf_tss/cdf_tss[-1]\n",
    "sdf_tss = 1-cdf_tss\n",
    "plt.plot(bin_edges[1:], sdf_tss,color='g',label='TSS')\n",
    "\n",
    "plt.plot(bin_edges[1:],sdf_tss-sdf_exon,color='gray',label='Diff')\n",
    "\n",
    "\n",
    "plt.legend();\n",
    "plt.title(name + ' Log2Ratio Start-seq over Total Input SDF' );\n"
   ]
  }
 ],
 "metadata": {
  "kernelspec": {
   "display_name": "Python 2",
   "language": "python",
   "name": "python2"
  },
  "language_info": {
   "codemirror_mode": {
    "name": "ipython",
    "version": 2
   },
   "file_extension": ".py",
   "mimetype": "text/x-python",
   "name": "python",
   "nbconvert_exporter": "python",
   "pygments_lexer": "ipython2",
   "version": "2.7.13"
  }
 },
 "nbformat": 4,
 "nbformat_minor": 2
}
