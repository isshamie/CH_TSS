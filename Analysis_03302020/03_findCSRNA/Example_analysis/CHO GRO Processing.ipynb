{
 "cells": [
  {
   "cell_type": "markdown",
   "metadata": {},
   "source": [
    "# Import packages and load params"
   ]
  },
  {
   "cell_type": "code",
   "execution_count": 1,
   "metadata": {
    "ExecuteTime": {
     "end_time": "2018-09-20T21:02:35.560731Z",
     "start_time": "2018-09-20T21:02:34.809482Z"
    },
    "collapsed": true
   },
   "outputs": [],
   "source": [
    "import yaml\n",
    "import sys\n",
    "import os\n",
    "\n",
    "## First go back up a folder \n",
    "import os\n",
    "#os.chdir('..')\n",
    "import sys\n",
    "import pandas as pd\n",
    "import matplotlib\n",
    "import seaborn as sns\n",
    "import pickle\n",
    "import numpy as np\n",
    "import matplotlib as mpl\n",
    "from matplotlib import pyplot as plt\n",
    "from itertools import product\n",
    "import glob\n",
    "import re\n",
    "from matplotlib_venn import venn2\n",
    "from matplotlib import rcParams\n",
    "import inspect\n",
    "%matplotlib inline\n",
    "%config InlineBackend.figure_format = 'retina'\n",
    "sys.setrecursionlimit(3000)\n",
    "%load_ext autoreload\n",
    "%autoreload 2\n",
    "rcParams['figure.figsize'] = 8, 6\n",
    "import tqdm\n",
    "### notebook specific configuration ###\n",
    "from os.path import basename\n",
    "#mpl.style.use('ggplot')\n",
    "mpl.style.use('fivethirtyeight')\n",
    "from cycler import cycler\n",
    "mpl.rcParams['axes.prop_cycle'] = cycler(color='bgrcmyk')"
   ]
  },
  {
   "cell_type": "code",
   "execution_count": 2,
   "metadata": {
    "ExecuteTime": {
     "end_time": "2018-09-20T21:02:35.703255Z",
     "start_time": "2018-09-20T21:02:35.563106Z"
    },
    "scrolled": true
   },
   "outputs": [
    {
     "data": {
      "text/html": [
       "<div>\n",
       "<style scoped>\n",
       "    .dataframe tbody tr th:only-of-type {\n",
       "        vertical-align: middle;\n",
       "    }\n",
       "\n",
       "    .dataframe tbody tr th {\n",
       "        vertical-align: top;\n",
       "    }\n",
       "\n",
       "    .dataframe thead th {\n",
       "        text-align: right;\n",
       "    }\n",
       "</style>\n",
       "<table border=\"1\" class=\"dataframe\">\n",
       "  <thead>\n",
       "    <tr style=\"text-align: right;\">\n",
       "      <th></th>\n",
       "      <th>Experiment</th>\n",
       "      <th>Full</th>\n",
       "      <th>Short</th>\n",
       "      <th>Short_with_number</th>\n",
       "      <th>Tissue</th>\n",
       "    </tr>\n",
       "  </thead>\n",
       "  <tbody>\n",
       "    <tr>\n",
       "      <th>BMDMwt/GRO/f04_peaks/merge_bg_2.peak</th>\n",
       "      <td>GRO</td>\n",
       "      <td>/data/isshamie/TSS/Processed/BMDMwt/GRO/f04_pe...</td>\n",
       "      <td>BMDMwt_GRO</td>\n",
       "      <td>BMDMwt_GRO1</td>\n",
       "      <td>BMDMwt</td>\n",
       "    </tr>\n",
       "    <tr>\n",
       "      <th>Brain/GRO/f04_peaks/merge_bg_2.peak</th>\n",
       "      <td>GRO</td>\n",
       "      <td>/data/isshamie/TSS/Processed/Brain/GRO/f04_pea...</td>\n",
       "      <td>Brain_GRO</td>\n",
       "      <td>Brain_GRO1</td>\n",
       "      <td>Brain</td>\n",
       "    </tr>\n",
       "    <tr>\n",
       "      <th>Brain/mSTART/f04_peaks/merge_bg_2.peak</th>\n",
       "      <td>mSTART</td>\n",
       "      <td>/data/isshamie/TSS/Processed/Brain/mSTART/f04_...</td>\n",
       "      <td>Brain_mSTART</td>\n",
       "      <td>Brain_mSTART1</td>\n",
       "      <td>Brain</td>\n",
       "    </tr>\n",
       "    <tr>\n",
       "      <th>Heart/mSTART/f04_peaks/merge_bg_2.peak</th>\n",
       "      <td>mSTART</td>\n",
       "      <td>/data/isshamie/TSS/Processed/Heart/mSTART/f04_...</td>\n",
       "      <td>Heart_mSTART</td>\n",
       "      <td>Heart_mSTART1</td>\n",
       "      <td>Heart</td>\n",
       "    </tr>\n",
       "    <tr>\n",
       "      <th>Kidney/GRO/f04_peaks/merge_bg_2.peak</th>\n",
       "      <td>GRO</td>\n",
       "      <td>/data/isshamie/TSS/Processed/Kidney/GRO/f04_pe...</td>\n",
       "      <td>Kidney_GRO</td>\n",
       "      <td>Kidney_GRO1</td>\n",
       "      <td>Kidney</td>\n",
       "    </tr>\n",
       "  </tbody>\n",
       "</table>\n",
       "</div>"
      ],
      "text/plain": [
       "                                       Experiment  \\\n",
       "BMDMwt/GRO/f04_peaks/merge_bg_2.peak          GRO   \n",
       "Brain/GRO/f04_peaks/merge_bg_2.peak           GRO   \n",
       "Brain/mSTART/f04_peaks/merge_bg_2.peak     mSTART   \n",
       "Heart/mSTART/f04_peaks/merge_bg_2.peak     mSTART   \n",
       "Kidney/GRO/f04_peaks/merge_bg_2.peak          GRO   \n",
       "\n",
       "                                                                                     Full  \\\n",
       "BMDMwt/GRO/f04_peaks/merge_bg_2.peak    /data/isshamie/TSS/Processed/BMDMwt/GRO/f04_pe...   \n",
       "Brain/GRO/f04_peaks/merge_bg_2.peak     /data/isshamie/TSS/Processed/Brain/GRO/f04_pea...   \n",
       "Brain/mSTART/f04_peaks/merge_bg_2.peak  /data/isshamie/TSS/Processed/Brain/mSTART/f04_...   \n",
       "Heart/mSTART/f04_peaks/merge_bg_2.peak  /data/isshamie/TSS/Processed/Heart/mSTART/f04_...   \n",
       "Kidney/GRO/f04_peaks/merge_bg_2.peak    /data/isshamie/TSS/Processed/Kidney/GRO/f04_pe...   \n",
       "\n",
       "                                               Short Short_with_number  Tissue  \n",
       "BMDMwt/GRO/f04_peaks/merge_bg_2.peak      BMDMwt_GRO       BMDMwt_GRO1  BMDMwt  \n",
       "Brain/GRO/f04_peaks/merge_bg_2.peak        Brain_GRO        Brain_GRO1   Brain  \n",
       "Brain/mSTART/f04_peaks/merge_bg_2.peak  Brain_mSTART     Brain_mSTART1   Brain  \n",
       "Heart/mSTART/f04_peaks/merge_bg_2.peak  Heart_mSTART     Heart_mSTART1   Heart  \n",
       "Kidney/GRO/f04_peaks/merge_bg_2.peak      Kidney_GRO       Kidney_GRO1  Kidney  "
      ]
     },
     "execution_count": 2,
     "metadata": {},
     "output_type": "execute_result"
    }
   ],
   "source": [
    "meta_samples = pd.read_csv('meta_samples.csv',index_col=0)\n",
    "meta_samples.head()"
   ]
  },
  {
   "cell_type": "markdown",
   "metadata": {},
   "source": [
    "## Load Parameter file"
   ]
  },
  {
   "cell_type": "code",
   "execution_count": 3,
   "metadata": {
    "ExecuteTime": {
     "end_time": "2018-09-20T21:02:35.739838Z",
     "start_time": "2018-09-20T21:02:35.705720Z"
    },
    "collapsed": true
   },
   "outputs": [],
   "source": [
    "## Parameters specific to where your folders are and your data\n",
    "parameter_file = 'params/params.yaml'\n",
    "\n",
    "\n",
    "\n",
    "with open(parameter_file,'r') as f:\n",
    "    doc = yaml.load(f)\n",
    "\n",
    "data_folder = doc['data_folder']\n",
    "tissues = doc['tissues'].split(',')\n",
    "sys.path.append(doc['pipeline_path'])\n",
    "ref_fa = doc['ref_fa']\n",
    "gff_f=doc['annotation']\n",
    "annotation_gtf=doc['annotation_gtf']\n",
    "\n",
    "RNA_dir = os.path.join(data_folder,'RNA_Total')\n",
    "\n"
   ]
  },
  {
   "cell_type": "markdown",
   "metadata": {},
   "source": [
    "## Load Developing Modules"
   ]
  },
  {
   "cell_type": "code",
   "execution_count": 4,
   "metadata": {
    "ExecuteTime": {
     "end_time": "2018-09-20T21:02:35.770028Z",
     "start_time": "2018-09-20T21:02:35.741997Z"
    },
    "collapsed": true
   },
   "outputs": [],
   "source": [
    "from Modules.Homer import *"
   ]
  },
  {
   "cell_type": "code",
   "execution_count": 5,
   "metadata": {
    "ExecuteTime": {
     "end_time": "2018-09-20T21:02:35.797720Z",
     "start_time": "2018-09-20T21:02:35.772364Z"
    }
   },
   "outputs": [],
   "source": [
    "sys.path.append('/data/isshamie/TSS/Analysis/src')\n",
    "import helper"
   ]
  },
  {
   "cell_type": "markdown",
   "metadata": {},
   "source": [
    "### Tissues with totalRNA"
   ]
  },
  {
   "cell_type": "code",
   "execution_count": 6,
   "metadata": {
    "ExecuteTime": {
     "end_time": "2018-09-20T21:02:35.825259Z",
     "start_time": "2018-09-20T21:02:35.800149Z"
    },
    "collapsed": true
   },
   "outputs": [],
   "source": [
    "tissues_with_RNA = {\n",
    "    'MiscOrgans': 'Misc',\n",
    "    'FemaleReproductive':'ReproductiveTract',\n",
    "    'Brain':'Brain',\n",
    "    'Lung':'Lung',\n",
    "    'Liver':'Liver',\n",
    "    'Spleen':'Spleen',\n",
    "    'Muscle':'Muscle'    \n",
    "}"
   ]
  },
  {
   "cell_type": "markdown",
   "metadata": {},
   "source": [
    "## Example Case here"
   ]
  },
  {
   "cell_type": "code",
   "execution_count": 7,
   "metadata": {
    "ExecuteTime": {
     "end_time": "2018-09-20T21:02:35.853561Z",
     "start_time": "2018-09-20T21:02:35.827878Z"
    },
    "collapsed": true
   },
   "outputs": [],
   "source": [
    "t = 'CHO'\n",
    "s = 'GRO'\n",
    "out_dir = './'\n",
    "\n",
    "in_dir = '/data/isshamie/TSS/Processed/CHO/GRO/'"
   ]
  },
  {
   "cell_type": "code",
   "execution_count": 8,
   "metadata": {
    "ExecuteTime": {
     "end_time": "2018-09-20T21:02:35.883506Z",
     "start_time": "2018-09-20T21:02:35.855974Z"
    },
    "collapsed": true
   },
   "outputs": [],
   "source": [
    "\n",
    "gff_f = '/data/genome/hamster/picr/updated_final_sort.gff3'\n",
    "\n",
    "# 5' file\n",
    "raw_f = 'CHO-5GRO-SD371_S10_R1_001.fastq.gz'\n",
    "trim_f = 'trim_CHO-5GRO-SD371_S10_R1_001.fastq.gz'\n",
    "align_f = 'f02_bam/trim_CHO-5GRO-SD371_S10_R1_001.bam'\n",
    "tag_f = 'f03_tags/trim_CHO-5GRO-SD367_S6_R1_001'\n",
    "\n",
    "# input file\n",
    "in_raw_f = 'CHO-GRO-SD370_S9_R1_001.fastq.gz'\n",
    "in_trim_f = 'trim_CHO-GRO-SD370_S9_R1_001.fastq.gz'\n",
    "in_align_f = 'f02_bam/CHO-GRO-SD370_S9_R1_001.bam'\n",
    "in_tag_f = 'f03_tags/trim_CHO-GRO-SD370_S9_R1_001'"
   ]
  },
  {
   "cell_type": "code",
   "execution_count": 9,
   "metadata": {
    "ExecuteTime": {
     "end_time": "2018-09-20T21:02:35.917077Z",
     "start_time": "2018-09-20T21:02:35.886120Z"
    },
    "collapsed": true
   },
   "outputs": [],
   "source": [
    "def run_process(raw_f,trim_f,align_f,tag_f):\n",
    "    trim_cmd = 'cutadapt --minimum-length 10 -a file:/data/isshamie/TSS/universal_adaptor.fa \\\n",
    "    {raw_f} -o {trim_f}'.format(raw_f=raw_f,trim_f=trim_f) #--cores=3\n",
    "    !{trim_cmd}\n",
    "\n",
    "\n",
    "    align_cmd = 'STAR --genomeDir /data/genome/hamster/picr/picr_STAR_Db\\\n",
    "    --readFilesCommand zcat --readFilesIn {trim_f} --runThreadN 6 --outFileNamePrefix\\\n",
    "    {align_f} --outSAMstrandField intronMotif --outFilterIntronMotifs RemoveNoncanonical\\\n",
    "    --outSAMtype BAM SortedByCoordinate --sjdbGTFfile {gff_f}\\\n",
    "    --sjdbGTFtagExonParentTranscript Parent'.format(trim_f=trim_f,align_f=align_f,gff_f = gff_f)\n",
    "    print(align_cmd)\n",
    "    !{align_cmd}\n",
    "    \n",
    "    tag_f = 'f03_tags/trim_CHO-5GRO-SD367_S6_R1_001.fastq'\n",
    "    tag_cmd = 'makeTagDirectory {tag_f} -genome /data/genome/hamster/picr/picr.fa -checkGC -single \\\n",
    "    {align_f}'.format(tag_f=tag_f,align_f=align_f)\n",
    "    print(tag_cmd)\n",
    "    \n",
    "    return"
   ]
  },
  {
   "cell_type": "code",
   "execution_count": null,
   "metadata": {
    "ExecuteTime": {
     "start_time": "2018-09-20T21:02:32.575Z"
    },
    "scrolled": true
   },
   "outputs": [
    {
     "name": "stdout",
     "output_type": "stream",
     "text": [
      "This is cutadapt 1.16 with Python 2.7.13\n",
      "Command line parameters: --minimum-length 10 -a file:/data/isshamie/TSS/universal_adaptor.fa CHO-5GRO-SD371_S10_R1_001.fastq.gz -o trim_CHO-5GRO-SD371_S10_R1_001.fastq.gz\n",
      "Running on 1 core\n",
      "Trimming 2 adapters with at most 10.0% errors in single-end mode ...\n",
      "Finished in 780.12 s (33 us/read; 1.81 M reads/minute).\n",
      "\n",
      "=== Summary ===\n",
      "\n",
      "Total reads processed:              23,480,806\n",
      "Reads with adapters:                13,163,002 (56.1%)\n",
      "Reads that were too short:             111,417 (0.5%)\n",
      "Reads written (passing filters):    23,369,389 (99.5%)\n",
      "\n",
      "Total basepairs processed: 1,784,541,256 bp\n",
      "Total written (filtered):  1,539,672,189 bp (86.3%)\n",
      "\n",
      "=== Adapter TruSeq ===\n",
      "\n",
      "Sequence: AGATCGGAAGAGCACACGTCT; Type: regular 3'; Length: 21; Trimmed: 8979907 times.\n",
      "\n",
      "No. of allowed errors:\n",
      "0-9 bp: 0; 10-19 bp: 1; 20-21 bp: 2\n",
      "\n",
      "Bases preceding removed adapters:\n",
      "  A: 8.2%\n",
      "  C: 9.9%\n",
      "  G: 17.9%\n",
      "  T: 64.0%\n",
      "  none/other: 0.0%\n",
      "\n",
      "Overview of removed sequences\n",
      "length\tcount\texpect\tmax.err\terror counts\n",
      "3\t615730\t366887.6\t0\t615730\n",
      "4\t462028\t91721.9\t0\t462028\n",
      "5\t395648\t22930.5\t0\t395648\n",
      "6\t398711\t5732.6\t0\t398711\n",
      "7\t405474\t1433.2\t0\t405474\n",
      "8\t408857\t358.3\t0\t408857\n",
      "9\t407744\t89.6\t0\t403810 3934\n",
      "10\t414330\t22.4\t1\t395604 18726\n",
      "11\t406531\t5.6\t1\t385478 21053\n",
      "12\t397497\t1.4\t1\t376221 21276\n",
      "13\t390459\t0.3\t1\t370272 20187\n",
      "14\t398543\t0.1\t1\t374447 24096\n",
      "15\t383618\t0.0\t1\t359927 23691\n",
      "16\t383325\t0.0\t1\t357342 25983\n",
      "17\t362633\t0.0\t1\t338665 23968\n",
      "18\t357153\t0.0\t1\t332200 23764 1189\n",
      "19\t341678\t0.0\t1\t317572 23415 691\n",
      "20\t329413\t0.0\t2\t302031 25088 2294\n",
      "21\t316266\t0.0\t2\t290958 23353 1955\n",
      "22\t299618\t0.0\t2\t276326 21630 1662\n",
      "23\t290933\t0.0\t2\t268163 21077 1693\n",
      "24\t277392\t0.0\t2\t255692 20066 1634\n",
      "25\t267622\t0.0\t2\t247301 18960 1361\n",
      "26\t253677\t0.0\t2\t240275 12485 917\n",
      "27\t5332\t0.0\t2\t3914 1107 311\n",
      "28\t522\t0.0\t2\t160 103 259\n",
      "29\t377\t0.0\t2\t15 95 267\n",
      "30\t742\t0.0\t2\t40 257 445\n",
      "31\t549\t0.0\t2\t46 182 321\n",
      "32\t785\t0.0\t2\t85 286 414\n",
      "33\t674\t0.0\t2\t59 236 379\n",
      "34\t550\t0.0\t2\t61 201 288\n",
      "35\t576\t0.0\t2\t52 205 319\n",
      "36\t517\t0.0\t2\t43 181 293\n",
      "37\t531\t0.0\t2\t52 198 281\n",
      "38\t469\t0.0\t2\t61 151 257\n",
      "39\t436\t0.0\t2\t43 156 237\n",
      "40\t358\t0.0\t2\t34 120 204\n",
      "41\t343\t0.0\t2\t33 104 206\n",
      "42\t316\t0.0\t2\t29 103 184\n",
      "43\t279\t0.0\t2\t29 99 151\n",
      "44\t239\t0.0\t2\t32 74 133\n",
      "45\t183\t0.0\t2\t29 58 96\n",
      "46\t172\t0.0\t2\t25 60 87\n",
      "47\t138\t0.0\t2\t11 45 82\n",
      "48\t104\t0.0\t2\t9 31 64\n",
      "49\t97\t0.0\t2\t7 33 57\n",
      "50\t88\t0.0\t2\t13 26 49\n",
      "51\t61\t0.0\t2\t8 20 33\n",
      "52\t57\t0.0\t2\t8 14 35\n",
      "53\t37\t0.0\t2\t6 9 22\n",
      "54\t36\t0.0\t2\t5 6 25\n",
      "55\t33\t0.0\t2\t1 11 21\n",
      "56\t18\t0.0\t2\t1 4 13\n",
      "57\t22\t0.0\t2\t4 5 13\n",
      "58\t18\t0.0\t2\t3 5 10\n",
      "59\t23\t0.0\t2\t3 7 13\n",
      "60\t35\t0.0\t2\t12 11 12\n",
      "61\t14\t0.0\t2\t4 3 7\n",
      "62\t16\t0.0\t2\t6 3 7\n",
      "63\t15\t0.0\t2\t4 4 7\n",
      "64\t4\t0.0\t2\t1 2 1\n",
      "65\t6\t0.0\t2\t2 1 3\n",
      "66\t7\t0.0\t2\t4 1 2\n",
      "67\t16\t0.0\t2\t5 4 7\n",
      "68\t8\t0.0\t2\t6 1 1\n",
      "69\t14\t0.0\t2\t8 2 4\n",
      "70\t11\t0.0\t2\t6 4 1\n",
      "71\t9\t0.0\t2\t2 4 3\n",
      "72\t8\t0.0\t2\t5 2 1\n",
      "73\t15\t0.0\t2\t10 1 4\n",
      "74\t9\t0.0\t2\t4 2 3\n",
      "75\t3\t0.0\t2\t1 1 1\n",
      "76\t155\t0.0\t2\t73 48 34\n",
      "\n",
      "=== Adapter Illumina ===\n",
      "\n",
      "Sequence: GGAAGAGCACACGTCTGAACTCCAGTCAC; Type: regular 3'; Length: 29; Trimmed: 4183095 times.\n",
      "\n",
      "No. of allowed errors:\n",
      "0-9 bp: 0; 10-19 bp: 1; 20-29 bp: 2\n",
      "\n",
      "Bases preceding removed adapters:\n",
      "  A: 2.7%\n",
      "  C: 92.0%\n",
      "  G: 2.5%\n",
      "  T: 2.7%\n",
      "  none/other: 0.1%\n",
      "WARNING:\n",
      "    The adapter is preceded by \"C\" extremely often.\n",
      "    The provided adapter sequence may be incomplete.\n",
      "    To fix the problem, add \"C\" to the beginning of the adapter sequence.\n",
      "\n",
      "Overview of removed sequences\n",
      "length\tcount\texpect\tmax.err\terror counts\n",
      "3\t243407\t366887.6\t0\t243407\n",
      "4\t79339\t91721.9\t0\t79339\n",
      "5\t23110\t22930.5\t0\t23110\n",
      "6\t9138\t5732.6\t0\t9138\n",
      "7\t2266\t1433.2\t0\t2266\n",
      "8\t903\t358.3\t0\t903\n",
      "9\t864\t89.6\t0\t267 597\n",
      "10\t2160\t22.4\t1\t132 2028\n",
      "11\t1469\t5.6\t1\t102 1367\n",
      "12\t1033\t1.4\t1\t108 925\n",
      "13\t957\t0.3\t1\t91 866\n",
      "14\t823\t0.1\t1\t84 739\n",
      "15\t65\t0.0\t1\t0 65\n",
      "16\t53\t0.0\t1\t2 51\n",
      "17\t38\t0.0\t1\t3 35\n",
      "18\t43\t0.0\t1\t0 41 2\n",
      "19\t45\t0.0\t1\t3 37 5\n",
      "20\t266\t0.0\t2\t32 57 177\n",
      "21\t6230\t0.0\t2\t3812 2209 209\n",
      "22\t255956\t0.0\t2\t238708 14906 2342\n",
      "23\t247861\t0.0\t2\t227351 18962 1548\n",
      "24\t240695\t0.0\t2\t219241 19732 1722\n",
      "25\t231422\t0.0\t2\t209463 19611 2348\n",
      "26\t226820\t0.0\t2\t205836 18814 2170\n",
      "27\t218573\t0.0\t2\t196609 19654 2310\n",
      "28\t202569\t0.0\t2\t182950 17911 1708\n",
      "29\t189004\t0.0\t2\t171097 16410 1497\n",
      "30\t182775\t0.0\t2\t165516 15921 1338\n",
      "31\t174828\t0.0\t2\t158529 14983 1316\n",
      "32\t167801\t0.0\t2\t152055 14447 1299\n",
      "33\t162959\t0.0\t2\t147888 13896 1175\n",
      "34\t153707\t0.0\t2\t139374 13252 1081\n",
      "35\t142649\t0.0\t2\t129198 12425 1026\n",
      "36\t134795\t0.0\t2\t122051 11838 906\n",
      "37\t117065\t0.0\t2\t106031 10187 847\n",
      "38\t112699\t0.0\t2\t102020 9895 784\n",
      "39\t90229\t0.0\t2\t81343 8230 656\n",
      "40\t76527\t0.0\t2\t69076 6918 533\n",
      "41\t63183\t0.0\t2\t56586 6097 500\n",
      "42\t50868\t0.0\t2\t45478 4995 395\n",
      "43\t40845\t0.0\t2\t36388 4157 300\n",
      "44\t32936\t0.0\t2\t29126 3560 250\n",
      "45\t27743\t0.0\t2\t24298 3178 267\n",
      "46\t20640\t0.0\t2\t18055 2388 197\n",
      "47\t16529\t0.0\t2\t14356 2005 168\n",
      "48\t14544\t0.0\t2\t12659 1716 169\n",
      "49\t12024\t0.0\t2\t10443 1452 129\n",
      "50\t9672\t0.0\t2\t8397 1160 115\n",
      "51\t8921\t0.0\t2\t7735 1093 93\n",
      "52\t8055\t0.0\t2\t7013 936 106\n",
      "53\t7367\t0.0\t2\t6373 907 87\n",
      "54\t5982\t0.0\t2\t5223 687 72\n",
      "55\t5393\t0.0\t2\t4628 682 83\n",
      "56\t4655\t0.0\t2\t4057 525 73\n",
      "57\t4478\t0.0\t2\t3896 511 71\n",
      "58\t4155\t0.0\t2\t3600 492 63\n",
      "59\t4076\t0.0\t2\t3506 518 52\n",
      "60\t4011\t0.0\t2\t3480 475 56\n",
      "61\t3778\t0.0\t2\t3307 429 42\n",
      "62\t4154\t0.0\t2\t3620 482 52\n",
      "63\t4097\t0.0\t2\t3511 527 59\n",
      "64\t4052\t0.0\t2\t3534 455 63\n",
      "65\t4226\t0.0\t2\t3671 505 50\n",
      "66\t4399\t0.0\t2\t3816 528 55\n",
      "67\t4435\t0.0\t2\t3874 502 59\n",
      "68\t6715\t0.0\t2\t5902 731 82\n",
      "69\t4917\t0.0\t2\t4257 609 51\n",
      "70\t2420\t0.0\t2\t2077 322 21\n",
      "71\t88182\t0.0\t2\t75855 11687 640\n",
      "72\t1439\t0.0\t2\t966 386 87\n",
      "73\t7\t0.0\t2\t4 2 1\n",
      "74\t2\t0.0\t2\t2\n",
      "75\t1\t0.0\t2\t1\n",
      "76\t3051\t0.0\t2\t2496 508 47\n",
      "\n",
      "WARNING:\n",
      "    One or more of your adapter sequences may be incomplete.\n",
      "    Please see the detailed output above.\n",
      "STAR --genomeDir /data/genome/hamster/picr/picr_STAR_Db    --readFilesCommand zcat --readFilesIn trim_CHO-5GRO-SD371_S10_R1_001.fastq.gz --runThreadN 6 --outFileNamePrefix    f02_bam/trim_CHO-5GRO-SD371_S10_R1_001.bam --outSAMstrandField intronMotif --outFilterIntronMotifs RemoveNoncanonical    --outSAMtype BAM SortedByCoordinate --sjdbGTFfile /data/genome/hamster/picr/updated_final_sort.gff3    --sjdbGTFtagExonParentTranscript Parent\n",
      "Sep 20 14:15:36 ..... started STAR run\n",
      "Sep 20 14:15:36 ..... loading genome\n",
      "Sep 20 14:16:39 ..... processing annotations GTF\n",
      "Sep 20 14:16:48 ..... inserting junctions into the genome indices\n",
      "Sep 20 14:20:36 ..... started mapping\n",
      "Sep 20 14:23:04 ..... started sorting BAM\n",
      "Sep 20 14:23:23 ..... finished successfully\n",
      "makeTagDirectory f03_tags/trim_CHO-5GRO-SD367_S6_R1_001.fastq -genome /data/genome/hamster/picr/picr.fa -checkGC -single     f02_bam/trim_CHO-5GRO-SD371_S10_R1_001.bam\n"
     ]
    }
   ],
   "source": [
    "run_process(raw_f,trim_f,align_f,tag_f)"
   ]
  },
  {
   "cell_type": "code",
   "execution_count": null,
   "metadata": {
    "ExecuteTime": {
     "start_time": "2018-09-20T21:02:32.576Z"
    },
    "scrolled": false
   },
   "outputs": [
    {
     "name": "stdout",
     "output_type": "stream",
     "text": [
      "This is cutadapt 1.16 with Python 2.7.13\r\n",
      "Command line parameters: --minimum-length 10 -a file:/data/isshamie/TSS/universal_adaptor.fa CHO-GRO-SD370_S9_R1_001.fastq.gz -o trim_CHO-GRO-SD370_S9_R1_001.fastq.gz\r\n",
      "Running on 1 core\r\n",
      "Trimming 2 adapters with at most 10.0% errors in single-end mode ...\r\n"
     ]
    }
   ],
   "source": [
    "run_process(in_raw_f,in_trim_f,in_align_f,in_tag_f)"
   ]
  },
  {
   "cell_type": "markdown",
   "metadata": {},
   "source": [
    "# Trim, Align and make tags"
   ]
  },
  {
   "cell_type": "code",
   "execution_count": null,
   "metadata": {
    "ExecuteTime": {
     "start_time": "2018-09-20T20:44:44.465Z"
    },
    "deletable": false,
    "editable": false,
    "run_control": {
     "frozen": true
    }
   },
   "outputs": [
    {
     "name": "stdout",
     "output_type": "stream",
     "text": [
      "cutadapt --minimum-length 10 -a file:/data/isshamie/TSS/universal_adaptor.fa CHO-5GRO-SD371_S10_R1_001.fastq.gz -o trim_CHO-5GRO-SD371_S10_R1_001.fastq.gz\n",
      "This is cutadapt 1.16 with Python 2.7.13\n",
      "Command line parameters: --minimum-length 10 -a file:/data/isshamie/TSS/universal_adaptor.fa CHO-5GRO-SD371_S10_R1_001.fastq.gz -o trim_CHO-5GRO-SD371_S10_R1_001.fastq.gz\n",
      "Running on 1 core\n",
      "Trimming 2 adapters with at most 10.0% errors in single-end mode ...\n"
     ]
    }
   ],
   "source": [
    "# \n",
    "raw_f = 'CHO-5GRO-SD371_S10_R1_001.fastq.gz'\n",
    "trim_f = 'trim_CHO-5GRO-SD371_S10_R1_001.fastq.gz'\n",
    "\n",
    "trim_cmd = 'cutadapt --minimum-length 10 -a file:/data/isshamie/TSS/universal_adaptor.fa \\\n",
    "{raw_f} -o {trim_f}'.format(raw_f=raw_f,trim_f=trim_f) #--cores=3\n",
    "\n",
    "print(trim_cmd)\n",
    "!{trim_cmd}"
   ]
  },
  {
   "cell_type": "code",
   "execution_count": 16,
   "metadata": {
    "ExecuteTime": {
     "end_time": "2018-09-20T19:37:17.813860Z",
     "start_time": "2018-09-20T19:37:17.786413Z"
    },
    "deletable": false,
    "editable": false,
    "run_control": {
     "frozen": true
    },
    "scrolled": true
   },
   "outputs": [
    {
     "name": "stdout",
     "output_type": "stream",
     "text": [
      "STAR --genomeDir /data/genome/hamster/picr/picr_STAR_Db--readFilesCommand zcat --readFilesIn trim_CHO-5GRO-SD371_S10_R1_001.fastq.gz --runThreadN 6 --outFileNamePrefixf02_bam/trim_CHO-5GRO-SD371_S10_R1_001.bam --outSAMstrandField intronMotif --outFilterIntronMotifs RemoveNoncanonical--outSAMtype BAM SortedByCoordinate --sjdbGTFfile /data/genome/hamster/picr/updated_final_sort.gff3--sjdbGTFtagExonParentTranscript Parent\n"
     ]
    }
   ],
   "source": [
    "align_f = 'f02_bam/trim_CHO-5GRO-SD371_S10_R1_001.bam'\n",
    "gff_f = '/data/genome/hamster/picr/updated_final_sort.gff3'\n",
    "\n",
    "align_cmd = 'STAR --genomeDir /data/genome/hamster/picr/picr_STAR_Db\\\n",
    "--readFilesCommand zcat --readFilesIn {trim_f} --runThreadN 6 --outFileNamePrefix\\\n",
    "{align_f} --outSAMstrandField intronMotif --outFilterIntronMotifs RemoveNoncanonical\\\n",
    "--outSAMtype BAM SortedByCoordinate --sjdbGTFfile {gff_f}\\\n",
    "--sjdbGTFtagExonParentTranscript Parent'.format(trim_f=trim_f,align_f=align_f,gff_f = gff_f)\n",
    "print(align_cmd)"
   ]
  },
  {
   "cell_type": "code",
   "execution_count": 18,
   "metadata": {
    "ExecuteTime": {
     "end_time": "2018-09-20T19:46:59.995310Z",
     "start_time": "2018-09-20T19:46:59.968209Z"
    },
    "deletable": false,
    "editable": false,
    "run_control": {
     "frozen": true
    }
   },
   "outputs": [
    {
     "name": "stdout",
     "output_type": "stream",
     "text": [
      "makeTagDirectory f03_tags/trim_CHO-5GRO-SD367_S6_R1_001.fastq -genome /data/genome/hamster/picr/picr.fa -checkGC -single f02_bam/trim_CHO-5GRO-SD371_S10_R1_001.bam\n"
     ]
    }
   ],
   "source": [
    "tag_f = 'f03_tags/trim_CHO-5GRO-SD367_S6_R1_001.fastq'\n",
    "tag_cmd = 'makeTagDirectory {tag_f} -genome /data/genome/hamster/picr/picr.fa -checkGC -single \\\n",
    "{align_f}'.format(tag_f=tag_f,align_f=align_f)\n",
    "print(tag_cmd)"
   ]
  },
  {
   "cell_type": "code",
   "execution_count": 26,
   "metadata": {
    "ExecuteTime": {
     "end_time": "2018-09-20T17:56:53.209392Z",
     "start_time": "2018-09-20T17:56:53.184513Z"
    },
    "deletable": false,
    "editable": false,
    "run_control": {
     "frozen": true
    },
    "scrolled": false
   },
   "outputs": [
    {
     "name": "stdout",
     "output_type": "stream",
     "text": [
      "findPeaks f03_tags/trim_CHO-5GRO-SD367_S6_R1_001.fastq -style tss -o f04_peaks/trim_CHO-5GRO-SD367_S6_R1_001.fastq_and_trim_CHO-GRO-SD370_S9_R1_001.fastq_bg_2.peak -i f03_tags/trim_CHO-GRO-SD370_S9_R1_001.fastq -norm 1000000 -F 2\n"
     ]
    }
   ],
   "source": [
    "findPeaks_cmd = 'findPeaks f03_tags/trim_CHO-5GRO-SD367_S6_R1_001.fastq -style tss -o f04_peaks/trim_CHO-5GRO-SD367_S6_R1_001.fastq_and_trim_CHO-GRO-SD370_S9_R1_001.fastq_bg_2.peak -i f03_tags/trim_CHO-GRO-SD370_S9_R1_001.fastq -norm 1000000 -F 2'\n",
    "print(findPeaks_cmd)"
   ]
  },
  {
   "cell_type": "markdown",
   "metadata": {},
   "source": [
    "---------------"
   ]
  },
  {
   "cell_type": "markdown",
   "metadata": {},
   "source": [
    "---------------"
   ]
  },
  {
   "cell_type": "markdown",
   "metadata": {},
   "source": [
    "---------------"
   ]
  },
  {
   "cell_type": "markdown",
   "metadata": {},
   "source": [
    "---------------"
   ]
  },
  {
   "cell_type": "markdown",
   "metadata": {},
   "source": [
    "---------------"
   ]
  },
  {
   "cell_type": "markdown",
   "metadata": {},
   "source": [
    "# findcsRNA"
   ]
  },
  {
   "cell_type": "code",
   "execution_count": null,
   "metadata": {
    "collapsed": true
   },
   "outputs": [],
   "source": [
    "tss_tag = [tag_f]\n",
    "inp_tag = [in_tag_f]\n",
    "#rna_tag = []"
   ]
  },
  {
   "cell_type": "code",
   "execution_count": null,
   "metadata": {
    "collapsed": true
   },
   "outputs": [],
   "source": [
    "#cmd = 'findcsRNATSS.pl /data/isshamie/TSS/Processed/CHO/mSTART/f03_tags/trim_CHO--mSTART-JHS823_S21_R1_001.fastq -i /data/isshamie/TSS/Processed/CHO/mSTART/f03_tags/trim_CHO--mSTART_input-JHS802_S11_R1_001.fastq -gtf /data/isshamie/genome/updated_final_sort.gtf -genome ch -cpu 30 -o Results/csRNATSS/Example/CHO_trim_CHO--mSTART-JHS823_S21_R1_001.fastq_trim_CHO--mSTART_input-JHS802_S11_R1_001.fastq\n",
    "i = tss_tag[0]\n",
    "j = inp_tag[0]\n",
    "\n",
    "out_name = '%s_%s_%s' % (t,os.path.basename(i),os.path.basename(j))\n",
    "out_f = os.path.join(out_dir,out_name) #'Results/csRNATSS/%s_%s_%s' % (t,os.path.basename(i),os.path.basename(j))\n",
    "\n",
    "cs_cmd = 'findcsRNATSS.pl {start} -i {control} -rna {rna} -gtf {annotation_gtf} -genome ch -cpu 30 -o {out_f}'.format(\n",
    "    start=i,\n",
    "    control=j,\n",
    "    rna=rna_tag,\n",
    "    annotation_gtf=annotation_gtf,\n",
    "    out_f=out_f)"
   ]
  },
  {
   "cell_type": "code",
   "execution_count": null,
   "metadata": {
    "collapsed": true
   },
   "outputs": [],
   "source": [
    "print(cs_cmd)\n",
    "#!{cs_cmd}"
   ]
  },
  {
   "cell_type": "markdown",
   "metadata": {},
   "source": [
    "# Load Results"
   ]
  },
  {
   "cell_type": "code",
   "execution_count": 41,
   "metadata": {
    "ExecuteTime": {
     "end_time": "2018-09-20T18:15:04.157147Z",
     "start_time": "2018-09-20T18:15:03.975731Z"
    }
   },
   "outputs": [
    {
     "name": "stdout",
     "output_type": "stream",
     "text": [
      "(39679, 16)\n"
     ]
    },
    {
     "data": {
      "text/html": [
       "<div>\n",
       "<style scoped>\n",
       "    .dataframe tbody tr th:only-of-type {\n",
       "        vertical-align: middle;\n",
       "    }\n",
       "\n",
       "    .dataframe tbody tr th {\n",
       "        vertical-align: top;\n",
       "    }\n",
       "\n",
       "    .dataframe thead th {\n",
       "        text-align: right;\n",
       "    }\n",
       "</style>\n",
       "<table border=\"1\" class=\"dataframe\">\n",
       "  <thead>\n",
       "    <tr style=\"text-align: right;\">\n",
       "      <th></th>\n",
       "      <th>chr</th>\n",
       "      <th>start</th>\n",
       "      <th>end</th>\n",
       "      <th>strand</th>\n",
       "      <th>score</th>\n",
       "      <th>focusRatio</th>\n",
       "      <th>csRNA</th>\n",
       "      <th>csRNAinput</th>\n",
       "      <th>rnaseq</th>\n",
       "      <th>annotation</th>\n",
       "      <th>Log2Ratio vs. Input</th>\n",
       "      <th>Log2Ratio vs. RNA</th>\n",
       "      <th>rev-csRNA</th>\n",
       "      <th>rev-csRNAinput</th>\n",
       "      <th>rev-RNA</th>\n",
       "      <th>BidirectionalRatio</th>\n",
       "    </tr>\n",
       "    <tr>\n",
       "      <th>#tssID</th>\n",
       "      <th></th>\n",
       "      <th></th>\n",
       "      <th></th>\n",
       "      <th></th>\n",
       "      <th></th>\n",
       "      <th></th>\n",
       "      <th></th>\n",
       "      <th></th>\n",
       "      <th></th>\n",
       "      <th></th>\n",
       "      <th></th>\n",
       "      <th></th>\n",
       "      <th></th>\n",
       "      <th></th>\n",
       "      <th></th>\n",
       "      <th></th>\n",
       "    </tr>\n",
       "  </thead>\n",
       "  <tbody>\n",
       "    <tr>\n",
       "      <th>picr_9-1</th>\n",
       "      <td>picr_9</td>\n",
       "      <td>17081404</td>\n",
       "      <td>17081554</td>\n",
       "      <td>+</td>\n",
       "      <td>122280.2</td>\n",
       "      <td>1.000</td>\n",
       "      <td>122280.20</td>\n",
       "      <td>1045.71</td>\n",
       "      <td>na</td>\n",
       "      <td>other</td>\n",
       "      <td>6.858664</td>\n",
       "      <td>na</td>\n",
       "      <td>na</td>\n",
       "      <td>na</td>\n",
       "      <td>na</td>\n",
       "      <td>na</td>\n",
       "    </tr>\n",
       "    <tr>\n",
       "      <th>picr_54-1</th>\n",
       "      <td>picr_54</td>\n",
       "      <td>1311860</td>\n",
       "      <td>1312010</td>\n",
       "      <td>+</td>\n",
       "      <td>72601.5</td>\n",
       "      <td>1.000</td>\n",
       "      <td>72601.52</td>\n",
       "      <td>140.09</td>\n",
       "      <td>na</td>\n",
       "      <td>other</td>\n",
       "      <td>8.937541</td>\n",
       "      <td>na</td>\n",
       "      <td>na</td>\n",
       "      <td>na</td>\n",
       "      <td>na</td>\n",
       "      <td>na</td>\n",
       "    </tr>\n",
       "    <tr>\n",
       "      <th>picr_58-1</th>\n",
       "      <td>picr_58</td>\n",
       "      <td>8888855</td>\n",
       "      <td>8889005</td>\n",
       "      <td>-</td>\n",
       "      <td>56382.2</td>\n",
       "      <td>1.000</td>\n",
       "      <td>56382.22</td>\n",
       "      <td>597.61</td>\n",
       "      <td>na</td>\n",
       "      <td>other</td>\n",
       "      <td>6.540912</td>\n",
       "      <td>na</td>\n",
       "      <td>na</td>\n",
       "      <td>na</td>\n",
       "      <td>na</td>\n",
       "      <td>na</td>\n",
       "    </tr>\n",
       "    <tr>\n",
       "      <th>picr_160-1</th>\n",
       "      <td>picr_160</td>\n",
       "      <td>705573</td>\n",
       "      <td>705723</td>\n",
       "      <td>+</td>\n",
       "      <td>54934.5</td>\n",
       "      <td>0.936</td>\n",
       "      <td>54837.35</td>\n",
       "      <td>3121.41</td>\n",
       "      <td>na</td>\n",
       "      <td>tssAntisense</td>\n",
       "      <td>4.131407</td>\n",
       "      <td>na</td>\n",
       "      <td>na</td>\n",
       "      <td>na</td>\n",
       "      <td>na</td>\n",
       "      <td>na</td>\n",
       "    </tr>\n",
       "    <tr>\n",
       "      <th>picr_56-1</th>\n",
       "      <td>picr_56</td>\n",
       "      <td>12601780</td>\n",
       "      <td>12601930</td>\n",
       "      <td>+</td>\n",
       "      <td>54051.7</td>\n",
       "      <td>0.913</td>\n",
       "      <td>54051.72</td>\n",
       "      <td>3996.60</td>\n",
       "      <td>na</td>\n",
       "      <td>other</td>\n",
       "      <td>3.754824</td>\n",
       "      <td>na</td>\n",
       "      <td>na</td>\n",
       "      <td>na</td>\n",
       "      <td>na</td>\n",
       "      <td>na</td>\n",
       "    </tr>\n",
       "  </tbody>\n",
       "</table>\n",
       "</div>"
      ],
      "text/plain": [
       "                 chr     start       end strand     score  focusRatio  \\\n",
       "#tssID                                                                  \n",
       "picr_9-1      picr_9  17081404  17081554      +  122280.2       1.000   \n",
       "picr_54-1    picr_54   1311860   1312010      +   72601.5       1.000   \n",
       "picr_58-1    picr_58   8888855   8889005      -   56382.2       1.000   \n",
       "picr_160-1  picr_160    705573    705723      +   54934.5       0.936   \n",
       "picr_56-1    picr_56  12601780  12601930      +   54051.7       0.913   \n",
       "\n",
       "                csRNA  csRNAinput rnaseq    annotation  Log2Ratio vs. Input  \\\n",
       "#tssID                                                                        \n",
       "picr_9-1    122280.20     1045.71     na         other             6.858664   \n",
       "picr_54-1    72601.52      140.09     na         other             8.937541   \n",
       "picr_58-1    56382.22      597.61     na         other             6.540912   \n",
       "picr_160-1   54837.35     3121.41     na  tssAntisense             4.131407   \n",
       "picr_56-1    54051.72     3996.60     na         other             3.754824   \n",
       "\n",
       "           Log2Ratio vs. RNA rev-csRNA rev-csRNAinput rev-RNA  \\\n",
       "#tssID                                                          \n",
       "picr_9-1                  na        na             na      na   \n",
       "picr_54-1                 na        na             na      na   \n",
       "picr_58-1                 na        na             na      na   \n",
       "picr_160-1                na        na             na      na   \n",
       "picr_56-1                 na        na             na      na   \n",
       "\n",
       "           BidirectionalRatio  \n",
       "#tssID                         \n",
       "picr_9-1                   na  \n",
       "picr_54-1                  na  \n",
       "picr_58-1                  na  \n",
       "picr_160-1                 na  \n",
       "picr_56-1                  na  "
      ]
     },
     "execution_count": 41,
     "metadata": {},
     "output_type": "execute_result"
    }
   ],
   "source": [
    "tss = pd.read_csv('Results/csRNATSS/Example/Results/csRNATSS/CHO_trim_CHO-5GRO-SD367_S6_R1_001.fastq_trim_CHO-GRO-SD370_S9_R1_001.fastq.tss.txt'\n",
    "                 ,sep='\\t',index_col = 0)\n",
    "\n",
    "\n",
    "print(tss.shape)\n",
    "tss.head()"
   ]
  },
  {
   "cell_type": "code",
   "execution_count": 40,
   "metadata": {
    "ExecuteTime": {
     "end_time": "2018-09-20T18:14:57.912357Z",
     "start_time": "2018-09-20T18:14:57.844760Z"
    }
   },
   "outputs": [
    {
     "name": "stdout",
     "output_type": "stream",
     "text": [
      "(2006, 16)\n"
     ]
    },
    {
     "data": {
      "text/html": [
       "<div>\n",
       "<style scoped>\n",
       "    .dataframe tbody tr th:only-of-type {\n",
       "        vertical-align: middle;\n",
       "    }\n",
       "\n",
       "    .dataframe tbody tr th {\n",
       "        vertical-align: top;\n",
       "    }\n",
       "\n",
       "    .dataframe thead th {\n",
       "        text-align: right;\n",
       "    }\n",
       "</style>\n",
       "<table border=\"1\" class=\"dataframe\">\n",
       "  <thead>\n",
       "    <tr style=\"text-align: right;\">\n",
       "      <th></th>\n",
       "      <th>chr</th>\n",
       "      <th>start</th>\n",
       "      <th>end</th>\n",
       "      <th>strand</th>\n",
       "      <th>score</th>\n",
       "      <th>focusRatio</th>\n",
       "      <th>csRNA</th>\n",
       "      <th>csRNAinput</th>\n",
       "      <th>rnaseq</th>\n",
       "      <th>annotation</th>\n",
       "      <th>Log2Ratio vs. Input</th>\n",
       "      <th>Log2Ratio vs. RNA</th>\n",
       "      <th>rev-csRNA</th>\n",
       "      <th>rev-csRNAinput</th>\n",
       "      <th>rev-RNA</th>\n",
       "      <th>BidirectionalRatio</th>\n",
       "    </tr>\n",
       "    <tr>\n",
       "      <th>#tssID</th>\n",
       "      <th></th>\n",
       "      <th></th>\n",
       "      <th></th>\n",
       "      <th></th>\n",
       "      <th></th>\n",
       "      <th></th>\n",
       "      <th></th>\n",
       "      <th></th>\n",
       "      <th></th>\n",
       "      <th></th>\n",
       "      <th></th>\n",
       "      <th></th>\n",
       "      <th></th>\n",
       "      <th></th>\n",
       "      <th></th>\n",
       "      <th></th>\n",
       "    </tr>\n",
       "  </thead>\n",
       "  <tbody>\n",
       "    <tr>\n",
       "      <th>picr_83-1</th>\n",
       "      <td>picr_83</td>\n",
       "      <td>422066</td>\n",
       "      <td>422216</td>\n",
       "      <td>-</td>\n",
       "      <td>48384.4</td>\n",
       "      <td>0.994</td>\n",
       "      <td>48383.41</td>\n",
       "      <td>675.60</td>\n",
       "      <td>na</td>\n",
       "      <td>otherExon</td>\n",
       "      <td>6.145455</td>\n",
       "      <td>na</td>\n",
       "      <td>na</td>\n",
       "      <td>na</td>\n",
       "      <td>na</td>\n",
       "      <td>na</td>\n",
       "    </tr>\n",
       "    <tr>\n",
       "      <th>picr_8-1</th>\n",
       "      <td>picr_8</td>\n",
       "      <td>22749807</td>\n",
       "      <td>22749957</td>\n",
       "      <td>-</td>\n",
       "      <td>25182.6</td>\n",
       "      <td>0.924</td>\n",
       "      <td>24961.40</td>\n",
       "      <td>2815.84</td>\n",
       "      <td>na</td>\n",
       "      <td>otherExon</td>\n",
       "      <td>3.144431</td>\n",
       "      <td>na</td>\n",
       "      <td>na</td>\n",
       "      <td>na</td>\n",
       "      <td>na</td>\n",
       "      <td>na</td>\n",
       "    </tr>\n",
       "    <tr>\n",
       "      <th>picr_114-1</th>\n",
       "      <td>picr_114</td>\n",
       "      <td>3985953</td>\n",
       "      <td>3986103</td>\n",
       "      <td>+</td>\n",
       "      <td>24711.3</td>\n",
       "      <td>0.999</td>\n",
       "      <td>24709.81</td>\n",
       "      <td>348.93</td>\n",
       "      <td>na</td>\n",
       "      <td>otherExon</td>\n",
       "      <td>6.113766</td>\n",
       "      <td>na</td>\n",
       "      <td>na</td>\n",
       "      <td>na</td>\n",
       "      <td>na</td>\n",
       "      <td>na</td>\n",
       "    </tr>\n",
       "    <tr>\n",
       "      <th>picr_16-1</th>\n",
       "      <td>picr_16</td>\n",
       "      <td>20980569</td>\n",
       "      <td>20980719</td>\n",
       "      <td>+</td>\n",
       "      <td>21528.9</td>\n",
       "      <td>0.879</td>\n",
       "      <td>21528.92</td>\n",
       "      <td>1454.22</td>\n",
       "      <td>na</td>\n",
       "      <td>otherExon</td>\n",
       "      <td>3.880580</td>\n",
       "      <td>na</td>\n",
       "      <td>na</td>\n",
       "      <td>na</td>\n",
       "      <td>na</td>\n",
       "      <td>na</td>\n",
       "    </tr>\n",
       "    <tr>\n",
       "      <th>picr_13-4</th>\n",
       "      <td>picr_13</td>\n",
       "      <td>17794054</td>\n",
       "      <td>17794204</td>\n",
       "      <td>+</td>\n",
       "      <td>9068.4</td>\n",
       "      <td>0.997</td>\n",
       "      <td>9067.90</td>\n",
       "      <td>1041.34</td>\n",
       "      <td>na</td>\n",
       "      <td>otherExon</td>\n",
       "      <td>3.112559</td>\n",
       "      <td>na</td>\n",
       "      <td>na</td>\n",
       "      <td>na</td>\n",
       "      <td>na</td>\n",
       "      <td>na</td>\n",
       "    </tr>\n",
       "  </tbody>\n",
       "</table>\n",
       "</div>"
      ],
      "text/plain": [
       "                 chr     start       end strand    score  focusRatio  \\\n",
       "#tssID                                                                 \n",
       "picr_83-1    picr_83    422066    422216      -  48384.4       0.994   \n",
       "picr_8-1      picr_8  22749807  22749957      -  25182.6       0.924   \n",
       "picr_114-1  picr_114   3985953   3986103      +  24711.3       0.999   \n",
       "picr_16-1    picr_16  20980569  20980719      +  21528.9       0.879   \n",
       "picr_13-4    picr_13  17794054  17794204      +   9068.4       0.997   \n",
       "\n",
       "               csRNA  csRNAinput rnaseq annotation  Log2Ratio vs. Input  \\\n",
       "#tssID                                                                    \n",
       "picr_83-1   48383.41      675.60     na  otherExon             6.145455   \n",
       "picr_8-1    24961.40     2815.84     na  otherExon             3.144431   \n",
       "picr_114-1  24709.81      348.93     na  otherExon             6.113766   \n",
       "picr_16-1   21528.92     1454.22     na  otherExon             3.880580   \n",
       "picr_13-4    9067.90     1041.34     na  otherExon             3.112559   \n",
       "\n",
       "           Log2Ratio vs. RNA rev-csRNA rev-csRNAinput rev-RNA  \\\n",
       "#tssID                                                          \n",
       "picr_83-1                 na        na             na      na   \n",
       "picr_8-1                  na        na             na      na   \n",
       "picr_114-1                na        na             na      na   \n",
       "picr_16-1                 na        na             na      na   \n",
       "picr_13-4                 na        na             na      na   \n",
       "\n",
       "           BidirectionalRatio  \n",
       "#tssID                         \n",
       "picr_83-1                  na  \n",
       "picr_8-1                   na  \n",
       "picr_114-1                 na  \n",
       "picr_16-1                  na  \n",
       "picr_13-4                  na  "
      ]
     },
     "execution_count": 40,
     "metadata": {},
     "output_type": "execute_result"
    }
   ],
   "source": [
    "exon = pd.read_csv('Results/csRNATSS/Example/Results/csRNATSS/CHO_trim_CHO-5GRO-SD367_S6_R1_001.fastq_trim_CHO-GRO-SD370_S9_R1_001.fastq.annexons.txt'\n",
    "                 ,sep='\\t', index_col = 0)\n",
    "print(exon.shape)\n",
    "exon.head()"
   ]
  },
  {
   "cell_type": "code",
   "execution_count": 39,
   "metadata": {
    "ExecuteTime": {
     "end_time": "2018-09-20T18:14:52.049466Z",
     "start_time": "2018-09-20T18:14:51.886125Z"
    }
   },
   "outputs": [
    {
     "name": "stdout",
     "output_type": "stream",
     "text": [
      "(37673, 16)\n"
     ]
    },
    {
     "data": {
      "text/html": [
       "<div>\n",
       "<style scoped>\n",
       "    .dataframe tbody tr th:only-of-type {\n",
       "        vertical-align: middle;\n",
       "    }\n",
       "\n",
       "    .dataframe tbody tr th {\n",
       "        vertical-align: top;\n",
       "    }\n",
       "\n",
       "    .dataframe thead th {\n",
       "        text-align: right;\n",
       "    }\n",
       "</style>\n",
       "<table border=\"1\" class=\"dataframe\">\n",
       "  <thead>\n",
       "    <tr style=\"text-align: right;\">\n",
       "      <th></th>\n",
       "      <th>chr</th>\n",
       "      <th>start</th>\n",
       "      <th>end</th>\n",
       "      <th>strand</th>\n",
       "      <th>score</th>\n",
       "      <th>focusRatio</th>\n",
       "      <th>csRNA</th>\n",
       "      <th>csRNAinput</th>\n",
       "      <th>rnaseq</th>\n",
       "      <th>annotation</th>\n",
       "      <th>Log2Ratio vs. Input</th>\n",
       "      <th>Log2Ratio vs. RNA</th>\n",
       "      <th>rev-csRNA</th>\n",
       "      <th>rev-csRNAinput</th>\n",
       "      <th>rev-RNA</th>\n",
       "      <th>BidirectionalRatio</th>\n",
       "    </tr>\n",
       "    <tr>\n",
       "      <th>#tssID</th>\n",
       "      <th></th>\n",
       "      <th></th>\n",
       "      <th></th>\n",
       "      <th></th>\n",
       "      <th></th>\n",
       "      <th></th>\n",
       "      <th></th>\n",
       "      <th></th>\n",
       "      <th></th>\n",
       "      <th></th>\n",
       "      <th></th>\n",
       "      <th></th>\n",
       "      <th></th>\n",
       "      <th></th>\n",
       "      <th></th>\n",
       "      <th></th>\n",
       "    </tr>\n",
       "  </thead>\n",
       "  <tbody>\n",
       "    <tr>\n",
       "      <th>picr_9-1</th>\n",
       "      <td>picr_9</td>\n",
       "      <td>17081404</td>\n",
       "      <td>17081554</td>\n",
       "      <td>+</td>\n",
       "      <td>122280.2</td>\n",
       "      <td>1.000</td>\n",
       "      <td>122280.20</td>\n",
       "      <td>1045.71</td>\n",
       "      <td>na</td>\n",
       "      <td>other</td>\n",
       "      <td>6.858664</td>\n",
       "      <td>na</td>\n",
       "      <td>na</td>\n",
       "      <td>na</td>\n",
       "      <td>na</td>\n",
       "      <td>na</td>\n",
       "    </tr>\n",
       "    <tr>\n",
       "      <th>picr_54-1</th>\n",
       "      <td>picr_54</td>\n",
       "      <td>1311860</td>\n",
       "      <td>1312010</td>\n",
       "      <td>+</td>\n",
       "      <td>72601.5</td>\n",
       "      <td>1.000</td>\n",
       "      <td>72601.52</td>\n",
       "      <td>140.09</td>\n",
       "      <td>na</td>\n",
       "      <td>other</td>\n",
       "      <td>8.937541</td>\n",
       "      <td>na</td>\n",
       "      <td>na</td>\n",
       "      <td>na</td>\n",
       "      <td>na</td>\n",
       "      <td>na</td>\n",
       "    </tr>\n",
       "    <tr>\n",
       "      <th>picr_58-1</th>\n",
       "      <td>picr_58</td>\n",
       "      <td>8888855</td>\n",
       "      <td>8889005</td>\n",
       "      <td>-</td>\n",
       "      <td>56382.2</td>\n",
       "      <td>1.000</td>\n",
       "      <td>56382.22</td>\n",
       "      <td>597.61</td>\n",
       "      <td>na</td>\n",
       "      <td>other</td>\n",
       "      <td>6.540912</td>\n",
       "      <td>na</td>\n",
       "      <td>na</td>\n",
       "      <td>na</td>\n",
       "      <td>na</td>\n",
       "      <td>na</td>\n",
       "    </tr>\n",
       "    <tr>\n",
       "      <th>picr_160-1</th>\n",
       "      <td>picr_160</td>\n",
       "      <td>705573</td>\n",
       "      <td>705723</td>\n",
       "      <td>+</td>\n",
       "      <td>54934.5</td>\n",
       "      <td>0.936</td>\n",
       "      <td>54837.35</td>\n",
       "      <td>3121.41</td>\n",
       "      <td>na</td>\n",
       "      <td>tssAntisense</td>\n",
       "      <td>4.131407</td>\n",
       "      <td>na</td>\n",
       "      <td>na</td>\n",
       "      <td>na</td>\n",
       "      <td>na</td>\n",
       "      <td>na</td>\n",
       "    </tr>\n",
       "    <tr>\n",
       "      <th>picr_56-1</th>\n",
       "      <td>picr_56</td>\n",
       "      <td>12601780</td>\n",
       "      <td>12601930</td>\n",
       "      <td>+</td>\n",
       "      <td>54051.7</td>\n",
       "      <td>0.913</td>\n",
       "      <td>54051.72</td>\n",
       "      <td>3996.60</td>\n",
       "      <td>na</td>\n",
       "      <td>other</td>\n",
       "      <td>3.754824</td>\n",
       "      <td>na</td>\n",
       "      <td>na</td>\n",
       "      <td>na</td>\n",
       "      <td>na</td>\n",
       "      <td>na</td>\n",
       "    </tr>\n",
       "  </tbody>\n",
       "</table>\n",
       "</div>"
      ],
      "text/plain": [
       "                 chr     start       end strand     score  focusRatio  \\\n",
       "#tssID                                                                  \n",
       "picr_9-1      picr_9  17081404  17081554      +  122280.2       1.000   \n",
       "picr_54-1    picr_54   1311860   1312010      +   72601.5       1.000   \n",
       "picr_58-1    picr_58   8888855   8889005      -   56382.2       1.000   \n",
       "picr_160-1  picr_160    705573    705723      +   54934.5       0.936   \n",
       "picr_56-1    picr_56  12601780  12601930      +   54051.7       0.913   \n",
       "\n",
       "                csRNA  csRNAinput rnaseq    annotation  Log2Ratio vs. Input  \\\n",
       "#tssID                                                                        \n",
       "picr_9-1    122280.20     1045.71     na         other             6.858664   \n",
       "picr_54-1    72601.52      140.09     na         other             8.937541   \n",
       "picr_58-1    56382.22      597.61     na         other             6.540912   \n",
       "picr_160-1   54837.35     3121.41     na  tssAntisense             4.131407   \n",
       "picr_56-1    54051.72     3996.60     na         other             3.754824   \n",
       "\n",
       "           Log2Ratio vs. RNA rev-csRNA rev-csRNAinput rev-RNA  \\\n",
       "#tssID                                                          \n",
       "picr_9-1                  na        na             na      na   \n",
       "picr_54-1                 na        na             na      na   \n",
       "picr_58-1                 na        na             na      na   \n",
       "picr_160-1                na        na             na      na   \n",
       "picr_56-1                 na        na             na      na   \n",
       "\n",
       "           BidirectionalRatio  \n",
       "#tssID                         \n",
       "picr_9-1                   na  \n",
       "picr_54-1                  na  \n",
       "picr_58-1                  na  \n",
       "picr_160-1                 na  \n",
       "picr_56-1                  na  "
      ]
     },
     "execution_count": 39,
     "metadata": {},
     "output_type": "execute_result"
    }
   ],
   "source": [
    "anntss = pd.read_csv('Results/csRNATSS/CHO_trim_CHO-5GRO-SD367_S6_R1_001.fastq_trim_CHO-GRO-SD370_S9_R1_001.fastq.anntss.txt'\n",
    "                 ,sep='\\t', index_col = 0)\n",
    "print(anntss.shape)\n",
    "anntss.head()"
   ]
  },
  {
   "cell_type": "markdown",
   "metadata": {},
   "source": [
    "# Visualize"
   ]
  },
  {
   "cell_type": "code",
   "execution_count": 44,
   "metadata": {
    "ExecuteTime": {
     "end_time": "2018-09-20T18:16:40.616270Z",
     "start_time": "2018-09-20T18:16:40.200708Z"
    }
   },
   "outputs": [
    {
     "data": {
      "image/png": "[encoded data removed]",
      "text/plain": [
       "<matplotlib.figure.Figure at 0x7f6779f81fd0>"
      ]
     },
     "metadata": {
      "image/png": {
       "height": 401,
       "width": 555
      }
     },
     "output_type": "display_data"
    }
   ],
   "source": [
    "f = plt.figure()\n",
    "\n",
    "## Setup bin edges\n",
    "num_bins = 100\n",
    "concat = np.concatenate((np.array(exon_peaks['Log2Ratio vs. Input']),np.array(peaks['Log2Ratio vs. Input'])))\n",
    "step = np.ceil(np.ceil(concat.max()) - np.floor(concat.min()))/num_bins\n",
    "bins = np.arange(np.floor(concat.min()),np.ceil(concat.max()),step)\n",
    "\n",
    "## Exon peaks\n",
    "counts_exon, bin_edges = np.histogram (exon_peaks['Log2Ratio vs. Input'], bins=bins, density=True)\n",
    "cdf_exon = np.cumsum(counts_exon)\n",
    "cdf_exon = cdf_exon/cdf_exon[-1]\n",
    "sdf_exon = 1-cdf_exon\n",
    "plt.plot(bin_edges[1:], sdf_exon,label='Exon')\n",
    "\n",
    "## TSS peaks\n",
    "counts_tss, bin_edges = np.histogram (peaks['Log2Ratio vs. Input'], bins=bins, density=True)\n",
    "cdf_tss = np.cumsum(counts_tss)\n",
    "cdf_tss = cdf_tss/cdf_tss[-1]\n",
    "sdf_tss = 1-cdf_tss\n",
    "plt.plot(bin_edges[1:], sdf_tss,color='g',label='TSS')\n",
    "\n",
    "plt.plot(bin_edges[1:],sdf_tss-sdf_exon,color='gray',label='Diff')\n",
    "\n",
    "\n",
    "plt.legend();\n",
    "plt.title(name + ' Log2Ratio Start-seq over Total Input SDF' );\n"
   ]
  }
 ],
 "metadata": {
  "kernelspec": {
   "display_name": "Python 2",
   "language": "python",
   "name": "python2"
  },
  "language_info": {
   "codemirror_mode": {
    "name": "ipython",
    "version": 3
   },
   "file_extension": ".py",
   "mimetype": "text/x-python",
   "name": "python",
   "nbconvert_exporter": "python",
   "pygments_lexer": "ipython3",
   "version": "3.7.3"
  }
 },
 "nbformat": 4,
 "nbformat_minor": 2
}
