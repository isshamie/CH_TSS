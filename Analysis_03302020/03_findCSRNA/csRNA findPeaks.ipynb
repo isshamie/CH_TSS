{
 "cells": [
  {
   "cell_type": "code",
   "execution_count": 1,
   "metadata": {
    "ExecuteTime": {
     "end_time": "2020-04-07T23:20:27.340544Z",
     "start_time": "2020-04-07T23:20:26.887741Z"
    },
    "scrolled": true
   },
   "outputs": [
    {
     "name": "stdout",
     "output_type": "stream",
     "text": [
      "{'data_folder': '/data/isshamie/TSS/NCBI_PICR_103_Processed/', 'results': '/data/isshamie/TSS/Analysis/Analysis_03302020/Results/', 'RNAseq_QC': '/data/isshamie/TSS/NCBI_PICR_103_Processed/RNAseq/2017_12_15_hamster_Seq/fastqc/', 'RNAseq_folder': '/data/isshamie/TSS/NCBI_PICR_103_Processed/RNAseq/2017_12_15_hamster_Seq/', 'pipeline_path': '/data/isshamie/TSS/Analysis/src/', 'tissues': 'BMDM1hKLA,BMDMwt,Brain,FemaleReproductive,Heart,Kidney,Liver,Lung,MiscOrgans,Muscle,Pancreas,Spleen,CHO', 'ref_fa': '/data/isshamie/genome/ncbi_anno_103/GCF_003668045.1_CriGri-PICR_genomic.fna', 'annotation': '/data/isshamie/genome/ncbi_anno_103/alt_CriGri-PICR_top_level.gff3', 'annotation_gtf': '/data/isshamie/genome/ncbi_anno_103/alt_CriGri-PICR_top_level.gtf', 'mRNA_peak_file': '/data/isshamie/genome/ncbi_anno_103/mRNA_final.peak', 'mRNA_peak_150_file': '/data/isshamie/genome/ncbi_anno_103/mRNA_final_150.peak', 'tss_annotation': '/data/isshamie/genome/ncbi_anno_103/start_site_mRNA_final.tsv', 'cds_annotation': '/data/isshamie/genome/ncbi_anno_103/CDS.bed', 'motif_folder': '/data/isshamie/TSS/Analysis/supplemental/homer_motifs/', 'supplemental': '/data/isshamie/TSS/Analysis/supplemental', 'cho_rna_file': '/data/shangzhong/DE/tpm_using_picr.txt', 'htseq_anno_source': 'ncbi', 'strand_specific': 'yes', 'id_name': 'id'}\n"
     ]
    },
    {
     "name": "stderr",
     "output_type": "stream",
     "text": [
      "/home/isshamie/software/anaconda2/envs/TSS/lib/python3.7/site-packages/ipykernel_launcher.py:12: YAMLLoadWarning: calling yaml.load() without Loader=... is deprecated, as the default Loader is unsafe. Please read https://msg.pyyaml.org/load for full details.\n",
      "  if sys.path[0] == '':\n"
     ]
    }
   ],
   "source": [
    "parameter_file = '../parameters/params.yaml'\n",
    "\n",
    "import yaml\n",
    "import sys\n",
    "import glob\n",
    "import os\n",
    "from os.path import join, basename\n",
    "import pandas as pd\n",
    "import re\n",
    "\n",
    "with open(parameter_file,'r') as f:\n",
    "    doc = yaml.load(f)\n",
    "\n",
    "print(doc)\n",
    "gtf = doc[\"annotation_gtf\"]\n",
    "ref_fa = doc[\"ref_fa\"]"
   ]
  },
  {
   "cell_type": "code",
   "execution_count": 2,
   "metadata": {
    "ExecuteTime": {
     "end_time": "2020-04-07T23:20:27.471097Z",
     "start_time": "2020-04-07T23:20:27.343058Z"
    }
   },
   "outputs": [
    {
     "name": "stdout",
     "output_type": "stream",
     "text": [
      "/data2/resources/software/homer/v4.11_10242019/bin//homer\r\n"
     ]
    }
   ],
   "source": [
    "homer_path =  \"/data2/resources/software/homer/v4.11_10242019/bin/\"\n",
    "os.environ['PATH'] = f\"{homer_path}:{os.environ['PATH']}\"\n",
    "!which homer"
   ]
  },
  {
   "cell_type": "code",
   "execution_count": 3,
   "metadata": {
    "ExecuteTime": {
     "end_time": "2020-04-07T23:20:27.483554Z",
     "start_time": "2020-04-07T23:20:27.477186Z"
    }
   },
   "outputs": [],
   "source": [
    "file_path = doc[\"data_folder\"]\n",
    "\n",
    "qc_dir = join(file_path,\"QC\")\n",
    "multiqc_dir = join(file_path,\"multiqc\")\n",
    "\n",
    "trim_qc_dir = join(file_path,\"trim_QC\")\n",
    "trim_multiqc_dir = join(file_path,\"trim_multiqc\")\n",
    "\n",
    "bam_dir = join(file_path, \"RNAseq\",\"sortBam\")\n",
    "# ht_dir = join(file_path, 'htseq')\n",
    "tag_dir = join(file_path, \"RNAseq\",'tags')\n",
    "# RNA_SeQC = join(file_path,'RNA_SeQC')\n",
    "\n",
    "results = doc[\"results\"]\n",
    "csRNA_dir = join(results, 'csRNA_peaks')\n",
    "if not os.path.exists(csRNA_dir):\n",
    "    os.mkdir(csRNA_dir)"
   ]
  },
  {
   "cell_type": "markdown",
   "metadata": {},
   "source": [
    "## Read in metasamples"
   ]
  },
  {
   "cell_type": "code",
   "execution_count": 4,
   "metadata": {
    "ExecuteTime": {
     "end_time": "2020-04-07T23:20:27.512291Z",
     "start_time": "2020-04-07T23:20:27.485345Z"
    }
   },
   "outputs": [
    {
     "data": {
      "text/html": [
       "<div>\n",
       "<style scoped>\n",
       "    .dataframe tbody tr th:only-of-type {\n",
       "        vertical-align: middle;\n",
       "    }\n",
       "\n",
       "    .dataframe tbody tr th {\n",
       "        vertical-align: top;\n",
       "    }\n",
       "\n",
       "    .dataframe thead th {\n",
       "        text-align: right;\n",
       "    }\n",
       "</style>\n",
       "<table border=\"1\" class=\"dataframe\">\n",
       "  <thead>\n",
       "    <tr style=\"text-align: right;\">\n",
       "      <th></th>\n",
       "      <th>Tissue</th>\n",
       "      <th>Experiment</th>\n",
       "      <th>Name</th>\n",
       "      <th>Full</th>\n",
       "    </tr>\n",
       "  </thead>\n",
       "  <tbody>\n",
       "    <tr>\n",
       "      <td>CHBMDM1hKLA2_ATAC_JHS1000_SD_AGGTTGGG_S11_L001_R1_001.fastq.gz</td>\n",
       "      <td>BMDM1hKLA</td>\n",
       "      <td>ATAC</td>\n",
       "      <td>BMDM1hKLA_ATAC1</td>\n",
       "      <td>CHBMDM1hKLA2_ATAC_JHS1000_SD_AGGTTGGG_S11_L001...</td>\n",
       "    </tr>\n",
       "    <tr>\n",
       "      <td>CHBMDM1hKLA1_ATAC_JHS998_SD_TGGGTTTC_S9_L001_R1_001.fastq.gz</td>\n",
       "      <td>BMDM1hKLA</td>\n",
       "      <td>ATAC</td>\n",
       "      <td>BMDM1hKLA_ATAC2</td>\n",
       "      <td>CHBMDM1hKLA1_ATAC_JHS998_SD_TGGGTTTC_S9_L001_R...</td>\n",
       "    </tr>\n",
       "    <tr>\n",
       "      <td>CHBMDM1hKLA_GRO_JHS1027_SD_CAAAAG_S42_L003_R1_001.fastq.gz</td>\n",
       "      <td>BMDM1hKLA</td>\n",
       "      <td>GRO</td>\n",
       "      <td>BMDM1hKLA_GRO1</td>\n",
       "      <td>CHBMDM1hKLA_GRO_JHS1027_SD_CAAAAG_S42_L003_R1_...</td>\n",
       "    </tr>\n",
       "    <tr>\n",
       "      <td>CHBMDM1hKLA_GRO_JHS1034_SD_AGTCAA_S49_L003_R1_001.fastq.gz</td>\n",
       "      <td>BMDM1hKLA</td>\n",
       "      <td>GROCap</td>\n",
       "      <td>BMDM1hKLA_GROCap1</td>\n",
       "      <td>CHBMDM1hKLA_GRO_JHS1034_SD_AGTCAA_S49_L003_R1_...</td>\n",
       "    </tr>\n",
       "    <tr>\n",
       "      <td>CHBMDMVehic2_ATAC_JHS999_SD_TGGTCACA_S10_L001_R1_001.fastq.gz</td>\n",
       "      <td>BMDMwt</td>\n",
       "      <td>ATAC</td>\n",
       "      <td>BMDMwt_ATAC1</td>\n",
       "      <td>CHBMDMVehic2_ATAC_JHS999_SD_TGGTCACA_S10_L001_...</td>\n",
       "    </tr>\n",
       "  </tbody>\n",
       "</table>\n",
       "</div>"
      ],
      "text/plain": [
       "                                                       Tissue Experiment  \\\n",
       "CHBMDM1hKLA2_ATAC_JHS1000_SD_AGGTTGGG_S11_L001_...  BMDM1hKLA       ATAC   \n",
       "CHBMDM1hKLA1_ATAC_JHS998_SD_TGGGTTTC_S9_L001_R1...  BMDM1hKLA       ATAC   \n",
       "CHBMDM1hKLA_GRO_JHS1027_SD_CAAAAG_S42_L003_R1_0...  BMDM1hKLA        GRO   \n",
       "CHBMDM1hKLA_GRO_JHS1034_SD_AGTCAA_S49_L003_R1_0...  BMDM1hKLA     GROCap   \n",
       "CHBMDMVehic2_ATAC_JHS999_SD_TGGTCACA_S10_L001_R...     BMDMwt       ATAC   \n",
       "\n",
       "                                                                 Name  \\\n",
       "CHBMDM1hKLA2_ATAC_JHS1000_SD_AGGTTGGG_S11_L001_...    BMDM1hKLA_ATAC1   \n",
       "CHBMDM1hKLA1_ATAC_JHS998_SD_TGGGTTTC_S9_L001_R1...    BMDM1hKLA_ATAC2   \n",
       "CHBMDM1hKLA_GRO_JHS1027_SD_CAAAAG_S42_L003_R1_0...     BMDM1hKLA_GRO1   \n",
       "CHBMDM1hKLA_GRO_JHS1034_SD_AGTCAA_S49_L003_R1_0...  BMDM1hKLA_GROCap1   \n",
       "CHBMDMVehic2_ATAC_JHS999_SD_TGGTCACA_S10_L001_R...       BMDMwt_ATAC1   \n",
       "\n",
       "                                                                                                 Full  \n",
       "CHBMDM1hKLA2_ATAC_JHS1000_SD_AGGTTGGG_S11_L001_...  CHBMDM1hKLA2_ATAC_JHS1000_SD_AGGTTGGG_S11_L001...  \n",
       "CHBMDM1hKLA1_ATAC_JHS998_SD_TGGGTTTC_S9_L001_R1...  CHBMDM1hKLA1_ATAC_JHS998_SD_TGGGTTTC_S9_L001_R...  \n",
       "CHBMDM1hKLA_GRO_JHS1027_SD_CAAAAG_S42_L003_R1_0...  CHBMDM1hKLA_GRO_JHS1027_SD_CAAAAG_S42_L003_R1_...  \n",
       "CHBMDM1hKLA_GRO_JHS1034_SD_AGTCAA_S49_L003_R1_0...  CHBMDM1hKLA_GRO_JHS1034_SD_AGTCAA_S49_L003_R1_...  \n",
       "CHBMDMVehic2_ATAC_JHS999_SD_TGGTCACA_S10_L001_R...  CHBMDMVehic2_ATAC_JHS999_SD_TGGTCACA_S10_L001_...  "
      ]
     },
     "execution_count": 4,
     "metadata": {},
     "output_type": "execute_result"
    }
   ],
   "source": [
    "meta = pd.read_csv('../../params/raw_metaSamples.tsv', sep=\"\\t\", index_col=0)\n",
    "meta.head()\n"
   ]
  },
  {
   "cell_type": "markdown",
   "metadata": {},
   "source": [
    "## Add in RNA metasamples for Tissues (save in Results?)"
   ]
  },
  {
   "cell_type": "code",
   "execution_count": 5,
   "metadata": {
    "ExecuteTime": {
     "end_time": "2020-04-07T23:20:27.517878Z",
     "start_time": "2020-04-07T23:20:27.513807Z"
    },
    "scrolled": false
   },
   "outputs": [
    {
     "data": {
      "text/plain": [
       "['/data/isshamie/TSS/NCBI_PICR_103_Processed/RNAseq/sortBam/NL10_Misc_S10_L006_R1_001.fastq.sorted.bam',\n",
       " '/data/isshamie/TSS/NCBI_PICR_103_Processed/RNAseq/sortBam/NL4_Lung_S4_L006_R1_001.fastq.sort.bam',\n",
       " '/data/isshamie/TSS/NCBI_PICR_103_Processed/RNAseq/sortBam/NL7_Brain2_S7_L006_R1_001.fastq.sort.bam',\n",
       " '/data/isshamie/TSS/NCBI_PICR_103_Processed/RNAseq/sortBam/NL6_Heart_S6_L006_R1_001.fastq.sort.bam',\n",
       " '/data/isshamie/TSS/NCBI_PICR_103_Processed/RNAseq/sortBam/NL10_Misc_S10_L006_R1_001.fastq.sort.bam',\n",
       " '/data/isshamie/TSS/NCBI_PICR_103_Processed/RNAseq/sortBam/NL3_Spleen_S3_L006_R1_001.fastq.sort.bam',\n",
       " '/data/isshamie/TSS/NCBI_PICR_103_Processed/RNAseq/sortBam/NL8_Muscle_S8_L006_R1_001.fastq.sort.bam',\n",
       " '/data/isshamie/TSS/NCBI_PICR_103_Processed/RNAseq/sortBam/NL11_Brain7-1_S11_L006_R1_001.fastq.sort.bam',\n",
       " '/data/isshamie/TSS/NCBI_PICR_103_Processed/RNAseq/sortBam/NL1_Pancreas_S1_L006_R1_001.fastq.sort.bam',\n",
       " '/data/isshamie/TSS/NCBI_PICR_103_Processed/RNAseq/sortBam/NL2_ReproductiveTract_S2_L006_R1_001.fastq.sort.bam',\n",
       " '/data/isshamie/TSS/NCBI_PICR_103_Processed/RNAseq/sortBam/NL9_Kidney_S9_L006_R1_001.fastq.sort.bam',\n",
       " '/data/isshamie/TSS/NCBI_PICR_103_Processed/RNAseq/sortBam/NL5_Liver_S5_L006_R1_001.fastq.sort.bam']"
      ]
     },
     "execution_count": 5,
     "metadata": {},
     "output_type": "execute_result"
    }
   ],
   "source": [
    "rna_files = glob.glob(bam_dir+\"/*.bam\")\n",
    "rna_files"
   ]
  },
  {
   "cell_type": "code",
   "execution_count": 6,
   "metadata": {
    "ExecuteTime": {
     "end_time": "2020-04-07T23:20:27.557726Z",
     "start_time": "2020-04-07T23:20:27.519822Z"
    }
   },
   "outputs": [
    {
     "name": "stderr",
     "output_type": "stream",
     "text": [
      "/home/isshamie/software/anaconda2/envs/TSS/lib/python3.7/site-packages/ipykernel_launcher.py:9: FutureWarning: Sorting because non-concatenation axis is not aligned. A future version\n",
      "of pandas will change to not sort by default.\n",
      "\n",
      "To accept the future behavior, pass 'sort=False'.\n",
      "\n",
      "To retain the current behavior and silence the warning, pass 'sort=True'.\n",
      "\n",
      "  if __name__ == '__main__':\n"
     ]
    }
   ],
   "source": [
    "meta_new = meta.copy()\n",
    "for curr_f in rna_files:\n",
    "    if \"tmp\" in curr_f:\n",
    "        continue\n",
    "    sid = \"_\".join(basename(curr_f).split(\"_\")[1:3])\n",
    "    tissue = re.sub(r'[^a-zA-Z_]', '', basename(curr_f).split(\"_\")[1])\n",
    "    name = sid.split(\"_\")[0]\n",
    "    curr = pd.DataFrame(pd.Series({\"Experiment\":\"RNASeq\", \"Tissue\":tissue, \"Full\":curr_f, \"Name\":sid}, name=curr_f)).transpose()\n",
    "    meta_new = pd.concat((meta_new,curr))"
   ]
  },
  {
   "cell_type": "code",
   "execution_count": 7,
   "metadata": {
    "ExecuteTime": {
     "end_time": "2020-04-07T23:20:27.570961Z",
     "start_time": "2020-04-07T23:20:27.559370Z"
    },
    "scrolled": true
   },
   "outputs": [
    {
     "data": {
      "text/html": [
       "<div>\n",
       "<style scoped>\n",
       "    .dataframe tbody tr th:only-of-type {\n",
       "        vertical-align: middle;\n",
       "    }\n",
       "\n",
       "    .dataframe tbody tr th {\n",
       "        vertical-align: top;\n",
       "    }\n",
       "\n",
       "    .dataframe thead th {\n",
       "        text-align: right;\n",
       "    }\n",
       "</style>\n",
       "<table border=\"1\" class=\"dataframe\">\n",
       "  <thead>\n",
       "    <tr style=\"text-align: right;\">\n",
       "      <th></th>\n",
       "      <th>Experiment</th>\n",
       "      <th>Full</th>\n",
       "      <th>Name</th>\n",
       "      <th>Tissue</th>\n",
       "    </tr>\n",
       "  </thead>\n",
       "  <tbody>\n",
       "    <tr>\n",
       "      <td>CHBMDM1hKLA2_ATAC_JHS1000_SD_AGGTTGGG_S11_L001_R1_001.fastq.gz</td>\n",
       "      <td>ATAC</td>\n",
       "      <td>CHBMDM1hKLA2_ATAC_JHS1000_SD_AGGTTGGG_S11_L001...</td>\n",
       "      <td>BMDM1hKLA_ATAC1</td>\n",
       "      <td>BMDM1hKLA</td>\n",
       "    </tr>\n",
       "    <tr>\n",
       "      <td>CHBMDM1hKLA1_ATAC_JHS998_SD_TGGGTTTC_S9_L001_R1_001.fastq.gz</td>\n",
       "      <td>ATAC</td>\n",
       "      <td>CHBMDM1hKLA1_ATAC_JHS998_SD_TGGGTTTC_S9_L001_R...</td>\n",
       "      <td>BMDM1hKLA_ATAC2</td>\n",
       "      <td>BMDM1hKLA</td>\n",
       "    </tr>\n",
       "    <tr>\n",
       "      <td>CHBMDM1hKLA_GRO_JHS1027_SD_CAAAAG_S42_L003_R1_001.fastq.gz</td>\n",
       "      <td>GRO</td>\n",
       "      <td>CHBMDM1hKLA_GRO_JHS1027_SD_CAAAAG_S42_L003_R1_...</td>\n",
       "      <td>BMDM1hKLA_GRO1</td>\n",
       "      <td>BMDM1hKLA</td>\n",
       "    </tr>\n",
       "    <tr>\n",
       "      <td>CHBMDM1hKLA_GRO_JHS1034_SD_AGTCAA_S49_L003_R1_001.fastq.gz</td>\n",
       "      <td>GROCap</td>\n",
       "      <td>CHBMDM1hKLA_GRO_JHS1034_SD_AGTCAA_S49_L003_R1_...</td>\n",
       "      <td>BMDM1hKLA_GROCap1</td>\n",
       "      <td>BMDM1hKLA</td>\n",
       "    </tr>\n",
       "    <tr>\n",
       "      <td>CHBMDMVehic2_ATAC_JHS999_SD_TGGTCACA_S10_L001_R1_001.fastq.gz</td>\n",
       "      <td>ATAC</td>\n",
       "      <td>CHBMDMVehic2_ATAC_JHS999_SD_TGGTCACA_S10_L001_...</td>\n",
       "      <td>BMDMwt_ATAC1</td>\n",
       "      <td>BMDMwt</td>\n",
       "    </tr>\n",
       "    <tr>\n",
       "      <td>...</td>\n",
       "      <td>...</td>\n",
       "      <td>...</td>\n",
       "      <td>...</td>\n",
       "      <td>...</td>\n",
       "    </tr>\n",
       "    <tr>\n",
       "      <td>/data/isshamie/TSS/NCBI_PICR_103_Processed/RNAseq/sortBam/NL11_Brain7-1_S11_L006_R1_001.fastq.sort.bam</td>\n",
       "      <td>RNASeq</td>\n",
       "      <td>/data/isshamie/TSS/NCBI_PICR_103_Processed/RNA...</td>\n",
       "      <td>Brain7-1_S11</td>\n",
       "      <td>Brain</td>\n",
       "    </tr>\n",
       "    <tr>\n",
       "      <td>/data/isshamie/TSS/NCBI_PICR_103_Processed/RNAseq/sortBam/NL1_Pancreas_S1_L006_R1_001.fastq.sort.bam</td>\n",
       "      <td>RNASeq</td>\n",
       "      <td>/data/isshamie/TSS/NCBI_PICR_103_Processed/RNA...</td>\n",
       "      <td>Pancreas_S1</td>\n",
       "      <td>Pancreas</td>\n",
       "    </tr>\n",
       "    <tr>\n",
       "      <td>/data/isshamie/TSS/NCBI_PICR_103_Processed/RNAseq/sortBam/NL2_ReproductiveTract_S2_L006_R1_001.fastq.sort.bam</td>\n",
       "      <td>RNASeq</td>\n",
       "      <td>/data/isshamie/TSS/NCBI_PICR_103_Processed/RNA...</td>\n",
       "      <td>ReproductiveTract_S2</td>\n",
       "      <td>ReproductiveTract</td>\n",
       "    </tr>\n",
       "    <tr>\n",
       "      <td>/data/isshamie/TSS/NCBI_PICR_103_Processed/RNAseq/sortBam/NL9_Kidney_S9_L006_R1_001.fastq.sort.bam</td>\n",
       "      <td>RNASeq</td>\n",
       "      <td>/data/isshamie/TSS/NCBI_PICR_103_Processed/RNA...</td>\n",
       "      <td>Kidney_S9</td>\n",
       "      <td>Kidney</td>\n",
       "    </tr>\n",
       "    <tr>\n",
       "      <td>/data/isshamie/TSS/NCBI_PICR_103_Processed/RNAseq/sortBam/NL5_Liver_S5_L006_R1_001.fastq.sort.bam</td>\n",
       "      <td>RNASeq</td>\n",
       "      <td>/data/isshamie/TSS/NCBI_PICR_103_Processed/RNA...</td>\n",
       "      <td>Liver_S5</td>\n",
       "      <td>Liver</td>\n",
       "    </tr>\n",
       "  </tbody>\n",
       "</table>\n",
       "<p>79 rows × 4 columns</p>\n",
       "</div>"
      ],
      "text/plain": [
       "                                                   Experiment  \\\n",
       "CHBMDM1hKLA2_ATAC_JHS1000_SD_AGGTTGGG_S11_L001_...       ATAC   \n",
       "CHBMDM1hKLA1_ATAC_JHS998_SD_TGGGTTTC_S9_L001_R1...       ATAC   \n",
       "CHBMDM1hKLA_GRO_JHS1027_SD_CAAAAG_S42_L003_R1_0...        GRO   \n",
       "CHBMDM1hKLA_GRO_JHS1034_SD_AGTCAA_S49_L003_R1_0...     GROCap   \n",
       "CHBMDMVehic2_ATAC_JHS999_SD_TGGTCACA_S10_L001_R...       ATAC   \n",
       "...                                                       ...   \n",
       "/data/isshamie/TSS/NCBI_PICR_103_Processed/RNAs...     RNASeq   \n",
       "/data/isshamie/TSS/NCBI_PICR_103_Processed/RNAs...     RNASeq   \n",
       "/data/isshamie/TSS/NCBI_PICR_103_Processed/RNAs...     RNASeq   \n",
       "/data/isshamie/TSS/NCBI_PICR_103_Processed/RNAs...     RNASeq   \n",
       "/data/isshamie/TSS/NCBI_PICR_103_Processed/RNAs...     RNASeq   \n",
       "\n",
       "                                                                                                 Full  \\\n",
       "CHBMDM1hKLA2_ATAC_JHS1000_SD_AGGTTGGG_S11_L001_...  CHBMDM1hKLA2_ATAC_JHS1000_SD_AGGTTGGG_S11_L001...   \n",
       "CHBMDM1hKLA1_ATAC_JHS998_SD_TGGGTTTC_S9_L001_R1...  CHBMDM1hKLA1_ATAC_JHS998_SD_TGGGTTTC_S9_L001_R...   \n",
       "CHBMDM1hKLA_GRO_JHS1027_SD_CAAAAG_S42_L003_R1_0...  CHBMDM1hKLA_GRO_JHS1027_SD_CAAAAG_S42_L003_R1_...   \n",
       "CHBMDM1hKLA_GRO_JHS1034_SD_AGTCAA_S49_L003_R1_0...  CHBMDM1hKLA_GRO_JHS1034_SD_AGTCAA_S49_L003_R1_...   \n",
       "CHBMDMVehic2_ATAC_JHS999_SD_TGGTCACA_S10_L001_R...  CHBMDMVehic2_ATAC_JHS999_SD_TGGTCACA_S10_L001_...   \n",
       "...                                                                                               ...   \n",
       "/data/isshamie/TSS/NCBI_PICR_103_Processed/RNAs...  /data/isshamie/TSS/NCBI_PICR_103_Processed/RNA...   \n",
       "/data/isshamie/TSS/NCBI_PICR_103_Processed/RNAs...  /data/isshamie/TSS/NCBI_PICR_103_Processed/RNA...   \n",
       "/data/isshamie/TSS/NCBI_PICR_103_Processed/RNAs...  /data/isshamie/TSS/NCBI_PICR_103_Processed/RNA...   \n",
       "/data/isshamie/TSS/NCBI_PICR_103_Processed/RNAs...  /data/isshamie/TSS/NCBI_PICR_103_Processed/RNA...   \n",
       "/data/isshamie/TSS/NCBI_PICR_103_Processed/RNAs...  /data/isshamie/TSS/NCBI_PICR_103_Processed/RNA...   \n",
       "\n",
       "                                                                    Name  \\\n",
       "CHBMDM1hKLA2_ATAC_JHS1000_SD_AGGTTGGG_S11_L001_...       BMDM1hKLA_ATAC1   \n",
       "CHBMDM1hKLA1_ATAC_JHS998_SD_TGGGTTTC_S9_L001_R1...       BMDM1hKLA_ATAC2   \n",
       "CHBMDM1hKLA_GRO_JHS1027_SD_CAAAAG_S42_L003_R1_0...        BMDM1hKLA_GRO1   \n",
       "CHBMDM1hKLA_GRO_JHS1034_SD_AGTCAA_S49_L003_R1_0...     BMDM1hKLA_GROCap1   \n",
       "CHBMDMVehic2_ATAC_JHS999_SD_TGGTCACA_S10_L001_R...          BMDMwt_ATAC1   \n",
       "...                                                                  ...   \n",
       "/data/isshamie/TSS/NCBI_PICR_103_Processed/RNAs...          Brain7-1_S11   \n",
       "/data/isshamie/TSS/NCBI_PICR_103_Processed/RNAs...           Pancreas_S1   \n",
       "/data/isshamie/TSS/NCBI_PICR_103_Processed/RNAs...  ReproductiveTract_S2   \n",
       "/data/isshamie/TSS/NCBI_PICR_103_Processed/RNAs...             Kidney_S9   \n",
       "/data/isshamie/TSS/NCBI_PICR_103_Processed/RNAs...              Liver_S5   \n",
       "\n",
       "                                                               Tissue  \n",
       "CHBMDM1hKLA2_ATAC_JHS1000_SD_AGGTTGGG_S11_L001_...          BMDM1hKLA  \n",
       "CHBMDM1hKLA1_ATAC_JHS998_SD_TGGGTTTC_S9_L001_R1...          BMDM1hKLA  \n",
       "CHBMDM1hKLA_GRO_JHS1027_SD_CAAAAG_S42_L003_R1_0...          BMDM1hKLA  \n",
       "CHBMDM1hKLA_GRO_JHS1034_SD_AGTCAA_S49_L003_R1_0...          BMDM1hKLA  \n",
       "CHBMDMVehic2_ATAC_JHS999_SD_TGGTCACA_S10_L001_R...             BMDMwt  \n",
       "...                                                               ...  \n",
       "/data/isshamie/TSS/NCBI_PICR_103_Processed/RNAs...              Brain  \n",
       "/data/isshamie/TSS/NCBI_PICR_103_Processed/RNAs...           Pancreas  \n",
       "/data/isshamie/TSS/NCBI_PICR_103_Processed/RNAs...  ReproductiveTract  \n",
       "/data/isshamie/TSS/NCBI_PICR_103_Processed/RNAs...             Kidney  \n",
       "/data/isshamie/TSS/NCBI_PICR_103_Processed/RNAs...              Liver  \n",
       "\n",
       "[79 rows x 4 columns]"
      ]
     },
     "execution_count": 7,
     "metadata": {},
     "output_type": "execute_result"
    }
   ],
   "source": [
    "meta_new"
   ]
  },
  {
   "cell_type": "code",
   "execution_count": null,
   "metadata": {},
   "outputs": [],
   "source": []
  },
  {
   "cell_type": "code",
   "execution_count": null,
   "metadata": {},
   "outputs": [],
   "source": []
  },
  {
   "cell_type": "code",
   "execution_count": null,
   "metadata": {},
   "outputs": [],
   "source": []
  },
  {
   "cell_type": "markdown",
   "metadata": {},
   "source": [
    "## 01\n",
    "## Need to remake tag directories for csRNA and input with fragment length 150 nt\n",
    "cmd = \"makeTagDirectory {tag_dir} {bam_f} -single -genome {ref_fa} -\n",
    "checkGC -fragLength 150 "
   ]
  },
  {
   "cell_type": "code",
   "execution_count": 8,
   "metadata": {
    "ExecuteTime": {
     "end_time": "2020-04-07T23:20:27.579526Z",
     "start_time": "2020-04-07T23:20:27.572604Z"
    }
   },
   "outputs": [],
   "source": [
    "tag_dir_150 = join(results, \"tags_150\")\n",
    "if not os.path.exists(tag_dir_150):\n",
    "    os.mkdir(tag_dir_150)\n",
    "\n",
    "start_tag = join(tag_dir_150,'START')\n",
    "if not os.path.exists(start_tag):\n",
    "    os.mkdir(start_tag)\n",
    "    \n",
    "\n",
    "csinput_tag = join(tag_dir_150,'STARTinput')\n",
    "if not os.path.exists(csinput_tag):\n",
    "    os.mkdir(csinput_tag)\n",
    "    "
   ]
  },
  {
   "cell_type": "code",
   "execution_count": 9,
   "metadata": {
    "ExecuteTime": {
     "end_time": "2020-04-08T01:02:43.902576Z",
     "start_time": "2020-04-07T23:20:27.581673Z"
    },
    "scrolled": true
   },
   "outputs": [
    {
     "name": "stdout",
     "output_type": "stream",
     "text": [
      "Brain\n",
      "makeTagDirectory /data/isshamie/TSS/Analysis/Analysis_03302020/Results/tags_150/START/Brain_START1 /data/isshamie/TSS/NCBI_PICR_103_Processed/Brain/START/f02_bam/trim_Brain_START1.bam -single -genome /data/isshamie/genome/ncbi_anno_103/GCF_003668045.1_CriGri-PICR_genomic.fna -checkGC -fragLength 150 \n",
      "makeTagDirectory /data/isshamie/TSS/Analysis/Analysis_03302020/Results/tags_150/START/Brain_START2 /data/isshamie/TSS/NCBI_PICR_103_Processed/Brain/START/f02_bam/trim_Brain_START2.bam -single -genome /data/isshamie/genome/ncbi_anno_103/GCF_003668045.1_CriGri-PICR_genomic.fna -checkGC -fragLength 150 \n",
      "makeTagDirectory /data/isshamie/TSS/Analysis/Analysis_03302020/Results/tags_150/START/Brain_START3 /data/isshamie/TSS/NCBI_PICR_103_Processed/Brain/START/f02_bam/trim_Brain_START3.bam -single -genome /data/isshamie/genome/ncbi_anno_103/GCF_003668045.1_CriGri-PICR_genomic.fna -checkGC -fragLength 150 \n",
      "makeTagDirectory /data/isshamie/TSS/Analysis/Analysis_03302020/Results/tags_150/STARTinput/Brain_STARTinput1 /data/isshamie/TSS/NCBI_PICR_103_Processed/Brain/START/f02_bam/trim_Brain_STARTinput1.bam -single -genome /data/isshamie/genome/ncbi_anno_103/GCF_003668045.1_CriGri-PICR_genomic.fna -checkGC -fragLength 150\n",
      "makeTagDirectory /data/isshamie/TSS/Analysis/Analysis_03302020/Results/tags_150/STARTinput/Brain_STARTinput2 /data/isshamie/TSS/NCBI_PICR_103_Processed/Brain/START/f02_bam/trim_Brain_STARTinput2.bam -single -genome /data/isshamie/genome/ncbi_anno_103/GCF_003668045.1_CriGri-PICR_genomic.fna -checkGC -fragLength 150\n",
      "CHO\n",
      "makeTagDirectory /data/isshamie/TSS/Analysis/Analysis_03302020/Results/tags_150/START/CHO_START1 /data/isshamie/TSS/NCBI_PICR_103_Processed/CHO/START/f02_bam/trim_CHO_START1.bam -single -genome /data/isshamie/genome/ncbi_anno_103/GCF_003668045.1_CriGri-PICR_genomic.fna -checkGC -fragLength 150 \n",
      "makeTagDirectory /data/isshamie/TSS/Analysis/Analysis_03302020/Results/tags_150/STARTinput/CHO_STARTinput1 /data/isshamie/TSS/NCBI_PICR_103_Processed/CHO/START/f02_bam/trim_CHO_STARTinput1.bam -single -genome /data/isshamie/genome/ncbi_anno_103/GCF_003668045.1_CriGri-PICR_genomic.fna -checkGC -fragLength 150\n",
      "FemaleReproductive\n",
      "makeTagDirectory /data/isshamie/TSS/Analysis/Analysis_03302020/Results/tags_150/START/FemaleReproductive_START1 /data/isshamie/TSS/NCBI_PICR_103_Processed/FemaleReproductive/START/f02_bam/trim_FemaleReproductive_START1.bam -single -genome /data/isshamie/genome/ncbi_anno_103/GCF_003668045.1_CriGri-PICR_genomic.fna -checkGC -fragLength 150 \n",
      "makeTagDirectory /data/isshamie/TSS/Analysis/Analysis_03302020/Results/tags_150/START/FemaleReproductive_START2 /data/isshamie/TSS/NCBI_PICR_103_Processed/FemaleReproductive/START/f02_bam/trim_FemaleReproductive_START2.bam -single -genome /data/isshamie/genome/ncbi_anno_103/GCF_003668045.1_CriGri-PICR_genomic.fna -checkGC -fragLength 150 \n",
      "makeTagDirectory /data/isshamie/TSS/Analysis/Analysis_03302020/Results/tags_150/STARTinput/FemaleReproductive_STARTinput1 /data/isshamie/TSS/NCBI_PICR_103_Processed/FemaleReproductive/START/f02_bam/trim_FemaleReproductive_STARTinput1.bam -single -genome /data/isshamie/genome/ncbi_anno_103/GCF_003668045.1_CriGri-PICR_genomic.fna -checkGC -fragLength 150\n",
      "Heart\n",
      "makeTagDirectory /data/isshamie/TSS/Analysis/Analysis_03302020/Results/tags_150/START/Heart_START1 /data/isshamie/TSS/NCBI_PICR_103_Processed/Heart/START/f02_bam/trim_Heart_START1.bam -single -genome /data/isshamie/genome/ncbi_anno_103/GCF_003668045.1_CriGri-PICR_genomic.fna -checkGC -fragLength 150 \n",
      "makeTagDirectory /data/isshamie/TSS/Analysis/Analysis_03302020/Results/tags_150/START/Heart_START2 /data/isshamie/TSS/NCBI_PICR_103_Processed/Heart/START/f02_bam/trim_Heart_START2.bam -single -genome /data/isshamie/genome/ncbi_anno_103/GCF_003668045.1_CriGri-PICR_genomic.fna -checkGC -fragLength 150 \n",
      "makeTagDirectory /data/isshamie/TSS/Analysis/Analysis_03302020/Results/tags_150/STARTinput/Heart_STARTinput1 /data/isshamie/TSS/NCBI_PICR_103_Processed/Heart/START/f02_bam/trim_Heart_STARTinput1.bam -single -genome /data/isshamie/genome/ncbi_anno_103/GCF_003668045.1_CriGri-PICR_genomic.fna -checkGC -fragLength 150\n",
      "Intestine\n",
      "makeTagDirectory /data/isshamie/TSS/Analysis/Analysis_03302020/Results/tags_150/START/Intestine_START1 /data/isshamie/TSS/NCBI_PICR_103_Processed/Intestine/START/f02_bam/trim_Intestine_START1.bam -single -genome /data/isshamie/genome/ncbi_anno_103/GCF_003668045.1_CriGri-PICR_genomic.fna -checkGC -fragLength 150 \n",
      "Kidney\n",
      "makeTagDirectory /data/isshamie/TSS/Analysis/Analysis_03302020/Results/tags_150/START/Kidney_START1 /data/isshamie/TSS/NCBI_PICR_103_Processed/Kidney/START/f02_bam/trim_Kidney_START1.bam -single -genome /data/isshamie/genome/ncbi_anno_103/GCF_003668045.1_CriGri-PICR_genomic.fna -checkGC -fragLength 150 \n",
      "makeTagDirectory /data/isshamie/TSS/Analysis/Analysis_03302020/Results/tags_150/START/Kidney_START2 /data/isshamie/TSS/NCBI_PICR_103_Processed/Kidney/START/f02_bam/trim_Kidney_START2.bam -single -genome /data/isshamie/genome/ncbi_anno_103/GCF_003668045.1_CriGri-PICR_genomic.fna -checkGC -fragLength 150 \n",
      "makeTagDirectory /data/isshamie/TSS/Analysis/Analysis_03302020/Results/tags_150/STARTinput/Kidney_STARTinput1 /data/isshamie/TSS/NCBI_PICR_103_Processed/Kidney/START/f02_bam/trim_Kidney_STARTinput1.bam -single -genome /data/isshamie/genome/ncbi_anno_103/GCF_003668045.1_CriGri-PICR_genomic.fna -checkGC -fragLength 150\n",
      "Liver\n",
      "makeTagDirectory /data/isshamie/TSS/Analysis/Analysis_03302020/Results/tags_150/START/Liver_START1 /data/isshamie/TSS/NCBI_PICR_103_Processed/Liver/START/f02_bam/trim_Liver_START1.bam -single -genome /data/isshamie/genome/ncbi_anno_103/GCF_003668045.1_CriGri-PICR_genomic.fna -checkGC -fragLength 150 \n",
      "makeTagDirectory /data/isshamie/TSS/Analysis/Analysis_03302020/Results/tags_150/START/Liver_START2 /data/isshamie/TSS/NCBI_PICR_103_Processed/Liver/START/f02_bam/trim_Liver_START2.bam -single -genome /data/isshamie/genome/ncbi_anno_103/GCF_003668045.1_CriGri-PICR_genomic.fna -checkGC -fragLength 150 \n",
      "makeTagDirectory /data/isshamie/TSS/Analysis/Analysis_03302020/Results/tags_150/STARTinput/Liver_STARTinput1 /data/isshamie/TSS/NCBI_PICR_103_Processed/Liver/START/f02_bam/trim_Liver_STARTinput1.bam -single -genome /data/isshamie/genome/ncbi_anno_103/GCF_003668045.1_CriGri-PICR_genomic.fna -checkGC -fragLength 150\n",
      "Lung\n",
      "makeTagDirectory /data/isshamie/TSS/Analysis/Analysis_03302020/Results/tags_150/START/Lung_START1 /data/isshamie/TSS/NCBI_PICR_103_Processed/Lung/START/f02_bam/trim_Lung_START1.bam -single -genome /data/isshamie/genome/ncbi_anno_103/GCF_003668045.1_CriGri-PICR_genomic.fna -checkGC -fragLength 150 \n",
      "makeTagDirectory /data/isshamie/TSS/Analysis/Analysis_03302020/Results/tags_150/START/Lung_START2 /data/isshamie/TSS/NCBI_PICR_103_Processed/Lung/START/f02_bam/trim_Lung_START2.bam -single -genome /data/isshamie/genome/ncbi_anno_103/GCF_003668045.1_CriGri-PICR_genomic.fna -checkGC -fragLength 150 \n",
      "makeTagDirectory /data/isshamie/TSS/Analysis/Analysis_03302020/Results/tags_150/STARTinput/Lung_STARTinput1 /data/isshamie/TSS/NCBI_PICR_103_Processed/Lung/START/f02_bam/trim_Lung_STARTinput1.bam -single -genome /data/isshamie/genome/ncbi_anno_103/GCF_003668045.1_CriGri-PICR_genomic.fna -checkGC -fragLength 150\n",
      "Misc\n",
      "MiscOrgans\n",
      "makeTagDirectory /data/isshamie/TSS/Analysis/Analysis_03302020/Results/tags_150/START/MiscOrgans_START1 /data/isshamie/TSS/NCBI_PICR_103_Processed/MiscOrgans/START/f02_bam/trim_MiscOrgans_START1.bam -single -genome /data/isshamie/genome/ncbi_anno_103/GCF_003668045.1_CriGri-PICR_genomic.fna -checkGC -fragLength 150 \n",
      "makeTagDirectory /data/isshamie/TSS/Analysis/Analysis_03302020/Results/tags_150/START/MiscOrgans_START2 /data/isshamie/TSS/NCBI_PICR_103_Processed/MiscOrgans/START/f02_bam/trim_MiscOrgans_START2.bam -single -genome /data/isshamie/genome/ncbi_anno_103/GCF_003668045.1_CriGri-PICR_genomic.fna -checkGC -fragLength 150 \n",
      "makeTagDirectory /data/isshamie/TSS/Analysis/Analysis_03302020/Results/tags_150/STARTinput/MiscOrgans_STARTinput1 /data/isshamie/TSS/NCBI_PICR_103_Processed/MiscOrgans/START/f02_bam/trim_MiscOrgans_STARTinput1.bam -single -genome /data/isshamie/genome/ncbi_anno_103/GCF_003668045.1_CriGri-PICR_genomic.fna -checkGC -fragLength 150\n"
     ]
    },
    {
     "name": "stdout",
     "output_type": "stream",
     "text": [
      "Muscle\n",
      "makeTagDirectory /data/isshamie/TSS/Analysis/Analysis_03302020/Results/tags_150/START/Muscle_START1 /data/isshamie/TSS/NCBI_PICR_103_Processed/Muscle/START/f02_bam/trim_Muscle_START1.bam -single -genome /data/isshamie/genome/ncbi_anno_103/GCF_003668045.1_CriGri-PICR_genomic.fna -checkGC -fragLength 150 \n",
      "makeTagDirectory /data/isshamie/TSS/Analysis/Analysis_03302020/Results/tags_150/START/Muscle_START2 /data/isshamie/TSS/NCBI_PICR_103_Processed/Muscle/START/f02_bam/trim_Muscle_START2.bam -single -genome /data/isshamie/genome/ncbi_anno_103/GCF_003668045.1_CriGri-PICR_genomic.fna -checkGC -fragLength 150 \n",
      "makeTagDirectory /data/isshamie/TSS/Analysis/Analysis_03302020/Results/tags_150/STARTinput/Muscle_STARTinput1 /data/isshamie/TSS/NCBI_PICR_103_Processed/Muscle/START/f02_bam/trim_Muscle_STARTinput1.bam -single -genome /data/isshamie/genome/ncbi_anno_103/GCF_003668045.1_CriGri-PICR_genomic.fna -checkGC -fragLength 150\n",
      "Pancreas\n",
      "makeTagDirectory /data/isshamie/TSS/Analysis/Analysis_03302020/Results/tags_150/START/Pancreas_START1 /data/isshamie/TSS/NCBI_PICR_103_Processed/Pancreas/START/f02_bam/trim_Pancreas_START1.bam -single -genome /data/isshamie/genome/ncbi_anno_103/GCF_003668045.1_CriGri-PICR_genomic.fna -checkGC -fragLength 150 \n",
      "makeTagDirectory /data/isshamie/TSS/Analysis/Analysis_03302020/Results/tags_150/START/Pancreas_START2 /data/isshamie/TSS/NCBI_PICR_103_Processed/Pancreas/START/f02_bam/trim_Pancreas_START2.bam -single -genome /data/isshamie/genome/ncbi_anno_103/GCF_003668045.1_CriGri-PICR_genomic.fna -checkGC -fragLength 150 \n",
      "makeTagDirectory /data/isshamie/TSS/Analysis/Analysis_03302020/Results/tags_150/STARTinput/Pancreas_STARTinput1 /data/isshamie/TSS/NCBI_PICR_103_Processed/Pancreas/START/f02_bam/trim_Pancreas_STARTinput1.bam -single -genome /data/isshamie/genome/ncbi_anno_103/GCF_003668045.1_CriGri-PICR_genomic.fna -checkGC -fragLength 150\n",
      "ReproductiveTract\n",
      "Skin\n",
      "makeTagDirectory /data/isshamie/TSS/Analysis/Analysis_03302020/Results/tags_150/START/Skin_START1 /data/isshamie/TSS/NCBI_PICR_103_Processed/Skin/START/f02_bam/trim_Skin_START1.bam -single -genome /data/isshamie/genome/ncbi_anno_103/GCF_003668045.1_CriGri-PICR_genomic.fna -checkGC -fragLength 150 \n",
      "Spleen\n",
      "makeTagDirectory /data/isshamie/TSS/Analysis/Analysis_03302020/Results/tags_150/START/Spleen_START1 /data/isshamie/TSS/NCBI_PICR_103_Processed/Spleen/START/f02_bam/trim_Spleen_START1.bam -single -genome /data/isshamie/genome/ncbi_anno_103/GCF_003668045.1_CriGri-PICR_genomic.fna -checkGC -fragLength 150 \n",
      "makeTagDirectory /data/isshamie/TSS/Analysis/Analysis_03302020/Results/tags_150/START/Spleen_START2 /data/isshamie/TSS/NCBI_PICR_103_Processed/Spleen/START/f02_bam/trim_Spleen_START2.bam -single -genome /data/isshamie/genome/ncbi_anno_103/GCF_003668045.1_CriGri-PICR_genomic.fna -checkGC -fragLength 150 \n",
      "makeTagDirectory /data/isshamie/TSS/Analysis/Analysis_03302020/Results/tags_150/STARTinput/Spleen_STARTinput1 /data/isshamie/TSS/NCBI_PICR_103_Processed/Spleen/START/f02_bam/trim_Spleen_STARTinput1.bam -single -genome /data/isshamie/genome/ncbi_anno_103/GCF_003668045.1_CriGri-PICR_genomic.fna -checkGC -fragLength 150\n",
      "Total\n",
      "makeTagDirectory /data/isshamie/TSS/Analysis/Analysis_03302020/Results/tags_150/START/Total_START1 /data/isshamie/TSS/NCBI_PICR_103_Processed/Total/START/f02_bam/trim_Total_START1.bam -single -genome /data/isshamie/genome/ncbi_anno_103/GCF_003668045.1_CriGri-PICR_genomic.fna -checkGC -fragLength 150 \n"
     ]
    }
   ],
   "source": [
    "for tis, val in meta_new[meta_new[\"Experiment\"].isin(['START', 'STARTinput', \"RNASeq\"])].groupby(\"Tissue\"):\n",
    "    print(tis)\n",
    "    for start, start_df in val[val[\"Experiment\"].isin([\"START\"])].iterrows():\n",
    "        bam_f = join(file_path, tis, \"START\", \"f02_bam\", \"trim_\"+start_df[\"Name\"]+\".bam\")\n",
    "        #print(bam_f)\n",
    "    \n",
    "        curr_tag = join(start_tag, start_df[\"Name\"])\n",
    "        #print(start_f)\n",
    "        cmd = f\"makeTagDirectory {curr_tag} {bam_f} -single -genome {ref_fa} -checkGC -fragLength 150 \"\n",
    "        print(cmd)\n",
    "        os.system(cmd)\n",
    "    for csinput, csinput_df in val[val[\"Experiment\"].isin([\"STARTinput\"])].iterrows():\n",
    "        bam_f = join(file_path, tis, \"START\", \"f02_bam\", \"trim_\"+csinput_df[\"Name\"]+\".bam\")\n",
    "        input_tag = join(csinput_tag, csinput_df[\"Name\"]) #join(file_path, tis, \"START\", \"f03_tags\", \"trim_\"+ csinput_df[\"Name\"])\n",
    "        cmd = f\"makeTagDirectory {input_tag} {bam_f} -single -genome {ref_fa} -checkGC -fragLength 150\"\n",
    "        print(cmd)\n",
    "        os.system(cmd)\n",
    "    "
   ]
  },
  {
   "cell_type": "code",
   "execution_count": null,
   "metadata": {},
   "outputs": [],
   "source": []
  },
  {
   "cell_type": "code",
   "execution_count": null,
   "metadata": {},
   "outputs": [],
   "source": []
  },
  {
   "cell_type": "markdown",
   "metadata": {},
   "source": [
    "## 02\n",
    "## a. findcsRNATSSS"
   ]
  },
  {
   "cell_type": "code",
   "execution_count": 10,
   "metadata": {
    "ExecuteTime": {
     "end_time": "2020-04-08T02:36:00.838382Z",
     "start_time": "2020-04-08T01:02:43.906876Z"
    },
    "scrolled": true
   },
   "outputs": [
    {
     "name": "stdout",
     "output_type": "stream",
     "text": [
      "Brain\n",
      "findcsRNATSS.pl /data/isshamie/TSS/Analysis/Analysis_03302020/Results/tags_150/START/Brain_START1 -i /data/isshamie/TSS/Analysis/Analysis_03302020/Results/tags_150/STARTinput/Brain_STARTinput1 -rna /data/isshamie/TSS/NCBI_PICR_103_Processed/RNAseq/tags/Brain2_S7 -gtf /data/isshamie/genome/ncbi_anno_103/alt_CriGri-PICR_top_level.gtf -genome ch -cpu 30 -o /data/isshamie/TSS/Analysis/Analysis_03302020/Results/csRNA_peaks/Brain_Brain_START1_Brain_STARTinput1_Brain2_S7\n",
      "findcsRNATSS.pl /data/isshamie/TSS/Analysis/Analysis_03302020/Results/tags_150/START/Brain_START1 -i /data/isshamie/TSS/Analysis/Analysis_03302020/Results/tags_150/STARTinput/Brain_STARTinput1 -rna /data/isshamie/TSS/NCBI_PICR_103_Processed/RNAseq/tags/Brain7 -gtf /data/isshamie/genome/ncbi_anno_103/alt_CriGri-PICR_top_level.gtf -genome ch -cpu 30 -o /data/isshamie/TSS/Analysis/Analysis_03302020/Results/csRNA_peaks/Brain_Brain_START1_Brain_STARTinput1_Brain7-1_S11\n",
      "findcsRNATSS.pl /data/isshamie/TSS/Analysis/Analysis_03302020/Results/tags_150/START/Brain_START1 -i /data/isshamie/TSS/Analysis/Analysis_03302020/Results/tags_150/STARTinput/Brain_STARTinput2 -rna /data/isshamie/TSS/NCBI_PICR_103_Processed/RNAseq/tags/Brain2_S7 -gtf /data/isshamie/genome/ncbi_anno_103/alt_CriGri-PICR_top_level.gtf -genome ch -cpu 30 -o /data/isshamie/TSS/Analysis/Analysis_03302020/Results/csRNA_peaks/Brain_Brain_START1_Brain_STARTinput2_Brain2_S7\n",
      "findcsRNATSS.pl /data/isshamie/TSS/Analysis/Analysis_03302020/Results/tags_150/START/Brain_START1 -i /data/isshamie/TSS/Analysis/Analysis_03302020/Results/tags_150/STARTinput/Brain_STARTinput2 -rna /data/isshamie/TSS/NCBI_PICR_103_Processed/RNAseq/tags/Brain7 -gtf /data/isshamie/genome/ncbi_anno_103/alt_CriGri-PICR_top_level.gtf -genome ch -cpu 30 -o /data/isshamie/TSS/Analysis/Analysis_03302020/Results/csRNA_peaks/Brain_Brain_START1_Brain_STARTinput2_Brain7-1_S11\n",
      "findcsRNATSS.pl /data/isshamie/TSS/Analysis/Analysis_03302020/Results/tags_150/START/Brain_START2 -i /data/isshamie/TSS/Analysis/Analysis_03302020/Results/tags_150/STARTinput/Brain_STARTinput1 -rna /data/isshamie/TSS/NCBI_PICR_103_Processed/RNAseq/tags/Brain2_S7 -gtf /data/isshamie/genome/ncbi_anno_103/alt_CriGri-PICR_top_level.gtf -genome ch -cpu 30 -o /data/isshamie/TSS/Analysis/Analysis_03302020/Results/csRNA_peaks/Brain_Brain_START2_Brain_STARTinput1_Brain2_S7\n",
      "findcsRNATSS.pl /data/isshamie/TSS/Analysis/Analysis_03302020/Results/tags_150/START/Brain_START2 -i /data/isshamie/TSS/Analysis/Analysis_03302020/Results/tags_150/STARTinput/Brain_STARTinput1 -rna /data/isshamie/TSS/NCBI_PICR_103_Processed/RNAseq/tags/Brain7 -gtf /data/isshamie/genome/ncbi_anno_103/alt_CriGri-PICR_top_level.gtf -genome ch -cpu 30 -o /data/isshamie/TSS/Analysis/Analysis_03302020/Results/csRNA_peaks/Brain_Brain_START2_Brain_STARTinput1_Brain7-1_S11\n",
      "findcsRNATSS.pl /data/isshamie/TSS/Analysis/Analysis_03302020/Results/tags_150/START/Brain_START2 -i /data/isshamie/TSS/Analysis/Analysis_03302020/Results/tags_150/STARTinput/Brain_STARTinput2 -rna /data/isshamie/TSS/NCBI_PICR_103_Processed/RNAseq/tags/Brain2_S7 -gtf /data/isshamie/genome/ncbi_anno_103/alt_CriGri-PICR_top_level.gtf -genome ch -cpu 30 -o /data/isshamie/TSS/Analysis/Analysis_03302020/Results/csRNA_peaks/Brain_Brain_START2_Brain_STARTinput2_Brain2_S7\n",
      "findcsRNATSS.pl /data/isshamie/TSS/Analysis/Analysis_03302020/Results/tags_150/START/Brain_START2 -i /data/isshamie/TSS/Analysis/Analysis_03302020/Results/tags_150/STARTinput/Brain_STARTinput2 -rna /data/isshamie/TSS/NCBI_PICR_103_Processed/RNAseq/tags/Brain7 -gtf /data/isshamie/genome/ncbi_anno_103/alt_CriGri-PICR_top_level.gtf -genome ch -cpu 30 -o /data/isshamie/TSS/Analysis/Analysis_03302020/Results/csRNA_peaks/Brain_Brain_START2_Brain_STARTinput2_Brain7-1_S11\n",
      "findcsRNATSS.pl /data/isshamie/TSS/Analysis/Analysis_03302020/Results/tags_150/START/Brain_START3 -i /data/isshamie/TSS/Analysis/Analysis_03302020/Results/tags_150/STARTinput/Brain_STARTinput1 -rna /data/isshamie/TSS/NCBI_PICR_103_Processed/RNAseq/tags/Brain2_S7 -gtf /data/isshamie/genome/ncbi_anno_103/alt_CriGri-PICR_top_level.gtf -genome ch -cpu 30 -o /data/isshamie/TSS/Analysis/Analysis_03302020/Results/csRNA_peaks/Brain_Brain_START3_Brain_STARTinput1_Brain2_S7\n",
      "findcsRNATSS.pl /data/isshamie/TSS/Analysis/Analysis_03302020/Results/tags_150/START/Brain_START3 -i /data/isshamie/TSS/Analysis/Analysis_03302020/Results/tags_150/STARTinput/Brain_STARTinput1 -rna /data/isshamie/TSS/NCBI_PICR_103_Processed/RNAseq/tags/Brain7 -gtf /data/isshamie/genome/ncbi_anno_103/alt_CriGri-PICR_top_level.gtf -genome ch -cpu 30 -o /data/isshamie/TSS/Analysis/Analysis_03302020/Results/csRNA_peaks/Brain_Brain_START3_Brain_STARTinput1_Brain7-1_S11\n",
      "findcsRNATSS.pl /data/isshamie/TSS/Analysis/Analysis_03302020/Results/tags_150/START/Brain_START3 -i /data/isshamie/TSS/Analysis/Analysis_03302020/Results/tags_150/STARTinput/Brain_STARTinput2 -rna /data/isshamie/TSS/NCBI_PICR_103_Processed/RNAseq/tags/Brain2_S7 -gtf /data/isshamie/genome/ncbi_anno_103/alt_CriGri-PICR_top_level.gtf -genome ch -cpu 30 -o /data/isshamie/TSS/Analysis/Analysis_03302020/Results/csRNA_peaks/Brain_Brain_START3_Brain_STARTinput2_Brain2_S7\n",
      "findcsRNATSS.pl /data/isshamie/TSS/Analysis/Analysis_03302020/Results/tags_150/START/Brain_START3 -i /data/isshamie/TSS/Analysis/Analysis_03302020/Results/tags_150/STARTinput/Brain_STARTinput2 -rna /data/isshamie/TSS/NCBI_PICR_103_Processed/RNAseq/tags/Brain7 -gtf /data/isshamie/genome/ncbi_anno_103/alt_CriGri-PICR_top_level.gtf -genome ch -cpu 30 -o /data/isshamie/TSS/Analysis/Analysis_03302020/Results/csRNA_peaks/Brain_Brain_START3_Brain_STARTinput2_Brain7-1_S11\n",
      "CHO\n",
      "FemaleReproductive\n",
      "Heart\n",
      "findcsRNATSS.pl /data/isshamie/TSS/Analysis/Analysis_03302020/Results/tags_150/START/Heart_START1 -i /data/isshamie/TSS/Analysis/Analysis_03302020/Results/tags_150/STARTinput/Heart_STARTinput1 -rna /data/isshamie/TSS/NCBI_PICR_103_Processed/RNAseq/tags/Heart_S6 -gtf /data/isshamie/genome/ncbi_anno_103/alt_CriGri-PICR_top_level.gtf -genome ch -cpu 30 -o /data/isshamie/TSS/Analysis/Analysis_03302020/Results/csRNA_peaks/Heart_Heart_START1_Heart_STARTinput1_Heart_S6\n",
      "findcsRNATSS.pl /data/isshamie/TSS/Analysis/Analysis_03302020/Results/tags_150/START/Heart_START2 -i /data/isshamie/TSS/Analysis/Analysis_03302020/Results/tags_150/STARTinput/Heart_STARTinput1 -rna /data/isshamie/TSS/NCBI_PICR_103_Processed/RNAseq/tags/Heart_S6 -gtf /data/isshamie/genome/ncbi_anno_103/alt_CriGri-PICR_top_level.gtf -genome ch -cpu 30 -o /data/isshamie/TSS/Analysis/Analysis_03302020/Results/csRNA_peaks/Heart_Heart_START2_Heart_STARTinput1_Heart_S6\n",
      "Intestine\n",
      "Kidney\n",
      "findcsRNATSS.pl /data/isshamie/TSS/Analysis/Analysis_03302020/Results/tags_150/START/Kidney_START1 -i /data/isshamie/TSS/Analysis/Analysis_03302020/Results/tags_150/STARTinput/Kidney_STARTinput1 -rna /data/isshamie/TSS/NCBI_PICR_103_Processed/RNAseq/tags/Kidney_S9 -gtf /data/isshamie/genome/ncbi_anno_103/alt_CriGri-PICR_top_level.gtf -genome ch -cpu 30 -o /data/isshamie/TSS/Analysis/Analysis_03302020/Results/csRNA_peaks/Kidney_Kidney_START1_Kidney_STARTinput1_Kidney_S9\n",
      "findcsRNATSS.pl /data/isshamie/TSS/Analysis/Analysis_03302020/Results/tags_150/START/Kidney_START2 -i /data/isshamie/TSS/Analysis/Analysis_03302020/Results/tags_150/STARTinput/Kidney_STARTinput1 -rna /data/isshamie/TSS/NCBI_PICR_103_Processed/RNAseq/tags/Kidney_S9 -gtf /data/isshamie/genome/ncbi_anno_103/alt_CriGri-PICR_top_level.gtf -genome ch -cpu 30 -o /data/isshamie/TSS/Analysis/Analysis_03302020/Results/csRNA_peaks/Kidney_Kidney_START2_Kidney_STARTinput1_Kidney_S9\n",
      "Liver\n",
      "findcsRNATSS.pl /data/isshamie/TSS/Analysis/Analysis_03302020/Results/tags_150/START/Liver_START1 -i /data/isshamie/TSS/Analysis/Analysis_03302020/Results/tags_150/STARTinput/Liver_STARTinput1 -rna /data/isshamie/TSS/NCBI_PICR_103_Processed/RNAseq/tags/Liver_S5 -gtf /data/isshamie/genome/ncbi_anno_103/alt_CriGri-PICR_top_level.gtf -genome ch -cpu 30 -o /data/isshamie/TSS/Analysis/Analysis_03302020/Results/csRNA_peaks/Liver_Liver_START1_Liver_STARTinput1_Liver_S5\n",
      "findcsRNATSS.pl /data/isshamie/TSS/Analysis/Analysis_03302020/Results/tags_150/START/Liver_START2 -i /data/isshamie/TSS/Analysis/Analysis_03302020/Results/tags_150/STARTinput/Liver_STARTinput1 -rna /data/isshamie/TSS/NCBI_PICR_103_Processed/RNAseq/tags/Liver_S5 -gtf /data/isshamie/genome/ncbi_anno_103/alt_CriGri-PICR_top_level.gtf -genome ch -cpu 30 -o /data/isshamie/TSS/Analysis/Analysis_03302020/Results/csRNA_peaks/Liver_Liver_START2_Liver_STARTinput1_Liver_S5\n"
     ]
    },
    {
     "name": "stdout",
     "output_type": "stream",
     "text": [
      "Lung\n",
      "findcsRNATSS.pl /data/isshamie/TSS/Analysis/Analysis_03302020/Results/tags_150/START/Lung_START1 -i /data/isshamie/TSS/Analysis/Analysis_03302020/Results/tags_150/STARTinput/Lung_STARTinput1 -rna /data/isshamie/TSS/NCBI_PICR_103_Processed/RNAseq/tags/test_Lung_S4 -gtf /data/isshamie/genome/ncbi_anno_103/alt_CriGri-PICR_top_level.gtf -genome ch -cpu 30 -o /data/isshamie/TSS/Analysis/Analysis_03302020/Results/csRNA_peaks/Lung_Lung_START1_Lung_STARTinput1_Lung_S4\n",
      "findcsRNATSS.pl /data/isshamie/TSS/Analysis/Analysis_03302020/Results/tags_150/START/Lung_START2 -i /data/isshamie/TSS/Analysis/Analysis_03302020/Results/tags_150/STARTinput/Lung_STARTinput1 -rna /data/isshamie/TSS/NCBI_PICR_103_Processed/RNAseq/tags/test_Lung_S4 -gtf /data/isshamie/genome/ncbi_anno_103/alt_CriGri-PICR_top_level.gtf -genome ch -cpu 30 -o /data/isshamie/TSS/Analysis/Analysis_03302020/Results/csRNA_peaks/Lung_Lung_START2_Lung_STARTinput1_Lung_S4\n",
      "Misc\n",
      "MiscOrgans\n",
      "Muscle\n",
      "findcsRNATSS.pl /data/isshamie/TSS/Analysis/Analysis_03302020/Results/tags_150/START/Muscle_START1 -i /data/isshamie/TSS/Analysis/Analysis_03302020/Results/tags_150/STARTinput/Muscle_STARTinput1 -rna /data/isshamie/TSS/NCBI_PICR_103_Processed/RNAseq/tags/Muscle_S8 -gtf /data/isshamie/genome/ncbi_anno_103/alt_CriGri-PICR_top_level.gtf -genome ch -cpu 30 -o /data/isshamie/TSS/Analysis/Analysis_03302020/Results/csRNA_peaks/Muscle_Muscle_START1_Muscle_STARTinput1_Muscle_S8\n",
      "findcsRNATSS.pl /data/isshamie/TSS/Analysis/Analysis_03302020/Results/tags_150/START/Muscle_START2 -i /data/isshamie/TSS/Analysis/Analysis_03302020/Results/tags_150/STARTinput/Muscle_STARTinput1 -rna /data/isshamie/TSS/NCBI_PICR_103_Processed/RNAseq/tags/Muscle_S8 -gtf /data/isshamie/genome/ncbi_anno_103/alt_CriGri-PICR_top_level.gtf -genome ch -cpu 30 -o /data/isshamie/TSS/Analysis/Analysis_03302020/Results/csRNA_peaks/Muscle_Muscle_START2_Muscle_STARTinput1_Muscle_S8\n",
      "Pancreas\n",
      "findcsRNATSS.pl /data/isshamie/TSS/Analysis/Analysis_03302020/Results/tags_150/START/Pancreas_START1 -i /data/isshamie/TSS/Analysis/Analysis_03302020/Results/tags_150/STARTinput/Pancreas_STARTinput1 -rna /data/isshamie/TSS/NCBI_PICR_103_Processed/RNAseq/tags/Pancreas_S1 -gtf /data/isshamie/genome/ncbi_anno_103/alt_CriGri-PICR_top_level.gtf -genome ch -cpu 30 -o /data/isshamie/TSS/Analysis/Analysis_03302020/Results/csRNA_peaks/Pancreas_Pancreas_START1_Pancreas_STARTinput1_Pancreas_S1\n",
      "findcsRNATSS.pl /data/isshamie/TSS/Analysis/Analysis_03302020/Results/tags_150/START/Pancreas_START2 -i /data/isshamie/TSS/Analysis/Analysis_03302020/Results/tags_150/STARTinput/Pancreas_STARTinput1 -rna /data/isshamie/TSS/NCBI_PICR_103_Processed/RNAseq/tags/Pancreas_S1 -gtf /data/isshamie/genome/ncbi_anno_103/alt_CriGri-PICR_top_level.gtf -genome ch -cpu 30 -o /data/isshamie/TSS/Analysis/Analysis_03302020/Results/csRNA_peaks/Pancreas_Pancreas_START2_Pancreas_STARTinput1_Pancreas_S1\n",
      "ReproductiveTract\n",
      "Skin\n",
      "Spleen\n",
      "findcsRNATSS.pl /data/isshamie/TSS/Analysis/Analysis_03302020/Results/tags_150/START/Spleen_START1 -i /data/isshamie/TSS/Analysis/Analysis_03302020/Results/tags_150/STARTinput/Spleen_STARTinput1 -rna /data/isshamie/TSS/NCBI_PICR_103_Processed/RNAseq/tags/Spleen_S3 -gtf /data/isshamie/genome/ncbi_anno_103/alt_CriGri-PICR_top_level.gtf -genome ch -cpu 30 -o /data/isshamie/TSS/Analysis/Analysis_03302020/Results/csRNA_peaks/Spleen_Spleen_START1_Spleen_STARTinput1_Spleen_S3\n",
      "findcsRNATSS.pl /data/isshamie/TSS/Analysis/Analysis_03302020/Results/tags_150/START/Spleen_START2 -i /data/isshamie/TSS/Analysis/Analysis_03302020/Results/tags_150/STARTinput/Spleen_STARTinput1 -rna /data/isshamie/TSS/NCBI_PICR_103_Processed/RNAseq/tags/Spleen_S3 -gtf /data/isshamie/genome/ncbi_anno_103/alt_CriGri-PICR_top_level.gtf -genome ch -cpu 30 -o /data/isshamie/TSS/Analysis/Analysis_03302020/Results/csRNA_peaks/Spleen_Spleen_START2_Spleen_STARTinput1_Spleen_S3\n",
      "Total\n"
     ]
    }
   ],
   "source": [
    "for tis, val in meta_new[meta_new[\"Experiment\"].isin(['START', 'STARTinput', \"RNASeq\"])].groupby(\"Tissue\"):\n",
    "    print(tis)\n",
    "    for start, start_df in val[val[\"Experiment\"].isin([\"START\"])].iterrows():    \n",
    "        start_f = join(start_tag, start_df[\"Name\"])\n",
    "        for csinput, csinput_df in val[val[\"Experiment\"].isin([\"STARTinput\"])].iterrows():\n",
    "            inp_f = join(csinput_tag, csinput_df[\"Name\"])\n",
    "            \n",
    "            for rna, rna_df in val[val[\"Experiment\"].isin([\"RNASeq\"])].iterrows():\n",
    "                rna_f = glob.glob(join(tag_dir, \"*\" + rna_df[\"Name\"].split(\"-\")[0]))[0]\n",
    "\n",
    "                out_name = '%s_%s_%s_%s' % (tis,start_df[\"Name\"], csinput_df[\"Name\"], rna_df[\"Name\"])\n",
    "                out_f = os.path.join(csRNA_dir,out_name) #'Results/csRNATSS/%s_%s_%s' % (t,os.path.basename(i),os.path.basename(j))\n",
    "                cmd = f'findcsRNATSS.pl {start_f} -i {inp_f} -rna {rna_f} -gtf {gtf} -genome {ref_fa} -cpu 30 -o {out_f}'\n",
    "                print(cmd)\n",
    "                os.system(cmd)"
   ]
  },
  {
   "cell_type": "markdown",
   "metadata": {},
   "source": [
    "## b. Specifying RNASeq 150 bp tag directory"
   ]
  },
  {
   "cell_type": "code",
   "execution_count": 14,
   "metadata": {
    "ExecuteTime": {
     "end_time": "2020-04-08T02:55:45.713327Z",
     "start_time": "2020-04-08T02:55:45.707898Z"
    }
   },
   "outputs": [
    {
     "data": {
      "text/plain": [
       "'/data/isshamie/TSS/NCBI_PICR_103_Processed/tags_frag150/*Brain2_S7'"
      ]
     },
     "execution_count": 14,
     "metadata": {},
     "output_type": "execute_result"
    }
   ],
   "source": [
    "join(rna_tag_dir+\"_frag150\", \"*\" + rna_df[\"Name\"].split(\"-\")[0])"
   ]
  },
  {
   "cell_type": "code",
   "execution_count": 16,
   "metadata": {
    "ExecuteTime": {
     "end_time": "2020-04-08T03:00:37.100889Z",
     "start_time": "2020-04-08T03:00:35.163218Z"
    },
    "scrolled": false
   },
   "outputs": [
    {
     "name": "stdout",
     "output_type": "stream",
     "text": [
      "Brain\n",
      "findcsRNATSS.pl /data/isshamie/TSS/Analysis/Analysis_03302020/Results/tags_150/START/Brain_START1 -i /data/isshamie/TSS/Analysis/Analysis_03302020/Results/tags_150/STARTinput/Brain_STARTinput1 -rna [] -gtf /data/isshamie/genome/ncbi_anno_103/alt_CriGri-PICR_top_level.gtf -genome /data/isshamie/genome/ncbi_anno_103/GCF_003668045.1_CriGri-PICR_genomic.fna -cpu 30 -o /data/isshamie/TSS/Analysis/Analysis_03302020/Results/csRNA_peaks/Brain_Brain_START1_Brain_STARTinput1_Brain2_S7\n"
     ]
    },
    {
     "ename": "NameError",
     "evalue": "name 'sample_id' is not defined",
     "output_type": "error",
     "traceback": [
      "\u001b[0;31m---------------------------------------------------------------------------\u001b[0m",
      "\u001b[0;31mNameError\u001b[0m                                 Traceback (most recent call last)",
      "\u001b[0;32m<ipython-input-16-29e3d04eeca5>\u001b[0m in \u001b[0;36m<module>\u001b[0;34m\u001b[0m\n\u001b[1;32m     17\u001b[0m                 \u001b[0mprint\u001b[0m\u001b[0;34m(\u001b[0m\u001b[0mcmd\u001b[0m\u001b[0;34m)\u001b[0m\u001b[0;34m\u001b[0m\u001b[0;34m\u001b[0m\u001b[0m\n\u001b[1;32m     18\u001b[0m                 \u001b[0mos\u001b[0m\u001b[0;34m.\u001b[0m\u001b[0msystem\u001b[0m\u001b[0;34m(\u001b[0m\u001b[0mcmd\u001b[0m\u001b[0;34m)\u001b[0m\u001b[0;34m\u001b[0m\u001b[0;34m\u001b[0m\u001b[0m\n\u001b[0;32m---> 19\u001b[0;31m                 \u001b[0mjoin\u001b[0m\u001b[0;34m(\u001b[0m\u001b[0mtag_dir\u001b[0m\u001b[0;34m,\u001b[0m\u001b[0msample_id\u001b[0m\u001b[0;34m+\u001b[0m\u001b[0;34m\"_frag150\"\u001b[0m\u001b[0;34m)\u001b[0m\u001b[0;34m\u001b[0m\u001b[0;34m\u001b[0m\u001b[0m\n\u001b[0m",
      "\u001b[0;31mNameError\u001b[0m: name 'sample_id' is not defined"
     ]
    }
   ],
   "source": [
    "rna_tag_dir = join(file_path, 'tags')\n",
    "\n",
    "for tis, val in meta_new[meta_new[\"Experiment\"].isin(['START', 'STARTinput', \"RNASeq\"])].groupby(\"Tissue\"):\n",
    "    print(tis)\n",
    "    for start, start_df in val[val[\"Experiment\"].isin([\"START\"])].iterrows():    \n",
    "        start_f = join(start_tag, start_df[\"Name\"])\n",
    "        for csinput, csinput_df in val[val[\"Experiment\"].isin([\"STARTinput\"])].iterrows():\n",
    "            inp_f = join(csinput_tag, csinput_df[\"Name\"])\n",
    "            \n",
    "            for rna, rna_df in val[val[\"Experiment\"].isin([\"RNASeq\"])].iterrows():\n",
    "                rna_f = join(rna_tag_dir, rna_df[\"Name\"].split(\"-\")[0] + \"_frag150\")\n",
    "                rna_f = glob.glob(rna_f)[0]\n",
    "            \n",
    "                out_name = '%s_%s_%s_%s' % (tis,start_df[\"Name\"], csinput_df[\"Name\"], rna_df[\"Name\"])\n",
    "                out_f = os.path.join(csRNA_dir,out_name) #'Results/csRNATSS/%s_%s_%s' % (t,os.path.basename(i),os.path.basename(j))\n",
    "                cmd = f'findcsRNATSS.pl {start_f} -i {inp_f} -rna {rna_f} -gtf {gtf} -genome {ref_fa} -cpu 30 -o {out_f}'\n",
    "                print(cmd)\n",
    "                os.system(cmd)\n",
    "                join(tag_dir,sample_id+\"_frag150\")"
   ]
  },
  {
   "cell_type": "code",
   "execution_count": null,
   "metadata": {},
   "outputs": [],
   "source": []
  },
  {
   "cell_type": "code",
   "execution_count": 9,
   "metadata": {
    "ExecuteTime": {
     "end_time": "2020-04-07T18:58:54.814653Z",
     "start_time": "2020-04-07T17:52:43.822846Z"
    },
    "scrolled": true
   },
   "outputs": [
    {
     "name": "stdout",
     "output_type": "stream",
     "text": [
      "Brain\n",
      "findcsRNATSS.pl /data/isshamie/TSS/NCBI_PICR_103_Processed/Brain/START/f03_tags/trim_Brain_START1 -i /data/isshamie/TSS/NCBI_PICR_103_Processed/Brain/START/f03_tags/trim_Brain_STARTinput1 -rna /data/isshamie/TSS/NCBI_PICR_103_Processed/RNAseq/tags/Brain2_S7 -gtf /data/isshamie/genome/ncbi_anno_103/alt_CriGri-PICR_top_level.gtf -genome ch -cpu 30 -o /data/isshamie/TSS/Analysis/Analysis_03302020/Results/csRNA_peaks/Brain_Brain_START1_Brain_STARTinput1_Brain2_S7\n",
      "findcsRNATSS.pl /data/isshamie/TSS/NCBI_PICR_103_Processed/Brain/START/f03_tags/trim_Brain_START1 -i /data/isshamie/TSS/NCBI_PICR_103_Processed/Brain/START/f03_tags/trim_Brain_STARTinput2 -rna /data/isshamie/TSS/NCBI_PICR_103_Processed/RNAseq/tags/Brain2_S7 -gtf /data/isshamie/genome/ncbi_anno_103/alt_CriGri-PICR_top_level.gtf -genome ch -cpu 30 -o /data/isshamie/TSS/Analysis/Analysis_03302020/Results/csRNA_peaks/Brain_Brain_START1_Brain_STARTinput2_Brain2_S7\n",
      "findcsRNATSS.pl /data/isshamie/TSS/NCBI_PICR_103_Processed/Brain/START/f03_tags/trim_Brain_START2 -i /data/isshamie/TSS/NCBI_PICR_103_Processed/Brain/START/f03_tags/trim_Brain_STARTinput1 -rna /data/isshamie/TSS/NCBI_PICR_103_Processed/RNAseq/tags/Brain2_S7 -gtf /data/isshamie/genome/ncbi_anno_103/alt_CriGri-PICR_top_level.gtf -genome ch -cpu 30 -o /data/isshamie/TSS/Analysis/Analysis_03302020/Results/csRNA_peaks/Brain_Brain_START2_Brain_STARTinput1_Brain2_S7\n",
      "findcsRNATSS.pl /data/isshamie/TSS/NCBI_PICR_103_Processed/Brain/START/f03_tags/trim_Brain_START2 -i /data/isshamie/TSS/NCBI_PICR_103_Processed/Brain/START/f03_tags/trim_Brain_STARTinput2 -rna /data/isshamie/TSS/NCBI_PICR_103_Processed/RNAseq/tags/Brain2_S7 -gtf /data/isshamie/genome/ncbi_anno_103/alt_CriGri-PICR_top_level.gtf -genome ch -cpu 30 -o /data/isshamie/TSS/Analysis/Analysis_03302020/Results/csRNA_peaks/Brain_Brain_START2_Brain_STARTinput2_Brain2_S7\n",
      "findcsRNATSS.pl /data/isshamie/TSS/NCBI_PICR_103_Processed/Brain/START/f03_tags/trim_Brain_START3 -i /data/isshamie/TSS/NCBI_PICR_103_Processed/Brain/START/f03_tags/trim_Brain_STARTinput1 -rna /data/isshamie/TSS/NCBI_PICR_103_Processed/RNAseq/tags/Brain2_S7 -gtf /data/isshamie/genome/ncbi_anno_103/alt_CriGri-PICR_top_level.gtf -genome ch -cpu 30 -o /data/isshamie/TSS/Analysis/Analysis_03302020/Results/csRNA_peaks/Brain_Brain_START3_Brain_STARTinput1_Brain2_S7\n",
      "findcsRNATSS.pl /data/isshamie/TSS/NCBI_PICR_103_Processed/Brain/START/f03_tags/trim_Brain_START3 -i /data/isshamie/TSS/NCBI_PICR_103_Processed/Brain/START/f03_tags/trim_Brain_STARTinput2 -rna /data/isshamie/TSS/NCBI_PICR_103_Processed/RNAseq/tags/Brain2_S7 -gtf /data/isshamie/genome/ncbi_anno_103/alt_CriGri-PICR_top_level.gtf -genome ch -cpu 30 -o /data/isshamie/TSS/Analysis/Analysis_03302020/Results/csRNA_peaks/Brain_Brain_START3_Brain_STARTinput2_Brain2_S7\n",
      "CHO\n",
      "FemaleReproductive\n",
      "Heart\n",
      "findcsRNATSS.pl /data/isshamie/TSS/NCBI_PICR_103_Processed/Heart/START/f03_tags/trim_Heart_START1 -i /data/isshamie/TSS/NCBI_PICR_103_Processed/Heart/START/f03_tags/trim_Heart_STARTinput1 -rna /data/isshamie/TSS/NCBI_PICR_103_Processed/RNAseq/tags/Heart_S6 -gtf /data/isshamie/genome/ncbi_anno_103/alt_CriGri-PICR_top_level.gtf -genome ch -cpu 30 -o /data/isshamie/TSS/Analysis/Analysis_03302020/Results/csRNA_peaks/Heart_Heart_START1_Heart_STARTinput1_Heart_S6\n",
      "findcsRNATSS.pl /data/isshamie/TSS/NCBI_PICR_103_Processed/Heart/START/f03_tags/trim_Heart_START2 -i /data/isshamie/TSS/NCBI_PICR_103_Processed/Heart/START/f03_tags/trim_Heart_STARTinput1 -rna /data/isshamie/TSS/NCBI_PICR_103_Processed/RNAseq/tags/Heart_S6 -gtf /data/isshamie/genome/ncbi_anno_103/alt_CriGri-PICR_top_level.gtf -genome ch -cpu 30 -o /data/isshamie/TSS/Analysis/Analysis_03302020/Results/csRNA_peaks/Heart_Heart_START2_Heart_STARTinput1_Heart_S6\n",
      "Intestine\n",
      "Kidney\n",
      "findcsRNATSS.pl /data/isshamie/TSS/NCBI_PICR_103_Processed/Kidney/START/f03_tags/trim_Kidney_START1 -i /data/isshamie/TSS/NCBI_PICR_103_Processed/Kidney/START/f03_tags/trim_Kidney_STARTinput1 -rna /data/isshamie/TSS/NCBI_PICR_103_Processed/RNAseq/tags/Kidney_S9 -gtf /data/isshamie/genome/ncbi_anno_103/alt_CriGri-PICR_top_level.gtf -genome ch -cpu 30 -o /data/isshamie/TSS/Analysis/Analysis_03302020/Results/csRNA_peaks/Kidney_Kidney_START1_Kidney_STARTinput1_Kidney_S9\n",
      "findcsRNATSS.pl /data/isshamie/TSS/NCBI_PICR_103_Processed/Kidney/START/f03_tags/trim_Kidney_START2 -i /data/isshamie/TSS/NCBI_PICR_103_Processed/Kidney/START/f03_tags/trim_Kidney_STARTinput1 -rna /data/isshamie/TSS/NCBI_PICR_103_Processed/RNAseq/tags/Kidney_S9 -gtf /data/isshamie/genome/ncbi_anno_103/alt_CriGri-PICR_top_level.gtf -genome ch -cpu 30 -o /data/isshamie/TSS/Analysis/Analysis_03302020/Results/csRNA_peaks/Kidney_Kidney_START2_Kidney_STARTinput1_Kidney_S9\n",
      "Liver\n",
      "findcsRNATSS.pl /data/isshamie/TSS/NCBI_PICR_103_Processed/Liver/START/f03_tags/trim_Liver_START1 -i /data/isshamie/TSS/NCBI_PICR_103_Processed/Liver/START/f03_tags/trim_Liver_STARTinput1 -rna /data/isshamie/TSS/NCBI_PICR_103_Processed/RNAseq/tags/Liver_S5 -gtf /data/isshamie/genome/ncbi_anno_103/alt_CriGri-PICR_top_level.gtf -genome ch -cpu 30 -o /data/isshamie/TSS/Analysis/Analysis_03302020/Results/csRNA_peaks/Liver_Liver_START1_Liver_STARTinput1_Liver_S5\n",
      "findcsRNATSS.pl /data/isshamie/TSS/NCBI_PICR_103_Processed/Liver/START/f03_tags/trim_Liver_START2 -i /data/isshamie/TSS/NCBI_PICR_103_Processed/Liver/START/f03_tags/trim_Liver_STARTinput1 -rna /data/isshamie/TSS/NCBI_PICR_103_Processed/RNAseq/tags/Liver_S5 -gtf /data/isshamie/genome/ncbi_anno_103/alt_CriGri-PICR_top_level.gtf -genome ch -cpu 30 -o /data/isshamie/TSS/Analysis/Analysis_03302020/Results/csRNA_peaks/Liver_Liver_START2_Liver_STARTinput1_Liver_S5\n",
      "Lung\n",
      "findcsRNATSS.pl /data/isshamie/TSS/NCBI_PICR_103_Processed/Lung/START/f03_tags/trim_Lung_START1 -i /data/isshamie/TSS/NCBI_PICR_103_Processed/Lung/START/f03_tags/trim_Lung_STARTinput1 -rna /data/isshamie/TSS/NCBI_PICR_103_Processed/RNAseq/tags/test_Lung_S4 -gtf /data/isshamie/genome/ncbi_anno_103/alt_CriGri-PICR_top_level.gtf -genome ch -cpu 30 -o /data/isshamie/TSS/Analysis/Analysis_03302020/Results/csRNA_peaks/Lung_Lung_START1_Lung_STARTinput1_Lung_S4\n",
      "findcsRNATSS.pl /data/isshamie/TSS/NCBI_PICR_103_Processed/Lung/START/f03_tags/trim_Lung_START2 -i /data/isshamie/TSS/NCBI_PICR_103_Processed/Lung/START/f03_tags/trim_Lung_STARTinput1 -rna /data/isshamie/TSS/NCBI_PICR_103_Processed/RNAseq/tags/test_Lung_S4 -gtf /data/isshamie/genome/ncbi_anno_103/alt_CriGri-PICR_top_level.gtf -genome ch -cpu 30 -o /data/isshamie/TSS/Analysis/Analysis_03302020/Results/csRNA_peaks/Lung_Lung_START2_Lung_STARTinput1_Lung_S4\n",
      "Misc\n",
      "MiscOrgans\n",
      "Muscle\n",
      "findcsRNATSS.pl /data/isshamie/TSS/NCBI_PICR_103_Processed/Muscle/START/f03_tags/trim_Muscle_START1 -i /data/isshamie/TSS/NCBI_PICR_103_Processed/Muscle/START/f03_tags/trim_Muscle_STARTinput1 -rna /data/isshamie/TSS/NCBI_PICR_103_Processed/RNAseq/tags/Muscle_S8 -gtf /data/isshamie/genome/ncbi_anno_103/alt_CriGri-PICR_top_level.gtf -genome ch -cpu 30 -o /data/isshamie/TSS/Analysis/Analysis_03302020/Results/csRNA_peaks/Muscle_Muscle_START1_Muscle_STARTinput1_Muscle_S8\n",
      "findcsRNATSS.pl /data/isshamie/TSS/NCBI_PICR_103_Processed/Muscle/START/f03_tags/trim_Muscle_START2 -i /data/isshamie/TSS/NCBI_PICR_103_Processed/Muscle/START/f03_tags/trim_Muscle_STARTinput1 -rna /data/isshamie/TSS/NCBI_PICR_103_Processed/RNAseq/tags/Muscle_S8 -gtf /data/isshamie/genome/ncbi_anno_103/alt_CriGri-PICR_top_level.gtf -genome ch -cpu 30 -o /data/isshamie/TSS/Analysis/Analysis_03302020/Results/csRNA_peaks/Muscle_Muscle_START2_Muscle_STARTinput1_Muscle_S8\n",
      "Pancreas\n",
      "findcsRNATSS.pl /data/isshamie/TSS/NCBI_PICR_103_Processed/Pancreas/START/f03_tags/trim_Pancreas_START1 -i /data/isshamie/TSS/NCBI_PICR_103_Processed/Pancreas/START/f03_tags/trim_Pancreas_STARTinput1 -rna /data/isshamie/TSS/NCBI_PICR_103_Processed/RNAseq/tags/Pancreas_S1 -gtf /data/isshamie/genome/ncbi_anno_103/alt_CriGri-PICR_top_level.gtf -genome ch -cpu 30 -o /data/isshamie/TSS/Analysis/Analysis_03302020/Results/csRNA_peaks/Pancreas_Pancreas_START1_Pancreas_STARTinput1_Pancreas_S1\n",
      "findcsRNATSS.pl /data/isshamie/TSS/NCBI_PICR_103_Processed/Pancreas/START/f03_tags/trim_Pancreas_START2 -i /data/isshamie/TSS/NCBI_PICR_103_Processed/Pancreas/START/f03_tags/trim_Pancreas_STARTinput1 -rna /data/isshamie/TSS/NCBI_PICR_103_Processed/RNAseq/tags/Pancreas_S1 -gtf /data/isshamie/genome/ncbi_anno_103/alt_CriGri-PICR_top_level.gtf -genome ch -cpu 30 -o /data/isshamie/TSS/Analysis/Analysis_03302020/Results/csRNA_peaks/Pancreas_Pancreas_START2_Pancreas_STARTinput1_Pancreas_S1\n"
     ]
    },
    {
     "name": "stdout",
     "output_type": "stream",
     "text": [
      "ReproductiveTract\n",
      "Skin\n",
      "Spleen\n",
      "findcsRNATSS.pl /data/isshamie/TSS/NCBI_PICR_103_Processed/Spleen/START/f03_tags/trim_Spleen_START1 -i /data/isshamie/TSS/NCBI_PICR_103_Processed/Spleen/START/f03_tags/trim_Spleen_STARTinput1 -rna /data/isshamie/TSS/NCBI_PICR_103_Processed/RNAseq/tags/Spleen_S3 -gtf /data/isshamie/genome/ncbi_anno_103/alt_CriGri-PICR_top_level.gtf -genome ch -cpu 30 -o /data/isshamie/TSS/Analysis/Analysis_03302020/Results/csRNA_peaks/Spleen_Spleen_START1_Spleen_STARTinput1_Spleen_S3\n",
      "findcsRNATSS.pl /data/isshamie/TSS/NCBI_PICR_103_Processed/Spleen/START/f03_tags/trim_Spleen_START2 -i /data/isshamie/TSS/NCBI_PICR_103_Processed/Spleen/START/f03_tags/trim_Spleen_STARTinput1 -rna /data/isshamie/TSS/NCBI_PICR_103_Processed/RNAseq/tags/Spleen_S3 -gtf /data/isshamie/genome/ncbi_anno_103/alt_CriGri-PICR_top_level.gtf -genome ch -cpu 30 -o /data/isshamie/TSS/Analysis/Analysis_03302020/Results/csRNA_peaks/Spleen_Spleen_START2_Spleen_STARTinput1_Spleen_S3\n",
      "Total\n"
     ]
    }
   ],
   "source": [
    "# for tis, val in meta_new[meta_new[\"Experiment\"].isin(['START', 'STARTinput', \"RNASeq\"])].groupby(\"Tissue\"):\n",
    "#     print(tis)\n",
    "#     for start, start_df in val[val[\"Experiment\"].isin([\"START\"])].iterrows():\n",
    "#         start_f = join(file_path, tis, \"START\", \"f03_tags\", \"trim_\"+start_df[\"Name\"])\n",
    "#         #print(start_f)\n",
    "#         for csinput, csinput_df in val[val[\"Experiment\"].isin([\"STARTinput\"])].iterrows():\n",
    "#             inp_f = join(file_path, tis, \"START\", \"f03_tags\", \"trim_\"+ csinput_df[\"Name\"])\n",
    "            \n",
    "#             for rna, rna_df in val[val[\"Experiment\"].isin([\"RNASeq\"])].iterrows():\n",
    "#                 rna_f = glob.glob(join(tag_dir, \"*\" + rna_df[\"Name\"].split(\"-\")[0]))[0]\n",
    "                \n",
    "#                 out_name = '%s_%s_%s_%s' % (tis,start_df[\"Name\"], csinput_df[\"Name\"], rna_df[\"Name\"])\n",
    "#                 out_f = os.path.join(csRNA_dir,out_name) #'Results/csRNATSS/%s_%s_%s' % (t,os.path.basename(i),os.path.basename(j))\n",
    "\n",
    "#                 cmd = f'findcsRNATSS.pl {start_f} -i {inp_f} -rna {rna_f} -gtf {gtf} -genome ch -cpu 30 -o {out_f}'\n",
    "#                 print(cmd)\n",
    "#                 os.system(cmd)\n",
    "#                 break"
   ]
  },
  {
   "cell_type": "code",
   "execution_count": null,
   "metadata": {
    "ExecuteTime": {
     "end_time": "2020-04-07T17:51:42.469205Z",
     "start_time": "2020-04-07T17:51:41.636Z"
    }
   },
   "outputs": [],
   "source": [
    "# #cmd = 'findcsRNATSS.pl /data/isshamie/TSS/Processed/CHO/mSTART/f03_tags/trim_CHO--mSTART-JHS823_S21_R1_001.fastq -i /data/isshamie/TSS/Processed/CHO/mSTART/f03_tags/trim_CHO--mSTART_input-JHS802_S11_R1_001.fastq -gtf /data/isshamie/genome/updated_final_sort.gtf -genome ch -cpu 30 -o Results/csRNATSS/Example/CHO_trim_CHO--mSTART-JHS823_S21_R1_001.fastq_trim_CHO--mSTART_input-JHS802_S11_R1_001.fastq\n",
    "# i = tss_tag[0]\n",
    "# j = inp_tag[0]\n",
    "# k = rna_tag[0]\n",
    "\n",
    "\n",
    "# out_name = '%s_%s_%s' % (t,os.path.basename(i),os.path.basename(j))\n",
    "# out_f = os.path.join(csRNA_dir,out_name) #'Results/csRNATSS/%s_%s_%s' % (t,os.path.basename(i),os.path.basename(j))\n",
    "\n",
    "# cs_cmd = 'findcsRNATSS.pl {start} -i {control} -rna {rna} -gtf {annotation_gtf} -genome ch -cpu 30 > {out_f}'.format(\n",
    "#     start=i,\n",
    "#     control=j,\n",
    "#     rna=rna_tag,\n",
    "#     annotation_gtf=annotation_gtf,\n",
    "#     out_f=out_f)"
   ]
  },
  {
   "cell_type": "code",
   "execution_count": null,
   "metadata": {},
   "outputs": [],
   "source": []
  }
 ],
 "metadata": {
  "kernelspec": {
   "display_name": "Python 2",
   "language": "python",
   "name": "python2"
  },
  "language_info": {
   "codemirror_mode": {
    "name": "ipython",
    "version": 3
   },
   "file_extension": ".py",
   "mimetype": "text/x-python",
   "name": "python",
   "nbconvert_exporter": "python",
   "pygments_lexer": "ipython3",
   "version": "3.7.3"
  }
 },
 "nbformat": 4,
 "nbformat_minor": 2
}
