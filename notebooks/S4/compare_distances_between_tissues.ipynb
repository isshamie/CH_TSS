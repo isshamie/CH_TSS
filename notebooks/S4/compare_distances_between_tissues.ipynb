{
 "cells": [
  {
   "cell_type": "markdown",
   "metadata": {},
   "source": [
    "## For each peak, get the min-max for the tissues.\n",
    "## Also correlate it with number of tissues to see if that matters\n",
    "## Also median of them"
   ]
  },
  {
   "cell_type": "markdown",
   "metadata": {},
   "source": [
    "## 4 plots, each has number of tissues on x axis and y axis is TSS distance, plotted as violinplot. The distance is distance from the TSS1, and will either be median, max, "
   ]
  },
  {
   "cell_type": "code",
   "execution_count": 1,
   "metadata": {
    "ExecuteTime": {
     "end_time": "2020-07-21T01:03:12.704793Z",
     "start_time": "2020-07-21T01:03:12.106043Z"
    }
   },
   "outputs": [],
   "source": [
    "import pandas as pd\n",
    "import numpy as np\n",
    "import seaborn as sns\n",
    "%matplotlib inline"
   ]
  },
  {
   "cell_type": "code",
   "execution_count": null,
   "metadata": {},
   "outputs": [],
   "source": [
    "def median_distance(peaks_df, peaks_folder):\n",
    "    tissues = pd.read_csv(peaks_folder)\n",
    "\n",
    "def calculate_distance(peak_expr, peaks_df, peaks_folder, tissues):\n",
    "    tss_dist_df = pd.DataFrame(columns= [\"Median\", \"Max\", \"Number of Tissues\", \"Average TSS\"])\n",
    "    tss_dist_df[\"Number of Tissues\"] = (peaks_df>0).sum(axis=1)\n",
    "    tss_dist_df[\"Median\"] = peaks_df.apply(median_distance)"
   ]
  },
  {
   "cell_type": "markdown",
   "metadata": {},
   "source": [
    "### "
   ]
  }
 ],
 "metadata": {
  "kernelspec": {
   "display_name": "Python 3",
   "language": "python",
   "name": "python3"
  },
  "language_info": {
   "codemirror_mode": {
    "name": "ipython",
    "version": 3
   },
   "file_extension": ".py",
   "mimetype": "text/x-python",
   "name": "python",
   "nbconvert_exporter": "python",
   "pygments_lexer": "ipython3",
   "version": "3.7.3"
  }
 },
 "nbformat": 4,
 "nbformat_minor": 2
}
