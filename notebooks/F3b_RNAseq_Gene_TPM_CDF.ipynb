{
 "cells": [
  {
   "cell_type": "code",
   "execution_count": 1,
   "metadata": {
    "ExecuteTime": {
     "end_time": "2020-04-17T23:44:26.589641Z",
     "start_time": "2020-04-17T23:44:25.613372Z"
    },
    "scrolled": false
   },
   "outputs": [
    {
     "name": "stdout",
     "output_type": "stream",
     "text": [
      "{'data_folder': '/data/isshamie/TSS/NCBI_PICR_103_Processed/', 'results': '/data/isshamie/TSS/Analysis/Analysis_03302020/Results/', 'figures': '/data/isshamie/TSS/Analysis/Analysis_03302020/Results/', 'RNAseq_QC': '/data/isshamie/TSS/NCBI_PICR_103_Processed/RNAseq/2017_12_15_hamster_Seq/fastqc/', 'RNAseq_folder': '/data/isshamie/TSS/NCBI_PICR_103_Processed/RNAseq/2017_12_15_hamster_Seq/', 'pipeline_path': '/data/isshamie/TSS/Analysis/src/', 'tissues': 'BMDM1hKLA,BMDMwt,Brain,FemaleReproductive,Heart,Kidney,Liver,Lung,MiscOrgans,Muscle,Pancreas,Spleen,CHO', 'ref_fa': '/data/isshamie/genome/hamster/ncbi_anno_103/GCF_003668045.1_CriGri-PICR/GCF_003668045.1_CriGri-PICR_genomic.fna', 'annotation': '/data/isshamie/genome/hamster/ncbi_anno_103/GCF_003668045.1_CriGri-PICR/GCF_003668045.1_CriGri-PICR_genomic.gff', 'annotation_gtf': '/data/isshamie/genome/hamster/ncbi_anno_103/GCF_003668045.1_CriGri-PICR/GCF_003668045.1_CriGri-PICR_genomic.gtf', 'alt_annotation': '/data/isshamie/genome/hamster/ncbi_anno_103/hamster/alt_CriGri-PICR_top_level.gff3', 'alt_annotation_gtf': '/data/isshamie/genome/ncbi_anno_103/alt_CriGri-PICR_top_level.gtf', 'motif_folder': '/data/isshamie/TSS/Analysis/supplemental/homer_motifs/', 'supplemental': '/data/isshamie/TSS/Analysis/supplemental', 'cho_rna_file': '/data/shangzhong/DE/tpm_using_picr.txt', 'htseq_anno_source': 'ncbi', 'strand_specific': 'yes', 'id_name': 'id'}\n"
     ]
    },
    {
     "name": "stderr",
     "output_type": "stream",
     "text": [
      "/home/isshamie/software/anaconda2/envs/TSS/lib/python3.7/site-packages/ipykernel_launcher.py:13: YAMLLoadWarning: calling yaml.load() without Loader=... is deprecated, as the default Loader is unsafe. Please read https://msg.pyyaml.org/load for full details.\n",
      "  del sys.path[0]\n"
     ]
    }
   ],
   "source": [
    "parameter_file = '../parameters/params.yaml'\n",
    "\n",
    "import yaml\n",
    "import sys\n",
    "import glob\n",
    "import os\n",
    "import seaborn as sns\n",
    "from os.path import join, basename\n",
    "import pandas as pd\n",
    "import numpy as np\n",
    "import matplotlib.pyplot as plt\n",
    "with open(parameter_file,'r') as f:\n",
    "    doc = yaml.load(f)\n",
    "\n",
    "print(doc)\n",
    "os.chdir(doc[\"results\"])\n",
    "samples = pd.read_csv('../parameters/samples.tsv',sep='\\t')\n",
    "\n",
    "from collections import defaultdict\n",
    "\n",
    "from mplh.fig_utils import helper_save, legend_from_color\n",
    "from mplh.color_utils import get_colors\n",
    "\n",
    "\n"
   ]
  },
  {
   "cell_type": "code",
   "execution_count": 2,
   "metadata": {
    "ExecuteTime": {
     "end_time": "2020-04-17T23:44:26.597569Z",
     "start_time": "2020-04-17T23:44:26.593048Z"
    }
   },
   "outputs": [],
   "source": [
    "os.chdir(doc[\"results\"])\n",
    "## Outdir\n",
    "outdir = \"gene_cumsum_plot\"\n",
    "if not os.path.exists(outdir):\n",
    "    os.mkdir(outdir)\n",
    "    \n",
    "f_save = join(outdir, \"Gene_log2_tpm_cumsum\")"
   ]
  },
  {
   "cell_type": "markdown",
   "metadata": {},
   "source": [
    "### Load gene_lengths"
   ]
  },
  {
   "cell_type": "code",
   "execution_count": 3,
   "metadata": {
    "ExecuteTime": {
     "end_time": "2020-04-17T23:44:26.634736Z",
     "start_time": "2020-04-17T23:44:26.599408Z"
    }
   },
   "outputs": [],
   "source": [
    "gene_l = pd.read_csv(\"genome/picr/gcf/gene_lengths.csv\",index_col=0)"
   ]
  },
  {
   "cell_type": "code",
   "execution_count": 4,
   "metadata": {
    "ExecuteTime": {
     "end_time": "2020-04-17T23:44:26.640746Z",
     "start_time": "2020-04-17T23:44:26.636298Z"
    }
   },
   "outputs": [],
   "source": [
    "file_path = join(doc[\"data_folder\"],\"RNAseq\")\n",
    "\n",
    "\n",
    "qc_dir = join(file_path,\"QC\")\n",
    "multiqc_dir = join(file_path,\"multiqc\")\n",
    "\n",
    "trim_qc_dir = join(file_path,\"trim_QC\")\n",
    "trim_multiqc_dir = join(file_path,\"trim_multiqc\")\n",
    "\n",
    "bam_dir = join(file_path, \"sortBam\")\n",
    "ht_dir = join(file_path, 'htseq')\n",
    "ht_reverse_dir = join(file_path, 'htseq_rev')\n",
    "RNA_SeQC = join(file_path,'RNA_SeQC')"
   ]
  },
  {
   "cell_type": "code",
   "execution_count": 5,
   "metadata": {
    "ExecuteTime": {
     "end_time": "2020-04-17T23:44:26.650200Z",
     "start_time": "2020-04-17T23:44:26.642547Z"
    }
   },
   "outputs": [],
   "source": [
    "# tpm <- function(counts, lengths) {\n",
    "#   rate <- counts / lengths\n",
    "#   rate / sum(rate) * 1e6\n",
    "# }\n",
    "\n",
    "def to_tpm(counts,lengths):\n",
    "    rate = counts.apply(lambda x: x/lengths.loc[x.name, \"Length\"], axis=1)\n",
    "    return (rate/rate.sum(axis=0))*1e6\n",
    "\n"
   ]
  },
  {
   "cell_type": "code",
   "execution_count": 6,
   "metadata": {
    "ExecuteTime": {
     "end_time": "2020-04-17T23:44:35.946237Z",
     "start_time": "2020-04-17T23:44:26.651806Z"
    },
    "scrolled": true
   },
   "outputs": [
    {
     "name": "stdout",
     "output_type": "stream",
     "text": [
      "/data/isshamie/TSS/NCBI_PICR_103_Processed/RNAseq/htseq_rev/Muscle_S8.count.txt\n",
      "Muscle_S8\n",
      "/data/isshamie/TSS/NCBI_PICR_103_Processed/RNAseq/htseq_rev/Brain2_S7.count.txt\n",
      "Brain2_S7\n",
      "/data/isshamie/TSS/NCBI_PICR_103_Processed/RNAseq/htseq_rev/Lung_S4.count.txt\n",
      "Lung_S4\n",
      "/data/isshamie/TSS/NCBI_PICR_103_Processed/RNAseq/htseq_rev/Heart_S6.count.txt\n",
      "Heart_S6\n",
      "/data/isshamie/TSS/NCBI_PICR_103_Processed/RNAseq/htseq_rev/Misc_S10.count.txt\n",
      "Misc_S10\n",
      "/data/isshamie/TSS/NCBI_PICR_103_Processed/RNAseq/htseq_rev/Brain7-1_S11.count.txt\n",
      "Brain7-1_S11\n",
      "/data/isshamie/TSS/NCBI_PICR_103_Processed/RNAseq/htseq_rev/Liver_S5.count.txt\n",
      "Liver_S5\n",
      "/data/isshamie/TSS/NCBI_PICR_103_Processed/RNAseq/htseq_rev/ReproductiveTract_S2.count.txt\n",
      "ReproductiveTract_S2\n",
      "/data/isshamie/TSS/NCBI_PICR_103_Processed/RNAseq/htseq_rev/Kidney_S9.count.txt\n",
      "Kidney_S9\n",
      "/data/isshamie/TSS/NCBI_PICR_103_Processed/RNAseq/htseq_rev/Spleen_S3.count.txt\n",
      "Spleen_S3\n",
      "/data/isshamie/TSS/NCBI_PICR_103_Processed/RNAseq/htseq_rev/Pancreas_S1.count.txt\n",
      "Pancreas_S1\n"
     ]
    }
   ],
   "source": [
    "tpm = pd.DataFrame()\n",
    "\n",
    "for bam_f in glob.glob(ht_reverse_dir+\"/*.count.txt\"):\n",
    "    print(bam_f)\n",
    "    sid = basename(bam_f).replace('.count.txt','') #\"_\".join(basename(bam_f).split(\"_\")[1:3])\n",
    "    print(sid)\n",
    "    #NL9_Kidney_S9_L006_R1_001.fastq.sort\n",
    "    count_rev_f = join(ht_reverse_dir, sid +'.count.txt')\n",
    "\n",
    "    df_rev = pd.read_csv(count_rev_f,sep=\"\\t\", header=None, index_col=0)\n",
    "    df_rev = df_rev[~(df_rev.index.str.contains(\"_\"))]\n",
    "    df_rev.columns = [sid]\n",
    "\n",
    "    tpm = pd.concat((tpm,df_rev), axis=1)\n",
    "\n",
    "tpm = tpm.loc[tpm.index.intersection(gene_l.index)]\n",
    "\n",
    "## Convert from counts to tpm\n",
    "\n",
    "tpm = to_tpm(tpm, gene_l)"
   ]
  },
  {
   "cell_type": "code",
   "execution_count": 7,
   "metadata": {
    "ExecuteTime": {
     "end_time": "2020-04-17T23:44:35.964425Z",
     "start_time": "2020-04-17T23:44:35.949981Z"
    },
    "scrolled": false
   },
   "outputs": [
    {
     "name": "stdout",
     "output_type": "stream",
     "text": [
      "32426\n",
      "32426\n",
      "32427\n",
      "Muscle_S8               1000000.0\n",
      "Brain2_S7               1000000.0\n",
      "Lung_S4                 1000000.0\n",
      "Heart_S6                1000000.0\n",
      "Misc_S10                1000000.0\n",
      "Brain7-1_S11            1000000.0\n",
      "Liver_S5                1000000.0\n",
      "ReproductiveTract_S2    1000000.0\n",
      "Kidney_S9               1000000.0\n",
      "Spleen_S3               1000000.0\n",
      "Pancreas_S1             1000000.0\n",
      "dtype: float64\n"
     ]
    }
   ],
   "source": [
    "print(len(tpm.index.intersection(gene_l.index)))\n",
    "print(len(tpm))\n",
    "print(len(gene_l.index))\n",
    "print(tpm.sum())"
   ]
  },
  {
   "cell_type": "markdown",
   "metadata": {},
   "source": [
    "## Get mean and var for tissues "
   ]
  },
  {
   "cell_type": "code",
   "execution_count": 8,
   "metadata": {
    "ExecuteTime": {
     "end_time": "2020-04-17T23:44:35.979885Z",
     "start_time": "2020-04-17T23:44:35.966148Z"
    },
    "scrolled": true
   },
   "outputs": [
    {
     "data": {
      "text/html": [
       "<div>\n",
       "<style scoped>\n",
       "    .dataframe tbody tr th:only-of-type {\n",
       "        vertical-align: middle;\n",
       "    }\n",
       "\n",
       "    .dataframe tbody tr th {\n",
       "        vertical-align: top;\n",
       "    }\n",
       "\n",
       "    .dataframe thead th {\n",
       "        text-align: right;\n",
       "    }\n",
       "</style>\n",
       "<table border=\"1\" class=\"dataframe\">\n",
       "  <thead>\n",
       "    <tr style=\"text-align: right;\">\n",
       "      <th></th>\n",
       "      <th>Unnamed: 0</th>\n",
       "      <th>Experiment</th>\n",
       "      <th>Full</th>\n",
       "      <th>Name</th>\n",
       "      <th>Tissue</th>\n",
       "    </tr>\n",
       "  </thead>\n",
       "  <tbody>\n",
       "    <tr>\n",
       "      <td>67</td>\n",
       "      <td>NL10_Misc_S10_L006_R1_001.fastq.gz</td>\n",
       "      <td>RNASeq</td>\n",
       "      <td>NL10_Misc_S10_L006_R1_001.fastq.gz</td>\n",
       "      <td>Misc_RNASeq1</td>\n",
       "      <td>MiscOrgans</td>\n",
       "    </tr>\n",
       "    <tr>\n",
       "      <td>68</td>\n",
       "      <td>NL11_Brain7-1_S11_L006_R1_001.fastq.gz</td>\n",
       "      <td>RNASeq</td>\n",
       "      <td>NL11_Brain7-1_S11_L006_R1_001.fastq.gz</td>\n",
       "      <td>Brain_RNASeq1</td>\n",
       "      <td>Brain</td>\n",
       "    </tr>\n",
       "    <tr>\n",
       "      <td>69</td>\n",
       "      <td>NL1_Pancreas_S1_L006_R1_001.fastq.gz</td>\n",
       "      <td>RNASeq</td>\n",
       "      <td>NL1_Pancreas_S1_L006_R1_001.fastq.gz</td>\n",
       "      <td>Pancreas_RNASeq1</td>\n",
       "      <td>Pancreas</td>\n",
       "    </tr>\n",
       "    <tr>\n",
       "      <td>70</td>\n",
       "      <td>NL2_ReproductiveTract_S2_L006_R1_001.fastq.gz</td>\n",
       "      <td>RNASeq</td>\n",
       "      <td>NL2_ReproductiveTract_S2_L006_R1_001.fastq.gz</td>\n",
       "      <td>ReproductiveTract_RNASeq1</td>\n",
       "      <td>FemaleReproductive</td>\n",
       "    </tr>\n",
       "    <tr>\n",
       "      <td>71</td>\n",
       "      <td>NL3_Spleen_S3_L006_R1_001.fastq.gz</td>\n",
       "      <td>RNASeq</td>\n",
       "      <td>NL3_Spleen_S3_L006_R1_001.fastq.gz</td>\n",
       "      <td>Spleen_RNASeq1</td>\n",
       "      <td>Spleen</td>\n",
       "    </tr>\n",
       "    <tr>\n",
       "      <td>72</td>\n",
       "      <td>NL4_Lung_S4_L006_R1_001.fastq.gz</td>\n",
       "      <td>RNASeq</td>\n",
       "      <td>NL4_Lung_S4_L006_R1_001.fastq.gz</td>\n",
       "      <td>Lung_RNASeq1</td>\n",
       "      <td>Lung</td>\n",
       "    </tr>\n",
       "    <tr>\n",
       "      <td>73</td>\n",
       "      <td>NL5_Liver_S5_L006_R1_001.fastq.gz</td>\n",
       "      <td>RNASeq</td>\n",
       "      <td>NL5_Liver_S5_L006_R1_001.fastq.gz</td>\n",
       "      <td>Liver_RNASeq1</td>\n",
       "      <td>Liver</td>\n",
       "    </tr>\n",
       "    <tr>\n",
       "      <td>74</td>\n",
       "      <td>NL6_Heart_S6_L006_R1_001.fastq.gz</td>\n",
       "      <td>RNASeq</td>\n",
       "      <td>NL6_Heart_S6_L006_R1_001.fastq.gz</td>\n",
       "      <td>Heart_RNASeq1</td>\n",
       "      <td>Heart</td>\n",
       "    </tr>\n",
       "    <tr>\n",
       "      <td>75</td>\n",
       "      <td>NL7_Brain2_S7_L006_R1_001.fastq.gz</td>\n",
       "      <td>RNASeq</td>\n",
       "      <td>NL7_Brain2_S7_L006_R1_001.fastq.gz</td>\n",
       "      <td>Brain_RNASeq2</td>\n",
       "      <td>Brain</td>\n",
       "    </tr>\n",
       "    <tr>\n",
       "      <td>76</td>\n",
       "      <td>NL8_Muscle_S8_L006_R1_001.fastq.gz</td>\n",
       "      <td>RNASeq</td>\n",
       "      <td>NL8_Muscle_S8_L006_R1_001.fastq.gz</td>\n",
       "      <td>Muscle_RNASeq1</td>\n",
       "      <td>Muscle</td>\n",
       "    </tr>\n",
       "    <tr>\n",
       "      <td>77</td>\n",
       "      <td>NL9_Kidney_S9_L006_R1_001.fastq.gz</td>\n",
       "      <td>RNASeq</td>\n",
       "      <td>NL9_Kidney_S9_L006_R1_001.fastq.gz</td>\n",
       "      <td>Kidney_RNASeq1</td>\n",
       "      <td>Kidney</td>\n",
       "    </tr>\n",
       "  </tbody>\n",
       "</table>\n",
       "</div>"
      ],
      "text/plain": [
       "                                       Unnamed: 0 Experiment  \\\n",
       "67             NL10_Misc_S10_L006_R1_001.fastq.gz     RNASeq   \n",
       "68         NL11_Brain7-1_S11_L006_R1_001.fastq.gz     RNASeq   \n",
       "69           NL1_Pancreas_S1_L006_R1_001.fastq.gz     RNASeq   \n",
       "70  NL2_ReproductiveTract_S2_L006_R1_001.fastq.gz     RNASeq   \n",
       "71             NL3_Spleen_S3_L006_R1_001.fastq.gz     RNASeq   \n",
       "72               NL4_Lung_S4_L006_R1_001.fastq.gz     RNASeq   \n",
       "73              NL5_Liver_S5_L006_R1_001.fastq.gz     RNASeq   \n",
       "74              NL6_Heart_S6_L006_R1_001.fastq.gz     RNASeq   \n",
       "75             NL7_Brain2_S7_L006_R1_001.fastq.gz     RNASeq   \n",
       "76             NL8_Muscle_S8_L006_R1_001.fastq.gz     RNASeq   \n",
       "77             NL9_Kidney_S9_L006_R1_001.fastq.gz     RNASeq   \n",
       "\n",
       "                                             Full                       Name  \\\n",
       "67             NL10_Misc_S10_L006_R1_001.fastq.gz               Misc_RNASeq1   \n",
       "68         NL11_Brain7-1_S11_L006_R1_001.fastq.gz              Brain_RNASeq1   \n",
       "69           NL1_Pancreas_S1_L006_R1_001.fastq.gz           Pancreas_RNASeq1   \n",
       "70  NL2_ReproductiveTract_S2_L006_R1_001.fastq.gz  ReproductiveTract_RNASeq1   \n",
       "71             NL3_Spleen_S3_L006_R1_001.fastq.gz             Spleen_RNASeq1   \n",
       "72               NL4_Lung_S4_L006_R1_001.fastq.gz               Lung_RNASeq1   \n",
       "73              NL5_Liver_S5_L006_R1_001.fastq.gz              Liver_RNASeq1   \n",
       "74              NL6_Heart_S6_L006_R1_001.fastq.gz              Heart_RNASeq1   \n",
       "75             NL7_Brain2_S7_L006_R1_001.fastq.gz              Brain_RNASeq2   \n",
       "76             NL8_Muscle_S8_L006_R1_001.fastq.gz             Muscle_RNASeq1   \n",
       "77             NL9_Kidney_S9_L006_R1_001.fastq.gz             Kidney_RNASeq1   \n",
       "\n",
       "                Tissue  \n",
       "67          MiscOrgans  \n",
       "68               Brain  \n",
       "69            Pancreas  \n",
       "70  FemaleReproductive  \n",
       "71              Spleen  \n",
       "72                Lung  \n",
       "73               Liver  \n",
       "74               Heart  \n",
       "75               Brain  \n",
       "76              Muscle  \n",
       "77              Kidney  "
      ]
     },
     "execution_count": 8,
     "metadata": {},
     "output_type": "execute_result"
    }
   ],
   "source": [
    "rna_samples = samples[samples['Experiment']=='RNASeq']\n",
    "rna_samples"
   ]
  },
  {
   "cell_type": "code",
   "execution_count": 9,
   "metadata": {
    "ExecuteTime": {
     "end_time": "2020-04-17T23:44:46.490820Z",
     "start_time": "2020-04-17T23:44:35.981377Z"
    }
   },
   "outputs": [
    {
     "name": "stderr",
     "output_type": "stream",
     "text": [
      "Generating palette: 100% |######################################| Time: 0:00:08\n"
     ]
    }
   ],
   "source": [
    "color_map, name_map, p = get_colors(scheme='categorical', names=rna_samples[\"Tissue\"].values, n_colors=len(rna_samples[\"Tissue\"].unique()), use_white=False)\n"
   ]
  },
  {
   "cell_type": "code",
   "execution_count": 10,
   "metadata": {
    "ExecuteTime": {
     "end_time": "2020-04-17T23:44:46.522892Z",
     "start_time": "2020-04-17T23:44:46.493526Z"
    },
    "scrolled": true
   },
   "outputs": [
    {
     "name": "stdout",
     "output_type": "stream",
     "text": [
      "Muscle_S8\n",
      "Brain2_S7\n",
      "Lung_S4\n",
      "Heart_S6\n",
      "Misc_S10\n",
      "Brain7-1_S11\n",
      "Liver_S5\n",
      "ReproductiveTract_S2\n",
      "Kidney_S9\n",
      "Spleen_S3\n",
      "Pancreas_S1\n",
      "defaultdict(<class 'list'>, {'Muscle': ['Muscle_S8'], 'Brain': ['Brain2_S7', 'Brain7-1_S11'], 'Lung': ['Lung_S4'], 'Heart': ['Heart_S6'], 'MiscOrgans': ['Misc_S10'], 'Liver': ['Liver_S5'], 'FemaleReproductive': ['ReproductiveTract_S2'], 'Kidney': ['Kidney_S9'], 'Spleen': ['Spleen_S3'], 'Pancreas': ['Pancreas_S1']})\n"
     ]
    },
    {
     "data": {
      "text/plain": [
       "{'Muscle_S8': 'Muscle',\n",
       " 'Brain2_S7': 'Brain',\n",
       " 'Lung_S4': 'Lung',\n",
       " 'Heart_S6': 'Heart',\n",
       " 'Misc_S10': 'MiscOrgans',\n",
       " 'Brain7-1_S11': 'Brain',\n",
       " 'Liver_S5': 'Liver',\n",
       " 'ReproductiveTract_S2': 'FemaleReproductive',\n",
       " 'Kidney_S9': 'Kidney',\n",
       " 'Spleen_S3': 'Spleen',\n",
       " 'Pancreas_S1': 'Pancreas'}"
      ]
     },
     "execution_count": 10,
     "metadata": {},
     "output_type": "execute_result"
    }
   ],
   "source": [
    "tis_map = dict()\n",
    "for name in tpm.columns.values:\n",
    "    print(name)\n",
    "    for _, val in rna_samples.iterrows():\n",
    "        if name in val['Full']:\n",
    "            if name in tis_map:\n",
    "                print('Already here', name)\n",
    "            else:\n",
    "                tis_map[name] = val[\"Tissue\"]\n",
    "tis_rev = defaultdict(list)\n",
    "for t in tis_map:\n",
    "    tis_rev[tis_map[t]].append(t)\n",
    "print(tis_rev)\n",
    "tis_map"
   ]
  },
  {
   "cell_type": "markdown",
   "metadata": {},
   "source": [
    "A. Get mean for each gene over tissues (average the brain)  \n",
    "B. For each tissue : rank order the genes for that tissue  \n",
    "C. calculate to cumulative sum.  \n",
    "D. plot the cumulative plot with variance   "
   ]
  },
  {
   "cell_type": "markdown",
   "metadata": {},
   "source": [
    "## Log values"
   ]
  },
  {
   "cell_type": "code",
   "execution_count": 16,
   "metadata": {
    "ExecuteTime": {
     "end_time": "2020-04-17T23:48:36.128309Z",
     "start_time": "2020-04-17T23:48:33.590036Z"
    },
    "scrolled": true
   },
   "outputs": [
    {
     "data": {
      "image/png": "[encoded data removed]",
      "text/plain": [
       "<Figure size 432x288 with 1 Axes>"
      ]
     },
     "metadata": {},
     "output_type": "display_data"
    }
   ],
   "source": [
    "tpm_log = np.log2(tpm+1)\n",
    "#df.melt(var_name='groups', value_name='vals')\n",
    "sns.violinplot(x=\"groups\", y=\"vals\", data=tpm_log.melt(var_name='groups', value_name='vals'))\n",
    "plt.xticks(rotation=90)\n",
    "plt.title(\"Log 2\")\n",
    "helper_save(join(outdir,\"Log2_rna_count_violinplot\"))"
   ]
  },
  {
   "cell_type": "markdown",
   "metadata": {},
   "source": [
    "## log x-axis"
   ]
  },
  {
   "cell_type": "code",
   "execution_count": 15,
   "metadata": {
    "ExecuteTime": {
     "end_time": "2020-04-17T23:48:33.588061Z",
     "start_time": "2020-04-17T23:47:52.733651Z"
    },
    "scrolled": true
   },
   "outputs": [
    {
     "name": "stdout",
     "output_type": "stream",
     "text": [
      "MiscOrgans\n",
      "Brain\n",
      "Pancreas\n",
      "FemaleReproductive\n",
      "Spleen\n",
      "Lung\n",
      "Liver\n",
      "Heart\n",
      "Muscle\n",
      "Kidney\n"
     ]
    },
    {
     "name": "stderr",
     "output_type": "stream",
     "text": [
      "/home/isshamie/software/homebrew/matplotlib_helper/mplh/fig_utils.py:56: UserWarning: Creating legend with loc=\"best\" can be slow with large amounts of data.\n",
      "  dpi=dpi, pad_inches=0.1)\n",
      "/home/isshamie/software/homebrew/matplotlib_helper/mplh/fig_utils.py:59: UserWarning: Creating legend with loc=\"best\" can be slow with large amounts of data.\n",
      "  plt.savefig(f_save + '.svg')\n"
     ]
    },
    {
     "data": {
      "image/png": "[encoded data removed]",
      "text/plain": [
       "<Figure size 432x288 with 1 Axes>"
      ]
     },
     "metadata": {},
     "output_type": "display_data"
    }
   ],
   "source": [
    "tis_cum_plot_mean = {}\n",
    "tis_cum_plot_var = {}\n",
    "f, ax = plt.subplots()\n",
    "curr_cum_dict = {}\n",
    "for tis in rna_samples[\"Tissue\"].unique():\n",
    "    print(tis)\n",
    "    curr_df = tpm_log.loc[:, tis_rev[tis]]\n",
    "    tis_cum_plot_mean[tis] = curr_df.mean(axis=1)\n",
    "    tis_cum_plot_var[tis] = curr_df.var(axis=1)\n",
    "    curr_cum = (tis_cum_plot_mean[tis].sort_values(ascending=False).cumsum()/(tis_cum_plot_mean[tis].sum()))\n",
    "    curr_cum_dict[tis] = curr_cum.values\n",
    "    sns.lineplot(data = curr_cum.reset_index(drop=True), ax=ax, color=color_map[tis])\n",
    "    \n",
    "legend_from_color(color_map, curr_ax=ax)\n",
    "ax.set_xscale('log')\n",
    "\n",
    "helper_save(f_save)\n",
    "pd.DataFrame(curr_cum_dict).to_csv(f_save+'.csv')"
   ]
  },
  {
   "cell_type": "markdown",
   "metadata": {},
   "source": [
    "### Raw TPM"
   ]
  },
  {
   "cell_type": "code",
   "execution_count": 13,
   "metadata": {
    "ExecuteTime": {
     "end_time": "2020-04-17T23:45:28.897190Z",
     "start_time": "2020-04-17T23:44:50.439105Z"
    },
    "scrolled": true
   },
   "outputs": [
    {
     "name": "stdout",
     "output_type": "stream",
     "text": [
      "MiscOrgans\n",
      "Brain\n",
      "Pancreas\n",
      "FemaleReproductive\n",
      "Spleen\n",
      "Lung\n",
      "Liver\n",
      "Heart\n",
      "Muscle\n",
      "Kidney\n"
     ]
    },
    {
     "name": "stderr",
     "output_type": "stream",
     "text": [
      "/home/isshamie/software/anaconda2/envs/TSS/lib/python3.7/site-packages/IPython/core/pylabtools.py:128: UserWarning: Creating legend with loc=\"best\" can be slow with large amounts of data.\n",
      "  fig.canvas.print_figure(bytes_io, **kw)\n"
     ]
    },
    {
     "data": {
      "image/png": "[encoded data removed]",
      "text/plain": [
       "<Figure size 432x288 with 1 Axes>"
      ]
     },
     "metadata": {
      "needs_background": "light"
     },
     "output_type": "display_data"
    }
   ],
   "source": [
    "tis_cum_plot_mean = {}\n",
    "tis_cum_plot_var = {}\n",
    "f, ax = plt.subplots()\n",
    "for tis in rna_samples[\"Tissue\"].unique():\n",
    "    print(tis)\n",
    "    curr_df = tpm.loc[:, tis_rev[tis]]\n",
    "    tis_cum_plot_mean[tis] = curr_df.mean(axis=1)\n",
    "    tis_cum_plot_var[tis] = curr_df.var(axis=1)\n",
    "    curr_cum = (tis_cum_plot_mean[tis].sort_values(ascending=False).cumsum()/(tis_cum_plot_mean[tis].sum()))\n",
    "    sns.lineplot(data = curr_cum.reset_index(drop=True), ax=ax, color=color_map[tis])\n",
    "legend_from_color(color_map, curr_ax=ax)"
   ]
  },
  {
   "cell_type": "markdown",
   "metadata": {},
   "source": [
    "## Log TPM (no logscale)"
   ]
  },
  {
   "cell_type": "code",
   "execution_count": 14,
   "metadata": {
    "ExecuteTime": {
     "end_time": "2020-04-17T23:46:07.365577Z",
     "start_time": "2020-04-17T23:45:28.899140Z"
    }
   },
   "outputs": [
    {
     "name": "stdout",
     "output_type": "stream",
     "text": [
      "MiscOrgans\n",
      "Brain\n",
      "Pancreas\n",
      "FemaleReproductive\n",
      "Spleen\n",
      "Lung\n",
      "Liver\n",
      "Heart\n",
      "Muscle\n",
      "Kidney\n"
     ]
    },
    {
     "data": {
      "image/png": "[encoded data removed]",
      "text/plain": [
       "<Figure size 432x288 with 1 Axes>"
      ]
     },
     "metadata": {
      "needs_background": "light"
     },
     "output_type": "display_data"
    }
   ],
   "source": [
    "tis_cum_plot_mean = {}\n",
    "tis_cum_plot_var = {}\n",
    "f, ax = plt.subplots()\n",
    "for tis in rna_samples[\"Tissue\"].unique():\n",
    "    print(tis)\n",
    "    curr_df = tpm_log.loc[:, tis_rev[tis]]\n",
    "    tis_cum_plot_mean[tis] = curr_df.mean(axis=1)\n",
    "    tis_cum_plot_var[tis] = curr_df.var(axis=1)\n",
    "    curr_cum = (tis_cum_plot_mean[tis].sort_values(ascending=False).cumsum()/(tis_cum_plot_mean[tis].sum()))\n",
    "    sns.lineplot(data = curr_cum.reset_index(drop=True), ax=ax, color=color_map[tis])\n",
    "legend_from_color(color_map, curr_ax=ax)"
   ]
  }
 ],
 "metadata": {
  "kernelspec": {
   "display_name": "Python 3",
   "language": "python",
   "name": "python3"
  },
  "language_info": {
   "codemirror_mode": {
    "name": "ipython",
    "version": 3
   },
   "file_extension": ".py",
   "mimetype": "text/x-python",
   "name": "python",
   "nbconvert_exporter": "python",
   "pygments_lexer": "ipython3",
   "version": "3.7.3"
  }
 },
 "nbformat": 4,
 "nbformat_minor": 2
}
