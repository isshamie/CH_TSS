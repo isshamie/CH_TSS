{
 "cells": [
  {
   "cell_type": "markdown",
   "metadata": {},
   "source": [
    "## Run de novo motif analysis on different subsets of TSS.\n",
    "## 1. Extract the TSS of the regions of interest from the bed file using the Tissues in the meta file. \n",
    "### Subsets:\n",
    "## Unique:\n",
    "### 1. TSS unique to a tissue. \n",
    "### 2. TSS in a tissue with more than 2SD more than the median. (Mean absolute deviance)\n",
    "## Houekeeping\n",
    "### 3. TSS in housekeeping genes (max/median < 2) \n",
    "    "
   ]
  },
  {
   "cell_type": "code",
   "execution_count": 1,
   "metadata": {
    "ExecuteTime": {
     "end_time": "2020-07-21T00:29:26.561097Z",
     "start_time": "2020-07-21T00:29:25.592855Z"
    },
    "scrolled": true
   },
   "outputs": [
    {
     "name": "stderr",
     "output_type": "stream",
     "text": [
      "/home/isshamie/software/anaconda2/envs/TSS/lib/python3.7/site-packages/ipykernel_launcher.py:7: YAMLLoadWarning: calling yaml.load() without Loader=... is deprecated, as the default Loader is unsafe. Please read https://msg.pyyaml.org/load for full details.\n",
      "  import sys\n"
     ]
    },
    {
     "name": "stdout",
     "output_type": "stream",
     "text": [
      "/data2/resources/software/homer/v4.11_10242019/bin//homer\r\n"
     ]
    }
   ],
   "source": [
    "## Parameters specific to where your folders are and your data\n",
    "parameter_file = '../../parameters/params.yaml'\n",
    "import yaml\n",
    "import sys\n",
    "import os\n",
    "with open(parameter_file,'r') as f:\n",
    "    doc = yaml.load(f)\n",
    "\n",
    "#p = dic2obj(**doc)\n",
    "\n",
    "#data_folder = doc['data_folder']\n",
    "#tissues = doc['tissues'].split(',')\n",
    "#sys.path.append(doc['pipeline_path'])\n",
    "ref_fa = doc['GENOME_FA']\n",
    "#anno_gff=doc['annotation']\n",
    "#mRNA_peak_file = doc[\"mRNA_peak_file\"]\n",
    "#tss_annotation = doc['tss_annotation']\n",
    "\n",
    "\n",
    "import sys\n",
    "import pandas as pd\n",
    "import matplotlib\n",
    "import seaborn as sns\n",
    "import pickle\n",
    "import numpy as np\n",
    "import matplotlib as mpl\n",
    "from matplotlib import pyplot as plt\n",
    "from itertools import product\n",
    "import glob\n",
    "import re\n",
    "from os.path import join\n",
    "from matplotlib_venn import venn2\n",
    "from matplotlib import rcParams\n",
    "import inspect\n",
    "%matplotlib inline\n",
    "%config InlineBackend.figure_format = 'retina'\n",
    "sys.setrecursionlimit(3000)\n",
    "%load_ext autoreload\n",
    "%autoreload 2\n",
    "rcParams['figure.figsize'] = 8, 6\n",
    "import tqdm\n",
    "\n",
    "from os.path import basename\n",
    "##mpl.use('Agg')\n",
    "#mpl.style.use('ggplot')\n",
    "#mpl.style.use('fivethirtyeight')\n",
    "#from Homer import *\n",
    "\n",
    "homer_path =  \"/data2/resources/software/homer/v4.11_10242019/bin/\"\n",
    "os.environ['PATH'] = f\"{homer_path}:{os.environ['PATH']}\"\n",
    "!which homer"
   ]
  },
  {
   "cell_type": "code",
   "execution_count": 2,
   "metadata": {
    "ExecuteTime": {
     "end_time": "2020-07-21T00:29:26.587804Z",
     "start_time": "2020-07-21T00:29:26.563508Z"
    }
   },
   "outputs": [],
   "source": [
    "import click"
   ]
  },
  {
   "cell_type": "code",
   "execution_count": 3,
   "metadata": {
    "ExecuteTime": {
     "end_time": "2020-07-21T00:29:26.629129Z",
     "start_time": "2020-07-21T00:29:26.589817Z"
    }
   },
   "outputs": [
    {
     "name": "stdout",
     "output_type": "stream",
     "text": [
      "params {'PREFIX': 'ncbi_pice_103', 'ROOT_DIR': '/data/isshamie/TSS/', 'DATA_DIR': '/data/isshamie/TSS/NCBI_PICR_103_Processed/', 'DATA_PROCESSED_DIR': '/data/isshamie/TSS/TSS/data/processed/', 'SUPPLEMENTAL_DIR': '/data/isshamie/TSS/Analysis/supplemental/', 'PIPELINE': '/data/isshamie/TSS/tss', 'GENOME_DIR': '/data/isshamie/genome', 'GENOME_FA': '/data/isshamie/genome/picr.fa', 'GENOME_GFF3': '/data/isshamie/genome/updated_final_sort.gff3', 'GENOME_GTF': '/data/isshamie/genome/updated_final_sort.gtf', 'TISSUES': 'BMDM1hKLA,BMDMwt,Brain,FemaleReproductive,Heart,Intestine,', 'META_FILE': '/data/isshamie/TSS/TSS/parameters/raw_metaSamples.tsv'}\n"
     ]
    }
   ],
   "source": [
    "from tss.utils import wrap_findMotifs\n",
    "from tss.data.data_io import read_bed_file\n",
    "from tss.data.data_io import write_bed_file\n",
    "from tss.utils import wrap_findMotifs\n",
    "from tss.data import data_io"
   ]
  },
  {
   "cell_type": "code",
   "execution_count": 4,
   "metadata": {
    "ExecuteTime": {
     "end_time": "2020-07-21T00:29:26.646790Z",
     "start_time": "2020-07-21T00:29:26.631077Z"
    }
   },
   "outputs": [],
   "source": [
    "os.chdir(doc[\"results\"])\n",
    "genome=\"alt\"\n",
    "outdir= join(\"v02_de_novo_motifs\",genome,'promoters')\n",
    "\n",
    "if not os.path.exists(outdir):\n",
    "    os.makedirs(outdir)"
   ]
  },
  {
   "cell_type": "markdown",
   "metadata": {},
   "source": [
    "## Outdir:"
   ]
  },
  {
   "cell_type": "code",
   "execution_count": 5,
   "metadata": {
    "ExecuteTime": {
     "end_time": "2020-07-21T00:29:26.662768Z",
     "start_time": "2020-07-21T00:29:26.648506Z"
    }
   },
   "outputs": [],
   "source": [
    "unique_gene_peaks_dir = \"unique_genes/\"\n",
    "\n",
    "unique_dir = \"/data/isshamie/TSS/Analysis/TSS_code/figures/alt/barplots_eTSS/bmdm/\" #gene_tissues_expressedLiver.uniqueGenes.txt\"\")\n"
   ]
  },
  {
   "cell_type": "markdown",
   "metadata": {},
   "source": [
    "## Define unique tissues"
   ]
  },
  {
   "cell_type": "code",
   "execution_count": 6,
   "metadata": {
    "ExecuteTime": {
     "end_time": "2020-07-21T00:29:26.678406Z",
     "start_time": "2020-07-21T00:29:26.664512Z"
    },
    "scrolled": true
   },
   "outputs": [],
   "source": [
    "# types = {'A': {'Type': 'Unique', 'Method':'Threshold','Metric': 'Peak Significance', 'Value':True,\n",
    "#               'Bg':[\"other\", \"NotInTissue\"]},\n",
    "#          'B':{'Type': 'Unique', 'Method':'Median Deviation', 'Value':2}, \n",
    "#          'C':{'Type':'Housekeeping','Method':'Median Max','Ratio': 2},\n",
    "#          'D': {'Type':'All', 'Method':'All'}}\n",
    "# types"
   ]
  },
  {
   "cell_type": "code",
   "execution_count": 7,
   "metadata": {
    "ExecuteTime": {
     "end_time": "2020-07-21T00:29:26.796629Z",
     "start_time": "2020-07-21T00:29:26.680156Z"
    }
   },
   "outputs": [],
   "source": [
    "os.chdir(doc[\"results\"])\n",
    "TSS1_bed = read_bed_file('alt/eTSS/TSS.exp.bed')\n",
    "TSS1_meta = pd.read_csv('alt/eTSS/TSS.exp.meta.tsv',sep=\"\\t\",index_col=0)\n",
    "unique_genes_dir = \"unique_genes\"\n",
    "silent_bed_f = 'alt/eTSS/TSS1.ref.bed'\n"
   ]
  },
  {
   "cell_type": "markdown",
   "metadata": {},
   "source": [
    "## First, use all"
   ]
  },
  {
   "cell_type": "markdown",
   "metadata": {},
   "source": [
    "## Run over entire Homer bed"
   ]
  },
  {
   "cell_type": "markdown",
   "metadata": {},
   "source": [
    "## Default settings"
   ]
  },
  {
   "cell_type": "markdown",
   "metadata": {},
   "source": [
    "## Use silenced genes as control"
   ]
  },
  {
   "cell_type": "code",
   "execution_count": null,
   "metadata": {},
   "outputs": [],
   "source": []
  },
  {
   "cell_type": "markdown",
   "metadata": {},
   "source": [
    "# Use unique genes\n",
    "## Need to create a background. One is peaks which did not have that tissue in it."
   ]
  },
  {
   "cell_type": "code",
   "execution_count": 8,
   "metadata": {
    "ExecuteTime": {
     "end_time": "2020-07-21T00:29:26.816038Z",
     "start_time": "2020-07-21T00:29:26.799056Z"
    }
   },
   "outputs": [],
   "source": [
    "background_bed_out = join(outdir, 'bg_files')\n",
    "if not os.path.exists(background_bed_out):\n",
    "    os.mkdir(background_bed_out)"
   ]
  },
  {
   "cell_type": "code",
   "execution_count": 9,
   "metadata": {
    "ExecuteTime": {
     "end_time": "2020-07-21T01:11:28.146967Z",
     "start_time": "2020-07-21T00:29:26.817695Z"
    },
    "scrolled": true
   },
   "outputs": [
    {
     "name": "stdout",
     "output_type": "stream",
     "text": [
      "v02_de_novo_motifs/alt/promoters/Spleen.uniqueGenes\n",
      "v02_de_novo_motifs/alt/promoters/bg_files/Spleen.notPresent.bed\n",
      "nohup findMotifsGenome.pl unique_genes/Spleen.uniqueGenes.bed /data/isshamie/genome/ncbi_anno_103/GCF_003668045.1_CriGri-PICR_genomic.fna v02_de_novo_motifs/alt/promoters/Spleen.uniqueGenes -size -300,100 -len 6,8,10 -p 16  -mset vertebrate -bg v02_de_novo_motifs/alt/promoters/bg_files/Spleen.notPresent.bed  > v02_de_novo_motifs/alt/promoters/Spleen.uniqueGenes.log\n",
      "v02_de_novo_motifs/alt/promoters/Liver.uniqueGenes\n",
      "v02_de_novo_motifs/alt/promoters/bg_files/Liver.notPresent.bed\n",
      "nohup findMotifsGenome.pl unique_genes/Liver.uniqueGenes.bed /data/isshamie/genome/ncbi_anno_103/GCF_003668045.1_CriGri-PICR_genomic.fna v02_de_novo_motifs/alt/promoters/Liver.uniqueGenes -size -300,100 -len 6,8,10 -p 16  -mset vertebrate -bg v02_de_novo_motifs/alt/promoters/bg_files/Liver.notPresent.bed  > v02_de_novo_motifs/alt/promoters/Liver.uniqueGenes.log\n",
      "v02_de_novo_motifs/alt/promoters/FemaleReproductive.uniqueGenes\n",
      "v02_de_novo_motifs/alt/promoters/bg_files/FemaleReproductive.notPresent.bed\n",
      "nohup findMotifsGenome.pl unique_genes/FemaleReproductive.uniqueGenes.bed /data/isshamie/genome/ncbi_anno_103/GCF_003668045.1_CriGri-PICR_genomic.fna v02_de_novo_motifs/alt/promoters/FemaleReproductive.uniqueGenes -size -300,100 -len 6,8,10 -p 16  -mset vertebrate -bg v02_de_novo_motifs/alt/promoters/bg_files/FemaleReproductive.notPresent.bed  > v02_de_novo_motifs/alt/promoters/FemaleReproductive.uniqueGenes.log\n",
      "v02_de_novo_motifs/alt/promoters/MiscOrgans.uniqueGenes\n",
      "v02_de_novo_motifs/alt/promoters/bg_files/MiscOrgans.notPresent.bed\n",
      "nohup findMotifsGenome.pl unique_genes/MiscOrgans.uniqueGenes.bed /data/isshamie/genome/ncbi_anno_103/GCF_003668045.1_CriGri-PICR_genomic.fna v02_de_novo_motifs/alt/promoters/MiscOrgans.uniqueGenes -size -300,100 -len 6,8,10 -p 16  -mset vertebrate -bg v02_de_novo_motifs/alt/promoters/bg_files/MiscOrgans.notPresent.bed  > v02_de_novo_motifs/alt/promoters/MiscOrgans.uniqueGenes.log\n",
      "v02_de_novo_motifs/alt/promoters/Kidney.uniqueGenes\n",
      "v02_de_novo_motifs/alt/promoters/bg_files/Kidney.notPresent.bed\n",
      "nohup findMotifsGenome.pl unique_genes/Kidney.uniqueGenes.bed /data/isshamie/genome/ncbi_anno_103/GCF_003668045.1_CriGri-PICR_genomic.fna v02_de_novo_motifs/alt/promoters/Kidney.uniqueGenes -size -300,100 -len 6,8,10 -p 16  -mset vertebrate -bg v02_de_novo_motifs/alt/promoters/bg_files/Kidney.notPresent.bed  > v02_de_novo_motifs/alt/promoters/Kidney.uniqueGenes.log\n",
      "v02_de_novo_motifs/alt/promoters/CHO.uniqueGenes\n",
      "v02_de_novo_motifs/alt/promoters/bg_files/CHO.notPresent.bed\n",
      "nohup findMotifsGenome.pl unique_genes/CHO.uniqueGenes.bed /data/isshamie/genome/ncbi_anno_103/GCF_003668045.1_CriGri-PICR_genomic.fna v02_de_novo_motifs/alt/promoters/CHO.uniqueGenes -size -300,100 -len 6,8,10 -p 16  -mset vertebrate -bg v02_de_novo_motifs/alt/promoters/bg_files/CHO.notPresent.bed  > v02_de_novo_motifs/alt/promoters/CHO.uniqueGenes.log\n",
      "v02_de_novo_motifs/alt/promoters/Heart.uniqueGenes\n",
      "v02_de_novo_motifs/alt/promoters/bg_files/Heart.notPresent.bed\n",
      "nohup findMotifsGenome.pl unique_genes/Heart.uniqueGenes.bed /data/isshamie/genome/ncbi_anno_103/GCF_003668045.1_CriGri-PICR_genomic.fna v02_de_novo_motifs/alt/promoters/Heart.uniqueGenes -size -300,100 -len 6,8,10 -p 16  -mset vertebrate -bg v02_de_novo_motifs/alt/promoters/bg_files/Heart.notPresent.bed  > v02_de_novo_motifs/alt/promoters/Heart.uniqueGenes.log\n",
      "v02_de_novo_motifs/alt/promoters/Pancreas.uniqueGenes\n",
      "v02_de_novo_motifs/alt/promoters/bg_files/Pancreas.notPresent.bed\n",
      "nohup findMotifsGenome.pl unique_genes/Pancreas.uniqueGenes.bed /data/isshamie/genome/ncbi_anno_103/GCF_003668045.1_CriGri-PICR_genomic.fna v02_de_novo_motifs/alt/promoters/Pancreas.uniqueGenes -size -300,100 -len 6,8,10 -p 16  -mset vertebrate -bg v02_de_novo_motifs/alt/promoters/bg_files/Pancreas.notPresent.bed  > v02_de_novo_motifs/alt/promoters/Pancreas.uniqueGenes.log\n",
      "v02_de_novo_motifs/alt/promoters/Muscle.uniqueGenes\n",
      "v02_de_novo_motifs/alt/promoters/bg_files/Muscle.notPresent.bed\n",
      "nohup findMotifsGenome.pl unique_genes/Muscle.uniqueGenes.bed /data/isshamie/genome/ncbi_anno_103/GCF_003668045.1_CriGri-PICR_genomic.fna v02_de_novo_motifs/alt/promoters/Muscle.uniqueGenes -size -300,100 -len 6,8,10 -p 16  -mset vertebrate -bg v02_de_novo_motifs/alt/promoters/bg_files/Muscle.notPresent.bed  > v02_de_novo_motifs/alt/promoters/Muscle.uniqueGenes.log\n",
      "v02_de_novo_motifs/alt/promoters/Brain.uniqueGenes\n",
      "v02_de_novo_motifs/alt/promoters/bg_files/Brain.notPresent.bed\n",
      "nohup findMotifsGenome.pl unique_genes/Brain.uniqueGenes.bed /data/isshamie/genome/ncbi_anno_103/GCF_003668045.1_CriGri-PICR_genomic.fna v02_de_novo_motifs/alt/promoters/Brain.uniqueGenes -size -300,100 -len 6,8,10 -p 16  -mset vertebrate -bg v02_de_novo_motifs/alt/promoters/bg_files/Brain.notPresent.bed  > v02_de_novo_motifs/alt/promoters/Brain.uniqueGenes.log\n",
      "v02_de_novo_motifs/alt/promoters/Lung.uniqueGenes\n",
      "v02_de_novo_motifs/alt/promoters/bg_files/Lung.notPresent.bed\n",
      "nohup findMotifsGenome.pl unique_genes/Lung.uniqueGenes.bed /data/isshamie/genome/ncbi_anno_103/GCF_003668045.1_CriGri-PICR_genomic.fna v02_de_novo_motifs/alt/promoters/Lung.uniqueGenes -size -300,100 -len 6,8,10 -p 16  -mset vertebrate -bg v02_de_novo_motifs/alt/promoters/bg_files/Lung.notPresent.bed  > v02_de_novo_motifs/alt/promoters/Lung.uniqueGenes.log\n"
     ]
    }
   ],
   "source": [
    "for tis_bed in glob.glob(join(unique_gene_peaks_dir,\"*uniqueGenes.bed\")):\n",
    "    #print(tis_bed)\n",
    "    tis = basename(tis_bed).split('.uniqueGenes.bed')[0]\n",
    "    tis_out = join(outdir, tis + '.uniqueGenes')\n",
    "    #print(tis_out)\n",
    "#     if not os.path.exists(tis_out):\n",
    "#         os.mkdir(tis_out)\n",
    "\n",
    "    bg_meta = TSS1_meta[~(TSS1_meta[\"Tissues\"].str.contains(tis))]\n",
    "    bg_bed = TSS1_bed.loc[bg_meta.index]\n",
    "    out_bed = join(background_bed_out,tis+'.notPresent.bed')\n",
    "    if tis == \"BMDM\":\n",
    "        continue\n",
    "    else:\n",
    "        print(tis_out)\n",
    "        print(out_bed)        \n",
    "        write_bed_file(bg_bed,out_bed)\n",
    "        #wrap_findMotifs.run_findMotifs(tis_bed, tis_out, ref_fa, args=None,  bg=out_bed)\n",
    "        wrap_findMotifs.run_findMotifs(tis_bed, tis_out, ref_fa, args=None,  bg=out_bed, mset=True, size=(-300,100), num_cores=16)"
   ]
  },
  {
   "cell_type": "code",
   "execution_count": null,
   "metadata": {},
   "outputs": [],
   "source": []
  },
  {
   "cell_type": "markdown",
   "metadata": {},
   "source": [
    "## Run with just GC matched"
   ]
  },
  {
   "cell_type": "code",
   "execution_count": 11,
   "metadata": {
    "ExecuteTime": {
     "end_time": "2020-07-21T21:11:42.745026Z",
     "start_time": "2020-07-21T19:12:49.921563Z"
    },
    "scrolled": true
   },
   "outputs": [
    {
     "name": "stdout",
     "output_type": "stream",
     "text": [
      "unique_genes/Spleen.uniqueGenes.bed\n",
      "v02_de_novo_motifs/alt/promoters/Spleen.uniqueGenes.noBg\n",
      "nohup findMotifsGenome.pl unique_genes/Spleen.uniqueGenes.bed /data/isshamie/genome/ncbi_anno_103/GCF_003668045.1_CriGri-PICR_genomic.fna v02_de_novo_motifs/alt/promoters/Spleen.uniqueGenes.noBg -size -300,100 -len 6,8,10 -p 16  -mset vertebrate > v02_de_novo_motifs/alt/promoters/Spleen.uniqueGenes.noBg.log\n",
      "unique_genes/Liver.uniqueGenes.bed\n",
      "v02_de_novo_motifs/alt/promoters/Liver.uniqueGenes.noBg\n",
      "nohup findMotifsGenome.pl unique_genes/Liver.uniqueGenes.bed /data/isshamie/genome/ncbi_anno_103/GCF_003668045.1_CriGri-PICR_genomic.fna v02_de_novo_motifs/alt/promoters/Liver.uniqueGenes.noBg -size -300,100 -len 6,8,10 -p 16  -mset vertebrate > v02_de_novo_motifs/alt/promoters/Liver.uniqueGenes.noBg.log\n",
      "unique_genes/FemaleReproductive.uniqueGenes.bed\n",
      "v02_de_novo_motifs/alt/promoters/FemaleReproductive.uniqueGenes.noBg\n",
      "nohup findMotifsGenome.pl unique_genes/FemaleReproductive.uniqueGenes.bed /data/isshamie/genome/ncbi_anno_103/GCF_003668045.1_CriGri-PICR_genomic.fna v02_de_novo_motifs/alt/promoters/FemaleReproductive.uniqueGenes.noBg -size -300,100 -len 6,8,10 -p 16  -mset vertebrate > v02_de_novo_motifs/alt/promoters/FemaleReproductive.uniqueGenes.noBg.log\n",
      "unique_genes/MiscOrgans.uniqueGenes.bed\n",
      "v02_de_novo_motifs/alt/promoters/MiscOrgans.uniqueGenes.noBg\n",
      "nohup findMotifsGenome.pl unique_genes/MiscOrgans.uniqueGenes.bed /data/isshamie/genome/ncbi_anno_103/GCF_003668045.1_CriGri-PICR_genomic.fna v02_de_novo_motifs/alt/promoters/MiscOrgans.uniqueGenes.noBg -size -300,100 -len 6,8,10 -p 16  -mset vertebrate > v02_de_novo_motifs/alt/promoters/MiscOrgans.uniqueGenes.noBg.log\n",
      "unique_genes/Kidney.uniqueGenes.bed\n",
      "v02_de_novo_motifs/alt/promoters/Kidney.uniqueGenes.noBg\n",
      "nohup findMotifsGenome.pl unique_genes/Kidney.uniqueGenes.bed /data/isshamie/genome/ncbi_anno_103/GCF_003668045.1_CriGri-PICR_genomic.fna v02_de_novo_motifs/alt/promoters/Kidney.uniqueGenes.noBg -size -300,100 -len 6,8,10 -p 16  -mset vertebrate > v02_de_novo_motifs/alt/promoters/Kidney.uniqueGenes.noBg.log\n",
      "unique_genes/CHO.uniqueGenes.bed\n",
      "v02_de_novo_motifs/alt/promoters/CHO.uniqueGenes.noBg\n",
      "nohup findMotifsGenome.pl unique_genes/CHO.uniqueGenes.bed /data/isshamie/genome/ncbi_anno_103/GCF_003668045.1_CriGri-PICR_genomic.fna v02_de_novo_motifs/alt/promoters/CHO.uniqueGenes.noBg -size -300,100 -len 6,8,10 -p 16  -mset vertebrate > v02_de_novo_motifs/alt/promoters/CHO.uniqueGenes.noBg.log\n",
      "unique_genes/Heart.uniqueGenes.bed\n",
      "v02_de_novo_motifs/alt/promoters/Heart.uniqueGenes.noBg\n",
      "nohup findMotifsGenome.pl unique_genes/Heart.uniqueGenes.bed /data/isshamie/genome/ncbi_anno_103/GCF_003668045.1_CriGri-PICR_genomic.fna v02_de_novo_motifs/alt/promoters/Heart.uniqueGenes.noBg -size -300,100 -len 6,8,10 -p 16  -mset vertebrate > v02_de_novo_motifs/alt/promoters/Heart.uniqueGenes.noBg.log\n",
      "unique_genes/Pancreas.uniqueGenes.bed\n",
      "v02_de_novo_motifs/alt/promoters/Pancreas.uniqueGenes.noBg\n",
      "nohup findMotifsGenome.pl unique_genes/Pancreas.uniqueGenes.bed /data/isshamie/genome/ncbi_anno_103/GCF_003668045.1_CriGri-PICR_genomic.fna v02_de_novo_motifs/alt/promoters/Pancreas.uniqueGenes.noBg -size -300,100 -len 6,8,10 -p 16  -mset vertebrate > v02_de_novo_motifs/alt/promoters/Pancreas.uniqueGenes.noBg.log\n",
      "unique_genes/Muscle.uniqueGenes.bed\n",
      "v02_de_novo_motifs/alt/promoters/Muscle.uniqueGenes.noBg\n",
      "nohup findMotifsGenome.pl unique_genes/Muscle.uniqueGenes.bed /data/isshamie/genome/ncbi_anno_103/GCF_003668045.1_CriGri-PICR_genomic.fna v02_de_novo_motifs/alt/promoters/Muscle.uniqueGenes.noBg -size -300,100 -len 6,8,10 -p 16  -mset vertebrate > v02_de_novo_motifs/alt/promoters/Muscle.uniqueGenes.noBg.log\n",
      "unique_genes/BMDM.uniqueGenes.bed\n",
      "v02_de_novo_motifs/alt/promoters/BMDM.uniqueGenes.noBg\n",
      "nohup findMotifsGenome.pl unique_genes/BMDM.uniqueGenes.bed /data/isshamie/genome/ncbi_anno_103/GCF_003668045.1_CriGri-PICR_genomic.fna v02_de_novo_motifs/alt/promoters/BMDM.uniqueGenes.noBg -size -300,100 -len 6,8,10 -p 16  -mset vertebrate > v02_de_novo_motifs/alt/promoters/BMDM.uniqueGenes.noBg.log\n",
      "unique_genes/Brain.uniqueGenes.bed\n",
      "v02_de_novo_motifs/alt/promoters/Brain.uniqueGenes.noBg\n",
      "nohup findMotifsGenome.pl unique_genes/Brain.uniqueGenes.bed /data/isshamie/genome/ncbi_anno_103/GCF_003668045.1_CriGri-PICR_genomic.fna v02_de_novo_motifs/alt/promoters/Brain.uniqueGenes.noBg -size -300,100 -len 6,8,10 -p 16  -mset vertebrate > v02_de_novo_motifs/alt/promoters/Brain.uniqueGenes.noBg.log\n",
      "unique_genes/Lung.uniqueGenes.bed\n",
      "v02_de_novo_motifs/alt/promoters/Lung.uniqueGenes.noBg\n",
      "nohup findMotifsGenome.pl unique_genes/Lung.uniqueGenes.bed /data/isshamie/genome/ncbi_anno_103/GCF_003668045.1_CriGri-PICR_genomic.fna v02_de_novo_motifs/alt/promoters/Lung.uniqueGenes.noBg -size -300,100 -len 6,8,10 -p 16  -mset vertebrate > v02_de_novo_motifs/alt/promoters/Lung.uniqueGenes.noBg.log\n"
     ]
    }
   ],
   "source": [
    "for tis_bed in glob.glob(join(unique_gene_peaks_dir,\"*uniqueGenes.bed\")):\n",
    "    print(tis_bed)\n",
    "    tis = basename(tis_bed).split('.uniqueGenes.bed')[0]\n",
    "    tis_out = join(outdir, tis + '.uniqueGenes.noBg')\n",
    "    print(tis_out)\n",
    "    \n",
    "    wrap_findMotifs.run_findMotifs(tis_bed, tis_out, ref_fa, args=None,  bg=None, mset=True, size=(-300,100), num_cores=16)"
   ]
  }
 ],
 "metadata": {
  "kernelspec": {
   "display_name": "Python 3",
   "language": "python",
   "name": "python3"
  },
  "language_info": {
   "codemirror_mode": {
    "name": "ipython",
    "version": 3
   },
   "file_extension": ".py",
   "mimetype": "text/x-python",
   "name": "python",
   "nbconvert_exporter": "python",
   "pygments_lexer": "ipython3",
   "version": "3.7.3"
  }
 },
 "nbformat": 4,
 "nbformat_minor": 2
}
