{
 "cells": [
  {
   "cell_type": "code",
   "execution_count": 1,
   "metadata": {
    "ExecuteTime": {
     "end_time": "2020-04-17T04:53:34.113515Z",
     "start_time": "2020-04-17T04:53:33.677319Z"
    }
   },
   "outputs": [],
   "source": [
    "import yaml\n",
    "import sys\n",
    "import glob\n",
    "import os\n",
    "from os.path import join, basename\n",
    "import pandas as pd\n",
    "import re"
   ]
  },
  {
   "cell_type": "code",
   "execution_count": 2,
   "metadata": {
    "ExecuteTime": {
     "end_time": "2020-04-17T04:53:34.118560Z",
     "start_time": "2020-04-17T04:53:34.116012Z"
    },
    "scrolled": true
   },
   "outputs": [],
   "source": [
    "raw_dir = \"/media/lewislab/Dropbox (UCSD SBRG)/LewisPub/Data/RNAseq/2017_12_15_hamster_Seq\"\n",
    "outdir = \"../parameters/\""
   ]
  },
  {
   "cell_type": "markdown",
   "metadata": {},
   "source": [
    "### Add in RNA-seq\n",
    "Change the name of the Brain samples to numbered "
   ]
  },
  {
   "cell_type": "code",
   "execution_count": 4,
   "metadata": {
    "ExecuteTime": {
     "end_time": "2020-04-17T04:53:43.963828Z",
     "start_time": "2020-04-17T04:53:43.895013Z"
    },
    "scrolled": true
   },
   "outputs": [
    {
     "name": "stdout",
     "output_type": "stream",
     "text": [
      "(78, 4)\n"
     ]
    },
    {
     "name": "stderr",
     "output_type": "stream",
     "text": [
      "/home/isshamie/software/anaconda2/envs/TSS/lib/python3.7/site-packages/ipykernel_launcher.py:16: FutureWarning: Sorting because non-concatenation axis is not aligned. A future version\n",
      "of pandas will change to not sort by default.\n",
      "\n",
      "To accept the future behavior, pass 'sort=False'.\n",
      "\n",
      "To retain the current behavior and silence the warning, pass 'sort=True'.\n",
      "\n",
      "  app.launch_new_instance()\n"
     ]
    },
    {
     "data": {
      "text/html": [
       "<div>\n",
       "<style scoped>\n",
       "    .dataframe tbody tr th:only-of-type {\n",
       "        vertical-align: middle;\n",
       "    }\n",
       "\n",
       "    .dataframe tbody tr th {\n",
       "        vertical-align: top;\n",
       "    }\n",
       "\n",
       "    .dataframe thead th {\n",
       "        text-align: right;\n",
       "    }\n",
       "</style>\n",
       "<table border=\"1\" class=\"dataframe\">\n",
       "  <thead>\n",
       "    <tr style=\"text-align: right;\">\n",
       "      <th></th>\n",
       "      <th>Experiment</th>\n",
       "      <th>Full</th>\n",
       "      <th>Name</th>\n",
       "      <th>Tissue</th>\n",
       "    </tr>\n",
       "  </thead>\n",
       "  <tbody>\n",
       "    <tr>\n",
       "      <td>CHBMDM1hKLA2_ATAC_JHS1000_SD_AGGTTGGG_S11_L001_R1_001.fastq.gz</td>\n",
       "      <td>ATAC</td>\n",
       "      <td>CHBMDM1hKLA2_ATAC_JHS1000_SD_AGGTTGGG_S11_L001...</td>\n",
       "      <td>BMDM1hKLA_ATAC1</td>\n",
       "      <td>BMDM1hKLA</td>\n",
       "    </tr>\n",
       "    <tr>\n",
       "      <td>CHBMDM1hKLA1_ATAC_JHS998_SD_TGGGTTTC_S9_L001_R1_001.fastq.gz</td>\n",
       "      <td>ATAC</td>\n",
       "      <td>CHBMDM1hKLA1_ATAC_JHS998_SD_TGGGTTTC_S9_L001_R...</td>\n",
       "      <td>BMDM1hKLA_ATAC2</td>\n",
       "      <td>BMDM1hKLA</td>\n",
       "    </tr>\n",
       "    <tr>\n",
       "      <td>CHBMDM1hKLA_GRO_JHS1027_SD_CAAAAG_S42_L003_R1_001.fastq.gz</td>\n",
       "      <td>GRO</td>\n",
       "      <td>CHBMDM1hKLA_GRO_JHS1027_SD_CAAAAG_S42_L003_R1_...</td>\n",
       "      <td>BMDM1hKLA_GRO1</td>\n",
       "      <td>BMDM1hKLA</td>\n",
       "    </tr>\n",
       "    <tr>\n",
       "      <td>CHBMDM1hKLA_GRO_JHS1034_SD_AGTCAA_S49_L003_R1_001.fastq.gz</td>\n",
       "      <td>GROCap</td>\n",
       "      <td>CHBMDM1hKLA_GRO_JHS1034_SD_AGTCAA_S49_L003_R1_...</td>\n",
       "      <td>BMDM1hKLA_GROCap1</td>\n",
       "      <td>BMDM1hKLA</td>\n",
       "    </tr>\n",
       "    <tr>\n",
       "      <td>CHBMDMVehic2_ATAC_JHS999_SD_TGGTCACA_S10_L001_R1_001.fastq.gz</td>\n",
       "      <td>ATAC</td>\n",
       "      <td>CHBMDMVehic2_ATAC_JHS999_SD_TGGTCACA_S10_L001_...</td>\n",
       "      <td>BMDMwt_ATAC1</td>\n",
       "      <td>BMDMwt</td>\n",
       "    </tr>\n",
       "    <tr>\n",
       "      <td>...</td>\n",
       "      <td>...</td>\n",
       "      <td>...</td>\n",
       "      <td>...</td>\n",
       "      <td>...</td>\n",
       "    </tr>\n",
       "    <tr>\n",
       "      <td>NL5_Liver_S5_L006_R1_001.fastq.gz</td>\n",
       "      <td>RNASeq</td>\n",
       "      <td>NL5_Liver_S5_L006_R1_001.fastq.gz</td>\n",
       "      <td>Liver_RNASeq1</td>\n",
       "      <td>Liver</td>\n",
       "    </tr>\n",
       "    <tr>\n",
       "      <td>NL6_Heart_S6_L006_R1_001.fastq.gz</td>\n",
       "      <td>RNASeq</td>\n",
       "      <td>NL6_Heart_S6_L006_R1_001.fastq.gz</td>\n",
       "      <td>Heart_RNASeq1</td>\n",
       "      <td>Heart</td>\n",
       "    </tr>\n",
       "    <tr>\n",
       "      <td>NL7_Brain2_S7_L006_R1_001.fastq.gz</td>\n",
       "      <td>RNASeq</td>\n",
       "      <td>NL7_Brain2_S7_L006_R1_001.fastq.gz</td>\n",
       "      <td>Brain_RNASeq2</td>\n",
       "      <td>Brain</td>\n",
       "    </tr>\n",
       "    <tr>\n",
       "      <td>NL8_Muscle_S8_L006_R1_001.fastq.gz</td>\n",
       "      <td>RNASeq</td>\n",
       "      <td>NL8_Muscle_S8_L006_R1_001.fastq.gz</td>\n",
       "      <td>Muscle_RNASeq1</td>\n",
       "      <td>Muscle</td>\n",
       "    </tr>\n",
       "    <tr>\n",
       "      <td>NL9_Kidney_S9_L006_R1_001.fastq.gz</td>\n",
       "      <td>RNASeq</td>\n",
       "      <td>NL9_Kidney_S9_L006_R1_001.fastq.gz</td>\n",
       "      <td>Kidney_RNASeq1</td>\n",
       "      <td>Kidney</td>\n",
       "    </tr>\n",
       "  </tbody>\n",
       "</table>\n",
       "<p>78 rows × 4 columns</p>\n",
       "</div>"
      ],
      "text/plain": [
       "                                                   Experiment  \\\n",
       "CHBMDM1hKLA2_ATAC_JHS1000_SD_AGGTTGGG_S11_L001_...       ATAC   \n",
       "CHBMDM1hKLA1_ATAC_JHS998_SD_TGGGTTTC_S9_L001_R1...       ATAC   \n",
       "CHBMDM1hKLA_GRO_JHS1027_SD_CAAAAG_S42_L003_R1_0...        GRO   \n",
       "CHBMDM1hKLA_GRO_JHS1034_SD_AGTCAA_S49_L003_R1_0...     GROCap   \n",
       "CHBMDMVehic2_ATAC_JHS999_SD_TGGTCACA_S10_L001_R...       ATAC   \n",
       "...                                                       ...   \n",
       "NL5_Liver_S5_L006_R1_001.fastq.gz                      RNASeq   \n",
       "NL6_Heart_S6_L006_R1_001.fastq.gz                      RNASeq   \n",
       "NL7_Brain2_S7_L006_R1_001.fastq.gz                     RNASeq   \n",
       "NL8_Muscle_S8_L006_R1_001.fastq.gz                     RNASeq   \n",
       "NL9_Kidney_S9_L006_R1_001.fastq.gz                     RNASeq   \n",
       "\n",
       "                                                                                                 Full  \\\n",
       "CHBMDM1hKLA2_ATAC_JHS1000_SD_AGGTTGGG_S11_L001_...  CHBMDM1hKLA2_ATAC_JHS1000_SD_AGGTTGGG_S11_L001...   \n",
       "CHBMDM1hKLA1_ATAC_JHS998_SD_TGGGTTTC_S9_L001_R1...  CHBMDM1hKLA1_ATAC_JHS998_SD_TGGGTTTC_S9_L001_R...   \n",
       "CHBMDM1hKLA_GRO_JHS1027_SD_CAAAAG_S42_L003_R1_0...  CHBMDM1hKLA_GRO_JHS1027_SD_CAAAAG_S42_L003_R1_...   \n",
       "CHBMDM1hKLA_GRO_JHS1034_SD_AGTCAA_S49_L003_R1_0...  CHBMDM1hKLA_GRO_JHS1034_SD_AGTCAA_S49_L003_R1_...   \n",
       "CHBMDMVehic2_ATAC_JHS999_SD_TGGTCACA_S10_L001_R...  CHBMDMVehic2_ATAC_JHS999_SD_TGGTCACA_S10_L001_...   \n",
       "...                                                                                               ...   \n",
       "NL5_Liver_S5_L006_R1_001.fastq.gz                                   NL5_Liver_S5_L006_R1_001.fastq.gz   \n",
       "NL6_Heart_S6_L006_R1_001.fastq.gz                                   NL6_Heart_S6_L006_R1_001.fastq.gz   \n",
       "NL7_Brain2_S7_L006_R1_001.fastq.gz                                 NL7_Brain2_S7_L006_R1_001.fastq.gz   \n",
       "NL8_Muscle_S8_L006_R1_001.fastq.gz                                 NL8_Muscle_S8_L006_R1_001.fastq.gz   \n",
       "NL9_Kidney_S9_L006_R1_001.fastq.gz                                 NL9_Kidney_S9_L006_R1_001.fastq.gz   \n",
       "\n",
       "                                                                 Name  \\\n",
       "CHBMDM1hKLA2_ATAC_JHS1000_SD_AGGTTGGG_S11_L001_...    BMDM1hKLA_ATAC1   \n",
       "CHBMDM1hKLA1_ATAC_JHS998_SD_TGGGTTTC_S9_L001_R1...    BMDM1hKLA_ATAC2   \n",
       "CHBMDM1hKLA_GRO_JHS1027_SD_CAAAAG_S42_L003_R1_0...     BMDM1hKLA_GRO1   \n",
       "CHBMDM1hKLA_GRO_JHS1034_SD_AGTCAA_S49_L003_R1_0...  BMDM1hKLA_GROCap1   \n",
       "CHBMDMVehic2_ATAC_JHS999_SD_TGGTCACA_S10_L001_R...       BMDMwt_ATAC1   \n",
       "...                                                               ...   \n",
       "NL5_Liver_S5_L006_R1_001.fastq.gz                       Liver_RNASeq1   \n",
       "NL6_Heart_S6_L006_R1_001.fastq.gz                       Heart_RNASeq1   \n",
       "NL7_Brain2_S7_L006_R1_001.fastq.gz                      Brain_RNASeq2   \n",
       "NL8_Muscle_S8_L006_R1_001.fastq.gz                     Muscle_RNASeq1   \n",
       "NL9_Kidney_S9_L006_R1_001.fastq.gz                     Kidney_RNASeq1   \n",
       "\n",
       "                                                       Tissue  \n",
       "CHBMDM1hKLA2_ATAC_JHS1000_SD_AGGTTGGG_S11_L001_...  BMDM1hKLA  \n",
       "CHBMDM1hKLA1_ATAC_JHS998_SD_TGGGTTTC_S9_L001_R1...  BMDM1hKLA  \n",
       "CHBMDM1hKLA_GRO_JHS1027_SD_CAAAAG_S42_L003_R1_0...  BMDM1hKLA  \n",
       "CHBMDM1hKLA_GRO_JHS1034_SD_AGTCAA_S49_L003_R1_0...  BMDM1hKLA  \n",
       "CHBMDMVehic2_ATAC_JHS999_SD_TGGTCACA_S10_L001_R...     BMDMwt  \n",
       "...                                                       ...  \n",
       "NL5_Liver_S5_L006_R1_001.fastq.gz                       Liver  \n",
       "NL6_Heart_S6_L006_R1_001.fastq.gz                       Heart  \n",
       "NL7_Brain2_S7_L006_R1_001.fastq.gz                      Brain  \n",
       "NL8_Muscle_S8_L006_R1_001.fastq.gz                     Muscle  \n",
       "NL9_Kidney_S9_L006_R1_001.fastq.gz                     Kidney  \n",
       "\n",
       "[78 rows x 4 columns]"
      ]
     },
     "execution_count": 4,
     "metadata": {},
     "output_type": "execute_result"
    }
   ],
   "source": [
    "meta = pd.read_csv('../../params/raw_metaSamples.tsv', sep=\"\\t\", index_col=0)\n",
    "\n",
    "exp = \"RNASeq\"\n",
    "for curr_f in fastq_files:\n",
    "    if \"_R2_\" in curr_f:\n",
    "        continue\n",
    "    sid = \"_\".join(basename(curr_f).split(\"_\")[1:3])\n",
    "    tissue = re.sub(r'[^a-zA-Z_]', '', basename(curr_f).split(\"_\")[1])\n",
    "    name = sid.split(\"_\")[0]\n",
    "    name = ''.join([i for i in name if not (i.isdigit() or i==\"-\")]) \n",
    "    name = name + \"_\" + exp\n",
    "    count = len(meta[(meta[\"Experiment\"]==exp) & (meta[\"Tissue\"]==tissue)]) + 1\n",
    "    name = name + str(count)\n",
    "    curr = pd.DataFrame(pd.Series({\"Experiment\":\"RNASeq\", \"Tissue\":tissue, \"Full\":basename(curr_f), \"Name\":name}, name=basename(curr_f))).transpose()\n",
    "    \n",
    "    meta = pd.concat((meta,curr))\n",
    "    \n",
    "print(meta.shape)\n",
    "meta"
   ]
  },
  {
   "cell_type": "markdown",
   "metadata": {},
   "source": [
    "## Convert Misc to MiscOrgans and ReproductiveTract to FemaleReproductive"
   ]
  },
  {
   "cell_type": "code",
   "execution_count": 6,
   "metadata": {
    "ExecuteTime": {
     "end_time": "2020-04-17T04:53:43.981015Z",
     "start_time": "2020-04-17T04:53:43.971612Z"
    }
   },
   "outputs": [
    {
     "data": {
      "text/plain": [
       "array(['BMDM1hKLA', 'BMDMwt', 'Brain', 'CHO', 'FemaleReproductive',\n",
       "       'Heart', 'Intestine', 'Kidney', 'Liver', 'Lung', 'MiscOrgans',\n",
       "       'Muscle', 'Pancreas', 'Skin', 'Spleen', 'Total'], dtype=object)"
      ]
     },
     "execution_count": 6,
     "metadata": {},
     "output_type": "execute_result"
    }
   ],
   "source": [
    "tissue_map = {x:x for x in meta[\"Tissue\"].unique()}\n",
    "tissue_map[\"Misc\"]  = \"MiscOrgans\"\n",
    "tissue_map[\"ReproductiveTract\"] = \"FemaleReproductive\"\n",
    "meta[\"Tissue\"] = meta[\"Tissue\"].apply(lambda x: tissue_map[x])\n",
    "meta[\"Tissue\"].unique()"
   ]
  },
  {
   "cell_type": "code",
   "execution_count": 7,
   "metadata": {
    "ExecuteTime": {
     "end_time": "2020-04-17T04:53:43.998099Z",
     "start_time": "2020-04-17T04:53:43.983539Z"
    },
    "scrolled": true
   },
   "outputs": [
    {
     "data": {
      "text/html": [
       "<div>\n",
       "<style scoped>\n",
       "    .dataframe tbody tr th:only-of-type {\n",
       "        vertical-align: middle;\n",
       "    }\n",
       "\n",
       "    .dataframe tbody tr th {\n",
       "        vertical-align: top;\n",
       "    }\n",
       "\n",
       "    .dataframe thead th {\n",
       "        text-align: right;\n",
       "    }\n",
       "</style>\n",
       "<table border=\"1\" class=\"dataframe\">\n",
       "  <thead>\n",
       "    <tr style=\"text-align: right;\">\n",
       "      <th></th>\n",
       "      <th>Experiment</th>\n",
       "      <th>Full</th>\n",
       "      <th>Name</th>\n",
       "      <th>Tissue</th>\n",
       "    </tr>\n",
       "  </thead>\n",
       "  <tbody>\n",
       "    <tr>\n",
       "      <td>NL10_Misc_S10_L006_R1_001.fastq.gz</td>\n",
       "      <td>RNASeq</td>\n",
       "      <td>NL10_Misc_S10_L006_R1_001.fastq.gz</td>\n",
       "      <td>Misc_RNASeq1</td>\n",
       "      <td>MiscOrgans</td>\n",
       "    </tr>\n",
       "    <tr>\n",
       "      <td>NL11_Brain7-1_S11_L006_R1_001.fastq.gz</td>\n",
       "      <td>RNASeq</td>\n",
       "      <td>NL11_Brain7-1_S11_L006_R1_001.fastq.gz</td>\n",
       "      <td>Brain_RNASeq1</td>\n",
       "      <td>Brain</td>\n",
       "    </tr>\n",
       "    <tr>\n",
       "      <td>NL1_Pancreas_S1_L006_R1_001.fastq.gz</td>\n",
       "      <td>RNASeq</td>\n",
       "      <td>NL1_Pancreas_S1_L006_R1_001.fastq.gz</td>\n",
       "      <td>Pancreas_RNASeq1</td>\n",
       "      <td>Pancreas</td>\n",
       "    </tr>\n",
       "    <tr>\n",
       "      <td>NL2_ReproductiveTract_S2_L006_R1_001.fastq.gz</td>\n",
       "      <td>RNASeq</td>\n",
       "      <td>NL2_ReproductiveTract_S2_L006_R1_001.fastq.gz</td>\n",
       "      <td>ReproductiveTract_RNASeq1</td>\n",
       "      <td>FemaleReproductive</td>\n",
       "    </tr>\n",
       "    <tr>\n",
       "      <td>NL3_Spleen_S3_L006_R1_001.fastq.gz</td>\n",
       "      <td>RNASeq</td>\n",
       "      <td>NL3_Spleen_S3_L006_R1_001.fastq.gz</td>\n",
       "      <td>Spleen_RNASeq1</td>\n",
       "      <td>Spleen</td>\n",
       "    </tr>\n",
       "    <tr>\n",
       "      <td>NL4_Lung_S4_L006_R1_001.fastq.gz</td>\n",
       "      <td>RNASeq</td>\n",
       "      <td>NL4_Lung_S4_L006_R1_001.fastq.gz</td>\n",
       "      <td>Lung_RNASeq1</td>\n",
       "      <td>Lung</td>\n",
       "    </tr>\n",
       "    <tr>\n",
       "      <td>NL5_Liver_S5_L006_R1_001.fastq.gz</td>\n",
       "      <td>RNASeq</td>\n",
       "      <td>NL5_Liver_S5_L006_R1_001.fastq.gz</td>\n",
       "      <td>Liver_RNASeq1</td>\n",
       "      <td>Liver</td>\n",
       "    </tr>\n",
       "    <tr>\n",
       "      <td>NL6_Heart_S6_L006_R1_001.fastq.gz</td>\n",
       "      <td>RNASeq</td>\n",
       "      <td>NL6_Heart_S6_L006_R1_001.fastq.gz</td>\n",
       "      <td>Heart_RNASeq1</td>\n",
       "      <td>Heart</td>\n",
       "    </tr>\n",
       "    <tr>\n",
       "      <td>NL7_Brain2_S7_L006_R1_001.fastq.gz</td>\n",
       "      <td>RNASeq</td>\n",
       "      <td>NL7_Brain2_S7_L006_R1_001.fastq.gz</td>\n",
       "      <td>Brain_RNASeq2</td>\n",
       "      <td>Brain</td>\n",
       "    </tr>\n",
       "    <tr>\n",
       "      <td>NL8_Muscle_S8_L006_R1_001.fastq.gz</td>\n",
       "      <td>RNASeq</td>\n",
       "      <td>NL8_Muscle_S8_L006_R1_001.fastq.gz</td>\n",
       "      <td>Muscle_RNASeq1</td>\n",
       "      <td>Muscle</td>\n",
       "    </tr>\n",
       "    <tr>\n",
       "      <td>NL9_Kidney_S9_L006_R1_001.fastq.gz</td>\n",
       "      <td>RNASeq</td>\n",
       "      <td>NL9_Kidney_S9_L006_R1_001.fastq.gz</td>\n",
       "      <td>Kidney_RNASeq1</td>\n",
       "      <td>Kidney</td>\n",
       "    </tr>\n",
       "  </tbody>\n",
       "</table>\n",
       "</div>"
      ],
      "text/plain": [
       "                                              Experiment  \\\n",
       "NL10_Misc_S10_L006_R1_001.fastq.gz                RNASeq   \n",
       "NL11_Brain7-1_S11_L006_R1_001.fastq.gz            RNASeq   \n",
       "NL1_Pancreas_S1_L006_R1_001.fastq.gz              RNASeq   \n",
       "NL2_ReproductiveTract_S2_L006_R1_001.fastq.gz     RNASeq   \n",
       "NL3_Spleen_S3_L006_R1_001.fastq.gz                RNASeq   \n",
       "NL4_Lung_S4_L006_R1_001.fastq.gz                  RNASeq   \n",
       "NL5_Liver_S5_L006_R1_001.fastq.gz                 RNASeq   \n",
       "NL6_Heart_S6_L006_R1_001.fastq.gz                 RNASeq   \n",
       "NL7_Brain2_S7_L006_R1_001.fastq.gz                RNASeq   \n",
       "NL8_Muscle_S8_L006_R1_001.fastq.gz                RNASeq   \n",
       "NL9_Kidney_S9_L006_R1_001.fastq.gz                RNASeq   \n",
       "\n",
       "                                                                                        Full  \\\n",
       "NL10_Misc_S10_L006_R1_001.fastq.gz                        NL10_Misc_S10_L006_R1_001.fastq.gz   \n",
       "NL11_Brain7-1_S11_L006_R1_001.fastq.gz                NL11_Brain7-1_S11_L006_R1_001.fastq.gz   \n",
       "NL1_Pancreas_S1_L006_R1_001.fastq.gz                    NL1_Pancreas_S1_L006_R1_001.fastq.gz   \n",
       "NL2_ReproductiveTract_S2_L006_R1_001.fastq.gz  NL2_ReproductiveTract_S2_L006_R1_001.fastq.gz   \n",
       "NL3_Spleen_S3_L006_R1_001.fastq.gz                        NL3_Spleen_S3_L006_R1_001.fastq.gz   \n",
       "NL4_Lung_S4_L006_R1_001.fastq.gz                            NL4_Lung_S4_L006_R1_001.fastq.gz   \n",
       "NL5_Liver_S5_L006_R1_001.fastq.gz                          NL5_Liver_S5_L006_R1_001.fastq.gz   \n",
       "NL6_Heart_S6_L006_R1_001.fastq.gz                          NL6_Heart_S6_L006_R1_001.fastq.gz   \n",
       "NL7_Brain2_S7_L006_R1_001.fastq.gz                        NL7_Brain2_S7_L006_R1_001.fastq.gz   \n",
       "NL8_Muscle_S8_L006_R1_001.fastq.gz                        NL8_Muscle_S8_L006_R1_001.fastq.gz   \n",
       "NL9_Kidney_S9_L006_R1_001.fastq.gz                        NL9_Kidney_S9_L006_R1_001.fastq.gz   \n",
       "\n",
       "                                                                    Name  \\\n",
       "NL10_Misc_S10_L006_R1_001.fastq.gz                          Misc_RNASeq1   \n",
       "NL11_Brain7-1_S11_L006_R1_001.fastq.gz                     Brain_RNASeq1   \n",
       "NL1_Pancreas_S1_L006_R1_001.fastq.gz                    Pancreas_RNASeq1   \n",
       "NL2_ReproductiveTract_S2_L006_R1_001.fastq.gz  ReproductiveTract_RNASeq1   \n",
       "NL3_Spleen_S3_L006_R1_001.fastq.gz                        Spleen_RNASeq1   \n",
       "NL4_Lung_S4_L006_R1_001.fastq.gz                            Lung_RNASeq1   \n",
       "NL5_Liver_S5_L006_R1_001.fastq.gz                          Liver_RNASeq1   \n",
       "NL6_Heart_S6_L006_R1_001.fastq.gz                          Heart_RNASeq1   \n",
       "NL7_Brain2_S7_L006_R1_001.fastq.gz                         Brain_RNASeq2   \n",
       "NL8_Muscle_S8_L006_R1_001.fastq.gz                        Muscle_RNASeq1   \n",
       "NL9_Kidney_S9_L006_R1_001.fastq.gz                        Kidney_RNASeq1   \n",
       "\n",
       "                                                           Tissue  \n",
       "NL10_Misc_S10_L006_R1_001.fastq.gz                     MiscOrgans  \n",
       "NL11_Brain7-1_S11_L006_R1_001.fastq.gz                      Brain  \n",
       "NL1_Pancreas_S1_L006_R1_001.fastq.gz                     Pancreas  \n",
       "NL2_ReproductiveTract_S2_L006_R1_001.fastq.gz  FemaleReproductive  \n",
       "NL3_Spleen_S3_L006_R1_001.fastq.gz                         Spleen  \n",
       "NL4_Lung_S4_L006_R1_001.fastq.gz                             Lung  \n",
       "NL5_Liver_S5_L006_R1_001.fastq.gz                           Liver  \n",
       "NL6_Heart_S6_L006_R1_001.fastq.gz                           Heart  \n",
       "NL7_Brain2_S7_L006_R1_001.fastq.gz                          Brain  \n",
       "NL8_Muscle_S8_L006_R1_001.fastq.gz                         Muscle  \n",
       "NL9_Kidney_S9_L006_R1_001.fastq.gz                         Kidney  "
      ]
     },
     "execution_count": 7,
     "metadata": {},
     "output_type": "execute_result"
    }
   ],
   "source": [
    "## Save \n",
    "meta.to_csv(join(outdir,\"samples.tsv\"), sep=\"\\t\")"
   ]
  },
  {
   "cell_type": "markdown",
   "metadata": {},
   "source": [
    "## Create RNA-seq sample csv"
   ]
  },
  {
   "cell_type": "code",
   "execution_count": 33,
   "metadata": {
    "ExecuteTime": {
     "end_time": "2020-04-17T06:37:34.060309Z",
     "start_time": "2020-04-17T06:37:34.030725Z"
    },
    "scrolled": true
   },
   "outputs": [
    {
     "name": "stdout",
     "output_type": "stream",
     "text": [
      "Muscle_S8\n",
      "Brain2_S7\n",
      "Lung_S4\n",
      "Heart_S6\n",
      "Misc_S10\n",
      "Brain7-1_S11\n",
      "Liver_S5\n",
      "ReproductiveTract_S2\n",
      "Kidney_S9\n",
      "Spleen_S3\n",
      "Pancreas_S1\n"
     ]
    }
   ],
   "source": [
    "rna_meta = meta.copy()[meta[\"Experiment\"]==\"RNASeq\"]\n",
    "\n",
    "for i in glob.glob(\"/data/isshamie/TSS/NCBI_PICR_103_Processed/RNAseq/htseq_rev/*count.txt\"):\n",
    "    print(basename(i.replace('.count.txt','')))\n",
    "    curr = basename(i.replace('.count.txt',''))\n",
    "    curr_ind = rna_meta.index.str.contains(curr)\n",
    "    if curr_ind.sum()>1:\n",
    "        print(\"2 indices\", curr)\n",
    "    else:\n",
    "         rna_meta.at[curr_ind, \"File\"] = curr\n",
    "rna_meta = rna_meta.set_index(\"File\")\n",
    "\n",
    "rna_meta.to_csv(\"../parameters/rna_samples.csv\")\n",
    "\n"
   ]
  }
 ],
 "metadata": {
  "kernelspec": {
   "display_name": "Python 3",
   "language": "python",
   "name": "python3"
  },
  "language_info": {
   "codemirror_mode": {
    "name": "ipython",
    "version": 3
   },
   "file_extension": ".py",
   "mimetype": "text/x-python",
   "name": "python",
   "nbconvert_exporter": "python",
   "pygments_lexer": "ipython3",
   "version": "3.7.3"
  }
 },
 "nbformat": 4,
 "nbformat_minor": 2
}
