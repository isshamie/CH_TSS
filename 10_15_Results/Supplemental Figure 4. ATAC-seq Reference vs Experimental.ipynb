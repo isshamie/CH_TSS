{
 "cells": [
  {
   "cell_type": "code",
   "execution_count": 1,
   "metadata": {
    "ExecuteTime": {
     "end_time": "2018-12-28T21:40:48.408214Z",
     "start_time": "2018-12-28T21:40:48.403491Z"
    },
    "collapsed": true
   },
   "outputs": [],
   "source": [
    "tissues_with_atac = ['CHO','Brain','Liver','Lung','Kidney','Spleen','BMDMwt','BMDM1hKLA']"
   ]
  },
  {
   "cell_type": "code",
   "execution_count": 2,
   "metadata": {
    "ExecuteTime": {
     "end_time": "2018-12-28T21:40:48.611194Z",
     "start_time": "2018-12-28T21:40:48.413108Z"
    },
    "collapsed": true
   },
   "outputs": [],
   "source": [
    "## Parameters specific to where your folders are and your data\n",
    "parameter_file = 'params/params.yaml'\n",
    "import yaml\n",
    "import sys\n",
    "\n",
    "with open(parameter_file,'r') as f:\n",
    "    doc = yaml.load(f)\n",
    "\n",
    "#p = dic2obj(**doc)\n",
    "\n",
    "data_folder = doc['data_folder']\n",
    "tissues = doc['tissues'].split(',')\n",
    "sys.path.append(doc['pipeline_path'])\n",
    "ref_fa = doc['ref_fa']\n",
    "annotation=doc['annotation']\n"
   ]
  },
  {
   "cell_type": "code",
   "execution_count": 3,
   "metadata": {
    "ExecuteTime": {
     "end_time": "2018-12-28T21:40:48.619175Z",
     "start_time": "2018-12-28T21:40:48.614965Z"
    },
    "collapsed": true
   },
   "outputs": [],
   "source": [
    "tss_annotation = doc['tss_annotation']"
   ]
  },
  {
   "cell_type": "code",
   "execution_count": 4,
   "metadata": {
    "ExecuteTime": {
     "end_time": "2018-12-28T21:40:52.466890Z",
     "start_time": "2018-12-28T21:40:48.622714Z"
    },
    "scrolled": false
   },
   "outputs": [
    {
     "name": "stdout",
     "output_type": "stream",
     "text": [
      "('Number of tissues: ', 15)\n"
     ]
    }
   ],
   "source": [
    "import os\n",
    "import sys\n",
    "import pandas as pd\n",
    "import matplotlib\n",
    "import seaborn as sns\n",
    "import pickle\n",
    "import numpy as np\n",
    "import matplotlib as mpl\n",
    "from matplotlib import pyplot as plt\n",
    "from itertools import product\n",
    "import glob\n",
    "import re\n",
    "from matplotlib_venn import venn2\n",
    "from matplotlib import rcParams\n",
    "import inspect\n",
    "%matplotlib inline\n",
    "%config InlineBackend.figure_format = 'retina'\n",
    "sys.setrecursionlimit(3000)\n",
    "%load_ext autoreload\n",
    "%autoreload 2\n",
    "rcParams['figure.figsize'] = 8, 6\n",
    "import tqdm\n",
    "### notebook specific configuration ###\n",
    "from os.path import basename\n",
    "#mpl.style.use('ggplot')\n",
    "mpl.style.use('fivethirtyeight')\n",
    "from cycler import cycler\n",
    "mpl.rcParams['axes.prop_cycle'] = cycler(color='bgrcmyk')\n",
    "\n",
    "from Homer import *\n",
    "\n",
    "print('Number of tissues: ',len(tissues))"
   ]
  },
  {
   "cell_type": "code",
   "execution_count": 6,
   "metadata": {
    "ExecuteTime": {
     "end_time": "2018-12-28T21:42:05.924572Z",
     "start_time": "2018-12-28T21:42:05.893980Z"
    }
   },
   "outputs": [],
   "source": [
    "from ATAC_helper import *"
   ]
  },
  {
   "cell_type": "markdown",
   "metadata": {},
   "source": [
    "## 1. Using final bed file vs the refseq genes CHO peaks and ATAC"
   ]
  },
  {
   "cell_type": "code",
   "execution_count": 10,
   "metadata": {
    "ExecuteTime": {
     "end_time": "2018-12-28T21:56:26.815873Z",
     "start_time": "2018-12-28T21:56:26.639613Z"
    }
   },
   "outputs": [
    {
     "name": "stdout",
     "output_type": "stream",
     "text": [
      "\u001b[0m\u001b[01;35mcdf_enhancers_tissues_geneID_df_02.png\u001b[0m  \u001b[01;35mDistance_to_TSS_neg_included.png\u001b[0m\r\n",
      "\u001b[01;35mcdf_enhancers_tissues.png\u001b[0m               \u001b[01;35mDistance_to_TSS.png\u001b[0m\r\n",
      "\u001b[01;34mcdf_tissues\u001b[0m/                            \u001b[01;34mFigure2\u001b[0m/\r\n",
      "\u001b[01;35mcdf_tissues_geneID_df_02.png\u001b[0m            \u001b[01;34mFigure3\u001b[0m/\r\n",
      "\u001b[01;35mDistance_to_TSS_500.png\u001b[0m                 \u001b[01;34mSuppFigure4\u001b[0m/\r\n"
     ]
    }
   ],
   "source": [
    "ls Results/Figures/"
   ]
  },
  {
   "cell_type": "code",
   "execution_count": 11,
   "metadata": {
    "ExecuteTime": {
     "end_time": "2018-12-28T21:56:57.778202Z",
     "start_time": "2018-12-28T21:56:57.724836Z"
    },
    "collapsed": true
   },
   "outputs": [],
   "source": [
    "cmd = \"computeMatrix reference-point -S /data/isshamie/TSS/1015_Processed/CHO/ATAC/out/signal/macs2/pooled_rep/CHO_ATAC1.trim.nodup.tn5_CHO_ATAC3.trim.nodup.tn5.pf.fc.signal.bigwig -R Results/output/TSS1.exp.bed -a 1000 -b 1000 -out Results/Figures/SuppFigure4/exp_all --numberOfProcessors 6\""
   ]
  },
  {
   "cell_type": "code",
   "execution_count": 13,
   "metadata": {
    "ExecuteTime": {
     "end_time": "2018-12-28T22:02:05.562387Z",
     "start_time": "2018-12-28T22:02:05.518194Z"
    },
    "collapsed": true
   },
   "outputs": [],
   "source": [
    "cmd = \"computeMatrix reference-point -S /data/isshamie/TSS/1015_Processed/CHO/ATAC/out/signal/macs2/pooled_rep/CHO_ATAC1.trim.nodup.tn5_CHO_ATAC3.trim.nodup.tn5.pf.fc.signal.bigwig -R Results/peak_groups/CHO/confident_promoters.bed -a 1000 -b 1000 -out Results/Figures/SuppFigure4/exp_all --numberOfProcessors 6\""
   ]
  },
  {
   "cell_type": "code",
   "execution_count": 14,
   "metadata": {
    "ExecuteTime": {
     "end_time": "2018-12-28T22:02:42.349167Z",
     "start_time": "2018-12-28T22:02:06.810999Z"
    }
   },
   "outputs": [],
   "source": [
    "!{cmd}"
   ]
  },
  {
   "cell_type": "code",
   "execution_count": 9,
   "metadata": {
    "ExecuteTime": {
     "end_time": "2018-12-28T21:53:02.404659Z",
     "start_time": "2018-12-28T21:52:53.023836Z"
    }
   },
   "outputs": [
    {
     "name": "stdout",
     "output_type": "stream",
     "text": [
      "computeMatrix reference-point -S /data/isshamie/TSS/1015_Processed/CHO/ATAC/out/signal/macs2/pooled_rep/CHO_ATAC1.trim.nodup.tn5_CHO_ATAC3.trim.nodup.tn5.pf.fc.signal.bigwig -R Results/output/TSS1.exp.bed -a 1000 -b 1000 -out Results/Figures/SuppFigure4/exp_all --numberOfProcessors 6 \n",
      "plotHeatmap     -m Results/Figures/SuppFigure4/exp_all     -out Results/Figures/SuppFigure4/exp_all.png      --heatmapHeight 15       --refPointLabel TSS.center      --regionsLabel TSS      --plotTitle 'ATAC signal' \n"
     ]
    },
    {
     "ename": "IOError",
     "evalue": "[Errno 2] No such file or directory: u'Results/Figures/SuppFigure4/exp_all.png'",
     "output_type": "error",
     "traceback": [
      "\u001b[0;31m---------------------------------------------------------------------------\u001b[0m",
      "\u001b[0;31mIOError\u001b[0m                                   Traceback (most recent call last)",
      "\u001b[0;32m<ipython-input-9-2fcf8de5f322>\u001b[0m in \u001b[0;36m<module>\u001b[0;34m()\u001b[0m\n\u001b[1;32m      4\u001b[0m \u001b[0;34m\u001b[0m\u001b[0m\n\u001b[1;32m      5\u001b[0m \u001b[0mbigwig\u001b[0m \u001b[0;34m=\u001b[0m \u001b[0mglob\u001b[0m\u001b[0;34m.\u001b[0m\u001b[0mglob\u001b[0m\u001b[0;34m(\u001b[0m\u001b[0mos\u001b[0m\u001b[0;34m.\u001b[0m\u001b[0mpath\u001b[0m\u001b[0;34m.\u001b[0m\u001b[0mjoin\u001b[0m\u001b[0;34m(\u001b[0m\u001b[0mdata_folder\u001b[0m\u001b[0;34m,\u001b[0m\u001b[0mt\u001b[0m\u001b[0;34m,\u001b[0m \u001b[0;34m'ATAC/out/signal/macs2/pooled_rep/*.fc.signal.bigwig'\u001b[0m\u001b[0;34m)\u001b[0m\u001b[0;34m)\u001b[0m\u001b[0;34m[\u001b[0m\u001b[0;36m0\u001b[0m\u001b[0;34m]\u001b[0m\u001b[0;34m\u001b[0m\u001b[0m\n\u001b[0;32m----> 6\u001b[0;31m \u001b[0mrun_heatmap\u001b[0m\u001b[0;34m(\u001b[0m\u001b[0mtss_bed\u001b[0m\u001b[0;34m,\u001b[0m \u001b[0mbigwig\u001b[0m\u001b[0;34m,\u001b[0m \u001b[0moutfile\u001b[0m\u001b[0;34m,\u001b[0m \u001b[0mdist\u001b[0m\u001b[0;34m=\u001b[0m\u001b[0;36m1000\u001b[0m\u001b[0;34m,\u001b[0m \u001b[0mnumProc\u001b[0m\u001b[0;34m=\u001b[0m\u001b[0;36m6\u001b[0m\u001b[0;34m,\u001b[0m \u001b[0mdispImage\u001b[0m\u001b[0;34m=\u001b[0m\u001b[0mTrue\u001b[0m\u001b[0;34m)\u001b[0m\u001b[0;34m\u001b[0m\u001b[0m\n\u001b[0m",
      "\u001b[0;32m/data/isshamie/TSS/Analysis/src/ATAC_helper.py\u001b[0m in \u001b[0;36mrun_heatmap\u001b[0;34m(tss_bed, bigwig, outfile, dist, numProc, dispImage, computeMat_args, plotHeat_args, is_tss_f)\u001b[0m\n\u001b[1;32m     28\u001b[0m \u001b[0;34m\u001b[0m\u001b[0m\n\u001b[1;32m     29\u001b[0m     \u001b[0;32mif\u001b[0m \u001b[0mdispImage\u001b[0m\u001b[0;34m:\u001b[0m\u001b[0;34m\u001b[0m\u001b[0m\n\u001b[0;32m---> 30\u001b[0;31m         \u001b[0;32mreturn\u001b[0m \u001b[0mImage\u001b[0m\u001b[0;34m(\u001b[0m\u001b[0mfilename\u001b[0m\u001b[0;34m=\u001b[0m\u001b[0moutfile\u001b[0m \u001b[0;34m+\u001b[0m \u001b[0;34m'.png'\u001b[0m\u001b[0;34m)\u001b[0m\u001b[0;34m\u001b[0m\u001b[0m\n\u001b[0m\u001b[1;32m     31\u001b[0m     \u001b[0;32mreturn\u001b[0m\u001b[0;34m\u001b[0m\u001b[0m\n",
      "\u001b[0;32m/home/isshamie/software/anaconda2/lib/python2.7/site-packages/IPython/core/display.pyc\u001b[0m in \u001b[0;36m__init__\u001b[0;34m(self, data, url, filename, format, embed, width, height, retina, unconfined, metadata)\u001b[0m\n\u001b[1;32m    756\u001b[0m         \u001b[0mself\u001b[0m\u001b[0;34m.\u001b[0m\u001b[0munconfined\u001b[0m \u001b[0;34m=\u001b[0m \u001b[0munconfined\u001b[0m\u001b[0;34m\u001b[0m\u001b[0m\n\u001b[1;32m    757\u001b[0m         \u001b[0mself\u001b[0m\u001b[0;34m.\u001b[0m\u001b[0mmetadata\u001b[0m \u001b[0;34m=\u001b[0m \u001b[0mmetadata\u001b[0m\u001b[0;34m\u001b[0m\u001b[0m\n\u001b[0;32m--> 758\u001b[0;31m         \u001b[0msuper\u001b[0m\u001b[0;34m(\u001b[0m\u001b[0mImage\u001b[0m\u001b[0;34m,\u001b[0m \u001b[0mself\u001b[0m\u001b[0;34m)\u001b[0m\u001b[0;34m.\u001b[0m\u001b[0m__init__\u001b[0m\u001b[0;34m(\u001b[0m\u001b[0mdata\u001b[0m\u001b[0;34m=\u001b[0m\u001b[0mdata\u001b[0m\u001b[0;34m,\u001b[0m \u001b[0murl\u001b[0m\u001b[0;34m=\u001b[0m\u001b[0murl\u001b[0m\u001b[0;34m,\u001b[0m \u001b[0mfilename\u001b[0m\u001b[0;34m=\u001b[0m\u001b[0mfilename\u001b[0m\u001b[0;34m)\u001b[0m\u001b[0;34m\u001b[0m\u001b[0m\n\u001b[0m\u001b[1;32m    759\u001b[0m \u001b[0;34m\u001b[0m\u001b[0m\n\u001b[1;32m    760\u001b[0m         \u001b[0;32mif\u001b[0m \u001b[0mretina\u001b[0m\u001b[0;34m:\u001b[0m\u001b[0;34m\u001b[0m\u001b[0m\n",
      "\u001b[0;32m/home/isshamie/software/anaconda2/lib/python2.7/site-packages/IPython/core/display.pyc\u001b[0m in \u001b[0;36m__init__\u001b[0;34m(self, data, url, filename)\u001b[0m\n\u001b[1;32m    392\u001b[0m         \u001b[0mself\u001b[0m\u001b[0;34m.\u001b[0m\u001b[0mfilename\u001b[0m \u001b[0;34m=\u001b[0m \u001b[0mNone\u001b[0m \u001b[0;32mif\u001b[0m \u001b[0mfilename\u001b[0m \u001b[0;32mis\u001b[0m \u001b[0mNone\u001b[0m \u001b[0;32melse\u001b[0m \u001b[0municode_type\u001b[0m\u001b[0;34m(\u001b[0m\u001b[0mfilename\u001b[0m\u001b[0;34m)\u001b[0m\u001b[0;34m\u001b[0m\u001b[0m\n\u001b[1;32m    393\u001b[0m \u001b[0;34m\u001b[0m\u001b[0m\n\u001b[0;32m--> 394\u001b[0;31m         \u001b[0mself\u001b[0m\u001b[0;34m.\u001b[0m\u001b[0mreload\u001b[0m\u001b[0;34m(\u001b[0m\u001b[0;34m)\u001b[0m\u001b[0;34m\u001b[0m\u001b[0m\n\u001b[0m\u001b[1;32m    395\u001b[0m         \u001b[0mself\u001b[0m\u001b[0;34m.\u001b[0m\u001b[0m_check_data\u001b[0m\u001b[0;34m(\u001b[0m\u001b[0;34m)\u001b[0m\u001b[0;34m\u001b[0m\u001b[0m\n\u001b[1;32m    396\u001b[0m \u001b[0;34m\u001b[0m\u001b[0m\n",
      "\u001b[0;32m/home/isshamie/software/anaconda2/lib/python2.7/site-packages/IPython/core/display.pyc\u001b[0m in \u001b[0;36mreload\u001b[0;34m(self)\u001b[0m\n\u001b[1;32m    778\u001b[0m         \u001b[0;34m\"\"\"Reload the raw data from file or URL.\"\"\"\u001b[0m\u001b[0;34m\u001b[0m\u001b[0m\n\u001b[1;32m    779\u001b[0m         \u001b[0;32mif\u001b[0m \u001b[0mself\u001b[0m\u001b[0;34m.\u001b[0m\u001b[0membed\u001b[0m\u001b[0;34m:\u001b[0m\u001b[0;34m\u001b[0m\u001b[0m\n\u001b[0;32m--> 780\u001b[0;31m             \u001b[0msuper\u001b[0m\u001b[0;34m(\u001b[0m\u001b[0mImage\u001b[0m\u001b[0;34m,\u001b[0m\u001b[0mself\u001b[0m\u001b[0;34m)\u001b[0m\u001b[0;34m.\u001b[0m\u001b[0mreload\u001b[0m\u001b[0;34m(\u001b[0m\u001b[0;34m)\u001b[0m\u001b[0;34m\u001b[0m\u001b[0m\n\u001b[0m\u001b[1;32m    781\u001b[0m             \u001b[0;32mif\u001b[0m \u001b[0mself\u001b[0m\u001b[0;34m.\u001b[0m\u001b[0mretina\u001b[0m\u001b[0;34m:\u001b[0m\u001b[0;34m\u001b[0m\u001b[0m\n\u001b[1;32m    782\u001b[0m                 \u001b[0mself\u001b[0m\u001b[0;34m.\u001b[0m\u001b[0m_retina_shape\u001b[0m\u001b[0;34m(\u001b[0m\u001b[0;34m)\u001b[0m\u001b[0;34m\u001b[0m\u001b[0m\n",
      "\u001b[0;32m/home/isshamie/software/anaconda2/lib/python2.7/site-packages/IPython/core/display.pyc\u001b[0m in \u001b[0;36mreload\u001b[0;34m(self)\u001b[0m\n\u001b[1;32m    410\u001b[0m         \u001b[0;34m\"\"\"Reload the raw data from file or URL.\"\"\"\u001b[0m\u001b[0;34m\u001b[0m\u001b[0m\n\u001b[1;32m    411\u001b[0m         \u001b[0;32mif\u001b[0m \u001b[0mself\u001b[0m\u001b[0;34m.\u001b[0m\u001b[0mfilename\u001b[0m \u001b[0;32mis\u001b[0m \u001b[0;32mnot\u001b[0m \u001b[0mNone\u001b[0m\u001b[0;34m:\u001b[0m\u001b[0;34m\u001b[0m\u001b[0m\n\u001b[0;32m--> 412\u001b[0;31m             \u001b[0;32mwith\u001b[0m \u001b[0mopen\u001b[0m\u001b[0;34m(\u001b[0m\u001b[0mself\u001b[0m\u001b[0;34m.\u001b[0m\u001b[0mfilename\u001b[0m\u001b[0;34m,\u001b[0m \u001b[0mself\u001b[0m\u001b[0;34m.\u001b[0m\u001b[0m_read_flags\u001b[0m\u001b[0;34m)\u001b[0m \u001b[0;32mas\u001b[0m \u001b[0mf\u001b[0m\u001b[0;34m:\u001b[0m\u001b[0;34m\u001b[0m\u001b[0m\n\u001b[0m\u001b[1;32m    413\u001b[0m                 \u001b[0mself\u001b[0m\u001b[0;34m.\u001b[0m\u001b[0mdata\u001b[0m \u001b[0;34m=\u001b[0m \u001b[0mf\u001b[0m\u001b[0;34m.\u001b[0m\u001b[0mread\u001b[0m\u001b[0;34m(\u001b[0m\u001b[0;34m)\u001b[0m\u001b[0;34m\u001b[0m\u001b[0m\n\u001b[1;32m    414\u001b[0m         \u001b[0;32melif\u001b[0m \u001b[0mself\u001b[0m\u001b[0;34m.\u001b[0m\u001b[0murl\u001b[0m \u001b[0;32mis\u001b[0m \u001b[0;32mnot\u001b[0m \u001b[0mNone\u001b[0m\u001b[0;34m:\u001b[0m\u001b[0;34m\u001b[0m\u001b[0m\n",
      "\u001b[0;31mIOError\u001b[0m: [Errno 2] No such file or directory: u'Results/Figures/SuppFigure4/exp_all.png'"
     ]
    }
   ],
   "source": [
    "outfile = \"Results/Figures/SuppFigure4/exp_all\"\n",
    "tss_bed = \"Results/output/TSS1.exp.bed\"\n",
    "t = \"CHO\"\n",
    "\n",
    "bigwig = glob.glob(os.path.join(data_folder,t, 'ATAC/out/signal/macs2/pooled_rep/*.fc.signal.bigwig'))[0]\n",
    "run_heatmap(tss_bed, bigwig, outfile, dist=1000, numProc=6, dispImage=True)"
   ]
  },
  {
   "cell_type": "code",
   "execution_count": null,
   "metadata": {
    "collapsed": true
   },
   "outputs": [],
   "source": [
    "#t = 'CHO'\n",
    "for t in tissues_with_atac:\n",
    "    print(t)\n",
    "    if os.path.exists(os.path.join(data_folder,t, 'ATAC/out/signal/macs2/pooled_rep/')):\n",
    "        bigwig = glob.glob(os.path.join(data_folder,t, 'ATAC/out/signal/macs2/pooled_rep/*.fc.signal.bigwig'))[0]\n",
    "    else:\n",
    "        bigwig = glob.glob(os.path.join(data_folder,t, 'ATAC/out/signal/macs2/rep1/*.fc.signal.bigwig'))[0]\n",
    "\n",
    "\n",
    "    curr_in = (os.path.join('Results/peak_groups/', t))\n",
    "    curr_out = (os.path.join('Results/ATAC_results/', t))\n",
    "    if not os.path.exists(curr_out):\n",
    "        os.mkdir(curr_out)\n",
    "\n",
    "    tss_bed = os.path.join(curr_in, 'confident_promoters.bed')\n",
    "    outfile = os.path.join(curr_out, 'confident_promoters')\n",
    "    a = run_heatmap(tss_bed, bigwig, outfile, dist=1000, numProc=6, dispImage=True)\n",
    "    display(a)\n",
    "\n",
    "    tss_bed = os.path.join(curr_in, 'no_peaks.bed')\n",
    "    outfile = os.path.join(curr_out, 'no_peaks')\n",
    "    b = run_heatmap(tss_bed, bigwig, outfile, dist=1000, numProc=6, dispImage=True)\n",
    "    display(b)\n",
    "\n",
    "    tss_bed = os.path.join(curr_in, 'confident_enhancers.bed')\n",
    "    outfile = os.path.join(curr_out, 'confident_enhancers')\n",
    "    c = run_heatmap(tss_bed, bigwig, outfile, dist=1000, numProc=6, dispImage=True)\n",
    "    display(c)\n",
    "\n",
    "\n",
    "    tss_bed = os.path.join(curr_in, 'confident_promoters.bed')\n",
    "    outfile = os.path.join(curr_out, 'confident_promoters_sorted_distance')\n",
    "    d = run_heatmap(\n",
    "        tss_bed,\n",
    "        bigwig,\n",
    "        outfile,\n",
    "        dist=250,\n",
    "        numProc=6,\n",
    "        dispImage=True,\n",
    "        computeMat_args='--sortRegions keep',\n",
    "        plotHeat_args='--sortRegions keep')\n",
    "    display(d)\n",
    "\n",
    "\n",
    "    tss_bed = os.path.join(curr_in, 'confident_promoters_noDiv_PICR.bed')\n",
    "    outfile = os.path.join(curr_out, 'confident_promoters_noDiv_PICR')\n",
    "    e = run_heatmap(\n",
    "        tss_bed,\n",
    "        bigwig,\n",
    "        outfile,\n",
    "        dist=250,\n",
    "        numProc=6,\n",
    "        dispImage=True,\n",
    "        computeMat_args='--sortRegions keep',\n",
    "        plotHeat_args='--sortRegions keep')\n",
    "    display(e)\n",
    "\n",
    "    tss_bed = os.path.join(curr_in, 'confident_promoters_noDiv.bed')\n",
    "    outfile = os.path.join(curr_out, 'confident_promoters_noDiv')\n",
    "    f = run_heatmap(\n",
    "        tss_bed,\n",
    "        bigwig,\n",
    "        outfile,\n",
    "        dist=250,\n",
    "        numProc=6,\n",
    "        dispImage=True,\n",
    "        computeMat_args='--sortRegions keep',\n",
    "        plotHeat_args='--sortRegions keep')\n",
    "    display(f)\n"
   ]
  },
  {
   "cell_type": "markdown",
   "metadata": {},
   "source": [
    "## 2. All the peaks, use whichever had an ATAC if any"
   ]
  },
  {
   "cell_type": "code",
   "execution_count": null,
   "metadata": {
    "collapsed": true
   },
   "outputs": [],
   "source": []
  },
  {
   "cell_type": "markdown",
   "metadata": {},
   "source": [
    "## 3. Peak 1 vs others"
   ]
  },
  {
   "cell_type": "markdown",
   "metadata": {},
   "source": [
    "## Panel B\n",
    "## silenced genes in refseq"
   ]
  },
  {
   "cell_type": "markdown",
   "metadata": {},
   "source": [
    "## 3. Peak 1 vs others"
   ]
  }
 ],
 "metadata": {
  "kernelspec": {
   "display_name": "Python 2",
   "language": "python",
   "name": "python2"
  },
  "language_info": {
   "codemirror_mode": {
    "name": "ipython",
    "version": 2
   },
   "file_extension": ".py",
   "mimetype": "text/x-python",
   "name": "python",
   "nbconvert_exporter": "python",
   "pygments_lexer": "ipython2",
   "version": "2.7.13"
  }
 },
 "nbformat": 4,
 "nbformat_minor": 2
}
