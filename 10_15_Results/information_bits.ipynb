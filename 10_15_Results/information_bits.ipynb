{
 "cells": [
  {
   "cell_type": "code",
   "execution_count": 26,
   "metadata": {
    "ExecuteTime": {
     "end_time": "2018-11-14T02:00:48.852933Z",
     "start_time": "2018-11-14T02:00:48.833568Z"
    },
    "collapsed": true
   },
   "outputs": [],
   "source": [
    "parameter_file = 'params/params.yaml'\n",
    "import yaml\n",
    "import sys\n",
    "import glob\n",
    "import os\n",
    "import pandas as pd\n",
    "with open(parameter_file,'r') as f:\n",
    "    doc = yaml.load(f)\n",
    "\n",
    "#p = dic2obj(**doc)\n",
    "\n",
    "data_folder = doc['data_folder']\n",
    "tissues = doc['tissues'].split(',')\n",
    "sys.path.append(doc['pipeline_path'])\n",
    "ref_fa = doc['ref_fa']\n",
    "annotation=doc['annotation_gtf']\n",
    "from __future__ import division\n",
    "from Bio import motifs\n",
    "import seaborn\n",
    "import matplotlib.pyplot as plt\n",
    "plt.style.use('seaborn-ticks')\n",
    "import numpy as np\n",
    "import matplotlib.patches as mpatches\n",
    "from matplotlib.collections import PatchCollection\n",
    "from matplotlib import transforms\n",
    "\n",
    " \n",
    "\n",
    "colors_scheme = {'G': 'orange', 'A': 'red', 'C': 'blue', 'T': 'darkgreen'}\n"
   ]
  },
  {
   "cell_type": "code",
   "execution_count": 4,
   "metadata": {
    "ExecuteTime": {
     "end_time": "2018-10-31T17:40:22.268698Z",
     "start_time": "2018-10-31T17:40:21.196251Z"
    },
    "collapsed": true
   },
   "outputs": [],
   "source": [
    "from Homer import *\n",
    "%matplotlib inline"
   ]
  },
  {
   "cell_type": "code",
   "execution_count": null,
   "metadata": {
    "collapsed": true
   },
   "outputs": [],
   "source": [
    "fa_fname = \".fa\""
   ]
  },
  {
   "cell_type": "code",
   "execution_count": null,
   "metadata": {
    "collapsed": true
   },
   "outputs": [],
   "source": [
    "def build_pssm(fa_file):"
   ]
  },
  {
   "cell_type": "code",
   "execution_count": 56,
   "metadata": {
    "ExecuteTime": {
     "end_time": "2018-11-14T02:16:07.126118Z",
     "start_time": "2018-11-14T02:16:07.110987Z"
    },
    "scrolled": true
   },
   "outputs": [],
   "source": [
    "pwm = pd.read_csv(\"Results/nuc_freq_plots/refseq.nuc_freq_200.txt\",sep=\"\\t\",index_col = 0)\n",
    "pwm = pwm[[\"A frequency\",\"C frequency\",\"G frequency\",\"T frequency\"]]\n",
    "pwm = pwm.loc[range(-10,10,1)]\n",
    "pwm = pwm.transpose()\n",
    "pwm.to_csv(\"Results/nuc_freq_plots/refseq.nuc_freq_200.txt.pfm\",header=None,index=False,sep='\\t')"
   ]
  },
  {
   "cell_type": "code",
   "execution_count": 57,
   "metadata": {
    "ExecuteTime": {
     "end_time": "2018-11-14T02:16:11.546936Z",
     "start_time": "2018-11-14T02:16:11.543918Z"
    },
    "collapsed": true
   },
   "outputs": [],
   "source": [
    "import motif_analysis"
   ]
  },
  {
   "cell_type": "code",
   "execution_count": 58,
   "metadata": {
    "ExecuteTime": {
     "end_time": "2018-11-14T02:16:12.382158Z",
     "start_time": "2018-11-14T02:16:12.378196Z"
    },
    "scrolled": true
   },
   "outputs": [],
   "source": [
    "motif_file = (\"Results/nuc_freq_plots/refseq.nuc_freq_200.txt.pfm\")\n",
    "with open(motif_file) as handle:\n",
    "    m = motifs.read(handle, \"pfm\")"
   ]
  },
  {
   "cell_type": "code",
   "execution_count": 8,
   "metadata": {
    "ExecuteTime": {
     "end_time": "2018-11-14T01:42:20.210995Z",
     "start_time": "2018-11-14T01:42:20.162054Z"
    }
   },
   "outputs": [
    {
     "name": "stdout",
     "output_type": "stream",
     "text": [
      "        0      1      2      3      4\n",
      "A:   3.00   7.00   0.00   2.00   1.00\n",
      "C:   0.00   0.00   5.00   2.00   6.00\n",
      "G:   0.00   0.00   0.00   3.00   0.00\n",
      "T:   4.00   0.00   2.00   0.00   0.00\n",
      "\n"
     ]
    }
   ],
   "source": [
    "from Bio.Seq import Seq\n",
    "from Bio import motifs\n",
    "instances = [Seq(\"TACAA\"),\n",
    "              Seq(\"TACGC\"),\n",
    "              Seq(\"TACAC\"),\n",
    "              Seq(\"TACCC\"),\n",
    "              Seq(\"AACCC\"),\n",
    "              Seq(\"AATGC\"),\n",
    "              Seq(\"AATGC\"),\n",
    "             ]\n",
    "\n",
    "m = motifs.create(instances)\n",
    "#The instances are saved in an attribute m.instances, which is essentially a Python list with some added functionality, as described below. Printing out the Motif object shows the instances from which it was constructed:\n",
    "\n",
    "\n",
    "#The length of the motif is defined as the sequence length, which should be the same for all instances:\n",
    "\n",
    "\n",
    "print(m.counts)\n",
    "#         0      1      2      3      4\n",
    "# A:   3.00   7.00   0.00   2.00   1.00\n",
    "# C:   0.00   0.00   5.00   2.00   6.00\n",
    "# G:   0.00   0.00   0.00   3.00   0.00\n",
    "# T:   4.00   0.00   2.00   0.00   0.00\n",
    "#You can access these counts as a dictionary:\n"
   ]
  },
  {
   "cell_type": "code",
   "execution_count": 27,
   "metadata": {
    "ExecuteTime": {
     "end_time": "2018-11-14T02:00:59.860895Z",
     "start_time": "2018-11-14T02:00:59.665445Z"
    }
   },
   "outputs": [],
   "source": [
    "%matplotlib inline\n",
    "from __future__ import division\n",
    "from Bio import motifs\n",
    "import seaborn\n",
    "import matplotlib.pyplot as plt\n",
    "plt.style.use('seaborn-ticks')\n",
    "import numpy as np\n",
    "import matplotlib.patches as mpatches\n",
    "from matplotlib.collections import PatchCollection\n",
    "from matplotlib import transforms\n",
    "\n",
    " \n",
    "\n",
    "colors_scheme = {'G': 'orange', 'A': 'red', 'C': 'blue', 'T': 'darkgreen'}\n",
    "\n",
    "def plotA(xstart=0, ystart=0, xscale=1, yscale=1):\n",
    "    \"\"\"Plot A\"\"\"\n",
    "    x = np.array([ 0.  ,  0.4 ,  0.6 ,  1.  ,  0.8 ,  0.68,  0.32,  0.2 ,  0.])\n",
    "    y = np.array([ 0.  ,  1.  ,  1.  ,  0.  ,  0.  ,  0.3 ,  0.3 ,  0.  ,  0.])\n",
    "    x = xstart + xscale*x\n",
    "    y = ystart + yscale*y\n",
    "    triy =  np.array([0.4 ,   0.4 , 0.75, 0.4])\n",
    "    trix =  np.array([0.36,   0.64, 0.5, 0.36])\n",
    "\n",
    "    trix = xstart + xscale*trix\n",
    "    triy = ystart + yscale*triy\n",
    "    \n",
    "    return x, y, trix, triy\n",
    "\n",
    "def plotT(xstart=0, ystart=0, xscale=1, yscale=1):\n",
    "    \"\"\"Plot T\"\"\"\n",
    "    x = np.array([ 0. ,  1. ,  1. ,  0.6,  0.6,  0.4,  0.4,  0. ])\n",
    "    y = np.array([ 1. ,  1. ,  0.9,  0.9,  0. ,  0. ,  0.9,  0.9])\n",
    "    x = xstart + xscale*x\n",
    "    y = ystart + yscale*y\n",
    "    return x,y\n",
    "\n",
    "def plotG(xstart=0, ystart=0, xscale=1, yscale=1):\n",
    "    \"\"\"Plot G\"\"\"\n",
    "    angle1 = np.linspace(0.3+np.pi/2,np.pi,num=100)\n",
    "    angle2 = np.linspace(np.pi,1.5*np.pi, num=100)\n",
    "  \n",
    "    xl1 = 0.5 + 0.5*np.sin(angle1)\n",
    "    yl1 =0.5 + 0.5*np.cos(angle1)\n",
    "    xl2 =0.5 + 0.5*np.sin(angle2)\n",
    "    yl2 =0.5 + 0.5*np.cos(angle2)\n",
    "\n",
    "    xl = np.concatenate((xl1, xl2))\n",
    "    yl = np.concatenate((yl1, yl2))\n",
    "\n",
    "    x = np.concatenate((xl, xl[::-1]))\n",
    "    y = np.concatenate((yl, 1-yl[::-1]))\n",
    "\n",
    "    xi1 = 0.5 + 0.35*np.sin(angle1)\n",
    "    yi1 = 0.5 + 0.35*np.cos(angle1)\n",
    "    xi1 = xi1[np.where(yi1<=np.max(yl1))]\n",
    "    yi1 = yi1[np.where(yi1<=np.max(yl1))]\n",
    "    yi1[0] = np.max(yl1)\n",
    "\n",
    "    xi2 = 0.5 + 0.35*np.sin(angle2)\n",
    "    yi2 = 0.5 + 0.35*np.cos(angle2)\n",
    "\n",
    "    xi = np.concatenate((xi1,xi2))\n",
    "    yi = np.concatenate((yi1,yi2))\n",
    "\n",
    "    x1 = np.concatenate((xi,xi[::-1]))\n",
    "    y1 = np.concatenate((yi,1-yi[::-1]))\n",
    "\n",
    "    x = np.concatenate((x,x1[::-1]))\n",
    "    y = np.concatenate((y, y1[::-1]))\n",
    "    \n",
    "    r1 = np.max(xl1)\n",
    "\n",
    "    h1 = 0.4\n",
    "    xadd = np.array([r1,0.5,0.5,r1-0.2,r1-0.2,r1,r1])\n",
    "    yadd = np.array([h1,h1,h1-0.1,h1-0.1,0,0,h1])\n",
    "    \n",
    "    x = np.concatenate((x[::-1],xadd))\n",
    "    y = np.concatenate((y[::-1],yadd))\n",
    "\n",
    "    x = xstart + xscale*x\n",
    "    y = ystart + yscale*y\n",
    "    \n",
    "    return x,y\n",
    "\n",
    "def plotC(xstart=0, ystart=0, xscale=1, yscale=1):\n",
    "    \"\"\"Plot C\"\"\"\n",
    "    \n",
    "    angle1 = np.linspace(0.3+np.pi/2,np.pi,num=100)\n",
    "    angle2 = np.linspace(np.pi,1.5*np.pi, num=100)\n",
    "  \n",
    "    xl1 = 0.5 + 0.5*np.sin(angle1)\n",
    "    yl1 = 0.5 + 0.5*np.cos(angle1)\n",
    "    xl2 = 0.5 + 0.5*np.sin(angle2)\n",
    "    yl2 = 0.5 + 0.5*np.cos(angle2)\n",
    "\n",
    "    xl = np.concatenate((xl1, xl2))\n",
    "    yl = np.concatenate((yl1, yl2))\n",
    "\n",
    "    x = np.concatenate((xl, xl[::-1]))\n",
    "    y = np.concatenate((yl, 1-yl[::-1]))\n",
    "\n",
    "    xi1 = 0.5 + 0.35*np.sin(angle1)\n",
    "    yi1 = 0.5 + 0.35*np.cos(angle1)\n",
    "    xi1 = xi1[np.where(yi1<=np.max(yl1))]\n",
    "    yi1 = yi1[np.where(yi1<=np.max(yl1))]\n",
    "    yi1[0] = np.max(yl1)\n",
    "\n",
    "    xi2 = 0.5 + 0.35*np.sin(angle2)\n",
    "    yi2 = 0.5 + 0.35*np.cos(angle2)\n",
    "\n",
    "    xi = np.concatenate((xi1,xi2))\n",
    "    yi = np.concatenate((yi1,yi2))\n",
    "\n",
    "    x1 = np.concatenate((xi,xi[::-1]))\n",
    "    y1 = np.concatenate((yi,1-yi[::-1]))\n",
    "\n",
    "    x = np.concatenate((x,x1[::-1]))\n",
    "    y = np.concatenate((y, y1[::-1]))\n",
    "    x = xstart + xscale*x\n",
    "    y = ystart + yscale*y\n",
    "    return x,y"
   ]
  },
  {
   "cell_type": "code",
   "execution_count": 28,
   "metadata": {
    "ExecuteTime": {
     "end_time": "2018-11-14T02:01:47.694172Z",
     "start_time": "2018-11-14T02:01:47.542374Z"
    },
    "collapsed": true
   },
   "outputs": [],
   "source": [
    "def approximate_error(motif):\n",
    "    \"\"\"Calculate approximate error\"\"\"\n",
    "    pwm = motif.pwm\n",
    "    bases = list(pwm.keys())\n",
    "    n = sum(motif.counts[bases[0]])\n",
    "    approx_error = (len(bases)-1)/(2 * np.log(2) * n)\n",
    "    return approx_error\n",
    "\n",
    "\n",
    "def exact_error(motif):\n",
    "    \"\"\"Calculate exact error, using multinomial(na,nc,ng,nt)\"\"\"\n",
    "    ## Super Slow. O(n^3)\n",
    "    pwm = motif.pwm\n",
    "    bases = list(pwm.keys())\n",
    "    na = sum(motif.counts['A'])\n",
    "    n = na\n",
    "    nc = 0\n",
    "    ng = 0\n",
    "    nt = 0\n",
    "    done = False\n",
    "    exact_error = 0\n",
    "    while not done:\n",
    "        print (na,nc,ng,nt)\n",
    "        exact_error += sum([-p*np.log2(p) for p in [na/n, nc/n, ng/n, nt/n]])\n",
    "        if nt<=0:\n",
    "            ## iterate inner loop            \n",
    "            if ng > 0:\n",
    "                ## g => t\n",
    "                ng = ng - 1\n",
    "                nt = nt + 1\n",
    "            elif nc > 0:\n",
    "                ## c -> g \n",
    "                nc = nc - 1;\n",
    "                ng = ng + 1;\n",
    "            else:\n",
    "                ## a->c\n",
    "                na = na - 1\n",
    "                nc = nc + 1\n",
    "        else:\n",
    "            if ng > 0:\n",
    "                ## g => t\n",
    "                ng = ng - 1 \n",
    "                nt = nt + 1\n",
    "            elif nc>0:\n",
    "                ## c => g; all t -> g\n",
    "                nc = nc - 1\n",
    "                ng = nt + 1\n",
    "                nt = 0\n",
    "            elif na>0:\n",
    "                ## a => c; all g,t -> c\n",
    "                nc = nt + 1\n",
    "                na = na - 1\n",
    "                nt = 0\n",
    "            else:\n",
    "                done = True\n",
    "    return exact_correction\n",
    "\n",
    "def calc_info_matrix(motif, correction_type='approx'):\n",
    "    \"\"\"Calculate information matrix with small sample correction\"\"\"\n",
    "    pwm = motif.pwm\n",
    "    bases = list(pwm.keys())\n",
    "    if correction_type=='approx':\n",
    "        error = approximate_error(motif)\n",
    "    else:\n",
    "        error = exact_error(motif)\n",
    "    info_matrix = [2-error+sum([pwm[b][l]*np.nan_to_num(np.log2(pwm[b][l])) for b in bases]) for l in range(0, len(motif))]\n",
    "    return info_matrix\n",
    "\n",
    "def calc_relative_information(motif, correction_type='approx'):\n",
    "    \"\"\"Calculate relative information matrix\"\"\"\n",
    "    pwm = motif.pwm\n",
    "    bases = list(pwm.keys())\n",
    "    if correction_type=='approx':\n",
    "        info_matrix = calc_info_matrix(motif)\n",
    "    else:\n",
    "        info_matrix = calc_info_matrix(motif, 'exact')\n",
    "    relative_info = {base: [prob*info for prob,info in zip(pwm[base], info_matrix)]  for base in bases}\n",
    "    return relative_info\n",
    "\n",
    "def plot_motifLogo(motif):\n",
    "    rel_info = calc_relative_information(motif)\n",
    "    bases = ['A', 'T', 'G', 'C']\n",
    "    fig = plt.figure()\n",
    "    ax = fig.add_subplot(111)\n",
    "    patches = []\n",
    "    white_spots = []\n",
    "    colors = []\n",
    "    xshift = 0\n",
    "    for i in range(0, len(motif)):\n",
    "        scores = [(b,rel_info[b][i]) for b in bases]\n",
    "        scores.sort(key=lambda t: t[1])\n",
    "        yshift = 0\n",
    "        for base, score in scores:\n",
    "            if base=='A':\n",
    "                X, Y, triX, triY = plotA(xstart=xshift, ystart=yshift, yscale=score) \n",
    "                white_spots.append((triX, triY))\n",
    "                colors.append(colors_scheme['A'])\n",
    "            elif base=='C':\n",
    "                X, Y = plotC(xstart=xshift, ystart=yshift, yscale=score) \n",
    "                colors.append(colors_scheme['C'])\n",
    "            elif base=='T':\n",
    "                X, Y = plotT(xstart=xshift, ystart=yshift, yscale=score) \n",
    "                colors.append(colors_scheme['T'])\n",
    "            elif base=='G':\n",
    "                X, Y = plotG(xstart=xshift, ystart=yshift, yscale=score) \n",
    "                colors.append(colors_scheme['G'])\n",
    "            yshift +=score\n",
    "            plot = mpatches.Polygon(zip(X,Y), closed=True, fill=None)\n",
    "            patches.append(plot)\n",
    "        xshift+=1\n",
    "    collection = PatchCollection(patches, edgecolors='none', facecolors=colors)\n",
    "    ax.add_collection(collection)\n",
    "    for triX, triY in white_spots:\n",
    "        ax.fill_between(triX, triY, color=\"white\", linewidth=0.0)\n",
    "\n",
    "    ax.set_xticks(np.arange(0.5,len(motif)+0.5,1))\n",
    "    ax.set_xticklabels(range(1, len(motif)+1))\n",
    "    seaborn.despine(ax=ax, offset=10, trim=True)\n",
    "    plt.show()"
   ]
  },
  {
   "cell_type": "code",
   "execution_count": 50,
   "metadata": {
    "ExecuteTime": {
     "end_time": "2018-11-14T02:14:10.943038Z",
     "start_time": "2018-11-14T02:14:10.653244Z"
    }
   },
   "outputs": [
    {
     "name": "stderr",
     "output_type": "stream",
     "text": [
      "/home/isshamie/software/anaconda2/lib/python2.7/site-packages/ipykernel_launcher.py:66: RuntimeWarning: divide by zero encountered in log2\n"
     ]
    },
    {
     "data": {
      "image/png": "[encoded data removed]",
      "text/plain": [
       "<matplotlib.figure.Figure at 0x7f2eb8264a50>"
      ]
     },
     "metadata": {},
     "output_type": "display_data"
    }
   ],
   "source": [
    "with open(\"./meme_out/meme.txt\") as handle:\n",
    "    m1 = motifs.parse(handle, \"meme\")\n",
    "plot_motifLogo(m1[0])"
   ]
  },
  {
   "cell_type": "code",
   "execution_count": 53,
   "metadata": {
    "ExecuteTime": {
     "end_time": "2018-11-14T02:14:27.214967Z",
     "start_time": "2018-11-14T02:14:27.207777Z"
    }
   },
   "outputs": [
    {
     "data": {
      "text/plain": [
       "{'A': [120, 38, 6, 378, 21, 66, 436, 3, 188, 10, 1, 16, 43, 223, 18],\n",
       " 'C': [26, 419, 491, 12, 311, 252, 13, 0, 1, 11, 2, 14, 423, 11, 269],\n",
       " 'G': [287, 22, 0, 65, 156, 34, 33, 495, 306, 305, 494, 442, 5, 253, 194],\n",
       " 'T': [67, 21, 3, 45, 12, 148, 18, 2, 5, 174, 3, 28, 29, 13, 19]}"
      ]
     },
     "execution_count": 53,
     "metadata": {},
     "output_type": "execute_result"
    }
   ],
   "source": [
    "m1[0].counts"
   ]
  },
  {
   "cell_type": "code",
   "execution_count": 55,
   "metadata": {
    "ExecuteTime": {
     "end_time": "2018-11-14T02:14:40.516200Z",
     "start_time": "2018-11-14T02:14:40.507522Z"
    },
    "scrolled": true
   },
   "outputs": [
    {
     "data": {
      "text/plain": [
       "{'A': [-0.058893689053568565,\n",
       "  -1.7178567712185018,\n",
       "  -4.380821783940931,\n",
       "  1.5964581395589854,\n",
       "  -2.5734668618833267,\n",
       "  -0.9213901653036336,\n",
       "  1.8024000401148395,\n",
       "  -5.380821783940931,\n",
       "  0.5888045670155504,\n",
       "  -3.6438561897747253,\n",
       "  -6.965784284662088,\n",
       "  -2.965784284662087,\n",
       "  -1.539519529959989,\n",
       "  0.8351156152582178,\n",
       "  -2.795859283219775],\n",
       " 'C': [-2.2653445665209953,\n",
       "  1.7450221490372646,\n",
       "  1.9737949296526063,\n",
       "  -3.380821783940931,\n",
       "  1.3149864854685156,\n",
       "  1.0114956388378296,\n",
       "  -3.265344566520995,\n",
       "  -inf,\n",
       "  -6.965784284662088,\n",
       "  -3.50635266602479,\n",
       "  -5.965784284662088,\n",
       "  -3.1584293626044833,\n",
       "  1.7587295684578625,\n",
       "  -3.50635266602479,\n",
       "  1.1056780778945372],\n",
       " 'G': [1.1991226420136007,\n",
       "  -2.5063526660247897,\n",
       "  -inf,\n",
       "  -0.9434164716336324,\n",
       "  0.3196179342001613,\n",
       "  -1.8783214434117477,\n",
       "  -1.9213901653036336,\n",
       "  1.985500430304885,\n",
       "  1.2916035580305647,\n",
       "  1.2868811477881617,\n",
       "  1.9825829469225906,\n",
       "  1.8221182747293445,\n",
       "  -4.643856189774724,\n",
       "  1.0172092900322232,\n",
       "  0.6341285575250407],\n",
       " 'T': [-0.8996950942043146,\n",
       "  -2.5734668618833267,\n",
       "  -5.380821783940931,\n",
       "  -1.4739311883324124,\n",
       "  -3.380821783940931,\n",
       "  0.24366908096686266,\n",
       "  -2.795859283219775,\n",
       "  -5.965784284662088,\n",
       "  -4.643856189774724,\n",
       "  0.4771592111866411,\n",
       "  -5.380821783940931,\n",
       "  -2.1584293626044833,\n",
       "  -2.107803289534515,\n",
       "  -3.265344566520995,\n",
       "  -2.7178567712185013]}"
      ]
     },
     "execution_count": 55,
     "metadata": {},
     "output_type": "execute_result"
    }
   ],
   "source": [
    "m1[0].pssm"
   ]
  },
  {
   "cell_type": "code",
   "execution_count": 60,
   "metadata": {
    "ExecuteTime": {
     "end_time": "2018-11-14T02:16:58.953658Z",
     "start_time": "2018-11-14T02:16:58.939896Z"
    },
    "scrolled": true
   },
   "outputs": [
    {
     "data": {
      "text/plain": [
       "{'A': [0.220116,\n",
       "  0.217988,\n",
       "  0.215549,\n",
       "  0.211712,\n",
       "  0.206097,\n",
       "  0.212003,\n",
       "  0.21787,\n",
       "  0.231774,\n",
       "  0.22655,\n",
       "  0.230736,\n",
       "  0.187506,\n",
       "  0.175929,\n",
       "  0.186141,\n",
       "  0.24702,\n",
       "  0.244256,\n",
       "  0.249292,\n",
       "  0.178264,\n",
       "  0.196967,\n",
       "  0.190946,\n",
       "  0.266843],\n",
       " 'C': [0.276923,\n",
       "  0.273013,\n",
       "  0.273942,\n",
       "  0.266865,\n",
       "  0.272732,\n",
       "  0.269271,\n",
       "  0.271022,\n",
       "  0.258298,\n",
       "  0.281739,\n",
       "  0.277578,\n",
       "  0.381054,\n",
       "  0.244888,\n",
       "  0.27573,\n",
       "  0.248822,\n",
       "  0.2514,\n",
       "  0.265678,\n",
       "  0.267274,\n",
       "  0.30813,\n",
       "  0.291696,\n",
       "  0.238138],\n",
       " 'G': [0.275878,\n",
       "  0.284896,\n",
       "  0.287051,\n",
       "  0.295881,\n",
       "  0.305024,\n",
       "  0.294144,\n",
       "  0.294553,\n",
       "  0.291505,\n",
       "  0.28926,\n",
       "  0.275243,\n",
       "  0.297458,\n",
       "  0.266789,\n",
       "  0.343148,\n",
       "  0.32192,\n",
       "  0.310842,\n",
       "  0.281704,\n",
       "  0.272384,\n",
       "  0.26013,\n",
       "  0.275091,\n",
       "  0.292511],\n",
       " 'T': [0.227083,\n",
       "  0.224103,\n",
       "  0.223458,\n",
       "  0.225542,\n",
       "  0.216147,\n",
       "  0.224582,\n",
       "  0.216554,\n",
       "  0.218422,\n",
       "  0.202451,\n",
       "  0.216443,\n",
       "  0.133982,\n",
       "  0.312393,\n",
       "  0.194981,\n",
       "  0.182237,\n",
       "  0.193502,\n",
       "  0.203326,\n",
       "  0.282077,\n",
       "  0.234772,\n",
       "  0.242267,\n",
       "  0.202508]}"
      ]
     },
     "execution_count": 60,
     "metadata": {},
     "output_type": "execute_result"
    }
   ],
   "source": [
    "m.counts"
   ]
  },
  {
   "cell_type": "code",
   "execution_count": 63,
   "metadata": {
    "ExecuteTime": {
     "end_time": "2018-11-14T02:18:20.876471Z",
     "start_time": "2018-11-14T02:18:20.872917Z"
    }
   },
   "outputs": [],
   "source": [
    "for i in m.counts:\n",
    "    m.counts[i] = (list(map(lambda x: x*1000,m.counts[i])))"
   ]
  },
  {
   "cell_type": "code",
   "execution_count": 64,
   "metadata": {
    "ExecuteTime": {
     "end_time": "2018-11-14T02:18:23.767888Z",
     "start_time": "2018-11-14T02:18:23.452643Z"
    },
    "scrolled": false
   },
   "outputs": [
    {
     "data": {
      "image/png": "[encoded data removed]",
      "text/plain": [
       "<matplotlib.figure.Figure at 0x7f2eb7ec5510>"
      ]
     },
     "metadata": {},
     "output_type": "display_data"
    }
   ],
   "source": [
    "plot_motifLogo(m)"
   ]
  },
  {
   "cell_type": "code",
   "execution_count": 18,
   "metadata": {
    "ExecuteTime": {
     "end_time": "2018-11-14T01:48:11.316859Z",
     "start_time": "2018-11-14T01:48:11.312142Z"
    }
   },
   "outputs": [],
   "source": [
    "m.counts[\"A\"] = list(pwm[\"A frequency\"].values)\n",
    "m.counts[\"C\"] = list(pwm[\"C frequency\"].values)\n",
    "m.counts[\"T\"] = list(pwm[\"T frequency\"].values)\n",
    "m.counts[\"G\"] = list(pwm[\"G frequency\"].values)"
   ]
  },
  {
   "cell_type": "code",
   "execution_count": 21,
   "metadata": {
    "ExecuteTime": {
     "end_time": "2018-11-14T01:49:10.738283Z",
     "start_time": "2018-11-14T01:49:09.809248Z"
    },
    "collapsed": true
   },
   "outputs": [],
   "source": [
    "m.weblogo(\"Results/nuc_freq_plots/refseq.Info_200.png\")"
   ]
  },
  {
   "cell_type": "code",
   "execution_count": null,
   "metadata": {
    "collapsed": true
   },
   "outputs": [],
   "source": [
    "\n",
    ">>> m.counts[\"A\"]\n",
    "[3, 7, 0, 2, 1]\n",
    "but you can also think of it as a 2D array with the nucleotide as the first dimension and the position as the second dimension:\n",
    "\n",
    ">>> m.counts[\"T\", 0]\n",
    "4\n",
    ">>> m.counts[\"T\", 2]\n",
    "2\n",
    ">>> m.counts[\"T\", 3]\n",
    "0\n",
    "You can also directly access columns of the counts matrix\n",
    "\n",
    ">>> m.counts[:, 3]\n",
    "{'A': 2, 'C': 2, 'T': 0, 'G': 3}\n",
    "Instead of the nucleotide itself, you can also use the index of the nucleotide in the sorted letters in the alphabet of the motif:\n",
    "\n",
    ">>> m.alphabet\n",
    "IUPACUnambiguousDNA()\n",
    ">>> m.alphabet.letters\n",
    "'GATC'\n",
    ">>> sorted(m.alphabet.letters)\n",
    "['A', 'C', 'G', 'T']\n",
    ">>> m.counts[\"A\",:]\n",
    "(3, 7, 0, 2, 1)\n",
    ">>> m.counts[0,:]\n",
    "(3, 7, 0, 2, 1)\n",
    "The motif has an associated consensus sequence, defined as the sequence of letters along the positions of the motif for which the largest value in the corresponding columns of the .counts matrix is obtained:\n",
    "\n",
    ">>> m.consensus\n",
    "Seq('TACGC', IUPACUnambiguousDNA())\n",
    "as well as an anticonsensus sequence, corresponding to the smallest values in the columns of the .counts matrix:\n",
    "\n",
    ">>> m.anticonsensus\n",
    "Seq('GGGTG', IUPACUnambiguousDNA())\n",
    "You can also ask for a degenerate consensus sequence, in which ambiguous nucleotides are used for positions where there are multiple nucleotides with high counts:\n",
    "\n",
    ">>> m.degenerate_consensus\n",
    "Seq('WACVC', IUPACAmbiguousDNA())\n",
    "Here, W and R follow the IUPAC nucleotide ambiguity codes: W is either A or T, and V is A, C, or G [10]. The degenerate consensus sequence is constructed following the rules specified by Cavener [11].\n",
    "\n",
    "We can also get the reverse complement of a motif:\n",
    "\n",
    ">>> r = m.reverse_complement()\n",
    ">>> r.consensus\n",
    "Seq('GCGTA', IUPACUnambiguousDNA())\n",
    ">>> r.degenerate_consensus\n",
    "Seq('GBGTW', IUPACAmbiguousDNA())\n",
    ">>> print(r)\n",
    "TTGTA\n",
    "GCGTA\n",
    "GTGTA\n",
    "GGGTA\n",
    "GGGTT\n",
    "GCATT\n",
    "GCATT\n",
    "<BLANKLINE>\n",
    "The reverse complement and the degenerate consensus sequence are only defined for DNA motifs.\n",
    "\n",
    "14.1.2  Creating a sequence logo\n",
    "If we have internet access, we can create a weblogo:\n",
    "\n",
    ">>> m.weblogo(\"mymotif.png\")"
   ]
  }
 ],
 "metadata": {
  "kernelspec": {
   "display_name": "Python 2",
   "language": "python",
   "name": "python2"
  },
  "language_info": {
   "codemirror_mode": {
    "name": "ipython",
    "version": 2
   },
   "file_extension": ".py",
   "mimetype": "text/x-python",
   "name": "python",
   "nbconvert_exporter": "python",
   "pygments_lexer": "ipython2",
   "version": "2.7.13"
  }
 },
 "nbformat": 4,
 "nbformat_minor": 2
}
