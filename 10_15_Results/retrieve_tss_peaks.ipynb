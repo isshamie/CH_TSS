{
 "cells": [
  {
   "cell_type": "code",
   "execution_count": 1,
   "metadata": {
    "ExecuteTime": {
     "end_time": "2018-11-09T22:48:40.110962Z",
     "start_time": "2018-11-09T22:48:39.222665Z"
    },
    "scrolled": true
   },
   "outputs": [
    {
     "name": "stdout",
     "output_type": "stream",
     "text": [
      "('Number of tissues: ', 15)\n"
     ]
    }
   ],
   "source": [
    "## Parameters specific to where your folders are and your data\n",
    "parameter_file = 'params/params.yaml'\n",
    "import yaml\n",
    "import sys\n",
    "\n",
    "with open(parameter_file,'r') as f:\n",
    "    doc = yaml.load(f)\n",
    "\n",
    "#p = dic2obj(**doc)\n",
    "\n",
    "data_folder = doc['data_folder']\n",
    "tissues = doc['tissues'].split(',')\n",
    "sys.path.append(doc['pipeline_path'])\n",
    "ref_fa = doc['ref_fa']\n",
    "anno_gff=doc['annotation']\n",
    "\n",
    "\n",
    "tss_annotation = doc['tss_annotation']\n",
    "\n",
    "\n",
    "import os\n",
    "os.chdir\n",
    "import sys\n",
    "import pandas as pd\n",
    "import matplotlib\n",
    "import seaborn as sns\n",
    "import pickle\n",
    "import numpy as np\n",
    "import matplotlib as mpl\n",
    "from matplotlib import pyplot as plt\n",
    "from itertools import product\n",
    "import glob\n",
    "import re\n",
    "from matplotlib_venn import venn2\n",
    "from matplotlib import rcParams\n",
    "import inspect\n",
    "%matplotlib inline\n",
    "%config InlineBackend.figure_format = 'retina'\n",
    "sys.setrecursionlimit(3000)\n",
    "%load_ext autoreload\n",
    "%autoreload 2\n",
    "rcParams['figure.figsize'] = 8, 6\n",
    "import tqdm\n",
    "\n",
    "from os.path import basename\n",
    "##mpl.use('Agg')\n",
    "#mpl.style.use('ggplot')\n",
    "#mpl.style.use('fivethirtyeight')\n",
    "from Homer import *\n",
    "import annotation\n",
    "print('Number of tissues: ',len(tissues))"
   ]
  },
  {
   "cell_type": "code",
   "execution_count": 2,
   "metadata": {
    "ExecuteTime": {
     "end_time": "2018-11-09T22:48:40.135875Z",
     "start_time": "2018-11-09T22:48:40.113180Z"
    },
    "collapsed": true
   },
   "outputs": [],
   "source": [
    "if not os.path.exists(\"Results/tss_annotation_peaks\"):\n",
    "    os.mkdir(\"Results/tss_annotation_peaks\")\n"
   ]
  },
  {
   "cell_type": "code",
   "execution_count": 3,
   "metadata": {
    "ExecuteTime": {
     "end_time": "2018-11-09T22:48:40.158334Z",
     "start_time": "2018-11-09T22:48:40.138071Z"
    },
    "collapsed": true
   },
   "outputs": [],
   "source": [
    "anno_f = 'Results/tss_annotation/gene_df_01.p'\n",
    "merged_f = \"Results/merged/samples.merge\""
   ]
  },
  {
   "cell_type": "code",
   "execution_count": 7,
   "metadata": {
    "ExecuteTime": {
     "end_time": "2018-11-14T00:27:49.857268Z",
     "start_time": "2018-11-14T00:27:46.728896Z"
    },
    "scrolled": true
   },
   "outputs": [
    {
     "data": {
      "text/html": [
       "<div>\n",
       "<style scoped>\n",
       "    .dataframe tbody tr th:only-of-type {\n",
       "        vertical-align: middle;\n",
       "    }\n",
       "\n",
       "    .dataframe tbody tr th {\n",
       "        vertical-align: top;\n",
       "    }\n",
       "\n",
       "    .dataframe thead th {\n",
       "        text-align: right;\n",
       "    }\n",
       "</style>\n",
       "<table border=\"1\" class=\"dataframe\">\n",
       "  <thead>\n",
       "    <tr style=\"text-align: right;\">\n",
       "      <th></th>\n",
       "      <th>peaks</th>\n",
       "      <th>closest_to_X_numberOfPeaks</th>\n",
       "      <th>bin_-1000_100</th>\n",
       "      <th>sameStrand_bin_-1000_100</th>\n",
       "      <th>samples</th>\n",
       "      <th>minDistance</th>\n",
       "      <th>minDistancePeak</th>\n",
       "      <th>maxValue</th>\n",
       "      <th>maxPeakId</th>\n",
       "      <th>maxSample</th>\n",
       "      <th>Chr</th>\n",
       "      <th>Start</th>\n",
       "      <th>End</th>\n",
       "      <th>Strand</th>\n",
       "      <th>gene_id</th>\n",
       "      <th>gene</th>\n",
       "      <th>transcript</th>\n",
       "      <th>maxSamples</th>\n",
       "      <th>hasGene</th>\n",
       "      <th>Number of SS</th>\n",
       "    </tr>\n",
       "  </thead>\n",
       "  <tbody>\n",
       "    <tr>\n",
       "      <th>SERHL</th>\n",
       "      <td>[50311, 55675, 90764, 107911, 109040, 111314, ...</td>\n",
       "      <td>13</td>\n",
       "      <td>[55675, 90764, 163581, 330984]</td>\n",
       "      <td>[55675, 330984]</td>\n",
       "      <td>[Brain_START2_and_Brain_STARTinput1, Brain_GRO...</td>\n",
       "      <td>31.0</td>\n",
       "      <td>55675</td>\n",
       "      <td>3321</td>\n",
       "      <td>330984</td>\n",
       "      <td>NaN</td>\n",
       "      <td>picr_74</td>\n",
       "      <td>10067654</td>\n",
       "      <td>10067857</td>\n",
       "      <td>+</td>\n",
       "      <td>gene_26628_1</td>\n",
       "      <td>SERHL</td>\n",
       "      <td>asmbl_75212</td>\n",
       "      <td>[FemaleReproductive_START1_and_FemaleReproduct...</td>\n",
       "      <td>True</td>\n",
       "      <td>2</td>\n",
       "    </tr>\n",
       "    <tr>\n",
       "      <th>RRP7A</th>\n",
       "      <td>[2024, 9126, 16568, 17246, 31465, 45620, 57441...</td>\n",
       "      <td>44</td>\n",
       "      <td>[104402, 138452]</td>\n",
       "      <td>[138452]</td>\n",
       "      <td>[Brain_START2_and_Brain_STARTinput1, Brain_GRO...</td>\n",
       "      <td>24.0</td>\n",
       "      <td>138452</td>\n",
       "      <td>17.4</td>\n",
       "      <td>138452</td>\n",
       "      <td>NaN</td>\n",
       "      <td>picr_0</td>\n",
       "      <td>44409</td>\n",
       "      <td>44569</td>\n",
       "      <td>-</td>\n",
       "      <td>gene_2</td>\n",
       "      <td>RRP7A</td>\n",
       "      <td>asmbl_10</td>\n",
       "      <td>[Brain_START2_and_Brain_STARTinput1, Brain_GRO...</td>\n",
       "      <td>True</td>\n",
       "      <td>1</td>\n",
       "    </tr>\n",
       "    <tr>\n",
       "      <th>POLDIP3</th>\n",
       "      <td>[10516, 35365, 56536, 67616, 72210, 122731, 14...</td>\n",
       "      <td>42</td>\n",
       "      <td>[10516, 159928, 337166]</td>\n",
       "      <td>[159928]</td>\n",
       "      <td>[Brain_START2_and_Brain_STARTinput1, Brain_GRO...</td>\n",
       "      <td>-24.0</td>\n",
       "      <td>159928</td>\n",
       "      <td>42</td>\n",
       "      <td>159928</td>\n",
       "      <td>NaN</td>\n",
       "      <td>picr_0</td>\n",
       "      <td>78142</td>\n",
       "      <td>78416</td>\n",
       "      <td>-</td>\n",
       "      <td>gene_3_1</td>\n",
       "      <td>POLDIP3</td>\n",
       "      <td>asmbl_19</td>\n",
       "      <td>[Brain_START2_and_Brain_STARTinput1, Brain_GRO...</td>\n",
       "      <td>True</td>\n",
       "      <td>1</td>\n",
       "    </tr>\n",
       "    <tr>\n",
       "      <th>CYB5R3</th>\n",
       "      <td>[3383, 12381, 82328, 85156, 110522, 132949, 15...</td>\n",
       "      <td>17</td>\n",
       "      <td>[82328, 250779, 475428]</td>\n",
       "      <td>[250779, 475428]</td>\n",
       "      <td>[FemaleReproductive_START1_and_FemaleReproduct...</td>\n",
       "      <td>0.0</td>\n",
       "      <td>250779</td>\n",
       "      <td>4.51</td>\n",
       "      <td>250779</td>\n",
       "      <td>NaN</td>\n",
       "      <td>picr_0</td>\n",
       "      <td>92125</td>\n",
       "      <td>92275</td>\n",
       "      <td>-</td>\n",
       "      <td>gene_3_2</td>\n",
       "      <td>CYB5R3</td>\n",
       "      <td>asmbl_20</td>\n",
       "      <td>[BMDMwt_GROCap1_and_BMDMwt_GRO1]</td>\n",
       "      <td>True</td>\n",
       "      <td>2</td>\n",
       "    </tr>\n",
       "    <tr>\n",
       "      <th>A4GALT</th>\n",
       "      <td>[7861, 14511, 22244, 46573, 46858, 47181, 6782...</td>\n",
       "      <td>45</td>\n",
       "      <td>[162676, 208250, 339761]</td>\n",
       "      <td>[208250, 339761]</td>\n",
       "      <td>[Brain_START2_and_Brain_STARTinput1, Brain_GRO...</td>\n",
       "      <td>5.0</td>\n",
       "      <td>339761</td>\n",
       "      <td>43.4</td>\n",
       "      <td>208250</td>\n",
       "      <td>NaN</td>\n",
       "      <td>picr_0</td>\n",
       "      <td>185649</td>\n",
       "      <td>185806</td>\n",
       "      <td>-</td>\n",
       "      <td>gene_4_3</td>\n",
       "      <td>A4GALT</td>\n",
       "      <td>asmbl_30</td>\n",
       "      <td>[Brain_START2_and_Brain_STARTinput1, Brain_GRO...</td>\n",
       "      <td>True</td>\n",
       "      <td>2</td>\n",
       "    </tr>\n",
       "  </tbody>\n",
       "</table>\n",
       "</div>"
      ],
      "text/plain": [
       "                                                     peaks  \\\n",
       "SERHL    [50311, 55675, 90764, 107911, 109040, 111314, ...   \n",
       "RRP7A    [2024, 9126, 16568, 17246, 31465, 45620, 57441...   \n",
       "POLDIP3  [10516, 35365, 56536, 67616, 72210, 122731, 14...   \n",
       "CYB5R3   [3383, 12381, 82328, 85156, 110522, 132949, 15...   \n",
       "A4GALT   [7861, 14511, 22244, 46573, 46858, 47181, 6782...   \n",
       "\n",
       "         closest_to_X_numberOfPeaks                   bin_-1000_100  \\\n",
       "SERHL                            13  [55675, 90764, 163581, 330984]   \n",
       "RRP7A                            44                [104402, 138452]   \n",
       "POLDIP3                          42         [10516, 159928, 337166]   \n",
       "CYB5R3                           17         [82328, 250779, 475428]   \n",
       "A4GALT                           45        [162676, 208250, 339761]   \n",
       "\n",
       "        sameStrand_bin_-1000_100  \\\n",
       "SERHL            [55675, 330984]   \n",
       "RRP7A                   [138452]   \n",
       "POLDIP3                 [159928]   \n",
       "CYB5R3          [250779, 475428]   \n",
       "A4GALT          [208250, 339761]   \n",
       "\n",
       "                                                   samples  minDistance  \\\n",
       "SERHL    [Brain_START2_and_Brain_STARTinput1, Brain_GRO...         31.0   \n",
       "RRP7A    [Brain_START2_and_Brain_STARTinput1, Brain_GRO...         24.0   \n",
       "POLDIP3  [Brain_START2_and_Brain_STARTinput1, Brain_GRO...        -24.0   \n",
       "CYB5R3   [FemaleReproductive_START1_and_FemaleReproduct...          0.0   \n",
       "A4GALT   [Brain_START2_and_Brain_STARTinput1, Brain_GRO...          5.0   \n",
       "\n",
       "        minDistancePeak maxValue maxPeakId maxSample      Chr     Start  \\\n",
       "SERHL             55675     3321    330984       NaN  picr_74  10067654   \n",
       "RRP7A            138452     17.4    138452       NaN   picr_0     44409   \n",
       "POLDIP3          159928       42    159928       NaN   picr_0     78142   \n",
       "CYB5R3           250779     4.51    250779       NaN   picr_0     92125   \n",
       "A4GALT           339761     43.4    208250       NaN   picr_0    185649   \n",
       "\n",
       "              End Strand       gene_id     gene   transcript  \\\n",
       "SERHL    10067857      +  gene_26628_1    SERHL  asmbl_75212   \n",
       "RRP7A       44569      -        gene_2    RRP7A     asmbl_10   \n",
       "POLDIP3     78416      -      gene_3_1  POLDIP3     asmbl_19   \n",
       "CYB5R3      92275      -      gene_3_2   CYB5R3     asmbl_20   \n",
       "A4GALT     185806      -      gene_4_3   A4GALT     asmbl_30   \n",
       "\n",
       "                                                maxSamples  hasGene  \\\n",
       "SERHL    [FemaleReproductive_START1_and_FemaleReproduct...     True   \n",
       "RRP7A    [Brain_START2_and_Brain_STARTinput1, Brain_GRO...     True   \n",
       "POLDIP3  [Brain_START2_and_Brain_STARTinput1, Brain_GRO...     True   \n",
       "CYB5R3                    [BMDMwt_GROCap1_and_BMDMwt_GRO1]     True   \n",
       "A4GALT   [Brain_START2_and_Brain_STARTinput1, Brain_GRO...     True   \n",
       "\n",
       "         Number of SS  \n",
       "SERHL               2  \n",
       "RRP7A               1  \n",
       "POLDIP3             1  \n",
       "CYB5R3              2  \n",
       "A4GALT              2  "
      ]
     },
     "execution_count": 7,
     "metadata": {},
     "output_type": "execute_result"
    }
   ],
   "source": [
    "anno_df = pickle.load(open(anno_f,\"rb\"))\n",
    "anno_df.head()"
   ]
  },
  {
   "cell_type": "code",
   "execution_count": 8,
   "metadata": {
    "ExecuteTime": {
     "end_time": "2018-11-14T00:28:18.391133Z",
     "start_time": "2018-11-14T00:28:18.356050Z"
    },
    "scrolled": true
   },
   "outputs": [
    {
     "data": {
      "text/plain": [
       "SERHL           330984\n",
       "RRP7A           138452\n",
       "POLDIP3         159928\n",
       "CYB5R3          250779\n",
       "A4GALT          208250\n",
       "ARFGAP3         428140\n",
       "PACSIN2         334894\n",
       "TTLL1           106544\n",
       "BIK             385031\n",
       "MCAT            222772\n",
       "TTLL12             927\n",
       "TSPO             38152\n",
       "SCUBE1          381895\n",
       "MPPED1           62515\n",
       "EFCAB6          228076\n",
       "SULT4A1         429002\n",
       "PNPLA5          247400\n",
       "PARVB            90968\n",
       "PNPLA3          455155\n",
       "SAMM50          330889\n",
       "PARVG           165306\n",
       "RTL6             99218\n",
       "PRR5            314394\n",
       "ARHGAP8         335031\n",
       "PHF21B          339225\n",
       "RPL10            33906\n",
       "NUP50           296088\n",
       "K0930_MOUSE     332007\n",
       "UPK3A            83279\n",
       "FAM118A           8951\n",
       "                 ...  \n",
       "MUC12              NaN\n",
       "ACHE               NaN\n",
       "SRRT              8411\n",
       "SLC12A9            NaN\n",
       "EPHB4           110149\n",
       "EPO                NaN\n",
       "POP7               NaN\n",
       "GIGYF1          165974\n",
       "GNB2             55894\n",
       "TFR2            296858\n",
       "ACTL6B          429081\n",
       "MOSPD3             NaN\n",
       "PCOLCE          315543\n",
       "FBXO24          342893\n",
       "LRCH4            92373\n",
       "AGFG2           163334\n",
       "NYAP1           162775\n",
       "TSC22D4         437541\n",
       "CG061_RAT       236132\n",
       "PPP1R35            NaN\n",
       "MEPCE              NaN\n",
       "ZCWPW1           51478\n",
       "LOC100753493       NaN\n",
       "NOVA1            19821\n",
       "STXBP6            9003\n",
       "NRCAM           166238\n",
       "PNPLA8          299216\n",
       "DNAJB9          299223\n",
       "LRRN3           306449\n",
       "KV3AK_MOUSE        NaN\n",
       "Name: maxPeakId, Length: 17246, dtype: object"
      ]
     },
     "execution_count": 8,
     "metadata": {},
     "output_type": "execute_result"
    }
   ],
   "source": [
    "anno_df[\"maxPeakId\"]"
   ]
  },
  {
   "cell_type": "code",
   "execution_count": 4,
   "metadata": {
    "ExecuteTime": {
     "end_time": "2018-11-09T22:48:40.179625Z",
     "start_time": "2018-11-09T22:48:40.160402Z"
    },
    "collapsed": true
   },
   "outputs": [],
   "source": [
    "outdir = \"Results/tss_annotation_peaks/\""
   ]
  },
  {
   "cell_type": "code",
   "execution_count": 5,
   "metadata": {
    "ExecuteTime": {
     "end_time": "2018-11-09T22:48:47.022876Z",
     "start_time": "2018-11-09T22:48:40.181638Z"
    },
    "scrolled": true
   },
   "outputs": [
    {
     "name": "stderr",
     "output_type": "stream",
     "text": [
      "/home/isshamie/software/anaconda2/lib/python2.7/site-packages/IPython/core/interactiveshell.py:2827: DtypeWarning: Columns (8,9,10,11,12,13,14,15,16,17,18,19,20,21,22,23,24,25,26,27,28,29,30,31,32,33,34,35,36,37,38,39,40,41) have mixed types. Specify dtype option on import or set low_memory=False.\n",
      "  if self.run_code(code, result):\n"
     ]
    }
   ],
   "source": [
    "output_f = \"Results/tss_annotation_peaks/all_peaks_gene_df_01.tsv\"\n",
    "annotation.retrieve_all_peaks_from_anno(anno_f, merged_f, output_f)"
   ]
  },
  {
   "cell_type": "code",
   "execution_count": 9,
   "metadata": {
    "ExecuteTime": {
     "end_time": "2018-11-14T00:30:59.547032Z",
     "start_time": "2018-11-14T00:30:47.271157Z"
    },
    "scrolled": true
   },
   "outputs": [],
   "source": [
    "output_f = \"Results/tss_annotation_peaks/all_peaks_max_gene_df_01.tsv\"\n",
    "annotation.retrieve_all_peaks_from_anno(anno_f, merged_f, output_f,is_max=True)"
   ]
  },
  {
   "cell_type": "code",
   "execution_count": 6,
   "metadata": {
    "ExecuteTime": {
     "end_time": "2018-11-09T22:59:01.170441Z",
     "start_time": "2018-11-09T22:48:47.025711Z"
    }
   },
   "outputs": [
    {
     "name": "stderr",
     "output_type": "stream",
     "text": [
      "/home/isshamie/software/anaconda2/lib/python2.7/site-packages/IPython/core/interactiveshell.py:2821: DtypeWarning: Columns (8,9,10,11,12,13,14,15,16,17,18,19,20,21,22,23,24,25,26,27,28,29,30,31,32,33,34,35,36,37,38,39,40,41) have mixed types. Specify dtype option on import or set low_memory=False.\n",
      "  if self.run_code(code, result):\n"
     ]
    }
   ],
   "source": [
    "for sample_name in glob.glob(\"f04_peaks/*\"):\n",
    "    # Merged sample file\n",
    "    output_f = os.path.join(outdir,\"merged_\" + os.path.basename(sample_name) + '.tsv')\n",
    "    annotation.retrieve_sample_peaks_from_anno(anno_f, merged_f, output_f,\n",
    "                                        sample_name, sample_f=None,\n",
    "                                        col_name=None,\n",
    "                                        use_sample_peaks=False)\n",
    "    # Original sample file\n",
    "    output_f = os.path.join(outdir,\"sample_\" + os.path.basename(sample_name) + '.tsv')\n",
    "    annotation.retrieve_sample_peaks_from_anno(anno_f, merged_f, output_f,\n",
    "                                        sample_name, sample_f=sample_name,\n",
    "                                        col_name=None,\n",
    "                                        use_sample_peaks=True)    \n",
    "\n"
   ]
  }
 ],
 "metadata": {
  "kernelspec": {
   "display_name": "Python 2",
   "language": "python",
   "name": "python2"
  },
  "language_info": {
   "codemirror_mode": {
    "name": "ipython",
    "version": 2
   },
   "file_extension": ".py",
   "mimetype": "text/x-python",
   "name": "python",
   "nbconvert_exporter": "python",
   "pygments_lexer": "ipython2",
   "version": "2.7.13"
  }
 },
 "nbformat": 4,
 "nbformat_minor": 2
}
