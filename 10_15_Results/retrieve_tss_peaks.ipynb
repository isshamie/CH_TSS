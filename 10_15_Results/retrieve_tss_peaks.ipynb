{
 "cells": [
  {
   "cell_type": "code",
   "execution_count": 1,
   "metadata": {
    "ExecuteTime": {
     "end_time": "2018-11-09T22:48:40.110962Z",
     "start_time": "2018-11-09T22:48:39.222665Z"
    },
    "scrolled": true
   },
   "outputs": [
    {
     "name": "stdout",
     "output_type": "stream",
     "text": [
      "('Number of tissues: ', 15)\n"
     ]
    }
   ],
   "source": [
    "## Parameters specific to where your folders are and your data\n",
    "parameter_file = 'params/params.yaml'\n",
    "import yaml\n",
    "import sys\n",
    "\n",
    "with open(parameter_file,'r') as f:\n",
    "    doc = yaml.load(f)\n",
    "\n",
    "#p = dic2obj(**doc)\n",
    "\n",
    "data_folder = doc['data_folder']\n",
    "tissues = doc['tissues'].split(',')\n",
    "sys.path.append(doc['pipeline_path'])\n",
    "ref_fa = doc['ref_fa']\n",
    "anno_gff=doc['annotation']\n",
    "\n",
    "\n",
    "tss_annotation = doc['tss_annotation']\n",
    "\n",
    "\n",
    "import os\n",
    "os.chdir\n",
    "import sys\n",
    "import pandas as pd\n",
    "import matplotlib\n",
    "import seaborn as sns\n",
    "import pickle\n",
    "import numpy as np\n",
    "import matplotlib as mpl\n",
    "from matplotlib import pyplot as plt\n",
    "from itertools import product\n",
    "import glob\n",
    "import re\n",
    "from matplotlib_venn import venn2\n",
    "from matplotlib import rcParams\n",
    "import inspect\n",
    "%matplotlib inline\n",
    "%config InlineBackend.figure_format = 'retina'\n",
    "sys.setrecursionlimit(3000)\n",
    "%load_ext autoreload\n",
    "%autoreload 2\n",
    "rcParams['figure.figsize'] = 8, 6\n",
    "import tqdm\n",
    "\n",
    "from os.path import basename\n",
    "##mpl.use('Agg')\n",
    "#mpl.style.use('ggplot')\n",
    "#mpl.style.use('fivethirtyeight')\n",
    "from Homer import *\n",
    "import annotation\n",
    "print('Number of tissues: ',len(tissues))"
   ]
  },
  {
   "cell_type": "code",
   "execution_count": 2,
   "metadata": {
    "ExecuteTime": {
     "end_time": "2018-11-09T22:48:40.135875Z",
     "start_time": "2018-11-09T22:48:40.113180Z"
    }
   },
   "outputs": [],
   "source": [
    "if not os.path.exists(\"Results/tss_annotation_peaks\"):\n",
    "    os.mkdir(\"Results/tss_annotation_peaks\")\n"
   ]
  },
  {
   "cell_type": "code",
   "execution_count": 3,
   "metadata": {
    "ExecuteTime": {
     "end_time": "2018-11-09T22:48:40.158334Z",
     "start_time": "2018-11-09T22:48:40.138071Z"
    },
    "collapsed": true
   },
   "outputs": [],
   "source": [
    "anno_f = 'Results/tss_annotation/gene_df_01.p'\n",
    "merged_f = \"Results/merged/samples.merge\""
   ]
  },
  {
   "cell_type": "code",
   "execution_count": 4,
   "metadata": {
    "ExecuteTime": {
     "end_time": "2018-11-09T22:48:40.179625Z",
     "start_time": "2018-11-09T22:48:40.160402Z"
    },
    "collapsed": true
   },
   "outputs": [],
   "source": [
    "outdir = \"Results/tss_annotation_peaks/\""
   ]
  },
  {
   "cell_type": "code",
   "execution_count": 5,
   "metadata": {
    "ExecuteTime": {
     "end_time": "2018-11-09T22:48:47.022876Z",
     "start_time": "2018-11-09T22:48:40.181638Z"
    }
   },
   "outputs": [
    {
     "name": "stderr",
     "output_type": "stream",
     "text": [
      "/home/isshamie/software/anaconda2/lib/python2.7/site-packages/IPython/core/interactiveshell.py:2827: DtypeWarning: Columns (8,9,10,11,12,13,14,15,16,17,18,19,20,21,22,23,24,25,26,27,28,29,30,31,32,33,34,35,36,37,38,39,40,41) have mixed types. Specify dtype option on import or set low_memory=False.\n",
      "  if self.run_code(code, result):\n"
     ]
    }
   ],
   "source": [
    "output_f = \"Results/tss_annotation_peaks/all_peaks_gene_df_01.tsv\"\n",
    "annotation.retrieve_all_peaks_from_anno(anno_f, merged_f, output_f)"
   ]
  },
  {
   "cell_type": "code",
   "execution_count": 6,
   "metadata": {
    "ExecuteTime": {
     "end_time": "2018-11-09T22:59:01.170441Z",
     "start_time": "2018-11-09T22:48:47.025711Z"
    }
   },
   "outputs": [
    {
     "name": "stderr",
     "output_type": "stream",
     "text": [
      "/home/isshamie/software/anaconda2/lib/python2.7/site-packages/IPython/core/interactiveshell.py:2821: DtypeWarning: Columns (8,9,10,11,12,13,14,15,16,17,18,19,20,21,22,23,24,25,26,27,28,29,30,31,32,33,34,35,36,37,38,39,40,41) have mixed types. Specify dtype option on import or set low_memory=False.\n",
      "  if self.run_code(code, result):\n"
     ]
    }
   ],
   "source": [
    "for sample_name in glob.glob(\"f04_peaks/*\"):\n",
    "    # Merged sample file\n",
    "    output_f = os.path.join(outdir,\"merged_\" + os.path.basename(sample_name) + '.tsv')\n",
    "    annotation.retrieve_sample_peaks_from_anno(anno_f, merged_f, output_f,\n",
    "                                        sample_name, sample_f=None,\n",
    "                                        col_name=None,\n",
    "                                        use_sample_peaks=False)\n",
    "    # Original sample file\n",
    "    output_f = os.path.join(outdir,\"sample_\" + os.path.basename(sample_name) + '.tsv')\n",
    "    annotation.retrieve_sample_peaks_from_anno(anno_f, merged_f, output_f,\n",
    "                                        sample_name, sample_f=sample_name,\n",
    "                                        col_name=None,\n",
    "                                        use_sample_peaks=True)    \n",
    "\n"
   ]
  }
 ],
 "metadata": {
  "kernelspec": {
   "display_name": "Python 2",
   "language": "python",
   "name": "python2"
  },
  "language_info": {
   "codemirror_mode": {
    "name": "ipython",
    "version": 2
   },
   "file_extension": ".py",
   "mimetype": "text/x-python",
   "name": "python",
   "nbconvert_exporter": "python",
   "pygments_lexer": "ipython2",
   "version": "2.7.13"
  }
 },
 "nbformat": 4,
 "nbformat_minor": 2
}
