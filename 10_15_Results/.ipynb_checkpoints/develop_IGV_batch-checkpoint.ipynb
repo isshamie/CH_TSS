{
 "cells": [
  {
   "cell_type": "code",
   "execution_count": 1,
   "metadata": {
    "ExecuteTime": {
     "end_time": "2018-12-18T01:14:02.398863Z",
     "start_time": "2018-12-18T01:14:02.296431Z"
    },
    "collapsed": true
   },
   "outputs": [],
   "source": [
    "## Parameters specific to where your folders are and your data\n",
    "parameter_file = 'params/params.yaml'\n",
    "import yaml\n",
    "import sys\n",
    "\n",
    "with open(parameter_file,'r') as f:\n",
    "    doc = yaml.load(f)\n",
    "\n",
    "#p = dic2obj(**doc)\n",
    "\n",
    "data_folder = doc['data_folder']\n",
    "tissues = doc['tissues'].split(',')\n",
    "sys.path.append(doc['pipeline_path'])\n",
    "ref_fa = doc['ref_fa']\n",
    "annotation=doc['annotation']\n"
   ]
  },
  {
   "cell_type": "code",
   "execution_count": 2,
   "metadata": {
    "ExecuteTime": {
     "end_time": "2018-12-18T01:14:02.407200Z",
     "start_time": "2018-12-18T01:14:02.402541Z"
    },
    "collapsed": true
   },
   "outputs": [],
   "source": [
    "tss_annotation = doc['tss_annotation']"
   ]
  },
  {
   "cell_type": "code",
   "execution_count": 3,
   "metadata": {
    "ExecuteTime": {
     "end_time": "2018-12-18T01:14:03.549859Z",
     "start_time": "2018-12-18T01:14:02.410904Z"
    },
    "scrolled": true
   },
   "outputs": [
    {
     "name": "stdout",
     "output_type": "stream",
     "text": [
      "('Number of tissues: ', 15)\n"
     ]
    }
   ],
   "source": [
    "\n",
    "import os\n",
    "import sys\n",
    "import pandas as pd\n",
    "import matplotlib\n",
    "import seaborn as sns\n",
    "import pickle\n",
    "import numpy as np\n",
    "import matplotlib as mpl\n",
    "from matplotlib import pyplot as plt\n",
    "from itertools import product\n",
    "import glob\n",
    "import re\n",
    "from matplotlib_venn import venn2\n",
    "from matplotlib import rcParams\n",
    "import inspect\n",
    "%matplotlib inline\n",
    "%config InlineBackend.figure_format = 'retina'\n",
    "sys.setrecursionlimit(3000)\n",
    "%load_ext autoreload\n",
    "%autoreload 2\n",
    "rcParams['figure.figsize'] = 8, 6\n",
    "import tqdm\n",
    "### notebook specific configuration ###\n",
    "from os.path import basename\n",
    "#mpl.style.use('ggplot')\n",
    "mpl.style.use('fivethirtyeight')\n",
    "from cycler import cycler\n",
    "mpl.rcParams['axes.prop_cycle'] = cycler(color='bgrcmyk')\n",
    "\n",
    "from Homer import *\n",
    "\n",
    "print('Number of tissues: ',len(tissues))"
   ]
  },
  {
   "cell_type": "code",
   "execution_count": 4,
   "metadata": {
    "ExecuteTime": {
     "end_time": "2018-12-18T01:14:03.594722Z",
     "start_time": "2018-12-18T01:14:03.552316Z"
    },
    "collapsed": true
   },
   "outputs": [],
   "source": [
    "genes_to_look = ['MGAT3','ID1']"
   ]
  },
  {
   "cell_type": "code",
   "execution_count": 5,
   "metadata": {
    "ExecuteTime": {
     "end_time": "2018-12-18T01:14:03.637523Z",
     "start_time": "2018-12-18T01:14:03.598170Z"
    },
    "collapsed": true
   },
   "outputs": [],
   "source": [
    "bed_files = []\n",
    "signal_files = []"
   ]
  },
  {
   "cell_type": "code",
   "execution_count": 6,
   "metadata": {
    "ExecuteTime": {
     "end_time": "2018-12-18T01:14:03.679960Z",
     "start_time": "2018-12-18T01:14:03.641831Z"
    },
    "collapsed": true
   },
   "outputs": [],
   "source": [
    "serv = '/mnt/jabba'\n",
    "#serv=''"
   ]
  },
  {
   "cell_type": "markdown",
   "metadata": {},
   "source": [
    "### First batch: Load a few bedgraph files and some bed regions"
   ]
  },
  {
   "cell_type": "code",
   "execution_count": 7,
   "metadata": {
    "ExecuteTime": {
     "end_time": "2018-12-18T01:14:03.730577Z",
     "start_time": "2018-12-18T01:14:03.683834Z"
    },
    "collapsed": true
   },
   "outputs": [],
   "source": [
    "\n",
    "igv_script = \"\"\"new\n",
    "genome {serv}/data/isshamie/genome/picr_final/picr.fa\n",
    "load {serv}/data/isshamie/genome/picr_final/final.gff3\n",
    "\n",
    "load {serv}/data/isshamie/TSS/Analysis/10_15_Results/Results/output/TSS1.bed\n",
    "\n",
    "snapshotDirectory {serv}/data/isshamie/TSS/Analysis/10_15_Results/Results/igv_snapshots\n",
    "\n",
    "# CHO\n",
    "load {serv}{data_folder}/CHO/ATAC/out/signal/macs2/pooled_rep/CHO_ATAC1.trim.nodup.tn5_CHO_ATAC3.trim.nodup.tn5.pf.pval.signal.bigwig\n",
    "load {serv}{data_folder}/CHO/GROCap/bedgraph_files/trim_CHO_GRO1.bedgraph.gz \n",
    "load {serv}{data_folder}/CHO/GROCap/bedgraph_files/trim_CHO_GROCap1.bedgraph.gz \n",
    "\n",
    "# Kidney\n",
    "load {serv}{data_folder}/Kidney/GRO/bedgraph_files/trim_Kidney_GRO1.bedgraph.gz \n",
    "load {serv}{data_folder}/Kidney/GRO/bedgraph_files/trim_Kidney_GROCap1.bedgraph.gz \n",
    "\n",
    "# Brain\n",
    "load {serv}{data_folder}/Brain/ATAC/out/signal/macs2/rep1/Brain_ATAC1.trim.nodup.tn5.pf.pval.signal.bigwig\n",
    "load {serv}{data_folder}/Brain/GRO/bedgraph_files/trim_Brain_GROCap1.bedgraph.gz \n",
    "load {serv}{data_folder}/Brain/GRO/bedgraph_files/trim_Brain_GRO1.bedgraph.gz \n",
    "\n",
    "#Liver \n",
    "load {serv}{data_folder}/Liver/GRO/bedgraph_files/trim_Liver_GROCap1.bedgraph.gz\n",
    "load {serv}{data_folder}/Liver/ATAC/out/signal/macs2/rep1/Liver_ATAC1.trim.nodup.tn5.pf.pval.signal.bigwig\n",
    "\\n\n",
    "\"\"\".format(serv=serv,data_folder=data_folder)"
   ]
  },
  {
   "cell_type": "code",
   "execution_count": 8,
   "metadata": {
    "ExecuteTime": {
     "end_time": "2018-12-18T01:14:03.775573Z",
     "start_time": "2018-12-18T01:14:03.734813Z"
    }
   },
   "outputs": [
    {
     "data": {
      "text/plain": [
       "'new\\ngenome /mnt/jabba/data/isshamie/genome/picr_final/picr.fa\\nload /mnt/jabba/data/isshamie/genome/picr_final/final.gff3\\n\\nload /mnt/jabba/data/isshamie/TSS/Analysis/10_15_Results/Results/output/TSS1.bed\\n\\nsnapshotDirectory /mnt/jabba/data/isshamie/TSS/Analysis/10_15_Results/Results/igv_snapshots\\n\\n# CHO\\nload /mnt/jabba/data/isshamie/TSS/1015_Processed//CHO/ATAC/out/signal/macs2/pooled_rep/CHO_ATAC1.trim.nodup.tn5_CHO_ATAC3.trim.nodup.tn5.pf.pval.signal.bigwig\\nload /mnt/jabba/data/isshamie/TSS/1015_Processed//CHO/GROCap/bedgraph_files/trim_CHO_GRO1.bedgraph.gz \\nload /mnt/jabba/data/isshamie/TSS/1015_Processed//CHO/GROCap/bedgraph_files/trim_CHO_GROCap1.bedgraph.gz \\n\\n# Kidney\\nload /mnt/jabba/data/isshamie/TSS/1015_Processed//Kidney/GRO/bedgraph_files/trim_Kidney_GRO1.bedgraph.gz \\nload /mnt/jabba/data/isshamie/TSS/1015_Processed//Kidney/GRO/bedgraph_files/trim_Kidney_GROCap1.bedgraph.gz \\n\\n# Brain\\nload /mnt/jabba/data/isshamie/TSS/1015_Processed//Brain/ATAC/out/signal/macs2/rep1/Brain_ATAC1.trim.nodup.tn5.pf.pval.signal.bigwig\\nload /mnt/jabba/data/isshamie/TSS/1015_Processed//Brain/GRO/bedgraph_files/trim_Brain_GROCap1.bedgraph.gz \\nload /mnt/jabba/data/isshamie/TSS/1015_Processed//Brain/GRO/bedgraph_files/trim_Brain_GRO1.bedgraph.gz \\n\\n#Liver \\nload /mnt/jabba/data/isshamie/TSS/1015_Processed//Liver/GRO/bedgraph_files/trim_Liver_GROCap1.bedgraph.gz\\nload /mnt/jabba/data/isshamie/TSS/1015_Processed//Liver/ATAC/out/signal/macs2/rep1/Liver_ATAC1.trim.nodup.tn5.pf.pval.signal.bigwig\\n\\n\\n'"
      ]
     },
     "execution_count": 8,
     "metadata": {},
     "output_type": "execute_result"
    }
   ],
   "source": [
    "igv_script"
   ]
  },
  {
   "cell_type": "code",
   "execution_count": 9,
   "metadata": {
    "ExecuteTime": {
     "end_time": "2018-12-18T01:14:03.814245Z",
     "start_time": "2018-12-18T01:14:03.778504Z"
    },
    "collapsed": true
   },
   "outputs": [],
   "source": [
    "vary_width = [0,100,1000,10000]"
   ]
  },
  {
   "cell_type": "code",
   "execution_count": 10,
   "metadata": {
    "ExecuteTime": {
     "end_time": "2018-12-18T01:14:03.875232Z",
     "start_time": "2018-12-18T01:14:03.818055Z"
    },
    "collapsed": true
   },
   "outputs": [],
   "source": [
    "regions = [\n",
    "['picr_2',8638555,8639172,'ID1'],\n",
    "['picr_74',7465451,7465601,'MGAT3_Brain'] ,\n",
    "['picr_74',7466352,7466502,'MGAT3_Kidney_1'],\n",
    "['picr_74',7475954,7476104,'MGAT3_Kidney_2_Highest'],\n",
    "['picr_0',5852406,5866560,'PANX2_no_CHO'],\n",
    "['picr_0',5881056,5892250,'SELENOO_no_CHO'],\n",
    "['picr_0',5892070,5910618,'TUBGCP6 no_CHO'],\n",
    "['picr_0',6216619,6227286,'MAPK8IP2_no_CHO'],\n",
    "    \n",
    "['picr_0',79309482,79309669,'Merged-picr_0-79309582-3_Liver'],\n",
    "['picr_0',79557138,79557303,'Merged-picr_0-79557222-7_Liver'],\n",
    "['picr_0',79729634,79729788,'Merged-picr_0-79729712-2_Liver'],\n",
    "['picr_1',1030823,1031038,'Merged-picr_1-1030923-11_Liver'],\n",
    "['picr_1',2503367,2503587,'Merged-picr_1-2503484-11_Liver'],\n",
    "['picr_1',4682533,4682713,'Merged-picr_1-4682618-11_Liver']\n",
    "]"
   ]
  },
  {
   "cell_type": "code",
   "execution_count": 11,
   "metadata": {
    "ExecuteTime": {
     "end_time": "2018-12-18T01:14:03.922476Z",
     "start_time": "2018-12-18T01:14:03.879225Z"
    },
    "collapsed": true
   },
   "outputs": [],
   "source": [
    "snaps = ''\n",
    "for curr in regions:\n",
    "    for w in vary_width :\n",
    "        snaps = snaps + 'goto {chrom}:{start}-{end}\\nsort\\ncollapse\\nsnapshot {name}_{w}\\n'.format(\n",
    "        chrom=curr[0],start=curr[1]-w,end=curr[2]+w,name=curr[3],w=w)"
   ]
  },
  {
   "cell_type": "code",
   "execution_count": 12,
   "metadata": {
    "ExecuteTime": {
     "end_time": "2018-12-18T01:14:03.971110Z",
     "start_time": "2018-12-18T01:14:03.926147Z"
    },
    "scrolled": true
   },
   "outputs": [
    {
     "data": {
      "text/plain": [
       "'goto picr_2:8638555-8639172\\nsort\\ncollapse\\nsnapshot ID1_0\\ngoto picr_2:8638455-8639272\\nsort\\ncollapse\\nsnapshot ID1_100\\ngoto picr_2:8637555-8640172\\nsort\\ncollapse\\nsnapshot ID1_1000\\ngoto picr_2:8628555-8649172\\nsort\\ncollapse\\nsnapshot ID1_10000\\ngoto picr_74:7465451-7465601\\nsort\\ncollapse\\nsnapshot MGAT3_Brain_0\\ngoto picr_74:7465351-7465701\\nsort\\ncollapse\\nsnapshot MGAT3_Brain_100\\ngoto picr_74:7464451-7466601\\nsort\\ncollapse\\nsnapshot MGAT3_Brain_1000\\ngoto picr_74:7455451-7475601\\nsort\\ncollapse\\nsnapshot MGAT3_Brain_10000\\ngoto picr_74:7466352-7466502\\nsort\\ncollapse\\nsnapshot MGAT3_Kidney_1_0\\ngoto picr_74:7466252-7466602\\nsort\\ncollapse\\nsnapshot MGAT3_Kidney_1_100\\ngoto picr_74:7465352-7467502\\nsort\\ncollapse\\nsnapshot MGAT3_Kidney_1_1000\\ngoto picr_74:7456352-7476502\\nsort\\ncollapse\\nsnapshot MGAT3_Kidney_1_10000\\ngoto picr_74:7475954-7476104\\nsort\\ncollapse\\nsnapshot MGAT3_Kidney_2_Highest_0\\ngoto picr_74:7475854-7476204\\nsort\\ncollapse\\nsnapshot MGAT3_Kidney_2_Highest_100\\ngoto picr_74:7474954-7477104\\nsort\\ncollapse\\nsnapshot MGAT3_Kidney_2_Highest_1000\\ngoto picr_74:7465954-7486104\\nsort\\ncollapse\\nsnapshot MGAT3_Kidney_2_Highest_10000\\ngoto picr_0:5852406-5866560\\nsort\\ncollapse\\nsnapshot PANX2_no_CHO_0\\ngoto picr_0:5852306-5866660\\nsort\\ncollapse\\nsnapshot PANX2_no_CHO_100\\ngoto picr_0:5851406-5867560\\nsort\\ncollapse\\nsnapshot PANX2_no_CHO_1000\\ngoto picr_0:5842406-5876560\\nsort\\ncollapse\\nsnapshot PANX2_no_CHO_10000\\ngoto picr_0:5881056-5892250\\nsort\\ncollapse\\nsnapshot SELENOO_no_CHO_0\\ngoto picr_0:5880956-5892350\\nsort\\ncollapse\\nsnapshot SELENOO_no_CHO_100\\ngoto picr_0:5880056-5893250\\nsort\\ncollapse\\nsnapshot SELENOO_no_CHO_1000\\ngoto picr_0:5871056-5902250\\nsort\\ncollapse\\nsnapshot SELENOO_no_CHO_10000\\ngoto picr_0:5892070-5910618\\nsort\\ncollapse\\nsnapshot TUBGCP6 no_CHO_0\\ngoto picr_0:5891970-5910718\\nsort\\ncollapse\\nsnapshot TUBGCP6 no_CHO_100\\ngoto picr_0:5891070-5911618\\nsort\\ncollapse\\nsnapshot TUBGCP6 no_CHO_1000\\ngoto picr_0:5882070-5920618\\nsort\\ncollapse\\nsnapshot TUBGCP6 no_CHO_10000\\ngoto picr_0:6216619-6227286\\nsort\\ncollapse\\nsnapshot MAPK8IP2_no_CHO_0\\ngoto picr_0:6216519-6227386\\nsort\\ncollapse\\nsnapshot MAPK8IP2_no_CHO_100\\ngoto picr_0:6215619-6228286\\nsort\\ncollapse\\nsnapshot MAPK8IP2_no_CHO_1000\\ngoto picr_0:6206619-6237286\\nsort\\ncollapse\\nsnapshot MAPK8IP2_no_CHO_10000\\ngoto picr_0:79309482-79309669\\nsort\\ncollapse\\nsnapshot Merged-picr_0-79309582-3_Liver_0\\ngoto picr_0:79309382-79309769\\nsort\\ncollapse\\nsnapshot Merged-picr_0-79309582-3_Liver_100\\ngoto picr_0:79308482-79310669\\nsort\\ncollapse\\nsnapshot Merged-picr_0-79309582-3_Liver_1000\\ngoto picr_0:79299482-79319669\\nsort\\ncollapse\\nsnapshot Merged-picr_0-79309582-3_Liver_10000\\ngoto picr_0:79557138-79557303\\nsort\\ncollapse\\nsnapshot Merged-picr_0-79557222-7_Liver_0\\ngoto picr_0:79557038-79557403\\nsort\\ncollapse\\nsnapshot Merged-picr_0-79557222-7_Liver_100\\ngoto picr_0:79556138-79558303\\nsort\\ncollapse\\nsnapshot Merged-picr_0-79557222-7_Liver_1000\\ngoto picr_0:79547138-79567303\\nsort\\ncollapse\\nsnapshot Merged-picr_0-79557222-7_Liver_10000\\ngoto picr_0:79729634-79729788\\nsort\\ncollapse\\nsnapshot Merged-picr_0-79729712-2_Liver_0\\ngoto picr_0:79729534-79729888\\nsort\\ncollapse\\nsnapshot Merged-picr_0-79729712-2_Liver_100\\ngoto picr_0:79728634-79730788\\nsort\\ncollapse\\nsnapshot Merged-picr_0-79729712-2_Liver_1000\\ngoto picr_0:79719634-79739788\\nsort\\ncollapse\\nsnapshot Merged-picr_0-79729712-2_Liver_10000\\ngoto picr_1:1030823-1031038\\nsort\\ncollapse\\nsnapshot Merged-picr_1-1030923-11_Liver_0\\ngoto picr_1:1030723-1031138\\nsort\\ncollapse\\nsnapshot Merged-picr_1-1030923-11_Liver_100\\ngoto picr_1:1029823-1032038\\nsort\\ncollapse\\nsnapshot Merged-picr_1-1030923-11_Liver_1000\\ngoto picr_1:1020823-1041038\\nsort\\ncollapse\\nsnapshot Merged-picr_1-1030923-11_Liver_10000\\ngoto picr_1:2503367-2503587\\nsort\\ncollapse\\nsnapshot Merged-picr_1-2503484-11_Liver_0\\ngoto picr_1:2503267-2503687\\nsort\\ncollapse\\nsnapshot Merged-picr_1-2503484-11_Liver_100\\ngoto picr_1:2502367-2504587\\nsort\\ncollapse\\nsnapshot Merged-picr_1-2503484-11_Liver_1000\\ngoto picr_1:2493367-2513587\\nsort\\ncollapse\\nsnapshot Merged-picr_1-2503484-11_Liver_10000\\ngoto picr_1:4682533-4682713\\nsort\\ncollapse\\nsnapshot Merged-picr_1-4682618-11_Liver_0\\ngoto picr_1:4682433-4682813\\nsort\\ncollapse\\nsnapshot Merged-picr_1-4682618-11_Liver_100\\ngoto picr_1:4681533-4683713\\nsort\\ncollapse\\nsnapshot Merged-picr_1-4682618-11_Liver_1000\\ngoto picr_1:4672533-4692713\\nsort\\ncollapse\\nsnapshot Merged-picr_1-4682618-11_Liver_10000\\n'"
      ]
     },
     "execution_count": 12,
     "metadata": {},
     "output_type": "execute_result"
    }
   ],
   "source": [
    "snaps"
   ]
  },
  {
   "cell_type": "code",
   "execution_count": 13,
   "metadata": {
    "ExecuteTime": {
     "end_time": "2018-12-18T01:14:04.019185Z",
     "start_time": "2018-12-18T01:14:03.974461Z"
    },
    "collapsed": true
   },
   "outputs": [],
   "source": [
    "batch = igv_script+snaps\n",
    "with open('Results/igv_snapshots/igv_batch.bat','w') as f:\n",
    "    f.write(batch)"
   ]
  },
  {
   "cell_type": "markdown",
   "metadata": {},
   "source": [
    "----------"
   ]
  },
  {
   "cell_type": "markdown",
   "metadata": {},
   "source": [
    "----------"
   ]
  },
  {
   "cell_type": "markdown",
   "metadata": {},
   "source": [
    "### Second: Load every single peak file and the final output and see the shift\n",
    "Have a CHO ATAC and GRO as well"
   ]
  },
  {
   "cell_type": "markdown",
   "metadata": {},
   "source": [
    "## Need to change the bed file names to add extension and the name"
   ]
  },
  {
   "cell_type": "code",
   "execution_count": 20,
   "metadata": {
    "ExecuteTime": {
     "end_time": "2018-11-29T03:23:30.017914Z",
     "start_time": "2018-11-29T03:23:20.302471Z"
    },
    "deletable": false,
    "editable": false,
    "run_control": {
     "frozen": true
    }
   },
   "outputs": [
    {
     "name": "stdout",
     "output_type": "stream",
     "text": [
      "cp /data/isshamie/TSS/1015_Processed/BMDM1hKLA/GROCap/bed_files/merge_bg_2 f04_peaks_bed/BMDM1hKLA_GROCap.bed\n",
      "cp /data/isshamie/TSS/1015_Processed/BMDMwt/GROCap/bed_files/merge_bg_2 f04_peaks_bed/BMDMwt_GROCap.bed\n",
      "cp /data/isshamie/TSS/1015_Processed/Brain/GROCap/bed_files/merge_bg_2 f04_peaks_bed/Brain_GROCap.bed\n",
      "cp /data/isshamie/TSS/1015_Processed/Brain/START/bed_files/merge_bg_2 f04_peaks_bed/Brain_START.bed\n",
      "cp /data/isshamie/TSS/1015_Processed/FemaleReproductive/START/bed_files/merge_bg_2 f04_peaks_bed/FemaleReproductive_START.bed\n",
      "cp /data/isshamie/TSS/1015_Processed/Heart/START/bed_files/merge_bg_2 f04_peaks_bed/Heart_START.bed\n",
      "cp /data/isshamie/TSS/1015_Processed/Kidney/GROCap/bed_files/merge_bg_2 f04_peaks_bed/Kidney_GROCap.bed\n",
      "cp /data/isshamie/TSS/1015_Processed/Kidney/START/bed_files/merge_bg_2 f04_peaks_bed/Kidney_START.bed\n",
      "cp /data/isshamie/TSS/1015_Processed/Liver/GROCap/bed_files/merge_bg_2 f04_peaks_bed/Liver_GROCap.bed\n",
      "cp /data/isshamie/TSS/1015_Processed/Liver/START/bed_files/merge_bg_2 f04_peaks_bed/Liver_START.bed\n",
      "cp /data/isshamie/TSS/1015_Processed/Lung/GROCap/bed_files/merge_bg_2 f04_peaks_bed/Lung_GROCap.bed\n",
      "cp /data/isshamie/TSS/1015_Processed/Lung/START/bed_files/merge_bg_2 f04_peaks_bed/Lung_START.bed\n",
      "cp /data/isshamie/TSS/1015_Processed/MiscOrgans/START/bed_files/merge_bg_2 f04_peaks_bed/MiscOrgans_START.bed\n",
      "cp /data/isshamie/TSS/1015_Processed/Muscle/START/bed_files/merge_bg_2 f04_peaks_bed/Muscle_START.bed\n",
      "cp /data/isshamie/TSS/1015_Processed/Pancreas/START/bed_files/merge_bg_2 f04_peaks_bed/Pancreas_START.bed\n",
      "cp /data/isshamie/TSS/1015_Processed/Spleen/START/bed_files/merge_bg_2 f04_peaks_bed/Spleen_START.bed\n",
      "cp /data/isshamie/TSS/1015_Processed/CHO/GROCap/bed_files/merge_bg_2 f04_peaks_bed/CHO_GROCap.bed\n",
      "cp /data/isshamie/TSS/1015_Processed/CHO/GROCap/bed_files/CHO_bg_2.bed f04_peaks_bed/CHO_GROCap.bed\n",
      "cp /data/isshamie/TSS/1015_Processed/CHO/START/bed_files/merge_bg_2 f04_peaks_bed/CHO_START.bed\n"
     ]
    }
   ],
   "source": [
    "if not os.path.exists(\"f04_peaks_bed\"):\n",
    "    os.mkdir(\"f04_peaks_bed\")\n",
    "for t in tissues:\n",
    "    for s in [\"GROCap\",\"START\"]:\n",
    "        for i in glob.glob(os.path.join(data_folder,t,s,\"bed_files/\",\"*\")):\n",
    "            cmd = \"cp %s %s\" % (i,os.path.join(\"f04_peaks_bed\",t+\"_\"+ s+ \".bed\"))\n",
    "            print(cmd)\n",
    "            !{cmd}\n",
    "    "
   ]
  },
  {
   "cell_type": "code",
   "execution_count": 14,
   "metadata": {
    "ExecuteTime": {
     "end_time": "2018-12-18T01:14:04.069896Z",
     "start_time": "2018-12-18T01:14:04.022751Z"
    },
    "scrolled": true
   },
   "outputs": [
    {
     "data": {
      "text/plain": [
       "'new\\ngenome /mnt/jabba/data/isshamie/genome/picr_final/picr.fa\\nload /mnt/jabba/data/isshamie/genome/picr_final/final.gff3\\nload /mnt/jabba/data/isshamie/TSS/Analysis/10_15_Results/Results/output/TSS1.bed\\nload /mnt/jabba/data/isshamie/TSS/Analysis/10_15_Results/Results/merged/tags_TSS_merged.bedgraph.gz\\nload /mnt/jabba/data/isshamie/TSS/Analysis/10_15_Results/Results/merged/tags_input_merged.bedgraph.gz\\nload /mnt/jabba/data/isshamie/TSS/1015_Processed//CHO/ATAC/out/signal/macs2/pooled_rep/CHO_ATAC1.trim.nodup.tn5_CHO_ATAC3.trim.nodup.tn5.pf.pval.signal.bigwig\\n\\nsnapshotDirectory /mnt/jabba/data/isshamie/TSS/Analysis/10_15_Results/Results/igv_snapshots\\nload /mnt/jabba/data/isshamie/TSS/Analysis/10_15_Results/f04_peaks_bed/FemaleReproductive_START.bed\\nload /mnt/jabba/data/isshamie/TSS/Analysis/10_15_Results/f04_peaks_bed/Spleen_START.bed\\nload /mnt/jabba/data/isshamie/TSS/Analysis/10_15_Results/f04_peaks_bed/Kidney_GROCap.bed\\nload /mnt/jabba/data/isshamie/TSS/Analysis/10_15_Results/f04_peaks_bed/Liver_START.bed\\nload /mnt/jabba/data/isshamie/TSS/Analysis/10_15_Results/f04_peaks_bed/BMDM1hKLA_GROCap.bed\\nload /mnt/jabba/data/isshamie/TSS/Analysis/10_15_Results/f04_peaks_bed/CHO_START.bed\\nload /mnt/jabba/data/isshamie/TSS/Analysis/10_15_Results/f04_peaks_bed/Liver_GROCap.bed\\nload /mnt/jabba/data/isshamie/TSS/Analysis/10_15_Results/f04_peaks_bed/Brain_START.bed\\nload /mnt/jabba/data/isshamie/TSS/Analysis/10_15_Results/f04_peaks_bed/Lung_START.bed\\nload /mnt/jabba/data/isshamie/TSS/Analysis/10_15_Results/f04_peaks_bed/Muscle_START.bed\\nload /mnt/jabba/data/isshamie/TSS/Analysis/10_15_Results/f04_peaks_bed/Brain_GROCap.bed\\nload /mnt/jabba/data/isshamie/TSS/Analysis/10_15_Results/f04_peaks_bed/Heart_START.bed\\nload /mnt/jabba/data/isshamie/TSS/Analysis/10_15_Results/f04_peaks_bed/MiscOrgans_START.bed\\nload /mnt/jabba/data/isshamie/TSS/Analysis/10_15_Results/f04_peaks_bed/Lung_GROCap.bed\\nload /mnt/jabba/data/isshamie/TSS/Analysis/10_15_Results/f04_peaks_bed/CHO_GROCap.bed\\nload /mnt/jabba/data/isshamie/TSS/Analysis/10_15_Results/f04_peaks_bed/Kidney_START.bed\\nload /mnt/jabba/data/isshamie/TSS/Analysis/10_15_Results/f04_peaks_bed/Pancreas_START.bed\\nload /mnt/jabba/data/isshamie/TSS/Analysis/10_15_Results/f04_peaks_bed/BMDMwt_GROCap.bed'"
      ]
     },
     "execution_count": 14,
     "metadata": {},
     "output_type": "execute_result"
    }
   ],
   "source": [
    "curr_folder = '/data/isshamie/TSS/Analysis/10_15_Results'\n",
    "igv_script = \"\"\"new\n",
    "genome {serv}/data/isshamie/genome/picr_final/picr.fa\n",
    "load {serv}/data/isshamie/genome/picr_final/final.gff3\n",
    "load {serv}/data/isshamie/TSS/Analysis/10_15_Results/Results/output/TSS1.bed\n",
    "load {serv}/data/isshamie/TSS/Analysis/10_15_Results/Results/merged/tags_TSS_merged.bedgraph.gz\n",
    "load {serv}/data/isshamie/TSS/Analysis/10_15_Results/Results/merged/tags_input_merged.bedgraph.gz\n",
    "load {serv}{data_folder}/CHO/ATAC/out/signal/macs2/pooled_rep/CHO_ATAC1.trim.nodup.tn5_CHO_ATAC3.trim.nodup.tn5.pf.pval.signal.bigwig\n",
    "\n",
    "snapshotDirectory {serv}/data/isshamie/TSS/Analysis/10_15_Results/Results/igv_snapshots\"\"\".format(serv=serv,data_folder=data_folder)\n",
    "\n",
    "for i in glob.glob(\"f04_peaks_bed/*bed\"):\n",
    "    igv_script = igv_script +  \"\\nload \" + serv + os.path.join(curr_folder, i)\n",
    "    \n",
    "igv_script"
   ]
  },
  {
   "cell_type": "code",
   "execution_count": 15,
   "metadata": {
    "ExecuteTime": {
     "end_time": "2018-12-18T01:14:04.458620Z",
     "start_time": "2018-12-18T01:14:04.073187Z"
    }
   },
   "outputs": [
    {
     "data": {
      "text/html": [
       "<div>\n",
       "<style scoped>\n",
       "    .dataframe tbody tr th:only-of-type {\n",
       "        vertical-align: middle;\n",
       "    }\n",
       "\n",
       "    .dataframe tbody tr th {\n",
       "        vertical-align: top;\n",
       "    }\n",
       "\n",
       "    .dataframe thead th {\n",
       "        text-align: right;\n",
       "    }\n",
       "</style>\n",
       "<table border=\"1\" class=\"dataframe\">\n",
       "  <thead>\n",
       "    <tr style=\"text-align: right;\">\n",
       "      <th></th>\n",
       "      <th>Chr</th>\n",
       "      <th>Start</th>\n",
       "      <th>End</th>\n",
       "      <th>ID</th>\n",
       "      <th>Stat</th>\n",
       "      <th>Strand</th>\n",
       "    </tr>\n",
       "  </thead>\n",
       "  <tbody>\n",
       "    <tr>\n",
       "      <th>0</th>\n",
       "      <td>picr_0</td>\n",
       "      <td>175</td>\n",
       "      <td>177</td>\n",
       "      <td>p0@SERHL_gene_1_2_asmbl_2</td>\n",
       "      <td>0.00000</td>\n",
       "      <td>+</td>\n",
       "    </tr>\n",
       "    <tr>\n",
       "      <th>1</th>\n",
       "      <td>picr_0</td>\n",
       "      <td>18148</td>\n",
       "      <td>18150</td>\n",
       "      <td>p0@SERHL_gene_1_4_asmbl_11</td>\n",
       "      <td>0.00000</td>\n",
       "      <td>+</td>\n",
       "    </tr>\n",
       "    <tr>\n",
       "      <th>2</th>\n",
       "      <td>picr_0</td>\n",
       "      <td>20786</td>\n",
       "      <td>20788</td>\n",
       "      <td>p0@SERHL_gene_1_4_asmbl_12</td>\n",
       "      <td>0.00000</td>\n",
       "      <td>+</td>\n",
       "    </tr>\n",
       "    <tr>\n",
       "      <th>3</th>\n",
       "      <td>picr_0</td>\n",
       "      <td>20916</td>\n",
       "      <td>21066</td>\n",
       "      <td>p1@SERHL_gene_1_4_asmbl_14</td>\n",
       "      <td>2.05576</td>\n",
       "      <td>+</td>\n",
       "    </tr>\n",
       "    <tr>\n",
       "      <th>4</th>\n",
       "      <td>picr_0</td>\n",
       "      <td>22503</td>\n",
       "      <td>22505</td>\n",
       "      <td>p0@SERHL_gene_1_4_asmbl_15</td>\n",
       "      <td>0.00000</td>\n",
       "      <td>+</td>\n",
       "    </tr>\n",
       "  </tbody>\n",
       "</table>\n",
       "</div>"
      ],
      "text/plain": [
       "      Chr  Start    End                          ID     Stat Strand\n",
       "0  picr_0    175    177   p0@SERHL_gene_1_2_asmbl_2  0.00000      +\n",
       "1  picr_0  18148  18150  p0@SERHL_gene_1_4_asmbl_11  0.00000      +\n",
       "2  picr_0  20786  20788  p0@SERHL_gene_1_4_asmbl_12  0.00000      +\n",
       "3  picr_0  20916  21066  p1@SERHL_gene_1_4_asmbl_14  2.05576      +\n",
       "4  picr_0  22503  22505  p0@SERHL_gene_1_4_asmbl_15  0.00000      +"
      ]
     },
     "execution_count": 15,
     "metadata": {},
     "output_type": "execute_result"
    }
   ],
   "source": [
    "tss = pd.read_csv(\"/data/isshamie/TSS/Analysis/10_15_Results/Results/output/TSS1.bed\",sep=\"\\t\",header=None)\n",
    "tss.rename({0:\"Chr\",1:\"Start\",2:\"End\",3:\"ID\",4:\"Stat\",5:\"Strand\"},axis=1,inplace=True)\n",
    "tss.head()"
   ]
  },
  {
   "cell_type": "markdown",
   "metadata": {},
   "source": [
    "### MGAT regions"
   ]
  },
  {
   "cell_type": "code",
   "execution_count": 16,
   "metadata": {
    "ExecuteTime": {
     "end_time": "2018-12-18T01:14:04.663851Z",
     "start_time": "2018-12-18T01:14:04.462320Z"
    },
    "scrolled": true
   },
   "outputs": [],
   "source": [
    "snaps = 'snapshotDirectory {serv}/data/isshamie/TSS/Analysis/10_15_Results/Results/igv_snapshots\\n'.format(serv=serv)\n",
    "\n",
    "\n",
    "for ind,val in tss[tss[\"ID\"].str.contains(\"MGAT\")].iterrows():\n",
    "    \n",
    "    for w in vary_width:\n",
    "        snaps = snaps + 'goto {chrom}:{start}-{end}\\nsort\\ncollapse\\nsnapshot {name}_{w}\\n'.format(\n",
    "            chrom=tss.loc[ind, \"Chr\"],\n",
    "            start=tss.loc[ind, \"Start\"] - w,\n",
    "            end=tss.loc[ind, \"End\"] + w,\n",
    "            name=tss.loc[ind, \"ID\"],\n",
    "            w=w)\n",
    "\n",
    "batch = igv_script + \"\\n\" + snaps\n",
    "with open('Results/igv_snapshots/igv_batch_TSS_MGAT.bat', 'w') as f:\n",
    "    f.write(batch)\n",
    "batch\n",
    "\n",
    "\n",
    "with open('Results/igv_snapshots/igv_batch_TSS_MGAT_SNAP.bat', 'w') as f:\n",
    "    f.write(snaps)"
   ]
  },
  {
   "cell_type": "markdown",
   "metadata": {},
   "source": [
    "### Random gene TSS regions"
   ]
  },
  {
   "cell_type": "code",
   "execution_count": 17,
   "metadata": {
    "ExecuteTime": {
     "end_time": "2018-12-18T01:14:04.768838Z",
     "start_time": "2018-12-18T01:14:04.667635Z"
    },
    "code_folding": [],
    "scrolled": true
   },
   "outputs": [
    {
     "data": {
      "text/plain": [
       "'new\\ngenome /mnt/jabba/data/isshamie/genome/picr_final/picr.fa\\nload /mnt/jabba/data/isshamie/genome/picr_final/final.gff3\\nload /mnt/jabba/data/isshamie/TSS/Analysis/10_15_Results/Results/output/TSS1.bed\\nload /mnt/jabba/data/isshamie/TSS/Analysis/10_15_Results/Results/merged/tags_TSS_merged.bedgraph.gz\\nload /mnt/jabba/data/isshamie/TSS/Analysis/10_15_Results/Results/merged/tags_input_merged.bedgraph.gz\\nload /mnt/jabba/data/isshamie/TSS/1015_Processed//CHO/ATAC/out/signal/macs2/pooled_rep/CHO_ATAC1.trim.nodup.tn5_CHO_ATAC3.trim.nodup.tn5.pf.pval.signal.bigwig\\n\\nsnapshotDirectory /mnt/jabba/data/isshamie/TSS/Analysis/10_15_Results/Results/igv_snapshots\\nload /mnt/jabba/data/isshamie/TSS/Analysis/10_15_Results/f04_peaks_bed/FemaleReproductive_START.bed\\nload /mnt/jabba/data/isshamie/TSS/Analysis/10_15_Results/f04_peaks_bed/Spleen_START.bed\\nload /mnt/jabba/data/isshamie/TSS/Analysis/10_15_Results/f04_peaks_bed/Kidney_GROCap.bed\\nload /mnt/jabba/data/isshamie/TSS/Analysis/10_15_Results/f04_peaks_bed/Liver_START.bed\\nload /mnt/jabba/data/isshamie/TSS/Analysis/10_15_Results/f04_peaks_bed/BMDM1hKLA_GROCap.bed\\nload /mnt/jabba/data/isshamie/TSS/Analysis/10_15_Results/f04_peaks_bed/CHO_START.bed\\nload /mnt/jabba/data/isshamie/TSS/Analysis/10_15_Results/f04_peaks_bed/Liver_GROCap.bed\\nload /mnt/jabba/data/isshamie/TSS/Analysis/10_15_Results/f04_peaks_bed/Brain_START.bed\\nload /mnt/jabba/data/isshamie/TSS/Analysis/10_15_Results/f04_peaks_bed/Lung_START.bed\\nload /mnt/jabba/data/isshamie/TSS/Analysis/10_15_Results/f04_peaks_bed/Muscle_START.bed\\nload /mnt/jabba/data/isshamie/TSS/Analysis/10_15_Results/f04_peaks_bed/Brain_GROCap.bed\\nload /mnt/jabba/data/isshamie/TSS/Analysis/10_15_Results/f04_peaks_bed/Heart_START.bed\\nload /mnt/jabba/data/isshamie/TSS/Analysis/10_15_Results/f04_peaks_bed/MiscOrgans_START.bed\\nload /mnt/jabba/data/isshamie/TSS/Analysis/10_15_Results/f04_peaks_bed/Lung_GROCap.bed\\nload /mnt/jabba/data/isshamie/TSS/Analysis/10_15_Results/f04_peaks_bed/CHO_GROCap.bed\\nload /mnt/jabba/data/isshamie/TSS/Analysis/10_15_Results/f04_peaks_bed/Kidney_START.bed\\nload /mnt/jabba/data/isshamie/TSS/Analysis/10_15_Results/f04_peaks_bed/Pancreas_START.bed\\nload /mnt/jabba/data/isshamie/TSS/Analysis/10_15_Results/f04_peaks_bed/BMDMwt_GROCap.bed\\nsnapshotDirectory /mnt/jabba/data/isshamie/TSS/Analysis/10_15_Results/Results/igv_snapshots\\ngoto picr_0:175-177\\nsort\\ncollapse\\nsnapshot p0@SERHL_gene_1_2_asmbl_2_0\\ngoto picr_0:75-277\\nsort\\ncollapse\\nsnapshot p0@SERHL_gene_1_2_asmbl_2_100\\ngoto picr_0:-825-1177\\nsort\\ncollapse\\nsnapshot p0@SERHL_gene_1_2_asmbl_2_1000\\ngoto picr_0:-9825-10177\\nsort\\ncollapse\\nsnapshot p0@SERHL_gene_1_2_asmbl_2_10000\\ngoto picr_0:74802065-74802067\\nsort\\ncollapse\\nsnapshot p0@PPP4R1_gene_987_asmbl_3305_0\\ngoto picr_0:74801965-74802167\\nsort\\ncollapse\\nsnapshot p0@PPP4R1_gene_987_asmbl_3305_100\\ngoto picr_0:74801065-74803067\\nsort\\ncollapse\\nsnapshot p0@PPP4R1_gene_987_asmbl_3305_1000\\ngoto picr_0:74792065-74812067\\nsort\\ncollapse\\nsnapshot p0@PPP4R1_gene_987_asmbl_3305_10000\\ngoto picr_10:38061582-38061732\\nsort\\ncollapse\\nsnapshot p2@PISD_gene_2185_asmbl_6590_0\\ngoto picr_10:38061482-38061832\\nsort\\ncollapse\\nsnapshot p2@PISD_gene_2185_asmbl_6590_100\\ngoto picr_10:38060582-38062732\\nsort\\ncollapse\\nsnapshot p2@PISD_gene_2185_asmbl_6590_1000\\ngoto picr_10:38051582-38071732\\nsort\\ncollapse\\nsnapshot p2@PISD_gene_2185_asmbl_6590_10000\\ngoto picr_11:6543748-6543898\\nsort\\ncollapse\\nsnapshot p3@SESTD1_gene_3309_asmbl_9725_0\\ngoto picr_11:6543648-6543998\\nsort\\ncollapse\\nsnapshot p3@SESTD1_gene_3309_asmbl_9725_100\\ngoto picr_11:6542748-6544898\\nsort\\ncollapse\\nsnapshot p3@SESTD1_gene_3309_asmbl_9725_1000\\ngoto picr_11:6533748-6553898\\nsort\\ncollapse\\nsnapshot p3@SESTD1_gene_3309_asmbl_9725_10000\\ngoto picr_12:5275262-5275264\\nsort\\ncollapse\\nsnapshot p0@ATP11A_gene_4389_asmbl_12964_0\\ngoto picr_12:5275162-5275364\\nsort\\ncollapse\\nsnapshot p0@ATP11A_gene_4389_asmbl_12964_100\\ngoto picr_12:5274262-5276264\\nsort\\ncollapse\\nsnapshot p0@ATP11A_gene_4389_asmbl_12964_1000\\ngoto picr_12:5265262-5285264\\nsort\\ncollapse\\nsnapshot p0@ATP11A_gene_4389_asmbl_12964_10000\\ngoto picr_13:17823310-17823460\\nsort\\ncollapse\\nsnapshot p1@MTO1_gene_5582_asmbl_16160_0\\ngoto picr_13:17823210-17823560\\nsort\\ncollapse\\nsnapshot p1@MTO1_gene_5582_asmbl_16160_100\\ngoto picr_13:17822310-17824460\\nsort\\ncollapse\\nsnapshot p1@MTO1_gene_5582_asmbl_16160_1000\\ngoto picr_13:17813310-17833460\\nsort\\ncollapse\\nsnapshot p1@MTO1_gene_5582_asmbl_16160_10000\\ngoto picr_138:1323912-1323914\\nsort\\ncollapse\\nsnapshot p0@KLC1_gene_6506_asmbl_19364_0\\ngoto picr_138:1323812-1324014\\nsort\\ncollapse\\nsnapshot p0@KLC1_gene_6506_asmbl_19364_100\\ngoto picr_138:1322912-1324914\\nsort\\ncollapse\\nsnapshot p0@KLC1_gene_6506_asmbl_19364_1000\\ngoto picr_138:1313912-1333914\\nsort\\ncollapse\\nsnapshot p0@KLC1_gene_6506_asmbl_19364_10000\\ngoto picr_152:835421-835571\\nsort\\ncollapse\\nsnapshot p1@RP2_gene_7737_asmbl_22822_0\\ngoto picr_152:835321-835671\\nsort\\ncollapse\\nsnapshot p1@RP2_gene_7737_asmbl_22822_100\\ngoto picr_152:834421-836571\\nsort\\ncollapse\\nsnapshot p1@RP2_gene_7737_asmbl_22822_1000\\ngoto picr_152:825421-845571\\nsort\\ncollapse\\nsnapshot p1@RP2_gene_7737_asmbl_22822_10000\\ngoto picr_167:1102621-1102771\\nsort\\ncollapse\\nsnapshot p4@NOVA2_gene_8819_asmbl_26067_0\\ngoto picr_167:1102521-1102871\\nsort\\ncollapse\\nsnapshot p4@NOVA2_gene_8819_asmbl_26067_100\\ngoto picr_167:1101621-1103771\\nsort\\ncollapse\\nsnapshot p4@NOVA2_gene_8819_asmbl_26067_1000\\ngoto picr_167:1092621-1112771\\nsort\\ncollapse\\nsnapshot p4@NOVA2_gene_8819_asmbl_26067_10000\\ngoto picr_199:287250-287252\\nsort\\ncollapse\\nsnapshot p0@PLA2G4C_gene_10073_asmbl_29425_0\\ngoto picr_199:287150-287352\\nsort\\ncollapse\\nsnapshot p0@PLA2G4C_gene_10073_asmbl_29425_100\\ngoto picr_199:286250-288252\\nsort\\ncollapse\\nsnapshot p0@PLA2G4C_gene_10073_asmbl_29425_1000\\ngoto picr_199:277250-297252\\nsort\\ncollapse\\nsnapshot p0@PLA2G4C_gene_10073_asmbl_29425_10000\\ngoto picr_20:3121218-3121368\\nsort\\ncollapse\\nsnapshot p1@ACTA2_gene_11319_asmbl_32581_0\\ngoto picr_20:3121118-3121468\\nsort\\ncollapse\\nsnapshot p1@ACTA2_gene_11319_asmbl_32581_100\\ngoto picr_20:3120218-3122368\\nsort\\ncollapse\\nsnapshot p1@ACTA2_gene_11319_asmbl_32581_1000\\ngoto picr_20:3111218-3131368\\nsort\\ncollapse\\nsnapshot p1@ACTA2_gene_11319_asmbl_32581_10000\\ngoto picr_22:22300387-22300537\\nsort\\ncollapse\\nsnapshot p4@SDHB_gene_12490_asmbl_35868_0\\ngoto picr_22:22300287-22300637\\nsort\\ncollapse\\nsnapshot p4@SDHB_gene_12490_asmbl_35868_100\\ngoto picr_22:22299387-22301537\\nsort\\ncollapse\\nsnapshot p4@SDHB_gene_12490_asmbl_35868_1000\\ngoto picr_22:22290387-22310537\\nsort\\ncollapse\\nsnapshot p4@SDHB_gene_12490_asmbl_35868_10000\\ngoto picr_26:4008830-4008980\\nsort\\ncollapse\\nsnapshot p1@ITM2A_gene_13600_asmbl_39113_0\\ngoto picr_26:4008730-4009080\\nsort\\ncollapse\\nsnapshot p1@ITM2A_gene_13600_asmbl_39113_100\\ngoto picr_26:4007830-4009980\\nsort\\ncollapse\\nsnapshot p1@ITM2A_gene_13600_asmbl_39113_1000\\ngoto picr_26:3998830-4018980\\nsort\\ncollapse\\nsnapshot p1@ITM2A_gene_13600_asmbl_39113_10000\\ngoto picr_3:25617143-25617293\\nsort\\ncollapse\\nsnapshot p2@ST3GAL6_gene_15008_1_asmbl_42499_0\\ngoto picr_3:25617043-25617393\\nsort\\ncollapse\\nsnapshot p2@ST3GAL6_gene_15008_1_asmbl_42499_100\\ngoto picr_3:25616143-25618293\\nsort\\ncollapse\\nsnapshot p2@ST3GAL6_gene_15008_1_asmbl_42499_1000\\ngoto picr_3:25607143-25627293\\nsort\\ncollapse\\nsnapshot p2@ST3GAL6_gene_15008_1_asmbl_42499_10000\\ngoto picr_33:14850055-14850057\\nsort\\ncollapse\\nsnapshot p0@ABCB1_gene_16244_5_asmbl_45868_0\\ngoto picr_33:14849955-14850157\\nsort\\ncollapse\\nsnapshot p0@ABCB1_gene_16244_5_asmbl_45868_100\\ngoto picr_33:14849055-14851057\\nsort\\ncollapse\\nsnapshot p0@ABCB1_gene_16244_5_asmbl_45868_1000\\ngoto picr_33:14840055-14860057\\nsort\\ncollapse\\nsnapshot p0@ABCB1_gene_16244_5_asmbl_45868_10000\\ngoto picr_37:7782330-7782332\\nsort\\ncollapse\\nsnapshot p0@SHOX2_gene_17383_asmbl_49231_0\\ngoto picr_37:7782230-7782432\\nsort\\ncollapse\\nsnapshot p0@SHOX2_gene_17383_asmbl_49231_100\\ngoto picr_37:7781330-7783332\\nsort\\ncollapse\\nsnapshot p0@SHOX2_gene_17383_asmbl_49231_1000\\ngoto picr_37:7772330-7792332\\nsort\\ncollapse\\nsnapshot p0@SHOX2_gene_17383_asmbl_49231_10000\\ngoto picr_4:46597595-46597745\\nsort\\ncollapse\\nsnapshot p1@RTCB_gene_18611_asmbl_52440_0\\ngoto picr_4:46597495-46597845\\nsort\\ncollapse\\nsnapshot p1@RTCB_gene_18611_asmbl_52440_100\\ngoto picr_4:46596595-46598745\\nsort\\ncollapse\\nsnapshot p1@RTCB_gene_18611_asmbl_52440_1000\\ngoto picr_4:46587595-46607745\\nsort\\ncollapse\\nsnapshot p1@RTCB_gene_18611_asmbl_52440_10000\\ngoto picr_45:4789919-4789921\\nsort\\ncollapse\\nsnapshot p0@SLC25A26_gene_19790_3_asmbl_55607_0\\ngoto picr_45:4789819-4790021\\nsort\\ncollapse\\nsnapshot p0@SLC25A26_gene_19790_3_asmbl_55607_100\\ngoto picr_45:4788919-4790921\\nsort\\ncollapse\\nsnapshot p0@SLC25A26_gene_19790_3_asmbl_55607_1000\\ngoto picr_45:4779919-4799921\\nsort\\ncollapse\\nsnapshot p0@SLC25A26_gene_19790_3_asmbl_55607_10000\\ngoto picr_5:39017583-39017733\\nsort\\ncollapse\\nsnapshot p2@RPS23_gene_21012_asmbl_59073_0\\ngoto picr_5:39017483-39017833\\nsort\\ncollapse\\nsnapshot p2@RPS23_gene_21012_asmbl_59073_100\\ngoto picr_5:39016583-39018733\\nsort\\ncollapse\\nsnapshot p2@RPS23_gene_21012_asmbl_59073_1000\\ngoto picr_5:39007583-39027733\\nsort\\ncollapse\\nsnapshot p2@RPS23_gene_21012_asmbl_59073_10000\\ngoto picr_54:65708-65710\\nsort\\ncollapse\\nsnapshot p0@GTDC1_gene_21993_asmbl_62099_0\\ngoto picr_54:65608-65810\\nsort\\ncollapse\\nsnapshot p0@GTDC1_gene_21993_asmbl_62099_100\\ngoto picr_54:64708-66710\\nsort\\ncollapse\\nsnapshot p0@GTDC1_gene_21993_asmbl_62099_1000\\ngoto picr_54:55708-75710\\nsort\\ncollapse\\nsnapshot p0@GTDC1_gene_21993_asmbl_62099_10000\\ngoto picr_58:12144745-12144747\\nsort\\ncollapse\\nsnapshot p0@RASAL3_gene_23086_asmbl_65273_0\\ngoto picr_58:12144645-12144847\\nsort\\ncollapse\\nsnapshot p0@RASAL3_gene_23086_asmbl_65273_100\\ngoto picr_58:12143745-12145747\\nsort\\ncollapse\\nsnapshot p0@RASAL3_gene_23086_asmbl_65273_1000\\ngoto picr_58:12134745-12154747\\nsort\\ncollapse\\nsnapshot p0@RASAL3_gene_23086_asmbl_65273_10000\\ngoto picr_61:11095244-11095246\\nsort\\ncollapse\\nsnapshot p0@S100A16_gene_24138_asmbl_68445_0\\ngoto picr_61:11095144-11095346\\nsort\\ncollapse\\nsnapshot p0@S100A16_gene_24138_asmbl_68445_100\\ngoto picr_61:11094244-11096246\\nsort\\ncollapse\\nsnapshot p0@S100A16_gene_24138_asmbl_68445_1000\\ngoto picr_61:11085244-11105246\\nsort\\ncollapse\\nsnapshot p0@S100A16_gene_24138_asmbl_68445_10000\\ngoto picr_70:2062198-2062200\\nsort\\ncollapse\\nsnapshot p0@ANKRD34A_gene_25791_asmbl_72740_0\\ngoto picr_70:2062098-2062300\\nsort\\ncollapse\\nsnapshot p0@ANKRD34A_gene_25791_asmbl_72740_100\\ngoto picr_70:2061198-2063200\\nsort\\ncollapse\\nsnapshot p0@ANKRD34A_gene_25791_asmbl_72740_1000\\ngoto picr_70:2052198-2072200\\nsort\\ncollapse\\nsnapshot p0@ANKRD34A_gene_25791_asmbl_72740_10000\\ngoto picr_77:298322-298472\\nsort\\ncollapse\\nsnapshot p1@GREB1L_gene_26862_asmbl_75958_0\\ngoto picr_77:298222-298572\\nsort\\ncollapse\\nsnapshot p1@GREB1L_gene_26862_asmbl_75958_100\\ngoto picr_77:297322-299472\\nsort\\ncollapse\\nsnapshot p1@GREB1L_gene_26862_asmbl_75958_1000\\ngoto picr_77:288322-308472\\nsort\\ncollapse\\nsnapshot p1@GREB1L_gene_26862_asmbl_75958_10000\\ngoto picr_8:22474889-22475039\\nsort\\ncollapse\\nsnapshot p1@CHD3_gene_27692_asmbl_78157_0\\ngoto picr_8:22474789-22475139\\nsort\\ncollapse\\nsnapshot p1@CHD3_gene_27692_asmbl_78157_100\\ngoto picr_8:22473889-22476039\\nsort\\ncollapse\\nsnapshot p1@CHD3_gene_27692_asmbl_78157_1000\\ngoto picr_8:22464889-22485039\\nsort\\ncollapse\\nsnapshot p1@CHD3_gene_27692_asmbl_78157_10000\\ngoto picr_85:8722169-8722171\\nsort\\ncollapse\\nsnapshot p0@FAM32A_gene_28768_3_asmbl_81507_0\\ngoto picr_85:8722069-8722271\\nsort\\ncollapse\\nsnapshot p0@FAM32A_gene_28768_3_asmbl_81507_100\\ngoto picr_85:8721169-8723171\\nsort\\ncollapse\\nsnapshot p0@FAM32A_gene_28768_3_asmbl_81507_1000\\ngoto picr_85:8712169-8732171\\nsort\\ncollapse\\nsnapshot p0@FAM32A_gene_28768_3_asmbl_81507_10000\\ngoto picr_93:755638-755788\\nsort\\ncollapse\\nsnapshot p1@ICAM2_gene_29973_asmbl_84893_0\\ngoto picr_93:755538-755888\\nsort\\ncollapse\\nsnapshot p1@ICAM2_gene_29973_asmbl_84893_100\\ngoto picr_93:754638-756788\\nsort\\ncollapse\\nsnapshot p1@ICAM2_gene_29973_asmbl_84893_1000\\ngoto picr_93:745638-765788\\nsort\\ncollapse\\nsnapshot p1@ICAM2_gene_29973_asmbl_84893_10000\\n'"
      ]
     },
     "execution_count": 17,
     "metadata": {},
     "output_type": "execute_result"
    }
   ],
   "source": [
    "snaps = 'snapshotDirectory {serv}/data/isshamie/TSS/Analysis/10_15_Results/Results/igv_snapshots\\n'.format(serv=serv)\n",
    "for i in range(len(tss)):\n",
    "    if i % 2500 == 0:\n",
    "        for w in vary_width:\n",
    "            snaps = snaps + 'goto {chrom}:{start}-{end}\\nsort\\ncollapse\\nsnapshot {name}_{w}\\n'.format(\n",
    "                chrom=tss.loc[i, \"Chr\"],\n",
    "                start=tss.loc[i, \"Start\"] - w,\n",
    "                end=tss.loc[i, \"End\"] + w,\n",
    "                name=tss.loc[i, \"ID\"],\n",
    "                w=w)\n",
    "batch = igv_script + \"\\n\" + snaps\n",
    "with open('Results/igv_snapshots/igv_batch_TSS.bat', 'w') as f:\n",
    "    f.write(batch)\n",
    "\n",
    "with open('Results/igv_snapshots/igv_batch_TSS_SNAP.bat', 'w') as f:\n",
    "    f.write(snaps)\n",
    "    \n",
    "batch\n",
    "\n"
   ]
  },
  {
   "cell_type": "markdown",
   "metadata": {},
   "source": [
    "## For Publication:\n",
    "-ATAC\n",
    "-GROCap\n",
    "-GRO\n",
    "-START\n",
    "-STARTinput\n",
    "-TSS\n",
    "-RefSeq\n",
    "-dTSS"
   ]
  },
  {
   "cell_type": "code",
   "execution_count": 18,
   "metadata": {
    "ExecuteTime": {
     "end_time": "2018-12-18T01:14:04.965937Z",
     "start_time": "2018-12-18T01:14:04.772360Z"
    },
    "code_folding": [],
    "scrolled": true
   },
   "outputs": [
    {
     "data": {
      "text/plain": [
       "'new\\ngenome /mnt/jabba/data/isshamie/genome/picr_final/picr.fa\\nload /mnt/jabba/data/isshamie/genome/picr_final/final.gff3\\nload /mnt/jabba/data/isshamie/TSS/Analysis/10_15_Results/Results/output/TSS1.bed\\nload /mnt/jabba/data/isshamie/TSS/Analysis/10_15_Results/Results/merged/tags_TSS_merged.bedgraph.gz\\n\\n# CHO\\nload /mnt/jabba/data/isshamie/TSS/1015_Processed//CHO/ATAC/out/signal/macs2/pooled_rep/CHO_ATAC1.trim.nodup.tn5_CHO_ATAC3.trim.nodup.tn5.pf.pval.signal.bigwig\\nload /mnt/jabba/data/isshamie/TSS/1015_Processed//CHO/GROCap/bedgraph_files/trim_CHO_GRO1.bedgraph.gz \\nload /mnt/jabba/data/isshamie/TSS/1015_Processed//CHO/GROCap/bedgraph_files/trim_CHO_GROCap1.bedgraph.gz \\n\\nload /mnt/jabba/data/isshamie/TSS/1015_Processed//CHO/START/bedgraph_files/trim_CHO_START1.bedgraph.gz \\nload /mnt/jabba/data/isshamie/TSS/1015_Processed//CHO/START/bedgraph_files/trim_CHO_STARTinput1.bedgraph.gz \\n\\n# Brain\\nload /mnt/jabba/data/isshamie/TSS/1015_Processed//Brain/ATAC/out/signal/macs2/rep1/Brain_ATAC1.trim.nodup.tn5.pf.pval.signal.bigwig\\nload /mnt/jabba/data/isshamie/TSS/1015_Processed//Brain/GRO/bedgraph_files/trim_Brain_GROCap1.bedgraph.gz \\nload /mnt/jabba/data/isshamie/TSS/1015_Processed//Brain/GRO/bedgraph_files/trim_Brain_GRO1.bedgraph.gz \\n\\n#Liver \\nload /mnt/jabba/data/isshamie/TSS/1015_Processed//Liver/GRO/bedgraph_files/trim_Liver_GROCap1.bedgraph.gz\\nload /mnt/jabba/data/isshamie/TSS/1015_Processed//Liver/ATAC/out/signal/macs2/rep1/Liver_ATAC1.trim.nodup.tn5.pf.pval.signal.bigwig\\n\\nsnapshotDirectory /mnt/jabba/data/isshamie/TSS/Analysis/10_15_Results/Results/igv_snapshots\\nload /mnt/jabba/data/isshamie/TSS/Analysis/10_15_Results/f04_peaks_bed/FemaleReproductive_START.bed\\nload /mnt/jabba/data/isshamie/TSS/Analysis/10_15_Results/f04_peaks_bed/Spleen_START.bed\\nload /mnt/jabba/data/isshamie/TSS/Analysis/10_15_Results/f04_peaks_bed/Kidney_GROCap.bed\\nload /mnt/jabba/data/isshamie/TSS/Analysis/10_15_Results/f04_peaks_bed/Liver_START.bed\\nload /mnt/jabba/data/isshamie/TSS/Analysis/10_15_Results/f04_peaks_bed/BMDM1hKLA_GROCap.bed\\nload /mnt/jabba/data/isshamie/TSS/Analysis/10_15_Results/f04_peaks_bed/CHO_START.bed\\nload /mnt/jabba/data/isshamie/TSS/Analysis/10_15_Results/f04_peaks_bed/Liver_GROCap.bed\\nload /mnt/jabba/data/isshamie/TSS/Analysis/10_15_Results/f04_peaks_bed/Brain_START.bed\\nload /mnt/jabba/data/isshamie/TSS/Analysis/10_15_Results/f04_peaks_bed/Lung_START.bed\\nload /mnt/jabba/data/isshamie/TSS/Analysis/10_15_Results/f04_peaks_bed/Muscle_START.bed\\nload /mnt/jabba/data/isshamie/TSS/Analysis/10_15_Results/f04_peaks_bed/Brain_GROCap.bed\\nload /mnt/jabba/data/isshamie/TSS/Analysis/10_15_Results/f04_peaks_bed/Heart_START.bed\\nload /mnt/jabba/data/isshamie/TSS/Analysis/10_15_Results/f04_peaks_bed/MiscOrgans_START.bed\\nload /mnt/jabba/data/isshamie/TSS/Analysis/10_15_Results/f04_peaks_bed/Lung_GROCap.bed\\nload /mnt/jabba/data/isshamie/TSS/Analysis/10_15_Results/f04_peaks_bed/CHO_GROCap.bed\\nload /mnt/jabba/data/isshamie/TSS/Analysis/10_15_Results/f04_peaks_bed/Kidney_START.bed\\nload /mnt/jabba/data/isshamie/TSS/Analysis/10_15_Results/f04_peaks_bed/Pancreas_START.bed\\nload /mnt/jabba/data/isshamie/TSS/Analysis/10_15_Results/f04_peaks_bed/BMDMwt_GROCap.bed\\nsnapshotDirectory /mnt/jabba/data/isshamie/TSS/Analysis/10_15_Results/Results/igv_snapshotsgoto picr_74:7464423-7464573\\nsort\\ncollapse\\nsnapshot p1@MGAT3_gene_26564_asmbl_75037_0\\ngoto picr_74:7464323-7464673\\nsort\\ncollapse\\nsnapshot p1@MGAT3_gene_26564_asmbl_75037_100\\ngoto picr_74:7463423-7465573\\nsort\\ncollapse\\nsnapshot p1@MGAT3_gene_26564_asmbl_75037_1000\\ngoto picr_74:7454423-7474573\\nsort\\ncollapse\\nsnapshot p1@MGAT3_gene_26564_asmbl_75037_10000\\ngoto picr_74:7464713-7464863\\nsort\\ncollapse\\nsnapshot p2@MGAT3_gene_26564_asmbl_75037_0\\ngoto picr_74:7464613-7464963\\nsort\\ncollapse\\nsnapshot p2@MGAT3_gene_26564_asmbl_75037_100\\ngoto picr_74:7463713-7465863\\nsort\\ncollapse\\nsnapshot p2@MGAT3_gene_26564_asmbl_75037_1000\\ngoto picr_74:7454713-7474863\\nsort\\ncollapse\\nsnapshot p2@MGAT3_gene_26564_asmbl_75037_10000\\ngoto picr_74:7465450-7465600\\nsort\\ncollapse\\nsnapshot p3@MGAT3_gene_26564_asmbl_75037_0\\ngoto picr_74:7465350-7465700\\nsort\\ncollapse\\nsnapshot p3@MGAT3_gene_26564_asmbl_75037_100\\ngoto picr_74:7464450-7466600\\nsort\\ncollapse\\nsnapshot p3@MGAT3_gene_26564_asmbl_75037_1000\\ngoto picr_74:7455450-7475600\\nsort\\ncollapse\\nsnapshot p3@MGAT3_gene_26564_asmbl_75037_10000\\ngoto picr_74:7466351-7466501\\nsort\\ncollapse\\nsnapshot p1@MGAT3_gene_26564_asmbl_75038_0\\ngoto picr_74:7466251-7466601\\nsort\\ncollapse\\nsnapshot p1@MGAT3_gene_26564_asmbl_75038_100\\ngoto picr_74:7465351-7467501\\nsort\\ncollapse\\nsnapshot p1@MGAT3_gene_26564_asmbl_75038_1000\\ngoto picr_74:7456351-7476501\\nsort\\ncollapse\\nsnapshot p1@MGAT3_gene_26564_asmbl_75038_10000\\ngoto picr_74:7468509-7468659\\nsort\\ncollapse\\nsnapshot p1@MGAT3_gene_26564_asmbl_75039_0\\ngoto picr_74:7468409-7468759\\nsort\\ncollapse\\nsnapshot p1@MGAT3_gene_26564_asmbl_75039_100\\ngoto picr_74:7467509-7469659\\nsort\\ncollapse\\nsnapshot p1@MGAT3_gene_26564_asmbl_75039_1000\\ngoto picr_74:7458509-7478659\\nsort\\ncollapse\\nsnapshot p1@MGAT3_gene_26564_asmbl_75039_10000\\ngoto picr_74:7475953-7476103\\nsort\\ncollapse\\nsnapshot p1@MGAT3_gene_26564_asmbl_75040_0\\ngoto picr_74:7475853-7476203\\nsort\\ncollapse\\nsnapshot p1@MGAT3_gene_26564_asmbl_75040_100\\ngoto picr_74:7474953-7477103\\nsort\\ncollapse\\nsnapshot p1@MGAT3_gene_26564_asmbl_75040_1000\\ngoto picr_74:7465953-7486103\\nsort\\ncollapse\\nsnapshot p1@MGAT3_gene_26564_asmbl_75040_10000\\ngoto picr_74:7476503-7476653\\nsort\\ncollapse\\nsnapshot p2@MGAT3_gene_26564_asmbl_75040_0\\ngoto picr_74:7476403-7476753\\nsort\\ncollapse\\nsnapshot p2@MGAT3_gene_26564_asmbl_75040_100\\ngoto picr_74:7475503-7477653\\nsort\\ncollapse\\nsnapshot p2@MGAT3_gene_26564_asmbl_75040_1000\\ngoto picr_74:7466503-7486653\\nsort\\ncollapse\\nsnapshot p2@MGAT3_gene_26564_asmbl_75040_10000\\ngoto picr_74:7489391-7489393\\nsort\\ncollapse\\nsnapshot p0@MGAT3_gene_26564_asmbl_75041_0\\ngoto picr_74:7489291-7489493\\nsort\\ncollapse\\nsnapshot p0@MGAT3_gene_26564_asmbl_75041_100\\ngoto picr_74:7488391-7490393\\nsort\\ncollapse\\nsnapshot p0@MGAT3_gene_26564_asmbl_75041_1000\\ngoto picr_74:7479391-7499393\\nsort\\ncollapse\\nsnapshot p0@MGAT3_gene_26564_asmbl_75041_10000\\n'"
      ]
     },
     "execution_count": 18,
     "metadata": {},
     "output_type": "execute_result"
    }
   ],
   "source": [
    "curr_folder = '/data/isshamie/TSS/Analysis/10_15_Results'\n",
    "igv_script = \"\"\"new\n",
    "genome {serv}/data/isshamie/genome/picr_final/picr.fa\n",
    "load {serv}/data/isshamie/genome/picr_final/final.gff3\n",
    "load {serv}/data/isshamie/TSS/Analysis/10_15_Results/Results/output/TSS1.bed\n",
    "load {serv}/data/isshamie/TSS/Analysis/10_15_Results/Results/merged/tags_TSS_merged.bedgraph.gz\n",
    "\n",
    "# CHO\n",
    "load {serv}{data_folder}/CHO/ATAC/out/signal/macs2/pooled_rep/CHO_ATAC1.trim.nodup.tn5_CHO_ATAC3.trim.nodup.tn5.pf.pval.signal.bigwig\n",
    "load {serv}{data_folder}/CHO/GROCap/bedgraph_files/trim_CHO_GRO1.bedgraph.gz \n",
    "load {serv}{data_folder}/CHO/GROCap/bedgraph_files/trim_CHO_GROCap1.bedgraph.gz \n",
    "\n",
    "load {serv}{data_folder}/CHO/START/bedgraph_files/trim_CHO_START1.bedgraph.gz \n",
    "load {serv}{data_folder}/CHO/START/bedgraph_files/trim_CHO_STARTinput1.bedgraph.gz \n",
    "\n",
    "# Brain\n",
    "load {serv}{data_folder}/Brain/ATAC/out/signal/macs2/rep1/Brain_ATAC1.trim.nodup.tn5.pf.pval.signal.bigwig\n",
    "load {serv}{data_folder}/Brain/GRO/bedgraph_files/trim_Brain_GROCap1.bedgraph.gz \n",
    "load {serv}{data_folder}/Brain/GRO/bedgraph_files/trim_Brain_GRO1.bedgraph.gz \n",
    "\n",
    "#Liver \n",
    "load {serv}{data_folder}/Liver/GRO/bedgraph_files/trim_Liver_GROCap1.bedgraph.gz\n",
    "load {serv}{data_folder}/Liver/ATAC/out/signal/macs2/rep1/Liver_ATAC1.trim.nodup.tn5.pf.pval.signal.bigwig\n",
    "\n",
    "snapshotDirectory {serv}/data/isshamie/TSS/Analysis/10_15_Results/Results/igv_snapshots\"\"\".format(serv=serv,data_folder=data_folder)\n",
    "\n",
    "\n",
    "snaps = \"snapshotDirectory {serv}/data/isshamie/TSS/Analysis/10_15_Results/Results/igv_snapshots\".format(serv=serv)\n",
    "\n",
    "for ind,val in tss[tss[\"ID\"].str.contains(\"MGAT3\")].iterrows():\n",
    "    for w in vary_width:\n",
    "        snaps = snaps + 'goto {chrom}:{start}-{end}\\nsort\\ncollapse\\nsnapshot {name}_{w}\\n'.format(\n",
    "            chrom=tss.loc[ind, \"Chr\"],\n",
    "            start=tss.loc[ind, \"Start\"] - w,\n",
    "            end=tss.loc[ind, \"End\"] + w,\n",
    "            name=tss.loc[ind, \"ID\"],\n",
    "            w=w)\n",
    "\n",
    "\n",
    "for i in glob.glob(\"f04_peaks_bed/*bed\"):\n",
    "    igv_script = igv_script +  \"\\nload \" + serv + os.path.join(curr_folder, i)\n",
    "\n",
    "    \n",
    "with open('Results/igv_snapshots/igv_batch_TSS_Pub_LOAD.bat', 'w') as f:\n",
    "    f.write(igv_script)\n",
    "    \n",
    "batch = igv_script + \"\\n\" + snaps\n",
    "\n",
    "with open('Results/igv_snapshots/igv_batch_TSS_MGAT3.bat', 'w') as f:\n",
    "    f.write(batch)\n",
    "    \n",
    "with open('Results/igv_snapshots/igv_batch_TSS_MGAT3_SNAP.bat', 'w') as f:\n",
    "    f.write(snaps)\n",
    "    \n",
    "batch"
   ]
  },
  {
   "cell_type": "code",
   "execution_count": 19,
   "metadata": {
    "ExecuteTime": {
     "end_time": "2018-12-18T01:14:05.135731Z",
     "start_time": "2018-12-18T01:14:04.969179Z"
    },
    "scrolled": true
   },
   "outputs": [
    {
     "data": {
      "text/html": [
       "<div>\n",
       "<style scoped>\n",
       "    .dataframe tbody tr th:only-of-type {\n",
       "        vertical-align: middle;\n",
       "    }\n",
       "\n",
       "    .dataframe tbody tr th {\n",
       "        vertical-align: top;\n",
       "    }\n",
       "\n",
       "    .dataframe thead th {\n",
       "        text-align: right;\n",
       "    }\n",
       "</style>\n",
       "<table border=\"1\" class=\"dataframe\">\n",
       "  <thead>\n",
       "    <tr style=\"text-align: right;\">\n",
       "      <th></th>\n",
       "      <th>Chr</th>\n",
       "      <th>Start</th>\n",
       "      <th>End</th>\n",
       "      <th>ID</th>\n",
       "      <th>Stat</th>\n",
       "      <th>Strand</th>\n",
       "    </tr>\n",
       "  </thead>\n",
       "  <tbody>\n",
       "    <tr>\n",
       "      <th>3770</th>\n",
       "      <td>picr_1</td>\n",
       "      <td>39714515</td>\n",
       "      <td>39714665</td>\n",
       "      <td>p3@MGAT5_gene_1540_asmbl_4893</td>\n",
       "      <td>0.946452</td>\n",
       "      <td>-</td>\n",
       "    </tr>\n",
       "    <tr>\n",
       "      <th>3771</th>\n",
       "      <td>picr_1</td>\n",
       "      <td>39714725</td>\n",
       "      <td>39714875</td>\n",
       "      <td>p1@MGAT5_gene_1540_asmbl_4893</td>\n",
       "      <td>0.582063</td>\n",
       "      <td>-</td>\n",
       "    </tr>\n",
       "    <tr>\n",
       "      <th>3772</th>\n",
       "      <td>picr_1</td>\n",
       "      <td>39715004</td>\n",
       "      <td>39715154</td>\n",
       "      <td>p2@MGAT5_gene_1540_asmbl_4893</td>\n",
       "      <td>0.641474</td>\n",
       "      <td>-</td>\n",
       "    </tr>\n",
       "    <tr>\n",
       "      <th>3773</th>\n",
       "      <td>picr_1</td>\n",
       "      <td>39715197</td>\n",
       "      <td>39715347</td>\n",
       "      <td>p4@MGAT5_gene_1540_asmbl_4893</td>\n",
       "      <td>0.429752</td>\n",
       "      <td>-</td>\n",
       "    </tr>\n",
       "    <tr>\n",
       "      <th>3774</th>\n",
       "      <td>picr_1</td>\n",
       "      <td>39813270</td>\n",
       "      <td>39813420</td>\n",
       "      <td>p1@MGAT5_gene_1540_asmbl_4892</td>\n",
       "      <td>1.723456</td>\n",
       "      <td>-</td>\n",
       "    </tr>\n",
       "    <tr>\n",
       "      <th>3775</th>\n",
       "      <td>picr_1</td>\n",
       "      <td>39813527</td>\n",
       "      <td>39813529</td>\n",
       "      <td>p0@MGAT5_gene_1540_asmbl_4889</td>\n",
       "      <td>0.000000</td>\n",
       "      <td>-</td>\n",
       "    </tr>\n",
       "    <tr>\n",
       "      <th>46348</th>\n",
       "      <td>picr_52</td>\n",
       "      <td>4879592</td>\n",
       "      <td>4879594</td>\n",
       "      <td>p0@MGAT5B_gene_21615_3_asmbl_60777</td>\n",
       "      <td>0.000000</td>\n",
       "      <td>-</td>\n",
       "    </tr>\n",
       "    <tr>\n",
       "      <th>46349</th>\n",
       "      <td>picr_52</td>\n",
       "      <td>4879714</td>\n",
       "      <td>4879864</td>\n",
       "      <td>p1@MGAT5B_gene_21615_1_asmbl_60775</td>\n",
       "      <td>0.678518</td>\n",
       "      <td>-</td>\n",
       "    </tr>\n",
       "  </tbody>\n",
       "</table>\n",
       "</div>"
      ],
      "text/plain": [
       "           Chr     Start       End                                  ID  \\\n",
       "3770    picr_1  39714515  39714665       p3@MGAT5_gene_1540_asmbl_4893   \n",
       "3771    picr_1  39714725  39714875       p1@MGAT5_gene_1540_asmbl_4893   \n",
       "3772    picr_1  39715004  39715154       p2@MGAT5_gene_1540_asmbl_4893   \n",
       "3773    picr_1  39715197  39715347       p4@MGAT5_gene_1540_asmbl_4893   \n",
       "3774    picr_1  39813270  39813420       p1@MGAT5_gene_1540_asmbl_4892   \n",
       "3775    picr_1  39813527  39813529       p0@MGAT5_gene_1540_asmbl_4889   \n",
       "46348  picr_52   4879592   4879594  p0@MGAT5B_gene_21615_3_asmbl_60777   \n",
       "46349  picr_52   4879714   4879864  p1@MGAT5B_gene_21615_1_asmbl_60775   \n",
       "\n",
       "           Stat Strand  \n",
       "3770   0.946452      -  \n",
       "3771   0.582063      -  \n",
       "3772   0.641474      -  \n",
       "3773   0.429752      -  \n",
       "3774   1.723456      -  \n",
       "3775   0.000000      -  \n",
       "46348  0.000000      -  \n",
       "46349  0.678518      -  "
      ]
     },
     "execution_count": 19,
     "metadata": {},
     "output_type": "execute_result"
    }
   ],
   "source": [
    "tss[tss[\"ID\"].str.contains(\"MGAT5\")]"
   ]
  }
 ],
 "metadata": {
  "kernelspec": {
   "display_name": "Python 2",
   "language": "python",
   "name": "python2"
  },
  "language_info": {
   "codemirror_mode": {
    "name": "ipython",
    "version": 2
   },
   "file_extension": ".py",
   "mimetype": "text/x-python",
   "name": "python",
   "nbconvert_exporter": "python",
   "pygments_lexer": "ipython2",
   "version": "2.7.13"
  }
 },
 "nbformat": 4,
 "nbformat_minor": 2
}
