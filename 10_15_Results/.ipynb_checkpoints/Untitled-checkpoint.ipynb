{
 "cells": [
  {
   "cell_type": "code",
   "execution_count": 1,
   "metadata": {
    "ExecuteTime": {
     "end_time": "2018-12-11T21:04:05.344211Z",
     "start_time": "2018-12-11T21:04:04.701954Z"
    }
   },
   "outputs": [
    {
     "ename": "IOError",
     "evalue": "/home/isshamie/software/anaconda2/lib/python2.7/site-packages/matplotlib/mpl-data/sample_data/percent_bachelors_degrees_women_usa.csv not found.",
     "output_type": "error",
     "traceback": [
      "\u001b[0;31m---------------------------------------------------------------------------\u001b[0m",
      "\u001b[0;31mIOError\u001b[0m                                   Traceback (most recent call last)",
      "\u001b[0;32m<ipython-input-1-1ac014b8650d>\u001b[0m in \u001b[0;36m<module>\u001b[0;34m()\u001b[0m\n\u001b[1;32m      6\u001b[0m fname = get_sample_data('percent_bachelors_degrees_women_usa.csv',\n\u001b[1;32m      7\u001b[0m                         asfileobj=False)\n\u001b[0;32m----> 8\u001b[0;31m \u001b[0mgender_degree_data\u001b[0m \u001b[0;34m=\u001b[0m \u001b[0mnp\u001b[0m\u001b[0;34m.\u001b[0m\u001b[0mgenfromtxt\u001b[0m\u001b[0;34m(\u001b[0m\u001b[0mfname\u001b[0m\u001b[0;34m,\u001b[0m \u001b[0mdelimiter\u001b[0m\u001b[0;34m=\u001b[0m\u001b[0;34m','\u001b[0m\u001b[0;34m,\u001b[0m \u001b[0mnames\u001b[0m\u001b[0;34m=\u001b[0m\u001b[0mTrue\u001b[0m\u001b[0;34m)\u001b[0m\u001b[0;34m\u001b[0m\u001b[0m\n\u001b[0m\u001b[1;32m      9\u001b[0m \u001b[0;34m\u001b[0m\u001b[0m\n\u001b[1;32m     10\u001b[0m \u001b[0;31m# These are the colors that will be used in the plot\u001b[0m\u001b[0;34m\u001b[0m\u001b[0;34m\u001b[0m\u001b[0m\n",
      "\u001b[0;32m/home/isshamie/software/anaconda2/lib/python2.7/site-packages/numpy/lib/npyio.pyc\u001b[0m in \u001b[0;36mgenfromtxt\u001b[0;34m(fname, dtype, comments, delimiter, skip_header, skip_footer, converters, missing_values, filling_values, usecols, names, excludelist, deletechars, replace_space, autostrip, case_sensitive, defaultfmt, unpack, usemask, loose, invalid_raise, max_rows)\u001b[0m\n\u001b[1;32m   1547\u001b[0m         \u001b[0;32mif\u001b[0m \u001b[0misinstance\u001b[0m\u001b[0;34m(\u001b[0m\u001b[0mfname\u001b[0m\u001b[0;34m,\u001b[0m \u001b[0mbasestring\u001b[0m\u001b[0;34m)\u001b[0m\u001b[0;34m:\u001b[0m\u001b[0;34m\u001b[0m\u001b[0m\n\u001b[1;32m   1548\u001b[0m             \u001b[0;32mif\u001b[0m \u001b[0msys\u001b[0m\u001b[0;34m.\u001b[0m\u001b[0mversion_info\u001b[0m\u001b[0;34m[\u001b[0m\u001b[0;36m0\u001b[0m\u001b[0;34m]\u001b[0m \u001b[0;34m==\u001b[0m \u001b[0;36m2\u001b[0m\u001b[0;34m:\u001b[0m\u001b[0;34m\u001b[0m\u001b[0m\n\u001b[0;32m-> 1549\u001b[0;31m                 \u001b[0mfhd\u001b[0m \u001b[0;34m=\u001b[0m \u001b[0miter\u001b[0m\u001b[0;34m(\u001b[0m\u001b[0mnp\u001b[0m\u001b[0;34m.\u001b[0m\u001b[0mlib\u001b[0m\u001b[0;34m.\u001b[0m\u001b[0m_datasource\u001b[0m\u001b[0;34m.\u001b[0m\u001b[0mopen\u001b[0m\u001b[0;34m(\u001b[0m\u001b[0mfname\u001b[0m\u001b[0;34m,\u001b[0m \u001b[0;34m'rbU'\u001b[0m\u001b[0;34m)\u001b[0m\u001b[0;34m)\u001b[0m\u001b[0;34m\u001b[0m\u001b[0m\n\u001b[0m\u001b[1;32m   1550\u001b[0m             \u001b[0;32melse\u001b[0m\u001b[0;34m:\u001b[0m\u001b[0;34m\u001b[0m\u001b[0m\n\u001b[1;32m   1551\u001b[0m                 \u001b[0mfhd\u001b[0m \u001b[0;34m=\u001b[0m \u001b[0miter\u001b[0m\u001b[0;34m(\u001b[0m\u001b[0mnp\u001b[0m\u001b[0;34m.\u001b[0m\u001b[0mlib\u001b[0m\u001b[0;34m.\u001b[0m\u001b[0m_datasource\u001b[0m\u001b[0;34m.\u001b[0m\u001b[0mopen\u001b[0m\u001b[0;34m(\u001b[0m\u001b[0mfname\u001b[0m\u001b[0;34m,\u001b[0m \u001b[0;34m'rb'\u001b[0m\u001b[0;34m)\u001b[0m\u001b[0;34m)\u001b[0m\u001b[0;34m\u001b[0m\u001b[0m\n",
      "\u001b[0;32m/home/isshamie/software/anaconda2/lib/python2.7/site-packages/numpy/lib/_datasource.pyc\u001b[0m in \u001b[0;36mopen\u001b[0;34m(path, mode, destpath)\u001b[0m\n\u001b[1;32m    149\u001b[0m \u001b[0;34m\u001b[0m\u001b[0m\n\u001b[1;32m    150\u001b[0m     \u001b[0mds\u001b[0m \u001b[0;34m=\u001b[0m \u001b[0mDataSource\u001b[0m\u001b[0;34m(\u001b[0m\u001b[0mdestpath\u001b[0m\u001b[0;34m)\u001b[0m\u001b[0;34m\u001b[0m\u001b[0m\n\u001b[0;32m--> 151\u001b[0;31m     \u001b[0;32mreturn\u001b[0m \u001b[0mds\u001b[0m\u001b[0;34m.\u001b[0m\u001b[0mopen\u001b[0m\u001b[0;34m(\u001b[0m\u001b[0mpath\u001b[0m\u001b[0;34m,\u001b[0m \u001b[0mmode\u001b[0m\u001b[0;34m)\u001b[0m\u001b[0;34m\u001b[0m\u001b[0m\n\u001b[0m\u001b[1;32m    152\u001b[0m \u001b[0;34m\u001b[0m\u001b[0m\n\u001b[1;32m    153\u001b[0m \u001b[0;34m\u001b[0m\u001b[0m\n",
      "\u001b[0;32m/home/isshamie/software/anaconda2/lib/python2.7/site-packages/numpy/lib/_datasource.pyc\u001b[0m in \u001b[0;36mopen\u001b[0;34m(self, path, mode)\u001b[0m\n\u001b[1;32m    499\u001b[0m             \u001b[0;32mreturn\u001b[0m \u001b[0m_file_openers\u001b[0m\u001b[0;34m[\u001b[0m\u001b[0mext\u001b[0m\u001b[0;34m]\u001b[0m\u001b[0;34m(\u001b[0m\u001b[0mfound\u001b[0m\u001b[0;34m,\u001b[0m \u001b[0mmode\u001b[0m\u001b[0;34m=\u001b[0m\u001b[0mmode\u001b[0m\u001b[0;34m)\u001b[0m\u001b[0;34m\u001b[0m\u001b[0m\n\u001b[1;32m    500\u001b[0m         \u001b[0;32melse\u001b[0m\u001b[0;34m:\u001b[0m\u001b[0;34m\u001b[0m\u001b[0m\n\u001b[0;32m--> 501\u001b[0;31m             \u001b[0;32mraise\u001b[0m \u001b[0mIOError\u001b[0m\u001b[0;34m(\u001b[0m\u001b[0;34m\"%s not found.\"\u001b[0m \u001b[0;34m%\u001b[0m \u001b[0mpath\u001b[0m\u001b[0;34m)\u001b[0m\u001b[0;34m\u001b[0m\u001b[0m\n\u001b[0m\u001b[1;32m    502\u001b[0m \u001b[0;34m\u001b[0m\u001b[0m\n\u001b[1;32m    503\u001b[0m \u001b[0;34m\u001b[0m\u001b[0m\n",
      "\u001b[0;31mIOError\u001b[0m: /home/isshamie/software/anaconda2/lib/python2.7/site-packages/matplotlib/mpl-data/sample_data/percent_bachelors_degrees_women_usa.csv not found."
     ]
    }
   ],
   "source": [
    "import numpy as np\n",
    "import matplotlib.pyplot as plt\n",
    "from matplotlib.cbook import get_sample_data\n",
    "%matplotlib inline\n",
    "\n",
    "fname = get_sample_data('percent_bachelors_degrees_women_usa.csv',\n",
    "                        asfileobj=False)\n",
    "gender_degree_data = np.genfromtxt(fname, delimiter=',', names=True)\n",
    "\n",
    "# These are the colors that will be used in the plot\n",
    "color_sequence = ['#1f77b4', '#aec7e8', '#ff7f0e', '#ffbb78', '#2ca02c',\n",
    "                  '#98df8a', '#d62728', '#ff9896', '#9467bd', '#c5b0d5',\n",
    "                  '#8c564b', '#c49c94', '#e377c2', '#f7b6d2', '#7f7f7f',\n",
    "                  '#c7c7c7', '#bcbd22', '#dbdb8d', '#17becf', '#9edae5']\n",
    "\n",
    "# You typically want your plot to be ~1.33x wider than tall. This plot\n",
    "# is a rare exception because of the number of lines being plotted on it.\n",
    "# Common sizes: (10, 7.5) and (12, 9)\n",
    "fig, ax = plt.subplots(1, 1, figsize=(12, 14))\n"
   ]
  },
  {
   "cell_type": "code",
   "execution_count": null,
   "metadata": {
    "collapsed": true
   },
   "outputs": [],
   "source": [
    "\n",
    "# Remove the plot frame lines. They are unnecessary here.\n",
    "ax.spines['top'].set_visible(False)\n",
    "ax.spines['bottom'].set_visible(False)\n",
    "ax.spines['right'].set_visible(False)\n",
    "ax.spines['left'].set_visible(False)\n",
    "\n",
    "# Ensure that the axis ticks only show up on the bottom and left of the plot.\n",
    "# Ticks on the right and top of the plot are generally unnecessary.\n",
    "ax.get_xaxis().tick_bottom()\n",
    "ax.get_yaxis().tick_left()\n",
    "\n",
    "fig.subplots_adjust(left=.06, right=.75, bottom=.02, top=.94)\n",
    "# Limit the range of the plot to only where the data is.\n",
    "# Avoid unnecessary whitespace.\n",
    "ax.set_xlim(1969.5, 2011.1)\n",
    "ax.set_ylim(-0.25, 90)\n",
    "\n",
    "# Make sure your axis ticks are large enough to be easily read.\n",
    "# You don't want your viewers squinting to read your plot.\n",
    "plt.xticks(range(1970, 2011, 10), fontsize=14)\n",
    "plt.yticks(range(0, 91, 10), fontsize=14)\n",
    "ax.xaxis.set_major_formatter(plt.FuncFormatter('{:.0f}'.format))\n",
    "ax.yaxis.set_major_formatter(plt.FuncFormatter('{:.0f}%'.format))\n",
    "\n",
    "# Provide tick lines across the plot to help your viewers trace along\n",
    "# the axis ticks. Make sure that the lines are light and small so they\n",
    "# don't obscure the primary data lines.\n",
    "plt.grid(True, 'major', 'y', ls='--', lw=.5, c='k', alpha=.3)\n",
    "\n",
    "# Remove the tick marks; they are unnecessary with the tick lines we just\n",
    "# plotted.\n",
    "plt.tick_params(axis='both', which='both', bottom=False, top=False,\n",
    "                labelbottom=True, left=False, right=False, labelleft=True)\n",
    "\n",
    "# Now that the plot is prepared, it's time to actually plot the data!\n",
    "# Note that I plotted the majors in order of the highest % in the final year.\n",
    "majors = ['Health Professions', 'Public Administration', 'Education',\n",
    "          'Psychology', 'Foreign Languages', 'English',\n",
    "          'Communications\\nand Journalism', 'Art and Performance', 'Biology',\n",
    "          'Agriculture', 'Social Sciences and History', 'Business',\n",
    "          'Math and Statistics', 'Architecture', 'Physical Sciences',\n",
    "          'Computer Science', 'Engineering']\n",
    "\n",
    "y_offsets = {'Foreign Languages': 0.5, 'English': -0.5,\n",
    "             'Communications\\nand Journalism': 0.75,\n",
    "             'Art and Performance': -0.25, 'Agriculture': 1.25,\n",
    "             'Social Sciences and History': 0.25, 'Business': -0.75,\n",
    "             'Math and Statistics': 0.75, 'Architecture': -0.75,\n",
    "             'Computer Science': 0.75, 'Engineering': -0.25}\n",
    "\n",
    "for rank, column in enumerate(majors):\n",
    "    # Plot each line separately with its own color.\n",
    "    column_rec_name = column.replace('\\n', '_').replace(' ', '_')\n",
    "\n",
    "    line = plt.plot(gender_degree_data['Year'],\n",
    "                    gender_degree_data[column_rec_name],\n",
    "                    lw=2.5,\n",
    "                    color=color_sequence[rank])\n",
    "\n",
    "    # Add a text label to the right end of every line. Most of the code below\n",
    "    # is adding specific offsets y position because some labels overlapped.\n",
    "    y_pos = gender_degree_data[column_rec_name][-1] - 0.5\n",
    "\n",
    "    if column in y_offsets:\n",
    "        y_pos += y_offsets[column]\n",
    "\n",
    "    # Again, make sure that all labels are large enough to be easily read\n",
    "    # by the viewer.\n",
    "    plt.text(2011.5, y_pos, column, fontsize=14, color=color_sequence[rank])\n",
    "\n",
    "# Make the title big enough so it spans the entire plot, but don't make it\n",
    "# so big that it requires two lines to show.\n",
    "\n",
    "# Note that if the title is descriptive enough, it is unnecessary to include\n",
    "# axis labels; they are self-evident, in this plot's case.\n",
    "fig.suptitle('Percentage of Bachelor\\'s degrees conferred to women in '\n",
    "             'the U.S.A. by major (1970-2011)\\n', fontsize=18, ha='center')\n"
   ]
  },
  {
   "cell_type": "code",
   "execution_count": null,
   "metadata": {
    "collapsed": true
   },
   "outputs": [],
   "source": []
  },
  {
   "cell_type": "code",
   "execution_count": null,
   "metadata": {
    "collapsed": true
   },
   "outputs": [],
   "source": []
  },
  {
   "cell_type": "code",
   "execution_count": 3,
   "metadata": {
    "ExecuteTime": {
     "end_time": "2019-01-02T22:16:16.701265Z",
     "start_time": "2019-01-02T22:16:16.695746Z"
    }
   },
   "outputs": [],
   "source": [
    "txn_f = \"Results/tss_annotation/txn_df_02_tissues.p\"\n",
    "#expr_f = \"Results/merged/samples.merge.peaksexpression.log10\"\n",
    "expr_f = \"Results/merged/tissues.merge.peaksexpression.log10\"\n",
    "anno_f = \"Results/tss_annotation_peaks/all_peaks_txn_df_02_maxinfo.tsv\"\n",
    "#rank_func = rank_median_samples\n",
    "atac_f = \"Results/ATAC_results/CHO/ATAC_ppr.naive_overlap.narrowPeak.sort\"\n",
    "tss_f = \"/data/isshamie/genome/picr_final/mRNA_final.peak\"#tss_annotation\n",
    "all_atac = \"Results/ATAC_results/ATAC_merge.bed\"\n"
   ]
  },
  {
   "cell_type": "code",
   "execution_count": 10,
   "metadata": {
    "ExecuteTime": {
     "end_time": "2019-01-02T22:23:09.419141Z",
     "start_time": "2019-01-02T22:23:08.459377Z"
    }
   },
   "outputs": [
    {
     "data": {
      "text/plain": [
       "array(['-', '+'], dtype=object)"
      ]
     },
     "execution_count": 10,
     "metadata": {},
     "output_type": "execute_result"
    }
   ],
   "source": [
    "anno_df = pd.read_csv(anno_f,sep=\"\\t\")\n",
    "anno_df[\"Strand\"].unique()\n"
   ]
  },
  {
   "cell_type": "code",
   "execution_count": 11,
   "metadata": {
    "ExecuteTime": {
     "end_time": "2019-01-02T22:23:23.878611Z",
     "start_time": "2019-01-02T22:23:23.865104Z"
    }
   },
   "outputs": [
    {
     "data": {
      "text/plain": [
       "False"
      ]
     },
     "execution_count": 11,
     "metadata": {},
     "output_type": "execute_result"
    }
   ],
   "source": [
    "anno_df[\"Strand\"].isnull().any()"
   ]
  },
  {
   "cell_type": "code",
   "execution_count": 5,
   "metadata": {
    "ExecuteTime": {
     "end_time": "2019-01-02T22:16:29.620619Z",
     "start_time": "2019-01-02T22:16:29.615936Z"
    },
    "collapsed": true
   },
   "outputs": [],
   "source": [
    "import pandas as pd\n",
    "import pickle"
   ]
  },
  {
   "cell_type": "code",
   "execution_count": 6,
   "metadata": {
    "ExecuteTime": {
     "end_time": "2019-01-02T22:17:06.951506Z",
     "start_time": "2019-01-02T22:16:53.362447Z"
    },
    "scrolled": true
   },
   "outputs": [
    {
     "data": {
      "text/html": [
       "<div>\n",
       "<style scoped>\n",
       "    .dataframe tbody tr th:only-of-type {\n",
       "        vertical-align: middle;\n",
       "    }\n",
       "\n",
       "    .dataframe tbody tr th {\n",
       "        vertical-align: top;\n",
       "    }\n",
       "\n",
       "    .dataframe thead th {\n",
       "        text-align: right;\n",
       "    }\n",
       "</style>\n",
       "<table border=\"1\" class=\"dataframe\">\n",
       "  <thead>\n",
       "    <tr style=\"text-align: right;\">\n",
       "      <th></th>\n",
       "      <th>peaks</th>\n",
       "      <th>closest_to_X_numberOfPeaks</th>\n",
       "      <th>bin_-1000_1000</th>\n",
       "      <th>sameStrand_bin_-1000_1000</th>\n",
       "      <th>samples</th>\n",
       "      <th>minDistance</th>\n",
       "      <th>minDistancePeak</th>\n",
       "      <th>maxValue</th>\n",
       "      <th>maxPeakId</th>\n",
       "      <th>maxSample</th>\n",
       "      <th>...</th>\n",
       "      <th>Start</th>\n",
       "      <th>End</th>\n",
       "      <th>Strand</th>\n",
       "      <th>gene_id</th>\n",
       "      <th>gene</th>\n",
       "      <th>transcript</th>\n",
       "      <th>maxSamples</th>\n",
       "      <th>hasGene</th>\n",
       "      <th>Number of SS</th>\n",
       "      <th>Tissues</th>\n",
       "    </tr>\n",
       "  </thead>\n",
       "  <tbody>\n",
       "    <tr>\n",
       "      <th>asmbl_2</th>\n",
       "      <td>[]</td>\n",
       "      <td>0</td>\n",
       "      <td>[]</td>\n",
       "      <td>[]</td>\n",
       "      <td>[]</td>\n",
       "      <td>inf</td>\n",
       "      <td>NaN</td>\n",
       "      <td>NaN</td>\n",
       "      <td>NaN</td>\n",
       "      <td>NaN</td>\n",
       "      <td>...</td>\n",
       "      <td>NaN</td>\n",
       "      <td>NaN</td>\n",
       "      <td>NaN</td>\n",
       "      <td>NaN</td>\n",
       "      <td>NaN</td>\n",
       "      <td>NaN</td>\n",
       "      <td>[]</td>\n",
       "      <td>False</td>\n",
       "      <td>0</td>\n",
       "      <td></td>\n",
       "    </tr>\n",
       "    <tr>\n",
       "      <th>asmbl_4</th>\n",
       "      <td>[215685, 249167, 398989, 483229]</td>\n",
       "      <td>4</td>\n",
       "      <td>[215685]</td>\n",
       "      <td>[215685]</td>\n",
       "      <td>[CHO_START1_and_CHO_STARTinput1]</td>\n",
       "      <td>706.000000</td>\n",
       "      <td>215685</td>\n",
       "      <td>3.04</td>\n",
       "      <td>215685</td>\n",
       "      <td>NaN</td>\n",
       "      <td>...</td>\n",
       "      <td>45849</td>\n",
       "      <td>45999</td>\n",
       "      <td>-</td>\n",
       "      <td>gene_2</td>\n",
       "      <td>RRP7A</td>\n",
       "      <td>asmbl_4</td>\n",
       "      <td>[CHO_START1_and_CHO_STARTinput1]</td>\n",
       "      <td>True</td>\n",
       "      <td>1</td>\n",
       "      <td>CHO</td>\n",
       "    </tr>\n",
       "    <tr>\n",
       "      <th>asmbl_7</th>\n",
       "      <td>[104402]</td>\n",
       "      <td>1</td>\n",
       "      <td>[104402]</td>\n",
       "      <td>[]</td>\n",
       "      <td>[]</td>\n",
       "      <td>inf</td>\n",
       "      <td>NaN</td>\n",
       "      <td>NaN</td>\n",
       "      <td>NaN</td>\n",
       "      <td>NaN</td>\n",
       "      <td>...</td>\n",
       "      <td>NaN</td>\n",
       "      <td>NaN</td>\n",
       "      <td>NaN</td>\n",
       "      <td>NaN</td>\n",
       "      <td>NaN</td>\n",
       "      <td>NaN</td>\n",
       "      <td>[]</td>\n",
       "      <td>False</td>\n",
       "      <td>0</td>\n",
       "      <td></td>\n",
       "    </tr>\n",
       "    <tr>\n",
       "      <th>asmbl_8</th>\n",
       "      <td>[]</td>\n",
       "      <td>0</td>\n",
       "      <td>[]</td>\n",
       "      <td>[]</td>\n",
       "      <td>[]</td>\n",
       "      <td>inf</td>\n",
       "      <td>NaN</td>\n",
       "      <td>NaN</td>\n",
       "      <td>NaN</td>\n",
       "      <td>NaN</td>\n",
       "      <td>...</td>\n",
       "      <td>NaN</td>\n",
       "      <td>NaN</td>\n",
       "      <td>NaN</td>\n",
       "      <td>NaN</td>\n",
       "      <td>NaN</td>\n",
       "      <td>NaN</td>\n",
       "      <td>[]</td>\n",
       "      <td>False</td>\n",
       "      <td>0</td>\n",
       "      <td></td>\n",
       "    </tr>\n",
       "    <tr>\n",
       "      <th>asmbl_9</th>\n",
       "      <td>[]</td>\n",
       "      <td>0</td>\n",
       "      <td>[]</td>\n",
       "      <td>[]</td>\n",
       "      <td>[]</td>\n",
       "      <td>inf</td>\n",
       "      <td>NaN</td>\n",
       "      <td>NaN</td>\n",
       "      <td>NaN</td>\n",
       "      <td>NaN</td>\n",
       "      <td>...</td>\n",
       "      <td>NaN</td>\n",
       "      <td>NaN</td>\n",
       "      <td>NaN</td>\n",
       "      <td>NaN</td>\n",
       "      <td>NaN</td>\n",
       "      <td>NaN</td>\n",
       "      <td>[]</td>\n",
       "      <td>False</td>\n",
       "      <td>0</td>\n",
       "      <td></td>\n",
       "    </tr>\n",
       "  </tbody>\n",
       "</table>\n",
       "<p>5 rows × 21 columns</p>\n",
       "</div>"
      ],
      "text/plain": [
       "                                    peaks  closest_to_X_numberOfPeaks  \\\n",
       "asmbl_2                                []                           0   \n",
       "asmbl_4  [215685, 249167, 398989, 483229]                           4   \n",
       "asmbl_7                          [104402]                           1   \n",
       "asmbl_8                                []                           0   \n",
       "asmbl_9                                []                           0   \n",
       "\n",
       "        bin_-1000_1000 sameStrand_bin_-1000_1000  \\\n",
       "asmbl_2             []                        []   \n",
       "asmbl_4       [215685]                  [215685]   \n",
       "asmbl_7       [104402]                        []   \n",
       "asmbl_8             []                        []   \n",
       "asmbl_9             []                        []   \n",
       "\n",
       "                                  samples  minDistance minDistancePeak  \\\n",
       "asmbl_2                                []          inf             NaN   \n",
       "asmbl_4  [CHO_START1_and_CHO_STARTinput1]   706.000000          215685   \n",
       "asmbl_7                                []          inf             NaN   \n",
       "asmbl_8                                []          inf             NaN   \n",
       "asmbl_9                                []          inf             NaN   \n",
       "\n",
       "        maxValue maxPeakId maxSample   ...     Start    End Strand gene_id  \\\n",
       "asmbl_2      NaN       NaN       NaN   ...       NaN    NaN    NaN     NaN   \n",
       "asmbl_4     3.04    215685       NaN   ...     45849  45999      -  gene_2   \n",
       "asmbl_7      NaN       NaN       NaN   ...       NaN    NaN    NaN     NaN   \n",
       "asmbl_8      NaN       NaN       NaN   ...       NaN    NaN    NaN     NaN   \n",
       "asmbl_9      NaN       NaN       NaN   ...       NaN    NaN    NaN     NaN   \n",
       "\n",
       "          gene transcript                        maxSamples hasGene  \\\n",
       "asmbl_2    NaN        NaN                                []   False   \n",
       "asmbl_4  RRP7A    asmbl_4  [CHO_START1_and_CHO_STARTinput1]    True   \n",
       "asmbl_7    NaN        NaN                                []   False   \n",
       "asmbl_8    NaN        NaN                                []   False   \n",
       "asmbl_9    NaN        NaN                                []   False   \n",
       "\n",
       "         Number of SS  Tissues  \n",
       "asmbl_2             0           \n",
       "asmbl_4             1      CHO  \n",
       "asmbl_7             0           \n",
       "asmbl_8             0           \n",
       "asmbl_9             0           \n",
       "\n",
       "[5 rows x 21 columns]"
      ]
     },
     "execution_count": 6,
     "metadata": {},
     "output_type": "execute_result"
    }
   ],
   "source": [
    "txn_df = pickle.load(open(txn_f,\"rb\"))\n",
    "txn_df.head()"
   ]
  },
  {
   "cell_type": "code",
   "execution_count": 33,
   "metadata": {
    "ExecuteTime": {
     "end_time": "2019-01-02T22:33:49.905073Z",
     "start_time": "2019-01-02T22:33:49.795075Z"
    },
    "scrolled": true
   },
   "outputs": [
    {
     "data": {
      "text/plain": [
       "peaks                         [41475, 99647, 151087, 289513, 320335, 333864,...\n",
       "closest_to_X_numberOfPeaks                                                    7\n",
       "bin_-1000_1000                   [41475, 99647, 289513, 320335, 333864, 457557]\n",
       "sameStrand_bin_-1000_1000                        [41475, 99647, 289513, 457557]\n",
       "samples                                                                      []\n",
       "minDistance                                                                 inf\n",
       "minDistancePeak                                                             NaN\n",
       "maxValue                                                                    NaN\n",
       "maxPeakId                                                                   NaN\n",
       "maxSample                                                                   NaN\n",
       "Chr                                                                         NaN\n",
       "Start                                                                       NaN\n",
       "End                                                                         NaN\n",
       "Strand                                                                      NaN\n",
       "gene_id                                                                     NaN\n",
       "gene                                                                        NaN\n",
       "transcript                                                                  NaN\n",
       "maxSamples                                                                   []\n",
       "hasGene                                                                    True\n",
       "Number of SS                                                                  4\n",
       "Tissues                                                                        \n",
       "Name: asmbl_119, dtype: object"
      ]
     },
     "execution_count": 33,
     "metadata": {},
     "output_type": "execute_result"
    }
   ],
   "source": [
    "null_genes = txn_df[txn_df[\"hasGene\"]].loc[txn_df[txn_df[\"hasGene\"]][\"Strand\"].isnull()]\n",
    "null_genes.iloc[0]"
   ]
  },
  {
   "cell_type": "code",
   "execution_count": 34,
   "metadata": {
    "ExecuteTime": {
     "end_time": "2019-01-02T23:20:05.261962Z",
     "start_time": "2019-01-02T23:20:05.255141Z"
    }
   },
   "outputs": [
    {
     "data": {
      "text/plain": [
       "1011"
      ]
     },
     "execution_count": 34,
     "metadata": {},
     "output_type": "execute_result"
    }
   ],
   "source": [
    "len(null_genes)"
   ]
  }
 ],
 "metadata": {
  "kernelspec": {
   "display_name": "Python 2",
   "language": "python",
   "name": "python2"
  },
  "language_info": {
   "codemirror_mode": {
    "name": "ipython",
    "version": 2
   },
   "file_extension": ".py",
   "mimetype": "text/x-python",
   "name": "python",
   "nbconvert_exporter": "python",
   "pygments_lexer": "ipython2",
   "version": "2.7.13"
  }
 },
 "nbformat": 4,
 "nbformat_minor": 2
}
