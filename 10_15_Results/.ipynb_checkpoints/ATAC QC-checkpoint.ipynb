{
 "cells": [
  {
   "cell_type": "code",
   "execution_count": 2,
   "metadata": {
    "ExecuteTime": {
     "end_time": "2018-11-23T22:08:33.802600Z",
     "start_time": "2018-11-23T22:08:33.612814Z"
    },
    "scrolled": true
   },
   "outputs": [
    {
     "name": "stdout",
     "output_type": "stream",
     "text": [
      "The autoreload extension is already loaded. To reload it, use:\n",
      "  %reload_ext autoreload\n",
      "('Number of tissues: ', 15)\n"
     ]
    }
   ],
   "source": [
    "tissues_with_atac = [\n",
    "    'CHO', 'Brain', 'Liver', 'Lung', 'Kidney', 'Spleen', 'BMDMwt', 'BMDM1hKLA'\n",
    "]\n",
    "\n",
    "## Parameters specific to where your folders are and your data\n",
    "parameter_file = 'params/params.yaml'\n",
    "import yaml\n",
    "import sys\n",
    "\n",
    "with open(parameter_file, 'r') as f:\n",
    "    doc = yaml.load(f)\n",
    "\n",
    "#p = dic2obj(**doc)\n",
    "\n",
    "data_folder = doc['data_folder']\n",
    "tissues = doc['tissues'].split(',')\n",
    "sys.path.append(doc['pipeline_path'])\n",
    "ref_fa = doc['ref_fa']\n",
    "annotation = doc['annotation']\n",
    "\n",
    "tss_annotation = doc['tss_annotation']\n",
    "\n",
    "import os\n",
    "import sys\n",
    "import pandas as pd\n",
    "import matplotlib\n",
    "import seaborn as sns\n",
    "import pickle\n",
    "import numpy as np\n",
    "import matplotlib as mpl\n",
    "from matplotlib import pyplot as plt\n",
    "from itertools import product\n",
    "import glob\n",
    "import re\n",
    "from matplotlib_venn import venn2\n",
    "from matplotlib import rcParams\n",
    "import inspect\n",
    "%matplotlib inline\n",
    "%config InlineBackend.figure_format = 'retina'\n",
    "sys.setrecursionlimit(3000)\n",
    "%load_ext autoreload\n",
    "%autoreload 2\n",
    "rcParams['figure.figsize'] = 8, 6\n",
    "import tqdm\n",
    "### notebook specific configuration ###\n",
    "from os.path import basename\n",
    "#mpl.style.use('ggplot')\n",
    "mpl.style.use('fivethirtyeight')\n",
    "from cycler import cycler\n",
    "#mpl.rcParams['axes.prop_cycle'] = cycler(color='bgrcmyk')\n",
    "\n",
    "from Homer import *\n",
    "\n",
    "print('Number of tissues: ', len(tissues))"
   ]
  },
  {
   "cell_type": "code",
   "execution_count": 3,
   "metadata": {
    "ExecuteTime": {
     "end_time": "2018-11-23T22:08:35.747703Z",
     "start_time": "2018-11-23T22:08:35.707334Z"
    },
    "collapsed": true
   },
   "outputs": [],
   "source": [
    "import json"
   ]
  },
  {
   "cell_type": "code",
   "execution_count": 4,
   "metadata": {
    "ExecuteTime": {
     "end_time": "2018-11-23T22:08:36.994137Z",
     "start_time": "2018-11-23T22:08:36.952919Z"
    },
    "collapsed": true
   },
   "outputs": [],
   "source": [
    "#Recommended standards by \n",
    "recommended = dict()\n",
    "recommended['NRF'] = 0.9\n",
    "recommended['PBC1'] = 0.9\n",
    "recommended['mapped_pct'] = 80\n",
    "recommended['FRiP'] = 0.3\n",
    "recommended['total_reads'] = 25e6\n",
    "recommended['tissue'] = 'ENCODE Rec'"
   ]
  },
  {
   "cell_type": "code",
   "execution_count": 6,
   "metadata": {
    "ExecuteTime": {
     "end_time": "2018-11-23T22:08:47.958509Z",
     "start_time": "2018-11-23T22:08:47.899568Z"
    }
   },
   "outputs": [
    {
     "data": {
      "text/plain": [
       "'/data/isshamie/TSS/1015_Processed/CHO/ATAC/out/*ENCODE*json'"
      ]
     },
     "execution_count": 6,
     "metadata": {},
     "output_type": "execute_result"
    }
   ],
   "source": [
    "curr"
   ]
  },
  {
   "cell_type": "code",
   "execution_count": null,
   "metadata": {
    "collapsed": true
   },
   "outputs": [],
   "source": [
    "curr"
   ]
  },
  {
   "cell_type": "code",
   "execution_count": 7,
   "metadata": {
    "ExecuteTime": {
     "end_time": "2018-11-23T22:09:33.198582Z",
     "start_time": "2018-11-23T22:09:32.982484Z"
    },
    "scrolled": false
   },
   "outputs": [
    {
     "name": "stdout",
     "output_type": "stream",
     "text": [
      "/data/isshamie/TSS/1015_Processed/Brain/ATAC/out/ENCODE_summary.json\n",
      "/data/isshamie/TSS/1015_Processed/Liver/ATAC/out/ENCODE_summary.json\n",
      "/data/isshamie/TSS/1015_Processed/Lung/ATAC/out/ENCODE_summary.json\n",
      "/data/isshamie/TSS/1015_Processed/Kidney/ATAC/out/ENCODE_summary.json\n",
      "/data/isshamie/TSS/1015_Processed/Spleen/ATAC/out/ENCODE_summary.json\n"
     ]
    },
    {
     "ename": "IndexError",
     "evalue": "list index out of range",
     "output_type": "error",
     "traceback": [
      "\u001b[0;31m---------------------------------------------------------------------------\u001b[0m",
      "\u001b[0;31mIndexError\u001b[0m                                Traceback (most recent call last)",
      "\u001b[0;32m<ipython-input-7-6d6fd8b84125>\u001b[0m in \u001b[0;36m<module>\u001b[0;34m()\u001b[0m\n\u001b[1;32m      9\u001b[0m     \u001b[0mcurr\u001b[0m \u001b[0;34m=\u001b[0m \u001b[0mos\u001b[0m\u001b[0;34m.\u001b[0m\u001b[0mpath\u001b[0m\u001b[0;34m.\u001b[0m\u001b[0mjoin\u001b[0m\u001b[0;34m(\u001b[0m\u001b[0mdata_folder\u001b[0m\u001b[0;34m,\u001b[0m\u001b[0mt\u001b[0m\u001b[0;34m)\u001b[0m\u001b[0;34m\u001b[0m\u001b[0m\n\u001b[1;32m     10\u001b[0m     \u001b[0mcurr\u001b[0m \u001b[0;34m=\u001b[0m \u001b[0mos\u001b[0m\u001b[0;34m.\u001b[0m\u001b[0mpath\u001b[0m\u001b[0;34m.\u001b[0m\u001b[0mjoin\u001b[0m\u001b[0;34m(\u001b[0m\u001b[0mcurr\u001b[0m\u001b[0;34m,\u001b[0m\u001b[0;34m'ATAC/out/*ENCODE*json'\u001b[0m\u001b[0;34m)\u001b[0m\u001b[0;34m\u001b[0m\u001b[0m\n\u001b[0;32m---> 11\u001b[0;31m     \u001b[0mcurr\u001b[0m \u001b[0;34m=\u001b[0m \u001b[0mglob\u001b[0m\u001b[0;34m.\u001b[0m\u001b[0mglob\u001b[0m\u001b[0;34m(\u001b[0m\u001b[0mcurr\u001b[0m\u001b[0;34m)\u001b[0m\u001b[0;34m[\u001b[0m\u001b[0;36m0\u001b[0m\u001b[0;34m]\u001b[0m\u001b[0;34m\u001b[0m\u001b[0m\n\u001b[0m\u001b[1;32m     12\u001b[0m     \u001b[0;32mprint\u001b[0m\u001b[0;34m(\u001b[0m\u001b[0mcurr\u001b[0m\u001b[0;34m)\u001b[0m\u001b[0;34m\u001b[0m\u001b[0m\n\u001b[1;32m     13\u001b[0m     \u001b[0;32mwith\u001b[0m \u001b[0mopen\u001b[0m\u001b[0;34m(\u001b[0m\u001b[0mcurr\u001b[0m\u001b[0;34m,\u001b[0m \u001b[0;34m'r'\u001b[0m\u001b[0;34m)\u001b[0m \u001b[0;32mas\u001b[0m \u001b[0mf\u001b[0m\u001b[0;34m:\u001b[0m\u001b[0;34m\u001b[0m\u001b[0m\n",
      "\u001b[0;31mIndexError\u001b[0m: list index out of range"
     ]
    }
   ],
   "source": [
    "qc = pd.DataFrame()\n",
    "\n",
    "qc = qc.append(pd.DataFrame(recommended,index=['Recommended standards']))\n",
    "\n",
    "\n",
    "for t in tissues_with_atac:\n",
    "    if  t==\"CHO\":\n",
    "        continue\n",
    "    curr = os.path.join(data_folder,t)\n",
    "    curr = os.path.join(curr,'ATAC/out/*ENCODE*json')\n",
    "    curr = glob.glob(curr)[0]\n",
    "    print(curr)\n",
    "    with open(curr, 'r') as f:\n",
    "        datastore = json.load(f)\n",
    "    #t_dict = dict()\n",
    "    reps = []\n",
    "    for i in range(len(datastore['data_files'])):\n",
    "        d = dict()\n",
    "        d['tissue'] = t\n",
    "        reps.append(d)\n",
    "\n",
    "    count_pcr = 0\n",
    "    count_sam = 0\n",
    "    for i in datastore['ENCODE_quality_metrics']:\n",
    "\n",
    "        if i['ENCODE_qc_type'] == 'complexity_xcorr_quality_metric':\n",
    "            #print(i)\n",
    "            reps[count_pcr]['NRF'] = np.float(i['NRF'])\n",
    "            reps[count_pcr]['PBC1'] = np.float(i['PBC1'])\n",
    "            count_pcr += 1\n",
    "        elif i['ENCODE_qc_type'] == 'samtools_flagstats_quality_metric':\n",
    "            reps[count_sam]['total_reads'] = np.int(i['total'])\n",
    "            reps[count_sam]['mapped_pct'] = np.float(i['mapped_pct'])\n",
    "            count_sam += 1\n",
    "\n",
    "    for i in datastore['qc_files']:\n",
    "        if i['header'] == 'FRiP' and i['info'] == 'rep1-pr':\n",
    "            reps[0]['FRiP'] = np.float(i['contents'])\n",
    "        elif i['header'] == 'FRiP' and i['info'] == 'rep2-pr':\n",
    "            reps[1]['FRiP'] = np.float(i['contents'])\n",
    "    #t_dict[]\n",
    "    for i,r in enumerate(reps):\n",
    "        qc = qc.append(pd.DataFrame(r,index=[t+'_'+str(i+1)]))\n",
    "        \n",
    "#qc = qc.append(pd.DataFrame(recommended,index=['Recommended standards']))\n",
    "qc = qc[['total_reads','mapped_pct','NRF','PBC1','FRiP','tissue']]\n",
    "\n",
    "qc\n"
   ]
  },
  {
   "cell_type": "code",
   "execution_count": null,
   "metadata": {
    "ExecuteTime": {
     "end_time": "2018-11-23T22:08:14.707144Z",
     "start_time": "2018-11-23T22:08:03.537Z"
    },
    "scrolled": false
   },
   "outputs": [],
   "source": [
    "sns.pairplot(qc,hue='tissue')\n",
    "plt.savefig('Results/ATAC_results/QC.png')"
   ]
  },
  {
   "cell_type": "code",
   "execution_count": null,
   "metadata": {
    "ExecuteTime": {
     "end_time": "2018-11-23T22:08:14.708633Z",
     "start_time": "2018-11-23T22:08:03.539Z"
    },
    "scrolled": false
   },
   "outputs": [],
   "source": [
    "f = plt.figure(figsize=(10,8),dpi=300)\n",
    "#f = plt.figure()\n",
    "num_col = len(qc.columns)-1\n",
    "plt.subplot()\n",
    "count = 1\n",
    "for val in (qc.columns):\n",
    "    print(val)\n",
    "\n",
    "    if not val == 'tissue':\n",
    "        plt.subplot(2,int(num_col/2)+1,count)\n",
    "        f.subplots_adjust(hspace=.5)\n",
    "        f.subplots_adjust(wspace=1)\n",
    "        sns.barplot(x=\"tissue\", y=val, \n",
    "                 data=qc, saturation=.5,ax=plt.gca())\n",
    "        plt.xticks(rotation=90)\n",
    "#         qc.loc[:,val].plot.bar(color='salmon')\n",
    "        count+=1\n",
    "        plt.xlabel('')\n",
    "        plt.ylabel(val)\n",
    "plt.tight_layout()\n",
    "plt.savefig('Results/ATAC_results/QC_bar.png')"
   ]
  }
 ],
 "metadata": {
  "kernelspec": {
   "display_name": "Python 2",
   "language": "python",
   "name": "python2"
  },
  "language_info": {
   "codemirror_mode": {
    "name": "ipython",
    "version": 2
   },
   "file_extension": ".py",
   "mimetype": "text/x-python",
   "name": "python",
   "nbconvert_exporter": "python",
   "pygments_lexer": "ipython2",
   "version": "2.7.13"
  }
 },
 "nbformat": 4,
 "nbformat_minor": 2
}
