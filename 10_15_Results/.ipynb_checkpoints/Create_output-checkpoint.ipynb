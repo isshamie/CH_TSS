{
 "cells": [
  {
   "cell_type": "code",
   "execution_count": 1,
   "metadata": {
    "ExecuteTime": {
     "end_time": "2019-01-03T23:52:52.762376Z",
     "start_time": "2019-01-03T23:52:51.467366Z"
    },
    "scrolled": false
   },
   "outputs": [
    {
     "name": "stdout",
     "output_type": "stream",
     "text": [
      "('Number of tissues: ', 15)\n"
     ]
    }
   ],
   "source": [
    "tissues_with_atac = ['CHO','Brain','Liver','Lung','Kidney','Spleen','BMDMwt','BMDM1hKLA']\n",
    "\n",
    "## Parameters specific to where your folders are and your data\n",
    "parameter_file = 'params/params.yaml'\n",
    "import yaml\n",
    "import sys\n",
    "\n",
    "with open(parameter_file,'r') as f:\n",
    "    doc = yaml.load(f)\n",
    "\n",
    "#p = dic2obj(**doc)\n",
    "\n",
    "data_folder = doc['data_folder']\n",
    "tissues = doc['tissues'].split(',')\n",
    "sys.path.append(doc['pipeline_path'])\n",
    "ref_fa = doc['ref_fa']\n",
    "annotation=doc['annotation']\n",
    "\n",
    "\n",
    "tss_annotation = doc['tss_annotation']\n",
    "\n",
    "import os\n",
    "import sys\n",
    "import pandas as pd\n",
    "import matplotlib\n",
    "import seaborn as sns\n",
    "import pickle\n",
    "import numpy as np\n",
    "import matplotlib as mpl\n",
    "from matplotlib import pyplot as plt\n",
    "from itertools import product\n",
    "import glob\n",
    "import re\n",
    "from matplotlib_venn import venn2\n",
    "from matplotlib import rcParams\n",
    "import inspect\n",
    "%matplotlib inline\n",
    "%config InlineBackend.figure_format = 'retina'\n",
    "sys.setrecursionlimit(3000)\n",
    "%load_ext autoreload\n",
    "%autoreload 2\n",
    "rcParams['figure.figsize'] = 8, 6\n",
    "import tqdm\n",
    "### notebook specific configuration ###\n",
    "from os.path import basename\n",
    "#mpl.style.use('ggplot')\n",
    "mpl.style.use('fivethirtyeight')\n",
    "from cycler import cycler\n",
    "mpl.rcParams['axes.prop_cycle'] = cycler(color='bgrcmyk')\n",
    "\n",
    "from Homer import *\n",
    "\n",
    "print('Number of tissues: ',len(tissues))"
   ]
  },
  {
   "cell_type": "code",
   "execution_count": 2,
   "metadata": {
    "ExecuteTime": {
     "end_time": "2019-01-03T23:52:52.807065Z",
     "start_time": "2019-01-03T23:52:52.765732Z"
    },
    "collapsed": true
   },
   "outputs": [],
   "source": [
    "from create_output import *"
   ]
  },
  {
   "cell_type": "code",
   "execution_count": 3,
   "metadata": {
    "ExecuteTime": {
     "end_time": "2019-01-03T23:52:52.854758Z",
     "start_time": "2019-01-03T23:52:52.810793Z"
    },
    "collapsed": true
   },
   "outputs": [],
   "source": [
    "txn_f = \"Results/tss_annotation/txn_df_02_tissues.p\"\n",
    "#expr_f = \"Results/merged/samples.merge.peaksexpression.log10\"\n",
    "expr_f = \"Results/merged/tissues.merge.peaksexpression.log10\"\n",
    "anno_f = \"Results/tss_annotation_peaks/all_peaks_txn_df_02_maxinfo.tsv\"\n",
    "rank_func = rank_median_samples\n",
    "atac_f = \"Results/ATAC_results/CHO/ATAC_ppr.naive_overlap.narrowPeak.sort\"\n",
    "tss_f = \"/data/isshamie/genome/picr_final/mRNA_final.peak\"#tss_annotation\n",
    "all_atac = \"Results/ATAC_results/ATAC_merge.bed\"\n",
    "\n"
   ]
  },
  {
   "cell_type": "code",
   "execution_count": null,
   "metadata": {
    "ExecuteTime": {
     "start_time": "2019-01-04T00:40:27.905Z"
    },
    "scrolled": true
   },
   "outputs": [
    {
     "name": "stderr",
     "output_type": "stream",
     "text": [
      "15958it [07:43, 19.90it/s]"
     ]
    }
   ],
   "source": [
    "%%time\n",
    "# bed_df, meta_df = construct_peakID(txn_anno_f, expr_f, anno_f, rank_func,\n",
    "#                      atac_f=None, col_name=None)\n",
    "\n",
    "bed_df, meta_df = construct_all_peaks(txn_f, expr_f, anno_f, rank_func, tss_f, atac_f,\n",
    "                        all_atac=all_atac, out_f=\"Results/output/TSS1\")"
   ]
  },
  {
   "cell_type": "code",
   "execution_count": 8,
   "metadata": {
    "ExecuteTime": {
     "end_time": "2019-01-04T22:32:34.822305Z",
     "start_time": "2019-01-04T22:32:34.755297Z"
    }
   },
   "outputs": [
    {
     "data": {
      "text/html": [
       "<div>\n",
       "<style scoped>\n",
       "    .dataframe tbody tr th:only-of-type {\n",
       "        vertical-align: middle;\n",
       "    }\n",
       "\n",
       "    .dataframe tbody tr th {\n",
       "        vertical-align: top;\n",
       "    }\n",
       "\n",
       "    .dataframe thead th {\n",
       "        text-align: right;\n",
       "    }\n",
       "</style>\n",
       "<table border=\"1\" class=\"dataframe\">\n",
       "  <thead>\n",
       "    <tr style=\"text-align: right;\">\n",
       "      <th></th>\n",
       "      <th>Chr</th>\n",
       "      <th>Start</th>\n",
       "      <th>End</th>\n",
       "      <th>ID</th>\n",
       "      <th>Stat</th>\n",
       "      <th>Strand</th>\n",
       "    </tr>\n",
       "  </thead>\n",
       "  <tbody>\n",
       "    <tr>\n",
       "      <th>p0@SERHL_gene_1_2_asmbl_2</th>\n",
       "      <td>picr_0</td>\n",
       "      <td>175</td>\n",
       "      <td>177</td>\n",
       "      <td>p0@SERHL_gene_1_2_asmbl_2</td>\n",
       "      <td>0.00000</td>\n",
       "      <td>+</td>\n",
       "    </tr>\n",
       "    <tr>\n",
       "      <th>p0@SERHL_gene_1_4_asmbl_11</th>\n",
       "      <td>picr_0</td>\n",
       "      <td>18148</td>\n",
       "      <td>18150</td>\n",
       "      <td>p0@SERHL_gene_1_4_asmbl_11</td>\n",
       "      <td>0.00000</td>\n",
       "      <td>+</td>\n",
       "    </tr>\n",
       "    <tr>\n",
       "      <th>p0@SERHL_gene_1_4_asmbl_12</th>\n",
       "      <td>picr_0</td>\n",
       "      <td>20786</td>\n",
       "      <td>20788</td>\n",
       "      <td>p0@SERHL_gene_1_4_asmbl_12</td>\n",
       "      <td>0.00000</td>\n",
       "      <td>+</td>\n",
       "    </tr>\n",
       "    <tr>\n",
       "      <th>p1@SERHL_gene_1_4_asmbl_14</th>\n",
       "      <td>picr_0</td>\n",
       "      <td>20916</td>\n",
       "      <td>21066</td>\n",
       "      <td>p1@SERHL_gene_1_4_asmbl_14</td>\n",
       "      <td>2.05576</td>\n",
       "      <td>+</td>\n",
       "    </tr>\n",
       "    <tr>\n",
       "      <th>p0@SERHL_gene_1_4_asmbl_15</th>\n",
       "      <td>picr_0</td>\n",
       "      <td>22503</td>\n",
       "      <td>22505</td>\n",
       "      <td>p0@SERHL_gene_1_4_asmbl_15</td>\n",
       "      <td>0.00000</td>\n",
       "      <td>+</td>\n",
       "    </tr>\n",
       "  </tbody>\n",
       "</table>\n",
       "</div>"
      ],
      "text/plain": [
       "                               Chr  Start    End                          ID  \\\n",
       "p0@SERHL_gene_1_2_asmbl_2   picr_0    175    177   p0@SERHL_gene_1_2_asmbl_2   \n",
       "p0@SERHL_gene_1_4_asmbl_11  picr_0  18148  18150  p0@SERHL_gene_1_4_asmbl_11   \n",
       "p0@SERHL_gene_1_4_asmbl_12  picr_0  20786  20788  p0@SERHL_gene_1_4_asmbl_12   \n",
       "p1@SERHL_gene_1_4_asmbl_14  picr_0  20916  21066  p1@SERHL_gene_1_4_asmbl_14   \n",
       "p0@SERHL_gene_1_4_asmbl_15  picr_0  22503  22505  p0@SERHL_gene_1_4_asmbl_15   \n",
       "\n",
       "                               Stat Strand  \n",
       "p0@SERHL_gene_1_2_asmbl_2   0.00000      +  \n",
       "p0@SERHL_gene_1_4_asmbl_11  0.00000      +  \n",
       "p0@SERHL_gene_1_4_asmbl_12  0.00000      +  \n",
       "p1@SERHL_gene_1_4_asmbl_14  2.05576      +  \n",
       "p0@SERHL_gene_1_4_asmbl_15  0.00000      +  "
      ]
     },
     "execution_count": 8,
     "metadata": {},
     "output_type": "execute_result"
    }
   ],
   "source": [
    "bed_df.head()"
   ]
  },
  {
   "cell_type": "markdown",
   "metadata": {},
   "source": [
    "-----------------------------"
   ]
  },
  {
   "cell_type": "markdown",
   "metadata": {},
   "source": [
    "-----------------------------"
   ]
  },
  {
   "cell_type": "markdown",
   "metadata": {},
   "source": [
    "-----------------------------"
   ]
  },
  {
   "cell_type": "markdown",
   "metadata": {},
   "source": [
    "-----------------------------"
   ]
  },
  {
   "cell_type": "markdown",
   "metadata": {},
   "source": [
    "-----------------------------"
   ]
  }
 ],
 "metadata": {
  "kernelspec": {
   "display_name": "Python 2",
   "language": "python",
   "name": "python2"
  },
  "language_info": {
   "codemirror_mode": {
    "name": "ipython",
    "version": 2
   },
   "file_extension": ".py",
   "mimetype": "text/x-python",
   "name": "python",
   "nbconvert_exporter": "python",
   "pygments_lexer": "ipython2",
   "version": "2.7.13"
  }
 },
 "nbformat": 4,
 "nbformat_minor": 2
}
