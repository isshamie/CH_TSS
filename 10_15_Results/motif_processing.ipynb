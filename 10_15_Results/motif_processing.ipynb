{
 "cells": [
  {
   "cell_type": "markdown",
   "metadata": {},
   "source": [
    "### Load libraries and set file names"
   ]
  },
  {
   "cell_type": "code",
   "execution_count": 1,
   "metadata": {
    "ExecuteTime": {
     "end_time": "2018-10-24T01:46:09.545435Z",
     "start_time": "2018-10-24T01:46:08.791461Z"
    }
   },
   "outputs": [
    {
     "name": "stdout",
     "output_type": "stream",
     "text": [
      "('Number of tissues: ', 15)\n"
     ]
    }
   ],
   "source": [
    "## Parameters specific to where your folders are and your data\n",
    "parameter_file = 'params/params.yaml'\n",
    "import yaml\n",
    "import sys\n",
    "\n",
    "with open(parameter_file,'r') as f:\n",
    "    doc = yaml.load(f)\n",
    "\n",
    "#p = dic2obj(**doc)\n",
    "\n",
    "data_folder = doc['data_folder']\n",
    "tissues = doc['tissues'].split(',')\n",
    "sys.path.append(doc['pipeline_path'])\n",
    "ref_fa = doc['ref_fa']\n",
    "anno_gff=doc['annotation']\n",
    "\n",
    "\n",
    "tss_annotation = doc['tss_annotation']\n",
    "\n",
    "import os\n",
    "os.chdir\n",
    "import sys\n",
    "import pandas as pd\n",
    "import matplotlib\n",
    "import seaborn as sns\n",
    "import pickle\n",
    "import numpy as np\n",
    "import matplotlib as mpl\n",
    "from matplotlib import pyplot as plt\n",
    "from itertools import product\n",
    "import glob\n",
    "import re\n",
    "from matplotlib_venn import venn2\n",
    "from matplotlib import rcParams\n",
    "import inspect\n",
    "%matplotlib inline\n",
    "%config InlineBackend.figure_format = 'retina'\n",
    "sys.setrecursionlimit(3000)\n",
    "%load_ext autoreload\n",
    "%autoreload 2\n",
    "rcParams['figure.figsize'] = 8, 6\n",
    "import tqdm\n",
    "\n",
    "from os.path import basename\n",
    "##mpl.use('Agg')\n",
    "#mpl.style.use('ggplot')\n",
    "#mpl.style.use('fivethirtyeight')\n",
    "from Homer import *\n",
    "\n",
    "print('Number of tissues: ',len(tissues))"
   ]
  },
  {
   "cell_type": "code",
   "execution_count": 2,
   "metadata": {
    "ExecuteTime": {
     "end_time": "2018-10-24T01:46:09.569359Z",
     "start_time": "2018-10-24T01:46:09.547508Z"
    },
    "collapsed": true
   },
   "outputs": [],
   "source": [
    "sys.path.append(\"/home/isshamie/software/homebrew/parallel_functions/\")\n",
    "import parallel_functions as pf"
   ]
  },
  {
   "cell_type": "code",
   "execution_count": 3,
   "metadata": {
    "ExecuteTime": {
     "end_time": "2018-10-24T01:46:09.665759Z",
     "start_time": "2018-10-24T01:46:09.571450Z"
    },
    "collapsed": true
   },
   "outputs": [],
   "source": [
    "import motif_analysis"
   ]
  },
  {
   "cell_type": "code",
   "execution_count": 4,
   "metadata": {
    "ExecuteTime": {
     "end_time": "2018-10-24T01:46:09.708277Z",
     "start_time": "2018-10-24T01:46:09.667732Z"
    },
    "scrolled": true
   },
   "outputs": [
    {
     "data": {
      "text/plain": [
       "['scl',\n",
       " 'cdx2',\n",
       " 'fli',\n",
       " 'pu1',\n",
       " 'elf3',\n",
       " 'klf10',\n",
       " 'sp5',\n",
       " 'oct2',\n",
       " 'ebna1',\n",
       " 'phox2a',\n",
       " 'hinfp',\n",
       " 'bcl6',\n",
       " 'smad4',\n",
       " 'pknox1',\n",
       " 'gata3',\n",
       " 'myf5',\n",
       " 'staf',\n",
       " 'pbx2',\n",
       " 'tbet',\n",
       " 'znf528',\n",
       " 'pax7-longest',\n",
       " 'spdef',\n",
       " 'tra',\n",
       " 'klf14',\n",
       " 'nrf',\n",
       " 'p53-myc',\n",
       " 'gata3',\n",
       " 'sp2',\n",
       " 'foxa1',\n",
       " 'hif2a',\n",
       " 'vdr',\n",
       " 'znf264',\n",
       " 'gabp',\n",
       " 'tead',\n",
       " 'irf1',\n",
       " 'sf1',\n",
       " 'znf136',\n",
       " 'p65',\n",
       " 'klf6',\n",
       " 'stat6',\n",
       " 'tcf7l2',\n",
       " 'zscan22',\n",
       " 'six4',\n",
       " 'gfi1b',\n",
       " 'foxl2',\n",
       " 'tr4',\n",
       " 'gata3',\n",
       " 'mef2d',\n",
       " 'grhl2',\n",
       " 'ptf1a',\n",
       " 'znf322',\n",
       " 'lxre',\n",
       " 'ar-half',\n",
       " 'npas',\n",
       " 'fosl2',\n",
       " 'arnt',\n",
       " 'gata3',\n",
       " 'lhx2',\n",
       " 'nfat-ap1',\n",
       " 'ets-runx',\n",
       " 'erg',\n",
       " 'meis1',\n",
       " 'tbx20',\n",
       " 'znf675',\n",
       " 'hoxd12',\n",
       " 'nfatc1',\n",
       " 'rfx2',\n",
       " 'znf415',\n",
       " 'hnf1b',\n",
       " 'e2f6',\n",
       " 'usf2',\n",
       " 'foxo3',\n",
       " 'pit1-long',\n",
       " 'ews-fli1',\n",
       " 'oct',\n",
       " 'ehf',\n",
       " 'are-fox',\n",
       " 'pax3-fkhr',\n",
       " 'jun-cre',\n",
       " 'sox3',\n",
       " 'limb',\n",
       " 'runx1m',\n",
       " 'tfe3',\n",
       " 'stat1',\n",
       " 'couptf2',\n",
       " 'heb',\n",
       " 'zfp809',\n",
       " 'nfy',\n",
       " 'gata2',\n",
       " 'p53',\n",
       " 'zfp281',\n",
       " 'brn2',\n",
       " 'jun-ap1',\n",
       " 'elf1',\n",
       " 'rxr',\n",
       " 'atf7',\n",
       " 'zic3',\n",
       " 'foxa2',\n",
       " 'pax5',\n",
       " 'pax7-long',\n",
       " 'znf416',\n",
       " 'boris',\n",
       " 'isre',\n",
       " 'reverb',\n",
       " 'cebp-cebp',\n",
       " 'hoxb13',\n",
       " 'dmrt1',\n",
       " 'zbtb12',\n",
       " 'pax8',\n",
       " 'max',\n",
       " 'hnf6',\n",
       " 'rfx6',\n",
       " 'nrf2',\n",
       " 'bapx1',\n",
       " 'pbx1',\n",
       " 'e47',\n",
       " 'zkscan1',\n",
       " 'tata',\n",
       " 'znf519',\n",
       " 'tcf4',\n",
       " 'dmc1',\n",
       " 'znf16',\n",
       " 'lrh1',\n",
       " 'pparg',\n",
       " 'cebp-ap1',\n",
       " 'bzip-irf',\n",
       " 'dr5',\n",
       " 'srebp1a',\n",
       " 'egr2',\n",
       " 'jund',\n",
       " 'dux4',\n",
       " 'six2',\n",
       " 'cmyc',\n",
       " 'chr',\n",
       " 'sp1',\n",
       " 'lef1',\n",
       " 'mef2a',\n",
       " 'oct-oct',\n",
       " 'gre-raw',\n",
       " 'bach1',\n",
       " 'ets-ebox',\n",
       " 'gre',\n",
       " 'znf263',\n",
       " 'hoxd10',\n",
       " 'irf3',\n",
       " 'bhlhe40',\n",
       " 'znf669',\n",
       " 'klf9',\n",
       " 'oct4-sox17',\n",
       " 'mafk',\n",
       " 'ets',\n",
       " 'tcfcp2l1',\n",
       " 'rbpj1-ebox',\n",
       " 'pbx3',\n",
       " 'gfy',\n",
       " 'pit1',\n",
       " 'mef2b',\n",
       " 'nf1',\n",
       " 'tbx21',\n",
       " 'gata3',\n",
       " 'pax5-short',\n",
       " 'tcf12',\n",
       " 'elk4',\n",
       " 'nanog',\n",
       " 'runx1',\n",
       " 'etv2',\n",
       " 'klf3',\n",
       " 'sox17',\n",
       " 'znf711',\n",
       " 'hsf',\n",
       " 'foxk2',\n",
       " 'erra',\n",
       " 'tgif2',\n",
       " 'nkx2',\n",
       " 'crx',\n",
       " 'ascl1',\n",
       " 'atoh1',\n",
       " 'nmyc',\n",
       " 'ap2',\n",
       " 'bmal',\n",
       " 'tgif1',\n",
       " 'ews-erg',\n",
       " 'stat3',\n",
       " 'prdm1',\n",
       " 'myba',\n",
       " 'couptf1',\n",
       " 'lhx3',\n",
       " 'oct6',\n",
       " 'etv1',\n",
       " 'smad3',\n",
       " 'nkx2',\n",
       " 'isl1',\n",
       " 'e2f1',\n",
       " 'foxa3',\n",
       " 'ets-distal',\n",
       " 'rfx5',\n",
       " 'gata4',\n",
       " 'tead4',\n",
       " 'lhx1',\n",
       " 'znf692',\n",
       " 'oct4-sox2',\n",
       " 'atf2',\n",
       " 'foxp1',\n",
       " 'tbr1',\n",
       " 'rbpj1',\n",
       " 'trb',\n",
       " 'rfx1',\n",
       " 'thrb',\n",
       " 'nf1-half',\n",
       " 'ebf-old',\n",
       " 'fra1',\n",
       " 'tlx',\n",
       " 'sox15',\n",
       " 'foxk1',\n",
       " 'hif1a',\n",
       " 'tead2',\n",
       " 'ere',\n",
       " 'irf8',\n",
       " 'pr',\n",
       " 'npas2',\n",
       " 'pu1-irf',\n",
       " 'batf',\n",
       " 'oct',\n",
       " 'atf4',\n",
       " 'hoxa13',\n",
       " 'e2f',\n",
       " 'nfe2l2',\n",
       " 'egr1',\n",
       " 'gfy-staf',\n",
       " 'gli',\n",
       " 'ap4',\n",
       " 'sox2',\n",
       " 'gfx',\n",
       " 'sox10',\n",
       " 'tead3',\n",
       " 'sox4',\n",
       " 'xbox',\n",
       " 'hif1b',\n",
       " 'znf165',\n",
       " 'nrf1',\n",
       " 'myog',\n",
       " 'snai2',\n",
       " 'zic',\n",
       " 'rorc',\n",
       " 'gata',\n",
       " 'srf',\n",
       " 'gata-scl',\n",
       " 'barx1',\n",
       " 'otx2',\n",
       " 'p63',\n",
       " 'brachyury',\n",
       " 'e2f4',\n",
       " 'rara',\n",
       " 'atf1',\n",
       " 'stat5',\n",
       " 'zbtb18',\n",
       " 'prop1',\n",
       " 'znf317',\n",
       " 'pax6',\n",
       " 'pitx1-ebox',\n",
       " 'ronin',\n",
       " 'nkx2',\n",
       " 'hand2',\n",
       " 'cux2',\n",
       " 'elk1',\n",
       " 'hoxd11',\n",
       " 'cMyc',\n",
       " 'chop',\n",
       " 'neurog2',\n",
       " 'ebf',\n",
       " 'esrrb',\n",
       " 'cebp',\n",
       " 'clock',\n",
       " 'bach2',\n",
       " 'stat4',\n",
       " 'mafa',\n",
       " 'atf3',\n",
       " 'sox9',\n",
       " 'hoxc9',\n",
       " 'twist1',\n",
       " 'pitx1',\n",
       " 'dr0',\n",
       " 'tcf3',\n",
       " 'gata6',\n",
       " 'zfp3',\n",
       " 'smad2',\n",
       " 'p73',\n",
       " 'es',\n",
       " 'ebox',\n",
       " 'foxo1',\n",
       " 'nfkb',\n",
       " 'gsc',\n",
       " 'nr5a2',\n",
       " 'nfil3',\n",
       " 'spib',\n",
       " 'e2f3',\n",
       " 'elf5',\n",
       " 'nkx6',\n",
       " 'hlf',\n",
       " 'rfx3',\n",
       " 'stat3',\n",
       " 'nfe2',\n",
       " 'runx2',\n",
       " 'mafF',\n",
       " 'tcf21',\n",
       " 'fra2',\n",
       " 'cre',\n",
       " 'myb',\n",
       " 'prdm14',\n",
       " 'e2f7',\n",
       " 'mitf',\n",
       " 'ets1',\n",
       " 'znf41',\n",
       " 'yy1',\n",
       " 'zfx',\n",
       " 'prdm9',\n",
       " 'batf3-irf8',\n",
       " 'hnf4',\n",
       " 'prdm10',\n",
       " 'irf2',\n",
       " 'nr2f6',\n",
       " 'maz',\n",
       " 'brn1',\n",
       " 'klf4',\n",
       " 'lrf',\n",
       " 'hsf1',\n",
       " 'oct-oct',\n",
       " 'irf4',\n",
       " 'eklf',\n",
       " 'klf5',\n",
       " 'hnf1',\n",
       " 't1isre',\n",
       " 'sox6',\n",
       " 'mafb',\n",
       " 'znf652',\n",
       " 'znf467',\n",
       " 'pgr',\n",
       " 'znf7',\n",
       " 'dmrt6',\n",
       " 'neurod1',\n",
       " 'hoxa9',\n",
       " 'pu1-irf8',\n",
       " 'usf1',\n",
       " 'stat6',\n",
       " 'p50',\n",
       " 'tbox-smad',\n",
       " 'pdx1',\n",
       " 'ctcf',\n",
       " 'foxm1',\n",
       " 'nf1-fox',\n",
       " 'fxr',\n",
       " 'tbx5',\n",
       " 'nur77',\n",
       " 'fox-ebox',\n",
       " 'pax7',\n",
       " 'hoxb4',\n",
       " 'junb',\n",
       " 'six1',\n",
       " 'bmyb',\n",
       " 'tcf7',\n",
       " 'hoxa2',\n",
       " 'rest',\n",
       " 'zeb1',\n",
       " 'cdx4',\n",
       " 'tead1',\n",
       " 'znf189',\n",
       " 'hoxa11',\n",
       " 'mef2c',\n",
       " 'runx',\n",
       " 'ctcf-mys',\n",
       " 'ap2gamma',\n",
       " 'hoxd13',\n",
       " 'srebp2',\n",
       " 'eomes',\n",
       " 'oct4',\n",
       " 'nkx3',\n",
       " 'foxa1',\n",
       " 'foxh1',\n",
       " 'myod',\n",
       " 'scrt1',\n",
       " 'e2a',\n",
       " 'etv4',\n",
       " 'are',\n",
       " 'ap1',\n",
       " 'znf382',\n",
       " 'rarg',\n",
       " 'zbtb33',\n",
       " 'hoxa10',\n",
       " 'mynn',\n",
       " 'mnt',\n",
       " 'olig2',\n",
       " 'foxf1']"
      ]
     },
     "execution_count": 4,
     "metadata": {},
     "output_type": "execute_result"
    }
   ],
   "source": [
    "motif_folder = doc['motif_folder']\n",
    "motifs_of_interest = map(lambda x: os.path.basename(x).split('.')[0],glob.glob(motif_folder + '/*motif'))\n",
    "motifs_of_interest"
   ]
  },
  {
   "cell_type": "code",
   "execution_count": null,
   "metadata": {
    "ExecuteTime": {
     "start_time": "2018-10-24T01:46:09.377Z"
    }
   },
   "outputs": [],
   "source": [
    "fa_file = 'Results/merged/samples.merge.anno.fa'"
   ]
  },
  {
   "cell_type": "markdown",
   "metadata": {},
   "source": [
    "# Run funtions"
   ]
  },
  {
   "cell_type": "markdown",
   "metadata": {},
   "source": [
    "### 1. Get the score and instances for a set of 4 motifs\n",
    "(It takes longer to run the instances)"
   ]
  },
  {
   "cell_type": "code",
   "execution_count": null,
   "metadata": {
    "ExecuteTime": {
     "start_time": "2018-10-24T01:46:09.383Z"
    }
   },
   "outputs": [
    {
     "name": "stdout",
     "output_type": "stream",
     "text": [
      "sp1\n",
      "ctcf\n",
      "inr\n",
      "tata\n"
     ]
    },
    {
     "name": "stderr",
     "output_type": "stream",
     "text": [
      "484058it [00:54, 8891.82it/s]\n",
      "484058it [01:13, 6596.29it/s]\n",
      "484058it [01:13, 6592.83it/s]\n",
      "484058it [01:49, 4416.01it/s]\n"
     ]
    },
    {
     "name": "stdout",
     "output_type": "stream",
     "text": [
      "Time taken: 121\n"
     ]
    }
   ],
   "source": [
    "motifs_of_interest = ['tata', 'sp1', 'ctcf', 'inr']\n",
    "pf.parallel_ar(\n",
    "    ar=np.array(motifs_of_interest),\n",
    "    func=motif_analysis.all_motifs_of_interest_score,\n",
    "    func_args=(fa_file, motif_folder, 'Results/motifs/allPeaks_score'),\n",
    "    num_processes=4)"
   ]
  },
  {
   "cell_type": "code",
   "execution_count": null,
   "metadata": {
    "ExecuteTime": {
     "start_time": "2018-10-24T01:46:09.384Z"
    }
   },
   "outputs": [],
   "source": [
    "motifs_of_interest = ['tata', 'sp1', 'ctcf', 'inr']\n",
    "pf.parallel_ar(\n",
    "    ar=np.array(motifs_of_interest),\n",
    "    func=motif_analysis.all_motifs_of_interest_instance,\n",
    "    func_args=(fa_file, motif_folder, 'Results/motifs/allPeaks_instance'),\n",
    "    num_processes=4)"
   ]
  },
  {
   "cell_type": "markdown",
   "metadata": {},
   "source": [
    "### Run over entire motifs_of_interest to calculate the score"
   ]
  },
  {
   "cell_type": "code",
   "execution_count": null,
   "metadata": {
    "ExecuteTime": {
     "start_time": "2018-10-24T01:46:09.389Z"
    },
    "code_folding": []
   },
   "outputs": [],
   "source": [
    "motif_folder = doc['motif_folder']\n",
    "motifs_of_interest = map(lambda x: os.path.basename(x).split('.')[0],glob.glob(motif_folder + '/*motif'))\n",
    "pf.parallel_ar(\n",
    "    ar=np.array(motifs_of_interest),\n",
    "    func=motif_analysis.all_motifs_of_interest_score,\n",
    "    func_args=(fa_file, motif_folder, 'Results/motifs/allPeaks_score'),\n",
    "    num_processes=24)"
   ]
  },
  {
   "cell_type": "code",
   "execution_count": null,
   "metadata": {
    "collapsed": true
   },
   "outputs": [],
   "source": []
  },
  {
   "cell_type": "markdown",
   "metadata": {},
   "source": [
    "## There are 484,059 peaks. \n",
    "## Takes ~40 minutes for each motif file to find the instance\n",
    "## 393 motif files. \n",
    "\n",
    "40*393/60=262 hours!  \n",
    "Can parallelize to 16 cores, which gives 262/16=17 hours. This is still a bit much  \n",
    "One simplification: Only observe peaks <40kb from the tss"
   ]
  },
  {
   "cell_type": "code",
   "execution_count": null,
   "metadata": {
    "scrolled": true
   },
   "outputs": [],
   "source": [
    "peaks = pd.read_csv(\"/data/isshamie/TSS/Analysis/10_15_Results/Results/merged/peaks_with_tss_distances.tsv\",sep='\\t',index_col=0)\n",
    "peaks[np.abs(peaks['Distance to TSS'])<5000]"
   ]
  },
  {
   "cell_type": "code",
   "execution_count": null,
   "metadata": {
    "collapsed": true
   },
   "outputs": [],
   "source": []
  },
  {
   "cell_type": "markdown",
   "metadata": {},
   "source": [
    "### Only use peaks <40kb from start site"
   ]
  },
  {
   "cell_type": "code",
   "execution_count": null,
   "metadata": {
    "collapsed": true
   },
   "outputs": [],
   "source": [
    "## Load in peak file\n"
   ]
  },
  {
   "cell_type": "code",
   "execution_count": null,
   "metadata": {
    "collapsed": true
   },
   "outputs": [],
   "source": [
    "%%time\n",
    "for i in motifs_of_interest:\n",
    "    f_out =  'Results/motifs/duplicateSeparate_peaks_merged_anno' + i + '.p'\n",
    "    fa_file = 'Results/merged/duplicateSeparate_peaks_merged_anno.fa'\n",
    "    motif_f = motifs_folder + i + '.motif.pfm'\n",
    "    wrap_fa_motif(fa_file,motif_f,f_save = f_out)"
   ]
  }
 ],
 "metadata": {
  "kernelspec": {
   "display_name": "Python 2",
   "language": "python",
   "name": "python2"
  },
  "language_info": {
   "codemirror_mode": {
    "name": "ipython",
    "version": 2
   },
   "file_extension": ".py",
   "mimetype": "text/x-python",
   "name": "python",
   "nbconvert_exporter": "python",
   "pygments_lexer": "ipython2",
   "version": "2.7.13"
  }
 },
 "nbformat": 4,
 "nbformat_minor": 2
}
