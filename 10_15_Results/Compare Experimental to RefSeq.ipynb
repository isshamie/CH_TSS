{
 "cells": [
  {
   "cell_type": "code",
   "execution_count": 1,
   "metadata": {
    "ExecuteTime": {
     "end_time": "2018-11-09T23:14:58.522577Z",
     "start_time": "2018-11-09T23:14:57.753920Z"
    },
    "scrolled": true
   },
   "outputs": [
    {
     "name": "stdout",
     "output_type": "stream",
     "text": [
      "('Number of tissues: ', 15)\n"
     ]
    }
   ],
   "source": [
    "## Parameters specific to where your folders are and your data\n",
    "parameter_file = 'params/params.yaml'\n",
    "import yaml\n",
    "import sys\n",
    "\n",
    "with open(parameter_file,'r') as f:\n",
    "    doc = yaml.load(f)\n",
    "\n",
    "#p = dic2obj(**doc)\n",
    "\n",
    "data_folder = doc['data_folder']\n",
    "tissues = doc['tissues'].split(',')\n",
    "sys.path.append(doc['pipeline_path'])\n",
    "ref_fa = doc['ref_fa']\n",
    "anno_gff=doc['annotation']\n",
    "\n",
    "\n",
    "tss_annotation = doc['tss_annotation']\n",
    "\n",
    "\n",
    "import os\n",
    "os.chdir\n",
    "import sys\n",
    "import pandas as pd\n",
    "import matplotlib\n",
    "import seaborn as sns\n",
    "import pickle\n",
    "import numpy as np\n",
    "import matplotlib as mpl\n",
    "from matplotlib import pyplot as plt\n",
    "from itertools import product\n",
    "import glob\n",
    "import re\n",
    "from matplotlib_venn import venn2\n",
    "from matplotlib import rcParams\n",
    "import inspect\n",
    "%matplotlib inline\n",
    "%config InlineBackend.figure_format = 'retina'\n",
    "sys.setrecursionlimit(3000)\n",
    "%load_ext autoreload\n",
    "%autoreload 2\n",
    "rcParams['figure.figsize'] = 8, 6\n",
    "import tqdm\n",
    "\n",
    "from os.path import basename\n",
    "##mpl.use('Agg')\n",
    "#mpl.style.use('ggplot')\n",
    "#mpl.style.use('fivethirtyeight')\n",
    "from Homer import *\n",
    "\n",
    "print('Number of tissues: ',len(tissues))"
   ]
  },
  {
   "cell_type": "code",
   "execution_count": 2,
   "metadata": {
    "ExecuteTime": {
     "end_time": "2018-11-09T23:14:58.547841Z",
     "start_time": "2018-11-09T23:14:58.524785Z"
    }
   },
   "outputs": [],
   "source": [
    "import annotation"
   ]
  },
  {
   "cell_type": "markdown",
   "metadata": {},
   "source": [
    "## Create histograms of coverage centered on peaks in RefSeq and Experimental peaks"
   ]
  },
  {
   "cell_type": "code",
   "execution_count": 3,
   "metadata": {
    "ExecuteTime": {
     "end_time": "2018-11-09T23:14:59.203598Z",
     "start_time": "2018-11-09T23:14:59.182780Z"
    },
    "collapsed": true
   },
   "outputs": [],
   "source": [
    "import time"
   ]
  },
  {
   "cell_type": "code",
   "execution_count": null,
   "metadata": {
    "ExecuteTime": {
     "start_time": "2018-10-31T07:15:47.072Z"
    },
    "deletable": false,
    "editable": false,
    "run_control": {
     "frozen": true
    }
   },
   "outputs": [
    {
     "name": "stdout",
     "output_type": "stream",
     "text": [
      "('Time elapsed', 0.0005578994750976562)\n",
      "('Time elapsed', 0.000614166259765625)\n",
      "('mrna_filt', 'Results/coverage_histograms/GROCap_BMDMwt/BMDMwt_GROCap1_and_BMDMwt_GRO1_mRNA')\n",
      "('input to mrna_peak', 'f04_peaks/BMDMwt_GROCap1_and_BMDMwt_GRO1')\n",
      "('output histogram mrna', 'Results/coverage_histograms/GROCap_BMDMwt/BMDMwt_GROCap1_and_BMDMwt_GRO1_.hist.mrna')\n",
      "annotatePeaks.pl Results/coverage_histograms/GROCap_BMDMwt/BMDMwt_GROCap1_and_BMDMwt_GRO1_mRNAfilt /data/isshamie/genome/picr_final/picr.fa -gff /data/isshamie/genome/picr_final/final.gff3 -fragLength 1 -size 4000 -hist 25 -d f03_tags/BMDMwt_GROCap1/ -pc 3 > Results/coverage_histograms/GROCap_BMDMwt/BMDMwt_GROCap1_and_BMDMwt_GRO1_.hist.mrna\n",
      "annotatePeaks.pl Results/coverage_histograms/GROCap_BMDMwt/BMDMwt_GROCap1_and_BMDMwt_GRO1_mRNAfilt /data/isshamie/genome/picr_final/picr.fa -gff /data/isshamie/genome/picr_final/final.gff3 -fragLength 1 -size 4000 -hist 25 -histNorm 100 -d f03_tags/BMDMwt_GROCap1/ -pc 3 > Results/coverage_histograms/GROCap_BMDMwt/BMDMwt_GROCap1_and_BMDMwt_GRO1_.hist.mrnaNorm\n",
      "annotatePeaks.pl Results/coverage_histograms/GROCap_BMDMwt/BMDMwt_GROCap1_and_BMDMwt_GRO1_mRNAfilt /data/isshamie/genome/picr_final/picr.fa -gff /data/isshamie/genome/picr_final/final.gff3 -fragLength 1 -size 4000 -hist 25 -ghist -d f03_tags/BMDMwt_GROCap1/ -pc 3 -strand + > Results/coverage_histograms/GROCap_BMDMwt/BMDMwt_GROCap1_and_BMDMwt_GRO1_.hist.mrnaMatS\n",
      "annotatePeaks.pl Results/coverage_histograms/GROCap_BMDMwt/BMDMwt_GROCap1_and_BMDMwt_GRO1_mRNAfilt /data/isshamie/genome/picr_final/picr.fa -gff /data/isshamie/genome/picr_final/final.gff3 -fragLength 1 -size 4000 -hist 25 -ghist -d f03_tags/BMDMwt_GROCap1/ -pc 3 -strand - > Results/coverage_histograms/GROCap_BMDMwt/BMDMwt_GROCap1_and_BMDMwt_GRO1_.hist.mrnaMatAS\n",
      "('output histogram exp', 'Results/coverage_histograms/GROCap_BMDMwt/BMDMwt_GROCap1_and_BMDMwt_GRO1_.hist.exp')\n",
      "annotatePeaks.pl f04_peaks/BMDMwt_GROCap1_and_BMDMwt_GRO1 /data/isshamie/genome/picr_final/picr.fa -gff /data/isshamie/genome/picr_final/final.gff3 -fragLength 1 -size 4000 -hist 25 -d f03_tags/BMDMwt_GROCap1/ -pc 3 > Results/coverage_histograms/GROCap_BMDMwt/BMDMwt_GROCap1_and_BMDMwt_GRO1_.hist.exp\n",
      "annotatePeaks.pl f04_peaks/BMDMwt_GROCap1_and_BMDMwt_GRO1 /data/isshamie/genome/picr_final/picr.fa -gff /data/isshamie/genome/picr_final/final.gff3 -fragLength 1 -size 4000 -hist 25 -histNorm 100 -d f03_tags/BMDMwt_GROCap1/ -pc 3 > Results/coverage_histograms/GROCap_BMDMwt/BMDMwt_GROCap1_and_BMDMwt_GRO1_.hist.expNorm\n",
      "annotatePeaks.pl f04_peaks/BMDMwt_GROCap1_and_BMDMwt_GRO1 /data/isshamie/genome/picr_final/picr.fa -gff /data/isshamie/genome/picr_final/final.gff3 -fragLength 1 -size 4000 -hist 25 -ghist -d f03_tags/BMDMwt_GROCap1/ -pc 3 -strand + > Results/coverage_histograms/GROCap_BMDMwt/BMDMwt_GROCap1_and_BMDMwt_GRO1_.hist.expMatS\n",
      "annotatePeaks.pl f04_peaks/BMDMwt_GROCap1_and_BMDMwt_GRO1 /data/isshamie/genome/picr_final/picr.fa -gff /data/isshamie/genome/picr_final/final.gff3 -fragLength 1 -size 4000 -hist 25 -ghist -d f03_tags/BMDMwt_GROCap1/ -pc 3 -strand - > Results/coverage_histograms/GROCap_BMDMwt/BMDMwt_GROCap1_and_BMDMwt_GRO1_.hist.expMatAS\n",
      "('Time elapsed', 880.2330441474915)\n",
      "('Time elapsed', 0.0007770061492919922)\n",
      "('mrna_filt', 'Results/coverage_histograms/GROCap_Brain/Brain_GROCap1_and_Brain_GRO1_mRNA')\n",
      "('input to mrna_peak', 'f04_peaks/Brain_GROCap1_and_Brain_GRO1')\n"
     ]
    }
   ],
   "source": [
    "mRNA_peak_file = '/data/isshamie/genome/picr_final/mRNA_final.peak'\n",
    "out_dir = 'Results/coverage_histograms'\n",
    "\n",
    "if not os.path.exists(out_dir):\n",
    "    os.mkdir(out_dir)\n",
    "\n",
    "\n",
    "for t in tissues:\n",
    "    for s in ['GROCap','START']:\n",
    "        curr_time = time.time()\n",
    "        \n",
    "        # Get the tag and peak files\n",
    "        tag_files = 'f03_tags/*%s*%s*/' % (t,s)\n",
    "        tag_files = glob.glob(tag_files) \n",
    "        peak_files = 'f04_peaks/*%s*%s*' % (t,s)\n",
    "        peak_files = glob.glob(peak_files)\n",
    "        if len(tag_files) != 0:\n",
    "            curr_dir = os.path.join(out_dir,s + '_' + t)\n",
    "            if not os.path.exists(curr_dir):\n",
    "                os.mkdir(curr_dir)\n",
    "            for i in peak_files:\n",
    "                ## Create a peak file of refseq relative to peak file\n",
    "                mrna_filt = os.path.join(curr_dir,os.path.basename(i)+'_mRNA')\n",
    "                print('mrna_filt',mrna_filt)\n",
    "                print('input to mrna_peak',i)\n",
    "                if not os.path.exists(mrna_filt):\n",
    "                    peakFileToPeakFile(mRNA_peak_file,i,distance=1000,f_save=mrna_filt)\n",
    "                for j in tag_files:\n",
    "                    # Refseq \n",
    "                    output_file_mrna = os.path.join(curr_dir,os.path.basename(i) + '_' + os.path.basename(j) + '.hist.mrna')\n",
    "                    print('output histogram mrna',output_file_mrna)\n",
    "                    hist(j,output_file_mrna,ref_fa,anno_gff,mode='peak',peak=mrna_filt+'filt',region=4000,res=25,pc=3)\n",
    "                    hist_plot(output_file_mrna)\n",
    "                    heat_plot(output_file_mrna+'MatS',save_f = output_file_mrna + '_heat.png' )\n",
    "                    \n",
    "                    # Experimental \n",
    "                    output_file_exp = os.path.join(curr_dir,os.path.basename(i) + '_' + os.path.basename(j) + '.hist.exp')\n",
    "                    print('output histogram exp',output_file_exp)\n",
    "                    hist(j,output_file_exp,ref_fa,anno_gff,mode='peak',peak=i,region=4000,res=25,pc=3)\n",
    "                    hist_plot(output_file_exp)\n",
    "                    heat_plot(output_file_exp+'MatS',save_f = output_file_exp + '_heat.png' )                    \n",
    "        print('Time elapsed', time.time()-curr_time)"
   ]
  },
  {
   "cell_type": "code",
   "execution_count": null,
   "metadata": {
    "ExecuteTime": {
     "start_time": "2018-11-09T23:15:00.668Z"
    }
   },
   "outputs": [
    {
     "name": "stdout",
     "output_type": "stream",
     "text": [
      "BMDM1hKLA\n",
      "('Time elapsed', 0.00090789794921875)\n",
      "('Time elapsed', 0.0005781650543212891)\n",
      "BMDMwt\n",
      "('mrna_filt', 'Results/coverage_histograms/GROCap_BMDMwt/sample_BMDMwt_GROCap1_and_BMDMwt_GRO1_mRNA')\n",
      "('input to mrna_peak', 'Results/tss_annotation_peaks/sample_BMDMwt_GROCap1_and_BMDMwt_GRO1.tsv')\n",
      "('output histogram mrna', 'Results/coverage_histograms/GROCap_BMDMwt/sample_BMDMwt_GROCap1_and_BMDMwt_GRO1.hist.mrna')\n",
      "annotatePeaks.pl Results/coverage_histograms/GROCap_BMDMwt/sample_BMDMwt_GROCap1_and_BMDMwt_GRO1_mRNAfilt /data/isshamie/genome/picr_final/picr.fa -gff /data/isshamie/genome/picr_final/final.gff3 -fragLength 1 -size 4000 -hist 25 -d f03_tags/BMDMwt_GROCap1/ -pc 3 > Results/coverage_histograms/GROCap_BMDMwt/sample_BMDMwt_GROCap1_and_BMDMwt_GRO1.hist.mrna\n",
      "annotatePeaks.pl Results/coverage_histograms/GROCap_BMDMwt/sample_BMDMwt_GROCap1_and_BMDMwt_GRO1_mRNAfilt /data/isshamie/genome/picr_final/picr.fa -gff /data/isshamie/genome/picr_final/final.gff3 -fragLength 1 -size 4000 -hist 25 -histNorm 100 -d f03_tags/BMDMwt_GROCap1/ -pc 3 > Results/coverage_histograms/GROCap_BMDMwt/sample_BMDMwt_GROCap1_and_BMDMwt_GRO1.hist.mrnaNorm\n",
      "annotatePeaks.pl Results/coverage_histograms/GROCap_BMDMwt/sample_BMDMwt_GROCap1_and_BMDMwt_GRO1_mRNAfilt /data/isshamie/genome/picr_final/picr.fa -gff /data/isshamie/genome/picr_final/final.gff3 -fragLength 1 -size 4000 -hist 25 -ghist -d f03_tags/BMDMwt_GROCap1/ -pc 3 -strand + > Results/coverage_histograms/GROCap_BMDMwt/sample_BMDMwt_GROCap1_and_BMDMwt_GRO1.hist.mrnaMatS\n",
      "annotatePeaks.pl Results/coverage_histograms/GROCap_BMDMwt/sample_BMDMwt_GROCap1_and_BMDMwt_GRO1_mRNAfilt /data/isshamie/genome/picr_final/picr.fa -gff /data/isshamie/genome/picr_final/final.gff3 -fragLength 1 -size 4000 -hist 25 -ghist -d f03_tags/BMDMwt_GROCap1/ -pc 3 -strand - > Results/coverage_histograms/GROCap_BMDMwt/sample_BMDMwt_GROCap1_and_BMDMwt_GRO1.hist.mrnaMatAS\n",
      "('output histogram exp', 'Results/coverage_histograms/GROCap_BMDMwt/sample_BMDMwt_GROCap1_and_BMDMwt_GRO1.hist.exp')\n",
      "annotatePeaks.pl Results/tss_annotation_peaks/sample_BMDMwt_GROCap1_and_BMDMwt_GRO1.tsv /data/isshamie/genome/picr_final/picr.fa -gff /data/isshamie/genome/picr_final/final.gff3 -fragLength 1 -size 4000 -hist 25 -d f03_tags/BMDMwt_GROCap1/ -pc 3 > Results/coverage_histograms/GROCap_BMDMwt/sample_BMDMwt_GROCap1_and_BMDMwt_GRO1.hist.exp\n",
      "annotatePeaks.pl Results/tss_annotation_peaks/sample_BMDMwt_GROCap1_and_BMDMwt_GRO1.tsv /data/isshamie/genome/picr_final/picr.fa -gff /data/isshamie/genome/picr_final/final.gff3 -fragLength 1 -size 4000 -hist 25 -histNorm 100 -d f03_tags/BMDMwt_GROCap1/ -pc 3 > Results/coverage_histograms/GROCap_BMDMwt/sample_BMDMwt_GROCap1_and_BMDMwt_GRO1.hist.expNorm\n",
      "annotatePeaks.pl Results/tss_annotation_peaks/sample_BMDMwt_GROCap1_and_BMDMwt_GRO1.tsv /data/isshamie/genome/picr_final/picr.fa -gff /data/isshamie/genome/picr_final/final.gff3 -fragLength 1 -size 4000 -hist 25 -ghist -d f03_tags/BMDMwt_GROCap1/ -pc 3 -strand + > Results/coverage_histograms/GROCap_BMDMwt/sample_BMDMwt_GROCap1_and_BMDMwt_GRO1.hist.expMatS\n",
      "annotatePeaks.pl Results/tss_annotation_peaks/sample_BMDMwt_GROCap1_and_BMDMwt_GRO1.tsv /data/isshamie/genome/picr_final/picr.fa -gff /data/isshamie/genome/picr_final/final.gff3 -fragLength 1 -size 4000 -hist 25 -ghist -d f03_tags/BMDMwt_GROCap1/ -pc 3 -strand - > Results/coverage_histograms/GROCap_BMDMwt/sample_BMDMwt_GROCap1_and_BMDMwt_GRO1.hist.expMatAS\n",
      "('mrna_filt', 'Results/coverage_histograms/GROCap_BMDMwt/merged_BMDMwt_GROCap1_and_BMDMwt_GRO1_mRNA')\n",
      "('input to mrna_peak', 'Results/tss_annotation_peaks/merged_BMDMwt_GROCap1_and_BMDMwt_GRO1.tsv')\n"
     ]
    }
   ],
   "source": [
    "mRNA_peak_file = '/data/isshamie/genome/picr_final/mRNA_final.peak'\n",
    "out_dir = 'Results/coverage_histograms'\n",
    "\n",
    "if not os.path.exists(out_dir):\n",
    "    os.mkdir(out_dir)\n",
    "\n",
    "\n",
    "for t in tissues:\n",
    "    print(t)\n",
    "    for s in ['GROCap','START']:\n",
    "        curr_time = time.time()\n",
    "        \n",
    "        # Get the tag and peak files\n",
    "        tag_files = 'f03_tags/*%s*%s*/' % (t,s)\n",
    "        tag_files = glob.glob(tag_files) \n",
    "        peak_files = 'Results/tss_annotation_peaks/*%s*%s*' % (t,s)\n",
    "        peak_files = glob.glob(peak_files)\n",
    "        if len(tag_files) != 0:\n",
    "            curr_dir = os.path.join(out_dir,s + '_' + t)\n",
    "            if not os.path.exists(curr_dir):\n",
    "                os.mkdir(curr_dir)\n",
    "            for i in peak_files:\n",
    "                ## Create a peak file of refseq relative to peak file\n",
    "                mrna_filt = os.path.join(curr_dir,os.path.basename(i.split('.',1)[0])+'_mRNA')\n",
    "                print('mrna_filt',mrna_filt)\n",
    "                print('input to mrna_peak',i)\n",
    "                if not os.path.exists(mrna_filt + 'filt'):\n",
    "                    peakFileToPeakFile(mRNA_peak_file,i,distance=1000,f_save=mrna_filt)\n",
    "                for j in tag_files:\n",
    "                    # Refseq \n",
    "                    output_file_mrna = os.path.join(curr_dir,os.path.basename(i.split('.',1)[0]) + '.hist.mrna')\n",
    "                    print('output histogram mrna',output_file_mrna)\n",
    "                    hist(j,output_file_mrna,ref_fa,anno_gff,mode='peak',peak=mrna_filt+'filt',region=4000,res=25,pc=3)\n",
    "                    hist_plot(output_file_mrna)\n",
    "                    heat_plot(output_file_mrna+'MatS',save_f = output_file_mrna + '.heat.png' )\n",
    "                    \n",
    "                    # Experimental \n",
    "                    output_file_exp = os.path.join(curr_dir,os.path.basename(i.split('.',1)[0]) + '.hist.exp')\n",
    "                    print('output histogram exp',output_file_exp)\n",
    "                    hist(j,output_file_exp,ref_fa,anno_gff,mode='peak',peak=i,region=4000,res=25,pc=3)\n",
    "                    hist_plot(output_file_exp)\n",
    "                    heat_plot(output_file_exp+'MatS',save_f = output_file_exp + '.heat.png' )                    \n",
    "        print('Time elapsed', time.time()-curr_time)"
   ]
  }
 ],
 "metadata": {
  "kernelspec": {
   "display_name": "Python 2",
   "language": "python",
   "name": "python2"
  },
  "language_info": {
   "codemirror_mode": {
    "name": "ipython",
    "version": 2
   },
   "file_extension": ".py",
   "mimetype": "text/x-python",
   "name": "python",
   "nbconvert_exporter": "python",
   "pygments_lexer": "ipython2",
   "version": "2.7.13"
  }
 },
 "nbformat": 4,
 "nbformat_minor": 2
}
