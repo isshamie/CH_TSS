{
 "cells": [
  {
   "cell_type": "code",
   "execution_count": 1,
   "metadata": {
    "ExecuteTime": {
     "end_time": "2018-12-11T21:04:05.344211Z",
     "start_time": "2018-12-11T21:04:04.701954Z"
    }
   },
   "outputs": [
    {
     "ename": "IOError",
     "evalue": "/home/isshamie/software/anaconda2/lib/python2.7/site-packages/matplotlib/mpl-data/sample_data/percent_bachelors_degrees_women_usa.csv not found.",
     "output_type": "error",
     "traceback": [
      "\u001b[0;31m---------------------------------------------------------------------------\u001b[0m",
      "\u001b[0;31mIOError\u001b[0m                                   Traceback (most recent call last)",
      "\u001b[0;32m<ipython-input-1-1ac014b8650d>\u001b[0m in \u001b[0;36m<module>\u001b[0;34m()\u001b[0m\n\u001b[1;32m      6\u001b[0m fname = get_sample_data('percent_bachelors_degrees_women_usa.csv',\n\u001b[1;32m      7\u001b[0m                         asfileobj=False)\n\u001b[0;32m----> 8\u001b[0;31m \u001b[0mgender_degree_data\u001b[0m \u001b[0;34m=\u001b[0m \u001b[0mnp\u001b[0m\u001b[0;34m.\u001b[0m\u001b[0mgenfromtxt\u001b[0m\u001b[0;34m(\u001b[0m\u001b[0mfname\u001b[0m\u001b[0;34m,\u001b[0m \u001b[0mdelimiter\u001b[0m\u001b[0;34m=\u001b[0m\u001b[0;34m','\u001b[0m\u001b[0;34m,\u001b[0m \u001b[0mnames\u001b[0m\u001b[0;34m=\u001b[0m\u001b[0mTrue\u001b[0m\u001b[0;34m)\u001b[0m\u001b[0;34m\u001b[0m\u001b[0m\n\u001b[0m\u001b[1;32m      9\u001b[0m \u001b[0;34m\u001b[0m\u001b[0m\n\u001b[1;32m     10\u001b[0m \u001b[0;31m# These are the colors that will be used in the plot\u001b[0m\u001b[0;34m\u001b[0m\u001b[0;34m\u001b[0m\u001b[0m\n",
      "\u001b[0;32m/home/isshamie/software/anaconda2/lib/python2.7/site-packages/numpy/lib/npyio.pyc\u001b[0m in \u001b[0;36mgenfromtxt\u001b[0;34m(fname, dtype, comments, delimiter, skip_header, skip_footer, converters, missing_values, filling_values, usecols, names, excludelist, deletechars, replace_space, autostrip, case_sensitive, defaultfmt, unpack, usemask, loose, invalid_raise, max_rows)\u001b[0m\n\u001b[1;32m   1547\u001b[0m         \u001b[0;32mif\u001b[0m \u001b[0misinstance\u001b[0m\u001b[0;34m(\u001b[0m\u001b[0mfname\u001b[0m\u001b[0;34m,\u001b[0m \u001b[0mbasestring\u001b[0m\u001b[0;34m)\u001b[0m\u001b[0;34m:\u001b[0m\u001b[0;34m\u001b[0m\u001b[0m\n\u001b[1;32m   1548\u001b[0m             \u001b[0;32mif\u001b[0m \u001b[0msys\u001b[0m\u001b[0;34m.\u001b[0m\u001b[0mversion_info\u001b[0m\u001b[0;34m[\u001b[0m\u001b[0;36m0\u001b[0m\u001b[0;34m]\u001b[0m \u001b[0;34m==\u001b[0m \u001b[0;36m2\u001b[0m\u001b[0;34m:\u001b[0m\u001b[0;34m\u001b[0m\u001b[0m\n\u001b[0;32m-> 1549\u001b[0;31m                 \u001b[0mfhd\u001b[0m \u001b[0;34m=\u001b[0m \u001b[0miter\u001b[0m\u001b[0;34m(\u001b[0m\u001b[0mnp\u001b[0m\u001b[0;34m.\u001b[0m\u001b[0mlib\u001b[0m\u001b[0;34m.\u001b[0m\u001b[0m_datasource\u001b[0m\u001b[0;34m.\u001b[0m\u001b[0mopen\u001b[0m\u001b[0;34m(\u001b[0m\u001b[0mfname\u001b[0m\u001b[0;34m,\u001b[0m \u001b[0;34m'rbU'\u001b[0m\u001b[0;34m)\u001b[0m\u001b[0;34m)\u001b[0m\u001b[0;34m\u001b[0m\u001b[0m\n\u001b[0m\u001b[1;32m   1550\u001b[0m             \u001b[0;32melse\u001b[0m\u001b[0;34m:\u001b[0m\u001b[0;34m\u001b[0m\u001b[0m\n\u001b[1;32m   1551\u001b[0m                 \u001b[0mfhd\u001b[0m \u001b[0;34m=\u001b[0m \u001b[0miter\u001b[0m\u001b[0;34m(\u001b[0m\u001b[0mnp\u001b[0m\u001b[0;34m.\u001b[0m\u001b[0mlib\u001b[0m\u001b[0;34m.\u001b[0m\u001b[0m_datasource\u001b[0m\u001b[0;34m.\u001b[0m\u001b[0mopen\u001b[0m\u001b[0;34m(\u001b[0m\u001b[0mfname\u001b[0m\u001b[0;34m,\u001b[0m \u001b[0;34m'rb'\u001b[0m\u001b[0;34m)\u001b[0m\u001b[0;34m)\u001b[0m\u001b[0;34m\u001b[0m\u001b[0m\n",
      "\u001b[0;32m/home/isshamie/software/anaconda2/lib/python2.7/site-packages/numpy/lib/_datasource.pyc\u001b[0m in \u001b[0;36mopen\u001b[0;34m(path, mode, destpath)\u001b[0m\n\u001b[1;32m    149\u001b[0m \u001b[0;34m\u001b[0m\u001b[0m\n\u001b[1;32m    150\u001b[0m     \u001b[0mds\u001b[0m \u001b[0;34m=\u001b[0m \u001b[0mDataSource\u001b[0m\u001b[0;34m(\u001b[0m\u001b[0mdestpath\u001b[0m\u001b[0;34m)\u001b[0m\u001b[0;34m\u001b[0m\u001b[0m\n\u001b[0;32m--> 151\u001b[0;31m     \u001b[0;32mreturn\u001b[0m \u001b[0mds\u001b[0m\u001b[0;34m.\u001b[0m\u001b[0mopen\u001b[0m\u001b[0;34m(\u001b[0m\u001b[0mpath\u001b[0m\u001b[0;34m,\u001b[0m \u001b[0mmode\u001b[0m\u001b[0;34m)\u001b[0m\u001b[0;34m\u001b[0m\u001b[0m\n\u001b[0m\u001b[1;32m    152\u001b[0m \u001b[0;34m\u001b[0m\u001b[0m\n\u001b[1;32m    153\u001b[0m \u001b[0;34m\u001b[0m\u001b[0m\n",
      "\u001b[0;32m/home/isshamie/software/anaconda2/lib/python2.7/site-packages/numpy/lib/_datasource.pyc\u001b[0m in \u001b[0;36mopen\u001b[0;34m(self, path, mode)\u001b[0m\n\u001b[1;32m    499\u001b[0m             \u001b[0;32mreturn\u001b[0m \u001b[0m_file_openers\u001b[0m\u001b[0;34m[\u001b[0m\u001b[0mext\u001b[0m\u001b[0;34m]\u001b[0m\u001b[0;34m(\u001b[0m\u001b[0mfound\u001b[0m\u001b[0;34m,\u001b[0m \u001b[0mmode\u001b[0m\u001b[0;34m=\u001b[0m\u001b[0mmode\u001b[0m\u001b[0;34m)\u001b[0m\u001b[0;34m\u001b[0m\u001b[0m\n\u001b[1;32m    500\u001b[0m         \u001b[0;32melse\u001b[0m\u001b[0;34m:\u001b[0m\u001b[0;34m\u001b[0m\u001b[0m\n\u001b[0;32m--> 501\u001b[0;31m             \u001b[0;32mraise\u001b[0m \u001b[0mIOError\u001b[0m\u001b[0;34m(\u001b[0m\u001b[0;34m\"%s not found.\"\u001b[0m \u001b[0;34m%\u001b[0m \u001b[0mpath\u001b[0m\u001b[0;34m)\u001b[0m\u001b[0;34m\u001b[0m\u001b[0m\n\u001b[0m\u001b[1;32m    502\u001b[0m \u001b[0;34m\u001b[0m\u001b[0m\n\u001b[1;32m    503\u001b[0m \u001b[0;34m\u001b[0m\u001b[0m\n",
      "\u001b[0;31mIOError\u001b[0m: /home/isshamie/software/anaconda2/lib/python2.7/site-packages/matplotlib/mpl-data/sample_data/percent_bachelors_degrees_women_usa.csv not found."
     ]
    }
   ],
   "source": [
    "import numpy as np\n",
    "import matplotlib.pyplot as plt\n",
    "from matplotlib.cbook import get_sample_data\n",
    "%matplotlib inline\n",
    "\n",
    "fname = get_sample_data('percent_bachelors_degrees_women_usa.csv',\n",
    "                        asfileobj=False)\n",
    "gender_degree_data = np.genfromtxt(fname, delimiter=',', names=True)\n",
    "\n",
    "# These are the colors that will be used in the plot\n",
    "color_sequence = ['#1f77b4', '#aec7e8', '#ff7f0e', '#ffbb78', '#2ca02c',\n",
    "                  '#98df8a', '#d62728', '#ff9896', '#9467bd', '#c5b0d5',\n",
    "                  '#8c564b', '#c49c94', '#e377c2', '#f7b6d2', '#7f7f7f',\n",
    "                  '#c7c7c7', '#bcbd22', '#dbdb8d', '#17becf', '#9edae5']\n",
    "\n",
    "# You typically want your plot to be ~1.33x wider than tall. This plot\n",
    "# is a rare exception because of the number of lines being plotted on it.\n",
    "# Common sizes: (10, 7.5) and (12, 9)\n",
    "fig, ax = plt.subplots(1, 1, figsize=(12, 14))\n"
   ]
  },
  {
   "cell_type": "code",
   "execution_count": null,
   "metadata": {
    "collapsed": true
   },
   "outputs": [],
   "source": [
    "\n",
    "# Remove the plot frame lines. They are unnecessary here.\n",
    "ax.spines['top'].set_visible(False)\n",
    "ax.spines['bottom'].set_visible(False)\n",
    "ax.spines['right'].set_visible(False)\n",
    "ax.spines['left'].set_visible(False)\n",
    "\n",
    "# Ensure that the axis ticks only show up on the bottom and left of the plot.\n",
    "# Ticks on the right and top of the plot are generally unnecessary.\n",
    "ax.get_xaxis().tick_bottom()\n",
    "ax.get_yaxis().tick_left()\n",
    "\n",
    "fig.subplots_adjust(left=.06, right=.75, bottom=.02, top=.94)\n",
    "# Limit the range of the plot to only where the data is.\n",
    "# Avoid unnecessary whitespace.\n",
    "ax.set_xlim(1969.5, 2011.1)\n",
    "ax.set_ylim(-0.25, 90)\n",
    "\n",
    "# Make sure your axis ticks are large enough to be easily read.\n",
    "# You don't want your viewers squinting to read your plot.\n",
    "plt.xticks(range(1970, 2011, 10), fontsize=14)\n",
    "plt.yticks(range(0, 91, 10), fontsize=14)\n",
    "ax.xaxis.set_major_formatter(plt.FuncFormatter('{:.0f}'.format))\n",
    "ax.yaxis.set_major_formatter(plt.FuncFormatter('{:.0f}%'.format))\n",
    "\n",
    "# Provide tick lines across the plot to help your viewers trace along\n",
    "# the axis ticks. Make sure that the lines are light and small so they\n",
    "# don't obscure the primary data lines.\n",
    "plt.grid(True, 'major', 'y', ls='--', lw=.5, c='k', alpha=.3)\n",
    "\n",
    "# Remove the tick marks; they are unnecessary with the tick lines we just\n",
    "# plotted.\n",
    "plt.tick_params(axis='both', which='both', bottom=False, top=False,\n",
    "                labelbottom=True, left=False, right=False, labelleft=True)\n",
    "\n",
    "# Now that the plot is prepared, it's time to actually plot the data!\n",
    "# Note that I plotted the majors in order of the highest % in the final year.\n",
    "majors = ['Health Professions', 'Public Administration', 'Education',\n",
    "          'Psychology', 'Foreign Languages', 'English',\n",
    "          'Communications\\nand Journalism', 'Art and Performance', 'Biology',\n",
    "          'Agriculture', 'Social Sciences and History', 'Business',\n",
    "          'Math and Statistics', 'Architecture', 'Physical Sciences',\n",
    "          'Computer Science', 'Engineering']\n",
    "\n",
    "y_offsets = {'Foreign Languages': 0.5, 'English': -0.5,\n",
    "             'Communications\\nand Journalism': 0.75,\n",
    "             'Art and Performance': -0.25, 'Agriculture': 1.25,\n",
    "             'Social Sciences and History': 0.25, 'Business': -0.75,\n",
    "             'Math and Statistics': 0.75, 'Architecture': -0.75,\n",
    "             'Computer Science': 0.75, 'Engineering': -0.25}\n",
    "\n",
    "for rank, column in enumerate(majors):\n",
    "    # Plot each line separately with its own color.\n",
    "    column_rec_name = column.replace('\\n', '_').replace(' ', '_')\n",
    "\n",
    "    line = plt.plot(gender_degree_data['Year'],\n",
    "                    gender_degree_data[column_rec_name],\n",
    "                    lw=2.5,\n",
    "                    color=color_sequence[rank])\n",
    "\n",
    "    # Add a text label to the right end of every line. Most of the code below\n",
    "    # is adding specific offsets y position because some labels overlapped.\n",
    "    y_pos = gender_degree_data[column_rec_name][-1] - 0.5\n",
    "\n",
    "    if column in y_offsets:\n",
    "        y_pos += y_offsets[column]\n",
    "\n",
    "    # Again, make sure that all labels are large enough to be easily read\n",
    "    # by the viewer.\n",
    "    plt.text(2011.5, y_pos, column, fontsize=14, color=color_sequence[rank])\n",
    "\n",
    "# Make the title big enough so it spans the entire plot, but don't make it\n",
    "# so big that it requires two lines to show.\n",
    "\n",
    "# Note that if the title is descriptive enough, it is unnecessary to include\n",
    "# axis labels; they are self-evident, in this plot's case.\n",
    "fig.suptitle('Percentage of Bachelor\\'s degrees conferred to women in '\n",
    "             'the U.S.A. by major (1970-2011)\\n', fontsize=18, ha='center')\n"
   ]
  }
 ],
 "metadata": {
  "kernelspec": {
   "display_name": "Python 2",
   "language": "python",
   "name": "python2"
  },
  "language_info": {
   "codemirror_mode": {
    "name": "ipython",
    "version": 2
   },
   "file_extension": ".py",
   "mimetype": "text/x-python",
   "name": "python",
   "nbconvert_exporter": "python",
   "pygments_lexer": "ipython2",
   "version": "2.7.13"
  }
 },
 "nbformat": 4,
 "nbformat_minor": 2
}
