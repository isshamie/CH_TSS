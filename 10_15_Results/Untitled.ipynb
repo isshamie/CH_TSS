{
 "cells": [
  {
   "cell_type": "code",
   "execution_count": 1,
   "metadata": {
    "ExecuteTime": {
     "end_time": "2019-01-03T23:18:14.506632Z",
     "start_time": "2019-01-03T23:18:13.086561Z"
    },
    "collapsed": true
   },
   "outputs": [],
   "source": [
    "import pandas as pd\n",
    "import pickle"
   ]
  },
  {
   "cell_type": "code",
   "execution_count": 2,
   "metadata": {
    "ExecuteTime": {
     "end_time": "2019-01-03T23:18:14.518820Z",
     "start_time": "2019-01-03T23:18:14.511263Z"
    },
    "collapsed": true
   },
   "outputs": [],
   "source": [
    "txn_f = \"Results/tss_annotation/txn_df_02_tissues.p\"\n",
    "#expr_f = \"Results/merged/samples.merge.peaksexpression.log10\"\n",
    "expr_f = \"Results/merged/tissues.merge.peaksexpression.log10\"\n",
    "anno_f = \"Results/tss_annotation_peaks/all_peaks_txn_df_02_maxinfo.tsv\"\n",
    "#rank_func = rank_median_samples\n",
    "atac_f = \"Results/ATAC_results/CHO/ATAC_ppr.naive_overlap.narrowPeak.sort\"\n",
    "tss_f = \"/data/isshamie/genome/picr_final/mRNA_final.peak\"#tss_annotation\n",
    "all_atac = \"Results/ATAC_results/ATAC_merge.bed\"\n"
   ]
  },
  {
   "cell_type": "code",
   "execution_count": 40,
   "metadata": {
    "ExecuteTime": {
     "end_time": "2019-01-03T23:17:52.040605Z",
     "start_time": "2019-01-03T23:17:51.878660Z"
    },
    "scrolled": true
   },
   "outputs": [
    {
     "ename": "IOError",
     "evalue": "File Results/tss_annotation_peaks/all_peaks_txn_df_02_maxinfo.tsv does not exist",
     "output_type": "error",
     "traceback": [
      "\u001b[0;31m---------------------------------------------------------------------------\u001b[0m",
      "\u001b[0;31mIOError\u001b[0m                                   Traceback (most recent call last)",
      "\u001b[0;32m<ipython-input-40-f7affeb7847b>\u001b[0m in \u001b[0;36m<module>\u001b[0;34m()\u001b[0m\n\u001b[0;32m----> 1\u001b[0;31m \u001b[0manno_df\u001b[0m \u001b[0;34m=\u001b[0m \u001b[0mpd\u001b[0m\u001b[0;34m.\u001b[0m\u001b[0mread_csv\u001b[0m\u001b[0;34m(\u001b[0m\u001b[0manno_f\u001b[0m\u001b[0;34m,\u001b[0m\u001b[0msep\u001b[0m\u001b[0;34m=\u001b[0m\u001b[0;34m\"\\t\"\u001b[0m\u001b[0;34m)\u001b[0m\u001b[0;34m\u001b[0m\u001b[0m\n\u001b[0m\u001b[1;32m      2\u001b[0m \u001b[0manno_df\u001b[0m\u001b[0;34m[\u001b[0m\u001b[0;34m\"Strand\"\u001b[0m\u001b[0;34m]\u001b[0m\u001b[0;34m.\u001b[0m\u001b[0munique\u001b[0m\u001b[0;34m(\u001b[0m\u001b[0;34m)\u001b[0m\u001b[0;34m\u001b[0m\u001b[0m\n",
      "\u001b[0;32m/home/isshamie/software/anaconda2/lib/python2.7/site-packages/pandas/io/parsers.pyc\u001b[0m in \u001b[0;36mparser_f\u001b[0;34m(filepath_or_buffer, sep, delimiter, header, names, index_col, usecols, squeeze, prefix, mangle_dupe_cols, dtype, engine, converters, true_values, false_values, skipinitialspace, skiprows, nrows, na_values, keep_default_na, na_filter, verbose, skip_blank_lines, parse_dates, infer_datetime_format, keep_date_col, date_parser, dayfirst, iterator, chunksize, compression, thousands, decimal, lineterminator, quotechar, quoting, escapechar, comment, encoding, dialect, tupleize_cols, error_bad_lines, warn_bad_lines, skipfooter, doublequote, delim_whitespace, low_memory, memory_map, float_precision)\u001b[0m\n\u001b[1;32m    676\u001b[0m                     skip_blank_lines=skip_blank_lines)\n\u001b[1;32m    677\u001b[0m \u001b[0;34m\u001b[0m\u001b[0m\n\u001b[0;32m--> 678\u001b[0;31m         \u001b[0;32mreturn\u001b[0m \u001b[0m_read\u001b[0m\u001b[0;34m(\u001b[0m\u001b[0mfilepath_or_buffer\u001b[0m\u001b[0;34m,\u001b[0m \u001b[0mkwds\u001b[0m\u001b[0;34m)\u001b[0m\u001b[0;34m\u001b[0m\u001b[0m\n\u001b[0m\u001b[1;32m    679\u001b[0m \u001b[0;34m\u001b[0m\u001b[0m\n\u001b[1;32m    680\u001b[0m     \u001b[0mparser_f\u001b[0m\u001b[0;34m.\u001b[0m\u001b[0m__name__\u001b[0m \u001b[0;34m=\u001b[0m \u001b[0mname\u001b[0m\u001b[0;34m\u001b[0m\u001b[0m\n",
      "\u001b[0;32m/home/isshamie/software/anaconda2/lib/python2.7/site-packages/pandas/io/parsers.pyc\u001b[0m in \u001b[0;36m_read\u001b[0;34m(filepath_or_buffer, kwds)\u001b[0m\n\u001b[1;32m    438\u001b[0m \u001b[0;34m\u001b[0m\u001b[0m\n\u001b[1;32m    439\u001b[0m     \u001b[0;31m# Create the parser.\u001b[0m\u001b[0;34m\u001b[0m\u001b[0;34m\u001b[0m\u001b[0m\n\u001b[0;32m--> 440\u001b[0;31m     \u001b[0mparser\u001b[0m \u001b[0;34m=\u001b[0m \u001b[0mTextFileReader\u001b[0m\u001b[0;34m(\u001b[0m\u001b[0mfilepath_or_buffer\u001b[0m\u001b[0;34m,\u001b[0m \u001b[0;34m**\u001b[0m\u001b[0mkwds\u001b[0m\u001b[0;34m)\u001b[0m\u001b[0;34m\u001b[0m\u001b[0m\n\u001b[0m\u001b[1;32m    441\u001b[0m \u001b[0;34m\u001b[0m\u001b[0m\n\u001b[1;32m    442\u001b[0m     \u001b[0;32mif\u001b[0m \u001b[0mchunksize\u001b[0m \u001b[0;32mor\u001b[0m \u001b[0miterator\u001b[0m\u001b[0;34m:\u001b[0m\u001b[0;34m\u001b[0m\u001b[0m\n",
      "\u001b[0;32m/home/isshamie/software/anaconda2/lib/python2.7/site-packages/pandas/io/parsers.pyc\u001b[0m in \u001b[0;36m__init__\u001b[0;34m(self, f, engine, **kwds)\u001b[0m\n\u001b[1;32m    785\u001b[0m             \u001b[0mself\u001b[0m\u001b[0;34m.\u001b[0m\u001b[0moptions\u001b[0m\u001b[0;34m[\u001b[0m\u001b[0;34m'has_index_names'\u001b[0m\u001b[0;34m]\u001b[0m \u001b[0;34m=\u001b[0m \u001b[0mkwds\u001b[0m\u001b[0;34m[\u001b[0m\u001b[0;34m'has_index_names'\u001b[0m\u001b[0;34m]\u001b[0m\u001b[0;34m\u001b[0m\u001b[0m\n\u001b[1;32m    786\u001b[0m \u001b[0;34m\u001b[0m\u001b[0m\n\u001b[0;32m--> 787\u001b[0;31m         \u001b[0mself\u001b[0m\u001b[0;34m.\u001b[0m\u001b[0m_make_engine\u001b[0m\u001b[0;34m(\u001b[0m\u001b[0mself\u001b[0m\u001b[0;34m.\u001b[0m\u001b[0mengine\u001b[0m\u001b[0;34m)\u001b[0m\u001b[0;34m\u001b[0m\u001b[0m\n\u001b[0m\u001b[1;32m    788\u001b[0m \u001b[0;34m\u001b[0m\u001b[0m\n\u001b[1;32m    789\u001b[0m     \u001b[0;32mdef\u001b[0m \u001b[0mclose\u001b[0m\u001b[0;34m(\u001b[0m\u001b[0mself\u001b[0m\u001b[0;34m)\u001b[0m\u001b[0;34m:\u001b[0m\u001b[0;34m\u001b[0m\u001b[0m\n",
      "\u001b[0;32m/home/isshamie/software/anaconda2/lib/python2.7/site-packages/pandas/io/parsers.pyc\u001b[0m in \u001b[0;36m_make_engine\u001b[0;34m(self, engine)\u001b[0m\n\u001b[1;32m   1012\u001b[0m     \u001b[0;32mdef\u001b[0m \u001b[0m_make_engine\u001b[0m\u001b[0;34m(\u001b[0m\u001b[0mself\u001b[0m\u001b[0;34m,\u001b[0m \u001b[0mengine\u001b[0m\u001b[0;34m=\u001b[0m\u001b[0;34m'c'\u001b[0m\u001b[0;34m)\u001b[0m\u001b[0;34m:\u001b[0m\u001b[0;34m\u001b[0m\u001b[0m\n\u001b[1;32m   1013\u001b[0m         \u001b[0;32mif\u001b[0m \u001b[0mengine\u001b[0m \u001b[0;34m==\u001b[0m \u001b[0;34m'c'\u001b[0m\u001b[0;34m:\u001b[0m\u001b[0;34m\u001b[0m\u001b[0m\n\u001b[0;32m-> 1014\u001b[0;31m             \u001b[0mself\u001b[0m\u001b[0;34m.\u001b[0m\u001b[0m_engine\u001b[0m \u001b[0;34m=\u001b[0m \u001b[0mCParserWrapper\u001b[0m\u001b[0;34m(\u001b[0m\u001b[0mself\u001b[0m\u001b[0;34m.\u001b[0m\u001b[0mf\u001b[0m\u001b[0;34m,\u001b[0m \u001b[0;34m**\u001b[0m\u001b[0mself\u001b[0m\u001b[0;34m.\u001b[0m\u001b[0moptions\u001b[0m\u001b[0;34m)\u001b[0m\u001b[0;34m\u001b[0m\u001b[0m\n\u001b[0m\u001b[1;32m   1015\u001b[0m         \u001b[0;32melse\u001b[0m\u001b[0;34m:\u001b[0m\u001b[0;34m\u001b[0m\u001b[0m\n\u001b[1;32m   1016\u001b[0m             \u001b[0;32mif\u001b[0m \u001b[0mengine\u001b[0m \u001b[0;34m==\u001b[0m \u001b[0;34m'python'\u001b[0m\u001b[0;34m:\u001b[0m\u001b[0;34m\u001b[0m\u001b[0m\n",
      "\u001b[0;32m/home/isshamie/software/anaconda2/lib/python2.7/site-packages/pandas/io/parsers.pyc\u001b[0m in \u001b[0;36m__init__\u001b[0;34m(self, src, **kwds)\u001b[0m\n\u001b[1;32m   1706\u001b[0m         \u001b[0mkwds\u001b[0m\u001b[0;34m[\u001b[0m\u001b[0;34m'usecols'\u001b[0m\u001b[0;34m]\u001b[0m \u001b[0;34m=\u001b[0m \u001b[0mself\u001b[0m\u001b[0;34m.\u001b[0m\u001b[0musecols\u001b[0m\u001b[0;34m\u001b[0m\u001b[0m\n\u001b[1;32m   1707\u001b[0m \u001b[0;34m\u001b[0m\u001b[0m\n\u001b[0;32m-> 1708\u001b[0;31m         \u001b[0mself\u001b[0m\u001b[0;34m.\u001b[0m\u001b[0m_reader\u001b[0m \u001b[0;34m=\u001b[0m \u001b[0mparsers\u001b[0m\u001b[0;34m.\u001b[0m\u001b[0mTextReader\u001b[0m\u001b[0;34m(\u001b[0m\u001b[0msrc\u001b[0m\u001b[0;34m,\u001b[0m \u001b[0;34m**\u001b[0m\u001b[0mkwds\u001b[0m\u001b[0;34m)\u001b[0m\u001b[0;34m\u001b[0m\u001b[0m\n\u001b[0m\u001b[1;32m   1709\u001b[0m \u001b[0;34m\u001b[0m\u001b[0m\n\u001b[1;32m   1710\u001b[0m         \u001b[0mpassed_names\u001b[0m \u001b[0;34m=\u001b[0m \u001b[0mself\u001b[0m\u001b[0;34m.\u001b[0m\u001b[0mnames\u001b[0m \u001b[0;32mis\u001b[0m \u001b[0mNone\u001b[0m\u001b[0;34m\u001b[0m\u001b[0m\n",
      "\u001b[0;32mpandas/_libs/parsers.pyx\u001b[0m in \u001b[0;36mpandas._libs.parsers.TextReader.__cinit__\u001b[0;34m()\u001b[0m\n",
      "\u001b[0;32mpandas/_libs/parsers.pyx\u001b[0m in \u001b[0;36mpandas._libs.parsers.TextReader._setup_parser_source\u001b[0;34m()\u001b[0m\n",
      "\u001b[0;31mIOError\u001b[0m: File Results/tss_annotation_peaks/all_peaks_txn_df_02_maxinfo.tsv does not exist"
     ]
    }
   ],
   "source": [
    "anno_df = pd.read_csv(anno_f,sep=\"\\t\")\n",
    "anno_df[\"Strand\"].unique()\n"
   ]
  },
  {
   "cell_type": "code",
   "execution_count": null,
   "metadata": {
    "ExecuteTime": {
     "end_time": "2019-01-03T23:17:52.043440Z",
     "start_time": "2019-01-03T23:17:51.837Z"
    }
   },
   "outputs": [],
   "source": [
    "anno_df[\"Strand\"].isnull().any()"
   ]
  },
  {
   "cell_type": "code",
   "execution_count": 6,
   "metadata": {
    "ExecuteTime": {
     "end_time": "2019-01-03T23:19:03.852995Z",
     "start_time": "2019-01-03T23:19:03.730695Z"
    }
   },
   "outputs": [
    {
     "name": "stdout",
     "output_type": "stream",
     "text": [
      "gene_df_01.p       gene_df_02.tsv       geneID_df_02.params  txn_df_02_matrix\r\n",
      "gene_df_01.params  geneID_df_01.p       geneID_df_02.tsv     txn_df_02.p\r\n",
      "gene_df_01.tsv     geneID_df_01.params  txn_df_01.p          txn_df_02.params\r\n",
      "gene_df_02.p       geneID_df_01.tsv     txn_df_01.params     txn_df_02.tsv\r\n",
      "gene_df_02.params  geneID_df_02.p       txn_df_01.tsv\r\n"
     ]
    }
   ],
   "source": [
    "ls Results/tss_annotation/"
   ]
  },
  {
   "cell_type": "code",
   "execution_count": 14,
   "metadata": {
    "ExecuteTime": {
     "end_time": "2019-01-03T23:28:19.608217Z",
     "start_time": "2019-01-03T23:28:08.130966Z"
    },
    "scrolled": false
   },
   "outputs": [
    {
     "data": {
      "text/html": [
       "<div>\n",
       "<style scoped>\n",
       "    .dataframe tbody tr th:only-of-type {\n",
       "        vertical-align: middle;\n",
       "    }\n",
       "\n",
       "    .dataframe tbody tr th {\n",
       "        vertical-align: top;\n",
       "    }\n",
       "\n",
       "    .dataframe thead th {\n",
       "        text-align: right;\n",
       "    }\n",
       "</style>\n",
       "<table border=\"1\" class=\"dataframe\">\n",
       "  <thead>\n",
       "    <tr style=\"text-align: right;\">\n",
       "      <th></th>\n",
       "      <th>peaks</th>\n",
       "      <th>closest_to_X_numberOfPeaks</th>\n",
       "      <th>bin_-1000_1000</th>\n",
       "      <th>sameStrand_bin_-1000_1000</th>\n",
       "      <th>samples</th>\n",
       "      <th>minDistance</th>\n",
       "      <th>minDistancePeak</th>\n",
       "      <th>maxValue</th>\n",
       "      <th>maxPeakId</th>\n",
       "      <th>maxSample</th>\n",
       "      <th>...</th>\n",
       "      <th>Start</th>\n",
       "      <th>End</th>\n",
       "      <th>Strand</th>\n",
       "      <th>gene_id</th>\n",
       "      <th>gene</th>\n",
       "      <th>transcript</th>\n",
       "      <th>maxSamples</th>\n",
       "      <th>hasGene</th>\n",
       "      <th>Number of SS</th>\n",
       "      <th>Tissues</th>\n",
       "    </tr>\n",
       "  </thead>\n",
       "  <tbody>\n",
       "    <tr>\n",
       "      <th>asmbl_2</th>\n",
       "      <td>[]</td>\n",
       "      <td>0</td>\n",
       "      <td>[]</td>\n",
       "      <td>[]</td>\n",
       "      <td>[]</td>\n",
       "      <td>inf</td>\n",
       "      <td>NaN</td>\n",
       "      <td>NaN</td>\n",
       "      <td>NaN</td>\n",
       "      <td>NaN</td>\n",
       "      <td>...</td>\n",
       "      <td>NaN</td>\n",
       "      <td>NaN</td>\n",
       "      <td>NaN</td>\n",
       "      <td>NaN</td>\n",
       "      <td>NaN</td>\n",
       "      <td>NaN</td>\n",
       "      <td>[]</td>\n",
       "      <td>False</td>\n",
       "      <td>0</td>\n",
       "      <td></td>\n",
       "    </tr>\n",
       "    <tr>\n",
       "      <th>asmbl_4</th>\n",
       "      <td>[215685, 249167, 398989, 483229]</td>\n",
       "      <td>4</td>\n",
       "      <td>[215685]</td>\n",
       "      <td>[215685]</td>\n",
       "      <td>[CHO_START1_and_CHO_STARTinput1]</td>\n",
       "      <td>706.000000</td>\n",
       "      <td>215685</td>\n",
       "      <td>3.04</td>\n",
       "      <td>215685</td>\n",
       "      <td>NaN</td>\n",
       "      <td>...</td>\n",
       "      <td>45849</td>\n",
       "      <td>45999</td>\n",
       "      <td>-</td>\n",
       "      <td>gene_2</td>\n",
       "      <td>RRP7A</td>\n",
       "      <td>asmbl_4</td>\n",
       "      <td>[CHO_START1_and_CHO_STARTinput1]</td>\n",
       "      <td>True</td>\n",
       "      <td>1</td>\n",
       "      <td>CHO</td>\n",
       "    </tr>\n",
       "    <tr>\n",
       "      <th>asmbl_7</th>\n",
       "      <td>[104402]</td>\n",
       "      <td>1</td>\n",
       "      <td>[104402]</td>\n",
       "      <td>[]</td>\n",
       "      <td>[]</td>\n",
       "      <td>inf</td>\n",
       "      <td>NaN</td>\n",
       "      <td>NaN</td>\n",
       "      <td>NaN</td>\n",
       "      <td>NaN</td>\n",
       "      <td>...</td>\n",
       "      <td>NaN</td>\n",
       "      <td>NaN</td>\n",
       "      <td>NaN</td>\n",
       "      <td>NaN</td>\n",
       "      <td>NaN</td>\n",
       "      <td>NaN</td>\n",
       "      <td>[]</td>\n",
       "      <td>False</td>\n",
       "      <td>0</td>\n",
       "      <td></td>\n",
       "    </tr>\n",
       "    <tr>\n",
       "      <th>asmbl_8</th>\n",
       "      <td>[]</td>\n",
       "      <td>0</td>\n",
       "      <td>[]</td>\n",
       "      <td>[]</td>\n",
       "      <td>[]</td>\n",
       "      <td>inf</td>\n",
       "      <td>NaN</td>\n",
       "      <td>NaN</td>\n",
       "      <td>NaN</td>\n",
       "      <td>NaN</td>\n",
       "      <td>...</td>\n",
       "      <td>NaN</td>\n",
       "      <td>NaN</td>\n",
       "      <td>NaN</td>\n",
       "      <td>NaN</td>\n",
       "      <td>NaN</td>\n",
       "      <td>NaN</td>\n",
       "      <td>[]</td>\n",
       "      <td>False</td>\n",
       "      <td>0</td>\n",
       "      <td></td>\n",
       "    </tr>\n",
       "    <tr>\n",
       "      <th>asmbl_9</th>\n",
       "      <td>[]</td>\n",
       "      <td>0</td>\n",
       "      <td>[]</td>\n",
       "      <td>[]</td>\n",
       "      <td>[]</td>\n",
       "      <td>inf</td>\n",
       "      <td>NaN</td>\n",
       "      <td>NaN</td>\n",
       "      <td>NaN</td>\n",
       "      <td>NaN</td>\n",
       "      <td>...</td>\n",
       "      <td>NaN</td>\n",
       "      <td>NaN</td>\n",
       "      <td>NaN</td>\n",
       "      <td>NaN</td>\n",
       "      <td>NaN</td>\n",
       "      <td>NaN</td>\n",
       "      <td>[]</td>\n",
       "      <td>False</td>\n",
       "      <td>0</td>\n",
       "      <td></td>\n",
       "    </tr>\n",
       "  </tbody>\n",
       "</table>\n",
       "<p>5 rows × 21 columns</p>\n",
       "</div>"
      ],
      "text/plain": [
       "                                    peaks  closest_to_X_numberOfPeaks  \\\n",
       "asmbl_2                                []                           0   \n",
       "asmbl_4  [215685, 249167, 398989, 483229]                           4   \n",
       "asmbl_7                          [104402]                           1   \n",
       "asmbl_8                                []                           0   \n",
       "asmbl_9                                []                           0   \n",
       "\n",
       "        bin_-1000_1000 sameStrand_bin_-1000_1000  \\\n",
       "asmbl_2             []                        []   \n",
       "asmbl_4       [215685]                  [215685]   \n",
       "asmbl_7       [104402]                        []   \n",
       "asmbl_8             []                        []   \n",
       "asmbl_9             []                        []   \n",
       "\n",
       "                                  samples  minDistance minDistancePeak  \\\n",
       "asmbl_2                                []          inf             NaN   \n",
       "asmbl_4  [CHO_START1_and_CHO_STARTinput1]   706.000000          215685   \n",
       "asmbl_7                                []          inf             NaN   \n",
       "asmbl_8                                []          inf             NaN   \n",
       "asmbl_9                                []          inf             NaN   \n",
       "\n",
       "        maxValue maxPeakId maxSample   ...     Start    End Strand gene_id  \\\n",
       "asmbl_2      NaN       NaN       NaN   ...       NaN    NaN    NaN     NaN   \n",
       "asmbl_4     3.04    215685       NaN   ...     45849  45999      -  gene_2   \n",
       "asmbl_7      NaN       NaN       NaN   ...       NaN    NaN    NaN     NaN   \n",
       "asmbl_8      NaN       NaN       NaN   ...       NaN    NaN    NaN     NaN   \n",
       "asmbl_9      NaN       NaN       NaN   ...       NaN    NaN    NaN     NaN   \n",
       "\n",
       "          gene transcript                        maxSamples hasGene  \\\n",
       "asmbl_2    NaN        NaN                                []   False   \n",
       "asmbl_4  RRP7A    asmbl_4  [CHO_START1_and_CHO_STARTinput1]    True   \n",
       "asmbl_7    NaN        NaN                                []   False   \n",
       "asmbl_8    NaN        NaN                                []   False   \n",
       "asmbl_9    NaN        NaN                                []   False   \n",
       "\n",
       "         Number of SS  Tissues  \n",
       "asmbl_2             0           \n",
       "asmbl_4             1      CHO  \n",
       "asmbl_7             0           \n",
       "asmbl_8             0           \n",
       "asmbl_9             0           \n",
       "\n",
       "[5 rows x 21 columns]"
      ]
     },
     "execution_count": 14,
     "metadata": {},
     "output_type": "execute_result"
    }
   ],
   "source": [
    "txn_f = \"Results/tss_annotation/txn_df_02_tissues.p\"\n",
    "txn_df = pickle.load(open(txn_f,\"rb\"))\n",
    "txn_df.head()"
   ]
  },
  {
   "cell_type": "markdown",
   "metadata": {},
   "source": [
    "## After"
   ]
  },
  {
   "cell_type": "code",
   "execution_count": 15,
   "metadata": {
    "ExecuteTime": {
     "end_time": "2019-01-03T23:28:19.713121Z",
     "start_time": "2019-01-03T23:28:19.611849Z"
    },
    "scrolled": true
   },
   "outputs": [
    {
     "data": {
      "text/html": [
       "<div>\n",
       "<style scoped>\n",
       "    .dataframe tbody tr th:only-of-type {\n",
       "        vertical-align: middle;\n",
       "    }\n",
       "\n",
       "    .dataframe tbody tr th {\n",
       "        vertical-align: top;\n",
       "    }\n",
       "\n",
       "    .dataframe thead th {\n",
       "        text-align: right;\n",
       "    }\n",
       "</style>\n",
       "<table border=\"1\" class=\"dataframe\">\n",
       "  <thead>\n",
       "    <tr style=\"text-align: right;\">\n",
       "      <th></th>\n",
       "      <th>peaks</th>\n",
       "      <th>closest_to_X_numberOfPeaks</th>\n",
       "      <th>bin_-1000_1000</th>\n",
       "      <th>sameStrand_bin_-1000_1000</th>\n",
       "      <th>samples</th>\n",
       "      <th>minDistance</th>\n",
       "      <th>minDistancePeak</th>\n",
       "      <th>maxValue</th>\n",
       "      <th>maxPeakId</th>\n",
       "      <th>maxSample</th>\n",
       "      <th>...</th>\n",
       "      <th>Start</th>\n",
       "      <th>End</th>\n",
       "      <th>Strand</th>\n",
       "      <th>gene_id</th>\n",
       "      <th>gene</th>\n",
       "      <th>transcript</th>\n",
       "      <th>maxSamples</th>\n",
       "      <th>hasGene</th>\n",
       "      <th>Number of SS</th>\n",
       "      <th>Tissues</th>\n",
       "    </tr>\n",
       "  </thead>\n",
       "  <tbody>\n",
       "  </tbody>\n",
       "</table>\n",
       "<p>0 rows × 21 columns</p>\n",
       "</div>"
      ],
      "text/plain": [
       "Empty DataFrame\n",
       "Columns: [peaks, closest_to_X_numberOfPeaks, bin_-1000_1000, sameStrand_bin_-1000_1000, samples, minDistance, minDistancePeak, maxValue, maxPeakId, maxSample, Chr, Start, End, Strand, gene_id, gene, transcript, maxSamples, hasGene, Number of SS, Tissues]\n",
       "Index: []\n",
       "\n",
       "[0 rows x 21 columns]"
      ]
     },
     "execution_count": 15,
     "metadata": {},
     "output_type": "execute_result"
    }
   ],
   "source": [
    "null_genes = txn_df[txn_df[\"hasGene\"]].loc[txn_df[txn_df[\"hasGene\"]][\"Strand\"].isnull()]\n",
    "null_genes"
   ]
  },
  {
   "cell_type": "markdown",
   "metadata": {},
   "source": [
    "### Before "
   ]
  },
  {
   "cell_type": "code",
   "execution_count": 33,
   "metadata": {
    "ExecuteTime": {
     "end_time": "2019-01-02T22:33:49.905073Z",
     "start_time": "2019-01-02T22:33:49.795075Z"
    },
    "scrolled": true
   },
   "outputs": [
    {
     "data": {
      "text/plain": [
       "peaks                         [41475, 99647, 151087, 289513, 320335, 333864,...\n",
       "closest_to_X_numberOfPeaks                                                    7\n",
       "bin_-1000_1000                   [41475, 99647, 289513, 320335, 333864, 457557]\n",
       "sameStrand_bin_-1000_1000                        [41475, 99647, 289513, 457557]\n",
       "samples                                                                      []\n",
       "minDistance                                                                 inf\n",
       "minDistancePeak                                                             NaN\n",
       "maxValue                                                                    NaN\n",
       "maxPeakId                                                                   NaN\n",
       "maxSample                                                                   NaN\n",
       "Chr                                                                         NaN\n",
       "Start                                                                       NaN\n",
       "End                                                                         NaN\n",
       "Strand                                                                      NaN\n",
       "gene_id                                                                     NaN\n",
       "gene                                                                        NaN\n",
       "transcript                                                                  NaN\n",
       "maxSamples                                                                   []\n",
       "hasGene                                                                    True\n",
       "Number of SS                                                                  4\n",
       "Tissues                                                                        \n",
       "Name: asmbl_119, dtype: object"
      ]
     },
     "execution_count": 33,
     "metadata": {},
     "output_type": "execute_result"
    }
   ],
   "source": [
    "null_genes = txn_df[txn_df[\"hasGene\"]].loc[txn_df[txn_df[\"hasGene\"]][\"Strand\"].isnull()]\n",
    "null_genes.iloc[0]"
   ]
  },
  {
   "cell_type": "code",
   "execution_count": 34,
   "metadata": {
    "ExecuteTime": {
     "end_time": "2019-01-02T23:20:05.261962Z",
     "start_time": "2019-01-02T23:20:05.255141Z"
    }
   },
   "outputs": [
    {
     "data": {
      "text/plain": [
       "1011"
      ]
     },
     "execution_count": 34,
     "metadata": {},
     "output_type": "execute_result"
    }
   ],
   "source": [
    "len(null_genes)"
   ]
  }
 ],
 "metadata": {
  "kernelspec": {
   "display_name": "Python 2",
   "language": "python",
   "name": "python2"
  },
  "language_info": {
   "codemirror_mode": {
    "name": "ipython",
    "version": 2
   },
   "file_extension": ".py",
   "mimetype": "text/x-python",
   "name": "python",
   "nbconvert_exporter": "python",
   "pygments_lexer": "ipython2",
   "version": "2.7.13"
  }
 },
 "nbformat": 4,
 "nbformat_minor": 2
}
