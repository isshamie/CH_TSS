{
 "cells": [
  {
   "cell_type": "code",
   "execution_count": 6,
   "metadata": {
    "collapsed": true
   },
   "outputs": [],
   "source": [
    "import glob\n",
    "import re"
   ]
  },
  {
   "cell_type": "code",
   "execution_count": null,
   "metadata": {
    "collapsed": true
   },
   "outputs": [],
   "source": [
    "from joblib import Parallel, delayed\n",
    "\n",
    "import multiprocessing"
   ]
  },
  {
   "cell_type": "code",
   "execution_count": 19,
   "metadata": {},
   "outputs": [
    {
     "name": "stdout",
     "output_type": "stream",
     "text": [
      "gzip CHBrainnegmaybe7neg1_mSTARTinput_JHS1082_SD_CACGAT_S104_L005_R1_001.fastq.gz.trimmed\n",
      "gzip CHSpleen_mSTART_JHS1053_SD_GAGTGG_S75_L004_R1_001.fastq.gz.trimmed\n",
      "gzip CHBrain7neg1_mSTART_JHS1061_SD_CACGAT_S83_L004_R1_001.fastq.gz.trimmed\n",
      "gzip CHMuscle_mSTART_JHS1019_SD_GTGGCC_S31_L002_R1_001.fastq.gz.trimmed\n",
      "gzip CHBMDM1hKLA1_ATAC_JHS998_SD_TGGGTTTC_S9_L001_R1_001.fastq.gz.trimmed\n",
      "gzip CHLiver_GRO_JHS1038_SD_GTAGAG_S53_L003_R1_001.fastq.gz.trimmed\n",
      "gzip CHMuscle_mSTARTinput_JHS1079_SD_CAAAAG_S101_L005_R1_001.fastq.gz.trimmed\n",
      "gzip CHLung_mSTARTinput_JHS1075_SD_GGTAGC_S97_L005_R1_001.fastq.gz.trimmed\n",
      "gzip CHKidney_GRO_JHS1035_SD_AGTTCC_S50_L003_R1_001.fastq.gz.trimmed\n",
      "gzip CHLung_mSTART_JHS1020_SD_GTTTCG_S32_L002_R1_001.fastq.gz.trimmed\n",
      "gzip CHPancreas_mSTART_JHS1014_SD_ATGTCA_S26_L002_R1_001.fastq.gz.trimmed\n",
      "gzip CHLiver_mSTART_JHS1015_SD_CCGTCC_S27_L002_R1_001.fastq.gz.trimmed\n",
      "gzip CHFemaleReproductive_mSTART_JHS1052_SD_CGTACG_S74_L004_R1_001.fastq.gz.trimmed\n",
      "gzip CHBrain_mSTART_JHS1016_SD_GTAGAG_S28_L002_R1_001.fastq.gz.trimmed\n",
      "gzip CHLung_ATAC_JHS993_SD_TGGATCTG_S5_L001_R1_001.fastq.gz.trimmed\n",
      "gzip CHKidney_ATAC_JHS991_SD_CGAGGCTG_S3_L001_R1_001.fastq.gz.trimmed\n",
      "gzip CHFemaleReproductive_mSTART_JHS1011_SD_TAGCTT_S23_L002_R1_001.fastq.gz.trimmed\n",
      "gzip CHBrain_GRO_JHS1036_SD_ATGTCA_S51_L003_R1_001.fastq.gz.trimmed\n",
      "gzip CHLung_mSTART_JHS1054_SD_GGTAGC_S76_L004_R1_001.fastq.gz.trimmed\n",
      "gzip CHBMDM1hKLA2_ATAC_JHS1000_SD_AGGTTGGG_S11_L001_R1_001.fastq.gz.trimmed\n",
      "gzip CHHeart_mSTART_JHS1056_SD_ATGAGC_S78_L004_R1_001.fastq.gz.trimmed\n",
      "gzip CHHeart_mSTART_JHS1013_SD_AGTTCC_S25_L002_R1_001.fastq.gz.trimmed\n",
      "gzip CHBMDM1hKLA_GRO_JHS1034_SD_AGTCAA_S49_L003_R1_001.fastq.gz.trimmed\n",
      "gzip CHBrain_mSTART_JHS1057_SD_ATTCCT_S79_L004_R1_001.fastq.gz.trimmed\n",
      "gzip CHHeart_mSTARTinput_JHS1077_SD_ATGAGC_S99_L005_R1_001.fastq.gz.trimmed\n",
      "gzip CHMiscOrgans_mSTART_JHS1060_SD_CACCGG_S82_L004_R1_001.fastq.gz.trimmed\n",
      "gzip CHBloondnegSpleen_GRO_JHS1032_SD_TCCCGA_S47_L003_R1_001.fastq.gz.trimmed\n",
      "gzip CHTotal_mSTART_JHS1023_SD_GGTAGC_S35_L002_R1_001.fastq.gz.trimmed\n",
      "gzip CHPancreas_mSTARTinput_JHS1072_SD_GTTTCG_S94_L005_R1_001.fastq.gz.trimmed\n",
      "gzip CHSpleednegBlood_mSTART_JHS1017_SD_GTCCGC_S29_L002_R1_001.fastq.gz.trimmed\n",
      "gzip CHKidney_mSTART_JHS1022_SD_GAGTGG_S34_L002_R1_001.fastq.gz.trimmed\n",
      "gzip CHKidney_mSTART_JHS1059_SD_CAACTA_S81_L004_R1_001.fastq.gz.trimmed\n",
      "gzip CHMiscOrgans_mSTART_JHS1018_SD_GTGAAA_S30_L002_R1_001.fastq.gz.trimmed\n",
      "gzip CHLiver_mSTARTinput_JHS1076_SD_ACTGAT_S98_L005_R1_001.fastq.gz.trimmed\n",
      "gzip CHLiver_GRO_JHS1031_SD_TAATCG_S46_L003_R1_001.fastq.gz.trimmed\n",
      "gzip CHBloondnegSpleen_GRO_JHS1039_SD_GTCCGC_S54_L003_R1_001.fastq.gz.trimmed\n",
      "gzip CHBrain_GRO_JHS1029_SD_CACCGG_S44_L003_R1_001.fastq.gz.trimmed\n",
      "gzip CHMuscle_mSTART_JHS1058_SD_CAAAAG_S80_L004_R1_001.fastq.gz.trimmed\n",
      "gzip CHBMDMVehic2_ATAC_JHS999_SD_TGGTCACA_S10_L001_R1_001.fastq.gz.trimmed\n",
      "gzip CHSpleen_mSTARTinput_JHS1074_SD_GAGTGG_S96_L005_R1_001.fastq.gz.trimmed\n",
      "gzip CHSpleenBlood_ATAC_JHS995_SD_TGCTGGGT_S7_L001_R1_001.fastq.gz.trimmed\n",
      "gzip CHBMDMVehic1_ATAC_JHS997_SD_GTGTGGTG_S8_L001_R1_001.fastq.gz.trimmed\n",
      "gzip CHFemaleReproductive_mSTARTinput_JHS1073_SD_CGTACG_S95_L005_R1_001.fastq.gz.trimmed\n",
      "gzip CHBrain_ATAC_JHS992_SD_ACCACTGT_S4_L001_R1_001.fastq.gz.trimmed\n",
      "gzip CHIntestine_mSTART_JHS1012_SD_AGTCAA_S24_L002_R1_001.fastq.gz.trimmed\n",
      "gzip CHBMDM1hKLA_GRO_JHS1027_SD_CAAAAG_S42_L003_R1_001.fastq.gz.trimmed\n",
      "gzip CHBMDMwt_GRO_JHS1026_SD_ATTCCT_S41_L003_R1_001.fastq.gz.trimmed\n",
      "gzip CHPancreas_mSTART_JHS1051_SD_GTTTCG_S73_L004_R1_001.fastq.gz.trimmed\n",
      "gzip CHKidney_mSTARTinput_JHS1080_SD_CAACTA_S102_L005_R1_001.fastq.gz.trimmed\n",
      "gzip CHLung_GRO_JHS1030_SD_CACGAT_S45_L003_R1_001.fastq.gz.trimmed\n",
      "gzip CHLiver_mSTART_JHS1055_SD_ACTGAT_S77_L004_R1_001.fastq.gz.trimmed\n",
      "gzip CHKidney_GRO_JHS1028_SD_CAACTA_S43_L003_R1_001.fastq.gz.trimmed\n",
      "gzip CHLiver_ATAC_JHS994_SD_CCGTTTGT_S6_L001_R1_001.fastq.gz.trimmed\n",
      "gzip CHBMDMwt_GRO_JHS1033_SD_TAGCTT_S48_L003_R1_001.fastq.gz.trimmed\n",
      "gzip CHMiscOrgans_mSTARTinput_JHS1081_SD_CACCGG_S103_L005_R1_001.fastq.gz.trimmed\n",
      "gzip CHLung_GRO_JHS1037_SD_CCGTCC_S52_L003_R1_001.fastq.gz.trimmed\n",
      "gzip CHSkin_mSTART_JHS1021_SD_CGTACG_S33_L002_R1_001.fastq.gz.trimmed\n",
      "gzip CHBrain_mSTARTinput_JHS1078_SD_ATTCCT_S100_L005_R1_001.fastq.gz.trimmed\n"
     ]
    }
   ],
   "source": [
    "\n",
    "f = glob.glob('*trimmed')\n",
    "\n",
    "# what are your inputs, and what operation do you want to\n",
    "# perform on each input. For example...\n",
    "\n",
    "#inputs = range(10)\n",
    "\n",
    "def processInput(i):\n",
    "    cmd = 'gzip %s' % i\n",
    "    print cmd\n",
    "    !{cmd}\n",
    "    return cmd \n",
    "num_cores = 16#multiprocessing.cpu_count()\n",
    "\n",
    "results = Parallel(n_jobs=num_cores)(delayed(processInput)(i) for i in f)"
   ]
  },
  {
   "cell_type": "code",
   "execution_count": 22,
   "metadata": {},
   "outputs": [
    {
     "name": "stdout",
     "output_type": "stream",
     "text": [
      "mv CHSpleenBlood_ATAC_JHS995_SD_TGCTGGGT_S7_L001_R1_001.fastq.gz.trimmed.gz trim_CHSpleenBlood_ATAC_JHS995_SD_TGCTGGGT_S7_L001_R1_001.fastq.gz\n",
      "mv CHLiver_GRO_JHS1031_SD_TAATCG_S46_L003_R1_001.fastq.gz.trimmed.gz trim_CHLiver_GRO_JHS1031_SD_TAATCG_S46_L003_R1_001.fastq.gz\n",
      "mv CHBMDMwt_GRO_JHS1033_SD_TAGCTT_S48_L003_R1_001.fastq.gz.trimmed.gz trim_CHBMDMwt_GRO_JHS1033_SD_TAGCTT_S48_L003_R1_001.fastq.gz\n",
      "mv CHBMDMVehic2_ATAC_JHS999_SD_TGGTCACA_S10_L001_R1_001.fastq.gz.trimmed.gz trim_CHBMDMVehic2_ATAC_JHS999_SD_TGGTCACA_S10_L001_R1_001.fastq.gz\n",
      "mv CHLung_mSTART_JHS1054_SD_GGTAGC_S76_L004_R1_001.fastq.gz.trimmed.gz trim_CHLung_mSTART_JHS1054_SD_GGTAGC_S76_L004_R1_001.fastq.gz\n",
      "mv CHLung_ATAC_JHS993_SD_TGGATCTG_S5_L001_R1_001.fastq.gz.trimmed.gz trim_CHLung_ATAC_JHS993_SD_TGGATCTG_S5_L001_R1_001.fastq.gz\n",
      "mv CHSkin_mSTART_JHS1021_SD_CGTACG_S33_L002_R1_001.fastq.gz.trimmed.gz trim_CHSkin_mSTART_JHS1021_SD_CGTACG_S33_L002_R1_001.fastq.gz\n",
      "mv CHLiver_GRO_JHS1038_SD_GTAGAG_S53_L003_R1_001.fastq.gz.trimmed.gz trim_CHLiver_GRO_JHS1038_SD_GTAGAG_S53_L003_R1_001.fastq.gz\n",
      "mv CHLiver_ATAC_JHS994_SD_CCGTTTGT_S6_L001_R1_001.fastq.gz.trimmed.gz trim_CHLiver_ATAC_JHS994_SD_CCGTTTGT_S6_L001_R1_001.fastq.gz\n",
      "mv CHSpleen_mSTART_JHS1053_SD_GAGTGG_S75_L004_R1_001.fastq.gz.trimmed.gz trim_CHSpleen_mSTART_JHS1053_SD_GAGTGG_S75_L004_R1_001.fastq.gz\n",
      "mv CHFemaleReproductive_mSTART_JHS1011_SD_TAGCTT_S23_L002_R1_001.fastq.gz.trimmed.gz trim_CHFemaleReproductive_mSTART_JHS1011_SD_TAGCTT_S23_L002_R1_001.fastq.gz\n",
      "mv CHSpleednegBlood_mSTART_JHS1017_SD_GTCCGC_S29_L002_R1_001.fastq.gz.trimmed.gz trim_CHSpleednegBlood_mSTART_JHS1017_SD_GTCCGC_S29_L002_R1_001.fastq.gz\n",
      "mv CHBrain_GRO_JHS1029_SD_CACCGG_S44_L003_R1_001.fastq.gz.trimmed.gz trim_CHBrain_GRO_JHS1029_SD_CACCGG_S44_L003_R1_001.fastq.gz\n",
      "mv CHBrain_GRO_JHS1036_SD_ATGTCA_S51_L003_R1_001.fastq.gz.trimmed.gz trim_CHBrain_GRO_JHS1036_SD_ATGTCA_S51_L003_R1_001.fastq.gz\n",
      "mv CHSpleen_mSTARTinput_JHS1074_SD_GAGTGG_S96_L005_R1_001.fastq.gz.trimmed.gz trim_CHSpleen_mSTARTinput_JHS1074_SD_GAGTGG_S96_L005_R1_001.fastq.gz\n",
      "mv CHBrain_mSTART_JHS1057_SD_ATTCCT_S79_L004_R1_001.fastq.gz.trimmed.gz trim_CHBrain_mSTART_JHS1057_SD_ATTCCT_S79_L004_R1_001.fastq.gz\n",
      "mv CHBloondnegSpleen_GRO_JHS1032_SD_TCCCGA_S47_L003_R1_001.fastq.gz.trimmed.gz trim_CHBloondnegSpleen_GRO_JHS1032_SD_TCCCGA_S47_L003_R1_001.fastq.gz\n",
      "mv CHBMDM1hKLA1_ATAC_JHS998_SD_TGGGTTTC_S9_L001_R1_001.fastq.gz.trimmed.gz trim_CHBMDM1hKLA1_ATAC_JHS998_SD_TGGGTTTC_S9_L001_R1_001.fastq.gz\n",
      "mv CHLiver_mSTARTinput_JHS1076_SD_ACTGAT_S98_L005_R1_001.fastq.gz.trimmed.gz trim_CHLiver_mSTARTinput_JHS1076_SD_ACTGAT_S98_L005_R1_001.fastq.gz\n",
      "mv CHBrain_ATAC_JHS992_SD_ACCACTGT_S4_L001_R1_001.fastq.gz.trimmed.gz trim_CHBrain_ATAC_JHS992_SD_ACCACTGT_S4_L001_R1_001.fastq.gz\n",
      "mv CHBMDM1hKLA_GRO_JHS1027_SD_CAAAAG_S42_L003_R1_001.fastq.gz.trimmed.gz trim_CHBMDM1hKLA_GRO_JHS1027_SD_CAAAAG_S42_L003_R1_001.fastq.gz\n",
      "mv CHHeart_mSTARTinput_JHS1077_SD_ATGAGC_S99_L005_R1_001.fastq.gz.trimmed.gz trim_CHHeart_mSTARTinput_JHS1077_SD_ATGAGC_S99_L005_R1_001.fastq.gz\n",
      "mv CHLiver_mSTART_JHS1055_SD_ACTGAT_S77_L004_R1_001.fastq.gz.trimmed.gz trim_CHLiver_mSTART_JHS1055_SD_ACTGAT_S77_L004_R1_001.fastq.gz\n",
      "mv CHKidney_GRO_JHS1035_SD_AGTTCC_S50_L003_R1_001.fastq.gz.trimmed.gz trim_CHKidney_GRO_JHS1035_SD_AGTTCC_S50_L003_R1_001.fastq.gz\n",
      "mv CHBMDMwt_GRO_JHS1026_SD_ATTCCT_S41_L003_R1_001.fastq.gz.trimmed.gz trim_CHBMDMwt_GRO_JHS1026_SD_ATTCCT_S41_L003_R1_001.fastq.gz\n",
      "mv CHIntestine_mSTART_JHS1012_SD_AGTCAA_S24_L002_R1_001.fastq.gz.trimmed.gz trim_CHIntestine_mSTART_JHS1012_SD_AGTCAA_S24_L002_R1_001.fastq.gz\n",
      "mv CHHeart_mSTART_JHS1013_SD_AGTTCC_S25_L002_R1_001.fastq.gz.trimmed.gz trim_CHHeart_mSTART_JHS1013_SD_AGTTCC_S25_L002_R1_001.fastq.gz\n",
      "mv CHKidney_mSTART_JHS1022_SD_GAGTGG_S34_L002_R1_001.fastq.gz.trimmed.gz trim_CHKidney_mSTART_JHS1022_SD_GAGTGG_S34_L002_R1_001.fastq.gz\n",
      "mv CHBrain7neg1_mSTART_JHS1061_SD_CACGAT_S83_L004_R1_001.fastq.gz.trimmed.gz trim_CHBrain7neg1_mSTART_JHS1061_SD_CACGAT_S83_L004_R1_001.fastq.gz\n",
      "mv CHPancreas_mSTART_JHS1051_SD_GTTTCG_S73_L004_R1_001.fastq.gz.trimmed.gz trim_CHPancreas_mSTART_JHS1051_SD_GTTTCG_S73_L004_R1_001.fastq.gz\n",
      "mv CHPancreas_mSTART_JHS1014_SD_ATGTCA_S26_L002_R1_001.fastq.gz.trimmed.gz trim_CHPancreas_mSTART_JHS1014_SD_ATGTCA_S26_L002_R1_001.fastq.gz\n",
      "mv CHMuscle_mSTART_JHS1019_SD_GTGGCC_S31_L002_R1_001.fastq.gz.trimmed.gz trim_CHMuscle_mSTART_JHS1019_SD_GTGGCC_S31_L002_R1_001.fastq.gz\n",
      "mv CHMiscOrgans_mSTART_JHS1018_SD_GTGAAA_S30_L002_R1_001.fastq.gz.trimmed.gz trim_CHMiscOrgans_mSTART_JHS1018_SD_GTGAAA_S30_L002_R1_001.fastq.gz\n",
      "mv CHHeart_mSTART_JHS1056_SD_ATGAGC_S78_L004_R1_001.fastq.gz.trimmed.gz trim_CHHeart_mSTART_JHS1056_SD_ATGAGC_S78_L004_R1_001.fastq.gz\n",
      "mv CHMuscle_mSTARTinput_JHS1079_SD_CAAAAG_S101_L005_R1_001.fastq.gz.trimmed.gz trim_CHMuscle_mSTARTinput_JHS1079_SD_CAAAAG_S101_L005_R1_001.fastq.gz\n",
      "mv CHBloondnegSpleen_GRO_JHS1039_SD_GTCCGC_S54_L003_R1_001.fastq.gz.trimmed.gz trim_CHBloondnegSpleen_GRO_JHS1039_SD_GTCCGC_S54_L003_R1_001.fastq.gz\n",
      "mv CHFemaleReproductive_mSTARTinput_JHS1073_SD_CGTACG_S95_L005_R1_001.fastq.gz.trimmed.gz trim_CHFemaleReproductive_mSTARTinput_JHS1073_SD_CGTACG_S95_L005_R1_001.fastq.gz\n",
      "mv CHMiscOrgans_mSTART_JHS1060_SD_CACCGG_S82_L004_R1_001.fastq.gz.trimmed.gz trim_CHMiscOrgans_mSTART_JHS1060_SD_CACCGG_S82_L004_R1_001.fastq.gz\n",
      "mv CHLiver_mSTART_JHS1015_SD_CCGTCC_S27_L002_R1_001.fastq.gz.trimmed.gz trim_CHLiver_mSTART_JHS1015_SD_CCGTCC_S27_L002_R1_001.fastq.gz\n",
      "mv CHKidney_mSTART_JHS1059_SD_CAACTA_S81_L004_R1_001.fastq.gz.trimmed.gz trim_CHKidney_mSTART_JHS1059_SD_CAACTA_S81_L004_R1_001.fastq.gz\n",
      "mv CHKidney_ATAC_JHS991_SD_CGAGGCTG_S3_L001_R1_001.fastq.gz.trimmed.gz trim_CHKidney_ATAC_JHS991_SD_CGAGGCTG_S3_L001_R1_001.fastq.gz\n",
      "mv CHKidney_GRO_JHS1028_SD_CAACTA_S43_L003_R1_001.fastq.gz.trimmed.gz trim_CHKidney_GRO_JHS1028_SD_CAACTA_S43_L003_R1_001.fastq.gz\n",
      "mv CHPancreas_mSTARTinput_JHS1072_SD_GTTTCG_S94_L005_R1_001.fastq.gz.trimmed.gz trim_CHPancreas_mSTARTinput_JHS1072_SD_GTTTCG_S94_L005_R1_001.fastq.gz\n",
      "mv CHBrainnegmaybe7neg1_mSTARTinput_JHS1082_SD_CACGAT_S104_L005_R1_001.fastq.gz.trimmed.gz trim_CHBrainnegmaybe7neg1_mSTARTinput_JHS1082_SD_CACGAT_S104_L005_R1_001.fastq.gz\n",
      "mv CHMiscOrgans_mSTARTinput_JHS1081_SD_CACCGG_S103_L005_R1_001.fastq.gz.trimmed.gz trim_CHMiscOrgans_mSTARTinput_JHS1081_SD_CACCGG_S103_L005_R1_001.fastq.gz\n",
      "mv CHMuscle_mSTART_JHS1058_SD_CAAAAG_S80_L004_R1_001.fastq.gz.trimmed.gz trim_CHMuscle_mSTART_JHS1058_SD_CAAAAG_S80_L004_R1_001.fastq.gz\n",
      "mv CHTotal_mSTART_JHS1023_SD_GGTAGC_S35_L002_R1_001.fastq.gz.trimmed.gz trim_CHTotal_mSTART_JHS1023_SD_GGTAGC_S35_L002_R1_001.fastq.gz\n",
      "mv CHLung_mSTARTinput_JHS1075_SD_GGTAGC_S97_L005_R1_001.fastq.gz.trimmed.gz trim_CHLung_mSTARTinput_JHS1075_SD_GGTAGC_S97_L005_R1_001.fastq.gz\n",
      "mv CHBMDM1hKLA2_ATAC_JHS1000_SD_AGGTTGGG_S11_L001_R1_001.fastq.gz.trimmed.gz trim_CHBMDM1hKLA2_ATAC_JHS1000_SD_AGGTTGGG_S11_L001_R1_001.fastq.gz\n",
      "mv CHLung_GRO_JHS1030_SD_CACGAT_S45_L003_R1_001.fastq.gz.trimmed.gz trim_CHLung_GRO_JHS1030_SD_CACGAT_S45_L003_R1_001.fastq.gz\n",
      "mv CHLung_GRO_JHS1037_SD_CCGTCC_S52_L003_R1_001.fastq.gz.trimmed.gz trim_CHLung_GRO_JHS1037_SD_CCGTCC_S52_L003_R1_001.fastq.gz\n",
      "mv CHBrain_mSTARTinput_JHS1078_SD_ATTCCT_S100_L005_R1_001.fastq.gz.trimmed.gz trim_CHBrain_mSTARTinput_JHS1078_SD_ATTCCT_S100_L005_R1_001.fastq.gz\n",
      "mv CHFemaleReproductive_mSTART_JHS1052_SD_CGTACG_S74_L004_R1_001.fastq.gz.trimmed.gz trim_CHFemaleReproductive_mSTART_JHS1052_SD_CGTACG_S74_L004_R1_001.fastq.gz\n",
      "mv CHLung_mSTART_JHS1020_SD_GTTTCG_S32_L002_R1_001.fastq.gz.trimmed.gz trim_CHLung_mSTART_JHS1020_SD_GTTTCG_S32_L002_R1_001.fastq.gz\n",
      "mv CHBrain_mSTART_JHS1016_SD_GTAGAG_S28_L002_R1_001.fastq.gz.trimmed.gz trim_CHBrain_mSTART_JHS1016_SD_GTAGAG_S28_L002_R1_001.fastq.gz\n",
      "mv CHBMDMVehic1_ATAC_JHS997_SD_GTGTGGTG_S8_L001_R1_001.fastq.gz.trimmed.gz trim_CHBMDMVehic1_ATAC_JHS997_SD_GTGTGGTG_S8_L001_R1_001.fastq.gz\n",
      "mv CHBMDM1hKLA_GRO_JHS1034_SD_AGTCAA_S49_L003_R1_001.fastq.gz.trimmed.gz trim_CHBMDM1hKLA_GRO_JHS1034_SD_AGTCAA_S49_L003_R1_001.fastq.gz\n",
      "mv CHKidney_mSTARTinput_JHS1080_SD_CAACTA_S102_L005_R1_001.fastq.gz.trimmed.gz trim_CHKidney_mSTARTinput_JHS1080_SD_CAACTA_S102_L005_R1_001.fastq.gz\n"
     ]
    }
   ],
   "source": [
    "f = glob.glob('*trimmed.gz')\n",
    "for i in f:\n",
    "    #i = 'CHKidney_GRO_JHS1028_SD_CAACTA_S43_L003_R1_001.fastq.gz.trimmed'\n",
    "    new_i = re.sub('.trimmed.gz','',i)\n",
    "    new_i = re.sub('^','trim_',new_i)   \n",
    "    cmd = 'mv %s %s' %(i, new_i)\n",
    "    print cmd\n",
    "    !{cmd}"
   ]
  },
  {
   "cell_type": "code",
   "execution_count": null,
   "metadata": {
    "collapsed": true
   },
   "outputs": [],
   "source": []
  },
  {
   "cell_type": "code",
   "execution_count": 33,
   "metadata": {},
   "outputs": [
    {
     "name": "stdout",
     "output_type": "stream",
     "text": [
      "echo \"RawDataPath: '/data/isshamie/CH_tissue_TSS/Brain/GRO/'\n",
      "$(cat template_seq.yaml)\" > /data/isshamie/CH_tissue_TSS/Brain/GRO/Brain_GRO.yaml\n",
      "echo \"RawDataPath: '/data/isshamie/CH_tissue_TSS/Brain/mSTART/'\n",
      "$(cat template_seq.yaml)\" > /data/isshamie/CH_tissue_TSS/Brain/mSTART/Brain_mSTART.yaml\n",
      "echo \"RawDataPath: '/data/isshamie/CH_tissue_TSS/Brain/ATAC/'\n",
      "$(cat template_seq.yaml)\" > /data/isshamie/CH_tissue_TSS/Brain/ATAC/Brain_ATAC.yaml\n",
      "echo \"RawDataPath: '/data/isshamie/CH_tissue_TSS/Heart/mSTART/'\n",
      "$(cat template_seq.yaml)\" > /data/isshamie/CH_tissue_TSS/Heart/mSTART/Heart_mSTART.yaml\n",
      "echo \"RawDataPath: '/data/isshamie/CH_tissue_TSS/Intestine/mSTART/'\n",
      "$(cat template_seq.yaml)\" > /data/isshamie/CH_tissue_TSS/Intestine/mSTART/Intestine_mSTART.yaml\n",
      "echo \"RawDataPath: '/data/isshamie/CH_tissue_TSS/Kidney/GRO/'\n",
      "$(cat template_seq.yaml)\" > /data/isshamie/CH_tissue_TSS/Kidney/GRO/Kidney_GRO.yaml\n",
      "echo \"RawDataPath: '/data/isshamie/CH_tissue_TSS/Kidney/mSTART/'\n",
      "$(cat template_seq.yaml)\" > /data/isshamie/CH_tissue_TSS/Kidney/mSTART/Kidney_mSTART.yaml\n",
      "echo \"RawDataPath: '/data/isshamie/CH_tissue_TSS/Kidney/ATAC/'\n",
      "$(cat template_seq.yaml)\" > /data/isshamie/CH_tissue_TSS/Kidney/ATAC/Kidney_ATAC.yaml\n",
      "echo \"RawDataPath: '/data/isshamie/CH_tissue_TSS/Muscle/mSTART/'\n",
      "$(cat template_seq.yaml)\" > /data/isshamie/CH_tissue_TSS/Muscle/mSTART/Muscle_mSTART.yaml\n",
      "echo \"RawDataPath: '/data/isshamie/CH_tissue_TSS/Lung/GRO/'\n",
      "$(cat template_seq.yaml)\" > /data/isshamie/CH_tissue_TSS/Lung/GRO/Lung_GRO.yaml\n",
      "echo \"RawDataPath: '/data/isshamie/CH_tissue_TSS/Lung/mSTART/'\n",
      "$(cat template_seq.yaml)\" > /data/isshamie/CH_tissue_TSS/Lung/mSTART/Lung_mSTART.yaml\n",
      "echo \"RawDataPath: '/data/isshamie/CH_tissue_TSS/Lung/ATAC/'\n",
      "$(cat template_seq.yaml)\" > /data/isshamie/CH_tissue_TSS/Lung/ATAC/Lung_ATAC.yaml\n",
      "echo \"RawDataPath: '/data/isshamie/CH_tissue_TSS/Skin/mSTART/'\n",
      "$(cat template_seq.yaml)\" > /data/isshamie/CH_tissue_TSS/Skin/mSTART/Skin_mSTART.yaml\n",
      "echo \"RawDataPath: '/data/isshamie/CH_tissue_TSS/Total/mSTART/'\n",
      "$(cat template_seq.yaml)\" > /data/isshamie/CH_tissue_TSS/Total/mSTART/Total_mSTART.yaml\n",
      "echo \"RawDataPath: '/data/isshamie/CH_tissue_TSS/Liver/GRO/'\n",
      "$(cat template_seq.yaml)\" > /data/isshamie/CH_tissue_TSS/Liver/GRO/Liver_GRO.yaml\n",
      "echo \"RawDataPath: '/data/isshamie/CH_tissue_TSS/Liver/mSTART/'\n",
      "$(cat template_seq.yaml)\" > /data/isshamie/CH_tissue_TSS/Liver/mSTART/Liver_mSTART.yaml\n",
      "echo \"RawDataPath: '/data/isshamie/CH_tissue_TSS/Liver/ATAC/'\n",
      "$(cat template_seq.yaml)\" > /data/isshamie/CH_tissue_TSS/Liver/ATAC/Liver_ATAC.yaml\n",
      "echo \"RawDataPath: '/data/isshamie/CH_tissue_TSS/BMDMwt/GRO/'\n",
      "$(cat template_seq.yaml)\" > /data/isshamie/CH_tissue_TSS/BMDMwt/GRO/BMDMwt_GRO.yaml\n",
      "echo \"RawDataPath: '/data/isshamie/CH_tissue_TSS/BMDMwt/ATAC/'\n",
      "$(cat template_seq.yaml)\" > /data/isshamie/CH_tissue_TSS/BMDMwt/ATAC/BMDMwt_ATAC.yaml\n",
      "echo \"RawDataPath: '/data/isshamie/CH_tissue_TSS/FemaleReproductive/mSTART/'\n",
      "$(cat template_seq.yaml)\" > /data/isshamie/CH_tissue_TSS/FemaleReproductive/mSTART/FemaleReproductive_mSTART.yaml\n",
      "echo \"RawDataPath: '/data/isshamie/CH_tissue_TSS/Pancreas/mSTART/'\n",
      "$(cat template_seq.yaml)\" > /data/isshamie/CH_tissue_TSS/Pancreas/mSTART/Pancreas_mSTART.yaml\n",
      "echo \"RawDataPath: '/data/isshamie/CH_tissue_TSS/BMDM1hKLA1/GRO/'\n",
      "$(cat template_seq.yaml)\" > /data/isshamie/CH_tissue_TSS/BMDM1hKLA1/GRO/BMDM1hKLA1_GRO.yaml\n",
      "echo \"RawDataPath: '/data/isshamie/CH_tissue_TSS/BMDM1hKLA1/ATAC/'\n",
      "$(cat template_seq.yaml)\" > /data/isshamie/CH_tissue_TSS/BMDM1hKLA1/ATAC/BMDM1hKLA1_ATAC.yaml\n",
      "echo \"RawDataPath: '/data/isshamie/CH_tissue_TSS/fastqc/multiqc_data/'\n",
      "$(cat template_seq.yaml)\" > /data/isshamie/CH_tissue_TSS/fastqc/multiqc_data/fastqc_multiqc_data.yaml\n",
      "echo \"RawDataPath: '/data/isshamie/CH_tissue_TSS/BloondnegSpleen/GRO/'\n",
      "$(cat template_seq.yaml)\" > /data/isshamie/CH_tissue_TSS/BloondnegSpleen/GRO/BloondnegSpleen_GRO.yaml\n",
      "echo \"RawDataPath: '/data/isshamie/CH_tissue_TSS/BloondnegSpleen/mSTART/'\n",
      "$(cat template_seq.yaml)\" > /data/isshamie/CH_tissue_TSS/BloondnegSpleen/mSTART/BloondnegSpleen_mSTART.yaml\n",
      "echo \"RawDataPath: '/data/isshamie/CH_tissue_TSS/BloondnegSpleen/ATAC/'\n",
      "$(cat template_seq.yaml)\" > /data/isshamie/CH_tissue_TSS/BloondnegSpleen/ATAC/BloondnegSpleen_ATAC.yaml\n",
      "echo \"RawDataPath: '/data/isshamie/CH_tissue_TSS/Spleen/mSTART/'\n",
      "$(cat template_seq.yaml)\" > /data/isshamie/CH_tissue_TSS/Spleen/mSTART/Spleen_mSTART.yaml\n",
      "echo \"RawDataPath: '/data/isshamie/CH_tissue_TSS/Brain7neg1/mSTART/'\n",
      "$(cat template_seq.yaml)\" > /data/isshamie/CH_tissue_TSS/Brain7neg1/mSTART/Brain7neg1_mSTART.yaml\n",
      "echo \"RawDataPath: '/data/isshamie/CH_tissue_TSS/MiscOrgans/mSTART/'\n",
      "$(cat template_seq.yaml)\" > /data/isshamie/CH_tissue_TSS/MiscOrgans/mSTART/MiscOrgans_mSTART.yaml\n"
     ]
    }
   ],
   "source": [
    "for i in glob.glob(\"/data/isshamie/CH_tissue_TSS/*/\"):\n",
    "    curr_tissue =  i.split('/')[-2]\n",
    "    \n",
    "    curr_raw = glob.glob(i + '*/')\n",
    "    for j in curr_raw:\n",
    "        curr_type = j.split('/')[-2]\n",
    "        prepend = \"RawDataPath: '%s'\" % j\n",
    "        cmd = 'echo \"%s\\n$(cat template_seq.yaml)\" > %s%s_%s.yaml' % (prepend,j,curr_tissue,curr_type)\n",
    "        print cmd\n",
    "        !{cmd}\n",
    "        #cmd = 'ls %s' %"
   ]
  },
  {
   "cell_type": "code",
   "execution_count": null,
   "metadata": {
    "collapsed": true
   },
   "outputs": [],
   "source": [
    "nohup python /home/isshamie/software/NGS-Pipeline/tmp_mSTART.py Pancreas/mSTART/Pancreas_mSTART.yaml > Pancreas/mSTART/log_Pancreas_mSTART.txt"
   ]
  },
  {
   "cell_type": "code",
   "execution_count": 42,
   "metadata": {},
   "outputs": [
    {
     "name": "stdout",
     "output_type": "stream",
     "text": [
      "/data/isshamie/CH_tissue_TSS/Brain/GRO/CHBrain_GRO_JHS1029_SD_CACCGG_S44_L003_R1_001.fastq.gz\n",
      "mv /data/isshamie/CH_tissue_TSS/Brain/GRO/CHBrain_GRO_JHS1029_SD_CACCGG_S44_L003_R1_001.fastq.gz .\n",
      "/data/isshamie/CH_tissue_TSS/Brain/GRO/CHBrain_GRO_JHS1036_SD_ATGTCA_S51_L003_R1_001.fastq.gz\n",
      "mv /data/isshamie/CH_tissue_TSS/Brain/GRO/CHBrain_GRO_JHS1036_SD_ATGTCA_S51_L003_R1_001.fastq.gz .\n",
      "/data/isshamie/CH_tissue_TSS/Brain/mSTART/CHBrain_mSTART_JHS1016_SD_GTAGAG_S28_L002_R1_001.fastq.gz\n",
      "mv /data/isshamie/CH_tissue_TSS/Brain/mSTART/CHBrain_mSTART_JHS1016_SD_GTAGAG_S28_L002_R1_001.fastq.gz .\n",
      "/data/isshamie/CH_tissue_TSS/Brain/mSTART/CHBrain_mSTART_JHS1057_SD_ATTCCT_S79_L004_R1_001.fastq.gz\n",
      "mv /data/isshamie/CH_tissue_TSS/Brain/mSTART/CHBrain_mSTART_JHS1057_SD_ATTCCT_S79_L004_R1_001.fastq.gz .\n",
      "/data/isshamie/CH_tissue_TSS/Brain/mSTART/CHBrainnegmaybe7neg1_mSTARTinput_JHS1082_SD_CACGAT_S104_L005_R1_001.fastq.gz\n",
      "mv /data/isshamie/CH_tissue_TSS/Brain/mSTART/CHBrainnegmaybe7neg1_mSTARTinput_JHS1082_SD_CACGAT_S104_L005_R1_001.fastq.gz .\n",
      "/data/isshamie/CH_tissue_TSS/Brain/mSTART/CHBrain_mSTARTinput_JHS1078_SD_ATTCCT_S100_L005_R1_001.fastq.gz\n",
      "mv /data/isshamie/CH_tissue_TSS/Brain/mSTART/CHBrain_mSTARTinput_JHS1078_SD_ATTCCT_S100_L005_R1_001.fastq.gz .\n",
      "/data/isshamie/CH_tissue_TSS/Brain/ATAC/CHBrain_ATAC_JHS992_SD_ACCACTGT_S4_L001_R1_001.fastq.gz\n",
      "mv /data/isshamie/CH_tissue_TSS/Brain/ATAC/CHBrain_ATAC_JHS992_SD_ACCACTGT_S4_L001_R1_001.fastq.gz .\n",
      "/data/isshamie/CH_tissue_TSS/Heart/mSTART/CHHeart_mSTARTinput_JHS1077_SD_ATGAGC_S99_L005_R1_001.fastq.gz\n",
      "mv /data/isshamie/CH_tissue_TSS/Heart/mSTART/CHHeart_mSTARTinput_JHS1077_SD_ATGAGC_S99_L005_R1_001.fastq.gz .\n",
      "/data/isshamie/CH_tissue_TSS/Heart/mSTART/CHHeart_mSTART_JHS1013_SD_AGTTCC_S25_L002_R1_001.fastq.gz\n",
      "mv /data/isshamie/CH_tissue_TSS/Heart/mSTART/CHHeart_mSTART_JHS1013_SD_AGTTCC_S25_L002_R1_001.fastq.gz .\n",
      "/data/isshamie/CH_tissue_TSS/Heart/mSTART/CHHeart_mSTART_JHS1056_SD_ATGAGC_S78_L004_R1_001.fastq.gz\n",
      "mv /data/isshamie/CH_tissue_TSS/Heart/mSTART/CHHeart_mSTART_JHS1056_SD_ATGAGC_S78_L004_R1_001.fastq.gz .\n",
      "/data/isshamie/CH_tissue_TSS/BMDMwt/ATAC/CHBMDMVehic2_ATAC_JHS999_SD_TGGTCACA_S10_L001_R1_001.fastq.gz\n",
      "mv /data/isshamie/CH_tissue_TSS/BMDMwt/ATAC/CHBMDMVehic2_ATAC_JHS999_SD_TGGTCACA_S10_L001_R1_001.fastq.gz .\n",
      "/data/isshamie/CH_tissue_TSS/BMDMwt/ATAC/CHBMDMVehic1_ATAC_JHS997_SD_GTGTGGTG_S8_L001_R1_001.fastq.gz\n",
      "mv /data/isshamie/CH_tissue_TSS/BMDMwt/ATAC/CHBMDMVehic1_ATAC_JHS997_SD_GTGTGGTG_S8_L001_R1_001.fastq.gz .\n",
      "/data/isshamie/CH_tissue_TSS/FemaleReproductive/mSTART/CHFemaleReproductive_mSTART_JHS1052_SD_CGTACG_S74_L004_R1_001.fastq.gz\n",
      "mv /data/isshamie/CH_tissue_TSS/FemaleReproductive/mSTART/CHFemaleReproductive_mSTART_JHS1052_SD_CGTACG_S74_L004_R1_001.fastq.gz .\n",
      "/data/isshamie/CH_tissue_TSS/FemaleReproductive/mSTART/CHFemaleReproductive_mSTARTinput_JHS1073_SD_CGTACG_S95_L005_R1_001.fastq.gz\n",
      "mv /data/isshamie/CH_tissue_TSS/FemaleReproductive/mSTART/CHFemaleReproductive_mSTARTinput_JHS1073_SD_CGTACG_S95_L005_R1_001.fastq.gz .\n",
      "/data/isshamie/CH_tissue_TSS/FemaleReproductive/mSTART/CHFemaleReproductive_mSTART_JHS1011_SD_TAGCTT_S23_L002_R1_001.fastq.gz\n",
      "mv /data/isshamie/CH_tissue_TSS/FemaleReproductive/mSTART/CHFemaleReproductive_mSTART_JHS1011_SD_TAGCTT_S23_L002_R1_001.fastq.gz .\n",
      "/data/isshamie/CH_tissue_TSS/BMDM1hKLA1/GRO/CHBMDM1hKLA_GRO_JHS1027_SD_CAAAAG_S42_L003_R1_001.fastq.gz\n",
      "mv /data/isshamie/CH_tissue_TSS/BMDM1hKLA1/GRO/CHBMDM1hKLA_GRO_JHS1027_SD_CAAAAG_S42_L003_R1_001.fastq.gz .\n",
      "/data/isshamie/CH_tissue_TSS/BMDM1hKLA1/GRO/CHBMDM1hKLA_GRO_JHS1034_SD_AGTCAA_S49_L003_R1_001.fastq.gz\n",
      "mv /data/isshamie/CH_tissue_TSS/BMDM1hKLA1/GRO/CHBMDM1hKLA_GRO_JHS1034_SD_AGTCAA_S49_L003_R1_001.fastq.gz .\n",
      "/data/isshamie/CH_tissue_TSS/BMDM1hKLA1/ATAC/CHBMDM1hKLA2_ATAC_JHS1000_SD_AGGTTGGG_S11_L001_R1_001.fastq.gz\n",
      "mv /data/isshamie/CH_tissue_TSS/BMDM1hKLA1/ATAC/CHBMDM1hKLA2_ATAC_JHS1000_SD_AGGTTGGG_S11_L001_R1_001.fastq.gz .\n",
      "/data/isshamie/CH_tissue_TSS/BMDM1hKLA1/ATAC/CHBMDM1hKLA1_ATAC_JHS998_SD_TGGGTTTC_S9_L001_R1_001.fastq.gz\n",
      "mv /data/isshamie/CH_tissue_TSS/BMDM1hKLA1/ATAC/CHBMDM1hKLA1_ATAC_JHS998_SD_TGGGTTTC_S9_L001_R1_001.fastq.gz .\n",
      "/data/isshamie/CH_tissue_TSS/Brain7neg1/mSTART/CHBrain7neg1_mSTART_JHS1061_SD_CACGAT_S83_L004_R1_001.fastq.gz\n",
      "mv /data/isshamie/CH_tissue_TSS/Brain7neg1/mSTART/CHBrain7neg1_mSTART_JHS1061_SD_CACGAT_S83_L004_R1_001.fastq.gz .\n"
     ]
    }
   ],
   "source": [
    "for i in glob.glob(\"/data/isshamie/CH_tissue_TSS/*/\"):\n",
    "    curr_tissue =  i.split('/')[-2]\n",
    "    \n",
    "    curr_raw = glob.glob(i + '*/')\n",
    "    for j in curr_raw:\n",
    "        curr_type = j.split('/')[-2]\n",
    "        for f in  glob.glob(j + 'CH*gz'):\n",
    "            print f\n",
    "            cmd = 'mv %s .' % (f)\n",
    "            print cmd\n",
    "            !{cmd}"
   ]
  },
  {
   "cell_type": "code",
   "execution_count": 55,
   "metadata": {},
   "outputs": [
    {
     "name": "stdout",
     "output_type": "stream",
     "text": [
      "mv /data/isshamie/CH_tissue_TSS/Brain/GRO/CHBrain_GRO_JHS1029_SD_CACCGG_S44_L003_R1_001.fastq.gz.lengths .\n",
      "mv /data/isshamie/CH_tissue_TSS/Brain/GRO/CHBrain_GRO_JHS1036_SD_ATGTCA_S51_L003_R1_001.fastq.gz.lengths .\n",
      "mv /data/isshamie/CH_tissue_TSS/Brain/mSTART/CHBrain_mSTART_JHS1057_SD_ATTCCT_S79_L004_R1_001.fastq.gz.lengths .\n",
      "mv /data/isshamie/CH_tissue_TSS/Brain/mSTART/CHBrain_mSTART_JHS1016_SD_GTAGAG_S28_L002_R1_001.fastq.gz.lengths .\n",
      "mv /data/isshamie/CH_tissue_TSS/Brain/mSTART/CHBrain_mSTARTinput_JHS1078_SD_ATTCCT_S100_L005_R1_001.fastq.gz.lengths .\n",
      "mv /data/isshamie/CH_tissue_TSS/Brain/mSTART/CHBrainnegmaybe7neg1_mSTARTinput_JHS1082_SD_CACGAT_S104_L005_R1_001.fastq.gz.lengths .\n",
      "mv /data/isshamie/CH_tissue_TSS/Brain/ATAC/CHBrain_ATAC_JHS992_SD_ACCACTGT_S4_L001_R1_001.fastq.gz.lengths .\n",
      "mv /data/isshamie/CH_tissue_TSS/Heart/mSTART/CHHeart_mSTART_JHS1013_SD_AGTTCC_S25_L002_R1_001.fastq.gz.lengths .\n",
      "mv /data/isshamie/CH_tissue_TSS/Heart/mSTART/CHHeart_mSTART_JHS1056_SD_ATGAGC_S78_L004_R1_001.fastq.gz.lengths .\n",
      "mv /data/isshamie/CH_tissue_TSS/Heart/mSTART/CHHeart_mSTARTinput_JHS1077_SD_ATGAGC_S99_L005_R1_001.fastq.gz.lengths .\n",
      "mv /data/isshamie/CH_tissue_TSS/BMDMwt/ATAC/CHBMDMVehic1_ATAC_JHS997_SD_GTGTGGTG_S8_L001_R1_001.fastq.gz.lengths .\n",
      "mv /data/isshamie/CH_tissue_TSS/BMDMwt/ATAC/CHBMDMVehic2_ATAC_JHS999_SD_TGGTCACA_S10_L001_R1_001.fastq.gz.lengths .\n",
      "mv /data/isshamie/CH_tissue_TSS/FemaleReproductive/mSTART/CHFemaleReproductive_mSTART_JHS1011_SD_TAGCTT_S23_L002_R1_001.fastq.gz.lengths .\n",
      "mv /data/isshamie/CH_tissue_TSS/FemaleReproductive/mSTART/CHFemaleReproductive_mSTART_JHS1052_SD_CGTACG_S74_L004_R1_001.fastq.gz.lengths .\n",
      "mv /data/isshamie/CH_tissue_TSS/FemaleReproductive/mSTART/CHFemaleReproductive_mSTARTinput_JHS1073_SD_CGTACG_S95_L005_R1_001.fastq.gz.lengths .\n",
      "mv /data/isshamie/CH_tissue_TSS/BMDM1hKLA1/GRO/CHBMDM1hKLA_GRO_JHS1034_SD_AGTCAA_S49_L003_R1_001.fastq.gz.lengths .\n",
      "mv /data/isshamie/CH_tissue_TSS/BMDM1hKLA1/GRO/CHBMDM1hKLA_GRO_JHS1027_SD_CAAAAG_S42_L003_R1_001.fastq.gz.lengths .\n",
      "mv /data/isshamie/CH_tissue_TSS/BMDM1hKLA1/ATAC/CHBMDM1hKLA2_ATAC_JHS1000_SD_AGGTTGGG_S11_L001_R1_001.fastq.gz.lengths .\n",
      "mv /data/isshamie/CH_tissue_TSS/BMDM1hKLA1/ATAC/CHBMDM1hKLA1_ATAC_JHS998_SD_TGGGTTTC_S9_L001_R1_001.fastq.gz.lengths .\n",
      "mv /data/isshamie/CH_tissue_TSS/Brain7neg1/mSTART/CHBrain7neg1_mSTART_JHS1061_SD_CACGAT_S83_L004_R1_001.fastq.gz.lengths .\n"
     ]
    }
   ],
   "source": [
    "for i in glob.glob(\"/data/isshamie/CH_tissue_TSS/*/\"):\n",
    "    curr_tissue =  i.split('/')[-2]\n",
    "    \n",
    "    curr_raw = glob.glob(i + '*/')\n",
    "    for j in curr_raw:\n",
    "        curr_type = j.split('/')[-2]\n",
    "        for f in  glob.glob(j + '*.lengths'):\n",
    "            #print f\n",
    "            cmd = 'mv %s .' % (f)\n",
    "            print cmd\n",
    "            !{cmd}"
   ]
  },
  {
   "cell_type": "code",
   "execution_count": null,
   "metadata": {
    "scrolled": false
   },
   "outputs": [
    {
     "name": "stdout",
     "output_type": "stream",
     "text": [
      "nohup python /home/isshamie/software/NGS-Pipeline/tmp_mSTART.py /data/isshamie/CH_tissue_TSS/Brain/GRO/Brain_GRO.yaml > /data/isshamie/CH_tissue_TSS/Brain/GRO/log_Brain_GRO.txt\n",
      "nohup: ignoring input and redirecting stderr to stdout\n",
      "nohup python /home/isshamie/software/NGS-Pipeline/tmp_mSTART.py /data/isshamie/CH_tissue_TSS/Brain/mSTART/Brain_mSTART.yaml > /data/isshamie/CH_tissue_TSS/Brain/mSTART/log_Brain_mSTART.txt\n",
      "nohup: ignoring input and redirecting stderr to stdout\n"
     ]
    }
   ],
   "source": [
    "for i in glob.glob(\"/data/isshamie/CH_tissue_TSS/*/\"):\n",
    "    curr_tissue =  i.split('/')[-2]\n",
    "    \n",
    "    curr_raw = glob.glob(i + '*/')\n",
    "    for j in curr_raw:\n",
    "        curr_type = j.split('/')[-2]\n",
    "        if j == '/data/isshamie/CH_tissue_TSS/Pancreas/mSTART/':\n",
    "            print j\n",
    "        \n",
    "        elif not curr_type == 'ATAC':\n",
    "            for f in  glob.glob(j + '*yaml'):\n",
    "                cmd = \"nohup python /home/isshamie/software/NGS-Pipeline/tmp_mSTART.py %s > %slog_%s_%s.txt\" % (f,j,curr_tissue,curr_type)\n",
    "                print cmd\n",
    "                !{cmd}"
   ]
  },
  {
   "cell_type": "code",
   "execution_count": null,
   "metadata": {
    "scrolled": true
   },
   "outputs": [
    {
     "name": "stdout",
     "output_type": "stream",
     "text": [
      "nohup python /home/isshamie/software/NGS-Pipeline/tmp_GRO.py /data/isshamie/CH_tissue_TSS/Brain/GRO/Brain_GRO.yaml > /data/isshamie/CH_tissue_TSS/Brain/GRO/log2_Brain_GRO.txt\n",
      "nohup: ignoring input and redirecting stderr to stdout\r\n"
     ]
    }
   ],
   "source": [
    "## Finish up the GRO\n",
    "for i in glob.glob(\"/data/isshamie/CH_tissue_TSS/*/\"):\n",
    "    curr_tissue =  i.split('/')[-2]\n",
    "    \n",
    "    curr_raw = glob.glob(i + '*/')\n",
    "    for j in curr_raw:\n",
    "        curr_type = j.split('/')[-2]\n",
    "        if curr_type == 'GRO':\n",
    "            for f in  glob.glob(j + '*yaml'):\n",
    "                cmd = \"nohup python /home/isshamie/software/NGS-Pipeline/tmp_GRO.py %s > %slog2_%s_%s.txt\" % (f,j,curr_tissue,curr_type)\n",
    "                print cmd\n",
    "                !{cmd}"
   ]
  },
  {
   "cell_type": "code",
   "execution_count": null,
   "metadata": {
    "collapsed": true
   },
   "outputs": [],
   "source": []
  },
  {
   "cell_type": "markdown",
   "metadata": {},
   "source": [
    "## Multiqc separate experiment type"
   ]
  },
  {
   "cell_type": "code",
   "execution_count": 2,
   "metadata": {
    "collapsed": true
   },
   "outputs": [],
   "source": [
    "import glob"
   ]
  },
  {
   "cell_type": "code",
   "execution_count": 3,
   "metadata": {
    "scrolled": true
   },
   "outputs": [
    {
     "name": "stdout",
     "output_type": "stream",
     "text": [
      "['/data/isshamie/CH_tissue_TSS/Brain/mSTART/f02_bam/trim_CHBrain_mSTART_JHS1057_SD_ATTCCT_S79_L004_R1_001.bamLog.final.out', '/data/isshamie/CH_tissue_TSS/Brain/mSTART/f02_bam/trim_CHBrain_mSTART_JHS1016_SD_GTAGAG_S28_L002_R1_001.bamLog.final.out', '/data/isshamie/CH_tissue_TSS/CHO/mSTART/f02_bam/trim_CHO--mSTART-JHS823_S21_R1_001.bamLog.final.out', '/data/isshamie/CH_tissue_TSS/Heart/mSTART/f02_bam/trim_CHHeart_mSTART_JHS1056_SD_ATGAGC_S78_L004_R1_001.bamLog.final.out', '/data/isshamie/CH_tissue_TSS/Heart/mSTART/f02_bam/trim_CHHeart_mSTART_JHS1013_SD_AGTTCC_S25_L002_R1_001.bamLog.final.out', '/data/isshamie/CH_tissue_TSS/Intestine/mSTART/f02_bam/trim_CHIntestine_mSTART_JHS1012_SD_AGTCAA_S24_L002_R1_001.bamLog.final.out', '/data/isshamie/CH_tissue_TSS/Kidney/mSTART/f02_bam/trim_CHKidney_mSTART_JHS1022_SD_GAGTGG_S34_L002_R1_001.bamLog.final.out', '/data/isshamie/CH_tissue_TSS/Kidney/mSTART/f02_bam/trim_CHKidney_mSTART_JHS1059_SD_CAACTA_S81_L004_R1_001.bamLog.final.out', '/data/isshamie/CH_tissue_TSS/Muscle/mSTART/f02_bam/trim_CHMuscle_mSTART_JHS1019_SD_GTGGCC_S31_L002_R1_001.bamLog.final.out', '/data/isshamie/CH_tissue_TSS/Muscle/mSTART/f02_bam/trim_CHMuscle_mSTART_JHS1058_SD_CAAAAG_S80_L004_R1_001.bamLog.final.out', '/data/isshamie/CH_tissue_TSS/Lung/mSTART/f02_bam/trim_CHLung_mSTART_JHS1020_SD_GTTTCG_S32_L002_R1_001.bamLog.final.out', '/data/isshamie/CH_tissue_TSS/Lung/mSTART/f02_bam/trim_CHLung_mSTART_JHS1054_SD_GGTAGC_S76_L004_R1_001.bamLog.final.out', '/data/isshamie/CH_tissue_TSS/Skin/mSTART/f02_bam/trim_CHSkin_mSTART_JHS1021_SD_CGTACG_S33_L002_R1_001.bamLog.final.out', '/data/isshamie/CH_tissue_TSS/Total/mSTART/f02_bam/trim_CHTotal_mSTART_JHS1023_SD_GGTAGC_S35_L002_R1_001.bamLog.final.out', '/data/isshamie/CH_tissue_TSS/Liver/mSTART/f02_bam/trim_CHLiver_mSTART_JHS1055_SD_ACTGAT_S77_L004_R1_001.bamLog.final.out', '/data/isshamie/CH_tissue_TSS/Liver/mSTART/f02_bam/trim_CHLiver_mSTART_JHS1015_SD_CCGTCC_S27_L002_R1_001.bamLog.final.out', '/data/isshamie/CH_tissue_TSS/FemaleReproductive/mSTART/f02_bam/trim_CHFemaleReproductive_mSTART_JHS1052_SD_CGTACG_S74_L004_R1_001.bamLog.final.out', '/data/isshamie/CH_tissue_TSS/FemaleReproductive/mSTART/f02_bam/trim_CHFemaleReproductive_mSTART_JHS1011_SD_TAGCTT_S23_L002_R1_001.bamLog.final.out', '/data/isshamie/CH_tissue_TSS/Pancreas/mSTART/f02_bam/trim_CHPancreas_mSTART_JHS1051_SD_GTTTCG_S73_L004_R1_001.bamLog.final.out', '/data/isshamie/CH_tissue_TSS/Pancreas/mSTART/f02_bam/trim_CHPancreas_mSTART_JHS1014_SD_ATGTCA_S26_L002_R1_001.bamLog.final.out', '/data/isshamie/CH_tissue_TSS/BloondnegSpleen/mSTART/f02_bam/trim_CHSpleednegBlood_mSTART_JHS1017_SD_GTCCGC_S29_L002_R1_001.bamLog.final.out', '/data/isshamie/CH_tissue_TSS/Spleen/mSTART/f02_bam/trim_CHSpleen_mSTART_JHS1053_SD_GAGTGG_S75_L004_R1_001.bamLog.final.out', '/data/isshamie/CH_tissue_TSS/Brain7neg1/mSTART/f02_bam/trim_CHBrain7neg1_mSTART_JHS1061_SD_CACGAT_S83_L004_R1_001.bamLog.final.out', '/data/isshamie/CH_tissue_TSS/MiscOrgans/mSTART/f02_bam/trim_CHMiscOrgans_mSTART_JHS1018_SD_GTGAAA_S30_L002_R1_001.bamLog.final.out', '/data/isshamie/CH_tissue_TSS/MiscOrgans/mSTART/f02_bam/trim_CHMiscOrgans_mSTART_JHS1060_SD_CACCGG_S82_L004_R1_001.bamLog.final.out']\n"
     ]
    }
   ],
   "source": [
    "## Finish up the GRO\n",
    "types = ['5GRO','GRO','mSTART']\n",
    "\n",
    "gro = []\n",
    "gro5 = []\n",
    "mstart = []\n",
    "mstart_input = []\n",
    "\n",
    "\n",
    "for i in glob.glob(\"/data/isshamie/CH_tissue_TSS/*/\"):\n",
    "    curr_tissue =  i.split('/')[-2]\n",
    "    curr_raw = glob.glob(i + '*/')\n",
    "    for j in curr_raw:\n",
    "        curr_type = j.split('/')[-2]\n",
    "        #if curr_type == 'GRO':\n",
    "        for f in glob.glob(j + 'f02_bam/*bamLog.final.out'):\n",
    "                if '5GRO' in f:\n",
    "                    gro5.append(f)\n",
    "                elif 'GRO' in f:\n",
    "                    gro.append(f)\n",
    "                elif 'input' in f:\n",
    "                    mstart_input.append(f)\n",
    "                elif 'mSTART' in f:\n",
    "                    mstart.append(f)\n",
    "\n",
    "print mstart"
   ]
  },
  {
   "cell_type": "code",
   "execution_count": 7,
   "metadata": {},
   "outputs": [
    {
     "name": "stdout",
     "output_type": "stream",
     "text": [
      "blast_unmapped_duplicate.txt  homer_trim.ipynb  \u001b[0m\u001b[01;34mResults\u001b[0m/\r\n",
      "\u001b[01;34mBloondnegSpleen\u001b[0m/              \u001b[01;34mIntestine\u001b[0m/        \u001b[01;34mseparate_multiqc\u001b[0m/\r\n",
      "\u001b[01;34mBMDM1hKLA1\u001b[0m/                   \u001b[01;34mKidney\u001b[0m/           \u001b[01;34mSkin\u001b[0m/\r\n",
      "\u001b[01;34mBMDMwt\u001b[0m/                       \u001b[01;31mLewis.tar\u001b[0m         \u001b[01;34mSpleen\u001b[0m/\r\n",
      "\u001b[01;34mBrain\u001b[0m/                        \u001b[01;34mLiver\u001b[0m/            template_seq.yaml\r\n",
      "\u001b[01;34mBrain7neg1\u001b[0m/                   log_trim.txt      \u001b[01;34mTotal\u001b[0m/\r\n",
      "\u001b[01;34mCHO\u001b[0m/                          \u001b[01;34mLung\u001b[0m/             \u001b[01;34mtrim_lengths\u001b[0m/\r\n",
      "\u001b[01;34mfastqc\u001b[0m/                       \u001b[01;34mMiscOrgans\u001b[0m/       unmapped_duplicate.fa\r\n",
      "\u001b[01;34mFemaleReproductive\u001b[0m/           \u001b[01;34mmultiqc_results\u001b[0m/  updated_picr_info.ipynb\r\n",
      "hamster_TSS_compare.ipynb     \u001b[01;34mMuscle\u001b[0m/\r\n",
      "\u001b[01;34mHeart\u001b[0m/                        \u001b[01;34mPancreas\u001b[0m/\r\n"
     ]
    }
   ],
   "source": [
    "ls"
   ]
  },
  {
   "cell_type": "code",
   "execution_count": 9,
   "metadata": {
    "collapsed": true
   },
   "outputs": [],
   "source": [
    "import sarge"
   ]
  },
  {
   "cell_type": "code",
   "execution_count": 10,
   "metadata": {},
   "outputs": [
    {
     "name": "stdout",
     "output_type": "stream",
     "text": [
      "multiqc /data/isshamie/CH_tissue_TSS/Brain/GRO/f02_bam/trim_CHBrain_GRO_JHS1029_SD_CACCGG_S44_L003_R1_001.bamLog.final.out /data/isshamie/CH_tissue_TSS/CHO/GRO/f02_bam/trim_CHO-GRO-SD370_S9_R1_001.bamLog.final.out /data/isshamie/CH_tissue_TSS/CHO/GRO/f02_bam/trim_CHO-GRO-SD369_S8_R1_001.bamLog.final.out /data/isshamie/CH_tissue_TSS/Kidney/GRO/f02_bam/trim_CHKidney_GRO_JHS1028_SD_CAACTA_S43_L003_R1_001.bamLog.final.out /data/isshamie/CH_tissue_TSS/Lung/GRO/f02_bam/trim_CHLung_GRO_JHS1030_SD_CACGAT_S45_L003_R1_001.bamLog.final.out /data/isshamie/CH_tissue_TSS/Liver/GRO/f02_bam/trim_CHLiver_GRO_JHS1031_SD_TAATCG_S46_L003_R1_001.bamLog.final.out /data/isshamie/CH_tissue_TSS/BMDMwt/GRO/f02_bam/trim_CHBMDMwt_GRO_JHS1026_SD_ATTCCT_S41_L003_R1_001.bamLog.final.out /data/isshamie/CH_tissue_TSS/BMDM1hKLA1/GRO/f02_bam/trim_CHBMDM1hKLA_GRO_JHS1027_SD_CAAAAG_S42_L003_R1_001.bamLog.final.out /data/isshamie/CH_tissue_TSS/BloondnegSpleen/GRO/f02_bam/trim_CHBloondnegSpleen_GRO_JHS1032_SD_TCCCGA_S47_L003_R1_001.bamLog.final.out -o separate_multiqc/gro\n"
     ]
    },
    {
     "data": {
      "text/plain": [
       "<sarge.Pipeline at 0x7f7d9848b290>"
      ]
     },
     "execution_count": 10,
     "metadata": {},
     "output_type": "execute_result"
    }
   ],
   "source": [
    "cmd = 'multiqc %s -o separate_multiqc/gro' % ' '.join(gro)\n",
    "print cmd\n",
    "sarge.run(cmd)"
   ]
  },
  {
   "cell_type": "code",
   "execution_count": 11,
   "metadata": {
    "scrolled": true
   },
   "outputs": [
    {
     "name": "stdout",
     "output_type": "stream",
     "text": [
      "multiqc /data/isshamie/CH_tissue_TSS/Brain/GRO/f02_bam/trim_CHBrain_5GRO_JHS1036_SD_ATGTCA_S51_L003_R1_001.bamLog.final.out /data/isshamie/CH_tissue_TSS/CHO/GRO/f02_bam/trim_CHO-5GRO-SD367_S6_R1_001.bamLog.final.out /data/isshamie/CH_tissue_TSS/CHO/GRO/f02_bam/trim_CHO-5GRO-SD371_S10_R1_001.bamLog.final.out /data/isshamie/CH_tissue_TSS/Kidney/GRO/f02_bam/trim_CHKidney_5GRO_JHS1035_SD_AGTTCC_S50_L003_R1_001.bamLog.final.out /data/isshamie/CH_tissue_TSS/Lung/GRO/f02_bam/trim_CHLung_5GRO_JHS1037_SD_CCGTCC_S52_L003_R1_001.bamLog.final.out /data/isshamie/CH_tissue_TSS/Liver/GRO/f02_bam/trim_CHLiver_5GRO_JHS1038_SD_GTAGAG_S53_L003_R1_001.bamLog.final.out /data/isshamie/CH_tissue_TSS/BMDMwt/GRO/f02_bam/trim_CHBMDMwt_5GRO_JHS1033_SD_TAGCTT_S48_L003_R1_001.bamLog.final.out /data/isshamie/CH_tissue_TSS/BMDM1hKLA1/GRO/f02_bam/trim_CHBMDM1hKLA_5GRO_JHS1034_SD_AGTCAA_S49_L003_R1_001.bamLog.final.out /data/isshamie/CH_tissue_TSS/BloondnegSpleen/GRO/f02_bam/trim_CHBloondnegSpleen_5GRO_JHS1039_SD_GTCCGC_S54_L003_R1_001.bamLog.final.out -o separate_multiqc/gro5\n"
     ]
    },
    {
     "data": {
      "text/plain": [
       "<sarge.Pipeline at 0x7f7d9848bbd0>"
      ]
     },
     "execution_count": 11,
     "metadata": {},
     "output_type": "execute_result"
    }
   ],
   "source": [
    "cmd = 'multiqc %s -o separate_multiqc/gro5' % ' '.join(gro5)\n",
    "print cmd\n",
    "sarge.run(cmd)"
   ]
  },
  {
   "cell_type": "code",
   "execution_count": 12,
   "metadata": {},
   "outputs": [
    {
     "name": "stdout",
     "output_type": "stream",
     "text": [
      "multiqc /data/isshamie/CH_tissue_TSS/Brain/mSTART/f02_bam/trim_CHBrain_mSTART_JHS1057_SD_ATTCCT_S79_L004_R1_001.bamLog.final.out /data/isshamie/CH_tissue_TSS/Brain/mSTART/f02_bam/trim_CHBrain_mSTART_JHS1016_SD_GTAGAG_S28_L002_R1_001.bamLog.final.out /data/isshamie/CH_tissue_TSS/CHO/mSTART/f02_bam/trim_CHO--mSTART-JHS823_S21_R1_001.bamLog.final.out /data/isshamie/CH_tissue_TSS/Heart/mSTART/f02_bam/trim_CHHeart_mSTART_JHS1056_SD_ATGAGC_S78_L004_R1_001.bamLog.final.out /data/isshamie/CH_tissue_TSS/Heart/mSTART/f02_bam/trim_CHHeart_mSTART_JHS1013_SD_AGTTCC_S25_L002_R1_001.bamLog.final.out /data/isshamie/CH_tissue_TSS/Intestine/mSTART/f02_bam/trim_CHIntestine_mSTART_JHS1012_SD_AGTCAA_S24_L002_R1_001.bamLog.final.out /data/isshamie/CH_tissue_TSS/Kidney/mSTART/f02_bam/trim_CHKidney_mSTART_JHS1022_SD_GAGTGG_S34_L002_R1_001.bamLog.final.out /data/isshamie/CH_tissue_TSS/Kidney/mSTART/f02_bam/trim_CHKidney_mSTART_JHS1059_SD_CAACTA_S81_L004_R1_001.bamLog.final.out /data/isshamie/CH_tissue_TSS/Muscle/mSTART/f02_bam/trim_CHMuscle_mSTART_JHS1019_SD_GTGGCC_S31_L002_R1_001.bamLog.final.out /data/isshamie/CH_tissue_TSS/Muscle/mSTART/f02_bam/trim_CHMuscle_mSTART_JHS1058_SD_CAAAAG_S80_L004_R1_001.bamLog.final.out /data/isshamie/CH_tissue_TSS/Lung/mSTART/f02_bam/trim_CHLung_mSTART_JHS1020_SD_GTTTCG_S32_L002_R1_001.bamLog.final.out /data/isshamie/CH_tissue_TSS/Lung/mSTART/f02_bam/trim_CHLung_mSTART_JHS1054_SD_GGTAGC_S76_L004_R1_001.bamLog.final.out /data/isshamie/CH_tissue_TSS/Skin/mSTART/f02_bam/trim_CHSkin_mSTART_JHS1021_SD_CGTACG_S33_L002_R1_001.bamLog.final.out /data/isshamie/CH_tissue_TSS/Total/mSTART/f02_bam/trim_CHTotal_mSTART_JHS1023_SD_GGTAGC_S35_L002_R1_001.bamLog.final.out /data/isshamie/CH_tissue_TSS/Liver/mSTART/f02_bam/trim_CHLiver_mSTART_JHS1055_SD_ACTGAT_S77_L004_R1_001.bamLog.final.out /data/isshamie/CH_tissue_TSS/Liver/mSTART/f02_bam/trim_CHLiver_mSTART_JHS1015_SD_CCGTCC_S27_L002_R1_001.bamLog.final.out /data/isshamie/CH_tissue_TSS/FemaleReproductive/mSTART/f02_bam/trim_CHFemaleReproductive_mSTART_JHS1052_SD_CGTACG_S74_L004_R1_001.bamLog.final.out /data/isshamie/CH_tissue_TSS/FemaleReproductive/mSTART/f02_bam/trim_CHFemaleReproductive_mSTART_JHS1011_SD_TAGCTT_S23_L002_R1_001.bamLog.final.out /data/isshamie/CH_tissue_TSS/Pancreas/mSTART/f02_bam/trim_CHPancreas_mSTART_JHS1051_SD_GTTTCG_S73_L004_R1_001.bamLog.final.out /data/isshamie/CH_tissue_TSS/Pancreas/mSTART/f02_bam/trim_CHPancreas_mSTART_JHS1014_SD_ATGTCA_S26_L002_R1_001.bamLog.final.out /data/isshamie/CH_tissue_TSS/BloondnegSpleen/mSTART/f02_bam/trim_CHSpleednegBlood_mSTART_JHS1017_SD_GTCCGC_S29_L002_R1_001.bamLog.final.out /data/isshamie/CH_tissue_TSS/Spleen/mSTART/f02_bam/trim_CHSpleen_mSTART_JHS1053_SD_GAGTGG_S75_L004_R1_001.bamLog.final.out /data/isshamie/CH_tissue_TSS/Brain7neg1/mSTART/f02_bam/trim_CHBrain7neg1_mSTART_JHS1061_SD_CACGAT_S83_L004_R1_001.bamLog.final.out /data/isshamie/CH_tissue_TSS/MiscOrgans/mSTART/f02_bam/trim_CHMiscOrgans_mSTART_JHS1018_SD_GTGAAA_S30_L002_R1_001.bamLog.final.out /data/isshamie/CH_tissue_TSS/MiscOrgans/mSTART/f02_bam/trim_CHMiscOrgans_mSTART_JHS1060_SD_CACCGG_S82_L004_R1_001.bamLog.final.out -o separate_multiqc/mstart\n"
     ]
    },
    {
     "data": {
      "text/plain": [
       "<sarge.Pipeline at 0x7f7d9848be50>"
      ]
     },
     "execution_count": 12,
     "metadata": {},
     "output_type": "execute_result"
    }
   ],
   "source": [
    "cmd = 'multiqc %s -o separate_multiqc/mstart' % ' '.join(mstart)\n",
    "print cmd\n",
    "sarge.run(cmd)"
   ]
  },
  {
   "cell_type": "code",
   "execution_count": 13,
   "metadata": {
    "scrolled": true
   },
   "outputs": [
    {
     "name": "stdout",
     "output_type": "stream",
     "text": [
      "multiqc /data/isshamie/CH_tissue_TSS/Brain/mSTART/f02_bam/trim_CHBrainnegmaybe7neg1_mSTARTinput_JHS1082_SD_CACGAT_S104_L005_R1_001.bamLog.final.out /data/isshamie/CH_tissue_TSS/Brain/mSTART/f02_bam/trim_CHBrain_mSTARTinput_JHS1078_SD_ATTCCT_S100_L005_R1_001.bamLog.final.out /data/isshamie/CH_tissue_TSS/CHO/mSTART/f02_bam/trim_CHO--mSTART_input-JHS802_S11_R1_001.bamLog.final.out /data/isshamie/CH_tissue_TSS/Heart/mSTART/f02_bam/trim_CHHeart_mSTARTinput_JHS1077_SD_ATGAGC_S99_L005_R1_001.bamLog.final.out /data/isshamie/CH_tissue_TSS/Kidney/mSTART/f02_bam/trim_CHKidney_mSTARTinput_JHS1080_SD_CAACTA_S102_L005_R1_001.bamLog.final.out /data/isshamie/CH_tissue_TSS/Muscle/mSTART/f02_bam/trim_CHMuscle_mSTARTinput_JHS1079_SD_CAAAAG_S101_L005_R1_001.bamLog.final.out /data/isshamie/CH_tissue_TSS/Lung/mSTART/f02_bam/trim_CHLung_mSTARTinput_JHS1075_SD_GGTAGC_S97_L005_R1_001.bamLog.final.out /data/isshamie/CH_tissue_TSS/Liver/mSTART/f02_bam/trim_CHLiver_mSTARTinput_JHS1076_SD_ACTGAT_S98_L005_R1_001.bamLog.final.out /data/isshamie/CH_tissue_TSS/FemaleReproductive/mSTART/f02_bam/trim_CHFemaleReproductive_mSTARTinput_JHS1073_SD_CGTACG_S95_L005_R1_001.bamLog.final.out /data/isshamie/CH_tissue_TSS/Pancreas/mSTART/f02_bam/trim_CHPancreas_mSTARTinput_JHS1072_SD_GTTTCG_S94_L005_R1_001.bamLog.final.out /data/isshamie/CH_tissue_TSS/Spleen/mSTART/f02_bam/trim_CHSpleen_mSTARTinput_JHS1074_SD_GAGTGG_S96_L005_R1_001.bamLog.final.out /data/isshamie/CH_tissue_TSS/MiscOrgans/mSTART/f02_bam/trim_CHMiscOrgans_mSTARTinput_JHS1081_SD_CACCGG_S103_L005_R1_001.bamLog.final.out -o separate_multiqc/mstart_input\n"
     ]
    },
    {
     "data": {
      "text/plain": [
       "<sarge.Pipeline at 0x7f7d984a3150>"
      ]
     },
     "execution_count": 13,
     "metadata": {},
     "output_type": "execute_result"
    }
   ],
   "source": [
    "cmd = 'multiqc %s -o separate_multiqc/mstart_input' % ' '.join(mstart_input)\n",
    "print cmd\n",
    "sarge.run(cmd)"
   ]
  }
 ],
 "metadata": {
  "kernelspec": {
   "display_name": "Python 2",
   "language": "python",
   "name": "python2"
  },
  "language_info": {
   "codemirror_mode": {
    "name": "ipython",
    "version": 2
   },
   "file_extension": ".py",
   "mimetype": "text/x-python",
   "name": "python",
   "nbconvert_exporter": "python",
   "pygments_lexer": "ipython2",
   "version": "2.7.13"
  }
 },
 "nbformat": 4,
 "nbformat_minor": 2
}
